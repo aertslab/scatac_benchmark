{
 "cells": [
  {
   "cell_type": "code",
   "execution_count": 1,
   "id": "cce53ff3",
   "metadata": {},
   "outputs": [
    {
     "name": "stdout",
     "output_type": "stream",
     "text": [
      "total 64\n",
      "lrwxrwxrwx 1 vsc33042 vsc33042 208 Nov 25 18:33 \u001b[0m\u001b[01;36mBroad_1__libDS_gene_activity.loom\u001b[0m -> /lustre1/project/stg_00002/lcb/cflerin/analysis/pbmc_atac/analysis2/data_freeze_Jun2021_library_downsampled/atac_qc_multiplet_merged/jupyter/downstream_analysis/gene_act_loom/Broad_1__libDS_gene_activity.loom\n",
      "lrwxrwxrwx 1 vsc33042 vsc33042 208 Nov 25 18:33 \u001b[01;36mBroad_2__libDS_gene_activity.loom\u001b[0m -> /lustre1/project/stg_00002/lcb/cflerin/analysis/pbmc_atac/analysis2/data_freeze_Jun2021_library_downsampled/atac_qc_multiplet_merged/jupyter/downstream_analysis/gene_act_loom/Broad_2__libDS_gene_activity.loom\n",
      "lrwxrwxrwx 1 vsc33042 vsc33042 207 Nov 25 18:33 \u001b[01;36mCNAG_1__libDS_gene_activity.loom\u001b[0m -> /lustre1/project/stg_00002/lcb/cflerin/analysis/pbmc_atac/analysis2/data_freeze_Jun2021_library_downsampled/atac_qc_multiplet_merged/jupyter/downstream_analysis/gene_act_loom/CNAG_1__libDS_gene_activity.loom\n",
      "lrwxrwxrwx 1 vsc33042 vsc33042 207 Nov 25 18:33 \u001b[01;36mCNAG_2__libDS_gene_activity.loom\u001b[0m -> /lustre1/project/stg_00002/lcb/cflerin/analysis/pbmc_atac/analysis2/data_freeze_Jun2021_library_downsampled/atac_qc_multiplet_merged/jupyter/downstream_analysis/gene_act_loom/CNAG_2__libDS_gene_activity.loom\n",
      "lrwxrwxrwx 1 vsc33042 vsc33042 210 Nov 25 18:33 \u001b[01;36mHarvard_1__libDS_gene_activity.loom\u001b[0m -> /lustre1/project/stg_00002/lcb/cflerin/analysis/pbmc_atac/analysis2/data_freeze_Jun2021_library_downsampled/atac_qc_multiplet_merged/jupyter/downstream_analysis/gene_act_loom/Harvard_1__libDS_gene_activity.loom\n",
      "lrwxrwxrwx 1 vsc33042 vsc33042 210 Nov 25 18:33 \u001b[01;36mHarvard_2__libDS_gene_activity.loom\u001b[0m -> /lustre1/project/stg_00002/lcb/cflerin/analysis/pbmc_atac/analysis2/data_freeze_Jun2021_library_downsampled/atac_qc_multiplet_merged/jupyter/downstream_analysis/gene_act_loom/Harvard_2__libDS_gene_activity.loom\n",
      "lrwxrwxrwx 1 vsc33042 vsc33042 205 Nov 25 18:33 \u001b[01;36mOHSU__libDS_gene_activity.loom\u001b[0m -> /lustre1/project/stg_00002/lcb/cflerin/analysis/pbmc_atac/analysis2/data_freeze_Jun2021_library_downsampled/atac_qc_multiplet_merged/jupyter/downstream_analysis/gene_act_loom/OHSU__libDS_gene_activity.loom\n",
      "lrwxrwxrwx 1 vsc33042 vsc33042 209 Nov 25 18:33 \u001b[01;36mSanger_1__libDS_gene_activity.loom\u001b[0m -> /lustre1/project/stg_00002/lcb/cflerin/analysis/pbmc_atac/analysis2/data_freeze_Jun2021_library_downsampled/atac_qc_multiplet_merged/jupyter/downstream_analysis/gene_act_loom/Sanger_1__libDS_gene_activity.loom\n",
      "lrwxrwxrwx 1 vsc33042 vsc33042 209 Nov 25 18:33 \u001b[01;36mSanger_2__libDS_gene_activity.loom\u001b[0m -> /lustre1/project/stg_00002/lcb/cflerin/analysis/pbmc_atac/analysis2/data_freeze_Jun2021_library_downsampled/atac_qc_multiplet_merged/jupyter/downstream_analysis/gene_act_loom/Sanger_2__libDS_gene_activity.loom\n",
      "lrwxrwxrwx 1 vsc33042 vsc33042 211 Nov 25 18:33 \u001b[01;36mStanford_1__libDS_gene_activity.loom\u001b[0m -> /lustre1/project/stg_00002/lcb/cflerin/analysis/pbmc_atac/analysis2/data_freeze_Jun2021_library_downsampled/atac_qc_multiplet_merged/jupyter/downstream_analysis/gene_act_loom/Stanford_1__libDS_gene_activity.loom\n",
      "lrwxrwxrwx 1 vsc33042 vsc33042 211 Nov 25 18:33 \u001b[01;36mStanford_2__libDS_gene_activity.loom\u001b[0m -> /lustre1/project/stg_00002/lcb/cflerin/analysis/pbmc_atac/analysis2/data_freeze_Jun2021_library_downsampled/atac_qc_multiplet_merged/jupyter/downstream_analysis/gene_act_loom/Stanford_2__libDS_gene_activity.loom\n",
      "lrwxrwxrwx 1 vsc33042 vsc33042 206 Nov 25 18:33 \u001b[01;36mVIB_1__libDS_gene_activity.loom\u001b[0m -> /lustre1/project/stg_00002/lcb/cflerin/analysis/pbmc_atac/analysis2/data_freeze_Jun2021_library_downsampled/atac_qc_multiplet_merged/jupyter/downstream_analysis/gene_act_loom/VIB_1__libDS_gene_activity.loom\n",
      "lrwxrwxrwx 1 vsc33042 vsc33042 206 Nov 25 18:33 \u001b[01;36mVIB_2__libDS_gene_activity.loom\u001b[0m -> /lustre1/project/stg_00002/lcb/cflerin/analysis/pbmc_atac/analysis2/data_freeze_Jun2021_library_downsampled/atac_qc_multiplet_merged/jupyter/downstream_analysis/gene_act_loom/VIB_2__libDS_gene_activity.loom\n",
      "lrwxrwxrwx 1 vsc33042 vsc33042 147 Nov 26 17:51 \u001b[01;36mVIB_Hydrop_1__libDS_gene_activity.loom\u001b[0m -> /user/leuven/330/vsc33042/fderop/data/20211013_hca_benchmark_libds_singles/downstream_analysis/gene_act_loom/VIB_Hydrop_1__libDS_gene_activity.loom\n",
      "lrwxrwxrwx 1 vsc33042 vsc33042 147 Nov 26 17:51 \u001b[01;36mVIB_Hydrop_2__libDS_gene_activity.loom\u001b[0m -> /user/leuven/330/vsc33042/fderop/data/20211013_hca_benchmark_libds_singles/downstream_analysis/gene_act_loom/VIB_Hydrop_2__libDS_gene_activity.loom\n",
      "lrwxrwxrwx 1 vsc33042 vsc33042 140 Nov 26 12:48 \u001b[01;36mmerged__libDS_gene_activity.loom\u001b[0m -> /user/leuven/330/vsc33042/fderop/data/20211024_hca_benchmark_libds_merged/downstream_analysis/gene_act_loom/Merged__libDS_gene_activity.loom\n"
     ]
    }
   ],
   "source": [
    "ls -l looms_gene_act_old"
   ]
  },
  {
   "cell_type": "markdown",
   "id": "a890c285",
   "metadata": {},
   "source": [
    "rename all the files with the correct alias"
   ]
  },
  {
   "cell_type": "markdown",
   "id": "f6811951",
   "metadata": {},
   "source": [
    "    \"Harvard_1\": \"BioRad ATAC 1\",\n",
    "    \"Harvard_2\": \"BioRad ATAC 2\",\n",
    "    \"Stanford_1\": \"10x ATAC A1\",\n",
    "    \"Stanford_2\": \"10x ATAC A2\",\n",
    "    \"VIB_1\": \"10x ATAC B1\",\n",
    "    \"VIB_2\": \"10x ATAC B2\",\n",
    "    \"CNAG_1\": \"10x ATAC C1\",\n",
    "    \"CNAG_2\": \"10x ATAC C2\",\n",
    "    \"Broad_1\": \"10x mtATAC 1\",\n",
    "    \"Broad_2\": \"10x mtATAC 2\",\n",
    "    \"Sanger_1\": \"10x Multiome 1\",\n",
    "    \"Sanger_2\": \"10x Multiome 2\",\n",
    "    \"VIB_Hydrop_1\": \"Hydrop ATAC 1\",\n",
    "    \"VIB_Hydrop_2\": \"Hydrop ATAC 2\",\n",
    "    \"OHSU\": \"s3 ATAC\",\n",
    "    \"merged\": \"Merged\""
   ]
  },
  {
   "cell_type": "code",
   "execution_count": 3,
   "id": "610a324c",
   "metadata": {},
   "outputs": [
    {
     "name": "stdout",
     "output_type": "stream",
     "text": [
      "total 64\n",
      "lrwxrwxrwx 1 vsc33042 vsc33042 211 Nov 25 18:33 \u001b[0m\u001b[01;36m10x_ATAC_A1__libDS_gene_activity.loom\u001b[0m -> /lustre1/project/stg_00002/lcb/cflerin/analysis/pbmc_atac/analysis2/data_freeze_Jun2021_library_downsampled/atac_qc_multiplet_merged/jupyter/downstream_analysis/gene_act_loom/Stanford_1__libDS_gene_activity.loom\n",
      "lrwxrwxrwx 1 vsc33042 vsc33042 211 Nov 25 18:33 \u001b[01;36m10x_ATAC_A2__libDS_gene_activity.loom\u001b[0m -> /lustre1/project/stg_00002/lcb/cflerin/analysis/pbmc_atac/analysis2/data_freeze_Jun2021_library_downsampled/atac_qc_multiplet_merged/jupyter/downstream_analysis/gene_act_loom/Stanford_2__libDS_gene_activity.loom\n",
      "lrwxrwxrwx 1 vsc33042 vsc33042 206 Nov 25 18:33 \u001b[01;36m10x_ATAC_B1__libDS_gene_activity.loom\u001b[0m -> /lustre1/project/stg_00002/lcb/cflerin/analysis/pbmc_atac/analysis2/data_freeze_Jun2021_library_downsampled/atac_qc_multiplet_merged/jupyter/downstream_analysis/gene_act_loom/VIB_1__libDS_gene_activity.loom\n",
      "lrwxrwxrwx 1 vsc33042 vsc33042 206 Nov 25 18:33 \u001b[01;36m10x_ATAC_B2__libDS_gene_activity.loom\u001b[0m -> /lustre1/project/stg_00002/lcb/cflerin/analysis/pbmc_atac/analysis2/data_freeze_Jun2021_library_downsampled/atac_qc_multiplet_merged/jupyter/downstream_analysis/gene_act_loom/VIB_2__libDS_gene_activity.loom\n",
      "lrwxrwxrwx 1 vsc33042 vsc33042 207 Nov 25 18:33 \u001b[01;36m10x_ATAC_C1__libDS_gene_activity.loom\u001b[0m -> /lustre1/project/stg_00002/lcb/cflerin/analysis/pbmc_atac/analysis2/data_freeze_Jun2021_library_downsampled/atac_qc_multiplet_merged/jupyter/downstream_analysis/gene_act_loom/CNAG_1__libDS_gene_activity.loom\n",
      "lrwxrwxrwx 1 vsc33042 vsc33042 207 Nov 25 18:33 \u001b[01;36m10x_ATAC_C2__libDS_gene_activity.loom\u001b[0m -> /lustre1/project/stg_00002/lcb/cflerin/analysis/pbmc_atac/analysis2/data_freeze_Jun2021_library_downsampled/atac_qc_multiplet_merged/jupyter/downstream_analysis/gene_act_loom/CNAG_2__libDS_gene_activity.loom\n",
      "lrwxrwxrwx 1 vsc33042 vsc33042 209 Nov 25 18:33 \u001b[01;36m10x_Multiome_1__libDS_gene_activity.loom\u001b[0m -> /lustre1/project/stg_00002/lcb/cflerin/analysis/pbmc_atac/analysis2/data_freeze_Jun2021_library_downsampled/atac_qc_multiplet_merged/jupyter/downstream_analysis/gene_act_loom/Sanger_1__libDS_gene_activity.loom\n",
      "lrwxrwxrwx 1 vsc33042 vsc33042 209 Nov 25 18:33 \u001b[01;36m10x_Multiome_2__libDS_gene_activity.loom\u001b[0m -> /lustre1/project/stg_00002/lcb/cflerin/analysis/pbmc_atac/analysis2/data_freeze_Jun2021_library_downsampled/atac_qc_multiplet_merged/jupyter/downstream_analysis/gene_act_loom/Sanger_2__libDS_gene_activity.loom\n",
      "lrwxrwxrwx 1 vsc33042 vsc33042 208 Nov 25 18:33 \u001b[01;36m10x_mtATAC_1__libDS_gene_activity.loom\u001b[0m -> /lustre1/project/stg_00002/lcb/cflerin/analysis/pbmc_atac/analysis2/data_freeze_Jun2021_library_downsampled/atac_qc_multiplet_merged/jupyter/downstream_analysis/gene_act_loom/Broad_1__libDS_gene_activity.loom\n",
      "lrwxrwxrwx 1 vsc33042 vsc33042 208 Nov 25 18:33 \u001b[01;36m10x_mtATAC_2__libDS_gene_activity.loom\u001b[0m -> /lustre1/project/stg_00002/lcb/cflerin/analysis/pbmc_atac/analysis2/data_freeze_Jun2021_library_downsampled/atac_qc_multiplet_merged/jupyter/downstream_analysis/gene_act_loom/Broad_2__libDS_gene_activity.loom\n",
      "lrwxrwxrwx 1 vsc33042 vsc33042 210 Nov 25 18:33 \u001b[01;36mBioRad_ATAC_1__libDS_gene_activity.loom\u001b[0m -> /lustre1/project/stg_00002/lcb/cflerin/analysis/pbmc_atac/analysis2/data_freeze_Jun2021_library_downsampled/atac_qc_multiplet_merged/jupyter/downstream_analysis/gene_act_loom/Harvard_1__libDS_gene_activity.loom\n",
      "lrwxrwxrwx 1 vsc33042 vsc33042 210 Nov 25 18:33 \u001b[01;36mBioRad_ATAC_2__libDS_gene_activity.loom\u001b[0m -> /lustre1/project/stg_00002/lcb/cflerin/analysis/pbmc_atac/analysis2/data_freeze_Jun2021_library_downsampled/atac_qc_multiplet_merged/jupyter/downstream_analysis/gene_act_loom/Harvard_2__libDS_gene_activity.loom\n",
      "lrwxrwxrwx 1 vsc33042 vsc33042 147 Nov 26 17:51 \u001b[01;36mHydrop_ATAC_1__libDS_gene_activity.loom\u001b[0m -> /user/leuven/330/vsc33042/fderop/data/20211013_hca_benchmark_libds_singles/downstream_analysis/gene_act_loom/VIB_Hydrop_1__libDS_gene_activity.loom\n",
      "lrwxrwxrwx 1 vsc33042 vsc33042 147 Nov 26 17:51 \u001b[01;36mHydrop_ATAC_2__libDS_gene_activity.loom\u001b[0m -> /user/leuven/330/vsc33042/fderop/data/20211013_hca_benchmark_libds_singles/downstream_analysis/gene_act_loom/VIB_Hydrop_2__libDS_gene_activity.loom\n",
      "lrwxrwxrwx 1 vsc33042 vsc33042 140 Nov 26 12:48 \u001b[01;36mmerged__libDS_gene_activity.loom\u001b[0m -> /user/leuven/330/vsc33042/fderop/data/20211024_hca_benchmark_libds_merged/downstream_analysis/gene_act_loom/Merged__libDS_gene_activity.loom\n",
      "lrwxrwxrwx 1 vsc33042 vsc33042 205 Nov 25 18:33 \u001b[01;36ms3_ATAC__libDS_gene_activity.loom\u001b[0m -> /lustre1/project/stg_00002/lcb/cflerin/analysis/pbmc_atac/analysis2/data_freeze_Jun2021_library_downsampled/atac_qc_multiplet_merged/jupyter/downstream_analysis/gene_act_loom/OHSU__libDS_gene_activity.loom\n"
     ]
    }
   ],
   "source": [
    "ls -l looms_gene_act_old"
   ]
  },
  {
   "cell_type": "markdown",
   "id": "0f9ce252",
   "metadata": {},
   "source": [
    "we don't want to modify the originals. therefore, copy all the loom files"
   ]
  },
  {
   "cell_type": "code",
   "execution_count": 4,
   "id": "ac89ea8f",
   "metadata": {},
   "outputs": [
    {
     "name": "stdout",
     "output_type": "stream",
     "text": [
      "looms_gene_act_old/10x_ATAC_A1__libDS_gene_activity.loom\n",
      "looms_gene_act_old/10x_ATAC_A2__libDS_gene_activity.loom\n",
      "looms_gene_act_old/10x_ATAC_B1__libDS_gene_activity.loom\n",
      "looms_gene_act_old/10x_ATAC_B2__libDS_gene_activity.loom\n",
      "looms_gene_act_old/10x_ATAC_C1__libDS_gene_activity.loom\n",
      "looms_gene_act_old/10x_ATAC_C2__libDS_gene_activity.loom\n",
      "looms_gene_act_old/10x_Multiome_1__libDS_gene_activity.loom\n",
      "looms_gene_act_old/10x_Multiome_2__libDS_gene_activity.loom\n",
      "looms_gene_act_old/10x_mtATAC_1__libDS_gene_activity.loom\n",
      "looms_gene_act_old/10x_mtATAC_2__libDS_gene_activity.loom\n",
      "looms_gene_act_old/BioRad_ATAC_1__libDS_gene_activity.loom\n",
      "looms_gene_act_old/BioRad_ATAC_2__libDS_gene_activity.loom\n",
      "looms_gene_act_old/Hydrop_ATAC_1__libDS_gene_activity.loom\n",
      "looms_gene_act_old/Hydrop_ATAC_2__libDS_gene_activity.loom\n",
      "looms_gene_act_old/merged__libDS_gene_activity.loom\n",
      "looms_gene_act_old/s3_ATAC__libDS_gene_activity.loom\n"
     ]
    }
   ],
   "source": [
    "for file in looms_gene_act_old/*.loom\n",
    "do\n",
    "    echo $file\n",
    "    cp `readlink $file` looms_gene_act_new/`basename $file`\n",
    "done"
   ]
  },
  {
   "cell_type": "code",
   "execution_count": null,
   "id": "2fa476e4",
   "metadata": {},
   "outputs": [
    {
     "name": "stdout",
     "output_type": "stream",
     "text": [
      "looms_region_acc_old/10x_ATAC_A1__libDS_region_accessibility.loom\n",
      "looms_region_acc_old/10x_ATAC_A2__libDS_region_accessibility.loom\n",
      "looms_region_acc_old/10x_ATAC_B1__libDS_region_accessibility.loom\n",
      "looms_region_acc_old/10x_ATAC_B2__libDS_region_accessibility.loom\n",
      "looms_region_acc_old/10x_ATAC_C1__libDS_region_accessibility.loom\n",
      "looms_region_acc_old/10x_ATAC_C2__libDS_region_accessibility.loom\n",
      "looms_region_acc_old/10x_Multiome_1__libDS_region_accessibility.loom\n",
      "looms_region_acc_old/10x_Multiome_2__libDS_region_accessibility.loom\n",
      "looms_region_acc_old/10x_mtATAC_1__libDS_region_accessibility.loom\n",
      "looms_region_acc_old/10x_mtATAC_2__libDS_region_accessibility.loom\n",
      "looms_region_acc_old/BioRad_ATAC_1__libDS_region_accessibility.loom\n"
     ]
    }
   ],
   "source": [
    "for file in looms_region_acc_old/*.loom\n",
    "do\n",
    "    echo $file\n",
    "    cp `readlink $file` looms_region_acc_new/`basename $file`\n",
    "done"
   ]
  },
  {
   "cell_type": "code",
   "execution_count": null,
   "id": "14edbcfd",
   "metadata": {},
   "outputs": [],
   "source": []
  }
 ],
 "metadata": {
  "kernelspec": {
   "display_name": "Bash",
   "language": "bash",
   "name": "bash"
  },
  "language_info": {
   "codemirror_mode": "shell",
   "file_extension": ".sh",
   "mimetype": "text/x-sh",
   "name": "bash"
  }
 },
 "nbformat": 4,
 "nbformat_minor": 5
}
