{
 "cells": [
  {
   "cell_type": "markdown",
   "id": "60b3901e",
   "metadata": {},
   "source": [
    "# upload"
   ]
  },
  {
   "cell_type": "code",
   "execution_count": null,
   "id": "05ce4f19",
   "metadata": {},
   "outputs": [],
   "source": [
    "for file in looms_gene_act_new/*.loom\n",
    "do\n",
    "    echo \"started uploading\" $file\n",
    "    curl -F 'UUID=scATAC-seq_Benchmark' -F 'file-type=Loom' -F 'file=@'$file https://scope.aertslab.org/upload/ | tee /dev/null\n",
    "    echo \"finished uploading\" $file\n",
    "done"
   ]
  },
  {
   "cell_type": "code",
   "execution_count": null,
   "id": "5a589c1e",
   "metadata": {},
   "outputs": [],
   "source": []
  }
 ],
 "metadata": {
  "kernelspec": {
   "display_name": "Bash",
   "language": "bash",
   "name": "bash"
  },
  "language_info": {
   "codemirror_mode": "shell",
   "file_extension": ".sh",
   "mimetype": "text/x-sh",
   "name": "bash"
  }
 },
 "nbformat": 4,
 "nbformat_minor": 5
}
