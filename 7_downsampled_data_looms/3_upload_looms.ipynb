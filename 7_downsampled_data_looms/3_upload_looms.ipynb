{
 "cells": [
  {
   "cell_type": "markdown",
   "id": "063c70ab",
   "metadata": {},
   "source": [
    "# upload"
   ]
  },
  {
   "cell_type": "code",
   "execution_count": 1,
   "id": "e9bf873d",
   "metadata": {},
   "outputs": [
    {
     "name": "stdout",
     "output_type": "stream",
     "text": [
      "started uploading looms_gene_act_new/10x_ATAC_A1__libDS_gene_activity.loom\n",
      "  % Total    % Received % Xferd  Average Speed   Time    Time     Time  Current\n",
      "                                 Dload  Upload   Total   Spent    Left  Speed\n",
      "100 90.0M    0     0  100 90.0M      0  31.0M  0:00:02  0:00:02 --:--:-- 31.0M\n",
      "finished uploading looms_gene_act_new/10x_ATAC_A1__libDS_gene_activity.loom\n",
      "started uploading looms_gene_act_new/10x_ATAC_A2__libDS_gene_activity.loom\n",
      "  % Total    % Received % Xferd  Average Speed   Time    Time     Time  Current\n",
      "                                 Dload  Upload   Total   Spent    Left  Speed\n",
      "100  177M    0     0  100  177M      0  38.8M  0:00:04  0:00:04 --:--:-- 38.8M\n",
      "finished uploading looms_gene_act_new/10x_ATAC_A2__libDS_gene_activity.loom\n",
      "started uploading looms_gene_act_new/10x_ATAC_B1__libDS_gene_activity.loom\n",
      "  % Total    % Received % Xferd  Average Speed   Time    Time     Time  Current\n",
      "                                 Dload  Upload   Total   Spent    Left  Speed\n",
      "100  351M    0     0  100  351M      0  38.8M  0:00:09  0:00:09 --:--:-- 41.6M\n",
      "finished uploading looms_gene_act_new/10x_ATAC_B1__libDS_gene_activity.loom\n",
      "started uploading looms_gene_act_new/10x_ATAC_B2__libDS_gene_activity.loom\n",
      "  % Total    % Received % Xferd  Average Speed   Time    Time     Time  Current\n",
      "                                 Dload  Upload   Total   Spent    Left  Speed\n",
      "100  896M    0     0  100  896M      0  35.5M  0:00:25  0:00:25 --:--:-- 39.4M\n",
      "finished uploading looms_gene_act_new/10x_ATAC_B2__libDS_gene_activity.loom\n",
      "started uploading looms_gene_act_new/10x_ATAC_C1__libDS_gene_activity.loom\n",
      "  % Total    % Received % Xferd  Average Speed   Time    Time     Time  Current\n",
      "                                 Dload  Upload   Total   Spent    Left  Speed\n",
      "100  323M    0     0  100  323M      0  34.7M  0:00:09  0:00:09 --:--:-- 31.6M\n",
      "finished uploading looms_gene_act_new/10x_ATAC_C1__libDS_gene_activity.loom\n",
      "started uploading looms_gene_act_new/10x_ATAC_C2__libDS_gene_activity.loom\n",
      "  % Total    % Received % Xferd  Average Speed   Time    Time     Time  Current\n",
      "                                 Dload  Upload   Total   Spent    Left  Speed\n",
      "100  323M    0     0  100  323M      0  38.9M  0:00:08  0:00:08 --:--:-- 39.1M\n",
      "finished uploading looms_gene_act_new/10x_ATAC_C2__libDS_gene_activity.loom\n",
      "started uploading looms_gene_act_new/10x_Multiome_1__libDS_gene_activity.loom\n",
      "  % Total    % Received % Xferd  Average Speed   Time    Time     Time  Current\n",
      "                                 Dload  Upload   Total   Spent    Left  Speed\n",
      "100  365M    0     0  100  365M      0  41.1M  0:00:08  0:00:08 --:--:-- 40.3M\n",
      "finished uploading looms_gene_act_new/10x_Multiome_1__libDS_gene_activity.loom\n",
      "started uploading looms_gene_act_new/10x_Multiome_2__libDS_gene_activity.loom\n",
      "  % Total    % Received % Xferd  Average Speed   Time    Time     Time  Current\n",
      "                                 Dload  Upload   Total   Spent    Left  Speed\n",
      "100  448M    0     0  100  448M      0  42.0M  0:00:10  0:00:10 --:--:-- 44.2M\n",
      "finished uploading looms_gene_act_new/10x_Multiome_2__libDS_gene_activity.loom\n",
      "started uploading looms_gene_act_new/10x_mtATAC_1__libDS_gene_activity.loom\n",
      "  % Total    % Received % Xferd  Average Speed   Time    Time     Time  Current\n",
      "                                 Dload  Upload   Total   Spent    Left  Speed\n",
      "100  432M    0     0  100  432M      0  39.1M  0:00:11  0:00:11 --:--:-- 39.8M\n",
      "finished uploading looms_gene_act_new/10x_mtATAC_1__libDS_gene_activity.loom\n",
      "started uploading looms_gene_act_new/10x_mtATAC_2__libDS_gene_activity.loom\n",
      "  % Total    % Received % Xferd  Average Speed   Time    Time     Time  Current\n",
      "                                 Dload  Upload   Total   Spent    Left  Speed\n",
      "100  412M    0     0  100  412M      0  42.4M  0:00:09  0:00:09 --:--:-- 45.0M\n",
      "finished uploading looms_gene_act_new/10x_mtATAC_2__libDS_gene_activity.loom\n",
      "started uploading looms_gene_act_new/BioRad_ATAC_1__libDS_gene_activity.loom\n",
      "  % Total    % Received % Xferd  Average Speed   Time    Time     Time  Current\n",
      "                                 Dload  Upload   Total   Spent    Left  Speed\n",
      "100  486M    0     0  100  486M      0  35.3M  0:00:13  0:00:13 --:--:-- 44.8M\n",
      "finished uploading looms_gene_act_new/BioRad_ATAC_1__libDS_gene_activity.loom\n",
      "started uploading looms_gene_act_new/BioRad_ATAC_2__libDS_gene_activity.loom\n",
      "  % Total    % Received % Xferd  Average Speed   Time    Time     Time  Current\n",
      "                                 Dload  Upload   Total   Spent    Left  Speed\n",
      "100  474M    0     0  100  474M      0  42.6M  0:00:11  0:00:11 --:--:-- 41.5M\n",
      "finished uploading looms_gene_act_new/BioRad_ATAC_2__libDS_gene_activity.loom\n",
      "started uploading looms_gene_act_new/Hydrop_ATAC_1__libDS_gene_activity.loom\n",
      "  % Total    % Received % Xferd  Average Speed   Time    Time     Time  Current\n",
      "                                 Dload  Upload   Total   Spent    Left  Speed\n",
      "100  280M    0     0  100  280M      0  41.9M  0:00:06  0:00:06 --:--:-- 44.3M\n",
      "finished uploading looms_gene_act_new/Hydrop_ATAC_1__libDS_gene_activity.loom\n",
      "started uploading looms_gene_act_new/Hydrop_ATAC_2__libDS_gene_activity.loom\n",
      "  % Total    % Received % Xferd  Average Speed   Time    Time     Time  Current\n",
      "                                 Dload  Upload   Total   Spent    Left  Speed\n",
      "100  322M    0     0  100  322M      0  44.2M  0:00:07  0:00:07 --:--:-- 45.6M\n",
      "finished uploading looms_gene_act_new/Hydrop_ATAC_2__libDS_gene_activity.loom\n",
      "started uploading looms_gene_act_new/merged__libDS_gene_activity.loom\n",
      "  % Total    % Received % Xferd  Average Speed   Time    Time     Time  Current\n",
      "                                 Dload  Upload   Total   Spent    Left  Speed\n",
      "100 5831M    0     0  100 5831M      0  42.5M  0:02:17  0:02:17 --:--:-- 43.8M\n",
      "finished uploading looms_gene_act_new/merged__libDS_gene_activity.loom\n",
      "started uploading looms_gene_act_new/s3_ATAC__libDS_gene_activity.loom\n",
      "  % Total    % Received % Xferd  Average Speed   Time    Time     Time  Current\n",
      "                                 Dload  Upload   Total   Spent    Left  Speed\n",
      "100  389M    0     0  100  389M      0  43.4M  0:00:08  0:00:08 --:--:-- 42.9M\n",
      "finished uploading looms_gene_act_new/s3_ATAC__libDS_gene_activity.loom\n"
     ]
    }
   ],
   "source": [
    "for file in looms_gene_act_new/*.loom\n",
    "do\n",
    "    echo \"started uploading\" $file\n",
    "    curl -F 'UUID=scATAC-seq_Benchmark' -F 'file-type=Loom' -F 'file=@'$file https://scope.aertslab.org/upload/ | tee /dev/null\n",
    "    echo \"finished uploading\" $file\n",
    "done"
   ]
  },
  {
   "cell_type": "code",
   "execution_count": null,
   "id": "01f356df",
   "metadata": {},
   "outputs": [],
   "source": []
  }
 ],
 "metadata": {
  "kernelspec": {
   "display_name": "Bash",
   "language": "bash",
   "name": "bash"
  },
  "language_info": {
   "codemirror_mode": "shell",
   "file_extension": ".sh",
   "mimetype": "text/x-sh",
   "name": "bash"
  }
 },
 "nbformat": 4,
 "nbformat_minor": 5
}
