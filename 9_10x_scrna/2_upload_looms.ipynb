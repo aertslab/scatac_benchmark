{
 "cells": [
  {
   "cell_type": "code",
   "execution_count": 10,
   "id": "cfd5463d",
   "metadata": {},
   "outputs": [
    {
     "name": "stdout",
     "output_type": "stream",
     "text": [
      "ln: failed to create symbolic link ‘10x_Multiome_RNA.loom’: File exists\n"
     ]
    },
    {
     "ename": "",
     "evalue": "1",
     "output_type": "error",
     "traceback": []
    }
   ],
   "source": [
    "ln -s Sanger_multiome/out/loom/Sanger_multiome_RNA.SCope_output.loom 10x_Multiome_RNA.loom"
   ]
  },
  {
   "cell_type": "code",
   "execution_count": 11,
   "id": "d44c3b10",
   "metadata": {},
   "outputs": [],
   "source": [
    "file=10x_Multiome_RNA.loom"
   ]
  },
  {
   "cell_type": "code",
   "execution_count": 12,
   "id": "57721d8d",
   "metadata": {},
   "outputs": [
    {
     "name": "stdout",
     "output_type": "stream",
     "text": [
      "started uploading 10x_Multiome_RNA.loom\n",
      "  % Total    % Received % Xferd  Average Speed   Time    Time     Time  Current\n",
      "                                 Dload  Upload   Total   Spent    Left  Speed\n",
      "100  141M    0     0  100  141M      0  51.0M  0:00:02  0:00:02 --:--:-- 51.0M\n",
      "finished uploading 10x_Multiome_RNA.loom\n"
     ]
    }
   ],
   "source": [
    "echo \"started uploading\" $file\n",
    "curl -F 'UUID=scATAC-seq_Benchmark' -F 'file-type=Loom' -F 'file=@'$file https://scope.aertslab.org/upload/ | tee /dev/null\n",
    "echo \"finished uploading\" $file"
   ]
  },
  {
   "cell_type": "code",
   "execution_count": 14,
   "id": "689b95dc",
   "metadata": {},
   "outputs": [],
   "source": [
    "ln -s SCGRES_13__VSN_harmony/out/loom/CNAG_10x_RNA.SCope_output.loom 10x_scRNA.loom"
   ]
  },
  {
   "cell_type": "code",
   "execution_count": 15,
   "id": "2763c699",
   "metadata": {},
   "outputs": [],
   "source": [
    "file=10x_scRNA.loom"
   ]
  },
  {
   "cell_type": "code",
   "execution_count": 16,
   "id": "948067ac",
   "metadata": {},
   "outputs": [
    {
     "name": "stdout",
     "output_type": "stream",
     "text": [
      "started uploading 10x_scRNA.loom\n",
      "  % Total    % Received % Xferd  Average Speed   Time    Time     Time  Current\n",
      "                                 Dload  Upload   Total   Spent    Left  Speed\n",
      "100  106M    0     0  100  106M      0  51.7M  0:00:02  0:00:02 --:--:-- 51.7M\n",
      "finished uploading 10x_scRNA.loom\n"
     ]
    }
   ],
   "source": [
    "echo \"started uploading\" $file\n",
    "curl -F 'UUID=scATAC-seq_Benchmark' -F 'file-type=Loom' -F 'file=@'$file https://scope.aertslab.org/upload/ -o 10x_scRNA.loom | tee /dev/null\n",
    "echo \"finished uploading\" $file"
   ]
  },
  {
   "cell_type": "code",
   "execution_count": null,
   "id": "5b64074c",
   "metadata": {},
   "outputs": [],
   "source": []
  }
 ],
 "metadata": {
  "kernelspec": {
   "display_name": "Bash",
   "language": "bash",
   "name": "bash"
  },
  "language_info": {
   "codemirror_mode": "shell",
   "file_extension": ".sh",
   "mimetype": "text/x-sh",
   "name": "bash"
  }
 },
 "nbformat": 4,
 "nbformat_minor": 5
}
