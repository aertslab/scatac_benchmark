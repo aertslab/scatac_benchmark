{
 "cells": [
  {
   "cell_type": "code",
   "execution_count": 1,
   "metadata": {
    "execution": {
     "iopub.execute_input": "2021-07-01T11:53:00.954195Z",
     "iopub.status.busy": "2021-07-01T11:53:00.953678Z",
     "iopub.status.idle": "2021-07-01T11:53:00.956207Z",
     "shell.execute_reply": "2021-07-01T11:53:00.955738Z"
    },
    "papermill": {
     "duration": 0.026762,
     "end_time": "2021-07-01T11:53:00.956348",
     "exception": false,
     "start_time": "2021-07-01T11:53:00.929586",
     "status": "completed"
    },
    "tags": [
     "injected-parameters"
    ]
   },
   "outputs": [],
   "source": [
    "# Parameters\n",
    "WORKFLOW_MANIFEST = \"{\\\"doi\\\":null,\\\"nextflowVersion\\\":\\\"!>=20.10.0\\\",\\\"defaultBranch\\\":\\\"master\\\",\\\"version\\\":\\\"0.25.0\\\",\\\"homePage\\\":\\\"https://github.com/vib-singlecell-nf/vsn-pipelines\\\",\\\"gitmodules\\\":null,\\\"description\\\":\\\"A repository of pipelines for single-cell data in Nextflow DSL2\\\",\\\"recurseSubmodules\\\":false,\\\"name\\\":\\\"vib-singlecell-nf/vsn-pipelines\\\",\\\"mainScript\\\":\\\"main.nf\\\",\\\"author\\\":null}\"\n",
    "WORKFLOW_PARAMETERS = \"{\\\"global\\\":{\\\"project_name\\\":\\\"Sanger_multiome_RNA\\\",\\\"outdir\\\":\\\"out\\\",\\\"species\\\":\\\"human\\\",\\\"seed\\\":250,\\\"genome\\\":{\\\"assembly\\\":\\\"hg38\\\"}},\\\"misc\\\":{\\\"test\\\":{\\\"enabled\\\":false},\\\"manifestAsJSON\\\":\\\"{\\\\\\\"doi\\\\\\\":null,\\\\\\\"nextflowVersion\\\\\\\":\\\\\\\"!>=20.10.0\\\\\\\",\\\\\\\"defaultBranch\\\\\\\":\\\\\\\"master\\\\\\\",\\\\\\\"version\\\\\\\":\\\\\\\"0.25.0\\\\\\\",\\\\\\\"homePage\\\\\\\":\\\\\\\"https://github.com/vib-singlecell-nf/vsn-pipelines\\\\\\\",\\\\\\\"gitmodules\\\\\\\":null,\\\\\\\"description\\\\\\\":\\\\\\\"A repository of pipelines for single-cell data in Nextflow DSL2\\\\\\\",\\\\\\\"recurseSubmodules\\\\\\\":false,\\\\\\\"name\\\\\\\":\\\\\\\"vib-singlecell-nf/vsn-pipelines\\\\\\\",\\\\\\\"mainScript\\\\\\\":\\\\\\\"main.nf\\\\\\\",\\\\\\\"author\\\\\\\":null}\\\"},\\\"utils\\\":{\\\"container\\\":\\\"vibsinglecellnf/utils:0.4.0\\\",\\\"publish\\\":{\\\"compressionLevel\\\":6,\\\"annotateWithBatchVariableName\\\":false,\\\"mode\\\":\\\"copy\\\"}},\\\"sc\\\":{\\\"file_converter\\\":{\\\"off\\\":\\\"h5ad\\\",\\\"tagCellWithSampleId\\\":true,\\\"remove10xGEMWell\\\":false,\\\"useFilteredMatrix\\\":true,\\\"makeVarIndexUnique\\\":false},\\\"file_concatenator\\\":{\\\"join\\\":\\\"outer\\\",\\\"off\\\":\\\"h5ad\\\"},\\\"scanpy\\\":{\\\"container\\\":\\\"vibsinglecellnf/scanpy:0.5.2\\\",\\\"report\\\":{\\\"annotations_to_plot\\\":[]},\\\"feature_selection\\\":{\\\"report_ipynb\\\":\\\"/src/scanpy/bin/reports/sc_select_variable_genes_report.ipynb\\\",\\\"method\\\":\\\"mean_disp_plot\\\",\\\"minMean\\\":0.0125,\\\"maxMean\\\":3,\\\"minDisp\\\":0.5,\\\"off\\\":\\\"h5ad\\\"},\\\"feature_scaling\\\":{\\\"method\\\":\\\"zscore_scale\\\",\\\"maxSD\\\":10,\\\"off\\\":\\\"h5ad\\\"},\\\"neighborhood_graph\\\":{\\\"off\\\":\\\"h5ad\\\"},\\\"dim_reduction\\\":{\\\"report_ipynb\\\":\\\"/src/scanpy/bin/reports/sc_dim_reduction_report.ipynb\\\",\\\"pca\\\":{\\\"method\\\":\\\"pca\\\",\\\"off\\\":\\\"h5ad\\\"},\\\"umap\\\":{\\\"method\\\":\\\"umap\\\",\\\"off\\\":\\\"h5ad\\\"},\\\"tsne\\\":{\\\"method\\\":\\\"tsne\\\",\\\"off\\\":\\\"h5ad\\\"}},\\\"clustering\\\":{\\\"preflight_checks\\\":true,\\\"report_ipynb\\\":\\\"/src/scanpy/bin/reports/sc_clustering_report.ipynb\\\",\\\"method\\\":\\\"leiden\\\",\\\"resolutions\\\":[0.4,0.6,0.8,1.0,1.2,1.4,1.6,1.8,2.0],\\\"off\\\":\\\"h5ad\\\"},\\\"marker_genes\\\":{\\\"method\\\":\\\"wilcoxon\\\",\\\"ngenes\\\":0,\\\"groupby\\\":\\\"leiden\\\",\\\"off\\\":\\\"h5ad\\\"},\\\"filter\\\":{\\\"report_ipynb\\\":\\\"/src/scanpy/bin/reports/sc_filter_qc_report.ipynb\\\",\\\"cellFilterStrategy\\\":\\\"fixedthresholds\\\",\\\"cellFilterMinNGenes\\\":{\\\"Sanger_1\\\":500,\\\"Sanger_2\\\":500},\\\"cellFilterMaxNGenes\\\":{\\\"Sanger_1\\\":3500,\\\"Sanger_2\\\":3500},\\\"cellFilterMaxPercentMito\\\":{\\\"Sanger_1\\\":0.22,\\\"Sanger_2\\\":0.22},\\\"geneFilterMinNCells\\\":3,\\\"off\\\":\\\"h5ad\\\",\\\"outdir\\\":\\\"out\\\"},\\\"data_transformation\\\":{\\\"method\\\":\\\"log1p\\\",\\\"off\\\":\\\"h5ad\\\"},\\\"normalization\\\":{\\\"method\\\":\\\"cpx\\\",\\\"countsPerCellAfter\\\":10000,\\\"off\\\":\\\"h5ad\\\"}},\\\"harmony\\\":{\\\"container\\\":\\\"vibsinglecellnf/harmony:1.0-1\\\",\\\"report_ipynb\\\":\\\"/src/harmony/bin/reports/sc_harmony_report.ipynb\\\",\\\"varsUse\\\":[\\\"batch\\\"]},\\\"scope\\\":{\\\"genome\\\":\\\"\\\",\\\"tree\\\":{\\\"level_1\\\":\\\"scATAC-seq_Benchmark\\\",\\\"level_2\\\":\\\"RNA\\\",\\\"level_3\\\":\\\"\\\"}},\\\"scenic\\\":{\\\"grn\\\":{\\\"tfs\\\":\\\"/ddn1/vol1/staging/leuven/stg_00002/lcb/cflerin/resources/allTFs_hg38.txt\\\"}},\\\"cell_annotate\\\":{\\\"off\\\":\\\"h5ad\\\",\\\"method\\\":\\\"aio\\\",\\\"cellMetaDataFilePath\\\":\\\"/staging/leuven/stg_00002/lcb/cflerin/analysis/pbmc_atac/analysis2/scRNA/cell_type_classification/seruat/10xMO_cell_type_seurat.txt\\\",\\\"sampleSuffixWithExtension\\\":\\\"\\\",\\\"indexColumnName\\\":\\\"composite_sample_id\\\",\\\"sampleColumnName\\\":\\\"sample_id\\\",\\\"annotationColumnNames\\\":[\\\"cell_type\\\",\\\"cell_type_pred_score\\\",\\\"cell_type_hiconf_70\\\"]}},\\\"data\\\":{\\\"tenx\\\":{\\\"cellranger_mex\\\":\\\"/staging/leuven/stg_00002/lcb/lcb_projects/BAP/data_share/data_processed/cellranger_arc_2.0.0/*/outs\\\"}},\\\"pcacv\\\":{\\\"container\\\":\\\"vibsinglecellnf/pcacv:0.2.0\\\",\\\"find_optimal_npcs\\\":{\\\"accessor\\\":\\\"@assays$RNA@scale.data\\\"}},\\\"quiet\\\":true}\"\n"
   ]
  },
  {
   "cell_type": "markdown",
   "metadata": {
    "papermill": {
     "duration": 0.003828,
     "end_time": "2021-07-01T11:53:00.964583",
     "exception": false,
     "start_time": "2021-07-01T11:53:00.960755",
     "status": "completed"
    },
    "tags": []
   },
   "source": [
    "# Workflow Configuration"
   ]
  },
  {
   "cell_type": "code",
   "execution_count": 2,
   "metadata": {
    "execution": {
     "iopub.execute_input": "2021-07-01T11:53:00.975803Z",
     "iopub.status.busy": "2021-07-01T11:53:00.975403Z",
     "iopub.status.idle": "2021-07-01T11:53:00.977535Z",
     "shell.execute_reply": "2021-07-01T11:53:00.977198Z"
    },
    "papermill": {
     "duration": 0.009196,
     "end_time": "2021-07-01T11:53:00.977626",
     "exception": false,
     "start_time": "2021-07-01T11:53:00.968430",
     "status": "completed"
    },
    "tags": []
   },
   "outputs": [],
   "source": [
    "from IPython.display import JSON\n",
    "import json"
   ]
  },
  {
   "cell_type": "markdown",
   "metadata": {
    "papermill": {
     "duration": 0.003797,
     "end_time": "2021-07-01T11:53:00.985123",
     "exception": false,
     "start_time": "2021-07-01T11:53:00.981326",
     "status": "completed"
    },
    "tags": []
   },
   "source": [
    "## Manifest"
   ]
  },
  {
   "cell_type": "code",
   "execution_count": 3,
   "metadata": {
    "execution": {
     "iopub.execute_input": "2021-07-01T11:53:01.002633Z",
     "iopub.status.busy": "2021-07-01T11:53:01.002240Z",
     "iopub.status.idle": "2021-07-01T11:53:01.005386Z",
     "shell.execute_reply": "2021-07-01T11:53:01.004998Z"
    },
    "papermill": {
     "duration": 0.016549,
     "end_time": "2021-07-01T11:53:01.005484",
     "exception": false,
     "start_time": "2021-07-01T11:53:00.988935",
     "status": "completed"
    },
    "tags": []
   },
   "outputs": [
    {
     "data": {
      "application/json": {
       "author": null,
       "defaultBranch": "master",
       "description": "A repository of pipelines for single-cell data in Nextflow DSL2",
       "doi": null,
       "gitmodules": null,
       "homePage": "https://github.com/vib-singlecell-nf/vsn-pipelines",
       "mainScript": "main.nf",
       "name": "vib-singlecell-nf/vsn-pipelines",
       "nextflowVersion": "!>=20.10.0",
       "recurseSubmodules": false,
       "version": "0.25.0"
      },
      "text/plain": [
       "<IPython.core.display.JSON object>"
      ]
     },
     "execution_count": 3,
     "metadata": {
      "application/json": {
       "expanded": false,
       "root": "root"
      }
     },
     "output_type": "execute_result"
    }
   ],
   "source": [
    "JSON(json.loads(WORKFLOW_MANIFEST))"
   ]
  },
  {
   "cell_type": "markdown",
   "metadata": {
    "papermill": {
     "duration": 0.004236,
     "end_time": "2021-07-01T11:53:01.014036",
     "exception": false,
     "start_time": "2021-07-01T11:53:01.009800",
     "status": "completed"
    },
    "tags": []
   },
   "source": [
    "## Parameters"
   ]
  },
  {
   "cell_type": "code",
   "execution_count": 4,
   "metadata": {
    "execution": {
     "iopub.execute_input": "2021-07-01T11:53:01.026904Z",
     "iopub.status.busy": "2021-07-01T11:53:01.026402Z",
     "iopub.status.idle": "2021-07-01T11:53:01.029721Z",
     "shell.execute_reply": "2021-07-01T11:53:01.029322Z"
    },
    "papermill": {
     "duration": 0.011333,
     "end_time": "2021-07-01T11:53:01.029806",
     "exception": false,
     "start_time": "2021-07-01T11:53:01.018473",
     "status": "completed"
    },
    "tags": []
   },
   "outputs": [
    {
     "data": {
      "application/json": {
       "data": {
        "tenx": {
         "cellranger_mex": "/staging/leuven/stg_00002/lcb/lcb_projects/BAP/data_share/data_processed/cellranger_arc_2.0.0/*/outs"
        }
       },
       "global": {
        "genome": {
         "assembly": "hg38"
        },
        "outdir": "out",
        "project_name": "Sanger_multiome_RNA",
        "seed": 250,
        "species": "human"
       },
       "misc": {
        "manifestAsJSON": "{\"doi\":null,\"nextflowVersion\":\"!>=20.10.0\",\"defaultBranch\":\"master\",\"version\":\"0.25.0\",\"homePage\":\"https://github.com/vib-singlecell-nf/vsn-pipelines\",\"gitmodules\":null,\"description\":\"A repository of pipelines for single-cell data in Nextflow DSL2\",\"recurseSubmodules\":false,\"name\":\"vib-singlecell-nf/vsn-pipelines\",\"mainScript\":\"main.nf\",\"author\":null}",
        "test": {
         "enabled": false
        }
       },
       "pcacv": {
        "container": "vibsinglecellnf/pcacv:0.2.0",
        "find_optimal_npcs": {
         "accessor": "@assays$RNA@scale.data"
        }
       },
       "quiet": true,
       "sc": {
        "cell_annotate": {
         "annotationColumnNames": [
          "cell_type",
          "cell_type_pred_score",
          "cell_type_hiconf_70"
         ],
         "cellMetaDataFilePath": "/staging/leuven/stg_00002/lcb/cflerin/analysis/pbmc_atac/analysis2/scRNA/cell_type_classification/seruat/10xMO_cell_type_seurat.txt",
         "indexColumnName": "composite_sample_id",
         "method": "aio",
         "off": "h5ad",
         "sampleColumnName": "sample_id",
         "sampleSuffixWithExtension": ""
        },
        "file_concatenator": {
         "join": "outer",
         "off": "h5ad"
        },
        "file_converter": {
         "makeVarIndexUnique": false,
         "off": "h5ad",
         "remove10xGEMWell": false,
         "tagCellWithSampleId": true,
         "useFilteredMatrix": true
        },
        "harmony": {
         "container": "vibsinglecellnf/harmony:1.0-1",
         "report_ipynb": "/src/harmony/bin/reports/sc_harmony_report.ipynb",
         "varsUse": [
          "batch"
         ]
        },
        "scanpy": {
         "clustering": {
          "method": "leiden",
          "off": "h5ad",
          "preflight_checks": true,
          "report_ipynb": "/src/scanpy/bin/reports/sc_clustering_report.ipynb",
          "resolutions": [
           0.4,
           0.6,
           0.8,
           1.0,
           1.2,
           1.4,
           1.6,
           1.8,
           2.0
          ]
         },
         "container": "vibsinglecellnf/scanpy:0.5.2",
         "data_transformation": {
          "method": "log1p",
          "off": "h5ad"
         },
         "dim_reduction": {
          "pca": {
           "method": "pca",
           "off": "h5ad"
          },
          "report_ipynb": "/src/scanpy/bin/reports/sc_dim_reduction_report.ipynb",
          "tsne": {
           "method": "tsne",
           "off": "h5ad"
          },
          "umap": {
           "method": "umap",
           "off": "h5ad"
          }
         },
         "feature_scaling": {
          "maxSD": 10,
          "method": "zscore_scale",
          "off": "h5ad"
         },
         "feature_selection": {
          "maxMean": 3,
          "method": "mean_disp_plot",
          "minDisp": 0.5,
          "minMean": 0.0125,
          "off": "h5ad",
          "report_ipynb": "/src/scanpy/bin/reports/sc_select_variable_genes_report.ipynb"
         },
         "filter": {
          "cellFilterMaxNGenes": {
           "Sanger_1": 3500,
           "Sanger_2": 3500
          },
          "cellFilterMaxPercentMito": {
           "Sanger_1": 0.22,
           "Sanger_2": 0.22
          },
          "cellFilterMinNGenes": {
           "Sanger_1": 500,
           "Sanger_2": 500
          },
          "cellFilterStrategy": "fixedthresholds",
          "geneFilterMinNCells": 3,
          "off": "h5ad",
          "outdir": "out",
          "report_ipynb": "/src/scanpy/bin/reports/sc_filter_qc_report.ipynb"
         },
         "marker_genes": {
          "groupby": "leiden",
          "method": "wilcoxon",
          "ngenes": 0,
          "off": "h5ad"
         },
         "neighborhood_graph": {
          "off": "h5ad"
         },
         "normalization": {
          "countsPerCellAfter": 10000,
          "method": "cpx",
          "off": "h5ad"
         },
         "report": {
          "annotations_to_plot": []
         }
        },
        "scenic": {
         "grn": {
          "tfs": "/ddn1/vol1/staging/leuven/stg_00002/lcb/cflerin/resources/allTFs_hg38.txt"
         }
        },
        "scope": {
         "genome": "",
         "tree": {
          "level_1": "scATAC-seq_Benchmark",
          "level_2": "RNA",
          "level_3": ""
         }
        }
       },
       "utils": {
        "container": "vibsinglecellnf/utils:0.4.0",
        "publish": {
         "annotateWithBatchVariableName": false,
         "compressionLevel": 6,
         "mode": "copy"
        }
       }
      },
      "text/plain": [
       "<IPython.core.display.JSON object>"
      ]
     },
     "execution_count": 4,
     "metadata": {
      "application/json": {
       "expanded": false,
       "root": "root"
      }
     },
     "output_type": "execute_result"
    }
   ],
   "source": [
    "JSON(json.loads(WORKFLOW_PARAMETERS))"
   ]
  }
 ],
 "metadata": {
  "kernelspec": {
   "display_name": "Python 3",
   "language": "python",
   "name": "python3"
  },
  "language_info": {
   "codemirror_mode": {
    "name": "ipython",
    "version": 3
   },
   "file_extension": ".py",
   "mimetype": "text/x-python",
   "name": "python",
   "nbconvert_exporter": "python",
   "pygments_lexer": "ipython3",
   "version": "3.7.9"
  },
  "papermill": {
   "default_parameters": {},
   "duration": 2.142501,
   "end_time": "2021-07-01T11:53:01.242169",
   "environment_variables": {},
   "exception": null,
   "input_path": "workflow_configuration_template.ipynb",
   "output_path": "workflow_configuration_report.ipynb",
   "parameters": {
    "WORKFLOW_MANIFEST": "{\"doi\":null,\"nextflowVersion\":\"!>=20.10.0\",\"defaultBranch\":\"master\",\"version\":\"0.25.0\",\"homePage\":\"https://github.com/vib-singlecell-nf/vsn-pipelines\",\"gitmodules\":null,\"description\":\"A repository of pipelines for single-cell data in Nextflow DSL2\",\"recurseSubmodules\":false,\"name\":\"vib-singlecell-nf/vsn-pipelines\",\"mainScript\":\"main.nf\",\"author\":null}",
    "WORKFLOW_PARAMETERS": "{\"global\":{\"project_name\":\"Sanger_multiome_RNA\",\"outdir\":\"out\",\"species\":\"human\",\"seed\":250,\"genome\":{\"assembly\":\"hg38\"}},\"misc\":{\"test\":{\"enabled\":false},\"manifestAsJSON\":\"{\\\"doi\\\":null,\\\"nextflowVersion\\\":\\\"!>=20.10.0\\\",\\\"defaultBranch\\\":\\\"master\\\",\\\"version\\\":\\\"0.25.0\\\",\\\"homePage\\\":\\\"https://github.com/vib-singlecell-nf/vsn-pipelines\\\",\\\"gitmodules\\\":null,\\\"description\\\":\\\"A repository of pipelines for single-cell data in Nextflow DSL2\\\",\\\"recurseSubmodules\\\":false,\\\"name\\\":\\\"vib-singlecell-nf/vsn-pipelines\\\",\\\"mainScript\\\":\\\"main.nf\\\",\\\"author\\\":null}\"},\"utils\":{\"container\":\"vibsinglecellnf/utils:0.4.0\",\"publish\":{\"compressionLevel\":6,\"annotateWithBatchVariableName\":false,\"mode\":\"copy\"}},\"sc\":{\"file_converter\":{\"off\":\"h5ad\",\"tagCellWithSampleId\":true,\"remove10xGEMWell\":false,\"useFilteredMatrix\":true,\"makeVarIndexUnique\":false},\"file_concatenator\":{\"join\":\"outer\",\"off\":\"h5ad\"},\"scanpy\":{\"container\":\"vibsinglecellnf/scanpy:0.5.2\",\"report\":{\"annotations_to_plot\":[]},\"feature_selection\":{\"report_ipynb\":\"/src/scanpy/bin/reports/sc_select_variable_genes_report.ipynb\",\"method\":\"mean_disp_plot\",\"minMean\":0.0125,\"maxMean\":3,\"minDisp\":0.5,\"off\":\"h5ad\"},\"feature_scaling\":{\"method\":\"zscore_scale\",\"maxSD\":10,\"off\":\"h5ad\"},\"neighborhood_graph\":{\"off\":\"h5ad\"},\"dim_reduction\":{\"report_ipynb\":\"/src/scanpy/bin/reports/sc_dim_reduction_report.ipynb\",\"pca\":{\"method\":\"pca\",\"off\":\"h5ad\"},\"umap\":{\"method\":\"umap\",\"off\":\"h5ad\"},\"tsne\":{\"method\":\"tsne\",\"off\":\"h5ad\"}},\"clustering\":{\"preflight_checks\":true,\"report_ipynb\":\"/src/scanpy/bin/reports/sc_clustering_report.ipynb\",\"method\":\"leiden\",\"resolutions\":[0.4,0.6,0.8,1.0,1.2,1.4,1.6,1.8,2.0],\"off\":\"h5ad\"},\"marker_genes\":{\"method\":\"wilcoxon\",\"ngenes\":0,\"groupby\":\"leiden\",\"off\":\"h5ad\"},\"filter\":{\"report_ipynb\":\"/src/scanpy/bin/reports/sc_filter_qc_report.ipynb\",\"cellFilterStrategy\":\"fixedthresholds\",\"cellFilterMinNGenes\":{\"Sanger_1\":500,\"Sanger_2\":500},\"cellFilterMaxNGenes\":{\"Sanger_1\":3500,\"Sanger_2\":3500},\"cellFilterMaxPercentMito\":{\"Sanger_1\":0.22,\"Sanger_2\":0.22},\"geneFilterMinNCells\":3,\"off\":\"h5ad\",\"outdir\":\"out\"},\"data_transformation\":{\"method\":\"log1p\",\"off\":\"h5ad\"},\"normalization\":{\"method\":\"cpx\",\"countsPerCellAfter\":10000,\"off\":\"h5ad\"}},\"harmony\":{\"container\":\"vibsinglecellnf/harmony:1.0-1\",\"report_ipynb\":\"/src/harmony/bin/reports/sc_harmony_report.ipynb\",\"varsUse\":[\"batch\"]},\"scope\":{\"genome\":\"\",\"tree\":{\"level_1\":\"scATAC-seq_Benchmark\",\"level_2\":\"RNA\",\"level_3\":\"\"}},\"scenic\":{\"grn\":{\"tfs\":\"/ddn1/vol1/staging/leuven/stg_00002/lcb/cflerin/resources/allTFs_hg38.txt\"}},\"cell_annotate\":{\"off\":\"h5ad\",\"method\":\"aio\",\"cellMetaDataFilePath\":\"/staging/leuven/stg_00002/lcb/cflerin/analysis/pbmc_atac/analysis2/scRNA/cell_type_classification/seruat/10xMO_cell_type_seurat.txt\",\"sampleSuffixWithExtension\":\"\",\"indexColumnName\":\"composite_sample_id\",\"sampleColumnName\":\"sample_id\",\"annotationColumnNames\":[\"cell_type\",\"cell_type_pred_score\",\"cell_type_hiconf_70\"]}},\"data\":{\"tenx\":{\"cellranger_mex\":\"/staging/leuven/stg_00002/lcb/lcb_projects/BAP/data_share/data_processed/cellranger_arc_2.0.0/*/outs\"}},\"pcacv\":{\"container\":\"vibsinglecellnf/pcacv:0.2.0\",\"find_optimal_npcs\":{\"accessor\":\"@assays$RNA@scale.data\"}},\"quiet\":true}"
   },
   "start_time": "2021-07-01T11:52:59.099668",
   "version": "2.2.2"
  }
 },
 "nbformat": 4,
 "nbformat_minor": 4
}