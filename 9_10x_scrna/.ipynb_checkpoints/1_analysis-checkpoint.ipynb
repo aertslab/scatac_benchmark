{
 "cells": [
  {
   "cell_type": "code",
   "execution_count": 47,
   "id": "94a468a1",
   "metadata": {},
   "outputs": [],
   "source": [
    "import scanpy as sc\n",
    "import pandas as pd\n",
    "import matplotlib.pyplot as plt\n",
    "sc.set_figure_params(dpi=900)"
   ]
  },
  {
   "cell_type": "code",
   "execution_count": 48,
   "id": "75f5028c",
   "metadata": {},
   "outputs": [
    {
     "name": "stderr",
     "output_type": "stream",
     "text": [
      "/opt/venv/lib/python3.8/site-packages/anndata/compat/__init__.py:180: FutureWarning: Moving element from .uns['neighbors']['distances'] to .obsp['distances'].\n",
      "\n",
      "This is where adjacency matrices should go now.\n",
      "  warn(\n",
      "/opt/venv/lib/python3.8/site-packages/anndata/compat/__init__.py:180: FutureWarning: Moving element from .uns['neighbors']['connectivities'] to .obsp['connectivities'].\n",
      "\n",
      "This is where adjacency matrices should go now.\n",
      "  warn(\n"
     ]
    }
   ],
   "source": [
    "adata = sc.read_h5ad('SCGRES_13__VSN_harmony/out/data/CNAG_10x_RNA.BEC_HARMONY.dimred_output.')"
   ]
  },
  {
   "cell_type": "code",
   "execution_count": 49,
   "id": "20905883",
   "metadata": {},
   "outputs": [],
   "source": [
    "df_seurat_cell_type_classification = pd.read_csv('cell_type_classification/seurat/CNAG_RNA_cell_type_seurat__filtcelltypes_fullintegratedref.txt', sep='\\t', index_col='composite_sample_id')"
   ]
  },
  {
   "cell_type": "code",
   "execution_count": 50,
   "id": "319de42a",
   "metadata": {},
   "outputs": [],
   "source": [
    "adata.obs['cell_type_seurat'] = df_seurat_cell_type_classification['cell_type']"
   ]
  },
  {
   "cell_type": "code",
   "execution_count": null,
   "id": "85f5fe25",
   "metadata": {},
   "outputs": [
    {
     "name": "stderr",
     "output_type": "stream",
     "text": [
      "/opt/venv/lib/python3.8/site-packages/anndata/_core/anndata.py:1220: FutureWarning: The `inplace` parameter in pandas.Categorical.reorder_categories is deprecated and will be removed in a future version. Removing unused categories will always return a new Categorical object.\n",
      "  c.reorder_categories(natsorted(c.categories), inplace=True)\n",
      "... storing 'cell_type_seurat' as categorical\n"
     ]
    },
    {
     "name": "stdout",
     "output_type": "stream",
     "text": [
      "WARNING: saving figure to file figures/umap_scrna_tf_expression.jpg.pdf\n"
     ]
    }
   ],
   "source": [
    "with plt.rc_context({'figure.figsize': (3, 3)}):\n",
    "    var = 'PAX5 EBF1 BCL11A POU2F2 TCF4 cell_type'.split()\n",
    "    sc.pl.umap(adata, color=var, size=8, ncols=3, use_raw=False, save='_scrna_tf_expression.png')"
   ]
  },
  {
   "cell_type": "markdown",
   "id": "26dc14e3",
   "metadata": {},
   "source": [
    "do same for multiome"
   ]
  },
  {
   "cell_type": "code",
   "execution_count": null,
   "id": "82bb3d17",
   "metadata": {},
   "outputs": [],
   "source": [
    "adata = sc.read_h5ad('Sanger_multiome/out/data/Sanger_multiome_RNA.BEC_HARMONY.dimred_output.')"
   ]
  },
  {
   "cell_type": "code",
   "execution_count": null,
   "id": "c46b0951",
   "metadata": {},
   "outputs": [],
   "source": [
    "df_seurat_cell_type_classification = pd.read_csv('cell_type_classification/seurat/10xMO_cell_type_seurat__filtcelltypes_fullintegratedref.txt', sep='\\t', index_col='composite_sample_id')"
   ]
  },
  {
   "cell_type": "code",
   "execution_count": null,
   "id": "849953a3",
   "metadata": {},
   "outputs": [],
   "source": [
    "adata.obs['cell_type_seurat'] = df_seurat_cell_type_classification['cell_type']"
   ]
  },
  {
   "cell_type": "markdown",
   "id": "103a435d",
   "metadata": {},
   "source": [
    "POU2F2 is not highly variable, and is therefore not present in the final hvg-filtered matrix. We re-load an earlier version of the expression matrix."
   ]
  },
  {
   "cell_type": "code",
   "execution_count": null,
   "id": "ddf0075e",
   "metadata": {},
   "outputs": [],
   "source": [
    "adata_unfiltered = sc.read_h5ad('Sanger_multiome/out/data/intermediate/Sanger_multiome_RNA.SC__SCANPY__FIND_HIGHLY_VARIABLE_GENES.h5ad')"
   ]
  },
  {
   "cell_type": "code",
   "execution_count": null,
   "id": "b7f44af3",
   "metadata": {},
   "outputs": [],
   "source": [
    "adata_unfiltered.obsm = adata.obsm"
   ]
  },
  {
   "cell_type": "code",
   "execution_count": null,
   "id": "1f4f171e",
   "metadata": {},
   "outputs": [],
   "source": [
    "with plt.rc_context({'figure.figsize': (3, 3)}):\n",
    "    var = 'PAX5 EBF1 BCL11A POU2F2 TCF4 cell_type'.split()\n",
    "    sc.pl.umap(adata_unfiltered, color=var, size=8, ncols=3, use_raw=False, save='_multiome_tf_expression.png')"
   ]
  }
 ],
 "metadata": {
  "kernelspec": {
   "display_name": "pycisTopic_singularity_20210921",
   "language": "python",
   "name": "pycistopic_singularity"
  },
  "language_info": {
   "codemirror_mode": {
    "name": "ipython",
    "version": 3
   },
   "file_extension": ".py",
   "mimetype": "text/x-python",
   "name": "python",
   "nbconvert_exporter": "python",
   "pygments_lexer": "ipython3",
   "version": "3.8.6"
  }
 },
 "nbformat": 4,
 "nbformat_minor": 5
}
