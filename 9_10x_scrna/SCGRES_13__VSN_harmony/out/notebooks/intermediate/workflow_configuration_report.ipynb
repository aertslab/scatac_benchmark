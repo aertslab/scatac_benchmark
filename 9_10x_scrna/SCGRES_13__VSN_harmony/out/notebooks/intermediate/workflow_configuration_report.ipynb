{
 "cells": [
  {
   "cell_type": "code",
   "execution_count": 1,
   "metadata": {
    "execution": {
     "iopub.execute_input": "2021-07-01T11:52:43.054578Z",
     "iopub.status.busy": "2021-07-01T11:52:43.054034Z",
     "iopub.status.idle": "2021-07-01T11:52:43.056470Z",
     "shell.execute_reply": "2021-07-01T11:52:43.056037Z"
    },
    "papermill": {
     "duration": 0.017879,
     "end_time": "2021-07-01T11:52:43.056632",
     "exception": false,
     "start_time": "2021-07-01T11:52:43.038753",
     "status": "completed"
    },
    "tags": [
     "injected-parameters"
    ]
   },
   "outputs": [],
   "source": [
    "# Parameters\n",
    "WORKFLOW_MANIFEST = \"{\\\"doi\\\":null,\\\"nextflowVersion\\\":\\\"!>=20.10.0\\\",\\\"defaultBranch\\\":\\\"master\\\",\\\"version\\\":\\\"0.25.0\\\",\\\"homePage\\\":\\\"https://github.com/vib-singlecell-nf/vsn-pipelines\\\",\\\"gitmodules\\\":null,\\\"description\\\":\\\"A repository of pipelines for single-cell data in Nextflow DSL2\\\",\\\"recurseSubmodules\\\":false,\\\"name\\\":\\\"vib-singlecell-nf/vsn-pipelines\\\",\\\"mainScript\\\":\\\"main.nf\\\",\\\"author\\\":null}\"\n",
    "WORKFLOW_PARAMETERS = \"{\\\"global\\\":{\\\"project_name\\\":\\\"CNAG_10x_RNA\\\",\\\"outdir\\\":\\\"out\\\",\\\"species\\\":\\\"human\\\",\\\"seed\\\":250,\\\"genome\\\":{\\\"assembly\\\":\\\"hg38\\\"}},\\\"misc\\\":{\\\"test\\\":{\\\"enabled\\\":false},\\\"manifestAsJSON\\\":\\\"{\\\\\\\"doi\\\\\\\":null,\\\\\\\"nextflowVersion\\\\\\\":\\\\\\\"!>=20.10.0\\\\\\\",\\\\\\\"defaultBranch\\\\\\\":\\\\\\\"master\\\\\\\",\\\\\\\"version\\\\\\\":\\\\\\\"0.25.0\\\\\\\",\\\\\\\"homePage\\\\\\\":\\\\\\\"https://github.com/vib-singlecell-nf/vsn-pipelines\\\\\\\",\\\\\\\"gitmodules\\\\\\\":null,\\\\\\\"description\\\\\\\":\\\\\\\"A repository of pipelines for single-cell data in Nextflow DSL2\\\\\\\",\\\\\\\"recurseSubmodules\\\\\\\":false,\\\\\\\"name\\\\\\\":\\\\\\\"vib-singlecell-nf/vsn-pipelines\\\\\\\",\\\\\\\"mainScript\\\\\\\":\\\\\\\"main.nf\\\\\\\",\\\\\\\"author\\\\\\\":null}\\\"},\\\"utils\\\":{\\\"container\\\":\\\"vibsinglecellnf/utils:0.4.0\\\",\\\"publish\\\":{\\\"compressionLevel\\\":6,\\\"annotateWithBatchVariableName\\\":false,\\\"mode\\\":\\\"copy\\\"}},\\\"sc\\\":{\\\"file_converter\\\":{\\\"off\\\":\\\"h5ad\\\",\\\"tagCellWithSampleId\\\":true,\\\"remove10xGEMWell\\\":false,\\\"useFilteredMatrix\\\":true,\\\"makeVarIndexUnique\\\":false},\\\"file_concatenator\\\":{\\\"join\\\":\\\"outer\\\",\\\"off\\\":\\\"h5ad\\\"},\\\"scanpy\\\":{\\\"container\\\":\\\"vibsinglecellnf/scanpy:0.5.2\\\",\\\"report\\\":{\\\"annotations_to_plot\\\":[]},\\\"feature_selection\\\":{\\\"report_ipynb\\\":\\\"/src/scanpy/bin/reports/sc_select_variable_genes_report.ipynb\\\",\\\"method\\\":\\\"mean_disp_plot\\\",\\\"minMean\\\":0.0125,\\\"maxMean\\\":3,\\\"minDisp\\\":0.5,\\\"off\\\":\\\"h5ad\\\"},\\\"feature_scaling\\\":{\\\"method\\\":\\\"zscore_scale\\\",\\\"maxSD\\\":10,\\\"off\\\":\\\"h5ad\\\"},\\\"neighborhood_graph\\\":{\\\"off\\\":\\\"h5ad\\\"},\\\"dim_reduction\\\":{\\\"report_ipynb\\\":\\\"/src/scanpy/bin/reports/sc_dim_reduction_report.ipynb\\\",\\\"pca\\\":{\\\"method\\\":\\\"pca\\\",\\\"off\\\":\\\"h5ad\\\"},\\\"umap\\\":{\\\"method\\\":\\\"umap\\\",\\\"off\\\":\\\"h5ad\\\"},\\\"tsne\\\":{\\\"method\\\":\\\"tsne\\\",\\\"off\\\":\\\"h5ad\\\"}},\\\"clustering\\\":{\\\"preflight_checks\\\":true,\\\"report_ipynb\\\":\\\"/src/scanpy/bin/reports/sc_clustering_report.ipynb\\\",\\\"method\\\":\\\"leiden\\\",\\\"resolutions\\\":[0.4,0.6,0.8,1.0,1.2,1.4,1.6,1.8,2.0],\\\"off\\\":\\\"h5ad\\\"},\\\"marker_genes\\\":{\\\"method\\\":\\\"wilcoxon\\\",\\\"ngenes\\\":0,\\\"groupby\\\":\\\"louvain\\\",\\\"off\\\":\\\"h5ad\\\"},\\\"filter\\\":{\\\"report_ipynb\\\":\\\"/src/scanpy/bin/reports/sc_filter_qc_report.ipynb\\\",\\\"cellFilterStrategy\\\":\\\"fixedthresholds\\\",\\\"cellFilterMinNCounts\\\":2000,\\\"cellFilterMinNGenes\\\":200,\\\"cellFilterMaxNGenes\\\":{\\\"PBMCmix_1\\\":5500,\\\"PBMCmix_2\\\":5000,\\\"PBMCmix_3\\\":3500},\\\"cellFilterMaxPercentMito\\\":{\\\"PBMCmix_1\\\":0.20,\\\"PBMCmix_2\\\":0.18,\\\"PBMCmix_3\\\":0.20},\\\"geneFilterMinNCells\\\":3,\\\"off\\\":\\\"h5ad\\\",\\\"outdir\\\":\\\"out\\\"},\\\"data_transformation\\\":{\\\"method\\\":\\\"log1p\\\",\\\"off\\\":\\\"h5ad\\\"},\\\"normalization\\\":{\\\"method\\\":\\\"cpx\\\",\\\"countsPerCellAfter\\\":10000,\\\"off\\\":\\\"h5ad\\\"}},\\\"harmony\\\":{\\\"container\\\":\\\"vibsinglecellnf/harmony:1.0-1\\\",\\\"report_ipynb\\\":\\\"/src/harmony/bin/reports/sc_harmony_report.ipynb\\\",\\\"varsUse\\\":[\\\"batch\\\"]},\\\"scope\\\":{\\\"genome\\\":\\\"\\\",\\\"tree\\\":{\\\"level_1\\\":\\\"scATAC-seq_Benchmark\\\",\\\"level_2\\\":\\\"RNA\\\",\\\"level_3\\\":\\\"\\\"}},\\\"cell_annotate\\\":{\\\"off\\\":\\\"h5ad\\\",\\\"method\\\":\\\"aio\\\",\\\"cellMetaDataFilePath\\\":\\\"/staging/leuven/stg_00002/lcb/cflerin/analysis/pbmc_atac/analysis2/scRNA/cell_type_classification/seruat/CNAG_RNA_cell_type_seurat.txt\\\",\\\"sampleSuffixWithExtension\\\":\\\"\\\",\\\"indexColumnName\\\":\\\"composite_sample_id\\\",\\\"sampleColumnName\\\":\\\"sample_id\\\",\\\"annotationColumnNames\\\":[\\\"cell_type\\\",\\\"cell_type_pred_score\\\",\\\"cell_type_hiconf_70\\\"]}},\\\"data\\\":{\\\"tenx\\\":{\\\"cellranger_mex\\\":\\\"/staging/leuven/stg_00002/lcb/lcb_projects/BAP/data_unsorted/scRNA/SCGRES_13/cellranger/*/outs\\\"}},\\\"pcacv\\\":{\\\"container\\\":\\\"vibsinglecellnf/pcacv:0.2.0\\\",\\\"find_optimal_npcs\\\":{\\\"accessor\\\":\\\"@assays$RNA@scale.data\\\"}}}\"\n"
   ]
  },
  {
   "cell_type": "markdown",
   "metadata": {
    "papermill": {
     "duration": 0.004099,
     "end_time": "2021-07-01T11:52:43.065315",
     "exception": false,
     "start_time": "2021-07-01T11:52:43.061216",
     "status": "completed"
    },
    "tags": []
   },
   "source": [
    "# Workflow Configuration"
   ]
  },
  {
   "cell_type": "code",
   "execution_count": 2,
   "metadata": {
    "execution": {
     "iopub.execute_input": "2021-07-01T11:52:43.076927Z",
     "iopub.status.busy": "2021-07-01T11:52:43.076523Z",
     "iopub.status.idle": "2021-07-01T11:52:43.078770Z",
     "shell.execute_reply": "2021-07-01T11:52:43.078396Z"
    },
    "papermill": {
     "duration": 0.009451,
     "end_time": "2021-07-01T11:52:43.078865",
     "exception": false,
     "start_time": "2021-07-01T11:52:43.069414",
     "status": "completed"
    },
    "tags": []
   },
   "outputs": [],
   "source": [
    "from IPython.display import JSON\n",
    "import json"
   ]
  },
  {
   "cell_type": "markdown",
   "metadata": {
    "papermill": {
     "duration": 0.003871,
     "end_time": "2021-07-01T11:52:43.086602",
     "exception": false,
     "start_time": "2021-07-01T11:52:43.082731",
     "status": "completed"
    },
    "tags": []
   },
   "source": [
    "## Manifest"
   ]
  },
  {
   "cell_type": "code",
   "execution_count": 3,
   "metadata": {
    "execution": {
     "iopub.execute_input": "2021-07-01T11:52:43.104284Z",
     "iopub.status.busy": "2021-07-01T11:52:43.103871Z",
     "iopub.status.idle": "2021-07-01T11:52:43.106934Z",
     "shell.execute_reply": "2021-07-01T11:52:43.106506Z"
    },
    "papermill": {
     "duration": 0.016483,
     "end_time": "2021-07-01T11:52:43.107028",
     "exception": false,
     "start_time": "2021-07-01T11:52:43.090545",
     "status": "completed"
    },
    "tags": []
   },
   "outputs": [
    {
     "data": {
      "application/json": {
       "author": null,
       "defaultBranch": "master",
       "description": "A repository of pipelines for single-cell data in Nextflow DSL2",
       "doi": null,
       "gitmodules": null,
       "homePage": "https://github.com/vib-singlecell-nf/vsn-pipelines",
       "mainScript": "main.nf",
       "name": "vib-singlecell-nf/vsn-pipelines",
       "nextflowVersion": "!>=20.10.0",
       "recurseSubmodules": false,
       "version": "0.25.0"
      },
      "text/plain": [
       "<IPython.core.display.JSON object>"
      ]
     },
     "execution_count": 3,
     "metadata": {
      "application/json": {
       "expanded": false,
       "root": "root"
      }
     },
     "output_type": "execute_result"
    }
   ],
   "source": [
    "JSON(json.loads(WORKFLOW_MANIFEST))"
   ]
  },
  {
   "cell_type": "markdown",
   "metadata": {
    "papermill": {
     "duration": 0.00447,
     "end_time": "2021-07-01T11:52:43.116087",
     "exception": false,
     "start_time": "2021-07-01T11:52:43.111617",
     "status": "completed"
    },
    "tags": []
   },
   "source": [
    "## Parameters"
   ]
  },
  {
   "cell_type": "code",
   "execution_count": 4,
   "metadata": {
    "execution": {
     "iopub.execute_input": "2021-07-01T11:52:43.129605Z",
     "iopub.status.busy": "2021-07-01T11:52:43.129205Z",
     "iopub.status.idle": "2021-07-01T11:52:43.132337Z",
     "shell.execute_reply": "2021-07-01T11:52:43.131999Z"
    },
    "papermill": {
     "duration": 0.011871,
     "end_time": "2021-07-01T11:52:43.132429",
     "exception": false,
     "start_time": "2021-07-01T11:52:43.120558",
     "status": "completed"
    },
    "tags": []
   },
   "outputs": [
    {
     "data": {
      "application/json": {
       "data": {
        "tenx": {
         "cellranger_mex": "/staging/leuven/stg_00002/lcb/lcb_projects/BAP/data_unsorted/scRNA/SCGRES_13/cellranger/*/outs"
        }
       },
       "global": {
        "genome": {
         "assembly": "hg38"
        },
        "outdir": "out",
        "project_name": "CNAG_10x_RNA",
        "seed": 250,
        "species": "human"
       },
       "misc": {
        "manifestAsJSON": "{\"doi\":null,\"nextflowVersion\":\"!>=20.10.0\",\"defaultBranch\":\"master\",\"version\":\"0.25.0\",\"homePage\":\"https://github.com/vib-singlecell-nf/vsn-pipelines\",\"gitmodules\":null,\"description\":\"A repository of pipelines for single-cell data in Nextflow DSL2\",\"recurseSubmodules\":false,\"name\":\"vib-singlecell-nf/vsn-pipelines\",\"mainScript\":\"main.nf\",\"author\":null}",
        "test": {
         "enabled": false
        }
       },
       "pcacv": {
        "container": "vibsinglecellnf/pcacv:0.2.0",
        "find_optimal_npcs": {
         "accessor": "@assays$RNA@scale.data"
        }
       },
       "sc": {
        "cell_annotate": {
         "annotationColumnNames": [
          "cell_type",
          "cell_type_pred_score",
          "cell_type_hiconf_70"
         ],
         "cellMetaDataFilePath": "/staging/leuven/stg_00002/lcb/cflerin/analysis/pbmc_atac/analysis2/scRNA/cell_type_classification/seruat/CNAG_RNA_cell_type_seurat.txt",
         "indexColumnName": "composite_sample_id",
         "method": "aio",
         "off": "h5ad",
         "sampleColumnName": "sample_id",
         "sampleSuffixWithExtension": ""
        },
        "file_concatenator": {
         "join": "outer",
         "off": "h5ad"
        },
        "file_converter": {
         "makeVarIndexUnique": false,
         "off": "h5ad",
         "remove10xGEMWell": false,
         "tagCellWithSampleId": true,
         "useFilteredMatrix": true
        },
        "harmony": {
         "container": "vibsinglecellnf/harmony:1.0-1",
         "report_ipynb": "/src/harmony/bin/reports/sc_harmony_report.ipynb",
         "varsUse": [
          "batch"
         ]
        },
        "scanpy": {
         "clustering": {
          "method": "leiden",
          "off": "h5ad",
          "preflight_checks": true,
          "report_ipynb": "/src/scanpy/bin/reports/sc_clustering_report.ipynb",
          "resolutions": [
           0.4,
           0.6,
           0.8,
           1.0,
           1.2,
           1.4,
           1.6,
           1.8,
           2.0
          ]
         },
         "container": "vibsinglecellnf/scanpy:0.5.2",
         "data_transformation": {
          "method": "log1p",
          "off": "h5ad"
         },
         "dim_reduction": {
          "pca": {
           "method": "pca",
           "off": "h5ad"
          },
          "report_ipynb": "/src/scanpy/bin/reports/sc_dim_reduction_report.ipynb",
          "tsne": {
           "method": "tsne",
           "off": "h5ad"
          },
          "umap": {
           "method": "umap",
           "off": "h5ad"
          }
         },
         "feature_scaling": {
          "maxSD": 10,
          "method": "zscore_scale",
          "off": "h5ad"
         },
         "feature_selection": {
          "maxMean": 3,
          "method": "mean_disp_plot",
          "minDisp": 0.5,
          "minMean": 0.0125,
          "off": "h5ad",
          "report_ipynb": "/src/scanpy/bin/reports/sc_select_variable_genes_report.ipynb"
         },
         "filter": {
          "cellFilterMaxNGenes": {
           "PBMCmix_1": 5500,
           "PBMCmix_2": 5000,
           "PBMCmix_3": 3500
          },
          "cellFilterMaxPercentMito": {
           "PBMCmix_1": 0.2,
           "PBMCmix_2": 0.18,
           "PBMCmix_3": 0.2
          },
          "cellFilterMinNCounts": 2000,
          "cellFilterMinNGenes": 200,
          "cellFilterStrategy": "fixedthresholds",
          "geneFilterMinNCells": 3,
          "off": "h5ad",
          "outdir": "out",
          "report_ipynb": "/src/scanpy/bin/reports/sc_filter_qc_report.ipynb"
         },
         "marker_genes": {
          "groupby": "louvain",
          "method": "wilcoxon",
          "ngenes": 0,
          "off": "h5ad"
         },
         "neighborhood_graph": {
          "off": "h5ad"
         },
         "normalization": {
          "countsPerCellAfter": 10000,
          "method": "cpx",
          "off": "h5ad"
         },
         "report": {
          "annotations_to_plot": []
         }
        },
        "scope": {
         "genome": "",
         "tree": {
          "level_1": "scATAC-seq_Benchmark",
          "level_2": "RNA",
          "level_3": ""
         }
        }
       },
       "utils": {
        "container": "vibsinglecellnf/utils:0.4.0",
        "publish": {
         "annotateWithBatchVariableName": false,
         "compressionLevel": 6,
         "mode": "copy"
        }
       }
      },
      "text/plain": [
       "<IPython.core.display.JSON object>"
      ]
     },
     "execution_count": 4,
     "metadata": {
      "application/json": {
       "expanded": false,
       "root": "root"
      }
     },
     "output_type": "execute_result"
    }
   ],
   "source": [
    "JSON(json.loads(WORKFLOW_PARAMETERS))"
   ]
  }
 ],
 "metadata": {
  "kernelspec": {
   "display_name": "Python 3",
   "language": "python",
   "name": "python3"
  },
  "language_info": {
   "codemirror_mode": {
    "name": "ipython",
    "version": 3
   },
   "file_extension": ".py",
   "mimetype": "text/x-python",
   "name": "python",
   "nbconvert_exporter": "python",
   "pygments_lexer": "ipython3",
   "version": "3.7.9"
  },
  "papermill": {
   "default_parameters": {},
   "duration": 2.057625,
   "end_time": "2021-07-01T11:52:43.345782",
   "environment_variables": {},
   "exception": null,
   "input_path": "workflow_configuration_template.ipynb",
   "output_path": "workflow_configuration_report.ipynb",
   "parameters": {
    "WORKFLOW_MANIFEST": "{\"doi\":null,\"nextflowVersion\":\"!>=20.10.0\",\"defaultBranch\":\"master\",\"version\":\"0.25.0\",\"homePage\":\"https://github.com/vib-singlecell-nf/vsn-pipelines\",\"gitmodules\":null,\"description\":\"A repository of pipelines for single-cell data in Nextflow DSL2\",\"recurseSubmodules\":false,\"name\":\"vib-singlecell-nf/vsn-pipelines\",\"mainScript\":\"main.nf\",\"author\":null}",
    "WORKFLOW_PARAMETERS": "{\"global\":{\"project_name\":\"CNAG_10x_RNA\",\"outdir\":\"out\",\"species\":\"human\",\"seed\":250,\"genome\":{\"assembly\":\"hg38\"}},\"misc\":{\"test\":{\"enabled\":false},\"manifestAsJSON\":\"{\\\"doi\\\":null,\\\"nextflowVersion\\\":\\\"!>=20.10.0\\\",\\\"defaultBranch\\\":\\\"master\\\",\\\"version\\\":\\\"0.25.0\\\",\\\"homePage\\\":\\\"https://github.com/vib-singlecell-nf/vsn-pipelines\\\",\\\"gitmodules\\\":null,\\\"description\\\":\\\"A repository of pipelines for single-cell data in Nextflow DSL2\\\",\\\"recurseSubmodules\\\":false,\\\"name\\\":\\\"vib-singlecell-nf/vsn-pipelines\\\",\\\"mainScript\\\":\\\"main.nf\\\",\\\"author\\\":null}\"},\"utils\":{\"container\":\"vibsinglecellnf/utils:0.4.0\",\"publish\":{\"compressionLevel\":6,\"annotateWithBatchVariableName\":false,\"mode\":\"copy\"}},\"sc\":{\"file_converter\":{\"off\":\"h5ad\",\"tagCellWithSampleId\":true,\"remove10xGEMWell\":false,\"useFilteredMatrix\":true,\"makeVarIndexUnique\":false},\"file_concatenator\":{\"join\":\"outer\",\"off\":\"h5ad\"},\"scanpy\":{\"container\":\"vibsinglecellnf/scanpy:0.5.2\",\"report\":{\"annotations_to_plot\":[]},\"feature_selection\":{\"report_ipynb\":\"/src/scanpy/bin/reports/sc_select_variable_genes_report.ipynb\",\"method\":\"mean_disp_plot\",\"minMean\":0.0125,\"maxMean\":3,\"minDisp\":0.5,\"off\":\"h5ad\"},\"feature_scaling\":{\"method\":\"zscore_scale\",\"maxSD\":10,\"off\":\"h5ad\"},\"neighborhood_graph\":{\"off\":\"h5ad\"},\"dim_reduction\":{\"report_ipynb\":\"/src/scanpy/bin/reports/sc_dim_reduction_report.ipynb\",\"pca\":{\"method\":\"pca\",\"off\":\"h5ad\"},\"umap\":{\"method\":\"umap\",\"off\":\"h5ad\"},\"tsne\":{\"method\":\"tsne\",\"off\":\"h5ad\"}},\"clustering\":{\"preflight_checks\":true,\"report_ipynb\":\"/src/scanpy/bin/reports/sc_clustering_report.ipynb\",\"method\":\"leiden\",\"resolutions\":[0.4,0.6,0.8,1.0,1.2,1.4,1.6,1.8,2.0],\"off\":\"h5ad\"},\"marker_genes\":{\"method\":\"wilcoxon\",\"ngenes\":0,\"groupby\":\"louvain\",\"off\":\"h5ad\"},\"filter\":{\"report_ipynb\":\"/src/scanpy/bin/reports/sc_filter_qc_report.ipynb\",\"cellFilterStrategy\":\"fixedthresholds\",\"cellFilterMinNCounts\":2000,\"cellFilterMinNGenes\":200,\"cellFilterMaxNGenes\":{\"PBMCmix_1\":5500,\"PBMCmix_2\":5000,\"PBMCmix_3\":3500},\"cellFilterMaxPercentMito\":{\"PBMCmix_1\":0.20,\"PBMCmix_2\":0.18,\"PBMCmix_3\":0.20},\"geneFilterMinNCells\":3,\"off\":\"h5ad\",\"outdir\":\"out\"},\"data_transformation\":{\"method\":\"log1p\",\"off\":\"h5ad\"},\"normalization\":{\"method\":\"cpx\",\"countsPerCellAfter\":10000,\"off\":\"h5ad\"}},\"harmony\":{\"container\":\"vibsinglecellnf/harmony:1.0-1\",\"report_ipynb\":\"/src/harmony/bin/reports/sc_harmony_report.ipynb\",\"varsUse\":[\"batch\"]},\"scope\":{\"genome\":\"\",\"tree\":{\"level_1\":\"scATAC-seq_Benchmark\",\"level_2\":\"RNA\",\"level_3\":\"\"}},\"cell_annotate\":{\"off\":\"h5ad\",\"method\":\"aio\",\"cellMetaDataFilePath\":\"/staging/leuven/stg_00002/lcb/cflerin/analysis/pbmc_atac/analysis2/scRNA/cell_type_classification/seruat/CNAG_RNA_cell_type_seurat.txt\",\"sampleSuffixWithExtension\":\"\",\"indexColumnName\":\"composite_sample_id\",\"sampleColumnName\":\"sample_id\",\"annotationColumnNames\":[\"cell_type\",\"cell_type_pred_score\",\"cell_type_hiconf_70\"]}},\"data\":{\"tenx\":{\"cellranger_mex\":\"/staging/leuven/stg_00002/lcb/lcb_projects/BAP/data_unsorted/scRNA/SCGRES_13/cellranger/*/outs\"}},\"pcacv\":{\"container\":\"vibsinglecellnf/pcacv:0.2.0\",\"find_optimal_npcs\":{\"accessor\":\"@assays$RNA@scale.data\"}}}"
   },
   "start_time": "2021-07-01T11:52:41.288157",
   "version": "2.2.2"
  }
 },
 "nbformat": 4,
 "nbformat_minor": 4
}