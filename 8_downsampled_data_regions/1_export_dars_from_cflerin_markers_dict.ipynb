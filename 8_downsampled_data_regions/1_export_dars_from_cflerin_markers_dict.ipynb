{
 "cells": [
  {
   "cell_type": "markdown",
   "id": "7376378b",
   "metadata": {},
   "source": [
    "# pycisTopic analysis\n",
    "\n",
    "Full dataset, using consensus peak regions."
   ]
  },
  {
   "cell_type": "code",
   "execution_count": 1,
   "id": "26b65f9a",
   "metadata": {},
   "outputs": [
    {
     "data": {
      "text/plain": [
       "'0.1.dev300+g7494158'"
      ]
     },
     "execution_count": 1,
     "metadata": {},
     "output_type": "execute_result"
    }
   ],
   "source": [
    "import pycisTopic\n",
    "pycisTopic.__version__"
   ]
  },
  {
   "cell_type": "code",
   "execution_count": 2,
   "id": "ac9523e3",
   "metadata": {},
   "outputs": [],
   "source": [
    "import warnings\n",
    "warnings.filterwarnings('ignore')\n",
    "warnings.simplefilter('ignore')"
   ]
  },
  {
   "cell_type": "code",
   "execution_count": 3,
   "id": "07a64346",
   "metadata": {},
   "outputs": [],
   "source": [
    "import pickle\n",
    "import pandas as pd\n",
    "import os"
   ]
  },
  {
   "cell_type": "code",
   "execution_count": 4,
   "id": "0b7a3d73",
   "metadata": {},
   "outputs": [
    {
     "name": "stdout",
     "output_type": "stream",
     "text": [
      "Loading /staging/leuven/stg_00002/lcb/cflerin/analysis/pbmc_atac/analysis2/data_freeze_Jun2021_library_downsampled/atac_qc_multiplet_merged/jupyter/downstream_analysis/markers_dict.pkl\n"
     ]
    }
   ],
   "source": [
    "f_out = '/staging/leuven/stg_00002/lcb/cflerin/analysis/pbmc_atac/analysis2/data_freeze_Jun2021_library_downsampled/atac_qc_multiplet_merged/jupyter/downstream_analysis/markers_dict.pkl'\n",
    "if os.path.isfile(f_out):\n",
    "    print(f\"Loading {f_out}\")\n",
    "    with open(f_out, 'rb') as f:\n",
    "        markers_dict_dict = pickle.load(f)\n",
    "else:\n",
    "    with open(f_out, 'wb') as f:\n",
    "        pickle.dump(markers_dict_dict, f)"
   ]
  },
  {
   "cell_type": "code",
   "execution_count": 6,
   "id": "bdcc35f3",
   "metadata": {},
   "outputs": [],
   "source": [
    "for key in markers_dict_dict.keys():\n",
    "    for x in markers_dict_dict[key].keys():\n",
    "        markers = markers_dict_dict[key][x].index.tolist()\n",
    "        df = pd.DataFrame(markers)\n",
    "        df[[0,1]] = df[0].str.split(':',expand=True)\n",
    "        df[[1,2]] = df[1].str.split('-',expand=True)\n",
    "        df[3] = markers_dict_dict[key][x].index.tolist()\n",
    "        df[3] = x.replace(' ', '_')# + '_' + df[3].astype(str)\n",
    "        score = markers_dict_dict[key][x]['Log2FC']\n",
    "        score = score.reset_index(drop=True)\n",
    "        df[4] = score\n",
    "        df[5] = '.'\n",
    "        pval = markers_dict_dict[key][x]['Adjusted_pval']\n",
    "        pval = pval.reset_index(drop=True)\n",
    "        df[6] = pval\n",
    "        name = x.replace(' ', '_')\n",
    "        # name = name.replace('/', '-')\n",
    "        df.to_csv('/lustre1/project/stg_00002/lcb/fderop/data/20211105_hca_benchmark_libds_region_repository/libds_bcell_dars_from_pkl/libds__'+key + '__'+name.replace(' ', '_')+'__DARs.bed', sep='\\t', header=False, index=False)\n",
    "        df[0:2000].to_csv('/lustre1/project/stg_00002/lcb/fderop/data/20211105_hca_benchmark_libds_region_repository/libds_bcell_dars_from_pkl/libds__'+key + '__'+name.replace(' ', '_')+'__DARs.TOP2K.bed', sep='\\t', header=False, index=False)"
   ]
  },
  {
   "cell_type": "markdown",
   "id": "413d2f38",
   "metadata": {},
   "source": [
    "and then change Broad_ to Harvard_ and Broad_mito_ to Broad_"
   ]
  },
  {
   "cell_type": "code",
   "execution_count": null,
   "id": "ddd924e3",
   "metadata": {},
   "outputs": [],
   "source": []
  },
  {
   "cell_type": "code",
   "execution_count": null,
   "id": "84a8a56d",
   "metadata": {},
   "outputs": [],
   "source": []
  },
  {
   "cell_type": "code",
   "execution_count": null,
   "id": "d1147213",
   "metadata": {},
   "outputs": [],
   "source": []
  },
  {
   "cell_type": "code",
   "execution_count": null,
   "id": "50548c0c",
   "metadata": {},
   "outputs": [],
   "source": []
  },
  {
   "cell_type": "code",
   "execution_count": null,
   "id": "df8f720e",
   "metadata": {},
   "outputs": [],
   "source": []
  }
 ],
 "metadata": {
  "kernelspec": {
   "display_name": "pycisTopic_singularity_20210921",
   "language": "python",
   "name": "pycistopic_singularity"
  },
  "language_info": {
   "codemirror_mode": {
    "name": "ipython",
    "version": 3
   },
   "file_extension": ".py",
   "mimetype": "text/x-python",
   "name": "python",
   "nbconvert_exporter": "python",
   "pygments_lexer": "ipython3",
   "version": "3.8.6"
  }
 },
 "nbformat": 4,
 "nbformat_minor": 5
}
