{
 "cells": [
  {
   "cell_type": "markdown",
   "id": "0c5095f8",
   "metadata": {},
   "source": [
    "# get all the peak files"
   ]
  },
  {
   "cell_type": "code",
   "execution_count": 4,
   "id": "645a0a34",
   "metadata": {},
   "outputs": [
    {
     "name": "stdout",
     "output_type": "stream",
     "text": [
      "/lustre1/project/stg_00002/lcb/cflerin/analysis/pbmc_atac/analysis2/data_freeze_Jun2021_library_downsampled/atac_qc_multiplet_merged/jupyter/consensus_peak_calling/Broad_1/Broad_1__consensus_regions.bed\n",
      "/lustre1/project/stg_00002/lcb/cflerin/analysis/pbmc_atac/analysis2/data_freeze_Jun2021_library_downsampled/atac_qc_multiplet_merged/jupyter/consensus_peak_calling/Broad_2/Broad_2__consensus_regions.bed\n",
      "/lustre1/project/stg_00002/lcb/cflerin/analysis/pbmc_atac/analysis2/data_freeze_Jun2021_library_downsampled/atac_qc_multiplet_merged/jupyter/consensus_peak_calling/Broad_mito_1/Broad_mito_1__consensus_regions.bed\n",
      "/lustre1/project/stg_00002/lcb/cflerin/analysis/pbmc_atac/analysis2/data_freeze_Jun2021_library_downsampled/atac_qc_multiplet_merged/jupyter/consensus_peak_calling/Broad_mito_2/Broad_mito_2__consensus_regions.bed\n",
      "/lustre1/project/stg_00002/lcb/cflerin/analysis/pbmc_atac/analysis2/data_freeze_Jun2021_library_downsampled/atac_qc_multiplet_merged/jupyter/consensus_peak_calling/CNAG_1/CNAG_1__consensus_regions.bed\n",
      "/lustre1/project/stg_00002/lcb/cflerin/analysis/pbmc_atac/analysis2/data_freeze_Jun2021_library_downsampled/atac_qc_multiplet_merged/jupyter/consensus_peak_calling/CNAG_2/CNAG_2__consensus_regions.bed\n",
      "/lustre1/project/stg_00002/lcb/cflerin/analysis/pbmc_atac/analysis2/data_freeze_Jun2021_library_downsampled/atac_qc_multiplet_merged/jupyter/consensus_peak_calling/Sanger_1/Sanger_1__consensus_regions.bed\n",
      "/lustre1/project/stg_00002/lcb/cflerin/analysis/pbmc_atac/analysis2/data_freeze_Jun2021_library_downsampled/atac_qc_multiplet_merged/jupyter/consensus_peak_calling/Sanger_2/Sanger_2__consensus_regions.bed\n",
      "/lustre1/project/stg_00002/lcb/cflerin/analysis/pbmc_atac/analysis2/data_freeze_Jun2021_library_downsampled/atac_qc_multiplet_merged/jupyter/consensus_peak_calling/Stanford_1/Stanford_1__consensus_regions.bed\n",
      "/lustre1/project/stg_00002/lcb/cflerin/analysis/pbmc_atac/analysis2/data_freeze_Jun2021_library_downsampled/atac_qc_multiplet_merged/jupyter/consensus_peak_calling/Stanford_2/Stanford_2__consensus_regions.bed\n",
      "/lustre1/project/stg_00002/lcb/cflerin/analysis/pbmc_atac/analysis2/data_freeze_Jun2021_library_downsampled/atac_qc_multiplet_merged/jupyter/consensus_peak_calling/VIB_1/VIB_1__consensus_regions.bed\n",
      "/lustre1/project/stg_00002/lcb/cflerin/analysis/pbmc_atac/analysis2/data_freeze_Jun2021_library_downsampled/atac_qc_multiplet_merged/jupyter/consensus_peak_calling/VIB_2/VIB_2__consensus_regions.bed\n",
      "/lustre1/project/stg_00002/lcb/cflerin/analysis/pbmc_atac/analysis2/data_freeze_Jun2021_library_downsampled/atac_qc_multiplet_merged/jupyter/consensus_peak_calling/merged/merged__consensus_regions.bed\n",
      "/lustre1/project/stg_00002/lcb/cflerin/analysis/pbmc_atac/analysis2/data_freeze_Jun2021_library_downsampled/atac_qc_multiplet_merged/jupyter/consensus_peak_calling/s3atac/s3atac__consensus_regions.bed\n"
     ]
    }
   ],
   "source": [
    "ls /lustre1/project/stg_00002/lcb/cflerin/analysis/pbmc_atac/analysis2/data_freeze_Jun2021_library_downsampled/atac_qc_multiplet_merged/jupyter/consensus_peak_calling/*/*__consensus_regions.bed"
   ]
  },
  {
   "cell_type": "code",
   "execution_count": 5,
   "id": "14cdd89e",
   "metadata": {},
   "outputs": [
    {
     "name": "stdout",
     "output_type": "stream",
     "text": [
      "Broad_1__consensus_regions.bed\n",
      "Broad_2__consensus_regions.bed\n",
      "Broad_mito_1__consensus_regions.bed\n",
      "Broad_mito_2__consensus_regions.bed\n",
      "CNAG_1__consensus_regions.bed\n",
      "CNAG_2__consensus_regions.bed\n",
      "Sanger_1__consensus_regions.bed\n",
      "Sanger_2__consensus_regions.bed\n",
      "Stanford_1__consensus_regions.bed\n",
      "Stanford_2__consensus_regions.bed\n",
      "VIB_1__consensus_regions.bed\n",
      "VIB_2__consensus_regions.bed\n",
      "merged__consensus_regions.bed\n",
      "s3atac__consensus_regions.bed\n"
     ]
    }
   ],
   "source": [
    "mkdir libds_peaks\n",
    "for file in /lustre1/project/stg_00002/lcb/cflerin/analysis/pbmc_atac/analysis2/data_freeze_Jun2021_library_downsampled/atac_qc_multiplet_merged/jupyter/consensus_peak_calling/*/*__consensus_regions.bed\n",
    "do\n",
    "    name=${file#/lustre1/project/stg_00002/lcb/cflerin/analysis/pbmc_atac/analysis2/data_freeze_Jun2021_library_downsampled/atac_qc_multiplet_merged/jupyter/consensus_peak_calling/*/}\n",
    "    # name=${name%__consensus_regions.bed}\n",
    "    echo $name\n",
    "    ln -s $file libds_peaks/${name}\n",
    "done\n",
    "rm libds_peaks/*merged* # because that merged file is no longer relevant"
   ]
  },
  {
   "cell_type": "markdown",
   "id": "97e6ade8",
   "metadata": {},
   "source": [
    "remove the `merged` because it's not relevant anymore. rename broad_1 and broad_2 to harvard, and rename broad_mito to broad. rename s3atac to OHSU. do same for hydrop samples:"
   ]
  },
  {
   "cell_type": "code",
   "execution_count": 6,
   "id": "2b0c022a",
   "metadata": {},
   "outputs": [
    {
     "name": "stdout",
     "output_type": "stream",
     "text": [
      "VIB_Hydrop_1__consensus_regions.bed\n",
      "VIB_Hydrop_2__consensus_regions.bed\n"
     ]
    }
   ],
   "source": [
    "for file in /lustre1/project/stg_00002/lcb/fderop/data/20211013_hca_benchmark_libds_singles/pycistopic_screen/consensus_peak_calling/*/*__consensus_regions.bed\n",
    "do\n",
    "    name=${file#/lustre1/project/stg_00002/lcb/fderop/data/20211013_hca_benchmark_libds_singles/pycistopic_screen/consensus_peak_calling/*/}\n",
    "    # name=${name%__consensus_regions.bed}\n",
    "    echo $name\n",
    "    ln -s $file libds_peaks/${name}\n",
    "done"
   ]
  },
  {
   "cell_type": "code",
   "execution_count": 7,
   "id": "fee538fa",
   "metadata": {},
   "outputs": [
    {
     "name": "stdout",
     "output_type": "stream",
     "text": [
      "libds_merged__consensus_regions.bed\n"
     ]
    }
   ],
   "source": [
    "for file in /lustre1/project/stg_00002/lcb/fderop/data/20211024_hca_benchmark_libds_merged/pycistopic_screen/consensus_peak_calling/*/*__consensus_regions.bed\n",
    "do\n",
    "    name=${file#/lustre1/project/stg_00002/lcb/fderop/data/20211024_hca_benchmark_libds_merged/pycistopic_screen/consensus_peak_calling/*/}\n",
    "    # name=${name%__consensus_regions.bed}\n",
    "    echo $name\n",
    "    ln -s $file libds_peaks/${name}\n",
    "done"
   ]
  },
  {
   "cell_type": "code",
   "execution_count": 8,
   "id": "d095f0f7",
   "metadata": {},
   "outputs": [
    {
     "name": "stdout",
     "output_type": "stream",
     "text": [
      "\u001b[0m\u001b[01;36mBroad_1__consensus_regions.bed\u001b[0m\n",
      "\u001b[01;36mBroad_2__consensus_regions.bed\u001b[0m\n",
      "\u001b[01;36mBroad_mito_1__consensus_regions.bed\u001b[0m\n",
      "\u001b[01;36mBroad_mito_2__consensus_regions.bed\u001b[0m\n",
      "\u001b[01;36mCNAG_1__consensus_regions.bed\u001b[0m\n",
      "\u001b[01;36mCNAG_2__consensus_regions.bed\u001b[0m\n",
      "\u001b[01;36mSanger_1__consensus_regions.bed\u001b[0m\n",
      "\u001b[01;36mSanger_2__consensus_regions.bed\u001b[0m\n",
      "\u001b[01;36mStanford_1__consensus_regions.bed\u001b[0m\n",
      "\u001b[01;36mStanford_2__consensus_regions.bed\u001b[0m\n",
      "\u001b[01;36mVIB_1__consensus_regions.bed\u001b[0m\n",
      "\u001b[01;36mVIB_2__consensus_regions.bed\u001b[0m\n",
      "\u001b[01;36mVIB_Hydrop_1__consensus_regions.bed\u001b[0m\n",
      "\u001b[01;36mVIB_Hydrop_2__consensus_regions.bed\u001b[0m\n",
      "\u001b[01;36mlibds_merged__consensus_regions.bed\u001b[0m\n",
      "\u001b[01;36ms3atac__consensus_regions.bed\u001b[0m\n"
     ]
    }
   ],
   "source": [
    "ls -1 libds_peaks"
   ]
  },
  {
   "cell_type": "markdown",
   "id": "adc261d5",
   "metadata": {},
   "source": [
    "after renaming:"
   ]
  },
  {
   "cell_type": "code",
   "execution_count": 9,
   "id": "239ba8d8",
   "metadata": {},
   "outputs": [
    {
     "name": "stdout",
     "output_type": "stream",
     "text": [
      "\u001b[0m\u001b[01;36mBroad_1__consensus_regions.bed\u001b[0m\n",
      "\u001b[01;36mBroad_2__consensus_regions.bed\u001b[0m\n",
      "\u001b[01;36mBroad_mito_1__consensus_regions.bed\u001b[0m\n",
      "\u001b[01;36mBroad_mito_2__consensus_regions.bed\u001b[0m\n",
      "\u001b[01;36mCNAG_1__consensus_regions.bed\u001b[0m\n",
      "\u001b[01;36mCNAG_2__consensus_regions.bed\u001b[0m\n",
      "\u001b[01;36mSanger_1__consensus_regions.bed\u001b[0m\n",
      "\u001b[01;36mSanger_2__consensus_regions.bed\u001b[0m\n",
      "\u001b[01;36mStanford_1__consensus_regions.bed\u001b[0m\n",
      "\u001b[01;36mStanford_2__consensus_regions.bed\u001b[0m\n",
      "\u001b[01;36mVIB_1__consensus_regions.bed\u001b[0m\n",
      "\u001b[01;36mVIB_2__consensus_regions.bed\u001b[0m\n",
      "\u001b[01;36mVIB_Hydrop_1__consensus_regions.bed\u001b[0m\n",
      "\u001b[01;36mVIB_Hydrop_2__consensus_regions.bed\u001b[0m\n",
      "\u001b[01;36mlibds_merged__consensus_regions.bed\u001b[0m\n",
      "\u001b[01;36ms3atac__consensus_regions.bed\u001b[0m\n"
     ]
    }
   ],
   "source": [
    "ls -1 libds_peaks"
   ]
  },
  {
   "cell_type": "markdown",
   "id": "9c205526",
   "metadata": {},
   "source": [
    "# get bcell peaks"
   ]
  },
  {
   "cell_type": "code",
   "execution_count": 10,
   "id": "c6056238",
   "metadata": {},
   "outputs": [
    {
     "name": "stdout",
     "output_type": "stream",
     "text": [
      "Broad_1\n",
      "Broad_2\n",
      "Broad_mito_1\n",
      "Broad_mito_2\n",
      "CNAG_1\n",
      "CNAG_2\n",
      "Sanger_1\n",
      "Sanger_2\n",
      "Stanford_1\n",
      "Stanford_2\n",
      "VIB_1\n",
      "VIB_2\n",
      "merged\n",
      "s3atac\n"
     ]
    }
   ],
   "source": [
    "mkdir libds_bcell_peaks\n",
    "for file in /lustre1/project/stg_00002/lcb/cflerin/analysis/pbmc_atac/analysis2/data_freeze_Jun2021_library_downsampled/atac_qc_multiplet_merged/jupyter/consensus_peak_calling/*/macs2/Bcell_summits.bed\n",
    "do\n",
    "    name=${file#/lustre1/project/stg_00002/lcb/cflerin/analysis/pbmc_atac/analysis2/data_freeze_Jun2021_library_downsampled/atac_qc_multiplet_merged/jupyter/consensus_peak_calling/}\n",
    "    name=${name%/macs2/*Bcell_summits.bed}\n",
    "    echo $name\n",
    "    ln -s $file libds_bcell_peaks/${name}_bcell_peaksummits.bed\n",
    "done\n",
    "rm libds_bcell_peaks/merged*"
   ]
  },
  {
   "cell_type": "markdown",
   "id": "ca783ad4",
   "metadata": {},
   "source": [
    "remove the `merged` because it's not relevant anymore. rename broad_1 and broad_2 to harvard, and rename broad_mito to broad. rename s3atac to OHSU. do same for hydrop samples:"
   ]
  },
  {
   "cell_type": "code",
   "execution_count": 11,
   "id": "224cbbbc",
   "metadata": {},
   "outputs": [
    {
     "name": "stdout",
     "output_type": "stream",
     "text": [
      "VIB_Hydrop_1\n",
      "VIB_Hydrop_2\n"
     ]
    }
   ],
   "source": [
    "for file in /lustre1/project/stg_00002/lcb/fderop/data/20211013_hca_benchmark_libds_singles/pycistopic_screen/consensus_peak_calling/*/macs2/Bcell_summits.bed\n",
    "do\n",
    "    name=${file#/lustre1/project/stg_00002/lcb/fderop/data/20211013_hca_benchmark_libds_singles/pycistopic_screen/consensus_peak_calling/}\n",
    "    name=${name%/macs2/Bcell_summits.bed}\n",
    "    echo $name\n",
    "    ln -s $file libds_bcell_peaks/${name}_bcell_peaksummits.bed\n",
    "done"
   ]
  },
  {
   "cell_type": "code",
   "execution_count": 18,
   "id": "2ace8fa6",
   "metadata": {},
   "outputs": [],
   "source": [
    "ln -s /lustre1/project/stg_00002/lcb/fderop/data/20211024_hca_benchmark_libds_merged/pycistopic_screen/consensus_peak_calling/*/macs2/Bcell_summits.bed libds_bcell_peaks/merged_bcell_peaksummits.bed"
   ]
  },
  {
   "cell_type": "code",
   "execution_count": 19,
   "id": "d73f0192",
   "metadata": {},
   "outputs": [
    {
     "name": "stdout",
     "output_type": "stream",
     "text": [
      "\u001b[0m\u001b[01;36mBroad_1_bcell_peaksummits.bed\u001b[0m\n",
      "\u001b[01;36mBroad_2_bcell_peaksummits.bed\u001b[0m\n",
      "\u001b[01;36mBroad_mito_1_bcell_peaksummits.bed\u001b[0m\n",
      "\u001b[01;36mBroad_mito_2_bcell_peaksummits.bed\u001b[0m\n",
      "\u001b[01;36mCNAG_1_bcell_peaksummits.bed\u001b[0m\n",
      "\u001b[01;36mCNAG_2_bcell_peaksummits.bed\u001b[0m\n",
      "\u001b[01;36mSanger_1_bcell_peaksummits.bed\u001b[0m\n",
      "\u001b[01;36mSanger_2_bcell_peaksummits.bed\u001b[0m\n",
      "\u001b[01;36mStanford_1_bcell_peaksummits.bed\u001b[0m\n",
      "\u001b[01;36mStanford_2_bcell_peaksummits.bed\u001b[0m\n",
      "\u001b[01;36mVIB_1_bcell_peaksummits.bed\u001b[0m\n",
      "\u001b[01;36mVIB_2_bcell_peaksummits.bed\u001b[0m\n",
      "\u001b[01;36mVIB_Hydrop_1_bcell_peaksummits.bed\u001b[0m\n",
      "\u001b[01;36mVIB_Hydrop_2_bcell_peaksummits.bed\u001b[0m\n",
      "\u001b[01;36mmerged_bcell_peaksummits.bed\u001b[0m\n",
      "\u001b[01;36ms3atac_bcell_peaksummits.bed\u001b[0m\n"
     ]
    }
   ],
   "source": [
    "ls -1 libds_bcell_peaks"
   ]
  },
  {
   "cell_type": "markdown",
   "id": "8fc21083",
   "metadata": {},
   "source": [
    "after renaming:"
   ]
  },
  {
   "cell_type": "code",
   "execution_count": 20,
   "id": "b226941b",
   "metadata": {},
   "outputs": [
    {
     "name": "stdout",
     "output_type": "stream",
     "text": [
      "\u001b[0m\u001b[01;36mBroad_1_bcell_peaksummits.bed\u001b[0m\n",
      "\u001b[01;36mBroad_2_bcell_peaksummits.bed\u001b[0m\n",
      "\u001b[01;36mBroad_mito_1_bcell_peaksummits.bed\u001b[0m\n",
      "\u001b[01;36mBroad_mito_2_bcell_peaksummits.bed\u001b[0m\n",
      "\u001b[01;36mCNAG_1_bcell_peaksummits.bed\u001b[0m\n",
      "\u001b[01;36mCNAG_2_bcell_peaksummits.bed\u001b[0m\n",
      "\u001b[01;36mSanger_1_bcell_peaksummits.bed\u001b[0m\n",
      "\u001b[01;36mSanger_2_bcell_peaksummits.bed\u001b[0m\n",
      "\u001b[01;36mStanford_1_bcell_peaksummits.bed\u001b[0m\n",
      "\u001b[01;36mStanford_2_bcell_peaksummits.bed\u001b[0m\n",
      "\u001b[01;36mVIB_1_bcell_peaksummits.bed\u001b[0m\n",
      "\u001b[01;36mVIB_2_bcell_peaksummits.bed\u001b[0m\n",
      "\u001b[01;36mVIB_Hydrop_1_bcell_peaksummits.bed\u001b[0m\n",
      "\u001b[01;36mVIB_Hydrop_2_bcell_peaksummits.bed\u001b[0m\n",
      "\u001b[01;36mmerged_bcell_peaksummits.bed\u001b[0m\n",
      "\u001b[01;36ms3atac_bcell_peaksummits.bed\u001b[0m\n"
     ]
    }
   ],
   "source": [
    "ls -1 libds_bcell_peaks"
   ]
  },
  {
   "cell_type": "markdown",
   "id": "96f9b23f",
   "metadata": {},
   "source": [
    "# get DARs"
   ]
  },
  {
   "cell_type": "code",
   "execution_count": 16,
   "id": "b22f07ad",
   "metadata": {},
   "outputs": [
    {
     "name": "stdout",
     "output_type": "stream",
     "text": [
      "\u001b[0m\u001b[01;31m/lustre1/project/stg_00002/lcb/cflerin/analysis/pbmc_atac/analysis2/data_freeze_Jun2021_library_downsampled/atac_qc_multiplet_merged/jupyter/downstream_analysis/DAR/libds__Broad_1__B_cell__DARs.txt.gz\u001b[0m\u001b[K\n",
      "\u001b[01;31m/lustre1/project/stg_00002/lcb/cflerin/analysis/pbmc_atac/analysis2/data_freeze_Jun2021_library_downsampled/atac_qc_multiplet_merged/jupyter/downstream_analysis/DAR/libds__Broad_2__B_cell__DARs.txt.gz\u001b[0m\u001b[K\n",
      "\u001b[01;31m/lustre1/project/stg_00002/lcb/cflerin/analysis/pbmc_atac/analysis2/data_freeze_Jun2021_library_downsampled/atac_qc_multiplet_merged/jupyter/downstream_analysis/DAR/libds__CNAG_1__B_cell__DARs.txt.gz\u001b[0m\u001b[K\n",
      "\u001b[01;31m/lustre1/project/stg_00002/lcb/cflerin/analysis/pbmc_atac/analysis2/data_freeze_Jun2021_library_downsampled/atac_qc_multiplet_merged/jupyter/downstream_analysis/DAR/libds__CNAG_2__B_cell__DARs.txt.gz\u001b[0m\u001b[K\n",
      "\u001b[01;31m/lustre1/project/stg_00002/lcb/cflerin/analysis/pbmc_atac/analysis2/data_freeze_Jun2021_library_downsampled/atac_qc_multiplet_merged/jupyter/downstream_analysis/DAR/libds__Harvard_1__B_cell__DARs.txt.gz\u001b[0m\u001b[K\n",
      "\u001b[01;31m/lustre1/project/stg_00002/lcb/cflerin/analysis/pbmc_atac/analysis2/data_freeze_Jun2021_library_downsampled/atac_qc_multiplet_merged/jupyter/downstream_analysis/DAR/libds__Harvard_2__B_cell__DARs.txt.gz\u001b[0m\u001b[K\n",
      "\u001b[01;31m/lustre1/project/stg_00002/lcb/cflerin/analysis/pbmc_atac/analysis2/data_freeze_Jun2021_library_downsampled/atac_qc_multiplet_merged/jupyter/downstream_analysis/DAR/libds__OHSU__B_cell__DARs.txt.gz\u001b[0m\u001b[K\n",
      "\u001b[01;31m/lustre1/project/stg_00002/lcb/cflerin/analysis/pbmc_atac/analysis2/data_freeze_Jun2021_library_downsampled/atac_qc_multiplet_merged/jupyter/downstream_analysis/DAR/libds__Sanger_1__B_cell__DARs.txt.gz\u001b[0m\u001b[K\n",
      "\u001b[01;31m/lustre1/project/stg_00002/lcb/cflerin/analysis/pbmc_atac/analysis2/data_freeze_Jun2021_library_downsampled/atac_qc_multiplet_merged/jupyter/downstream_analysis/DAR/libds__Sanger_2__B_cell__DARs.txt.gz\u001b[0m\u001b[K\n",
      "\u001b[01;31m/lustre1/project/stg_00002/lcb/cflerin/analysis/pbmc_atac/analysis2/data_freeze_Jun2021_library_downsampled/atac_qc_multiplet_merged/jupyter/downstream_analysis/DAR/libds__Stanford_1__B_cell__DARs.txt.gz\u001b[0m\u001b[K\n",
      "\u001b[01;31m/lustre1/project/stg_00002/lcb/cflerin/analysis/pbmc_atac/analysis2/data_freeze_Jun2021_library_downsampled/atac_qc_multiplet_merged/jupyter/downstream_analysis/DAR/libds__Stanford_2__B_cell__DARs.txt.gz\u001b[0m\u001b[K\n",
      "\u001b[01;31m/lustre1/project/stg_00002/lcb/cflerin/analysis/pbmc_atac/analysis2/data_freeze_Jun2021_library_downsampled/atac_qc_multiplet_merged/jupyter/downstream_analysis/DAR/libds__VIB_1__B_cell__DARs.txt.gz\u001b[0m\u001b[K\n",
      "\u001b[01;31m/lustre1/project/stg_00002/lcb/cflerin/analysis/pbmc_atac/analysis2/data_freeze_Jun2021_library_downsampled/atac_qc_multiplet_merged/jupyter/downstream_analysis/DAR/libds__VIB_2__B_cell__DARs.txt.gz\u001b[0m\u001b[K\n",
      "\u001b[01;31m/lustre1/project/stg_00002/lcb/cflerin/analysis/pbmc_atac/analysis2/data_freeze_Jun2021_library_downsampled/atac_qc_multiplet_merged/jupyter/downstream_analysis/DAR/libds__merged__B_cell__DARs.txt.gz\u001b[0m\u001b[K\n"
     ]
    }
   ],
   "source": [
    "ls /lustre1/project/stg_00002/lcb/cflerin/analysis/pbmc_atac/analysis2/data_freeze_Jun2021_library_downsampled/atac_qc_multiplet_merged/jupyter/downstream_analysis/DAR/*B_cell*"
   ]
  },
  {
   "cell_type": "code",
   "execution_count": 23,
   "id": "0d7b01cc",
   "metadata": {},
   "outputs": [
    {
     "name": "stdout",
     "output_type": "stream",
     "text": [
      "mkdir: cannot create directory ‘libds_bcell_dars’: File exists\n",
      "libds__Broad_1\n",
      "libds__Broad_2\n",
      "libds__CNAG_1\n",
      "libds__CNAG_2\n",
      "libds__Harvard_1\n",
      "libds__Harvard_2\n",
      "libds__OHSU\n",
      "libds__Sanger_1\n",
      "libds__Sanger_2\n",
      "libds__Stanford_1\n",
      "libds__Stanford_2\n",
      "libds__VIB_1\n",
      "libds__VIB_2\n",
      "libds__merged\n"
     ]
    }
   ],
   "source": [
    "mkdir libds_bcell_dars\n",
    "for file in /lustre1/project/stg_00002/lcb/cflerin/analysis/pbmc_atac/analysis2/data_freeze_Jun2021_library_downsampled/atac_qc_multiplet_merged/jupyter/downstream_analysis/DAR/*B_cell*\n",
    "do\n",
    "    name=${file#/lustre1/project/stg_00002/lcb/cflerin/analysis/pbmc_atac/analysis2/data_freeze_Jun2021_library_downsampled/atac_qc_multiplet_merged/jupyter/downstream_analysis/DAR/}\n",
    "    name=${name%__B_cell__DARs.txt.gz}\n",
    "    echo $name\n",
    "    ln -s $file libds_bcell_dars/${name}__B_cell__DARs.txt.gz\n",
    "done\n",
    "rm libds_bcell_dars/*merged*"
   ]
  },
  {
   "cell_type": "code",
   "execution_count": 27,
   "id": "c9545384",
   "metadata": {},
   "outputs": [
    {
     "name": "stdout",
     "output_type": "stream",
     "text": [
      "libds__VIB_Hydrop_1__B_cell__DARs.bed\n",
      "libds__VIB_Hydrop_2__B_cell__DARs.bed\n"
     ]
    }
   ],
   "source": [
    "for file in /lustre1/project/stg_00002/lcb/fderop/data/20211013_hca_benchmark_libds_singles/downstream_analysis/DARs/*B_cell__DARs.bed\n",
    "do\n",
    "    name=${file#/lustre1/project/stg_00002/lcb/fderop/data/20211013_hca_benchmark_libds_singles/downstream_analysis/DARs/}\n",
    "    name=${name%__B_cell__DARs.txt.gz}\n",
    "    echo $name\n",
    "    ln -s $file libds_bcell_dars/${name}__B_cell__DARs.bed\n",
    "done"
   ]
  },
  {
   "cell_type": "code",
   "execution_count": 28,
   "id": "ccbe7034",
   "metadata": {},
   "outputs": [],
   "source": [
    "ln -s /lustre1/project/stg_00002/lcb/fderop/data/20211024_hca_benchmark_libds_merged/downstream_analysis/DARs/libds__libds_merged__B_cell__DARs.bed libds_bcell_dars/libds_merged__B_cell__DARs.bed"
   ]
  },
  {
   "cell_type": "code",
   "execution_count": 30,
   "id": "d542c373",
   "metadata": {},
   "outputs": [
    {
     "name": "stdout",
     "output_type": "stream",
     "text": [
      "\u001b[0m\u001b[01;36mlibds_bcell_dars/libds__Broad_1__B_cell__DARs.txt.gz\u001b[0m\n",
      "\u001b[01;36mlibds_bcell_dars/libds__Broad_2__B_cell__DARs.txt.gz\u001b[0m\n",
      "\u001b[01;36mlibds_bcell_dars/libds__CNAG_1__B_cell__DARs.txt.gz\u001b[0m\n",
      "\u001b[01;36mlibds_bcell_dars/libds__CNAG_2__B_cell__DARs.txt.gz\u001b[0m\n",
      "\u001b[01;36mlibds_bcell_dars/libds__Harvard_1__B_cell__DARs.txt.gz\u001b[0m\n",
      "\u001b[01;36mlibds_bcell_dars/libds__Harvard_2__B_cell__DARs.txt.gz\u001b[0m\n",
      "\u001b[01;36mlibds_bcell_dars/libds__OHSU__B_cell__DARs.txt.gz\u001b[0m\n",
      "\u001b[01;36mlibds_bcell_dars/libds__Sanger_1__B_cell__DARs.txt.gz\u001b[0m\n",
      "\u001b[01;36mlibds_bcell_dars/libds__Sanger_2__B_cell__DARs.txt.gz\u001b[0m\n",
      "\u001b[01;36mlibds_bcell_dars/libds__Stanford_1__B_cell__DARs.txt.gz\u001b[0m\n",
      "\u001b[01;36mlibds_bcell_dars/libds__Stanford_2__B_cell__DARs.txt.gz\u001b[0m\n",
      "\u001b[01;36mlibds_bcell_dars/libds__VIB_1__B_cell__DARs.txt.gz\u001b[0m\n",
      "\u001b[01;36mlibds_bcell_dars/libds__VIB_2__B_cell__DARs.txt.gz\u001b[0m\n"
     ]
    }
   ],
   "source": [
    "ls libds_bcell_dars/*.gz"
   ]
  },
  {
   "cell_type": "code",
   "execution_count": 32,
   "id": "325faa20",
   "metadata": {},
   "outputs": [
    {
     "name": "stdout",
     "output_type": "stream",
     "text": [
      "libds_bcell_dars/libds__Broad_1__B_cell__DARs.txt.gz\n",
      "libds_bcell_dars/libds__Broad_2__B_cell__DARs.txt.gz\n",
      "libds_bcell_dars/libds__CNAG_1__B_cell__DARs.txt.gz\n",
      "libds_bcell_dars/libds__CNAG_2__B_cell__DARs.txt.gz\n",
      "libds_bcell_dars/libds__Harvard_1__B_cell__DARs.txt.gz\n",
      "libds_bcell_dars/libds__Harvard_2__B_cell__DARs.txt.gz\n",
      "libds_bcell_dars/libds__OHSU__B_cell__DARs.txt.gz\n",
      "libds_bcell_dars/libds__Sanger_1__B_cell__DARs.txt.gz\n",
      "libds_bcell_dars/libds__Sanger_2__B_cell__DARs.txt.gz\n",
      "libds_bcell_dars/libds__Stanford_1__B_cell__DARs.txt.gz\n",
      "libds_bcell_dars/libds__Stanford_2__B_cell__DARs.txt.gz\n",
      "libds_bcell_dars/libds__VIB_1__B_cell__DARs.txt.gz\n",
      "libds_bcell_dars/libds__VIB_2__B_cell__DARs.txt.gz\n"
     ]
    }
   ],
   "source": [
    "for file in libds_bcell_dars/*.gz\n",
    "do\n",
    "    echo $file\n",
    "    gunzip -c $file > ${file%.txt.gz}.bed\n",
    "done"
   ]
  },
  {
   "cell_type": "code",
   "execution_count": null,
   "id": "e6658d3d",
   "metadata": {},
   "outputs": [],
   "source": []
  }
 ],
 "metadata": {
  "kernelspec": {
   "display_name": "Bash",
   "language": "bash",
   "name": "bash"
  },
  "language_info": {
   "codemirror_mode": "shell",
   "file_extension": ".sh",
   "mimetype": "text/x-sh",
   "name": "bash"
  }
 },
 "nbformat": 4,
 "nbformat_minor": 5
}
