{
 "cells": [
  {
   "cell_type": "markdown",
   "id": "8e172cca",
   "metadata": {
    "papermill": {
     "duration": 0.022972,
     "end_time": "2021-10-25T17:15:55.611320",
     "exception": false,
     "start_time": "2021-10-25T17:15:55.588348",
     "status": "completed"
    },
    "tags": []
   },
   "source": [
    "# pycisTopic analysis\n",
    "\n",
    "Cell downsampled dataset, using consensus peak regions."
   ]
  },
  {
   "cell_type": "code",
   "execution_count": 2,
   "id": "249dc4c6",
   "metadata": {
    "papermill": {
     "duration": 0.041371,
     "end_time": "2021-10-25T17:15:55.672046",
     "exception": false,
     "start_time": "2021-10-25T17:15:55.630675",
     "status": "completed"
    },
    "tags": []
   },
   "outputs": [
    {
     "data": {
      "text/plain": [
       "'0.1.dev300+g7494158'"
      ]
     },
     "execution_count": 2,
     "metadata": {},
     "output_type": "execute_result"
    }
   ],
   "source": [
    "import pycisTopic\n",
    "pycisTopic.__version__"
   ]
  },
  {
   "cell_type": "code",
   "execution_count": 3,
   "id": "97fbc598",
   "metadata": {
    "papermill": {
     "duration": 0.026946,
     "end_time": "2021-10-25T17:15:55.717852",
     "exception": false,
     "start_time": "2021-10-25T17:15:55.690906",
     "status": "completed"
    },
    "tags": []
   },
   "outputs": [],
   "source": [
    "import warnings\n",
    "warnings.filterwarnings('ignore')\n",
    "warnings.simplefilter('ignore')"
   ]
  },
  {
   "cell_type": "code",
   "execution_count": 4,
   "id": "23ee7a52",
   "metadata": {
    "papermill": {
     "duration": 0.644277,
     "end_time": "2021-10-25T17:15:56.381381",
     "exception": false,
     "start_time": "2021-10-25T17:15:55.737104",
     "status": "completed"
    },
    "tags": []
   },
   "outputs": [],
   "source": [
    "import pickle\n",
    "import pandas as pd"
   ]
  },
  {
   "cell_type": "code",
   "execution_count": 5,
   "id": "7d99f345",
   "metadata": {
    "papermill": {
     "duration": 0.03013,
     "end_time": "2021-10-25T17:15:56.435471",
     "exception": false,
     "start_time": "2021-10-25T17:15:56.405341",
     "status": "completed"
    },
    "tags": []
   },
   "outputs": [],
   "source": [
    "import os\n",
    "wdir = '/lustre1/project/stg_00002/lcb/fderop/data/20211027_hca_benchmark_full_merged/'\n",
    "os.chdir( wdir )"
   ]
  },
  {
   "cell_type": "code",
   "execution_count": 6,
   "id": "29f276b8",
   "metadata": {
    "papermill": {
     "duration": 0.028905,
     "end_time": "2021-10-25T17:15:56.482761",
     "exception": false,
     "start_time": "2021-10-25T17:15:56.453856",
     "status": "completed"
    },
    "tags": []
   },
   "outputs": [
    {
     "data": {
      "text/plain": [
       "odict_keys(['Broad_1', 'Broad_2', 'Broad_mito_1', 'Broad_mito_2', 'CNAG_1', 'CNAG_2', 'Sanger_1', 'Sanger_2', 'Stanford_1', 'Stanford_2', 'VIB_1', 'VIB_2', 'VIB_Hydrop_1', 'VIB_Hydrop_2', 's3atac'])"
      ]
     },
     "execution_count": 6,
     "metadata": {},
     "output_type": "execute_result"
    }
   ],
   "source": [
    "import glob\n",
    "from collections import OrderedDict\n",
    "filenames = glob.glob('fragments_postbap/*.sinto.mm.fragments.tsv.gz')\n",
    "samples = [item.replace(\".sinto.mm.fragments.tsv.gz\", \"\") for item in filenames]\n",
    "samples = [item.replace(\"fragments_postbap/\", \"\") for item in samples]\n",
    "fragments_dict = {samples[i]: filenames[i] for i in range(len(samples))}\n",
    "fragments_dict = OrderedDict(sorted(fragments_dict.items()))\n",
    "fragments_dict.keys()"
   ]
  },
  {
   "cell_type": "code",
   "execution_count": 7,
   "id": "089f14cf",
   "metadata": {
    "papermill": {
     "duration": 0.027386,
     "end_time": "2021-10-25T17:15:56.575947",
     "exception": false,
     "start_time": "2021-10-25T17:15:56.548561",
     "status": "completed"
    },
    "tags": []
   },
   "outputs": [],
   "source": [
    "consensus_peaks_dict = {}\n",
    "for key in fragments_dict.keys():\n",
    "    consensus_peaks_dict[key] = 'pycistopic_screen/consensus_peak_calling/full_merged/full_merged__consensus_regions.bed'"
   ]
  },
  {
   "cell_type": "markdown",
   "id": "fc3851e5",
   "metadata": {
    "papermill": {
     "duration": 0.018514,
     "end_time": "2021-10-25T17:15:56.613195",
     "exception": false,
     "start_time": "2021-10-25T17:15:56.594681",
     "status": "completed"
    },
    "tags": []
   },
   "source": [
    "## Create the cisTopic objects for each sample"
   ]
  },
  {
   "cell_type": "code",
   "execution_count": 8,
   "id": "8cce3a6f",
   "metadata": {
    "papermill": {
     "duration": 39.044106,
     "end_time": "2021-10-25T17:16:35.675715",
     "exception": false,
     "start_time": "2021-10-25T17:15:56.631609",
     "status": "completed"
    },
    "tags": []
   },
   "outputs": [],
   "source": [
    "f_qc_dir = 'pycistopic_consensus/qc__consensus_peaks'\n",
    "\n",
    "with open(os.path.join(wdir, f_qc_dir, 'metadata.pickle'), 'rb') as f:\n",
    "    metadata_bc_dict = pickle.load(f)\n",
    "    \n",
    "with open(os.path.join(wdir, f_qc_dir, 'profile_data.pickle'), 'rb') as f:\n",
    "    profile_data_dict = pickle.load(f)"
   ]
  },
  {
   "cell_type": "markdown",
   "id": "64e198e0",
   "metadata": {
    "papermill": {
     "duration": 0.01906,
     "end_time": "2021-10-25T17:16:35.715861",
     "exception": false,
     "start_time": "2021-10-25T17:16:35.696801",
     "status": "completed"
    },
    "tags": []
   },
   "source": [
    "# use metadata tsvs to filter out our original cells"
   ]
  },
  {
   "cell_type": "code",
   "execution_count": 9,
   "id": "078aac87",
   "metadata": {
    "papermill": {
     "duration": 0.235342,
     "end_time": "2021-10-25T17:16:35.969884",
     "exception": false,
     "start_time": "2021-10-25T17:16:35.734542",
     "status": "completed"
    },
    "tags": []
   },
   "outputs": [],
   "source": [
    "metadata_dict = {}\n",
    "for key in fragments_dict.keys():\n",
    "    f_meta = os.path.join('/lustre1/project/stg_00002/lcb/fderop/data/20211008_hca_benchmark_full_singles/pycistopic_screen',key+'_cell_data.tsv')\n",
    "    metadata_dict[key] = pd.read_csv(f_meta, index_col=0, header=0, sep='\\t')"
   ]
  },
  {
   "cell_type": "code",
   "execution_count": 10,
   "id": "f5537a9d",
   "metadata": {
    "papermill": {
     "duration": 0.035199,
     "end_time": "2021-10-25T17:16:36.024872",
     "exception": false,
     "start_time": "2021-10-25T17:16:35.989673",
     "status": "completed"
    },
    "tags": []
   },
   "outputs": [],
   "source": [
    "bc_passing_filters = {}\n",
    "for key in metadata_dict.keys():\n",
    "    bc_passing_filters[key] = list(metadata_dict[key]['barcode'])"
   ]
  },
  {
   "cell_type": "code",
   "execution_count": 11,
   "id": "bfdb6d00",
   "metadata": {
    "papermill": {
     "duration": 0.032712,
     "end_time": "2021-10-25T17:16:36.076755",
     "exception": false,
     "start_time": "2021-10-25T17:16:36.044043",
     "status": "completed"
    },
    "tags": []
   },
   "outputs": [
    {
     "name": "stdout",
     "output_type": "stream",
     "text": [
      "Broad_1, 3921\n",
      "Broad_2, 3839\n",
      "Broad_mito_1, 3349\n",
      "Broad_mito_2, 3210\n",
      "CNAG_1, 2533\n",
      "CNAG_2, 2561\n",
      "Sanger_1, 2833\n",
      "Sanger_2, 3443\n",
      "Stanford_1, 749\n",
      "Stanford_2, 1375\n",
      "VIB_1, 2739\n",
      "VIB_2, 6937\n",
      "VIB_Hydrop_1, 2226\n",
      "VIB_Hydrop_2, 2600\n",
      "s3atac, 3045\n",
      "total cells: 45360\n"
     ]
    }
   ],
   "source": [
    "cells = 0\n",
    "for key in bc_passing_filters.keys():\n",
    "    print(f\"{key}, {len(bc_passing_filters[key])}\")\n",
    "    cells = cells + len(bc_passing_filters[key])\n",
    "print(f\"total cells: {cells}\")"
   ]
  },
  {
   "cell_type": "markdown",
   "id": "6162801a",
   "metadata": {
    "papermill": {
     "duration": 0.019591,
     "end_time": "2021-10-25T17:16:36.115734",
     "exception": false,
     "start_time": "2021-10-25T17:16:36.096143",
     "status": "completed"
    },
    "tags": []
   },
   "source": [
    "cell counts are correct. in hindsight, it would have also been possible to read in cell barcodes at the QC step!"
   ]
  },
  {
   "cell_type": "markdown",
   "id": "f30695b6",
   "metadata": {
    "papermill": {
     "duration": 0.018397,
     "end_time": "2021-10-25T17:16:36.152983",
     "exception": false,
     "start_time": "2021-10-25T17:16:36.134586",
     "status": "completed"
    },
    "tags": []
   },
   "source": [
    "# create CTOs"
   ]
  },
  {
   "cell_type": "code",
   "execution_count": 13,
   "id": "70e0c56e",
   "metadata": {
    "papermill": {
     "duration": 1.756768,
     "end_time": "2021-10-25T17:16:37.928817",
     "exception": false,
     "start_time": "2021-10-25T17:16:36.172049",
     "status": "completed"
    },
    "tags": []
   },
   "outputs": [],
   "source": [
    "from pycisTopic.cistopic_class import create_cistopic_object_from_fragments"
   ]
  },
  {
   "cell_type": "code",
   "execution_count": 14,
   "id": "0eced9f7",
   "metadata": {
    "papermill": {
     "duration": 0.028684,
     "end_time": "2021-10-25T17:16:37.977874",
     "exception": false,
     "start_time": "2021-10-25T17:16:37.949190",
     "status": "completed"
    },
    "tags": []
   },
   "outputs": [],
   "source": [
    "#path_to_regions = '/staging/leuven/stg_00002/lcb/cbravo/SCREEN_ENCODE3/V2.hg38-rDHS-Unfiltered.blacklisted.bed'\n",
    "path_to_blacklist = 'hg38_regions/hg38-blacklist.v2.bed'"
   ]
  },
  {
   "cell_type": "code",
   "execution_count": 15,
   "id": "2f54ee04",
   "metadata": {
    "papermill": {
     "duration": 0.027657,
     "end_time": "2021-10-25T17:16:38.023807",
     "exception": false,
     "start_time": "2021-10-25T17:16:37.996150",
     "status": "completed"
    },
    "tags": []
   },
   "outputs": [],
   "source": [
    "f_cto_dir = 'pycistopic_consensus/cistopic_objs__mergedconsensus'\n",
    "if not os.path.exists(os.path.join(wdir, f_cto_dir)):\n",
    "    os.makedirs(os.path.join(wdir, f_cto_dir))"
   ]
  },
  {
   "cell_type": "code",
   "execution_count": 16,
   "id": "94d73b7c",
   "metadata": {
    "papermill": {
     "duration": 2769.926573,
     "end_time": "2021-10-25T18:02:48.014814",
     "exception": false,
     "start_time": "2021-10-25T17:16:38.088241",
     "status": "completed"
    },
    "tags": []
   },
   "outputs": [
    {
     "name": "stdout",
     "output_type": "stream",
     "text": [
      "Skipping Broad_1\n",
      "Skipping Broad_2\n",
      "Skipping Broad_mito_1\n",
      "Skipping Broad_mito_2\n",
      "Skipping CNAG_1\n",
      "Skipping CNAG_2\n",
      "Skipping Sanger_1\n",
      "Skipping Sanger_2\n",
      "Skipping Stanford_1\n",
      "Skipping Stanford_2\n",
      "Skipping VIB_1\n",
      "Skipping VIB_2\n",
      "Skipping VIB_Hydrop_1\n",
      "Skipping VIB_Hydrop_2\n",
      "Skipping s3atac\n"
     ]
    }
   ],
   "source": [
    "#Create all objects\n",
    "import ray\n",
    "ray.shutdown()\n",
    "\n",
    "for key in fragments_dict.keys():\n",
    "    f_out = os.path.join(wdir, f_cto_dir, key + '__cistopic_obj_mergedconsensus.pkl')\n",
    "    if os.path.isfile(f_out):\n",
    "        print(f\"Skipping {key}\")\n",
    "        continue\n",
    "        \n",
    "    tmp_cto = create_cistopic_object_from_fragments(path_to_fragments=fragments_dict[key],\n",
    "                                                    path_to_regions=consensus_peaks_dict[key],\n",
    "                                                    path_to_blacklist=path_to_blacklist,\n",
    "                                                    metrics=metadata_bc_dict[key], # why is this greyed out\n",
    "                                                    valid_bc=bc_passing_filters[key],\n",
    "                                                    n_cpu=6,\n",
    "                                                    partition=20,\n",
    "                                                    project=key)\n",
    "    \n",
    "    with open(f_out, 'wb') as f:\n",
    "        pickle.dump(tmp_cto, f)\n",
    "    \n",
    "    print(f\"DONE {key}\")"
   ]
  },
  {
   "cell_type": "markdown",
   "id": "6fb5c008",
   "metadata": {
    "papermill": {
     "duration": 0.061612,
     "end_time": "2021-10-25T18:02:48.296288",
     "exception": false,
     "start_time": "2021-10-25T18:02:48.234676",
     "status": "completed"
    },
    "tags": []
   },
   "source": [
    "# load objects into dict:\n"
   ]
  },
  {
   "cell_type": "code",
   "execution_count": 17,
   "id": "6057549e",
   "metadata": {
    "papermill": {
     "duration": 5.807023,
     "end_time": "2021-10-25T18:02:54.163454",
     "exception": false,
     "start_time": "2021-10-25T18:02:48.356431",
     "status": "completed"
    },
    "tags": []
   },
   "outputs": [
    {
     "name": "stdout",
     "output_type": "stream",
     "text": [
      "Loaded Broad_1\n",
      "Loaded Broad_2\n",
      "Loaded Broad_mito_1\n",
      "Loaded Broad_mito_2\n",
      "Loaded CNAG_1\n",
      "Loaded CNAG_2\n",
      "Loaded Sanger_1\n",
      "Loaded Sanger_2\n",
      "Loaded Stanford_1\n",
      "Loaded Stanford_2\n",
      "Loaded VIB_1\n",
      "Loaded VIB_2\n",
      "Loaded VIB_Hydrop_1\n",
      "Loaded VIB_Hydrop_2\n",
      "Loaded s3atac\n"
     ]
    }
   ],
   "source": [
    "cistopic_obj_dict = {}\n",
    "for key in bc_passing_filters.keys():\n",
    "    f_out = os.path.join(wdir, f_cto_dir, key + '__cistopic_obj_mergedconsensus.pkl')\n",
    "    with open(f_out, 'rb') as f:\n",
    "        cistopic_obj_dict[key] = pickle.load(f)\n",
    "    print(f\"Loaded {key}\")"
   ]
  },
  {
   "cell_type": "code",
   "execution_count": 18,
   "id": "4aaef31b",
   "metadata": {
    "papermill": {
     "duration": 0.069704,
     "end_time": "2021-10-25T18:02:54.299076",
     "exception": false,
     "start_time": "2021-10-25T18:02:54.229372",
     "status": "completed"
    },
    "tags": []
   },
   "outputs": [],
   "source": [
    "import copy"
   ]
  },
  {
   "cell_type": "code",
   "execution_count": 19,
   "id": "6c9ff4c0",
   "metadata": {
    "papermill": {
     "duration": 216.268983,
     "end_time": "2021-10-25T18:06:30.629623",
     "exception": false,
     "start_time": "2021-10-25T18:02:54.360640",
     "status": "completed"
    },
    "tags": []
   },
   "outputs": [
    {
     "name": "stdout",
     "output_type": "stream",
     "text": [
      "Loading /lustre1/project/stg_00002/lcb/fderop/data/20211027_hca_benchmark_full_merged/pycistopic_consensus/cistopic_objs__mergedconsensus/full_merged__cistopic_obj_mergedconsensus.pkl\n"
     ]
    }
   ],
   "source": [
    "f_out = os.path.join(wdir, f_cto_dir, 'full_merged__cistopic_obj_mergedconsensus.pkl')\n",
    "if os.path.isfile(f_out):\n",
    "    print(f\"Loading {f_out}\")\n",
    "    with open(f_out, 'rb') as f:\n",
    "        cistopic_obj_dict['full_merged'] = pickle.load(f)\n",
    "else:\n",
    "    # merge:\n",
    "    ct_keys = list(cistopic_obj_dict.keys())\n",
    "    cto_merged = copy.copy(cistopic_obj_dict[ct_keys[0]])\n",
    "    cto_merged.merge([ cistopic_obj_dict[k] for k in ct_keys[1:] ], project='scATAC-seq_benchmark')\n",
    "    with open(f_out, 'wb') as f:\n",
    "        pickle.dump(cto_merged, f)\n",
    "    \n",
    "    cistopic_obj_dict['full_merged'] = cto_merged"
   ]
  },
  {
   "cell_type": "markdown",
   "id": "c83ffab1",
   "metadata": {
    "papermill": {
     "duration": 0.063432,
     "end_time": "2021-10-25T18:06:30.884929",
     "exception": false,
     "start_time": "2021-10-25T18:06:30.821497",
     "status": "completed"
    },
    "tags": []
   },
   "source": [
    "## Add cell annotations"
   ]
  },
  {
   "cell_type": "markdown",
   "id": "ddff0a24",
   "metadata": {
    "papermill": {
     "duration": 0.064166,
     "end_time": "2021-10-25T18:06:31.012193",
     "exception": false,
     "start_time": "2021-10-25T18:06:30.948027",
     "status": "completed"
    },
    "tags": []
   },
   "source": [
    "# load metadata from the single samples\n",
    "such as seurat cell type. this was written in notebook 5a"
   ]
  },
  {
   "cell_type": "code",
   "execution_count": 20,
   "id": "a8fad352",
   "metadata": {
    "papermill": {
     "duration": 0.099941,
     "end_time": "2021-10-25T18:06:31.176318",
     "exception": false,
     "start_time": "2021-10-25T18:06:31.076377",
     "status": "completed"
    },
    "tags": []
   },
   "outputs": [
    {
     "data": {
      "text/html": [
       "<div>\n",
       "<style scoped>\n",
       "    .dataframe tbody tr th:only-of-type {\n",
       "        vertical-align: middle;\n",
       "    }\n",
       "\n",
       "    .dataframe tbody tr th {\n",
       "        vertical-align: top;\n",
       "    }\n",
       "\n",
       "    .dataframe thead th {\n",
       "        text-align: right;\n",
       "    }\n",
       "</style>\n",
       "<table border=\"1\" class=\"dataframe\">\n",
       "  <thead>\n",
       "    <tr style=\"text-align: right;\">\n",
       "      <th></th>\n",
       "      <th>cisTopic_nr_frag</th>\n",
       "      <th>cisTopic_log_nr_frag</th>\n",
       "      <th>cisTopic_nr_acc</th>\n",
       "      <th>cisTopic_log_nr_acc</th>\n",
       "      <th>sample_id</th>\n",
       "      <th>Log_total_nr_frag</th>\n",
       "      <th>Log_unique_nr_frag</th>\n",
       "      <th>Total_nr_frag</th>\n",
       "      <th>Unique_nr_frag</th>\n",
       "      <th>Dupl_nr_frag</th>\n",
       "      <th>Dupl_rate</th>\n",
       "      <th>Total_nr_frag_in_regions</th>\n",
       "      <th>Unique_nr_frag_in_regions</th>\n",
       "      <th>FRIP</th>\n",
       "      <th>TSS_enrichment</th>\n",
       "      <th>barcode</th>\n",
       "    </tr>\n",
       "  </thead>\n",
       "  <tbody>\n",
       "    <tr>\n",
       "      <th>GGCTGGCTCTTGGCTCATATGATTCTGC-s3atac</th>\n",
       "      <td>20346</td>\n",
       "      <td>4.308479</td>\n",
       "      <td>18047</td>\n",
       "      <td>4.256405</td>\n",
       "      <td>s3atac</td>\n",
       "      <td>4.988349</td>\n",
       "      <td>4.711984</td>\n",
       "      <td>97353</td>\n",
       "      <td>51521</td>\n",
       "      <td>45832</td>\n",
       "      <td>0.470782</td>\n",
       "      <td>38048</td>\n",
       "      <td>19329</td>\n",
       "      <td>0.375167</td>\n",
       "      <td>7.676786</td>\n",
       "      <td>GGCTGGCTCTTGGCTCATATGATTCTGC</td>\n",
       "    </tr>\n",
       "    <tr>\n",
       "      <th>ACGCGACGGCGGCATAACCGGCAATGCA-s3atac</th>\n",
       "      <td>28120</td>\n",
       "      <td>4.449015</td>\n",
       "      <td>22666</td>\n",
       "      <td>4.355375</td>\n",
       "      <td>s3atac</td>\n",
       "      <td>5.062082</td>\n",
       "      <td>4.817651</td>\n",
       "      <td>115367</td>\n",
       "      <td>65713</td>\n",
       "      <td>49654</td>\n",
       "      <td>0.430400</td>\n",
       "      <td>49718</td>\n",
       "      <td>27045</td>\n",
       "      <td>0.411562</td>\n",
       "      <td>9.257202</td>\n",
       "      <td>ACGCGACGGCGGCATAACCGGCAATGCA</td>\n",
       "    </tr>\n",
       "    <tr>\n",
       "      <th>GAAGCAGCGGTGCATGGCCAGCACGGAC-s3atac</th>\n",
       "      <td>35312</td>\n",
       "      <td>4.547922</td>\n",
       "      <td>29453</td>\n",
       "      <td>4.46913</td>\n",
       "      <td>s3atac</td>\n",
       "      <td>5.306047</td>\n",
       "      <td>4.991713</td>\n",
       "      <td>202324</td>\n",
       "      <td>98110</td>\n",
       "      <td>104214</td>\n",
       "      <td>0.515085</td>\n",
       "      <td>70961</td>\n",
       "      <td>33202</td>\n",
       "      <td>0.338416</td>\n",
       "      <td>6.293275</td>\n",
       "      <td>GAAGCAGCGGTGCATGGCCAGCACGGAC</td>\n",
       "    </tr>\n",
       "    <tr>\n",
       "      <th>TGCGGCCTGGGTTCTCTCCTGCGGCACA-s3atac</th>\n",
       "      <td>122625</td>\n",
       "      <td>5.088579</td>\n",
       "      <td>86546</td>\n",
       "      <td>4.937247</td>\n",
       "      <td>s3atac</td>\n",
       "      <td>5.830076</td>\n",
       "      <td>5.596702</td>\n",
       "      <td>676201</td>\n",
       "      <td>395095</td>\n",
       "      <td>281106</td>\n",
       "      <td>0.415714</td>\n",
       "      <td>210602</td>\n",
       "      <td>118412</td>\n",
       "      <td>0.299705</td>\n",
       "      <td>4.692985</td>\n",
       "      <td>TGCGGCCTGGGTTCTCTCCTGCGGCACA</td>\n",
       "    </tr>\n",
       "    <tr>\n",
       "      <th>ATTGAGGATAAATGATGCTCTACTCATA-s3atac</th>\n",
       "      <td>85130</td>\n",
       "      <td>4.930083</td>\n",
       "      <td>64597</td>\n",
       "      <td>4.810212</td>\n",
       "      <td>s3atac</td>\n",
       "      <td>5.669796</td>\n",
       "      <td>5.382125</td>\n",
       "      <td>467516</td>\n",
       "      <td>241060</td>\n",
       "      <td>226456</td>\n",
       "      <td>0.484381</td>\n",
       "      <td>163008</td>\n",
       "      <td>81464</td>\n",
       "      <td>0.337941</td>\n",
       "      <td>4.063926</td>\n",
       "      <td>ATTGAGGATAAATGATGCTCTACTCATA</td>\n",
       "    </tr>\n",
       "    <tr>\n",
       "      <th>...</th>\n",
       "      <td>...</td>\n",
       "      <td>...</td>\n",
       "      <td>...</td>\n",
       "      <td>...</td>\n",
       "      <td>...</td>\n",
       "      <td>...</td>\n",
       "      <td>...</td>\n",
       "      <td>...</td>\n",
       "      <td>...</td>\n",
       "      <td>...</td>\n",
       "      <td>...</td>\n",
       "      <td>...</td>\n",
       "      <td>...</td>\n",
       "      <td>...</td>\n",
       "      <td>...</td>\n",
       "      <td>...</td>\n",
       "    </tr>\n",
       "    <tr>\n",
       "      <th>GGTTAGTTGGGGCATAACCGCTTATCGG-s3atac</th>\n",
       "      <td>633</td>\n",
       "      <td>2.801404</td>\n",
       "      <td>554</td>\n",
       "      <td>2.74351</td>\n",
       "      <td>s3atac</td>\n",
       "      <td>4.436608</td>\n",
       "      <td>4.179609</td>\n",
       "      <td>27328</td>\n",
       "      <td>15122</td>\n",
       "      <td>12206</td>\n",
       "      <td>0.446648</td>\n",
       "      <td>1126</td>\n",
       "      <td>608</td>\n",
       "      <td>0.040206</td>\n",
       "      <td>5.648072</td>\n",
       "      <td>GGTTAGTTGGGGCATAACCGCTTATCGG</td>\n",
       "    </tr>\n",
       "    <tr>\n",
       "      <th>ATTGAGGATAAGGCCGGCCACGCTATGT-s3atac</th>\n",
       "      <td>540</td>\n",
       "      <td>2.732394</td>\n",
       "      <td>495</td>\n",
       "      <td>2.694605</td>\n",
       "      <td>s3atac</td>\n",
       "      <td>4.330515</td>\n",
       "      <td>4.105238</td>\n",
       "      <td>21405</td>\n",
       "      <td>12742</td>\n",
       "      <td>8663</td>\n",
       "      <td>0.404719</td>\n",
       "      <td>905</td>\n",
       "      <td>530</td>\n",
       "      <td>0.041595</td>\n",
       "      <td>4.080657</td>\n",
       "      <td>ATTGAGGATAAGGCCGGCCACGCTATGT</td>\n",
       "    </tr>\n",
       "    <tr>\n",
       "      <th>GAAGAGTATTTGCATGGCCAATGTAAGT-s3atac</th>\n",
       "      <td>996</td>\n",
       "      <td>2.998259</td>\n",
       "      <td>887</td>\n",
       "      <td>2.947924</td>\n",
       "      <td>s3atac</td>\n",
       "      <td>4.530302</td>\n",
       "      <td>4.284634</td>\n",
       "      <td>33908</td>\n",
       "      <td>19259</td>\n",
       "      <td>14649</td>\n",
       "      <td>0.432022</td>\n",
       "      <td>1687</td>\n",
       "      <td>957</td>\n",
       "      <td>0.049691</td>\n",
       "      <td>5.904555</td>\n",
       "      <td>GAAGAGTATTTGCATGGCCAATGTAAGT</td>\n",
       "    </tr>\n",
       "    <tr>\n",
       "      <th>GGCTGGCTCTTGCATGGCCACGGACAAC-s3atac</th>\n",
       "      <td>711</td>\n",
       "      <td>2.85187</td>\n",
       "      <td>659</td>\n",
       "      <td>2.818885</td>\n",
       "      <td>s3atac</td>\n",
       "      <td>4.289433</td>\n",
       "      <td>4.004493</td>\n",
       "      <td>19473</td>\n",
       "      <td>10104</td>\n",
       "      <td>9369</td>\n",
       "      <td>0.481128</td>\n",
       "      <td>1366</td>\n",
       "      <td>684</td>\n",
       "      <td>0.067696</td>\n",
       "      <td>10.820000</td>\n",
       "      <td>GGCTGGCTCTTGCATGGCCACGGACAAC</td>\n",
       "    </tr>\n",
       "    <tr>\n",
       "      <th>GAAGCAGCGGCTAACCTACCATCTGCCA-s3atac</th>\n",
       "      <td>1589</td>\n",
       "      <td>3.201124</td>\n",
       "      <td>1508</td>\n",
       "      <td>3.178401</td>\n",
       "      <td>s3atac</td>\n",
       "      <td>4.250176</td>\n",
       "      <td>4.057324</td>\n",
       "      <td>17790</td>\n",
       "      <td>11411</td>\n",
       "      <td>6379</td>\n",
       "      <td>0.358572</td>\n",
       "      <td>2497</td>\n",
       "      <td>1518</td>\n",
       "      <td>0.133030</td>\n",
       "      <td>11.668809</td>\n",
       "      <td>GAAGCAGCGGCTAACCTACCATCTGCCA</td>\n",
       "    </tr>\n",
       "  </tbody>\n",
       "</table>\n",
       "<p>3045 rows × 16 columns</p>\n",
       "</div>"
      ],
      "text/plain": [
       "                                    cisTopic_nr_frag cisTopic_log_nr_frag  \\\n",
       "GGCTGGCTCTTGGCTCATATGATTCTGC-s3atac            20346             4.308479   \n",
       "ACGCGACGGCGGCATAACCGGCAATGCA-s3atac            28120             4.449015   \n",
       "GAAGCAGCGGTGCATGGCCAGCACGGAC-s3atac            35312             4.547922   \n",
       "TGCGGCCTGGGTTCTCTCCTGCGGCACA-s3atac           122625             5.088579   \n",
       "ATTGAGGATAAATGATGCTCTACTCATA-s3atac            85130             4.930083   \n",
       "...                                              ...                  ...   \n",
       "GGTTAGTTGGGGCATAACCGCTTATCGG-s3atac              633             2.801404   \n",
       "ATTGAGGATAAGGCCGGCCACGCTATGT-s3atac              540             2.732394   \n",
       "GAAGAGTATTTGCATGGCCAATGTAAGT-s3atac              996             2.998259   \n",
       "GGCTGGCTCTTGCATGGCCACGGACAAC-s3atac              711              2.85187   \n",
       "GAAGCAGCGGCTAACCTACCATCTGCCA-s3atac             1589             3.201124   \n",
       "\n",
       "                                    cisTopic_nr_acc cisTopic_log_nr_acc  \\\n",
       "GGCTGGCTCTTGGCTCATATGATTCTGC-s3atac           18047            4.256405   \n",
       "ACGCGACGGCGGCATAACCGGCAATGCA-s3atac           22666            4.355375   \n",
       "GAAGCAGCGGTGCATGGCCAGCACGGAC-s3atac           29453             4.46913   \n",
       "TGCGGCCTGGGTTCTCTCCTGCGGCACA-s3atac           86546            4.937247   \n",
       "ATTGAGGATAAATGATGCTCTACTCATA-s3atac           64597            4.810212   \n",
       "...                                             ...                 ...   \n",
       "GGTTAGTTGGGGCATAACCGCTTATCGG-s3atac             554             2.74351   \n",
       "ATTGAGGATAAGGCCGGCCACGCTATGT-s3atac             495            2.694605   \n",
       "GAAGAGTATTTGCATGGCCAATGTAAGT-s3atac             887            2.947924   \n",
       "GGCTGGCTCTTGCATGGCCACGGACAAC-s3atac             659            2.818885   \n",
       "GAAGCAGCGGCTAACCTACCATCTGCCA-s3atac            1508            3.178401   \n",
       "\n",
       "                                    sample_id  Log_total_nr_frag  \\\n",
       "GGCTGGCTCTTGGCTCATATGATTCTGC-s3atac    s3atac           4.988349   \n",
       "ACGCGACGGCGGCATAACCGGCAATGCA-s3atac    s3atac           5.062082   \n",
       "GAAGCAGCGGTGCATGGCCAGCACGGAC-s3atac    s3atac           5.306047   \n",
       "TGCGGCCTGGGTTCTCTCCTGCGGCACA-s3atac    s3atac           5.830076   \n",
       "ATTGAGGATAAATGATGCTCTACTCATA-s3atac    s3atac           5.669796   \n",
       "...                                       ...                ...   \n",
       "GGTTAGTTGGGGCATAACCGCTTATCGG-s3atac    s3atac           4.436608   \n",
       "ATTGAGGATAAGGCCGGCCACGCTATGT-s3atac    s3atac           4.330515   \n",
       "GAAGAGTATTTGCATGGCCAATGTAAGT-s3atac    s3atac           4.530302   \n",
       "GGCTGGCTCTTGCATGGCCACGGACAAC-s3atac    s3atac           4.289433   \n",
       "GAAGCAGCGGCTAACCTACCATCTGCCA-s3atac    s3atac           4.250176   \n",
       "\n",
       "                                     Log_unique_nr_frag  Total_nr_frag  \\\n",
       "GGCTGGCTCTTGGCTCATATGATTCTGC-s3atac            4.711984          97353   \n",
       "ACGCGACGGCGGCATAACCGGCAATGCA-s3atac            4.817651         115367   \n",
       "GAAGCAGCGGTGCATGGCCAGCACGGAC-s3atac            4.991713         202324   \n",
       "TGCGGCCTGGGTTCTCTCCTGCGGCACA-s3atac            5.596702         676201   \n",
       "ATTGAGGATAAATGATGCTCTACTCATA-s3atac            5.382125         467516   \n",
       "...                                                 ...            ...   \n",
       "GGTTAGTTGGGGCATAACCGCTTATCGG-s3atac            4.179609          27328   \n",
       "ATTGAGGATAAGGCCGGCCACGCTATGT-s3atac            4.105238          21405   \n",
       "GAAGAGTATTTGCATGGCCAATGTAAGT-s3atac            4.284634          33908   \n",
       "GGCTGGCTCTTGCATGGCCACGGACAAC-s3atac            4.004493          19473   \n",
       "GAAGCAGCGGCTAACCTACCATCTGCCA-s3atac            4.057324          17790   \n",
       "\n",
       "                                     Unique_nr_frag  Dupl_nr_frag  Dupl_rate  \\\n",
       "GGCTGGCTCTTGGCTCATATGATTCTGC-s3atac           51521         45832   0.470782   \n",
       "ACGCGACGGCGGCATAACCGGCAATGCA-s3atac           65713         49654   0.430400   \n",
       "GAAGCAGCGGTGCATGGCCAGCACGGAC-s3atac           98110        104214   0.515085   \n",
       "TGCGGCCTGGGTTCTCTCCTGCGGCACA-s3atac          395095        281106   0.415714   \n",
       "ATTGAGGATAAATGATGCTCTACTCATA-s3atac          241060        226456   0.484381   \n",
       "...                                             ...           ...        ...   \n",
       "GGTTAGTTGGGGCATAACCGCTTATCGG-s3atac           15122         12206   0.446648   \n",
       "ATTGAGGATAAGGCCGGCCACGCTATGT-s3atac           12742          8663   0.404719   \n",
       "GAAGAGTATTTGCATGGCCAATGTAAGT-s3atac           19259         14649   0.432022   \n",
       "GGCTGGCTCTTGCATGGCCACGGACAAC-s3atac           10104          9369   0.481128   \n",
       "GAAGCAGCGGCTAACCTACCATCTGCCA-s3atac           11411          6379   0.358572   \n",
       "\n",
       "                                     Total_nr_frag_in_regions  \\\n",
       "GGCTGGCTCTTGGCTCATATGATTCTGC-s3atac                     38048   \n",
       "ACGCGACGGCGGCATAACCGGCAATGCA-s3atac                     49718   \n",
       "GAAGCAGCGGTGCATGGCCAGCACGGAC-s3atac                     70961   \n",
       "TGCGGCCTGGGTTCTCTCCTGCGGCACA-s3atac                    210602   \n",
       "ATTGAGGATAAATGATGCTCTACTCATA-s3atac                    163008   \n",
       "...                                                       ...   \n",
       "GGTTAGTTGGGGCATAACCGCTTATCGG-s3atac                      1126   \n",
       "ATTGAGGATAAGGCCGGCCACGCTATGT-s3atac                       905   \n",
       "GAAGAGTATTTGCATGGCCAATGTAAGT-s3atac                      1687   \n",
       "GGCTGGCTCTTGCATGGCCACGGACAAC-s3atac                      1366   \n",
       "GAAGCAGCGGCTAACCTACCATCTGCCA-s3atac                      2497   \n",
       "\n",
       "                                     Unique_nr_frag_in_regions      FRIP  \\\n",
       "GGCTGGCTCTTGGCTCATATGATTCTGC-s3atac                      19329  0.375167   \n",
       "ACGCGACGGCGGCATAACCGGCAATGCA-s3atac                      27045  0.411562   \n",
       "GAAGCAGCGGTGCATGGCCAGCACGGAC-s3atac                      33202  0.338416   \n",
       "TGCGGCCTGGGTTCTCTCCTGCGGCACA-s3atac                     118412  0.299705   \n",
       "ATTGAGGATAAATGATGCTCTACTCATA-s3atac                      81464  0.337941   \n",
       "...                                                        ...       ...   \n",
       "GGTTAGTTGGGGCATAACCGCTTATCGG-s3atac                        608  0.040206   \n",
       "ATTGAGGATAAGGCCGGCCACGCTATGT-s3atac                        530  0.041595   \n",
       "GAAGAGTATTTGCATGGCCAATGTAAGT-s3atac                        957  0.049691   \n",
       "GGCTGGCTCTTGCATGGCCACGGACAAC-s3atac                        684  0.067696   \n",
       "GAAGCAGCGGCTAACCTACCATCTGCCA-s3atac                       1518  0.133030   \n",
       "\n",
       "                                     TSS_enrichment  \\\n",
       "GGCTGGCTCTTGGCTCATATGATTCTGC-s3atac        7.676786   \n",
       "ACGCGACGGCGGCATAACCGGCAATGCA-s3atac        9.257202   \n",
       "GAAGCAGCGGTGCATGGCCAGCACGGAC-s3atac        6.293275   \n",
       "TGCGGCCTGGGTTCTCTCCTGCGGCACA-s3atac        4.692985   \n",
       "ATTGAGGATAAATGATGCTCTACTCATA-s3atac        4.063926   \n",
       "...                                             ...   \n",
       "GGTTAGTTGGGGCATAACCGCTTATCGG-s3atac        5.648072   \n",
       "ATTGAGGATAAGGCCGGCCACGCTATGT-s3atac        4.080657   \n",
       "GAAGAGTATTTGCATGGCCAATGTAAGT-s3atac        5.904555   \n",
       "GGCTGGCTCTTGCATGGCCACGGACAAC-s3atac       10.820000   \n",
       "GAAGCAGCGGCTAACCTACCATCTGCCA-s3atac       11.668809   \n",
       "\n",
       "                                                          barcode  \n",
       "GGCTGGCTCTTGGCTCATATGATTCTGC-s3atac  GGCTGGCTCTTGGCTCATATGATTCTGC  \n",
       "ACGCGACGGCGGCATAACCGGCAATGCA-s3atac  ACGCGACGGCGGCATAACCGGCAATGCA  \n",
       "GAAGCAGCGGTGCATGGCCAGCACGGAC-s3atac  GAAGCAGCGGTGCATGGCCAGCACGGAC  \n",
       "TGCGGCCTGGGTTCTCTCCTGCGGCACA-s3atac  TGCGGCCTGGGTTCTCTCCTGCGGCACA  \n",
       "ATTGAGGATAAATGATGCTCTACTCATA-s3atac  ATTGAGGATAAATGATGCTCTACTCATA  \n",
       "...                                                           ...  \n",
       "GGTTAGTTGGGGCATAACCGCTTATCGG-s3atac  GGTTAGTTGGGGCATAACCGCTTATCGG  \n",
       "ATTGAGGATAAGGCCGGCCACGCTATGT-s3atac  ATTGAGGATAAGGCCGGCCACGCTATGT  \n",
       "GAAGAGTATTTGCATGGCCAATGTAAGT-s3atac  GAAGAGTATTTGCATGGCCAATGTAAGT  \n",
       "GGCTGGCTCTTGCATGGCCACGGACAAC-s3atac  GGCTGGCTCTTGCATGGCCACGGACAAC  \n",
       "GAAGCAGCGGCTAACCTACCATCTGCCA-s3atac  GAAGCAGCGGCTAACCTACCATCTGCCA  \n",
       "\n",
       "[3045 rows x 16 columns]"
      ]
     },
     "execution_count": 20,
     "metadata": {},
     "output_type": "execute_result"
    }
   ],
   "source": [
    "cistopic_obj_dict[key].cell_data"
   ]
  },
  {
   "cell_type": "code",
   "execution_count": 21,
   "id": "fecc65f5",
   "metadata": {},
   "outputs": [
    {
     "data": {
      "text/plain": [
       "{'Broad_1': <pycisTopic.cistopic_class.CistopicObject at 0x2b43afeebd90>,\n",
       " 'Broad_2': <pycisTopic.cistopic_class.CistopicObject at 0x2b43afeebdc0>,\n",
       " 'Broad_mito_1': <pycisTopic.cistopic_class.CistopicObject at 0x2b49855c6d00>,\n",
       " 'Broad_mito_2': <pycisTopic.cistopic_class.CistopicObject at 0x2b49855c6e50>,\n",
       " 'CNAG_1': <pycisTopic.cistopic_class.CistopicObject at 0x2b49855c6f70>,\n",
       " 'CNAG_2': <pycisTopic.cistopic_class.CistopicObject at 0x2b49855c68b0>,\n",
       " 'Sanger_1': <pycisTopic.cistopic_class.CistopicObject at 0x2b49855c6160>,\n",
       " 'Sanger_2': <pycisTopic.cistopic_class.CistopicObject at 0x2b44271e7df0>,\n",
       " 'Stanford_1': <pycisTopic.cistopic_class.CistopicObject at 0x2b49855c6b80>,\n",
       " 'Stanford_2': <pycisTopic.cistopic_class.CistopicObject at 0x2b499f0141f0>,\n",
       " 'VIB_1': <pycisTopic.cistopic_class.CistopicObject at 0x2b499f014310>,\n",
       " 'VIB_2': <pycisTopic.cistopic_class.CistopicObject at 0x2b499f014b50>,\n",
       " 'VIB_Hydrop_1': <pycisTopic.cistopic_class.CistopicObject at 0x2b499f014c40>,\n",
       " 'VIB_Hydrop_2': <pycisTopic.cistopic_class.CistopicObject at 0x2b499f014d90>,\n",
       " 's3atac': <pycisTopic.cistopic_class.CistopicObject at 0x2b499f014e80>,\n",
       " 'full_merged': <pycisTopic.cistopic_class.CistopicObject at 0x2b49b7dd3e20>}"
      ]
     },
     "execution_count": 21,
     "metadata": {},
     "output_type": "execute_result"
    }
   ],
   "source": [
    "cistopic_obj_dict"
   ]
  },
  {
   "cell_type": "code",
   "execution_count": 22,
   "id": "2dbe308f",
   "metadata": {
    "papermill": {
     "duration": 0.233329,
     "end_time": "2021-10-25T18:06:31.474566",
     "exception": true,
     "start_time": "2021-10-25T18:06:31.241237",
     "status": "failed"
    },
    "tags": []
   },
   "outputs": [],
   "source": [
    "keys = list(cistopic_obj_dict['full_merged'].cell_data['sample_id'].unique())"
   ]
  },
  {
   "cell_type": "code",
   "execution_count": 23,
   "id": "b769cdc8",
   "metadata": {
    "papermill": {
     "duration": null,
     "end_time": null,
     "exception": null,
     "start_time": null,
     "status": "pending"
    },
    "tags": []
   },
   "outputs": [],
   "source": [
    "metadata_dict = {}\n",
    "for key in keys:\n",
    "    f_meta = os.path.join('/lustre1/project/stg_00002/lcb/fderop/data/20211008_hca_benchmark_full_singles/pycistopic_screen',key+'_cell_data.tsv')\n",
    "    metadata_dict[key] = pd.read_csv(f_meta, index_col=0, header=0, sep='\\t')"
   ]
  },
  {
   "cell_type": "code",
   "execution_count": 24,
   "id": "318b1191",
   "metadata": {
    "papermill": {
     "duration": null,
     "end_time": null,
     "exception": null,
     "start_time": null,
     "status": "pending"
    },
    "tags": []
   },
   "outputs": [
    {
     "data": {
      "text/plain": [
       "dict_keys(['Broad_1', 'Broad_2', 'Broad_mito_1', 'Broad_mito_2', 'CNAG_1', 'CNAG_2', 'Sanger_1', 'Sanger_2', 'Stanford_1', 'Stanford_2', 'VIB_1', 'VIB_2', 'VIB_Hydrop_1', 'VIB_Hydrop_2', 's3atac'])"
      ]
     },
     "execution_count": 24,
     "metadata": {},
     "output_type": "execute_result"
    }
   ],
   "source": [
    "metadata_dict.keys()"
   ]
  },
  {
   "cell_type": "code",
   "execution_count": 25,
   "id": "63942d62",
   "metadata": {
    "papermill": {
     "duration": null,
     "end_time": null,
     "exception": null,
     "start_time": null,
     "status": "pending"
    },
    "tags": []
   },
   "outputs": [],
   "source": [
    "df_meta = pd.DataFrame()\n",
    "for key in metadata_dict.keys():\n",
    "    df_meta = pd.concat([df_meta, metadata_dict[key]], axis=0)"
   ]
  },
  {
   "cell_type": "code",
   "execution_count": 26,
   "id": "0dc9de73",
   "metadata": {
    "papermill": {
     "duration": null,
     "end_time": null,
     "exception": null,
     "start_time": null,
     "status": "pending"
    },
    "tags": []
   },
   "outputs": [],
   "source": [
    "cistopic_obj_dict['full_merged'].cell_data['seurat_cell_type'] = df_meta['seurat_cell_type']\n",
    "cistopic_obj_dict['full_merged'].cell_data['consensus_cell_type'] = df_meta['consensus_cell_type']"
   ]
  },
  {
   "cell_type": "markdown",
   "id": "7a7b8fe9",
   "metadata": {
    "papermill": {
     "duration": null,
     "end_time": null,
     "exception": null,
     "start_time": null,
     "status": "pending"
    },
    "tags": []
   },
   "source": [
    "# save ctos"
   ]
  },
  {
   "cell_type": "code",
   "execution_count": null,
   "id": "2a6f36e9",
   "metadata": {
    "papermill": {
     "duration": null,
     "end_time": null,
     "exception": null,
     "start_time": null,
     "status": "pending"
    },
    "tags": []
   },
   "outputs": [
    {
     "name": "stdout",
     "output_type": "stream",
     "text": [
      "Generated and saved cistopic object for Broad_1\n",
      "Generated and saved cistopic object for Broad_2\n",
      "Generated and saved cistopic object for Broad_mito_1\n",
      "Generated and saved cistopic object for Broad_mito_2\n",
      "Generated and saved cistopic object for CNAG_1\n",
      "Generated and saved cistopic object for CNAG_2\n",
      "Generated and saved cistopic object for Sanger_1\n",
      "Generated and saved cistopic object for Sanger_2\n",
      "Generated and saved cistopic object for Stanford_1\n",
      "Generated and saved cistopic object for Stanford_2\n",
      "Generated and saved cistopic object for VIB_1\n",
      "Generated and saved cistopic object for VIB_2\n",
      "Generated and saved cistopic object for VIB_Hydrop_1\n"
     ]
    }
   ],
   "source": [
    "f_cto_dir = 'pycistopic_consensus_peaks/cistopic_objs__mergedconsensus'\n",
    "\n",
    "if not os.path.exists(os.path.join(wdir, f_cto_dir)):\n",
    "    os.makedirs(os.path.join(wdir, f_cto_dir))\n",
    "\n",
    "for key in cistopic_obj_dict.keys():\n",
    "    f_out = os.path.join(wdir, f_cto_dir, key + '__cistopic_obj_mergedconsensus_metadata_annotated.pkl')\n",
    "    if os.path.isfile(f_out):\n",
    "        print(f\"Skipping {key}, already exists\")\n",
    "        continue\n",
    "    with open(f_out, 'wb') as f:\n",
    "        pickle.dump(cistopic_obj_dict[key], f)\n",
    "    print(f\"Generated and saved cistopic object for {key}\")"
   ]
  }
 ],
 "metadata": {
  "kernelspec": {
   "display_name": "pycisTopic_singularity_20210921",
   "language": "python",
   "name": "pycistopic_singularity"
  },
  "language_info": {
   "codemirror_mode": {
    "name": "ipython",
    "version": 3
   },
   "file_extension": ".py",
   "mimetype": "text/x-python",
   "name": "python",
   "nbconvert_exporter": "python",
   "pygments_lexer": "ipython3",
   "version": "3.8.6"
  },
  "papermill": {
   "default_parameters": {},
   "duration": 3046.161803,
   "end_time": "2021-10-25T18:06:37.984009",
   "environment_variables": {},
   "exception": true,
   "input_path": "4b_create_merged_cto_consensus.ipynb",
   "output_path": "4b_create_merged_cto_consensus.OUT.ipynb",
   "parameters": {},
   "start_time": "2021-10-25T17:15:51.822206",
   "version": "2.3.3"
  }
 },
 "nbformat": 4,
 "nbformat_minor": 5
}
