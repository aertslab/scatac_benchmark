{
 "cells": [
  {
   "cell_type": "code",
   "execution_count": 1,
   "id": "08b6a3af",
   "metadata": {
    "execution": {
     "iopub.execute_input": "2021-12-01T17:39:07.927201Z",
     "iopub.status.busy": "2021-12-01T17:39:07.926815Z",
     "iopub.status.idle": "2021-12-01T17:39:07.937805Z",
     "shell.execute_reply": "2021-12-01T17:39:07.938120Z"
    },
    "papermill": {
     "duration": 0.034939,
     "end_time": "2021-12-01T17:39:07.938346",
     "exception": false,
     "start_time": "2021-12-01T17:39:07.903407",
     "status": "completed"
    },
    "tags": []
   },
   "outputs": [
    {
     "data": {
      "text/plain": [
       "'0.1.dev300+g7494158'"
      ]
     },
     "execution_count": 1,
     "metadata": {},
     "output_type": "execute_result"
    }
   ],
   "source": [
    "import pycisTopic\n",
    "pycisTopic.__version__"
   ]
  },
  {
   "cell_type": "code",
   "execution_count": 2,
   "id": "44a3a8fc",
   "metadata": {
    "execution": {
     "iopub.execute_input": "2021-12-01T17:39:07.958881Z",
     "iopub.status.busy": "2021-12-01T17:39:07.958503Z",
     "iopub.status.idle": "2021-12-01T17:39:07.961313Z",
     "shell.execute_reply": "2021-12-01T17:39:07.961603Z"
    },
    "papermill": {
     "duration": 0.014884,
     "end_time": "2021-12-01T17:39:07.961716",
     "exception": false,
     "start_time": "2021-12-01T17:39:07.946832",
     "status": "completed"
    },
    "tags": []
   },
   "outputs": [],
   "source": [
    "import warnings\n",
    "warnings.filterwarnings('ignore')\n",
    "warnings.simplefilter('ignore') "
   ]
  },
  {
   "cell_type": "code",
   "execution_count": 3,
   "id": "1ad78cd1",
   "metadata": {
    "execution": {
     "iopub.execute_input": "2021-12-01T17:39:07.981407Z",
     "iopub.status.busy": "2021-12-01T17:39:07.981039Z",
     "iopub.status.idle": "2021-12-01T17:39:08.655105Z",
     "shell.execute_reply": "2021-12-01T17:39:08.654192Z"
    },
    "papermill": {
     "duration": 0.68584,
     "end_time": "2021-12-01T17:39:08.655325",
     "exception": false,
     "start_time": "2021-12-01T17:39:07.969485",
     "status": "completed"
    },
    "tags": []
   },
   "outputs": [],
   "source": [
    "import pickle\n",
    "import pandas as pd"
   ]
  },
  {
   "cell_type": "code",
   "execution_count": 4,
   "id": "67798534",
   "metadata": {
    "execution": {
     "iopub.execute_input": "2021-12-01T17:39:08.678903Z",
     "iopub.status.busy": "2021-12-01T17:39:08.678517Z",
     "iopub.status.idle": "2021-12-01T17:39:08.681777Z",
     "shell.execute_reply": "2021-12-01T17:39:08.682068Z"
    },
    "papermill": {
     "duration": 0.016362,
     "end_time": "2021-12-01T17:39:08.682185",
     "exception": false,
     "start_time": "2021-12-01T17:39:08.665823",
     "status": "completed"
    },
    "tags": []
   },
   "outputs": [],
   "source": [
    "import os\n",
    "wdir = '/lustre1/project/stg_00002/lcb/fderop/data/20211027_hca_benchmark_full_merged/'\n",
    "os.chdir( wdir )"
   ]
  },
  {
   "cell_type": "markdown",
   "id": "61955379",
   "metadata": {
    "papermill": {
     "duration": 0.007951,
     "end_time": "2021-12-01T17:39:08.698061",
     "exception": false,
     "start_time": "2021-12-01T17:39:08.690110",
     "status": "completed"
    },
    "tags": []
   },
   "source": [
    "# read CTOs"
   ]
  },
  {
   "cell_type": "code",
   "execution_count": 5,
   "id": "aaf66ae3",
   "metadata": {
    "execution": {
     "iopub.execute_input": "2021-12-01T17:39:08.722889Z",
     "iopub.status.busy": "2021-12-01T17:39:08.722432Z",
     "iopub.status.idle": "2021-12-01T17:39:13.710844Z",
     "shell.execute_reply": "2021-12-01T17:39:13.711845Z"
    },
    "papermill": {
     "duration": 5.006318,
     "end_time": "2021-12-01T17:39:13.712174",
     "exception": false,
     "start_time": "2021-12-01T17:39:08.705856",
     "status": "completed"
    },
    "tags": []
   },
   "outputs": [
    {
     "name": "stdout",
     "output_type": "stream",
     "text": [
      "Loaded filtered cistopic object full_merged__cistopic_obj_mergedconsensus_metadata_annotated.pkl\n"
     ]
    }
   ],
   "source": [
    "f_cto_dir = 'pycistopic_consensus//cistopic_objs__mergedconsensus/'\n",
    "\n",
    "cistopic_obj_dict = {}\n",
    "for key in ['full_merged__cistopic_obj_mergedconsensus_metadata_annotated.pkl']:\n",
    "    f_cto = os.path.join(wdir, f_cto_dir, key)\n",
    "    if(os.path.isfile(f_cto)):\n",
    "        with open(f_cto, 'rb') as f:\n",
    "            cistopic_obj_dict[key] = pickle.load(f)\n",
    "        print(f\"Loaded filtered cistopic object {key}\")\n",
    "    else:\n",
    "        print(f\"file {f_cto} doesn't exist\")"
   ]
  },
  {
   "cell_type": "markdown",
   "id": "00e57d42",
   "metadata": {
    "papermill": {
     "duration": 0.007922,
     "end_time": "2021-12-01T17:39:13.728989",
     "exception": false,
     "start_time": "2021-12-01T17:39:13.721067",
     "status": "completed"
    },
    "tags": []
   },
   "source": [
    "### Run models for quick visualize/clustering"
   ]
  },
  {
   "cell_type": "code",
   "execution_count": 6,
   "id": "7acad266",
   "metadata": {
    "execution": {
     "iopub.execute_input": "2021-12-01T17:39:13.751253Z",
     "iopub.status.busy": "2021-12-01T17:39:13.750878Z",
     "iopub.status.idle": "2021-12-01T17:39:13.754261Z",
     "shell.execute_reply": "2021-12-01T17:39:13.753892Z"
    },
    "papermill": {
     "duration": 0.017455,
     "end_time": "2021-12-01T17:39:13.754340",
     "exception": false,
     "start_time": "2021-12-01T17:39:13.736885",
     "status": "completed"
    },
    "tags": []
   },
   "outputs": [],
   "source": [
    "from pycisTopic.lda_models import run_cgs_models_mallet"
   ]
  },
  {
   "cell_type": "markdown",
   "id": "267883e2",
   "metadata": {
    "papermill": {
     "duration": 0.007722,
     "end_time": "2021-12-01T17:39:13.769910",
     "exception": false,
     "start_time": "2021-12-01T17:39:13.762188",
     "status": "completed"
    },
    "tags": []
   },
   "source": [
    "#### mallet models"
   ]
  },
  {
   "cell_type": "code",
   "execution_count": 7,
   "id": "b482d199",
   "metadata": {
    "execution": {
     "iopub.execute_input": "2021-12-01T17:39:13.791178Z",
     "iopub.status.busy": "2021-12-01T17:39:13.790802Z",
     "iopub.status.idle": "2021-12-01T17:39:13.793762Z",
     "shell.execute_reply": "2021-12-01T17:39:13.793385Z"
    },
    "papermill": {
     "duration": 0.016072,
     "end_time": "2021-12-01T17:39:13.793843",
     "exception": false,
     "start_time": "2021-12-01T17:39:13.777771",
     "status": "completed"
    },
    "tags": []
   },
   "outputs": [],
   "source": [
    "# set the memory limit for mallet (1GB default is not enough)\n",
    "os.environ['MALLET_MEMORY'] = '250G'"
   ]
  },
  {
   "cell_type": "code",
   "execution_count": 8,
   "id": "2a94e1d3",
   "metadata": {
    "execution": {
     "iopub.execute_input": "2021-12-01T17:39:13.814168Z",
     "iopub.status.busy": "2021-12-01T17:39:13.813801Z",
     "iopub.status.idle": "2021-12-01T17:39:13.816668Z",
     "shell.execute_reply": "2021-12-01T17:39:13.816358Z"
    },
    "papermill": {
     "duration": 0.015,
     "end_time": "2021-12-01T17:39:13.816755",
     "exception": false,
     "start_time": "2021-12-01T17:39:13.801755",
     "status": "completed"
    },
    "tags": []
   },
   "outputs": [],
   "source": [
    "f_mod_dir = 'pycistopic_consensus/models__consensus__mallet'\n",
    "if not os.path.exists(os.path.join(wdir, f_mod_dir)):\n",
    "    os.makedirs(os.path.join(wdir, f_mod_dir))\n",
    "\n",
    "f_mod_tmpdir = '/scratch/leuven/330/vsc33042/tmp/mallet_full_merged2'\n",
    "if not os.path.exists(f_mod_tmpdir):\n",
    "    os.makedirs(f_mod_tmpdir)\n",
    "\n",
    "save_path = '/scratch/leuven/330/vsc33042/tmp/mallet_full_merged2/models'\n",
    "if not os.path.exists(os.path.join(save_path)):\n",
    "    os.makedirs(os.path.join(save_path))    \n",
    "    \n",
    "n_topics = [60, 70, 80, 90]\n",
    "n_iter = 500"
   ]
  },
  {
   "cell_type": "code",
   "execution_count": 9,
   "id": "4803f61b",
   "metadata": {
    "execution": {
     "iopub.execute_input": "2021-12-01T17:39:13.839811Z",
     "iopub.status.busy": "2021-12-01T17:39:13.839432Z",
     "iopub.status.idle": "2021-12-02T12:07:17.209415Z",
     "shell.execute_reply": "2021-12-02T12:07:17.208220Z"
    },
    "papermill": {
     "duration": 66483.38511,
     "end_time": "2021-12-02T12:07:17.209862",
     "exception": false,
     "start_time": "2021-12-01T17:39:13.824752",
     "status": "completed"
    },
    "tags": []
   },
   "outputs": [
    {
     "name": "stdout",
     "output_type": "stream",
     "text": [
      "Running full_merged__cistopic_obj_mergedconsensus_metadata_annotated.pkl\n",
      "2021-12-01 18:39:13,838 cisTopic     INFO     Formatting input to corpus\n",
      "2021-12-01 18:39:22,087 gensim.corpora.dictionary INFO     adding document #0 to Dictionary(0 unique tokens: [])\n",
      "2021-12-01 18:40:18,151 gensim.corpora.dictionary INFO     adding document #10000 to Dictionary(0 unique tokens: [])\n",
      "2021-12-01 18:41:26,815 gensim.corpora.dictionary INFO     adding document #20000 to Dictionary(0 unique tokens: [])\n",
      "2021-12-01 18:43:17,127 gensim.corpora.dictionary INFO     adding document #30000 to Dictionary(0 unique tokens: [])\n",
      "2021-12-01 18:44:02,029 gensim.corpora.dictionary INFO     adding document #40000 to Dictionary(0 unique tokens: [])\n",
      "2021-12-01 18:45:08,992 gensim.corpora.dictionary INFO     built Dictionary(432188 unique tokens: ['0', '1', '2', '3', '4']...) from 45360 documents (total 399815578 corpus positions)\n",
      "2021-12-01 18:45:08,993 cisTopic     INFO     Running model with 60 topics\n",
      "2021-12-01 18:45:09,010 LDAMalletWrapper INFO     Serializing temporary corpus to /scratch/leuven/330/vsc33042/tmp/mallet_full_merged2/full_merged__cistopic_obj_mergedconsensus_metadata_annotated.pkl_corpus.txt\n",
      "2021-12-01 19:03:03,814 LDAMalletWrapper INFO     Converting temporary corpus to MALLET format with mallet import-file --preserve-case --keep-sequence --remove-stopwords --token-regex \"\\S+\" --input /scratch/leuven/330/vsc33042/tmp/mallet_full_merged2/full_merged__cistopic_obj_mergedconsensus_metadata_annotated.pkl_corpus.txt --output /scratch/leuven/330/vsc33042/tmp/mallet_full_merged2/full_merged__cistopic_obj_mergedconsensus_metadata_annotated.pkl_corpus.mallet\n",
      "2021-12-01 19:06:05,888 LDAMalletWrapper INFO     Training MALLET LDA with mallet train-topics --input /scratch/leuven/330/vsc33042/tmp/mallet_full_merged2/full_merged__cistopic_obj_mergedconsensus_metadata_annotated.pkl_corpus.mallet --num-topics 60  --alpha 50 --beta 0.1 --optimize-interval 0 --num-threads 24 --output-state /scratch/leuven/330/vsc33042/tmp/mallet_full_merged2/full_merged__cistopic_obj_mergedconsensus_metadata_annotated.pkl_a75ef2_state.mallet.gz --output-doc-topics /scratch/leuven/330/vsc33042/tmp/mallet_full_merged2/full_merged__cistopic_obj_mergedconsensus_metadata_annotated.pkl_a75ef2_doctopics.txt --output-topic-keys /scratch/leuven/330/vsc33042/tmp/mallet_full_merged2/full_merged__cistopic_obj_mergedconsensus_metadata_annotated.pkl_a75ef2_topickeys.txt --num-iterations 500 --inferencer-filename /scratch/leuven/330/vsc33042/tmp/mallet_full_merged2/full_merged__cistopic_obj_mergedconsensus_metadata_annotated.pkl_a75ef2_inferencer.mallet --doc-topics-threshold 0.0  --random-seed 555\n",
      "2021-12-01 22:20:42,928 LDAMalletWrapper INFO     loading assigned topics from /scratch/leuven/330/vsc33042/tmp/mallet_full_merged2/full_merged__cistopic_obj_mergedconsensus_metadata_annotated.pkl_a75ef2_state.mallet.gz\n",
      "2021-12-01 22:37:45,989 cisTopic     INFO     Model with 60 topics done!\n",
      "2021-12-01 22:37:45,990 cisTopic     INFO     Saving model with 60 topics at /scratch/leuven/330/vsc33042/tmp/mallet_full_merged2/models\n",
      "2021-12-01 22:37:46,404 cisTopic     INFO     Running model with 70 topics\n",
      "2021-12-01 22:37:46,421 LDAMalletWrapper INFO     MALLET corpus already exists, training model\n",
      "2021-12-01 22:37:46,422 LDAMalletWrapper INFO     Training MALLET LDA with mallet train-topics --input /scratch/leuven/330/vsc33042/tmp/mallet_full_merged2/full_merged__cistopic_obj_mergedconsensus_metadata_annotated.pkl_corpus.mallet --num-topics 70  --alpha 50 --beta 0.1 --optimize-interval 0 --num-threads 24 --output-state /scratch/leuven/330/vsc33042/tmp/mallet_full_merged2/full_merged__cistopic_obj_mergedconsensus_metadata_annotated.pkl_c6cc1e_state.mallet.gz --output-doc-topics /scratch/leuven/330/vsc33042/tmp/mallet_full_merged2/full_merged__cistopic_obj_mergedconsensus_metadata_annotated.pkl_c6cc1e_doctopics.txt --output-topic-keys /scratch/leuven/330/vsc33042/tmp/mallet_full_merged2/full_merged__cistopic_obj_mergedconsensus_metadata_annotated.pkl_c6cc1e_topickeys.txt --num-iterations 500 --inferencer-filename /scratch/leuven/330/vsc33042/tmp/mallet_full_merged2/full_merged__cistopic_obj_mergedconsensus_metadata_annotated.pkl_c6cc1e_inferencer.mallet --doc-topics-threshold 0.0  --random-seed 555\n",
      "2021-12-02 02:06:13,473 LDAMalletWrapper INFO     loading assigned topics from /scratch/leuven/330/vsc33042/tmp/mallet_full_merged2/full_merged__cistopic_obj_mergedconsensus_metadata_annotated.pkl_c6cc1e_state.mallet.gz\n",
      "2021-12-02 02:25:31,460 cisTopic     INFO     Model with 70 topics done!\n",
      "2021-12-02 02:25:31,461 cisTopic     INFO     Saving model with 70 topics at /scratch/leuven/330/vsc33042/tmp/mallet_full_merged2/models\n",
      "2021-12-02 02:25:31,987 cisTopic     INFO     Running model with 80 topics\n",
      "2021-12-02 02:25:32,017 LDAMalletWrapper INFO     MALLET corpus already exists, training model\n",
      "2021-12-02 02:25:32,019 LDAMalletWrapper INFO     Training MALLET LDA with mallet train-topics --input /scratch/leuven/330/vsc33042/tmp/mallet_full_merged2/full_merged__cistopic_obj_mergedconsensus_metadata_annotated.pkl_corpus.mallet --num-topics 80  --alpha 50 --beta 0.1 --optimize-interval 0 --num-threads 24 --output-state /scratch/leuven/330/vsc33042/tmp/mallet_full_merged2/full_merged__cistopic_obj_mergedconsensus_metadata_annotated.pkl_e28bf_state.mallet.gz --output-doc-topics /scratch/leuven/330/vsc33042/tmp/mallet_full_merged2/full_merged__cistopic_obj_mergedconsensus_metadata_annotated.pkl_e28bf_doctopics.txt --output-topic-keys /scratch/leuven/330/vsc33042/tmp/mallet_full_merged2/full_merged__cistopic_obj_mergedconsensus_metadata_annotated.pkl_e28bf_topickeys.txt --num-iterations 500 --inferencer-filename /scratch/leuven/330/vsc33042/tmp/mallet_full_merged2/full_merged__cistopic_obj_mergedconsensus_metadata_annotated.pkl_e28bf_inferencer.mallet --doc-topics-threshold 0.0  --random-seed 555\n",
      "2021-12-02 07:17:47,486 LDAMalletWrapper INFO     loading assigned topics from /scratch/leuven/330/vsc33042/tmp/mallet_full_merged2/full_merged__cistopic_obj_mergedconsensus_metadata_annotated.pkl_e28bf_state.mallet.gz\n",
      "2021-12-02 07:36:33,315 cisTopic     INFO     Model with 80 topics done!\n",
      "2021-12-02 07:36:33,317 cisTopic     INFO     Saving model with 80 topics at /scratch/leuven/330/vsc33042/tmp/mallet_full_merged2/models\n",
      "2021-12-02 07:36:33,893 cisTopic     INFO     Running model with 90 topics\n",
      "2021-12-02 07:36:33,914 LDAMalletWrapper INFO     MALLET corpus already exists, training model\n",
      "2021-12-02 07:36:33,914 LDAMalletWrapper INFO     Training MALLET LDA with mallet train-topics --input /scratch/leuven/330/vsc33042/tmp/mallet_full_merged2/full_merged__cistopic_obj_mergedconsensus_metadata_annotated.pkl_corpus.mallet --num-topics 90  --alpha 50 --beta 0.1 --optimize-interval 0 --num-threads 24 --output-state /scratch/leuven/330/vsc33042/tmp/mallet_full_merged2/full_merged__cistopic_obj_mergedconsensus_metadata_annotated.pkl_6b9902_state.mallet.gz --output-doc-topics /scratch/leuven/330/vsc33042/tmp/mallet_full_merged2/full_merged__cistopic_obj_mergedconsensus_metadata_annotated.pkl_6b9902_doctopics.txt --output-topic-keys /scratch/leuven/330/vsc33042/tmp/mallet_full_merged2/full_merged__cistopic_obj_mergedconsensus_metadata_annotated.pkl_6b9902_topickeys.txt --num-iterations 500 --inferencer-filename /scratch/leuven/330/vsc33042/tmp/mallet_full_merged2/full_merged__cistopic_obj_mergedconsensus_metadata_annotated.pkl_6b9902_inferencer.mallet --doc-topics-threshold 0.0  --random-seed 555\n",
      "2021-12-02 12:47:01,241 LDAMalletWrapper INFO     loading assigned topics from /scratch/leuven/330/vsc33042/tmp/mallet_full_merged2/full_merged__cistopic_obj_mergedconsensus_metadata_annotated.pkl_6b9902_state.mallet.gz\n",
      "2021-12-02 13:07:14,796 cisTopic     INFO     Model with 90 topics done!\n",
      "2021-12-02 13:07:14,799 cisTopic     INFO     Saving model with 90 topics at /scratch/leuven/330/vsc33042/tmp/mallet_full_merged2/models\n",
      "Finished full_merged__cistopic_obj_mergedconsensus_metadata_annotated.pkl\n"
     ]
    }
   ],
   "source": [
    "# mallet implementation\n",
    "models_dict = {}\n",
    "for key in ['full_merged__cistopic_obj_mergedconsensus_metadata_annotated']:\n",
    "    f_mod = os.path.join(wdir, f_mod_dir, key + '__models_' + str(n_iter) + '_iter.pkl')\n",
    "    if os.path.isfile(f_mod):\n",
    "        print(f\"Loading {f_mod}\")\n",
    "        with open(f_mod, 'rb') as f:\n",
    "            models_dict[key] = pickle.load(f)\n",
    "    else:\n",
    "        print(f\"Running {key}\")\n",
    "        model = run_cgs_models_mallet(\n",
    "                            'mallet',\n",
    "                            cistopic_obj_dict[key],\n",
    "                            n_topics=n_topics_merged if key=='merged' else n_topics ,\n",
    "                            n_cpu=24,\n",
    "                            n_iter=n_iter,\n",
    "                            random_state=555,\n",
    "                            alpha=50,\n",
    "                            alpha_by_topic=True,\n",
    "                            eta=0.1,\n",
    "                            save_path=save_path,\n",
    "                            eta_by_topic=False,\n",
    "                            tmp_path=os.path.join(f_mod_tmpdir, key + '_')\n",
    "                            )\n",
    "        # Save\n",
    "        with open(f_mod, 'wb') as f:\n",
    "            pickle.dump(model, f)\n",
    "        print(f\"Finished {key}\")\n",
    "        models_dict[key] = model"
   ]
  }
 ],
 "metadata": {
  "kernelspec": {
   "display_name": "pycisTopic_singularity_20210921",
   "language": "python",
   "name": "pycistopic_singularity"
  },
  "language_info": {
   "codemirror_mode": {
    "name": "ipython",
    "version": 3
   },
   "file_extension": ".py",
   "mimetype": "text/x-python",
   "name": "python",
   "nbconvert_exporter": "python",
   "pygments_lexer": "ipython3",
   "version": "3.8.6"
  },
  "papermill": {
   "default_parameters": {},
   "duration": 66494.047073,
   "end_time": "2021-12-02T12:07:19.484873",
   "environment_variables": {},
   "exception": true,
   "input_path": "5_run_models_consensus.ipynb",
   "output_path": "5_run_models_consensus.OUT.ipynb",
   "parameters": {},
   "start_time": "2021-12-01T17:39:05.437800",
   "version": "2.3.3"
  }
 },
 "nbformat": 4,
 "nbformat_minor": 5
}
