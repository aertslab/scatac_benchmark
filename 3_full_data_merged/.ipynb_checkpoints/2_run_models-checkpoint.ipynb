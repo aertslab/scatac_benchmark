{
 "cells": [
  {
   "cell_type": "code",
   "execution_count": 1,
   "id": "fa50962e",
   "metadata": {
    "execution": {
     "iopub.execute_input": "2021-10-27T13:38:46.862618Z",
     "iopub.status.busy": "2021-10-27T13:38:46.861852Z",
     "iopub.status.idle": "2021-10-27T13:38:46.885544Z",
     "shell.execute_reply": "2021-10-27T13:38:46.884833Z"
    },
    "papermill": {
     "duration": 0.054627,
     "end_time": "2021-10-27T13:38:46.885756",
     "exception": false,
     "start_time": "2021-10-27T13:38:46.831129",
     "status": "completed"
    },
    "tags": []
   },
   "outputs": [
    {
     "data": {
      "text/plain": [
       "'0.1.dev300+g7494158'"
      ]
     },
     "execution_count": 1,
     "metadata": {},
     "output_type": "execute_result"
    }
   ],
   "source": [
    "import pycisTopic\n",
    "pycisTopic.__version__"
   ]
  },
  {
   "cell_type": "code",
   "execution_count": 2,
   "id": "8b6db6ed",
   "metadata": {
    "execution": {
     "iopub.execute_input": "2021-10-27T13:38:46.925047Z",
     "iopub.status.busy": "2021-10-27T13:38:46.924391Z",
     "iopub.status.idle": "2021-10-27T13:38:46.929270Z",
     "shell.execute_reply": "2021-10-27T13:38:46.928580Z"
    },
    "papermill": {
     "duration": 0.026078,
     "end_time": "2021-10-27T13:38:46.929442",
     "exception": false,
     "start_time": "2021-10-27T13:38:46.903364",
     "status": "completed"
    },
    "tags": []
   },
   "outputs": [],
   "source": [
    "import warnings\n",
    "warnings.filterwarnings('ignore')\n",
    "warnings.simplefilter('ignore')"
   ]
  },
  {
   "cell_type": "code",
   "execution_count": 3,
   "id": "f5ffc8ec",
   "metadata": {
    "execution": {
     "iopub.execute_input": "2021-10-27T13:38:46.966989Z",
     "iopub.status.busy": "2021-10-27T13:38:46.966350Z",
     "iopub.status.idle": "2021-10-27T13:38:48.524154Z",
     "shell.execute_reply": "2021-10-27T13:38:48.523441Z"
    },
    "papermill": {
     "duration": 1.57964,
     "end_time": "2021-10-27T13:38:48.524343",
     "exception": false,
     "start_time": "2021-10-27T13:38:46.944703",
     "status": "completed"
    },
    "tags": []
   },
   "outputs": [],
   "source": [
    "import pickle\n",
    "import pandas as pd"
   ]
  },
  {
   "cell_type": "code",
   "execution_count": 4,
   "id": "c14a3dd0",
   "metadata": {
    "execution": {
     "iopub.execute_input": "2021-10-27T13:38:48.561147Z",
     "iopub.status.busy": "2021-10-27T13:38:48.560328Z",
     "iopub.status.idle": "2021-10-27T13:38:48.563562Z",
     "shell.execute_reply": "2021-10-27T13:38:48.564224Z"
    },
    "papermill": {
     "duration": 0.024341,
     "end_time": "2021-10-27T13:38:48.564418",
     "exception": false,
     "start_time": "2021-10-27T13:38:48.540077",
     "status": "completed"
    },
    "tags": []
   },
   "outputs": [],
   "source": [
    "import os\n",
    "wdir = '/user/leuven/330/vsc33042/fderop/data/20211027_hca_benchmark_full_merged/'\n",
    "os.chdir( wdir )"
   ]
  },
  {
   "cell_type": "code",
   "execution_count": 5,
   "id": "e1a52508",
   "metadata": {
    "execution": {
     "iopub.execute_input": "2021-10-27T13:38:48.597492Z",
     "iopub.status.busy": "2021-10-27T13:38:48.596572Z",
     "iopub.status.idle": "2021-10-27T13:38:48.609647Z",
     "shell.execute_reply": "2021-10-27T13:38:48.610674Z"
    },
    "papermill": {
     "duration": 0.031269,
     "end_time": "2021-10-27T13:38:48.611096",
     "exception": false,
     "start_time": "2021-10-27T13:38:48.579827",
     "status": "completed"
    },
    "tags": []
   },
   "outputs": [],
   "source": [
    "import glob\n",
    "from collections import OrderedDict"
   ]
  },
  {
   "cell_type": "markdown",
   "id": "30887b5d",
   "metadata": {
    "papermill": {
     "duration": 0.01436,
     "end_time": "2021-10-27T13:38:48.639714",
     "exception": false,
     "start_time": "2021-10-27T13:38:48.625354",
     "status": "completed"
    },
    "tags": []
   },
   "source": [
    "# open cto"
   ]
  },
  {
   "cell_type": "code",
   "execution_count": 6,
   "id": "c7c2650e",
   "metadata": {
    "execution": {
     "iopub.execute_input": "2021-10-27T13:38:48.675168Z",
     "iopub.status.busy": "2021-10-27T13:38:48.674503Z",
     "iopub.status.idle": "2021-10-27T13:39:40.101474Z",
     "shell.execute_reply": "2021-10-27T13:39:40.102024Z"
    },
    "papermill": {
     "duration": 51.448085,
     "end_time": "2021-10-27T13:39:40.102233",
     "exception": false,
     "start_time": "2021-10-27T13:38:48.654148",
     "status": "completed"
    },
    "tags": []
   },
   "outputs": [
    {
     "name": "stdout",
     "output_type": "stream",
     "text": [
      "Loaded full_merged\n"
     ]
    }
   ],
   "source": [
    "# load objects into dict:\n",
    "f_cto_dir = 'ctos'\n",
    "key = 'full_merged'\n",
    "cistopic_obj_dict = {}\n",
    "f_out = os.path.join(wdir, f_cto_dir, key + '__cistopic_obj.pkl')\n",
    "infile = open(f_out, 'rb')\n",
    "tmp_cto = pickle.load(infile)\n",
    "infile.close()\n",
    "cistopic_obj_dict[key] = tmp_cto\n",
    "print(f\"Loaded {key}\")"
   ]
  },
  {
   "cell_type": "code",
   "execution_count": 7,
   "id": "e6030013",
   "metadata": {
    "execution": {
     "iopub.execute_input": "2021-10-27T13:39:40.140278Z",
     "iopub.status.busy": "2021-10-27T13:39:40.137678Z",
     "iopub.status.idle": "2021-10-27T13:39:40.144015Z",
     "shell.execute_reply": "2021-10-27T13:39:40.144695Z"
    },
    "papermill": {
     "duration": 0.028635,
     "end_time": "2021-10-27T13:39:40.145221",
     "exception": false,
     "start_time": "2021-10-27T13:39:40.116586",
     "status": "completed"
    },
    "tags": []
   },
   "outputs": [
    {
     "data": {
      "text/plain": [
       "'/user/leuven/330/vsc33042/fderop/data/20211027_hca_benchmark_full_merged/ctos/full_merged__cistopic_obj.pkl'"
      ]
     },
     "execution_count": 7,
     "metadata": {},
     "output_type": "execute_result"
    }
   ],
   "source": [
    "f_out"
   ]
  },
  {
   "cell_type": "markdown",
   "id": "832ab9d0",
   "metadata": {
    "papermill": {
     "duration": 0.017355,
     "end_time": "2021-10-27T13:39:40.180620",
     "exception": false,
     "start_time": "2021-10-27T13:39:40.163265",
     "status": "completed"
    },
    "tags": []
   },
   "source": [
    "### Run models for quick visualize/clustering"
   ]
  },
  {
   "cell_type": "code",
   "execution_count": 8,
   "id": "9cf3830d",
   "metadata": {
    "execution": {
     "iopub.execute_input": "2021-10-27T13:39:40.215334Z",
     "iopub.status.busy": "2021-10-27T13:39:40.214696Z",
     "iopub.status.idle": "2021-10-27T13:39:40.217788Z",
     "shell.execute_reply": "2021-10-27T13:39:40.219131Z"
    },
    "papermill": {
     "duration": 0.024222,
     "end_time": "2021-10-27T13:39:40.219347",
     "exception": false,
     "start_time": "2021-10-27T13:39:40.195125",
     "status": "completed"
    },
    "tags": []
   },
   "outputs": [],
   "source": [
    "from pycisTopic.lda_models import run_cgs_models_mallet"
   ]
  },
  {
   "cell_type": "markdown",
   "id": "b5eb73b4",
   "metadata": {
    "papermill": {
     "duration": 0.016794,
     "end_time": "2021-10-27T13:39:40.253997",
     "exception": false,
     "start_time": "2021-10-27T13:39:40.237203",
     "status": "completed"
    },
    "tags": []
   },
   "source": [
    "#### mallet models"
   ]
  },
  {
   "cell_type": "code",
   "execution_count": 9,
   "id": "082ee877",
   "metadata": {
    "execution": {
     "iopub.execute_input": "2021-10-27T13:39:40.292757Z",
     "iopub.status.busy": "2021-10-27T13:39:40.292027Z",
     "iopub.status.idle": "2021-10-27T13:39:40.294935Z",
     "shell.execute_reply": "2021-10-27T13:39:40.294179Z"
    },
    "papermill": {
     "duration": 0.024647,
     "end_time": "2021-10-27T13:39:40.295100",
     "exception": false,
     "start_time": "2021-10-27T13:39:40.270453",
     "status": "completed"
    },
    "tags": []
   },
   "outputs": [],
   "source": [
    "# set the memory limit for mallet (1GB default is not enough)\n",
    "os.environ['MALLET_MEMORY'] = '100G'"
   ]
  },
  {
   "cell_type": "code",
   "execution_count": 10,
   "id": "444a590e",
   "metadata": {
    "execution": {
     "iopub.execute_input": "2021-10-27T13:39:40.336359Z",
     "iopub.status.busy": "2021-10-27T13:39:40.335233Z",
     "iopub.status.idle": "2021-10-27T13:39:40.341104Z",
     "shell.execute_reply": "2021-10-27T13:39:40.341790Z"
    },
    "papermill": {
     "duration": 0.028769,
     "end_time": "2021-10-27T13:39:40.342305",
     "exception": false,
     "start_time": "2021-10-27T13:39:40.313536",
     "status": "completed"
    },
    "tags": []
   },
   "outputs": [],
   "source": [
    "f_mod_dir = 'models__screen__mallet_full'\n",
    "if not os.path.exists(os.path.join(wdir, f_mod_dir)):\n",
    "    os.makedirs(os.path.join(wdir, f_mod_dir))\n",
    "\n",
    "n_topics = [50]\n",
    "n_iter = 200"
   ]
  },
  {
   "cell_type": "code",
   "execution_count": 11,
   "id": "e37553a0",
   "metadata": {
    "execution": {
     "iopub.execute_input": "2021-10-27T13:39:40.391744Z",
     "iopub.status.busy": "2021-10-27T13:39:40.390688Z"
    },
    "papermill": {
     "duration": null,
     "end_time": null,
     "exception": false,
     "start_time": "2021-10-27T13:39:40.361546",
     "status": "running"
    },
    "tags": []
   },
   "outputs": [
    {
     "name": "stdout",
     "output_type": "stream",
     "text": [
      "Running full_merged\n",
      "2021-10-27 15:39:40,390 cisTopic     INFO     Formatting input to corpus\n"
     ]
    },
    {
     "name": "stdout",
     "output_type": "stream",
     "text": [
      "2021-10-27 15:40:17,561 gensim.corpora.dictionary INFO     adding document #0 to Dictionary(0 unique tokens: [])\n"
     ]
    },
    {
     "name": "stdout",
     "output_type": "stream",
     "text": [
      "2021-10-27 15:43:52,521 gensim.corpora.dictionary INFO     adding document #10000 to Dictionary(0 unique tokens: [])\n"
     ]
    },
    {
     "name": "stdout",
     "output_type": "stream",
     "text": [
      "2021-10-27 15:47:49,531 gensim.corpora.dictionary INFO     adding document #20000 to Dictionary(0 unique tokens: [])\n"
     ]
    }
   ],
   "source": [
    "# mallet implementation\n",
    "models_dict = {}\n",
    "for key in ['full_merged']:\n",
    "    f_mod = os.path.join(wdir, f_mod_dir, key + '__models_' + str(n_iter) + '_iter.pkl')\n",
    "    if os.path.isfile(f_mod):\n",
    "        print(f\"Loading {f_mod}\")\n",
    "        with open(f_mod, 'rb') as f:\n",
    "            models_dict[key] = pickle.load(f)\n",
    "    else:\n",
    "        print(f\"Running {key}\")\n",
    "        model = run_cgs_models_mallet(\n",
    "                            'mallet',\n",
    "                            cistopic_obj_dict[key],\n",
    "                            n_topics=n_topics,\n",
    "                            n_cpu=24,\n",
    "                            n_iter=n_iter,\n",
    "                            random_state=555,\n",
    "                            alpha=50,\n",
    "                            alpha_by_topic=True,\n",
    "                            eta=0.1,\n",
    "                            eta_by_topic=False,\n",
    "                            tmp_path=os.path.join('/tmp', key + '_mallet')\n",
    "                            )\n",
    "        # Save\n",
    "        with open(f_mod, 'wb') as f:\n",
    "            pickle.dump(model, f)\n",
    "        print(f\"Finished {key}\")\n",
    "        models_dict[key] = model"
   ]
  },
  {
   "cell_type": "code",
   "execution_count": null,
   "id": "64d4e92c",
   "metadata": {
    "papermill": {
     "duration": null,
     "end_time": null,
     "exception": null,
     "start_time": null,
     "status": "pending"
    },
    "tags": []
   },
   "outputs": [],
   "source": []
  }
 ],
 "metadata": {
  "kernelspec": {
   "display_name": "pycisTopic_singularity_20210921",
   "language": "python",
   "name": "pycistopic_singularity"
  },
  "language_info": {
   "codemirror_mode": {
    "name": "ipython",
    "version": 3
   },
   "file_extension": ".py",
   "mimetype": "text/x-python",
   "name": "python",
   "nbconvert_exporter": "python",
   "pygments_lexer": "ipython3",
   "version": "3.8.6"
  },
  "papermill": {
   "default_parameters": {},
   "duration": null,
   "end_time": null,
   "environment_variables": {},
   "exception": null,
   "input_path": "2_run_models.ipynb",
   "output_path": "2_run_models.OUT.ipynb",
   "parameters": {},
   "start_time": "2021-10-27T13:38:36.624725",
   "version": "2.3.3"
  }
 },
 "nbformat": 4,
 "nbformat_minor": 5
}