{
 "cells": [
  {
   "cell_type": "code",
   "execution_count": 1,
   "id": "7c871f65",
   "metadata": {
    "execution": {
     "iopub.execute_input": "2021-11-27T23:37:57.410970Z",
     "iopub.status.busy": "2021-11-27T23:37:57.410403Z",
     "iopub.status.idle": "2021-11-27T23:37:57.425836Z",
     "shell.execute_reply": "2021-11-27T23:37:57.426247Z"
    },
    "papermill": {
     "duration": 0.039844,
     "end_time": "2021-11-27T23:37:57.426478",
     "exception": false,
     "start_time": "2021-11-27T23:37:57.386634",
     "status": "completed"
    },
    "tags": []
   },
   "outputs": [
    {
     "data": {
      "text/plain": [
       "'0.1.dev300+g7494158'"
      ]
     },
     "execution_count": 1,
     "metadata": {},
     "output_type": "execute_result"
    }
   ],
   "source": [
    "import pycisTopic\n",
    "pycisTopic.__version__"
   ]
  },
  {
   "cell_type": "code",
   "execution_count": 2,
   "id": "137a20e2",
   "metadata": {
    "execution": {
     "iopub.execute_input": "2021-11-27T23:37:57.462218Z",
     "iopub.status.busy": "2021-11-27T23:37:57.461680Z",
     "iopub.status.idle": "2021-11-27T23:37:57.464294Z",
     "shell.execute_reply": "2021-11-27T23:37:57.464725Z"
    },
    "papermill": {
     "duration": 0.022089,
     "end_time": "2021-11-27T23:37:57.464857",
     "exception": false,
     "start_time": "2021-11-27T23:37:57.442768",
     "status": "completed"
    },
    "tags": []
   },
   "outputs": [],
   "source": [
    "import warnings\n",
    "warnings.filterwarnings('ignore')\n",
    "warnings.simplefilter('ignore') "
   ]
  },
  {
   "cell_type": "code",
   "execution_count": 3,
   "id": "02c70142",
   "metadata": {
    "execution": {
     "iopub.execute_input": "2021-11-27T23:37:57.499055Z",
     "iopub.status.busy": "2021-11-27T23:37:57.496992Z",
     "iopub.status.idle": "2021-11-27T23:37:58.877940Z",
     "shell.execute_reply": "2021-11-27T23:37:58.878426Z"
    },
    "papermill": {
     "duration": 1.398844,
     "end_time": "2021-11-27T23:37:58.878635",
     "exception": false,
     "start_time": "2021-11-27T23:37:57.479791",
     "status": "completed"
    },
    "tags": []
   },
   "outputs": [],
   "source": [
    "import pickle\n",
    "import pandas as pd"
   ]
  },
  {
   "cell_type": "code",
   "execution_count": 4,
   "id": "bedc0847",
   "metadata": {
    "execution": {
     "iopub.execute_input": "2021-11-27T23:37:58.911603Z",
     "iopub.status.busy": "2021-11-27T23:37:58.911050Z",
     "iopub.status.idle": "2021-11-27T23:37:58.913597Z",
     "shell.execute_reply": "2021-11-27T23:37:58.913127Z"
    },
    "papermill": {
     "duration": 0.020464,
     "end_time": "2021-11-27T23:37:58.913714",
     "exception": false,
     "start_time": "2021-11-27T23:37:58.893250",
     "status": "completed"
    },
    "tags": []
   },
   "outputs": [],
   "source": [
    "import os\n",
    "wdir = '/lustre1/project/stg_00002/lcb/fderop/data/20211027_hca_benchmark_full_merged/'\n",
    "os.chdir( wdir )"
   ]
  },
  {
   "cell_type": "markdown",
   "id": "91f37d83",
   "metadata": {
    "papermill": {
     "duration": 0.014688,
     "end_time": "2021-11-27T23:37:58.941807",
     "exception": false,
     "start_time": "2021-11-27T23:37:58.927119",
     "status": "completed"
    },
    "tags": []
   },
   "source": [
    "# read CTOs"
   ]
  },
  {
   "cell_type": "code",
   "execution_count": 5,
   "id": "27a68ff4",
   "metadata": {
    "execution": {
     "iopub.execute_input": "2021-11-27T23:37:58.973612Z",
     "iopub.status.busy": "2021-11-27T23:37:58.973054Z",
     "iopub.status.idle": "2021-11-27T23:38:56.931502Z",
     "shell.execute_reply": "2021-11-27T23:38:56.931906Z"
    },
    "papermill": {
     "duration": 57.977185,
     "end_time": "2021-11-27T23:38:56.932076",
     "exception": false,
     "start_time": "2021-11-27T23:37:58.954891",
     "status": "completed"
    },
    "tags": []
   },
   "outputs": [
    {
     "name": "stdout",
     "output_type": "stream",
     "text": [
      "Loaded filtered cistopic object full_merged__cistopic_obj_mergedconsensus_metadata_annotated.pkl\n"
     ]
    }
   ],
   "source": [
    "f_cto_dir = 'pycistopic_consensus//cistopic_objs__mergedconsensus/'\n",
    "\n",
    "cistopic_obj_dict = {}\n",
    "for key in ['full_merged__cistopic_obj_mergedconsensus_metadata_annotated.pkl']:\n",
    "    f_cto = os.path.join(wdir, f_cto_dir, key)\n",
    "    if(os.path.isfile(f_cto)):\n",
    "        with open(f_cto, 'rb') as f:\n",
    "            cistopic_obj_dict[key] = pickle.load(f)\n",
    "        print(f\"Loaded filtered cistopic object {key}\")\n",
    "    else:\n",
    "        print(f\"file {f_cto} doesn't exist\")"
   ]
  },
  {
   "cell_type": "markdown",
   "id": "2e3ea55e",
   "metadata": {
    "papermill": {
     "duration": 0.015005,
     "end_time": "2021-11-27T23:38:56.961652",
     "exception": false,
     "start_time": "2021-11-27T23:38:56.946647",
     "status": "completed"
    },
    "tags": []
   },
   "source": [
    "### Run models for quick visualize/clustering"
   ]
  },
  {
   "cell_type": "code",
   "execution_count": 6,
   "id": "99da93f6",
   "metadata": {
    "execution": {
     "iopub.execute_input": "2021-11-27T23:38:56.994572Z",
     "iopub.status.busy": "2021-11-27T23:38:56.993987Z",
     "iopub.status.idle": "2021-11-27T23:38:56.995979Z",
     "shell.execute_reply": "2021-11-27T23:38:56.996434Z"
    },
    "papermill": {
     "duration": 0.022178,
     "end_time": "2021-11-27T23:38:56.996578",
     "exception": false,
     "start_time": "2021-11-27T23:38:56.974400",
     "status": "completed"
    },
    "tags": []
   },
   "outputs": [],
   "source": [
    "from pycisTopic.lda_models import run_cgs_models_mallet"
   ]
  },
  {
   "cell_type": "markdown",
   "id": "a659e279",
   "metadata": {
    "papermill": {
     "duration": 0.01521,
     "end_time": "2021-11-27T23:38:57.026914",
     "exception": false,
     "start_time": "2021-11-27T23:38:57.011704",
     "status": "completed"
    },
    "tags": []
   },
   "source": [
    "#### mallet models"
   ]
  },
  {
   "cell_type": "code",
   "execution_count": 7,
   "id": "dae21a85",
   "metadata": {
    "execution": {
     "iopub.execute_input": "2021-11-27T23:38:57.059725Z",
     "iopub.status.busy": "2021-11-27T23:38:57.059130Z",
     "iopub.status.idle": "2021-11-27T23:38:57.061325Z",
     "shell.execute_reply": "2021-11-27T23:38:57.061857Z"
    },
    "papermill": {
     "duration": 0.021416,
     "end_time": "2021-11-27T23:38:57.061981",
     "exception": false,
     "start_time": "2021-11-27T23:38:57.040565",
     "status": "completed"
    },
    "tags": []
   },
   "outputs": [],
   "source": [
    "# set the memory limit for mallet (1GB default is not enough)\n",
    "os.environ['MALLET_MEMORY'] = '250G'"
   ]
  },
  {
   "cell_type": "code",
   "execution_count": 8,
   "id": "d4ae373b",
   "metadata": {
    "execution": {
     "iopub.execute_input": "2021-11-27T23:38:57.096748Z",
     "iopub.status.busy": "2021-11-27T23:38:57.096196Z",
     "iopub.status.idle": "2021-11-27T23:38:57.103763Z",
     "shell.execute_reply": "2021-11-27T23:38:57.104169Z"
    },
    "papermill": {
     "duration": 0.027612,
     "end_time": "2021-11-27T23:38:57.104312",
     "exception": false,
     "start_time": "2021-11-27T23:38:57.076700",
     "status": "completed"
    },
    "tags": []
   },
   "outputs": [],
   "source": [
    "f_mod_dir = 'pycistopic_consensus_peaks/models__consensus__mallet'\n",
    "if not os.path.exists(os.path.join(wdir, f_mod_dir)):\n",
    "    os.makedirs(os.path.join(wdir, f_mod_dir))\n",
    "\n",
    "f_mod_tmpdir = '/scratch/leuven/330/vsc33042/tmp/mallet_full_merged2'\n",
    "if not os.path.exists(f_mod_tmpdir):\n",
    "    os.makedirs(f_mod_tmpdir)\n",
    "\n",
    "save_path = '/scratch/leuven/330/vsc33042/tmp/mallet_full_merged2/models'\n",
    "if not os.path.exists(os.path.join(save_path)):\n",
    "    os.makedirs(os.path.join(save_path))    \n",
    "    \n",
    "n_topics = [60, 70, 80, 90, 100]\n",
    "# n_topics_merged = [2, 5, 10, 20, 30, 35, 40, 45, 50, 60, 70, 80, 90, 100]\n",
    "n_iter = 500"
   ]
  },
  {
   "cell_type": "code",
   "execution_count": 9,
   "id": "6e27885c",
   "metadata": {
    "execution": {
     "iopub.execute_input": "2021-11-27T23:38:57.141230Z",
     "iopub.status.busy": "2021-11-27T23:38:57.140125Z",
     "iopub.status.idle": "2021-11-28T00:05:37.610889Z",
     "shell.execute_reply": "2021-11-28T00:05:37.609216Z"
    },
    "papermill": {
     "duration": 1600.494071,
     "end_time": "2021-11-28T00:05:37.611228",
     "exception": true,
     "start_time": "2021-11-27T23:38:57.117157",
     "status": "failed"
    },
    "tags": []
   },
   "outputs": [
    {
     "name": "stdout",
     "output_type": "stream",
     "text": [
      "Running full_merged__cistopic_obj_mergedconsensus_metadata_annotated.pkl\n",
      "2021-11-28 00:38:57,140 cisTopic     INFO     Formatting input to corpus\n",
      "2021-11-28 00:39:23,232 gensim.corpora.dictionary INFO     adding document #0 to Dictionary(0 unique tokens: [])\n",
      "2021-11-28 00:40:27,531 gensim.corpora.dictionary INFO     adding document #10000 to Dictionary(0 unique tokens: [])\n",
      "2021-11-28 00:41:49,281 gensim.corpora.dictionary INFO     adding document #20000 to Dictionary(0 unique tokens: [])\n",
      "2021-11-28 00:44:04,017 gensim.corpora.dictionary INFO     adding document #30000 to Dictionary(0 unique tokens: [])\n",
      "2021-11-28 00:45:00,130 gensim.corpora.dictionary INFO     adding document #40000 to Dictionary(0 unique tokens: [])\n",
      "2021-11-28 00:46:25,973 gensim.corpora.dictionary INFO     built Dictionary(432188 unique tokens: ['0', '1', '2', '3', '4']...) from 45360 documents (total 399815578 corpus positions)\n",
      "2021-11-28 00:46:25,974 cisTopic     INFO     Running model with 60 topics\n",
      "2021-11-28 00:46:25,991 LDAMalletWrapper INFO     Serializing temporary corpus to /scratch/leuven/330/vsc33042/tmp/mallet_full_merged/full_merged__cistopic_obj_mergedconsensus_metadata_annotated.pkl_corpus.txt\n",
      "2021-11-28 01:05:35,915 LDAMalletWrapper INFO     Converting temporary corpus to MALLET format with mallet import-file --preserve-case --keep-sequence --remove-stopwords --token-regex \"\\S+\" --input /scratch/leuven/330/vsc33042/tmp/mallet_full_merged/full_merged__cistopic_obj_mergedconsensus_metadata_annotated.pkl_corpus.txt --output /scratch/leuven/330/vsc33042/tmp/mallet_full_merged/full_merged__cistopic_obj_mergedconsensus_metadata_annotated.pkl_corpus.mallet\n"
     ]
    },
    {
     "ename": "CalledProcessError",
     "evalue": "Command 'mallet import-file --preserve-case --keep-sequence --remove-stopwords --token-regex \"\\S+\" --input /scratch/leuven/330/vsc33042/tmp/mallet_full_merged/full_merged__cistopic_obj_mergedconsensus_metadata_annotated.pkl_corpus.txt --output /scratch/leuven/330/vsc33042/tmp/mallet_full_merged/full_merged__cistopic_obj_mergedconsensus_metadata_annotated.pkl_corpus.mallet' returned non-zero exit status 1.",
     "output_type": "error",
     "traceback": [
      "\u001b[0;31m---------------------------------------------------------------------------\u001b[0m",
      "\u001b[0;31mCalledProcessError\u001b[0m                        Traceback (most recent call last)",
      "\u001b[0;32m/local_scratch/tmp-vsc33042/ipykernel_42923/1347243191.py\u001b[0m in \u001b[0;36m<module>\u001b[0;34m\u001b[0m\n\u001b[1;32m      9\u001b[0m     \u001b[0;32melse\u001b[0m\u001b[0;34m:\u001b[0m\u001b[0;34m\u001b[0m\u001b[0;34m\u001b[0m\u001b[0m\n\u001b[1;32m     10\u001b[0m         \u001b[0mprint\u001b[0m\u001b[0;34m(\u001b[0m\u001b[0;34mf\"Running {key}\"\u001b[0m\u001b[0;34m)\u001b[0m\u001b[0;34m\u001b[0m\u001b[0;34m\u001b[0m\u001b[0m\n\u001b[0;32m---> 11\u001b[0;31m         model = run_cgs_models_mallet(\n\u001b[0m\u001b[1;32m     12\u001b[0m                             \u001b[0;34m'mallet'\u001b[0m\u001b[0;34m,\u001b[0m\u001b[0;34m\u001b[0m\u001b[0;34m\u001b[0m\u001b[0m\n\u001b[1;32m     13\u001b[0m                             \u001b[0mcistopic_obj_dict\u001b[0m\u001b[0;34m[\u001b[0m\u001b[0mkey\u001b[0m\u001b[0;34m]\u001b[0m\u001b[0;34m,\u001b[0m\u001b[0;34m\u001b[0m\u001b[0;34m\u001b[0m\u001b[0m\n",
      "\u001b[0;32m/opt/venv/lib/python3.8/site-packages/pycisTopic/lda_models.py\u001b[0m in \u001b[0;36mrun_cgs_models_mallet\u001b[0;34m(path_to_mallet_binary, cistopic_obj, n_topics, n_cpu, n_iter, random_state, alpha, alpha_by_topic, eta, eta_by_topic, top_topics_coh, tmp_path, save_path)\u001b[0m\n\u001b[1;32m    733\u001b[0m     \u001b[0mid2word\u001b[0m \u001b[0;34m=\u001b[0m \u001b[0mcorpora\u001b[0m\u001b[0;34m.\u001b[0m\u001b[0mDictionary\u001b[0m\u001b[0;34m.\u001b[0m\u001b[0mfrom_corpus\u001b[0m\u001b[0;34m(\u001b[0m\u001b[0mcorpus\u001b[0m\u001b[0;34m,\u001b[0m \u001b[0mnames_dict\u001b[0m\u001b[0;34m)\u001b[0m\u001b[0;34m\u001b[0m\u001b[0;34m\u001b[0m\u001b[0m\n\u001b[1;32m    734\u001b[0m \u001b[0;34m\u001b[0m\u001b[0m\n\u001b[0;32m--> 735\u001b[0;31m     model_list = [\n\u001b[0m\u001b[1;32m    736\u001b[0m         run_cgs_model_mallet(\n\u001b[1;32m    737\u001b[0m             \u001b[0mpath_to_mallet_binary\u001b[0m\u001b[0;34m,\u001b[0m\u001b[0;34m\u001b[0m\u001b[0;34m\u001b[0m\u001b[0m\n",
      "\u001b[0;32m/opt/venv/lib/python3.8/site-packages/pycisTopic/lda_models.py\u001b[0m in \u001b[0;36m<listcomp>\u001b[0;34m(.0)\u001b[0m\n\u001b[1;32m    734\u001b[0m \u001b[0;34m\u001b[0m\u001b[0m\n\u001b[1;32m    735\u001b[0m     model_list = [\n\u001b[0;32m--> 736\u001b[0;31m         run_cgs_model_mallet(\n\u001b[0m\u001b[1;32m    737\u001b[0m             \u001b[0mpath_to_mallet_binary\u001b[0m\u001b[0;34m,\u001b[0m\u001b[0;34m\u001b[0m\u001b[0;34m\u001b[0m\u001b[0m\n\u001b[1;32m    738\u001b[0m             \u001b[0mbinary_matrix\u001b[0m\u001b[0;34m,\u001b[0m\u001b[0;34m\u001b[0m\u001b[0;34m\u001b[0m\u001b[0m\n",
      "\u001b[0;32m/opt/venv/lib/python3.8/site-packages/pycisTopic/lda_models.py\u001b[0m in \u001b[0;36mrun_cgs_model_mallet\u001b[0;34m(path_to_mallet_binary, binary_matrix, corpus, id2word, n_topics, cell_names, region_names, n_cpu, n_iter, random_state, alpha, alpha_by_topic, eta, eta_by_topic, top_topics_coh, tmp_path, save_path)\u001b[0m\n\u001b[1;32m    835\u001b[0m     \u001b[0;31m# Running model\u001b[0m\u001b[0;34m\u001b[0m\u001b[0;34m\u001b[0m\u001b[0;34m\u001b[0m\u001b[0m\n\u001b[1;32m    836\u001b[0m     \u001b[0mlog\u001b[0m\u001b[0;34m.\u001b[0m\u001b[0minfo\u001b[0m\u001b[0;34m(\u001b[0m\u001b[0;34mf\"Running model with {n_topics} topics\"\u001b[0m\u001b[0;34m)\u001b[0m\u001b[0;34m\u001b[0m\u001b[0;34m\u001b[0m\u001b[0m\n\u001b[0;32m--> 837\u001b[0;31m     model = LDAMallet(\n\u001b[0m\u001b[1;32m    838\u001b[0m         \u001b[0mpath_to_mallet_binary\u001b[0m\u001b[0;34m,\u001b[0m\u001b[0;34m\u001b[0m\u001b[0;34m\u001b[0m\u001b[0m\n\u001b[1;32m    839\u001b[0m         \u001b[0mcorpus\u001b[0m\u001b[0;34m=\u001b[0m\u001b[0mcorpus\u001b[0m\u001b[0;34m,\u001b[0m\u001b[0;34m\u001b[0m\u001b[0;34m\u001b[0m\u001b[0m\n",
      "\u001b[0;32m/opt/venv/lib/python3.8/site-packages/pycisTopic/lda_models.py\u001b[0m in \u001b[0;36m__init__\u001b[0;34m(self, mallet_path, num_topics, corpus, alpha, eta, id2word, n_cpu, tmp_dir, optimize_interval, iterations, topic_threshold, random_seed)\u001b[0m\n\u001b[1;32m    449\u001b[0m         \u001b[0mself\u001b[0m\u001b[0;34m.\u001b[0m\u001b[0mrandom_seed\u001b[0m \u001b[0;34m=\u001b[0m \u001b[0mrandom_seed\u001b[0m\u001b[0;34m\u001b[0m\u001b[0;34m\u001b[0m\u001b[0m\n\u001b[1;32m    450\u001b[0m         \u001b[0;32mif\u001b[0m \u001b[0mcorpus\u001b[0m \u001b[0;32mis\u001b[0m \u001b[0;32mnot\u001b[0m \u001b[0;32mNone\u001b[0m\u001b[0;34m:\u001b[0m\u001b[0;34m\u001b[0m\u001b[0;34m\u001b[0m\u001b[0m\n\u001b[0;32m--> 451\u001b[0;31m             \u001b[0mself\u001b[0m\u001b[0;34m.\u001b[0m\u001b[0mtrain\u001b[0m\u001b[0;34m(\u001b[0m\u001b[0mcorpus\u001b[0m\u001b[0;34m)\u001b[0m\u001b[0;34m\u001b[0m\u001b[0;34m\u001b[0m\u001b[0m\n\u001b[0m\u001b[1;32m    452\u001b[0m \u001b[0;34m\u001b[0m\u001b[0m\n\u001b[1;32m    453\u001b[0m     \u001b[0;32mdef\u001b[0m \u001b[0mcorpus2mallet\u001b[0m\u001b[0;34m(\u001b[0m\u001b[0mself\u001b[0m\u001b[0;34m,\u001b[0m \u001b[0mcorpus\u001b[0m\u001b[0;34m,\u001b[0m \u001b[0mfile_like\u001b[0m\u001b[0;34m)\u001b[0m\u001b[0;34m:\u001b[0m\u001b[0;34m\u001b[0m\u001b[0;34m\u001b[0m\u001b[0m\n",
      "\u001b[0;32m/opt/venv/lib/python3.8/site-packages/pycisTopic/lda_models.py\u001b[0m in \u001b[0;36mtrain\u001b[0;34m(self, corpus)\u001b[0m\n\u001b[1;32m    521\u001b[0m         \u001b[0mlogger\u001b[0m \u001b[0;34m=\u001b[0m \u001b[0mlogging\u001b[0m\u001b[0;34m.\u001b[0m\u001b[0mgetLogger\u001b[0m\u001b[0;34m(\u001b[0m\u001b[0;34m'LDAMalletWrapper'\u001b[0m\u001b[0;34m)\u001b[0m\u001b[0;34m\u001b[0m\u001b[0;34m\u001b[0m\u001b[0m\n\u001b[1;32m    522\u001b[0m         \u001b[0;32mif\u001b[0m \u001b[0mos\u001b[0m\u001b[0;34m.\u001b[0m\u001b[0mpath\u001b[0m\u001b[0;34m.\u001b[0m\u001b[0misfile\u001b[0m\u001b[0;34m(\u001b[0m\u001b[0mself\u001b[0m\u001b[0;34m.\u001b[0m\u001b[0mfcorpusmallet\u001b[0m\u001b[0;34m(\u001b[0m\u001b[0;34m)\u001b[0m\u001b[0;34m)\u001b[0m \u001b[0;32mis\u001b[0m \u001b[0;32mFalse\u001b[0m\u001b[0;34m:\u001b[0m\u001b[0;34m\u001b[0m\u001b[0;34m\u001b[0m\u001b[0m\n\u001b[0;32m--> 523\u001b[0;31m             \u001b[0mself\u001b[0m\u001b[0;34m.\u001b[0m\u001b[0mconvert_input\u001b[0m\u001b[0;34m(\u001b[0m\u001b[0mcorpus\u001b[0m\u001b[0;34m,\u001b[0m \u001b[0minfer\u001b[0m\u001b[0;34m=\u001b[0m\u001b[0;32mFalse\u001b[0m\u001b[0;34m)\u001b[0m\u001b[0;34m\u001b[0m\u001b[0;34m\u001b[0m\u001b[0m\n\u001b[0m\u001b[1;32m    524\u001b[0m         \u001b[0;32melse\u001b[0m\u001b[0;34m:\u001b[0m\u001b[0;34m\u001b[0m\u001b[0;34m\u001b[0m\u001b[0m\n\u001b[1;32m    525\u001b[0m             \u001b[0mlogger\u001b[0m\u001b[0;34m.\u001b[0m\u001b[0minfo\u001b[0m\u001b[0;34m(\u001b[0m\u001b[0;34m\"MALLET corpus already exists, training model\"\u001b[0m\u001b[0;34m)\u001b[0m\u001b[0;34m\u001b[0m\u001b[0;34m\u001b[0m\u001b[0m\n",
      "\u001b[0;32m/opt/venv/lib/python3.8/site-packages/pycisTopic/lda_models.py\u001b[0m in \u001b[0;36mconvert_input\u001b[0;34m(self, corpus, infer, serialize_corpus)\u001b[0m\n\u001b[1;32m    508\u001b[0m             \u001b[0mcmd\u001b[0m\u001b[0;34m\u001b[0m\u001b[0;34m\u001b[0m\u001b[0m\n\u001b[1;32m    509\u001b[0m         )\n\u001b[0;32m--> 510\u001b[0;31m         \u001b[0mcheck_output\u001b[0m\u001b[0;34m(\u001b[0m\u001b[0margs\u001b[0m\u001b[0;34m=\u001b[0m\u001b[0mcmd\u001b[0m\u001b[0;34m,\u001b[0m \u001b[0mshell\u001b[0m\u001b[0;34m=\u001b[0m\u001b[0;32mTrue\u001b[0m\u001b[0;34m)\u001b[0m\u001b[0;34m\u001b[0m\u001b[0;34m\u001b[0m\u001b[0m\n\u001b[0m\u001b[1;32m    511\u001b[0m \u001b[0;34m\u001b[0m\u001b[0m\n\u001b[1;32m    512\u001b[0m     \u001b[0;32mdef\u001b[0m \u001b[0mtrain\u001b[0m\u001b[0;34m(\u001b[0m\u001b[0mself\u001b[0m\u001b[0;34m,\u001b[0m \u001b[0mcorpus\u001b[0m\u001b[0;34m)\u001b[0m\u001b[0;34m:\u001b[0m\u001b[0;34m\u001b[0m\u001b[0;34m\u001b[0m\u001b[0m\n",
      "\u001b[0;32m/opt/venv/lib/python3.8/site-packages/gensim/utils.py\u001b[0m in \u001b[0;36mcheck_output\u001b[0;34m(stdout, *popenargs, **kwargs)\u001b[0m\n\u001b[1;32m   1891\u001b[0m             \u001b[0merror\u001b[0m \u001b[0;34m=\u001b[0m \u001b[0msubprocess\u001b[0m\u001b[0;34m.\u001b[0m\u001b[0mCalledProcessError\u001b[0m\u001b[0;34m(\u001b[0m\u001b[0mretcode\u001b[0m\u001b[0;34m,\u001b[0m \u001b[0mcmd\u001b[0m\u001b[0;34m)\u001b[0m\u001b[0;34m\u001b[0m\u001b[0;34m\u001b[0m\u001b[0m\n\u001b[1;32m   1892\u001b[0m             \u001b[0merror\u001b[0m\u001b[0;34m.\u001b[0m\u001b[0moutput\u001b[0m \u001b[0;34m=\u001b[0m \u001b[0moutput\u001b[0m\u001b[0;34m\u001b[0m\u001b[0;34m\u001b[0m\u001b[0m\n\u001b[0;32m-> 1893\u001b[0;31m             \u001b[0;32mraise\u001b[0m \u001b[0merror\u001b[0m\u001b[0;34m\u001b[0m\u001b[0;34m\u001b[0m\u001b[0m\n\u001b[0m\u001b[1;32m   1894\u001b[0m         \u001b[0;32mreturn\u001b[0m \u001b[0moutput\u001b[0m\u001b[0;34m\u001b[0m\u001b[0;34m\u001b[0m\u001b[0m\n\u001b[1;32m   1895\u001b[0m     \u001b[0;32mexcept\u001b[0m \u001b[0mKeyboardInterrupt\u001b[0m\u001b[0;34m:\u001b[0m\u001b[0;34m\u001b[0m\u001b[0;34m\u001b[0m\u001b[0m\n",
      "\u001b[0;31mCalledProcessError\u001b[0m: Command 'mallet import-file --preserve-case --keep-sequence --remove-stopwords --token-regex \"\\S+\" --input /scratch/leuven/330/vsc33042/tmp/mallet_full_merged/full_merged__cistopic_obj_mergedconsensus_metadata_annotated.pkl_corpus.txt --output /scratch/leuven/330/vsc33042/tmp/mallet_full_merged/full_merged__cistopic_obj_mergedconsensus_metadata_annotated.pkl_corpus.mallet' returned non-zero exit status 1."
     ]
    }
   ],
   "source": [
    "# mallet implementation\n",
    "models_dict = {}\n",
    "for key in ['libds_merged']:\n",
    "    f_mod = os.path.join(wdir, f_mod_dir, key + '__models_' + str(n_iter) + '_iter.pkl')\n",
    "    if os.path.isfile(f_mod):\n",
    "        print(f\"Loading {f_mod}\")\n",
    "        with open(f_mod, 'rb') as f:\n",
    "            models_dict[key] = pickle.load(f)\n",
    "    else:\n",
    "        print(f\"Running {key}\")\n",
    "        model = run_cgs_models_mallet(\n",
    "                            'mallet',\n",
    "                            cistopic_obj_dict[key],\n",
    "                            n_topics=n_topics_merged if key=='merged' else n_topics ,\n",
    "                            n_cpu=24,\n",
    "                            n_iter=n_iter,\n",
    "                            random_state=555,\n",
    "                            alpha=50,\n",
    "                            alpha_by_topic=True,\n",
    "                            eta=0.1,\n",
    "                            save_path=save_path,\n",
    "                            eta_by_topic=False,\n",
    "                            tmp_path=os.path.join(f_mod_tmpdir, key + '_')\n",
    "                            )\n",
    "        # Save\n",
    "        with open(f_mod, 'wb') as f:\n",
    "            pickle.dump(model, f)\n",
    "        print(f\"Finished {key}\")\n",
    "        models_dict[key] = model"
   ]
  },
  {
   "cell_type": "markdown",
   "id": "332fb85d",
   "metadata": {
    "papermill": {
     "duration": null,
     "end_time": null,
     "exception": null,
     "start_time": null,
     "status": "pending"
    },
    "tags": []
   },
   "source": [
    "# merge all the models"
   ]
  },
  {
   "cell_type": "code",
   "execution_count": null,
   "id": "7dbcfbf4",
   "metadata": {
    "papermill": {
     "duration": null,
     "end_time": null,
     "exception": null,
     "start_time": null,
     "status": "pending"
    },
    "tags": []
   },
   "outputs": [],
   "source": [
    "# Load models\n",
    "import pickle\n",
    "import os\n",
    "from pycisTopic.lda_models import *"
   ]
  },
  {
   "cell_type": "code",
   "execution_count": null,
   "id": "6856ac87",
   "metadata": {
    "papermill": {
     "duration": null,
     "end_time": null,
     "exception": null,
     "start_time": null,
     "status": "pending"
    },
    "tags": []
   },
   "outputs": [],
   "source": [
    "models = []\n",
    "model_files = [name for name in os.listdir(save_path) if 'Topic' in name]\n",
    "models = [pickle.load(open(path_to_data + file, 'rb')) for file in model_files]"
   ]
  },
  {
   "cell_type": "code",
   "execution_count": null,
   "id": "8eaba801",
   "metadata": {
    "papermill": {
     "duration": null,
     "end_time": null,
     "exception": null,
     "start_time": null,
     "status": "pending"
    },
    "tags": []
   },
   "outputs": [],
   "source": [
    "models"
   ]
  },
  {
   "cell_type": "code",
   "execution_count": null,
   "id": "42092086",
   "metadata": {
    "papermill": {
     "duration": null,
     "end_time": null,
     "exception": null,
     "start_time": null,
     "status": "pending"
    },
    "tags": []
   },
   "outputs": [],
   "source": [
    "with open(f_mod, 'wb') as f:\n",
    "    pickle.dump(model, f)\n",
    "print(f\"Finished {key}\")"
   ]
  }
 ],
 "metadata": {
  "kernelspec": {
   "display_name": "pycisTopic_singularity_20210921",
   "language": "python",
   "name": "pycistopic_singularity"
  },
  "language_info": {
   "codemirror_mode": {
    "name": "ipython",
    "version": 3
   },
   "file_extension": ".py",
   "mimetype": "text/x-python",
   "name": "python",
   "nbconvert_exporter": "python",
   "pygments_lexer": "ipython3",
   "version": "3.8.6"
  },
  "papermill": {
   "default_parameters": {},
   "duration": 1671.881825,
   "end_time": "2021-11-28T00:05:40.106739",
   "environment_variables": {},
   "exception": true,
   "input_path": "5_run_models_consensus.ipynb",
   "output_path": "5_run_models_consensus.out.ipynb",
   "parameters": {},
   "start_time": "2021-11-27T23:37:48.224914",
   "version": "2.3.3"
  }
 },
 "nbformat": 4,
 "nbformat_minor": 5
}
