{
 "cells": [
  {
   "cell_type": "markdown",
   "id": "5bbf9681",
   "metadata": {},
   "source": [
    "# pycisTopic analysis\n",
    "\n",
    "libds dataset, using SCREEN regions, only for hydrop samples (but other samples treated same)"
   ]
  },
  {
   "cell_type": "code",
   "execution_count": 1,
   "id": "7f24b13a",
   "metadata": {},
   "outputs": [
    {
     "data": {
      "text/plain": [
       "'0.1.dev300+g7494158'"
      ]
     },
     "execution_count": 1,
     "metadata": {},
     "output_type": "execute_result"
    }
   ],
   "source": [
    "import pycisTopic\n",
    "pycisTopic.__version__"
   ]
  },
  {
   "cell_type": "code",
   "execution_count": 2,
   "id": "108e074e",
   "metadata": {},
   "outputs": [],
   "source": [
    "import warnings\n",
    "warnings.filterwarnings('ignore')\n",
    "warnings.simplefilter('ignore')"
   ]
  },
  {
   "cell_type": "code",
   "execution_count": 3,
   "id": "0cb9478b",
   "metadata": {},
   "outputs": [],
   "source": [
    "import pickle\n",
    "import pandas as pd"
   ]
  },
  {
   "cell_type": "code",
   "execution_count": 4,
   "id": "b89da8ec",
   "metadata": {},
   "outputs": [],
   "source": [
    "import os\n",
    "wdir = '/lustre1/project/stg_00002/lcb/fderop/data/20211013_hca_benchmark_libds/'\n",
    "os.chdir( wdir )"
   ]
  },
  {
   "cell_type": "code",
   "execution_count": 5,
   "id": "3b0c6fb1",
   "metadata": {},
   "outputs": [],
   "source": [
    "import glob\n",
    "from collections import OrderedDict"
   ]
  },
  {
   "cell_type": "markdown",
   "id": "17a89959",
   "metadata": {},
   "source": [
    "## Create the cisTopic objects for each sample"
   ]
  },
  {
   "cell_type": "markdown",
   "id": "4a285604",
   "metadata": {},
   "source": [
    "Create a dictionary with fragments files for each sample"
   ]
  },
  {
   "cell_type": "code",
   "execution_count": 14,
   "id": "00729fc8",
   "metadata": {},
   "outputs": [
    {
     "data": {
      "text/plain": [
       "odict_keys(['VIB_Hydrop_1', 'VIB_Hydrop_2'])"
      ]
     },
     "execution_count": 14,
     "metadata": {},
     "output_type": "execute_result"
    }
   ],
   "source": [
    "filenames = glob.glob('fragments_postbap/*Hydrop*.sinto.mm.fragments.tsv.gz')\n",
    "samples = [item.replace(\".sinto.mm.fragments.tsv.gz\", \"\") for item in filenames]\n",
    "samples = [item.replace(\"fragments_postbap/\", \"\") for item in samples]\n",
    "fragments_dict = {samples[i]: filenames[i] for i in range(len(samples))}\n",
    "fragments_dict = OrderedDict(sorted(fragments_dict.items()))\n",
    "fragments_dict.keys()"
   ]
  },
  {
   "cell_type": "markdown",
   "id": "5716a0cb",
   "metadata": {},
   "source": [
    "Read cell metadata and barcodes passing filters"
   ]
  },
  {
   "cell_type": "code",
   "execution_count": 6,
   "id": "d58bae8a",
   "metadata": {},
   "outputs": [],
   "source": [
    "# Metrics\n",
    "metadata_bc_dict_hydrop = {}\n",
    "f_metadata_hydrop = 'out_qc_all_hydrop/data/pycistopic/qc/benchmark__metadata.pickle'\n",
    "infile = open(f_metadata_hydrop, 'rb')\n",
    "metadata_bc_dict_hydrop = pickle.load(infile)\n",
    "infile.close()"
   ]
  },
  {
   "cell_type": "code",
   "execution_count": 9,
   "id": "8e40fa88",
   "metadata": {},
   "outputs": [],
   "source": [
    "metadata_bc_dict = metadata_bc_dict_hydrop"
   ]
  },
  {
   "cell_type": "code",
   "execution_count": 16,
   "id": "3728baa2",
   "metadata": {},
   "outputs": [
    {
     "data": {
      "text/plain": [
       "odict_keys(['VIB_Hydrop_1', 'VIB_Hydrop_2'])"
      ]
     },
     "execution_count": 16,
     "metadata": {},
     "output_type": "execute_result"
    }
   ],
   "source": [
    "fragments_dict.keys()"
   ]
  },
  {
   "cell_type": "code",
   "execution_count": 15,
   "id": "c07acc8c",
   "metadata": {},
   "outputs": [],
   "source": [
    "f_bcdir = 'out_qc_merged/data/pycistopic/qc/selected_barcodes/'\n",
    "\n",
    "bc_passing_filters = {}\n",
    "for k in fragments_dict.keys():\n",
    "    file = open(os.path.join(f_bcdir,k + '.cell_barcodes.txt'), 'r')\n",
    "    bc_passing_filters[k] = [ x.strip() for x in file.readlines() ]\n",
    "    file.close()"
   ]
  },
  {
   "cell_type": "markdown",
   "id": "d310ce25",
   "metadata": {},
   "source": [
    "Read bed files for SCREEN regions and blacklist (blacklisted regions in genome where many reads can map)"
   ]
  },
  {
   "cell_type": "code",
   "execution_count": 18,
   "id": "c98f64bf",
   "metadata": {},
   "outputs": [],
   "source": [
    "path_to_regions = 'hg38_regions/V2.hg38-rDHS-Unfiltered.blacklisted.bed'\n",
    "path_to_blacklist = 'hg38_regions/hg38-blacklist.v2.bed'"
   ]
  },
  {
   "cell_type": "markdown",
   "id": "42290f02",
   "metadata": {},
   "source": [
    "Make a new output dir"
   ]
  },
  {
   "cell_type": "code",
   "execution_count": 19,
   "id": "78c45e6a",
   "metadata": {},
   "outputs": [],
   "source": [
    "f_cto_dir = 'cistopic_objs__screen'\n",
    "if not os.path.exists(os.path.join(wdir, f_cto_dir)):\n",
    "    os.makedirs(os.path.join(wdir, f_cto_dir))"
   ]
  },
  {
   "cell_type": "code",
   "execution_count": 20,
   "id": "20ac3a9d",
   "metadata": {},
   "outputs": [],
   "source": [
    "from pycisTopic.cistopic_class import create_cistopic_object_from_fragments"
   ]
  },
  {
   "cell_type": "markdown",
   "id": "b72de2af",
   "metadata": {},
   "source": [
    "Create cistopic objects for each sample. If pandas crashes, increase the number of partitions. This is necessary for the largest files."
   ]
  },
  {
   "cell_type": "code",
   "execution_count": 21,
   "id": "4b081398",
   "metadata": {
    "tags": []
   },
   "outputs": [
    {
     "name": "stdout",
     "output_type": "stream",
     "text": [
      "Skipping VIB_Hydrop_1, already exists\n",
      "Skipping VIB_Hydrop_2, already exists\n"
     ]
    }
   ],
   "source": [
    "for key in metadata_bc_dict.keys():\n",
    "    f_out = os.path.join(wdir, f_cto_dir, key + '__cistopic_obj.pkl')\n",
    "    if os.path.isfile(f_out):\n",
    "        print(f\"Skipping {key}, already exists\")\n",
    "        continue\n",
    "        \n",
    "    tmp_cto = create_cistopic_object_from_fragments(path_to_fragments=fragments_dict[key],\n",
    "                                                    path_to_regions=path_to_regions,\n",
    "                                                    path_to_blacklist=path_to_blacklist,\n",
    "                                                    metrics=metadata_bc_dict[key],\n",
    "                                                    valid_bc=bc_passing_filters[key],\n",
    "                                                    n_cpu=15,\n",
    "                                                    partition=5,\n",
    "                                                    project=key)\n",
    "    \n",
    "    with open(f_out, 'wb') as f:\n",
    "        pickle.dump(tmp_cto, f)\n",
    "    \n",
    "    print(f\"Generated and saved cistopic object for {key}\")"
   ]
  },
  {
   "cell_type": "markdown",
   "id": "7e87974d",
   "metadata": {},
   "source": [
    "Now, we load all of the newly-generated cistopic objects into a dictionary"
   ]
  },
  {
   "cell_type": "code",
   "execution_count": 22,
   "id": "98153cd5",
   "metadata": {},
   "outputs": [
    {
     "name": "stdout",
     "output_type": "stream",
     "text": [
      "Loaded VIB_Hydrop_1\n",
      "Loaded VIB_Hydrop_2\n"
     ]
    }
   ],
   "source": [
    "# load objects into dict:\n",
    "cistopic_obj_dict = {}\n",
    "for key in bc_passing_filters.keys():\n",
    "    f_out = os.path.join(wdir, f_cto_dir, key + '__cistopic_obj.pkl')\n",
    "    with open(f_out, 'rb') as f:\n",
    "        tmp_cto = pickle.load(f)\n",
    "    cistopic_obj_dict[key] = tmp_cto\n",
    "    print(f\"Loaded {key}\")"
   ]
  },
  {
   "cell_type": "markdown",
   "id": "5a0a509c",
   "metadata": {},
   "source": [
    "## Cell filtering"
   ]
  },
  {
   "cell_type": "code",
   "execution_count": 23,
   "id": "443287ba",
   "metadata": {},
   "outputs": [],
   "source": [
    "import numpy as np\n",
    "import seaborn as sns\n",
    "import matplotlib.pyplot as plt\n",
    "import re"
   ]
  },
  {
   "cell_type": "markdown",
   "id": "c115c91e",
   "metadata": {},
   "source": [
    "### Read in Freemuxlet doublet predictions"
   ]
  },
  {
   "cell_type": "markdown",
   "id": "aa2d154b",
   "metadata": {},
   "source": [
    "Before we can do this, run freemuxlet. See `freemuxlet.ipynb`"
   ]
  },
  {
   "cell_type": "code",
   "execution_count": 24,
   "id": "2407ae27",
   "metadata": {},
   "outputs": [],
   "source": [
    "f_fmx = 'out_fmx/genotype_concordance_unified.txt'\n",
    "fmx = pd.read_csv(f_fmx, sep='\\t')"
   ]
  },
  {
   "cell_type": "code",
   "execution_count": 25,
   "id": "37cc3bd1",
   "metadata": {},
   "outputs": [
    {
     "data": {
      "text/plain": [
       "array(['SNG', 'DBL'], dtype=object)"
      ]
     },
     "execution_count": 25,
     "metadata": {},
     "output_type": "execute_result"
    }
   ],
   "source": [
    "fmx['DROPLET.TYPE'].unique()"
   ]
  },
  {
   "cell_type": "code",
   "execution_count": 26,
   "id": "6a8690ec",
   "metadata": {},
   "outputs": [],
   "source": [
    "# create an annotation df:\n",
    "fmx['cell_names'] = fmx['BARCODE'] + \"-\" + fmx['replicate']\n",
    "\n",
    "fmx_annot = fmx[['DROPLET.TYPE','sample','cell_names']].copy().set_index('cell_names')\n",
    "fmx_annot.columns = ['fmx_droplet_type','fmx_sample']"
   ]
  },
  {
   "cell_type": "code",
   "execution_count": 27,
   "id": "99f972a5",
   "metadata": {},
   "outputs": [
    {
     "name": "stdout",
     "output_type": "stream",
     "text": [
      "VIB_Hydrop_1\n",
      "VIB_Hydrop_2\n"
     ]
    }
   ],
   "source": [
    "for key in cistopic_obj_dict.keys():\n",
    "    print(key)\n",
    "    cistopic_obj_dict[key].add_cell_data(fmx_annot)"
   ]
  },
  {
   "cell_type": "markdown",
   "id": "100e3301",
   "metadata": {},
   "source": [
    "### Run Scrublet"
   ]
  },
  {
   "cell_type": "code",
   "execution_count": 1,
   "id": "16983514",
   "metadata": {},
   "outputs": [],
   "source": [
    "import scrublet as scr\n",
    "import pandas as pd\n",
    "import matplotlib.pyplot as plt"
   ]
  },
  {
   "cell_type": "code",
   "execution_count": 6,
   "id": "f8c18f46",
   "metadata": {
    "collapsed": true,
    "jupyter": {
     "outputs_hidden": true
    },
    "tags": []
   },
   "outputs": [
    {
     "name": "stdout",
     "output_type": "stream",
     "text": [
      "Package                  Version\n",
      "------------------------ -------------------\n",
      "adjustText               0.7.3\n",
      "aiohttp                  3.7.4.post0\n",
      "aiohttp-cors             0.7.0\n",
      "aioredis                 1.3.1\n",
      "anndata                  0.7.6\n",
      "annoy                    1.17.0\n",
      "ansiwrap                 0.8.4\n",
      "appdirs                  1.4.4\n",
      "arboreto                 0.1.6\n",
      "argon2-cffi              21.1.0\n",
      "async-timeout            3.0.1\n",
      "attrs                    21.2.0\n",
      "backcall                 0.2.0\n",
      "bbknn                    1.5.1\n",
      "beautifulsoup4           4.10.0\n",
      "black                    21.9b0\n",
      "bleach                   4.1.0\n",
      "blessings                1.7\n",
      "bokeh                    2.4.0\n",
      "boltons                  21.0.0\n",
      "bs4                      0.0.1\n",
      "cachetools               4.2.2\n",
      "cattrs                   1.8.0\n",
      "certifi                  2021.5.30\n",
      "cffi                     1.14.6\n",
      "chardet                  4.0.0\n",
      "charset-normalizer       2.0.6\n",
      "click                    8.0.1\n",
      "cloudpickle              2.0.0\n",
      "colorful                 0.5.4\n",
      "cryptography             3.4.8\n",
      "ctxcore                  0.1.1\n",
      "cycler                   0.10.0\n",
      "Cython                   0.29.24\n",
      "cytoolz                  0.11.0\n",
      "dask                     2021.9.0\n",
      "dataclasses-json         0.5.6\n",
      "debugpy                  1.4.3\n",
      "decorator                5.1.0\n",
      "defusedxml               0.7.1\n",
      "deprecation              2.1.0\n",
      "dill                     0.3.4\n",
      "distributed              2021.9.0\n",
      "entrypoints              0.3\n",
      "fbpca                    1.0\n",
      "filelock                 3.0.12\n",
      "fitsne                   1.2.1\n",
      "frozendict               2.0.6\n",
      "fsspec                   2021.8.1\n",
      "future                   0.18.2\n",
      "gensim                   4.1.2\n",
      "geosketch                1.2\n",
      "germalemma               0.1.3\n",
      "globre                   0.1.5\n",
      "google-api-core          1.31.2\n",
      "google-auth              1.35.0\n",
      "googleapis-common-protos 1.53.0\n",
      "gpustat                  0.6.0\n",
      "grpcio                   1.40.0\n",
      "h5py                     3.4.0\n",
      "harmonypy                0.0.5\n",
      "HeapDict                 1.0.1\n",
      "hiredis                  2.0.0\n",
      "idna                     3.2\n",
      "igv-jupyterlab           1.0.1\n",
      "imageio                  2.9.0\n",
      "interlap                 0.2.7\n",
      "intervaltree             2.1.0\n",
      "ipykernel                6.4.1\n",
      "ipympl                   0.7.0\n",
      "ipython                  7.27.0\n",
      "ipython-genutils         0.2.0\n",
      "ipywidgets               7.6.5\n",
      "jedi                     0.18.0\n",
      "Jinja2                   3.0.1\n",
      "joblib                   1.0.1\n",
      "jsonschema               3.2.0\n",
      "jupyter-client           7.0.3\n",
      "jupyter-core             4.8.1\n",
      "jupyterlab-pygments      0.1.2\n",
      "jupyterlab-widgets       1.0.2\n",
      "kiwisolver               1.3.2\n",
      "lda                      2.0.0\n",
      "leidenalg                0.8.7\n",
      "llvmlite                 0.37.0\n",
      "locket                   0.2.1\n",
      "loompy                   3.0.6\n",
      "loomxpy                  0.4.1\n",
      "lxml                     4.6.3\n",
      "MACS2                    2.2.7.1\n",
      "MarkupSafe               2.0.1\n",
      "marshmallow              3.13.0\n",
      "marshmallow-enum         1.5.1\n",
      "matplotlib               3.4.3\n",
      "matplotlib-inline        0.1.3\n",
      "mistune                  0.8.4\n",
      "msgpack                  1.0.2\n",
      "multidict                5.1.0\n",
      "multiprocessing-on-dill  3.5.0a4\n",
      "mypy-extensions          0.4.3\n",
      "natsort                  7.1.1\n",
      "nbclient                 0.5.4\n",
      "nbconvert                6.1.0\n",
      "nbformat                 5.1.3\n",
      "ncls                     0.0.61\n",
      "nest-asyncio             1.5.1\n",
      "networkx                 2.6.3\n",
      "nltk                     3.6.3\n",
      "notebook                 6.4.4\n",
      "numba                    0.54.0\n",
      "numexpr                  2.7.3\n",
      "numpy                    1.20.3\n",
      "numpy-groupies           0.9.14\n",
      "nvidia-ml-py3            7.352.0\n",
      "opencensus               0.7.13\n",
      "opencensus-context       0.1.2\n",
      "packaging                21.0\n",
      "pandas                   1.3.3\n",
      "pandocfilters            1.5.0\n",
      "papermill                2.3.3\n",
      "parso                    0.8.2\n",
      "partd                    1.2.0\n",
      "pathspec                 0.9.0\n",
      "patsy                    0.5.1\n",
      "PatternLite              3.6\n",
      "pbr                      3.1.1\n",
      "pexpect                  4.8.0\n",
      "pickleshare              0.7.5\n",
      "Pillow                   8.3.2\n",
      "pip                      21.2.4\n",
      "platformdirs             2.3.0\n",
      "prometheus-client        0.11.0\n",
      "prompt-toolkit           3.0.20\n",
      "protobuf                 3.18.0\n",
      "psutil                   5.8.0\n",
      "ptyprocess               0.7.0\n",
      "py-spy                   0.3.9\n",
      "pyarrow                  0.16.0\n",
      "pyasn1                   0.4.8\n",
      "pyasn1-modules           0.2.8\n",
      "pybedtools               0.8.2\n",
      "pyBigWig                 0.3.18\n",
      "pybiomart                0.2.0\n",
      "pycistarget              0.1.dev85+gaf0c237\n",
      "pycisTopic               0.1.dev300+g7494158\n",
      "pycparser                2.20\n",
      "pyfasta                  0.5.2\n",
      "Pygments                 2.10.0\n",
      "pynndescent              0.5.4\n",
      "pyOpenSSL                20.0.1\n",
      "pyparsing                2.4.7\n",
      "pyphen                   0.11.0\n",
      "pyranges                 0.0.109\n",
      "pyrle                    0.0.33\n",
      "pyrsistent               0.18.0\n",
      "pysam                    0.16.0.1\n",
      "pyscenic                 0.11.2\n",
      "python-dateutil          2.8.2\n",
      "python-igraph            0.9.6\n",
      "python-Levenshtein       0.12.2\n",
      "pytz                     2021.1\n",
      "PyWavelets               1.1.1\n",
      "PyYAML                   5.4.1\n",
      "pyzmq                    22.3.0\n",
      "ray                      1.6.0\n",
      "redis                    3.5.3\n",
      "regex                    2021.8.28\n",
      "requests                 2.26.0\n",
      "requests-cache           0.8.1\n",
      "rsa                      4.7.2\n",
      "scanorama                1.7.1\n",
      "scanpy                   1.8.1\n",
      "scikit-image             0.18.3\n",
      "scikit-learn             0.24.2\n",
      "scipy                    1.7.1\n",
      "scrublet                 0.2.3\n",
      "seaborn                  0.11.2\n",
      "Send2Trash               1.8.0\n",
      "setuptools               49.2.1\n",
      "sinfo                    0.3.4\n",
      "six                      1.16.0\n",
      "smart-open               5.2.1\n",
      "sorted-nearest           0.0.33\n",
      "sortedcontainers         2.4.0\n",
      "soupsieve                2.2.1\n",
      "statsmodels              0.13.0rc0\n",
      "stdlib-list              0.8.0\n",
      "tables                   3.6.1\n",
      "tabulate                 0.8.9\n",
      "tblib                    1.7.0\n",
      "tenacity                 8.0.1\n",
      "terminado                0.12.1\n",
      "testpath                 0.5.0\n",
      "texttable                1.6.4\n",
      "textwrap3                0.9.2\n",
      "threadpoolctl            2.2.0\n",
      "tifffile                 2021.8.30\n",
      "tmtoolkit                0.9.0\n",
      "tomli                    1.2.1\n",
      "toolz                    0.11.1\n",
      "tornado                  6.1\n",
      "tqdm                     4.62.2\n",
      "traitlets                5.1.0\n",
      "tspex                    0.6.2\n",
      "typing                   3.7.4.3\n",
      "typing-extensions        3.10.0.2\n",
      "typing-inspect           0.7.1\n",
      "umap-learn               0.5.1\n",
      "url-normalize            1.4.3\n",
      "urllib3                  1.26.6\n",
      "wcwidth                  0.2.5\n",
      "webencodings             0.5.1\n",
      "wheel                    0.37.0\n",
      "widgetsnbextension       3.5.1\n",
      "xlrd                     1.2.0\n",
      "yarl                     1.6.3\n",
      "zict                     2.0.0\n",
      "\u001b[33mWARNING: You are using pip version 21.2.4; however, version 21.3 is available.\n",
      "You should consider upgrading via the '/opt/venv/bin/python -m pip install --upgrade pip' command.\u001b[0m\n",
      "Note: you may need to restart the kernel to use updated packages.\n"
     ]
    }
   ],
   "source": [
    "pip list"
   ]
  },
  {
   "cell_type": "code",
   "execution_count": 29,
   "id": "a2de711d",
   "metadata": {
    "tags": []
   },
   "outputs": [],
   "source": [
    "scrublet_doublet_thresholds = {\n",
    "    'Broad_1': 0.35,\n",
    "    'Broad_2': 0.4,\n",
    "    'Broad_mito_1': 0.37,\n",
    "    'Broad_mito_2': 0.4,\n",
    "    'CNAG_1': 0.36,\n",
    "    'CNAG_2': 0.35,\n",
    "    's3atac': 0.4,\n",
    "    'Sanger_1': 0.35,\n",
    "    'Sanger_2': 0.35,\n",
    "    'Stanford_1': 0.34,\n",
    "    'Stanford_2': 0.4,\n",
    "    'VIB_1': 0.39,\n",
    "    'VIB_2': 0.38,\n",
    "    'VIB_Hydrop_1': 0.35,\n",
    "    'VIB_Hydrop_2': 0.35,\n",
    "}"
   ]
  },
  {
   "cell_type": "code",
   "execution_count": 30,
   "id": "0b920524",
   "metadata": {
    "tags": []
   },
   "outputs": [
    {
     "name": "stdout",
     "output_type": "stream",
     "text": [
      "Starting VIB_Hydrop_1\n",
      "Preprocessing...\n",
      "Simulating doublets...\n",
      "Embedding transcriptomes using PCA...\n",
      "Calculating doublet scores...\n",
      "Automatically set threshold at doublet score = 0.63\n",
      "Detected doublet rate = 0.0%\n",
      "Estimated detectable doublet fraction = 0.3%\n",
      "Overall doublet rate:\n",
      "\tExpected   = 10.0%\n",
      "\tEstimated  = 0.0%\n",
      "Elapsed time: 3.0 seconds\n",
      "Detected doublet rate = 2.8%\n",
      "Estimated detectable doublet fraction = 13.8%\n",
      "Overall doublet rate:\n",
      "\tExpected   = 10.0%\n",
      "\tEstimated  = 20.1%\n"
     ]
    },
    {
     "data": {
      "image/png": "[encoded data removed]",
      "text/plain": [
       "<Figure size 576x216 with 2 Axes>"
      ]
     },
     "metadata": {
      "needs_background": "light"
     },
     "output_type": "display_data"
    },
    {
     "name": "stdout",
     "output_type": "stream",
     "text": [
      "Starting VIB_Hydrop_2\n",
      "Preprocessing...\n",
      "Simulating doublets...\n",
      "Embedding transcriptomes using PCA...\n",
      "Calculating doublet scores...\n",
      "Automatically set threshold at doublet score = 0.57\n",
      "Detected doublet rate = 0.1%\n",
      "Estimated detectable doublet fraction = 0.9%\n",
      "Overall doublet rate:\n",
      "\tExpected   = 10.0%\n",
      "\tEstimated  = 8.3%\n",
      "Elapsed time: 3.7 seconds\n",
      "Detected doublet rate = 3.1%\n",
      "Estimated detectable doublet fraction = 18.9%\n",
      "Overall doublet rate:\n",
      "\tExpected   = 10.0%\n",
      "\tEstimated  = 16.3%\n"
     ]
    },
    {
     "data": {
      "image/png": "[encoded data removed]",
      "text/plain": [
       "<Figure size 576x216 with 2 Axes>"
      ]
     },
     "metadata": {
      "needs_background": "light"
     },
     "output_type": "display_data"
    }
   ],
   "source": [
    "for key in fragments_dict.keys():\n",
    "    print(f\"Starting {key}\")\n",
    "    scrub = scr.Scrublet(cistopic_obj_dict[key].fragment_matrix.T, expected_doublet_rate=0.1)\n",
    "    doublet_scores, predicted_doublets = scrub.scrub_doublets()\n",
    "    #scrub.plot_histogram();\n",
    "    scrub.call_doublets(threshold=scrublet_doublet_thresholds[key])\n",
    "    a,b = scrub.plot_histogram();\n",
    "    a.suptitle(key)\n",
    "    plt.show()\n",
    "    scrublet = pd.DataFrame([scrub.doublet_scores_obs_, scrub.predicted_doublets_], \n",
    "        columns=cistopic_obj_dict[key].cell_names,\n",
    "        index=['Doublet_scores_fragments', 'Predicted_doublets_fragments']).T\n",
    "    cistopic_obj_dict[key].add_cell_data(scrublet)"
   ]
  },
  {
   "cell_type": "code",
   "execution_count": 31,
   "id": "62039113",
   "metadata": {},
   "outputs": [
    {
     "data": {
      "text/plain": [
       "dict_keys(['VIB_Hydrop_1', 'VIB_Hydrop_2'])"
      ]
     },
     "execution_count": 31,
     "metadata": {},
     "output_type": "execute_result"
    }
   ],
   "source": [
    "cistopic_obj_dict.keys()"
   ]
  },
  {
   "cell_type": "code",
   "execution_count": 32,
   "id": "8980a104",
   "metadata": {},
   "outputs": [
    {
     "name": "stdout",
     "output_type": "stream",
     "text": [
      "VIB_Hydrop_1: found doublets: \n",
      "\t(64: Scrublet); \n",
      "\t(35: freemuxlet)\n",
      "VIB_Hydrop_2: found doublets: \n",
      "\t(82: Scrublet); \n",
      "\t(71: freemuxlet)\n"
     ]
    }
   ],
   "source": [
    "for key in fragments_dict.keys():\n",
    "    print(f\"{key}: found doublets: \\n\\t({sum(cistopic_obj_dict[key].cell_data.Predicted_doublets_fragments)}: Scrublet); \"\n",
    "          f\"\\n\\t({sum(cistopic_obj_dict[key].cell_data.fmx_droplet_type == 'DBL')}: freemuxlet)\"\n",
    "         )"
   ]
  },
  {
   "cell_type": "markdown",
   "id": "95791b82",
   "metadata": {},
   "source": [
    "### Apply cell filtering\n",
    "\n",
    "Remove doublets (freemuxlet, scrublet)"
   ]
  },
  {
   "cell_type": "code",
   "execution_count": 33,
   "id": "71caacf6",
   "metadata": {
    "tags": []
   },
   "outputs": [
    {
     "name": "stdout",
     "output_type": "stream",
     "text": [
      "VIB_Hydrop_1: Removing 95 cells\n",
      "VIB_Hydrop_2: Removing 144 cells\n"
     ]
    }
   ],
   "source": [
    "removed_bcs_dict = {}\n",
    "for key in cistopic_obj_dict.keys():\n",
    "    if key=='merged':\n",
    "        continue\n",
    "        \n",
    "    removed_bcs_dict[key] = {\n",
    "        'dbl_scrublet': cistopic_obj_dict[key].cell_data.barcode[ cistopic_obj_dict[key].cell_data.Predicted_doublets_fragments == True ].tolist(),\n",
    "        'dbl_fmx': cistopic_obj_dict[key].cell_data.barcode[ cistopic_obj_dict[key].cell_data.fmx_droplet_type == 'DBL' ].tolist(),    \n",
    "    }\n",
    "    # Remove doublets \n",
    "    singlets = cistopic_obj_dict[key].cell_data[\n",
    "        (cistopic_obj_dict[key].cell_data.Predicted_doublets_fragments == False) & \n",
    "        (cistopic_obj_dict[key].cell_data.fmx_droplet_type != 'DBL')\n",
    "    ].index.tolist()\n",
    "    print(f\"{key}: Removing {len(cistopic_obj_dict[key].cell_names)-len(singlets)} cells\"\n",
    "    )\n",
    "    # Subset cisTopic object\n",
    "    cistopic_obj_dict[key].subset(singlets)\n",
    "    \n",
    "with open(os.path.join(wdir, 'removed_barcodes_dict.pkl'), 'wb') as f:\n",
    "    pickle.dump(removed_bcs_dict, f)"
   ]
  },
  {
   "cell_type": "markdown",
   "id": "49dbed5b",
   "metadata": {},
   "source": [
    "### export cistopic objects"
   ]
  },
  {
   "cell_type": "code",
   "execution_count": 48,
   "id": "588ed950",
   "metadata": {},
   "outputs": [
    {
     "name": "stdout",
     "output_type": "stream",
     "text": [
      "Saved filtered cistopic object for VIB_Hydrop_1\n",
      "Saved filtered cistopic object for VIB_Hydrop_2\n"
     ]
    }
   ],
   "source": [
    "for key in metadata_bc_dict.keys():\n",
    "    f_out = os.path.join(wdir, f_cto_dir, key + '__cistopic_obj_filtered.pkl')\n",
    "    if os.path.isfile(f_out):\n",
    "        print(f\"Skipping {key}, already exists\")\n",
    "        continue\n",
    "    with open(f_out, 'wb') as f:\n",
    "        pickle.dump(cistopic_obj_dict[key], f)\n",
    "    \n",
    "    print(f\"Saved filtered cistopic object for {key}\")"
   ]
  }
 ],
 "metadata": {
  "kernelspec": {
   "display_name": "pycisTopic_singularity_20210921",
   "language": "python",
   "name": "pycistopic_singularity"
  },
  "language_info": {
   "codemirror_mode": {
    "name": "ipython",
    "version": 3
   },
   "file_extension": ".py",
   "mimetype": "text/x-python",
   "name": "python",
   "nbconvert_exporter": "python",
   "pygments_lexer": "ipython3",
   "version": "3.8.6"
  }
 },
 "nbformat": 4,
 "nbformat_minor": 5
}
