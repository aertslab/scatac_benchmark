{
 "cells": [
  {
   "cell_type": "code",
   "execution_count": 1,
   "id": "minor-macro",
   "metadata": {
    "execution": {
     "iopub.execute_input": "2021-10-13T13:14:38.685213Z",
     "iopub.status.busy": "2021-10-13T13:14:38.684794Z",
     "iopub.status.idle": "2021-10-13T13:14:38.686604Z",
     "shell.execute_reply": "2021-10-13T13:14:38.686912Z"
    },
    "jupyter": {
     "source_hidden": true
    },
    "papermill": {
     "duration": 0.022316,
     "end_time": "2021-10-13T13:14:38.687082",
     "exception": false,
     "start_time": "2021-10-13T13:14:38.664766",
     "status": "completed"
    },
    "tags": [
     "injected-parameters"
    ]
   },
   "outputs": [],
   "source": [
    "# Parameters\n",
    "SAMPLE = \"HYA__5028cb__20210813_384_PBMC_22_S12\"\n",
    "WORKFLOW_PARAMETERS = \"{\\\"report_ipynb\\\":\\\"/src/bap/bin/bap_barcode_multiplet_report.ipynb\\\",\\\"bead_tag\\\":\\\"CB\\\",\\\"drop_tag\\\":\\\"DB\\\",\\\"minimum_barcode_fragments\\\":1000,\\\"barcode_whitelist\\\":\\\"\\\",\\\"minimum_jaccard_index\\\":0.02,\\\"nc_threshold\\\":6,\\\"regularize_threshold\\\":4,\\\"mapq\\\":30,\\\"max_insert\\\":2000,\\\"reference_genome\\\":\\\"hg38\\\",\\\"bedtools_genome\\\":\\\"\\\",\\\"blacklist_file\\\":\\\"\\\",\\\"tss_file\\\":\\\"\\\",\\\"mito_chromosome\\\":\\\"default\\\"}\"\n"
   ]
  },
  {
   "cell_type": "markdown",
   "id": "78d9bdeb-b1c0-4347-bc27-fda80a0a63ec",
   "metadata": {
    "papermill": {
     "duration": 0.008666,
     "end_time": "2021-10-13T13:14:38.705182",
     "exception": false,
     "start_time": "2021-10-13T13:14:38.696516",
     "status": "completed"
    },
    "tags": []
   },
   "source": [
    "# VSN Pipelines: BAP multiplet pipeline report\n",
    "\n",
    "Additional analyses and plots from the output of BAP (https://github.com/caleblareau/bap)"
   ]
  },
  {
   "cell_type": "code",
   "execution_count": 2,
   "id": "9b62c5ef-9f22-42c4-bee6-b0aaff4db0bc",
   "metadata": {
    "execution": {
     "iopub.execute_input": "2021-10-13T13:14:38.728438Z",
     "iopub.status.busy": "2021-10-13T13:14:38.728063Z",
     "iopub.status.idle": "2021-10-13T13:14:41.979601Z",
     "shell.execute_reply": "2021-10-13T13:14:41.979017Z"
    },
    "jupyter": {
     "source_hidden": true
    },
    "papermill": {
     "duration": 3.26584,
     "end_time": "2021-10-13T13:14:41.979740",
     "exception": false,
     "start_time": "2021-10-13T13:14:38.713900",
     "status": "completed"
    },
    "tags": []
   },
   "outputs": [],
   "source": [
    "import pandas as pd\n",
    "import numpy as np\n",
    "import os\n",
    "from collections import Counter\n",
    "import itertools\n",
    "import json\n",
    "\n",
    "import matplotlib.pyplot as plt\n",
    "import seaborn as sns\n",
    "\n",
    "%matplotlib inline"
   ]
  },
  {
   "cell_type": "code",
   "execution_count": 3,
   "id": "f2b6cccb-d9b9-4862-9ece-022907f119f6",
   "metadata": {
    "execution": {
     "iopub.execute_input": "2021-10-13T13:14:42.002356Z",
     "iopub.status.busy": "2021-10-13T13:14:42.001969Z",
     "iopub.status.idle": "2021-10-13T13:14:42.004745Z",
     "shell.execute_reply": "2021-10-13T13:14:42.004420Z"
    },
    "jupyter": {
     "source_hidden": true
    },
    "papermill": {
     "duration": 0.014817,
     "end_time": "2021-10-13T13:14:42.004828",
     "exception": false,
     "start_time": "2021-10-13T13:14:41.990011",
     "status": "completed"
    },
    "tags": []
   },
   "outputs": [
    {
     "name": "stdout",
     "output_type": "stream",
     "text": [
      "SAMPLE: HYA__5028cb__20210813_384_PBMC_22_S12\n",
      "BAP Parameters: {\n",
      "    \"report_ipynb\": \"/src/bap/bin/bap_barcode_multiplet_report.ipynb\",\n",
      "    \"bead_tag\": \"CB\",\n",
      "    \"drop_tag\": \"DB\",\n",
      "    \"minimum_barcode_fragments\": 1000,\n",
      "    \"barcode_whitelist\": \"\",\n",
      "    \"minimum_jaccard_index\": 0.02,\n",
      "    \"nc_threshold\": 6,\n",
      "    \"regularize_threshold\": 4,\n",
      "    \"mapq\": 30,\n",
      "    \"max_insert\": 2000,\n",
      "    \"reference_genome\": \"hg38\",\n",
      "    \"bedtools_genome\": \"\",\n",
      "    \"blacklist_file\": \"\",\n",
      "    \"tss_file\": \"\",\n",
      "    \"mito_chromosome\": \"default\"\n",
      "}\n"
     ]
    }
   ],
   "source": [
    "params = json.loads(WORKFLOW_PARAMETERS)\n",
    "\n",
    "print(f\"SAMPLE: {SAMPLE}\")\n",
    "print(f\"BAP Parameters: {json.dumps(params, indent=4)}\")"
   ]
  },
  {
   "cell_type": "code",
   "execution_count": 4,
   "id": "3d4ea79a-0459-4830-846c-a0ca048fcc40",
   "metadata": {
    "execution": {
     "iopub.execute_input": "2021-10-13T13:14:42.026905Z",
     "iopub.status.busy": "2021-10-13T13:14:42.026507Z",
     "iopub.status.idle": "2021-10-13T13:14:42.070556Z",
     "shell.execute_reply": "2021-10-13T13:14:42.070906Z"
    },
    "jupyter": {
     "source_hidden": true
    },
    "papermill": {
     "duration": 0.056787,
     "end_time": "2021-10-13T13:14:42.071020",
     "exception": false,
     "start_time": "2021-10-13T13:14:42.014233",
     "status": "completed"
    },
    "tags": []
   },
   "outputs": [],
   "source": [
    "# read in data\n",
    "f_bap_qc = SAMPLE+'.implicatedBarcodes.csv.gz'\n",
    "f_bap_bct = SAMPLE+'.barcodeTranslate.tsv'\n",
    "f_bap_nc = SAMPLE+'.NCsumstats.tsv'\n",
    "\n",
    "bap_ib = pd.read_csv(f_bap_qc)\n",
    "bap_bct = pd.read_csv(f_bap_bct, sep='\\t', header=None, names=['barcode','bap_barcode'])\n",
    "bap_nc = pd.read_csv(f_bap_nc, sep='\\t')"
   ]
  },
  {
   "cell_type": "markdown",
   "id": "1d142706-698a-40cd-9dc1-aeac375940c4",
   "metadata": {
    "papermill": {
     "duration": 0.009194,
     "end_time": "2021-10-13T13:14:42.089583",
     "exception": false,
     "start_time": "2021-10-13T13:14:42.080389",
     "status": "completed"
    },
    "tags": []
   },
   "source": [
    "## Overlap index\n",
    "\n",
    "Plot the overlap scores, representing the pairwise similarity between each barcode."
   ]
  },
  {
   "cell_type": "code",
   "execution_count": 5,
   "id": "cf430147-661b-4107-b232-1f07e8689ee0",
   "metadata": {
    "execution": {
     "iopub.execute_input": "2021-10-13T13:14:42.115082Z",
     "iopub.status.busy": "2021-10-13T13:14:42.114687Z",
     "iopub.status.idle": "2021-10-13T13:14:42.116630Z",
     "shell.execute_reply": "2021-10-13T13:14:42.116313Z"
    },
    "jupyter": {
     "source_hidden": true
    },
    "papermill": {
     "duration": 0.017753,
     "end_time": "2021-10-13T13:14:42.116712",
     "exception": false,
     "start_time": "2021-10-13T13:14:42.098959",
     "status": "completed"
    },
    "tags": []
   },
   "outputs": [],
   "source": [
    "# overlap index rank plot\n",
    "def plot_overlap_rankplot(dat, label, ax):\n",
    "    y = dat['jaccard_frag'].sort_values(ascending=False)\n",
    "    ix = dat['jaccard_frag'][ dat['merged']==True ].idxmin()\n",
    "    thr = dat.iloc[ix]['jaccard_frag']\n",
    "    thrx = sum(dat['merged']==True)\n",
    "    \n",
    "    ax.scatter(x=range(y.shape[0]),\n",
    "               y=y.values,\n",
    "               s=4,\n",
    "               edgecolors=None)\n",
    "    ax.set_xscale('log')\n",
    "    ax.set_yscale('log')\n",
    "    ax.set_ylabel('Jaccard index per barcode pair')\n",
    "    ax.set_xlabel('Barcode pair rank')\n",
    "    ax.axhline(thr, color='grey', linestyle='--')\n",
    "    ax.text(0.01, 0.01, f\" thr={round(thr,4)} ({thrx} barcode pairs)\", ha='left', va='bottom' , transform=ax.transAxes, fontsize='x-small')\n",
    "    ax.set_title(label)"
   ]
  },
  {
   "cell_type": "code",
   "execution_count": 6,
   "id": "ae73615d-e2bd-4ff8-8296-f85abdf17f2d",
   "metadata": {
    "execution": {
     "iopub.execute_input": "2021-10-13T13:14:42.156780Z",
     "iopub.status.busy": "2021-10-13T13:14:42.156275Z",
     "iopub.status.idle": "2021-10-13T13:14:43.121705Z",
     "shell.execute_reply": "2021-10-13T13:14:43.122035Z"
    },
    "jupyter": {
     "source_hidden": true
    },
    "papermill": {
     "duration": 0.996354,
     "end_time": "2021-10-13T13:14:43.122167",
     "exception": false,
     "start_time": "2021-10-13T13:14:42.125813",
     "status": "completed"
    },
    "tags": []
   },
   "outputs": [
    {
     "data": {
      "image/png": "[encoded data removed]",
      "text/plain": [
       "<Figure size 750x600 with 1 Axes>"
      ]
     },
     "metadata": {
      "needs_background": "light"
     },
     "output_type": "display_data"
    }
   ],
   "source": [
    "fig, ax = plt.subplots(1,1, figsize=(5,4), dpi=150 )\n",
    "\n",
    "plot_overlap_rankplot(bap_ib, label=SAMPLE, ax=ax)\n",
    "plt.tight_layout()"
   ]
  },
  {
   "cell_type": "markdown",
   "id": "b4f5a666-cc70-4394-9d77-2aaccbe36223",
   "metadata": {
    "papermill": {
     "duration": 0.010548,
     "end_time": "2021-10-13T13:14:43.144002",
     "exception": false,
     "start_time": "2021-10-13T13:14:43.133454",
     "status": "completed"
    },
    "tags": []
   },
   "source": [
    "## Calculate restricted longest common subsequence (rLCS)\n",
    "\n",
    "This approach follows the methods in:\n",
    "* Lareau, C. A., Ma, S., Duarte, F. M. & Buenrostro, J. D. Inference and effects of barcode multiplets in droplet-based single-cell assays. Nature Communications 11, 1–9 (2020). https://doi.org/10.1038/s41467-020-14667-5\n",
    "\n",
    "This is calculated by taking each set of barcodes identified as a multiplet, and calculating the overlap\n",
    "and identifies two groups of droplet multiplets:\n",
    "* **Physical multiplets** (multiple beads that are physically grouped together in a droplet)\n",
    "  * Contains uniform barcodes (less than cutoff threshold on rLCS)\n",
    "* **Complex beads** (assumed to be due to bead barcode synthesis errors)\n",
    "  * Contain heterogenous barcodes (greater than a cutoff threshold on rLCS)"
   ]
  },
  {
   "cell_type": "code",
   "execution_count": 7,
   "id": "0d4ef782-c47b-4c83-9907-544de71dbc0b",
   "metadata": {
    "execution": {
     "iopub.execute_input": "2021-10-13T13:14:43.169613Z",
     "iopub.status.busy": "2021-10-13T13:14:43.169217Z",
     "iopub.status.idle": "2021-10-13T13:14:43.171878Z",
     "shell.execute_reply": "2021-10-13T13:14:43.171487Z"
    },
    "jupyter": {
     "source_hidden": true
    },
    "papermill": {
     "duration": 0.017391,
     "end_time": "2021-10-13T13:14:43.171972",
     "exception": false,
     "start_time": "2021-10-13T13:14:43.154581",
     "status": "completed"
    },
    "tags": []
   },
   "outputs": [],
   "source": [
    "# calculate rLCS match score\n",
    "def barcode_rle(a, b):\n",
    "    assert len(a) == len(b)\n",
    "    match_cnt = 0\n",
    "    match_list = []\n",
    "    for i in range(len(a)):\n",
    "        \n",
    "        if(a[i] == b[i]):\n",
    "            match_cnt += 1\n",
    "        else:\n",
    "            match_list.append(match_cnt)\n",
    "            match_cnt = 0\n",
    "    match_list.append(match_cnt)\n",
    "    return max(match_list)"
   ]
  },
  {
   "cell_type": "code",
   "execution_count": 8,
   "id": "1c105744-c0b9-46a4-9053-f9e19301fd18",
   "metadata": {
    "execution": {
     "iopub.execute_input": "2021-10-13T13:14:43.210864Z",
     "iopub.status.busy": "2021-10-13T13:14:43.204834Z",
     "iopub.status.idle": "2021-10-13T13:14:43.261345Z",
     "shell.execute_reply": "2021-10-13T13:14:43.261013Z"
    },
    "jupyter": {
     "source_hidden": true
    },
    "papermill": {
     "duration": 0.078844,
     "end_time": "2021-10-13T13:14:43.261439",
     "exception": false,
     "start_time": "2021-10-13T13:14:43.182595",
     "status": "completed"
    },
    "tags": []
   },
   "outputs": [
    {
     "name": "stderr",
     "output_type": "stream",
     "text": [
      "/usr/local/lib/python3.8/site-packages/numpy/core/fromnumeric.py:3419: RuntimeWarning: Mean of empty slice.\n",
      "  return _methods._mean(a, axis=axis, dtype=dtype,\n",
      "/usr/local/lib/python3.8/site-packages/numpy/core/_methods.py:188: RuntimeWarning: invalid value encountered in double_scalars\n",
      "  ret = ret.dtype.type(ret / rcount)\n"
     ]
    },
    {
     "data": {
      "text/html": [
       "<div>\n",
       "<style scoped>\n",
       "    .dataframe tbody tr th:only-of-type {\n",
       "        vertical-align: middle;\n",
       "    }\n",
       "\n",
       "    .dataframe tbody tr th {\n",
       "        vertical-align: top;\n",
       "    }\n",
       "\n",
       "    .dataframe thead th {\n",
       "        text-align: right;\n",
       "    }\n",
       "</style>\n",
       "<table border=\"1\" class=\"dataframe\">\n",
       "  <thead>\n",
       "    <tr style=\"text-align: right;\">\n",
       "      <th></th>\n",
       "      <th>bap_barcode</th>\n",
       "      <th>bap_N</th>\n",
       "      <th>mean_rLCS</th>\n",
       "      <th>multiplets_passing_rLCS_thr</th>\n",
       "    </tr>\n",
       "  </thead>\n",
       "  <tbody>\n",
       "    <tr>\n",
       "      <th>0</th>\n",
       "      <td>HYA__5028cb__20210813_384_PBMC_22_S12_BC0004_N02</td>\n",
       "      <td>N02</td>\n",
       "      <td>2.000000</td>\n",
       "      <td>False</td>\n",
       "    </tr>\n",
       "    <tr>\n",
       "      <th>1</th>\n",
       "      <td>HYA__5028cb__20210813_384_PBMC_22_S12_BC0005_N02</td>\n",
       "      <td>N02</td>\n",
       "      <td>10.000000</td>\n",
       "      <td>True</td>\n",
       "    </tr>\n",
       "    <tr>\n",
       "      <th>2</th>\n",
       "      <td>HYA__5028cb__20210813_384_PBMC_22_S12_BC0008_N03</td>\n",
       "      <td>N03</td>\n",
       "      <td>10.666667</td>\n",
       "      <td>True</td>\n",
       "    </tr>\n",
       "    <tr>\n",
       "      <th>3</th>\n",
       "      <td>HYA__5028cb__20210813_384_PBMC_22_S12_BC0020_N04</td>\n",
       "      <td>N04</td>\n",
       "      <td>2.000000</td>\n",
       "      <td>False</td>\n",
       "    </tr>\n",
       "    <tr>\n",
       "      <th>4</th>\n",
       "      <td>HYA__5028cb__20210813_384_PBMC_22_S12_BC0022_N02</td>\n",
       "      <td>N02</td>\n",
       "      <td>2.000000</td>\n",
       "      <td>False</td>\n",
       "    </tr>\n",
       "    <tr>\n",
       "      <th>...</th>\n",
       "      <td>...</td>\n",
       "      <td>...</td>\n",
       "      <td>...</td>\n",
       "      <td>...</td>\n",
       "    </tr>\n",
       "    <tr>\n",
       "      <th>62</th>\n",
       "      <td>HYA__5028cb__20210813_384_PBMC_22_S12_BC0808_N02</td>\n",
       "      <td>N02</td>\n",
       "      <td>2.000000</td>\n",
       "      <td>False</td>\n",
       "    </tr>\n",
       "    <tr>\n",
       "      <th>63</th>\n",
       "      <td>HYA__5028cb__20210813_384_PBMC_22_S12_BC0815_N02</td>\n",
       "      <td>N02</td>\n",
       "      <td>2.000000</td>\n",
       "      <td>False</td>\n",
       "    </tr>\n",
       "    <tr>\n",
       "      <th>64</th>\n",
       "      <td>HYA__5028cb__20210813_384_PBMC_22_S12_BC0836_N02</td>\n",
       "      <td>N02</td>\n",
       "      <td>2.000000</td>\n",
       "      <td>False</td>\n",
       "    </tr>\n",
       "    <tr>\n",
       "      <th>65</th>\n",
       "      <td>HYA__5028cb__20210813_384_PBMC_22_S12_BC0839_N02</td>\n",
       "      <td>N02</td>\n",
       "      <td>10.000000</td>\n",
       "      <td>True</td>\n",
       "    </tr>\n",
       "    <tr>\n",
       "      <th>66</th>\n",
       "      <td>HYA__5028cb__20210813_384_PBMC_22_S12_BC0848_N02</td>\n",
       "      <td>N02</td>\n",
       "      <td>3.000000</td>\n",
       "      <td>False</td>\n",
       "    </tr>\n",
       "  </tbody>\n",
       "</table>\n",
       "<p>65 rows × 4 columns</p>\n",
       "</div>"
      ],
      "text/plain": [
       "                                         bap_barcode bap_N  mean_rLCS  \\\n",
       "0   HYA__5028cb__20210813_384_PBMC_22_S12_BC0004_N02   N02   2.000000   \n",
       "1   HYA__5028cb__20210813_384_PBMC_22_S12_BC0005_N02   N02  10.000000   \n",
       "2   HYA__5028cb__20210813_384_PBMC_22_S12_BC0008_N03   N03  10.666667   \n",
       "3   HYA__5028cb__20210813_384_PBMC_22_S12_BC0020_N04   N04   2.000000   \n",
       "4   HYA__5028cb__20210813_384_PBMC_22_S12_BC0022_N02   N02   2.000000   \n",
       "..                                               ...   ...        ...   \n",
       "62  HYA__5028cb__20210813_384_PBMC_22_S12_BC0808_N02   N02   2.000000   \n",
       "63  HYA__5028cb__20210813_384_PBMC_22_S12_BC0815_N02   N02   2.000000   \n",
       "64  HYA__5028cb__20210813_384_PBMC_22_S12_BC0836_N02   N02   2.000000   \n",
       "65  HYA__5028cb__20210813_384_PBMC_22_S12_BC0839_N02   N02  10.000000   \n",
       "66  HYA__5028cb__20210813_384_PBMC_22_S12_BC0848_N02   N02   3.000000   \n",
       "\n",
       "    multiplets_passing_rLCS_thr  \n",
       "0                         False  \n",
       "1                          True  \n",
       "2                          True  \n",
       "3                         False  \n",
       "4                         False  \n",
       "..                          ...  \n",
       "62                        False  \n",
       "63                        False  \n",
       "64                        False  \n",
       "65                         True  \n",
       "66                        False  \n",
       "\n",
       "[65 rows x 4 columns]"
      ]
     },
     "execution_count": 8,
     "metadata": {},
     "output_type": "execute_result"
    }
   ],
   "source": [
    "rLCS_thr = 6\n",
    "\n",
    "bap_bct['bap_N'] = [ x.split('_')[-1] for x in bap_bct['bap_barcode'] ]\n",
    "\n",
    "multiplets = pd.DataFrame(\n",
    "    bap_bct['bap_barcode'][bap_bct['bap_N']!='N01'].unique(), \n",
    "    columns=['bap_barcode'])\n",
    "multiplets['bap_N'] = [ x.split('_')[-1] for x in multiplets['bap_barcode'] ]\n",
    "\n",
    "bcs_scores = []\n",
    "for i,m in enumerate(multiplets['bap_barcode']):\n",
    "    bcs = bap_bct['barcode'][bap_bct['bap_barcode']==m]\n",
    "    bcs_comb = list(itertools.combinations(bcs, 2))\n",
    "    mean_scores = np.mean([ barcode_rle(x[0], x[1]) for x in bcs_comb ])\n",
    "    bcs_scores.append(mean_scores)\n",
    "multiplets['mean_rLCS'] = bcs_scores\n",
    "\n",
    "# classify multiplet similarity by threshold\n",
    "multiplets['multiplets_passing_rLCS_thr'] = multiplets['mean_rLCS']>=rLCS_thr\n",
    "multiplets.dropna(inplace=True)\n",
    "\n",
    "multiplets"
   ]
  },
  {
   "cell_type": "code",
   "execution_count": 9,
   "id": "289ba617-4e8b-4ee6-aedd-9ad7260b4efc",
   "metadata": {
    "execution": {
     "iopub.execute_input": "2021-10-13T13:14:43.287863Z",
     "iopub.status.busy": "2021-10-13T13:14:43.287478Z",
     "iopub.status.idle": "2021-10-13T13:14:43.290081Z",
     "shell.execute_reply": "2021-10-13T13:14:43.289682Z"
    },
    "jupyter": {
     "source_hidden": true
    },
    "papermill": {
     "duration": 0.017091,
     "end_time": "2021-10-13T13:14:43.290165",
     "exception": false,
     "start_time": "2021-10-13T13:14:43.273074",
     "status": "completed"
    },
    "tags": []
   },
   "outputs": [
    {
     "data": {
      "text/plain": [
       "Counter({'N01': 845,\n",
       "         'N02': 74,\n",
       "         'N03': 44,\n",
       "         'N04': 21,\n",
       "         'N05': 17,\n",
       "         'N07': 19,\n",
       "         'N06': 6})"
      ]
     },
     "execution_count": 9,
     "metadata": {},
     "output_type": "execute_result"
    }
   ],
   "source": [
    "# number of beads per droplet\n",
    "Counter(bap_bct['bap_N'])"
   ]
  },
  {
   "cell_type": "code",
   "execution_count": 10,
   "id": "b7160683-6f5a-4bc9-9b4a-0841ae6b9d11",
   "metadata": {
    "execution": {
     "iopub.execute_input": "2021-10-13T13:14:43.320574Z",
     "iopub.status.busy": "2021-10-13T13:14:43.320180Z",
     "iopub.status.idle": "2021-10-13T13:14:43.322771Z",
     "shell.execute_reply": "2021-10-13T13:14:43.321985Z"
    },
    "jupyter": {
     "source_hidden": true
    },
    "papermill": {
     "duration": 0.021142,
     "end_time": "2021-10-13T13:14:43.322854",
     "exception": false,
     "start_time": "2021-10-13T13:14:43.301712",
     "status": "completed"
    },
    "tags": []
   },
   "outputs": [
    {
     "name": "stdout",
     "output_type": "stream",
     "text": [
      "Number of singlets: 845\n",
      "Number of physical multiplets: 139\n",
      "Number of complex multiplets: 20\n",
      "Total: 1004\n",
      "Rate of bead heterogeneity 0.01992032\n"
     ]
    }
   ],
   "source": [
    "n_singlets = np.sum(bap_bct['bap_N']=='N01')\n",
    "\n",
    "# multiplets with non barcode similarity (physical multiplets):\n",
    "n_physical = sum([ \n",
    "    int(x.replace('N','')) \n",
    "    for x in multiplets['bap_N'][multiplets['multiplets_passing_rLCS_thr']==False] \n",
    "])\n",
    "\n",
    "# multiplets with barcode similarity (complex multiplets):\n",
    "n_complex = sum(multiplets['multiplets_passing_rLCS_thr'])\n",
    "\n",
    "n_total = n_singlets + n_physical + n_complex\n",
    "\n",
    "# n_complex / n_total # rate of bead heterogeneity\n",
    "\n",
    "print(\n",
    "    f\"Number of singlets: {n_singlets}\\n\"\n",
    "    f\"Number of physical multiplets: {n_physical}\\n\"\n",
    "    f\"Number of complex multiplets: {n_complex}\\n\"\n",
    "    f\"Total: {n_total}\\n\"\n",
    "    f\"Rate of bead heterogeneity {round(n_complex/n_total,8)}\"\n",
    ")"
   ]
  },
  {
   "cell_type": "code",
   "execution_count": 11,
   "id": "c6217139-2c45-485a-87eb-5137a1182450",
   "metadata": {
    "execution": {
     "iopub.execute_input": "2021-10-13T13:14:43.360711Z",
     "iopub.status.busy": "2021-10-13T13:14:43.359349Z",
     "iopub.status.idle": "2021-10-13T13:14:43.503069Z",
     "shell.execute_reply": "2021-10-13T13:14:43.502711Z"
    },
    "jupyter": {
     "source_hidden": true
    },
    "papermill": {
     "duration": 0.168726,
     "end_time": "2021-10-13T13:14:43.503166",
     "exception": false,
     "start_time": "2021-10-13T13:14:43.334440",
     "status": "completed"
    },
    "tags": []
   },
   "outputs": [
    {
     "data": {
      "image/png": "[encoded data removed]",
      "text/plain": [
       "<Figure size 750x600 with 1 Axes>"
      ]
     },
     "metadata": {
      "needs_background": "light"
     },
     "output_type": "display_data"
    }
   ],
   "source": [
    "fig, ax = plt.subplots(1,1, figsize=(5,4), dpi=150)\n",
    "\n",
    "sns.histplot(\n",
    "    multiplets['mean_rLCS'],\n",
    "    ax=ax,\n",
    "    discrete=True)\n",
    "ax.set_xlabel('Mean rLCS per multiplet')\n",
    "ax.set_ylabel('Count')\n",
    "ax.axvline(x=rLCS_thr-0.5, color='grey', linestyle='--')\n",
    "\n",
    "plt.tight_layout()"
   ]
  },
  {
   "cell_type": "markdown",
   "id": "212e4dae-a0c6-4b19-bcdd-152a88c1918e",
   "metadata": {
    "papermill": {
     "duration": 0.012553,
     "end_time": "2021-10-13T13:14:43.528656",
     "exception": false,
     "start_time": "2021-10-13T13:14:43.516103",
     "status": "completed"
    },
    "tags": []
   },
   "source": [
    "## Barcode multiplets"
   ]
  },
  {
   "cell_type": "code",
   "execution_count": 12,
   "id": "3fee9465-f161-4346-81df-79684ced6d58",
   "metadata": {
    "execution": {
     "iopub.execute_input": "2021-10-13T13:14:43.597026Z",
     "iopub.status.busy": "2021-10-13T13:14:43.573601Z",
     "iopub.status.idle": "2021-10-13T13:14:43.825491Z",
     "shell.execute_reply": "2021-10-13T13:14:43.826269Z"
    },
    "jupyter": {
     "source_hidden": true
    },
    "papermill": {
     "duration": 0.284429,
     "end_time": "2021-10-13T13:14:43.826522",
     "exception": false,
     "start_time": "2021-10-13T13:14:43.542093",
     "status": "completed"
    },
    "tags": []
   },
   "outputs": [
    {
     "data": {
      "image/png": "[encoded data removed]",
      "text/plain": [
       "<Figure size 1500x600 with 2 Axes>"
      ]
     },
     "metadata": {
      "needs_background": "light"
     },
     "output_type": "display_data"
    }
   ],
   "source": [
    "fig, (ax1,ax2) = plt.subplots(1,2, figsize=(10,4), dpi=150, sharex=True, sharey=True )\n",
    "\n",
    "sns.histplot(\n",
    "    multiplets['bap_N'][(multiplets['bap_N']!='N01') & (multiplets['multiplets_passing_rLCS_thr']==True)].sort_values(),\n",
    "    ax=ax1,\n",
    "    discrete=True)\n",
    "ax1.set_title(f\"Physical multiplets (non-barcode similarity; rLCS<{rLCS_thr})\")\n",
    "ax1.set_xlabel('# beads / droplet')\n",
    "ax1.set_ylabel('Count')\n",
    "\n",
    "sns.histplot(\n",
    "    multiplets['bap_N'][(multiplets['bap_N']!='N01') & (multiplets['multiplets_passing_rLCS_thr']==False)].sort_values(),\n",
    "    ax=ax2,\n",
    "    discrete=True)\n",
    "#ax1.set_title(SAMPLE)\n",
    "ax2.set_title(f\"Complex beads (barcode similarity; rLCS>={rLCS_thr})\")\n",
    "ax2.set_xlabel('# barcodes / droplet')\n",
    "ax2.set_ylabel('Count')\n",
    "\n",
    "plt.tight_layout()"
   ]
  },
  {
   "cell_type": "markdown",
   "id": "4a480494-d0f1-4cbb-a5f1-c6e88d926a7e",
   "metadata": {
    "papermill": {
     "duration": 0.013392,
     "end_time": "2021-10-13T13:14:43.854943",
     "exception": false,
     "start_time": "2021-10-13T13:14:43.841551",
     "status": "completed"
    },
    "tags": []
   },
   "source": [
    "## NC values\n",
    "\n",
    "Look at the number of occurrences of a particular read across the experiment."
   ]
  },
  {
   "cell_type": "code",
   "execution_count": 13,
   "id": "3b09d13c-d641-402e-97a5-3f3aa9f4cfd7",
   "metadata": {
    "execution": {
     "iopub.execute_input": "2021-10-13T13:14:43.889687Z",
     "iopub.status.busy": "2021-10-13T13:14:43.889296Z",
     "iopub.status.idle": "2021-10-13T13:14:43.891279Z",
     "shell.execute_reply": "2021-10-13T13:14:43.890979Z"
    },
    "jupyter": {
     "source_hidden": true
    },
    "papermill": {
     "duration": 0.023991,
     "end_time": "2021-10-13T13:14:43.891355",
     "exception": false,
     "start_time": "2021-10-13T13:14:43.867364",
     "status": "completed"
    },
    "tags": []
   },
   "outputs": [],
   "source": [
    "# plot NC values hist\n",
    "\n",
    "def plot_bap_NC(dat, label, ax):\n",
    "    p_ = sns.barplot(x='NC_value', y='NumberOfFragments', data=dat, ax=ax, color='grey')\n",
    "    #ax.set_xscale('log')\n",
    "    ax.set_yscale('log')\n",
    "    ax.set_xlabel('NC value')\n",
    "    ax.set_ylabel('Number of fragments')\n",
    "    ax.set_title(SAMPLE)\n",
    "    ax.set_xbound(lower=-1)\n",
    "    for ind, label in enumerate(p_.get_xticklabels()):\n",
    "        if ind % 20 == 0:  # every 20th label is kept\n",
    "            label.set_visible(True)\n",
    "        else:\n",
    "            label.set_visible(False)"
   ]
  },
  {
   "cell_type": "code",
   "execution_count": 14,
   "id": "902a94f7-0f97-413a-84a5-0e2afc7c0153",
   "metadata": {
    "execution": {
     "iopub.execute_input": "2021-10-13T13:14:43.931225Z",
     "iopub.status.busy": "2021-10-13T13:14:43.929992Z",
     "iopub.status.idle": "2021-10-13T13:14:44.915272Z",
     "shell.execute_reply": "2021-10-13T13:14:44.915593Z"
    },
    "jupyter": {
     "source_hidden": true
    },
    "papermill": {
     "duration": 1.011802,
     "end_time": "2021-10-13T13:14:44.915724",
     "exception": false,
     "start_time": "2021-10-13T13:14:43.903922",
     "status": "completed"
    },
    "tags": []
   },
   "outputs": [
    {
     "data": {
      "image/png": "[encoded data removed]",
      "text/plain": [
       "<Figure size 1200x600 with 1 Axes>"
      ]
     },
     "metadata": {
      "needs_background": "light"
     },
     "output_type": "display_data"
    }
   ],
   "source": [
    "fig, ax = plt.subplots(1,1, figsize=(8,4), dpi=150 )\n",
    "\n",
    "plot_bap_NC(bap_nc, label=SAMPLE, ax=ax)\n",
    "plt.tight_layout()"
   ]
  },
  {
   "cell_type": "code",
   "execution_count": null,
   "id": "785588ea-429d-4f82-9ce7-2e300993af9d",
   "metadata": {
    "jupyter": {
     "source_hidden": true
    },
    "papermill": {
     "duration": 0.014666,
     "end_time": "2021-10-13T13:14:44.945982",
     "exception": false,
     "start_time": "2021-10-13T13:14:44.931316",
     "status": "completed"
    },
    "tags": []
   },
   "outputs": [],
   "source": []
  }
 ],
 "metadata": {
  "kernelspec": {
   "display_name": "Python 3",
   "language": "python",
   "name": "python3"
  },
  "language_info": {
   "codemirror_mode": {
    "name": "ipython",
    "version": 3
   },
   "file_extension": ".py",
   "mimetype": "text/x-python",
   "name": "python",
   "nbconvert_exporter": "python",
   "pygments_lexer": "ipython3",
   "version": "3.8.3"
  },
  "papermill": {
   "default_parameters": {},
   "duration": 8.016765,
   "end_time": "2021-10-13T13:14:45.471501",
   "environment_variables": {},
   "exception": null,
   "input_path": "bap_barcode_multiplet_report.ipynb",
   "output_path": "HYA__5028cb__20210813_384_PBMC_22_S12.BAP_multiplet_report.ipynb",
   "parameters": {
    "SAMPLE": "HYA__5028cb__20210813_384_PBMC_22_S12",
    "WORKFLOW_PARAMETERS": "{\"report_ipynb\":\"/src/bap/bin/bap_barcode_multiplet_report.ipynb\",\"bead_tag\":\"CB\",\"drop_tag\":\"DB\",\"minimum_barcode_fragments\":1000,\"barcode_whitelist\":\"\",\"minimum_jaccard_index\":0.02,\"nc_threshold\":6,\"regularize_threshold\":4,\"mapq\":30,\"max_insert\":2000,\"reference_genome\":\"hg38\",\"bedtools_genome\":\"\",\"blacklist_file\":\"\",\"tss_file\":\"\",\"mito_chromosome\":\"default\"}"
   },
   "start_time": "2021-10-13T13:14:37.454736",
   "version": "2.3.3"
  }
 },
 "nbformat": 4,
 "nbformat_minor": 5
}