{
 "cells": [
  {
   "cell_type": "code",
   "execution_count": 1,
   "id": "different-flash",
   "metadata": {
    "execution": {
     "iopub.execute_input": "2021-10-13T13:47:44.847480Z",
     "iopub.status.busy": "2021-10-13T13:47:44.847094Z",
     "iopub.status.idle": "2021-10-13T13:47:44.849304Z",
     "shell.execute_reply": "2021-10-13T13:47:44.848878Z"
    },
    "jupyter": {
     "source_hidden": true
    },
    "papermill": {
     "duration": 0.025793,
     "end_time": "2021-10-13T13:47:44.849398",
     "exception": false,
     "start_time": "2021-10-13T13:47:44.823605",
     "status": "completed"
    },
    "tags": [
     "injected-parameters"
    ]
   },
   "outputs": [],
   "source": [
    "# Parameters\n",
    "SAMPLE = \"HYA__3d6da9__20210813_384_PBMC_21_S11\"\n",
    "WORKFLOW_PARAMETERS = \"{\\\"report_ipynb\\\":\\\"/src/bap/bin/bap_barcode_multiplet_report.ipynb\\\",\\\"bead_tag\\\":\\\"CB\\\",\\\"drop_tag\\\":\\\"DB\\\",\\\"minimum_barcode_fragments\\\":1000,\\\"barcode_whitelist\\\":\\\"\\\",\\\"minimum_jaccard_index\\\":0.02,\\\"nc_threshold\\\":6,\\\"regularize_threshold\\\":4,\\\"mapq\\\":30,\\\"max_insert\\\":2000,\\\"reference_genome\\\":\\\"hg38\\\",\\\"bedtools_genome\\\":\\\"\\\",\\\"blacklist_file\\\":\\\"\\\",\\\"tss_file\\\":\\\"\\\",\\\"mito_chromosome\\\":\\\"default\\\"}\"\n"
   ]
  },
  {
   "cell_type": "markdown",
   "id": "78d9bdeb-b1c0-4347-bc27-fda80a0a63ec",
   "metadata": {
    "papermill": {
     "duration": 0.008124,
     "end_time": "2021-10-13T13:47:44.866180",
     "exception": false,
     "start_time": "2021-10-13T13:47:44.858056",
     "status": "completed"
    },
    "tags": []
   },
   "source": [
    "# VSN Pipelines: BAP multiplet pipeline report\n",
    "\n",
    "Additional analyses and plots from the output of BAP (https://github.com/caleblareau/bap)"
   ]
  },
  {
   "cell_type": "code",
   "execution_count": 2,
   "id": "9b62c5ef-9f22-42c4-bee6-b0aaff4db0bc",
   "metadata": {
    "execution": {
     "iopub.execute_input": "2021-10-13T13:47:44.887406Z",
     "iopub.status.busy": "2021-10-13T13:47:44.887046Z",
     "iopub.status.idle": "2021-10-13T13:47:46.757335Z",
     "shell.execute_reply": "2021-10-13T13:47:46.756271Z"
    },
    "jupyter": {
     "source_hidden": true
    },
    "papermill": {
     "duration": 1.883272,
     "end_time": "2021-10-13T13:47:46.757586",
     "exception": false,
     "start_time": "2021-10-13T13:47:44.874314",
     "status": "completed"
    },
    "tags": []
   },
   "outputs": [],
   "source": [
    "import pandas as pd\n",
    "import numpy as np\n",
    "import os\n",
    "from collections import Counter\n",
    "import itertools\n",
    "import json\n",
    "\n",
    "import matplotlib.pyplot as plt\n",
    "import seaborn as sns\n",
    "\n",
    "%matplotlib inline"
   ]
  },
  {
   "cell_type": "code",
   "execution_count": 3,
   "id": "f2b6cccb-d9b9-4862-9ece-022907f119f6",
   "metadata": {
    "execution": {
     "iopub.execute_input": "2021-10-13T13:47:46.782086Z",
     "iopub.status.busy": "2021-10-13T13:47:46.781740Z",
     "iopub.status.idle": "2021-10-13T13:47:46.784963Z",
     "shell.execute_reply": "2021-10-13T13:47:46.784649Z"
    },
    "jupyter": {
     "source_hidden": true
    },
    "papermill": {
     "duration": 0.018171,
     "end_time": "2021-10-13T13:47:46.785039",
     "exception": false,
     "start_time": "2021-10-13T13:47:46.766868",
     "status": "completed"
    },
    "tags": []
   },
   "outputs": [
    {
     "name": "stdout",
     "output_type": "stream",
     "text": [
      "SAMPLE: HYA__3d6da9__20210813_384_PBMC_21_S11\n",
      "BAP Parameters: {\n",
      "    \"report_ipynb\": \"/src/bap/bin/bap_barcode_multiplet_report.ipynb\",\n",
      "    \"bead_tag\": \"CB\",\n",
      "    \"drop_tag\": \"DB\",\n",
      "    \"minimum_barcode_fragments\": 1000,\n",
      "    \"barcode_whitelist\": \"\",\n",
      "    \"minimum_jaccard_index\": 0.02,\n",
      "    \"nc_threshold\": 6,\n",
      "    \"regularize_threshold\": 4,\n",
      "    \"mapq\": 30,\n",
      "    \"max_insert\": 2000,\n",
      "    \"reference_genome\": \"hg38\",\n",
      "    \"bedtools_genome\": \"\",\n",
      "    \"blacklist_file\": \"\",\n",
      "    \"tss_file\": \"\",\n",
      "    \"mito_chromosome\": \"default\"\n",
      "}\n"
     ]
    }
   ],
   "source": [
    "params = json.loads(WORKFLOW_PARAMETERS)\n",
    "\n",
    "print(f\"SAMPLE: {SAMPLE}\")\n",
    "print(f\"BAP Parameters: {json.dumps(params, indent=4)}\")"
   ]
  },
  {
   "cell_type": "code",
   "execution_count": 4,
   "id": "3d4ea79a-0459-4830-846c-a0ca048fcc40",
   "metadata": {
    "execution": {
     "iopub.execute_input": "2021-10-13T13:47:46.805296Z",
     "iopub.status.busy": "2021-10-13T13:47:46.804943Z",
     "iopub.status.idle": "2021-10-13T13:47:46.888407Z",
     "shell.execute_reply": "2021-10-13T13:47:46.887394Z"
    },
    "jupyter": {
     "source_hidden": true
    },
    "papermill": {
     "duration": 0.095162,
     "end_time": "2021-10-13T13:47:46.888644",
     "exception": false,
     "start_time": "2021-10-13T13:47:46.793482",
     "status": "completed"
    },
    "tags": []
   },
   "outputs": [],
   "source": [
    "# read in data\n",
    "f_bap_qc = SAMPLE+'.implicatedBarcodes.csv.gz'\n",
    "f_bap_bct = SAMPLE+'.barcodeTranslate.tsv'\n",
    "f_bap_nc = SAMPLE+'.NCsumstats.tsv'\n",
    "\n",
    "bap_ib = pd.read_csv(f_bap_qc)\n",
    "bap_bct = pd.read_csv(f_bap_bct, sep='\\t', header=None, names=['barcode','bap_barcode'])\n",
    "bap_nc = pd.read_csv(f_bap_nc, sep='\\t')"
   ]
  },
  {
   "cell_type": "markdown",
   "id": "1d142706-698a-40cd-9dc1-aeac375940c4",
   "metadata": {
    "papermill": {
     "duration": 0.008953,
     "end_time": "2021-10-13T13:47:46.907251",
     "exception": false,
     "start_time": "2021-10-13T13:47:46.898298",
     "status": "completed"
    },
    "tags": []
   },
   "source": [
    "## Overlap index\n",
    "\n",
    "Plot the overlap scores, representing the pairwise similarity between each barcode."
   ]
  },
  {
   "cell_type": "code",
   "execution_count": 5,
   "id": "cf430147-661b-4107-b232-1f07e8689ee0",
   "metadata": {
    "execution": {
     "iopub.execute_input": "2021-10-13T13:47:46.931243Z",
     "iopub.status.busy": "2021-10-13T13:47:46.930882Z",
     "iopub.status.idle": "2021-10-13T13:47:46.933181Z",
     "shell.execute_reply": "2021-10-13T13:47:46.932877Z"
    },
    "jupyter": {
     "source_hidden": true
    },
    "papermill": {
     "duration": 0.017516,
     "end_time": "2021-10-13T13:47:46.933253",
     "exception": false,
     "start_time": "2021-10-13T13:47:46.915737",
     "status": "completed"
    },
    "tags": []
   },
   "outputs": [],
   "source": [
    "# overlap index rank plot\n",
    "def plot_overlap_rankplot(dat, label, ax):\n",
    "    y = dat['jaccard_frag'].sort_values(ascending=False)\n",
    "    ix = dat['jaccard_frag'][ dat['merged']==True ].idxmin()\n",
    "    thr = dat.iloc[ix]['jaccard_frag']\n",
    "    thrx = sum(dat['merged']==True)\n",
    "    \n",
    "    ax.scatter(x=range(y.shape[0]),\n",
    "               y=y.values,\n",
    "               s=4,\n",
    "               edgecolors=None)\n",
    "    ax.set_xscale('log')\n",
    "    ax.set_yscale('log')\n",
    "    ax.set_ylabel('Jaccard index per barcode pair')\n",
    "    ax.set_xlabel('Barcode pair rank')\n",
    "    ax.axhline(thr, color='grey', linestyle='--')\n",
    "    ax.text(0.01, 0.01, f\" thr={round(thr,4)} ({thrx} barcode pairs)\", ha='left', va='bottom' , transform=ax.transAxes, fontsize='x-small')\n",
    "    ax.set_title(label)"
   ]
  },
  {
   "cell_type": "code",
   "execution_count": 6,
   "id": "ae73615d-e2bd-4ff8-8296-f85abdf17f2d",
   "metadata": {
    "execution": {
     "iopub.execute_input": "2021-10-13T13:47:46.965679Z",
     "iopub.status.busy": "2021-10-13T13:47:46.965001Z",
     "iopub.status.idle": "2021-10-13T13:47:47.809011Z",
     "shell.execute_reply": "2021-10-13T13:47:47.809296Z"
    },
    "jupyter": {
     "source_hidden": true
    },
    "papermill": {
     "duration": 0.867418,
     "end_time": "2021-10-13T13:47:47.809408",
     "exception": false,
     "start_time": "2021-10-13T13:47:46.941990",
     "status": "completed"
    },
    "tags": []
   },
   "outputs": [
    {
     "data": {
      "image/png": "[encoded data removed]",
      "text/plain": [
       "<Figure size 750x600 with 1 Axes>"
      ]
     },
     "metadata": {
      "needs_background": "light"
     },
     "output_type": "display_data"
    }
   ],
   "source": [
    "fig, ax = plt.subplots(1,1, figsize=(5,4), dpi=150 )\n",
    "\n",
    "plot_overlap_rankplot(bap_ib, label=SAMPLE, ax=ax)\n",
    "plt.tight_layout()"
   ]
  },
  {
   "cell_type": "markdown",
   "id": "b4f5a666-cc70-4394-9d77-2aaccbe36223",
   "metadata": {
    "papermill": {
     "duration": 0.009044,
     "end_time": "2021-10-13T13:47:47.829024",
     "exception": false,
     "start_time": "2021-10-13T13:47:47.819980",
     "status": "completed"
    },
    "tags": []
   },
   "source": [
    "## Calculate restricted longest common subsequence (rLCS)\n",
    "\n",
    "This approach follows the methods in:\n",
    "* Lareau, C. A., Ma, S., Duarte, F. M. & Buenrostro, J. D. Inference and effects of barcode multiplets in droplet-based single-cell assays. Nature Communications 11, 1–9 (2020). https://doi.org/10.1038/s41467-020-14667-5\n",
    "\n",
    "This is calculated by taking each set of barcodes identified as a multiplet, and calculating the overlap\n",
    "and identifies two groups of droplet multiplets:\n",
    "* **Physical multiplets** (multiple beads that are physically grouped together in a droplet)\n",
    "  * Contains uniform barcodes (less than cutoff threshold on rLCS)\n",
    "* **Complex beads** (assumed to be due to bead barcode synthesis errors)\n",
    "  * Contain heterogenous barcodes (greater than a cutoff threshold on rLCS)"
   ]
  },
  {
   "cell_type": "code",
   "execution_count": 7,
   "id": "0d4ef782-c47b-4c83-9907-544de71dbc0b",
   "metadata": {
    "execution": {
     "iopub.execute_input": "2021-10-13T13:47:47.854359Z",
     "iopub.status.busy": "2021-10-13T13:47:47.854003Z",
     "iopub.status.idle": "2021-10-13T13:47:47.855771Z",
     "shell.execute_reply": "2021-10-13T13:47:47.855485Z"
    },
    "jupyter": {
     "source_hidden": true
    },
    "papermill": {
     "duration": 0.017386,
     "end_time": "2021-10-13T13:47:47.855842",
     "exception": false,
     "start_time": "2021-10-13T13:47:47.838456",
     "status": "completed"
    },
    "tags": []
   },
   "outputs": [],
   "source": [
    "# calculate rLCS match score\n",
    "def barcode_rle(a, b):\n",
    "    assert len(a) == len(b)\n",
    "    match_cnt = 0\n",
    "    match_list = []\n",
    "    for i in range(len(a)):\n",
    "        \n",
    "        if(a[i] == b[i]):\n",
    "            match_cnt += 1\n",
    "        else:\n",
    "            match_list.append(match_cnt)\n",
    "            match_cnt = 0\n",
    "    match_list.append(match_cnt)\n",
    "    return max(match_list)"
   ]
  },
  {
   "cell_type": "code",
   "execution_count": 8,
   "id": "1c105744-c0b9-46a4-9053-f9e19301fd18",
   "metadata": {
    "execution": {
     "iopub.execute_input": "2021-10-13T13:47:47.890235Z",
     "iopub.status.busy": "2021-10-13T13:47:47.883267Z",
     "iopub.status.idle": "2021-10-13T13:47:47.944830Z",
     "shell.execute_reply": "2021-10-13T13:47:47.943818Z"
    },
    "jupyter": {
     "source_hidden": true
    },
    "papermill": {
     "duration": 0.080259,
     "end_time": "2021-10-13T13:47:47.945076",
     "exception": false,
     "start_time": "2021-10-13T13:47:47.864817",
     "status": "completed"
    },
    "tags": []
   },
   "outputs": [
    {
     "name": "stderr",
     "output_type": "stream",
     "text": [
      "/usr/local/lib/python3.8/site-packages/numpy/core/fromnumeric.py:3419: RuntimeWarning: Mean of empty slice.\n",
      "  return _methods._mean(a, axis=axis, dtype=dtype,\n",
      "/usr/local/lib/python3.8/site-packages/numpy/core/_methods.py:188: RuntimeWarning: invalid value encountered in double_scalars\n",
      "  ret = ret.dtype.type(ret / rcount)\n"
     ]
    },
    {
     "data": {
      "text/html": [
       "<div>\n",
       "<style scoped>\n",
       "    .dataframe tbody tr th:only-of-type {\n",
       "        vertical-align: middle;\n",
       "    }\n",
       "\n",
       "    .dataframe tbody tr th {\n",
       "        vertical-align: top;\n",
       "    }\n",
       "\n",
       "    .dataframe thead th {\n",
       "        text-align: right;\n",
       "    }\n",
       "</style>\n",
       "<table border=\"1\" class=\"dataframe\">\n",
       "  <thead>\n",
       "    <tr style=\"text-align: right;\">\n",
       "      <th></th>\n",
       "      <th>bap_barcode</th>\n",
       "      <th>bap_N</th>\n",
       "      <th>mean_rLCS</th>\n",
       "      <th>multiplets_passing_rLCS_thr</th>\n",
       "    </tr>\n",
       "  </thead>\n",
       "  <tbody>\n",
       "    <tr>\n",
       "      <th>0</th>\n",
       "      <td>HYA__3d6da9__20210813_384_PBMC_21_S11_BC0029_N02</td>\n",
       "      <td>N02</td>\n",
       "      <td>3.000000</td>\n",
       "      <td>False</td>\n",
       "    </tr>\n",
       "    <tr>\n",
       "      <th>1</th>\n",
       "      <td>HYA__3d6da9__20210813_384_PBMC_21_S11_BC0153_N02</td>\n",
       "      <td>N02</td>\n",
       "      <td>3.000000</td>\n",
       "      <td>False</td>\n",
       "    </tr>\n",
       "    <tr>\n",
       "      <th>2</th>\n",
       "      <td>HYA__3d6da9__20210813_384_PBMC_21_S11_BC0204_N02</td>\n",
       "      <td>N02</td>\n",
       "      <td>1.000000</td>\n",
       "      <td>False</td>\n",
       "    </tr>\n",
       "    <tr>\n",
       "      <th>3</th>\n",
       "      <td>HYA__3d6da9__20210813_384_PBMC_21_S11_BC0228_N02</td>\n",
       "      <td>N02</td>\n",
       "      <td>1.000000</td>\n",
       "      <td>False</td>\n",
       "    </tr>\n",
       "    <tr>\n",
       "      <th>4</th>\n",
       "      <td>HYA__3d6da9__20210813_384_PBMC_21_S11_BC0295_N02</td>\n",
       "      <td>N02</td>\n",
       "      <td>2.000000</td>\n",
       "      <td>False</td>\n",
       "    </tr>\n",
       "    <tr>\n",
       "      <th>...</th>\n",
       "      <td>...</td>\n",
       "      <td>...</td>\n",
       "      <td>...</td>\n",
       "      <td>...</td>\n",
       "    </tr>\n",
       "    <tr>\n",
       "      <th>116</th>\n",
       "      <td>HYA__3d6da9__20210813_384_PBMC_21_S11_BC1956_N02</td>\n",
       "      <td>N02</td>\n",
       "      <td>10.000000</td>\n",
       "      <td>True</td>\n",
       "    </tr>\n",
       "    <tr>\n",
       "      <th>117</th>\n",
       "      <td>HYA__3d6da9__20210813_384_PBMC_21_S11_BC1970_N03</td>\n",
       "      <td>N03</td>\n",
       "      <td>4.666667</td>\n",
       "      <td>False</td>\n",
       "    </tr>\n",
       "    <tr>\n",
       "      <th>118</th>\n",
       "      <td>HYA__3d6da9__20210813_384_PBMC_21_S11_BC1989_N02</td>\n",
       "      <td>N02</td>\n",
       "      <td>10.000000</td>\n",
       "      <td>True</td>\n",
       "    </tr>\n",
       "    <tr>\n",
       "      <th>119</th>\n",
       "      <td>HYA__3d6da9__20210813_384_PBMC_21_S11_BC2016_N02</td>\n",
       "      <td>N02</td>\n",
       "      <td>2.000000</td>\n",
       "      <td>False</td>\n",
       "    </tr>\n",
       "    <tr>\n",
       "      <th>120</th>\n",
       "      <td>HYA__3d6da9__20210813_384_PBMC_21_S11_BC2061_N02</td>\n",
       "      <td>N02</td>\n",
       "      <td>11.000000</td>\n",
       "      <td>True</td>\n",
       "    </tr>\n",
       "  </tbody>\n",
       "</table>\n",
       "<p>120 rows × 4 columns</p>\n",
       "</div>"
      ],
      "text/plain": [
       "                                          bap_barcode bap_N  mean_rLCS  \\\n",
       "0    HYA__3d6da9__20210813_384_PBMC_21_S11_BC0029_N02   N02   3.000000   \n",
       "1    HYA__3d6da9__20210813_384_PBMC_21_S11_BC0153_N02   N02   3.000000   \n",
       "2    HYA__3d6da9__20210813_384_PBMC_21_S11_BC0204_N02   N02   1.000000   \n",
       "3    HYA__3d6da9__20210813_384_PBMC_21_S11_BC0228_N02   N02   1.000000   \n",
       "4    HYA__3d6da9__20210813_384_PBMC_21_S11_BC0295_N02   N02   2.000000   \n",
       "..                                                ...   ...        ...   \n",
       "116  HYA__3d6da9__20210813_384_PBMC_21_S11_BC1956_N02   N02  10.000000   \n",
       "117  HYA__3d6da9__20210813_384_PBMC_21_S11_BC1970_N03   N03   4.666667   \n",
       "118  HYA__3d6da9__20210813_384_PBMC_21_S11_BC1989_N02   N02  10.000000   \n",
       "119  HYA__3d6da9__20210813_384_PBMC_21_S11_BC2016_N02   N02   2.000000   \n",
       "120  HYA__3d6da9__20210813_384_PBMC_21_S11_BC2061_N02   N02  11.000000   \n",
       "\n",
       "     multiplets_passing_rLCS_thr  \n",
       "0                          False  \n",
       "1                          False  \n",
       "2                          False  \n",
       "3                          False  \n",
       "4                          False  \n",
       "..                           ...  \n",
       "116                         True  \n",
       "117                        False  \n",
       "118                         True  \n",
       "119                        False  \n",
       "120                         True  \n",
       "\n",
       "[120 rows x 4 columns]"
      ]
     },
     "execution_count": 8,
     "metadata": {},
     "output_type": "execute_result"
    }
   ],
   "source": [
    "rLCS_thr = 6\n",
    "\n",
    "bap_bct['bap_N'] = [ x.split('_')[-1] for x in bap_bct['bap_barcode'] ]\n",
    "\n",
    "multiplets = pd.DataFrame(\n",
    "    bap_bct['bap_barcode'][bap_bct['bap_N']!='N01'].unique(), \n",
    "    columns=['bap_barcode'])\n",
    "multiplets['bap_N'] = [ x.split('_')[-1] for x in multiplets['bap_barcode'] ]\n",
    "\n",
    "bcs_scores = []\n",
    "for i,m in enumerate(multiplets['bap_barcode']):\n",
    "    bcs = bap_bct['barcode'][bap_bct['bap_barcode']==m]\n",
    "    bcs_comb = list(itertools.combinations(bcs, 2))\n",
    "    mean_scores = np.mean([ barcode_rle(x[0], x[1]) for x in bcs_comb ])\n",
    "    bcs_scores.append(mean_scores)\n",
    "multiplets['mean_rLCS'] = bcs_scores\n",
    "\n",
    "# classify multiplet similarity by threshold\n",
    "multiplets['multiplets_passing_rLCS_thr'] = multiplets['mean_rLCS']>=rLCS_thr\n",
    "multiplets.dropna(inplace=True)\n",
    "\n",
    "multiplets"
   ]
  },
  {
   "cell_type": "code",
   "execution_count": 9,
   "id": "289ba617-4e8b-4ee6-aedd-9ad7260b4efc",
   "metadata": {
    "execution": {
     "iopub.execute_input": "2021-10-13T13:47:47.972899Z",
     "iopub.status.busy": "2021-10-13T13:47:47.972561Z",
     "iopub.status.idle": "2021-10-13T13:47:47.975719Z",
     "shell.execute_reply": "2021-10-13T13:47:47.975431Z"
    },
    "jupyter": {
     "source_hidden": true
    },
    "papermill": {
     "duration": 0.016814,
     "end_time": "2021-10-13T13:47:47.975790",
     "exception": false,
     "start_time": "2021-10-13T13:47:47.958976",
     "status": "completed"
    },
    "tags": []
   },
   "outputs": [
    {
     "data": {
      "text/plain": [
       "Counter({'N01': 1967, 'N02': 215, 'N03': 27, 'N05': 5, 'N04': 12})"
      ]
     },
     "execution_count": 9,
     "metadata": {},
     "output_type": "execute_result"
    }
   ],
   "source": [
    "# number of beads per droplet\n",
    "Counter(bap_bct['bap_N'])"
   ]
  },
  {
   "cell_type": "code",
   "execution_count": 10,
   "id": "b7160683-6f5a-4bc9-9b4a-0841ae6b9d11",
   "metadata": {
    "execution": {
     "iopub.execute_input": "2021-10-13T13:47:48.001763Z",
     "iopub.status.busy": "2021-10-13T13:47:48.001417Z",
     "iopub.status.idle": "2021-10-13T13:47:48.003855Z",
     "shell.execute_reply": "2021-10-13T13:47:48.003504Z"
    },
    "jupyter": {
     "source_hidden": true
    },
    "papermill": {
     "duration": 0.017772,
     "end_time": "2021-10-13T13:47:48.003933",
     "exception": false,
     "start_time": "2021-10-13T13:47:47.986161",
     "status": "completed"
    },
    "tags": []
   },
   "outputs": [
    {
     "name": "stdout",
     "output_type": "stream",
     "text": [
      "Number of singlets: 1967\n",
      "Number of physical multiplets: 156\n",
      "Number of complex multiplets: 50\n",
      "Total: 2173\n",
      "Rate of bead heterogeneity 0.02300966\n"
     ]
    }
   ],
   "source": [
    "n_singlets = np.sum(bap_bct['bap_N']=='N01')\n",
    "\n",
    "# multiplets with non barcode similarity (physical multiplets):\n",
    "n_physical = sum([ \n",
    "    int(x.replace('N','')) \n",
    "    for x in multiplets['bap_N'][multiplets['multiplets_passing_rLCS_thr']==False] \n",
    "])\n",
    "\n",
    "# multiplets with barcode similarity (complex multiplets):\n",
    "n_complex = sum(multiplets['multiplets_passing_rLCS_thr'])\n",
    "\n",
    "n_total = n_singlets + n_physical + n_complex\n",
    "\n",
    "# n_complex / n_total # rate of bead heterogeneity\n",
    "\n",
    "print(\n",
    "    f\"Number of singlets: {n_singlets}\\n\"\n",
    "    f\"Number of physical multiplets: {n_physical}\\n\"\n",
    "    f\"Number of complex multiplets: {n_complex}\\n\"\n",
    "    f\"Total: {n_total}\\n\"\n",
    "    f\"Rate of bead heterogeneity {round(n_complex/n_total,8)}\"\n",
    ")"
   ]
  },
  {
   "cell_type": "code",
   "execution_count": 11,
   "id": "c6217139-2c45-485a-87eb-5137a1182450",
   "metadata": {
    "execution": {
     "iopub.execute_input": "2021-10-13T13:47:48.052299Z",
     "iopub.status.busy": "2021-10-13T13:47:48.051263Z",
     "iopub.status.idle": "2021-10-13T13:47:48.171002Z",
     "shell.execute_reply": "2021-10-13T13:47:48.171664Z"
    },
    "jupyter": {
     "source_hidden": true
    },
    "papermill": {
     "duration": 0.157357,
     "end_time": "2021-10-13T13:47:48.171783",
     "exception": false,
     "start_time": "2021-10-13T13:47:48.014426",
     "status": "completed"
    },
    "tags": []
   },
   "outputs": [
    {
     "data": {
      "image/png": "[encoded data removed]",
      "text/plain": [
       "<Figure size 750x600 with 1 Axes>"
      ]
     },
     "metadata": {
      "needs_background": "light"
     },
     "output_type": "display_data"
    }
   ],
   "source": [
    "fig, ax = plt.subplots(1,1, figsize=(5,4), dpi=150)\n",
    "\n",
    "sns.histplot(\n",
    "    multiplets['mean_rLCS'],\n",
    "    ax=ax,\n",
    "    discrete=True)\n",
    "ax.set_xlabel('Mean rLCS per multiplet')\n",
    "ax.set_ylabel('Count')\n",
    "ax.axvline(x=rLCS_thr-0.5, color='grey', linestyle='--')\n",
    "\n",
    "plt.tight_layout()"
   ]
  },
  {
   "cell_type": "markdown",
   "id": "212e4dae-a0c6-4b19-bcdd-152a88c1918e",
   "metadata": {
    "papermill": {
     "duration": 0.011026,
     "end_time": "2021-10-13T13:47:48.194691",
     "exception": false,
     "start_time": "2021-10-13T13:47:48.183665",
     "status": "completed"
    },
    "tags": []
   },
   "source": [
    "## Barcode multiplets"
   ]
  },
  {
   "cell_type": "code",
   "execution_count": 12,
   "id": "3fee9465-f161-4346-81df-79684ced6d58",
   "metadata": {
    "execution": {
     "iopub.execute_input": "2021-10-13T13:47:48.264626Z",
     "iopub.status.busy": "2021-10-13T13:47:48.238483Z",
     "iopub.status.idle": "2021-10-13T13:47:48.422631Z",
     "shell.execute_reply": "2021-10-13T13:47:48.423566Z"
    },
    "jupyter": {
     "source_hidden": true
    },
    "papermill": {
     "duration": 0.218099,
     "end_time": "2021-10-13T13:47:48.423838",
     "exception": false,
     "start_time": "2021-10-13T13:47:48.205739",
     "status": "completed"
    },
    "tags": []
   },
   "outputs": [
    {
     "data": {
      "image/png": "[encoded data removed]",
      "text/plain": [
       "<Figure size 1500x600 with 2 Axes>"
      ]
     },
     "metadata": {
      "needs_background": "light"
     },
     "output_type": "display_data"
    }
   ],
   "source": [
    "fig, (ax1,ax2) = plt.subplots(1,2, figsize=(10,4), dpi=150, sharex=True, sharey=True )\n",
    "\n",
    "sns.histplot(\n",
    "    multiplets['bap_N'][(multiplets['bap_N']!='N01') & (multiplets['multiplets_passing_rLCS_thr']==True)].sort_values(),\n",
    "    ax=ax1,\n",
    "    discrete=True)\n",
    "ax1.set_title(f\"Physical multiplets (non-barcode similarity; rLCS<{rLCS_thr})\")\n",
    "ax1.set_xlabel('# beads / droplet')\n",
    "ax1.set_ylabel('Count')\n",
    "\n",
    "sns.histplot(\n",
    "    multiplets['bap_N'][(multiplets['bap_N']!='N01') & (multiplets['multiplets_passing_rLCS_thr']==False)].sort_values(),\n",
    "    ax=ax2,\n",
    "    discrete=True)\n",
    "#ax1.set_title(SAMPLE)\n",
    "ax2.set_title(f\"Complex beads (barcode similarity; rLCS>={rLCS_thr})\")\n",
    "ax2.set_xlabel('# barcodes / droplet')\n",
    "ax2.set_ylabel('Count')\n",
    "\n",
    "plt.tight_layout()"
   ]
  },
  {
   "cell_type": "markdown",
   "id": "4a480494-d0f1-4cbb-a5f1-c6e88d926a7e",
   "metadata": {
    "papermill": {
     "duration": 0.012197,
     "end_time": "2021-10-13T13:47:48.449674",
     "exception": false,
     "start_time": "2021-10-13T13:47:48.437477",
     "status": "completed"
    },
    "tags": []
   },
   "source": [
    "## NC values\n",
    "\n",
    "Look at the number of occurrences of a particular read across the experiment."
   ]
  },
  {
   "cell_type": "code",
   "execution_count": 13,
   "id": "3b09d13c-d641-402e-97a5-3f3aa9f4cfd7",
   "metadata": {
    "execution": {
     "iopub.execute_input": "2021-10-13T13:47:48.481171Z",
     "iopub.status.busy": "2021-10-13T13:47:48.480825Z",
     "iopub.status.idle": "2021-10-13T13:47:48.483086Z",
     "shell.execute_reply": "2021-10-13T13:47:48.482795Z"
    },
    "jupyter": {
     "source_hidden": true
    },
    "papermill": {
     "duration": 0.021784,
     "end_time": "2021-10-13T13:47:48.483157",
     "exception": false,
     "start_time": "2021-10-13T13:47:48.461373",
     "status": "completed"
    },
    "tags": []
   },
   "outputs": [],
   "source": [
    "# plot NC values hist\n",
    "\n",
    "def plot_bap_NC(dat, label, ax):\n",
    "    p_ = sns.barplot(x='NC_value', y='NumberOfFragments', data=dat, ax=ax, color='grey')\n",
    "    #ax.set_xscale('log')\n",
    "    ax.set_yscale('log')\n",
    "    ax.set_xlabel('NC value')\n",
    "    ax.set_ylabel('Number of fragments')\n",
    "    ax.set_title(SAMPLE)\n",
    "    ax.set_xbound(lower=-1)\n",
    "    for ind, label in enumerate(p_.get_xticklabels()):\n",
    "        if ind % 20 == 0:  # every 20th label is kept\n",
    "            label.set_visible(True)\n",
    "        else:\n",
    "            label.set_visible(False)"
   ]
  },
  {
   "cell_type": "code",
   "execution_count": 14,
   "id": "902a94f7-0f97-413a-84a5-0e2afc7c0153",
   "metadata": {
    "execution": {
     "iopub.execute_input": "2021-10-13T13:47:48.523918Z",
     "iopub.status.busy": "2021-10-13T13:47:48.523566Z",
     "iopub.status.idle": "2021-10-13T13:47:49.231381Z",
     "shell.execute_reply": "2021-10-13T13:47:49.231646Z"
    },
    "jupyter": {
     "source_hidden": true
    },
    "papermill": {
     "duration": 0.736373,
     "end_time": "2021-10-13T13:47:49.231745",
     "exception": false,
     "start_time": "2021-10-13T13:47:48.495372",
     "status": "completed"
    },
    "tags": []
   },
   "outputs": [
    {
     "data": {
      "image/png": "[encoded data removed]",
      "text/plain": [
       "<Figure size 1200x600 with 1 Axes>"
      ]
     },
     "metadata": {
      "needs_background": "light"
     },
     "output_type": "display_data"
    }
   ],
   "source": [
    "fig, ax = plt.subplots(1,1, figsize=(8,4), dpi=150 )\n",
    "\n",
    "plot_bap_NC(bap_nc, label=SAMPLE, ax=ax)\n",
    "plt.tight_layout()"
   ]
  },
  {
   "cell_type": "code",
   "execution_count": null,
   "id": "785588ea-429d-4f82-9ce7-2e300993af9d",
   "metadata": {
    "jupyter": {
     "source_hidden": true
    },
    "papermill": {
     "duration": 0.014027,
     "end_time": "2021-10-13T13:47:49.258903",
     "exception": false,
     "start_time": "2021-10-13T13:47:49.244876",
     "status": "completed"
    },
    "tags": []
   },
   "outputs": [],
   "source": []
  }
 ],
 "metadata": {
  "kernelspec": {
   "display_name": "Python 3",
   "language": "python",
   "name": "python3"
  },
  "language_info": {
   "codemirror_mode": {
    "name": "ipython",
    "version": 3
   },
   "file_extension": ".py",
   "mimetype": "text/x-python",
   "name": "python",
   "nbconvert_exporter": "python",
   "pygments_lexer": "ipython3",
   "version": "3.8.3"
  },
  "papermill": {
   "default_parameters": {},
   "duration": 5.827168,
   "end_time": "2021-10-13T13:47:49.684363",
   "environment_variables": {},
   "exception": null,
   "input_path": "bap_barcode_multiplet_report.ipynb",
   "output_path": "HYA__3d6da9__20210813_384_PBMC_21_S11.BAP_multiplet_report.ipynb",
   "parameters": {
    "SAMPLE": "HYA__3d6da9__20210813_384_PBMC_21_S11",
    "WORKFLOW_PARAMETERS": "{\"report_ipynb\":\"/src/bap/bin/bap_barcode_multiplet_report.ipynb\",\"bead_tag\":\"CB\",\"drop_tag\":\"DB\",\"minimum_barcode_fragments\":1000,\"barcode_whitelist\":\"\",\"minimum_jaccard_index\":0.02,\"nc_threshold\":6,\"regularize_threshold\":4,\"mapq\":30,\"max_insert\":2000,\"reference_genome\":\"hg38\",\"bedtools_genome\":\"\",\"blacklist_file\":\"\",\"tss_file\":\"\",\"mito_chromosome\":\"default\"}"
   },
   "start_time": "2021-10-13T13:47:43.857195",
   "version": "2.3.3"
  }
 },
 "nbformat": 4,
 "nbformat_minor": 5
}