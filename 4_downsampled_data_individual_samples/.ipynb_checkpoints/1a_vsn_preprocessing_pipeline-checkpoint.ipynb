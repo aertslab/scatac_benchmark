{
 "cells": [
  {
   "cell_type": "markdown",
   "metadata": {},
   "source": [
    "# downsample the data"
   ]
  },
  {
   "cell_type": "markdown",
   "metadata": {},
   "source": [
    "we need to downsample all fastqs to 42179, which is the depth of the lowest-sequenced sample."
   ]
  },
  {
   "cell_type": "code",
   "execution_count": 29,
   "metadata": {},
   "outputs": [],
   "source": [
    "module load seqtk"
   ]
  },
  {
   "cell_type": "markdown",
   "metadata": {},
   "source": [
    "we know from our earlier qc that the following cell number is detected in hydrop. so we downsample to the following depths (3rd column)"
   ]
  },
  {
   "cell_type": "markdown",
   "metadata": {},
   "source": [
    "```\n",
    "  1054 HYA__24010b__20210813_384_PBMC_11_S9.cell_barcodes.txt 44456666\n",
    "  1356 HYA__2beafa__20210813_384_PBMC_12_S10.cell_barcodes.txt 57194724\n",
    "  1820 HYA__3d6da9__20210813_384_PBMC_21_S11.cell_barcodes.txt 76765780\n",
    "   924 HYA__5028cb__20210813_384_PBMC_22_S12.cell_barcodes.txt 38973396\n",
    "```"
   ]
  },
  {
   "cell_type": "code",
   "execution_count": 30,
   "metadata": {},
   "outputs": [
    {
     "name": "stdout",
     "output_type": "stream",
     "text": [
      "\n",
      "Usage:   seqtk sample [-2] [-s seed=11] <in.fa> <frac>|<number>\n",
      "\n",
      "Options: -s INT       RNG seed [11]\n",
      "         -2           2-pass mode: twice as slow but with much reduced memory\n",
      "\n"
     ]
    },
    {
     "ename": "",
     "evalue": "1",
     "output_type": "error",
     "traceback": []
    }
   ],
   "source": [
    "seqtk sample"
   ]
  },
  {
   "cell_type": "code",
   "execution_count": 31,
   "metadata": {},
   "outputs": [
    {
     "name": "stdout",
     "output_type": "stream",
     "text": [
      "\u001b[0m\u001b[01;31m*PBMC_22*001.LIBDS.fastq.gz\u001b[0m\n",
      "\u001b[01;31mHYA__24010b__20210813_384_PBMC_11_S9_R1_001.LIBDS.fastq.gz\u001b[0m\n",
      "\u001b[01;36mHYA__24010b__20210813_384_PBMC_11_S9_R1_001.fastq.gz\u001b[0m\n",
      "\u001b[01;31mHYA__24010b__20210813_384_PBMC_11_S9_R2_001.LIBDS.fastq.gz\u001b[0m\n",
      "\u001b[01;36mHYA__24010b__20210813_384_PBMC_11_S9_R2_001.fastq.gz\u001b[0m\n",
      "\u001b[01;31mHYA__24010b__20210813_384_PBMC_11_S9_R3_001.LIBDS.fastq.gz\u001b[0m\n",
      "\u001b[01;36mHYA__24010b__20210813_384_PBMC_11_S9_R3_001.fastq.gz\u001b[0m\n",
      "\u001b[01;36mHYA__2beafa__20210813_384_PBMC_12_S10_R1_001.fastq.gz\u001b[0m\n",
      "\u001b[01;36mHYA__2beafa__20210813_384_PBMC_12_S10_R2_001.fastq.gz\u001b[0m\n",
      "\u001b[01;36mHYA__2beafa__20210813_384_PBMC_12_S10_R3_001.fastq.gz\u001b[0m\n",
      "\u001b[01;36mHYA__3d6da9__20210813_384_PBMC_21_S11_R1_001.fastq.gz\u001b[0m\n",
      "\u001b[01;36mHYA__3d6da9__20210813_384_PBMC_21_S11_R2_001.fastq.gz\u001b[0m\n",
      "\u001b[01;36mHYA__3d6da9__20210813_384_PBMC_21_S11_R3_001.fastq.gz\u001b[0m\n",
      "\u001b[01;36mHYA__5028cb__20210813_384_PBMC_22_S12_R1_001.fastq.gz\u001b[0m\n",
      "\u001b[01;36mHYA__5028cb__20210813_384_PBMC_22_S12_R2_001.fastq.gz\u001b[0m\n",
      "\u001b[01;36mHYA__5028cb__20210813_384_PBMC_22_S12_R3_001.fastq.gz\u001b[0m\n"
     ]
    }
   ],
   "source": [
    "ls fastq "
   ]
  },
  {
   "cell_type": "code",
   "execution_count": 32,
   "metadata": {},
   "outputs": [
    {
     "name": "stdout",
     "output_type": "stream",
     "text": [
      "\u001b[0m\u001b[01;36mfastq/HYA__24010b__20210813_384_PBMC_11_S9_R1_001.fastq.gz\u001b[0m\n",
      "[1] 33054\n",
      "\u001b[0m\u001b[01;36mfastq/HYA__24010b__20210813_384_PBMC_11_S9_R2_001.fastq.gz\u001b[0m\n",
      "[2] 33056\n",
      "\u001b[0m\u001b[01;36mfastq/HYA__24010b__20210813_384_PBMC_11_S9_R3_001.fastq.gz\u001b[0m\n",
      "[3] 33059\n"
     ]
    }
   ],
   "source": [
    "for file in fastq/*PBMC_11*001.fastq.gz\n",
    "do\n",
    "    ls $file\n",
    "    newname=${file%.fastq.gz}.LIBDS.fastq\n",
    "    seqtk sample -s 1 $file 44456666 > $newname &\n",
    "done"
   ]
  },
  {
   "cell_type": "code",
   "execution_count": 33,
   "metadata": {},
   "outputs": [
    {
     "name": "stdout",
     "output_type": "stream",
     "text": [
      "\u001b[0m\u001b[01;36mfastq/HYA__2beafa__20210813_384_PBMC_12_S10_R1_001.fastq.gz\u001b[0m\n",
      "[4] 33069\n",
      "done\n",
      "\u001b[0m\u001b[01;36mfastq/HYA__2beafa__20210813_384_PBMC_12_S10_R2_001.fastq.gz\u001b[0m\n",
      "[5] 33071\n",
      "done\n",
      "\u001b[0m\u001b[01;36mfastq/HYA__2beafa__20210813_384_PBMC_12_S10_R3_001.fastq.gz\u001b[0m\n",
      "[6] 33073\n",
      "done\n"
     ]
    }
   ],
   "source": [
    "for file in fastq/*PBMC_12*001.fastq.gz\n",
    "do\n",
    "    ls $file\n",
    "    newname=${file%.fastq.gz}.LIBDS.fastq\n",
    "    seqtk sample -s 1 $file 57194724 > $newname &\n",
    "    echo done\n",
    "done"
   ]
  },
  {
   "cell_type": "code",
   "execution_count": 34,
   "metadata": {},
   "outputs": [
    {
     "name": "stdout",
     "output_type": "stream",
     "text": [
      "\u001b[0m\u001b[01;36mfastq/HYA__3d6da9__20210813_384_PBMC_21_S11_R1_001.fastq.gz\u001b[0m\n",
      "[7] 33076\n",
      "done\n",
      "\u001b[0m\u001b[01;36mfastq/HYA__3d6da9__20210813_384_PBMC_21_S11_R2_001.fastq.gz\u001b[0m\n",
      "[8] 33078\n",
      "done\n",
      "\u001b[0m\u001b[01;36mfastq/HYA__3d6da9__20210813_384_PBMC_21_S11_R3_001.fastq.gz\u001b[0m\n",
      "[9] 33081\n",
      "done\n"
     ]
    }
   ],
   "source": [
    "for file in fastq/*PBMC_21*001.fastq.gz\n",
    "do\n",
    "    ls $file\n",
    "    newname=${file%.fastq.gz}.LIBDS.fastq\n",
    "    seqtk sample -s 1 $file 76765780 > $newname &\n",
    "    echo done\n",
    "done"
   ]
  },
  {
   "cell_type": "code",
   "execution_count": 35,
   "metadata": {},
   "outputs": [
    {
     "name": "stdout",
     "output_type": "stream",
     "text": [
      "\u001b[0m\u001b[01;36mfastq/HYA__5028cb__20210813_384_PBMC_22_S12_R1_001.fastq.gz\u001b[0m\n",
      "[10] 33083\n",
      "done\n",
      "\u001b[0m\u001b[01;36mfastq/HYA__5028cb__20210813_384_PBMC_22_S12_R2_001.fastq.gz\u001b[0m\n",
      "[11] 33086\n",
      "done\n",
      "\u001b[0m\u001b[01;36mfastq/HYA__5028cb__20210813_384_PBMC_22_S12_R3_001.fastq.gz\u001b[0m\n",
      "[12] 33088\n",
      "done\n"
     ]
    }
   ],
   "source": [
    "for file in fastq/*PBMC_22*001.fastq.gz\n",
    "do\n",
    "    ls $file\n",
    "    newname=${file%.fastq.gz}.LIBDS.fastq\n",
    "    seqtk sample -s 1 $file 38973396 > $newname &\n",
    "    echo done\n",
    "done"
   ]
  },
  {
   "cell_type": "code",
   "execution_count": 36,
   "metadata": {},
   "outputs": [
    {
     "name": "stdout",
     "output_type": "stream",
     "text": [
      "[1]   Running                 seqtk sample -s 1 $file 44456666 > $newname &\n",
      "[2]   Running                 seqtk sample -s 1 $file 44456666 > $newname &\n",
      "[3]   Running                 seqtk sample -s 1 $file 44456666 > $newname &\n",
      "[4]   Running                 seqtk sample -s 1 $file 57194724 > $newname &\n",
      "[5]   Running                 seqtk sample -s 1 $file 57194724 > $newname &\n",
      "[6]   Running                 seqtk sample -s 1 $file 57194724 > $newname &\n",
      "[7]   Running                 seqtk sample -s 1 $file 76765780 > $newname &\n",
      "[8]   Running                 seqtk sample -s 1 $file 76765780 > $newname &\n",
      "[9]   Running                 seqtk sample -s 1 $file 76765780 > $newname &\n",
      "[10]   Running                 seqtk sample -s 1 $file 38973396 > $newname &\n",
      "[11]-  Running                 seqtk sample -s 1 $file 38973396 > $newname &\n",
      "[12]+  Running                 seqtk sample -s 1 $file 38973396 > $newname &\n"
     ]
    }
   ],
   "source": [
    "jobs"
   ]
  },
  {
   "cell_type": "code",
   "execution_count": 38,
   "metadata": {},
   "outputs": [
    {
     "name": "stdout",
     "output_type": "stream",
     "text": [
      "HYA__24010b__20210813_384_PBMC_11_S9_R1_001.LIBDS.fastq\n",
      "\u001b[0m\u001b[01;36mHYA__24010b__20210813_384_PBMC_11_S9_R1_001.fastq.gz\u001b[0m\n",
      "HYA__24010b__20210813_384_PBMC_11_S9_R2_001.LIBDS.fastq\n",
      "\u001b[01;36mHYA__24010b__20210813_384_PBMC_11_S9_R2_001.fastq.gz\u001b[0m\n",
      "HYA__24010b__20210813_384_PBMC_11_S9_R3_001.LIBDS.fastq\n",
      "\u001b[01;36mHYA__24010b__20210813_384_PBMC_11_S9_R3_001.fastq.gz\u001b[0m\n",
      "HYA__2beafa__20210813_384_PBMC_12_S10_R1_001.LIBDS.fastq\n",
      "\u001b[01;36mHYA__2beafa__20210813_384_PBMC_12_S10_R1_001.fastq.gz\u001b[0m\n",
      "HYA__2beafa__20210813_384_PBMC_12_S10_R2_001.LIBDS.fastq\n",
      "\u001b[01;36mHYA__2beafa__20210813_384_PBMC_12_S10_R2_001.fastq.gz\u001b[0m\n",
      "HYA__2beafa__20210813_384_PBMC_12_S10_R3_001.LIBDS.fastq\n",
      "\u001b[01;36mHYA__2beafa__20210813_384_PBMC_12_S10_R3_001.fastq.gz\u001b[0m\n",
      "HYA__3d6da9__20210813_384_PBMC_21_S11_R1_001.LIBDS.fastq\n",
      "\u001b[01;36mHYA__3d6da9__20210813_384_PBMC_21_S11_R1_001.fastq.gz\u001b[0m\n",
      "HYA__3d6da9__20210813_384_PBMC_21_S11_R2_001.LIBDS.fastq\n",
      "\u001b[01;36mHYA__3d6da9__20210813_384_PBMC_21_S11_R2_001.fastq.gz\u001b[0m\n",
      "HYA__3d6da9__20210813_384_PBMC_21_S11_R3_001.LIBDS.fastq\n",
      "\u001b[01;36mHYA__3d6da9__20210813_384_PBMC_21_S11_R3_001.fastq.gz\u001b[0m\n",
      "HYA__5028cb__20210813_384_PBMC_22_S12_R1_001.LIBDS.fastq\n",
      "\u001b[01;36mHYA__5028cb__20210813_384_PBMC_22_S12_R1_001.fastq.gz\u001b[0m\n",
      "HYA__5028cb__20210813_384_PBMC_22_S12_R2_001.LIBDS.fastq\n",
      "\u001b[01;36mHYA__5028cb__20210813_384_PBMC_22_S12_R2_001.fastq.gz\u001b[0m\n",
      "HYA__5028cb__20210813_384_PBMC_22_S12_R3_001.LIBDS.fastq\n",
      "\u001b[01;36mHYA__5028cb__20210813_384_PBMC_22_S12_R3_001.fastq.gz\u001b[0m\n"
     ]
    }
   ],
   "source": [
    "ls fastq/"
   ]
  },
  {
   "cell_type": "code",
   "execution_count": 42,
   "metadata": {},
   "outputs": [
    {
     "name": "stdout",
     "output_type": "stream",
     "text": [
      "[1] 2066\n",
      "[2] 2067\n",
      "[3] 2068\n",
      "[4] 2069\n",
      "[5] 2070\n",
      "[6] 2071\n",
      "[7] 2072\n",
      "[8] 2073\n",
      "[9] 2074\n",
      "[10] 2075\n",
      "[11] 2076\n",
      "[12] 2077\n"
     ]
    }
   ],
   "source": [
    "for file in fastq/*.fastq\n",
    "do\n",
    "    gzip $file &\n",
    "done"
   ]
  },
  {
   "cell_type": "code",
   "execution_count": 61,
   "metadata": {},
   "outputs": [],
   "source": [
    "jobs"
   ]
  },
  {
   "cell_type": "markdown",
   "metadata": {},
   "source": [
    "now continue as normal, but on the downsampled files."
   ]
  },
  {
   "cell_type": "code",
   "execution_count": 45,
   "metadata": {},
   "outputs": [
    {
     "name": "stdout",
     "output_type": "stream",
     "text": [
      "rm: cannot remove ‘metadata_auto.tsv’: No such file or directory\n",
      "sample_name\ttechnology\tfastq_PE1_path\tfastq_barcode_path\tfastq_PE2_path\n",
      "HYA__24010b__20210813_384_PBMC_11_S9\thydrop_2x384\t/lustre1/project/stg_00002/lcb/fderop/data/20211013_hca_benchmark_libds/fastq/HYA__24010b__20210813_384_PBMC_11_S9_R1_001.LIBDS.fastq.gz\t/lustre1/project/stg_00002/lcb/fderop/data/20211013_hca_benchmark_libds/fastq/HYA__24010b__20210813_384_PBMC_11_S9_R2_001.LIBDS.fastq.gz\t/lustre1/project/stg_00002/lcb/fderop/data/20211013_hca_benchmark_libds/fastq/HYA__24010b__20210813_384_PBMC_11_S9_R3_001.LIBDS.fastq.gz\n",
      "HYA__2beafa__20210813_384_PBMC_12_S10\thydrop_2x384\t/lustre1/project/stg_00002/lcb/fderop/data/20211013_hca_benchmark_libds/fastq/HYA__2beafa__20210813_384_PBMC_12_S10_R1_001.LIBDS.fastq.gz\t/lustre1/project/stg_00002/lcb/fderop/data/20211013_hca_benchmark_libds/fastq/HYA__2beafa__20210813_384_PBMC_12_S10_R2_001.LIBDS.fastq.gz\t/lustre1/project/stg_00002/lcb/fderop/data/20211013_hca_benchmark_libds/fastq/HYA__2beafa__20210813_384_PBMC_12_S10_R3_001.LIBDS.fastq.gz\n",
      "HYA__3d6da9__20210813_384_PBMC_21_S11\thydrop_2x384\t/lustre1/project/stg_00002/lcb/fderop/data/20211013_hca_benchmark_libds/fastq/HYA__3d6da9__20210813_384_PBMC_21_S11_R1_001.LIBDS.fastq.gz\t/lustre1/project/stg_00002/lcb/fderop/data/20211013_hca_benchmark_libds/fastq/HYA__3d6da9__20210813_384_PBMC_21_S11_R2_001.LIBDS.fastq.gz\t/lustre1/project/stg_00002/lcb/fderop/data/20211013_hca_benchmark_libds/fastq/HYA__3d6da9__20210813_384_PBMC_21_S11_R3_001.LIBDS.fastq.gz\n",
      "HYA__5028cb__20210813_384_PBMC_22_S12\thydrop_2x384\t/lustre1/project/stg_00002/lcb/fderop/data/20211013_hca_benchmark_libds/fastq/HYA__5028cb__20210813_384_PBMC_22_S12_R1_001.LIBDS.fastq.gz\t/lustre1/project/stg_00002/lcb/fderop/data/20211013_hca_benchmark_libds/fastq/HYA__5028cb__20210813_384_PBMC_22_S12_R2_001.LIBDS.fastq.gz\t/lustre1/project/stg_00002/lcb/fderop/data/20211013_hca_benchmark_libds/fastq/HYA__5028cb__20210813_384_PBMC_22_S12_R3_001.LIBDS.fastq.gz\n"
     ]
    }
   ],
   "source": [
    "rm metadata_auto.tsv\n",
    "dir=`pwd -P`\n",
    "echo -e 'sample_name\\ttechnology\\tfastq_PE1_path\\tfastq_barcode_path\\tfastq_PE2_path' > metadata_auto.tsv\n",
    "for fastq in fastq/*S*_R2_001.LIBDS.fastq.gz\n",
    "do\n",
    "    samplename=${fastq%_R2_001.LIBDS.fastq.gz}\n",
    "    metadatasamplename=${samplename#fastq/}\n",
    "    R1=$dir/${samplename}_R1_001.LIBDS.fastq.gz\n",
    "    R2=$dir/${samplename}_R2_001.LIBDS.fastq.gz\n",
    "    R3=$dir/${samplename}_R3_001.LIBDS.fastq.gz\n",
    "    echo -e $metadatasamplename'\\thydrop_2x384\\t'$R1'\\t'$R2'\\t'$R3 >> metadata_auto.tsv\n",
    "done\n",
    "cat metadata_auto.tsv"
   ]
  },
  {
   "cell_type": "markdown",
   "metadata": {},
   "source": [
    "Then, generate a config file read by the vsn pipelin"
   ]
  },
  {
   "cell_type": "code",
   "execution_count": null,
   "metadata": {},
   "outputs": [],
   "source": [
    "# redirect the work dir to scratch\n",
    "# change this scratch dir\n",
    "nwork=${VSC_SCRATCH}/20210929_20210813_hydrop-atac_384_pbmc/\n",
    "mkdir $nwork\n",
    "export NXF_WORK=$nwork\n",
    "\n",
    "VSN=vib-singlecell-nf/vsn-pipelines/main_atac.nf\n",
    "\n",
    "nextflow pull vib-singlecell-nf/vsn-pipelines -r develop_atac\n",
    "\n",
    "module load graphviz\n",
    "module load Nextflow\n",
    "\n",
    "nextflow config $VSN \\\n",
    "    -profile atac_preprocess_bap,vsc \\\n",
    "    > atac_preprocess_bap.config"
   ]
  },
  {
   "cell_type": "markdown",
   "metadata": {},
   "source": [
    "### now make some changes to the config:\n",
    "an example config (may not work for mixed species since some parameters are dependent on species): `/ddn1/vol1/staging/leuven/stg_00002/lcb/cflerin/analysis/pbmc_atac/analysis/nextflow/data_freeze_Feb2021/atac_preprocess_bap.config`\n",
    "* redirect to metadata_auto.tsv instead of standard metadata.tsv\n",
    "* fix BWA parameters\n",
    "    * !!! change the bwa index directory to the right one!\n",
    "        * dm6: `/lustre1/project/stg_00002/lcb/fderop/data/00000000_genomes/dm6_bwa/dm6_bwa.fa`\n",
    "        * hg38 pbmc benchmark: `'/staging/leuven/stg_00002/lcb/cflerin/data/GRCh38/genome.fa'`\n",
    "    * change the bwa executor to local if run is urgent\n",
    "    * number of bwa CPUs: better to have 2 forks running with 17 threads than to have 1 fork with 36 threads due to I/O overhead\n",
    "* if we use multispecies bwa index, make sure to edit the sinto regex for which fragments to accept!\n",
    "    * standard works for human\n",
    "    * human/mouse: `'\"(?i)^GRCh38_chr|(?i)^mm10\"' `\n",
    "    * dm6: `'\"^(2L|2R|3L|3R|4|X|Y|mitochondrion_genome)$\"'`\n",
    "* add whitelist under 'standard':\n",
    "    * hydrop_3x96 = `'/lustre1/project/stg_00002/lcb/fderop/data/00000000_barcodes/20200227_HyDrop-ATAC_96x96x96/full_barcodes_no_underscore_REVCOMP.txt'`\n",
    "    * hydrop_2x384 = `'/lustre1/project/stg_00002/lcb/fderop/data/00000000_barcodes/20210729_384x384_atac/20210929_HYDROP-ATAC_384x384_RVCOMP.txt'`\n",
    "* if using bap, make sure that the bap parameters are correct\n",
    "    * bap genome\n"
   ]
  },
  {
   "cell_type": "markdown",
   "metadata": {},
   "source": [
    "Then, in a tmux session:"
   ]
  },
  {
   "cell_type": "code",
   "execution_count": null,
   "metadata": {},
   "outputs": [],
   "source": [
    "nwork=${VSC_SCRATCH}/20210929_20210813_hydrop-atac_384_pbmc/\n",
    "mkdir $nwork\n",
    "export NXF_WORK=$nwork\n",
    "\n",
    "module load graphviz\n",
    "module load Nextflow\n",
    "nextflow pull vib-singlecell-nf/vsn-pipelines -r develop_atac\n",
    "\n",
    "nextflow -C atac_preprocess_bap.config run \\\n",
    "    vib-singlecell-nf/vsn-pipelines/main_atac.nf \\\n",
    "    -entry atac_preprocess_bap -r develop_atac -resume"
   ]
  },
  {
   "cell_type": "markdown",
   "metadata": {},
   "source": [
    "After this is finished, read the bap reports to check the bap kneeplot and determine new bap parameters. Re-run the pipeline with new bap parameters!"
   ]
  },
  {
   "cell_type": "markdown",
   "metadata": {},
   "source": [
    "# now, we need to do the whole bap-barcode translation part"
   ]
  },
  {
   "cell_type": "markdown",
   "metadata": {},
   "source": [
    "see next notebook"
   ]
  }
 ],
 "metadata": {
  "kernelspec": {
   "display_name": "Bash",
   "language": "bash",
   "name": "bash"
  },
  "language_info": {
   "codemirror_mode": "shell",
   "file_extension": ".sh",
   "mimetype": "text/x-sh",
   "name": "bash"
  }
 },
 "nbformat": 4,
 "nbformat_minor": 4
}
