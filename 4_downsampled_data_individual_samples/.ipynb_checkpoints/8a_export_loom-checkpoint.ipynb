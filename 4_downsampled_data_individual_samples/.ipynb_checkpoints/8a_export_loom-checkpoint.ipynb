{
 "cells": [
  {
   "cell_type": "markdown",
   "id": "038ef526",
   "metadata": {
    "tags": [
     "papermill-error-cell-tag"
    ]
   },
   "source": [
    "<span style=\"color:red; font-family:Helvetica Neue, Helvetica, Arial, sans-serif; font-size:2em;\">An Exception was encountered at '<a href=\"#papermill-error-cell\">In [40]</a>'.</span>"
   ]
  },
  {
   "cell_type": "code",
   "execution_count": 1,
   "id": "87a1c0a6",
   "metadata": {
    "execution": {
     "iopub.execute_input": "2022-01-17T10:28:46.872136Z",
     "iopub.status.busy": "2022-01-17T10:28:46.871716Z",
     "iopub.status.idle": "2022-01-17T10:28:46.882687Z",
     "shell.execute_reply": "2022-01-17T10:28:46.882216Z"
    },
    "papermill": {
     "duration": 0.045599,
     "end_time": "2022-01-17T10:28:46.882817",
     "exception": false,
     "start_time": "2022-01-17T10:28:46.837218",
     "status": "completed"
    },
    "tags": []
   },
   "outputs": [
    {
     "data": {
      "text/plain": [
       "'0.1.dev300+g7494158'"
      ]
     },
     "execution_count": 1,
     "metadata": {},
     "output_type": "execute_result"
    }
   ],
   "source": [
    "import pycisTopic\n",
    "pycisTopic.__version__"
   ]
  },
  {
   "cell_type": "code",
   "execution_count": 2,
   "id": "cb8d7f61",
   "metadata": {
    "execution": {
     "iopub.execute_input": "2022-01-17T10:28:46.936162Z",
     "iopub.status.busy": "2022-01-17T10:28:46.935733Z",
     "iopub.status.idle": "2022-01-17T10:28:46.937880Z",
     "shell.execute_reply": "2022-01-17T10:28:46.937446Z"
    },
    "papermill": {
     "duration": 0.034198,
     "end_time": "2022-01-17T10:28:46.937988",
     "exception": false,
     "start_time": "2022-01-17T10:28:46.903790",
     "status": "completed"
    },
    "tags": []
   },
   "outputs": [],
   "source": [
    "import warnings\n",
    "warnings.filterwarnings('ignore')\n",
    "warnings.simplefilter('ignore')"
   ]
  },
  {
   "cell_type": "code",
   "execution_count": 3,
   "id": "d6ed82cc",
   "metadata": {
    "execution": {
     "iopub.execute_input": "2022-01-17T10:28:46.984274Z",
     "iopub.status.busy": "2022-01-17T10:28:46.983880Z",
     "iopub.status.idle": "2022-01-17T10:28:47.621897Z",
     "shell.execute_reply": "2022-01-17T10:28:47.622350Z"
    },
    "papermill": {
     "duration": 0.663891,
     "end_time": "2022-01-17T10:28:47.622529",
     "exception": false,
     "start_time": "2022-01-17T10:28:46.958638",
     "status": "completed"
    },
    "tags": []
   },
   "outputs": [],
   "source": [
    "import pickle\n",
    "import pandas as pd"
   ]
  },
  {
   "cell_type": "code",
   "execution_count": 4,
   "id": "31eb2e82",
   "metadata": {
    "execution": {
     "iopub.execute_input": "2022-01-17T10:28:47.673709Z",
     "iopub.status.busy": "2022-01-17T10:28:47.673329Z",
     "iopub.status.idle": "2022-01-17T10:28:47.676094Z",
     "shell.execute_reply": "2022-01-17T10:28:47.676405Z"
    },
    "papermill": {
     "duration": 0.03108,
     "end_time": "2022-01-17T10:28:47.676508",
     "exception": false,
     "start_time": "2022-01-17T10:28:47.645428",
     "status": "completed"
    },
    "tags": []
   },
   "outputs": [],
   "source": [
    "import copy"
   ]
  },
  {
   "cell_type": "code",
   "execution_count": 5,
   "id": "dcc39134",
   "metadata": {
    "execution": {
     "iopub.execute_input": "2022-01-17T10:28:47.721478Z",
     "iopub.status.busy": "2022-01-17T10:28:47.721101Z",
     "iopub.status.idle": "2022-01-17T10:28:47.724316Z",
     "shell.execute_reply": "2022-01-17T10:28:47.724029Z"
    },
    "papermill": {
     "duration": 0.02794,
     "end_time": "2022-01-17T10:28:47.724397",
     "exception": false,
     "start_time": "2022-01-17T10:28:47.696457",
     "status": "completed"
    },
    "tags": []
   },
   "outputs": [],
   "source": [
    "import os\n",
    "wdir = '/lustre1/project/stg_00002/lcb/fderop/data/20211215_hca_benchmark_github/4_downsampled_data_individual_samples/'\n",
    "os.chdir( wdir )"
   ]
  },
  {
   "cell_type": "code",
   "execution_count": 6,
   "id": "09aaa7e8",
   "metadata": {
    "execution": {
     "iopub.execute_input": "2022-01-17T10:28:47.770757Z",
     "iopub.status.busy": "2022-01-17T10:28:47.770363Z",
     "iopub.status.idle": "2022-01-17T10:28:47.773451Z",
     "shell.execute_reply": "2022-01-17T10:28:47.773151Z"
    },
    "papermill": {
     "duration": 0.02917,
     "end_time": "2022-01-17T10:28:47.773535",
     "exception": false,
     "start_time": "2022-01-17T10:28:47.744365",
     "status": "completed"
    },
    "tags": []
   },
   "outputs": [],
   "source": [
    "# create output directory:\n",
    "f_final_dir = os.path.join(wdir, 'downstream_analysis')\n",
    "if not os.path.exists(f_final_dir):\n",
    "    os.makedirs(f_final_dir)"
   ]
  },
  {
   "cell_type": "code",
   "execution_count": 7,
   "id": "6835be65",
   "metadata": {
    "execution": {
     "iopub.execute_input": "2022-01-17T10:28:47.827489Z",
     "iopub.status.busy": "2022-01-17T10:28:47.827086Z",
     "iopub.status.idle": "2022-01-17T10:28:47.829416Z",
     "shell.execute_reply": "2022-01-17T10:28:47.829032Z"
    },
    "papermill": {
     "duration": 0.034759,
     "end_time": "2022-01-17T10:28:47.829498",
     "exception": false,
     "start_time": "2022-01-17T10:28:47.794739",
     "status": "completed"
    },
    "tags": []
   },
   "outputs": [],
   "source": [
    "# display names of each sample. NOTE: the samples will be dislpayed in the order of this dict!\n",
    "from collections import OrderedDict\n",
    "alias_dict = OrderedDict({\n",
    "    \"Broad_1\": \"BioRad ATAC 1\",\n",
    "    \"Broad_2\": \"BioRad ATAC 2\",\n",
    "    \"Stanford_1\": \"10x ATAC A1\",\n",
    "    \"Stanford_2\": \"10x ATAC A2\",\n",
    "    \"VIB_1\": \"10x ATAC B1\",\n",
    "    \"VIB_2\": \"10x ATAC B2\",\n",
    "    \"CNAG_1\": \"10x ATAC C1\",\n",
    "    \"CNAG_2\": \"10x ATAC C2\",\n",
    "    \"Broad_mito_1\": \"10x mtATAC 1\",\n",
    "    \"Broad_mito_2\": \"10x mtATAC 2\",\n",
    "    \"Sanger_1\": \"10x Multiome 1\",\n",
    "    \"Sanger_2\": \"10x Multiome 2\",\n",
    "    \"VIB_Hydrop_1\": \"Hydrop ATAC 1\",\n",
    "    \"VIB_Hydrop_2\": \"Hydrop ATAC 2\",\n",
    "    \"s3atac\": \"s3 ATAC\",\n",
    "})\n",
    "\n",
    "color_dict = OrderedDict({\n",
    "    \"Broad_mito_1\": \"#9467bd\",\n",
    "    \"Broad_mito_2\": \"#c5b0d5\",\n",
    "    \"CNAG_1\": \"#d62728\",\n",
    "    \"CNAG_2\": \"#ff9896\",\n",
    "    \"Broad_1\": \"#1f77b4\",\n",
    "    \"Broad_2\": \"#aec7e8\",\n",
    "    \"Sanger_1\": \"#8c564b\",\n",
    "    \"Sanger_2\": \"#c49c94\",\n",
    "    \"Stanford_1\": \"#ff7f0e\",\n",
    "    \"Stanford_2\": \"#ffbb78\",\n",
    "    \"VIB_1\": \"#2ca02c\",\n",
    "    \"VIB_2\": \"#98df8a\",\n",
    "    \"VIB_Hydrop_1\": \"#e377c2\",\n",
    "    \"VIB_Hydrop_2\": \"#f7b6d2\",\n",
    "    \"s3atac\": \"#7f7f7f\",\n",
    "})\n",
    "\n",
    "tech_dict = OrderedDict({\n",
    "    \"Broad_1\": \"BioRad ATAC\",\n",
    "    \"Broad_2\": \"BioRad ATAC\",\n",
    "    \"Stanford_1\": \"10x ATAC A\",\n",
    "    \"Stanford_2\": \"10x ATAC A\",\n",
    "    \"VIB_1\": \"10x ATAC B\",\n",
    "    \"VIB_2\": \"10x ATAC B\",\n",
    "    \"CNAG_1\": \"10x ATAC C\",\n",
    "    \"CNAG_2\": \"10x ATAC C\",\n",
    "    \"Broad_mito_1\": \"10x mtATAC\",\n",
    "    \"Broad_mito_2\": \"10x mtATAC\",\n",
    "    \"Sanger_1\": \"10x Multiome\",\n",
    "    \"Sanger_2\": \"10x Multiome\",\n",
    "    \"VIB_Hydrop_1\": \"Hydrop ATAC\",\n",
    "    \"VIB_Hydrop_2\": \"Hydrop ATAC\",\n",
    "    \"s3atac\": \"s3 ATAC\",\n",
    "})"
   ]
  },
  {
   "cell_type": "markdown",
   "id": "72349f94",
   "metadata": {
    "papermill": {
     "duration": 0.020275,
     "end_time": "2022-01-17T10:28:47.870799",
     "exception": false,
     "start_time": "2022-01-17T10:28:47.850524",
     "status": "completed"
    },
    "tags": []
   },
   "source": [
    "## Load the cisTopic objects"
   ]
  },
  {
   "cell_type": "code",
   "execution_count": 8,
   "id": "e6ea50e6",
   "metadata": {
    "execution": {
     "iopub.execute_input": "2022-01-17T10:28:47.918274Z",
     "iopub.status.busy": "2022-01-17T10:28:47.917879Z",
     "iopub.status.idle": "2022-01-17T10:28:47.926792Z",
     "shell.execute_reply": "2022-01-17T10:28:47.926481Z"
    },
    "papermill": {
     "duration": 0.035407,
     "end_time": "2022-01-17T10:28:47.926878",
     "exception": false,
     "start_time": "2022-01-17T10:28:47.891471",
     "status": "completed"
    },
    "tags": []
   },
   "outputs": [
    {
     "data": {
      "text/plain": [
       "['pycistopic_consensus_peaks/cistopic_objs__consensus/s3atac__cistopic_obj_metadata_annotated_dimreduc_df.pkl',\n",
       " 'pycistopic_consensus_peaks/cistopic_objs__consensus/CNAG_2__cistopic_obj_metadata_annotated_dimreduc_df.pkl',\n",
       " 'pycistopic_consensus_peaks/cistopic_objs__consensus/VIB_2__cistopic_obj_metadata_annotated_dimreduc_df.pkl',\n",
       " 'pycistopic_consensus_peaks/cistopic_objs__consensus/VIB_1__cistopic_obj_metadata_annotated_dimreduc_df.pkl',\n",
       " 'pycistopic_consensus_peaks/cistopic_objs__consensus/Sanger_2__cistopic_obj_metadata_annotated_dimreduc_df.pkl',\n",
       " 'pycistopic_consensus_peaks/cistopic_objs__consensus/Broad_2__cistopic_obj_metadata_annotated_dimreduc_df.pkl',\n",
       " 'pycistopic_consensus_peaks/cistopic_objs__consensus/VIB_Hydrop_1__cistopic_obj_metadata_annotated_dimreduc_df.pkl',\n",
       " 'pycistopic_consensus_peaks/cistopic_objs__consensus/Broad_mito_2__cistopic_obj_metadata_annotated_dimreduc_df.pkl',\n",
       " 'pycistopic_consensus_peaks/cistopic_objs__consensus/Broad_mito_1__cistopic_obj_metadata_annotated_dimreduc_df.pkl',\n",
       " 'pycistopic_consensus_peaks/cistopic_objs__consensus/Sanger_1__cistopic_obj_metadata_annotated_dimreduc_df.pkl',\n",
       " 'pycistopic_consensus_peaks/cistopic_objs__consensus/CNAG_1__cistopic_obj_metadata_annotated_dimreduc_df.pkl',\n",
       " 'pycistopic_consensus_peaks/cistopic_objs__consensus/Stanford_2__cistopic_obj_metadata_annotated_dimreduc_df.pkl',\n",
       " 'pycistopic_consensus_peaks/cistopic_objs__consensus/Broad_1__cistopic_obj_metadata_annotated_dimreduc_df.pkl',\n",
       " 'pycistopic_consensus_peaks/cistopic_objs__consensus/VIB_Hydrop_2__cistopic_obj_metadata_annotated_dimreduc_df.pkl',\n",
       " 'pycistopic_consensus_peaks/cistopic_objs__consensus/Stanford_1__cistopic_obj_metadata_annotated_dimreduc_df.pkl']"
      ]
     },
     "execution_count": 8,
     "metadata": {},
     "output_type": "execute_result"
    }
   ],
   "source": [
    "import glob\n",
    "f_cto_dir = 'pycistopic_consensus_peaks/cistopic_objs__consensus'\n",
    "\n",
    "glob.glob(f_cto_dir + '/*__cistopic_obj_metadata_annotated_dimreduc_df.pkl')"
   ]
  },
  {
   "cell_type": "code",
   "execution_count": 9,
   "id": "8478b93b",
   "metadata": {
    "execution": {
     "iopub.execute_input": "2022-01-17T10:28:47.975360Z",
     "iopub.status.busy": "2022-01-17T10:28:47.974950Z",
     "iopub.status.idle": "2022-01-17T10:28:55.782845Z",
     "shell.execute_reply": "2022-01-17T10:28:55.783793Z"
    },
    "papermill": {
     "duration": 7.836117,
     "end_time": "2022-01-17T10:28:55.784110",
     "exception": false,
     "start_time": "2022-01-17T10:28:47.947993",
     "status": "completed"
    },
    "tags": []
   },
   "outputs": [
    {
     "name": "stdout",
     "output_type": "stream",
     "text": [
      "Loaded filtered cistopic object Broad_1\n",
      "Loaded filtered cistopic object Broad_2\n",
      "Loaded filtered cistopic object Stanford_1\n",
      "Loaded filtered cistopic object Stanford_2\n",
      "Loaded filtered cistopic object VIB_1\n",
      "Loaded filtered cistopic object VIB_2\n",
      "Loaded filtered cistopic object CNAG_1\n",
      "Loaded filtered cistopic object CNAG_2\n",
      "Loaded filtered cistopic object Broad_mito_1\n",
      "Loaded filtered cistopic object Broad_mito_2\n",
      "Loaded filtered cistopic object Sanger_1\n",
      "Loaded filtered cistopic object Sanger_2\n",
      "Loaded filtered cistopic object VIB_Hydrop_1\n",
      "Loaded filtered cistopic object VIB_Hydrop_2\n",
      "Loaded filtered cistopic object s3atac\n"
     ]
    }
   ],
   "source": [
    "cistopic_obj_dict = {}\n",
    "for key in alias_dict.keys():\n",
    "    f_cto = os.path.join(wdir, f_cto_dir, key + '__cistopic_obj_metadata_annotated_dimreduc_df.pkl')\n",
    "    if(os.path.isfile(f_cto)):\n",
    "        with open(f_cto, 'rb') as f:\n",
    "            cistopic_obj_dict[key] = pickle.load(f)\n",
    "        print(f\"Loaded filtered cistopic object {key}\")\n",
    "    else:\n",
    "        print(f\"file {f_cto} doesn't exist\")"
   ]
  },
  {
   "cell_type": "markdown",
   "id": "f0449bde",
   "metadata": {
    "papermill": {
     "duration": 0.022753,
     "end_time": "2022-01-17T10:28:55.831209",
     "exception": false,
     "start_time": "2022-01-17T10:28:55.808456",
     "status": "completed"
    },
    "tags": []
   },
   "source": [
    "#### Save/load\n",
    "Only necessary if you have not calculated accessibility yet."
   ]
  },
  {
   "cell_type": "code",
   "execution_count": 10,
   "id": "04ee36d0",
   "metadata": {
    "execution": {
     "iopub.execute_input": "2022-01-17T10:28:55.883344Z",
     "iopub.status.busy": "2022-01-17T10:28:55.882961Z",
     "iopub.status.idle": "2022-01-17T10:28:56.989406Z",
     "shell.execute_reply": "2022-01-17T10:28:56.990445Z"
    },
    "papermill": {
     "duration": 1.13704,
     "end_time": "2022-01-17T10:28:56.990804",
     "exception": false,
     "start_time": "2022-01-17T10:28:55.853764",
     "status": "completed"
    },
    "tags": []
   },
   "outputs": [
    {
     "name": "stdout",
     "output_type": "stream",
     "text": [
      "Loaded /lustre1/project/stg_00002/lcb/fderop/data/20211215_hca_benchmark_github/4_downsampled_data_individual_samples/downstream_analysis/region_bin_topics.pkl\n"
     ]
    }
   ],
   "source": [
    "f_out = os.path.join(f_final_dir, 'region_bin_topics.pkl')\n",
    "if os.path.isfile(f_out):\n",
    "    with open(f_out, 'rb') as f:\n",
    "        region_bin_topics_dict = pickle.load(f)\n",
    "    print(f\"Loaded {f_out}\")"
   ]
  },
  {
   "cell_type": "code",
   "execution_count": 11,
   "id": "44c675c9",
   "metadata": {
    "execution": {
     "iopub.execute_input": "2022-01-17T10:28:57.047214Z",
     "iopub.status.busy": "2022-01-17T10:28:57.046831Z",
     "iopub.status.idle": "2022-01-17T10:28:57.050218Z",
     "shell.execute_reply": "2022-01-17T10:28:57.049897Z"
    },
    "papermill": {
     "duration": 0.031534,
     "end_time": "2022-01-17T10:28:57.050301",
     "exception": false,
     "start_time": "2022-01-17T10:28:57.018767",
     "status": "completed"
    },
    "tags": []
   },
   "outputs": [
    {
     "data": {
      "text/plain": [
       "dict_keys(['VIB_Hydrop_1', 'VIB_Hydrop_2', 'Broad_1', 'Broad_2', 'Broad_mito_1', 'Broad_mito_2', 'CNAG_1', 'CNAG_2', 's3atac', 'Sanger_1', 'Sanger_2', 'Stanford_1', 'Stanford_2', 'VIB_1', 'VIB_2'])"
      ]
     },
     "execution_count": 11,
     "metadata": {},
     "output_type": "execute_result"
    }
   ],
   "source": [
    "region_bin_topics_dict.keys()"
   ]
  },
  {
   "cell_type": "code",
   "execution_count": 12,
   "id": "a719f67b",
   "metadata": {
    "execution": {
     "iopub.execute_input": "2022-01-17T10:28:57.104398Z",
     "iopub.status.busy": "2022-01-17T10:28:57.104011Z",
     "iopub.status.idle": "2022-01-17T10:28:57.195106Z",
     "shell.execute_reply": "2022-01-17T10:28:57.194662Z"
    },
    "papermill": {
     "duration": 0.121777,
     "end_time": "2022-01-17T10:28:57.195231",
     "exception": false,
     "start_time": "2022-01-17T10:28:57.073454",
     "status": "completed"
    },
    "tags": []
   },
   "outputs": [
    {
     "name": "stdout",
     "output_type": "stream",
     "text": [
      "Loaded /lustre1/project/stg_00002/lcb/fderop/data/20211215_hca_benchmark_github/4_downsampled_data_individual_samples/downstream_analysis/binarized_cell_topic.pkl\n"
     ]
    }
   ],
   "source": [
    "f_out = os.path.join(f_final_dir, 'binarized_cell_topic.pkl')\n",
    "if os.path.isfile(f_out):\n",
    "    with open(f_out, 'rb') as f:\n",
    "        binarized_cell_topic_dict = pickle.load(f)\n",
    "    print(f\"Loaded {f_out}\")"
   ]
  },
  {
   "cell_type": "code",
   "execution_count": 13,
   "id": "23fb9641",
   "metadata": {
    "execution": {
     "iopub.execute_input": "2022-01-17T10:28:57.248950Z",
     "iopub.status.busy": "2022-01-17T10:28:57.248557Z",
     "iopub.status.idle": "2022-01-17T10:28:57.252988Z",
     "shell.execute_reply": "2022-01-17T10:28:57.252591Z"
    },
    "papermill": {
     "duration": 0.032578,
     "end_time": "2022-01-17T10:28:57.253075",
     "exception": false,
     "start_time": "2022-01-17T10:28:57.220497",
     "status": "completed"
    },
    "tags": []
   },
   "outputs": [
    {
     "data": {
      "text/plain": [
       "dict_keys(['VIB_Hydrop_1', 'VIB_Hydrop_2', 'Broad_1', 'Broad_2', 'Broad_mito_1', 'Broad_mito_2', 'CNAG_1', 'CNAG_2', 's3atac', 'Sanger_1', 'Sanger_2', 'Stanford_1', 'Stanford_2', 'VIB_1', 'VIB_2'])"
      ]
     },
     "execution_count": 13,
     "metadata": {},
     "output_type": "execute_result"
    }
   ],
   "source": [
    "binarized_cell_topic_dict.keys()"
   ]
  },
  {
   "cell_type": "code",
   "execution_count": 14,
   "id": "8ee76525",
   "metadata": {
    "execution": {
     "iopub.execute_input": "2022-01-17T10:28:57.305932Z",
     "iopub.status.busy": "2022-01-17T10:28:57.305531Z",
     "iopub.status.idle": "2022-01-17T10:29:28.162868Z",
     "shell.execute_reply": "2022-01-17T10:29:28.163198Z"
    },
    "papermill": {
     "duration": 30.886559,
     "end_time": "2022-01-17T10:29:28.163333",
     "exception": false,
     "start_time": "2022-01-17T10:28:57.276774",
     "status": "completed"
    },
    "tags": []
   },
   "outputs": [
    {
     "name": "stdout",
     "output_type": "stream",
     "text": [
      "Loaded /lustre1/project/stg_00002/lcb/fderop/data/20211215_hca_benchmark_github/4_downsampled_data_individual_samples/downstream_analysis/imputed_acc_obj.pkl\n"
     ]
    }
   ],
   "source": [
    "f_out = os.path.join(f_final_dir, 'imputed_acc_obj.pkl')\n",
    "if os.path.isfile(f_out):\n",
    "    with open(f_out, 'rb') as f:\n",
    "        imputed_acc_obj_dict = pickle.load(f)\n",
    "    print(f\"Loaded {f_out}\")"
   ]
  },
  {
   "cell_type": "code",
   "execution_count": 15,
   "id": "d737f98c",
   "metadata": {
    "execution": {
     "iopub.execute_input": "2022-01-17T10:29:28.217438Z",
     "iopub.status.busy": "2022-01-17T10:29:28.217058Z",
     "iopub.status.idle": "2022-01-17T10:29:28.221033Z",
     "shell.execute_reply": "2022-01-17T10:29:28.220634Z"
    },
    "papermill": {
     "duration": 0.033941,
     "end_time": "2022-01-17T10:29:28.221114",
     "exception": false,
     "start_time": "2022-01-17T10:29:28.187173",
     "status": "completed"
    },
    "tags": []
   },
   "outputs": [
    {
     "data": {
      "text/plain": [
       "dict_keys(['VIB_Hydrop_1', 'VIB_Hydrop_2', 'Broad_1', 'Broad_2', 'Broad_mito_1', 'Broad_mito_2', 'CNAG_1', 'CNAG_2', 's3atac', 'Sanger_1', 'Sanger_2', 'Stanford_1', 'Stanford_2', 'VIB_1', 'VIB_2'])"
      ]
     },
     "execution_count": 15,
     "metadata": {},
     "output_type": "execute_result"
    }
   ],
   "source": [
    "imputed_acc_obj_dict.keys()"
   ]
  },
  {
   "cell_type": "code",
   "execution_count": 16,
   "id": "beba332b",
   "metadata": {
    "execution": {
     "iopub.execute_input": "2022-01-17T10:29:28.276895Z",
     "iopub.status.busy": "2022-01-17T10:29:28.276498Z",
     "iopub.status.idle": "2022-01-17T10:29:29.465919Z",
     "shell.execute_reply": "2022-01-17T10:29:29.466969Z"
    },
    "papermill": {
     "duration": 1.2219,
     "end_time": "2022-01-17T10:29:29.467314",
     "exception": false,
     "start_time": "2022-01-17T10:29:28.245414",
     "status": "completed"
    },
    "tags": []
   },
   "outputs": [
    {
     "name": "stdout",
     "output_type": "stream",
     "text": [
      "Loaded /lustre1/project/stg_00002/lcb/fderop/data/20211215_hca_benchmark_github/4_downsampled_data_individual_samples/downstream_analysis/markers_dict.pkl\n"
     ]
    }
   ],
   "source": [
    "f_out = os.path.join(f_final_dir, 'markers_dict.pkl')\n",
    "if os.path.isfile(f_out):\n",
    "    with open(f_out, 'rb') as f:\n",
    "        markers_dict_dict = pickle.load(f)\n",
    "    print(f\"Loaded {f_out}\")"
   ]
  },
  {
   "cell_type": "code",
   "execution_count": 17,
   "id": "dabca9a3",
   "metadata": {
    "execution": {
     "iopub.execute_input": "2022-01-17T10:29:29.522597Z",
     "iopub.status.busy": "2022-01-17T10:29:29.522235Z",
     "iopub.status.idle": "2022-01-17T10:29:29.525221Z",
     "shell.execute_reply": "2022-01-17T10:29:29.524848Z"
    },
    "papermill": {
     "duration": 0.032049,
     "end_time": "2022-01-17T10:29:29.525301",
     "exception": false,
     "start_time": "2022-01-17T10:29:29.493252",
     "status": "completed"
    },
    "tags": []
   },
   "outputs": [
    {
     "data": {
      "text/plain": [
       "dict_keys(['VIB_Hydrop_1', 'VIB_Hydrop_2', 'Broad_1', 'Broad_2', 'Broad_mito_1', 'Broad_mito_2', 'CNAG_1', 'CNAG_2', 's3atac', 'Sanger_1', 'Sanger_2', 'Stanford_1', 'Stanford_2', 'VIB_1', 'VIB_2'])"
      ]
     },
     "execution_count": 17,
     "metadata": {},
     "output_type": "execute_result"
    }
   ],
   "source": [
    "markers_dict_dict.keys()"
   ]
  },
  {
   "cell_type": "markdown",
   "id": "748ae0ba",
   "metadata": {
    "papermill": {
     "duration": 0.025235,
     "end_time": "2022-01-17T10:29:29.575422",
     "exception": false,
     "start_time": "2022-01-17T10:29:29.550187",
     "status": "completed"
    },
    "tags": []
   },
   "source": [
    "## Infer or load gene activity"
   ]
  },
  {
   "cell_type": "code",
   "execution_count": 18,
   "id": "4c3a8445",
   "metadata": {
    "execution": {
     "iopub.execute_input": "2022-01-17T10:29:29.631328Z",
     "iopub.status.busy": "2022-01-17T10:29:29.630935Z",
     "iopub.status.idle": "2022-01-17T10:29:29.673939Z",
     "shell.execute_reply": "2022-01-17T10:29:29.674305Z"
    },
    "papermill": {
     "duration": 0.074359,
     "end_time": "2022-01-17T10:29:29.674430",
     "exception": false,
     "start_time": "2022-01-17T10:29:29.600071",
     "status": "completed"
    },
    "tags": []
   },
   "outputs": [],
   "source": [
    "import pyranges as pr\n",
    "import requests\n",
    "import pybiomart as pbm"
   ]
  },
  {
   "cell_type": "code",
   "execution_count": 19,
   "id": "c301edaa",
   "metadata": {
    "execution": {
     "iopub.execute_input": "2022-01-17T10:29:29.730129Z",
     "iopub.status.busy": "2022-01-17T10:29:29.729748Z",
     "iopub.status.idle": "2022-01-17T10:29:29.734804Z",
     "shell.execute_reply": "2022-01-17T10:29:29.734491Z"
    },
    "papermill": {
     "duration": 0.034055,
     "end_time": "2022-01-17T10:29:29.734883",
     "exception": false,
     "start_time": "2022-01-17T10:29:29.700828",
     "status": "completed"
    },
    "tags": []
   },
   "outputs": [],
   "source": [
    "from pycisTopic.gene_activity import get_gene_activity\n",
    "from pycisTopic.diff_features import find_diff_features"
   ]
  },
  {
   "cell_type": "code",
   "execution_count": 20,
   "id": "748bcbb4",
   "metadata": {
    "execution": {
     "iopub.execute_input": "2022-01-17T10:29:29.795330Z",
     "iopub.status.busy": "2022-01-17T10:29:29.794907Z",
     "iopub.status.idle": "2022-01-17T10:29:35.129015Z",
     "shell.execute_reply": "2022-01-17T10:29:35.127835Z"
    },
    "papermill": {
     "duration": 5.370302,
     "end_time": "2022-01-17T10:29:35.129311",
     "exception": false,
     "start_time": "2022-01-17T10:29:29.759009",
     "status": "completed"
    },
    "tags": []
   },
   "outputs": [
    {
     "name": "stdout",
     "output_type": "stream",
     "text": [
      "Loading /lustre1/project/stg_00002/lcb/fderop/data/20211215_hca_benchmark_github/4_downsampled_data_individual_samples/downstream_analysis/gene_act_dict.pkl\n"
     ]
    }
   ],
   "source": [
    "f_out = os.path.join(f_final_dir, 'gene_act_dict.pkl')\n",
    "if os.path.isfile(f_out):\n",
    "    print(f\"Loading {f_out}\")\n",
    "    with open(f_out, 'rb') as f:\n",
    "        gene_act_dict = pickle.load(f)\n",
    "else:\n",
    "    from pycisTopic.gene_activity import get_gene_activity\n",
    "    from pycisTopic.diff_features import find_diff_features\n",
    "    # For human\n",
    "    dataset = pbm.Dataset(name='hsapiens_gene_ensembl',  host='http://www.ensembl.org')\n",
    "    annot = dataset.query(attributes=['chromosome_name', 'start_position', 'end_position', 'strand', 'external_gene_name', 'transcription_start_site', 'transcript_biotype'])\n",
    "    annot['Chromosome/scaffold name'] = 'chr' + annot['Chromosome/scaffold name'].astype(str)\n",
    "    annot.columns=['Chromosome', 'Start', 'End', 'Strand', 'Gene','Transcription_Start_Site', 'Transcript_type']\n",
    "    annot = annot[annot.Transcript_type == 'protein_coding']\n",
    "    annot.Strand[annot.Strand == 1] = '+'\n",
    "    annot.Strand[annot.Strand == -1] = '-'\n",
    "    pr_annotation = pr.PyRanges(annot.dropna(axis = 0))\n",
    "    pr_annotation\n",
    "\n",
    "    # get chromosome sizes (hg38)\n",
    "    target_url = 'http://hgdownload.cse.ucsc.edu/goldenPath/hg38/bigZips/hg38.chrom.sizes'\n",
    "    chromsizes = pd.read_csv(target_url, sep='\\t', header=None)\n",
    "    chromsizes.columns = ['Chromosome', 'End']\n",
    "    chromsizes['Start'] = [0]*chromsizes.shape[0]\n",
    "    chromsizes = chromsizes.loc[:,['Chromosome', 'Start', 'End']]\n",
    "    chromsizes = pr.PyRanges(chromsizes)\n",
    "    chromsizes\n",
    "\n",
    "    gene_act_dict = {}\n",
    "    for key in cistopic_obj_dict.keys():\n",
    "        print(key)\n",
    "        gene_act, weights = get_gene_activity(\n",
    "            imputed_acc_obj_dict[key], # Region-cell probabilities\n",
    "            pr_annotation, # Gene annotation\n",
    "            chromsizes, # Chromosome size\n",
    "            use_gene_boundaries=True, # Whether to use the whole search space or stop when encountering another gene\n",
    "            upstream=[1000, 100000], # Search space upstream. The minimum means that even if there is a gene right next to it \n",
    "                                     #these bp will be taken (1kbp here)\n",
    "            downstream=[1000,100000], # Search space downstream\n",
    "            distance_weight=True, # Whether to add a distance weight (an exponential function, the weight will decrease with distance)\n",
    "            decay_rate=1, # Exponent for the distance exponential funciton (the higher the faster will be the decrease)\n",
    "            extend_gene_body_upstream=10000, # Number of bp upstream immune to the distance weight (their value will be maximum for \n",
    "                                             #this weight)\n",
    "            extend_gene_body_downstream=500, # Number of bp downstream immune to the distance weight\n",
    "            gene_size_weight=False, # Whether to add a weights based on the length of the gene\n",
    "            gene_size_scale_factor='median', # Dividend to calculate the gene size weigth. Default is the median value of all genes\n",
    "                                             #in the genome\n",
    "            remove_promoters=False, # Whether to remove promoters when computing gene activity scores\n",
    "            average_scores=True, # Whether to divide by the total number of region assigned to a gene when calculating the gene \n",
    "                                 # activity score\n",
    "            scale_factor=1, # Value to multiply for the final gene activity matrix\n",
    "            extend_tss=[10,10], # Space to consider a promoter\n",
    "            gini_weight = True, # Whether to add a gini index weigth. The more unique the region is, the higher this weight will be\n",
    "            return_weights= True, # Whether to return the final weights\n",
    "            project='Gene_activity') # Project name for the gene activity object\n",
    "        gene_act_dict[key] = copy.copy(gene_act)\n",
    "\n",
    "    with open(f_out, 'wb') as f:\n",
    "        pickle.dump(gene_act_dict, f)\n",
    "    print(f'saved {f_out}')"
   ]
  },
  {
   "cell_type": "code",
   "execution_count": 21,
   "id": "fad6d561",
   "metadata": {
    "execution": {
     "iopub.execute_input": "2022-01-17T10:29:35.187158Z",
     "iopub.status.busy": "2022-01-17T10:29:35.186764Z",
     "iopub.status.idle": "2022-01-17T10:29:35.190235Z",
     "shell.execute_reply": "2022-01-17T10:29:35.189847Z"
    },
    "papermill": {
     "duration": 0.033789,
     "end_time": "2022-01-17T10:29:35.190319",
     "exception": false,
     "start_time": "2022-01-17T10:29:35.156530",
     "status": "completed"
    },
    "tags": []
   },
   "outputs": [
    {
     "data": {
      "text/plain": [
       "{'Broad_1': <pycisTopic.diff_features.CistopicImputedFeatures at 0x2b4b5fe50fa0>,\n",
       " 'Broad_2': <pycisTopic.diff_features.CistopicImputedFeatures at 0x2b4b61740cd0>,\n",
       " 'Stanford_1': <pycisTopic.diff_features.CistopicImputedFeatures at 0x2b4b65460dc0>,\n",
       " 'Stanford_2': <pycisTopic.diff_features.CistopicImputedFeatures at 0x2b4b5fb6a6a0>,\n",
       " 'VIB_1': <pycisTopic.diff_features.CistopicImputedFeatures at 0x2b4b5fb6a3d0>,\n",
       " 'VIB_2': <pycisTopic.diff_features.CistopicImputedFeatures at 0x2b4b5fb6a370>,\n",
       " 'CNAG_1': <pycisTopic.diff_features.CistopicImputedFeatures at 0x2b4b607c1a00>,\n",
       " 'CNAG_2': <pycisTopic.diff_features.CistopicImputedFeatures at 0x2b4b607c11c0>,\n",
       " 'Broad_mito_1': <pycisTopic.diff_features.CistopicImputedFeatures at 0x2b4b607c1a30>,\n",
       " 'Broad_mito_2': <pycisTopic.diff_features.CistopicImputedFeatures at 0x2b4b607c1220>,\n",
       " 'Sanger_1': <pycisTopic.diff_features.CistopicImputedFeatures at 0x2b4b616b9b20>,\n",
       " 'Sanger_2': <pycisTopic.diff_features.CistopicImputedFeatures at 0x2b4b616b9df0>,\n",
       " 'VIB_Hydrop_1': <pycisTopic.diff_features.CistopicImputedFeatures at 0x2b4b616de190>,\n",
       " 'VIB_Hydrop_2': <pycisTopic.diff_features.CistopicImputedFeatures at 0x2b4b616de730>,\n",
       " 's3atac': <pycisTopic.diff_features.CistopicImputedFeatures at 0x2b4b616defa0>}"
      ]
     },
     "execution_count": 21,
     "metadata": {},
     "output_type": "execute_result"
    }
   ],
   "source": [
    "gene_act_dict"
   ]
  },
  {
   "cell_type": "code",
   "execution_count": 22,
   "id": "33859b15",
   "metadata": {
    "execution": {
     "iopub.execute_input": "2022-01-17T10:29:35.247240Z",
     "iopub.status.busy": "2022-01-17T10:29:35.246840Z",
     "iopub.status.idle": "2022-01-17T10:29:35.253956Z",
     "shell.execute_reply": "2022-01-17T10:29:35.253625Z"
    },
    "papermill": {
     "duration": 0.038324,
     "end_time": "2022-01-17T10:29:35.254043",
     "exception": false,
     "start_time": "2022-01-17T10:29:35.215719",
     "status": "completed"
    },
    "tags": []
   },
   "outputs": [
    {
     "name": "stdout",
     "output_type": "stream",
     "text": [
      "printing sample Broad_1 at /lustre1/project/stg_00002/lcb/fderop/data/20211215_hca_benchmark_github/4_downsampled_data_individual_samples/downstream_analysis/Broad_1__libds__gene_act.pkl\n",
      "\talready existed!\n",
      "printing sample Broad_2 at /lustre1/project/stg_00002/lcb/fderop/data/20211215_hca_benchmark_github/4_downsampled_data_individual_samples/downstream_analysis/Broad_2__libds__gene_act.pkl\n",
      "\talready existed!\n",
      "printing sample Stanford_1 at /lustre1/project/stg_00002/lcb/fderop/data/20211215_hca_benchmark_github/4_downsampled_data_individual_samples/downstream_analysis/Stanford_1__libds__gene_act.pkl\n",
      "\talready existed!\n",
      "printing sample Stanford_2 at /lustre1/project/stg_00002/lcb/fderop/data/20211215_hca_benchmark_github/4_downsampled_data_individual_samples/downstream_analysis/Stanford_2__libds__gene_act.pkl\n",
      "\talready existed!\n",
      "printing sample VIB_1 at /lustre1/project/stg_00002/lcb/fderop/data/20211215_hca_benchmark_github/4_downsampled_data_individual_samples/downstream_analysis/VIB_1__libds__gene_act.pkl\n",
      "\talready existed!\n",
      "printing sample VIB_2 at /lustre1/project/stg_00002/lcb/fderop/data/20211215_hca_benchmark_github/4_downsampled_data_individual_samples/downstream_analysis/VIB_2__libds__gene_act.pkl\n",
      "\talready existed!\n",
      "printing sample CNAG_1 at /lustre1/project/stg_00002/lcb/fderop/data/20211215_hca_benchmark_github/4_downsampled_data_individual_samples/downstream_analysis/CNAG_1__libds__gene_act.pkl\n",
      "\talready existed!\n",
      "printing sample CNAG_2 at /lustre1/project/stg_00002/lcb/fderop/data/20211215_hca_benchmark_github/4_downsampled_data_individual_samples/downstream_analysis/CNAG_2__libds__gene_act.pkl\n",
      "\talready existed!\n",
      "printing sample Broad_mito_1 at /lustre1/project/stg_00002/lcb/fderop/data/20211215_hca_benchmark_github/4_downsampled_data_individual_samples/downstream_analysis/Broad_mito_1__libds__gene_act.pkl\n",
      "\talready existed!\n",
      "printing sample Broad_mito_2 at /lustre1/project/stg_00002/lcb/fderop/data/20211215_hca_benchmark_github/4_downsampled_data_individual_samples/downstream_analysis/Broad_mito_2__libds__gene_act.pkl\n",
      "\talready existed!\n",
      "printing sample Sanger_1 at /lustre1/project/stg_00002/lcb/fderop/data/20211215_hca_benchmark_github/4_downsampled_data_individual_samples/downstream_analysis/Sanger_1__libds__gene_act.pkl\n",
      "\talready existed!\n",
      "printing sample Sanger_2 at /lustre1/project/stg_00002/lcb/fderop/data/20211215_hca_benchmark_github/4_downsampled_data_individual_samples/downstream_analysis/Sanger_2__libds__gene_act.pkl\n",
      "\talready existed!\n",
      "printing sample VIB_Hydrop_1 at /lustre1/project/stg_00002/lcb/fderop/data/20211215_hca_benchmark_github/4_downsampled_data_individual_samples/downstream_analysis/VIB_Hydrop_1__libds__gene_act.pkl\n",
      "\talready existed!\n",
      "printing sample VIB_Hydrop_2 at /lustre1/project/stg_00002/lcb/fderop/data/20211215_hca_benchmark_github/4_downsampled_data_individual_samples/downstream_analysis/VIB_Hydrop_2__libds__gene_act.pkl\n",
      "\talready existed!\n",
      "printing sample s3atac at /lustre1/project/stg_00002/lcb/fderop/data/20211215_hca_benchmark_github/4_downsampled_data_individual_samples/downstream_analysis/s3atac__libds__gene_act.pkl\n",
      "\talready existed!\n"
     ]
    }
   ],
   "source": [
    "for key in gene_act_dict.keys():\n",
    "    f_out = os.path.join(f_final_dir, key + '__libds__gene_act.pkl')\n",
    "    print(f'printing sample {key} at {f_out}')\n",
    "    if os.path.isfile(f_out):\n",
    "        print(f\"\\talready existed!\")\n",
    "    else:\n",
    "        with open(f_out, 'wb') as f:\n",
    "            pickle.dump(gene_act_dict[key], f)\n",
    "        print(\"\\tdone\")"
   ]
  },
  {
   "cell_type": "markdown",
   "id": "d2f2085d",
   "metadata": {
    "papermill": {
     "duration": 0.025214,
     "end_time": "2022-01-17T10:29:35.305488",
     "exception": false,
     "start_time": "2022-01-17T10:29:35.280274",
     "status": "completed"
    },
    "tags": []
   },
   "source": [
    "## Export to loom"
   ]
  },
  {
   "cell_type": "code",
   "execution_count": 23,
   "id": "021444a6",
   "metadata": {
    "execution": {
     "iopub.execute_input": "2022-01-17T10:29:35.363087Z",
     "iopub.status.busy": "2022-01-17T10:29:35.362694Z",
     "iopub.status.idle": "2022-01-17T10:29:37.898499Z",
     "shell.execute_reply": "2022-01-17T10:29:37.898896Z"
    },
    "papermill": {
     "duration": 2.568515,
     "end_time": "2022-01-17T10:29:37.899057",
     "exception": false,
     "start_time": "2022-01-17T10:29:35.330542",
     "status": "completed"
    },
    "tags": []
   },
   "outputs": [
    {
     "name": "stdout",
     "output_type": "stream",
     "text": [
      "Loaded /lustre1/project/stg_00002/lcb/fderop/data/20211215_hca_benchmark_github/4_downsampled_data_individual_samples/downstream_analysis/gene_act_dict.pkl\n"
     ]
    }
   ],
   "source": [
    "f_out = os.path.join(f_final_dir, 'gene_act_dict.pkl')\n",
    "if os.path.isfile(f_out):\n",
    "    with open(f_out, 'rb') as f:\n",
    "        gene_act_dict = pickle.load(f)\n",
    "    print(f\"Loaded {f_out}\")"
   ]
  },
  {
   "cell_type": "code",
   "execution_count": 24,
   "id": "24d5e058",
   "metadata": {
    "execution": {
     "iopub.execute_input": "2022-01-17T10:29:37.956646Z",
     "iopub.status.busy": "2022-01-17T10:29:37.956267Z",
     "iopub.status.idle": "2022-01-17T10:29:37.959618Z",
     "shell.execute_reply": "2022-01-17T10:29:37.959229Z"
    },
    "papermill": {
     "duration": 0.033146,
     "end_time": "2022-01-17T10:29:37.959714",
     "exception": false,
     "start_time": "2022-01-17T10:29:37.926568",
     "status": "completed"
    },
    "tags": []
   },
   "outputs": [
    {
     "data": {
      "text/plain": [
       "dict_keys(['Broad_1', 'Broad_2', 'Stanford_1', 'Stanford_2', 'VIB_1', 'VIB_2', 'CNAG_1', 'CNAG_2', 'Broad_mito_1', 'Broad_mito_2', 'Sanger_1', 'Sanger_2', 'VIB_Hydrop_1', 'VIB_Hydrop_2', 's3atac'])"
      ]
     },
     "execution_count": 24,
     "metadata": {},
     "output_type": "execute_result"
    }
   ],
   "source": [
    "gene_act_dict.keys()"
   ]
  },
  {
   "cell_type": "code",
   "execution_count": 25,
   "id": "558169cd",
   "metadata": {
    "execution": {
     "iopub.execute_input": "2022-01-17T10:29:38.015736Z",
     "iopub.status.busy": "2022-01-17T10:29:38.015351Z",
     "iopub.status.idle": "2022-01-17T10:29:38.018366Z",
     "shell.execute_reply": "2022-01-17T10:29:38.018065Z"
    },
    "papermill": {
     "duration": 0.033013,
     "end_time": "2022-01-17T10:29:38.018443",
     "exception": false,
     "start_time": "2022-01-17T10:29:37.985430",
     "status": "completed"
    },
    "tags": []
   },
   "outputs": [],
   "source": [
    "f_gene_loom_dir = os.path.join(f_final_dir, 'gene_act_loom')\n",
    "if not os.path.exists(f_gene_loom_dir):\n",
    "    os.makedirs(f_gene_loom_dir)"
   ]
  },
  {
   "cell_type": "code",
   "execution_count": 26,
   "id": "323b7d45",
   "metadata": {
    "execution": {
     "iopub.execute_input": "2022-01-17T10:29:38.076075Z",
     "iopub.status.busy": "2022-01-17T10:29:38.075692Z",
     "iopub.status.idle": "2022-01-17T10:29:40.602151Z",
     "shell.execute_reply": "2022-01-17T10:29:40.600967Z"
    },
    "papermill": {
     "duration": 2.558387,
     "end_time": "2022-01-17T10:29:40.602449",
     "exception": false,
     "start_time": "2022-01-17T10:29:38.044062",
     "status": "completed"
    },
    "tags": []
   },
   "outputs": [],
   "source": [
    "from pycisTopic.loom import (\n",
    "    export_region_accessibility_to_loom,\n",
    "    export_gene_activity_to_loom\n",
    ")"
   ]
  },
  {
   "cell_type": "markdown",
   "id": "93359cf2",
   "metadata": {
    "papermill": {
     "duration": 0.027105,
     "end_time": "2022-01-17T10:29:40.657973",
     "exception": false,
     "start_time": "2022-01-17T10:29:40.630868",
     "status": "completed"
    },
    "tags": []
   },
   "source": [
    "### Gene activity"
   ]
  },
  {
   "cell_type": "code",
   "execution_count": 27,
   "id": "a6f7ecbf",
   "metadata": {
    "execution": {
     "iopub.execute_input": "2022-01-17T10:29:40.718341Z",
     "iopub.status.busy": "2022-01-17T10:29:40.717928Z",
     "iopub.status.idle": "2022-01-17T10:29:40.720848Z",
     "shell.execute_reply": "2022-01-17T10:29:40.720436Z"
    },
    "papermill": {
     "duration": 0.035912,
     "end_time": "2022-01-17T10:29:40.720938",
     "exception": false,
     "start_time": "2022-01-17T10:29:40.685026",
     "status": "completed"
    },
    "tags": []
   },
   "outputs": [],
   "source": [
    "from ctxcore.genesig import Regulon\n",
    "\n",
    "# generate a dummy regulon (required for export_gene_activity_to_loom):\n",
    "phreg = Regulon(\n",
    "        name='placeholder regulon',\n",
    "        gene2weight={'phreg': 1.0},\n",
    "        transcription_factor=\"phreg\",\n",
    "        gene2occurrence={\"phreg\": 1},\n",
    "    )"
   ]
  },
  {
   "cell_type": "code",
   "execution_count": 28,
   "id": "a7c7d45c",
   "metadata": {
    "execution": {
     "iopub.execute_input": "2022-01-17T10:29:40.782203Z",
     "iopub.status.busy": "2022-01-17T10:29:40.781820Z",
     "iopub.status.idle": "2022-01-17T10:29:40.785071Z",
     "shell.execute_reply": "2022-01-17T10:29:40.785393Z"
    },
    "papermill": {
     "duration": 0.037583,
     "end_time": "2022-01-17T10:29:40.785490",
     "exception": false,
     "start_time": "2022-01-17T10:29:40.747907",
     "status": "completed"
    },
    "tags": []
   },
   "outputs": [],
   "source": [
    "alias_dict_nospace = {}\n",
    "for key in alias_dict.keys():\n",
    "    alias_dict_nospace[key] = alias_dict[key].replace(' ','_')"
   ]
  },
  {
   "cell_type": "code",
   "execution_count": 29,
   "id": "68d2f246",
   "metadata": {
    "execution": {
     "iopub.execute_input": "2022-01-17T10:29:40.847113Z",
     "iopub.status.busy": "2022-01-17T10:29:40.846708Z",
     "iopub.status.idle": "2022-01-17T10:29:40.857289Z",
     "shell.execute_reply": "2022-01-17T10:29:40.856966Z"
    },
    "papermill": {
     "duration": 0.045518,
     "end_time": "2022-01-17T10:29:40.857372",
     "exception": false,
     "start_time": "2022-01-17T10:29:40.811854",
     "status": "completed"
    },
    "tags": []
   },
   "outputs": [
    {
     "name": "stdout",
     "output_type": "stream",
     "text": [
      "Broad_1\n",
      "Skipping /lustre1/project/stg_00002/lcb/fderop/data/20211215_hca_benchmark_github/4_downsampled_data_individual_samples/downstream_analysis/gene_act_loom/BioRad_ATAC_1__libds_gene_activity.loom: already exists.\n",
      "Broad_2\n",
      "Skipping /lustre1/project/stg_00002/lcb/fderop/data/20211215_hca_benchmark_github/4_downsampled_data_individual_samples/downstream_analysis/gene_act_loom/BioRad_ATAC_2__libds_gene_activity.loom: already exists.\n",
      "Stanford_1\n",
      "Skipping /lustre1/project/stg_00002/lcb/fderop/data/20211215_hca_benchmark_github/4_downsampled_data_individual_samples/downstream_analysis/gene_act_loom/10x_ATAC_A1__libds_gene_activity.loom: already exists.\n",
      "Stanford_2\n",
      "Skipping /lustre1/project/stg_00002/lcb/fderop/data/20211215_hca_benchmark_github/4_downsampled_data_individual_samples/downstream_analysis/gene_act_loom/10x_ATAC_A2__libds_gene_activity.loom: already exists.\n",
      "VIB_1\n",
      "Skipping /lustre1/project/stg_00002/lcb/fderop/data/20211215_hca_benchmark_github/4_downsampled_data_individual_samples/downstream_analysis/gene_act_loom/10x_ATAC_B1__libds_gene_activity.loom: already exists.\n",
      "VIB_2\n",
      "Skipping /lustre1/project/stg_00002/lcb/fderop/data/20211215_hca_benchmark_github/4_downsampled_data_individual_samples/downstream_analysis/gene_act_loom/10x_ATAC_B2__libds_gene_activity.loom: already exists.\n",
      "CNAG_1\n",
      "Skipping /lustre1/project/stg_00002/lcb/fderop/data/20211215_hca_benchmark_github/4_downsampled_data_individual_samples/downstream_analysis/gene_act_loom/10x_ATAC_C1__libds_gene_activity.loom: already exists.\n",
      "CNAG_2\n",
      "Skipping /lustre1/project/stg_00002/lcb/fderop/data/20211215_hca_benchmark_github/4_downsampled_data_individual_samples/downstream_analysis/gene_act_loom/10x_ATAC_C2__libds_gene_activity.loom: already exists.\n",
      "Broad_mito_1\n",
      "Skipping /lustre1/project/stg_00002/lcb/fderop/data/20211215_hca_benchmark_github/4_downsampled_data_individual_samples/downstream_analysis/gene_act_loom/10x_mtATAC_1__libds_gene_activity.loom: already exists.\n",
      "Broad_mito_2\n",
      "Skipping /lustre1/project/stg_00002/lcb/fderop/data/20211215_hca_benchmark_github/4_downsampled_data_individual_samples/downstream_analysis/gene_act_loom/10x_mtATAC_2__libds_gene_activity.loom: already exists.\n",
      "Sanger_1\n",
      "Skipping /lustre1/project/stg_00002/lcb/fderop/data/20211215_hca_benchmark_github/4_downsampled_data_individual_samples/downstream_analysis/gene_act_loom/10x_Multiome_1__libds_gene_activity.loom: already exists.\n",
      "Sanger_2\n",
      "Skipping /lustre1/project/stg_00002/lcb/fderop/data/20211215_hca_benchmark_github/4_downsampled_data_individual_samples/downstream_analysis/gene_act_loom/10x_Multiome_2__libds_gene_activity.loom: already exists.\n",
      "VIB_Hydrop_1\n",
      "Skipping /lustre1/project/stg_00002/lcb/fderop/data/20211215_hca_benchmark_github/4_downsampled_data_individual_samples/downstream_analysis/gene_act_loom/Hydrop_ATAC_1__libds_gene_activity.loom: already exists.\n",
      "VIB_Hydrop_2\n",
      "Skipping /lustre1/project/stg_00002/lcb/fderop/data/20211215_hca_benchmark_github/4_downsampled_data_individual_samples/downstream_analysis/gene_act_loom/Hydrop_ATAC_2__libds_gene_activity.loom: already exists.\n",
      "s3atac\n",
      "Skipping /lustre1/project/stg_00002/lcb/fderop/data/20211215_hca_benchmark_github/4_downsampled_data_individual_samples/downstream_analysis/gene_act_loom/s3_ATAC__libds_gene_activity.loom: already exists.\n"
     ]
    }
   ],
   "source": [
    "for key in cistopic_obj_dict.keys():\n",
    "    print(key)\n",
    "    f_out = os.path.join(f_gene_loom_dir, alias_dict_nospace[key] + '__libds_gene_activity.loom')\n",
    "    if os.path.exists(f_out):\n",
    "        print(f\"Skipping {f_out}: already exists.\")\n",
    "        continue\n",
    "        \n",
    "    export_gene_activity_to_loom(\n",
    "        gene_activity_matrix = gene_act_dict[key],\n",
    "        cistopic_obj = cistopic_obj_dict[key], \n",
    "        regulons = [phreg],\n",
    "        # selected_cells = [ x.split('-')[0] + '-' + x.split('-')[1]  for x in cistopic_obj_dict[key].cell_names ], # this leaves a cell barcode of the format type 'TGCATGTCGCCGTTCCAAGA-21'\n",
    "        # selected_cells = cistopic_obj_dict[key].projections['cell']['UMAP'].index.tolist(), # cflerin original \n",
    "        out_fname = f_out,\n",
    "        cluster_annotation = ['consensus_cell_type', 'fmx_sample'],\n",
    "        cluster_markers = {'consensus_cell_type': markers_dict_dict[key], 'fmx_sample':{}},\n",
    "        tree_structure = ('scATAC', 'Gene_activity'),\n",
    "        title = f'Gene activity from library-downsampled dataset {alias_dict[key]}',\n",
    "        nomenclature = \"hg38\"\n",
    "    )"
   ]
  },
  {
   "cell_type": "markdown",
   "id": "ab7dc3a5",
   "metadata": {
    "papermill": {
     "duration": 0.026626,
     "end_time": "2022-01-17T10:29:40.909627",
     "exception": false,
     "start_time": "2022-01-17T10:29:40.883001",
     "status": "completed"
    },
    "tags": []
   },
   "source": [
    "### Region accessibility"
   ]
  },
  {
   "cell_type": "code",
   "execution_count": 30,
   "id": "bb8e15da",
   "metadata": {
    "execution": {
     "iopub.execute_input": "2022-01-17T10:29:40.970307Z",
     "iopub.status.busy": "2022-01-17T10:29:40.969925Z",
     "iopub.status.idle": "2022-01-17T10:29:40.972973Z",
     "shell.execute_reply": "2022-01-17T10:29:40.973270Z"
    },
    "papermill": {
     "duration": 0.036481,
     "end_time": "2022-01-17T10:29:40.973366",
     "exception": false,
     "start_time": "2022-01-17T10:29:40.936885",
     "status": "completed"
    },
    "tags": []
   },
   "outputs": [],
   "source": [
    "f_region_loom_dir = os.path.join(f_final_dir, 'region_acc_loom')\n",
    "if not os.path.exists(f_region_loom_dir):\n",
    "    os.makedirs(f_region_loom_dir)"
   ]
  },
  {
   "cell_type": "code",
   "execution_count": 31,
   "id": "4c2d9a27",
   "metadata": {
    "execution": {
     "iopub.execute_input": "2022-01-17T10:29:41.041374Z",
     "iopub.status.busy": "2022-01-17T10:29:41.040964Z",
     "iopub.status.idle": "2022-01-17T10:29:41.050140Z",
     "shell.execute_reply": "2022-01-17T10:29:41.049811Z"
    },
    "papermill": {
     "duration": 0.049437,
     "end_time": "2022-01-17T10:29:41.050224",
     "exception": false,
     "start_time": "2022-01-17T10:29:41.000787",
     "status": "completed"
    },
    "tags": []
   },
   "outputs": [
    {
     "name": "stdout",
     "output_type": "stream",
     "text": [
      "Broad_1\n",
      "Skipping /lustre1/project/stg_00002/lcb/fderop/data/20211215_hca_benchmark_github/4_downsampled_data_individual_samples/downstream_analysis/region_acc_loom/BioRad_ATAC_1__libds_region_accessibility.loom: already exists.\n",
      "Broad_2\n",
      "Skipping /lustre1/project/stg_00002/lcb/fderop/data/20211215_hca_benchmark_github/4_downsampled_data_individual_samples/downstream_analysis/region_acc_loom/BioRad_ATAC_2__libds_region_accessibility.loom: already exists.\n",
      "Stanford_1\n",
      "Skipping /lustre1/project/stg_00002/lcb/fderop/data/20211215_hca_benchmark_github/4_downsampled_data_individual_samples/downstream_analysis/region_acc_loom/10x_ATAC_A1__libds_region_accessibility.loom: already exists.\n",
      "Stanford_2\n",
      "Skipping /lustre1/project/stg_00002/lcb/fderop/data/20211215_hca_benchmark_github/4_downsampled_data_individual_samples/downstream_analysis/region_acc_loom/10x_ATAC_A2__libds_region_accessibility.loom: already exists.\n",
      "VIB_1\n",
      "Skipping /lustre1/project/stg_00002/lcb/fderop/data/20211215_hca_benchmark_github/4_downsampled_data_individual_samples/downstream_analysis/region_acc_loom/10x_ATAC_B1__libds_region_accessibility.loom: already exists.\n",
      "VIB_2\n",
      "Skipping /lustre1/project/stg_00002/lcb/fderop/data/20211215_hca_benchmark_github/4_downsampled_data_individual_samples/downstream_analysis/region_acc_loom/10x_ATAC_B2__libds_region_accessibility.loom: already exists.\n",
      "CNAG_1\n",
      "Skipping /lustre1/project/stg_00002/lcb/fderop/data/20211215_hca_benchmark_github/4_downsampled_data_individual_samples/downstream_analysis/region_acc_loom/10x_ATAC_C1__libds_region_accessibility.loom: already exists.\n",
      "CNAG_2\n",
      "Skipping /lustre1/project/stg_00002/lcb/fderop/data/20211215_hca_benchmark_github/4_downsampled_data_individual_samples/downstream_analysis/region_acc_loom/10x_ATAC_C2__libds_region_accessibility.loom: already exists.\n",
      "Broad_mito_1\n",
      "Skipping /lustre1/project/stg_00002/lcb/fderop/data/20211215_hca_benchmark_github/4_downsampled_data_individual_samples/downstream_analysis/region_acc_loom/10x_mtATAC_1__libds_region_accessibility.loom: already exists.\n",
      "Broad_mito_2\n",
      "Skipping /lustre1/project/stg_00002/lcb/fderop/data/20211215_hca_benchmark_github/4_downsampled_data_individual_samples/downstream_analysis/region_acc_loom/10x_mtATAC_2__libds_region_accessibility.loom: already exists.\n",
      "Sanger_1\n",
      "Skipping /lustre1/project/stg_00002/lcb/fderop/data/20211215_hca_benchmark_github/4_downsampled_data_individual_samples/downstream_analysis/region_acc_loom/10x_Multiome_1__libds_region_accessibility.loom: already exists.\n",
      "Sanger_2\n",
      "Skipping /lustre1/project/stg_00002/lcb/fderop/data/20211215_hca_benchmark_github/4_downsampled_data_individual_samples/downstream_analysis/region_acc_loom/10x_Multiome_2__libds_region_accessibility.loom: already exists.\n",
      "VIB_Hydrop_1\n",
      "Skipping /lustre1/project/stg_00002/lcb/fderop/data/20211215_hca_benchmark_github/4_downsampled_data_individual_samples/downstream_analysis/region_acc_loom/Hydrop_ATAC_1__libds_region_accessibility.loom: already exists.\n",
      "VIB_Hydrop_2\n",
      "Skipping /lustre1/project/stg_00002/lcb/fderop/data/20211215_hca_benchmark_github/4_downsampled_data_individual_samples/downstream_analysis/region_acc_loom/Hydrop_ATAC_2__libds_region_accessibility.loom: already exists.\n",
      "s3atac\n",
      "Skipping /lustre1/project/stg_00002/lcb/fderop/data/20211215_hca_benchmark_github/4_downsampled_data_individual_samples/downstream_analysis/region_acc_loom/s3_ATAC__libds_region_accessibility.loom: already exists.\n"
     ]
    }
   ],
   "source": [
    "for key in cistopic_obj_dict.keys():\n",
    "    print(key)\n",
    "    s = 'merged' if key=='libds_merged' else key\n",
    "    f_out = os.path.join(f_region_loom_dir, alias_dict_nospace[key] + '__libds_region_accessibility.loom')\n",
    "\n",
    "    if os.path.exists(f_out):\n",
    "        print(f\"Skipping {f_out}: already exists.\")\n",
    "        continue\n",
    "    # Subset regions, we will use only regions in topics and DARs here to make it faster\n",
    "    regions_in_topics = list(set(sum([region_bin_topics_dict[key][i].index.tolist() for i in region_bin_topics_dict[key].keys()],[])))\n",
    "    regions_in_DARs = list(set(sum([markers_dict_dict[key][i].index.tolist() for i in markers_dict_dict[key].keys()],[])))\n",
    "    # make sure we only take regions that actually exist in the accessibility matrix:\n",
    "    selected_regions = list(set(regions_in_topics + regions_in_DARs).intersection(set(imputed_acc_obj_dict[key].feature_names)))\n",
    "\n",
    "    # Export to loom\n",
    "    export_region_accessibility_to_loom(\n",
    "        accessibility_matrix = imputed_acc_obj_dict[key],\n",
    "        cistopic_obj = cistopic_obj_dict[key], \n",
    "        binarized_topic_region = region_bin_topics_dict[key],\n",
    "        binarized_cell_topic = binarized_cell_topic_dict[key],\n",
    "        out_fname = f_out,\n",
    "        selected_regions = selected_regions ,\n",
    "        # selected_cells = [ x.split('-')[0] + '-' + x.split('-')[1]  for x in cistopic_obj_dict[key].cell_names ], # this leaves a cell barcode of the format type 'TGCATGTCGCCGTTCCAAGA-21'\n",
    "        # selected_cells = cistopic_obj_dict[key].projections['cell']['UMAP'].index.tolist(), # cflerin original\n",
    "        cluster_annotation = ['consensus_cell_type', 'fmx_sample'],\n",
    "        cluster_markers = {'consensus_cell_type': markers_dict_dict[key], 'fmx_sample':{}},\n",
    "        tree_structure = ('scATAC', 'Region_accessibility'),\n",
    "        title = f'Region accessibility from library-downsampled dataset {alias_dict[key]}',\n",
    "        nomenclature = \"hg38\"\n",
    "    )"
   ]
  },
  {
   "cell_type": "markdown",
   "id": "67289bc6",
   "metadata": {
    "papermill": {
     "duration": 0.027124,
     "end_time": "2022-01-17T10:29:41.104660",
     "exception": false,
     "start_time": "2022-01-17T10:29:41.077536",
     "status": "completed"
    },
    "tags": []
   },
   "source": [
    "# open gene activity loom and fix annotations"
   ]
  },
  {
   "cell_type": "code",
   "execution_count": 32,
   "id": "d9145a55",
   "metadata": {
    "execution": {
     "iopub.execute_input": "2022-01-17T10:29:41.165401Z",
     "iopub.status.busy": "2022-01-17T10:29:41.165023Z",
     "iopub.status.idle": "2022-01-17T10:29:41.168932Z",
     "shell.execute_reply": "2022-01-17T10:29:41.169232Z"
    },
    "papermill": {
     "duration": 0.037571,
     "end_time": "2022-01-17T10:29:41.169327",
     "exception": false,
     "start_time": "2022-01-17T10:29:41.131756",
     "status": "completed"
    },
    "tags": []
   },
   "outputs": [],
   "source": [
    "import loompy as lp\n",
    "import json\n",
    "import copy\n",
    "import glob\n",
    "from collections import OrderedDict"
   ]
  },
  {
   "cell_type": "markdown",
   "id": "ea4198c7",
   "metadata": {
    "papermill": {
     "duration": 0.029242,
     "end_time": "2022-01-17T10:29:41.225454",
     "exception": false,
     "start_time": "2022-01-17T10:29:41.196212",
     "status": "completed"
    },
    "tags": []
   },
   "source": [
    "exclude 'barcode' annotation"
   ]
  },
  {
   "cell_type": "code",
   "execution_count": 33,
   "id": "cd9afbe4",
   "metadata": {
    "execution": {
     "iopub.execute_input": "2022-01-17T10:29:41.286686Z",
     "iopub.status.busy": "2022-01-17T10:29:41.286253Z",
     "iopub.status.idle": "2022-01-17T10:29:41.291449Z",
     "shell.execute_reply": "2022-01-17T10:29:41.291064Z"
    },
    "papermill": {
     "duration": 0.039712,
     "end_time": "2022-01-17T10:29:41.291539",
     "exception": false,
     "start_time": "2022-01-17T10:29:41.251827",
     "status": "completed"
    },
    "tags": []
   },
   "outputs": [],
   "source": [
    "filenames = sorted(glob.glob(f_gene_loom_dir+'/*loom'))\n",
    "samples = [item.replace(\"__libds_gene_activity.loom\", \"\") for item in filenames]\n",
    "samples = [item.replace(\"/lustre1/project/stg_00002/lcb/fderop/data/20211215_hca_benchmark_github/4_downsampled_data_individual_samples/downstream_analysis/gene_act_loom/\", \"\") for item in samples]\n",
    "loom_dict = {samples[i]: filenames[i] for i in range(len(samples))}\n",
    "loom_dict = OrderedDict(loom_dict)"
   ]
  },
  {
   "cell_type": "code",
   "execution_count": 34,
   "id": "7641abea",
   "metadata": {
    "execution": {
     "iopub.execute_input": "2022-01-17T10:29:41.348775Z",
     "iopub.status.busy": "2022-01-17T10:29:41.348383Z",
     "iopub.status.idle": "2022-01-17T10:29:41.351462Z",
     "shell.execute_reply": "2022-01-17T10:29:41.351156Z"
    },
    "papermill": {
     "duration": 0.034502,
     "end_time": "2022-01-17T10:29:41.351540",
     "exception": false,
     "start_time": "2022-01-17T10:29:41.317038",
     "status": "completed"
    },
    "tags": []
   },
   "outputs": [
    {
     "data": {
      "text/plain": [
       "OrderedDict([('10x_ATAC_A1',\n",
       "              '/lustre1/project/stg_00002/lcb/fderop/data/20211215_hca_benchmark_github/4_downsampled_data_individual_samples/downstream_analysis/gene_act_loom/10x_ATAC_A1__libds_gene_activity.loom'),\n",
       "             ('10x_ATAC_A2',\n",
       "              '/lustre1/project/stg_00002/lcb/fderop/data/20211215_hca_benchmark_github/4_downsampled_data_individual_samples/downstream_analysis/gene_act_loom/10x_ATAC_A2__libds_gene_activity.loom'),\n",
       "             ('10x_ATAC_B1',\n",
       "              '/lustre1/project/stg_00002/lcb/fderop/data/20211215_hca_benchmark_github/4_downsampled_data_individual_samples/downstream_analysis/gene_act_loom/10x_ATAC_B1__libds_gene_activity.loom'),\n",
       "             ('10x_ATAC_B2',\n",
       "              '/lustre1/project/stg_00002/lcb/fderop/data/20211215_hca_benchmark_github/4_downsampled_data_individual_samples/downstream_analysis/gene_act_loom/10x_ATAC_B2__libds_gene_activity.loom'),\n",
       "             ('10x_ATAC_C1',\n",
       "              '/lustre1/project/stg_00002/lcb/fderop/data/20211215_hca_benchmark_github/4_downsampled_data_individual_samples/downstream_analysis/gene_act_loom/10x_ATAC_C1__libds_gene_activity.loom'),\n",
       "             ('10x_ATAC_C2',\n",
       "              '/lustre1/project/stg_00002/lcb/fderop/data/20211215_hca_benchmark_github/4_downsampled_data_individual_samples/downstream_analysis/gene_act_loom/10x_ATAC_C2__libds_gene_activity.loom'),\n",
       "             ('10x_Multiome_1',\n",
       "              '/lustre1/project/stg_00002/lcb/fderop/data/20211215_hca_benchmark_github/4_downsampled_data_individual_samples/downstream_analysis/gene_act_loom/10x_Multiome_1__libds_gene_activity.loom'),\n",
       "             ('10x_Multiome_2',\n",
       "              '/lustre1/project/stg_00002/lcb/fderop/data/20211215_hca_benchmark_github/4_downsampled_data_individual_samples/downstream_analysis/gene_act_loom/10x_Multiome_2__libds_gene_activity.loom'),\n",
       "             ('10x_mtATAC_1',\n",
       "              '/lustre1/project/stg_00002/lcb/fderop/data/20211215_hca_benchmark_github/4_downsampled_data_individual_samples/downstream_analysis/gene_act_loom/10x_mtATAC_1__libds_gene_activity.loom'),\n",
       "             ('10x_mtATAC_2',\n",
       "              '/lustre1/project/stg_00002/lcb/fderop/data/20211215_hca_benchmark_github/4_downsampled_data_individual_samples/downstream_analysis/gene_act_loom/10x_mtATAC_2__libds_gene_activity.loom'),\n",
       "             ('BioRad_ATAC_1',\n",
       "              '/lustre1/project/stg_00002/lcb/fderop/data/20211215_hca_benchmark_github/4_downsampled_data_individual_samples/downstream_analysis/gene_act_loom/BioRad_ATAC_1__libds_gene_activity.loom'),\n",
       "             ('BioRad_ATAC_2',\n",
       "              '/lustre1/project/stg_00002/lcb/fderop/data/20211215_hca_benchmark_github/4_downsampled_data_individual_samples/downstream_analysis/gene_act_loom/BioRad_ATAC_2__libds_gene_activity.loom'),\n",
       "             ('Hydrop_ATAC_1',\n",
       "              '/lustre1/project/stg_00002/lcb/fderop/data/20211215_hca_benchmark_github/4_downsampled_data_individual_samples/downstream_analysis/gene_act_loom/Hydrop_ATAC_1__libds_gene_activity.loom'),\n",
       "             ('Hydrop_ATAC_2',\n",
       "              '/lustre1/project/stg_00002/lcb/fderop/data/20211215_hca_benchmark_github/4_downsampled_data_individual_samples/downstream_analysis/gene_act_loom/Hydrop_ATAC_2__libds_gene_activity.loom'),\n",
       "             ('s3_ATAC',\n",
       "              '/lustre1/project/stg_00002/lcb/fderop/data/20211215_hca_benchmark_github/4_downsampled_data_individual_samples/downstream_analysis/gene_act_loom/s3_ATAC__libds_gene_activity.loom')])"
      ]
     },
     "execution_count": 34,
     "metadata": {},
     "output_type": "execute_result"
    }
   ],
   "source": [
    "loom_dict"
   ]
  },
  {
   "cell_type": "code",
   "execution_count": 35,
   "id": "635272c6",
   "metadata": {
    "execution": {
     "iopub.execute_input": "2022-01-17T10:29:41.478630Z",
     "iopub.status.busy": "2022-01-17T10:29:41.412939Z",
     "iopub.status.idle": "2022-01-17T10:29:43.000831Z",
     "shell.execute_reply": "2022-01-17T10:29:42.999713Z"
    },
    "papermill": {
     "duration": 1.623618,
     "end_time": "2022-01-17T10:29:43.001125",
     "exception": false,
     "start_time": "2022-01-17T10:29:41.377507",
     "status": "completed"
    },
    "tags": []
   },
   "outputs": [
    {
     "name": "stdout",
     "output_type": "stream",
     "text": [
      "opening /lustre1/project/stg_00002/lcb/fderop/data/20211215_hca_benchmark_github/4_downsampled_data_individual_samples/downstream_analysis/gene_act_loom/10x_ATAC_A1__libds_gene_activity.loom\n",
      "\tno barcode annotation detected\n",
      "opening /lustre1/project/stg_00002/lcb/fderop/data/20211215_hca_benchmark_github/4_downsampled_data_individual_samples/downstream_analysis/gene_act_loom/10x_ATAC_A2__libds_gene_activity.loom\n",
      "\tno barcode annotation detected\n",
      "opening /lustre1/project/stg_00002/lcb/fderop/data/20211215_hca_benchmark_github/4_downsampled_data_individual_samples/downstream_analysis/gene_act_loom/10x_ATAC_B1__libds_gene_activity.loom\n",
      "\tno barcode annotation detected\n",
      "opening /lustre1/project/stg_00002/lcb/fderop/data/20211215_hca_benchmark_github/4_downsampled_data_individual_samples/downstream_analysis/gene_act_loom/10x_ATAC_B2__libds_gene_activity.loom\n",
      "\tno barcode annotation detected\n",
      "opening /lustre1/project/stg_00002/lcb/fderop/data/20211215_hca_benchmark_github/4_downsampled_data_individual_samples/downstream_analysis/gene_act_loom/10x_ATAC_C1__libds_gene_activity.loom\n",
      "\tno barcode annotation detected\n",
      "opening /lustre1/project/stg_00002/lcb/fderop/data/20211215_hca_benchmark_github/4_downsampled_data_individual_samples/downstream_analysis/gene_act_loom/10x_ATAC_C2__libds_gene_activity.loom\n",
      "\tno barcode annotation detected\n",
      "opening /lustre1/project/stg_00002/lcb/fderop/data/20211215_hca_benchmark_github/4_downsampled_data_individual_samples/downstream_analysis/gene_act_loom/10x_Multiome_1__libds_gene_activity.loom\n",
      "\tno barcode annotation detected\n",
      "opening /lustre1/project/stg_00002/lcb/fderop/data/20211215_hca_benchmark_github/4_downsampled_data_individual_samples/downstream_analysis/gene_act_loom/10x_Multiome_2__libds_gene_activity.loom\n",
      "\tno barcode annotation detected\n",
      "opening /lustre1/project/stg_00002/lcb/fderop/data/20211215_hca_benchmark_github/4_downsampled_data_individual_samples/downstream_analysis/gene_act_loom/10x_mtATAC_1__libds_gene_activity.loom\n",
      "\tno barcode annotation detected\n",
      "opening /lustre1/project/stg_00002/lcb/fderop/data/20211215_hca_benchmark_github/4_downsampled_data_individual_samples/downstream_analysis/gene_act_loom/10x_mtATAC_2__libds_gene_activity.loom\n",
      "\tno barcode annotation detected\n",
      "opening /lustre1/project/stg_00002/lcb/fderop/data/20211215_hca_benchmark_github/4_downsampled_data_individual_samples/downstream_analysis/gene_act_loom/BioRad_ATAC_1__libds_gene_activity.loom\n",
      "\tno barcode annotation detected\n",
      "opening /lustre1/project/stg_00002/lcb/fderop/data/20211215_hca_benchmark_github/4_downsampled_data_individual_samples/downstream_analysis/gene_act_loom/BioRad_ATAC_2__libds_gene_activity.loom\n",
      "\tno barcode annotation detected\n",
      "opening /lustre1/project/stg_00002/lcb/fderop/data/20211215_hca_benchmark_github/4_downsampled_data_individual_samples/downstream_analysis/gene_act_loom/Hydrop_ATAC_1__libds_gene_activity.loom\n",
      "\tno barcode annotation detected\n",
      "opening /lustre1/project/stg_00002/lcb/fderop/data/20211215_hca_benchmark_github/4_downsampled_data_individual_samples/downstream_analysis/gene_act_loom/Hydrop_ATAC_2__libds_gene_activity.loom\n",
      "\tno barcode annotation detected\n",
      "opening /lustre1/project/stg_00002/lcb/fderop/data/20211215_hca_benchmark_github/4_downsampled_data_individual_samples/downstream_analysis/gene_act_loom/s3_ATAC__libds_gene_activity.loom\n",
      "\tno barcode annotation detected\n"
     ]
    }
   ],
   "source": [
    "for sample in loom_dict.keys():\n",
    "    file = loom_dict[sample]\n",
    "    print(f'opening {file}')\n",
    "    loom = lp.connect(file, mode='r+', validate=False)\n",
    "\n",
    "    metadata = json.loads(loom.attrs['MetaData'])\n",
    "    new_metadata = copy.deepcopy(metadata)\n",
    "    for item in new_metadata['annotations']:\n",
    "        if item['name'] == 'barcode':\n",
    "            barcode_index = new_metadata['annotations'].index(item)\n",
    "\n",
    "    if 'barcode_index' in locals():\n",
    "        print(f'\\tbarcode index found: {barcode_index}')\n",
    "        new_metadata['annotations'].pop(barcode_index)\n",
    "        del barcode_index\n",
    "\n",
    "        new_metadata_json = json.dumps(new_metadata)\n",
    "        loom.attrs['MetaData'] = new_metadata_json\n",
    "        loom.close()\n",
    "        print(f'\\tfixed {sample}')\n",
    "\n",
    "    else:\n",
    "        print('\\tno barcode annotation detected')\n",
    "        loom.close()"
   ]
  },
  {
   "cell_type": "markdown",
   "id": "8ba5896b",
   "metadata": {
    "papermill": {
     "duration": 0.02715,
     "end_time": "2022-01-17T10:29:43.059705",
     "exception": false,
     "start_time": "2022-01-17T10:29:43.032555",
     "status": "completed"
    },
    "tags": []
   },
   "source": [
    "# remove the pesky sample_id from the non-merged looms"
   ]
  },
  {
   "cell_type": "code",
   "execution_count": 36,
   "id": "e30ab1f5",
   "metadata": {
    "execution": {
     "iopub.execute_input": "2022-01-17T10:29:43.123927Z",
     "iopub.status.busy": "2022-01-17T10:29:43.123514Z",
     "iopub.status.idle": "2022-01-17T10:29:43.186293Z",
     "shell.execute_reply": "2022-01-17T10:29:43.186715Z"
    },
    "papermill": {
     "duration": 0.100244,
     "end_time": "2022-01-17T10:29:43.186851",
     "exception": false,
     "start_time": "2022-01-17T10:29:43.086607",
     "status": "completed"
    },
    "tags": []
   },
   "outputs": [
    {
     "name": "stdout",
     "output_type": "stream",
     "text": [
      "opening /lustre1/project/stg_00002/lcb/fderop/data/20211215_hca_benchmark_github/4_downsampled_data_individual_samples/downstream_analysis/gene_act_loom/10x_ATAC_A1__libds_gene_activity.loom\n",
      "\tno sample_id detected\n",
      "\n",
      "\n",
      "opening /lustre1/project/stg_00002/lcb/fderop/data/20211215_hca_benchmark_github/4_downsampled_data_individual_samples/downstream_analysis/gene_act_loom/10x_ATAC_A2__libds_gene_activity.loom\n",
      "\tno sample_id detected\n",
      "\n",
      "\n",
      "opening /lustre1/project/stg_00002/lcb/fderop/data/20211215_hca_benchmark_github/4_downsampled_data_individual_samples/downstream_analysis/gene_act_loom/10x_ATAC_B1__libds_gene_activity.loom\n",
      "\tno sample_id detected\n",
      "\n",
      "\n",
      "opening /lustre1/project/stg_00002/lcb/fderop/data/20211215_hca_benchmark_github/4_downsampled_data_individual_samples/downstream_analysis/gene_act_loom/10x_ATAC_B2__libds_gene_activity.loom\n",
      "\tno sample_id detected\n",
      "\n",
      "\n",
      "opening /lustre1/project/stg_00002/lcb/fderop/data/20211215_hca_benchmark_github/4_downsampled_data_individual_samples/downstream_analysis/gene_act_loom/10x_ATAC_C1__libds_gene_activity.loom\n",
      "\tno sample_id detected\n",
      "\n",
      "\n",
      "opening /lustre1/project/stg_00002/lcb/fderop/data/20211215_hca_benchmark_github/4_downsampled_data_individual_samples/downstream_analysis/gene_act_loom/10x_ATAC_C2__libds_gene_activity.loom\n",
      "\tno sample_id detected\n",
      "\n",
      "\n",
      "opening /lustre1/project/stg_00002/lcb/fderop/data/20211215_hca_benchmark_github/4_downsampled_data_individual_samples/downstream_analysis/gene_act_loom/10x_Multiome_1__libds_gene_activity.loom\n",
      "\tno sample_id detected\n",
      "\n",
      "\n",
      "opening /lustre1/project/stg_00002/lcb/fderop/data/20211215_hca_benchmark_github/4_downsampled_data_individual_samples/downstream_analysis/gene_act_loom/10x_Multiome_2__libds_gene_activity.loom\n",
      "\tno sample_id detected\n",
      "\n",
      "\n",
      "opening /lustre1/project/stg_00002/lcb/fderop/data/20211215_hca_benchmark_github/4_downsampled_data_individual_samples/downstream_analysis/gene_act_loom/10x_mtATAC_1__libds_gene_activity.loom\n",
      "\tno sample_id detected\n",
      "\n",
      "\n",
      "opening /lustre1/project/stg_00002/lcb/fderop/data/20211215_hca_benchmark_github/4_downsampled_data_individual_samples/downstream_analysis/gene_act_loom/10x_mtATAC_2__libds_gene_activity.loom\n",
      "\tno sample_id detected\n",
      "\n",
      "\n",
      "opening /lustre1/project/stg_00002/lcb/fderop/data/20211215_hca_benchmark_github/4_downsampled_data_individual_samples/downstream_analysis/gene_act_loom/BioRad_ATAC_1__libds_gene_activity.loom\n",
      "\tno sample_id detected\n",
      "\n",
      "\n",
      "opening /lustre1/project/stg_00002/lcb/fderop/data/20211215_hca_benchmark_github/4_downsampled_data_individual_samples/downstream_analysis/gene_act_loom/BioRad_ATAC_2__libds_gene_activity.loom\n",
      "\tno sample_id detected\n",
      "\n",
      "\n",
      "opening /lustre1/project/stg_00002/lcb/fderop/data/20211215_hca_benchmark_github/4_downsampled_data_individual_samples/downstream_analysis/gene_act_loom/Hydrop_ATAC_1__libds_gene_activity.loom\n",
      "\tno sample_id detected\n",
      "\n",
      "\n",
      "opening /lustre1/project/stg_00002/lcb/fderop/data/20211215_hca_benchmark_github/4_downsampled_data_individual_samples/downstream_analysis/gene_act_loom/Hydrop_ATAC_2__libds_gene_activity.loom\n",
      "\tno sample_id detected\n",
      "\n",
      "\n",
      "opening /lustre1/project/stg_00002/lcb/fderop/data/20211215_hca_benchmark_github/4_downsampled_data_individual_samples/downstream_analysis/gene_act_loom/s3_ATAC__libds_gene_activity.loom\n",
      "\tno sample_id detected\n",
      "\n",
      "\n"
     ]
    }
   ],
   "source": [
    "for sample in loom_dict.keys():\n",
    "    file = loom_dict[sample]\n",
    "    print(f'opening {file}')\n",
    "    loom = lp.connect(file, mode='r+', validate=False)\n",
    "\n",
    "    metadata = json.loads(loom.attrs['MetaData'])\n",
    "    new_metadata = copy.deepcopy(metadata)\n",
    "    for item in new_metadata['annotations']:\n",
    "        if item['name'] == 'sample_id':\n",
    "            barcode_index = new_metadata['annotations'].index(item)\n",
    "\n",
    "    if 'barcode_index' in locals():\n",
    "        print(f'\\sample_id index found: {barcode_index}')\n",
    "        new_metadata['annotations'].pop(barcode_index)\n",
    "        del barcode_index\n",
    "\n",
    "        new_metadata_json = json.dumps(new_metadata)\n",
    "        loom.attrs['MetaData'] = new_metadata_json\n",
    "        loom.close()\n",
    "        print(f'\\tfixed {sample}')\n",
    "\n",
    "    else:\n",
    "        print('\\tno sample_id detected')\n",
    "        loom.close()\n",
    "    print('\\n')"
   ]
  },
  {
   "cell_type": "markdown",
   "id": "bd3fdd5d",
   "metadata": {
    "papermill": {
     "duration": 0.027214,
     "end_time": "2022-01-17T10:29:43.242798",
     "exception": false,
     "start_time": "2022-01-17T10:29:43.215584",
     "status": "completed"
    },
    "tags": []
   },
   "source": [
    "# open region accessibility loom and fix annotations"
   ]
  },
  {
   "cell_type": "code",
   "execution_count": 37,
   "id": "f00d591e",
   "metadata": {
    "execution": {
     "iopub.execute_input": "2022-01-17T10:29:43.303315Z",
     "iopub.status.busy": "2022-01-17T10:29:43.302935Z",
     "iopub.status.idle": "2022-01-17T10:29:43.306327Z",
     "shell.execute_reply": "2022-01-17T10:29:43.305963Z"
    },
    "papermill": {
     "duration": 0.035788,
     "end_time": "2022-01-17T10:29:43.306404",
     "exception": false,
     "start_time": "2022-01-17T10:29:43.270616",
     "status": "completed"
    },
    "tags": []
   },
   "outputs": [],
   "source": [
    "import loompy as lp\n",
    "import json\n",
    "import copy\n",
    "import glob\n",
    "from collections import OrderedDict"
   ]
  },
  {
   "cell_type": "markdown",
   "id": "063fd52e",
   "metadata": {
    "papermill": {
     "duration": 0.027579,
     "end_time": "2022-01-17T10:29:43.361287",
     "exception": false,
     "start_time": "2022-01-17T10:29:43.333708",
     "status": "completed"
    },
    "tags": []
   },
   "source": [
    "exclude 'barcode' annotation"
   ]
  },
  {
   "cell_type": "code",
   "execution_count": 38,
   "id": "29190eed",
   "metadata": {
    "execution": {
     "iopub.execute_input": "2022-01-17T10:29:43.423844Z",
     "iopub.status.busy": "2022-01-17T10:29:43.423434Z",
     "iopub.status.idle": "2022-01-17T10:29:43.427415Z",
     "shell.execute_reply": "2022-01-17T10:29:43.427706Z"
    },
    "papermill": {
     "duration": 0.038687,
     "end_time": "2022-01-17T10:29:43.427807",
     "exception": false,
     "start_time": "2022-01-17T10:29:43.389120",
     "status": "completed"
    },
    "tags": []
   },
   "outputs": [],
   "source": [
    "filenames = sorted(glob.glob(f_region_loom_dir+'/*loom'))\n",
    "samples = [item.replace(\"__libds_region_accessibility.loom\", \"\") for item in filenames]\n",
    "samples = [item.replace(\"/lustre1/project/stg_00002/lcb/fderop/data/20211215_hca_benchmark_github/4_downsampled_data_individual_samples/downstream_analysis/region_acc_loom/\", \"\") for item in samples]\n",
    "loom_dict = {samples[i]: filenames[i] for i in range(len(samples))}\n",
    "loom_dict = OrderedDict(loom_dict)"
   ]
  },
  {
   "cell_type": "code",
   "execution_count": 39,
   "id": "9b30de55",
   "metadata": {
    "execution": {
     "iopub.execute_input": "2022-01-17T10:29:43.489079Z",
     "iopub.status.busy": "2022-01-17T10:29:43.488702Z",
     "iopub.status.idle": "2022-01-17T10:29:43.492467Z",
     "shell.execute_reply": "2022-01-17T10:29:43.492080Z"
    },
    "papermill": {
     "duration": 0.036732,
     "end_time": "2022-01-17T10:29:43.492548",
     "exception": false,
     "start_time": "2022-01-17T10:29:43.455816",
     "status": "completed"
    },
    "tags": []
   },
   "outputs": [
    {
     "data": {
      "text/plain": [
       "OrderedDict([('10x_ATAC_A1',\n",
       "              '/lustre1/project/stg_00002/lcb/fderop/data/20211215_hca_benchmark_github/4_downsampled_data_individual_samples/downstream_analysis/region_acc_loom/10x_ATAC_A1__libds_region_accessibility.loom'),\n",
       "             ('10x_ATAC_A2',\n",
       "              '/lustre1/project/stg_00002/lcb/fderop/data/20211215_hca_benchmark_github/4_downsampled_data_individual_samples/downstream_analysis/region_acc_loom/10x_ATAC_A2__libds_region_accessibility.loom'),\n",
       "             ('10x_ATAC_B1',\n",
       "              '/lustre1/project/stg_00002/lcb/fderop/data/20211215_hca_benchmark_github/4_downsampled_data_individual_samples/downstream_analysis/region_acc_loom/10x_ATAC_B1__libds_region_accessibility.loom'),\n",
       "             ('10x_ATAC_B2',\n",
       "              '/lustre1/project/stg_00002/lcb/fderop/data/20211215_hca_benchmark_github/4_downsampled_data_individual_samples/downstream_analysis/region_acc_loom/10x_ATAC_B2__libds_region_accessibility.loom'),\n",
       "             ('10x_ATAC_C1',\n",
       "              '/lustre1/project/stg_00002/lcb/fderop/data/20211215_hca_benchmark_github/4_downsampled_data_individual_samples/downstream_analysis/region_acc_loom/10x_ATAC_C1__libds_region_accessibility.loom'),\n",
       "             ('10x_ATAC_C2',\n",
       "              '/lustre1/project/stg_00002/lcb/fderop/data/20211215_hca_benchmark_github/4_downsampled_data_individual_samples/downstream_analysis/region_acc_loom/10x_ATAC_C2__libds_region_accessibility.loom'),\n",
       "             ('10x_Multiome_1',\n",
       "              '/lustre1/project/stg_00002/lcb/fderop/data/20211215_hca_benchmark_github/4_downsampled_data_individual_samples/downstream_analysis/region_acc_loom/10x_Multiome_1__libds_region_accessibility.loom'),\n",
       "             ('10x_Multiome_2',\n",
       "              '/lustre1/project/stg_00002/lcb/fderop/data/20211215_hca_benchmark_github/4_downsampled_data_individual_samples/downstream_analysis/region_acc_loom/10x_Multiome_2__libds_region_accessibility.loom'),\n",
       "             ('10x_mtATAC_1',\n",
       "              '/lustre1/project/stg_00002/lcb/fderop/data/20211215_hca_benchmark_github/4_downsampled_data_individual_samples/downstream_analysis/region_acc_loom/10x_mtATAC_1__libds_region_accessibility.loom'),\n",
       "             ('10x_mtATAC_2',\n",
       "              '/lustre1/project/stg_00002/lcb/fderop/data/20211215_hca_benchmark_github/4_downsampled_data_individual_samples/downstream_analysis/region_acc_loom/10x_mtATAC_2__libds_region_accessibility.loom'),\n",
       "             ('BioRad_ATAC_1',\n",
       "              '/lustre1/project/stg_00002/lcb/fderop/data/20211215_hca_benchmark_github/4_downsampled_data_individual_samples/downstream_analysis/region_acc_loom/BioRad_ATAC_1__libds_region_accessibility.loom'),\n",
       "             ('BioRad_ATAC_2',\n",
       "              '/lustre1/project/stg_00002/lcb/fderop/data/20211215_hca_benchmark_github/4_downsampled_data_individual_samples/downstream_analysis/region_acc_loom/BioRad_ATAC_2__libds_region_accessibility.loom'),\n",
       "             ('Hydrop_ATAC_1',\n",
       "              '/lustre1/project/stg_00002/lcb/fderop/data/20211215_hca_benchmark_github/4_downsampled_data_individual_samples/downstream_analysis/region_acc_loom/Hydrop_ATAC_1__libds_region_accessibility.loom'),\n",
       "             ('Hydrop_ATAC_2',\n",
       "              '/lustre1/project/stg_00002/lcb/fderop/data/20211215_hca_benchmark_github/4_downsampled_data_individual_samples/downstream_analysis/region_acc_loom/Hydrop_ATAC_2__libds_region_accessibility.loom'),\n",
       "             ('s3_ATAC',\n",
       "              '/lustre1/project/stg_00002/lcb/fderop/data/20211215_hca_benchmark_github/4_downsampled_data_individual_samples/downstream_analysis/region_acc_loom/s3_ATAC__libds_region_accessibility.loom')])"
      ]
     },
     "execution_count": 39,
     "metadata": {},
     "output_type": "execute_result"
    }
   ],
   "source": [
    "loom_dict"
   ]
  },
  {
   "cell_type": "markdown",
   "id": "9d4f513c",
   "metadata": {
    "tags": [
     "papermill-error-cell-tag"
    ]
   },
   "source": [
    "<span id=\"papermill-error-cell\" style=\"color:red; font-family:Helvetica Neue, Helvetica, Arial, sans-serif; font-size:2em;\">Execution using papermill encountered an exception here and stopped:</span>"
   ]
  },
  {
   "cell_type": "code",
   "execution_count": 40,
   "id": "bae3f70c",
   "metadata": {
    "execution": {
     "iopub.execute_input": "2022-01-17T10:29:43.781987Z",
     "iopub.status.busy": "2022-01-17T10:29:43.744747Z",
     "iopub.status.idle": "2022-01-17T10:29:50.939734Z",
     "shell.execute_reply": "2022-01-17T10:29:50.941040Z"
    },
    "papermill": {
     "duration": 7.421045,
     "end_time": "2022-01-17T10:29:50.941891",
     "exception": true,
     "start_time": "2022-01-17T10:29:43.520846",
     "status": "failed"
    },
    "tags": []
   },
   "outputs": [
    {
     "name": "stdout",
     "output_type": "stream",
     "text": [
      "opening /lustre1/project/stg_00002/lcb/fderop/data/20211215_hca_benchmark_github/4_downsampled_data_individual_samples/downstream_analysis/region_acc_loom/10x_ATAC_A1__libds_region_accessibility.loom\n",
      "\tbarcode index found: 3\n",
      "\tfixed 10x_ATAC_A1\n",
      "opening /lustre1/project/stg_00002/lcb/fderop/data/20211215_hca_benchmark_github/4_downsampled_data_individual_samples/downstream_analysis/region_acc_loom/10x_ATAC_A2__libds_region_accessibility.loom\n",
      "\tbarcode index found: 3\n",
      "\tfixed 10x_ATAC_A2\n",
      "opening /lustre1/project/stg_00002/lcb/fderop/data/20211215_hca_benchmark_github/4_downsampled_data_individual_samples/downstream_analysis/region_acc_loom/10x_ATAC_B1__libds_region_accessibility.loom\n",
      "\tbarcode index found: 3\n",
      "\tfixed 10x_ATAC_B1\n",
      "opening /lustre1/project/stg_00002/lcb/fderop/data/20211215_hca_benchmark_github/4_downsampled_data_individual_samples/downstream_analysis/region_acc_loom/10x_ATAC_B2__libds_region_accessibility.loom\n",
      "\tbarcode index found: 3\n",
      "\tfixed 10x_ATAC_B2\n",
      "opening /lustre1/project/stg_00002/lcb/fderop/data/20211215_hca_benchmark_github/4_downsampled_data_individual_samples/downstream_analysis/region_acc_loom/10x_ATAC_C1__libds_region_accessibility.loom\n",
      "\tbarcode index found: 3\n",
      "\tfixed 10x_ATAC_C1\n",
      "opening /lustre1/project/stg_00002/lcb/fderop/data/20211215_hca_benchmark_github/4_downsampled_data_individual_samples/downstream_analysis/region_acc_loom/10x_ATAC_C2__libds_region_accessibility.loom\n",
      "\tbarcode index found: 3\n",
      "\tfixed 10x_ATAC_C2\n",
      "opening /lustre1/project/stg_00002/lcb/fderop/data/20211215_hca_benchmark_github/4_downsampled_data_individual_samples/downstream_analysis/region_acc_loom/10x_Multiome_1__libds_region_accessibility.loom\n",
      "\tbarcode index found: 3\n",
      "\tfixed 10x_Multiome_1\n",
      "opening /lustre1/project/stg_00002/lcb/fderop/data/20211215_hca_benchmark_github/4_downsampled_data_individual_samples/downstream_analysis/region_acc_loom/10x_Multiome_2__libds_region_accessibility.loom\n",
      "\tbarcode index found: 3\n",
      "\tfixed 10x_Multiome_2\n",
      "opening /lustre1/project/stg_00002/lcb/fderop/data/20211215_hca_benchmark_github/4_downsampled_data_individual_samples/downstream_analysis/region_acc_loom/10x_mtATAC_1__libds_region_accessibility.loom\n",
      "\tbarcode index found: 3\n",
      "\tfixed 10x_mtATAC_1\n",
      "opening /lustre1/project/stg_00002/lcb/fderop/data/20211215_hca_benchmark_github/4_downsampled_data_individual_samples/downstream_analysis/region_acc_loom/10x_mtATAC_2__libds_region_accessibility.loom\n",
      "\tbarcode index found: 3\n",
      "\tfixed 10x_mtATAC_2\n",
      "opening /lustre1/project/stg_00002/lcb/fderop/data/20211215_hca_benchmark_github/4_downsampled_data_individual_samples/downstream_analysis/region_acc_loom/BioRad_ATAC_1__libds_region_accessibility.loom\n",
      "\tbarcode index found: 3\n",
      "\tfixed BioRad_ATAC_1\n",
      "opening /lustre1/project/stg_00002/lcb/fderop/data/20211215_hca_benchmark_github/4_downsampled_data_individual_samples/downstream_analysis/region_acc_loom/BioRad_ATAC_2__libds_region_accessibility.loom\n",
      "\tbarcode index found: 3\n",
      "\tfixed BioRad_ATAC_2\n",
      "opening /lustre1/project/stg_00002/lcb/fderop/data/20211215_hca_benchmark_github/4_downsampled_data_individual_samples/downstream_analysis/region_acc_loom/Hydrop_ATAC_1__libds_region_accessibility.loom\n",
      "\tno barcode annotation detected\n",
      "opening /lustre1/project/stg_00002/lcb/fderop/data/20211215_hca_benchmark_github/4_downsampled_data_individual_samples/downstream_analysis/region_acc_loom/Hydrop_ATAC_2__libds_region_accessibility.loom\n"
     ]
    },
    {
     "ename": "RuntimeError",
     "evalue": "Unable to get link info (unable to offset into local heap data block)",
     "output_type": "error",
     "traceback": [
      "\u001b[0;31m---------------------------------------------------------------------------\u001b[0m",
      "\u001b[0;31mRuntimeError\u001b[0m                              Traceback (most recent call last)",
      "\u001b[0;32m/local_scratch/tmp-vsc33042/ipykernel_16645/1404312310.py\u001b[0m in \u001b[0;36m<module>\u001b[0;34m\u001b[0m\n\u001b[1;32m      2\u001b[0m     \u001b[0mfile\u001b[0m \u001b[0;34m=\u001b[0m \u001b[0mloom_dict\u001b[0m\u001b[0;34m[\u001b[0m\u001b[0msample\u001b[0m\u001b[0;34m]\u001b[0m\u001b[0;34m\u001b[0m\u001b[0;34m\u001b[0m\u001b[0m\n\u001b[1;32m      3\u001b[0m     \u001b[0mprint\u001b[0m\u001b[0;34m(\u001b[0m\u001b[0;34mf'opening {file}'\u001b[0m\u001b[0;34m)\u001b[0m\u001b[0;34m\u001b[0m\u001b[0;34m\u001b[0m\u001b[0m\n\u001b[0;32m----> 4\u001b[0;31m     \u001b[0mloom\u001b[0m \u001b[0;34m=\u001b[0m \u001b[0mlp\u001b[0m\u001b[0;34m.\u001b[0m\u001b[0mconnect\u001b[0m\u001b[0;34m(\u001b[0m\u001b[0mfile\u001b[0m\u001b[0;34m,\u001b[0m \u001b[0mmode\u001b[0m\u001b[0;34m=\u001b[0m\u001b[0;34m'r+'\u001b[0m\u001b[0;34m,\u001b[0m \u001b[0mvalidate\u001b[0m\u001b[0;34m=\u001b[0m\u001b[0;32mFalse\u001b[0m\u001b[0;34m)\u001b[0m\u001b[0;34m\u001b[0m\u001b[0;34m\u001b[0m\u001b[0m\n\u001b[0m\u001b[1;32m      5\u001b[0m \u001b[0;34m\u001b[0m\u001b[0m\n\u001b[1;32m      6\u001b[0m     \u001b[0mmetadata\u001b[0m \u001b[0;34m=\u001b[0m \u001b[0mjson\u001b[0m\u001b[0;34m.\u001b[0m\u001b[0mloads\u001b[0m\u001b[0;34m(\u001b[0m\u001b[0mloom\u001b[0m\u001b[0;34m.\u001b[0m\u001b[0mattrs\u001b[0m\u001b[0;34m[\u001b[0m\u001b[0;34m'MetaData'\u001b[0m\u001b[0;34m]\u001b[0m\u001b[0;34m)\u001b[0m\u001b[0;34m\u001b[0m\u001b[0;34m\u001b[0m\u001b[0m\n",
      "\u001b[0;32m/opt/venv/lib/python3.8/site-packages/loompy/loompy.py\u001b[0m in \u001b[0;36mconnect\u001b[0;34m(filename, mode, validate, spec_version)\u001b[0m\n\u001b[1;32m   1387\u001b[0m                 \u001b[0mNote\u001b[0m\u001b[0;34m:\u001b[0m \u001b[0;32mif\u001b[0m \u001b[0mvalidation\u001b[0m \u001b[0;32mis\u001b[0m \u001b[0mrequested\u001b[0m\u001b[0;34m,\u001b[0m \u001b[0man\u001b[0m \u001b[0mexception\u001b[0m \u001b[0;32mis\u001b[0m \u001b[0mraised\u001b[0m \u001b[0;32mif\u001b[0m \u001b[0mvalidation\u001b[0m \u001b[0mfails\u001b[0m\u001b[0;34m.\u001b[0m\u001b[0;34m\u001b[0m\u001b[0;34m\u001b[0m\u001b[0m\n\u001b[1;32m   1388\u001b[0m \t\"\"\"\n\u001b[0;32m-> 1389\u001b[0;31m         \u001b[0;32mreturn\u001b[0m \u001b[0mLoomConnection\u001b[0m\u001b[0;34m(\u001b[0m\u001b[0mfilename\u001b[0m\u001b[0;34m,\u001b[0m \u001b[0mmode\u001b[0m\u001b[0;34m,\u001b[0m \u001b[0mvalidate\u001b[0m\u001b[0;34m=\u001b[0m\u001b[0mvalidate\u001b[0m\u001b[0;34m)\u001b[0m\u001b[0;34m\u001b[0m\u001b[0;34m\u001b[0m\u001b[0m\n\u001b[0m",
      "\u001b[0;32m/opt/venv/lib/python3.8/site-packages/loompy/loompy.py\u001b[0m in \u001b[0;36m__init__\u001b[0;34m(self, filename, mode, validate)\u001b[0m\n\u001b[1;32m     84\u001b[0m                 \u001b[0mself\u001b[0m\u001b[0;34m.\u001b[0m\u001b[0m_file\u001b[0m \u001b[0;34m=\u001b[0m \u001b[0mh5py\u001b[0m\u001b[0;34m.\u001b[0m\u001b[0mFile\u001b[0m\u001b[0;34m(\u001b[0m\u001b[0mfilename\u001b[0m\u001b[0;34m,\u001b[0m \u001b[0mmode\u001b[0m\u001b[0;34m)\u001b[0m\u001b[0;34m\u001b[0m\u001b[0;34m\u001b[0m\u001b[0m\n\u001b[1;32m     85\u001b[0m                 \u001b[0mself\u001b[0m\u001b[0;34m.\u001b[0m\u001b[0m_closed\u001b[0m \u001b[0;34m=\u001b[0m \u001b[0;32mFalse\u001b[0m\u001b[0;34m\u001b[0m\u001b[0;34m\u001b[0m\u001b[0m\n\u001b[0;32m---> 86\u001b[0;31m                 \u001b[0;32mif\u001b[0m \u001b[0;34m\"matrix\"\u001b[0m \u001b[0;32min\u001b[0m \u001b[0mself\u001b[0m\u001b[0;34m.\u001b[0m\u001b[0m_file\u001b[0m\u001b[0;34m:\u001b[0m\u001b[0;34m\u001b[0m\u001b[0;34m\u001b[0m\u001b[0m\n\u001b[0m\u001b[1;32m     87\u001b[0m                         \u001b[0mself\u001b[0m\u001b[0;34m.\u001b[0m\u001b[0mshape\u001b[0m \u001b[0;34m=\u001b[0m \u001b[0mself\u001b[0m\u001b[0;34m.\u001b[0m\u001b[0m_file\u001b[0m\u001b[0;34m[\u001b[0m\u001b[0;34m\"/matrix\"\u001b[0m\u001b[0;34m]\u001b[0m\u001b[0;34m.\u001b[0m\u001b[0mshape\u001b[0m  \u001b[0;31m#: Shape of the dataset (n_rows, n_cols)\u001b[0m\u001b[0;34m\u001b[0m\u001b[0;34m\u001b[0m\u001b[0m\n\u001b[1;32m     88\u001b[0m                 \u001b[0;32melse\u001b[0m\u001b[0;34m:\u001b[0m\u001b[0;34m\u001b[0m\u001b[0;34m\u001b[0m\u001b[0m\n",
      "\u001b[0;32mh5py/_objects.pyx\u001b[0m in \u001b[0;36mh5py._objects.with_phil.wrapper\u001b[0;34m()\u001b[0m\n",
      "\u001b[0;32mh5py/_objects.pyx\u001b[0m in \u001b[0;36mh5py._objects.with_phil.wrapper\u001b[0;34m()\u001b[0m\n",
      "\u001b[0;32m/opt/venv/lib/python3.8/site-packages/h5py/_hl/group.py\u001b[0m in \u001b[0;36m__contains__\u001b[0;34m(self, name)\u001b[0m\n\u001b[1;32m    457\u001b[0m     \u001b[0;32mdef\u001b[0m \u001b[0m__contains__\u001b[0m\u001b[0;34m(\u001b[0m\u001b[0mself\u001b[0m\u001b[0;34m,\u001b[0m \u001b[0mname\u001b[0m\u001b[0;34m)\u001b[0m\u001b[0;34m:\u001b[0m\u001b[0;34m\u001b[0m\u001b[0;34m\u001b[0m\u001b[0m\n\u001b[1;32m    458\u001b[0m         \u001b[0;34m\"\"\" Test if a member name exists \"\"\"\u001b[0m\u001b[0;34m\u001b[0m\u001b[0;34m\u001b[0m\u001b[0m\n\u001b[0;32m--> 459\u001b[0;31m         \u001b[0;32mreturn\u001b[0m \u001b[0mself\u001b[0m\u001b[0;34m.\u001b[0m\u001b[0m_e\u001b[0m\u001b[0;34m(\u001b[0m\u001b[0mname\u001b[0m\u001b[0;34m)\u001b[0m \u001b[0;32min\u001b[0m \u001b[0mself\u001b[0m\u001b[0;34m.\u001b[0m\u001b[0mid\u001b[0m\u001b[0;34m\u001b[0m\u001b[0;34m\u001b[0m\u001b[0m\n\u001b[0m\u001b[1;32m    460\u001b[0m \u001b[0;34m\u001b[0m\u001b[0m\n\u001b[1;32m    461\u001b[0m     def copy(self, source, dest, name=None,\n",
      "\u001b[0;32mh5py/h5g.pyx\u001b[0m in \u001b[0;36mh5py.h5g.GroupID.__contains__\u001b[0;34m()\u001b[0m\n",
      "\u001b[0;32mh5py/h5g.pyx\u001b[0m in \u001b[0;36mh5py.h5g.GroupID.__contains__\u001b[0;34m()\u001b[0m\n",
      "\u001b[0;32mh5py/_objects.pyx\u001b[0m in \u001b[0;36mh5py._objects.with_phil.wrapper\u001b[0;34m()\u001b[0m\n",
      "\u001b[0;32mh5py/_objects.pyx\u001b[0m in \u001b[0;36mh5py._objects.with_phil.wrapper\u001b[0;34m()\u001b[0m\n",
      "\u001b[0;32mh5py/h5g.pyx\u001b[0m in \u001b[0;36mh5py.h5g._path_valid\u001b[0;34m()\u001b[0m\n",
      "\u001b[0;32mh5py/_objects.pyx\u001b[0m in \u001b[0;36mh5py._objects.with_phil.wrapper\u001b[0;34m()\u001b[0m\n",
      "\u001b[0;32mh5py/_objects.pyx\u001b[0m in \u001b[0;36mh5py._objects.with_phil.wrapper\u001b[0;34m()\u001b[0m\n",
      "\u001b[0;32mh5py/h5l.pyx\u001b[0m in \u001b[0;36mh5py.h5l.LinkProxy.exists\u001b[0;34m()\u001b[0m\n",
      "\u001b[0;31mRuntimeError\u001b[0m: Unable to get link info (unable to offset into local heap data block)"
     ]
    }
   ],
   "source": [
    "for sample in loom_dict.keys():\n",
    "    file = loom_dict[sample]\n",
    "    print(f'opening {file}')\n",
    "    loom = lp.connect(file, mode='r+', validate=False)\n",
    "\n",
    "    metadata = json.loads(loom.attrs['MetaData'])\n",
    "    new_metadata = copy.deepcopy(metadata)\n",
    "    for item in new_metadata['annotations']:\n",
    "        if item['name'] == 'barcode':\n",
    "            barcode_index = new_metadata['annotations'].index(item)\n",
    "\n",
    "    if 'barcode_index' in locals():\n",
    "        print(f'\\tbarcode index found: {barcode_index}')\n",
    "        new_metadata['annotations'].pop(barcode_index)\n",
    "        del barcode_index\n",
    "\n",
    "        new_metadata_json = json.dumps(new_metadata)\n",
    "        loom.attrs['MetaData'] = new_metadata_json\n",
    "        loom.close()\n",
    "        print(f'\\tfixed {sample}')\n",
    "\n",
    "    else:\n",
    "        print('\\tno barcode annotation detected')\n",
    "        loom.close()"
   ]
  },
  {
   "cell_type": "markdown",
   "id": "06446b7c",
   "metadata": {
    "papermill": {
     "duration": null,
     "end_time": null,
     "exception": null,
     "start_time": null,
     "status": "pending"
    },
    "tags": []
   },
   "source": [
    "# remove the pesky sample_id from the non-merged looms"
   ]
  },
  {
   "cell_type": "code",
   "execution_count": null,
   "id": "d02ffcf0",
   "metadata": {
    "papermill": {
     "duration": null,
     "end_time": null,
     "exception": null,
     "start_time": null,
     "status": "pending"
    },
    "tags": []
   },
   "outputs": [],
   "source": [
    "for sample in loom_dict.keys():\n",
    "    file = loom_dict[sample]\n",
    "    print(f'opening {file}')\n",
    "    loom = lp.connect(file, mode='r+', validate=False)\n",
    "\n",
    "    metadata = json.loads(loom.attrs['MetaData'])\n",
    "    new_metadata = copy.deepcopy(metadata)\n",
    "    for item in new_metadata['annotations']:\n",
    "        if item['name'] == 'sample_id':\n",
    "            barcode_index = new_metadata['annotations'].index(item)\n",
    "\n",
    "    if 'barcode_index' in locals():\n",
    "        print(f'\\sample_id index found: {barcode_index}')\n",
    "        new_metadata['annotations'].pop(barcode_index)\n",
    "        del barcode_index\n",
    "\n",
    "        new_metadata_json = json.dumps(new_metadata)\n",
    "        loom.attrs['MetaData'] = new_metadata_json\n",
    "        loom.close()\n",
    "        print(f'\\tfixed {sample}')\n",
    "\n",
    "    else:\n",
    "        print('\\tno sample_id detected')\n",
    "        loom.close()\n",
    "    print('\\n')"
   ]
  }
 ],
 "metadata": {
  "kernelspec": {
   "display_name": "pycisTopic_singularity_20210921",
   "language": "python",
   "name": "pycistopic_singularity"
  },
  "language_info": {
   "codemirror_mode": {
    "name": "ipython",
    "version": 3
   },
   "file_extension": ".py",
   "mimetype": "text/x-python",
   "name": "python",
   "nbconvert_exporter": "python",
   "pygments_lexer": "ipython3",
   "version": "3.8.6"
  },
  "papermill": {
   "default_parameters": {},
   "duration": 69.15265,
   "end_time": "2022-01-17T10:29:53.041948",
   "environment_variables": {},
   "exception": true,
   "input_path": "8a_export_loom.ipynb",
   "output_path": "8a_export_loom.OUT.ipynb",
   "parameters": {},
   "start_time": "2022-01-17T10:28:43.889298",
   "version": "2.3.3"
  }
 },
 "nbformat": 4,
 "nbformat_minor": 5
}
