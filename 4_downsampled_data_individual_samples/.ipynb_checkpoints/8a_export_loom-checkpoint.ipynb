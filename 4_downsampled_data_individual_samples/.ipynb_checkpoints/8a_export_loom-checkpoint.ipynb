{
 "cells": [
  {
   "cell_type": "code",
   "execution_count": 1,
   "id": "2eda9c1f",
   "metadata": {
    "papermill": {
     "duration": 0.047944,
     "end_time": "2022-01-17T13:30:14.124416",
     "exception": false,
     "start_time": "2022-01-17T13:30:14.076472",
     "status": "completed"
    },
    "tags": []
   },
   "outputs": [
    {
     "data": {
      "text/plain": [
       "'0.1.dev300+g7494158'"
      ]
     },
     "execution_count": 1,
     "metadata": {},
     "output_type": "execute_result"
    }
   ],
   "source": [
    "import pycisTopic\n",
    "pycisTopic.__version__"
   ]
  },
  {
   "cell_type": "code",
   "execution_count": 2,
   "id": "dbdaec99",
   "metadata": {
    "papermill": {
     "duration": 0.025974,
     "end_time": "2022-01-17T13:30:14.170348",
     "exception": false,
     "start_time": "2022-01-17T13:30:14.144374",
     "status": "completed"
    },
    "tags": []
   },
   "outputs": [],
   "source": [
    "import warnings\n",
    "warnings.filterwarnings('ignore')\n",
    "warnings.simplefilter('ignore')"
   ]
  },
  {
   "cell_type": "code",
   "execution_count": 3,
   "id": "9f22aab2",
   "metadata": {
    "papermill": {
     "duration": 0.681108,
     "end_time": "2022-01-17T13:30:14.871978",
     "exception": false,
     "start_time": "2022-01-17T13:30:14.190870",
     "status": "completed"
    },
    "tags": []
   },
   "outputs": [],
   "source": [
    "import pickle\n",
    "import pandas as pd"
   ]
  },
  {
   "cell_type": "code",
   "execution_count": 4,
   "id": "b595fb70",
   "metadata": {
    "papermill": {
     "duration": 0.028043,
     "end_time": "2022-01-17T13:30:14.921415",
     "exception": false,
     "start_time": "2022-01-17T13:30:14.893372",
     "status": "completed"
    },
    "tags": []
   },
   "outputs": [],
   "source": [
    "import copy"
   ]
  },
  {
   "cell_type": "code",
   "execution_count": 5,
   "id": "a2646c61",
   "metadata": {
    "papermill": {
     "duration": 0.029134,
     "end_time": "2022-01-17T13:30:14.970122",
     "exception": false,
     "start_time": "2022-01-17T13:30:14.940988",
     "status": "completed"
    },
    "tags": []
   },
   "outputs": [],
   "source": [
    "import os\n",
    "wdir = '/lustre1/project/stg_00002/lcb/fderop/data/20211215_hca_benchmark_github/4_downsampled_data_individual_samples/'\n",
    "os.chdir( wdir )"
   ]
  },
  {
   "cell_type": "code",
   "execution_count": 6,
   "id": "1ab2f5a9",
   "metadata": {
    "papermill": {
     "duration": 0.028946,
     "end_time": "2022-01-17T13:30:15.018779",
     "exception": false,
     "start_time": "2022-01-17T13:30:14.989833",
     "status": "completed"
    },
    "tags": []
   },
   "outputs": [],
   "source": [
    "# create output directory:\n",
    "f_final_dir = os.path.join(wdir, 'downstream_analysis')\n",
    "if not os.path.exists(f_final_dir):\n",
    "    os.makedirs(f_final_dir)"
   ]
  },
  {
   "cell_type": "code",
   "execution_count": 7,
   "id": "7389ed59",
   "metadata": {
    "papermill": {
     "duration": 0.034229,
     "end_time": "2022-01-17T13:30:15.072992",
     "exception": false,
     "start_time": "2022-01-17T13:30:15.038763",
     "status": "completed"
    },
    "tags": []
   },
   "outputs": [],
   "source": [
    "# display names of each sample. NOTE: the samples will be dislpayed in the order of this dict!\n",
    "from collections import OrderedDict\n",
    "alias_dict = OrderedDict({\n",
    "    \"Broad_1\": \"BioRad ATAC 1\",\n",
    "    \"Broad_2\": \"BioRad ATAC 2\",\n",
    "    \"Stanford_1\": \"10x ATAC A1\",\n",
    "    \"Stanford_2\": \"10x ATAC A2\",\n",
    "    \"VIB_1\": \"10x ATAC B1\",\n",
    "    \"VIB_2\": \"10x ATAC B2\",\n",
    "    \"CNAG_1\": \"10x ATAC C1\",\n",
    "    \"CNAG_2\": \"10x ATAC C2\",\n",
    "    \"Broad_mito_1\": \"10x mtATAC 1\",\n",
    "    \"Broad_mito_2\": \"10x mtATAC 2\",\n",
    "    \"Sanger_1\": \"10x Multiome 1\",\n",
    "    \"Sanger_2\": \"10x Multiome 2\",\n",
    "    \"VIB_Hydrop_1\": \"Hydrop ATAC 1\",\n",
    "    \"VIB_Hydrop_2\": \"Hydrop ATAC 2\",\n",
    "    \"s3atac\": \"s3 ATAC\",\n",
    "})\n",
    "\n",
    "color_dict = OrderedDict({\n",
    "    \"Broad_mito_1\": \"#9467bd\",\n",
    "    \"Broad_mito_2\": \"#c5b0d5\",\n",
    "    \"CNAG_1\": \"#d62728\",\n",
    "    \"CNAG_2\": \"#ff9896\",\n",
    "    \"Broad_1\": \"#1f77b4\",\n",
    "    \"Broad_2\": \"#aec7e8\",\n",
    "    \"Sanger_1\": \"#8c564b\",\n",
    "    \"Sanger_2\": \"#c49c94\",\n",
    "    \"Stanford_1\": \"#ff7f0e\",\n",
    "    \"Stanford_2\": \"#ffbb78\",\n",
    "    \"VIB_1\": \"#2ca02c\",\n",
    "    \"VIB_2\": \"#98df8a\",\n",
    "    \"VIB_Hydrop_1\": \"#e377c2\",\n",
    "    \"VIB_Hydrop_2\": \"#f7b6d2\",\n",
    "    \"s3atac\": \"#7f7f7f\",\n",
    "})\n",
    "\n",
    "tech_dict = OrderedDict({\n",
    "    \"Broad_1\": \"BioRad ATAC\",\n",
    "    \"Broad_2\": \"BioRad ATAC\",\n",
    "    \"Stanford_1\": \"10x ATAC A\",\n",
    "    \"Stanford_2\": \"10x ATAC A\",\n",
    "    \"VIB_1\": \"10x ATAC B\",\n",
    "    \"VIB_2\": \"10x ATAC B\",\n",
    "    \"CNAG_1\": \"10x ATAC C\",\n",
    "    \"CNAG_2\": \"10x ATAC C\",\n",
    "    \"Broad_mito_1\": \"10x mtATAC\",\n",
    "    \"Broad_mito_2\": \"10x mtATAC\",\n",
    "    \"Sanger_1\": \"10x Multiome\",\n",
    "    \"Sanger_2\": \"10x Multiome\",\n",
    "    \"VIB_Hydrop_1\": \"Hydrop ATAC\",\n",
    "    \"VIB_Hydrop_2\": \"Hydrop ATAC\",\n",
    "    \"s3atac\": \"s3 ATAC\",\n",
    "})"
   ]
  },
  {
   "cell_type": "markdown",
   "id": "661218a7",
   "metadata": {
    "papermill": {
     "duration": 0.020391,
     "end_time": "2022-01-17T13:30:15.113977",
     "exception": false,
     "start_time": "2022-01-17T13:30:15.093586",
     "status": "completed"
    },
    "tags": []
   },
   "source": [
    "## Load the cisTopic objects"
   ]
  },
  {
   "cell_type": "code",
   "execution_count": 8,
   "id": "c3343e87",
   "metadata": {
    "papermill": {
     "duration": 0.031467,
     "end_time": "2022-01-17T13:30:15.165261",
     "exception": false,
     "start_time": "2022-01-17T13:30:15.133794",
     "status": "completed"
    },
    "tags": []
   },
   "outputs": [
    {
     "data": {
      "text/plain": [
       "['pycistopic_consensus_peaks/cistopic_objs__consensus/s3atac__cistopic_obj_metadata_annotated_dimreduc_df.pkl',\n",
       " 'pycistopic_consensus_peaks/cistopic_objs__consensus/CNAG_2__cistopic_obj_metadata_annotated_dimreduc_df.pkl',\n",
       " 'pycistopic_consensus_peaks/cistopic_objs__consensus/VIB_2__cistopic_obj_metadata_annotated_dimreduc_df.pkl',\n",
       " 'pycistopic_consensus_peaks/cistopic_objs__consensus/VIB_1__cistopic_obj_metadata_annotated_dimreduc_df.pkl',\n",
       " 'pycistopic_consensus_peaks/cistopic_objs__consensus/Sanger_2__cistopic_obj_metadata_annotated_dimreduc_df.pkl',\n",
       " 'pycistopic_consensus_peaks/cistopic_objs__consensus/Broad_2__cistopic_obj_metadata_annotated_dimreduc_df.pkl',\n",
       " 'pycistopic_consensus_peaks/cistopic_objs__consensus/VIB_Hydrop_1__cistopic_obj_metadata_annotated_dimreduc_df.pkl',\n",
       " 'pycistopic_consensus_peaks/cistopic_objs__consensus/Broad_mito_2__cistopic_obj_metadata_annotated_dimreduc_df.pkl',\n",
       " 'pycistopic_consensus_peaks/cistopic_objs__consensus/Broad_mito_1__cistopic_obj_metadata_annotated_dimreduc_df.pkl',\n",
       " 'pycistopic_consensus_peaks/cistopic_objs__consensus/Sanger_1__cistopic_obj_metadata_annotated_dimreduc_df.pkl',\n",
       " 'pycistopic_consensus_peaks/cistopic_objs__consensus/CNAG_1__cistopic_obj_metadata_annotated_dimreduc_df.pkl',\n",
       " 'pycistopic_consensus_peaks/cistopic_objs__consensus/Stanford_2__cistopic_obj_metadata_annotated_dimreduc_df.pkl',\n",
       " 'pycistopic_consensus_peaks/cistopic_objs__consensus/Broad_1__cistopic_obj_metadata_annotated_dimreduc_df.pkl',\n",
       " 'pycistopic_consensus_peaks/cistopic_objs__consensus/VIB_Hydrop_2__cistopic_obj_metadata_annotated_dimreduc_df.pkl',\n",
       " 'pycistopic_consensus_peaks/cistopic_objs__consensus/Stanford_1__cistopic_obj_metadata_annotated_dimreduc_df.pkl']"
      ]
     },
     "execution_count": 8,
     "metadata": {},
     "output_type": "execute_result"
    }
   ],
   "source": [
    "import glob\n",
    "f_cto_dir = 'pycistopic_consensus_peaks/cistopic_objs__consensus'\n",
    "\n",
    "glob.glob(f_cto_dir + '/*__cistopic_obj_metadata_annotated_dimreduc_df.pkl')"
   ]
  },
  {
   "cell_type": "code",
   "execution_count": 9,
   "id": "43f36776",
   "metadata": {
    "papermill": {
     "duration": 5.81257,
     "end_time": "2022-01-17T13:30:20.998094",
     "exception": false,
     "start_time": "2022-01-17T13:30:15.185524",
     "status": "completed"
    },
    "tags": []
   },
   "outputs": [
    {
     "name": "stdout",
     "output_type": "stream",
     "text": [
      "Loaded filtered cistopic object Broad_1\n",
      "Loaded filtered cistopic object Broad_2\n",
      "Loaded filtered cistopic object Stanford_1\n",
      "Loaded filtered cistopic object Stanford_2\n",
      "Loaded filtered cistopic object VIB_1\n",
      "Loaded filtered cistopic object VIB_2\n",
      "Loaded filtered cistopic object CNAG_1\n",
      "Loaded filtered cistopic object CNAG_2\n",
      "Loaded filtered cistopic object Broad_mito_1\n",
      "Loaded filtered cistopic object Broad_mito_2\n",
      "Loaded filtered cistopic object Sanger_1\n",
      "Loaded filtered cistopic object Sanger_2\n",
      "Loaded filtered cistopic object VIB_Hydrop_1\n",
      "Loaded filtered cistopic object VIB_Hydrop_2\n",
      "Loaded filtered cistopic object s3atac\n"
     ]
    }
   ],
   "source": [
    "cistopic_obj_dict = {}\n",
    "for key in alias_dict.keys():\n",
    "    f_cto = os.path.join(wdir, f_cto_dir, key + '__cistopic_obj_metadata_annotated_dimreduc_df.pkl')\n",
    "    if(os.path.isfile(f_cto)):\n",
    "        with open(f_cto, 'rb') as f:\n",
    "            cistopic_obj_dict[key] = pickle.load(f)\n",
    "        print(f\"Loaded filtered cistopic object {key}\")\n",
    "    else:\n",
    "        print(f\"file {f_cto} doesn't exist\")"
   ]
  },
  {
   "cell_type": "markdown",
   "id": "48810cae",
   "metadata": {
    "papermill": {
     "duration": 0.022728,
     "end_time": "2022-01-17T13:30:21.043343",
     "exception": false,
     "start_time": "2022-01-17T13:30:21.020615",
     "status": "completed"
    },
    "tags": []
   },
   "source": [
    "#### Save/load\n",
    "Only necessary if you have not calculated accessibility yet."
   ]
  },
  {
   "cell_type": "code",
   "execution_count": 10,
   "id": "6bc78cb7",
   "metadata": {
    "papermill": {
     "duration": 0.970307,
     "end_time": "2022-01-17T13:30:22.036269",
     "exception": false,
     "start_time": "2022-01-17T13:30:21.065962",
     "status": "completed"
    },
    "tags": []
   },
   "outputs": [
    {
     "name": "stdout",
     "output_type": "stream",
     "text": [
      "Loaded /lustre1/project/stg_00002/lcb/fderop/data/20211215_hca_benchmark_github/4_downsampled_data_individual_samples/downstream_analysis/region_bin_topics.pkl\n"
     ]
    }
   ],
   "source": [
    "f_out = os.path.join(f_final_dir, 'region_bin_topics.pkl')\n",
    "if os.path.isfile(f_out):\n",
    "    with open(f_out, 'rb') as f:\n",
    "        region_bin_topics_dict = pickle.load(f)\n",
    "    print(f\"Loaded {f_out}\")"
   ]
  },
  {
   "cell_type": "code",
   "execution_count": 11,
   "id": "845dc823",
   "metadata": {
    "papermill": {
     "duration": 0.030806,
     "end_time": "2022-01-17T13:30:22.090357",
     "exception": false,
     "start_time": "2022-01-17T13:30:22.059551",
     "status": "completed"
    },
    "tags": []
   },
   "outputs": [
    {
     "data": {
      "text/plain": [
       "dict_keys(['VIB_Hydrop_1', 'VIB_Hydrop_2', 'Broad_1', 'Broad_2', 'Broad_mito_1', 'Broad_mito_2', 'CNAG_1', 'CNAG_2', 's3atac', 'Sanger_1', 'Sanger_2', 'Stanford_1', 'Stanford_2', 'VIB_1', 'VIB_2'])"
      ]
     },
     "execution_count": 11,
     "metadata": {},
     "output_type": "execute_result"
    }
   ],
   "source": [
    "region_bin_topics_dict.keys()"
   ]
  },
  {
   "cell_type": "code",
   "execution_count": 12,
   "id": "5cd50f8d",
   "metadata": {
    "papermill": {
     "duration": 0.122224,
     "end_time": "2022-01-17T13:30:22.236516",
     "exception": false,
     "start_time": "2022-01-17T13:30:22.114292",
     "status": "completed"
    },
    "tags": []
   },
   "outputs": [
    {
     "name": "stdout",
     "output_type": "stream",
     "text": [
      "Loaded /lustre1/project/stg_00002/lcb/fderop/data/20211215_hca_benchmark_github/4_downsampled_data_individual_samples/downstream_analysis/binarized_cell_topic.pkl\n"
     ]
    }
   ],
   "source": [
    "f_out = os.path.join(f_final_dir, 'binarized_cell_topic.pkl')\n",
    "if os.path.isfile(f_out):\n",
    "    with open(f_out, 'rb') as f:\n",
    "        binarized_cell_topic_dict = pickle.load(f)\n",
    "    print(f\"Loaded {f_out}\")"
   ]
  },
  {
   "cell_type": "code",
   "execution_count": 13,
   "id": "22625e7f",
   "metadata": {
    "papermill": {
     "duration": 0.03256,
     "end_time": "2022-01-17T13:30:22.293628",
     "exception": false,
     "start_time": "2022-01-17T13:30:22.261068",
     "status": "completed"
    },
    "tags": []
   },
   "outputs": [
    {
     "data": {
      "text/plain": [
       "dict_keys(['VIB_Hydrop_1', 'VIB_Hydrop_2', 'Broad_1', 'Broad_2', 'Broad_mito_1', 'Broad_mito_2', 'CNAG_1', 'CNAG_2', 's3atac', 'Sanger_1', 'Sanger_2', 'Stanford_1', 'Stanford_2', 'VIB_1', 'VIB_2'])"
      ]
     },
     "execution_count": 13,
     "metadata": {},
     "output_type": "execute_result"
    }
   ],
   "source": [
    "binarized_cell_topic_dict.keys()"
   ]
  },
  {
   "cell_type": "code",
   "execution_count": 14,
   "id": "7ca77c76",
   "metadata": {
    "papermill": {
     "duration": 13.98976,
     "end_time": "2022-01-17T13:30:36.306809",
     "exception": false,
     "start_time": "2022-01-17T13:30:22.317049",
     "status": "completed"
    },
    "tags": []
   },
   "outputs": [
    {
     "name": "stdout",
     "output_type": "stream",
     "text": [
      "Loaded /lustre1/project/stg_00002/lcb/fderop/data/20211215_hca_benchmark_github/4_downsampled_data_individual_samples/downstream_analysis/imputed_acc_obj.pkl\n"
     ]
    }
   ],
   "source": [
    "f_out = os.path.join(f_final_dir, 'imputed_acc_obj.pkl')\n",
    "if os.path.isfile(f_out):\n",
    "    with open(f_out, 'rb') as f:\n",
    "        imputed_acc_obj_dict = pickle.load(f)\n",
    "    print(f\"Loaded {f_out}\")"
   ]
  },
  {
   "cell_type": "code",
   "execution_count": 15,
   "id": "ca9f6bbb",
   "metadata": {
    "papermill": {
     "duration": 0.033896,
     "end_time": "2022-01-17T13:30:36.365634",
     "exception": false,
     "start_time": "2022-01-17T13:30:36.331738",
     "status": "completed"
    },
    "tags": []
   },
   "outputs": [
    {
     "data": {
      "text/plain": [
       "dict_keys(['VIB_Hydrop_1', 'VIB_Hydrop_2', 'Broad_1', 'Broad_2', 'Broad_mito_1', 'Broad_mito_2', 'CNAG_1', 'CNAG_2', 's3atac', 'Sanger_1', 'Sanger_2', 'Stanford_1', 'Stanford_2', 'VIB_1', 'VIB_2'])"
      ]
     },
     "execution_count": 15,
     "metadata": {},
     "output_type": "execute_result"
    }
   ],
   "source": [
    "imputed_acc_obj_dict.keys()"
   ]
  },
  {
   "cell_type": "code",
   "execution_count": 16,
   "id": "c6ee672e",
   "metadata": {
    "papermill": {
     "duration": 1.292287,
     "end_time": "2022-01-17T13:30:37.682714",
     "exception": false,
     "start_time": "2022-01-17T13:30:36.390427",
     "status": "completed"
    },
    "tags": []
   },
   "outputs": [
    {
     "name": "stdout",
     "output_type": "stream",
     "text": [
      "Loaded /lustre1/project/stg_00002/lcb/fderop/data/20211215_hca_benchmark_github/4_downsampled_data_individual_samples/downstream_analysis/markers_dict.pkl\n"
     ]
    }
   ],
   "source": [
    "f_out = os.path.join(f_final_dir, 'markers_dict.pkl')\n",
    "if os.path.isfile(f_out):\n",
    "    with open(f_out, 'rb') as f:\n",
    "        markers_dict_dict = pickle.load(f)\n",
    "    print(f\"Loaded {f_out}\")"
   ]
  },
  {
   "cell_type": "code",
   "execution_count": 17,
   "id": "f6fd20bc",
   "metadata": {
    "papermill": {
     "duration": 0.036942,
     "end_time": "2022-01-17T13:30:37.748806",
     "exception": false,
     "start_time": "2022-01-17T13:30:37.711864",
     "status": "completed"
    },
    "tags": []
   },
   "outputs": [
    {
     "data": {
      "text/plain": [
       "dict_keys(['VIB_Hydrop_1', 'VIB_Hydrop_2', 'Broad_1', 'Broad_2', 'Broad_mito_1', 'Broad_mito_2', 'CNAG_1', 'CNAG_2', 's3atac', 'Sanger_1', 'Sanger_2', 'Stanford_1', 'Stanford_2', 'VIB_1', 'VIB_2'])"
      ]
     },
     "execution_count": 17,
     "metadata": {},
     "output_type": "execute_result"
    }
   ],
   "source": [
    "markers_dict_dict.keys()"
   ]
  },
  {
   "cell_type": "markdown",
   "id": "a0fa27c7",
   "metadata": {
    "papermill": {
     "duration": 0.024671,
     "end_time": "2022-01-17T13:30:37.797958",
     "exception": false,
     "start_time": "2022-01-17T13:30:37.773287",
     "status": "completed"
    },
    "tags": []
   },
   "source": [
    "## Infer or load gene activity"
   ]
  },
  {
   "cell_type": "code",
   "execution_count": 18,
   "id": "5b52e10c",
   "metadata": {
    "papermill": {
     "duration": 0.07904,
     "end_time": "2022-01-17T13:30:37.901613",
     "exception": false,
     "start_time": "2022-01-17T13:30:37.822573",
     "status": "completed"
    },
    "tags": []
   },
   "outputs": [],
   "source": [
    "import pyranges as pr\n",
    "import requests\n",
    "import pybiomart as pbm"
   ]
  },
  {
   "cell_type": "code",
   "execution_count": 19,
   "id": "67b45f18",
   "metadata": {
    "papermill": {
     "duration": 0.035664,
     "end_time": "2022-01-17T13:30:37.962351",
     "exception": false,
     "start_time": "2022-01-17T13:30:37.926687",
     "status": "completed"
    },
    "tags": []
   },
   "outputs": [],
   "source": [
    "from pycisTopic.gene_activity import get_gene_activity\n",
    "from pycisTopic.diff_features import find_diff_features"
   ]
  },
  {
   "cell_type": "code",
   "execution_count": 20,
   "id": "10092fe3",
   "metadata": {
    "papermill": {
     "duration": 6.9057,
     "end_time": "2022-01-17T13:30:44.991695",
     "exception": false,
     "start_time": "2022-01-17T13:30:38.085995",
     "status": "completed"
    },
    "tags": []
   },
   "outputs": [
    {
     "name": "stdout",
     "output_type": "stream",
     "text": [
      "Loading /lustre1/project/stg_00002/lcb/fderop/data/20211215_hca_benchmark_github/4_downsampled_data_individual_samples/downstream_analysis/gene_act_dict.pkl\n"
     ]
    }
   ],
   "source": [
    "f_out = os.path.join(f_final_dir, 'gene_act_dict.pkl')\n",
    "if os.path.isfile(f_out):\n",
    "    print(f\"Loading {f_out}\")\n",
    "    with open(f_out, 'rb') as f:\n",
    "        gene_act_dict = pickle.load(f)\n",
    "else:\n",
    "    from pycisTopic.gene_activity import get_gene_activity\n",
    "    from pycisTopic.diff_features import find_diff_features\n",
    "    # For human\n",
    "    dataset = pbm.Dataset(name='hsapiens_gene_ensembl',  host='http://www.ensembl.org')\n",
    "    annot = dataset.query(attributes=['chromosome_name', 'start_position', 'end_position', 'strand', 'external_gene_name', 'transcription_start_site', 'transcript_biotype'])\n",
    "    annot['Chromosome/scaffold name'] = 'chr' + annot['Chromosome/scaffold name'].astype(str)\n",
    "    annot.columns=['Chromosome', 'Start', 'End', 'Strand', 'Gene','Transcription_Start_Site', 'Transcript_type']\n",
    "    annot = annot[annot.Transcript_type == 'protein_coding']\n",
    "    annot.Strand[annot.Strand == 1] = '+'\n",
    "    annot.Strand[annot.Strand == -1] = '-'\n",
    "    pr_annotation = pr.PyRanges(annot.dropna(axis = 0))\n",
    "    pr_annotation\n",
    "\n",
    "    # get chromosome sizes (hg38)\n",
    "    target_url = 'http://hgdownload.cse.ucsc.edu/goldenPath/hg38/bigZips/hg38.chrom.sizes'\n",
    "    chromsizes = pd.read_csv(target_url, sep='\\t', header=None)\n",
    "    chromsizes.columns = ['Chromosome', 'End']\n",
    "    chromsizes['Start'] = [0]*chromsizes.shape[0]\n",
    "    chromsizes = chromsizes.loc[:,['Chromosome', 'Start', 'End']]\n",
    "    chromsizes = pr.PyRanges(chromsizes)\n",
    "    chromsizes\n",
    "\n",
    "    gene_act_dict = {}\n",
    "    for key in cistopic_obj_dict.keys():\n",
    "        print(key)\n",
    "        gene_act, weights = get_gene_activity(\n",
    "            imputed_acc_obj_dict[key], # Region-cell probabilities\n",
    "            pr_annotation, # Gene annotation\n",
    "            chromsizes, # Chromosome size\n",
    "            use_gene_boundaries=True, # Whether to use the whole search space or stop when encountering another gene\n",
    "            upstream=[1000, 100000], # Search space upstream. The minimum means that even if there is a gene right next to it \n",
    "                                     #these bp will be taken (1kbp here)\n",
    "            downstream=[1000,100000], # Search space downstream\n",
    "            distance_weight=True, # Whether to add a distance weight (an exponential function, the weight will decrease with distance)\n",
    "            decay_rate=1, # Exponent for the distance exponential funciton (the higher the faster will be the decrease)\n",
    "            extend_gene_body_upstream=10000, # Number of bp upstream immune to the distance weight (their value will be maximum for \n",
    "                                             #this weight)\n",
    "            extend_gene_body_downstream=500, # Number of bp downstream immune to the distance weight\n",
    "            gene_size_weight=False, # Whether to add a weights based on the length of the gene\n",
    "            gene_size_scale_factor='median', # Dividend to calculate the gene size weigth. Default is the median value of all genes\n",
    "                                             #in the genome\n",
    "            remove_promoters=False, # Whether to remove promoters when computing gene activity scores\n",
    "            average_scores=True, # Whether to divide by the total number of region assigned to a gene when calculating the gene \n",
    "                                 # activity score\n",
    "            scale_factor=1, # Value to multiply for the final gene activity matrix\n",
    "            extend_tss=[10,10], # Space to consider a promoter\n",
    "            gini_weight = True, # Whether to add a gini index weigth. The more unique the region is, the higher this weight will be\n",
    "            return_weights= True, # Whether to return the final weights\n",
    "            project='Gene_activity') # Project name for the gene activity object\n",
    "        gene_act_dict[key] = copy.copy(gene_act)\n",
    "\n",
    "    with open(f_out, 'wb') as f:\n",
    "        pickle.dump(gene_act_dict, f)\n",
    "    print(f'saved {f_out}')"
   ]
  },
  {
   "cell_type": "code",
   "execution_count": 21,
   "id": "001981d8",
   "metadata": {
    "papermill": {
     "duration": 0.038337,
     "end_time": "2022-01-17T13:30:45.057746",
     "exception": false,
     "start_time": "2022-01-17T13:30:45.019409",
     "status": "completed"
    },
    "tags": []
   },
   "outputs": [
    {
     "data": {
      "text/plain": [
       "{'Broad_1': <pycisTopic.diff_features.CistopicImputedFeatures at 0x2b5b05a67370>,\n",
       " 'Broad_2': <pycisTopic.diff_features.CistopicImputedFeatures at 0x2b5b05a762e0>,\n",
       " 'Stanford_1': <pycisTopic.diff_features.CistopicImputedFeatures at 0x2b5b05a59130>,\n",
       " 'Stanford_2': <pycisTopic.diff_features.CistopicImputedFeatures at 0x2b5b05a59c70>,\n",
       " 'VIB_1': <pycisTopic.diff_features.CistopicImputedFeatures at 0x2b5b05a59400>,\n",
       " 'VIB_2': <pycisTopic.diff_features.CistopicImputedFeatures at 0x2b5b05a11490>,\n",
       " 'CNAG_1': <pycisTopic.diff_features.CistopicImputedFeatures at 0x2b5b05a11d00>,\n",
       " 'CNAG_2': <pycisTopic.diff_features.CistopicImputedFeatures at 0x2b5b05a11a30>,\n",
       " 'Broad_mito_1': <pycisTopic.diff_features.CistopicImputedFeatures at 0x2b5b05a1be20>,\n",
       " 'Broad_mito_2': <pycisTopic.diff_features.CistopicImputedFeatures at 0x2b5b05a1bb50>,\n",
       " 'Sanger_1': <pycisTopic.diff_features.CistopicImputedFeatures at 0x2b5b05b400a0>,\n",
       " 'Sanger_2': <pycisTopic.diff_features.CistopicImputedFeatures at 0x2b5b05b40910>,\n",
       " 'VIB_Hydrop_1': <pycisTopic.diff_features.CistopicImputedFeatures at 0x2b5b05b40eb0>,\n",
       " 'VIB_Hydrop_2': <pycisTopic.diff_features.CistopicImputedFeatures at 0x2b5b05b6d1c0>,\n",
       " 's3atac': <pycisTopic.diff_features.CistopicImputedFeatures at 0x2b5b05b6da30>}"
      ]
     },
     "execution_count": 21,
     "metadata": {},
     "output_type": "execute_result"
    }
   ],
   "source": [
    "gene_act_dict"
   ]
  },
  {
   "cell_type": "code",
   "execution_count": 22,
   "id": "38305729",
   "metadata": {
    "papermill": {
     "duration": 0.044082,
     "end_time": "2022-01-17T13:30:45.127586",
     "exception": false,
     "start_time": "2022-01-17T13:30:45.083504",
     "status": "completed"
    },
    "tags": []
   },
   "outputs": [
    {
     "name": "stdout",
     "output_type": "stream",
     "text": [
      "printing sample Broad_1 at /lustre1/project/stg_00002/lcb/fderop/data/20211215_hca_benchmark_github/4_downsampled_data_individual_samples/downstream_analysis/Broad_1__libds__gene_act.pkl\n",
      "\talready existed!\n",
      "printing sample Broad_2 at /lustre1/project/stg_00002/lcb/fderop/data/20211215_hca_benchmark_github/4_downsampled_data_individual_samples/downstream_analysis/Broad_2__libds__gene_act.pkl\n",
      "\talready existed!\n",
      "printing sample Stanford_1 at /lustre1/project/stg_00002/lcb/fderop/data/20211215_hca_benchmark_github/4_downsampled_data_individual_samples/downstream_analysis/Stanford_1__libds__gene_act.pkl\n",
      "\talready existed!\n",
      "printing sample Stanford_2 at /lustre1/project/stg_00002/lcb/fderop/data/20211215_hca_benchmark_github/4_downsampled_data_individual_samples/downstream_analysis/Stanford_2__libds__gene_act.pkl\n",
      "\talready existed!\n",
      "printing sample VIB_1 at /lustre1/project/stg_00002/lcb/fderop/data/20211215_hca_benchmark_github/4_downsampled_data_individual_samples/downstream_analysis/VIB_1__libds__gene_act.pkl\n",
      "\talready existed!\n",
      "printing sample VIB_2 at /lustre1/project/stg_00002/lcb/fderop/data/20211215_hca_benchmark_github/4_downsampled_data_individual_samples/downstream_analysis/VIB_2__libds__gene_act.pkl\n",
      "\talready existed!\n",
      "printing sample CNAG_1 at /lustre1/project/stg_00002/lcb/fderop/data/20211215_hca_benchmark_github/4_downsampled_data_individual_samples/downstream_analysis/CNAG_1__libds__gene_act.pkl\n",
      "\talready existed!\n",
      "printing sample CNAG_2 at /lustre1/project/stg_00002/lcb/fderop/data/20211215_hca_benchmark_github/4_downsampled_data_individual_samples/downstream_analysis/CNAG_2__libds__gene_act.pkl\n",
      "\talready existed!\n",
      "printing sample Broad_mito_1 at /lustre1/project/stg_00002/lcb/fderop/data/20211215_hca_benchmark_github/4_downsampled_data_individual_samples/downstream_analysis/Broad_mito_1__libds__gene_act.pkl\n",
      "\talready existed!\n",
      "printing sample Broad_mito_2 at /lustre1/project/stg_00002/lcb/fderop/data/20211215_hca_benchmark_github/4_downsampled_data_individual_samples/downstream_analysis/Broad_mito_2__libds__gene_act.pkl\n",
      "\talready existed!\n",
      "printing sample Sanger_1 at /lustre1/project/stg_00002/lcb/fderop/data/20211215_hca_benchmark_github/4_downsampled_data_individual_samples/downstream_analysis/Sanger_1__libds__gene_act.pkl\n",
      "\talready existed!\n",
      "printing sample Sanger_2 at /lustre1/project/stg_00002/lcb/fderop/data/20211215_hca_benchmark_github/4_downsampled_data_individual_samples/downstream_analysis/Sanger_2__libds__gene_act.pkl\n",
      "\talready existed!\n",
      "printing sample VIB_Hydrop_1 at /lustre1/project/stg_00002/lcb/fderop/data/20211215_hca_benchmark_github/4_downsampled_data_individual_samples/downstream_analysis/VIB_Hydrop_1__libds__gene_act.pkl\n",
      "\talready existed!\n",
      "printing sample VIB_Hydrop_2 at /lustre1/project/stg_00002/lcb/fderop/data/20211215_hca_benchmark_github/4_downsampled_data_individual_samples/downstream_analysis/VIB_Hydrop_2__libds__gene_act.pkl\n",
      "\talready existed!\n",
      "printing sample s3atac at /lustre1/project/stg_00002/lcb/fderop/data/20211215_hca_benchmark_github/4_downsampled_data_individual_samples/downstream_analysis/s3atac__libds__gene_act.pkl\n",
      "\talready existed!\n"
     ]
    }
   ],
   "source": [
    "for key in gene_act_dict.keys():\n",
    "    f_out = os.path.join(f_final_dir, key + '__libds__gene_act.pkl')\n",
    "    print(f'printing sample {key} at {f_out}')\n",
    "    if os.path.isfile(f_out):\n",
    "        print(f\"\\talready existed!\")\n",
    "    else:\n",
    "        with open(f_out, 'wb') as f:\n",
    "            pickle.dump(gene_act_dict[key], f)\n",
    "        print(\"\\tdone\")"
   ]
  },
  {
   "cell_type": "markdown",
   "id": "8f7b27fe",
   "metadata": {
    "papermill": {
     "duration": 0.025551,
     "end_time": "2022-01-17T13:30:45.181476",
     "exception": false,
     "start_time": "2022-01-17T13:30:45.155925",
     "status": "completed"
    },
    "tags": []
   },
   "source": [
    "## Export to loom"
   ]
  },
  {
   "cell_type": "code",
   "execution_count": 23,
   "id": "f0525648",
   "metadata": {
    "papermill": {
     "duration": 2.590366,
     "end_time": "2022-01-17T13:30:47.806482",
     "exception": false,
     "start_time": "2022-01-17T13:30:45.216116",
     "status": "completed"
    },
    "tags": []
   },
   "outputs": [
    {
     "name": "stdout",
     "output_type": "stream",
     "text": [
      "Loaded /lustre1/project/stg_00002/lcb/fderop/data/20211215_hca_benchmark_github/4_downsampled_data_individual_samples/downstream_analysis/gene_act_dict.pkl\n"
     ]
    }
   ],
   "source": [
    "f_out = os.path.join(f_final_dir, 'gene_act_dict.pkl')\n",
    "if os.path.isfile(f_out):\n",
    "    with open(f_out, 'rb') as f:\n",
    "        gene_act_dict = pickle.load(f)\n",
    "    print(f\"Loaded {f_out}\")"
   ]
  },
  {
   "cell_type": "code",
   "execution_count": 24,
   "id": "a840edd2",
   "metadata": {
    "papermill": {
     "duration": 0.036171,
     "end_time": "2022-01-17T13:30:47.872246",
     "exception": false,
     "start_time": "2022-01-17T13:30:47.836075",
     "status": "completed"
    },
    "tags": []
   },
   "outputs": [
    {
     "data": {
      "text/plain": [
       "dict_keys(['Broad_1', 'Broad_2', 'Stanford_1', 'Stanford_2', 'VIB_1', 'VIB_2', 'CNAG_1', 'CNAG_2', 'Broad_mito_1', 'Broad_mito_2', 'Sanger_1', 'Sanger_2', 'VIB_Hydrop_1', 'VIB_Hydrop_2', 's3atac'])"
      ]
     },
     "execution_count": 24,
     "metadata": {},
     "output_type": "execute_result"
    }
   ],
   "source": [
    "gene_act_dict.keys()"
   ]
  },
  {
   "cell_type": "code",
   "execution_count": 25,
   "id": "3fdbd371",
   "metadata": {
    "papermill": {
     "duration": 0.038631,
     "end_time": "2022-01-17T13:30:47.942403",
     "exception": false,
     "start_time": "2022-01-17T13:30:47.903772",
     "status": "completed"
    },
    "tags": []
   },
   "outputs": [],
   "source": [
    "f_gene_loom_dir = os.path.join(f_final_dir, 'gene_act_loom')\n",
    "if not os.path.exists(f_gene_loom_dir):\n",
    "    os.makedirs(f_gene_loom_dir)"
   ]
  },
  {
   "cell_type": "code",
   "execution_count": 26,
   "id": "788f3241",
   "metadata": {
    "papermill": {
     "duration": 3.532349,
     "end_time": "2022-01-17T13:30:51.505995",
     "exception": false,
     "start_time": "2022-01-17T13:30:47.973646",
     "status": "completed"
    },
    "tags": []
   },
   "outputs": [],
   "source": [
    "from pycisTopic.loom import (\n",
    "    export_region_accessibility_to_loom,\n",
    "    export_gene_activity_to_loom\n",
    ")"
   ]
  },
  {
   "cell_type": "markdown",
   "id": "2b7dfb9a",
   "metadata": {
    "papermill": {
     "duration": 0.029192,
     "end_time": "2022-01-17T13:30:51.566697",
     "exception": false,
     "start_time": "2022-01-17T13:30:51.537505",
     "status": "completed"
    },
    "tags": []
   },
   "source": [
    "### Gene activity"
   ]
  },
  {
   "cell_type": "code",
   "execution_count": 27,
   "id": "55f4363b",
   "metadata": {
    "papermill": {
     "duration": 0.040155,
     "end_time": "2022-01-17T13:30:51.635046",
     "exception": false,
     "start_time": "2022-01-17T13:30:51.594891",
     "status": "completed"
    },
    "tags": []
   },
   "outputs": [],
   "source": [
    "from ctxcore.genesig import Regulon\n",
    "\n",
    "# generate a dummy regulon (required for export_gene_activity_to_loom):\n",
    "phreg = Regulon(\n",
    "        name='placeholder regulon',\n",
    "        gene2weight={'phreg': 1.0},\n",
    "        transcription_factor=\"phreg\",\n",
    "        gene2occurrence={\"phreg\": 1},\n",
    "    )"
   ]
  },
  {
   "cell_type": "code",
   "execution_count": 28,
   "id": "3df76374",
   "metadata": {
    "papermill": {
     "duration": 0.038535,
     "end_time": "2022-01-17T13:30:51.702267",
     "exception": false,
     "start_time": "2022-01-17T13:30:51.663732",
     "status": "completed"
    },
    "tags": []
   },
   "outputs": [],
   "source": [
    "alias_dict_nospace = {}\n",
    "for key in alias_dict.keys():\n",
    "    alias_dict_nospace[key] = alias_dict[key].replace(' ','_')"
   ]
  },
  {
   "cell_type": "code",
   "execution_count": 29,
   "id": "925f7329",
   "metadata": {
    "papermill": {
     "duration": 0.046916,
     "end_time": "2022-01-17T13:30:51.776213",
     "exception": false,
     "start_time": "2022-01-17T13:30:51.729297",
     "status": "completed"
    },
    "tags": []
   },
   "outputs": [
    {
     "name": "stdout",
     "output_type": "stream",
     "text": [
      "Broad_1\n",
      "Skipping /lustre1/project/stg_00002/lcb/fderop/data/20211215_hca_benchmark_github/4_downsampled_data_individual_samples/downstream_analysis/gene_act_loom/BioRad_ATAC_1__libds_gene_activity.loom: already exists.\n",
      "Broad_2\n",
      "Skipping /lustre1/project/stg_00002/lcb/fderop/data/20211215_hca_benchmark_github/4_downsampled_data_individual_samples/downstream_analysis/gene_act_loom/BioRad_ATAC_2__libds_gene_activity.loom: already exists.\n",
      "Stanford_1\n",
      "Skipping /lustre1/project/stg_00002/lcb/fderop/data/20211215_hca_benchmark_github/4_downsampled_data_individual_samples/downstream_analysis/gene_act_loom/10x_ATAC_A1__libds_gene_activity.loom: already exists.\n",
      "Stanford_2\n",
      "Skipping /lustre1/project/stg_00002/lcb/fderop/data/20211215_hca_benchmark_github/4_downsampled_data_individual_samples/downstream_analysis/gene_act_loom/10x_ATAC_A2__libds_gene_activity.loom: already exists.\n",
      "VIB_1\n",
      "Skipping /lustre1/project/stg_00002/lcb/fderop/data/20211215_hca_benchmark_github/4_downsampled_data_individual_samples/downstream_analysis/gene_act_loom/10x_ATAC_B1__libds_gene_activity.loom: already exists.\n",
      "VIB_2\n",
      "Skipping /lustre1/project/stg_00002/lcb/fderop/data/20211215_hca_benchmark_github/4_downsampled_data_individual_samples/downstream_analysis/gene_act_loom/10x_ATAC_B2__libds_gene_activity.loom: already exists.\n",
      "CNAG_1\n",
      "Skipping /lustre1/project/stg_00002/lcb/fderop/data/20211215_hca_benchmark_github/4_downsampled_data_individual_samples/downstream_analysis/gene_act_loom/10x_ATAC_C1__libds_gene_activity.loom: already exists.\n",
      "CNAG_2\n",
      "Skipping /lustre1/project/stg_00002/lcb/fderop/data/20211215_hca_benchmark_github/4_downsampled_data_individual_samples/downstream_analysis/gene_act_loom/10x_ATAC_C2__libds_gene_activity.loom: already exists.\n",
      "Broad_mito_1\n",
      "Skipping /lustre1/project/stg_00002/lcb/fderop/data/20211215_hca_benchmark_github/4_downsampled_data_individual_samples/downstream_analysis/gene_act_loom/10x_mtATAC_1__libds_gene_activity.loom: already exists.\n",
      "Broad_mito_2\n",
      "Skipping /lustre1/project/stg_00002/lcb/fderop/data/20211215_hca_benchmark_github/4_downsampled_data_individual_samples/downstream_analysis/gene_act_loom/10x_mtATAC_2__libds_gene_activity.loom: already exists.\n",
      "Sanger_1\n",
      "Skipping /lustre1/project/stg_00002/lcb/fderop/data/20211215_hca_benchmark_github/4_downsampled_data_individual_samples/downstream_analysis/gene_act_loom/10x_Multiome_1__libds_gene_activity.loom: already exists.\n",
      "Sanger_2\n",
      "Skipping /lustre1/project/stg_00002/lcb/fderop/data/20211215_hca_benchmark_github/4_downsampled_data_individual_samples/downstream_analysis/gene_act_loom/10x_Multiome_2__libds_gene_activity.loom: already exists.\n",
      "VIB_Hydrop_1\n",
      "Skipping /lustre1/project/stg_00002/lcb/fderop/data/20211215_hca_benchmark_github/4_downsampled_data_individual_samples/downstream_analysis/gene_act_loom/Hydrop_ATAC_1__libds_gene_activity.loom: already exists.\n",
      "VIB_Hydrop_2\n",
      "Skipping /lustre1/project/stg_00002/lcb/fderop/data/20211215_hca_benchmark_github/4_downsampled_data_individual_samples/downstream_analysis/gene_act_loom/Hydrop_ATAC_2__libds_gene_activity.loom: already exists.\n",
      "s3atac\n",
      "Skipping /lustre1/project/stg_00002/lcb/fderop/data/20211215_hca_benchmark_github/4_downsampled_data_individual_samples/downstream_analysis/gene_act_loom/s3_ATAC__libds_gene_activity.loom: already exists.\n"
     ]
    }
   ],
   "source": [
    "for key in cistopic_obj_dict.keys():\n",
    "    print(key)\n",
    "    f_out = os.path.join(f_gene_loom_dir, alias_dict_nospace[key] + '__libds_gene_activity.loom')\n",
    "    if os.path.exists(f_out):\n",
    "        print(f\"Skipping {f_out}: already exists.\")\n",
    "        continue\n",
    "        \n",
    "    export_gene_activity_to_loom(\n",
    "        gene_activity_matrix = gene_act_dict[key],\n",
    "        cistopic_obj = cistopic_obj_dict[key], \n",
    "        regulons = [phreg],\n",
    "        # selected_cells = [ x.split('-')[0] + '-' + x.split('-')[1]  for x in cistopic_obj_dict[key].cell_names ], # this leaves a cell barcode of the format type 'TGCATGTCGCCGTTCCAAGA-21'\n",
    "        # selected_cells = cistopic_obj_dict[key].projections['cell']['UMAP'].index.tolist(), # cflerin original \n",
    "        out_fname = f_out,\n",
    "        cluster_annotation = ['consensus_cell_type', 'fmx_sample'],\n",
    "        cluster_markers = {'consensus_cell_type': markers_dict_dict[key], 'fmx_sample':{}},\n",
    "        tree_structure = ('scATAC', 'Gene_activity'),\n",
    "        title = f'Gene activity from library-downsampled dataset {alias_dict[key]}',\n",
    "        nomenclature = \"hg38\"\n",
    "    )"
   ]
  },
  {
   "cell_type": "markdown",
   "id": "b906235f",
   "metadata": {
    "papermill": {
     "duration": 0.026601,
     "end_time": "2022-01-17T13:30:51.833330",
     "exception": false,
     "start_time": "2022-01-17T13:30:51.806729",
     "status": "completed"
    },
    "tags": []
   },
   "source": [
    "### Region accessibility"
   ]
  },
  {
   "cell_type": "code",
   "execution_count": 30,
   "id": "15d457fb",
   "metadata": {
    "papermill": {
     "duration": 0.034547,
     "end_time": "2022-01-17T13:30:51.895057",
     "exception": false,
     "start_time": "2022-01-17T13:30:51.860510",
     "status": "completed"
    },
    "tags": []
   },
   "outputs": [],
   "source": [
    "f_region_loom_dir = os.path.join(f_final_dir, 'region_acc_loom')\n",
    "if not os.path.exists(f_region_loom_dir):\n",
    "    os.makedirs(f_region_loom_dir)"
   ]
  },
  {
   "cell_type": "code",
   "execution_count": null,
   "id": "c1980fda",
   "metadata": {
    "papermill": {
     "duration": 0.043175,
     "end_time": "2022-01-17T13:30:51.965217",
     "exception": false,
     "start_time": "2022-01-17T13:30:51.922042",
     "status": "completed"
    },
    "tags": []
   },
   "outputs": [
    {
     "name": "stdout",
     "output_type": "stream",
     "text": [
      "Broad_1\n",
      "Skipping /lustre1/project/stg_00002/lcb/fderop/data/20211215_hca_benchmark_github/4_downsampled_data_individual_samples/downstream_analysis/region_acc_loom/BioRad_ATAC_1__libds_region_accessibility.loom: already exists.\n",
      "Broad_2\n",
      "Skipping /lustre1/project/stg_00002/lcb/fderop/data/20211215_hca_benchmark_github/4_downsampled_data_individual_samples/downstream_analysis/region_acc_loom/BioRad_ATAC_2__libds_region_accessibility.loom: already exists.\n",
      "Stanford_1\n",
      "Skipping /lustre1/project/stg_00002/lcb/fderop/data/20211215_hca_benchmark_github/4_downsampled_data_individual_samples/downstream_analysis/region_acc_loom/10x_ATAC_A1__libds_region_accessibility.loom: already exists.\n",
      "Stanford_2\n",
      "Skipping /lustre1/project/stg_00002/lcb/fderop/data/20211215_hca_benchmark_github/4_downsampled_data_individual_samples/downstream_analysis/region_acc_loom/10x_ATAC_A2__libds_region_accessibility.loom: already exists.\n",
      "VIB_1\n",
      "Skipping /lustre1/project/stg_00002/lcb/fderop/data/20211215_hca_benchmark_github/4_downsampled_data_individual_samples/downstream_analysis/region_acc_loom/10x_ATAC_B1__libds_region_accessibility.loom: already exists.\n",
      "VIB_2\n",
      "Skipping /lustre1/project/stg_00002/lcb/fderop/data/20211215_hca_benchmark_github/4_downsampled_data_individual_samples/downstream_analysis/region_acc_loom/10x_ATAC_B2__libds_region_accessibility.loom: already exists.\n",
      "CNAG_1\n",
      "Skipping /lustre1/project/stg_00002/lcb/fderop/data/20211215_hca_benchmark_github/4_downsampled_data_individual_samples/downstream_analysis/region_acc_loom/10x_ATAC_C1__libds_region_accessibility.loom: already exists.\n",
      "CNAG_2\n",
      "Skipping /lustre1/project/stg_00002/lcb/fderop/data/20211215_hca_benchmark_github/4_downsampled_data_individual_samples/downstream_analysis/region_acc_loom/10x_ATAC_C2__libds_region_accessibility.loom: already exists.\n",
      "Broad_mito_1\n",
      "Skipping /lustre1/project/stg_00002/lcb/fderop/data/20211215_hca_benchmark_github/4_downsampled_data_individual_samples/downstream_analysis/region_acc_loom/10x_mtATAC_1__libds_region_accessibility.loom: already exists.\n",
      "Broad_mito_2\n",
      "Skipping /lustre1/project/stg_00002/lcb/fderop/data/20211215_hca_benchmark_github/4_downsampled_data_individual_samples/downstream_analysis/region_acc_loom/10x_mtATAC_2__libds_region_accessibility.loom: already exists.\n",
      "Sanger_1\n",
      "Skipping /lustre1/project/stg_00002/lcb/fderop/data/20211215_hca_benchmark_github/4_downsampled_data_individual_samples/downstream_analysis/region_acc_loom/10x_Multiome_1__libds_region_accessibility.loom: already exists.\n",
      "Sanger_2\n",
      "Skipping /lustre1/project/stg_00002/lcb/fderop/data/20211215_hca_benchmark_github/4_downsampled_data_individual_samples/downstream_analysis/region_acc_loom/10x_Multiome_2__libds_region_accessibility.loom: already exists.\n",
      "VIB_Hydrop_1\n",
      "2022-01-18 10:41:49,174 cisTopic     INFO     Creating minimal loom\n",
      "Regulon name does not seem to be compatible with SCOPE. It should include a space to allow selection of the TF. \n",
      "Please run: \n",
      " regulons = [r.rename(r.name.replace('(+)',' ('+str(len(r))+'g)')) for r in regulons] \n",
      "or:\n",
      " regulons = [r.rename(r.name.replace('(',' (')) for r in regulons]\n"
     ]
    }
   ],
   "source": [
    "for key in cistopic_obj_dict.keys():\n",
    "    print(key)\n",
    "    s = 'merged' if key=='libds_merged' else key\n",
    "    f_out = os.path.join(f_region_loom_dir, alias_dict_nospace[key] + '__libds_region_accessibility.loom')\n",
    "\n",
    "    if os.path.exists(f_out):\n",
    "        print(f\"Skipping {f_out}: already exists.\")\n",
    "        continue\n",
    "    # Subset regions, we will use only regions in topics and DARs here to make it faster\n",
    "    regions_in_topics = list(set(sum([region_bin_topics_dict[key][i].index.tolist() for i in region_bin_topics_dict[key].keys()],[])))\n",
    "    regions_in_DARs = list(set(sum([markers_dict_dict[key][i].index.tolist() for i in markers_dict_dict[key].keys()],[])))\n",
    "    # make sure we only take regions that actually exist in the accessibility matrix:\n",
    "    selected_regions = list(set(regions_in_topics + regions_in_DARs).intersection(set(imputed_acc_obj_dict[key].feature_names)))\n",
    "\n",
    "    # Export to loom\n",
    "    export_region_accessibility_to_loom(\n",
    "        accessibility_matrix = imputed_acc_obj_dict[key],\n",
    "        cistopic_obj = cistopic_obj_dict[key], \n",
    "        binarized_topic_region = region_bin_topics_dict[key],\n",
    "        binarized_cell_topic = binarized_cell_topic_dict[key],\n",
    "        out_fname = f_out,\n",
    "        selected_regions = selected_regions ,\n",
    "        # selected_cells = [ x.split('-')[0] + '-' + x.split('-')[1]  for x in cistopic_obj_dict[key].cell_names ], # this leaves a cell barcode of the format type 'TGCATGTCGCCGTTCCAAGA-21'\n",
    "        # selected_cells = cistopic_obj_dict[key].projections['cell']['UMAP'].index.tolist(), # cflerin original\n",
    "        cluster_annotation = ['consensus_cell_type', 'fmx_screen'],\n",
    "        cluster_markers = {'consensus_cell_type': markers_dict_dict[key], 'fmx_screen':{}},\n",
    "        tree_structure = ('scATAC', 'Region_accessibility'),\n",
    "        title = f'Region accessibility from library-downsampled dataset {alias_dict[key]}',\n",
    "        nomenclature = \"hg38\"\n",
    "    )"
   ]
  },
  {
   "cell_type": "markdown",
   "id": "a26e1bc5",
   "metadata": {
    "papermill": {
     "duration": 0.027243,
     "end_time": "2022-01-17T13:30:52.021252",
     "exception": false,
     "start_time": "2022-01-17T13:30:51.994009",
     "status": "completed"
    },
    "tags": []
   },
   "source": [
    "# open gene activity loom and fix annotations"
   ]
  },
  {
   "cell_type": "code",
   "execution_count": null,
   "id": "28fc9b3c",
   "metadata": {
    "papermill": {
     "duration": 0.036584,
     "end_time": "2022-01-17T13:30:52.085958",
     "exception": false,
     "start_time": "2022-01-17T13:30:52.049374",
     "status": "completed"
    },
    "tags": []
   },
   "outputs": [],
   "source": [
    "import loompy as lp\n",
    "import json\n",
    "import copy\n",
    "import glob\n",
    "from collections import OrderedDict"
   ]
  },
  {
   "cell_type": "markdown",
   "id": "2f3d6ecc",
   "metadata": {
    "papermill": {
     "duration": 0.028387,
     "end_time": "2022-01-17T13:30:52.142556",
     "exception": false,
     "start_time": "2022-01-17T13:30:52.114169",
     "status": "completed"
    },
    "tags": []
   },
   "source": [
    "exclude 'barcode' annotation"
   ]
  },
  {
   "cell_type": "code",
   "execution_count": null,
   "id": "58ccead1",
   "metadata": {
    "papermill": {
     "duration": 0.039739,
     "end_time": "2022-01-17T13:30:52.209985",
     "exception": false,
     "start_time": "2022-01-17T13:30:52.170246",
     "status": "completed"
    },
    "tags": []
   },
   "outputs": [],
   "source": [
    "filenames = sorted(glob.glob(f_gene_loom_dir+'/*loom'))\n",
    "samples = [item.replace(\"__libds_gene_activity.loom\", \"\") for item in filenames]\n",
    "samples = [item.replace(\"/lustre1/project/stg_00002/lcb/fderop/data/20211215_hca_benchmark_github/4_downsampled_data_individual_samples/downstream_analysis/gene_act_loom/\", \"\") for item in samples]\n",
    "loom_dict = {samples[i]: filenames[i] for i in range(len(samples))}\n",
    "loom_dict = OrderedDict(loom_dict)"
   ]
  },
  {
   "cell_type": "code",
   "execution_count": null,
   "id": "fd143636",
   "metadata": {
    "papermill": {
     "duration": 0.03572,
     "end_time": "2022-01-17T13:30:52.272761",
     "exception": false,
     "start_time": "2022-01-17T13:30:52.237041",
     "status": "completed"
    },
    "tags": []
   },
   "outputs": [],
   "source": [
    "loom_dict"
   ]
  },
  {
   "cell_type": "code",
   "execution_count": null,
   "id": "0317c456",
   "metadata": {
    "papermill": {
     "duration": 1.715216,
     "end_time": "2022-01-17T13:30:54.016879",
     "exception": false,
     "start_time": "2022-01-17T13:30:52.301663",
     "status": "completed"
    },
    "tags": []
   },
   "outputs": [],
   "source": [
    "for sample in loom_dict.keys():\n",
    "    file = loom_dict[sample]\n",
    "    print(f'opening {file}')\n",
    "    loom = lp.connect(file, mode='r+', validate=False)\n",
    "\n",
    "    metadata = json.loads(loom.attrs['MetaData'])\n",
    "    new_metadata = copy.deepcopy(metadata)\n",
    "    for item in new_metadata['annotations']:\n",
    "        if item['name'] == 'barcode':\n",
    "            barcode_index = new_metadata['annotations'].index(item)\n",
    "\n",
    "    if 'barcode_index' in locals():\n",
    "        print(f'\\tbarcode index found: {barcode_index}')\n",
    "        new_metadata['annotations'].pop(barcode_index)\n",
    "        del barcode_index\n",
    "\n",
    "        new_metadata_json = json.dumps(new_metadata)\n",
    "        loom.attrs['MetaData'] = new_metadata_json\n",
    "        loom.close()\n",
    "        print(f'\\tfixed {sample}')\n",
    "\n",
    "    else:\n",
    "        print('\\tno barcode annotation detected')\n",
    "        loom.close()"
   ]
  },
  {
   "cell_type": "markdown",
   "id": "06fbeeb1",
   "metadata": {
    "papermill": {
     "duration": 0.028584,
     "end_time": "2022-01-17T13:30:54.077711",
     "exception": false,
     "start_time": "2022-01-17T13:30:54.049127",
     "status": "completed"
    },
    "tags": []
   },
   "source": [
    "# remove the pesky sample_id from the non-merged looms"
   ]
  },
  {
   "cell_type": "code",
   "execution_count": null,
   "id": "756c81c5",
   "metadata": {
    "papermill": {
     "duration": 0.101443,
     "end_time": "2022-01-17T13:30:54.207686",
     "exception": false,
     "start_time": "2022-01-17T13:30:54.106243",
     "status": "completed"
    },
    "tags": []
   },
   "outputs": [],
   "source": [
    "for sample in loom_dict.keys():\n",
    "    file = loom_dict[sample]\n",
    "    print(f'opening {file}')\n",
    "    loom = lp.connect(file, mode='r+', validate=False)\n",
    "\n",
    "    metadata = json.loads(loom.attrs['MetaData'])\n",
    "    new_metadata = copy.deepcopy(metadata)\n",
    "    for item in new_metadata['annotations']:\n",
    "        if item['name'] == 'sample_id':\n",
    "            barcode_index = new_metadata['annotations'].index(item)\n",
    "\n",
    "    if 'barcode_index' in locals():\n",
    "        print(f'\\sample_id index found: {barcode_index}')\n",
    "        new_metadata['annotations'].pop(barcode_index)\n",
    "        del barcode_index\n",
    "\n",
    "        new_metadata_json = json.dumps(new_metadata)\n",
    "        loom.attrs['MetaData'] = new_metadata_json\n",
    "        loom.close()\n",
    "        print(f'\\tfixed {sample}')\n",
    "\n",
    "    else:\n",
    "        print('\\tno sample_id detected')\n",
    "        loom.close()\n",
    "    print('\\n')"
   ]
  },
  {
   "cell_type": "markdown",
   "id": "2154e826",
   "metadata": {
    "papermill": {
     "duration": 0.028543,
     "end_time": "2022-01-17T13:30:54.268545",
     "exception": false,
     "start_time": "2022-01-17T13:30:54.240002",
     "status": "completed"
    },
    "tags": []
   },
   "source": [
    "# open region accessibility loom and fix annotations"
   ]
  },
  {
   "cell_type": "code",
   "execution_count": null,
   "id": "7456efe3",
   "metadata": {
    "papermill": {
     "duration": 0.035586,
     "end_time": "2022-01-17T13:30:54.332961",
     "exception": false,
     "start_time": "2022-01-17T13:30:54.297375",
     "status": "completed"
    },
    "tags": []
   },
   "outputs": [],
   "source": [
    "import loompy as lp\n",
    "import json\n",
    "import copy\n",
    "import glob\n",
    "from collections import OrderedDict"
   ]
  },
  {
   "cell_type": "markdown",
   "id": "7cfc8588",
   "metadata": {
    "papermill": {
     "duration": 0.029441,
     "end_time": "2022-01-17T13:30:54.391709",
     "exception": false,
     "start_time": "2022-01-17T13:30:54.362268",
     "status": "completed"
    },
    "tags": []
   },
   "source": [
    "exclude 'barcode' annotation"
   ]
  },
  {
   "cell_type": "code",
   "execution_count": null,
   "id": "eaf21b7b",
   "metadata": {
    "papermill": {
     "duration": 0.047212,
     "end_time": "2022-01-17T13:30:54.467997",
     "exception": false,
     "start_time": "2022-01-17T13:30:54.420785",
     "status": "completed"
    },
    "tags": []
   },
   "outputs": [],
   "source": [
    "filenames = sorted(glob.glob(f_region_loom_dir+'/*loom'))\n",
    "samples = [item.replace(\"__libds_region_accessibility.loom\", \"\") for item in filenames]\n",
    "samples = [item.replace(\"/lustre1/project/stg_00002/lcb/fderop/data/20211215_hca_benchmark_github/4_downsampled_data_individual_samples/downstream_analysis/region_acc_loom/\", \"\") for item in samples]\n",
    "loom_dict = {samples[i]: filenames[i] for i in range(len(samples))}\n",
    "loom_dict = OrderedDict(loom_dict)"
   ]
  },
  {
   "cell_type": "code",
   "execution_count": null,
   "id": "b4cae780",
   "metadata": {
    "papermill": {
     "duration": 0.037225,
     "end_time": "2022-01-17T13:30:54.534895",
     "exception": false,
     "start_time": "2022-01-17T13:30:54.497670",
     "status": "completed"
    },
    "tags": []
   },
   "outputs": [],
   "source": [
    "loom_dict"
   ]
  },
  {
   "cell_type": "code",
   "execution_count": null,
   "id": "961c81ca",
   "metadata": {
    "papermill": {
     "duration": 1.976567,
     "end_time": "2022-01-17T13:30:56.541707",
     "exception": false,
     "start_time": "2022-01-17T13:30:54.565140",
     "status": "completed"
    },
    "tags": []
   },
   "outputs": [],
   "source": [
    "for sample in loom_dict.keys():\n",
    "    file = loom_dict[sample]\n",
    "    print(f'opening {file}')\n",
    "    loom = lp.connect(file, mode='r+', validate=False)\n",
    "\n",
    "    metadata = json.loads(loom.attrs['MetaData'])\n",
    "    new_metadata = copy.deepcopy(metadata)\n",
    "    for item in new_metadata['annotations']:\n",
    "        if item['name'] == 'barcode':\n",
    "            barcode_index = new_metadata['annotations'].index(item)\n",
    "\n",
    "    if 'barcode_index' in locals():\n",
    "        print(f'\\tbarcode index found: {barcode_index}')\n",
    "        new_metadata['annotations'].pop(barcode_index)\n",
    "        del barcode_index\n",
    "\n",
    "        new_metadata_json = json.dumps(new_metadata)\n",
    "        loom.attrs['MetaData'] = new_metadata_json\n",
    "        loom.close()\n",
    "        print(f'\\tfixed {sample}')\n",
    "\n",
    "    else:\n",
    "        print('\\tno barcode annotation detected')\n",
    "        loom.close()"
   ]
  },
  {
   "cell_type": "markdown",
   "id": "b0d48fd7",
   "metadata": {
    "papermill": {
     "duration": 0.036937,
     "end_time": "2022-01-17T13:30:56.610552",
     "exception": false,
     "start_time": "2022-01-17T13:30:56.573615",
     "status": "completed"
    },
    "tags": []
   },
   "source": [
    "# remove the pesky sample_id from the non-merged looms"
   ]
  },
  {
   "cell_type": "code",
   "execution_count": null,
   "id": "ae923902",
   "metadata": {
    "papermill": {
     "duration": 0.127414,
     "end_time": "2022-01-17T13:30:56.768151",
     "exception": false,
     "start_time": "2022-01-17T13:30:56.640737",
     "status": "completed"
    },
    "tags": []
   },
   "outputs": [],
   "source": [
    "for sample in loom_dict.keys():\n",
    "    file = loom_dict[sample]\n",
    "    print(f'opening {file}')\n",
    "    loom = lp.connect(file, mode='r+', validate=False)\n",
    "\n",
    "    metadata = json.loads(loom.attrs['MetaData'])\n",
    "    new_metadata = copy.deepcopy(metadata)\n",
    "    for item in new_metadata['annotations']:\n",
    "        if item['name'] == 'sample_id':\n",
    "            barcode_index = new_metadata['annotations'].index(item)\n",
    "\n",
    "    if 'barcode_index' in locals():\n",
    "        print(f'\\sample_id index found: {barcode_index}')\n",
    "        new_metadata['annotations'].pop(barcode_index)\n",
    "        del barcode_index\n",
    "\n",
    "        new_metadata_json = json.dumps(new_metadata)\n",
    "        loom.attrs['MetaData'] = new_metadata_json\n",
    "        loom.close()\n",
    "        print(f'\\tfixed {sample}')\n",
    "\n",
    "    else:\n",
    "        print('\\tno sample_id detected')\n",
    "        loom.close()\n",
    "    print('\\n')"
   ]
  },
  {
   "cell_type": "code",
   "execution_count": null,
   "id": "917dcbb8",
   "metadata": {},
   "outputs": [],
   "source": []
  },
  {
   "cell_type": "code",
   "execution_count": null,
   "id": "081e0130",
   "metadata": {},
   "outputs": [],
   "source": []
  },
  {
   "cell_type": "code",
   "execution_count": null,
   "id": "a0c4a11e",
   "metadata": {},
   "outputs": [],
   "source": []
  }
 ],
 "metadata": {
  "kernelspec": {
   "display_name": "pycisTopic_singularity_20210921",
   "language": "python",
   "name": "pycistopic_singularity"
  },
  "language_info": {
   "codemirror_mode": {
    "name": "ipython",
    "version": 3
   },
   "file_extension": ".py",
   "mimetype": "text/x-python",
   "name": "python",
   "nbconvert_exporter": "python",
   "pygments_lexer": "ipython3",
   "version": "3.8.6"
  },
  "papermill": {
   "default_parameters": {},
   "duration": 48.519406,
   "end_time": "2022-01-17T13:30:58.524094",
   "environment_variables": {},
   "exception": null,
   "input_path": "8a_export_loom.ipynb",
   "output_path": "8a_export_loom.OUT.ipynb",
   "parameters": {},
   "start_time": "2022-01-17T13:30:10.004688",
   "version": "2.3.3"
  }
 },
 "nbformat": 4,
 "nbformat_minor": 5
}
