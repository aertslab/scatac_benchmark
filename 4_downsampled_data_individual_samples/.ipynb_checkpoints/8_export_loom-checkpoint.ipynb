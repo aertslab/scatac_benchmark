{
 "cells": [
  {
   "cell_type": "markdown",
   "id": "fde7fd39",
   "metadata": {
    "papermill": {
     "duration": 0.048336,
     "end_time": "2021-11-24T19:04:43.401980",
     "exception": false,
     "start_time": "2021-11-24T19:04:43.353644",
     "status": "completed"
    },
    "tags": []
   },
   "source": [
    "# pycisTopic analysis\n",
    "\n",
    "Full dataset, using consensus peak regions."
   ]
  },
  {
   "cell_type": "code",
   "execution_count": 1,
   "id": "7574f391",
   "metadata": {
    "papermill": {
     "duration": 0.04676,
     "end_time": "2021-11-24T19:04:43.466907",
     "exception": false,
     "start_time": "2021-11-24T19:04:43.420147",
     "status": "completed"
    },
    "tags": []
   },
   "outputs": [
    {
     "data": {
      "text/plain": [
       "'0.1.dev300+g7494158'"
      ]
     },
     "execution_count": 1,
     "metadata": {},
     "output_type": "execute_result"
    }
   ],
   "source": [
    "import pycisTopic\n",
    "pycisTopic.__version__"
   ]
  },
  {
   "cell_type": "code",
   "execution_count": 2,
   "id": "6f978bf0",
   "metadata": {
    "papermill": {
     "duration": 0.023628,
     "end_time": "2021-11-24T19:04:43.506774",
     "exception": false,
     "start_time": "2021-11-24T19:04:43.483146",
     "status": "completed"
    },
    "tags": []
   },
   "outputs": [],
   "source": [
    "import warnings\n",
    "warnings.filterwarnings('ignore')\n",
    "warnings.simplefilter('ignore')"
   ]
  },
  {
   "cell_type": "code",
   "execution_count": 3,
   "id": "2e1cc1b0",
   "metadata": {
    "papermill": {
     "duration": 0.871985,
     "end_time": "2021-11-24T19:04:44.395473",
     "exception": false,
     "start_time": "2021-11-24T19:04:43.523488",
     "status": "completed"
    },
    "tags": []
   },
   "outputs": [],
   "source": [
    "import pickle\n",
    "import pandas as pd"
   ]
  },
  {
   "cell_type": "code",
   "execution_count": 4,
   "id": "fc6f0837",
   "metadata": {
    "papermill": {
     "duration": 0.023643,
     "end_time": "2021-11-24T19:04:44.524468",
     "exception": false,
     "start_time": "2021-11-24T19:04:44.500825",
     "status": "completed"
    },
    "tags": []
   },
   "outputs": [],
   "source": [
    "import copy"
   ]
  },
  {
   "cell_type": "code",
   "execution_count": 5,
   "id": "cfbe078e",
   "metadata": {
    "papermill": {
     "duration": 0.024696,
     "end_time": "2021-11-24T19:04:44.437580",
     "exception": false,
     "start_time": "2021-11-24T19:04:44.412884",
     "status": "completed"
    },
    "tags": []
   },
   "outputs": [],
   "source": [
    "import os\n",
    "wdir = '/lustre1/project/stg_00002/lcb/fderop/data/20211013_hca_benchmark_libds_singles//'\n",
    "os.chdir( wdir )"
   ]
  },
  {
   "cell_type": "code",
   "execution_count": 6,
   "id": "72ac720d",
   "metadata": {
    "papermill": {
     "duration": 0.030337,
     "end_time": "2021-11-24T19:04:44.484619",
     "exception": false,
     "start_time": "2021-11-24T19:04:44.454282",
     "status": "completed"
    },
    "tags": []
   },
   "outputs": [],
   "source": [
    "# create output directory:\n",
    "f_final_dir = os.path.join(wdir, 'downstream_analysis')\n",
    "if not os.path.exists(f_final_dir):\n",
    "    os.makedirs(f_final_dir)"
   ]
  },
  {
   "cell_type": "markdown",
   "id": "6905a1a4",
   "metadata": {
    "papermill": {
     "duration": 0.016453,
     "end_time": "2021-11-24T19:04:44.557038",
     "exception": false,
     "start_time": "2021-11-24T19:04:44.540585",
     "status": "completed"
    },
    "tags": []
   },
   "source": [
    "## Load the cisTopic objects"
   ]
  },
  {
   "cell_type": "code",
   "execution_count": 7,
   "id": "52db22af",
   "metadata": {
    "papermill": {
     "duration": 9.082353,
     "end_time": "2021-11-24T19:04:53.655802",
     "exception": false,
     "start_time": "2021-11-24T19:04:44.573449",
     "status": "completed"
    },
    "tags": []
   },
   "outputs": [
    {
     "name": "stdout",
     "output_type": "stream",
     "text": [
      "Loaded filtered cistopic object VIB_Hydrop_1\n",
      "Loaded filtered cistopic object VIB_Hydrop_2\n"
     ]
    }
   ],
   "source": [
    "f_cto_dir = 'pycistopic_consensus_peaks/cistopic_objs__consensus'\n",
    "\n",
    "cistopic_obj_dict = {}\n",
    "for key in ['VIB_Hydrop_1', 'VIB_Hydrop_2']:\n",
    "    f_cto = os.path.join(wdir, f_cto_dir, key + '__cistopic_obj_metadata_annotated_dimreduc.pkl')\n",
    "    if(os.path.isfile(f_cto)):\n",
    "        with open(f_cto, 'rb') as f:\n",
    "            cistopic_obj_dict[key] = pickle.load(f)\n",
    "        print(f\"Loaded filtered cistopic object {key}\")\n",
    "    else:\n",
    "        print(f\"file {f_cto} doesn't exist\")"
   ]
  },
  {
   "cell_type": "code",
   "execution_count": 8,
   "id": "25773b5c",
   "metadata": {
    "papermill": {
     "duration": 0.026376,
     "end_time": "2021-11-24T19:04:53.701662",
     "exception": false,
     "start_time": "2021-11-24T19:04:53.675286",
     "status": "completed"
    },
    "tags": []
   },
   "outputs": [],
   "source": [
    "from collections import OrderedDict"
   ]
  },
  {
   "cell_type": "markdown",
   "id": "e15d161b",
   "metadata": {
    "papermill": {
     "duration": 0.019019,
     "end_time": "2021-11-24T19:04:54.023864",
     "exception": false,
     "start_time": "2021-11-24T19:04:54.004845",
     "status": "completed"
    },
    "tags": []
   },
   "source": [
    "#### Save/load"
   ]
  },
  {
   "cell_type": "code",
   "execution_count": 9,
   "id": "60a9559b",
   "metadata": {
    "papermill": {
     "duration": 0.308718,
     "end_time": "2021-11-24T19:04:54.350065",
     "exception": false,
     "start_time": "2021-11-24T19:04:54.041347",
     "status": "completed"
    },
    "tags": []
   },
   "outputs": [
    {
     "name": "stdout",
     "output_type": "stream",
     "text": [
      "Loaded /lustre1/project/stg_00002/lcb/fderop/data/20211013_hca_benchmark_libds_singles//downstream_analysis/region_bin_topics.pkl\n"
     ]
    }
   ],
   "source": [
    "f_out = os.path.join(f_final_dir, 'region_bin_topics.pkl')\n",
    "if os.path.isfile(f_out):\n",
    "    with open(f_out, 'rb') as f:\n",
    "        region_bin_topics_dict = pickle.load(f)\n",
    "    print(f\"Loaded {f_out}\")"
   ]
  },
  {
   "cell_type": "code",
   "execution_count": 10,
   "id": "0aea24d7",
   "metadata": {
    "papermill": {
     "duration": 0.147905,
     "end_time": "2021-11-24T19:04:54.540643",
     "exception": false,
     "start_time": "2021-11-24T19:04:54.392738",
     "status": "completed"
    },
    "tags": []
   },
   "outputs": [
    {
     "name": "stdout",
     "output_type": "stream",
     "text": [
      "Loaded /lustre1/project/stg_00002/lcb/fderop/data/20211013_hca_benchmark_libds_singles//downstream_analysis/binarized_cell_topic.pkl\n"
     ]
    }
   ],
   "source": [
    "f_out = os.path.join(f_final_dir, 'binarized_cell_topic.pkl')\n",
    "if os.path.isfile(f_out):\n",
    "    with open(f_out, 'rb') as f:\n",
    "        binarized_cell_topic_dict = pickle.load(f)\n",
    "    print(f\"Loaded {f_out}\")"
   ]
  },
  {
   "cell_type": "code",
   "execution_count": 11,
   "id": "d37f7401",
   "metadata": {
    "papermill": {
     "duration": 81.446513,
     "end_time": "2021-11-24T19:06:16.079484",
     "exception": false,
     "start_time": "2021-11-24T19:04:54.632971",
     "status": "completed"
    },
    "tags": []
   },
   "outputs": [
    {
     "name": "stdout",
     "output_type": "stream",
     "text": [
      "Loaded /lustre1/project/stg_00002/lcb/fderop/data/20211013_hca_benchmark_libds_singles//downstream_analysis/imputed_acc_obj.pkl\n"
     ]
    }
   ],
   "source": [
    "f_out = os.path.join(f_final_dir, 'imputed_acc_obj.pkl')\n",
    "if os.path.isfile(f_out):\n",
    "    with open(f_out, 'rb') as f:\n",
    "        imputed_acc_obj_dict = pickle.load(f)\n",
    "    print(f\"Loaded {f_out}\")"
   ]
  },
  {
   "cell_type": "code",
   "execution_count": 12,
   "id": "68263044",
   "metadata": {
    "papermill": {
     "duration": 0.230499,
     "end_time": "2021-11-24T19:06:16.384786",
     "exception": false,
     "start_time": "2021-11-24T19:06:16.154287",
     "status": "completed"
    },
    "tags": []
   },
   "outputs": [
    {
     "name": "stdout",
     "output_type": "stream",
     "text": [
      "Loaded /lustre1/project/stg_00002/lcb/fderop/data/20211013_hca_benchmark_libds_singles//downstream_analysis/markers_dict.pkl\n"
     ]
    }
   ],
   "source": [
    "f_out = os.path.join(f_final_dir, 'markers_dict.pkl')\n",
    "if os.path.isfile(f_out):\n",
    "    with open(f_out, 'rb') as f:\n",
    "        markers_dict_dict = pickle.load(f)\n",
    "    print(f\"Loaded {f_out}\")"
   ]
  },
  {
   "cell_type": "markdown",
   "id": "02546cec",
   "metadata": {
    "papermill": {
     "duration": 0.026334,
     "end_time": "2021-11-24T19:06:16.431159",
     "exception": false,
     "start_time": "2021-11-24T19:06:16.404825",
     "status": "completed"
    },
    "tags": []
   },
   "source": [
    "## Gene activity"
   ]
  },
  {
   "cell_type": "code",
   "execution_count": 13,
   "id": "b752118c",
   "metadata": {
    "papermill": {
     "duration": 0.234298,
     "end_time": "2021-11-24T19:06:16.686396",
     "exception": false,
     "start_time": "2021-11-24T19:06:16.452098",
     "status": "completed"
    },
    "tags": []
   },
   "outputs": [],
   "source": [
    "import pyranges as pr\n",
    "import requests\n",
    "import pybiomart as pbm"
   ]
  },
  {
   "cell_type": "code",
   "execution_count": 14,
   "id": "9bafafbe",
   "metadata": {},
   "outputs": [],
   "source": [
    "    from pycisTopic.gene_activity import get_gene_activity\n",
    "    from pycisTopic.diff_features import find_diff_features"
   ]
  },
  {
   "cell_type": "markdown",
   "id": "79843e09",
   "metadata": {
    "papermill": {
     "duration": 0.044064,
     "end_time": "2021-11-24T19:06:22.225933",
     "exception": false,
     "start_time": "2021-11-24T19:06:22.181869",
     "status": "completed"
    },
    "tags": []
   },
   "source": [
    "### Infer gene activity"
   ]
  },
  {
   "cell_type": "code",
   "execution_count": 15,
   "id": "033e13ec",
   "metadata": {
    "papermill": {
     "duration": 10.102528,
     "end_time": "2021-11-24T19:06:32.362675",
     "exception": false,
     "start_time": "2021-11-24T19:06:22.260147",
     "status": "completed"
    },
    "tags": []
   },
   "outputs": [
    {
     "name": "stdout",
     "output_type": "stream",
     "text": [
      "Loading /lustre1/project/stg_00002/lcb/fderop/data/20211013_hca_benchmark_libds_singles//downstream_analysis/gene_act_dict.pkl\n"
     ]
    }
   ],
   "source": [
    "f_out = os.path.join(f_final_dir, 'gene_act_dict.pkl')\n",
    "if os.path.isfile(f_out):\n",
    "    print(f\"Loading {f_out}\")\n",
    "    with open(f_out, 'rb') as f:\n",
    "        gene_act_dict = pickle.load(f)\n",
    "else:\n",
    "    from pycisTopic.gene_activity import get_gene_activity\n",
    "    from pycisTopic.diff_features import find_diff_features\n",
    "    # For human\n",
    "    dataset = pbm.Dataset(name='hsapiens_gene_ensembl',  host='http://www.ensembl.org')\n",
    "    annot = dataset.query(attributes=['chromosome_name', 'start_position', 'end_position', 'strand', 'external_gene_name', 'transcription_start_site', 'transcript_biotype'])\n",
    "    annot['Chromosome/scaffold name'] = 'chr' + annot['Chromosome/scaffold name'].astype(str)\n",
    "    annot.columns=['Chromosome', 'Start', 'End', 'Strand', 'Gene','Transcription_Start_Site', 'Transcript_type']\n",
    "    annot = annot[annot.Transcript_type == 'protein_coding']\n",
    "    annot.Strand[annot.Strand == 1] = '+'\n",
    "    annot.Strand[annot.Strand == -1] = '-'\n",
    "    pr_annotation = pr.PyRanges(annot.dropna(axis = 0))\n",
    "    pr_annotation\n",
    "\n",
    "    # get chromosome sizes (hg38)\n",
    "    target_url = 'http://hgdownload.cse.ucsc.edu/goldenPath/hg38/bigZips/hg38.chrom.sizes'\n",
    "    chromsizes = pd.read_csv(target_url, sep='\\t', header=None)\n",
    "    chromsizes.columns = ['Chromosome', 'End']\n",
    "    chromsizes['Start'] = [0]*chromsizes.shape[0]\n",
    "    chromsizes = chromsizes.loc[:,['Chromosome', 'Start', 'End']]\n",
    "    chromsizes = pr.PyRanges(chromsizes)\n",
    "    chromsizes\n",
    "\n",
    "    gene_act_dict = {}\n",
    "    for key in cistopic_obj_dict.keys():\n",
    "        print(key)\n",
    "        gene_act, weights = get_gene_activity(\n",
    "            imputed_acc_obj_dict[key], # Region-cell probabilities\n",
    "            pr_annotation, # Gene annotation\n",
    "            chromsizes, # Chromosome size\n",
    "            use_gene_boundaries=True, # Whether to use the whole search space or stop when encountering another gene\n",
    "            upstream=[1000, 100000], # Search space upstream. The minimum means that even if there is a gene right next to it \n",
    "                                     #these bp will be taken (1kbp here)\n",
    "            downstream=[1000,100000], # Search space downstream\n",
    "            distance_weight=True, # Whether to add a distance weight (an exponential function, the weight will decrease with distance)\n",
    "            decay_rate=1, # Exponent for the distance exponential funciton (the higher the faster will be the decrease)\n",
    "            extend_gene_body_upstream=10000, # Number of bp upstream immune to the distance weight (their value will be maximum for \n",
    "                                             #this weight)\n",
    "            extend_gene_body_downstream=500, # Number of bp downstream immune to the distance weight\n",
    "            gene_size_weight=False, # Whether to add a weights based on the length of the gene\n",
    "            gene_size_scale_factor='median', # Dividend to calculate the gene size weigth. Default is the median value of all genes\n",
    "                                             #in the genome\n",
    "            remove_promoters=False, # Whether to remove promoters when computing gene activity scores\n",
    "            average_scores=True, # Whether to divide by the total number of region assigned to a gene when calculating the gene \n",
    "                                 # activity score\n",
    "            scale_factor=1, # Value to multiply for the final gene activity matrix\n",
    "            extend_tss=[10,10], # Space to consider a promoter\n",
    "            gini_weight = True, # Whether to add a gini index weigth. The more unique the region is, the higher this weight will be\n",
    "            return_weights= True, # Whether to return the final weights\n",
    "            project='Gene_activity') # Project name for the gene activity object\n",
    "        gene_act_dict[key] = copy.copy(gene_act)\n",
    "\n",
    "    with open(f_out, 'wb') as f:\n",
    "        pickle.dump(gene_act_dict, f)\n",
    "    print(f'saved {f_out}')"
   ]
  },
  {
   "cell_type": "markdown",
   "id": "009f5df8",
   "metadata": {
    "papermill": {
     "duration": 0.022635,
     "end_time": "2021-11-24T19:06:32.455185",
     "exception": false,
     "start_time": "2021-11-24T19:06:32.432550",
     "status": "completed"
    },
    "tags": []
   },
   "source": [
    "## Export to loom"
   ]
  },
  {
   "cell_type": "code",
   "execution_count": 16,
   "id": "b1308c70",
   "metadata": {
    "papermill": {
     "duration": 0.069649,
     "end_time": "2021-11-24T19:06:32.546607",
     "exception": false,
     "start_time": "2021-11-24T19:06:32.476958",
     "status": "completed"
    },
    "tags": []
   },
   "outputs": [],
   "source": [
    "f_region_loom_dir = os.path.join(f_final_dir, 'region_acc_loom')\n",
    "if not os.path.exists(f_region_loom_dir):\n",
    "    os.makedirs(f_region_loom_dir)\n",
    "    \n",
    "f_gene_loom_dir = os.path.join(f_final_dir, 'gene_act_loom')\n",
    "if not os.path.exists(f_gene_loom_dir):\n",
    "    os.makedirs(f_gene_loom_dir)"
   ]
  },
  {
   "cell_type": "code",
   "execution_count": 17,
   "id": "d7642558",
   "metadata": {
    "papermill": {
     "duration": 4.712169,
     "end_time": "2021-11-24T19:06:37.285737",
     "exception": false,
     "start_time": "2021-11-24T19:06:32.573568",
     "status": "completed"
    },
    "tags": []
   },
   "outputs": [],
   "source": [
    "from pycisTopic.loom import (\n",
    "    export_region_accessibility_to_loom,\n",
    "    export_gene_activity_to_loom\n",
    ")"
   ]
  },
  {
   "cell_type": "markdown",
   "id": "00fc3f03",
   "metadata": {
    "papermill": {
     "duration": 0.018389,
     "end_time": "2021-11-24T19:06:37.332380",
     "exception": false,
     "start_time": "2021-11-24T19:06:37.313991",
     "status": "completed"
    },
    "tags": []
   },
   "source": [
    "### Gene activity"
   ]
  },
  {
   "cell_type": "code",
   "execution_count": 18,
   "id": "5abbc916",
   "metadata": {
    "papermill": {
     "duration": 0.029576,
     "end_time": "2021-11-24T19:06:37.430207",
     "exception": false,
     "start_time": "2021-11-24T19:06:37.400631",
     "status": "completed"
    },
    "tags": []
   },
   "outputs": [],
   "source": [
    "from ctxcore.genesig import Regulon\n",
    "\n",
    "# generate a dummy regulon (required for export_gene_activity_to_loom):\n",
    "phreg = Regulon(\n",
    "        name='placeholder regulon',\n",
    "        gene2weight={'phreg': 1.0},\n",
    "        transcription_factor=\"phreg\",\n",
    "        gene2occurrence={\"phreg\": 1},\n",
    "    )"
   ]
  },
  {
   "cell_type": "code",
   "execution_count": 19,
   "id": "a27d234b",
   "metadata": {
    "papermill": {
     "duration": 761.072311,
     "end_time": "2021-11-24T19:19:18.521828",
     "exception": false,
     "start_time": "2021-11-24T19:06:37.449517",
     "status": "completed"
    },
    "tags": []
   },
   "outputs": [
    {
     "name": "stdout",
     "output_type": "stream",
     "text": [
      "VIB_Hydrop_1\n",
      "2021-11-26 13:58:48,686 cisTopic     INFO     Creating minimal loom\n",
      "2021-11-26 13:58:53,254 ctxcore.recovery WARNING  Less than 80% of the genes in placeholder regulon are present in the expression matrix.\n",
      "2021-11-26 13:59:03,727 cisTopic     INFO     Adding annotations\n",
      "2021-11-26 13:59:05,305 cisTopic     INFO     Adding clusterings\n",
      "2021-11-26 13:59:05,323 cisTopic     INFO     Adding markers\n",
      "No markers for  sampleA\n",
      "No markers for  sampleB\n",
      "2021-11-26 13:59:05,568 cisTopic     INFO     Exporting\n",
      "VIB_Hydrop_2\n",
      "2021-11-26 13:59:16,087 cisTopic     INFO     Creating minimal loom\n",
      "2021-11-26 13:59:21,274 ctxcore.recovery WARNING  Less than 80% of the genes in placeholder regulon are present in the expression matrix.\n",
      "2021-11-26 13:59:30,968 cisTopic     INFO     Adding annotations\n",
      "2021-11-26 13:59:32,779 cisTopic     INFO     Adding clusterings\n",
      "2021-11-26 13:59:32,799 cisTopic     INFO     Adding markers\n",
      "No markers for  sampleA\n",
      "No markers for  sampleB\n",
      "2021-11-26 13:59:33,038 cisTopic     INFO     Exporting\n"
     ]
    }
   ],
   "source": [
    "for key in cistopic_obj_dict.keys():\n",
    "    print(key)\n",
    "    f_out = os.path.join(f_gene_loom_dir, key + '__libDS_gene_activity.loom')\n",
    "    if os.path.exists(f_out):\n",
    "        print(f\"Skipping {f_out}: already exists.\")\n",
    "        continue\n",
    "        \n",
    "    export_gene_activity_to_loom(\n",
    "        gene_activity_matrix = gene_act_dict[key],\n",
    "        cistopic_obj = cistopic_obj_dict[key], \n",
    "        regulons = [phreg],\n",
    "        # selected_cells = [ x.split('-')[0] + '-' + x.split('-')[1]  for x in cistopic_obj_dict[key].cell_names ], # this leaves a cell barcode of the format type 'TGCATGTCGCCGTTCCAAGA-21'\n",
    "        # selected_cells = cistopic_obj_dict[key].projections['cell']['UMAP'].index.tolist(), # cflerin original \n",
    "        out_fname = f_out,t\n",
    "        cluster_annotation = ['consensus_cell_type', 'SCREEN_fmx_sample'],\n",
    "        cluster_markers = {'consensus_cell_type': markers_dict_dict[key], 'SCREEN_fmx_sample':{}},\n",
    "        tree_structure = ('scATAC-seq_Benchmark', 'ATAC_library_downsampled', 'Gene_activity'),\n",
    "        title = 'Gene activity from library-downsampled and sample-merged dataset',\n",
    "        nomenclature = \"hg38\"\n",
    "    )"
   ]
  },
  {
   "cell_type": "markdown",
   "id": "cca49065",
   "metadata": {
    "papermill": {
     "duration": 0.024002,
     "end_time": "2021-11-24T19:19:18.622250",
     "exception": false,
     "start_time": "2021-11-24T19:19:18.598248",
     "status": "completed"
    },
    "tags": []
   },
   "source": [
    "### Region accessibility"
   ]
  },
  {
   "cell_type": "code",
   "execution_count": null,
   "id": "9f6bf82e",
   "metadata": {
    "papermill": {
     "duration": 19844.466229,
     "end_time": "2021-11-25T00:50:03.111399",
     "exception": false,
     "start_time": "2021-11-24T19:19:18.645170",
     "status": "completed"
    },
    "tags": []
   },
   "outputs": [
    {
     "name": "stdout",
     "output_type": "stream",
     "text": [
      "VIB_Hydrop_1\n"
     ]
    }
   ],
   "source": [
    "for key in cistopic_obj_dict.keys():\n",
    "    print(key)\n",
    "    s = 'merged' if key=='libds_merged' else key\n",
    "    f_out = os.path.join(f_region_loom_dir, s + '__libDS_region_accessibility.loom')\n",
    "    if os.path.exists(f_out):\n",
    "        print(f\"Skipping {f_out}: already exists.\")\n",
    "        continue\n",
    "    # Subset regions, we will use only regions in topics and DARs here to make it faster\n",
    "    regions_in_topics = list(set(sum([region_bin_topics_dict[key][i].index.tolist() for i in region_bin_topics_dict[key].keys()],[])))\n",
    "    regions_in_DARs = list(set(sum([markers_dict_dict[key][i].index.tolist() for i in markers_dict_dict[key].keys()],[])))\n",
    "    # make sure we only take regions that actually exist in the accessibility matrix:\n",
    "    selected_regions = list(set(regions_in_topics + regions_in_DARs).intersection(set(imputed_acc_obj_dict[key].feature_names)))\n",
    "\n",
    "    # Export to loom\n",
    "    export_region_accessibility_to_loom(\n",
    "        accessibility_matrix = imputed_acc_obj_dict[key],\n",
    "        cistopic_obj = cistopic_obj_dict[key], \n",
    "        binarized_topic_region = region_bin_topics_dict[key],\n",
    "        binarized_cell_topic = binarized_cell_topic_dict[key],\n",
    "        out_fname = f_out,\n",
    "        selected_regions = selected_regions ,\n",
    "        # selected_cells = [ x.split('-')[0] + '-' + x.split('-')[1]  for x in cistopic_obj_dict[key].cell_names ], # this leaves a cell barcode of the format type 'TGCATGTCGCCGTTCCAAGA-21'\n",
    "        # selected_cells = cistopic_obj_dict[key].projections['cell']['UMAP'].index.tolist(), # cflerin original\n",
    "        cluster_annotation = ['consensus_cell_type', 'SCREEN_fmx_sample'],\n",
    "        cluster_markers = {'consensus_cell_type': markers_dict_dict[key], 'SCREEN_fmx_sample':{}},\n",
    "        tree_structure = ('scATAC-seq_Benchmark', 'ATAC_library_downsampled', 'Region_accessibility'),\n",
    "        title = s + ' - Region accessibility all',\n",
    "        nomenclature = \"hg38\"\n",
    "    )"
   ]
  },
  {
   "cell_type": "markdown",
   "id": "1ff30426",
   "metadata": {},
   "source": [
    "# caution:\n",
    "the export loom function contains a bug which adds the barcodes as a clustering, causing scope to crash on loading. this is removed in the final loom jupyter notebook."
   ]
  },
  {
   "cell_type": "markdown",
   "id": "1dd7e6df",
   "metadata": {
    "papermill": {
     "duration": 0.02643,
     "end_time": "2021-11-25T00:50:03.264376",
     "exception": false,
     "start_time": "2021-11-25T00:50:03.237946",
     "status": "completed"
    },
    "tags": []
   },
   "source": [
    "# upload LOOMs"
   ]
  },
  {
   "cell_type": "markdown",
   "id": "e1dc19d6",
   "metadata": {},
   "source": [
    "curl -F 'UUID=scATAC-seq_Benchmark' -F 'file-type=Loom' -F 'file=@/lustre1/project/stg_00002/lcb/fderop/data/20211024_hca_benchmark_libds_merged/downstream_analysis/gene_act_loom/Merged__libDS_gene_activity.loom' https://scope.aertslab.org/upload/ | tee /dev/null"
   ]
  },
  {
   "cell_type": "code",
   "execution_count": null,
   "id": "00d609fc",
   "metadata": {},
   "outputs": [],
   "source": []
  }
 ],
 "metadata": {
  "kernelspec": {
   "display_name": "pycisTopic_singularity_20210921",
   "language": "python",
   "name": "pycistopic_singularity"
  },
  "language_info": {
   "codemirror_mode": {
    "name": "ipython",
    "version": 3
   },
   "file_extension": ".py",
   "mimetype": "text/x-python",
   "name": "python",
   "nbconvert_exporter": "python",
   "pygments_lexer": "ipython3",
   "version": "3.8.6"
  },
  "papermill": {
   "default_parameters": {},
   "duration": 20729.37749,
   "end_time": "2021-11-25T00:50:09.771708",
   "environment_variables": {},
   "exception": null,
   "input_path": "8_export_loom.ipynb",
   "output_path": "8_export_loom.OUT.ipynb",
   "parameters": {},
   "start_time": "2021-11-24T19:04:40.394218",
   "version": "2.3.3"
  }
 },
 "nbformat": 4,
 "nbformat_minor": 5
}
