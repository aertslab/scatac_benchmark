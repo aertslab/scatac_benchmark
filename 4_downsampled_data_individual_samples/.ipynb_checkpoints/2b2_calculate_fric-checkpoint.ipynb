{
 "cells": [
  {
   "cell_type": "code",
   "execution_count": 1,
   "id": "0e4f15a7",
   "metadata": {},
   "outputs": [],
   "source": [
    "import pandas as pd\n",
    "import glob\n",
    "import os\n",
    "from collections import OrderedDict"
   ]
  },
  {
   "cell_type": "code",
   "execution_count": 2,
   "id": "9fb69dab",
   "metadata": {},
   "outputs": [],
   "source": [
    "filenames = glob.glob('selected_barcodes/*')"
   ]
  },
  {
   "cell_type": "code",
   "execution_count": 3,
   "id": "73703f4e",
   "metadata": {},
   "outputs": [
    {
     "data": {
      "text/plain": [
       "{'Broad_1': 'selected_barcodes/Broad_1.cell_barcodes.txt',\n",
       " 'Broad_2': 'selected_barcodes/Broad_2.cell_barcodes.txt',\n",
       " 'Broad_mito_1': 'selected_barcodes/Broad_mito_1.cell_barcodes.txt',\n",
       " 'Broad_mito_2': 'selected_barcodes/Broad_mito_2.cell_barcodes.txt',\n",
       " 'CNAG_1': 'selected_barcodes/CNAG_1.cell_barcodes.txt',\n",
       " 'CNAG_2': 'selected_barcodes/CNAG_2.cell_barcodes.txt',\n",
       " 'Sanger_1': 'selected_barcodes/Sanger_1.cell_barcodes.txt',\n",
       " 'Sanger_2': 'selected_barcodes/Sanger_2.cell_barcodes.txt',\n",
       " 'Stanford_1': 'selected_barcodes/Stanford_1.cell_barcodes.txt',\n",
       " 'Stanford_2': 'selected_barcodes/Stanford_2.cell_barcodes.txt',\n",
       " 'VIB_1': 'selected_barcodes/VIB_1.cell_barcodes.txt',\n",
       " 'VIB_2': 'selected_barcodes/VIB_2.cell_barcodes.txt',\n",
       " 'VIB_Hydrop_1': 'selected_barcodes/VIB_Hydrop_1.cell_barcodes.txt',\n",
       " 'VIB_Hydrop_2': 'selected_barcodes/VIB_Hydrop_2.cell_barcodes.txt',\n",
       " 's3atac': 'selected_barcodes/s3atac.cell_barcodes.txt'}"
      ]
     },
     "execution_count": 3,
     "metadata": {},
     "output_type": "execute_result"
    }
   ],
   "source": [
    "filenames = sorted(glob.glob('selected_barcodes/*'))\n",
    "samples = [item.replace(\"selected_barcodes/\", \"\") for item in filenames]\n",
    "samples = [item.replace(\".cell_barcodes.txt\", \"\") for item in samples]\n",
    "bc_dict = {samples[i]: filenames[i] for i in range(len(samples))}\n",
    "bc_dict"
   ]
  },
  {
   "cell_type": "code",
   "execution_count": 4,
   "id": "e8043e0d",
   "metadata": {},
   "outputs": [
    {
     "data": {
      "text/plain": [
       "{'Broad_1': 'fragments_postbap/Broad_1.sinto.mm.fragments.tsv',\n",
       " 'Broad_2': 'fragments_postbap/Broad_2.sinto.mm.fragments.tsv',\n",
       " 'Broad_mito_1': 'fragments_postbap/Broad_mito_1.sinto.mm.fragments.tsv',\n",
       " 'Broad_mito_2': 'fragments_postbap/Broad_mito_2.sinto.mm.fragments.tsv',\n",
       " 'CNAG_1': 'fragments_postbap/CNAG_1.sinto.mm.fragments.tsv',\n",
       " 'CNAG_2': 'fragments_postbap/CNAG_2.sinto.mm.fragments.tsv',\n",
       " 'Sanger_1': 'fragments_postbap/Sanger_1.sinto.mm.fragments.tsv',\n",
       " 'Sanger_2': 'fragments_postbap/Sanger_2.sinto.mm.fragments.tsv',\n",
       " 'Stanford_1': 'fragments_postbap/Stanford_1.sinto.mm.fragments.tsv',\n",
       " 'Stanford_2': 'fragments_postbap/Stanford_2.sinto.mm.fragments.tsv',\n",
       " 'VIB_1': 'fragments_postbap/VIB_1.sinto.mm.fragments.tsv',\n",
       " 'VIB_2': 'fragments_postbap/VIB_2.sinto.mm.fragments.tsv',\n",
       " 'VIB_Hydrop_1': 'fragments_postbap/VIB_Hydrop_1.sinto.mm.fragments.tsv',\n",
       " 'VIB_Hydrop_2': 'fragments_postbap/VIB_Hydrop_2.sinto.mm.fragments.tsv',\n",
       " 's3atac': 'fragments_postbap/s3atac.sinto.mm.fragments.tsv'}"
      ]
     },
     "execution_count": 4,
     "metadata": {},
     "output_type": "execute_result"
    }
   ],
   "source": [
    "filenames = sorted(glob.glob('fragments_postbap/*tsv'))\n",
    "samples = [item.replace(\"fragments_postbap/\", \"\") for item in filenames]\n",
    "samples = [item.replace(\".sinto.mm.fragments.tsv\", \"\") for item in samples]\n",
    "frag_dict = {samples[i]: filenames[i] for i in range(len(samples))}\n",
    "frag_dict"
   ]
  },
  {
   "cell_type": "code",
   "execution_count": null,
   "id": "35d28428",
   "metadata": {},
   "outputs": [
    {
     "name": "stdout",
     "output_type": "stream",
     "text": [
      "Broad_1\n",
      "\ttotal reads: 153138564\n",
      "\tcells pre-scrublet/freemuxlet: 4147\n",
      "\tmapped reads per cell: 36927.55341210514\n",
      "\tfraction raw reads in cells: 0.6369902880896806\n",
      "\tfraction unique fragments in cells: 0.5943036671057925\n",
      "Broad_2\n",
      "\ttotal reads: 147719731\n",
      "\tcells pre-scrublet/freemuxlet: 3987\n",
      "\tmapped reads per cell: 37050.34637572109\n",
      "\tfraction raw reads in cells: 0.6041049384255919\n",
      "\tfraction unique fragments in cells: 0.5682236376860502\n",
      "Broad_mito_1\n",
      "\ttotal reads: 91805815\n",
      "\tcells pre-scrublet/freemuxlet: 3466\n",
      "\tmapped reads per cell: 26487.54039238315\n",
      "\tfraction raw reads in cells: 0.9354537618341496\n",
      "\tfraction unique fragments in cells: 0.9209491757864046\n",
      "Broad_mito_2\n",
      "\ttotal reads: 87346572\n",
      "\tcells pre-scrublet/freemuxlet: 3284\n",
      "\tmapped reads per cell: 26597.616321559075\n",
      "\tfraction raw reads in cells: 0.9436500267005327\n",
      "\tfraction unique fragments in cells: 0.9303183603821784\n",
      "CNAG_1\n",
      "\ttotal reads: 99246210\n",
      "\tcells pre-scrublet/freemuxlet: 2659\n",
      "\tmapped reads per cell: 37324.637081609624\n",
      "\tfraction raw reads in cells: 0.46173547584335967\n",
      "\tfraction unique fragments in cells: 0.40083438286433126\n",
      "CNAG_2\n",
      "\ttotal reads: 100057753\n",
      "\tcells pre-scrublet/freemuxlet: 2662\n",
      "\tmapped reads per cell: 37587.43538692712\n",
      "\tfraction raw reads in cells: 0.5000662067636078\n",
      "\tfraction unique fragments in cells: 0.42741850089259853\n",
      "Sanger_1\n"
     ]
    }
   ],
   "source": [
    "for key in bc_dict.keys():\n",
    "    print(key)\n",
    "    df_frags = pd.read_csv(frag_dict[key], sep='\\t', header=None, index_col=None)\n",
    "    df_frags.columns = \"chr start end bc count\".split()\n",
    "    df_bc = pd.read_csv(bc_dict[key], header=None, index_col=None)\n",
    "    df_bc.columns = \"bc\".split()\n",
    "\n",
    "\n",
    "    df_frags_incells = df_frags[df_frags['bc'].isin(df_bc['bc'])]\n",
    "    frac_reads = df_frags_incells['count'].sum()/df_frags['count'].sum()\n",
    "    frac_fragments = len(df_frags_incells)/len(df_frags)\n",
    "\n",
    "    print(f'\\ttotal reads: {df_frags[\"count\"].sum()}')\n",
    "    print(f'\\tcells pre-scrublet/freemuxlet: {len(df_bc)}')\n",
    "    print(f'\\tmapped reads per cell: {df_frags[\"count\"].sum()/len(df_bc)}')\n",
    "    print(f'\\tfraction raw reads in cells: {frac_reads}')\n",
    "    print(f'\\tfraction unique fragments in cells: {frac_fragments}')"
   ]
  },
  {
   "cell_type": "code",
   "execution_count": null,
   "id": "c4b7be75",
   "metadata": {},
   "outputs": [],
   "source": []
  }
 ],
 "metadata": {
  "kernelspec": {
   "display_name": "pycisTopic_singularity_20210921",
   "language": "python",
   "name": "pycistopic_singularity"
  },
  "language_info": {
   "codemirror_mode": {
    "name": "ipython",
    "version": 3
   },
   "file_extension": ".py",
   "mimetype": "text/x-python",
   "name": "python",
   "nbconvert_exporter": "python",
   "pygments_lexer": "ipython3",
   "version": "3.8.6"
  }
 },
 "nbformat": 4,
 "nbformat_minor": 5
}
