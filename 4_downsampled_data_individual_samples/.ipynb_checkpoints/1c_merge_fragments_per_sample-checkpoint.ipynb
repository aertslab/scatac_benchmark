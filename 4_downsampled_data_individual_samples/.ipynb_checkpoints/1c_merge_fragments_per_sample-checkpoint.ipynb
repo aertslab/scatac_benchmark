{
 "cells": [
  {
   "cell_type": "markdown",
   "metadata": {},
   "source": [
    "# merge fragments per-sample and append samplename"
   ]
  },
  {
   "cell_type": "code",
   "execution_count": 1,
   "metadata": {},
   "outputs": [
    {
     "name": "stdout",
     "output_type": "stream",
     "text": [
      "gzip: fragments_mm/VIB_Hydrop_1.sinto.mm.fragments.tsv already exists; do you wish to overwrite (y or n)? \n"
     ]
    }
   ],
   "source": [
    "gunzip fragments_mm/*.tsv.gz"
   ]
  },
  {
   "cell_type": "code",
   "execution_count": 2,
   "metadata": {},
   "outputs": [
    {
     "name": "stdout",
     "output_type": "stream",
     "text": [
      "fragments_mm/HYA__24010b__20210813_384_PBMC_11_S9.sinto.mm.fragments.ID.tsv\n",
      "fragments_mm/HYA__24010b__20210813_384_PBMC_11_S9.sinto.mm.fragments.tsv\n",
      "fragments_mm/HYA__2beafa__20210813_384_PBMC_12_S10.sinto.mm.fragments.ID.tsv\n",
      "fragments_mm/HYA__2beafa__20210813_384_PBMC_12_S10.sinto.mm.fragments.tsv\n",
      "fragments_mm/HYA__3d6da9__20210813_384_PBMC_21_S11.sinto.mm.fragments.ID.tsv\n",
      "fragments_mm/HYA__3d6da9__20210813_384_PBMC_21_S11.sinto.mm.fragments.tsv\n",
      "fragments_mm/HYA__5028cb__20210813_384_PBMC_22_S12.sinto.mm.fragments.ID.tsv\n",
      "fragments_mm/HYA__5028cb__20210813_384_PBMC_22_S12.sinto.mm.fragments.tsv\n",
      "fragments_mm/VIB_Hydrop_1.sinto.mm.fragments.sorted.tsv\n",
      "fragments_mm/VIB_Hydrop_1.sinto.mm.fragments.tsv\n",
      "fragments_mm/test.tsv\n"
     ]
    }
   ],
   "source": [
    "ls fragments_mm/*.tsv"
   ]
  },
  {
   "cell_type": "code",
   "execution_count": 3,
   "metadata": {},
   "outputs": [],
   "source": [
    "module load mawk"
   ]
  },
  {
   "cell_type": "markdown",
   "metadata": {},
   "source": [
    "then, for each samplename, add a unique identifier to each fragments file barcode"
   ]
  },
  {
   "cell_type": "code",
   "execution_count": 10,
   "metadata": {},
   "outputs": [],
   "source": [
    "frags=fragments_mm/HYA__5028cb__20210813_384_PBMC_22_S12.sinto.mm.fragments.tsv\n",
    "newname=${frags%.tsv}.ID.tsv\n",
    "mawk '{ print $1 \"\\t\" $2 \"\\t\" $3 \"\\t\" $4 \"-22\\t\" $5}' $frags > $newname"
   ]
  },
  {
   "cell_type": "code",
   "execution_count": 11,
   "metadata": {},
   "outputs": [
    {
     "name": "stdout",
     "output_type": "stream",
     "text": [
      "fragments_bap/fragments_mm/HYA__24010b__20210813_384_PBMC_11_S9.sinto.mm.fragments.ID.tsv\n",
      "fragments_bap/fragments_mm/HYA__2beafa__20210813_384_PBMC_12_S10.sinto.mm.fragments.ID.tsv\n",
      "fragments_bap/fragments_mm/HYA__3d6da9__20210813_384_PBMC_21_S11.sinto.mm.fragments.ID.tsv\n",
      "fragments_bap/fragments_mm/HYA__5028cb__20210813_384_PBMC_22_S12.sinto.mm.fragments.ID.tsv\n",
      "fragments_bap/fragments_mm/Hydrop_1.sinto.mm.fragments.ID.tsv\n",
      "fragments_bap/fragments_mm/Hydrop_2.sinto.mm.fragments.ID.tsv\n"
     ]
    }
   ],
   "source": [
    "ls fragments_bap/fragments_mm/*ID.tsv"
   ]
  },
  {
   "cell_type": "markdown",
   "metadata": {},
   "source": [
    "then merge the fragments files from same run"
   ]
  },
  {
   "cell_type": "code",
   "execution_count": 11,
   "metadata": {},
   "outputs": [],
   "source": [
    "module load BCFtools"
   ]
  },
  {
   "cell_type": "code",
   "execution_count": 12,
   "metadata": {},
   "outputs": [],
   "source": [
    "newfile=fragments_mm/VIB_Hydrop_1.sinto.mm.fragments.tsv\n",
    "sort --parallel=8 -S 8G -k1,1 -k 2,2n -k3,3n fragments_mm/HYA__24010b__20210813_384_PBMC_11_S9.sinto.mm.fragments.ID.tsv fragments_mm/HYA__2beafa__20210813_384_PBMC_12_S10.sinto.mm.fragments.ID.tsv > $newfile\n",
    "bgzip -@ 4 -i $newfile\n",
    "tabix -p bed $newfile.gz"
   ]
  },
  {
   "cell_type": "code",
   "execution_count": 4,
   "metadata": {},
   "outputs": [
    {
     "name": "stdout",
     "output_type": "stream",
     "text": [
      "bash: bgzip: command not found\n",
      "bash: tabix: command not found\n"
     ]
    },
    {
     "ename": "",
     "evalue": "127",
     "output_type": "error",
     "traceback": []
    }
   ],
   "source": [
    "newfile=fragments_mm/VIB_Hydrop_2.sinto.mm.fragments.tsv\n",
    "sort --parallel=8 -S 8G -k1,1 -k 2,2n -k3,3n fragments_mm/HYA__3d6da9__20210813_384_PBMC_21_S11.sinto.mm.fragments.ID.tsv fragments_mm/HYA__5028cb__20210813_384_PBMC_22_S12.sinto.mm.fragments.ID.tsv > $newfile\n",
    "bgzip -@ 4 -i $newfile\n",
    "tabix -p bed $newfile.gz"
   ]
  },
  {
   "cell_type": "markdown",
   "metadata": {},
   "source": [
    "# similarly, merge bams"
   ]
  },
  {
   "cell_type": "markdown",
   "metadata": {},
   "source": [
    "need to add an id to all the barcodes in the bams first"
   ]
  },
  {
   "cell_type": "code",
   "execution_count": 15,
   "metadata": {},
   "outputs": [
    {
     "name": "stdout",
     "output_type": "stream",
     "text": [
      "HYA__24010b__20210813_384_PBMC_11_S9.bwa.out.possorted.mm.bam\n",
      "HYA__24010b__20210813_384_PBMC_11_S9.bwa.out.possorted.mm.bam.bai\n",
      "HYA__2beafa__20210813_384_PBMC_12_S10.bwa.out.possorted.mm.bam\n",
      "HYA__2beafa__20210813_384_PBMC_12_S10.bwa.out.possorted.mm.bam.bai\n",
      "HYA__3d6da9__20210813_384_PBMC_21_S11.bwa.out.possorted.mm.bam\n",
      "HYA__3d6da9__20210813_384_PBMC_21_S11.bwa.out.possorted.mm.bam.bai\n",
      "HYA__5028cb__20210813_384_PBMC_22_S12.bwa.out.possorted.mm.bam\n",
      "HYA__5028cb__20210813_384_PBMC_22_S12.bwa.out.possorted.mm.bam.bai\n"
     ]
    }
   ],
   "source": [
    "ls bam_postbap"
   ]
  },
  {
   "cell_type": "code",
   "execution_count": 16,
   "metadata": {},
   "outputs": [
    {
     "name": "stdout",
     "output_type": "stream",
     "text": [
      "[1] 15971\n"
     ]
    }
   ],
   "source": [
    "bam=bam_postbap/HYA__24010b__20210813_384_PBMC_11_S9.bwa.out.possorted.mm.bam\n",
    "outbam=${bam%.bam}.ID.bam\n",
    "/staging/leuven/stg_00002/lcb/ghuls/software/single_cell_toolkit_rust/target/release/append_string_to_bc_tag_try $bam $outbam DB '-11' &"
   ]
  },
  {
   "cell_type": "code",
   "execution_count": 18,
   "metadata": {},
   "outputs": [
    {
     "name": "stdout",
     "output_type": "stream",
     "text": [
      "[2] 16061\n"
     ]
    }
   ],
   "source": [
    "bam=bam_postbap/HYA__2beafa__20210813_384_PBMC_12_S10.bwa.out.possorted.mm.bam\n",
    "outbam=${bam%.bam}.ID.bam\n",
    "/staging/leuven/stg_00002/lcb/ghuls/software/single_cell_toolkit_rust/target/release/append_string_to_bc_tag_try $bam $outbam DB '-12' &"
   ]
  },
  {
   "cell_type": "code",
   "execution_count": 19,
   "metadata": {},
   "outputs": [
    {
     "name": "stdout",
     "output_type": "stream",
     "text": [
      "[3] 16081\n"
     ]
    }
   ],
   "source": [
    "bam=bam_postbap/HYA__3d6da9__20210813_384_PBMC_21_S11.bwa.out.possorted.mm.bam\n",
    "outbam=${bam%.bam}.ID.bam\n",
    "/staging/leuven/stg_00002/lcb/ghuls/software/single_cell_toolkit_rust/target/release/append_string_to_bc_tag_try $bam $outbam DB '-21' &"
   ]
  },
  {
   "cell_type": "code",
   "execution_count": 20,
   "metadata": {},
   "outputs": [
    {
     "name": "stdout",
     "output_type": "stream",
     "text": [
      "[4] 16118\n"
     ]
    }
   ],
   "source": [
    "bam=bam_postbap/HYA__5028cb__20210813_384_PBMC_22_S12.bwa.out.possorted.mm.bam\n",
    "outbam=${bam%.bam}.ID.bam\n",
    "/staging/leuven/stg_00002/lcb/ghuls/software/single_cell_toolkit_rust/target/release/append_string_to_bc_tag_try $bam $outbam DB '-22' &"
   ]
  },
  {
   "cell_type": "code",
   "execution_count": 23,
   "metadata": {},
   "outputs": [
    {
     "name": "stdout",
     "output_type": "stream",
     "text": [
      "[1]   Done                    /staging/leuven/stg_00002/lcb/ghuls/software/single_cell_toolkit_rust/target/release/append_string_to_bc_tag_try $bam $outbam DB '-11'\n",
      "[2]   Done                    /staging/leuven/stg_00002/lcb/ghuls/software/single_cell_toolkit_rust/target/release/append_string_to_bc_tag_try $bam $outbam DB '-12'\n",
      "[3]-  Done                    /staging/leuven/stg_00002/lcb/ghuls/software/single_cell_toolkit_rust/target/release/append_string_to_bc_tag_try $bam $outbam DB '-21'\n",
      "[4]+  Done                    /staging/leuven/stg_00002/lcb/ghuls/software/single_cell_toolkit_rust/target/release/append_string_to_bc_tag_try $bam $outbam DB '-22'\n"
     ]
    }
   ],
   "source": [
    "jobs"
   ]
  },
  {
   "cell_type": "markdown",
   "metadata": {},
   "source": [
    "Then, merge the resulting bamsm"
   ]
  },
  {
   "cell_type": "code",
   "execution_count": 24,
   "metadata": {},
   "outputs": [
    {
     "name": "stdout",
     "output_type": "stream",
     "text": [
      "\n",
      "The following have been reloaded with a version change:\n",
      "  1) XZ/5.2.4-GCCcore-6.4.0 => XZ/5.2.5-GCCcore-6.4.0\n",
      "\n",
      "[1] 18219\n",
      "[2] 18233\n"
     ]
    }
   ],
   "source": [
    "module load SAMtools\n",
    "samtools merge -@ 12 -o bam_postbap/Hydrop_1.bwa.out.possorted.mm.bam bam_postbap/HYA__24010b__20210813_384_PBMC_11_S9.bwa.out.possorted.mm.ID.bam bam_postbap/HYA__2beafa__20210813_384_PBMC_12_S10.bwa.out.possorted.mm.ID.bam -f &\n",
    "samtools merge -@ 12 -o bam_postbap/Hydrop_2.bwa.out.possorted.mm.bam bam_postbap/HYA__3d6da9__20210813_384_PBMC_21_S11.bwa.out.possorted.mm.ID.bam bam_postbap/HYA__5028cb__20210813_384_PBMC_22_S12.bwa.out.possorted.mm.ID.bam -f &"
   ]
  },
  {
   "cell_type": "code",
   "execution_count": 25,
   "metadata": {},
   "outputs": [
    {
     "name": "stdout",
     "output_type": "stream",
     "text": [
      "[1]-  Running                 samtools merge -@ 12 -o bam_postbap/Hydrop_1.bwa.out.possorted.mm.bam bam_postbap/HYA__24010b__20210813_384_PBMC_11_S9.bwa.out.possorted.mm.ID.bam bam_postbap/HYA__2beafa__20210813_384_PBMC_12_S10.bwa.out.possorted.mm.ID.bam -f &\n",
      "[2]+  Running                 samtools merge -@ 12 -o bam_postbap/Hydrop_2.bwa.out.possorted.mm.bam bam_postbap/HYA__3d6da9__20210813_384_PBMC_21_S11.bwa.out.possorted.mm.ID.bam bam_postbap/HYA__5028cb__20210813_384_PBMC_22_S12.bwa.out.possorted.mm.ID.bam -f &\n"
     ]
    }
   ],
   "source": [
    "jobs"
   ]
  },
  {
   "cell_type": "code",
   "execution_count": 34,
   "metadata": {},
   "outputs": [
    {
     "name": "stdout",
     "output_type": "stream",
     "text": [
      "[3] 22295\n",
      "[4] 22296\n"
     ]
    }
   ],
   "source": [
    "samtools index bam_postbap/Hydrop_1.bwa.out.possorted.mm.bam &\n",
    "samtools index bam_postbap/Hydrop_2.bwa.out.possorted.mm.bam &"
   ]
  },
  {
   "cell_type": "code",
   "execution_count": 35,
   "metadata": {},
   "outputs": [
    {
     "name": "stdout",
     "output_type": "stream",
     "text": [
      "[1]   Running                 samtools index bam_postbap/HYA__2beafa__20210813_384_PBMC_12_S10.bwa.out.possorted.mm.ID.bam &\n",
      "[2]   Running                 samtools index bam_postbap/HYA__5028cb__20210813_384_PBMC_22_S12.bwa.out.possorted.mm.ID.bam &\n",
      "[3]-  Running                 samtools index bam_postbap/Hydrop_1.bwa.out.possorted.mm.bam &\n",
      "[4]+  Running                 samtools index bam_postbap/Hydrop_2.bwa.out.possorted.mm.bam &\n"
     ]
    }
   ],
   "source": [
    "jobs"
   ]
  },
  {
   "cell_type": "code",
   "execution_count": null,
   "metadata": {},
   "outputs": [],
   "source": []
  }
 ],
 "metadata": {
  "kernelspec": {
   "display_name": "Bash",
   "language": "bash",
   "name": "bash"
  },
  "language_info": {
   "codemirror_mode": "shell",
   "file_extension": ".sh",
   "mimetype": "text/x-sh",
   "name": "bash"
  }
 },
 "nbformat": 4,
 "nbformat_minor": 4
}
