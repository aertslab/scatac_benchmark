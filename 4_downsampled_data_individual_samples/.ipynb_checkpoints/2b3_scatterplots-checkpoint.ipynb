{
 "cells": [
  {
   "cell_type": "code",
   "execution_count": 1,
   "id": "820368bb",
   "metadata": {
    "papermill": {
     "duration": 0.071679,
     "end_time": "2021-11-10T13:41:57.407732",
     "exception": false,
     "start_time": "2021-11-10T13:41:57.336053",
     "status": "completed"
    },
    "tags": [
     "injected-parameters"
    ]
   },
   "outputs": [],
   "source": [
    "# Parameters\n",
    "SAMPLES = \"Broad_mito_1,VIB_Hydrop_1,Broad_mito_2,VIB_Hydrop_2,Broad_1,Sanger_1,Broad_2,CNAG_1,Stanford_2,Stanford_1,CNAG_2,s3atac,VIB_2,VIB_1,Sanger_2,VIB_Hydrop_1,VIB_Hydrop_2\"\n",
    "METADATAPKL = \"out_qc_merged/data/pycistopic/qc/metadata_bc_dict.pkl\"\n",
    "PROFDATAPKL = \"out_qc_merged/data/pycistopic/qc/profile_data_dict.pkl\"\n",
    "WORKFLOW_PARAMETERS = \"{\\\"container\\\":\\\"/staging/leuven/stg_00002/lcb/cflerin/containers/aertslab-pycistopic-latest.sif\\\",\\\"biomart_annot\\\":{\\\"biomart_dataset_name\\\":\\\"hsapiens_gene_ensembl\\\",\\\"biomart_host\\\":\\\"http://www.ensembl.org\\\"},\\\"macs2_call_peaks\\\":{\\\"gsize\\\":\\\"hs\\\",\\\"qvalue\\\":0.01,\\\"extsize\\\":146,\\\"shift\\\":73,\\\"keepdup\\\":\\\"all\\\"},\\\"compute_qc_stats\\\":{\\\"n_frag\\\":100,\\\"tss_flank_window\\\":2000,\\\"tss_window\\\":50,\\\"tss_minimum_signal_window\\\":100,\\\"tss_rolling_window\\\":10,\\\"min_norm\\\":0.1},\\\"call_cells\\\":{\\\"report_ipynb\\\":\\\"/src/pycistopic/bin/pycisTopic_qc_report_template.ipynb\\\",\\\"use_density_coloring_on_scatterplot\\\":true,\\\"use_detailed_title_on_scatterplot\\\":true,\\\"filter_frags_lower\\\":{\\\"Broad_1\\\":3000,\\\"Broad_2\\\":3000,\\\"Broad_mito_1\\\":3500,\\\"Broad_mito_2\\\":3500,\\\"CNAG_1\\\":2000,\\\"CNAG_2\\\":2500,\\\"Sanger_1\\\":7000,\\\"Sanger_2\\\":7000,\\\"VIB_1\\\":3500,\\\"VIB_2\\\":3500,\\\"Stanford_1\\\":7000,\\\"Stanford_2\\\":4000,\\\"atac_pbmc_5k_v1\\\":3000,\\\"atac_pbmc_5k_nextgem\\\":3000,\\\"pbmc_unsorted_3k\\\":2000,\\\"s3atac\\\":10000,\\\"VIB_Hydrop_1\\\":,\\\"VIB_Hydrop_2\\\":1000},\\\"filter_tss_lower\\\":{\\\"Broad_1\\\":17,\\\"Broad_2\\\":17,\\\"Broad_mito_1\\\":12,\\\"Broad_mito_2\\\":12,\\\"CNAG_1\\\":13,\\\"CNAG_2\\\":13,\\\"Sanger_1\\\":10,\\\"Sanger_2\\\":10,\\\"VIB_1\\\":16,\\\"VIB_2\\\":13,\\\"Stanford_1\\\":10,\\\"Stanford_2\\\":10,\\\"atac_pbmc_5k_v1\\\":16,\\\"atac_pbmc_5k_nextgem\\\":16,\\\"pbmc_unsorted_3k\\\":15,\\\"s3atac\\\":4,\\\"VIB_Hydrop_1\\\":15,\\\"VIB_Hydrop_2\\\":15},\\\"filter_frags_upper\\\":\\\"\\\",\\\"filter_tss_upper\\\":\\\"\\\",\\\"filter_frip_lower\\\":\\\"\\\",\\\"filter_frip_upper\\\":\\\"\\\",\\\"filter_dup_rate_lower\\\":\\\"\\\",\\\"filter_dup_rate_upper\\\":\\\"\\\"}}\"\n",
    "WORKFLOW_PARAMETERS = \"{\\\"container\\\":\\\"/staging/leuven/stg_00002/lcb/cflerin/containers/aertslab-pycistopic-latest.sif\\\",\\\"biomart_annot\\\":{\\\"biomart_dataset_name\\\":\\\"hsapiens_gene_ensembl\\\",\\\"biomart_host\\\":\\\"http://www.ensembl.org\\\"},\\\"macs2_call_peaks\\\":{\\\"gsize\\\":\\\"hs\\\",\\\"qvalue\\\":0.01,\\\"extsize\\\":146,\\\"shift\\\":73,\\\"keepdup\\\":\\\"all\\\"},\\\"compute_qc_stats\\\":{\\\"n_frag\\\":100,\\\"tss_flank_window\\\":2000,\\\"tss_window\\\":50,\\\"tss_minimum_signal_window\\\":100,\\\"tss_rolling_window\\\":10,\\\"min_norm\\\":0.1},\\\"call_cells\\\":{\\\"report_ipynb\\\":\\\"/src/pycistopic/bin/pycisTopic_qc_report_template.ipynb\\\",\\\"use_density_coloring_on_scatterplot\\\":true,\\\"use_detailed_title_on_scatterplot\\\":true,\\\"filter_frags_lower\\\":{\\\"Broad_1\\\":3000,\\\"Broad_2\\\":3000,\\\"Broad_mito_1\\\":3500,\\\"Broad_mito_2\\\":3500,\\\"CNAG_1\\\":1500,\\\"CNAG_2\\\":2000,\\\"Sanger_1\\\":3000,\\\"Sanger_2\\\":3000,\\\"VIB_1\\\":2000,\\\"VIB_2\\\":3500,\\\"Stanford_1\\\":2000,\\\"Stanford_2\\\":2000,\\\"atac_pbmc_5k_v1\\\":3000,\\\"atac_pbmc_5k_nextgem\\\":3000,\\\"pbmc_unsorted_3k\\\":2000,\\\"s3atac\\\":1500,\\\"VIB_Hydrop_1\\\":900,\\\"VIB_Hydrop_2\\\":900},\\\"filter_tss_lower\\\":{\\\"Broad_1\\\":17,\\\"Broad_2\\\":17,\\\"Broad_mito_1\\\":12,\\\"Broad_mito_2\\\":12,\\\"CNAG_1\\\":13,\\\"CNAG_2\\\":13,\\\"Sanger_1\\\":10,\\\"Sanger_2\\\":10,\\\"VIB_1\\\":16,\\\"VIB_2\\\":13,\\\"Stanford_1\\\":10,\\\"Stanford_2\\\":10,\\\"atac_pbmc_5k_v1\\\":16,\\\"atac_pbmc_5k_nextgem\\\":16,\\\"pbmc_unsorted_3k\\\":15,\\\"s3atac\\\":4,\\\"VIB_Hydrop_1\\\":15,\\\"VIB_Hydrop_2\\\":15},\\\"filter_frags_upper\\\":\\\"\\\",\\\"filter_tss_upper\\\":\\\"\\\",\\\"filter_frip_lower\\\":\\\"\\\",\\\"filter_frip_upper\\\":\\\"\\\",\\\"filter_dup_rate_lower\\\":\\\"\\\",\\\"filter_dup_rate_upper\\\":\\\"\\\"}}\""
   ]
  },
  {
   "cell_type": "markdown",
   "id": "3bd4760d",
   "metadata": {
    "papermill": {
     "duration": 0.046455,
     "end_time": "2021-11-10T13:41:57.507386",
     "exception": false,
     "start_time": "2021-11-10T13:41:57.460931",
     "status": "completed"
    },
    "tags": []
   },
   "source": [
    "# VSN Pipelines: pycisTopic QC report\n",
    "\n",
    "scATAC-seq quality control and cell calling from pycisTopic (https://github.com/aertslab/pycisTopic)"
   ]
  },
  {
   "cell_type": "code",
   "execution_count": 2,
   "id": "8bdd5dd6",
   "metadata": {
    "papermill": {
     "duration": 0.062556,
     "end_time": "2021-11-10T13:41:57.616810",
     "exception": false,
     "start_time": "2021-11-10T13:41:57.554254",
     "status": "completed"
    },
    "tags": []
   },
   "outputs": [
    {
     "data": {
      "text/plain": [
       "'0.1.dev300+g7494158'"
      ]
     },
     "execution_count": 2,
     "metadata": {},
     "output_type": "execute_result"
    }
   ],
   "source": [
    "import pycisTopic\n",
    "pycisTopic.__version__"
   ]
  },
  {
   "cell_type": "code",
   "execution_count": 3,
   "id": "9ac73961",
   "metadata": {
    "papermill": {
     "duration": 0.057205,
     "end_time": "2021-11-10T13:41:57.720828",
     "exception": false,
     "start_time": "2021-11-10T13:41:57.663623",
     "status": "completed"
    },
    "tags": []
   },
   "outputs": [],
   "source": [
    "import warnings\n",
    "warnings.filterwarnings('ignore')\n",
    "warnings.simplefilter('ignore')"
   ]
  },
  {
   "cell_type": "code",
   "execution_count": 4,
   "id": "17530373",
   "metadata": {
    "papermill": {
     "duration": 2.098375,
     "end_time": "2021-11-10T13:41:59.867108",
     "exception": false,
     "start_time": "2021-11-10T13:41:57.768733",
     "status": "completed"
    },
    "tags": []
   },
   "outputs": [],
   "source": [
    "import pybiomart as pbm\n",
    "import pandas as pd\n",
    "import pickle\n",
    "import re\n",
    "import os\n",
    "import json\n",
    "\n",
    "import matplotlib.pyplot as plt\n",
    "import numpy as np\n",
    "import seaborn as sns\n",
    "\n",
    "%matplotlib inline"
   ]
  },
  {
   "cell_type": "code",
   "execution_count": 5,
   "id": "652d378a",
   "metadata": {
    "papermill": {
     "duration": 0.061091,
     "end_time": "2021-11-10T13:41:59.979146",
     "exception": false,
     "start_time": "2021-11-10T13:41:59.918055",
     "status": "completed"
    },
    "tags": []
   },
   "outputs": [
    {
     "name": "stdout",
     "output_type": "stream",
     "text": [
      "SAMPLES: ['Broad_mito_1', 'VIB_Hydrop_1', 'Broad_mito_2', 'VIB_Hydrop_2', 'Broad_1', 'Sanger_1', 'Broad_2', 'CNAG_1', 'Stanford_2', 'Stanford_1', 'CNAG_2', 's3atac', 'VIB_2', 'VIB_1', 'Sanger_2', 'VIB_Hydrop_1', 'VIB_Hydrop_2']\n",
      "pycisTopic parameters: {\n",
      "    \"container\": \"/staging/leuven/stg_00002/lcb/cflerin/containers/aertslab-pycistopic-latest.sif\",\n",
      "    \"biomart_annot\": {\n",
      "        \"biomart_dataset_name\": \"hsapiens_gene_ensembl\",\n",
      "        \"biomart_host\": \"http://www.ensembl.org\"\n",
      "    },\n",
      "    \"macs2_call_peaks\": {\n",
      "        \"gsize\": \"hs\",\n",
      "        \"qvalue\": 0.01,\n",
      "        \"extsize\": 146,\n",
      "        \"shift\": 73,\n",
      "        \"keepdup\": \"all\"\n",
      "    },\n",
      "    \"compute_qc_stats\": {\n",
      "        \"n_frag\": 100,\n",
      "        \"tss_flank_window\": 2000,\n",
      "        \"tss_window\": 50,\n",
      "        \"tss_minimum_signal_window\": 100,\n",
      "        \"tss_rolling_window\": 10,\n",
      "        \"min_norm\": 0.1\n",
      "    },\n",
      "    \"call_cells\": {\n",
      "        \"report_ipynb\": \"/src/pycistopic/bin/pycisTopic_qc_report_template.ipynb\",\n",
      "        \"use_density_coloring_on_scatterplot\": true,\n",
      "        \"use_detailed_title_on_scatterplot\": true,\n",
      "        \"filter_frags_lower\": {\n",
      "            \"Broad_1\": 3000,\n",
      "            \"Broad_2\": 3000,\n",
      "            \"Broad_mito_1\": 3500,\n",
      "            \"Broad_mito_2\": 3500,\n",
      "            \"CNAG_1\": 1500,\n",
      "            \"CNAG_2\": 2000,\n",
      "            \"Sanger_1\": 3000,\n",
      "            \"Sanger_2\": 3000,\n",
      "            \"VIB_1\": 2000,\n",
      "            \"VIB_2\": 3500,\n",
      "            \"Stanford_1\": 2000,\n",
      "            \"Stanford_2\": 2000,\n",
      "            \"atac_pbmc_5k_v1\": 3000,\n",
      "            \"atac_pbmc_5k_nextgem\": 3000,\n",
      "            \"pbmc_unsorted_3k\": 2000,\n",
      "            \"s3atac\": 1500,\n",
      "            \"VIB_Hydrop_1\": 900,\n",
      "            \"VIB_Hydrop_2\": 900\n",
      "        },\n",
      "        \"filter_tss_lower\": {\n",
      "            \"Broad_1\": 17,\n",
      "            \"Broad_2\": 17,\n",
      "            \"Broad_mito_1\": 12,\n",
      "            \"Broad_mito_2\": 12,\n",
      "            \"CNAG_1\": 13,\n",
      "            \"CNAG_2\": 13,\n",
      "            \"Sanger_1\": 10,\n",
      "            \"Sanger_2\": 10,\n",
      "            \"VIB_1\": 16,\n",
      "            \"VIB_2\": 13,\n",
      "            \"Stanford_1\": 10,\n",
      "            \"Stanford_2\": 10,\n",
      "            \"atac_pbmc_5k_v1\": 16,\n",
      "            \"atac_pbmc_5k_nextgem\": 16,\n",
      "            \"pbmc_unsorted_3k\": 15,\n",
      "            \"s3atac\": 4,\n",
      "            \"VIB_Hydrop_1\": 15,\n",
      "            \"VIB_Hydrop_2\": 15\n",
      "        },\n",
      "        \"filter_frags_upper\": \"\",\n",
      "        \"filter_tss_upper\": \"\",\n",
      "        \"filter_frip_lower\": \"\",\n",
      "        \"filter_frip_upper\": \"\",\n",
      "        \"filter_dup_rate_lower\": \"\",\n",
      "        \"filter_dup_rate_upper\": \"\"\n",
      "    }\n",
      "}\n"
     ]
    }
   ],
   "source": [
    "params = json.loads(WORKFLOW_PARAMETERS)\n",
    "\n",
    "sample_ids = SAMPLES.split(',')\n",
    "\n",
    "print(f\"SAMPLES: {sample_ids}\")\n",
    "print(f\"pycisTopic parameters: {json.dumps(params, indent=4)}\")"
   ]
  },
  {
   "cell_type": "code",
   "execution_count": 6,
   "id": "5dbc31a0",
   "metadata": {
    "papermill": {
     "duration": 4.87868,
     "end_time": "2021-11-10T13:42:04.907510",
     "exception": false,
     "start_time": "2021-11-10T13:42:00.028830",
     "status": "completed"
    },
    "tags": []
   },
   "outputs": [],
   "source": [
    "# Load metadata\n",
    "infile = open(METADATAPKL, 'rb')\n",
    "metadata_bc_dict = pickle.load(infile)\n",
    "infile.close()"
   ]
  },
  {
   "cell_type": "code",
   "execution_count": 7,
   "id": "bf2d9962",
   "metadata": {
    "papermill": {
     "duration": 41.298884,
     "end_time": "2021-11-10T13:42:46.258182",
     "exception": false,
     "start_time": "2021-11-10T13:42:04.959298",
     "status": "completed"
    },
    "tags": []
   },
   "outputs": [],
   "source": [
    "# Load profile data\n",
    "infile = open(PROFDATAPKL, 'rb')\n",
    "profile_data_dict = pickle.load(infile)\n",
    "infile.close()"
   ]
  },
  {
   "cell_type": "markdown",
   "id": "37a3b280",
   "metadata": {
    "papermill": {
     "duration": 0.05273,
     "end_time": "2021-11-10T13:42:48.997760",
     "exception": false,
     "start_time": "2021-11-10T13:42:48.945030",
     "status": "completed"
    },
    "tags": []
   },
   "source": [
    "## QC summary"
   ]
  },
  {
   "cell_type": "code",
   "execution_count": 8,
   "id": "46b549e6",
   "metadata": {},
   "outputs": [],
   "source": [
    "from collections import OrderedDict"
   ]
  },
  {
   "cell_type": "code",
   "execution_count": 9,
   "id": "fbd65cef",
   "metadata": {},
   "outputs": [],
   "source": [
    "alias_dict={\n",
    "    \"Broad_1\": \"BioRad ATAC 1\",\n",
    "    \"Broad_2\": \"BioRad ATAC 2\",\n",
    "    \"Stanford_1\": \"10x ATAC A1\",\n",
    "    \"Stanford_2\": \"10x ATAC A2\",\n",
    "    \"VIB_1\": \"10x ATAC B1\",\n",
    "    \"VIB_2\": \"10x ATAC B2\",\n",
    "    \"CNAG_1\": \"10x ATAC C1\",\n",
    "    \"CNAG_2\": \"10x ATAC C2\",\n",
    "    \"Broad_mito_1\": \"10x mtATAC 1\",\n",
    "    \"Broad_mito_2\": \"10x mtATAC 2\",\n",
    "    \"Sanger_1\": \"10x Multiome 1\",\n",
    "    \"Sanger_2\": \"10x Multiome 2\",\n",
    "    \"VIB_Hydrop_1\": \"Hydrop ATAC 1\",\n",
    "    \"VIB_Hydrop_2\": \"Hydrop ATAC 2\",\n",
    "    \"s3atac\": \"s3 ATAC\",\n",
    "    #\"merged\": \"Merged\"\n",
    "}"
   ]
  },
  {
   "cell_type": "code",
   "execution_count": 10,
   "id": "fcbb88d8",
   "metadata": {},
   "outputs": [],
   "source": [
    "tech_dict = OrderedDict({\n",
    "    \"Broad_1\": \"BioRad ATAC\",\n",
    "    \"Broad_2\": \"BioRad ATAC\",\n",
    "    \"Stanford_1\": \"10x ATAC A\",\n",
    "    \"Stanford_2\": \"10x ATAC A\",\n",
    "    \"VIB_1\": \"10x ATAC B\",\n",
    "    \"VIB_2\": \"10x ATAC B\",\n",
    "    \"CNAG_1\": \"10x ATAC C\",\n",
    "    \"CNAG_2\": \"10x ATAC C\",\n",
    "    \"Broad_mito_1\": \"10x mtATAC\",\n",
    "    \"Broad_mito_2\": \"10x mtATAC\",\n",
    "    \"Sanger_1\": \"10x Multiome\",\n",
    "    \"Sanger_2\": \"10x Multiome\",\n",
    "    \"VIB_Hydrop_1\": \"Hydrop ATAC\",\n",
    "    \"VIB_Hydrop_2\": \"Hydrop ATAC\",\n",
    "    \"s3atac\": \"s3 ATAC\",\n",
    "    # \"merged\": \"Merged\"\n",
    "})"
   ]
  },
  {
   "cell_type": "code",
   "execution_count": 11,
   "id": "a4e3d45f",
   "metadata": {},
   "outputs": [],
   "source": [
    "color_dict = OrderedDict({\n",
    "    \"Broad_mito_1\": \"#9467bd\",\n",
    "    \"Broad_mito_2\": \"#c5b0d5\",\n",
    "    \"CNAG_1\": \"#d62728\",\n",
    "    \"CNAG_2\": \"#ff9896\",\n",
    "    \"Broad_1\": \"#1f77b4\",\n",
    "    \"Broad_2\": \"#aec7e8\",\n",
    "    \"Sanger_1\": \"#8c564b\",\n",
    "    \"Sanger_2\": \"#c49c94\",\n",
    "    \"Stanford_1\": \"#ff7f0e\",\n",
    "    \"Stanford_2\": \"#ffbb78\",\n",
    "    \"VIB_1\": \"#2ca02c\",\n",
    "    \"VIB_2\": \"#98df8a\",\n",
    "    \"VIB_Hydrop_1\": \"#e377c2\",\n",
    "    \"VIB_Hydrop_2\": \"#f7b6d2\",\n",
    "    \"s3atac\": \"#7f7f7f\",\n",
    "    #\"merged\": \"#111111\"\n",
    "    # \"none\": 'k'\n",
    "})"
   ]
  },
  {
   "cell_type": "code",
   "execution_count": 12,
   "id": "afa9aa17",
   "metadata": {},
   "outputs": [
    {
     "name": "stdout",
     "output_type": "stream",
     "text": [
      "Stanford_1\n",
      "\t 756\n",
      "Stanford_2\n",
      "\t 1406\n",
      "CNAG_1\n",
      "\t 2660\n",
      "CNAG_2\n",
      "\t 2662\n",
      "VIB_1\n",
      "\t 2827\n",
      "Sanger_1\n",
      "\t 3186\n",
      "s3atac\n",
      "\t 3050\n",
      "Broad_mito_2\n",
      "\t 3284\n",
      "Broad_mito_1\n",
      "\t 3466\n",
      "Broad_2\n",
      "\t 3987\n",
      "Sanger_2\n",
      "\t 3903\n",
      "Broad_1\n",
      "\t 4147\n",
      "VIB_2\n",
      "\t 7282\n",
      "VIB_Hydrop_1\n",
      "\t 2304\n",
      "VIB_Hydrop_2\n",
      "\t 2675\n"
     ]
    }
   ],
   "source": [
    "for key in metadata_bc_dict.keys():\n",
    "    print(key)\n",
    "    metadata_bc_dict[key]['sample_id'] = key\n",
    "    metadata_bc_dict[key]['alias'] = alias_dict[key]\n",
    "    metadata_bc_dict[key]['tech'] = tech_dict[key]\n",
    "    suffix = '-' + key\n",
    "    # metadata_bc_dict[key] = metadata_bc_dict[key].set_index(metadata_bc_dict[key].index.astype(str) + suffix)\n",
    "    metadata_bc_dict[key]['is_cell'] = alias_dict[key]\n",
    "    metadata_bc_dict[key].is_cell[metadata_bc_dict[key].TSS_enrichment < params['call_cells']['filter_tss_lower'][key]] = 'none'\n",
    "    metadata_bc_dict[key].is_cell[metadata_bc_dict[key].Unique_nr_frag < params['call_cells']['filter_frags_lower'][key]] = 'none'\n",
    "    n_cells = len(metadata_bc_dict[key].loc[metadata_bc_dict[key]['is_cell'] != 'none'])\n",
    "    print(f'\\t {n_cells}')"
   ]
  },
  {
   "cell_type": "code",
   "execution_count": 13,
   "id": "79dc53bc",
   "metadata": {},
   "outputs": [
    {
     "name": "stdout",
     "output_type": "stream",
     "text": [
      "Stanford_1\n",
      "Stanford_2\n",
      "CNAG_1\n",
      "CNAG_2\n",
      "VIB_1\n",
      "Sanger_1\n",
      "s3atac\n",
      "Broad_mito_2\n",
      "Broad_mito_1\n",
      "Broad_2\n",
      "Sanger_2\n",
      "Broad_1\n",
      "VIB_2\n",
      "VIB_Hydrop_1\n",
      "VIB_Hydrop_2\n"
     ]
    }
   ],
   "source": [
    "metadata_bc_df = pd.DataFrame()\n",
    "for key in metadata_bc_dict.keys():\n",
    "    print(key)\n",
    "    metadata_bc_df = pd.concat([metadata_bc_df, metadata_bc_dict[key]])"
   ]
  },
  {
   "cell_type": "code",
   "execution_count": 14,
   "id": "a2e84a62",
   "metadata": {},
   "outputs": [],
   "source": [
    "color_alias_dict = {alias_dict[key]:color_dict[key] for key in color_dict.keys()}"
   ]
  },
  {
   "cell_type": "code",
   "execution_count": 15,
   "id": "e6f41005",
   "metadata": {},
   "outputs": [],
   "source": [
    "order = [tech_dict[x] for x in alias_dict.keys()]"
   ]
  },
  {
   "cell_type": "code",
   "execution_count": 16,
   "id": "5aac8758",
   "metadata": {},
   "outputs": [],
   "source": [
    "order =['BioRad ATAC',\n",
    " '10x ATAC A',\n",
    " '10x ATAC B',\n",
    " '10x ATAC C',\n",
    " '10x mtATAC',\n",
    " '10x Multiome',\n",
    " 'Hydrop ATAC',\n",
    " 's3 ATAC']"
   ]
  },
  {
   "cell_type": "markdown",
   "id": "0cf80bb5",
   "metadata": {},
   "source": [
    "# now remake this but in a more controllable fashion"
   ]
  },
  {
   "cell_type": "code",
   "execution_count": 17,
   "id": "b26e2c31",
   "metadata": {},
   "outputs": [],
   "source": [
    "ylim_dict = {\n",
    "    \"TSS_enrichment\": [0, 60],\n",
    "    \"FRIP\": [0, 1],\n",
    "    \"Dupl_rate\": [0, 1]\n",
    "}"
   ]
  },
  {
   "cell_type": "code",
   "execution_count": 18,
   "id": "a6ee4bd3",
   "metadata": {},
   "outputs": [],
   "source": [
    "ylabel_dict = {\n",
    "    \"TSS_enrichment\": \"TSS Enrichment\",\n",
    "    \"FRIP\": \"FRIP\",\n",
    "    \"Dupl_rate\": \"Duplication rate\"\n",
    "}"
   ]
  },
  {
   "cell_type": "code",
   "execution_count": 19,
   "id": "ff176887",
   "metadata": {},
   "outputs": [],
   "source": [
    "cutoff_dict = {\n",
    "    \"TSS_enrichment\":params['call_cells']['filter_tss_lower'],\n",
    "    \"Unique_nr_frag\":params['call_cells']['filter_frags_lower']\n",
    "}"
   ]
  },
  {
   "cell_type": "code",
   "execution_count": 20,
   "id": "23f1d59b",
   "metadata": {},
   "outputs": [],
   "source": [
    "color_alias_dict = {alias_dict[key]:color_dict[key] for key in color_dict.keys()}\n",
    "color_alias_dict['none'] = 'k'"
   ]
  },
  {
   "cell_type": "code",
   "execution_count": 21,
   "id": "234d045e",
   "metadata": {},
   "outputs": [],
   "source": [
    "sns.set_style('white')"
   ]
  },
  {
   "cell_type": "code",
   "execution_count": 23,
   "id": "df7e448a",
   "metadata": {
    "tags": []
   },
   "outputs": [
    {
     "name": "stdout",
     "output_type": "stream",
     "text": [
      "Stanford_1\n",
      "Stanford_2\n",
      "CNAG_1\n",
      "CNAG_2\n",
      "VIB_1\n",
      "Sanger_1\n",
      "s3atac\n",
      "Broad_mito_2\n",
      "Broad_mito_1\n",
      "Broad_2\n",
      "Sanger_2\n",
      "Broad_1\n",
      "VIB_2\n",
      "VIB_Hydrop_1\n",
      "VIB_Hydrop_2\n"
     ]
    }
   ],
   "source": [
    "df_sub = pd.DataFrame()\n",
    "for x in metadata_bc_df['sample_id'].unique():\n",
    "    print(x)\n",
    "    df_sub = pd.concat([df_sub, metadata_bc_df[metadata_bc_df['sample_id'] == x].iloc[0]], axis=1)\n",
    "    # print(f'{df_sub.iloc[0]}')\n",
    "    # print('\\n')\n",
    "df_sub = df_sub.T"
   ]
  },
  {
   "cell_type": "code",
   "execution_count": 1,
   "id": "cb5ab540",
   "metadata": {},
   "outputs": [],
   "source": [
    "x_max = 200000"
   ]
  },
  {
   "cell_type": "code",
   "execution_count": 2,
   "id": "34bdd5ce",
   "metadata": {},
   "outputs": [
    {
     "ename": "NameError",
     "evalue": "name 'plt' is not defined",
     "output_type": "error",
     "traceback": [
      "\u001b[0;31m---------------------------------------------------------------------------\u001b[0m",
      "\u001b[0;31mNameError\u001b[0m                                 Traceback (most recent call last)",
      "\u001b[0;32m/local_scratch/tmp-vsc33042/ipykernel_29964/460551951.py\u001b[0m in \u001b[0;36m<module>\u001b[0;34m\u001b[0m\n\u001b[1;32m      9\u001b[0m  's3 ATAC']\n\u001b[1;32m     10\u001b[0m \u001b[0;34m\u001b[0m\u001b[0m\n\u001b[0;32m---> 11\u001b[0;31m \u001b[0mf\u001b[0m\u001b[0;34m,\u001b[0m \u001b[0maxes\u001b[0m \u001b[0;34m=\u001b[0m \u001b[0mplt\u001b[0m\u001b[0;34m.\u001b[0m\u001b[0msubplots\u001b[0m\u001b[0;34m(\u001b[0m\u001b[0mlen\u001b[0m\u001b[0;34m(\u001b[0m\u001b[0mvar_to_plot\u001b[0m\u001b[0;34m)\u001b[0m\u001b[0;34m,\u001b[0m \u001b[0mlen\u001b[0m\u001b[0;34m(\u001b[0m\u001b[0morder\u001b[0m\u001b[0;34m)\u001b[0m\u001b[0;34m,\u001b[0m \u001b[0mfigsize\u001b[0m\u001b[0;34m=\u001b[0m\u001b[0;34m(\u001b[0m\u001b[0mlen\u001b[0m\u001b[0;34m(\u001b[0m\u001b[0morder\u001b[0m\u001b[0;34m)\u001b[0m\u001b[0;34m*\u001b[0m\u001b[0;36m3\u001b[0m\u001b[0;34m,\u001b[0m \u001b[0mlen\u001b[0m\u001b[0;34m(\u001b[0m\u001b[0mvar_to_plot\u001b[0m\u001b[0;34m)\u001b[0m\u001b[0;34m*\u001b[0m\u001b[0;36m3\u001b[0m\u001b[0;34m)\u001b[0m\u001b[0;34m,\u001b[0m \u001b[0msharex\u001b[0m\u001b[0;34m=\u001b[0m\u001b[0;34m\"col\"\u001b[0m\u001b[0;34m,\u001b[0m \u001b[0msharey\u001b[0m\u001b[0;34m=\u001b[0m\u001b[0;34m\"row\"\u001b[0m\u001b[0;34m,\u001b[0m \u001b[0mdpi\u001b[0m\u001b[0;34m=\u001b[0m\u001b[0;36m300\u001b[0m\u001b[0;34m)\u001b[0m\u001b[0;34m\u001b[0m\u001b[0;34m\u001b[0m\u001b[0m\n\u001b[0m\u001b[1;32m     12\u001b[0m \u001b[0;32mfor\u001b[0m \u001b[0mtech\u001b[0m \u001b[0;32min\u001b[0m \u001b[0morder\u001b[0m\u001b[0;34m:\u001b[0m\u001b[0;34m\u001b[0m\u001b[0;34m\u001b[0m\u001b[0m\n\u001b[1;32m     13\u001b[0m     \u001b[0mtech_index\u001b[0m \u001b[0;34m=\u001b[0m \u001b[0morder\u001b[0m\u001b[0;34m.\u001b[0m\u001b[0mindex\u001b[0m\u001b[0;34m(\u001b[0m\u001b[0mtech\u001b[0m\u001b[0;34m)\u001b[0m\u001b[0;34m\u001b[0m\u001b[0;34m\u001b[0m\u001b[0m\n",
      "\u001b[0;31mNameError\u001b[0m: name 'plt' is not defined"
     ]
    }
   ],
   "source": [
    "var_to_plot = [\"TSS_enrichment\", \"FRIP\", \"Dupl_rate\"]\n",
    "order =['BioRad ATAC',\n",
    " '10x ATAC A',\n",
    " '10x ATAC B',\n",
    " '10x ATAC C',\n",
    " '10x mtATAC',\n",
    " '10x Multiome',\n",
    " 'Hydrop ATAC',\n",
    " 's3 ATAC']\n",
    "\n",
    "f, axes = plt.subplots(len(var_to_plot), len(order), figsize=(len(order)*3, len(var_to_plot)*3), sharex=\"col\", sharey=\"row\", dpi=300)\n",
    "for tech in order:\n",
    "    tech_index = order.index(tech)\n",
    "    print(f'{tech}, {tech_index}')\n",
    "    for var in var_to_plot:\n",
    "        var_index = var_to_plot.index(var)\n",
    "        print(f'\\t{var}, {var_index}')\n",
    "        \n",
    "        # plot scatter\n",
    "        hue_order = reversed(sorted(list(metadata_bc_df[metadata_bc_df['tech'] == tech][\"is_cell\"].unique())))\n",
    "        plot = sns.scatterplot(data=df_sub[df_sub['tech'] == tech].sort_values('is_cell', ascending=False), x=\"Unique_nr_frag\", y=var, hue=\"is_cell\", hue_order=hue_order, palette=color_alias_dict, linewidth=0, s=0, edgecolor=None, ax=axes[var_index, tech_index])\n",
    "        \n",
    "        # draw cutoff lines, but only when the cutoff is defined\n",
    "        # if var in cutoff_dict.keys():\n",
    "            # for sample in metadata_bc_df[metadata_bc_df['tech'] == tech]['sample_id'].unique():\n",
    "                # axes[var_index, tech_index].axvline(cutoff_dict[\"Unique_nr_frag\"][sample], color=color_dict[sample])\n",
    "                # print(f'\\t\\tadding vline at {cutoff_dict[\"Unique_nr_frag\"][sample]}')\n",
    "                \n",
    "                # axes[var_index, tech_index].axhline(cutoff_dict[var][sample], color=color_dict[sample])\n",
    "                # print(f'\\t\\tadding hline at {cutoff_dict[var][sample]}')\n",
    "        \n",
    "        # plot settings\n",
    "        plot.set(xscale=\"log\")\n",
    "        axes[var_index, tech_index].set_xlim([100, x_max])\n",
    "        axes[var_index, tech_index].set_ylim(ylim_dict[var])\n",
    "        axes[var_index, tech_index].get_legend().remove()\n",
    "        sns.despine(top=True, right=True, left=False, bottom=False, ax=axes[var_index, tech_index])\n",
    "\n",
    "        if var_index == 0:\n",
    "            plot.set_title(tech)\n",
    "        \n",
    "        if tech_index == 0:\n",
    "            plot.set_ylabel(ylabel_dict[var])\n",
    "        \n",
    "        # add subtitle with cell counts\n",
    "        counts = metadata_bc_df[metadata_bc_df['tech'] == tech]['is_cell'].value_counts()\n",
    "        idx = sorted(counts.index)\n",
    "        if var == var_to_plot[-1]:\n",
    "            if tech == 's3 ATAC':\n",
    "                plot.set_xlabel(f'log(unique fragments)\\n{idx[1]}: {counts[idx[1]]} cells', y=-0.01)\n",
    "            else:\n",
    "                plot.set_xlabel(f'log(unique fragments)\\n{idx[0]}: {counts[idx[0]]} cells\\n{idx[1]}: {counts[idx[1]]} cells', y=-0.01)\n",
    "            \n",
    "    print('\\n')\n",
    "\n",
    "f.tight_layout()\n",
    "# f.savefig('plts_pub/scatterplots_compound.png', dpi=300, facecolor='white')\n",
    "# f.savefig('plts_pub/scatterplots_compound_AGG.png', dpi=300, facecolor='white', backend='AGG')\n",
    "# f.savefig('plts_pub/scatterplots_compound.tiff', dpi=300, facecolor='white')\n",
    "# f.savefig('plts_pub/scatterplots_compound_axes_cairo.svg', dpi=300, facecolor='white', backend='Cairo')\n",
    "f.savefig('plts_pub/scatterplots_compound_axes_SVG.svg')\n"
   ]
  },
  {
   "cell_type": "code",
   "execution_count": 3,
   "id": "3a3452e0",
   "metadata": {},
   "outputs": [
    {
     "ename": "NameError",
     "evalue": "name 'plt' is not defined",
     "output_type": "error",
     "traceback": [
      "\u001b[0;31m---------------------------------------------------------------------------\u001b[0m",
      "\u001b[0;31mNameError\u001b[0m                                 Traceback (most recent call last)",
      "\u001b[0;32m/local_scratch/tmp-vsc33042/ipykernel_29964/539368810.py\u001b[0m in \u001b[0;36m<module>\u001b[0;34m\u001b[0m\n\u001b[1;32m      9\u001b[0m  's3 ATAC']\n\u001b[1;32m     10\u001b[0m \u001b[0;34m\u001b[0m\u001b[0m\n\u001b[0;32m---> 11\u001b[0;31m \u001b[0mf\u001b[0m\u001b[0;34m,\u001b[0m \u001b[0maxes\u001b[0m \u001b[0;34m=\u001b[0m \u001b[0mplt\u001b[0m\u001b[0;34m.\u001b[0m\u001b[0msubplots\u001b[0m\u001b[0;34m(\u001b[0m\u001b[0mlen\u001b[0m\u001b[0;34m(\u001b[0m\u001b[0mvar_to_plot\u001b[0m\u001b[0;34m)\u001b[0m\u001b[0;34m,\u001b[0m \u001b[0mlen\u001b[0m\u001b[0;34m(\u001b[0m\u001b[0morder\u001b[0m\u001b[0;34m)\u001b[0m\u001b[0;34m,\u001b[0m \u001b[0mfigsize\u001b[0m\u001b[0;34m=\u001b[0m\u001b[0;34m(\u001b[0m\u001b[0mlen\u001b[0m\u001b[0;34m(\u001b[0m\u001b[0morder\u001b[0m\u001b[0;34m)\u001b[0m\u001b[0;34m*\u001b[0m\u001b[0;36m3\u001b[0m\u001b[0;34m,\u001b[0m \u001b[0mlen\u001b[0m\u001b[0;34m(\u001b[0m\u001b[0mvar_to_plot\u001b[0m\u001b[0;34m)\u001b[0m\u001b[0;34m*\u001b[0m\u001b[0;36m3\u001b[0m\u001b[0;34m)\u001b[0m\u001b[0;34m,\u001b[0m \u001b[0msharex\u001b[0m\u001b[0;34m=\u001b[0m\u001b[0;34m\"col\"\u001b[0m\u001b[0;34m,\u001b[0m \u001b[0msharey\u001b[0m\u001b[0;34m=\u001b[0m\u001b[0;34m\"row\"\u001b[0m\u001b[0;34m,\u001b[0m \u001b[0mdpi\u001b[0m\u001b[0;34m=\u001b[0m\u001b[0;36m300\u001b[0m\u001b[0;34m)\u001b[0m\u001b[0;34m\u001b[0m\u001b[0;34m\u001b[0m\u001b[0m\n\u001b[0m\u001b[1;32m     12\u001b[0m \u001b[0;32mfor\u001b[0m \u001b[0mtech\u001b[0m \u001b[0;32min\u001b[0m \u001b[0morder\u001b[0m\u001b[0;34m:\u001b[0m\u001b[0;34m\u001b[0m\u001b[0;34m\u001b[0m\u001b[0m\n\u001b[1;32m     13\u001b[0m     \u001b[0mtech_index\u001b[0m \u001b[0;34m=\u001b[0m \u001b[0morder\u001b[0m\u001b[0;34m.\u001b[0m\u001b[0mindex\u001b[0m\u001b[0;34m(\u001b[0m\u001b[0mtech\u001b[0m\u001b[0;34m)\u001b[0m\u001b[0;34m\u001b[0m\u001b[0;34m\u001b[0m\u001b[0m\n",
      "\u001b[0;31mNameError\u001b[0m: name 'plt' is not defined"
     ]
    }
   ],
   "source": [
    "var_to_plot = [\"TSS_enrichment\", \"FRIP\", \"Dupl_rate\"]\n",
    "order =['BioRad ATAC',\n",
    " '10x ATAC A',\n",
    " '10x ATAC B',\n",
    " '10x ATAC C',\n",
    " '10x mtATAC',\n",
    " '10x Multiome',\n",
    " 'Hydrop ATAC',\n",
    " 's3 ATAC']\n",
    "\n",
    "f, axes = plt.subplots(len(var_to_plot), len(order), figsize=(len(order)*3, len(var_to_plot)*3), sharex=\"col\", sharey=\"row\", dpi=300)\n",
    "for tech in order:\n",
    "    tech_index = order.index(tech)\n",
    "    print(f'{tech}, {tech_index}')\n",
    "    for var in var_to_plot:\n",
    "        var_index = var_to_plot.index(var)\n",
    "        print(f'\\t{var}, {var_index}')\n",
    "        \n",
    "        # plot scatter\n",
    "        hue_order = reversed(sorted(list(metadata_bc_df[metadata_bc_df['tech'] == tech][\"is_cell\"].unique())))\n",
    "        plot = sns.scatterplot(data=metadata_bc_df[metadata_bc_df['tech'] == tech].sort_values('is_cell', ascending=False), x=\"Unique_nr_frag\", y=var, hue=\"is_cell\", hue_order=hue_order, palette=color_alias_dict, s=1.5, linewidth=0, edgecolor=None, ax=axes[var_index, tech_index])\n",
    "        \n",
    "        # draw cutoff lines, but only when the cutoff is defined\n",
    "        if var in cutoff_dict.keys():\n",
    "            for sample in metadata_bc_df[metadata_bc_df['tech'] == tech]['sample_id'].unique():\n",
    "                axes[var_index, tech_index].axvline(cutoff_dict[\"Unique_nr_frag\"][sample], color=color_dict[sample])\n",
    "                print(f'\\t\\tadding vline at {cutoff_dict[\"Unique_nr_frag\"][sample]}')\n",
    "                \n",
    "                axes[var_index, tech_index].axhline(cutoff_dict[var][sample], color=color_dict[sample])\n",
    "                print(f'\\t\\tadding hline at {cutoff_dict[var][sample]}')\n",
    "        \n",
    "        # plot settings\n",
    "        plot.set(xscale=\"log\")\n",
    "        axes[var_index, tech_index].set_xlim([100, x_max])\n",
    "        axes[var_index, tech_index].set_ylim(ylim_dict[var])\n",
    "        axes[var_index, tech_index].get_legend().remove()\n",
    "        sns.despine(top=True, right=True, left=True, bottom=True, ax=axes[var_index, tech_index])\n",
    "\n",
    "        if var_index == 0:\n",
    "            plot.set_title(tech)\n",
    "        \n",
    "        if tech_index == 0:\n",
    "            plot.set_ylabel(ylabel_dict[var])\n",
    "        \n",
    "        # add subtitle with cell counts\n",
    "        counts = metadata_bc_df[metadata_bc_df['tech'] == tech]['is_cell'].value_counts()\n",
    "        idx = sorted(counts.index)\n",
    "        if var == var_to_plot[-1]:\n",
    "            if tech == 's3 ATAC':\n",
    "                plot.set_xlabel(f'log(unique fragments)\\n{idx[1]}: {counts[idx[1]]} cells', y=-0.01)\n",
    "            else:\n",
    "                plot.set_xlabel(f'log(unique fragments)\\n{idx[0]}: {counts[idx[0]]} cells\\n{idx[1]}: {counts[idx[1]]} cells', y=-0.01)\n",
    "            \n",
    "    print('\\n')\n",
    "\n",
    "f.tight_layout()\n",
    "f.savefig('plts_pub/scatterplots_compound_noaxes.png', dpi=300, transparent=True)\n",
    "# f.savefig('plts_pub/scatterplots_compound_AGG.png', dpi=300, facecolor='white', backend='AGG')\n",
    "# f.savefig('plts_pub/scatterplots_compound.tiff', dpi=300, facecolor='white')"
   ]
  },
  {
   "cell_type": "markdown",
   "id": "f417dd6e",
   "metadata": {},
   "source": [
    "# full figure"
   ]
  },
  {
   "cell_type": "code",
   "execution_count": 4,
   "id": "fe09c11e",
   "metadata": {},
   "outputs": [
    {
     "ename": "NameError",
     "evalue": "name 'plt' is not defined",
     "output_type": "error",
     "traceback": [
      "\u001b[0;31m---------------------------------------------------------------------------\u001b[0m",
      "\u001b[0;31mNameError\u001b[0m                                 Traceback (most recent call last)",
      "\u001b[0;32m/local_scratch/tmp-vsc33042/ipykernel_29964/3530173530.py\u001b[0m in \u001b[0;36m<module>\u001b[0;34m\u001b[0m\n\u001b[1;32m      9\u001b[0m  's3 ATAC']\n\u001b[1;32m     10\u001b[0m \u001b[0;34m\u001b[0m\u001b[0m\n\u001b[0;32m---> 11\u001b[0;31m \u001b[0mf\u001b[0m\u001b[0;34m,\u001b[0m \u001b[0maxes\u001b[0m \u001b[0;34m=\u001b[0m \u001b[0mplt\u001b[0m\u001b[0;34m.\u001b[0m\u001b[0msubplots\u001b[0m\u001b[0;34m(\u001b[0m\u001b[0mlen\u001b[0m\u001b[0;34m(\u001b[0m\u001b[0mvar_to_plot\u001b[0m\u001b[0;34m)\u001b[0m\u001b[0;34m,\u001b[0m \u001b[0mlen\u001b[0m\u001b[0;34m(\u001b[0m\u001b[0morder\u001b[0m\u001b[0;34m)\u001b[0m\u001b[0;34m,\u001b[0m \u001b[0mfigsize\u001b[0m\u001b[0;34m=\u001b[0m\u001b[0;34m(\u001b[0m\u001b[0mlen\u001b[0m\u001b[0;34m(\u001b[0m\u001b[0morder\u001b[0m\u001b[0;34m)\u001b[0m\u001b[0;34m*\u001b[0m\u001b[0;36m3\u001b[0m\u001b[0;34m,\u001b[0m \u001b[0mlen\u001b[0m\u001b[0;34m(\u001b[0m\u001b[0mvar_to_plot\u001b[0m\u001b[0;34m)\u001b[0m\u001b[0;34m*\u001b[0m\u001b[0;36m3\u001b[0m\u001b[0;34m)\u001b[0m\u001b[0;34m,\u001b[0m \u001b[0msharex\u001b[0m\u001b[0;34m=\u001b[0m\u001b[0;34m\"col\"\u001b[0m\u001b[0;34m,\u001b[0m \u001b[0msharey\u001b[0m\u001b[0;34m=\u001b[0m\u001b[0;34m\"row\"\u001b[0m\u001b[0;34m,\u001b[0m \u001b[0mdpi\u001b[0m\u001b[0;34m=\u001b[0m\u001b[0;36m300\u001b[0m\u001b[0;34m)\u001b[0m\u001b[0;34m\u001b[0m\u001b[0;34m\u001b[0m\u001b[0m\n\u001b[0m\u001b[1;32m     12\u001b[0m \u001b[0;32mfor\u001b[0m \u001b[0mtech\u001b[0m \u001b[0;32min\u001b[0m \u001b[0morder\u001b[0m\u001b[0;34m:\u001b[0m\u001b[0;34m\u001b[0m\u001b[0;34m\u001b[0m\u001b[0m\n\u001b[1;32m     13\u001b[0m     \u001b[0mtech_index\u001b[0m \u001b[0;34m=\u001b[0m \u001b[0morder\u001b[0m\u001b[0;34m.\u001b[0m\u001b[0mindex\u001b[0m\u001b[0;34m(\u001b[0m\u001b[0mtech\u001b[0m\u001b[0;34m)\u001b[0m\u001b[0;34m\u001b[0m\u001b[0;34m\u001b[0m\u001b[0m\n",
      "\u001b[0;31mNameError\u001b[0m: name 'plt' is not defined"
     ]
    }
   ],
   "source": [
    "var_to_plot = [\"TSS_enrichment\", \"FRIP\", \"Dupl_rate\"]\n",
    "order =['BioRad ATAC',\n",
    " '10x ATAC A',\n",
    " '10x ATAC B',\n",
    " '10x ATAC C',\n",
    " '10x mtATAC',\n",
    " '10x Multiome',\n",
    " 'Hydrop ATAC',\n",
    " 's3 ATAC']\n",
    "\n",
    "f, axes = plt.subplots(len(var_to_plot), len(order), figsize=(len(order)*3, len(var_to_plot)*3), sharex=\"col\", sharey=\"row\", dpi=300)\n",
    "for tech in order:\n",
    "    tech_index = order.index(tech)\n",
    "    print(f'{tech}, {tech_index}')\n",
    "    for var in var_to_plot:\n",
    "        var_index = var_to_plot.index(var)\n",
    "        print(f'\\t{var}, {var_index}')\n",
    "        \n",
    "        # plot scatter\n",
    "        hue_order = reversed(sorted(list(metadata_bc_df[metadata_bc_df['tech'] == tech][\"is_cell\"].unique())))\n",
    "        plot = sns.scatterplot(data=metadata_bc_df[metadata_bc_df['tech'] == tech].sort_values('is_cell', ascending=False), x=\"Unique_nr_frag\", y=var, hue=\"is_cell\", hue_order=hue_order, palette=color_alias_dict, s=1.5, linewidth=0, edgecolor=None, ax=axes[var_index, tech_index])\n",
    "        \n",
    "        # draw cutoff lines, but only when the cutoff is defined\n",
    "        if var in cutoff_dict.keys():\n",
    "            for sample in metadata_bc_df[metadata_bc_df['tech'] == tech]['sample_id'].unique():\n",
    "                axes[var_index, tech_index].axvline(cutoff_dict[\"Unique_nr_frag\"][sample], color=color_dict[sample])\n",
    "                print(f'\\t\\tadding vline at {cutoff_dict[\"Unique_nr_frag\"][sample]}')\n",
    "                \n",
    "                axes[var_index, tech_index].axhline(cutoff_dict[var][sample], color=color_dict[sample])\n",
    "                print(f'\\t\\tadding hline at {cutoff_dict[var][sample]}')\n",
    "        \n",
    "        # plot settings\n",
    "        plot.set(xscale=\"log\")\n",
    "        axes[var_index, tech_index].set_xlim([100, 30000])\n",
    "        axes[var_index, tech_index].set_ylim(ylim_dict[var])\n",
    "        axes[var_index, tech_index].get_legend().remove()\n",
    "        sns.despine(top=True, right=True, left=False, bottom=False, ax=axes[var_index, tech_index])\n",
    "\n",
    "        if var_index == 0:\n",
    "            plot.set_title(tech)\n",
    "        \n",
    "        if tech_index == 0:\n",
    "            plot.set_ylabel(ylabel_dict[var])\n",
    "        \n",
    "        # add subtitle with cell counts\n",
    "        counts = metadata_bc_df[metadata_bc_df['tech'] == tech]['is_cell'].value_counts()\n",
    "        idx = sorted(counts.index)\n",
    "        if var == var_to_plot[-1]:\n",
    "            if tech == 's3 ATAC':\n",
    "                plot.set_xlabel(f'log(unique fragments)\\n{idx[1]}: {counts[idx[1]]} cells', y=-0.01)\n",
    "            else:\n",
    "                plot.set_xlabel(f'log(unique fragments)\\n{idx[0]}: {counts[idx[0]]} cells\\n{idx[1]}: {counts[idx[1]]} cells', y=-0.01)\n",
    "            \n",
    "    print('\\n')\n",
    "\n",
    "f.tight_layout()\n",
    "f.savefig('plts_pub/scatterplots_compound.png', dpi=300)"
   ]
  },
  {
   "cell_type": "code",
   "execution_count": null,
   "id": "d2660714",
   "metadata": {},
   "outputs": [],
   "source": []
  },
  {
   "cell_type": "code",
   "execution_count": null,
   "id": "567afadd",
   "metadata": {},
   "outputs": [],
   "source": []
  }
 ],
 "metadata": {
  "kernelspec": {
   "display_name": "pycisTopic_singularity_20210921",
   "language": "python",
   "name": "pycistopic_singularity"
  },
  "language_info": {
   "codemirror_mode": {
    "name": "ipython",
    "version": 3
   },
   "file_extension": ".py",
   "mimetype": "text/x-python",
   "name": "python",
   "nbconvert_exporter": "python",
   "pygments_lexer": "ipython3",
   "version": "3.8.6"
  },
  "papermill": {
   "default_parameters": {},
   "duration": 2655.220975,
   "end_time": "2021-11-10T14:26:08.178112",
   "environment_variables": {},
   "exception": null,
   "input_path": "2b_benchmark__pycisTopic_QC_report_finetuned.ipynb",
   "output_path": "2b_benchmark__pycisTopic_QC_report_finetuned.OUT.ipynb",
   "parameters": {
    "METADATAPKL": "benchmark__metadata.pickle",
    "PROFDATAPKL": "benchmark__profile_data.pickle",
    "SAMPLES": "Broad_mito_1,VIB_Hydrop_1,Broad_mito_2,VIB_Hydrop_2,Broad_1,Sanger_1,Broad_2,CNAG_1,Stanford_2,Stanford_1,CNAG_2,s3atac,VIB_2,VIB_1,Sanger_2",
    "WORKFLOW_PARAMETERS": "{\"container\":\"/staging/leuven/stg_00002/lcb/cflerin/containers/aertslab-pycistopic-latest.sif\",\"biomart_annot\":{\"biomart_dataset_name\":\"hsapiens_gene_ensembl\",\"biomart_host\":\"http://www.ensembl.org\"},\"macs2_call_peaks\":{\"gsize\":\"hs\",\"qvalue\":0.01,\"extsize\":146,\"shift\":73,\"keepdup\":\"all\"},\"compute_qc_stats\":{\"n_frag\":100,\"tss_flank_window\":2000,\"tss_window\":50,\"tss_minimum_signal_window\":100,\"tss_rolling_window\":10,\"min_norm\":0.1},\"call_cells\":{\"report_ipynb\":\"/src/pycistopic/bin/pycisTopic_qc_report_template.ipynb\",\"use_density_coloring_on_scatterplot\":true,\"use_detailed_title_on_scatterplot\":true,\"filter_frags_lower\":{\"Broad_1\":3000,\"Broad_2\":3000,\"Broad_mito_1\":3500,\"Broad_mito_2\":3500,\"CNAG_1\":2000,\"CNAG_2\":2500,\"Sanger_1\":7000,\"Sanger_2\":7000,\"VIB_1\":3500,\"VIB_2\":3500,\"Stanford_1\":7000,\"Stanford_2\":4000,\"atac_pbmc_5k_v1\":3000,\"atac_pbmc_5k_nextgem\":3000,\"pbmc_unsorted_3k\":2000,\"s3atac\":10000,\"VIB_Hydrop_1\":1000,\"VIB_Hydrop_2\":1000},\"filter_frags_upper\":\"\",\"filter_tss_lower\":{\"Broad_1\":17,\"Broad_2\":17,\"Broad_mito_1\":12,\"Broad_mito_2\":12,\"CNAG_1\":13,\"CNAG_2\":13,\"Sanger_1\":10,\"Sanger_2\":10,\"VIB_1\":16,\"VIB_2\":13,\"Stanford_1\":10,\"Stanford_2\":10,\"atac_pbmc_5k_v1\":16,\"atac_pbmc_5k_nextgem\":16,\"pbmc_unsorted_3k\":15,\"s3atac\":4,\"VIB_Hydrop_1\":15,\"VIB_Hydrop_2\":15},\"filter_tss_upper\":\"\",\"filter_frip_lower\":\"\",\"filter_frip_upper\":\"\",\"filter_dup_rate_lower\":\"\",\"filter_dup_rate_upper\":\"\"}}"
   },
   "start_time": "2021-11-10T13:41:52.957137",
   "version": "2.3.3"
  }
 },
 "nbformat": 4,
 "nbformat_minor": 5
}
