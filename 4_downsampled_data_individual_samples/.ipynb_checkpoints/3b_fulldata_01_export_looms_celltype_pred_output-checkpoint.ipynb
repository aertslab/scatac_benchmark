{
 "cells": [
  {
   "cell_type": "markdown",
   "id": "c5ef9f5b",
   "metadata": {
    "papermill": {
     "duration": 0.01281,
     "end_time": "2021-10-11T10:03:27.973578",
     "exception": false,
     "start_time": "2021-10-11T10:03:27.960768",
     "status": "completed"
    },
    "tags": []
   },
   "source": [
    "# pycisTopic analysis\n",
    "\n",
    "Full dataset, using SCREEN regions."
   ]
  },
  {
   "cell_type": "code",
   "execution_count": 1,
   "id": "9fbf4307",
   "metadata": {
    "papermill": {
     "duration": 0.023687,
     "end_time": "2021-10-11T10:03:28.003538",
     "exception": false,
     "start_time": "2021-10-11T10:03:27.979851",
     "status": "completed"
    },
    "tags": []
   },
   "outputs": [
    {
     "data": {
      "text/plain": [
       "'0.1.dev300+g7494158'"
      ]
     },
     "execution_count": 1,
     "metadata": {},
     "output_type": "execute_result"
    }
   ],
   "source": [
    "import pycisTopic\n",
    "pycisTopic.__version__"
   ]
  },
  {
   "cell_type": "code",
   "execution_count": 2,
   "id": "ec0d4c42",
   "metadata": {
    "papermill": {
     "duration": 0.010612,
     "end_time": "2021-10-11T10:03:28.020415",
     "exception": false,
     "start_time": "2021-10-11T10:03:28.009803",
     "status": "completed"
    },
    "tags": []
   },
   "outputs": [],
   "source": [
    "import warnings\n",
    "warnings.filterwarnings('ignore')\n",
    "warnings.simplefilter('ignore')"
   ]
  },
  {
   "cell_type": "code",
   "execution_count": 3,
   "id": "7b97d5e2",
   "metadata": {
    "papermill": {
     "duration": 0.638213,
     "end_time": "2021-10-11T10:03:28.669313",
     "exception": false,
     "start_time": "2021-10-11T10:03:28.031100",
     "status": "completed"
    },
    "tags": []
   },
   "outputs": [],
   "source": [
    "import pickle\n",
    "import pandas as pd"
   ]
  },
  {
   "cell_type": "code",
   "execution_count": 4,
   "id": "761305d8",
   "metadata": {
    "papermill": {
     "duration": 0.013263,
     "end_time": "2021-10-11T10:03:28.693935",
     "exception": false,
     "start_time": "2021-10-11T10:03:28.680672",
     "status": "completed"
    },
    "tags": []
   },
   "outputs": [],
   "source": [
    "import os\n",
    "wdir = '/lustre1/project/stg_00002/lcb/fderop/data/20211013_hca_benchmark_libds/'\n",
    "os.chdir( wdir )"
   ]
  },
  {
   "cell_type": "code",
   "execution_count": 5,
   "id": "6a442148",
   "metadata": {
    "papermill": {
     "duration": 0.011852,
     "end_time": "2021-10-11T10:03:28.712023",
     "exception": false,
     "start_time": "2021-10-11T10:03:28.700171",
     "status": "completed"
    },
    "tags": []
   },
   "outputs": [],
   "source": [
    "import glob\n",
    "from collections import OrderedDict"
   ]
  },
  {
   "cell_type": "markdown",
   "id": "9829edc8",
   "metadata": {
    "papermill": {
     "duration": 0.006705,
     "end_time": "2021-10-11T10:03:28.725067",
     "exception": false,
     "start_time": "2021-10-11T10:03:28.718362",
     "status": "completed"
    },
    "tags": []
   },
   "source": [
    "# load cistopic objs"
   ]
  },
  {
   "cell_type": "code",
   "execution_count": 6,
   "id": "aade6dec",
   "metadata": {},
   "outputs": [],
   "source": [
    "# filenames = glob.glob('fragments_postbap/*.sinto.mm.fragments.tsv.gz')\n",
    "\n",
    "filenames = [\n",
    "    'cistopic_objs__screen/VIB_Hydrop_2__cistopic_obj_filtered.pkl',\n",
    "    'cistopic_objs__screen/VIB_Hydrop_1__cistopic_obj_filtered.pkl',\n",
    "]"
   ]
  },
  {
   "cell_type": "code",
   "execution_count": 7,
   "id": "7af13803",
   "metadata": {
    "papermill": {
     "duration": 0.018082,
     "end_time": "2021-10-11T10:03:28.749421",
     "exception": false,
     "start_time": "2021-10-11T10:03:28.731339",
     "status": "completed"
    },
    "tags": []
   },
   "outputs": [
    {
     "data": {
      "text/plain": [
       "odict_keys(['VIB_Hydrop_1', 'VIB_Hydrop_2'])"
      ]
     },
     "execution_count": 7,
     "metadata": {},
     "output_type": "execute_result"
    }
   ],
   "source": [
    "samples = [item.replace(\"__cistopic_obj_filtered.pkl\", \"\") for item in filenames]\n",
    "samples = [item.replace(\"cistopic_objs__screen/\", \"\") for item in samples]\n",
    "files_dict = {samples[i]: filenames[i] for i in range(len(samples))}\n",
    "files_dict = OrderedDict(sorted(files_dict.items()))\n",
    "files_dict.keys()"
   ]
  },
  {
   "cell_type": "code",
   "execution_count": 9,
   "id": "315fe4fe",
   "metadata": {
    "papermill": {
     "duration": 24.165387,
     "end_time": "2021-10-11T10:03:52.921343",
     "exception": false,
     "start_time": "2021-10-11T10:03:28.755956",
     "status": "completed"
    },
    "tags": []
   },
   "outputs": [
    {
     "name": "stdout",
     "output_type": "stream",
     "text": [
      "Loaded filtered cistopic object VIB_Hydrop_1\n",
      "Loaded filtered cistopic object VIB_Hydrop_2\n"
     ]
    }
   ],
   "source": [
    "f_cto_dir = 'pycistopic_screen/cistopic_objs__screen'\n",
    "\n",
    "cistopic_obj_dict = {}\n",
    "for key in files_dict.keys():\n",
    "    f_cto = os.path.join(wdir, f_cto_dir, key + '__cistopic_obj_filtered.pkl')\n",
    "    if(os.path.isfile(f_cto)):\n",
    "        with open(f_cto, 'rb') as f:\n",
    "            cistopic_obj_dict[key] = pickle.load(f)\n",
    "        print(f\"Loaded filtered cistopic object {key}\")\n",
    "    else:\n",
    "        print(f\"file {f_cto} doesn't exist\")"
   ]
  },
  {
   "cell_type": "markdown",
   "id": "1eb4088b",
   "metadata": {
    "papermill": {
     "duration": 0.009326,
     "end_time": "2021-10-11T10:03:52.946326",
     "exception": false,
     "start_time": "2021-10-11T10:03:52.937000",
     "status": "completed"
    },
    "tags": []
   },
   "source": [
    "## Export region-accessibility looms\n",
    "\n",
    "For use in cell type identification\n",
    "# BE CAREFUL WITH THIS: col_attrs = barcodes -> need to make sure that the barcode will match the one in the fragments files, otherwise downstream will not work."
   ]
  },
  {
   "cell_type": "markdown",
   "id": "1caa6745",
   "metadata": {},
   "source": [
    "better is for example: `            col_attrs={ 'CellID': list(cistopic_obj_dict[key].cell_data['barcode']) }, # for hydrop\n",
    "`"
   ]
  },
  {
   "cell_type": "code",
   "execution_count": 14,
   "id": "edb1a759",
   "metadata": {
    "papermill": {
     "duration": 3.784998,
     "end_time": "2021-10-11T10:03:56.740608",
     "exception": false,
     "start_time": "2021-10-11T10:03:52.955610",
     "status": "completed"
    },
    "tags": []
   },
   "outputs": [],
   "source": [
    "import loompy as lp"
   ]
  },
  {
   "cell_type": "code",
   "execution_count": 15,
   "id": "0e3e1504",
   "metadata": {
    "papermill": {
     "duration": 0.016476,
     "end_time": "2021-10-11T10:03:56.768134",
     "exception": false,
     "start_time": "2021-10-11T10:03:56.751658",
     "status": "completed"
    },
    "tags": []
   },
   "outputs": [],
   "source": [
    "f_crl_dir = 'cell_region_loom__screen'\n",
    "if not os.path.exists(os.path.join(wdir, f_crl_dir)):\n",
    "    os.makedirs(os.path.join(wdir, f_crl_dir))"
   ]
  },
  {
   "cell_type": "code",
   "execution_count": 18,
   "id": "034dc641",
   "metadata": {},
   "outputs": [],
   "source": [
    "key = 'VIB_Hydrop_1'"
   ]
  },
  {
   "cell_type": "code",
   "execution_count": null,
   "id": "fc501602",
   "metadata": {
    "papermill": {
     "duration": 2109.369794,
     "end_time": "2021-10-11T10:39:06.147423",
     "exception": false,
     "start_time": "2021-10-11T10:03:56.777629",
     "status": "completed"
    },
    "tags": []
   },
   "outputs": [],
   "source": [
    "for key in cistopic_obj_dict.keys():\n",
    "    f_out = os.path.join(wdir, f_crl_dir, key + 'cell_region-all.loom')\n",
    "    if os.path.isfile(f_out):\n",
    "        print(f\"Skipping {key} loom writing, already exists\")\n",
    "    else:\n",
    "        print(f\"started {key} loom writing\")\n",
    "        lp.create(\n",
    "            filename = f_out,\n",
    "            layers=cistopic_obj_dict[key].fragment_matrix,\n",
    "            row_attrs={ 'Gene': cistopic_obj_dict[key].region_names }, \n",
    "            #col_attrs={ 'CellID': cistopic_obj_dict[key].cell_names }, \n",
    "            col_attrs={ 'CellID': [ x.split('-')[0] + '-' + x.split('-')[1]  for x in cistopic_obj_dict[key].cell_names ] },\n",
    "            #file_attrs=attrs\n",
    "        )\n",
    "        print(f\"Finished {key} loom writing\")"
   ]
  },
  {
   "cell_type": "markdown",
   "id": "a70a40a3",
   "metadata": {
    "papermill": {
     "duration": 0.013677,
     "end_time": "2021-10-11T10:39:06.207807",
     "exception": false,
     "start_time": "2021-10-11T10:39:06.194130",
     "status": "completed"
    },
    "tags": []
   },
   "source": [
    "go to next notebook to run the modeling"
   ]
  }
 ],
 "metadata": {
  "kernelspec": {
   "display_name": "pycisTopic_singularity_20210921",
   "language": "python",
   "name": "pycistopic_singularity"
  },
  "language_info": {
   "codemirror_mode": {
    "name": "ipython",
    "version": 3
   },
   "file_extension": ".py",
   "mimetype": "text/x-python",
   "name": "python",
   "nbconvert_exporter": "python",
   "pygments_lexer": "ipython3",
   "version": "3.8.6"
  },
  "papermill": {
   "default_parameters": {},
   "duration": 2146.839968,
   "end_time": "2021-10-11T10:39:12.309636",
   "environment_variables": {},
   "exception": null,
   "input_path": "7c_fulldata_01_export_looms_celltype_pred.ipynb",
   "output_path": "7c_fulldata_01_export_looms_celltype_pred_output.ipynb",
   "parameters": {},
   "start_time": "2021-10-11T10:03:25.469668",
   "version": "2.3.3"
  }
 },
 "nbformat": 4,
 "nbformat_minor": 5
}
