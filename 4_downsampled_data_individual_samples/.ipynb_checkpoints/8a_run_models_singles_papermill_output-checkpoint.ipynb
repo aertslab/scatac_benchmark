{
 "cells": [
  {
   "cell_type": "code",
   "execution_count": 2,
   "id": "895efef5",
   "metadata": {
    "papermill": {
     "duration": 0.035226,
     "end_time": "2021-10-21T14:07:23.020834",
     "exception": false,
     "start_time": "2021-10-21T14:07:22.985608",
     "status": "completed"
    },
    "tags": []
   },
   "outputs": [
    {
     "data": {
      "text/plain": [
       "'0.1.dev300+g7494158'"
      ]
     },
     "execution_count": 2,
     "metadata": {},
     "output_type": "execute_result"
    }
   ],
   "source": [
    "import pycisTopic\n",
    "pycisTopic.__version__"
   ]
  },
  {
   "cell_type": "code",
   "execution_count": 3,
   "id": "b45493ca",
   "metadata": {
    "papermill": {
     "duration": 0.013835,
     "end_time": "2021-10-21T14:07:23.050861",
     "exception": false,
     "start_time": "2021-10-21T14:07:23.037026",
     "status": "completed"
    },
    "tags": []
   },
   "outputs": [],
   "source": [
    "import warnings\n",
    "warnings.filterwarnings('ignore')\n",
    "warnings.simplefilter('ignore') "
   ]
  },
  {
   "cell_type": "code",
   "execution_count": 4,
   "id": "62ac78cb",
   "metadata": {
    "papermill": {
     "duration": 2.453334,
     "end_time": "2021-10-21T14:07:25.511817",
     "exception": false,
     "start_time": "2021-10-21T14:07:23.058483",
     "status": "completed"
    },
    "tags": []
   },
   "outputs": [],
   "source": [
    "import pickle\n",
    "import pandas as pd"
   ]
  },
  {
   "cell_type": "code",
   "execution_count": 5,
   "id": "aff60385",
   "metadata": {
    "papermill": {
     "duration": 0.055354,
     "end_time": "2021-10-21T14:07:25.586833",
     "exception": false,
     "start_time": "2021-10-21T14:07:25.531479",
     "status": "completed"
    },
    "tags": []
   },
   "outputs": [],
   "source": [
    "import os\n",
    "wdir = '/lustre1/project/stg_00002/lcb/fderop/data/20211013_hca_benchmark_libds/'\n",
    "os.chdir( wdir )"
   ]
  },
  {
   "cell_type": "code",
   "execution_count": 6,
   "id": "763276ca",
   "metadata": {
    "papermill": {
     "duration": 0.02397,
     "end_time": "2021-10-21T14:07:25.618533",
     "exception": false,
     "start_time": "2021-10-21T14:07:25.594563",
     "status": "completed"
    },
    "tags": []
   },
   "outputs": [
    {
     "data": {
      "text/plain": [
       "odict_keys(['VIB_Hydrop_1', 'VIB_Hydrop_2'])"
      ]
     },
     "execution_count": 6,
     "metadata": {},
     "output_type": "execute_result"
    }
   ],
   "source": [
    "import glob\n",
    "from collections import OrderedDict\n",
    "filenames = glob.glob('fragments_postbap/*Hydrop*.sinto.mm.fragments.tsv.gz')\n",
    "samples = [item.replace(\".sinto.mm.fragments.tsv.gz\", \"\") for item in filenames]\n",
    "samples = [item.replace(\"fragments_postbap/\", \"\") for item in samples]\n",
    "fragments_dict = {samples[i]: filenames[i] for i in range(len(samples))}\n",
    "fragments_dict = OrderedDict(sorted(fragments_dict.items()))\n",
    "fragments_dict.keys()"
   ]
  },
  {
   "cell_type": "markdown",
   "id": "d89a3d44",
   "metadata": {
    "papermill": {
     "duration": 0.008008,
     "end_time": "2021-10-21T14:07:25.634259",
     "exception": false,
     "start_time": "2021-10-21T14:07:25.626251",
     "status": "completed"
    },
    "tags": []
   },
   "source": [
    "# read CTOs"
   ]
  },
  {
   "cell_type": "code",
   "execution_count": 7,
   "id": "607fdf61",
   "metadata": {
    "papermill": {
     "duration": 8.274288,
     "end_time": "2021-10-21T14:07:33.915972",
     "exception": false,
     "start_time": "2021-10-21T14:07:25.641684",
     "status": "completed"
    },
    "tags": []
   },
   "outputs": [
    {
     "name": "stdout",
     "output_type": "stream",
     "text": [
      "Loaded filtered cistopic object VIB_Hydrop_1\n",
      "Loaded filtered cistopic object VIB_Hydrop_2\n"
     ]
    }
   ],
   "source": [
    "f_cto_dir = 'pycistopic_consensus_peaks/cistopic_objs__consensus'\n",
    "\n",
    "cistopic_obj_dict = {}\n",
    "for key in fragments_dict.keys():\n",
    "    f_cto = os.path.join(wdir, f_cto_dir, key + '__cistopic_obj_metadata_annotated.pkl')\n",
    "    if(os.path.isfile(f_cto)):\n",
    "        with open(f_cto, 'rb') as f:\n",
    "            cistopic_obj_dict[key] = pickle.load(f)\n",
    "        print(f\"Loaded filtered cistopic object {key}\")\n",
    "    else:\n",
    "        print(f\"file {f_cto} doesn't exist\")"
   ]
  },
  {
   "cell_type": "markdown",
   "id": "a2e28e6a",
   "metadata": {
    "papermill": {
     "duration": 0.011139,
     "end_time": "2021-10-21T14:07:33.956386",
     "exception": false,
     "start_time": "2021-10-21T14:07:33.945247",
     "status": "completed"
    },
    "tags": []
   },
   "source": [
    "### Run models for quick visualize/clustering"
   ]
  },
  {
   "cell_type": "code",
   "execution_count": 10,
   "id": "855548e1",
   "metadata": {
    "papermill": {
     "duration": 0.056284,
     "end_time": "2021-10-21T14:07:34.026964",
     "exception": false,
     "start_time": "2021-10-21T14:07:33.970680",
     "status": "completed"
    },
    "tags": []
   },
   "outputs": [],
   "source": [
    "from pycisTopic.lda_models import run_cgs_models_mallet"
   ]
  },
  {
   "cell_type": "markdown",
   "id": "98be3fde",
   "metadata": {
    "papermill": {
     "duration": 0.028823,
     "end_time": "2021-10-21T14:07:34.065555",
     "exception": false,
     "start_time": "2021-10-21T14:07:34.036732",
     "status": "completed"
    },
    "tags": []
   },
   "source": [
    "#### mallet models"
   ]
  },
  {
   "cell_type": "code",
   "execution_count": 11,
   "id": "becefb61",
   "metadata": {
    "papermill": {
     "duration": 0.021589,
     "end_time": "2021-10-21T14:07:34.122379",
     "exception": false,
     "start_time": "2021-10-21T14:07:34.100790",
     "status": "completed"
    },
    "tags": []
   },
   "outputs": [],
   "source": [
    "# set the memory limit for mallet (1GB default is not enough)\n",
    "os.environ['MALLET_MEMORY'] = '100G'"
   ]
  },
  {
   "cell_type": "code",
   "execution_count": 15,
   "id": "0c4204b6",
   "metadata": {
    "papermill": {
     "duration": 0.020402,
     "end_time": "2021-10-21T14:07:34.151141",
     "exception": false,
     "start_time": "2021-10-21T14:07:34.130739",
     "status": "completed"
    },
    "tags": []
   },
   "outputs": [],
   "source": [
    "f_mod_dir = 'pycistopic_consensus_peaks/models__consensus__mallet'\n",
    "if not os.path.exists(os.path.join(wdir, f_mod_dir)):\n",
    "    os.makedirs(os.path.join(wdir, f_mod_dir))\n",
    "\n",
    "f_mod_tmpdir = '/scratch/leuven/330/vsc33042/tmp/mallet_cellds'\n",
    "if not os.path.exists(f_mod_tmpdir):\n",
    "    os.makedirs(f_mod_tmpdir)\n",
    "\n",
    "n_topics = [2, 5, 10, 15, 20, 25, 30, 35, 40, 45, 50]\n",
    "# n_topics_merged = [2, 5, 10, 20, 30, 35, 40, 45, 50, 60, 70, 80, 90, 100]\n",
    "n_iter = 500"
   ]
  },
  {
   "cell_type": "code",
   "execution_count": 16,
   "id": "47a82b3f",
   "metadata": {
    "papermill": {
     "duration": 2981.236436,
     "end_time": "2021-10-21T14:57:15.396028",
     "exception": false,
     "start_time": "2021-10-21T14:07:34.159592",
     "status": "completed"
    },
    "tags": []
   },
   "outputs": [
    {
     "name": "stdout",
     "output_type": "stream",
     "text": [
      "Running VIB_Hydrop_1\n",
      "2021-10-22 11:44:04,753 cisTopic     INFO     Formatting input to corpus\n",
      "2021-10-22 11:44:04,829 gensim.corpora.dictionary INFO     adding document #0 to Dictionary(0 unique tokens: [])\n",
      "2021-10-22 11:44:08,205 gensim.corpora.dictionary INFO     built Dictionary(89030 unique tokens: ['0', '1', '2', '3', '4']...) from 2208 documents (total 4200841 corpus positions)\n",
      "2021-10-22 11:44:08,206 cisTopic     INFO     Running model with 2 topics\n",
      "2021-10-22 11:44:08,210 LDAMalletWrapper INFO     Serializing temporary corpus to /scratch/leuven/330/vsc33042/tmp/mallet_cellds/VIB_Hydrop_1_corpus.txt\n",
      "2021-10-22 11:44:17,759 LDAMalletWrapper INFO     Converting temporary corpus to MALLET format with mallet import-file --preserve-case --keep-sequence --remove-stopwords --token-regex \"\\S+\" --input /scratch/leuven/330/vsc33042/tmp/mallet_cellds/VIB_Hydrop_1_corpus.txt --output /scratch/leuven/330/vsc33042/tmp/mallet_cellds/VIB_Hydrop_1_corpus.mallet\n",
      "2021-10-22 11:44:20,030 LDAMalletWrapper INFO     Training MALLET LDA with mallet train-topics --input /scratch/leuven/330/vsc33042/tmp/mallet_cellds/VIB_Hydrop_1_corpus.mallet --num-topics 2  --alpha 50 --beta 0.1 --optimize-interval 0 --num-threads 32 --output-state /scratch/leuven/330/vsc33042/tmp/mallet_cellds/VIB_Hydrop_1_e12c0b_state.mallet.gz --output-doc-topics /scratch/leuven/330/vsc33042/tmp/mallet_cellds/VIB_Hydrop_1_e12c0b_doctopics.txt --output-topic-keys /scratch/leuven/330/vsc33042/tmp/mallet_cellds/VIB_Hydrop_1_e12c0b_topickeys.txt --num-iterations 500 --inferencer-filename /scratch/leuven/330/vsc33042/tmp/mallet_cellds/VIB_Hydrop_1_e12c0b_inferencer.mallet --doc-topics-threshold 0.0  --random-seed 555\n",
      "2021-10-22 11:45:18,456 LDAMalletWrapper INFO     loading assigned topics from /scratch/leuven/330/vsc33042/tmp/mallet_cellds/VIB_Hydrop_1_e12c0b_state.mallet.gz\n",
      "2021-10-22 11:45:30,819 cisTopic     INFO     Model with 2 topics done!\n",
      "2021-10-22 11:45:30,821 cisTopic     INFO     Running model with 5 topics\n",
      "2021-10-22 11:45:30,825 LDAMalletWrapper INFO     MALLET corpus already exists, training model\n",
      "2021-10-22 11:45:30,826 LDAMalletWrapper INFO     Training MALLET LDA with mallet train-topics --input /scratch/leuven/330/vsc33042/tmp/mallet_cellds/VIB_Hydrop_1_corpus.mallet --num-topics 5  --alpha 50 --beta 0.1 --optimize-interval 0 --num-threads 32 --output-state /scratch/leuven/330/vsc33042/tmp/mallet_cellds/VIB_Hydrop_1_cf6b49_state.mallet.gz --output-doc-topics /scratch/leuven/330/vsc33042/tmp/mallet_cellds/VIB_Hydrop_1_cf6b49_doctopics.txt --output-topic-keys /scratch/leuven/330/vsc33042/tmp/mallet_cellds/VIB_Hydrop_1_cf6b49_topickeys.txt --num-iterations 500 --inferencer-filename /scratch/leuven/330/vsc33042/tmp/mallet_cellds/VIB_Hydrop_1_cf6b49_inferencer.mallet --doc-topics-threshold 0.0  --random-seed 555\n",
      "2021-10-22 11:46:29,809 LDAMalletWrapper INFO     loading assigned topics from /scratch/leuven/330/vsc33042/tmp/mallet_cellds/VIB_Hydrop_1_cf6b49_state.mallet.gz\n",
      "2021-10-22 11:46:42,144 cisTopic     INFO     Model with 5 topics done!\n",
      "2021-10-22 11:46:42,145 cisTopic     INFO     Running model with 10 topics\n",
      "2021-10-22 11:46:42,148 LDAMalletWrapper INFO     MALLET corpus already exists, training model\n",
      "2021-10-22 11:46:42,149 LDAMalletWrapper INFO     Training MALLET LDA with mallet train-topics --input /scratch/leuven/330/vsc33042/tmp/mallet_cellds/VIB_Hydrop_1_corpus.mallet --num-topics 10  --alpha 50 --beta 0.1 --optimize-interval 0 --num-threads 32 --output-state /scratch/leuven/330/vsc33042/tmp/mallet_cellds/VIB_Hydrop_1_f8f77a_state.mallet.gz --output-doc-topics /scratch/leuven/330/vsc33042/tmp/mallet_cellds/VIB_Hydrop_1_f8f77a_doctopics.txt --output-topic-keys /scratch/leuven/330/vsc33042/tmp/mallet_cellds/VIB_Hydrop_1_f8f77a_topickeys.txt --num-iterations 500 --inferencer-filename /scratch/leuven/330/vsc33042/tmp/mallet_cellds/VIB_Hydrop_1_f8f77a_inferencer.mallet --doc-topics-threshold 0.0  --random-seed 555\n",
      "2021-10-22 11:47:54,910 LDAMalletWrapper INFO     loading assigned topics from /scratch/leuven/330/vsc33042/tmp/mallet_cellds/VIB_Hydrop_1_f8f77a_state.mallet.gz\n",
      "2021-10-22 11:48:07,185 cisTopic     INFO     Model with 10 topics done!\n",
      "2021-10-22 11:48:07,188 cisTopic     INFO     Running model with 15 topics\n",
      "2021-10-22 11:48:07,193 LDAMalletWrapper INFO     MALLET corpus already exists, training model\n",
      "2021-10-22 11:48:07,193 LDAMalletWrapper INFO     Training MALLET LDA with mallet train-topics --input /scratch/leuven/330/vsc33042/tmp/mallet_cellds/VIB_Hydrop_1_corpus.mallet --num-topics 15  --alpha 50 --beta 0.1 --optimize-interval 0 --num-threads 32 --output-state /scratch/leuven/330/vsc33042/tmp/mallet_cellds/VIB_Hydrop_1_9dade5_state.mallet.gz --output-doc-topics /scratch/leuven/330/vsc33042/tmp/mallet_cellds/VIB_Hydrop_1_9dade5_doctopics.txt --output-topic-keys /scratch/leuven/330/vsc33042/tmp/mallet_cellds/VIB_Hydrop_1_9dade5_topickeys.txt --num-iterations 500 --inferencer-filename /scratch/leuven/330/vsc33042/tmp/mallet_cellds/VIB_Hydrop_1_9dade5_inferencer.mallet --doc-topics-threshold 0.0  --random-seed 555\n",
      "2021-10-22 11:49:14,175 LDAMalletWrapper INFO     loading assigned topics from /scratch/leuven/330/vsc33042/tmp/mallet_cellds/VIB_Hydrop_1_9dade5_state.mallet.gz\n",
      "2021-10-22 11:49:27,065 cisTopic     INFO     Model with 15 topics done!\n",
      "2021-10-22 11:49:27,067 cisTopic     INFO     Running model with 20 topics\n",
      "2021-10-22 11:49:27,071 LDAMalletWrapper INFO     MALLET corpus already exists, training model\n",
      "2021-10-22 11:49:27,072 LDAMalletWrapper INFO     Training MALLET LDA with mallet train-topics --input /scratch/leuven/330/vsc33042/tmp/mallet_cellds/VIB_Hydrop_1_corpus.mallet --num-topics 20  --alpha 50 --beta 0.1 --optimize-interval 0 --num-threads 32 --output-state /scratch/leuven/330/vsc33042/tmp/mallet_cellds/VIB_Hydrop_1_976b6_state.mallet.gz --output-doc-topics /scratch/leuven/330/vsc33042/tmp/mallet_cellds/VIB_Hydrop_1_976b6_doctopics.txt --output-topic-keys /scratch/leuven/330/vsc33042/tmp/mallet_cellds/VIB_Hydrop_1_976b6_topickeys.txt --num-iterations 500 --inferencer-filename /scratch/leuven/330/vsc33042/tmp/mallet_cellds/VIB_Hydrop_1_976b6_inferencer.mallet --doc-topics-threshold 0.0  --random-seed 555\n",
      "2021-10-22 11:50:42,382 LDAMalletWrapper INFO     loading assigned topics from /scratch/leuven/330/vsc33042/tmp/mallet_cellds/VIB_Hydrop_1_976b6_state.mallet.gz\n",
      "2021-10-22 11:50:56,115 cisTopic     INFO     Model with 20 topics done!\n",
      "2021-10-22 11:50:56,117 cisTopic     INFO     Running model with 25 topics\n",
      "2021-10-22 11:50:56,122 LDAMalletWrapper INFO     MALLET corpus already exists, training model\n",
      "2021-10-22 11:50:56,123 LDAMalletWrapper INFO     Training MALLET LDA with mallet train-topics --input /scratch/leuven/330/vsc33042/tmp/mallet_cellds/VIB_Hydrop_1_corpus.mallet --num-topics 25  --alpha 50 --beta 0.1 --optimize-interval 0 --num-threads 32 --output-state /scratch/leuven/330/vsc33042/tmp/mallet_cellds/VIB_Hydrop_1_112704_state.mallet.gz --output-doc-topics /scratch/leuven/330/vsc33042/tmp/mallet_cellds/VIB_Hydrop_1_112704_doctopics.txt --output-topic-keys /scratch/leuven/330/vsc33042/tmp/mallet_cellds/VIB_Hydrop_1_112704_topickeys.txt --num-iterations 500 --inferencer-filename /scratch/leuven/330/vsc33042/tmp/mallet_cellds/VIB_Hydrop_1_112704_inferencer.mallet --doc-topics-threshold 0.0  --random-seed 555\n",
      "2021-10-22 11:52:11,250 LDAMalletWrapper INFO     loading assigned topics from /scratch/leuven/330/vsc33042/tmp/mallet_cellds/VIB_Hydrop_1_112704_state.mallet.gz\n",
      "2021-10-22 11:52:25,510 cisTopic     INFO     Model with 25 topics done!\n",
      "2021-10-22 11:52:25,513 cisTopic     INFO     Running model with 30 topics\n",
      "2021-10-22 11:52:25,517 LDAMalletWrapper INFO     MALLET corpus already exists, training model\n",
      "2021-10-22 11:52:25,518 LDAMalletWrapper INFO     Training MALLET LDA with mallet train-topics --input /scratch/leuven/330/vsc33042/tmp/mallet_cellds/VIB_Hydrop_1_corpus.mallet --num-topics 30  --alpha 50 --beta 0.1 --optimize-interval 0 --num-threads 32 --output-state /scratch/leuven/330/vsc33042/tmp/mallet_cellds/VIB_Hydrop_1_763427_state.mallet.gz --output-doc-topics /scratch/leuven/330/vsc33042/tmp/mallet_cellds/VIB_Hydrop_1_763427_doctopics.txt --output-topic-keys /scratch/leuven/330/vsc33042/tmp/mallet_cellds/VIB_Hydrop_1_763427_topickeys.txt --num-iterations 500 --inferencer-filename /scratch/leuven/330/vsc33042/tmp/mallet_cellds/VIB_Hydrop_1_763427_inferencer.mallet --doc-topics-threshold 0.0  --random-seed 555\n",
      "2021-10-22 11:53:45,648 LDAMalletWrapper INFO     loading assigned topics from /scratch/leuven/330/vsc33042/tmp/mallet_cellds/VIB_Hydrop_1_763427_state.mallet.gz\n",
      "2021-10-22 11:53:59,789 cisTopic     INFO     Model with 30 topics done!\n",
      "2021-10-22 11:53:59,791 cisTopic     INFO     Running model with 35 topics\n",
      "2021-10-22 11:53:59,795 LDAMalletWrapper INFO     MALLET corpus already exists, training model\n",
      "2021-10-22 11:53:59,795 LDAMalletWrapper INFO     Training MALLET LDA with mallet train-topics --input /scratch/leuven/330/vsc33042/tmp/mallet_cellds/VIB_Hydrop_1_corpus.mallet --num-topics 35  --alpha 50 --beta 0.1 --optimize-interval 0 --num-threads 32 --output-state /scratch/leuven/330/vsc33042/tmp/mallet_cellds/VIB_Hydrop_1_658dfb_state.mallet.gz --output-doc-topics /scratch/leuven/330/vsc33042/tmp/mallet_cellds/VIB_Hydrop_1_658dfb_doctopics.txt --output-topic-keys /scratch/leuven/330/vsc33042/tmp/mallet_cellds/VIB_Hydrop_1_658dfb_topickeys.txt --num-iterations 500 --inferencer-filename /scratch/leuven/330/vsc33042/tmp/mallet_cellds/VIB_Hydrop_1_658dfb_inferencer.mallet --doc-topics-threshold 0.0  --random-seed 555\n",
      "2021-10-22 11:55:29,039 LDAMalletWrapper INFO     loading assigned topics from /scratch/leuven/330/vsc33042/tmp/mallet_cellds/VIB_Hydrop_1_658dfb_state.mallet.gz\n",
      "2021-10-22 11:55:43,420 cisTopic     INFO     Model with 35 topics done!\n",
      "2021-10-22 11:55:43,423 cisTopic     INFO     Running model with 40 topics\n",
      "2021-10-22 11:55:43,426 LDAMalletWrapper INFO     MALLET corpus already exists, training model\n",
      "2021-10-22 11:55:43,427 LDAMalletWrapper INFO     Training MALLET LDA with mallet train-topics --input /scratch/leuven/330/vsc33042/tmp/mallet_cellds/VIB_Hydrop_1_corpus.mallet --num-topics 40  --alpha 50 --beta 0.1 --optimize-interval 0 --num-threads 32 --output-state /scratch/leuven/330/vsc33042/tmp/mallet_cellds/VIB_Hydrop_1_de18_state.mallet.gz --output-doc-topics /scratch/leuven/330/vsc33042/tmp/mallet_cellds/VIB_Hydrop_1_de18_doctopics.txt --output-topic-keys /scratch/leuven/330/vsc33042/tmp/mallet_cellds/VIB_Hydrop_1_de18_topickeys.txt --num-iterations 500 --inferencer-filename /scratch/leuven/330/vsc33042/tmp/mallet_cellds/VIB_Hydrop_1_de18_inferencer.mallet --doc-topics-threshold 0.0  --random-seed 555\n",
      "2021-10-22 11:57:09,629 LDAMalletWrapper INFO     loading assigned topics from /scratch/leuven/330/vsc33042/tmp/mallet_cellds/VIB_Hydrop_1_de18_state.mallet.gz\n",
      "2021-10-22 11:57:24,701 cisTopic     INFO     Model with 40 topics done!\n",
      "2021-10-22 11:57:24,703 cisTopic     INFO     Running model with 45 topics\n",
      "2021-10-22 11:57:24,707 LDAMalletWrapper INFO     MALLET corpus already exists, training model\n",
      "2021-10-22 11:57:24,708 LDAMalletWrapper INFO     Training MALLET LDA with mallet train-topics --input /scratch/leuven/330/vsc33042/tmp/mallet_cellds/VIB_Hydrop_1_corpus.mallet --num-topics 45  --alpha 50 --beta 0.1 --optimize-interval 0 --num-threads 32 --output-state /scratch/leuven/330/vsc33042/tmp/mallet_cellds/VIB_Hydrop_1_a68b9a_state.mallet.gz --output-doc-topics /scratch/leuven/330/vsc33042/tmp/mallet_cellds/VIB_Hydrop_1_a68b9a_doctopics.txt --output-topic-keys /scratch/leuven/330/vsc33042/tmp/mallet_cellds/VIB_Hydrop_1_a68b9a_topickeys.txt --num-iterations 500 --inferencer-filename /scratch/leuven/330/vsc33042/tmp/mallet_cellds/VIB_Hydrop_1_a68b9a_inferencer.mallet --doc-topics-threshold 0.0  --random-seed 555\n",
      "2021-10-22 11:58:49,356 LDAMalletWrapper INFO     loading assigned topics from /scratch/leuven/330/vsc33042/tmp/mallet_cellds/VIB_Hydrop_1_a68b9a_state.mallet.gz\n",
      "2021-10-22 11:59:04,508 cisTopic     INFO     Model with 45 topics done!\n",
      "2021-10-22 11:59:04,510 cisTopic     INFO     Running model with 50 topics\n",
      "2021-10-22 11:59:04,514 LDAMalletWrapper INFO     MALLET corpus already exists, training model\n",
      "2021-10-22 11:59:04,515 LDAMalletWrapper INFO     Training MALLET LDA with mallet train-topics --input /scratch/leuven/330/vsc33042/tmp/mallet_cellds/VIB_Hydrop_1_corpus.mallet --num-topics 50  --alpha 50 --beta 0.1 --optimize-interval 0 --num-threads 32 --output-state /scratch/leuven/330/vsc33042/tmp/mallet_cellds/VIB_Hydrop_1_20fda2_state.mallet.gz --output-doc-topics /scratch/leuven/330/vsc33042/tmp/mallet_cellds/VIB_Hydrop_1_20fda2_doctopics.txt --output-topic-keys /scratch/leuven/330/vsc33042/tmp/mallet_cellds/VIB_Hydrop_1_20fda2_topickeys.txt --num-iterations 500 --inferencer-filename /scratch/leuven/330/vsc33042/tmp/mallet_cellds/VIB_Hydrop_1_20fda2_inferencer.mallet --doc-topics-threshold 0.0  --random-seed 555\n",
      "2021-10-22 12:00:37,237 LDAMalletWrapper INFO     loading assigned topics from /scratch/leuven/330/vsc33042/tmp/mallet_cellds/VIB_Hydrop_1_20fda2_state.mallet.gz\n",
      "2021-10-22 12:00:53,000 cisTopic     INFO     Model with 50 topics done!\n",
      "Finished VIB_Hydrop_1\n",
      "Running VIB_Hydrop_2\n",
      "2021-10-22 12:00:53,372 cisTopic     INFO     Formatting input to corpus\n",
      "2021-10-22 12:00:53,476 gensim.corpora.dictionary INFO     adding document #0 to Dictionary(0 unique tokens: [])\n",
      "2021-10-22 12:00:57,559 gensim.corpora.dictionary INFO     built Dictionary(99392 unique tokens: ['0', '1', '2', '3', '4']...) from 2531 documents (total 5154998 corpus positions)\n",
      "2021-10-22 12:00:57,561 cisTopic     INFO     Running model with 2 topics\n",
      "2021-10-22 12:00:57,565 LDAMalletWrapper INFO     Serializing temporary corpus to /scratch/leuven/330/vsc33042/tmp/mallet_cellds/VIB_Hydrop_2_corpus.txt\n",
      "2021-10-22 12:01:08,155 LDAMalletWrapper INFO     Converting temporary corpus to MALLET format with mallet import-file --preserve-case --keep-sequence --remove-stopwords --token-regex \"\\S+\" --input /scratch/leuven/330/vsc33042/tmp/mallet_cellds/VIB_Hydrop_2_corpus.txt --output /scratch/leuven/330/vsc33042/tmp/mallet_cellds/VIB_Hydrop_2_corpus.mallet\n",
      "2021-10-22 12:01:10,797 LDAMalletWrapper INFO     Training MALLET LDA with mallet train-topics --input /scratch/leuven/330/vsc33042/tmp/mallet_cellds/VIB_Hydrop_2_corpus.mallet --num-topics 2  --alpha 50 --beta 0.1 --optimize-interval 0 --num-threads 32 --output-state /scratch/leuven/330/vsc33042/tmp/mallet_cellds/VIB_Hydrop_2_81bcaa_state.mallet.gz --output-doc-topics /scratch/leuven/330/vsc33042/tmp/mallet_cellds/VIB_Hydrop_2_81bcaa_doctopics.txt --output-topic-keys /scratch/leuven/330/vsc33042/tmp/mallet_cellds/VIB_Hydrop_2_81bcaa_topickeys.txt --num-iterations 500 --inferencer-filename /scratch/leuven/330/vsc33042/tmp/mallet_cellds/VIB_Hydrop_2_81bcaa_inferencer.mallet --doc-topics-threshold 0.0  --random-seed 555\n",
      "2021-10-22 12:02:19,004 LDAMalletWrapper INFO     loading assigned topics from /scratch/leuven/330/vsc33042/tmp/mallet_cellds/VIB_Hydrop_2_81bcaa_state.mallet.gz\n",
      "2021-10-22 12:02:33,949 cisTopic     INFO     Model with 2 topics done!\n",
      "2021-10-22 12:02:33,950 cisTopic     INFO     Running model with 5 topics\n",
      "2021-10-22 12:02:33,954 LDAMalletWrapper INFO     MALLET corpus already exists, training model\n",
      "2021-10-22 12:02:33,955 LDAMalletWrapper INFO     Training MALLET LDA with mallet train-topics --input /scratch/leuven/330/vsc33042/tmp/mallet_cellds/VIB_Hydrop_2_corpus.mallet --num-topics 5  --alpha 50 --beta 0.1 --optimize-interval 0 --num-threads 32 --output-state /scratch/leuven/330/vsc33042/tmp/mallet_cellds/VIB_Hydrop_2_76f9d3_state.mallet.gz --output-doc-topics /scratch/leuven/330/vsc33042/tmp/mallet_cellds/VIB_Hydrop_2_76f9d3_doctopics.txt --output-topic-keys /scratch/leuven/330/vsc33042/tmp/mallet_cellds/VIB_Hydrop_2_76f9d3_topickeys.txt --num-iterations 500 --inferencer-filename /scratch/leuven/330/vsc33042/tmp/mallet_cellds/VIB_Hydrop_2_76f9d3_inferencer.mallet --doc-topics-threshold 0.0  --random-seed 555\n",
      "2021-10-22 12:04:03,372 LDAMalletWrapper INFO     loading assigned topics from /scratch/leuven/330/vsc33042/tmp/mallet_cellds/VIB_Hydrop_2_76f9d3_state.mallet.gz\n",
      "2021-10-22 12:04:17,942 cisTopic     INFO     Model with 5 topics done!\n",
      "2021-10-22 12:04:17,944 cisTopic     INFO     Running model with 10 topics\n",
      "2021-10-22 12:04:17,948 LDAMalletWrapper INFO     MALLET corpus already exists, training model\n",
      "2021-10-22 12:04:17,949 LDAMalletWrapper INFO     Training MALLET LDA with mallet train-topics --input /scratch/leuven/330/vsc33042/tmp/mallet_cellds/VIB_Hydrop_2_corpus.mallet --num-topics 10  --alpha 50 --beta 0.1 --optimize-interval 0 --num-threads 32 --output-state /scratch/leuven/330/vsc33042/tmp/mallet_cellds/VIB_Hydrop_2_eb1de6_state.mallet.gz --output-doc-topics /scratch/leuven/330/vsc33042/tmp/mallet_cellds/VIB_Hydrop_2_eb1de6_doctopics.txt --output-topic-keys /scratch/leuven/330/vsc33042/tmp/mallet_cellds/VIB_Hydrop_2_eb1de6_topickeys.txt --num-iterations 500 --inferencer-filename /scratch/leuven/330/vsc33042/tmp/mallet_cellds/VIB_Hydrop_2_eb1de6_inferencer.mallet --doc-topics-threshold 0.0  --random-seed 555\n",
      "2021-10-22 12:05:54,833 LDAMalletWrapper INFO     loading assigned topics from /scratch/leuven/330/vsc33042/tmp/mallet_cellds/VIB_Hydrop_2_eb1de6_state.mallet.gz\n",
      "2021-10-22 12:06:10,267 cisTopic     INFO     Model with 10 topics done!\n",
      "2021-10-22 12:06:10,268 cisTopic     INFO     Running model with 15 topics\n",
      "2021-10-22 12:06:10,273 LDAMalletWrapper INFO     MALLET corpus already exists, training model\n",
      "2021-10-22 12:06:10,273 LDAMalletWrapper INFO     Training MALLET LDA with mallet train-topics --input /scratch/leuven/330/vsc33042/tmp/mallet_cellds/VIB_Hydrop_2_corpus.mallet --num-topics 15  --alpha 50 --beta 0.1 --optimize-interval 0 --num-threads 32 --output-state /scratch/leuven/330/vsc33042/tmp/mallet_cellds/VIB_Hydrop_2_9f87d1_state.mallet.gz --output-doc-topics /scratch/leuven/330/vsc33042/tmp/mallet_cellds/VIB_Hydrop_2_9f87d1_doctopics.txt --output-topic-keys /scratch/leuven/330/vsc33042/tmp/mallet_cellds/VIB_Hydrop_2_9f87d1_topickeys.txt --num-iterations 500 --inferencer-filename /scratch/leuven/330/vsc33042/tmp/mallet_cellds/VIB_Hydrop_2_9f87d1_inferencer.mallet --doc-topics-threshold 0.0  --random-seed 555\n",
      "2021-10-22 12:07:32,686 LDAMalletWrapper INFO     loading assigned topics from /scratch/leuven/330/vsc33042/tmp/mallet_cellds/VIB_Hydrop_2_9f87d1_state.mallet.gz\n",
      "2021-10-22 12:07:48,277 cisTopic     INFO     Model with 15 topics done!\n",
      "2021-10-22 12:07:48,278 cisTopic     INFO     Running model with 20 topics\n",
      "2021-10-22 12:07:48,283 LDAMalletWrapper INFO     MALLET corpus already exists, training model\n",
      "2021-10-22 12:07:48,284 LDAMalletWrapper INFO     Training MALLET LDA with mallet train-topics --input /scratch/leuven/330/vsc33042/tmp/mallet_cellds/VIB_Hydrop_2_corpus.mallet --num-topics 20  --alpha 50 --beta 0.1 --optimize-interval 0 --num-threads 32 --output-state /scratch/leuven/330/vsc33042/tmp/mallet_cellds/VIB_Hydrop_2_f8307c_state.mallet.gz --output-doc-topics /scratch/leuven/330/vsc33042/tmp/mallet_cellds/VIB_Hydrop_2_f8307c_doctopics.txt --output-topic-keys /scratch/leuven/330/vsc33042/tmp/mallet_cellds/VIB_Hydrop_2_f8307c_topickeys.txt --num-iterations 500 --inferencer-filename /scratch/leuven/330/vsc33042/tmp/mallet_cellds/VIB_Hydrop_2_f8307c_inferencer.mallet --doc-topics-threshold 0.0  --random-seed 555\n",
      "2021-10-22 12:09:33,064 LDAMalletWrapper INFO     loading assigned topics from /scratch/leuven/330/vsc33042/tmp/mallet_cellds/VIB_Hydrop_2_f8307c_state.mallet.gz\n",
      "2021-10-22 12:09:49,604 cisTopic     INFO     Model with 20 topics done!\n",
      "2021-10-22 12:09:49,605 cisTopic     INFO     Running model with 25 topics\n",
      "2021-10-22 12:09:49,610 LDAMalletWrapper INFO     MALLET corpus already exists, training model\n",
      "2021-10-22 12:09:49,610 LDAMalletWrapper INFO     Training MALLET LDA with mallet train-topics --input /scratch/leuven/330/vsc33042/tmp/mallet_cellds/VIB_Hydrop_2_corpus.mallet --num-topics 25  --alpha 50 --beta 0.1 --optimize-interval 0 --num-threads 32 --output-state /scratch/leuven/330/vsc33042/tmp/mallet_cellds/VIB_Hydrop_2_448e7e_state.mallet.gz --output-doc-topics /scratch/leuven/330/vsc33042/tmp/mallet_cellds/VIB_Hydrop_2_448e7e_doctopics.txt --output-topic-keys /scratch/leuven/330/vsc33042/tmp/mallet_cellds/VIB_Hydrop_2_448e7e_topickeys.txt --num-iterations 500 --inferencer-filename /scratch/leuven/330/vsc33042/tmp/mallet_cellds/VIB_Hydrop_2_448e7e_inferencer.mallet --doc-topics-threshold 0.0  --random-seed 555\n",
      "2021-10-22 12:11:34,121 LDAMalletWrapper INFO     loading assigned topics from /scratch/leuven/330/vsc33042/tmp/mallet_cellds/VIB_Hydrop_2_448e7e_state.mallet.gz\n",
      "2021-10-22 12:11:50,487 cisTopic     INFO     Model with 25 topics done!\n",
      "2021-10-22 12:11:50,488 cisTopic     INFO     Running model with 30 topics\n",
      "2021-10-22 12:11:50,493 LDAMalletWrapper INFO     MALLET corpus already exists, training model\n",
      "2021-10-22 12:11:50,494 LDAMalletWrapper INFO     Training MALLET LDA with mallet train-topics --input /scratch/leuven/330/vsc33042/tmp/mallet_cellds/VIB_Hydrop_2_corpus.mallet --num-topics 30  --alpha 50 --beta 0.1 --optimize-interval 0 --num-threads 32 --output-state /scratch/leuven/330/vsc33042/tmp/mallet_cellds/VIB_Hydrop_2_d6dcec_state.mallet.gz --output-doc-topics /scratch/leuven/330/vsc33042/tmp/mallet_cellds/VIB_Hydrop_2_d6dcec_doctopics.txt --output-topic-keys /scratch/leuven/330/vsc33042/tmp/mallet_cellds/VIB_Hydrop_2_d6dcec_topickeys.txt --num-iterations 500 --inferencer-filename /scratch/leuven/330/vsc33042/tmp/mallet_cellds/VIB_Hydrop_2_d6dcec_inferencer.mallet --doc-topics-threshold 0.0  --random-seed 555\n",
      "2021-10-22 12:13:39,791 LDAMalletWrapper INFO     loading assigned topics from /scratch/leuven/330/vsc33042/tmp/mallet_cellds/VIB_Hydrop_2_d6dcec_state.mallet.gz\n",
      "2021-10-22 12:13:57,044 cisTopic     INFO     Model with 30 topics done!\n",
      "2021-10-22 12:13:57,045 cisTopic     INFO     Running model with 35 topics\n",
      "2021-10-22 12:13:57,050 LDAMalletWrapper INFO     MALLET corpus already exists, training model\n",
      "2021-10-22 12:13:57,050 LDAMalletWrapper INFO     Training MALLET LDA with mallet train-topics --input /scratch/leuven/330/vsc33042/tmp/mallet_cellds/VIB_Hydrop_2_corpus.mallet --num-topics 35  --alpha 50 --beta 0.1 --optimize-interval 0 --num-threads 32 --output-state /scratch/leuven/330/vsc33042/tmp/mallet_cellds/VIB_Hydrop_2_9b1414_state.mallet.gz --output-doc-topics /scratch/leuven/330/vsc33042/tmp/mallet_cellds/VIB_Hydrop_2_9b1414_doctopics.txt --output-topic-keys /scratch/leuven/330/vsc33042/tmp/mallet_cellds/VIB_Hydrop_2_9b1414_topickeys.txt --num-iterations 500 --inferencer-filename /scratch/leuven/330/vsc33042/tmp/mallet_cellds/VIB_Hydrop_2_9b1414_inferencer.mallet --doc-topics-threshold 0.0  --random-seed 555\n",
      "2021-10-22 12:15:42,008 LDAMalletWrapper INFO     loading assigned topics from /scratch/leuven/330/vsc33042/tmp/mallet_cellds/VIB_Hydrop_2_9b1414_state.mallet.gz\n",
      "2021-10-22 12:15:59,948 cisTopic     INFO     Model with 35 topics done!\n",
      "2021-10-22 12:15:59,949 cisTopic     INFO     Running model with 40 topics\n",
      "2021-10-22 12:15:59,953 LDAMalletWrapper INFO     MALLET corpus already exists, training model\n",
      "2021-10-22 12:15:59,954 LDAMalletWrapper INFO     Training MALLET LDA with mallet train-topics --input /scratch/leuven/330/vsc33042/tmp/mallet_cellds/VIB_Hydrop_2_corpus.mallet --num-topics 40  --alpha 50 --beta 0.1 --optimize-interval 0 --num-threads 32 --output-state /scratch/leuven/330/vsc33042/tmp/mallet_cellds/VIB_Hydrop_2_9d7f10_state.mallet.gz --output-doc-topics /scratch/leuven/330/vsc33042/tmp/mallet_cellds/VIB_Hydrop_2_9d7f10_doctopics.txt --output-topic-keys /scratch/leuven/330/vsc33042/tmp/mallet_cellds/VIB_Hydrop_2_9d7f10_topickeys.txt --num-iterations 500 --inferencer-filename /scratch/leuven/330/vsc33042/tmp/mallet_cellds/VIB_Hydrop_2_9d7f10_inferencer.mallet --doc-topics-threshold 0.0  --random-seed 555\n",
      "2021-10-22 12:17:45,460 LDAMalletWrapper INFO     loading assigned topics from /scratch/leuven/330/vsc33042/tmp/mallet_cellds/VIB_Hydrop_2_9d7f10_state.mallet.gz\n",
      "2021-10-22 12:18:03,459 cisTopic     INFO     Model with 40 topics done!\n",
      "2021-10-22 12:18:03,461 cisTopic     INFO     Running model with 45 topics\n",
      "2021-10-22 12:18:03,465 LDAMalletWrapper INFO     MALLET corpus already exists, training model\n",
      "2021-10-22 12:18:03,466 LDAMalletWrapper INFO     Training MALLET LDA with mallet train-topics --input /scratch/leuven/330/vsc33042/tmp/mallet_cellds/VIB_Hydrop_2_corpus.mallet --num-topics 45  --alpha 50 --beta 0.1 --optimize-interval 0 --num-threads 32 --output-state /scratch/leuven/330/vsc33042/tmp/mallet_cellds/VIB_Hydrop_2_8479d8_state.mallet.gz --output-doc-topics /scratch/leuven/330/vsc33042/tmp/mallet_cellds/VIB_Hydrop_2_8479d8_doctopics.txt --output-topic-keys /scratch/leuven/330/vsc33042/tmp/mallet_cellds/VIB_Hydrop_2_8479d8_topickeys.txt --num-iterations 500 --inferencer-filename /scratch/leuven/330/vsc33042/tmp/mallet_cellds/VIB_Hydrop_2_8479d8_inferencer.mallet --doc-topics-threshold 0.0  --random-seed 555\n",
      "2021-10-22 12:19:55,770 LDAMalletWrapper INFO     loading assigned topics from /scratch/leuven/330/vsc33042/tmp/mallet_cellds/VIB_Hydrop_2_8479d8_state.mallet.gz\n",
      "2021-10-22 12:20:14,197 cisTopic     INFO     Model with 45 topics done!\n",
      "2021-10-22 12:20:14,200 cisTopic     INFO     Running model with 50 topics\n",
      "2021-10-22 12:20:14,205 LDAMalletWrapper INFO     MALLET corpus already exists, training model\n",
      "2021-10-22 12:20:14,206 LDAMalletWrapper INFO     Training MALLET LDA with mallet train-topics --input /scratch/leuven/330/vsc33042/tmp/mallet_cellds/VIB_Hydrop_2_corpus.mallet --num-topics 50  --alpha 50 --beta 0.1 --optimize-interval 0 --num-threads 32 --output-state /scratch/leuven/330/vsc33042/tmp/mallet_cellds/VIB_Hydrop_2_fe2698_state.mallet.gz --output-doc-topics /scratch/leuven/330/vsc33042/tmp/mallet_cellds/VIB_Hydrop_2_fe2698_doctopics.txt --output-topic-keys /scratch/leuven/330/vsc33042/tmp/mallet_cellds/VIB_Hydrop_2_fe2698_topickeys.txt --num-iterations 500 --inferencer-filename /scratch/leuven/330/vsc33042/tmp/mallet_cellds/VIB_Hydrop_2_fe2698_inferencer.mallet --doc-topics-threshold 0.0  --random-seed 555\n",
      "2021-10-22 12:21:53,935 LDAMalletWrapper INFO     loading assigned topics from /scratch/leuven/330/vsc33042/tmp/mallet_cellds/VIB_Hydrop_2_fe2698_state.mallet.gz\n",
      "2021-10-22 12:22:12,629 cisTopic     INFO     Model with 50 topics done!\n",
      "Finished VIB_Hydrop_2\n"
     ]
    }
   ],
   "source": [
    "# mallet implementation\n",
    "models_dict = {}\n",
    "for key in cistopic_obj_dict.keys():\n",
    "    f_mod = os.path.join(wdir, f_mod_dir, key + '__models_' + str(n_iter) + '_iter.pkl')\n",
    "    if os.path.isfile(f_mod):\n",
    "        print(f\"Loading {f_mod}\")\n",
    "        with open(f_mod, 'rb') as f:\n",
    "            models_dict[key] = pickle.load(f)\n",
    "    else:\n",
    "        print(f\"Running {key}\")\n",
    "        model = run_cgs_models_mallet(\n",
    "                            'mallet',\n",
    "                            cistopic_obj_dict[key],\n",
    "                            n_topics=n_topics_merged if key=='merged' else n_topics ,\n",
    "                            n_cpu=32,\n",
    "                            n_iter=n_iter,\n",
    "                            random_state=555,\n",
    "                            alpha=50,\n",
    "                            alpha_by_topic=True,\n",
    "                            eta=0.1,\n",
    "                            eta_by_topic=False,\n",
    "                            tmp_path=os.path.join(f_mod_tmpdir, key + '_')\n",
    "                            )\n",
    "        # Save\n",
    "        with open(f_mod, 'wb') as f:\n",
    "            pickle.dump(model, f)\n",
    "        print(f\"Finished {key}\")\n",
    "        models_dict[key] = model"
   ]
  },
  {
   "cell_type": "code",
   "execution_count": null,
   "id": "fa2b7eac",
   "metadata": {
    "papermill": {
     "duration": 0.036079,
     "end_time": "2021-10-21T14:57:15.507657",
     "exception": false,
     "start_time": "2021-10-21T14:57:15.471578",
     "status": "completed"
    },
    "tags": []
   },
   "outputs": [],
   "source": []
  }
 ],
 "metadata": {
  "kernelspec": {
   "display_name": "pycisTopic_singularity_20210921",
   "language": "python",
   "name": "pycistopic_singularity"
  },
  "language_info": {
   "codemirror_mode": {
    "name": "ipython",
    "version": 3
   },
   "file_extension": ".py",
   "mimetype": "text/x-python",
   "name": "python",
   "nbconvert_exporter": "python",
   "pygments_lexer": "ipython3",
   "version": "3.8.6"
  },
  "papermill": {
   "default_parameters": {},
   "duration": 3001.519892,
   "end_time": "2021-10-21T14:57:18.604753",
   "environment_variables": {},
   "exception": null,
   "input_path": "9d_run_models_singles.ipynb",
   "output_path": "9d_run_models_singles_papermill_output.ipynb",
   "parameters": {},
   "start_time": "2021-10-21T14:07:17.084861",
   "version": "2.3.3"
  }
 },
 "nbformat": 4,
 "nbformat_minor": 5
}
