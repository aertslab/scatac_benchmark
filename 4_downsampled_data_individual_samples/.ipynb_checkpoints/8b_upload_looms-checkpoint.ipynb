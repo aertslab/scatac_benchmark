{
 "cells": [
  {
   "cell_type": "markdown",
   "id": "2034afff",
   "metadata": {},
   "source": [
    "# Upload"
   ]
  },
  {
   "cell_type": "code",
   "execution_count": null,
   "id": "c269f588",
   "metadata": {},
   "outputs": [
    {
     "name": "stdout",
     "output_type": "stream",
     "text": [
      "started uploading /lustre1/project/stg_00002/lcb/fderop/data/20211215_hca_benchmark_github/4_downsampled_data_individual_samples/downstream_analysis/gene_act_loom/10x_ATAC_A1__libds_gene_activity.loom\n",
      "  % Total    % Received % Xferd  Average Speed   Time    Time     Time  Current\n",
      "                                 Dload  Upload   Total   Spent    Left  Speed\n"
     ]
    }
   ],
   "source": [
    "for file in /lustre1/project/stg_00002/lcb/fderop/data/20211215_hca_benchmark_github/4_downsampled_data_individual_samples/downstream_analysis/gene_act_loom/*.loom\n",
    "do\n",
    "    echo \"started uploading\" $file\n",
    "    curl -F 'UUID=scATAC-seq_Benchmark' -F 'file-type=Loom' -F 'file=@'$file https://scope.aertslab.org/upload/ | tee /dev/null\n",
    "    echo \"finished uploading\" $file\n",
    "done"
   ]
  },
  {
   "cell_type": "code",
   "execution_count": null,
   "id": "c939a57b",
   "metadata": {},
   "outputs": [
    {
     "name": "stdout",
     "output_type": "stream",
     "text": [
      "started uploading /lustre1/project/stg_00002/lcb/fderop/data/20211215_hca_benchmark_github/4_downsampled_data_individual_samples/downstream_analysis/region_acc_loom/10x_ATAC_A1__libds_region_accessibility.loom\n",
      "  % Total    % Received % Xferd  Average Speed   Time    Time     Time  Current\n",
      "                                 Dload  Upload   Total   Spent    Left  Speed\n",
      "100  308M    0     0  100  308M      0  42.3M  0:00:07  0:00:07 --:--:-- 42.2M\n",
      "finished uploading /lustre1/project/stg_00002/lcb/fderop/data/20211215_hca_benchmark_github/4_downsampled_data_individual_samples/downstream_analysis/region_acc_loom/10x_ATAC_A1__libds_region_accessibility.loom\n",
      "started uploading /lustre1/project/stg_00002/lcb/fderop/data/20211215_hca_benchmark_github/4_downsampled_data_individual_samples/downstream_analysis/region_acc_loom/10x_ATAC_A2__libds_region_accessibility.loom\n",
      "  % Total    % Received % Xferd  Average Speed   Time    Time     Time  Current\n",
      "                                 Dload  Upload   Total   Spent    Left  Speed\n",
      "100  717M    0     0  100  717M      0  41.4M  0:00:17  0:00:17 --:--:-- 41.4M\n",
      "finished uploading /lustre1/project/stg_00002/lcb/fderop/data/20211215_hca_benchmark_github/4_downsampled_data_individual_samples/downstream_analysis/region_acc_loom/10x_ATAC_A2__libds_region_accessibility.loom\n",
      "started uploading /lustre1/project/stg_00002/lcb/fderop/data/20211215_hca_benchmark_github/4_downsampled_data_individual_samples/downstream_analysis/region_acc_loom/10x_ATAC_B1__libds_region_accessibility.loom\n",
      "  % Total    % Received % Xferd  Average Speed   Time    Time     Time  Current\n",
      "                                 Dload  Upload   Total   Spent    Left  Speed\n",
      "100 1119M    0     0  100 1119M      0  40.9M  0:00:27  0:00:27 --:--:-- 42.6M\n",
      "finished uploading /lustre1/project/stg_00002/lcb/fderop/data/20211215_hca_benchmark_github/4_downsampled_data_individual_samples/downstream_analysis/region_acc_loom/10x_ATAC_B1__libds_region_accessibility.loom\n",
      "started uploading /lustre1/project/stg_00002/lcb/fderop/data/20211215_hca_benchmark_github/4_downsampled_data_individual_samples/downstream_analysis/region_acc_loom/10x_ATAC_B2__libds_region_accessibility.loom\n",
      "  % Total    % Received % Xferd  Average Speed   Time    Time     Time  Current\n",
      "                                 Dload  Upload   Total   Spent    Left  Speed\n",
      "100 2956M    0     0  100 2956M      0  41.2M  0:01:11  0:01:11 --:--:-- 42.3M\n",
      "finished uploading /lustre1/project/stg_00002/lcb/fderop/data/20211215_hca_benchmark_github/4_downsampled_data_individual_samples/downstream_analysis/region_acc_loom/10x_ATAC_B2__libds_region_accessibility.loom\n",
      "started uploading /lustre1/project/stg_00002/lcb/fderop/data/20211215_hca_benchmark_github/4_downsampled_data_individual_samples/downstream_analysis/region_acc_loom/10x_ATAC_C1__libds_region_accessibility.loom\n",
      "  % Total    % Received % Xferd  Average Speed   Time    Time     Time  Current\n",
      "                                 Dload  Upload   Total   Spent    Left  Speed\n",
      "100 1129M    0     0  100 1129M      0  40.7M  0:00:27  0:00:27 --:--:-- 44.0M\n",
      "finished uploading /lustre1/project/stg_00002/lcb/fderop/data/20211215_hca_benchmark_github/4_downsampled_data_individual_samples/downstream_analysis/region_acc_loom/10x_ATAC_C1__libds_region_accessibility.loom\n",
      "started uploading /lustre1/project/stg_00002/lcb/fderop/data/20211215_hca_benchmark_github/4_downsampled_data_individual_samples/downstream_analysis/region_acc_loom/10x_ATAC_C2__libds_region_accessibility.loom\n",
      "  % Total    % Received % Xferd  Average Speed   Time    Time     Time  Current\n",
      "                                 Dload  Upload   Total   Spent    Left  Speed\n",
      "100 1124M    0     0  100 1124M      0  40.9M  0:00:27  0:00:27 --:--:-- 44.0M\n",
      "finished uploading /lustre1/project/stg_00002/lcb/fderop/data/20211215_hca_benchmark_github/4_downsampled_data_individual_samples/downstream_analysis/region_acc_loom/10x_ATAC_C2__libds_region_accessibility.loom\n",
      "started uploading /lustre1/project/stg_00002/lcb/fderop/data/20211215_hca_benchmark_github/4_downsampled_data_individual_samples/downstream_analysis/region_acc_loom/10x_Multiome_1__libds_region_accessibility.loom\n",
      "  % Total    % Received % Xferd  Average Speed   Time    Time     Time  Current\n",
      "                                 Dload  Upload   Total   Spent    Left  Speed\n",
      "100 1431M    0     0  100 1431M      0  42.8M  0:00:33  0:00:33 --:--:-- 43.9M\n",
      "finished uploading /lustre1/project/stg_00002/lcb/fderop/data/20211215_hca_benchmark_github/4_downsampled_data_individual_samples/downstream_analysis/region_acc_loom/10x_Multiome_1__libds_region_accessibility.loom\n",
      "started uploading /lustre1/project/stg_00002/lcb/fderop/data/20211215_hca_benchmark_github/4_downsampled_data_individual_samples/downstream_analysis/region_acc_loom/10x_Multiome_2__libds_region_accessibility.loom\n",
      "  % Total    % Received % Xferd  Average Speed   Time    Time     Time  Current\n",
      "                                 Dload  Upload   Total   Spent    Left  Speed\n",
      "100 1798M    0     0  100 1798M      0  42.8M  0:00:41  0:00:41 --:--:-- 43.7M\n",
      "finished uploading /lustre1/project/stg_00002/lcb/fderop/data/20211215_hca_benchmark_github/4_downsampled_data_individual_samples/downstream_analysis/region_acc_loom/10x_Multiome_2__libds_region_accessibility.loom\n",
      "started uploading /lustre1/project/stg_00002/lcb/fderop/data/20211215_hca_benchmark_github/4_downsampled_data_individual_samples/downstream_analysis/region_acc_loom/10x_mtATAC_1__libds_region_accessibility.loom\n",
      "  % Total    % Received % Xferd  Average Speed   Time    Time     Time  Current\n",
      "                                 Dload  Upload   Total   Spent    Left  Speed\n"
     ]
    }
   ],
   "source": [
    "for file in /lustre1/project/stg_00002/lcb/fderop/data/20211215_hca_benchmark_github/4_downsampled_data_individual_samples/downstream_analysis/region_acc_loom/*.loom\n",
    "do\n",
    "    echo \"started uploading\" $file\n",
    "    curl -F 'UUID=scATAC-seq_Benchmark' -F 'file-type=Loom' -F 'file=@'$file https://scope.aertslab.org/upload/ | tee /dev/null\n",
    "    echo \"finished uploading\" $file\n",
    "done"
   ]
  },
  {
   "cell_type": "code",
   "execution_count": null,
   "id": "c2d18403",
   "metadata": {},
   "outputs": [],
   "source": []
  }
 ],
 "metadata": {
  "kernelspec": {
   "display_name": "Bash",
   "language": "bash",
   "name": "bash"
  },
  "language_info": {
   "codemirror_mode": "shell",
   "file_extension": ".sh",
   "mimetype": "text/x-sh",
   "name": "bash"
  }
 },
 "nbformat": 4,
 "nbformat_minor": 5
}
