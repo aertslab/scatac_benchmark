{
 "cells": [
  {
   "cell_type": "code",
   "execution_count": 1,
   "id": "0fc60a1d",
   "metadata": {
    "papermill": {
     "duration": 0.04676,
     "end_time": "2021-11-24T19:04:43.466907",
     "exception": false,
     "start_time": "2021-11-24T19:04:43.420147",
     "status": "completed"
    },
    "tags": []
   },
   "outputs": [
    {
     "data": {
      "text/plain": [
       "'0.1.dev300+g7494158'"
      ]
     },
     "execution_count": 1,
     "metadata": {},
     "output_type": "execute_result"
    }
   ],
   "source": [
    "import pycisTopic\n",
    "pycisTopic.__version__"
   ]
  },
  {
   "cell_type": "code",
   "execution_count": 2,
   "id": "d1858296",
   "metadata": {
    "papermill": {
     "duration": 0.023628,
     "end_time": "2021-11-24T19:04:43.506774",
     "exception": false,
     "start_time": "2021-11-24T19:04:43.483146",
     "status": "completed"
    },
    "tags": []
   },
   "outputs": [],
   "source": [
    "import warnings\n",
    "warnings.filterwarnings('ignore')\n",
    "warnings.simplefilter('ignore')"
   ]
  },
  {
   "cell_type": "code",
   "execution_count": 3,
   "id": "659099ea",
   "metadata": {
    "papermill": {
     "duration": 0.871985,
     "end_time": "2021-11-24T19:04:44.395473",
     "exception": false,
     "start_time": "2021-11-24T19:04:43.523488",
     "status": "completed"
    },
    "tags": []
   },
   "outputs": [],
   "source": [
    "import pickle\n",
    "import pandas as pd"
   ]
  },
  {
   "cell_type": "code",
   "execution_count": 4,
   "id": "0e0e3a3f",
   "metadata": {
    "papermill": {
     "duration": 0.023643,
     "end_time": "2021-11-24T19:04:44.524468",
     "exception": false,
     "start_time": "2021-11-24T19:04:44.500825",
     "status": "completed"
    },
    "tags": []
   },
   "outputs": [],
   "source": [
    "import copy"
   ]
  },
  {
   "cell_type": "code",
   "execution_count": 5,
   "id": "eabbe80f",
   "metadata": {
    "papermill": {
     "duration": 0.024696,
     "end_time": "2021-11-24T19:04:44.437580",
     "exception": false,
     "start_time": "2021-11-24T19:04:44.412884",
     "status": "completed"
    },
    "tags": []
   },
   "outputs": [],
   "source": [
    "import os\n",
    "wdir = '/lustre1/project/stg_00002/lcb/fderop/data/20211215_hca_benchmark_github/4_downsampled_data_individual_samples/'\n",
    "os.chdir( wdir )"
   ]
  },
  {
   "cell_type": "code",
   "execution_count": 6,
   "id": "56ba1d96",
   "metadata": {
    "papermill": {
     "duration": 0.030337,
     "end_time": "2021-11-24T19:04:44.484619",
     "exception": false,
     "start_time": "2021-11-24T19:04:44.454282",
     "status": "completed"
    },
    "tags": []
   },
   "outputs": [],
   "source": [
    "# create output directory:\n",
    "f_final_dir = os.path.join(wdir, 'downstream_analysis')\n",
    "if not os.path.exists(f_final_dir):\n",
    "    os.makedirs(f_final_dir)"
   ]
  },
  {
   "cell_type": "code",
   "execution_count": 7,
   "id": "4509346a",
   "metadata": {},
   "outputs": [],
   "source": [
    "# display names of each sample. NOTE: the samples will be dislpayed in the order of this dict!\n",
    "from collections import OrderedDict\n",
    "alias_dict = OrderedDict({\n",
    "    \"Broad_1\": \"BioRad ATAC 1\",\n",
    "    \"Broad_2\": \"BioRad ATAC 2\",\n",
    "    \"Stanford_1\": \"10x ATAC A1\",\n",
    "    \"Stanford_2\": \"10x ATAC A2\",\n",
    "    \"VIB_1\": \"10x ATAC B1\",\n",
    "    \"VIB_2\": \"10x ATAC B2\",\n",
    "    \"CNAG_1\": \"10x ATAC C1\",\n",
    "    \"CNAG_2\": \"10x ATAC C2\",\n",
    "    \"Broad_mito_1\": \"10x mtATAC 1\",\n",
    "    \"Broad_mito_2\": \"10x mtATAC 2\",\n",
    "    \"Sanger_1\": \"10x Multiome 1\",\n",
    "    \"Sanger_2\": \"10x Multiome 2\",\n",
    "    \"VIB_Hydrop_1\": \"Hydrop ATAC 1\",\n",
    "    \"VIB_Hydrop_2\": \"Hydrop ATAC 2\",\n",
    "    \"s3atac\": \"s3 ATAC\",\n",
    "})\n",
    "\n",
    "color_dict = OrderedDict({\n",
    "    \"Broad_mito_1\": \"#9467bd\",\n",
    "    \"Broad_mito_2\": \"#c5b0d5\",\n",
    "    \"CNAG_1\": \"#d62728\",\n",
    "    \"CNAG_2\": \"#ff9896\",\n",
    "    \"Broad_1\": \"#1f77b4\",\n",
    "    \"Broad_2\": \"#aec7e8\",\n",
    "    \"Sanger_1\": \"#8c564b\",\n",
    "    \"Sanger_2\": \"#c49c94\",\n",
    "    \"Stanford_1\": \"#ff7f0e\",\n",
    "    \"Stanford_2\": \"#ffbb78\",\n",
    "    \"VIB_1\": \"#2ca02c\",\n",
    "    \"VIB_2\": \"#98df8a\",\n",
    "    \"VIB_Hydrop_1\": \"#e377c2\",\n",
    "    \"VIB_Hydrop_2\": \"#f7b6d2\",\n",
    "    \"s3atac\": \"#7f7f7f\",\n",
    "})\n",
    "\n",
    "tech_dict = OrderedDict({\n",
    "    \"Broad_1\": \"BioRad ATAC\",\n",
    "    \"Broad_2\": \"BioRad ATAC\",\n",
    "    \"Stanford_1\": \"10x ATAC A\",\n",
    "    \"Stanford_2\": \"10x ATAC A\",\n",
    "    \"VIB_1\": \"10x ATAC B\",\n",
    "    \"VIB_2\": \"10x ATAC B\",\n",
    "    \"CNAG_1\": \"10x ATAC C\",\n",
    "    \"CNAG_2\": \"10x ATAC C\",\n",
    "    \"Broad_mito_1\": \"10x mtATAC\",\n",
    "    \"Broad_mito_2\": \"10x mtATAC\",\n",
    "    \"Sanger_1\": \"10x Multiome\",\n",
    "    \"Sanger_2\": \"10x Multiome\",\n",
    "    \"VIB_Hydrop_1\": \"Hydrop ATAC\",\n",
    "    \"VIB_Hydrop_2\": \"Hydrop ATAC\",\n",
    "    \"s3atac\": \"s3 ATAC\",\n",
    "})"
   ]
  },
  {
   "cell_type": "markdown",
   "id": "cb2fbd5d",
   "metadata": {
    "papermill": {
     "duration": 0.016453,
     "end_time": "2021-11-24T19:04:44.557038",
     "exception": false,
     "start_time": "2021-11-24T19:04:44.540585",
     "status": "completed"
    },
    "tags": []
   },
   "source": [
    "## Load the cisTopic objects"
   ]
  },
  {
   "cell_type": "code",
   "execution_count": 8,
   "id": "27bcdb2d",
   "metadata": {},
   "outputs": [
    {
     "data": {
      "text/plain": [
       "['pycistopic_consensus_peaks/cistopic_objs__consensus/s3atac__cistopic_obj_metadata_annotated_dimreduc_df.pkl',\n",
       " 'pycistopic_consensus_peaks/cistopic_objs__consensus/CNAG_2__cistopic_obj_metadata_annotated_dimreduc_df.pkl',\n",
       " 'pycistopic_consensus_peaks/cistopic_objs__consensus/VIB_2__cistopic_obj_metadata_annotated_dimreduc_df.pkl',\n",
       " 'pycistopic_consensus_peaks/cistopic_objs__consensus/VIB_1__cistopic_obj_metadata_annotated_dimreduc_df.pkl',\n",
       " 'pycistopic_consensus_peaks/cistopic_objs__consensus/Sanger_2__cistopic_obj_metadata_annotated_dimreduc_df.pkl',\n",
       " 'pycistopic_consensus_peaks/cistopic_objs__consensus/Broad_2__cistopic_obj_metadata_annotated_dimreduc_df.pkl',\n",
       " 'pycistopic_consensus_peaks/cistopic_objs__consensus/VIB_Hydrop_1__cistopic_obj_metadata_annotated_dimreduc_df.pkl',\n",
       " 'pycistopic_consensus_peaks/cistopic_objs__consensus/Broad_mito_2__cistopic_obj_metadata_annotated_dimreduc_df.pkl',\n",
       " 'pycistopic_consensus_peaks/cistopic_objs__consensus/Broad_mito_1__cistopic_obj_metadata_annotated_dimreduc_df.pkl',\n",
       " 'pycistopic_consensus_peaks/cistopic_objs__consensus/Sanger_1__cistopic_obj_metadata_annotated_dimreduc_df.pkl',\n",
       " 'pycistopic_consensus_peaks/cistopic_objs__consensus/CNAG_1__cistopic_obj_metadata_annotated_dimreduc_df.pkl',\n",
       " 'pycistopic_consensus_peaks/cistopic_objs__consensus/Stanford_2__cistopic_obj_metadata_annotated_dimreduc_df.pkl',\n",
       " 'pycistopic_consensus_peaks/cistopic_objs__consensus/Broad_1__cistopic_obj_metadata_annotated_dimreduc_df.pkl',\n",
       " 'pycistopic_consensus_peaks/cistopic_objs__consensus/VIB_Hydrop_2__cistopic_obj_metadata_annotated_dimreduc_df.pkl',\n",
       " 'pycistopic_consensus_peaks/cistopic_objs__consensus/Stanford_1__cistopic_obj_metadata_annotated_dimreduc_df.pkl']"
      ]
     },
     "execution_count": 8,
     "metadata": {},
     "output_type": "execute_result"
    }
   ],
   "source": [
    "import glob\n",
    "f_cto_dir = 'pycistopic_consensus_peaks/cistopic_objs__consensus'\n",
    "\n",
    "glob.glob(f_cto_dir + '/*__cistopic_obj_metadata_annotated_dimreduc_df.pkl')"
   ]
  },
  {
   "cell_type": "code",
   "execution_count": 9,
   "id": "e957d8bd",
   "metadata": {
    "papermill": {
     "duration": 9.082353,
     "end_time": "2021-11-24T19:04:53.655802",
     "exception": false,
     "start_time": "2021-11-24T19:04:44.573449",
     "status": "completed"
    },
    "tags": []
   },
   "outputs": [
    {
     "name": "stdout",
     "output_type": "stream",
     "text": [
      "Loaded filtered cistopic object Broad_1\n",
      "Loaded filtered cistopic object Broad_2\n",
      "Loaded filtered cistopic object Stanford_1\n",
      "Loaded filtered cistopic object Stanford_2\n",
      "Loaded filtered cistopic object VIB_1\n",
      "Loaded filtered cistopic object VIB_2\n",
      "Loaded filtered cistopic object CNAG_1\n",
      "Loaded filtered cistopic object CNAG_2\n",
      "Loaded filtered cistopic object Broad_mito_1\n",
      "Loaded filtered cistopic object Broad_mito_2\n",
      "Loaded filtered cistopic object Sanger_1\n",
      "Loaded filtered cistopic object Sanger_2\n",
      "Loaded filtered cistopic object VIB_Hydrop_1\n",
      "Loaded filtered cistopic object VIB_Hydrop_2\n",
      "Loaded filtered cistopic object s3atac\n"
     ]
    }
   ],
   "source": [
    "cistopic_obj_dict = {}\n",
    "for key in alias_dict.keys():\n",
    "    f_cto = os.path.join(wdir, f_cto_dir, key + '__cistopic_obj_metadata_annotated_dimreduc_df.pkl')\n",
    "    if(os.path.isfile(f_cto)):\n",
    "        with open(f_cto, 'rb') as f:\n",
    "            cistopic_obj_dict[key] = pickle.load(f)\n",
    "        print(f\"Loaded filtered cistopic object {key}\")\n",
    "    else:\n",
    "        print(f\"file {f_cto} doesn't exist\")"
   ]
  },
  {
   "cell_type": "code",
   "execution_count": 19,
   "id": "53a60fec",
   "metadata": {},
   "outputs": [
    {
     "data": {
      "text/html": [
       "<div>\n",
       "<style scoped>\n",
       "    .dataframe tbody tr th:only-of-type {\n",
       "        vertical-align: middle;\n",
       "    }\n",
       "\n",
       "    .dataframe tbody tr th {\n",
       "        vertical-align: top;\n",
       "    }\n",
       "\n",
       "    .dataframe thead th {\n",
       "        text-align: right;\n",
       "    }\n",
       "</style>\n",
       "<table border=\"1\" class=\"dataframe\">\n",
       "  <thead>\n",
       "    <tr style=\"text-align: right;\">\n",
       "      <th></th>\n",
       "      <th>sample_id</th>\n",
       "      <th>cisTopic_nr_frag</th>\n",
       "      <th>cisTopic_log_nr_frag</th>\n",
       "      <th>Total_nr_frag</th>\n",
       "      <th>pycisTopic_leiden_10_0.6</th>\n",
       "      <th>Log_unique_nr_frag</th>\n",
       "      <th>Dupl_rate</th>\n",
       "      <th>cisTopic_nr_acc</th>\n",
       "      <th>TSS_enrichment</th>\n",
       "      <th>seurat_cell_type</th>\n",
       "      <th>...</th>\n",
       "      <th>FRIP</th>\n",
       "      <th>barcode</th>\n",
       "      <th>fmx_sample</th>\n",
       "      <th>Unique_nr_frag</th>\n",
       "      <th>pycisTopic_leiden_10_0.8</th>\n",
       "      <th>pycisTopic_leiden_10_1.0</th>\n",
       "      <th>UMAP_1</th>\n",
       "      <th>UMAP_2</th>\n",
       "      <th>tSNE_1</th>\n",
       "      <th>tSNE_2</th>\n",
       "    </tr>\n",
       "  </thead>\n",
       "  <tbody>\n",
       "    <tr>\n",
       "      <th>CCTTAGGGCGACTCAGCGAAT_AGCTGAGCGTACAAACAGCTT-Broad_1</th>\n",
       "      <td>Broad_1</td>\n",
       "      <td>14292</td>\n",
       "      <td>4.155093</td>\n",
       "      <td>18048</td>\n",
       "      <td>2</td>\n",
       "      <td>4.256429</td>\n",
       "      <td>0.697739</td>\n",
       "      <td>10940</td>\n",
       "      <td>32.221465</td>\n",
       "      <td>Natural killer cell</td>\n",
       "      <td>...</td>\n",
       "      <td>0.889129</td>\n",
       "      <td>CCTTAGGGCGACTCAGCGAAT_AGCTGAGCGTACAAACAGCTT</td>\n",
       "      <td>sampleA</td>\n",
       "      <td>18048</td>\n",
       "      <td>2</td>\n",
       "      <td>2</td>\n",
       "      <td>5.325886</td>\n",
       "      <td>1.055166</td>\n",
       "      <td>-36.112318</td>\n",
       "      <td>42.185708</td>\n",
       "    </tr>\n",
       "    <tr>\n",
       "      <th>ATTGCCTAATGATTAGTAAGC_ATGAGCTAACCACAGTCGGTT_CACGGACATAGGCAGAATCAA-Broad_1</th>\n",
       "      <td>Broad_1</td>\n",
       "      <td>6759</td>\n",
       "      <td>3.829882</td>\n",
       "      <td>9147</td>\n",
       "      <td>1</td>\n",
       "      <td>3.961279</td>\n",
       "      <td>0.672702</td>\n",
       "      <td>5768</td>\n",
       "      <td>33.876631</td>\n",
       "      <td>CD4+ T cell</td>\n",
       "      <td>...</td>\n",
       "      <td>0.831311</td>\n",
       "      <td>ATTGCCTAATGATTAGTAAGC_ATGAGCTAACCACAGTCGGTT_CA...</td>\n",
       "      <td>sampleA</td>\n",
       "      <td>9147</td>\n",
       "      <td>1</td>\n",
       "      <td>1</td>\n",
       "      <td>13.743738</td>\n",
       "      <td>13.992117</td>\n",
       "      <td>2.050739</td>\n",
       "      <td>-41.636173</td>\n",
       "    </tr>\n",
       "    <tr>\n",
       "      <th>ACTACGACGTGATAGGTTCAC_CGGCTGCCCAAGCTTATGTGC_AACGTAAAATGGCCGTTGATG-Broad_1</th>\n",
       "      <td>Broad_1</td>\n",
       "      <td>7065</td>\n",
       "      <td>3.849112</td>\n",
       "      <td>9222</td>\n",
       "      <td>0</td>\n",
       "      <td>3.964825</td>\n",
       "      <td>0.692179</td>\n",
       "      <td>5960</td>\n",
       "      <td>25.272116</td>\n",
       "      <td>CD4+ T cell</td>\n",
       "      <td>...</td>\n",
       "      <td>0.846996</td>\n",
       "      <td>ACTACGACGTGATAGGTTCAC_CGGCTGCCCAAGCTTATGTGC_AA...</td>\n",
       "      <td>sampleB</td>\n",
       "      <td>9222</td>\n",
       "      <td>0</td>\n",
       "      <td>0</td>\n",
       "      <td>11.444382</td>\n",
       "      <td>12.942389</td>\n",
       "      <td>-1.088673</td>\n",
       "      <td>-21.098056</td>\n",
       "    </tr>\n",
       "    <tr>\n",
       "      <th>CTTGTCCAACGGTGTGGACCA_CCGAACCATAGGCACCAGTCA_AGCGAATTTTGGTCTTGGACT-Broad_1</th>\n",
       "      <td>Broad_1</td>\n",
       "      <td>4513</td>\n",
       "      <td>3.654465</td>\n",
       "      <td>6244</td>\n",
       "      <td>9</td>\n",
       "      <td>3.795463</td>\n",
       "      <td>0.667519</td>\n",
       "      <td>3962</td>\n",
       "      <td>35.924081</td>\n",
       "      <td>CD4+ T cell</td>\n",
       "      <td>...</td>\n",
       "      <td>0.820468</td>\n",
       "      <td>CTTGTCCAACGGTGTGGACCA_CCGAACCATAGGCACCAGTCA_AG...</td>\n",
       "      <td>sampleB</td>\n",
       "      <td>6244</td>\n",
       "      <td>3</td>\n",
       "      <td>8</td>\n",
       "      <td>12.773808</td>\n",
       "      <td>11.500572</td>\n",
       "      <td>-15.946676</td>\n",
       "      <td>-23.092541</td>\n",
       "    </tr>\n",
       "    <tr>\n",
       "      <th>TTAAGCGTGGACCAAATTCCA_AACGGTGGCTTTATCATGTAT-Broad_1</th>\n",
       "      <td>Broad_1</td>\n",
       "      <td>5871</td>\n",
       "      <td>3.768712</td>\n",
       "      <td>8088</td>\n",
       "      <td>1</td>\n",
       "      <td>3.907841</td>\n",
       "      <td>0.652428</td>\n",
       "      <td>5076</td>\n",
       "      <td>32.131229</td>\n",
       "      <td>CD4+ T cell</td>\n",
       "      <td>...</td>\n",
       "      <td>0.801187</td>\n",
       "      <td>TTAAGCGTGGACCAAATTCCA_AACGGTGGCTTTATCATGTAT</td>\n",
       "      <td>sampleA</td>\n",
       "      <td>8088</td>\n",
       "      <td>1</td>\n",
       "      <td>1</td>\n",
       "      <td>12.408016</td>\n",
       "      <td>13.772733</td>\n",
       "      <td>7.745348</td>\n",
       "      <td>-24.685312</td>\n",
       "    </tr>\n",
       "    <tr>\n",
       "      <th>...</th>\n",
       "      <td>...</td>\n",
       "      <td>...</td>\n",
       "      <td>...</td>\n",
       "      <td>...</td>\n",
       "      <td>...</td>\n",
       "      <td>...</td>\n",
       "      <td>...</td>\n",
       "      <td>...</td>\n",
       "      <td>...</td>\n",
       "      <td>...</td>\n",
       "      <td>...</td>\n",
       "      <td>...</td>\n",
       "      <td>...</td>\n",
       "      <td>...</td>\n",
       "      <td>...</td>\n",
       "      <td>...</td>\n",
       "      <td>...</td>\n",
       "      <td>...</td>\n",
       "      <td>...</td>\n",
       "      <td>...</td>\n",
       "      <td>...</td>\n",
       "    </tr>\n",
       "    <tr>\n",
       "      <th>GCTAATTTAAGGTACACATGA_CACGCCACATCAGTCCTATGT_GTCCTTCTGTCGCTTAGTACC_TGGCCTTTCCTGGCAATTGGT-Broad_1</th>\n",
       "      <td>Broad_1</td>\n",
       "      <td>2688</td>\n",
       "      <td>3.429429</td>\n",
       "      <td>3280</td>\n",
       "      <td>2</td>\n",
       "      <td>3.515874</td>\n",
       "      <td>0.656293</td>\n",
       "      <td>2478</td>\n",
       "      <td>42.434688</td>\n",
       "      <td>Cytotoxic T cell</td>\n",
       "      <td>...</td>\n",
       "      <td>0.923476</td>\n",
       "      <td>GCTAATTTAAGGTACACATGA_CACGCCACATCAGTCCTATGT_GT...</td>\n",
       "      <td>sampleB</td>\n",
       "      <td>3280</td>\n",
       "      <td>2</td>\n",
       "      <td>12</td>\n",
       "      <td>4.734689</td>\n",
       "      <td>3.628466</td>\n",
       "      <td>-39.278439</td>\n",
       "      <td>18.369763</td>\n",
       "    </tr>\n",
       "    <tr>\n",
       "      <th>ATTATTCCGCCTAATCTGAAC_TACCGAACGTTTGAGAGCGTG_TACGCATAATTGGTTGAGATT_GTGCATTTCATACACCACTTG_GAGGACAGACAATAAGCTGAG-Broad_1</th>\n",
       "      <td>Broad_1</td>\n",
       "      <td>3178</td>\n",
       "      <td>3.502154</td>\n",
       "      <td>4187</td>\n",
       "      <td>3</td>\n",
       "      <td>3.621903</td>\n",
       "      <td>0.661739</td>\n",
       "      <td>2884</td>\n",
       "      <td>42.318125</td>\n",
       "      <td>CD4+ T cell</td>\n",
       "      <td>...</td>\n",
       "      <td>0.856699</td>\n",
       "      <td>ATTATTCCGCCTAATCTGAAC_TACCGAACGTTTGAGAGCGTG_TA...</td>\n",
       "      <td>sampleB</td>\n",
       "      <td>4187</td>\n",
       "      <td>3</td>\n",
       "      <td>8</td>\n",
       "      <td>13.708868</td>\n",
       "      <td>10.603662</td>\n",
       "      <td>-26.271765</td>\n",
       "      <td>-28.124069</td>\n",
       "    </tr>\n",
       "    <tr>\n",
       "      <th>TTGTAAGCGACACTTGTCGCT_TTGTAAGCAGAATTGAACCGT_TTGTAAGGTCCTTCATATAAC_CGGCTGCGCGTAGACGATTAC-Broad_1</th>\n",
       "      <td>Broad_1</td>\n",
       "      <td>2466</td>\n",
       "      <td>3.391993</td>\n",
       "      <td>3081</td>\n",
       "      <td>6</td>\n",
       "      <td>3.488692</td>\n",
       "      <td>0.665908</td>\n",
       "      <td>2282</td>\n",
       "      <td>40.103818</td>\n",
       "      <td>Cytotoxic T cell</td>\n",
       "      <td>...</td>\n",
       "      <td>0.896138</td>\n",
       "      <td>TTGTAAGCGACACTTGTCGCT_TTGTAAGCAGAATTGAACCGT_TT...</td>\n",
       "      <td>sampleB</td>\n",
       "      <td>3081</td>\n",
       "      <td>7</td>\n",
       "      <td>6</td>\n",
       "      <td>6.157417</td>\n",
       "      <td>9.925058</td>\n",
       "      <td>-18.835261</td>\n",
       "      <td>7.778407</td>\n",
       "    </tr>\n",
       "    <tr>\n",
       "      <th>GCGACTCGGAAGTTGTCGGTT_ACGTTGGTAAGGTAAGCTGAG_AACCACAAACGTAATCGACAG_CCTTAGGCCTTAGGGGTTCAC-Broad_1</th>\n",
       "      <td>Broad_1</td>\n",
       "      <td>3587</td>\n",
       "      <td>3.554731</td>\n",
       "      <td>4605</td>\n",
       "      <td>9</td>\n",
       "      <td>3.663230</td>\n",
       "      <td>0.657366</td>\n",
       "      <td>3209</td>\n",
       "      <td>39.794409</td>\n",
       "      <td>CD4+ T cell</td>\n",
       "      <td>...</td>\n",
       "      <td>0.881216</td>\n",
       "      <td>GCGACTCGGAAGTTGTCGGTT_ACGTTGGTAAGGTAAGCTGAG_AA...</td>\n",
       "      <td>sampleB</td>\n",
       "      <td>4605</td>\n",
       "      <td>3</td>\n",
       "      <td>8</td>\n",
       "      <td>12.611784</td>\n",
       "      <td>10.811452</td>\n",
       "      <td>-21.424586</td>\n",
       "      <td>-21.071385</td>\n",
       "    </tr>\n",
       "    <tr>\n",
       "      <th>AAGTGCGCCGAACCACAGTAC_TTTCCTAAACGGTGCAGGCGG_GGTTAGTATTCGTTTGTTTAG_ATTATTCTGAGATTTCTGAAC-Broad_1</th>\n",
       "      <td>Broad_1</td>\n",
       "      <td>2912</td>\n",
       "      <td>3.464191</td>\n",
       "      <td>3599</td>\n",
       "      <td>6</td>\n",
       "      <td>3.556182</td>\n",
       "      <td>0.636354</td>\n",
       "      <td>2695</td>\n",
       "      <td>39.305469</td>\n",
       "      <td>Cytotoxic T cell</td>\n",
       "      <td>...</td>\n",
       "      <td>0.921089</td>\n",
       "      <td>AAGTGCGCCGAACCACAGTAC_TTTCCTAAACGGTGCAGGCGG_GG...</td>\n",
       "      <td>sampleB</td>\n",
       "      <td>3599</td>\n",
       "      <td>7</td>\n",
       "      <td>6</td>\n",
       "      <td>5.865386</td>\n",
       "      <td>9.058813</td>\n",
       "      <td>-25.830166</td>\n",
       "      <td>8.468123</td>\n",
       "    </tr>\n",
       "  </tbody>\n",
       "</table>\n",
       "<p>3903 rows × 22 columns</p>\n",
       "</div>"
      ],
      "text/plain": [
       "                                                   sample_id cisTopic_nr_frag  \\\n",
       "CCTTAGGGCGACTCAGCGAAT_AGCTGAGCGTACAAACAGCTT-Bro...   Broad_1            14292   \n",
       "ATTGCCTAATGATTAGTAAGC_ATGAGCTAACCACAGTCGGTT_CAC...   Broad_1             6759   \n",
       "ACTACGACGTGATAGGTTCAC_CGGCTGCCCAAGCTTATGTGC_AAC...   Broad_1             7065   \n",
       "CTTGTCCAACGGTGTGGACCA_CCGAACCATAGGCACCAGTCA_AGC...   Broad_1             4513   \n",
       "TTAAGCGTGGACCAAATTCCA_AACGGTGGCTTTATCATGTAT-Bro...   Broad_1             5871   \n",
       "...                                                      ...              ...   \n",
       "GCTAATTTAAGGTACACATGA_CACGCCACATCAGTCCTATGT_GTC...   Broad_1             2688   \n",
       "ATTATTCCGCCTAATCTGAAC_TACCGAACGTTTGAGAGCGTG_TAC...   Broad_1             3178   \n",
       "TTGTAAGCGACACTTGTCGCT_TTGTAAGCAGAATTGAACCGT_TTG...   Broad_1             2466   \n",
       "GCGACTCGGAAGTTGTCGGTT_ACGTTGGTAAGGTAAGCTGAG_AAC...   Broad_1             3587   \n",
       "AAGTGCGCCGAACCACAGTAC_TTTCCTAAACGGTGCAGGCGG_GGT...   Broad_1             2912   \n",
       "\n",
       "                                                   cisTopic_log_nr_frag  \\\n",
       "CCTTAGGGCGACTCAGCGAAT_AGCTGAGCGTACAAACAGCTT-Bro...             4.155093   \n",
       "ATTGCCTAATGATTAGTAAGC_ATGAGCTAACCACAGTCGGTT_CAC...             3.829882   \n",
       "ACTACGACGTGATAGGTTCAC_CGGCTGCCCAAGCTTATGTGC_AAC...             3.849112   \n",
       "CTTGTCCAACGGTGTGGACCA_CCGAACCATAGGCACCAGTCA_AGC...             3.654465   \n",
       "TTAAGCGTGGACCAAATTCCA_AACGGTGGCTTTATCATGTAT-Bro...             3.768712   \n",
       "...                                                                 ...   \n",
       "GCTAATTTAAGGTACACATGA_CACGCCACATCAGTCCTATGT_GTC...             3.429429   \n",
       "ATTATTCCGCCTAATCTGAAC_TACCGAACGTTTGAGAGCGTG_TAC...             3.502154   \n",
       "TTGTAAGCGACACTTGTCGCT_TTGTAAGCAGAATTGAACCGT_TTG...             3.391993   \n",
       "GCGACTCGGAAGTTGTCGGTT_ACGTTGGTAAGGTAAGCTGAG_AAC...             3.554731   \n",
       "AAGTGCGCCGAACCACAGTAC_TTTCCTAAACGGTGCAGGCGG_GGT...             3.464191   \n",
       "\n",
       "                                                    Total_nr_frag  \\\n",
       "CCTTAGGGCGACTCAGCGAAT_AGCTGAGCGTACAAACAGCTT-Bro...          18048   \n",
       "ATTGCCTAATGATTAGTAAGC_ATGAGCTAACCACAGTCGGTT_CAC...           9147   \n",
       "ACTACGACGTGATAGGTTCAC_CGGCTGCCCAAGCTTATGTGC_AAC...           9222   \n",
       "CTTGTCCAACGGTGTGGACCA_CCGAACCATAGGCACCAGTCA_AGC...           6244   \n",
       "TTAAGCGTGGACCAAATTCCA_AACGGTGGCTTTATCATGTAT-Bro...           8088   \n",
       "...                                                           ...   \n",
       "GCTAATTTAAGGTACACATGA_CACGCCACATCAGTCCTATGT_GTC...           3280   \n",
       "ATTATTCCGCCTAATCTGAAC_TACCGAACGTTTGAGAGCGTG_TAC...           4187   \n",
       "TTGTAAGCGACACTTGTCGCT_TTGTAAGCAGAATTGAACCGT_TTG...           3081   \n",
       "GCGACTCGGAAGTTGTCGGTT_ACGTTGGTAAGGTAAGCTGAG_AAC...           4605   \n",
       "AAGTGCGCCGAACCACAGTAC_TTTCCTAAACGGTGCAGGCGG_GGT...           3599   \n",
       "\n",
       "                                                   pycisTopic_leiden_10_0.6  \\\n",
       "CCTTAGGGCGACTCAGCGAAT_AGCTGAGCGTACAAACAGCTT-Bro...                        2   \n",
       "ATTGCCTAATGATTAGTAAGC_ATGAGCTAACCACAGTCGGTT_CAC...                        1   \n",
       "ACTACGACGTGATAGGTTCAC_CGGCTGCCCAAGCTTATGTGC_AAC...                        0   \n",
       "CTTGTCCAACGGTGTGGACCA_CCGAACCATAGGCACCAGTCA_AGC...                        9   \n",
       "TTAAGCGTGGACCAAATTCCA_AACGGTGGCTTTATCATGTAT-Bro...                        1   \n",
       "...                                                                     ...   \n",
       "GCTAATTTAAGGTACACATGA_CACGCCACATCAGTCCTATGT_GTC...                        2   \n",
       "ATTATTCCGCCTAATCTGAAC_TACCGAACGTTTGAGAGCGTG_TAC...                        3   \n",
       "TTGTAAGCGACACTTGTCGCT_TTGTAAGCAGAATTGAACCGT_TTG...                        6   \n",
       "GCGACTCGGAAGTTGTCGGTT_ACGTTGGTAAGGTAAGCTGAG_AAC...                        9   \n",
       "AAGTGCGCCGAACCACAGTAC_TTTCCTAAACGGTGCAGGCGG_GGT...                        6   \n",
       "\n",
       "                                                    Log_unique_nr_frag  \\\n",
       "CCTTAGGGCGACTCAGCGAAT_AGCTGAGCGTACAAACAGCTT-Bro...            4.256429   \n",
       "ATTGCCTAATGATTAGTAAGC_ATGAGCTAACCACAGTCGGTT_CAC...            3.961279   \n",
       "ACTACGACGTGATAGGTTCAC_CGGCTGCCCAAGCTTATGTGC_AAC...            3.964825   \n",
       "CTTGTCCAACGGTGTGGACCA_CCGAACCATAGGCACCAGTCA_AGC...            3.795463   \n",
       "TTAAGCGTGGACCAAATTCCA_AACGGTGGCTTTATCATGTAT-Bro...            3.907841   \n",
       "...                                                                ...   \n",
       "GCTAATTTAAGGTACACATGA_CACGCCACATCAGTCCTATGT_GTC...            3.515874   \n",
       "ATTATTCCGCCTAATCTGAAC_TACCGAACGTTTGAGAGCGTG_TAC...            3.621903   \n",
       "TTGTAAGCGACACTTGTCGCT_TTGTAAGCAGAATTGAACCGT_TTG...            3.488692   \n",
       "GCGACTCGGAAGTTGTCGGTT_ACGTTGGTAAGGTAAGCTGAG_AAC...            3.663230   \n",
       "AAGTGCGCCGAACCACAGTAC_TTTCCTAAACGGTGCAGGCGG_GGT...            3.556182   \n",
       "\n",
       "                                                    Dupl_rate cisTopic_nr_acc  \\\n",
       "CCTTAGGGCGACTCAGCGAAT_AGCTGAGCGTACAAACAGCTT-Bro...   0.697739           10940   \n",
       "ATTGCCTAATGATTAGTAAGC_ATGAGCTAACCACAGTCGGTT_CAC...   0.672702            5768   \n",
       "ACTACGACGTGATAGGTTCAC_CGGCTGCCCAAGCTTATGTGC_AAC...   0.692179            5960   \n",
       "CTTGTCCAACGGTGTGGACCA_CCGAACCATAGGCACCAGTCA_AGC...   0.667519            3962   \n",
       "TTAAGCGTGGACCAAATTCCA_AACGGTGGCTTTATCATGTAT-Bro...   0.652428            5076   \n",
       "...                                                       ...             ...   \n",
       "GCTAATTTAAGGTACACATGA_CACGCCACATCAGTCCTATGT_GTC...   0.656293            2478   \n",
       "ATTATTCCGCCTAATCTGAAC_TACCGAACGTTTGAGAGCGTG_TAC...   0.661739            2884   \n",
       "TTGTAAGCGACACTTGTCGCT_TTGTAAGCAGAATTGAACCGT_TTG...   0.665908            2282   \n",
       "GCGACTCGGAAGTTGTCGGTT_ACGTTGGTAAGGTAAGCTGAG_AAC...   0.657366            3209   \n",
       "AAGTGCGCCGAACCACAGTAC_TTTCCTAAACGGTGCAGGCGG_GGT...   0.636354            2695   \n",
       "\n",
       "                                                    TSS_enrichment  \\\n",
       "CCTTAGGGCGACTCAGCGAAT_AGCTGAGCGTACAAACAGCTT-Bro...       32.221465   \n",
       "ATTGCCTAATGATTAGTAAGC_ATGAGCTAACCACAGTCGGTT_CAC...       33.876631   \n",
       "ACTACGACGTGATAGGTTCAC_CGGCTGCCCAAGCTTATGTGC_AAC...       25.272116   \n",
       "CTTGTCCAACGGTGTGGACCA_CCGAACCATAGGCACCAGTCA_AGC...       35.924081   \n",
       "TTAAGCGTGGACCAAATTCCA_AACGGTGGCTTTATCATGTAT-Bro...       32.131229   \n",
       "...                                                            ...   \n",
       "GCTAATTTAAGGTACACATGA_CACGCCACATCAGTCCTATGT_GTC...       42.434688   \n",
       "ATTATTCCGCCTAATCTGAAC_TACCGAACGTTTGAGAGCGTG_TAC...       42.318125   \n",
       "TTGTAAGCGACACTTGTCGCT_TTGTAAGCAGAATTGAACCGT_TTG...       40.103818   \n",
       "GCGACTCGGAAGTTGTCGGTT_ACGTTGGTAAGGTAAGCTGAG_AAC...       39.794409   \n",
       "AAGTGCGCCGAACCACAGTAC_TTTCCTAAACGGTGCAGGCGG_GGT...       39.305469   \n",
       "\n",
       "                                                       seurat_cell_type  ...  \\\n",
       "CCTTAGGGCGACTCAGCGAAT_AGCTGAGCGTACAAACAGCTT-Bro...  Natural killer cell  ...   \n",
       "ATTGCCTAATGATTAGTAAGC_ATGAGCTAACCACAGTCGGTT_CAC...          CD4+ T cell  ...   \n",
       "ACTACGACGTGATAGGTTCAC_CGGCTGCCCAAGCTTATGTGC_AAC...          CD4+ T cell  ...   \n",
       "CTTGTCCAACGGTGTGGACCA_CCGAACCATAGGCACCAGTCA_AGC...          CD4+ T cell  ...   \n",
       "TTAAGCGTGGACCAAATTCCA_AACGGTGGCTTTATCATGTAT-Bro...          CD4+ T cell  ...   \n",
       "...                                                                 ...  ...   \n",
       "GCTAATTTAAGGTACACATGA_CACGCCACATCAGTCCTATGT_GTC...     Cytotoxic T cell  ...   \n",
       "ATTATTCCGCCTAATCTGAAC_TACCGAACGTTTGAGAGCGTG_TAC...          CD4+ T cell  ...   \n",
       "TTGTAAGCGACACTTGTCGCT_TTGTAAGCAGAATTGAACCGT_TTG...     Cytotoxic T cell  ...   \n",
       "GCGACTCGGAAGTTGTCGGTT_ACGTTGGTAAGGTAAGCTGAG_AAC...          CD4+ T cell  ...   \n",
       "AAGTGCGCCGAACCACAGTAC_TTTCCTAAACGGTGCAGGCGG_GGT...     Cytotoxic T cell  ...   \n",
       "\n",
       "                                                        FRIP  \\\n",
       "CCTTAGGGCGACTCAGCGAAT_AGCTGAGCGTACAAACAGCTT-Bro...  0.889129   \n",
       "ATTGCCTAATGATTAGTAAGC_ATGAGCTAACCACAGTCGGTT_CAC...  0.831311   \n",
       "ACTACGACGTGATAGGTTCAC_CGGCTGCCCAAGCTTATGTGC_AAC...  0.846996   \n",
       "CTTGTCCAACGGTGTGGACCA_CCGAACCATAGGCACCAGTCA_AGC...  0.820468   \n",
       "TTAAGCGTGGACCAAATTCCA_AACGGTGGCTTTATCATGTAT-Bro...  0.801187   \n",
       "...                                                      ...   \n",
       "GCTAATTTAAGGTACACATGA_CACGCCACATCAGTCCTATGT_GTC...  0.923476   \n",
       "ATTATTCCGCCTAATCTGAAC_TACCGAACGTTTGAGAGCGTG_TAC...  0.856699   \n",
       "TTGTAAGCGACACTTGTCGCT_TTGTAAGCAGAATTGAACCGT_TTG...  0.896138   \n",
       "GCGACTCGGAAGTTGTCGGTT_ACGTTGGTAAGGTAAGCTGAG_AAC...  0.881216   \n",
       "AAGTGCGCCGAACCACAGTAC_TTTCCTAAACGGTGCAGGCGG_GGT...  0.921089   \n",
       "\n",
       "                                                                                              barcode  \\\n",
       "CCTTAGGGCGACTCAGCGAAT_AGCTGAGCGTACAAACAGCTT-Bro...        CCTTAGGGCGACTCAGCGAAT_AGCTGAGCGTACAAACAGCTT   \n",
       "ATTGCCTAATGATTAGTAAGC_ATGAGCTAACCACAGTCGGTT_CAC...  ATTGCCTAATGATTAGTAAGC_ATGAGCTAACCACAGTCGGTT_CA...   \n",
       "ACTACGACGTGATAGGTTCAC_CGGCTGCCCAAGCTTATGTGC_AAC...  ACTACGACGTGATAGGTTCAC_CGGCTGCCCAAGCTTATGTGC_AA...   \n",
       "CTTGTCCAACGGTGTGGACCA_CCGAACCATAGGCACCAGTCA_AGC...  CTTGTCCAACGGTGTGGACCA_CCGAACCATAGGCACCAGTCA_AG...   \n",
       "TTAAGCGTGGACCAAATTCCA_AACGGTGGCTTTATCATGTAT-Bro...        TTAAGCGTGGACCAAATTCCA_AACGGTGGCTTTATCATGTAT   \n",
       "...                                                                                               ...   \n",
       "GCTAATTTAAGGTACACATGA_CACGCCACATCAGTCCTATGT_GTC...  GCTAATTTAAGGTACACATGA_CACGCCACATCAGTCCTATGT_GT...   \n",
       "ATTATTCCGCCTAATCTGAAC_TACCGAACGTTTGAGAGCGTG_TAC...  ATTATTCCGCCTAATCTGAAC_TACCGAACGTTTGAGAGCGTG_TA...   \n",
       "TTGTAAGCGACACTTGTCGCT_TTGTAAGCAGAATTGAACCGT_TTG...  TTGTAAGCGACACTTGTCGCT_TTGTAAGCAGAATTGAACCGT_TT...   \n",
       "GCGACTCGGAAGTTGTCGGTT_ACGTTGGTAAGGTAAGCTGAG_AAC...  GCGACTCGGAAGTTGTCGGTT_ACGTTGGTAAGGTAAGCTGAG_AA...   \n",
       "AAGTGCGCCGAACCACAGTAC_TTTCCTAAACGGTGCAGGCGG_GGT...  AAGTGCGCCGAACCACAGTAC_TTTCCTAAACGGTGCAGGCGG_GG...   \n",
       "\n",
       "                                                    fmx_sample Unique_nr_frag  \\\n",
       "CCTTAGGGCGACTCAGCGAAT_AGCTGAGCGTACAAACAGCTT-Bro...     sampleA          18048   \n",
       "ATTGCCTAATGATTAGTAAGC_ATGAGCTAACCACAGTCGGTT_CAC...     sampleA           9147   \n",
       "ACTACGACGTGATAGGTTCAC_CGGCTGCCCAAGCTTATGTGC_AAC...     sampleB           9222   \n",
       "CTTGTCCAACGGTGTGGACCA_CCGAACCATAGGCACCAGTCA_AGC...     sampleB           6244   \n",
       "TTAAGCGTGGACCAAATTCCA_AACGGTGGCTTTATCATGTAT-Bro...     sampleA           8088   \n",
       "...                                                        ...            ...   \n",
       "GCTAATTTAAGGTACACATGA_CACGCCACATCAGTCCTATGT_GTC...     sampleB           3280   \n",
       "ATTATTCCGCCTAATCTGAAC_TACCGAACGTTTGAGAGCGTG_TAC...     sampleB           4187   \n",
       "TTGTAAGCGACACTTGTCGCT_TTGTAAGCAGAATTGAACCGT_TTG...     sampleB           3081   \n",
       "GCGACTCGGAAGTTGTCGGTT_ACGTTGGTAAGGTAAGCTGAG_AAC...     sampleB           4605   \n",
       "AAGTGCGCCGAACCACAGTAC_TTTCCTAAACGGTGCAGGCGG_GGT...     sampleB           3599   \n",
       "\n",
       "                                                   pycisTopic_leiden_10_0.8  \\\n",
       "CCTTAGGGCGACTCAGCGAAT_AGCTGAGCGTACAAACAGCTT-Bro...                        2   \n",
       "ATTGCCTAATGATTAGTAAGC_ATGAGCTAACCACAGTCGGTT_CAC...                        1   \n",
       "ACTACGACGTGATAGGTTCAC_CGGCTGCCCAAGCTTATGTGC_AAC...                        0   \n",
       "CTTGTCCAACGGTGTGGACCA_CCGAACCATAGGCACCAGTCA_AGC...                        3   \n",
       "TTAAGCGTGGACCAAATTCCA_AACGGTGGCTTTATCATGTAT-Bro...                        1   \n",
       "...                                                                     ...   \n",
       "GCTAATTTAAGGTACACATGA_CACGCCACATCAGTCCTATGT_GTC...                        2   \n",
       "ATTATTCCGCCTAATCTGAAC_TACCGAACGTTTGAGAGCGTG_TAC...                        3   \n",
       "TTGTAAGCGACACTTGTCGCT_TTGTAAGCAGAATTGAACCGT_TTG...                        7   \n",
       "GCGACTCGGAAGTTGTCGGTT_ACGTTGGTAAGGTAAGCTGAG_AAC...                        3   \n",
       "AAGTGCGCCGAACCACAGTAC_TTTCCTAAACGGTGCAGGCGG_GGT...                        7   \n",
       "\n",
       "                                                    pycisTopic_leiden_10_1.0  \\\n",
       "CCTTAGGGCGACTCAGCGAAT_AGCTGAGCGTACAAACAGCTT-Bro...                         2   \n",
       "ATTGCCTAATGATTAGTAAGC_ATGAGCTAACCACAGTCGGTT_CAC...                         1   \n",
       "ACTACGACGTGATAGGTTCAC_CGGCTGCCCAAGCTTATGTGC_AAC...                         0   \n",
       "CTTGTCCAACGGTGTGGACCA_CCGAACCATAGGCACCAGTCA_AGC...                         8   \n",
       "TTAAGCGTGGACCAAATTCCA_AACGGTGGCTTTATCATGTAT-Bro...                         1   \n",
       "...                                                                      ...   \n",
       "GCTAATTTAAGGTACACATGA_CACGCCACATCAGTCCTATGT_GTC...                        12   \n",
       "ATTATTCCGCCTAATCTGAAC_TACCGAACGTTTGAGAGCGTG_TAC...                         8   \n",
       "TTGTAAGCGACACTTGTCGCT_TTGTAAGCAGAATTGAACCGT_TTG...                         6   \n",
       "GCGACTCGGAAGTTGTCGGTT_ACGTTGGTAAGGTAAGCTGAG_AAC...                         8   \n",
       "AAGTGCGCCGAACCACAGTAC_TTTCCTAAACGGTGCAGGCGG_GGT...                         6   \n",
       "\n",
       "                                                       UMAP_1     UMAP_2  \\\n",
       "CCTTAGGGCGACTCAGCGAAT_AGCTGAGCGTACAAACAGCTT-Bro...   5.325886   1.055166   \n",
       "ATTGCCTAATGATTAGTAAGC_ATGAGCTAACCACAGTCGGTT_CAC...  13.743738  13.992117   \n",
       "ACTACGACGTGATAGGTTCAC_CGGCTGCCCAAGCTTATGTGC_AAC...  11.444382  12.942389   \n",
       "CTTGTCCAACGGTGTGGACCA_CCGAACCATAGGCACCAGTCA_AGC...  12.773808  11.500572   \n",
       "TTAAGCGTGGACCAAATTCCA_AACGGTGGCTTTATCATGTAT-Bro...  12.408016  13.772733   \n",
       "...                                                       ...        ...   \n",
       "GCTAATTTAAGGTACACATGA_CACGCCACATCAGTCCTATGT_GTC...   4.734689   3.628466   \n",
       "ATTATTCCGCCTAATCTGAAC_TACCGAACGTTTGAGAGCGTG_TAC...  13.708868  10.603662   \n",
       "TTGTAAGCGACACTTGTCGCT_TTGTAAGCAGAATTGAACCGT_TTG...   6.157417   9.925058   \n",
       "GCGACTCGGAAGTTGTCGGTT_ACGTTGGTAAGGTAAGCTGAG_AAC...  12.611784  10.811452   \n",
       "AAGTGCGCCGAACCACAGTAC_TTTCCTAAACGGTGCAGGCGG_GGT...   5.865386   9.058813   \n",
       "\n",
       "                                                       tSNE_1     tSNE_2  \n",
       "CCTTAGGGCGACTCAGCGAAT_AGCTGAGCGTACAAACAGCTT-Bro... -36.112318  42.185708  \n",
       "ATTGCCTAATGATTAGTAAGC_ATGAGCTAACCACAGTCGGTT_CAC...   2.050739 -41.636173  \n",
       "ACTACGACGTGATAGGTTCAC_CGGCTGCCCAAGCTTATGTGC_AAC...  -1.088673 -21.098056  \n",
       "CTTGTCCAACGGTGTGGACCA_CCGAACCATAGGCACCAGTCA_AGC... -15.946676 -23.092541  \n",
       "TTAAGCGTGGACCAAATTCCA_AACGGTGGCTTTATCATGTAT-Bro...   7.745348 -24.685312  \n",
       "...                                                       ...        ...  \n",
       "GCTAATTTAAGGTACACATGA_CACGCCACATCAGTCCTATGT_GTC... -39.278439  18.369763  \n",
       "ATTATTCCGCCTAATCTGAAC_TACCGAACGTTTGAGAGCGTG_TAC... -26.271765 -28.124069  \n",
       "TTGTAAGCGACACTTGTCGCT_TTGTAAGCAGAATTGAACCGT_TTG... -18.835261   7.778407  \n",
       "GCGACTCGGAAGTTGTCGGTT_ACGTTGGTAAGGTAAGCTGAG_AAC... -21.424586 -21.071385  \n",
       "AAGTGCGCCGAACCACAGTAC_TTTCCTAAACGGTGCAGGCGG_GGT... -25.830166   8.468123  \n",
       "\n",
       "[3903 rows x 22 columns]"
      ]
     },
     "execution_count": 19,
     "metadata": {},
     "output_type": "execute_result"
    }
   ],
   "source": [
    "cistopic_obj_dict['Broad_1'].cell_data"
   ]
  },
  {
   "cell_type": "markdown",
   "id": "d3e6ff36",
   "metadata": {
    "papermill": {
     "duration": 0.019019,
     "end_time": "2021-11-24T19:04:54.023864",
     "exception": false,
     "start_time": "2021-11-24T19:04:54.004845",
     "status": "completed"
    },
    "tags": []
   },
   "source": [
    "#### Save/load\n",
    "Only necessary if you have not calculated accessibility yet."
   ]
  },
  {
   "cell_type": "code",
   "execution_count": 22,
   "id": "d43d6706",
   "metadata": {
    "papermill": {
     "duration": 0.308718,
     "end_time": "2021-11-24T19:04:54.350065",
     "exception": false,
     "start_time": "2021-11-24T19:04:54.041347",
     "status": "completed"
    },
    "tags": []
   },
   "outputs": [
    {
     "name": "stdout",
     "output_type": "stream",
     "text": [
      "Loaded /lustre1/project/stg_00002/lcb/fderop/data/20211215_hca_benchmark_github/4_downsampled_data_individual_samples/downstream_analysis/region_bin_topics.pkl\n"
     ]
    }
   ],
   "source": [
    "f_out = os.path.join(f_final_dir, 'region_bin_topics.pkl')\n",
    "if os.path.isfile(f_out):\n",
    "    with open(f_out, 'rb') as f:\n",
    "        region_bin_topics_dict = pickle.load(f)\n",
    "    print(f\"Loaded {f_out}\")"
   ]
  },
  {
   "cell_type": "code",
   "execution_count": 24,
   "id": "e5cc3121",
   "metadata": {},
   "outputs": [
    {
     "data": {
      "text/plain": [
       "dict_keys(['VIB_Hydrop_1', 'VIB_Hydrop_2', 'Broad_1', 'Broad_2', 'Broad_mito_1', 'Broad_mito_2', 'CNAG_1', 'CNAG_2', 's3atac', 'Sanger_1', 'Sanger_2', 'Stanford_1', 'Stanford_2', 'VIB_1', 'VIB_2'])"
      ]
     },
     "execution_count": 24,
     "metadata": {},
     "output_type": "execute_result"
    }
   ],
   "source": [
    "region_bin_topics_dict.keys()"
   ]
  },
  {
   "cell_type": "code",
   "execution_count": 29,
   "id": "47c5e492",
   "metadata": {
    "papermill": {
     "duration": 0.147905,
     "end_time": "2021-11-24T19:04:54.540643",
     "exception": false,
     "start_time": "2021-11-24T19:04:54.392738",
     "status": "completed"
    },
    "tags": []
   },
   "outputs": [
    {
     "name": "stdout",
     "output_type": "stream",
     "text": [
      "Loaded /lustre1/project/stg_00002/lcb/fderop/data/20211215_hca_benchmark_github/4_downsampled_data_individual_samples/downstream_analysis/binarized_cell_topic.pkl\n"
     ]
    }
   ],
   "source": [
    "f_out = os.path.join(f_final_dir, 'binarized_cell_topic.pkl')\n",
    "if os.path.isfile(f_out):\n",
    "    with open(f_out, 'rb') as f:\n",
    "        binarized_cell_topic_dict = pickle.load(f)\n",
    "    print(f\"Loaded {f_out}\")"
   ]
  },
  {
   "cell_type": "code",
   "execution_count": 30,
   "id": "68bf6372",
   "metadata": {},
   "outputs": [
    {
     "data": {
      "text/plain": [
       "dict_keys(['VIB_Hydrop_1', 'VIB_Hydrop_2', 'Broad_1', 'Broad_2', 'Broad_mito_1', 'Broad_mito_2', 'CNAG_1', 'CNAG_2', 's3atac', 'Sanger_1', 'Sanger_2', 'Stanford_1', 'Stanford_2', 'VIB_1', 'VIB_2'])"
      ]
     },
     "execution_count": 30,
     "metadata": {},
     "output_type": "execute_result"
    }
   ],
   "source": [
    "binarized_cell_topic_dict.keys()"
   ]
  },
  {
   "cell_type": "code",
   "execution_count": 33,
   "id": "ada5805b",
   "metadata": {
    "papermill": {
     "duration": 81.446513,
     "end_time": "2021-11-24T19:06:16.079484",
     "exception": false,
     "start_time": "2021-11-24T19:04:54.632971",
     "status": "completed"
    },
    "tags": []
   },
   "outputs": [
    {
     "name": "stdout",
     "output_type": "stream",
     "text": [
      "Loaded /lustre1/project/stg_00002/lcb/fderop/data/20211215_hca_benchmark_github/4_downsampled_data_individual_samples/downstream_analysis/imputed_acc_obj.pkl\n"
     ]
    }
   ],
   "source": [
    "f_out = os.path.join(f_final_dir, 'imputed_acc_obj.pkl')\n",
    "if os.path.isfile(f_out):\n",
    "    with open(f_out, 'rb') as f:\n",
    "        imputed_acc_obj_dict = pickle.load(f)\n",
    "    print(f\"Loaded {f_out}\")"
   ]
  },
  {
   "cell_type": "code",
   "execution_count": 35,
   "id": "e3705bb0",
   "metadata": {},
   "outputs": [
    {
     "data": {
      "text/plain": [
       "dict_keys(['VIB_Hydrop_1', 'VIB_Hydrop_2', 'Broad_1', 'Broad_2', 'Broad_mito_1', 'Broad_mito_2', 'CNAG_1', 'CNAG_2', 's3atac', 'Sanger_1', 'Sanger_2', 'Stanford_1', 'Stanford_2', 'VIB_1', 'VIB_2'])"
      ]
     },
     "execution_count": 35,
     "metadata": {},
     "output_type": "execute_result"
    }
   ],
   "source": [
    "imputed_acc_obj_dict.keys()"
   ]
  },
  {
   "cell_type": "code",
   "execution_count": 36,
   "id": "62204656",
   "metadata": {
    "papermill": {
     "duration": 0.230499,
     "end_time": "2021-11-24T19:06:16.384786",
     "exception": false,
     "start_time": "2021-11-24T19:06:16.154287",
     "status": "completed"
    },
    "tags": []
   },
   "outputs": [
    {
     "name": "stdout",
     "output_type": "stream",
     "text": [
      "Loaded /lustre1/project/stg_00002/lcb/fderop/data/20211215_hca_benchmark_github/4_downsampled_data_individual_samples/downstream_analysis/markers_dict.pkl\n"
     ]
    }
   ],
   "source": [
    "f_out = os.path.join(f_final_dir, 'markers_dict.pkl')\n",
    "if os.path.isfile(f_out):\n",
    "    with open(f_out, 'rb') as f:\n",
    "        markers_dict_dict = pickle.load(f)\n",
    "    print(f\"Loaded {f_out}\")"
   ]
  },
  {
   "cell_type": "code",
   "execution_count": 38,
   "id": "6c387d95",
   "metadata": {},
   "outputs": [
    {
     "data": {
      "text/plain": [
       "dict_keys(['VIB_Hydrop_1', 'VIB_Hydrop_2', 'Broad_1', 'Broad_2', 'Broad_mito_1', 'Broad_mito_2', 'CNAG_1', 'CNAG_2', 's3atac', 'Sanger_1', 'Sanger_2', 'Stanford_1', 'Stanford_2', 'VIB_1', 'VIB_2'])"
      ]
     },
     "execution_count": 38,
     "metadata": {},
     "output_type": "execute_result"
    }
   ],
   "source": [
    "markers_dict_dict.keys()"
   ]
  },
  {
   "cell_type": "markdown",
   "id": "f8b94313",
   "metadata": {
    "papermill": {
     "duration": 0.026334,
     "end_time": "2021-11-24T19:06:16.431159",
     "exception": false,
     "start_time": "2021-11-24T19:06:16.404825",
     "status": "completed"
    },
    "tags": []
   },
   "source": [
    "## Infer or load gene activity"
   ]
  },
  {
   "cell_type": "code",
   "execution_count": 39,
   "id": "cc4da86c",
   "metadata": {
    "papermill": {
     "duration": 0.234298,
     "end_time": "2021-11-24T19:06:16.686396",
     "exception": false,
     "start_time": "2021-11-24T19:06:16.452098",
     "status": "completed"
    },
    "tags": []
   },
   "outputs": [],
   "source": [
    "import pyranges as pr\n",
    "import requests\n",
    "import pybiomart as pbm"
   ]
  },
  {
   "cell_type": "code",
   "execution_count": 40,
   "id": "b1b34987",
   "metadata": {},
   "outputs": [],
   "source": [
    "from pycisTopic.gene_activity import get_gene_activity\n",
    "from pycisTopic.diff_features import find_diff_features"
   ]
  },
  {
   "cell_type": "code",
   "execution_count": 41,
   "id": "692085a6",
   "metadata": {
    "papermill": {
     "duration": 10.102528,
     "end_time": "2021-11-24T19:06:32.362675",
     "exception": false,
     "start_time": "2021-11-24T19:06:22.260147",
     "status": "completed"
    },
    "tags": []
   },
   "outputs": [
    {
     "name": "stdout",
     "output_type": "stream",
     "text": [
      "Broad_1\n",
      "2022-01-10 18:06:52,166 cisTopic     INFO     Calculating gene boundaries\n"
     ]
    },
    {
     "name": "stderr",
     "output_type": "stream",
     "text": [
      "join: Strand data from other will be added as strand data to self.\n",
      "If this is undesired use the flag apply_strand_suffix=False.\n",
      "To turn off the warning set apply_strand_suffix to True or False.\n"
     ]
    },
    {
     "name": "stdout",
     "output_type": "stream",
     "text": [
      "2022-01-10 18:07:02,509 cisTopic     INFO     Calculating distances\n",
      "2022-01-10 18:07:27,897 cisTopic     INFO     Calculating distance weigths\n",
      "2022-01-10 18:07:28,598 cisTopic     INFO     Distance weights done\n",
      "2022-01-10 18:07:28,599 cisTopic     INFO     Calculating gini weights\n",
      "2022-01-10 18:08:08,618 cisTopic     INFO     Getting gene activity scores\n",
      "2022-01-10 18:11:21,553 cisTopic     INFO     Creating imputed features object\n",
      "Broad_2\n",
      "2022-01-10 18:11:27,851 cisTopic     INFO     Calculating gene boundaries\n"
     ]
    },
    {
     "name": "stderr",
     "output_type": "stream",
     "text": [
      "join: Strand data from other will be added as strand data to self.\n",
      "If this is undesired use the flag apply_strand_suffix=False.\n",
      "To turn off the warning set apply_strand_suffix to True or False.\n"
     ]
    },
    {
     "name": "stdout",
     "output_type": "stream",
     "text": [
      "2022-01-10 18:11:37,558 cisTopic     INFO     Calculating distances\n",
      "2022-01-10 18:12:02,730 cisTopic     INFO     Calculating distance weigths\n",
      "2022-01-10 18:12:03,430 cisTopic     INFO     Distance weights done\n",
      "2022-01-10 18:12:03,431 cisTopic     INFO     Calculating gini weights\n",
      "2022-01-10 18:12:41,140 cisTopic     INFO     Getting gene activity scores\n",
      "2022-01-10 18:15:46,950 cisTopic     INFO     Creating imputed features object\n",
      "Stanford_1\n",
      "2022-01-10 18:15:52,296 cisTopic     INFO     Calculating gene boundaries\n"
     ]
    },
    {
     "name": "stderr",
     "output_type": "stream",
     "text": [
      "join: Strand data from other will be added as strand data to self.\n",
      "If this is undesired use the flag apply_strand_suffix=False.\n",
      "To turn off the warning set apply_strand_suffix to True or False.\n"
     ]
    },
    {
     "name": "stdout",
     "output_type": "stream",
     "text": [
      "2022-01-10 18:16:02,295 cisTopic     INFO     Calculating distances\n",
      "2022-01-10 18:16:25,573 cisTopic     INFO     Calculating distance weigths\n",
      "2022-01-10 18:16:26,220 cisTopic     INFO     Distance weights done\n",
      "2022-01-10 18:16:26,222 cisTopic     INFO     Calculating gini weights\n",
      "2022-01-10 18:16:43,483 cisTopic     INFO     Getting gene activity scores\n",
      "2022-01-10 18:19:31,220 cisTopic     INFO     Creating imputed features object\n",
      "Stanford_2\n",
      "2022-01-10 18:19:36,492 cisTopic     INFO     Calculating gene boundaries\n"
     ]
    },
    {
     "name": "stderr",
     "output_type": "stream",
     "text": [
      "join: Strand data from other will be added as strand data to self.\n",
      "If this is undesired use the flag apply_strand_suffix=False.\n",
      "To turn off the warning set apply_strand_suffix to True or False.\n"
     ]
    },
    {
     "name": "stdout",
     "output_type": "stream",
     "text": [
      "2022-01-10 18:19:46,682 cisTopic     INFO     Calculating distances\n",
      "2022-01-10 18:20:17,118 cisTopic     INFO     Calculating distance weigths\n",
      "2022-01-10 18:20:17,860 cisTopic     INFO     Distance weights done\n",
      "2022-01-10 18:20:17,862 cisTopic     INFO     Calculating gini weights\n",
      "2022-01-10 18:20:46,570 cisTopic     INFO     Getting gene activity scores\n",
      "2022-01-10 18:24:33,715 cisTopic     INFO     Creating imputed features object\n",
      "VIB_1\n",
      "2022-01-10 18:24:39,350 cisTopic     INFO     Calculating gene boundaries\n"
     ]
    },
    {
     "name": "stderr",
     "output_type": "stream",
     "text": [
      "join: Strand data from other will be added as strand data to self.\n",
      "If this is undesired use the flag apply_strand_suffix=False.\n",
      "To turn off the warning set apply_strand_suffix to True or False.\n"
     ]
    },
    {
     "name": "stdout",
     "output_type": "stream",
     "text": [
      "2022-01-10 18:24:49,850 cisTopic     INFO     Calculating distances\n",
      "2022-01-10 18:25:19,716 cisTopic     INFO     Calculating distance weigths\n",
      "2022-01-10 18:25:20,470 cisTopic     INFO     Distance weights done\n",
      "2022-01-10 18:25:20,472 cisTopic     INFO     Calculating gini weights\n",
      "2022-01-10 18:25:57,174 cisTopic     INFO     Getting gene activity scores\n",
      "2022-01-10 18:29:38,162 cisTopic     INFO     Creating imputed features object\n",
      "VIB_2\n",
      "2022-01-10 18:29:46,707 cisTopic     INFO     Calculating gene boundaries\n"
     ]
    },
    {
     "name": "stderr",
     "output_type": "stream",
     "text": [
      "join: Strand data from other will be added as strand data to self.\n",
      "If this is undesired use the flag apply_strand_suffix=False.\n",
      "To turn off the warning set apply_strand_suffix to True or False.\n"
     ]
    },
    {
     "name": "stdout",
     "output_type": "stream",
     "text": [
      "2022-01-10 18:29:56,962 cisTopic     INFO     Calculating distances\n",
      "2022-01-10 18:30:36,604 cisTopic     INFO     Calculating distance weigths\n",
      "2022-01-10 18:30:37,448 cisTopic     INFO     Distance weights done\n",
      "2022-01-10 18:30:37,450 cisTopic     INFO     Calculating gini weights\n",
      "2022-01-10 18:32:06,714 cisTopic     INFO     Getting gene activity scores\n",
      "2022-01-10 18:36:58,266 cisTopic     INFO     Creating imputed features object\n",
      "CNAG_1\n",
      "2022-01-10 18:37:03,450 cisTopic     INFO     Calculating gene boundaries\n"
     ]
    },
    {
     "name": "stderr",
     "output_type": "stream",
     "text": [
      "join: Strand data from other will be added as strand data to self.\n",
      "If this is undesired use the flag apply_strand_suffix=False.\n",
      "To turn off the warning set apply_strand_suffix to True or False.\n"
     ]
    },
    {
     "name": "stdout",
     "output_type": "stream",
     "text": [
      "2022-01-10 18:37:13,992 cisTopic     INFO     Calculating distances\n",
      "2022-01-10 18:37:47,190 cisTopic     INFO     Calculating distance weigths\n",
      "2022-01-10 18:37:47,974 cisTopic     INFO     Distance weights done\n",
      "2022-01-10 18:37:47,976 cisTopic     INFO     Calculating gini weights\n",
      "2022-01-10 18:38:27,494 cisTopic     INFO     Getting gene activity scores\n",
      "2022-01-10 18:42:36,716 cisTopic     INFO     Creating imputed features object\n",
      "CNAG_2\n",
      "2022-01-10 18:42:42,732 cisTopic     INFO     Calculating gene boundaries\n"
     ]
    },
    {
     "name": "stderr",
     "output_type": "stream",
     "text": [
      "join: Strand data from other will be added as strand data to self.\n",
      "If this is undesired use the flag apply_strand_suffix=False.\n",
      "To turn off the warning set apply_strand_suffix to True or False.\n"
     ]
    },
    {
     "name": "stdout",
     "output_type": "stream",
     "text": [
      "2022-01-10 18:42:52,963 cisTopic     INFO     Calculating distances\n",
      "2022-01-10 18:43:29,156 cisTopic     INFO     Calculating distance weigths\n",
      "2022-01-10 18:43:29,971 cisTopic     INFO     Distance weights done\n",
      "2022-01-10 18:43:29,972 cisTopic     INFO     Calculating gini weights\n",
      "2022-01-10 18:44:10,195 cisTopic     INFO     Getting gene activity scores\n",
      "2022-01-10 18:48:30,735 cisTopic     INFO     Creating imputed features object\n",
      "Broad_mito_1\n",
      "2022-01-10 18:48:36,306 cisTopic     INFO     Calculating gene boundaries\n"
     ]
    },
    {
     "name": "stderr",
     "output_type": "stream",
     "text": [
      "join: Strand data from other will be added as strand data to self.\n",
      "If this is undesired use the flag apply_strand_suffix=False.\n",
      "To turn off the warning set apply_strand_suffix to True or False.\n"
     ]
    },
    {
     "name": "stdout",
     "output_type": "stream",
     "text": [
      "2022-01-10 18:48:46,946 cisTopic     INFO     Calculating distances\n",
      "2022-01-10 18:49:23,780 cisTopic     INFO     Calculating distance weigths\n",
      "2022-01-10 18:49:24,603 cisTopic     INFO     Distance weights done\n",
      "2022-01-10 18:49:24,604 cisTopic     INFO     Calculating gini weights\n",
      "2022-01-10 18:50:16,377 cisTopic     INFO     Getting gene activity scores\n",
      "2022-01-10 18:54:46,797 cisTopic     INFO     Creating imputed features object\n",
      "Broad_mito_2\n",
      "2022-01-10 18:54:52,352 cisTopic     INFO     Calculating gene boundaries\n"
     ]
    },
    {
     "name": "stderr",
     "output_type": "stream",
     "text": [
      "join: Strand data from other will be added as strand data to self.\n",
      "If this is undesired use the flag apply_strand_suffix=False.\n",
      "To turn off the warning set apply_strand_suffix to True or False.\n"
     ]
    },
    {
     "name": "stdout",
     "output_type": "stream",
     "text": [
      "2022-01-10 18:55:03,131 cisTopic     INFO     Calculating distances\n",
      "2022-01-10 18:55:42,228 cisTopic     INFO     Calculating distance weigths\n",
      "2022-01-10 18:55:43,082 cisTopic     INFO     Distance weights done\n",
      "2022-01-10 18:55:43,083 cisTopic     INFO     Calculating gini weights\n",
      "2022-01-10 18:56:35,983 cisTopic     INFO     Getting gene activity scores\n",
      "2022-01-10 19:01:28,128 cisTopic     INFO     Creating imputed features object\n",
      "Sanger_1\n",
      "2022-01-10 19:01:34,674 cisTopic     INFO     Calculating gene boundaries\n"
     ]
    },
    {
     "name": "stderr",
     "output_type": "stream",
     "text": [
      "join: Strand data from other will be added as strand data to self.\n",
      "If this is undesired use the flag apply_strand_suffix=False.\n",
      "To turn off the warning set apply_strand_suffix to True or False.\n"
     ]
    },
    {
     "name": "stdout",
     "output_type": "stream",
     "text": [
      "2022-01-10 19:01:45,292 cisTopic     INFO     Calculating distances\n",
      "2022-01-10 19:02:21,483 cisTopic     INFO     Calculating distance weigths\n",
      "2022-01-10 19:02:22,325 cisTopic     INFO     Distance weights done\n",
      "2022-01-10 19:02:22,326 cisTopic     INFO     Calculating gini weights\n",
      "2022-01-10 19:03:09,969 cisTopic     INFO     Getting gene activity scores\n",
      "2022-01-10 19:07:34,140 cisTopic     INFO     Creating imputed features object\n",
      "Sanger_2\n",
      "2022-01-10 19:07:41,122 cisTopic     INFO     Calculating gene boundaries\n"
     ]
    },
    {
     "name": "stderr",
     "output_type": "stream",
     "text": [
      "join: Strand data from other will be added as strand data to self.\n",
      "If this is undesired use the flag apply_strand_suffix=False.\n",
      "To turn off the warning set apply_strand_suffix to True or False.\n"
     ]
    },
    {
     "name": "stdout",
     "output_type": "stream",
     "text": [
      "2022-01-10 19:07:51,070 cisTopic     INFO     Calculating distances\n",
      "2022-01-10 19:08:28,132 cisTopic     INFO     Calculating distance weigths\n",
      "2022-01-10 19:08:28,945 cisTopic     INFO     Distance weights done\n",
      "2022-01-10 19:08:28,946 cisTopic     INFO     Calculating gini weights\n",
      "2022-01-10 19:09:22,744 cisTopic     INFO     Getting gene activity scores\n",
      "2022-01-10 19:13:47,813 cisTopic     INFO     Creating imputed features object\n",
      "VIB_Hydrop_1\n",
      "2022-01-10 19:13:52,951 cisTopic     INFO     Calculating gene boundaries\n",
      "2022-01-10 19:14:03,236 cisTopic     INFO     Calculating distances\n"
     ]
    },
    {
     "name": "stderr",
     "output_type": "stream",
     "text": [
      "join: Strand data from other will be added as strand data to self.\n",
      "If this is undesired use the flag apply_strand_suffix=False.\n",
      "To turn off the warning set apply_strand_suffix to True or False.\n"
     ]
    },
    {
     "name": "stdout",
     "output_type": "stream",
     "text": [
      "2022-01-10 19:14:21,680 cisTopic     INFO     Calculating distance weigths\n",
      "2022-01-10 19:14:22,309 cisTopic     INFO     Distance weights done\n",
      "2022-01-10 19:14:22,310 cisTopic     INFO     Calculating gini weights\n",
      "2022-01-10 19:14:42,822 cisTopic     INFO     Getting gene activity scores\n",
      "2022-01-10 19:16:51,688 cisTopic     INFO     Creating imputed features object\n",
      "VIB_Hydrop_2\n",
      "2022-01-10 19:16:56,967 cisTopic     INFO     Calculating gene boundaries\n",
      "2022-01-10 19:17:07,496 cisTopic     INFO     Calculating distances\n"
     ]
    },
    {
     "name": "stderr",
     "output_type": "stream",
     "text": [
      "join: Strand data from other will be added as strand data to self.\n",
      "If this is undesired use the flag apply_strand_suffix=False.\n",
      "To turn off the warning set apply_strand_suffix to True or False.\n"
     ]
    },
    {
     "name": "stdout",
     "output_type": "stream",
     "text": [
      "2022-01-10 19:17:27,510 cisTopic     INFO     Calculating distance weigths\n",
      "2022-01-10 19:17:28,121 cisTopic     INFO     Distance weights done\n",
      "2022-01-10 19:17:28,122 cisTopic     INFO     Calculating gini weights\n",
      "2022-01-10 19:17:52,204 cisTopic     INFO     Getting gene activity scores\n",
      "2022-01-10 19:20:14,608 cisTopic     INFO     Creating imputed features object\n",
      "s3atac\n",
      "2022-01-10 19:20:21,662 cisTopic     INFO     Calculating gene boundaries\n"
     ]
    },
    {
     "name": "stderr",
     "output_type": "stream",
     "text": [
      "join: Strand data from other will be added as strand data to self.\n",
      "If this is undesired use the flag apply_strand_suffix=False.\n",
      "To turn off the warning set apply_strand_suffix to True or False.\n"
     ]
    },
    {
     "name": "stdout",
     "output_type": "stream",
     "text": [
      "2022-01-10 19:20:31,932 cisTopic     INFO     Calculating distances\n",
      "2022-01-10 19:21:02,488 cisTopic     INFO     Calculating distance weigths\n",
      "2022-01-10 19:21:03,234 cisTopic     INFO     Distance weights done\n",
      "2022-01-10 19:21:03,235 cisTopic     INFO     Calculating gini weights\n",
      "2022-01-10 19:21:48,974 cisTopic     INFO     Getting gene activity scores\n",
      "2022-01-10 19:25:27,317 cisTopic     INFO     Creating imputed features object\n",
      "saved /lustre1/project/stg_00002/lcb/fderop/data/20211215_hca_benchmark_github/4_downsampled_data_individual_samples/downstream_analysis/gene_act_dict.pkl\n"
     ]
    }
   ],
   "source": [
    "f_out = os.path.join(f_final_dir, 'gene_act_dict.pkl')\n",
    "if os.path.isfile(f_out):\n",
    "    print(f\"Loading {f_out}\")\n",
    "    with open(f_out, 'rb') as f:\n",
    "        gene_act_dict = pickle.load(f)\n",
    "else:\n",
    "    from pycisTopic.gene_activity import get_gene_activity\n",
    "    from pycisTopic.diff_features import find_diff_features\n",
    "    # For human\n",
    "    dataset = pbm.Dataset(name='hsapiens_gene_ensembl',  host='http://www.ensembl.org')\n",
    "    annot = dataset.query(attributes=['chromosome_name', 'start_position', 'end_position', 'strand', 'external_gene_name', 'transcription_start_site', 'transcript_biotype'])\n",
    "    annot['Chromosome/scaffold name'] = 'chr' + annot['Chromosome/scaffold name'].astype(str)\n",
    "    annot.columns=['Chromosome', 'Start', 'End', 'Strand', 'Gene','Transcription_Start_Site', 'Transcript_type']\n",
    "    annot = annot[annot.Transcript_type == 'protein_coding']\n",
    "    annot.Strand[annot.Strand == 1] = '+'\n",
    "    annot.Strand[annot.Strand == -1] = '-'\n",
    "    pr_annotation = pr.PyRanges(annot.dropna(axis = 0))\n",
    "    pr_annotation\n",
    "\n",
    "    # get chromosome sizes (hg38)\n",
    "    target_url = 'http://hgdownload.cse.ucsc.edu/goldenPath/hg38/bigZips/hg38.chrom.sizes'\n",
    "    chromsizes = pd.read_csv(target_url, sep='\\t', header=None)\n",
    "    chromsizes.columns = ['Chromosome', 'End']\n",
    "    chromsizes['Start'] = [0]*chromsizes.shape[0]\n",
    "    chromsizes = chromsizes.loc[:,['Chromosome', 'Start', 'End']]\n",
    "    chromsizes = pr.PyRanges(chromsizes)\n",
    "    chromsizes\n",
    "\n",
    "    gene_act_dict = {}\n",
    "    for key in cistopic_obj_dict.keys():\n",
    "        print(key)\n",
    "        gene_act, weights = get_gene_activity(\n",
    "            imputed_acc_obj_dict[key], # Region-cell probabilities\n",
    "            pr_annotation, # Gene annotation\n",
    "            chromsizes, # Chromosome size\n",
    "            use_gene_boundaries=True, # Whether to use the whole search space or stop when encountering another gene\n",
    "            upstream=[1000, 100000], # Search space upstream. The minimum means that even if there is a gene right next to it \n",
    "                                     #these bp will be taken (1kbp here)\n",
    "            downstream=[1000,100000], # Search space downstream\n",
    "            distance_weight=True, # Whether to add a distance weight (an exponential function, the weight will decrease with distance)\n",
    "            decay_rate=1, # Exponent for the distance exponential funciton (the higher the faster will be the decrease)\n",
    "            extend_gene_body_upstream=10000, # Number of bp upstream immune to the distance weight (their value will be maximum for \n",
    "                                             #this weight)\n",
    "            extend_gene_body_downstream=500, # Number of bp downstream immune to the distance weight\n",
    "            gene_size_weight=False, # Whether to add a weights based on the length of the gene\n",
    "            gene_size_scale_factor='median', # Dividend to calculate the gene size weigth. Default is the median value of all genes\n",
    "                                             #in the genome\n",
    "            remove_promoters=False, # Whether to remove promoters when computing gene activity scores\n",
    "            average_scores=True, # Whether to divide by the total number of region assigned to a gene when calculating the gene \n",
    "                                 # activity score\n",
    "            scale_factor=1, # Value to multiply for the final gene activity matrix\n",
    "            extend_tss=[10,10], # Space to consider a promoter\n",
    "            gini_weight = True, # Whether to add a gini index weigth. The more unique the region is, the higher this weight will be\n",
    "            return_weights= True, # Whether to return the final weights\n",
    "            project='Gene_activity') # Project name for the gene activity object\n",
    "        gene_act_dict[key] = copy.copy(gene_act)\n",
    "\n",
    "    with open(f_out, 'wb') as f:\n",
    "        pickle.dump(gene_act_dict, f)\n",
    "    print(f'saved {f_out}')"
   ]
  },
  {
   "cell_type": "code",
   "execution_count": 42,
   "id": "7ee67bd2",
   "metadata": {},
   "outputs": [
    {
     "data": {
      "text/plain": [
       "{'Broad_1': <pycisTopic.diff_features.CistopicImputedFeatures at 0x2afac12b52e0>,\n",
       " 'Broad_2': <pycisTopic.diff_features.CistopicImputedFeatures at 0x2afaaefb5970>,\n",
       " 'Stanford_1': <pycisTopic.diff_features.CistopicImputedFeatures at 0x2afab5f3aee0>,\n",
       " 'Stanford_2': <pycisTopic.diff_features.CistopicImputedFeatures at 0x2afabfcdb9a0>,\n",
       " 'VIB_1': <pycisTopic.diff_features.CistopicImputedFeatures at 0x2afac21282e0>,\n",
       " 'VIB_2': <pycisTopic.diff_features.CistopicImputedFeatures at 0x2afabc9fc190>,\n",
       " 'CNAG_1': <pycisTopic.diff_features.CistopicImputedFeatures at 0x2afabd2cd0d0>,\n",
       " 'CNAG_2': <pycisTopic.diff_features.CistopicImputedFeatures at 0x2afab376adc0>,\n",
       " 'Broad_mito_1': <pycisTopic.diff_features.CistopicImputedFeatures at 0x2afac18ec340>,\n",
       " 'Broad_mito_2': <pycisTopic.diff_features.CistopicImputedFeatures at 0x2afaa7531820>,\n",
       " 'Sanger_1': <pycisTopic.diff_features.CistopicImputedFeatures at 0x2afab0e0f3a0>,\n",
       " 'Sanger_2': <pycisTopic.diff_features.CistopicImputedFeatures at 0x2afabfcf28e0>,\n",
       " 'VIB_Hydrop_1': <pycisTopic.diff_features.CistopicImputedFeatures at 0x2afabbeae700>,\n",
       " 'VIB_Hydrop_2': <pycisTopic.diff_features.CistopicImputedFeatures at 0x2afabc650dc0>,\n",
       " 's3atac': <pycisTopic.diff_features.CistopicImputedFeatures at 0x2afabfce5e20>}"
      ]
     },
     "execution_count": 42,
     "metadata": {},
     "output_type": "execute_result"
    }
   ],
   "source": [
    "gene_act_dict"
   ]
  },
  {
   "cell_type": "code",
   "execution_count": 43,
   "id": "0017d81a",
   "metadata": {},
   "outputs": [],
   "source": [
    "for key in gene_act_dict.keys():\n",
    "    f_out = os.path.join(f_final_dir, key + '__libds__gene_act.pkl')\n",
    "    if os.path.isfile(f_out):\n",
    "        print(f\"Saving {f_out}\")\n",
    "        with open(f_out, 'wb') as f:\n",
    "            pickle.dump(gene_act_dict[key], f)"
   ]
  },
  {
   "cell_type": "markdown",
   "id": "978bcde4",
   "metadata": {
    "papermill": {
     "duration": 0.022635,
     "end_time": "2021-11-24T19:06:32.455185",
     "exception": false,
     "start_time": "2021-11-24T19:06:32.432550",
     "status": "completed"
    },
    "tags": []
   },
   "source": [
    "## Export to loom"
   ]
  },
  {
   "cell_type": "code",
   "execution_count": 16,
   "id": "c4760833",
   "metadata": {
    "papermill": {
     "duration": 0.069649,
     "end_time": "2021-11-24T19:06:32.546607",
     "exception": false,
     "start_time": "2021-11-24T19:06:32.476958",
     "status": "completed"
    },
    "tags": []
   },
   "outputs": [],
   "source": [
    "f_gene_loom_dir = os.path.join(f_final_dir, 'gene_act_loom')\n",
    "if not os.path.exists(f_gene_loom_dir):\n",
    "    os.makedirs(f_gene_loom_dir)"
   ]
  },
  {
   "cell_type": "code",
   "execution_count": 17,
   "id": "139058d5",
   "metadata": {
    "papermill": {
     "duration": 4.712169,
     "end_time": "2021-11-24T19:06:37.285737",
     "exception": false,
     "start_time": "2021-11-24T19:06:32.573568",
     "status": "completed"
    },
    "tags": []
   },
   "outputs": [],
   "source": [
    "from pycisTopic.loom import (\n",
    "    export_region_accessibility_to_loom,\n",
    "    export_gene_activity_to_loom\n",
    ")"
   ]
  },
  {
   "cell_type": "markdown",
   "id": "6a2b70af",
   "metadata": {
    "papermill": {
     "duration": 0.018389,
     "end_time": "2021-11-24T19:06:37.332380",
     "exception": false,
     "start_time": "2021-11-24T19:06:37.313991",
     "status": "completed"
    },
    "tags": []
   },
   "source": [
    "### Gene activity"
   ]
  },
  {
   "cell_type": "code",
   "execution_count": 18,
   "id": "ffdb622b",
   "metadata": {
    "papermill": {
     "duration": 0.029576,
     "end_time": "2021-11-24T19:06:37.430207",
     "exception": false,
     "start_time": "2021-11-24T19:06:37.400631",
     "status": "completed"
    },
    "tags": []
   },
   "outputs": [],
   "source": [
    "from ctxcore.genesig import Regulon\n",
    "\n",
    "# generate a dummy regulon (required for export_gene_activity_to_loom):\n",
    "phreg = Regulon(\n",
    "        name='placeholder regulon',\n",
    "        gene2weight={'phreg': 1.0},\n",
    "        transcription_factor=\"phreg\",\n",
    "        gene2occurrence={\"phreg\": 1},\n",
    "    )"
   ]
  },
  {
   "cell_type": "code",
   "execution_count": 19,
   "id": "5bfbd7ef",
   "metadata": {
    "papermill": {
     "duration": 761.072311,
     "end_time": "2021-11-24T19:19:18.521828",
     "exception": false,
     "start_time": "2021-11-24T19:06:37.449517",
     "status": "completed"
    },
    "tags": []
   },
   "outputs": [
    {
     "name": "stdout",
     "output_type": "stream",
     "text": [
      "VIB_Hydrop_1\n",
      "2021-11-26 13:58:48,686 cisTopic     INFO     Creating minimal loom\n",
      "2021-11-26 13:58:53,254 ctxcore.recovery WARNING  Less than 80% of the genes in placeholder regulon are present in the expression matrix.\n",
      "2021-11-26 13:59:03,727 cisTopic     INFO     Adding annotations\n",
      "2021-11-26 13:59:05,305 cisTopic     INFO     Adding clusterings\n",
      "2021-11-26 13:59:05,323 cisTopic     INFO     Adding markers\n",
      "No markers for  sampleA\n",
      "No markers for  sampleB\n",
      "2021-11-26 13:59:05,568 cisTopic     INFO     Exporting\n",
      "VIB_Hydrop_2\n",
      "2021-11-26 13:59:16,087 cisTopic     INFO     Creating minimal loom\n",
      "2021-11-26 13:59:21,274 ctxcore.recovery WARNING  Less than 80% of the genes in placeholder regulon are present in the expression matrix.\n",
      "2021-11-26 13:59:30,968 cisTopic     INFO     Adding annotations\n",
      "2021-11-26 13:59:32,779 cisTopic     INFO     Adding clusterings\n",
      "2021-11-26 13:59:32,799 cisTopic     INFO     Adding markers\n",
      "No markers for  sampleA\n",
      "No markers for  sampleB\n",
      "2021-11-26 13:59:33,038 cisTopic     INFO     Exporting\n"
     ]
    }
   ],
   "source": [
    "for key in cistopic_obj_dict.keys():\n",
    "    print(key)\n",
    "    f_out = os.path.join(f_gene_loom_dir, key + '__libDS_gene_activity.loom')\n",
    "    if os.path.exists(f_out):\n",
    "        print(f\"Skipping {f_out}: already exists.\")\n",
    "        continue\n",
    "        \n",
    "    export_gene_activity_to_loom(\n",
    "        gene_activity_matrix = gene_act_dict[key],\n",
    "        cistopic_obj = cistopic_obj_dict[key], \n",
    "        regulons = [phreg],\n",
    "        # selected_cells = [ x.split('-')[0] + '-' + x.split('-')[1]  for x in cistopic_obj_dict[key].cell_names ], # this leaves a cell barcode of the format type 'TGCATGTCGCCGTTCCAAGA-21'\n",
    "        # selected_cells = cistopic_obj_dict[key].projections['cell']['UMAP'].index.tolist(), # cflerin original \n",
    "        out_fname = f_out,t\n",
    "        cluster_annotation = ['consensus_cell_type', 'SCREEN_fmx_sample'],\n",
    "        cluster_markers = {'consensus_cell_type': markers_dict_dict[key], 'SCREEN_fmx_sample':{}},\n",
    "        tree_structure = ('scATAC-seq_Benchmark', 'ATAC_library_downsampled', 'Gene_activity'),\n",
    "        title = 'Gene activity from library-downsampled and sample-merged dataset',\n",
    "        nomenclature = \"hg38\"\n",
    "    )"
   ]
  },
  {
   "cell_type": "markdown",
   "id": "ebf0a6c5",
   "metadata": {},
   "source": [
    "# Caution:\n",
    "The export loom function contains a bug which adds the barcodes as a clustering, causing scope to crash on loading. This redundant attribute is removed in the final loom jupyter notebooks (see dir \"7_downsampled_data_looms\")."
   ]
  }
 ],
 "metadata": {
  "kernelspec": {
   "display_name": "pycisTopic_singularity_20210921",
   "language": "python",
   "name": "pycistopic_singularity"
  },
  "language_info": {
   "codemirror_mode": {
    "name": "ipython",
    "version": 3
   },
   "file_extension": ".py",
   "mimetype": "text/x-python",
   "name": "python",
   "nbconvert_exporter": "python",
   "pygments_lexer": "ipython3",
   "version": "3.8.6"
  },
  "papermill": {
   "default_parameters": {},
   "duration": 20729.37749,
   "end_time": "2021-11-25T00:50:09.771708",
   "environment_variables": {},
   "exception": null,
   "input_path": "8_export_loom.ipynb",
   "output_path": "8_export_loom.OUT.ipynb",
   "parameters": {},
   "start_time": "2021-11-24T19:04:40.394218",
   "version": "2.3.3"
  }
 },
 "nbformat": 4,
 "nbformat_minor": 5
}
