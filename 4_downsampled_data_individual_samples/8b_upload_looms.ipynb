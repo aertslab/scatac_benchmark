{
 "cells": [
  {
   "cell_type": "markdown",
   "id": "fb33eb4b",
   "metadata": {},
   "source": [
    "# Upload"
   ]
  },
  {
   "cell_type": "code",
   "execution_count": 4,
   "id": "0839feb1",
   "metadata": {},
   "outputs": [
    {
     "name": "stdout",
     "output_type": "stream",
     "text": [
      "started uploading /lustre1/project/stg_00002/lcb/fderop/data/20211024_hca_benchmark_libds_merged/downstream_analysis/gene_act_loom/Merged__libds_gene_activity.loom\n",
      "  % Total    % Received % Xferd  Average Speed   Time    Time     Time  Current\n",
      "                                 Dload  Upload   Total   Spent    Left  Speed\n",
      "100 5833M    0     0  100 5833M      0  50.1M  0:01:56  0:01:56 --:--:-- 44.2M\n",
      "finished uploading /lustre1/project/stg_00002/lcb/fderop/data/20211024_hca_benchmark_libds_merged/downstream_analysis/gene_act_loom/Merged__libds_gene_activity.loom\n"
     ]
    }
   ],
   "source": [
    "for file in /lustre1/project/stg_00002/lcb/fderop/data/20211215_hca_benchmark_github/5_downsampled_data_merged/downstream_analysis/gene_act_loom/*.loom\n",
    "do\n",
    "    echo \"started uploading\" $file\n",
    "    curl -F 'UUID=scATAC-seq_Benchmark' -F 'file-type=Loom' -F 'file=@'$file https://scope.aertslab.org/upload/ | tee /dev/null\n",
    "    echo \"finished uploading\" $file\n",
    "done"
   ]
  }
 ],
 "metadata": {
  "kernelspec": {
   "display_name": "Bash",
   "language": "bash",
   "name": "bash"
  },
  "language_info": {
   "codemirror_mode": "shell",
   "file_extension": ".sh",
   "mimetype": "text/x-sh",
   "name": "bash"
  }
 },
 "nbformat": 4,
 "nbformat_minor": 5
}
