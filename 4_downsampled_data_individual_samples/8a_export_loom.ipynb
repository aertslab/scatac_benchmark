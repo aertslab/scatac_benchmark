{
 "cells": [
  {
   "cell_type": "code",
   "execution_count": 1,
   "id": "79a10294",
   "metadata": {
    "execution": {
     "iopub.execute_input": "2022-01-17T13:30:14.114671Z",
     "iopub.status.busy": "2022-01-17T13:30:14.114269Z",
     "iopub.status.idle": "2022-01-17T13:30:14.124288Z",
     "shell.execute_reply": "2022-01-17T13:30:14.123849Z"
    },
    "papermill": {
     "duration": 0.047944,
     "end_time": "2022-01-17T13:30:14.124416",
     "exception": false,
     "start_time": "2022-01-17T13:30:14.076472",
     "status": "completed"
    },
    "tags": []
   },
   "outputs": [
    {
     "data": {
      "text/plain": [
       "'0.1.dev300+g7494158'"
      ]
     },
     "execution_count": 1,
     "metadata": {},
     "output_type": "execute_result"
    }
   ],
   "source": [
    "import pycisTopic\n",
    "pycisTopic.__version__"
   ]
  },
  {
   "cell_type": "code",
   "execution_count": 2,
   "id": "a24f4361",
   "metadata": {
    "execution": {
     "iopub.execute_input": "2022-01-17T13:30:14.168526Z",
     "iopub.status.busy": "2022-01-17T13:30:14.168121Z",
     "iopub.status.idle": "2022-01-17T13:30:14.170246Z",
     "shell.execute_reply": "2022-01-17T13:30:14.169849Z"
    },
    "papermill": {
     "duration": 0.025974,
     "end_time": "2022-01-17T13:30:14.170348",
     "exception": false,
     "start_time": "2022-01-17T13:30:14.144374",
     "status": "completed"
    },
    "tags": []
   },
   "outputs": [],
   "source": [
    "import warnings\n",
    "warnings.filterwarnings('ignore')\n",
    "warnings.simplefilter('ignore')"
   ]
  },
  {
   "cell_type": "code",
   "execution_count": 3,
   "id": "b190bf1f",
   "metadata": {
    "execution": {
     "iopub.execute_input": "2022-01-17T13:30:14.215777Z",
     "iopub.status.busy": "2022-01-17T13:30:14.215368Z",
     "iopub.status.idle": "2022-01-17T13:30:14.871658Z",
     "shell.execute_reply": "2022-01-17T13:30:14.870447Z"
    },
    "papermill": {
     "duration": 0.681108,
     "end_time": "2022-01-17T13:30:14.871978",
     "exception": false,
     "start_time": "2022-01-17T13:30:14.190870",
     "status": "completed"
    },
    "tags": []
   },
   "outputs": [],
   "source": [
    "import pickle\n",
    "import pandas as pd"
   ]
  },
  {
   "cell_type": "code",
   "execution_count": 4,
   "id": "354ff0cf",
   "metadata": {
    "execution": {
     "iopub.execute_input": "2022-01-17T13:30:14.919711Z",
     "iopub.status.busy": "2022-01-17T13:30:14.919303Z",
     "iopub.status.idle": "2022-01-17T13:30:14.921312Z",
     "shell.execute_reply": "2022-01-17T13:30:14.920914Z"
    },
    "papermill": {
     "duration": 0.028043,
     "end_time": "2022-01-17T13:30:14.921415",
     "exception": false,
     "start_time": "2022-01-17T13:30:14.893372",
     "status": "completed"
    },
    "tags": []
   },
   "outputs": [],
   "source": [
    "import copy"
   ]
  },
  {
   "cell_type": "code",
   "execution_count": 5,
   "id": "6991ef1c",
   "metadata": {
    "execution": {
     "iopub.execute_input": "2022-01-17T13:30:14.967669Z",
     "iopub.status.busy": "2022-01-17T13:30:14.967275Z",
     "iopub.status.idle": "2022-01-17T13:30:14.970021Z",
     "shell.execute_reply": "2022-01-17T13:30:14.969689Z"
    },
    "papermill": {
     "duration": 0.029134,
     "end_time": "2022-01-17T13:30:14.970122",
     "exception": false,
     "start_time": "2022-01-17T13:30:14.940988",
     "status": "completed"
    },
    "tags": []
   },
   "outputs": [],
   "source": [
    "import os\n",
    "wdir = '/lustre1/project/stg_00002/lcb/fderop/data/20211215_hca_benchmark_github/4_downsampled_data_individual_samples/'\n",
    "os.chdir( wdir )"
   ]
  },
  {
   "cell_type": "code",
   "execution_count": 6,
   "id": "2fa27513",
   "metadata": {
    "execution": {
     "iopub.execute_input": "2022-01-17T13:30:15.016526Z",
     "iopub.status.busy": "2022-01-17T13:30:15.016127Z",
     "iopub.status.idle": "2022-01-17T13:30:15.018345Z",
     "shell.execute_reply": "2022-01-17T13:30:15.018645Z"
    },
    "papermill": {
     "duration": 0.028946,
     "end_time": "2022-01-17T13:30:15.018779",
     "exception": false,
     "start_time": "2022-01-17T13:30:14.989833",
     "status": "completed"
    },
    "tags": []
   },
   "outputs": [],
   "source": [
    "# create output directory:\n",
    "f_final_dir = os.path.join(wdir, 'downstream_analysis')\n",
    "if not os.path.exists(f_final_dir):\n",
    "    os.makedirs(f_final_dir)"
   ]
  },
  {
   "cell_type": "code",
   "execution_count": 7,
   "id": "bbb622f1",
   "metadata": {
    "execution": {
     "iopub.execute_input": "2022-01-17T13:30:15.071000Z",
     "iopub.status.busy": "2022-01-17T13:30:15.070546Z",
     "iopub.status.idle": "2022-01-17T13:30:15.072887Z",
     "shell.execute_reply": "2022-01-17T13:30:15.072482Z"
    },
    "papermill": {
     "duration": 0.034229,
     "end_time": "2022-01-17T13:30:15.072992",
     "exception": false,
     "start_time": "2022-01-17T13:30:15.038763",
     "status": "completed"
    },
    "tags": []
   },
   "outputs": [],
   "source": [
    "# display names of each sample. NOTE: the samples will be dislpayed in the order of this dict!\n",
    "from collections import OrderedDict\n",
    "alias_dict = OrderedDict({\n",
    "    \"Broad_1\": \"BioRad ATAC 1\",\n",
    "    \"Broad_2\": \"BioRad ATAC 2\",\n",
    "    \"Stanford_1\": \"10x ATAC A1\",\n",
    "    \"Stanford_2\": \"10x ATAC A2\",\n",
    "    \"VIB_1\": \"10x ATAC B1\",\n",
    "    \"VIB_2\": \"10x ATAC B2\",\n",
    "    \"CNAG_1\": \"10x ATAC C1\",\n",
    "    \"CNAG_2\": \"10x ATAC C2\",\n",
    "    \"Broad_mito_1\": \"10x mtATAC 1\",\n",
    "    \"Broad_mito_2\": \"10x mtATAC 2\",\n",
    "    \"Sanger_1\": \"10x Multiome 1\",\n",
    "    \"Sanger_2\": \"10x Multiome 2\",\n",
    "    \"VIB_Hydrop_1\": \"Hydrop ATAC 1\",\n",
    "    \"VIB_Hydrop_2\": \"Hydrop ATAC 2\",\n",
    "    \"s3atac\": \"s3 ATAC\",\n",
    "})\n",
    "\n",
    "color_dict = OrderedDict({\n",
    "    \"Broad_mito_1\": \"#9467bd\",\n",
    "    \"Broad_mito_2\": \"#c5b0d5\",\n",
    "    \"CNAG_1\": \"#d62728\",\n",
    "    \"CNAG_2\": \"#ff9896\",\n",
    "    \"Broad_1\": \"#1f77b4\",\n",
    "    \"Broad_2\": \"#aec7e8\",\n",
    "    \"Sanger_1\": \"#8c564b\",\n",
    "    \"Sanger_2\": \"#c49c94\",\n",
    "    \"Stanford_1\": \"#ff7f0e\",\n",
    "    \"Stanford_2\": \"#ffbb78\",\n",
    "    \"VIB_1\": \"#2ca02c\",\n",
    "    \"VIB_2\": \"#98df8a\",\n",
    "    \"VIB_Hydrop_1\": \"#e377c2\",\n",
    "    \"VIB_Hydrop_2\": \"#f7b6d2\",\n",
    "    \"s3atac\": \"#7f7f7f\",\n",
    "})\n",
    "\n",
    "tech_dict = OrderedDict({\n",
    "    \"Broad_1\": \"BioRad ATAC\",\n",
    "    \"Broad_2\": \"BioRad ATAC\",\n",
    "    \"Stanford_1\": \"10x ATAC A\",\n",
    "    \"Stanford_2\": \"10x ATAC A\",\n",
    "    \"VIB_1\": \"10x ATAC B\",\n",
    "    \"VIB_2\": \"10x ATAC B\",\n",
    "    \"CNAG_1\": \"10x ATAC C\",\n",
    "    \"CNAG_2\": \"10x ATAC C\",\n",
    "    \"Broad_mito_1\": \"10x mtATAC\",\n",
    "    \"Broad_mito_2\": \"10x mtATAC\",\n",
    "    \"Sanger_1\": \"10x Multiome\",\n",
    "    \"Sanger_2\": \"10x Multiome\",\n",
    "    \"VIB_Hydrop_1\": \"Hydrop ATAC\",\n",
    "    \"VIB_Hydrop_2\": \"Hydrop ATAC\",\n",
    "    \"s3atac\": \"s3 ATAC\",\n",
    "})"
   ]
  },
  {
   "cell_type": "markdown",
   "id": "1f5b81d1",
   "metadata": {
    "papermill": {
     "duration": 0.020391,
     "end_time": "2022-01-17T13:30:15.113977",
     "exception": false,
     "start_time": "2022-01-17T13:30:15.093586",
     "status": "completed"
    },
    "tags": []
   },
   "source": [
    "## Load the cisTopic objects"
   ]
  },
  {
   "cell_type": "code",
   "execution_count": 8,
   "id": "d8620b74",
   "metadata": {
    "execution": {
     "iopub.execute_input": "2022-01-17T13:30:15.162155Z",
     "iopub.status.busy": "2022-01-17T13:30:15.161123Z",
     "iopub.status.idle": "2022-01-17T13:30:15.165160Z",
     "shell.execute_reply": "2022-01-17T13:30:15.164788Z"
    },
    "papermill": {
     "duration": 0.031467,
     "end_time": "2022-01-17T13:30:15.165261",
     "exception": false,
     "start_time": "2022-01-17T13:30:15.133794",
     "status": "completed"
    },
    "tags": []
   },
   "outputs": [
    {
     "data": {
      "text/plain": [
       "['pycistopic_consensus_peaks/cistopic_objs__consensus/s3atac__cistopic_obj_metadata_annotated_dimreduc_df.pkl',\n",
       " 'pycistopic_consensus_peaks/cistopic_objs__consensus/CNAG_2__cistopic_obj_metadata_annotated_dimreduc_df.pkl',\n",
       " 'pycistopic_consensus_peaks/cistopic_objs__consensus/VIB_2__cistopic_obj_metadata_annotated_dimreduc_df.pkl',\n",
       " 'pycistopic_consensus_peaks/cistopic_objs__consensus/VIB_1__cistopic_obj_metadata_annotated_dimreduc_df.pkl',\n",
       " 'pycistopic_consensus_peaks/cistopic_objs__consensus/Sanger_2__cistopic_obj_metadata_annotated_dimreduc_df.pkl',\n",
       " 'pycistopic_consensus_peaks/cistopic_objs__consensus/Broad_2__cistopic_obj_metadata_annotated_dimreduc_df.pkl',\n",
       " 'pycistopic_consensus_peaks/cistopic_objs__consensus/VIB_Hydrop_1__cistopic_obj_metadata_annotated_dimreduc_df.pkl',\n",
       " 'pycistopic_consensus_peaks/cistopic_objs__consensus/Broad_mito_2__cistopic_obj_metadata_annotated_dimreduc_df.pkl',\n",
       " 'pycistopic_consensus_peaks/cistopic_objs__consensus/Broad_mito_1__cistopic_obj_metadata_annotated_dimreduc_df.pkl',\n",
       " 'pycistopic_consensus_peaks/cistopic_objs__consensus/Sanger_1__cistopic_obj_metadata_annotated_dimreduc_df.pkl',\n",
       " 'pycistopic_consensus_peaks/cistopic_objs__consensus/CNAG_1__cistopic_obj_metadata_annotated_dimreduc_df.pkl',\n",
       " 'pycistopic_consensus_peaks/cistopic_objs__consensus/Stanford_2__cistopic_obj_metadata_annotated_dimreduc_df.pkl',\n",
       " 'pycistopic_consensus_peaks/cistopic_objs__consensus/Broad_1__cistopic_obj_metadata_annotated_dimreduc_df.pkl',\n",
       " 'pycistopic_consensus_peaks/cistopic_objs__consensus/VIB_Hydrop_2__cistopic_obj_metadata_annotated_dimreduc_df.pkl',\n",
       " 'pycistopic_consensus_peaks/cistopic_objs__consensus/Stanford_1__cistopic_obj_metadata_annotated_dimreduc_df.pkl']"
      ]
     },
     "execution_count": 8,
     "metadata": {},
     "output_type": "execute_result"
    }
   ],
   "source": [
    "import glob\n",
    "f_cto_dir = 'pycistopic_consensus_peaks/cistopic_objs__consensus'\n",
    "\n",
    "glob.glob(f_cto_dir + '/*__cistopic_obj_metadata_annotated_dimreduc_df.pkl')"
   ]
  },
  {
   "cell_type": "code",
   "execution_count": 9,
   "id": "b6ef0873",
   "metadata": {
    "execution": {
     "iopub.execute_input": "2022-01-17T13:30:15.211774Z",
     "iopub.status.busy": "2022-01-17T13:30:15.211339Z",
     "iopub.status.idle": "2022-01-17T13:30:20.997972Z",
     "shell.execute_reply": "2022-01-17T13:30:20.997616Z"
    },
    "papermill": {
     "duration": 5.81257,
     "end_time": "2022-01-17T13:30:20.998094",
     "exception": false,
     "start_time": "2022-01-17T13:30:15.185524",
     "status": "completed"
    },
    "tags": []
   },
   "outputs": [
    {
     "name": "stdout",
     "output_type": "stream",
     "text": [
      "Loaded filtered cistopic object Broad_1\n"
     ]
    },
    {
     "name": "stdout",
     "output_type": "stream",
     "text": [
      "Loaded filtered cistopic object Broad_2\n",
      "Loaded filtered cistopic object Stanford_1\n"
     ]
    },
    {
     "name": "stdout",
     "output_type": "stream",
     "text": [
      "Loaded filtered cistopic object Stanford_2\n"
     ]
    },
    {
     "name": "stdout",
     "output_type": "stream",
     "text": [
      "Loaded filtered cistopic object VIB_1\n"
     ]
    },
    {
     "name": "stdout",
     "output_type": "stream",
     "text": [
      "Loaded filtered cistopic object VIB_2\n"
     ]
    },
    {
     "name": "stdout",
     "output_type": "stream",
     "text": [
      "Loaded filtered cistopic object CNAG_1\n"
     ]
    },
    {
     "name": "stdout",
     "output_type": "stream",
     "text": [
      "Loaded filtered cistopic object CNAG_2\n"
     ]
    },
    {
     "name": "stdout",
     "output_type": "stream",
     "text": [
      "Loaded filtered cistopic object Broad_mito_1\n"
     ]
    },
    {
     "name": "stdout",
     "output_type": "stream",
     "text": [
      "Loaded filtered cistopic object Broad_mito_2\n"
     ]
    },
    {
     "name": "stdout",
     "output_type": "stream",
     "text": [
      "Loaded filtered cistopic object Sanger_1\n"
     ]
    },
    {
     "name": "stdout",
     "output_type": "stream",
     "text": [
      "Loaded filtered cistopic object Sanger_2\n",
      "Loaded filtered cistopic object VIB_Hydrop_1\n"
     ]
    },
    {
     "name": "stdout",
     "output_type": "stream",
     "text": [
      "Loaded filtered cistopic object VIB_Hydrop_2\n"
     ]
    },
    {
     "name": "stdout",
     "output_type": "stream",
     "text": [
      "Loaded filtered cistopic object s3atac\n"
     ]
    }
   ],
   "source": [
    "cistopic_obj_dict = {}\n",
    "for key in alias_dict.keys():\n",
    "    f_cto = os.path.join(wdir, f_cto_dir, key + '__cistopic_obj_metadata_annotated_dimreduc_df.pkl')\n",
    "    if(os.path.isfile(f_cto)):\n",
    "        with open(f_cto, 'rb') as f:\n",
    "            cistopic_obj_dict[key] = pickle.load(f)\n",
    "        print(f\"Loaded filtered cistopic object {key}\")\n",
    "    else:\n",
    "        print(f\"file {f_cto} doesn't exist\")"
   ]
  },
  {
   "cell_type": "markdown",
   "id": "cc64fe02",
   "metadata": {
    "papermill": {
     "duration": 0.022728,
     "end_time": "2022-01-17T13:30:21.043343",
     "exception": false,
     "start_time": "2022-01-17T13:30:21.020615",
     "status": "completed"
    },
    "tags": []
   },
   "source": [
    "#### Save/load\n",
    "Only necessary if you have not calculated accessibility yet."
   ]
  },
  {
   "cell_type": "code",
   "execution_count": 10,
   "id": "6d2012a7",
   "metadata": {
    "execution": {
     "iopub.execute_input": "2022-01-17T13:30:21.097999Z",
     "iopub.status.busy": "2022-01-17T13:30:21.097587Z",
     "iopub.status.idle": "2022-01-17T13:30:22.036080Z",
     "shell.execute_reply": "2022-01-17T13:30:22.035425Z"
    },
    "papermill": {
     "duration": 0.970307,
     "end_time": "2022-01-17T13:30:22.036269",
     "exception": false,
     "start_time": "2022-01-17T13:30:21.065962",
     "status": "completed"
    },
    "tags": []
   },
   "outputs": [
    {
     "name": "stdout",
     "output_type": "stream",
     "text": [
      "Loaded /lustre1/project/stg_00002/lcb/fderop/data/20211215_hca_benchmark_github/4_downsampled_data_individual_samples/downstream_analysis/region_bin_topics.pkl\n"
     ]
    }
   ],
   "source": [
    "f_out = os.path.join(f_final_dir, 'region_bin_topics.pkl')\n",
    "if os.path.isfile(f_out):\n",
    "    with open(f_out, 'rb') as f:\n",
    "        region_bin_topics_dict = pickle.load(f)\n",
    "    print(f\"Loaded {f_out}\")"
   ]
  },
  {
   "cell_type": "code",
   "execution_count": 11,
   "id": "14f424f7",
   "metadata": {
    "execution": {
     "iopub.execute_input": "2022-01-17T13:30:22.087954Z",
     "iopub.status.busy": "2022-01-17T13:30:22.087555Z",
     "iopub.status.idle": "2022-01-17T13:30:22.090268Z",
     "shell.execute_reply": "2022-01-17T13:30:22.089871Z"
    },
    "papermill": {
     "duration": 0.030806,
     "end_time": "2022-01-17T13:30:22.090357",
     "exception": false,
     "start_time": "2022-01-17T13:30:22.059551",
     "status": "completed"
    },
    "tags": []
   },
   "outputs": [
    {
     "data": {
      "text/plain": [
       "dict_keys(['VIB_Hydrop_1', 'VIB_Hydrop_2', 'Broad_1', 'Broad_2', 'Broad_mito_1', 'Broad_mito_2', 'CNAG_1', 'CNAG_2', 's3atac', 'Sanger_1', 'Sanger_2', 'Stanford_1', 'Stanford_2', 'VIB_1', 'VIB_2'])"
      ]
     },
     "execution_count": 11,
     "metadata": {},
     "output_type": "execute_result"
    }
   ],
   "source": [
    "region_bin_topics_dict.keys()"
   ]
  },
  {
   "cell_type": "code",
   "execution_count": 12,
   "id": "cc431973",
   "metadata": {
    "execution": {
     "iopub.execute_input": "2022-01-17T13:30:22.146243Z",
     "iopub.status.busy": "2022-01-17T13:30:22.145855Z",
     "iopub.status.idle": "2022-01-17T13:30:22.236378Z",
     "shell.execute_reply": "2022-01-17T13:30:22.235826Z"
    },
    "papermill": {
     "duration": 0.122224,
     "end_time": "2022-01-17T13:30:22.236516",
     "exception": false,
     "start_time": "2022-01-17T13:30:22.114292",
     "status": "completed"
    },
    "tags": []
   },
   "outputs": [
    {
     "name": "stdout",
     "output_type": "stream",
     "text": [
      "Loaded /lustre1/project/stg_00002/lcb/fderop/data/20211215_hca_benchmark_github/4_downsampled_data_individual_samples/downstream_analysis/binarized_cell_topic.pkl\n"
     ]
    }
   ],
   "source": [
    "f_out = os.path.join(f_final_dir, 'binarized_cell_topic.pkl')\n",
    "if os.path.isfile(f_out):\n",
    "    with open(f_out, 'rb') as f:\n",
    "        binarized_cell_topic_dict = pickle.load(f)\n",
    "    print(f\"Loaded {f_out}\")"
   ]
  },
  {
   "cell_type": "code",
   "execution_count": 13,
   "id": "8c13af01",
   "metadata": {
    "execution": {
     "iopub.execute_input": "2022-01-17T13:30:22.290815Z",
     "iopub.status.busy": "2022-01-17T13:30:22.290418Z",
     "iopub.status.idle": "2022-01-17T13:30:22.293533Z",
     "shell.execute_reply": "2022-01-17T13:30:22.293132Z"
    },
    "papermill": {
     "duration": 0.03256,
     "end_time": "2022-01-17T13:30:22.293628",
     "exception": false,
     "start_time": "2022-01-17T13:30:22.261068",
     "status": "completed"
    },
    "tags": []
   },
   "outputs": [
    {
     "data": {
      "text/plain": [
       "dict_keys(['VIB_Hydrop_1', 'VIB_Hydrop_2', 'Broad_1', 'Broad_2', 'Broad_mito_1', 'Broad_mito_2', 'CNAG_1', 'CNAG_2', 's3atac', 'Sanger_1', 'Sanger_2', 'Stanford_1', 'Stanford_2', 'VIB_1', 'VIB_2'])"
      ]
     },
     "execution_count": 13,
     "metadata": {},
     "output_type": "execute_result"
    }
   ],
   "source": [
    "binarized_cell_topic_dict.keys()"
   ]
  },
  {
   "cell_type": "code",
   "execution_count": 14,
   "id": "de2d9f8f",
   "metadata": {
    "execution": {
     "iopub.execute_input": "2022-01-17T13:30:22.346421Z",
     "iopub.status.busy": "2022-01-17T13:30:22.346046Z",
     "iopub.status.idle": "2022-01-17T13:30:36.305367Z",
     "shell.execute_reply": "2022-01-17T13:30:36.306425Z"
    },
    "papermill": {
     "duration": 13.98976,
     "end_time": "2022-01-17T13:30:36.306809",
     "exception": false,
     "start_time": "2022-01-17T13:30:22.317049",
     "status": "completed"
    },
    "tags": []
   },
   "outputs": [
    {
     "name": "stdout",
     "output_type": "stream",
     "text": [
      "Loaded /lustre1/project/stg_00002/lcb/fderop/data/20211215_hca_benchmark_github/4_downsampled_data_individual_samples/downstream_analysis/imputed_acc_obj.pkl\n"
     ]
    }
   ],
   "source": [
    "f_out = os.path.join(f_final_dir, 'imputed_acc_obj.pkl')\n",
    "if os.path.isfile(f_out):\n",
    "    with open(f_out, 'rb') as f:\n",
    "        imputed_acc_obj_dict = pickle.load(f)\n",
    "    print(f\"Loaded {f_out}\")"
   ]
  },
  {
   "cell_type": "code",
   "execution_count": 15,
   "id": "463c600c",
   "metadata": {
    "execution": {
     "iopub.execute_input": "2022-01-17T13:30:36.362239Z",
     "iopub.status.busy": "2022-01-17T13:30:36.361847Z",
     "iopub.status.idle": "2022-01-17T13:30:36.365238Z",
     "shell.execute_reply": "2022-01-17T13:30:36.365526Z"
    },
    "papermill": {
     "duration": 0.033896,
     "end_time": "2022-01-17T13:30:36.365634",
     "exception": false,
     "start_time": "2022-01-17T13:30:36.331738",
     "status": "completed"
    },
    "tags": []
   },
   "outputs": [
    {
     "data": {
      "text/plain": [
       "dict_keys(['VIB_Hydrop_1', 'VIB_Hydrop_2', 'Broad_1', 'Broad_2', 'Broad_mito_1', 'Broad_mito_2', 'CNAG_1', 'CNAG_2', 's3atac', 'Sanger_1', 'Sanger_2', 'Stanford_1', 'Stanford_2', 'VIB_1', 'VIB_2'])"
      ]
     },
     "execution_count": 15,
     "metadata": {},
     "output_type": "execute_result"
    }
   ],
   "source": [
    "imputed_acc_obj_dict.keys()"
   ]
  },
  {
   "cell_type": "code",
   "execution_count": 16,
   "id": "f6591079",
   "metadata": {
    "execution": {
     "iopub.execute_input": "2022-01-17T13:30:36.423401Z",
     "iopub.status.busy": "2022-01-17T13:30:36.422948Z",
     "iopub.status.idle": "2022-01-17T13:30:37.681682Z",
     "shell.execute_reply": "2022-01-17T13:30:37.682428Z"
    },
    "papermill": {
     "duration": 1.292287,
     "end_time": "2022-01-17T13:30:37.682714",
     "exception": false,
     "start_time": "2022-01-17T13:30:36.390427",
     "status": "completed"
    },
    "tags": []
   },
   "outputs": [
    {
     "name": "stdout",
     "output_type": "stream",
     "text": [
      "Loaded /lustre1/project/stg_00002/lcb/fderop/data/20211215_hca_benchmark_github/4_downsampled_data_individual_samples/downstream_analysis/markers_dict.pkl\n"
     ]
    }
   ],
   "source": [
    "f_out = os.path.join(f_final_dir, 'markers_dict.pkl')\n",
    "if os.path.isfile(f_out):\n",
    "    with open(f_out, 'rb') as f:\n",
    "        markers_dict_dict = pickle.load(f)\n",
    "    print(f\"Loaded {f_out}\")"
   ]
  },
  {
   "cell_type": "code",
   "execution_count": 17,
   "id": "52786d99",
   "metadata": {
    "execution": {
     "iopub.execute_input": "2022-01-17T13:30:37.745662Z",
     "iopub.status.busy": "2022-01-17T13:30:37.745247Z",
     "iopub.status.idle": "2022-01-17T13:30:37.748696Z",
     "shell.execute_reply": "2022-01-17T13:30:37.748354Z"
    },
    "papermill": {
     "duration": 0.036942,
     "end_time": "2022-01-17T13:30:37.748806",
     "exception": false,
     "start_time": "2022-01-17T13:30:37.711864",
     "status": "completed"
    },
    "tags": []
   },
   "outputs": [
    {
     "data": {
      "text/plain": [
       "dict_keys(['VIB_Hydrop_1', 'VIB_Hydrop_2', 'Broad_1', 'Broad_2', 'Broad_mito_1', 'Broad_mito_2', 'CNAG_1', 'CNAG_2', 's3atac', 'Sanger_1', 'Sanger_2', 'Stanford_1', 'Stanford_2', 'VIB_1', 'VIB_2'])"
      ]
     },
     "execution_count": 17,
     "metadata": {},
     "output_type": "execute_result"
    }
   ],
   "source": [
    "markers_dict_dict.keys()"
   ]
  },
  {
   "cell_type": "markdown",
   "id": "73305f08",
   "metadata": {
    "papermill": {
     "duration": 0.024671,
     "end_time": "2022-01-17T13:30:37.797958",
     "exception": false,
     "start_time": "2022-01-17T13:30:37.773287",
     "status": "completed"
    },
    "tags": []
   },
   "source": [
    "## Infer or load gene activity"
   ]
  },
  {
   "cell_type": "code",
   "execution_count": 18,
   "id": "d153d36a",
   "metadata": {
    "execution": {
     "iopub.execute_input": "2022-01-17T13:30:37.854321Z",
     "iopub.status.busy": "2022-01-17T13:30:37.853911Z",
     "iopub.status.idle": "2022-01-17T13:30:37.901471Z",
     "shell.execute_reply": "2022-01-17T13:30:37.900965Z"
    },
    "papermill": {
     "duration": 0.07904,
     "end_time": "2022-01-17T13:30:37.901613",
     "exception": false,
     "start_time": "2022-01-17T13:30:37.822573",
     "status": "completed"
    },
    "tags": []
   },
   "outputs": [],
   "source": [
    "import pyranges as pr\n",
    "import requests\n",
    "import pybiomart as pbm"
   ]
  },
  {
   "cell_type": "code",
   "execution_count": 19,
   "id": "e305a42e",
   "metadata": {
    "execution": {
     "iopub.execute_input": "2022-01-17T13:30:37.958709Z",
     "iopub.status.busy": "2022-01-17T13:30:37.958295Z",
     "iopub.status.idle": "2022-01-17T13:30:37.962249Z",
     "shell.execute_reply": "2022-01-17T13:30:37.961844Z"
    },
    "papermill": {
     "duration": 0.035664,
     "end_time": "2022-01-17T13:30:37.962351",
     "exception": false,
     "start_time": "2022-01-17T13:30:37.926687",
     "status": "completed"
    },
    "tags": []
   },
   "outputs": [],
   "source": [
    "from pycisTopic.gene_activity import get_gene_activity\n",
    "from pycisTopic.diff_features import find_diff_features"
   ]
  },
  {
   "cell_type": "code",
   "execution_count": 20,
   "id": "f6216233",
   "metadata": {
    "execution": {
     "iopub.execute_input": "2022-01-17T13:30:38.037657Z",
     "iopub.status.busy": "2022-01-17T13:30:38.034542Z",
     "iopub.status.idle": "2022-01-17T13:30:38.056897Z",
     "shell.execute_reply": "2022-01-17T13:30:38.057305Z"
    },
    "papermill": {
     "duration": 0.070218,
     "end_time": "2022-01-17T13:30:38.057483",
     "exception": false,
     "start_time": "2022-01-17T13:30:37.987265",
     "status": "completed"
    },
    "tags": []
   },
   "outputs": [
    {
     "data": {
      "text/html": [
       "<div>\n",
       "<style scoped>\n",
       "    .dataframe tbody tr th:only-of-type {\n",
       "        vertical-align: middle;\n",
       "    }\n",
       "\n",
       "    .dataframe tbody tr th {\n",
       "        vertical-align: top;\n",
       "    }\n",
       "\n",
       "    .dataframe thead th {\n",
       "        text-align: right;\n",
       "    }\n",
       "</style>\n",
       "<table border=\"1\" class=\"dataframe\">\n",
       "  <thead>\n",
       "    <tr style=\"text-align: right;\">\n",
       "      <th></th>\n",
       "      <th>sample_id</th>\n",
       "      <th>SCREEN_fmx_sample</th>\n",
       "      <th>SCREEN_Dupl_rate</th>\n",
       "      <th>cisTopic_nr_frag</th>\n",
       "      <th>Unique_nr_frag_in_regions</th>\n",
       "      <th>cisTopic_log_nr_frag</th>\n",
       "      <th>Total_nr_frag</th>\n",
       "      <th>pycisTopic_leiden_10_0.6</th>\n",
       "      <th>Log_total_nr_frag</th>\n",
       "      <th>Dupl_nr_frag</th>\n",
       "      <th>...</th>\n",
       "      <th>SCREEN_Log_unique_nr_frag</th>\n",
       "      <th>barcode</th>\n",
       "      <th>Total_nr_frag_in_regions</th>\n",
       "      <th>Unique_nr_frag</th>\n",
       "      <th>pycisTopic_leiden_10_0.8</th>\n",
       "      <th>pycisTopic_leiden_10_1.0</th>\n",
       "      <th>UMAP_1</th>\n",
       "      <th>UMAP_2</th>\n",
       "      <th>tSNE_1</th>\n",
       "      <th>tSNE_2</th>\n",
       "    </tr>\n",
       "  </thead>\n",
       "  <tbody>\n",
       "    <tr>\n",
       "      <th>CTCCTCACTACTTGGAATTC-12-VIB_Hydrop_1</th>\n",
       "      <td>VIB_Hydrop_1</td>\n",
       "      <td>sampleA</td>\n",
       "      <td>0.882217</td>\n",
       "      <td>8980</td>\n",
       "      <td>8828</td>\n",
       "      <td>3.953276</td>\n",
       "      <td>183600</td>\n",
       "      <td>7</td>\n",
       "      <td>5.263873</td>\n",
       "      <td>161975</td>\n",
       "      <td>...</td>\n",
       "      <td>4.334956</td>\n",
       "      <td>CTCCTCACTACTTGGAATTC-12</td>\n",
       "      <td>73932</td>\n",
       "      <td>21625</td>\n",
       "      <td>8</td>\n",
       "      <td>9</td>\n",
       "      <td>10.265941</td>\n",
       "      <td>9.402528</td>\n",
       "      <td>0.366964</td>\n",
       "      <td>-1.424251</td>\n",
       "    </tr>\n",
       "    <tr>\n",
       "      <th>AAGTCAAGCCCCACGTTGTG-12-VIB_Hydrop_1</th>\n",
       "      <td>VIB_Hydrop_1</td>\n",
       "      <td>sampleA</td>\n",
       "      <td>0.848606</td>\n",
       "      <td>754</td>\n",
       "      <td>751</td>\n",
       "      <td>2.877371</td>\n",
       "      <td>8250</td>\n",
       "      <td>5</td>\n",
       "      <td>3.916454</td>\n",
       "      <td>7001</td>\n",
       "      <td>...</td>\n",
       "      <td>3.096562</td>\n",
       "      <td>AAGTCAAGCCCCACGTTGTG-12</td>\n",
       "      <td>4906</td>\n",
       "      <td>1249</td>\n",
       "      <td>4</td>\n",
       "      <td>4</td>\n",
       "      <td>-3.301128</td>\n",
       "      <td>10.819255</td>\n",
       "      <td>-14.013913</td>\n",
       "      <td>-13.247282</td>\n",
       "    </tr>\n",
       "    <tr>\n",
       "      <th>TAACTCACAGGCGTGGATCA-12-VIB_Hydrop_1</th>\n",
       "      <td>VIB_Hydrop_1</td>\n",
       "      <td>sampleA</td>\n",
       "      <td>0.794502</td>\n",
       "      <td>1381</td>\n",
       "      <td>1349</td>\n",
       "      <td>3.140194</td>\n",
       "      <td>9713</td>\n",
       "      <td>2</td>\n",
       "      <td>3.987353</td>\n",
       "      <td>7717</td>\n",
       "      <td>...</td>\n",
       "      <td>3.300161</td>\n",
       "      <td>TAACTCACAGGCGTGGATCA-12</td>\n",
       "      <td>6737</td>\n",
       "      <td>1996</td>\n",
       "      <td>8</td>\n",
       "      <td>7</td>\n",
       "      <td>13.733324</td>\n",
       "      <td>5.989512</td>\n",
       "      <td>6.781381</td>\n",
       "      <td>-12.628861</td>\n",
       "    </tr>\n",
       "    <tr>\n",
       "      <th>GTAGATACGAGATTCCGGAG-12-VIB_Hydrop_1</th>\n",
       "      <td>VIB_Hydrop_1</td>\n",
       "      <td>sampleB</td>\n",
       "      <td>0.801536</td>\n",
       "      <td>5284</td>\n",
       "      <td>5161</td>\n",
       "      <td>3.722963</td>\n",
       "      <td>37901</td>\n",
       "      <td>7</td>\n",
       "      <td>4.578651</td>\n",
       "      <td>30379</td>\n",
       "      <td>...</td>\n",
       "      <td>3.876333</td>\n",
       "      <td>GTAGATACGAGATTCCGGAG-12</td>\n",
       "      <td>26642</td>\n",
       "      <td>7522</td>\n",
       "      <td>8</td>\n",
       "      <td>9</td>\n",
       "      <td>10.874220</td>\n",
       "      <td>8.800022</td>\n",
       "      <td>2.932455</td>\n",
       "      <td>-5.112085</td>\n",
       "    </tr>\n",
       "    <tr>\n",
       "      <th>GAACTCAACCTAGTGTGTTG-12-VIB_Hydrop_1</th>\n",
       "      <td>VIB_Hydrop_1</td>\n",
       "      <td>sampleA</td>\n",
       "      <td>0.683983</td>\n",
       "      <td>2797</td>\n",
       "      <td>2759</td>\n",
       "      <td>3.446692</td>\n",
       "      <td>13167</td>\n",
       "      <td>5</td>\n",
       "      <td>4.119487</td>\n",
       "      <td>9006</td>\n",
       "      <td>...</td>\n",
       "      <td>3.619198</td>\n",
       "      <td>GAACTCAACCTAGTGTGTTG-12</td>\n",
       "      <td>8731</td>\n",
       "      <td>4161</td>\n",
       "      <td>4</td>\n",
       "      <td>4</td>\n",
       "      <td>-3.414306</td>\n",
       "      <td>10.987544</td>\n",
       "      <td>-11.629621</td>\n",
       "      <td>-11.725644</td>\n",
       "    </tr>\n",
       "    <tr>\n",
       "      <th>...</th>\n",
       "      <td>...</td>\n",
       "      <td>...</td>\n",
       "      <td>...</td>\n",
       "      <td>...</td>\n",
       "      <td>...</td>\n",
       "      <td>...</td>\n",
       "      <td>...</td>\n",
       "      <td>...</td>\n",
       "      <td>...</td>\n",
       "      <td>...</td>\n",
       "      <td>...</td>\n",
       "      <td>...</td>\n",
       "      <td>...</td>\n",
       "      <td>...</td>\n",
       "      <td>...</td>\n",
       "      <td>...</td>\n",
       "      <td>...</td>\n",
       "      <td>...</td>\n",
       "      <td>...</td>\n",
       "      <td>...</td>\n",
       "      <td>...</td>\n",
       "    </tr>\n",
       "    <tr>\n",
       "      <th>ATAAGCAGTCCAGTGTGGAA-12-VIB_Hydrop_1</th>\n",
       "      <td>VIB_Hydrop_1</td>\n",
       "      <td>sampleA</td>\n",
       "      <td>0.729045</td>\n",
       "      <td>1226</td>\n",
       "      <td>1213</td>\n",
       "      <td>3.08849</td>\n",
       "      <td>6156</td>\n",
       "      <td>0</td>\n",
       "      <td>3.789299</td>\n",
       "      <td>4488</td>\n",
       "      <td>...</td>\n",
       "      <td>3.222196</td>\n",
       "      <td>ATAAGCAGTCCAGTGTGGAA-12</td>\n",
       "      <td>4638</td>\n",
       "      <td>1668</td>\n",
       "      <td>5</td>\n",
       "      <td>3</td>\n",
       "      <td>-2.417925</td>\n",
       "      <td>8.840957</td>\n",
       "      <td>-27.255746</td>\n",
       "      <td>7.378752</td>\n",
       "    </tr>\n",
       "    <tr>\n",
       "      <th>GTCAATCCACGAGTAACAGG-11-VIB_Hydrop_1</th>\n",
       "      <td>VIB_Hydrop_1</td>\n",
       "      <td>sampleB</td>\n",
       "      <td>0.807930</td>\n",
       "      <td>787</td>\n",
       "      <td>755</td>\n",
       "      <td>2.895975</td>\n",
       "      <td>5498</td>\n",
       "      <td>3</td>\n",
       "      <td>3.740205</td>\n",
       "      <td>4442</td>\n",
       "      <td>...</td>\n",
       "      <td>3.023664</td>\n",
       "      <td>GTCAATCCACGAGTAACAGG-11</td>\n",
       "      <td>4044</td>\n",
       "      <td>1056</td>\n",
       "      <td>9</td>\n",
       "      <td>8</td>\n",
       "      <td>-1.509366</td>\n",
       "      <td>13.997252</td>\n",
       "      <td>-23.925141</td>\n",
       "      <td>-27.848061</td>\n",
       "    </tr>\n",
       "    <tr>\n",
       "      <th>CAATTGGAGAGTGCGAACCT-11-VIB_Hydrop_1</th>\n",
       "      <td>VIB_Hydrop_1</td>\n",
       "      <td>sampleB</td>\n",
       "      <td>0.799292</td>\n",
       "      <td>679</td>\n",
       "      <td>670</td>\n",
       "      <td>2.83187</td>\n",
       "      <td>4519</td>\n",
       "      <td>3</td>\n",
       "      <td>3.655042</td>\n",
       "      <td>3612</td>\n",
       "      <td>...</td>\n",
       "      <td>2.957607</td>\n",
       "      <td>CAATTGGAGAGTGCGAACCT-11</td>\n",
       "      <td>3520</td>\n",
       "      <td>907</td>\n",
       "      <td>6</td>\n",
       "      <td>6</td>\n",
       "      <td>-3.349487</td>\n",
       "      <td>15.216449</td>\n",
       "      <td>-38.930815</td>\n",
       "      <td>-23.793503</td>\n",
       "    </tr>\n",
       "    <tr>\n",
       "      <th>GCACACAGTCCATAATGCCT-11-VIB_Hydrop_1</th>\n",
       "      <td>VIB_Hydrop_1</td>\n",
       "      <td>sampleA</td>\n",
       "      <td>0.675778</td>\n",
       "      <td>960</td>\n",
       "      <td>927</td>\n",
       "      <td>2.982271</td>\n",
       "      <td>3951</td>\n",
       "      <td>3</td>\n",
       "      <td>3.596707</td>\n",
       "      <td>2670</td>\n",
       "      <td>...</td>\n",
       "      <td>3.107549</td>\n",
       "      <td>GCACACAGTCCATAATGCCT-11</td>\n",
       "      <td>2950</td>\n",
       "      <td>1281</td>\n",
       "      <td>6</td>\n",
       "      <td>6</td>\n",
       "      <td>-3.365353</td>\n",
       "      <td>14.679255</td>\n",
       "      <td>-35.462180</td>\n",
       "      <td>-19.926695</td>\n",
       "    </tr>\n",
       "    <tr>\n",
       "      <th>AGTCGCTGGACCTTCGTTAA-11-VIB_Hydrop_1</th>\n",
       "      <td>VIB_Hydrop_1</td>\n",
       "      <td>sampleA</td>\n",
       "      <td>0.793732</td>\n",
       "      <td>690</td>\n",
       "      <td>675</td>\n",
       "      <td>2.838849</td>\n",
       "      <td>4499</td>\n",
       "      <td>3</td>\n",
       "      <td>3.653116</td>\n",
       "      <td>3571</td>\n",
       "      <td>...</td>\n",
       "      <td>2.967548</td>\n",
       "      <td>AGTCGCTGGACCTTCGTTAA-11</td>\n",
       "      <td>3328</td>\n",
       "      <td>928</td>\n",
       "      <td>9</td>\n",
       "      <td>8</td>\n",
       "      <td>-1.480912</td>\n",
       "      <td>13.516873</td>\n",
       "      <td>-22.015219</td>\n",
       "      <td>-25.180362</td>\n",
       "    </tr>\n",
       "  </tbody>\n",
       "</table>\n",
       "<p>2208 rows × 31 columns</p>\n",
       "</div>"
      ],
      "text/plain": [
       "                                         sample_id SCREEN_fmx_sample  \\\n",
       "CTCCTCACTACTTGGAATTC-12-VIB_Hydrop_1  VIB_Hydrop_1           sampleA   \n",
       "AAGTCAAGCCCCACGTTGTG-12-VIB_Hydrop_1  VIB_Hydrop_1           sampleA   \n",
       "TAACTCACAGGCGTGGATCA-12-VIB_Hydrop_1  VIB_Hydrop_1           sampleA   \n",
       "GTAGATACGAGATTCCGGAG-12-VIB_Hydrop_1  VIB_Hydrop_1           sampleB   \n",
       "GAACTCAACCTAGTGTGTTG-12-VIB_Hydrop_1  VIB_Hydrop_1           sampleA   \n",
       "...                                            ...               ...   \n",
       "ATAAGCAGTCCAGTGTGGAA-12-VIB_Hydrop_1  VIB_Hydrop_1           sampleA   \n",
       "GTCAATCCACGAGTAACAGG-11-VIB_Hydrop_1  VIB_Hydrop_1           sampleB   \n",
       "CAATTGGAGAGTGCGAACCT-11-VIB_Hydrop_1  VIB_Hydrop_1           sampleB   \n",
       "GCACACAGTCCATAATGCCT-11-VIB_Hydrop_1  VIB_Hydrop_1           sampleA   \n",
       "AGTCGCTGGACCTTCGTTAA-11-VIB_Hydrop_1  VIB_Hydrop_1           sampleA   \n",
       "\n",
       "                                      SCREEN_Dupl_rate cisTopic_nr_frag  \\\n",
       "CTCCTCACTACTTGGAATTC-12-VIB_Hydrop_1          0.882217             8980   \n",
       "AAGTCAAGCCCCACGTTGTG-12-VIB_Hydrop_1          0.848606              754   \n",
       "TAACTCACAGGCGTGGATCA-12-VIB_Hydrop_1          0.794502             1381   \n",
       "GTAGATACGAGATTCCGGAG-12-VIB_Hydrop_1          0.801536             5284   \n",
       "GAACTCAACCTAGTGTGTTG-12-VIB_Hydrop_1          0.683983             2797   \n",
       "...                                                ...              ...   \n",
       "ATAAGCAGTCCAGTGTGGAA-12-VIB_Hydrop_1          0.729045             1226   \n",
       "GTCAATCCACGAGTAACAGG-11-VIB_Hydrop_1          0.807930              787   \n",
       "CAATTGGAGAGTGCGAACCT-11-VIB_Hydrop_1          0.799292              679   \n",
       "GCACACAGTCCATAATGCCT-11-VIB_Hydrop_1          0.675778              960   \n",
       "AGTCGCTGGACCTTCGTTAA-11-VIB_Hydrop_1          0.793732              690   \n",
       "\n",
       "                                      Unique_nr_frag_in_regions  \\\n",
       "CTCCTCACTACTTGGAATTC-12-VIB_Hydrop_1                       8828   \n",
       "AAGTCAAGCCCCACGTTGTG-12-VIB_Hydrop_1                        751   \n",
       "TAACTCACAGGCGTGGATCA-12-VIB_Hydrop_1                       1349   \n",
       "GTAGATACGAGATTCCGGAG-12-VIB_Hydrop_1                       5161   \n",
       "GAACTCAACCTAGTGTGTTG-12-VIB_Hydrop_1                       2759   \n",
       "...                                                         ...   \n",
       "ATAAGCAGTCCAGTGTGGAA-12-VIB_Hydrop_1                       1213   \n",
       "GTCAATCCACGAGTAACAGG-11-VIB_Hydrop_1                        755   \n",
       "CAATTGGAGAGTGCGAACCT-11-VIB_Hydrop_1                        670   \n",
       "GCACACAGTCCATAATGCCT-11-VIB_Hydrop_1                        927   \n",
       "AGTCGCTGGACCTTCGTTAA-11-VIB_Hydrop_1                        675   \n",
       "\n",
       "                                     cisTopic_log_nr_frag  Total_nr_frag  \\\n",
       "CTCCTCACTACTTGGAATTC-12-VIB_Hydrop_1             3.953276         183600   \n",
       "AAGTCAAGCCCCACGTTGTG-12-VIB_Hydrop_1             2.877371           8250   \n",
       "TAACTCACAGGCGTGGATCA-12-VIB_Hydrop_1             3.140194           9713   \n",
       "GTAGATACGAGATTCCGGAG-12-VIB_Hydrop_1             3.722963          37901   \n",
       "GAACTCAACCTAGTGTGTTG-12-VIB_Hydrop_1             3.446692          13167   \n",
       "...                                                   ...            ...   \n",
       "ATAAGCAGTCCAGTGTGGAA-12-VIB_Hydrop_1              3.08849           6156   \n",
       "GTCAATCCACGAGTAACAGG-11-VIB_Hydrop_1             2.895975           5498   \n",
       "CAATTGGAGAGTGCGAACCT-11-VIB_Hydrop_1              2.83187           4519   \n",
       "GCACACAGTCCATAATGCCT-11-VIB_Hydrop_1             2.982271           3951   \n",
       "AGTCGCTGGACCTTCGTTAA-11-VIB_Hydrop_1             2.838849           4499   \n",
       "\n",
       "                                     pycisTopic_leiden_10_0.6  \\\n",
       "CTCCTCACTACTTGGAATTC-12-VIB_Hydrop_1                        7   \n",
       "AAGTCAAGCCCCACGTTGTG-12-VIB_Hydrop_1                        5   \n",
       "TAACTCACAGGCGTGGATCA-12-VIB_Hydrop_1                        2   \n",
       "GTAGATACGAGATTCCGGAG-12-VIB_Hydrop_1                        7   \n",
       "GAACTCAACCTAGTGTGTTG-12-VIB_Hydrop_1                        5   \n",
       "...                                                       ...   \n",
       "ATAAGCAGTCCAGTGTGGAA-12-VIB_Hydrop_1                        0   \n",
       "GTCAATCCACGAGTAACAGG-11-VIB_Hydrop_1                        3   \n",
       "CAATTGGAGAGTGCGAACCT-11-VIB_Hydrop_1                        3   \n",
       "GCACACAGTCCATAATGCCT-11-VIB_Hydrop_1                        3   \n",
       "AGTCGCTGGACCTTCGTTAA-11-VIB_Hydrop_1                        3   \n",
       "\n",
       "                                      Log_total_nr_frag  Dupl_nr_frag  ...  \\\n",
       "CTCCTCACTACTTGGAATTC-12-VIB_Hydrop_1           5.263873        161975  ...   \n",
       "AAGTCAAGCCCCACGTTGTG-12-VIB_Hydrop_1           3.916454          7001  ...   \n",
       "TAACTCACAGGCGTGGATCA-12-VIB_Hydrop_1           3.987353          7717  ...   \n",
       "GTAGATACGAGATTCCGGAG-12-VIB_Hydrop_1           4.578651         30379  ...   \n",
       "GAACTCAACCTAGTGTGTTG-12-VIB_Hydrop_1           4.119487          9006  ...   \n",
       "...                                                 ...           ...  ...   \n",
       "ATAAGCAGTCCAGTGTGGAA-12-VIB_Hydrop_1           3.789299          4488  ...   \n",
       "GTCAATCCACGAGTAACAGG-11-VIB_Hydrop_1           3.740205          4442  ...   \n",
       "CAATTGGAGAGTGCGAACCT-11-VIB_Hydrop_1           3.655042          3612  ...   \n",
       "GCACACAGTCCATAATGCCT-11-VIB_Hydrop_1           3.596707          2670  ...   \n",
       "AGTCGCTGGACCTTCGTTAA-11-VIB_Hydrop_1           3.653116          3571  ...   \n",
       "\n",
       "                                      SCREEN_Log_unique_nr_frag  \\\n",
       "CTCCTCACTACTTGGAATTC-12-VIB_Hydrop_1                   4.334956   \n",
       "AAGTCAAGCCCCACGTTGTG-12-VIB_Hydrop_1                   3.096562   \n",
       "TAACTCACAGGCGTGGATCA-12-VIB_Hydrop_1                   3.300161   \n",
       "GTAGATACGAGATTCCGGAG-12-VIB_Hydrop_1                   3.876333   \n",
       "GAACTCAACCTAGTGTGTTG-12-VIB_Hydrop_1                   3.619198   \n",
       "...                                                         ...   \n",
       "ATAAGCAGTCCAGTGTGGAA-12-VIB_Hydrop_1                   3.222196   \n",
       "GTCAATCCACGAGTAACAGG-11-VIB_Hydrop_1                   3.023664   \n",
       "CAATTGGAGAGTGCGAACCT-11-VIB_Hydrop_1                   2.957607   \n",
       "GCACACAGTCCATAATGCCT-11-VIB_Hydrop_1                   3.107549   \n",
       "AGTCGCTGGACCTTCGTTAA-11-VIB_Hydrop_1                   2.967548   \n",
       "\n",
       "                                                      barcode  \\\n",
       "CTCCTCACTACTTGGAATTC-12-VIB_Hydrop_1  CTCCTCACTACTTGGAATTC-12   \n",
       "AAGTCAAGCCCCACGTTGTG-12-VIB_Hydrop_1  AAGTCAAGCCCCACGTTGTG-12   \n",
       "TAACTCACAGGCGTGGATCA-12-VIB_Hydrop_1  TAACTCACAGGCGTGGATCA-12   \n",
       "GTAGATACGAGATTCCGGAG-12-VIB_Hydrop_1  GTAGATACGAGATTCCGGAG-12   \n",
       "GAACTCAACCTAGTGTGTTG-12-VIB_Hydrop_1  GAACTCAACCTAGTGTGTTG-12   \n",
       "...                                                       ...   \n",
       "ATAAGCAGTCCAGTGTGGAA-12-VIB_Hydrop_1  ATAAGCAGTCCAGTGTGGAA-12   \n",
       "GTCAATCCACGAGTAACAGG-11-VIB_Hydrop_1  GTCAATCCACGAGTAACAGG-11   \n",
       "CAATTGGAGAGTGCGAACCT-11-VIB_Hydrop_1  CAATTGGAGAGTGCGAACCT-11   \n",
       "GCACACAGTCCATAATGCCT-11-VIB_Hydrop_1  GCACACAGTCCATAATGCCT-11   \n",
       "AGTCGCTGGACCTTCGTTAA-11-VIB_Hydrop_1  AGTCGCTGGACCTTCGTTAA-11   \n",
       "\n",
       "                                      Total_nr_frag_in_regions Unique_nr_frag  \\\n",
       "CTCCTCACTACTTGGAATTC-12-VIB_Hydrop_1                     73932          21625   \n",
       "AAGTCAAGCCCCACGTTGTG-12-VIB_Hydrop_1                      4906           1249   \n",
       "TAACTCACAGGCGTGGATCA-12-VIB_Hydrop_1                      6737           1996   \n",
       "GTAGATACGAGATTCCGGAG-12-VIB_Hydrop_1                     26642           7522   \n",
       "GAACTCAACCTAGTGTGTTG-12-VIB_Hydrop_1                      8731           4161   \n",
       "...                                                        ...            ...   \n",
       "ATAAGCAGTCCAGTGTGGAA-12-VIB_Hydrop_1                      4638           1668   \n",
       "GTCAATCCACGAGTAACAGG-11-VIB_Hydrop_1                      4044           1056   \n",
       "CAATTGGAGAGTGCGAACCT-11-VIB_Hydrop_1                      3520            907   \n",
       "GCACACAGTCCATAATGCCT-11-VIB_Hydrop_1                      2950           1281   \n",
       "AGTCGCTGGACCTTCGTTAA-11-VIB_Hydrop_1                      3328            928   \n",
       "\n",
       "                                      pycisTopic_leiden_10_0.8  \\\n",
       "CTCCTCACTACTTGGAATTC-12-VIB_Hydrop_1                         8   \n",
       "AAGTCAAGCCCCACGTTGTG-12-VIB_Hydrop_1                         4   \n",
       "TAACTCACAGGCGTGGATCA-12-VIB_Hydrop_1                         8   \n",
       "GTAGATACGAGATTCCGGAG-12-VIB_Hydrop_1                         8   \n",
       "GAACTCAACCTAGTGTGTTG-12-VIB_Hydrop_1                         4   \n",
       "...                                                        ...   \n",
       "ATAAGCAGTCCAGTGTGGAA-12-VIB_Hydrop_1                         5   \n",
       "GTCAATCCACGAGTAACAGG-11-VIB_Hydrop_1                         9   \n",
       "CAATTGGAGAGTGCGAACCT-11-VIB_Hydrop_1                         6   \n",
       "GCACACAGTCCATAATGCCT-11-VIB_Hydrop_1                         6   \n",
       "AGTCGCTGGACCTTCGTTAA-11-VIB_Hydrop_1                         9   \n",
       "\n",
       "                                      pycisTopic_leiden_10_1.0     UMAP_1  \\\n",
       "CTCCTCACTACTTGGAATTC-12-VIB_Hydrop_1                         9  10.265941   \n",
       "AAGTCAAGCCCCACGTTGTG-12-VIB_Hydrop_1                         4  -3.301128   \n",
       "TAACTCACAGGCGTGGATCA-12-VIB_Hydrop_1                         7  13.733324   \n",
       "GTAGATACGAGATTCCGGAG-12-VIB_Hydrop_1                         9  10.874220   \n",
       "GAACTCAACCTAGTGTGTTG-12-VIB_Hydrop_1                         4  -3.414306   \n",
       "...                                                        ...        ...   \n",
       "ATAAGCAGTCCAGTGTGGAA-12-VIB_Hydrop_1                         3  -2.417925   \n",
       "GTCAATCCACGAGTAACAGG-11-VIB_Hydrop_1                         8  -1.509366   \n",
       "CAATTGGAGAGTGCGAACCT-11-VIB_Hydrop_1                         6  -3.349487   \n",
       "GCACACAGTCCATAATGCCT-11-VIB_Hydrop_1                         6  -3.365353   \n",
       "AGTCGCTGGACCTTCGTTAA-11-VIB_Hydrop_1                         8  -1.480912   \n",
       "\n",
       "                                         UMAP_2     tSNE_1     tSNE_2  \n",
       "CTCCTCACTACTTGGAATTC-12-VIB_Hydrop_1   9.402528   0.366964  -1.424251  \n",
       "AAGTCAAGCCCCACGTTGTG-12-VIB_Hydrop_1  10.819255 -14.013913 -13.247282  \n",
       "TAACTCACAGGCGTGGATCA-12-VIB_Hydrop_1   5.989512   6.781381 -12.628861  \n",
       "GTAGATACGAGATTCCGGAG-12-VIB_Hydrop_1   8.800022   2.932455  -5.112085  \n",
       "GAACTCAACCTAGTGTGTTG-12-VIB_Hydrop_1  10.987544 -11.629621 -11.725644  \n",
       "...                                         ...        ...        ...  \n",
       "ATAAGCAGTCCAGTGTGGAA-12-VIB_Hydrop_1   8.840957 -27.255746   7.378752  \n",
       "GTCAATCCACGAGTAACAGG-11-VIB_Hydrop_1  13.997252 -23.925141 -27.848061  \n",
       "CAATTGGAGAGTGCGAACCT-11-VIB_Hydrop_1  15.216449 -38.930815 -23.793503  \n",
       "GCACACAGTCCATAATGCCT-11-VIB_Hydrop_1  14.679255 -35.462180 -19.926695  \n",
       "AGTCGCTGGACCTTCGTTAA-11-VIB_Hydrop_1  13.516873 -22.015219 -25.180362  \n",
       "\n",
       "[2208 rows x 31 columns]"
      ]
     },
     "execution_count": 20,
     "metadata": {},
     "output_type": "execute_result"
    }
   ],
   "source": [
    "cistopic_obj_dict['VIB_Hydrop_1'].cell_data"
   ]
  },
  {
   "cell_type": "code",
   "execution_count": 21,
   "id": "ae6b17ab",
   "metadata": {
    "execution": {
     "iopub.execute_input": "2022-01-17T13:30:38.126681Z",
     "iopub.status.busy": "2022-01-17T13:30:38.117195Z",
     "iopub.status.idle": "2022-01-17T13:30:44.991400Z",
     "shell.execute_reply": "2022-01-17T13:30:44.990188Z"
    },
    "papermill": {
     "duration": 6.9057,
     "end_time": "2022-01-17T13:30:44.991695",
     "exception": false,
     "start_time": "2022-01-17T13:30:38.085995",
     "status": "completed"
    },
    "tags": []
   },
   "outputs": [
    {
     "name": "stdout",
     "output_type": "stream",
     "text": [
      "Loading /lustre1/project/stg_00002/lcb/fderop/data/20211215_hca_benchmark_github/4_downsampled_data_individual_samples/downstream_analysis/gene_act_dict.pkl\n"
     ]
    }
   ],
   "source": [
    "f_out = os.path.join(f_final_dir, 'gene_act_dict.pkl')\n",
    "if os.path.isfile(f_out):\n",
    "    print(f\"Loading {f_out}\")\n",
    "    with open(f_out, 'rb') as f:\n",
    "        gene_act_dict = pickle.load(f)\n",
    "else:\n",
    "    from pycisTopic.gene_activity import get_gene_activity\n",
    "    from pycisTopic.diff_features import find_diff_features\n",
    "    # For human\n",
    "    dataset = pbm.Dataset(name='hsapiens_gene_ensembl',  host='http://www.ensembl.org')\n",
    "    annot = dataset.query(attributes=['chromosome_name', 'start_position', 'end_position', 'strand', 'external_gene_name', 'transcription_start_site', 'transcript_biotype'])\n",
    "    annot['Chromosome/scaffold name'] = 'chr' + annot['Chromosome/scaffold name'].astype(str)\n",
    "    annot.columns=['Chromosome', 'Start', 'End', 'Strand', 'Gene','Transcription_Start_Site', 'Transcript_type']\n",
    "    annot = annot[annot.Transcript_type == 'protein_coding']\n",
    "    annot.Strand[annot.Strand == 1] = '+'\n",
    "    annot.Strand[annot.Strand == -1] = '-'\n",
    "    pr_annotation = pr.PyRanges(annot.dropna(axis = 0))\n",
    "    pr_annotation\n",
    "\n",
    "    # get chromosome sizes (hg38)\n",
    "    target_url = 'http://hgdownload.cse.ucsc.edu/goldenPath/hg38/bigZips/hg38.chrom.sizes'\n",
    "    chromsizes = pd.read_csv(target_url, sep='\\t', header=None)\n",
    "    chromsizes.columns = ['Chromosome', 'End']\n",
    "    chromsizes['Start'] = [0]*chromsizes.shape[0]\n",
    "    chromsizes = chromsizes.loc[:,['Chromosome', 'Start', 'End']]\n",
    "    chromsizes = pr.PyRanges(chromsizes)\n",
    "    chromsizes\n",
    "\n",
    "    gene_act_dict = {}\n",
    "    for key in cistopic_obj_dict.keys():\n",
    "        print(key)\n",
    "        gene_act, weights = get_gene_activity(\n",
    "            imputed_acc_obj_dict[key], # Region-cell probabilities\n",
    "            pr_annotation, # Gene annotation\n",
    "            chromsizes, # Chromosome size\n",
    "            use_gene_boundaries=True, # Whether to use the whole search space or stop when encountering another gene\n",
    "            upstream=[1000, 100000], # Search space upstream. The minimum means that even if there is a gene right next to it \n",
    "                                     #these bp will be taken (1kbp here)\n",
    "            downstream=[1000,100000], # Search space downstream\n",
    "            distance_weight=True, # Whether to add a distance weight (an exponential function, the weight will decrease with distance)\n",
    "            decay_rate=1, # Exponent for the distance exponential funciton (the higher the faster will be the decrease)\n",
    "            extend_gene_body_upstream=10000, # Number of bp upstream immune to the distance weight (their value will be maximum for \n",
    "                                             #this weight)\n",
    "            extend_gene_body_downstream=500, # Number of bp downstream immune to the distance weight\n",
    "            gene_size_weight=False, # Whether to add a weights based on the length of the gene\n",
    "            gene_size_scale_factor='median', # Dividend to calculate the gene size weigth. Default is the median value of all genes\n",
    "                                             #in the genome\n",
    "            remove_promoters=False, # Whether to remove promoters when computing gene activity scores\n",
    "            average_scores=True, # Whether to divide by the total number of region assigned to a gene when calculating the gene \n",
    "                                 # activity score\n",
    "            scale_factor=1, # Value to multiply for the final gene activity matrix\n",
    "            extend_tss=[10,10], # Space to consider a promoter\n",
    "            gini_weight = True, # Whether to add a gini index weigth. The more unique the region is, the higher this weight will be\n",
    "            return_weights= True, # Whether to return the final weights\n",
    "            project='Gene_activity') # Project name for the gene activity object\n",
    "        gene_act_dict[key] = copy.copy(gene_act)\n",
    "\n",
    "    with open(f_out, 'wb') as f:\n",
    "        pickle.dump(gene_act_dict, f)\n",
    "    print(f'saved {f_out}')"
   ]
  },
  {
   "cell_type": "code",
   "execution_count": 22,
   "id": "bfabacb5",
   "metadata": {
    "execution": {
     "iopub.execute_input": "2022-01-17T13:30:45.053786Z",
     "iopub.status.busy": "2022-01-17T13:30:45.053395Z",
     "iopub.status.idle": "2022-01-17T13:30:45.057648Z",
     "shell.execute_reply": "2022-01-17T13:30:45.057261Z"
    },
    "papermill": {
     "duration": 0.038337,
     "end_time": "2022-01-17T13:30:45.057746",
     "exception": false,
     "start_time": "2022-01-17T13:30:45.019409",
     "status": "completed"
    },
    "tags": []
   },
   "outputs": [
    {
     "data": {
      "text/plain": [
       "{'Broad_1': <pycisTopic.diff_features.CistopicImputedFeatures at 0x2aec87c57e80>,\n",
       " 'Broad_2': <pycisTopic.diff_features.CistopicImputedFeatures at 0x2aec83449970>,\n",
       " 'Stanford_1': <pycisTopic.diff_features.CistopicImputedFeatures at 0x2aec82441d00>,\n",
       " 'Stanford_2': <pycisTopic.diff_features.CistopicImputedFeatures at 0x2aec834efb20>,\n",
       " 'VIB_1': <pycisTopic.diff_features.CistopicImputedFeatures at 0x2aec834ef580>,\n",
       " 'VIB_2': <pycisTopic.diff_features.CistopicImputedFeatures at 0x2aec833d34f0>,\n",
       " 'CNAG_1': <pycisTopic.diff_features.CistopicImputedFeatures at 0x2aec833d3a90>,\n",
       " 'CNAG_2': <pycisTopic.diff_features.CistopicImputedFeatures at 0x2aec833d3220>,\n",
       " 'Broad_mito_1': <pycisTopic.diff_features.CistopicImputedFeatures at 0x2aeb4f7515e0>,\n",
       " 'Broad_mito_2': <pycisTopic.diff_features.CistopicImputedFeatures at 0x2aec833da340>,\n",
       " 'Sanger_1': <pycisTopic.diff_features.CistopicImputedFeatures at 0x2aec833da8e0>,\n",
       " 'Sanger_2': <pycisTopic.diff_features.CistopicImputedFeatures at 0x2aec833dabb0>,\n",
       " 'VIB_Hydrop_1': <pycisTopic.diff_features.CistopicImputedFeatures at 0x2aea8eb8de50>,\n",
       " 'VIB_Hydrop_2': <pycisTopic.diff_features.CistopicImputedFeatures at 0x2aea8eb8dbb0>,\n",
       " 's3atac': <pycisTopic.diff_features.CistopicImputedFeatures at 0x2aea8eb8dac0>}"
      ]
     },
     "execution_count": 22,
     "metadata": {},
     "output_type": "execute_result"
    }
   ],
   "source": [
    "gene_act_dict"
   ]
  },
  {
   "cell_type": "code",
   "execution_count": 23,
   "id": "9769ecc3",
   "metadata": {
    "execution": {
     "iopub.execute_input": "2022-01-17T13:30:45.115779Z",
     "iopub.status.busy": "2022-01-17T13:30:45.115380Z",
     "iopub.status.idle": "2022-01-17T13:30:45.127062Z",
     "shell.execute_reply": "2022-01-17T13:30:45.127460Z"
    },
    "papermill": {
     "duration": 0.044082,
     "end_time": "2022-01-17T13:30:45.127586",
     "exception": false,
     "start_time": "2022-01-17T13:30:45.083504",
     "status": "completed"
    },
    "tags": []
   },
   "outputs": [
    {
     "name": "stdout",
     "output_type": "stream",
     "text": [
      "printing sample Broad_1 at /lustre1/project/stg_00002/lcb/fderop/data/20211215_hca_benchmark_github/4_downsampled_data_individual_samples/downstream_analysis/Broad_1__libds__gene_act.pkl\n",
      "\talready existed!\n",
      "printing sample Broad_2 at /lustre1/project/stg_00002/lcb/fderop/data/20211215_hca_benchmark_github/4_downsampled_data_individual_samples/downstream_analysis/Broad_2__libds__gene_act.pkl\n",
      "\talready existed!\n",
      "printing sample Stanford_1 at /lustre1/project/stg_00002/lcb/fderop/data/20211215_hca_benchmark_github/4_downsampled_data_individual_samples/downstream_analysis/Stanford_1__libds__gene_act.pkl\n",
      "\talready existed!\n",
      "printing sample Stanford_2 at /lustre1/project/stg_00002/lcb/fderop/data/20211215_hca_benchmark_github/4_downsampled_data_individual_samples/downstream_analysis/Stanford_2__libds__gene_act.pkl\n",
      "\talready existed!\n",
      "printing sample VIB_1 at /lustre1/project/stg_00002/lcb/fderop/data/20211215_hca_benchmark_github/4_downsampled_data_individual_samples/downstream_analysis/VIB_1__libds__gene_act.pkl\n",
      "\talready existed!\n",
      "printing sample VIB_2 at /lustre1/project/stg_00002/lcb/fderop/data/20211215_hca_benchmark_github/4_downsampled_data_individual_samples/downstream_analysis/VIB_2__libds__gene_act.pkl\n",
      "\talready existed!\n",
      "printing sample CNAG_1 at /lustre1/project/stg_00002/lcb/fderop/data/20211215_hca_benchmark_github/4_downsampled_data_individual_samples/downstream_analysis/CNAG_1__libds__gene_act.pkl\n",
      "\talready existed!\n",
      "printing sample CNAG_2 at /lustre1/project/stg_00002/lcb/fderop/data/20211215_hca_benchmark_github/4_downsampled_data_individual_samples/downstream_analysis/CNAG_2__libds__gene_act.pkl\n",
      "\talready existed!\n",
      "printing sample Broad_mito_1 at /lustre1/project/stg_00002/lcb/fderop/data/20211215_hca_benchmark_github/4_downsampled_data_individual_samples/downstream_analysis/Broad_mito_1__libds__gene_act.pkl\n",
      "\talready existed!\n",
      "printing sample Broad_mito_2 at /lustre1/project/stg_00002/lcb/fderop/data/20211215_hca_benchmark_github/4_downsampled_data_individual_samples/downstream_analysis/Broad_mito_2__libds__gene_act.pkl\n",
      "\talready existed!\n",
      "printing sample Sanger_1 at /lustre1/project/stg_00002/lcb/fderop/data/20211215_hca_benchmark_github/4_downsampled_data_individual_samples/downstream_analysis/Sanger_1__libds__gene_act.pkl\n",
      "\talready existed!\n",
      "printing sample Sanger_2 at /lustre1/project/stg_00002/lcb/fderop/data/20211215_hca_benchmark_github/4_downsampled_data_individual_samples/downstream_analysis/Sanger_2__libds__gene_act.pkl\n",
      "\talready existed!\n",
      "printing sample VIB_Hydrop_1 at /lustre1/project/stg_00002/lcb/fderop/data/20211215_hca_benchmark_github/4_downsampled_data_individual_samples/downstream_analysis/VIB_Hydrop_1__libds__gene_act.pkl\n",
      "\talready existed!\n",
      "printing sample VIB_Hydrop_2 at /lustre1/project/stg_00002/lcb/fderop/data/20211215_hca_benchmark_github/4_downsampled_data_individual_samples/downstream_analysis/VIB_Hydrop_2__libds__gene_act.pkl\n",
      "\talready existed!\n",
      "printing sample s3atac at /lustre1/project/stg_00002/lcb/fderop/data/20211215_hca_benchmark_github/4_downsampled_data_individual_samples/downstream_analysis/s3atac__libds__gene_act.pkl\n",
      "\talready existed!\n"
     ]
    }
   ],
   "source": [
    "for key in gene_act_dict.keys():\n",
    "    f_out = os.path.join(f_final_dir, key + '__libds__gene_act.pkl')\n",
    "    print(f'printing sample {key} at {f_out}')\n",
    "    if os.path.isfile(f_out):\n",
    "        print(f\"\\talready existed!\")\n",
    "    else:\n",
    "        with open(f_out, 'wb') as f:\n",
    "            pickle.dump(gene_act_dict[key], f)\n",
    "        print(\"\\tdone\")"
   ]
  },
  {
   "cell_type": "markdown",
   "id": "4c24d70a",
   "metadata": {
    "papermill": {
     "duration": 0.025551,
     "end_time": "2022-01-17T13:30:45.181476",
     "exception": false,
     "start_time": "2022-01-17T13:30:45.155925",
     "status": "completed"
    },
    "tags": []
   },
   "source": [
    "## Export to loom"
   ]
  },
  {
   "cell_type": "code",
   "execution_count": 24,
   "id": "07d33594",
   "metadata": {
    "execution": {
     "iopub.execute_input": "2022-01-17T13:30:45.250249Z",
     "iopub.status.busy": "2022-01-17T13:30:45.249850Z",
     "iopub.status.idle": "2022-01-17T13:30:47.805807Z",
     "shell.execute_reply": "2022-01-17T13:30:47.806279Z"
    },
    "papermill": {
     "duration": 2.590366,
     "end_time": "2022-01-17T13:30:47.806482",
     "exception": false,
     "start_time": "2022-01-17T13:30:45.216116",
     "status": "completed"
    },
    "tags": []
   },
   "outputs": [
    {
     "name": "stdout",
     "output_type": "stream",
     "text": [
      "Loaded /lustre1/project/stg_00002/lcb/fderop/data/20211215_hca_benchmark_github/4_downsampled_data_individual_samples/downstream_analysis/gene_act_dict.pkl\n"
     ]
    }
   ],
   "source": [
    "f_out = os.path.join(f_final_dir, 'gene_act_dict.pkl')\n",
    "if os.path.isfile(f_out):\n",
    "    with open(f_out, 'rb') as f:\n",
    "        gene_act_dict = pickle.load(f)\n",
    "    print(f\"Loaded {f_out}\")"
   ]
  },
  {
   "cell_type": "code",
   "execution_count": 25,
   "id": "8b27c7bf",
   "metadata": {
    "execution": {
     "iopub.execute_input": "2022-01-17T13:30:47.868526Z",
     "iopub.status.busy": "2022-01-17T13:30:47.868145Z",
     "iopub.status.idle": "2022-01-17T13:30:47.872166Z",
     "shell.execute_reply": "2022-01-17T13:30:47.871793Z"
    },
    "papermill": {
     "duration": 0.036171,
     "end_time": "2022-01-17T13:30:47.872246",
     "exception": false,
     "start_time": "2022-01-17T13:30:47.836075",
     "status": "completed"
    },
    "tags": []
   },
   "outputs": [
    {
     "data": {
      "text/plain": [
       "dict_keys(['Broad_1', 'Broad_2', 'Stanford_1', 'Stanford_2', 'VIB_1', 'VIB_2', 'CNAG_1', 'CNAG_2', 'Broad_mito_1', 'Broad_mito_2', 'Sanger_1', 'Sanger_2', 'VIB_Hydrop_1', 'VIB_Hydrop_2', 's3atac'])"
      ]
     },
     "execution_count": 25,
     "metadata": {},
     "output_type": "execute_result"
    }
   ],
   "source": [
    "gene_act_dict.keys()"
   ]
  },
  {
   "cell_type": "code",
   "execution_count": 26,
   "id": "3d7f082f",
   "metadata": {
    "execution": {
     "iopub.execute_input": "2022-01-17T13:30:47.940255Z",
     "iopub.status.busy": "2022-01-17T13:30:47.939537Z",
     "iopub.status.idle": "2022-01-17T13:30:47.942203Z",
     "shell.execute_reply": "2022-01-17T13:30:47.941507Z"
    },
    "papermill": {
     "duration": 0.038631,
     "end_time": "2022-01-17T13:30:47.942403",
     "exception": false,
     "start_time": "2022-01-17T13:30:47.903772",
     "status": "completed"
    },
    "tags": []
   },
   "outputs": [],
   "source": [
    "f_gene_loom_dir = os.path.join(f_final_dir, 'gene_act_loom')\n",
    "if not os.path.exists(f_gene_loom_dir):\n",
    "    os.makedirs(f_gene_loom_dir)"
   ]
  },
  {
   "cell_type": "code",
   "execution_count": 27,
   "id": "245d738d",
   "metadata": {
    "execution": {
     "iopub.execute_input": "2022-01-17T13:30:48.010151Z",
     "iopub.status.busy": "2022-01-17T13:30:48.009725Z",
     "iopub.status.idle": "2022-01-17T13:30:51.504564Z",
     "shell.execute_reply": "2022-01-17T13:30:51.505596Z"
    },
    "papermill": {
     "duration": 3.532349,
     "end_time": "2022-01-17T13:30:51.505995",
     "exception": false,
     "start_time": "2022-01-17T13:30:47.973646",
     "status": "completed"
    },
    "tags": []
   },
   "outputs": [],
   "source": [
    "from pycisTopic.loom import (\n",
    "    export_region_accessibility_to_loom,\n",
    "    export_gene_activity_to_loom\n",
    ")"
   ]
  },
  {
   "cell_type": "markdown",
   "id": "0f73992f",
   "metadata": {
    "papermill": {
     "duration": 0.029192,
     "end_time": "2022-01-17T13:30:51.566697",
     "exception": false,
     "start_time": "2022-01-17T13:30:51.537505",
     "status": "completed"
    },
    "tags": []
   },
   "source": [
    "### Gene activity"
   ]
  },
  {
   "cell_type": "code",
   "execution_count": 28,
   "id": "d421a5e8",
   "metadata": {
    "execution": {
     "iopub.execute_input": "2022-01-17T13:30:51.632031Z",
     "iopub.status.busy": "2022-01-17T13:30:51.631579Z",
     "iopub.status.idle": "2022-01-17T13:30:51.634937Z",
     "shell.execute_reply": "2022-01-17T13:30:51.634508Z"
    },
    "papermill": {
     "duration": 0.040155,
     "end_time": "2022-01-17T13:30:51.635046",
     "exception": false,
     "start_time": "2022-01-17T13:30:51.594891",
     "status": "completed"
    },
    "tags": []
   },
   "outputs": [],
   "source": [
    "from ctxcore.genesig import Regulon\n",
    "\n",
    "# generate a dummy regulon (required for export_gene_activity_to_loom):\n",
    "phreg = Regulon(\n",
    "        name='placeholder regulon',\n",
    "        gene2weight={'phreg': 1.0},\n",
    "        transcription_factor=\"phreg\",\n",
    "        gene2occurrence={\"phreg\": 1},\n",
    "    )"
   ]
  },
  {
   "cell_type": "code",
   "execution_count": 29,
   "id": "5fd5fec4",
   "metadata": {
    "execution": {
     "iopub.execute_input": "2022-01-17T13:30:51.698548Z",
     "iopub.status.busy": "2022-01-17T13:30:51.698142Z",
     "iopub.status.idle": "2022-01-17T13:30:51.701838Z",
     "shell.execute_reply": "2022-01-17T13:30:51.702144Z"
    },
    "papermill": {
     "duration": 0.038535,
     "end_time": "2022-01-17T13:30:51.702267",
     "exception": false,
     "start_time": "2022-01-17T13:30:51.663732",
     "status": "completed"
    },
    "tags": []
   },
   "outputs": [],
   "source": [
    "alias_dict_nospace = {}\n",
    "for key in alias_dict.keys():\n",
    "    alias_dict_nospace[key] = alias_dict[key].replace(' ','_')"
   ]
  },
  {
   "cell_type": "code",
   "execution_count": 30,
   "id": "163b2961",
   "metadata": {
    "execution": {
     "iopub.execute_input": "2022-01-17T13:30:51.765097Z",
     "iopub.status.busy": "2022-01-17T13:30:51.764690Z",
     "iopub.status.idle": "2022-01-17T13:30:51.776080Z",
     "shell.execute_reply": "2022-01-17T13:30:51.775570Z"
    },
    "papermill": {
     "duration": 0.046916,
     "end_time": "2022-01-17T13:30:51.776213",
     "exception": false,
     "start_time": "2022-01-17T13:30:51.729297",
     "status": "completed"
    },
    "tags": []
   },
   "outputs": [
    {
     "name": "stdout",
     "output_type": "stream",
     "text": [
      "Broad_1\n",
      "Skipping /lustre1/project/stg_00002/lcb/fderop/data/20211215_hca_benchmark_github/4_downsampled_data_individual_samples/downstream_analysis/gene_act_loom/BioRad_ATAC_1__libds_gene_activity.loom: already exists.\n",
      "Broad_2\n",
      "Skipping /lustre1/project/stg_00002/lcb/fderop/data/20211215_hca_benchmark_github/4_downsampled_data_individual_samples/downstream_analysis/gene_act_loom/BioRad_ATAC_2__libds_gene_activity.loom: already exists.\n",
      "Stanford_1\n",
      "Skipping /lustre1/project/stg_00002/lcb/fderop/data/20211215_hca_benchmark_github/4_downsampled_data_individual_samples/downstream_analysis/gene_act_loom/10x_ATAC_A1__libds_gene_activity.loom: already exists.\n",
      "Stanford_2\n",
      "Skipping /lustre1/project/stg_00002/lcb/fderop/data/20211215_hca_benchmark_github/4_downsampled_data_individual_samples/downstream_analysis/gene_act_loom/10x_ATAC_A2__libds_gene_activity.loom: already exists.\n",
      "VIB_1\n",
      "Skipping /lustre1/project/stg_00002/lcb/fderop/data/20211215_hca_benchmark_github/4_downsampled_data_individual_samples/downstream_analysis/gene_act_loom/10x_ATAC_B1__libds_gene_activity.loom: already exists.\n",
      "VIB_2\n",
      "Skipping /lustre1/project/stg_00002/lcb/fderop/data/20211215_hca_benchmark_github/4_downsampled_data_individual_samples/downstream_analysis/gene_act_loom/10x_ATAC_B2__libds_gene_activity.loom: already exists.\n",
      "CNAG_1\n",
      "Skipping /lustre1/project/stg_00002/lcb/fderop/data/20211215_hca_benchmark_github/4_downsampled_data_individual_samples/downstream_analysis/gene_act_loom/10x_ATAC_C1__libds_gene_activity.loom: already exists.\n",
      "CNAG_2\n",
      "Skipping /lustre1/project/stg_00002/lcb/fderop/data/20211215_hca_benchmark_github/4_downsampled_data_individual_samples/downstream_analysis/gene_act_loom/10x_ATAC_C2__libds_gene_activity.loom: already exists.\n",
      "Broad_mito_1\n",
      "Skipping /lustre1/project/stg_00002/lcb/fderop/data/20211215_hca_benchmark_github/4_downsampled_data_individual_samples/downstream_analysis/gene_act_loom/10x_mtATAC_1__libds_gene_activity.loom: already exists.\n",
      "Broad_mito_2\n",
      "Skipping /lustre1/project/stg_00002/lcb/fderop/data/20211215_hca_benchmark_github/4_downsampled_data_individual_samples/downstream_analysis/gene_act_loom/10x_mtATAC_2__libds_gene_activity.loom: already exists.\n",
      "Sanger_1\n",
      "Skipping /lustre1/project/stg_00002/lcb/fderop/data/20211215_hca_benchmark_github/4_downsampled_data_individual_samples/downstream_analysis/gene_act_loom/10x_Multiome_1__libds_gene_activity.loom: already exists.\n",
      "Sanger_2\n",
      "Skipping /lustre1/project/stg_00002/lcb/fderop/data/20211215_hca_benchmark_github/4_downsampled_data_individual_samples/downstream_analysis/gene_act_loom/10x_Multiome_2__libds_gene_activity.loom: already exists.\n",
      "VIB_Hydrop_1\n",
      "Skipping /lustre1/project/stg_00002/lcb/fderop/data/20211215_hca_benchmark_github/4_downsampled_data_individual_samples/downstream_analysis/gene_act_loom/Hydrop_ATAC_1__libds_gene_activity.loom: already exists.\n",
      "VIB_Hydrop_2\n",
      "Skipping /lustre1/project/stg_00002/lcb/fderop/data/20211215_hca_benchmark_github/4_downsampled_data_individual_samples/downstream_analysis/gene_act_loom/Hydrop_ATAC_2__libds_gene_activity.loom: already exists.\n",
      "s3atac\n",
      "Skipping /lustre1/project/stg_00002/lcb/fderop/data/20211215_hca_benchmark_github/4_downsampled_data_individual_samples/downstream_analysis/gene_act_loom/s3_ATAC__libds_gene_activity.loom: already exists.\n"
     ]
    }
   ],
   "source": [
    "for key in cistopic_obj_dict.keys():\n",
    "    print(key)\n",
    "    f_out = os.path.join(f_gene_loom_dir, alias_dict_nospace[key] + '__libds_gene_activity.loom')\n",
    "    if os.path.exists(f_out):\n",
    "        print(f\"Skipping {f_out}: already exists.\")\n",
    "        continue\n",
    "        \n",
    "    export_gene_activity_to_loom(\n",
    "        gene_activity_matrix = gene_act_dict[key],\n",
    "        cistopic_obj = cistopic_obj_dict[key], \n",
    "        regulons = [phreg],\n",
    "        # selected_cells = [ x.split('-')[0] + '-' + x.split('-')[1]  for x in cistopic_obj_dict[key].cell_names ], # this leaves a cell barcode of the format type 'TGCATGTCGCCGTTCCAAGA-21'\n",
    "        # selected_cells = cistopic_obj_dict[key].projections['cell']['UMAP'].index.tolist(), # cflerin original \n",
    "        out_fname = f_out,\n",
    "        cluster_annotation = ['consensus_cell_type', 'fmx_sample'],\n",
    "        cluster_markers = {'consensus_cell_type': markers_dict_dict[key], 'fmx_sample':{}},\n",
    "        tree_structure = ('scATAC', 'Gene_activity'),\n",
    "        title = f'Gene activity from library-downsampled dataset {alias_dict[key]}',\n",
    "        nomenclature = \"hg38\"\n",
    "    )"
   ]
  },
  {
   "cell_type": "markdown",
   "id": "240f88e2",
   "metadata": {
    "papermill": {
     "duration": 0.026601,
     "end_time": "2022-01-17T13:30:51.833330",
     "exception": false,
     "start_time": "2022-01-17T13:30:51.806729",
     "status": "completed"
    },
    "tags": []
   },
   "source": [
    "### Region accessibility"
   ]
  },
  {
   "cell_type": "code",
   "execution_count": 31,
   "id": "913aa4d4",
   "metadata": {
    "execution": {
     "iopub.execute_input": "2022-01-17T13:30:51.891822Z",
     "iopub.status.busy": "2022-01-17T13:30:51.891410Z",
     "iopub.status.idle": "2022-01-17T13:30:51.894590Z",
     "shell.execute_reply": "2022-01-17T13:30:51.894959Z"
    },
    "papermill": {
     "duration": 0.034547,
     "end_time": "2022-01-17T13:30:51.895057",
     "exception": false,
     "start_time": "2022-01-17T13:30:51.860510",
     "status": "completed"
    },
    "tags": []
   },
   "outputs": [],
   "source": [
    "f_region_loom_dir = os.path.join(f_final_dir, 'region_acc_loom')\n",
    "if not os.path.exists(f_region_loom_dir):\n",
    "    os.makedirs(f_region_loom_dir)"
   ]
  },
  {
   "cell_type": "code",
   "execution_count": 32,
   "id": "c6d5c86d",
   "metadata": {
    "execution": {
     "iopub.execute_input": "2022-01-17T13:30:51.956940Z",
     "iopub.status.busy": "2022-01-17T13:30:51.952204Z",
     "iopub.status.idle": "2022-01-17T13:30:51.964777Z",
     "shell.execute_reply": "2022-01-17T13:30:51.965117Z"
    },
    "papermill": {
     "duration": 0.043175,
     "end_time": "2022-01-17T13:30:51.965217",
     "exception": false,
     "start_time": "2022-01-17T13:30:51.922042",
     "status": "completed"
    },
    "tags": []
   },
   "outputs": [
    {
     "name": "stdout",
     "output_type": "stream",
     "text": [
      "Broad_1\n",
      "Skipping /lustre1/project/stg_00002/lcb/fderop/data/20211215_hca_benchmark_github/4_downsampled_data_individual_samples/downstream_analysis/region_acc_loom/BioRad_ATAC_1__libds_region_accessibility.loom: already exists.\n",
      "Broad_2\n",
      "Skipping /lustre1/project/stg_00002/lcb/fderop/data/20211215_hca_benchmark_github/4_downsampled_data_individual_samples/downstream_analysis/region_acc_loom/BioRad_ATAC_2__libds_region_accessibility.loom: already exists.\n",
      "Stanford_1\n",
      "Skipping /lustre1/project/stg_00002/lcb/fderop/data/20211215_hca_benchmark_github/4_downsampled_data_individual_samples/downstream_analysis/region_acc_loom/10x_ATAC_A1__libds_region_accessibility.loom: already exists.\n",
      "Stanford_2\n",
      "Skipping /lustre1/project/stg_00002/lcb/fderop/data/20211215_hca_benchmark_github/4_downsampled_data_individual_samples/downstream_analysis/region_acc_loom/10x_ATAC_A2__libds_region_accessibility.loom: already exists.\n",
      "VIB_1\n",
      "Skipping /lustre1/project/stg_00002/lcb/fderop/data/20211215_hca_benchmark_github/4_downsampled_data_individual_samples/downstream_analysis/region_acc_loom/10x_ATAC_B1__libds_region_accessibility.loom: already exists.\n",
      "VIB_2\n",
      "Skipping /lustre1/project/stg_00002/lcb/fderop/data/20211215_hca_benchmark_github/4_downsampled_data_individual_samples/downstream_analysis/region_acc_loom/10x_ATAC_B2__libds_region_accessibility.loom: already exists.\n",
      "CNAG_1\n",
      "Skipping /lustre1/project/stg_00002/lcb/fderop/data/20211215_hca_benchmark_github/4_downsampled_data_individual_samples/downstream_analysis/region_acc_loom/10x_ATAC_C1__libds_region_accessibility.loom: already exists.\n",
      "CNAG_2\n",
      "Skipping /lustre1/project/stg_00002/lcb/fderop/data/20211215_hca_benchmark_github/4_downsampled_data_individual_samples/downstream_analysis/region_acc_loom/10x_ATAC_C2__libds_region_accessibility.loom: already exists.\n",
      "Broad_mito_1\n",
      "Skipping /lustre1/project/stg_00002/lcb/fderop/data/20211215_hca_benchmark_github/4_downsampled_data_individual_samples/downstream_analysis/region_acc_loom/10x_mtATAC_1__libds_region_accessibility.loom: already exists.\n",
      "Broad_mito_2\n",
      "Skipping /lustre1/project/stg_00002/lcb/fderop/data/20211215_hca_benchmark_github/4_downsampled_data_individual_samples/downstream_analysis/region_acc_loom/10x_mtATAC_2__libds_region_accessibility.loom: already exists.\n",
      "Sanger_1\n",
      "Skipping /lustre1/project/stg_00002/lcb/fderop/data/20211215_hca_benchmark_github/4_downsampled_data_individual_samples/downstream_analysis/region_acc_loom/10x_Multiome_1__libds_region_accessibility.loom: already exists.\n",
      "Sanger_2\n",
      "Skipping /lustre1/project/stg_00002/lcb/fderop/data/20211215_hca_benchmark_github/4_downsampled_data_individual_samples/downstream_analysis/region_acc_loom/10x_Multiome_2__libds_region_accessibility.loom: already exists.\n",
      "VIB_Hydrop_1\n",
      "Skipping /lustre1/project/stg_00002/lcb/fderop/data/20211215_hca_benchmark_github/4_downsampled_data_individual_samples/downstream_analysis/region_acc_loom/Hydrop_ATAC_1__libds_region_accessibility.loom: already exists.\n",
      "VIB_Hydrop_2\n",
      "Skipping /lustre1/project/stg_00002/lcb/fderop/data/20211215_hca_benchmark_github/4_downsampled_data_individual_samples/downstream_analysis/region_acc_loom/Hydrop_ATAC_2__libds_region_accessibility.loom: already exists.\n",
      "s3atac\n",
      "Skipping /lustre1/project/stg_00002/lcb/fderop/data/20211215_hca_benchmark_github/4_downsampled_data_individual_samples/downstream_analysis/region_acc_loom/s3_ATAC__libds_region_accessibility.loom: already exists.\n"
     ]
    }
   ],
   "source": [
    "for key in cistopic_obj_dict.keys():\n",
    "    print(key)\n",
    "    s = 'merged' if key=='libds_merged' else key\n",
    "    f_out = os.path.join(f_region_loom_dir, alias_dict_nospace[key] + '__libds_region_accessibility.loom')\n",
    "\n",
    "    if os.path.exists(f_out):\n",
    "        print(f\"Skipping {f_out}: already exists.\")\n",
    "        continue\n",
    "    # Subset regions, we will use only regions in topics and DARs here to make it faster\n",
    "    regions_in_topics = list(set(sum([region_bin_topics_dict[key][i].index.tolist() for i in region_bin_topics_dict[key].keys()],[])))\n",
    "    regions_in_DARs = list(set(sum([markers_dict_dict[key][i].index.tolist() for i in markers_dict_dict[key].keys()],[])))\n",
    "    # make sure we only take regions that actually exist in the accessibility matrix:\n",
    "    selected_regions = list(set(regions_in_topics + regions_in_DARs).intersection(set(imputed_acc_obj_dict[key].feature_names)))\n",
    "\n",
    "    # Export to loom\n",
    "    export_region_accessibility_to_loom(\n",
    "        accessibility_matrix = imputed_acc_obj_dict[key],\n",
    "        cistopic_obj = cistopic_obj_dict[key], \n",
    "        binarized_topic_region = region_bin_topics_dict[key],\n",
    "        binarized_cell_topic = binarized_cell_topic_dict[key],\n",
    "        out_fname = f_out,\n",
    "        selected_regions = selected_regions ,\n",
    "        # selected_cells = [ x.split('-')[0] + '-' + x.split('-')[1]  for x in cistopic_obj_dict[key].cell_names ], # this leaves a cell barcode of the format type 'TGCATGTCGCCGTTCCAAGA-21'\n",
    "        # selected_cells = cistopic_obj_dict[key].projections['cell']['UMAP'].index.tolist(), # cflerin original\n",
    "        cluster_annotation = ['consensus_cell_type', 'SCREEN_fmx_sample'],\n",
    "        cluster_markers = {'consensus_cell_type': markers_dict_dict[key], 'SCREEN_fmx_sample':{}},\n",
    "        tree_structure = ('scATAC', 'Region_accessibility'),\n",
    "        title = f'Region accessibility from library-downsampled dataset {alias_dict[key]}',\n",
    "        nomenclature = \"hg38\"\n",
    "    )"
   ]
  },
  {
   "cell_type": "markdown",
   "id": "80c0887e",
   "metadata": {
    "papermill": {
     "duration": 0.027243,
     "end_time": "2022-01-17T13:30:52.021252",
     "exception": false,
     "start_time": "2022-01-17T13:30:51.994009",
     "status": "completed"
    },
    "tags": []
   },
   "source": [
    "# open gene activity loom and fix annotations"
   ]
  },
  {
   "cell_type": "code",
   "execution_count": 33,
   "id": "0498d0f4",
   "metadata": {
    "execution": {
     "iopub.execute_input": "2022-01-17T13:30:52.083593Z",
     "iopub.status.busy": "2022-01-17T13:30:52.083201Z",
     "iopub.status.idle": "2022-01-17T13:30:52.085872Z",
     "shell.execute_reply": "2022-01-17T13:30:52.085460Z"
    },
    "papermill": {
     "duration": 0.036584,
     "end_time": "2022-01-17T13:30:52.085958",
     "exception": false,
     "start_time": "2022-01-17T13:30:52.049374",
     "status": "completed"
    },
    "tags": []
   },
   "outputs": [],
   "source": [
    "import loompy as lp\n",
    "import json\n",
    "import copy\n",
    "import glob\n",
    "from collections import OrderedDict"
   ]
  },
  {
   "cell_type": "markdown",
   "id": "02ea798c",
   "metadata": {
    "papermill": {
     "duration": 0.028387,
     "end_time": "2022-01-17T13:30:52.142556",
     "exception": false,
     "start_time": "2022-01-17T13:30:52.114169",
     "status": "completed"
    },
    "tags": []
   },
   "source": [
    "exclude 'barcode' annotation"
   ]
  },
  {
   "cell_type": "code",
   "execution_count": 34,
   "id": "a271ff08",
   "metadata": {
    "execution": {
     "iopub.execute_input": "2022-01-17T13:30:52.206439Z",
     "iopub.status.busy": "2022-01-17T13:30:52.206037Z",
     "iopub.status.idle": "2022-01-17T13:30:52.209899Z",
     "shell.execute_reply": "2022-01-17T13:30:52.209491Z"
    },
    "papermill": {
     "duration": 0.039739,
     "end_time": "2022-01-17T13:30:52.209985",
     "exception": false,
     "start_time": "2022-01-17T13:30:52.170246",
     "status": "completed"
    },
    "tags": []
   },
   "outputs": [],
   "source": [
    "filenames = sorted(glob.glob(f_gene_loom_dir+'/*loom'))\n",
    "samples = [item.replace(\"__libds_gene_activity.loom\", \"\") for item in filenames]\n",
    "samples = [item.replace(\"/lustre1/project/stg_00002/lcb/fderop/data/20211215_hca_benchmark_github/4_downsampled_data_individual_samples/downstream_analysis/gene_act_loom/\", \"\") for item in samples]\n",
    "loom_dict = {samples[i]: filenames[i] for i in range(len(samples))}\n",
    "loom_dict = OrderedDict(loom_dict)"
   ]
  },
  {
   "cell_type": "code",
   "execution_count": 35,
   "id": "17b97f1f",
   "metadata": {
    "execution": {
     "iopub.execute_input": "2022-01-17T13:30:52.269235Z",
     "iopub.status.busy": "2022-01-17T13:30:52.268725Z",
     "iopub.status.idle": "2022-01-17T13:30:52.272666Z",
     "shell.execute_reply": "2022-01-17T13:30:52.272280Z"
    },
    "papermill": {
     "duration": 0.03572,
     "end_time": "2022-01-17T13:30:52.272761",
     "exception": false,
     "start_time": "2022-01-17T13:30:52.237041",
     "status": "completed"
    },
    "tags": []
   },
   "outputs": [
    {
     "data": {
      "text/plain": [
       "OrderedDict([('10x_ATAC_A1',\n",
       "              '/lustre1/project/stg_00002/lcb/fderop/data/20211215_hca_benchmark_github/4_downsampled_data_individual_samples/downstream_analysis/gene_act_loom/10x_ATAC_A1__libds_gene_activity.loom'),\n",
       "             ('10x_ATAC_A2',\n",
       "              '/lustre1/project/stg_00002/lcb/fderop/data/20211215_hca_benchmark_github/4_downsampled_data_individual_samples/downstream_analysis/gene_act_loom/10x_ATAC_A2__libds_gene_activity.loom'),\n",
       "             ('10x_ATAC_B1',\n",
       "              '/lustre1/project/stg_00002/lcb/fderop/data/20211215_hca_benchmark_github/4_downsampled_data_individual_samples/downstream_analysis/gene_act_loom/10x_ATAC_B1__libds_gene_activity.loom'),\n",
       "             ('10x_ATAC_B2',\n",
       "              '/lustre1/project/stg_00002/lcb/fderop/data/20211215_hca_benchmark_github/4_downsampled_data_individual_samples/downstream_analysis/gene_act_loom/10x_ATAC_B2__libds_gene_activity.loom'),\n",
       "             ('10x_ATAC_C1',\n",
       "              '/lustre1/project/stg_00002/lcb/fderop/data/20211215_hca_benchmark_github/4_downsampled_data_individual_samples/downstream_analysis/gene_act_loom/10x_ATAC_C1__libds_gene_activity.loom'),\n",
       "             ('10x_ATAC_C2',\n",
       "              '/lustre1/project/stg_00002/lcb/fderop/data/20211215_hca_benchmark_github/4_downsampled_data_individual_samples/downstream_analysis/gene_act_loom/10x_ATAC_C2__libds_gene_activity.loom'),\n",
       "             ('10x_Multiome_1',\n",
       "              '/lustre1/project/stg_00002/lcb/fderop/data/20211215_hca_benchmark_github/4_downsampled_data_individual_samples/downstream_analysis/gene_act_loom/10x_Multiome_1__libds_gene_activity.loom'),\n",
       "             ('10x_Multiome_2',\n",
       "              '/lustre1/project/stg_00002/lcb/fderop/data/20211215_hca_benchmark_github/4_downsampled_data_individual_samples/downstream_analysis/gene_act_loom/10x_Multiome_2__libds_gene_activity.loom'),\n",
       "             ('10x_mtATAC_1',\n",
       "              '/lustre1/project/stg_00002/lcb/fderop/data/20211215_hca_benchmark_github/4_downsampled_data_individual_samples/downstream_analysis/gene_act_loom/10x_mtATAC_1__libds_gene_activity.loom'),\n",
       "             ('10x_mtATAC_2',\n",
       "              '/lustre1/project/stg_00002/lcb/fderop/data/20211215_hca_benchmark_github/4_downsampled_data_individual_samples/downstream_analysis/gene_act_loom/10x_mtATAC_2__libds_gene_activity.loom'),\n",
       "             ('BioRad_ATAC_1',\n",
       "              '/lustre1/project/stg_00002/lcb/fderop/data/20211215_hca_benchmark_github/4_downsampled_data_individual_samples/downstream_analysis/gene_act_loom/BioRad_ATAC_1__libds_gene_activity.loom'),\n",
       "             ('BioRad_ATAC_2',\n",
       "              '/lustre1/project/stg_00002/lcb/fderop/data/20211215_hca_benchmark_github/4_downsampled_data_individual_samples/downstream_analysis/gene_act_loom/BioRad_ATAC_2__libds_gene_activity.loom'),\n",
       "             ('Hydrop_ATAC_1',\n",
       "              '/lustre1/project/stg_00002/lcb/fderop/data/20211215_hca_benchmark_github/4_downsampled_data_individual_samples/downstream_analysis/gene_act_loom/Hydrop_ATAC_1__libds_gene_activity.loom'),\n",
       "             ('Hydrop_ATAC_2',\n",
       "              '/lustre1/project/stg_00002/lcb/fderop/data/20211215_hca_benchmark_github/4_downsampled_data_individual_samples/downstream_analysis/gene_act_loom/Hydrop_ATAC_2__libds_gene_activity.loom'),\n",
       "             ('s3_ATAC',\n",
       "              '/lustre1/project/stg_00002/lcb/fderop/data/20211215_hca_benchmark_github/4_downsampled_data_individual_samples/downstream_analysis/gene_act_loom/s3_ATAC__libds_gene_activity.loom')])"
      ]
     },
     "execution_count": 35,
     "metadata": {},
     "output_type": "execute_result"
    }
   ],
   "source": [
    "loom_dict"
   ]
  },
  {
   "cell_type": "code",
   "execution_count": 36,
   "id": "024f1475",
   "metadata": {
    "execution": {
     "iopub.execute_input": "2022-01-17T13:30:52.465368Z",
     "iopub.status.busy": "2022-01-17T13:30:52.396243Z",
     "iopub.status.idle": "2022-01-17T13:30:54.015464Z",
     "shell.execute_reply": "2022-01-17T13:30:54.016514Z"
    },
    "papermill": {
     "duration": 1.715216,
     "end_time": "2022-01-17T13:30:54.016879",
     "exception": false,
     "start_time": "2022-01-17T13:30:52.301663",
     "status": "completed"
    },
    "tags": []
   },
   "outputs": [
    {
     "name": "stdout",
     "output_type": "stream",
     "text": [
      "opening /lustre1/project/stg_00002/lcb/fderop/data/20211215_hca_benchmark_github/4_downsampled_data_individual_samples/downstream_analysis/gene_act_loom/10x_ATAC_A1__libds_gene_activity.loom\n",
      "\tno barcode annotation detected\n",
      "opening /lustre1/project/stg_00002/lcb/fderop/data/20211215_hca_benchmark_github/4_downsampled_data_individual_samples/downstream_analysis/gene_act_loom/10x_ATAC_A2__libds_gene_activity.loom\n",
      "\tno barcode annotation detected\n",
      "opening /lustre1/project/stg_00002/lcb/fderop/data/20211215_hca_benchmark_github/4_downsampled_data_individual_samples/downstream_analysis/gene_act_loom/10x_ATAC_B1__libds_gene_activity.loom\n"
     ]
    },
    {
     "name": "stdout",
     "output_type": "stream",
     "text": [
      "\tno barcode annotation detected\n",
      "opening /lustre1/project/stg_00002/lcb/fderop/data/20211215_hca_benchmark_github/4_downsampled_data_individual_samples/downstream_analysis/gene_act_loom/10x_ATAC_B2__libds_gene_activity.loom\n",
      "\tno barcode annotation detected\n",
      "opening /lustre1/project/stg_00002/lcb/fderop/data/20211215_hca_benchmark_github/4_downsampled_data_individual_samples/downstream_analysis/gene_act_loom/10x_ATAC_C1__libds_gene_activity.loom\n",
      "\tno barcode annotation detected\n",
      "opening /lustre1/project/stg_00002/lcb/fderop/data/20211215_hca_benchmark_github/4_downsampled_data_individual_samples/downstream_analysis/gene_act_loom/10x_ATAC_C2__libds_gene_activity.loom\n"
     ]
    },
    {
     "name": "stdout",
     "output_type": "stream",
     "text": [
      "\tno barcode annotation detected\n",
      "opening /lustre1/project/stg_00002/lcb/fderop/data/20211215_hca_benchmark_github/4_downsampled_data_individual_samples/downstream_analysis/gene_act_loom/10x_Multiome_1__libds_gene_activity.loom\n",
      "\tno barcode annotation detected\n",
      "opening /lustre1/project/stg_00002/lcb/fderop/data/20211215_hca_benchmark_github/4_downsampled_data_individual_samples/downstream_analysis/gene_act_loom/10x_Multiome_2__libds_gene_activity.loom\n",
      "\tno barcode annotation detected\n",
      "opening /lustre1/project/stg_00002/lcb/fderop/data/20211215_hca_benchmark_github/4_downsampled_data_individual_samples/downstream_analysis/gene_act_loom/10x_mtATAC_1__libds_gene_activity.loom\n"
     ]
    },
    {
     "name": "stdout",
     "output_type": "stream",
     "text": [
      "\tno barcode annotation detected\n",
      "opening /lustre1/project/stg_00002/lcb/fderop/data/20211215_hca_benchmark_github/4_downsampled_data_individual_samples/downstream_analysis/gene_act_loom/10x_mtATAC_2__libds_gene_activity.loom\n",
      "\tno barcode annotation detected\n",
      "opening /lustre1/project/stg_00002/lcb/fderop/data/20211215_hca_benchmark_github/4_downsampled_data_individual_samples/downstream_analysis/gene_act_loom/BioRad_ATAC_1__libds_gene_activity.loom\n",
      "\tno barcode annotation detected\n",
      "opening /lustre1/project/stg_00002/lcb/fderop/data/20211215_hca_benchmark_github/4_downsampled_data_individual_samples/downstream_analysis/gene_act_loom/BioRad_ATAC_2__libds_gene_activity.loom\n"
     ]
    },
    {
     "name": "stdout",
     "output_type": "stream",
     "text": [
      "\tno barcode annotation detected\n",
      "opening /lustre1/project/stg_00002/lcb/fderop/data/20211215_hca_benchmark_github/4_downsampled_data_individual_samples/downstream_analysis/gene_act_loom/Hydrop_ATAC_1__libds_gene_activity.loom\n",
      "\tno barcode annotation detected\n",
      "opening /lustre1/project/stg_00002/lcb/fderop/data/20211215_hca_benchmark_github/4_downsampled_data_individual_samples/downstream_analysis/gene_act_loom/Hydrop_ATAC_2__libds_gene_activity.loom\n"
     ]
    },
    {
     "name": "stdout",
     "output_type": "stream",
     "text": [
      "\tno barcode annotation detected\n",
      "opening /lustre1/project/stg_00002/lcb/fderop/data/20211215_hca_benchmark_github/4_downsampled_data_individual_samples/downstream_analysis/gene_act_loom/s3_ATAC__libds_gene_activity.loom\n",
      "\tno barcode annotation detected\n"
     ]
    }
   ],
   "source": [
    "for sample in loom_dict.keys():\n",
    "    file = loom_dict[sample]\n",
    "    print(f'opening {file}')\n",
    "    loom = lp.connect(file, mode='r+', validate=False)\n",
    "\n",
    "    metadata = json.loads(loom.attrs['MetaData'])\n",
    "    new_metadata = copy.deepcopy(metadata)\n",
    "    for item in new_metadata['annotations']:\n",
    "        if item['name'] == 'barcode':\n",
    "            barcode_index = new_metadata['annotations'].index(item)\n",
    "\n",
    "    if 'barcode_index' in locals():\n",
    "        print(f'\\tbarcode index found: {barcode_index}')\n",
    "        new_metadata['annotations'].pop(barcode_index)\n",
    "        del barcode_index\n",
    "\n",
    "        new_metadata_json = json.dumps(new_metadata)\n",
    "        loom.attrs['MetaData'] = new_metadata_json\n",
    "        loom.close()\n",
    "        print(f'\\tfixed {sample}')\n",
    "\n",
    "    else:\n",
    "        print('\\tno barcode annotation detected')\n",
    "        loom.close()"
   ]
  },
  {
   "cell_type": "markdown",
   "id": "47349619",
   "metadata": {
    "papermill": {
     "duration": 0.028584,
     "end_time": "2022-01-17T13:30:54.077711",
     "exception": false,
     "start_time": "2022-01-17T13:30:54.049127",
     "status": "completed"
    },
    "tags": []
   },
   "source": [
    "# remove the pesky sample_id from the non-merged looms"
   ]
  },
  {
   "cell_type": "code",
   "execution_count": 37,
   "id": "0ab3153b",
   "metadata": {
    "execution": {
     "iopub.execute_input": "2022-01-17T13:30:54.146309Z",
     "iopub.status.busy": "2022-01-17T13:30:54.138144Z",
     "iopub.status.idle": "2022-01-17T13:30:54.207129Z",
     "shell.execute_reply": "2022-01-17T13:30:54.207544Z"
    },
    "papermill": {
     "duration": 0.101443,
     "end_time": "2022-01-17T13:30:54.207686",
     "exception": false,
     "start_time": "2022-01-17T13:30:54.106243",
     "status": "completed"
    },
    "tags": []
   },
   "outputs": [
    {
     "name": "stdout",
     "output_type": "stream",
     "text": [
      "opening /lustre1/project/stg_00002/lcb/fderop/data/20211215_hca_benchmark_github/4_downsampled_data_individual_samples/downstream_analysis/gene_act_loom/10x_ATAC_A1__libds_gene_activity.loom\n",
      "\tno sample_id detected\n",
      "\n",
      "\n",
      "opening /lustre1/project/stg_00002/lcb/fderop/data/20211215_hca_benchmark_github/4_downsampled_data_individual_samples/downstream_analysis/gene_act_loom/10x_ATAC_A2__libds_gene_activity.loom\n",
      "\tno sample_id detected\n",
      "\n",
      "\n",
      "opening /lustre1/project/stg_00002/lcb/fderop/data/20211215_hca_benchmark_github/4_downsampled_data_individual_samples/downstream_analysis/gene_act_loom/10x_ATAC_B1__libds_gene_activity.loom\n",
      "\tno sample_id detected\n",
      "\n",
      "\n",
      "opening /lustre1/project/stg_00002/lcb/fderop/data/20211215_hca_benchmark_github/4_downsampled_data_individual_samples/downstream_analysis/gene_act_loom/10x_ATAC_B2__libds_gene_activity.loom\n",
      "\tno sample_id detected\n",
      "\n",
      "\n",
      "opening /lustre1/project/stg_00002/lcb/fderop/data/20211215_hca_benchmark_github/4_downsampled_data_individual_samples/downstream_analysis/gene_act_loom/10x_ATAC_C1__libds_gene_activity.loom\n",
      "\tno sample_id detected\n",
      "\n",
      "\n",
      "opening /lustre1/project/stg_00002/lcb/fderop/data/20211215_hca_benchmark_github/4_downsampled_data_individual_samples/downstream_analysis/gene_act_loom/10x_ATAC_C2__libds_gene_activity.loom\n",
      "\tno sample_id detected\n",
      "\n",
      "\n",
      "opening /lustre1/project/stg_00002/lcb/fderop/data/20211215_hca_benchmark_github/4_downsampled_data_individual_samples/downstream_analysis/gene_act_loom/10x_Multiome_1__libds_gene_activity.loom\n",
      "\tno sample_id detected\n",
      "\n",
      "\n",
      "opening /lustre1/project/stg_00002/lcb/fderop/data/20211215_hca_benchmark_github/4_downsampled_data_individual_samples/downstream_analysis/gene_act_loom/10x_Multiome_2__libds_gene_activity.loom\n",
      "\tno sample_id detected\n",
      "\n",
      "\n",
      "opening /lustre1/project/stg_00002/lcb/fderop/data/20211215_hca_benchmark_github/4_downsampled_data_individual_samples/downstream_analysis/gene_act_loom/10x_mtATAC_1__libds_gene_activity.loom\n",
      "\tno sample_id detected\n",
      "\n",
      "\n",
      "opening /lustre1/project/stg_00002/lcb/fderop/data/20211215_hca_benchmark_github/4_downsampled_data_individual_samples/downstream_analysis/gene_act_loom/10x_mtATAC_2__libds_gene_activity.loom\n",
      "\tno sample_id detected\n",
      "\n",
      "\n",
      "opening /lustre1/project/stg_00002/lcb/fderop/data/20211215_hca_benchmark_github/4_downsampled_data_individual_samples/downstream_analysis/gene_act_loom/BioRad_ATAC_1__libds_gene_activity.loom\n",
      "\tno sample_id detected\n",
      "\n",
      "\n",
      "opening /lustre1/project/stg_00002/lcb/fderop/data/20211215_hca_benchmark_github/4_downsampled_data_individual_samples/downstream_analysis/gene_act_loom/BioRad_ATAC_2__libds_gene_activity.loom\n",
      "\tno sample_id detected\n",
      "\n",
      "\n",
      "opening /lustre1/project/stg_00002/lcb/fderop/data/20211215_hca_benchmark_github/4_downsampled_data_individual_samples/downstream_analysis/gene_act_loom/Hydrop_ATAC_1__libds_gene_activity.loom\n",
      "\tno sample_id detected\n",
      "\n",
      "\n",
      "opening /lustre1/project/stg_00002/lcb/fderop/data/20211215_hca_benchmark_github/4_downsampled_data_individual_samples/downstream_analysis/gene_act_loom/Hydrop_ATAC_2__libds_gene_activity.loom\n",
      "\tno sample_id detected\n",
      "\n",
      "\n",
      "opening /lustre1/project/stg_00002/lcb/fderop/data/20211215_hca_benchmark_github/4_downsampled_data_individual_samples/downstream_analysis/gene_act_loom/s3_ATAC__libds_gene_activity.loom\n",
      "\tno sample_id detected\n",
      "\n",
      "\n"
     ]
    }
   ],
   "source": [
    "for sample in loom_dict.keys():\n",
    "    file = loom_dict[sample]\n",
    "    print(f'opening {file}')\n",
    "    loom = lp.connect(file, mode='r+', validate=False)\n",
    "\n",
    "    metadata = json.loads(loom.attrs['MetaData'])\n",
    "    new_metadata = copy.deepcopy(metadata)\n",
    "    for item in new_metadata['annotations']:\n",
    "        if item['name'] == 'sample_id':\n",
    "            barcode_index = new_metadata['annotations'].index(item)\n",
    "\n",
    "    if 'barcode_index' in locals():\n",
    "        print(f'\\sample_id index found: {barcode_index}')\n",
    "        new_metadata['annotations'].pop(barcode_index)\n",
    "        del barcode_index\n",
    "\n",
    "        new_metadata_json = json.dumps(new_metadata)\n",
    "        loom.attrs['MetaData'] = new_metadata_json\n",
    "        loom.close()\n",
    "        print(f'\\tfixed {sample}')\n",
    "\n",
    "    else:\n",
    "        print('\\tno sample_id detected')\n",
    "        loom.close()\n",
    "    print('\\n')"
   ]
  },
  {
   "cell_type": "markdown",
   "id": "1fab11c2",
   "metadata": {
    "papermill": {
     "duration": 0.028543,
     "end_time": "2022-01-17T13:30:54.268545",
     "exception": false,
     "start_time": "2022-01-17T13:30:54.240002",
     "status": "completed"
    },
    "tags": []
   },
   "source": [
    "# open region accessibility loom and fix annotations"
   ]
  },
  {
   "cell_type": "code",
   "execution_count": 38,
   "id": "f9aa641b",
   "metadata": {
    "execution": {
     "iopub.execute_input": "2022-01-17T13:30:54.330208Z",
     "iopub.status.busy": "2022-01-17T13:30:54.329771Z",
     "iopub.status.idle": "2022-01-17T13:30:54.332873Z",
     "shell.execute_reply": "2022-01-17T13:30:54.332470Z"
    },
    "papermill": {
     "duration": 0.035586,
     "end_time": "2022-01-17T13:30:54.332961",
     "exception": false,
     "start_time": "2022-01-17T13:30:54.297375",
     "status": "completed"
    },
    "tags": []
   },
   "outputs": [],
   "source": [
    "import loompy as lp\n",
    "import json\n",
    "import copy\n",
    "import glob\n",
    "from collections import OrderedDict"
   ]
  },
  {
   "cell_type": "markdown",
   "id": "22b64913",
   "metadata": {
    "papermill": {
     "duration": 0.029441,
     "end_time": "2022-01-17T13:30:54.391709",
     "exception": false,
     "start_time": "2022-01-17T13:30:54.362268",
     "status": "completed"
    },
    "tags": []
   },
   "source": [
    "exclude 'barcode' annotation"
   ]
  },
  {
   "cell_type": "code",
   "execution_count": 39,
   "id": "d1c8418d",
   "metadata": {
    "execution": {
     "iopub.execute_input": "2022-01-17T13:30:54.464325Z",
     "iopub.status.busy": "2022-01-17T13:30:54.463929Z",
     "iopub.status.idle": "2022-01-17T13:30:54.467910Z",
     "shell.execute_reply": "2022-01-17T13:30:54.467506Z"
    },
    "papermill": {
     "duration": 0.047212,
     "end_time": "2022-01-17T13:30:54.467997",
     "exception": false,
     "start_time": "2022-01-17T13:30:54.420785",
     "status": "completed"
    },
    "tags": []
   },
   "outputs": [],
   "source": [
    "filenames = sorted(glob.glob(f_region_loom_dir+'/*loom'))\n",
    "samples = [item.replace(\"__libds_region_accessibility.loom\", \"\") for item in filenames]\n",
    "samples = [item.replace(\"/lustre1/project/stg_00002/lcb/fderop/data/20211215_hca_benchmark_github/4_downsampled_data_individual_samples/downstream_analysis/region_acc_loom/\", \"\") for item in samples]\n",
    "loom_dict = {samples[i]: filenames[i] for i in range(len(samples))}\n",
    "loom_dict = OrderedDict(loom_dict)"
   ]
  },
  {
   "cell_type": "code",
   "execution_count": 40,
   "id": "55b7e650",
   "metadata": {
    "execution": {
     "iopub.execute_input": "2022-01-17T13:30:54.532277Z",
     "iopub.status.busy": "2022-01-17T13:30:54.531885Z",
     "iopub.status.idle": "2022-01-17T13:30:54.534808Z",
     "shell.execute_reply": "2022-01-17T13:30:54.534403Z"
    },
    "papermill": {
     "duration": 0.037225,
     "end_time": "2022-01-17T13:30:54.534895",
     "exception": false,
     "start_time": "2022-01-17T13:30:54.497670",
     "status": "completed"
    },
    "tags": []
   },
   "outputs": [
    {
     "data": {
      "text/plain": [
       "OrderedDict([('10x_ATAC_A1',\n",
       "              '/lustre1/project/stg_00002/lcb/fderop/data/20211215_hca_benchmark_github/4_downsampled_data_individual_samples/downstream_analysis/region_acc_loom/10x_ATAC_A1__libds_region_accessibility.loom'),\n",
       "             ('10x_ATAC_A2',\n",
       "              '/lustre1/project/stg_00002/lcb/fderop/data/20211215_hca_benchmark_github/4_downsampled_data_individual_samples/downstream_analysis/region_acc_loom/10x_ATAC_A2__libds_region_accessibility.loom'),\n",
       "             ('10x_ATAC_B1',\n",
       "              '/lustre1/project/stg_00002/lcb/fderop/data/20211215_hca_benchmark_github/4_downsampled_data_individual_samples/downstream_analysis/region_acc_loom/10x_ATAC_B1__libds_region_accessibility.loom'),\n",
       "             ('10x_ATAC_B2',\n",
       "              '/lustre1/project/stg_00002/lcb/fderop/data/20211215_hca_benchmark_github/4_downsampled_data_individual_samples/downstream_analysis/region_acc_loom/10x_ATAC_B2__libds_region_accessibility.loom'),\n",
       "             ('10x_ATAC_C1',\n",
       "              '/lustre1/project/stg_00002/lcb/fderop/data/20211215_hca_benchmark_github/4_downsampled_data_individual_samples/downstream_analysis/region_acc_loom/10x_ATAC_C1__libds_region_accessibility.loom'),\n",
       "             ('10x_ATAC_C2',\n",
       "              '/lustre1/project/stg_00002/lcb/fderop/data/20211215_hca_benchmark_github/4_downsampled_data_individual_samples/downstream_analysis/region_acc_loom/10x_ATAC_C2__libds_region_accessibility.loom'),\n",
       "             ('10x_Multiome_1',\n",
       "              '/lustre1/project/stg_00002/lcb/fderop/data/20211215_hca_benchmark_github/4_downsampled_data_individual_samples/downstream_analysis/region_acc_loom/10x_Multiome_1__libds_region_accessibility.loom'),\n",
       "             ('10x_Multiome_2',\n",
       "              '/lustre1/project/stg_00002/lcb/fderop/data/20211215_hca_benchmark_github/4_downsampled_data_individual_samples/downstream_analysis/region_acc_loom/10x_Multiome_2__libds_region_accessibility.loom'),\n",
       "             ('10x_mtATAC_1',\n",
       "              '/lustre1/project/stg_00002/lcb/fderop/data/20211215_hca_benchmark_github/4_downsampled_data_individual_samples/downstream_analysis/region_acc_loom/10x_mtATAC_1__libds_region_accessibility.loom'),\n",
       "             ('10x_mtATAC_2',\n",
       "              '/lustre1/project/stg_00002/lcb/fderop/data/20211215_hca_benchmark_github/4_downsampled_data_individual_samples/downstream_analysis/region_acc_loom/10x_mtATAC_2__libds_region_accessibility.loom'),\n",
       "             ('BioRad_ATAC_1',\n",
       "              '/lustre1/project/stg_00002/lcb/fderop/data/20211215_hca_benchmark_github/4_downsampled_data_individual_samples/downstream_analysis/region_acc_loom/BioRad_ATAC_1__libds_region_accessibility.loom'),\n",
       "             ('BioRad_ATAC_2',\n",
       "              '/lustre1/project/stg_00002/lcb/fderop/data/20211215_hca_benchmark_github/4_downsampled_data_individual_samples/downstream_analysis/region_acc_loom/BioRad_ATAC_2__libds_region_accessibility.loom'),\n",
       "             ('Hydrop_ATAC_1',\n",
       "              '/lustre1/project/stg_00002/lcb/fderop/data/20211215_hca_benchmark_github/4_downsampled_data_individual_samples/downstream_analysis/region_acc_loom/Hydrop_ATAC_1__libds_region_accessibility.loom'),\n",
       "             ('Hydrop_ATAC_2',\n",
       "              '/lustre1/project/stg_00002/lcb/fderop/data/20211215_hca_benchmark_github/4_downsampled_data_individual_samples/downstream_analysis/region_acc_loom/Hydrop_ATAC_2__libds_region_accessibility.loom'),\n",
       "             ('s3_ATAC',\n",
       "              '/lustre1/project/stg_00002/lcb/fderop/data/20211215_hca_benchmark_github/4_downsampled_data_individual_samples/downstream_analysis/region_acc_loom/s3_ATAC__libds_region_accessibility.loom')])"
      ]
     },
     "execution_count": 40,
     "metadata": {},
     "output_type": "execute_result"
    }
   ],
   "source": [
    "loom_dict"
   ]
  },
  {
   "cell_type": "code",
   "execution_count": 41,
   "id": "404bb507",
   "metadata": {
    "execution": {
     "iopub.execute_input": "2022-01-17T13:30:54.677720Z",
     "iopub.status.busy": "2022-01-17T13:30:54.598105Z",
     "iopub.status.idle": "2022-01-17T13:30:56.541589Z",
     "shell.execute_reply": "2022-01-17T13:30:56.541160Z"
    },
    "papermill": {
     "duration": 1.976567,
     "end_time": "2022-01-17T13:30:56.541707",
     "exception": false,
     "start_time": "2022-01-17T13:30:54.565140",
     "status": "completed"
    },
    "tags": []
   },
   "outputs": [
    {
     "name": "stdout",
     "output_type": "stream",
     "text": [
      "opening /lustre1/project/stg_00002/lcb/fderop/data/20211215_hca_benchmark_github/4_downsampled_data_individual_samples/downstream_analysis/region_acc_loom/10x_ATAC_A1__libds_region_accessibility.loom\n",
      "\tno barcode annotation detected\n",
      "opening /lustre1/project/stg_00002/lcb/fderop/data/20211215_hca_benchmark_github/4_downsampled_data_individual_samples/downstream_analysis/region_acc_loom/10x_ATAC_A2__libds_region_accessibility.loom\n",
      "\tno barcode annotation detected\n",
      "opening /lustre1/project/stg_00002/lcb/fderop/data/20211215_hca_benchmark_github/4_downsampled_data_individual_samples/downstream_analysis/region_acc_loom/10x_ATAC_B1__libds_region_accessibility.loom\n"
     ]
    },
    {
     "name": "stdout",
     "output_type": "stream",
     "text": [
      "\tno barcode annotation detected\n",
      "opening /lustre1/project/stg_00002/lcb/fderop/data/20211215_hca_benchmark_github/4_downsampled_data_individual_samples/downstream_analysis/region_acc_loom/10x_ATAC_B2__libds_region_accessibility.loom\n",
      "\tno barcode annotation detected\n",
      "opening /lustre1/project/stg_00002/lcb/fderop/data/20211215_hca_benchmark_github/4_downsampled_data_individual_samples/downstream_analysis/region_acc_loom/10x_ATAC_C1__libds_region_accessibility.loom\n"
     ]
    },
    {
     "name": "stdout",
     "output_type": "stream",
     "text": [
      "\tno barcode annotation detected\n",
      "opening /lustre1/project/stg_00002/lcb/fderop/data/20211215_hca_benchmark_github/4_downsampled_data_individual_samples/downstream_analysis/region_acc_loom/10x_ATAC_C2__libds_region_accessibility.loom\n",
      "\tno barcode annotation detected\n",
      "opening /lustre1/project/stg_00002/lcb/fderop/data/20211215_hca_benchmark_github/4_downsampled_data_individual_samples/downstream_analysis/region_acc_loom/10x_Multiome_1__libds_region_accessibility.loom\n"
     ]
    },
    {
     "name": "stdout",
     "output_type": "stream",
     "text": [
      "\tno barcode annotation detected\n",
      "opening /lustre1/project/stg_00002/lcb/fderop/data/20211215_hca_benchmark_github/4_downsampled_data_individual_samples/downstream_analysis/region_acc_loom/10x_Multiome_2__libds_region_accessibility.loom\n",
      "\tno barcode annotation detected\n",
      "opening /lustre1/project/stg_00002/lcb/fderop/data/20211215_hca_benchmark_github/4_downsampled_data_individual_samples/downstream_analysis/region_acc_loom/10x_mtATAC_1__libds_region_accessibility.loom\n"
     ]
    },
    {
     "name": "stdout",
     "output_type": "stream",
     "text": [
      "\tno barcode annotation detected\n",
      "opening /lustre1/project/stg_00002/lcb/fderop/data/20211215_hca_benchmark_github/4_downsampled_data_individual_samples/downstream_analysis/region_acc_loom/10x_mtATAC_2__libds_region_accessibility.loom\n",
      "\tno barcode annotation detected\n",
      "opening /lustre1/project/stg_00002/lcb/fderop/data/20211215_hca_benchmark_github/4_downsampled_data_individual_samples/downstream_analysis/region_acc_loom/BioRad_ATAC_1__libds_region_accessibility.loom\n"
     ]
    },
    {
     "name": "stdout",
     "output_type": "stream",
     "text": [
      "\tno barcode annotation detected\n",
      "opening /lustre1/project/stg_00002/lcb/fderop/data/20211215_hca_benchmark_github/4_downsampled_data_individual_samples/downstream_analysis/region_acc_loom/BioRad_ATAC_2__libds_region_accessibility.loom\n",
      "\tno barcode annotation detected\n",
      "opening /lustre1/project/stg_00002/lcb/fderop/data/20211215_hca_benchmark_github/4_downsampled_data_individual_samples/downstream_analysis/region_acc_loom/Hydrop_ATAC_1__libds_region_accessibility.loom\n"
     ]
    },
    {
     "name": "stdout",
     "output_type": "stream",
     "text": [
      "\tno barcode annotation detected\n",
      "opening /lustre1/project/stg_00002/lcb/fderop/data/20211215_hca_benchmark_github/4_downsampled_data_individual_samples/downstream_analysis/region_acc_loom/Hydrop_ATAC_2__libds_region_accessibility.loom\n",
      "\tno barcode annotation detected\n",
      "opening /lustre1/project/stg_00002/lcb/fderop/data/20211215_hca_benchmark_github/4_downsampled_data_individual_samples/downstream_analysis/region_acc_loom/s3_ATAC__libds_region_accessibility.loom\n"
     ]
    },
    {
     "name": "stdout",
     "output_type": "stream",
     "text": [
      "\tno barcode annotation detected\n"
     ]
    }
   ],
   "source": [
    "for sample in loom_dict.keys():\n",
    "    file = loom_dict[sample]\n",
    "    print(f'opening {file}')\n",
    "    loom = lp.connect(file, mode='r+', validate=False)\n",
    "\n",
    "    metadata = json.loads(loom.attrs['MetaData'])\n",
    "    new_metadata = copy.deepcopy(metadata)\n",
    "    for item in new_metadata['annotations']:\n",
    "        if item['name'] == 'barcode':\n",
    "            barcode_index = new_metadata['annotations'].index(item)\n",
    "\n",
    "    if 'barcode_index' in locals():\n",
    "        print(f'\\tbarcode index found: {barcode_index}')\n",
    "        new_metadata['annotations'].pop(barcode_index)\n",
    "        del barcode_index\n",
    "\n",
    "        new_metadata_json = json.dumps(new_metadata)\n",
    "        loom.attrs['MetaData'] = new_metadata_json\n",
    "        loom.close()\n",
    "        print(f'\\tfixed {sample}')\n",
    "\n",
    "    else:\n",
    "        print('\\tno barcode annotation detected')\n",
    "        loom.close()"
   ]
  },
  {
   "cell_type": "markdown",
   "id": "9350c561",
   "metadata": {
    "papermill": {
     "duration": 0.036937,
     "end_time": "2022-01-17T13:30:56.610552",
     "exception": false,
     "start_time": "2022-01-17T13:30:56.573615",
     "status": "completed"
    },
    "tags": []
   },
   "source": [
    "# remove the pesky sample_id from the non-merged looms"
   ]
  },
  {
   "cell_type": "code",
   "execution_count": 42,
   "id": "28e96f27",
   "metadata": {
    "execution": {
     "iopub.execute_input": "2022-01-17T13:30:56.680971Z",
     "iopub.status.busy": "2022-01-17T13:30:56.679139Z",
     "iopub.status.idle": "2022-01-17T13:30:56.767424Z",
     "shell.execute_reply": "2022-01-17T13:30:56.767970Z"
    },
    "papermill": {
     "duration": 0.127414,
     "end_time": "2022-01-17T13:30:56.768151",
     "exception": false,
     "start_time": "2022-01-17T13:30:56.640737",
     "status": "completed"
    },
    "tags": []
   },
   "outputs": [
    {
     "name": "stdout",
     "output_type": "stream",
     "text": [
      "opening /lustre1/project/stg_00002/lcb/fderop/data/20211215_hca_benchmark_github/4_downsampled_data_individual_samples/downstream_analysis/region_acc_loom/10x_ATAC_A1__libds_region_accessibility.loom\n",
      "\\sample_id index found: 0\n",
      "\tfixed 10x_ATAC_A1\n",
      "\n",
      "\n",
      "opening /lustre1/project/stg_00002/lcb/fderop/data/20211215_hca_benchmark_github/4_downsampled_data_individual_samples/downstream_analysis/region_acc_loom/10x_ATAC_A2__libds_region_accessibility.loom\n",
      "\\sample_id index found: 0\n",
      "\tfixed 10x_ATAC_A2\n",
      "\n",
      "\n",
      "opening /lustre1/project/stg_00002/lcb/fderop/data/20211215_hca_benchmark_github/4_downsampled_data_individual_samples/downstream_analysis/region_acc_loom/10x_ATAC_B1__libds_region_accessibility.loom\n",
      "\\sample_id index found: 0\n",
      "\tfixed 10x_ATAC_B1\n",
      "\n",
      "\n",
      "opening /lustre1/project/stg_00002/lcb/fderop/data/20211215_hca_benchmark_github/4_downsampled_data_individual_samples/downstream_analysis/region_acc_loom/10x_ATAC_B2__libds_region_accessibility.loom\n",
      "\\sample_id index found: 0\n",
      "\tfixed 10x_ATAC_B2\n",
      "\n",
      "\n",
      "opening /lustre1/project/stg_00002/lcb/fderop/data/20211215_hca_benchmark_github/4_downsampled_data_individual_samples/downstream_analysis/region_acc_loom/10x_ATAC_C1__libds_region_accessibility.loom\n",
      "\\sample_id index found: 0\n",
      "\tfixed 10x_ATAC_C1\n",
      "\n",
      "\n",
      "opening /lustre1/project/stg_00002/lcb/fderop/data/20211215_hca_benchmark_github/4_downsampled_data_individual_samples/downstream_analysis/region_acc_loom/10x_ATAC_C2__libds_region_accessibility.loom\n",
      "\\sample_id index found: 0\n",
      "\tfixed 10x_ATAC_C2\n",
      "\n",
      "\n",
      "opening /lustre1/project/stg_00002/lcb/fderop/data/20211215_hca_benchmark_github/4_downsampled_data_individual_samples/downstream_analysis/region_acc_loom/10x_Multiome_1__libds_region_accessibility.loom\n",
      "\\sample_id index found: 0\n",
      "\tfixed 10x_Multiome_1\n",
      "\n",
      "\n",
      "opening /lustre1/project/stg_00002/lcb/fderop/data/20211215_hca_benchmark_github/4_downsampled_data_individual_samples/downstream_analysis/region_acc_loom/10x_Multiome_2__libds_region_accessibility.loom\n",
      "\\sample_id index found: 0\n",
      "\tfixed 10x_Multiome_2\n",
      "\n",
      "\n",
      "opening /lustre1/project/stg_00002/lcb/fderop/data/20211215_hca_benchmark_github/4_downsampled_data_individual_samples/downstream_analysis/region_acc_loom/10x_mtATAC_1__libds_region_accessibility.loom\n",
      "\\sample_id index found: 0\n",
      "\tfixed 10x_mtATAC_1\n",
      "\n",
      "\n",
      "opening /lustre1/project/stg_00002/lcb/fderop/data/20211215_hca_benchmark_github/4_downsampled_data_individual_samples/downstream_analysis/region_acc_loom/10x_mtATAC_2__libds_region_accessibility.loom\n",
      "\\sample_id index found: 0\n"
     ]
    },
    {
     "name": "stdout",
     "output_type": "stream",
     "text": [
      "\tfixed 10x_mtATAC_2\n",
      "\n",
      "\n",
      "opening /lustre1/project/stg_00002/lcb/fderop/data/20211215_hca_benchmark_github/4_downsampled_data_individual_samples/downstream_analysis/region_acc_loom/BioRad_ATAC_1__libds_region_accessibility.loom\n",
      "\\sample_id index found: 0\n",
      "\tfixed BioRad_ATAC_1\n",
      "\n",
      "\n",
      "opening /lustre1/project/stg_00002/lcb/fderop/data/20211215_hca_benchmark_github/4_downsampled_data_individual_samples/downstream_analysis/region_acc_loom/BioRad_ATAC_2__libds_region_accessibility.loom\n",
      "\\sample_id index found: 0\n",
      "\tfixed BioRad_ATAC_2\n",
      "\n",
      "\n",
      "opening /lustre1/project/stg_00002/lcb/fderop/data/20211215_hca_benchmark_github/4_downsampled_data_individual_samples/downstream_analysis/region_acc_loom/Hydrop_ATAC_1__libds_region_accessibility.loom\n",
      "\tno sample_id detected\n",
      "\n",
      "\n",
      "opening /lustre1/project/stg_00002/lcb/fderop/data/20211215_hca_benchmark_github/4_downsampled_data_individual_samples/downstream_analysis/region_acc_loom/Hydrop_ATAC_2__libds_region_accessibility.loom\n",
      "\tno sample_id detected\n",
      "\n",
      "\n",
      "opening /lustre1/project/stg_00002/lcb/fderop/data/20211215_hca_benchmark_github/4_downsampled_data_individual_samples/downstream_analysis/region_acc_loom/s3_ATAC__libds_region_accessibility.loom\n",
      "\tno sample_id detected\n",
      "\n",
      "\n"
     ]
    }
   ],
   "source": [
    "for sample in loom_dict.keys():\n",
    "    file = loom_dict[sample]\n",
    "    print(f'opening {file}')\n",
    "    loom = lp.connect(file, mode='r+', validate=False)\n",
    "\n",
    "    metadata = json.loads(loom.attrs['MetaData'])\n",
    "    new_metadata = copy.deepcopy(metadata)\n",
    "    for item in new_metadata['annotations']:\n",
    "        if item['name'] == 'sample_id':\n",
    "            barcode_index = new_metadata['annotations'].index(item)\n",
    "\n",
    "    if 'barcode_index' in locals():\n",
    "        print(f'\\sample_id index found: {barcode_index}')\n",
    "        new_metadata['annotations'].pop(barcode_index)\n",
    "        del barcode_index\n",
    "\n",
    "        new_metadata_json = json.dumps(new_metadata)\n",
    "        loom.attrs['MetaData'] = new_metadata_json\n",
    "        loom.close()\n",
    "        print(f'\\tfixed {sample}')\n",
    "\n",
    "    else:\n",
    "        print('\\tno sample_id detected')\n",
    "        loom.close()\n",
    "    print('\\n')"
   ]
  }
 ],
 "metadata": {
  "kernelspec": {
   "display_name": "pycisTopic_singularity_20210921",
   "language": "python",
   "name": "pycistopic_singularity"
  },
  "language_info": {
   "codemirror_mode": {
    "name": "ipython",
    "version": 3
   },
   "file_extension": ".py",
   "mimetype": "text/x-python",
   "name": "python",
   "nbconvert_exporter": "python",
   "pygments_lexer": "ipython3",
   "version": "3.8.6"
  },
  "papermill": {
   "default_parameters": {},
   "duration": 48.519406,
   "end_time": "2022-01-17T13:30:58.524094",
   "environment_variables": {},
   "exception": null,
   "input_path": "8a_export_loom.ipynb",
   "output_path": "8a_export_loom.OUT.ipynb",
   "parameters": {},
   "start_time": "2022-01-17T13:30:10.004688",
   "version": "2.3.3"
  }
 },
 "nbformat": 4,
 "nbformat_minor": 5
}