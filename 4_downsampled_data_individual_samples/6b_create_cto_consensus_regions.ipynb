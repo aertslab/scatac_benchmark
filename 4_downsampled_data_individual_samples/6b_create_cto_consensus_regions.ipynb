{
 "cells": [
  {
   "cell_type": "markdown",
   "id": "c479b661",
   "metadata": {},
   "source": [
    "# pycisTopic analysis\n",
    "\n",
    "Cell downsampled dataset, using consensus peak regions."
   ]
  },
  {
   "cell_type": "code",
   "execution_count": 3,
   "id": "573d674b",
   "metadata": {},
   "outputs": [
    {
     "data": {
      "text/plain": [
       "'0.1.dev300+g7494158'"
      ]
     },
     "execution_count": 3,
     "metadata": {},
     "output_type": "execute_result"
    }
   ],
   "source": [
    "import pycisTopic\n",
    "pycisTopic.__version__"
   ]
  },
  {
   "cell_type": "code",
   "execution_count": 4,
   "id": "d4cd4c2f",
   "metadata": {},
   "outputs": [],
   "source": [
    "import warnings\n",
    "warnings.filterwarnings('ignore')\n",
    "warnings.simplefilter('ignore')"
   ]
  },
  {
   "cell_type": "code",
   "execution_count": 5,
   "id": "af75ec20",
   "metadata": {},
   "outputs": [],
   "source": [
    "import pickle\n",
    "import pandas as pd"
   ]
  },
  {
   "cell_type": "code",
   "execution_count": 6,
   "id": "d0059ad3",
   "metadata": {},
   "outputs": [],
   "source": [
    "import os\n",
    "wdir = '/lustre1/project/stg_00002/lcb/fderop/data/20211013_hca_benchmark_libds/'\n",
    "os.chdir( wdir )"
   ]
  },
  {
   "cell_type": "code",
   "execution_count": 7,
   "id": "ac1fc26c",
   "metadata": {},
   "outputs": [
    {
     "data": {
      "text/plain": [
       "odict_keys(['VIB_Hydrop_1', 'VIB_Hydrop_2'])"
      ]
     },
     "execution_count": 7,
     "metadata": {},
     "output_type": "execute_result"
    }
   ],
   "source": [
    "import glob\n",
    "from collections import OrderedDict\n",
    "filenames = glob.glob('fragments_postbap/*Hydrop*.sinto.mm.fragments.tsv.gz')\n",
    "samples = [item.replace(\".sinto.mm.fragments.tsv.gz\", \"\") for item in filenames]\n",
    "samples = [item.replace(\"fragments_postbap/\", \"\") for item in samples]\n",
    "fragments_dict = {samples[i]: filenames[i] for i in range(len(samples))}\n",
    "fragments_dict = OrderedDict(sorted(fragments_dict.items()))\n",
    "fragments_dict.keys()"
   ]
  },
  {
   "cell_type": "markdown",
   "id": "cb9ea09d",
   "metadata": {},
   "source": [
    "# load consensus peak dict\n"
   ]
  },
  {
   "cell_type": "markdown",
   "id": "762eb5b9",
   "metadata": {},
   "source": [
    "load a dictionary with paths to consensus files"
   ]
  },
  {
   "cell_type": "code",
   "execution_count": 29,
   "id": "7e465682",
   "metadata": {},
   "outputs": [
    {
     "data": {
      "text/plain": [
       "odict_keys(['VIB_Hydrop_1', 'VIB_Hydrop_2'])"
      ]
     },
     "execution_count": 29,
     "metadata": {},
     "output_type": "execute_result"
    }
   ],
   "source": [
    "import glob\n",
    "from collections import OrderedDict\n",
    "consensus_peaks_dict = {}\n",
    "filenames = glob.glob('pycistopic_screen/consensus_peak_calling/*/VIB_Hydrop_*__consensus_regions.bed')\n",
    "samples = [item.replace(\"__consensus_regions.bed\", \"\") for item in filenames]\n",
    "samples = [item.split(sep='/')[2] for item in samples]\n",
    "consensus_peaks_dict = {samples[i]: filenames[i] for i in range(len(samples))}\n",
    "consensus_peaks_dict = OrderedDict(sorted(consensus_peaks_dict.items()))\n",
    "consensus_peaks_dict.keys()"
   ]
  },
  {
   "cell_type": "code",
   "execution_count": 32,
   "id": "c3d2fe81",
   "metadata": {},
   "outputs": [
    {
     "data": {
      "text/plain": [
       "OrderedDict([('VIB_Hydrop_1',\n",
       "              'pycistopic_screen/consensus_peak_calling/VIB_Hydrop_1/VIB_Hydrop_1__consensus_regions.bed'),\n",
       "             ('VIB_Hydrop_2',\n",
       "              'pycistopic_screen/consensus_peak_calling/VIB_Hydrop_2/VIB_Hydrop_2__consensus_regions.bed')])"
      ]
     },
     "execution_count": 32,
     "metadata": {},
     "output_type": "execute_result"
    }
   ],
   "source": [
    "consensus_peaks_dict"
   ]
  },
  {
   "cell_type": "markdown",
   "id": "f86eb046",
   "metadata": {},
   "source": [
    "## Library QC metrics"
   ]
  },
  {
   "cell_type": "code",
   "execution_count": 33,
   "id": "f947ee51",
   "metadata": {},
   "outputs": [],
   "source": [
    "from pycisTopic.qc import compute_qc_stats\n",
    "import pyranges"
   ]
  },
  {
   "cell_type": "markdown",
   "id": "28af0c81",
   "metadata": {},
   "source": [
    "! cp /staging/leuven/stg_00002/lcb/cflerin/analysis/pbmc_atac/analysis2/data_freeze_Jun2021/atac_qc_multiplet_merged/jupyter/biomart_annot.pickle ."
   ]
  },
  {
   "cell_type": "code",
   "execution_count": 34,
   "id": "6f3d33fc",
   "metadata": {},
   "outputs": [
    {
     "data": {
      "text/html": [
       "<div>\n",
       "<style scoped>\n",
       "    .dataframe tbody tr th:only-of-type {\n",
       "        vertical-align: middle;\n",
       "    }\n",
       "\n",
       "    .dataframe tbody tr th {\n",
       "        vertical-align: top;\n",
       "    }\n",
       "\n",
       "    .dataframe thead th {\n",
       "        text-align: right;\n",
       "    }\n",
       "</style>\n",
       "<table border=\"1\" class=\"dataframe\">\n",
       "  <thead>\n",
       "    <tr style=\"text-align: right;\">\n",
       "      <th></th>\n",
       "      <th>Chromosome</th>\n",
       "      <th>Start</th>\n",
       "      <th>Strand</th>\n",
       "      <th>Gene</th>\n",
       "      <th>Transcript_type</th>\n",
       "    </tr>\n",
       "  </thead>\n",
       "  <tbody>\n",
       "    <tr>\n",
       "      <th>8986</th>\n",
       "      <td>chrY</td>\n",
       "      <td>9337464</td>\n",
       "      <td>1</td>\n",
       "      <td>TSPY4</td>\n",
       "      <td>protein_coding</td>\n",
       "    </tr>\n",
       "    <tr>\n",
       "      <th>8987</th>\n",
       "      <td>chrY</td>\n",
       "      <td>9337510</td>\n",
       "      <td>1</td>\n",
       "      <td>TSPY4</td>\n",
       "      <td>protein_coding</td>\n",
       "    </tr>\n",
       "    <tr>\n",
       "      <th>9024</th>\n",
       "      <td>chrY</td>\n",
       "      <td>22490397</td>\n",
       "      <td>1</td>\n",
       "      <td>PRY</td>\n",
       "      <td>protein_coding</td>\n",
       "    </tr>\n",
       "    <tr>\n",
       "      <th>9100</th>\n",
       "      <td>chrY</td>\n",
       "      <td>14056227</td>\n",
       "      <td>1</td>\n",
       "      <td>VCY1B</td>\n",
       "      <td>protein_coding</td>\n",
       "    </tr>\n",
       "    <tr>\n",
       "      <th>9136</th>\n",
       "      <td>chrY</td>\n",
       "      <td>12662368</td>\n",
       "      <td>1</td>\n",
       "      <td>USP9Y</td>\n",
       "      <td>protein_coding</td>\n",
       "    </tr>\n",
       "    <tr>\n",
       "      <th>...</th>\n",
       "      <td>...</td>\n",
       "      <td>...</td>\n",
       "      <td>...</td>\n",
       "      <td>...</td>\n",
       "      <td>...</td>\n",
       "    </tr>\n",
       "    <tr>\n",
       "      <th>236024</th>\n",
       "      <td>chr1</td>\n",
       "      <td>36479519</td>\n",
       "      <td>-1</td>\n",
       "      <td>CSF3R</td>\n",
       "      <td>protein_coding</td>\n",
       "    </tr>\n",
       "    <tr>\n",
       "      <th>236025</th>\n",
       "      <td>chr1</td>\n",
       "      <td>36471474</td>\n",
       "      <td>-1</td>\n",
       "      <td>CSF3R</td>\n",
       "      <td>protein_coding</td>\n",
       "    </tr>\n",
       "    <tr>\n",
       "      <th>236033</th>\n",
       "      <td>chr1</td>\n",
       "      <td>36482051</td>\n",
       "      <td>-1</td>\n",
       "      <td>CSF3R</td>\n",
       "      <td>protein_coding</td>\n",
       "    </tr>\n",
       "    <tr>\n",
       "      <th>236034</th>\n",
       "      <td>chr1</td>\n",
       "      <td>36323645</td>\n",
       "      <td>-1</td>\n",
       "      <td>EVA1B</td>\n",
       "      <td>protein_coding</td>\n",
       "    </tr>\n",
       "    <tr>\n",
       "      <th>236035</th>\n",
       "      <td>chr1</td>\n",
       "      <td>36324154</td>\n",
       "      <td>-1</td>\n",
       "      <td>EVA1B</td>\n",
       "      <td>protein_coding</td>\n",
       "    </tr>\n",
       "  </tbody>\n",
       "</table>\n",
       "<p>77249 rows × 5 columns</p>\n",
       "</div>"
      ],
      "text/plain": [
       "       Chromosome     Start  Strand   Gene Transcript_type\n",
       "8986         chrY   9337464       1  TSPY4  protein_coding\n",
       "8987         chrY   9337510       1  TSPY4  protein_coding\n",
       "9024         chrY  22490397       1    PRY  protein_coding\n",
       "9100         chrY  14056227       1  VCY1B  protein_coding\n",
       "9136         chrY  12662368       1  USP9Y  protein_coding\n",
       "...           ...       ...     ...    ...             ...\n",
       "236024       chr1  36479519      -1  CSF3R  protein_coding\n",
       "236025       chr1  36471474      -1  CSF3R  protein_coding\n",
       "236033       chr1  36482051      -1  CSF3R  protein_coding\n",
       "236034       chr1  36323645      -1  EVA1B  protein_coding\n",
       "236035       chr1  36324154      -1  EVA1B  protein_coding\n",
       "\n",
       "[77249 rows x 5 columns]"
      ]
     },
     "execution_count": 34,
     "metadata": {},
     "output_type": "execute_result"
    }
   ],
   "source": [
    "import pickle\n",
    "f_biomart = 'biomart_annot.pickle'\n",
    "with open(f_biomart, 'rb') as f:\n",
    "    annot = pickle.load(f)\n",
    "annot"
   ]
  },
  {
   "cell_type": "code",
   "execution_count": 35,
   "id": "4a780b13",
   "metadata": {
    "tags": []
   },
   "outputs": [
    {
     "name": "stdout",
     "output_type": "stream",
     "text": [
      "2021-10-22 10:48:00,699 cisTopic     INFO     n_cpu is larger than the number of samples. Setting n_cpu to the number of samples\n"
     ]
    },
    {
     "name": "stderr",
     "output_type": "stream",
     "text": [
      "2021-10-22 10:48:02,716\tINFO services.py:1263 -- View the Ray dashboard at \u001b[1m\u001b[32mhttp://127.0.0.1:8265\u001b[39m\u001b[22m\n"
     ]
    },
    {
     "name": "stdout",
     "output_type": "stream",
     "text": [
      "\u001b[2m\u001b[36m(pid=20238)\u001b[0m 2021-10-22 10:48:05,608 cisTopic     INFO     Reading VIB_Hydrop_1\n",
      "\u001b[2m\u001b[36m(pid=20237)\u001b[0m 2021-10-22 10:48:05,601 cisTopic     INFO     Reading VIB_Hydrop_2\n",
      "\u001b[2m\u001b[36m(pid=20238)\u001b[0m 2021-10-22 10:48:28,689 cisTopic     INFO     Computing barcode rank plot for VIB_Hydrop_1\n",
      "\u001b[2m\u001b[36m(pid=20238)\u001b[0m 2021-10-22 10:48:28,690 cisTopic     INFO     Counting fragments\n",
      "\u001b[2m\u001b[36m(pid=20238)\u001b[0m 2021-10-22 10:48:29,884 cisTopic     INFO     Marking barcodes with more than 100\n",
      "\u001b[2m\u001b[36m(pid=20238)\u001b[0m 2021-10-22 10:48:29,910 cisTopic     INFO     Returning plot data\n",
      "\u001b[2m\u001b[36m(pid=20238)\u001b[0m 2021-10-22 10:48:29,910 cisTopic     INFO     Returning valid barcodes\n",
      "\u001b[2m\u001b[36m(pid=20238)\u001b[0m 2021-10-22 10:48:30,701 cisTopic     INFO     Computing duplicate rate plot for VIB_Hydrop_1\n",
      "\u001b[2m\u001b[36m(pid=20238)\u001b[0m 2021-10-22 10:48:32,025 cisTopic     INFO     Return plot data\n",
      "\u001b[2m\u001b[36m(pid=20238)\u001b[0m 2021-10-22 10:48:32,099 cisTopic     INFO     Computing insert size distribution for VIB_Hydrop_1\n",
      "\u001b[2m\u001b[36m(pid=20238)\u001b[0m 2021-10-22 10:48:32,099 cisTopic     INFO     Counting fragments\n",
      "\u001b[2m\u001b[36m(pid=20238)\u001b[0m 2021-10-22 10:48:32,294 cisTopic     INFO     Returning plot data\n",
      "\u001b[2m\u001b[36m(pid=20238)\u001b[0m 2021-10-22 10:48:35,095 cisTopic     INFO     Computing TSS profile for VIB_Hydrop_1\n",
      "\u001b[2m\u001b[36m(pid=20238)\u001b[0m 2021-10-22 10:48:35,652 cisTopic     INFO     Formatting annnotation\n",
      "\u001b[2m\u001b[36m(pid=20238)\u001b[0m 2021-10-22 10:48:35,728 cisTopic     INFO     Creating coverage matrix\n",
      "\u001b[2m\u001b[36m(pid=20237)\u001b[0m 2021-10-22 10:48:35,781 cisTopic     INFO     Computing barcode rank plot for VIB_Hydrop_2\n",
      "\u001b[2m\u001b[36m(pid=20237)\u001b[0m 2021-10-22 10:48:35,781 cisTopic     INFO     Counting fragments\n",
      "\u001b[2m\u001b[36m(pid=20237)\u001b[0m 2021-10-22 10:48:37,219 cisTopic     INFO     Marking barcodes with more than 100\n",
      "\u001b[2m\u001b[36m(pid=20237)\u001b[0m 2021-10-22 10:48:37,246 cisTopic     INFO     Returning plot data\n",
      "\u001b[2m\u001b[36m(pid=20237)\u001b[0m 2021-10-22 10:48:37,247 cisTopic     INFO     Returning valid barcodes\n",
      "\u001b[2m\u001b[36m(pid=20237)\u001b[0m 2021-10-22 10:48:38,282 cisTopic     INFO     Computing duplicate rate plot for VIB_Hydrop_2\n",
      "\u001b[2m\u001b[36m(pid=20237)\u001b[0m 2021-10-22 10:48:39,738 cisTopic     INFO     Return plot data\n",
      "\u001b[2m\u001b[36m(pid=20237)\u001b[0m 2021-10-22 10:48:39,808 cisTopic     INFO     Computing insert size distribution for VIB_Hydrop_2\n",
      "\u001b[2m\u001b[36m(pid=20237)\u001b[0m 2021-10-22 10:48:39,808 cisTopic     INFO     Counting fragments\n",
      "\u001b[2m\u001b[36m(pid=20237)\u001b[0m 2021-10-22 10:48:40,124 cisTopic     INFO     Returning plot data\n",
      "\u001b[2m\u001b[36m(pid=20237)\u001b[0m 2021-10-22 10:48:43,649 cisTopic     INFO     Computing TSS profile for VIB_Hydrop_2\n",
      "\u001b[2m\u001b[36m(pid=20237)\u001b[0m 2021-10-22 10:48:44,423 cisTopic     INFO     Formatting annnotation\n",
      "\u001b[2m\u001b[36m(pid=20237)\u001b[0m 2021-10-22 10:48:44,491 cisTopic     INFO     Creating coverage matrix\n",
      "\u001b[2m\u001b[36m(pid=20238)\u001b[0m 2021-10-22 10:48:53,404 cisTopic     INFO     Coverage matrix done\n",
      "\u001b[2m\u001b[36m(pid=20238)\u001b[0m 2021-10-22 10:48:57,175 cisTopic     INFO     Returning normalized TSS coverage matrix per barcode\n",
      "\u001b[2m\u001b[36m(pid=20238)\u001b[0m 2021-10-22 10:48:59,548 cisTopic     INFO     Returning normalized sample TSS enrichment data\n",
      "\u001b[2m\u001b[36m(pid=20238)\u001b[0m 2021-10-22 10:48:59,619 cisTopic     INFO     Computing FRIP profile for VIB_Hydrop_1\n",
      "\u001b[2m\u001b[36m(pid=20238)\u001b[0m 2021-10-22 10:48:59,895 cisTopic     INFO     Counting fragments\n",
      "\u001b[2m\u001b[36m(pid=20238)\u001b[0m 2021-10-22 10:49:01,079 cisTopic     INFO     Intersecting fragments with regions\n",
      "\u001b[2m\u001b[36m(pid=20238)\u001b[0m 2021-10-22 10:49:04,071 cisTopic     INFO     Sample VIB_Hydrop_1 done!\n",
      "\u001b[2m\u001b[36m(pid=20237)\u001b[0m 2021-10-22 10:49:07,135 cisTopic     INFO     Coverage matrix done\n",
      "\u001b[2m\u001b[36m(pid=20237)\u001b[0m 2021-10-22 10:49:13,557 cisTopic     INFO     Returning normalized TSS coverage matrix per barcode\n",
      "\u001b[2m\u001b[36m(pid=20237)\u001b[0m 2021-10-22 10:49:17,678 cisTopic     INFO     Returning normalized sample TSS enrichment data\n",
      "\u001b[2m\u001b[36m(pid=20237)\u001b[0m 2021-10-22 10:49:17,749 cisTopic     INFO     Computing FRIP profile for VIB_Hydrop_2\n",
      "\u001b[2m\u001b[36m(pid=20237)\u001b[0m 2021-10-22 10:49:18,042 cisTopic     INFO     Counting fragments\n",
      "\u001b[2m\u001b[36m(pid=20237)\u001b[0m 2021-10-22 10:49:19,598 cisTopic     INFO     Intersecting fragments with regions\n",
      "\u001b[2m\u001b[36m(pid=20237)\u001b[0m 2021-10-22 10:49:23,239 cisTopic     INFO     Sample VIB_Hydrop_2 done!\n"
     ]
    }
   ],
   "source": [
    "import ray\n",
    "ray.shutdown()\n",
    "metadata_bc_dict, profile_data_dict = compute_qc_stats(\n",
    "        fragments_dict=fragments_dict,\n",
    "        tss_annotation=annot,\n",
    "        stats=['barcode_rank_plot', 'duplicate_rate', 'insert_size_distribution', 'profile_tss', 'frip'],\n",
    "        label_list=None,\n",
    "        path_to_regions=consensus_peaks_dict,\n",
    "        n_cpu=5,\n",
    "        valid_bc=None,\n",
    "        n_frag=100,\n",
    "        n_bc=None,\n",
    "        tss_flank_window=2000,\n",
    "        tss_window=50,\n",
    "        tss_minimum_signal_window=100,\n",
    "        tss_rolling_window=10,\n",
    "        min_norm=0.1,\n",
    "        remove_duplicates = True,\n",
    "        )"
   ]
  },
  {
   "cell_type": "code",
   "execution_count": 36,
   "id": "3beda3a8",
   "metadata": {},
   "outputs": [],
   "source": [
    "f_qc_dir = 'pycistopic_consensus_peaks/qc__consensus_peaks'\n",
    "if not os.path.exists(os.path.join(wdir, f_qc_dir)):\n",
    "    os.makedirs(os.path.join(wdir, f_qc_dir))\n",
    "    \n",
    "with open(os.path.join(wdir, f_qc_dir, 'metadata.pickle'), 'wb') as f:\n",
    "    pickle.dump(metadata_bc_dict, f)\n",
    "\n",
    "with open(os.path.join(wdir, f_qc_dir, 'profile_data.pickle'), 'wb') as f:\n",
    "    pickle.dump(profile_data_dict, f)"
   ]
  },
  {
   "cell_type": "markdown",
   "id": "73ecaca0",
   "metadata": {},
   "source": [
    "## Create the cisTopic objects for each sample"
   ]
  },
  {
   "cell_type": "code",
   "execution_count": 37,
   "id": "51320e1e",
   "metadata": {},
   "outputs": [],
   "source": [
    "# Valid barcodes\n",
    "with open(wdir + 'pycistopic_screen/barcodes_passing_filters_filtered.pkl', 'rb') as f:\n",
    "    bc_passing_filters = pickle.load(f)"
   ]
  },
  {
   "cell_type": "code",
   "execution_count": 38,
   "id": "0259000f",
   "metadata": {},
   "outputs": [],
   "source": [
    "from pycisTopic.cistopic_class import create_cistopic_object_from_fragments"
   ]
  },
  {
   "cell_type": "code",
   "execution_count": 39,
   "id": "221313fe",
   "metadata": {},
   "outputs": [],
   "source": [
    "#path_to_regions = '/staging/leuven/stg_00002/lcb/cbravo/SCREEN_ENCODE3/V2.hg38-rDHS-Unfiltered.blacklisted.bed'\n",
    "path_to_blacklist = 'hg38_regions/hg38-blacklist.v2.bed'"
   ]
  },
  {
   "cell_type": "code",
   "execution_count": 43,
   "id": "314fa558",
   "metadata": {},
   "outputs": [],
   "source": [
    "f_cto_dir = 'pycistopic_consensus_peaks/cistopic_objs__consensus'\n",
    "if not os.path.exists(os.path.join(wdir, f_cto_dir)):\n",
    "    os.makedirs(os.path.join(wdir, f_cto_dir))"
   ]
  },
  {
   "cell_type": "code",
   "execution_count": 57,
   "id": "1e417d35",
   "metadata": {
    "tags": []
   },
   "outputs": [
    {
     "name": "stdout",
     "output_type": "stream",
     "text": [
      "2021-10-22 11:08:15,330 cisTopic     INFO     Reading data for VIB_Hydrop_1\n",
      "2021-10-22 11:08:38,294 cisTopic     INFO     metrics provided!\n",
      "2021-10-22 11:08:39,034 cisTopic     INFO     valid_bc provided, selecting barcodes!\n",
      "2021-10-22 11:08:39,545 cisTopic     INFO     Counting fragments in regions\n"
     ]
    },
    {
     "name": "stderr",
     "output_type": "stream",
     "text": [
      "2021-10-22 11:08:41,674\tINFO services.py:1263 -- View the Ray dashboard at \u001b[1m\u001b[32mhttp://127.0.0.1:8265\u001b[39m\u001b[22m\n"
     ]
    },
    {
     "name": "stdout",
     "output_type": "stream",
     "text": [
      "2021-10-22 11:08:52,620 cisTopic     INFO     Creating fragment matrix\n",
      "2021-10-22 11:08:58,264 cisTopic     INFO     Converting fragment matrix to sparse matrix\n",
      "2021-10-22 11:09:00,936 cisTopic     INFO     Removing blacklisted regions\n",
      "2021-10-22 11:09:01,425 cisTopic     INFO     Creating CistopicObject\n",
      "2021-10-22 11:09:01,727 cisTopic     INFO     Done!\n",
      "DONE VIB_Hydrop_1\n",
      "2021-10-22 11:09:02,240 cisTopic     INFO     Reading data for VIB_Hydrop_2\n",
      "2021-10-22 11:09:34,356 cisTopic     INFO     metrics provided!\n",
      "2021-10-22 11:09:35,327 cisTopic     INFO     valid_bc provided, selecting barcodes!\n",
      "2021-10-22 11:09:35,935 cisTopic     INFO     Counting fragments in regions\n"
     ]
    },
    {
     "name": "stderr",
     "output_type": "stream",
     "text": [
      "2021-10-22 11:09:38,302\tINFO services.py:1263 -- View the Ray dashboard at \u001b[1m\u001b[32mhttp://127.0.0.1:8265\u001b[39m\u001b[22m\n"
     ]
    },
    {
     "name": "stdout",
     "output_type": "stream",
     "text": [
      "2021-10-22 11:09:49,348 cisTopic     INFO     Creating fragment matrix\n",
      "2021-10-22 11:09:55,302 cisTopic     INFO     Converting fragment matrix to sparse matrix\n",
      "2021-10-22 11:09:57,067 cisTopic     INFO     Removing blacklisted regions\n",
      "2021-10-22 11:09:57,565 cisTopic     INFO     Creating CistopicObject\n",
      "2021-10-22 11:09:57,911 cisTopic     INFO     Done!\n",
      "DONE VIB_Hydrop_2\n"
     ]
    }
   ],
   "source": [
    "#Create all objects\n",
    "\n",
    "for key in fragments_dict.keys():\n",
    "    f_out = os.path.join(wdir, f_cto_dir, key + '__cistopic_obj_metadata.pkl')\n",
    "    if os.path.isfile(f_out):\n",
    "        print(f\"Skipping {key}\")\n",
    "        continue\n",
    "        \n",
    "    tmp_cto = create_cistopic_object_from_fragments(path_to_fragments=fragments_dict[key],\n",
    "                                                    path_to_regions=consensus_peaks_dict[key],\n",
    "                                                    path_to_blacklist=path_to_blacklist,\n",
    "                                                    metrics=metadata_bc_dict[key], # why is this greyed out\n",
    "                                                    valid_bc=bc_passing_filters[key],\n",
    "                                                    n_cpu=6,\n",
    "                                                    partition=20,\n",
    "                                                    project=key)\n",
    "    \n",
    "    with open(f_out, 'wb') as f:\n",
    "        pickle.dump(tmp_cto, f)\n",
    "    \n",
    "    print(f\"DONE {key}\")\n"
   ]
  },
  {
   "cell_type": "markdown",
   "id": "da8e03a1",
   "metadata": {},
   "source": [
    "# load all CTOs"
   ]
  },
  {
   "cell_type": "code",
   "execution_count": 14,
   "id": "b8fae19e",
   "metadata": {},
   "outputs": [
    {
     "name": "stdout",
     "output_type": "stream",
     "text": [
      "Loaded Broad_1\n",
      "Loaded Broad_2\n",
      "Loaded Broad_mito_1\n",
      "Loaded Broad_mito_2\n",
      "Loaded CNAG_1\n",
      "Loaded CNAG_2\n",
      "Loaded s3atac\n",
      "Loaded Sanger_1\n",
      "Loaded Sanger_2\n",
      "Loaded Stanford_1\n",
      "Loaded Stanford_2\n",
      "Loaded VIB_1\n",
      "Loaded VIB_2\n"
     ]
    }
   ],
   "source": [
    "# load objects into dict:\n",
    "cistopic_obj_dict = {}\n",
    "for key in bc_passing_filters.keys():\n",
    "    f_out = os.path.join(wdir, f_cto_merged_dir, key + '__cistopic_obj.pkl')\n",
    "    with open(f_out, 'rb') as f:\n",
    "        cistopic_obj_dict[key] = pickle.load(f)\n",
    "    print(f\"Loaded {key}\")"
   ]
  },
  {
   "cell_type": "markdown",
   "id": "44ed23f7",
   "metadata": {},
   "source": [
    "## Create a set of cisTopic objects for downstream analysis\n",
    "\n",
    "Include each sample individually (using the sample-specific consensus peaks), plus the merged sample (using the merged consensus peaks)."
   ]
  },
  {
   "cell_type": "code",
   "execution_count": 8,
   "id": "9c129df3",
   "metadata": {},
   "outputs": [
    {
     "name": "stdout",
     "output_type": "stream",
     "text": [
      "Loaded VIB_Hydrop_1\n",
      "Loaded VIB_Hydrop_2\n"
     ]
    }
   ],
   "source": [
    "f_cto_dir = 'pycistopic_consensus_peaks/cistopic_objs__consensus'\n",
    "\n",
    "cistopic_obj_dict = {}\n",
    "# load sample objects into dict:\n",
    "for key in fragments_dict.keys():\n",
    "    f_out = os.path.join(wdir, f_cto_dir, key + '__cistopic_obj_metadata.pkl')\n",
    "    with open(f_out, 'rb') as f:\n",
    "        cistopic_obj_dict[key] = pickle.load(f)\n",
    "    print(f\"Loaded {key}\")"
   ]
  },
  {
   "cell_type": "markdown",
   "id": "0a6886ed",
   "metadata": {},
   "source": [
    "## Add cell annotations"
   ]
  },
  {
   "cell_type": "code",
   "execution_count": 11,
   "id": "a4a77942",
   "metadata": {},
   "outputs": [],
   "source": [
    "import pandas as pd\n",
    "cellannot_dict = {}\n",
    "for key in fragments_dict.keys():\n",
    "    cellannot = pd.read_csv(\n",
    "    os.path.join('pycistopic_screen',key+'_cell_data.tsv'),\n",
    "    sep='\\t', index_col=0)\n",
    "    cellannot_dict[key] = cellannot"
   ]
  },
  {
   "cell_type": "code",
   "execution_count": 18,
   "id": "25029167",
   "metadata": {},
   "outputs": [
    {
     "name": "stdout",
     "output_type": "stream",
     "text": [
      "Columns ['consensus_cell_type'] will be overwritten\n",
      "Columns ['consensus_cell_type'] will be overwritten\n"
     ]
    }
   ],
   "source": [
    "for key in cellannot_dict.keys():\n",
    "    cistopic_obj_dict[key].add_cell_data(\n",
    "        cellannot_dict[key][['consensus_cell_type']]\n",
    "    )"
   ]
  },
  {
   "cell_type": "markdown",
   "id": "dfd38b5d",
   "metadata": {},
   "source": [
    "# save ctos"
   ]
  },
  {
   "cell_type": "code",
   "execution_count": 79,
   "id": "54d299ac",
   "metadata": {},
   "outputs": [
    {
     "name": "stdout",
     "output_type": "stream",
     "text": [
      "Generated and saved cistopic object for VIB_Hydrop_1\n",
      "Generated and saved cistopic object for VIB_Hydrop_2\n"
     ]
    }
   ],
   "source": [
    "f_cto_dir = 'pycistopic_consensus_peaks/cistopic_objs__consensus'\n",
    "\n",
    "if not os.path.exists(os.path.join(wdir, f_cto_dir)):\n",
    "    os.makedirs(os.path.join(wdir, f_cto_dir))\n",
    "\n",
    "for key in cistopic_obj_dict.keys():\n",
    "    f_out = os.path.join(wdir, f_cto_dir, key + '__cistopic_obj_metadata_annotated.pkl')\n",
    "    if os.path.isfile(f_out):\n",
    "        print(f\"Skipping {key}, already exists\")\n",
    "        continue\n",
    "    with open(f_out, 'wb') as f:\n",
    "        pickle.dump(cistopic_obj_dict[key], f)\n",
    "    print(f\"Generated and saved cistopic object for {key}\")"
   ]
  }
 ],
 "metadata": {
  "kernelspec": {
   "display_name": "pycisTopic_singularity_20210921",
   "language": "python",
   "name": "pycistopic_singularity"
  },
  "language_info": {
   "codemirror_mode": {
    "name": "ipython",
    "version": 3
   },
   "file_extension": ".py",
   "mimetype": "text/x-python",
   "name": "python",
   "nbconvert_exporter": "python",
   "pygments_lexer": "ipython3",
   "version": "3.8.6"
  }
 },
 "nbformat": 4,
 "nbformat_minor": 5
}
