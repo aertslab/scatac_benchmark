{
 "cells": [
  {
   "cell_type": "markdown",
   "id": "2be9b2b3",
   "metadata": {},
   "source": [
    "# what we're gonna do\n",
    "1. make union of all dars\n",
    "2. get cistopic b-cell bigwigs\n",
    "3. count reads in bigwigs in dars\n",
    "\n",
    "ok this won't work, because bigwigs lose count information (binned!)\n",
    "\n",
    "we will do this:\n",
    "1. get b-cell barcodes\n",
    "2. extract b-cells from bams\n",
    "3. make union of all dars\n",
    "4. cuont reads in b-cell dars in union dars\n",
    "\n",
    "wait, an even better method is\n",
    "1. get b-cell dar union\n",
    "2. count fragments in this new bed using cistopic!\n",
    "3. write matrix\n",
    "4. collapse b-cells\n",
    "5. correlate\n"
   ]
  },
  {
   "cell_type": "code",
   "execution_count": 1,
   "id": "7af8db21",
   "metadata": {},
   "outputs": [],
   "source": [
    "import pandas as pd\n",
    "import os"
   ]
  },
  {
   "cell_type": "code",
   "execution_count": 2,
   "id": "c25d8f63",
   "metadata": {},
   "outputs": [],
   "source": [
    "f_meta = os.path.join('/lustre1/project/stg_00002/lcb/fderop/data/20211024_hca_benchmark_libds_merged/libds_merged__cistopic_obj_mergedconsensus_metadata_annotated_models.tsv')\n",
    "df = pd.read_csv(f_meta, index_col=0, header=0, sep='\\t')"
   ]
  },
  {
   "cell_type": "code",
   "execution_count": 43,
   "id": "137c1020",
   "metadata": {},
   "outputs": [],
   "source": [
    "for sample in df['sample_id'].unique():\n",
    "    df[(df['sample_id'] == sample) & (df['consensus_cell_type'] == 'B cell')]['barcode'].to_csv(f'libds_bcell_barcodes/{sample}.txt', sep='\\t', header=None, index=None)"
   ]
  },
  {
   "cell_type": "code",
   "execution_count": 46,
   "id": "e1129b41",
   "metadata": {},
   "outputs": [
    {
     "data": {
      "text/plain": [
       "TCATTGACCTTACGCGGCTT-12-VIB_Hydrop_1    TCATTGACCTTACGCGGCTT-12\n",
       "GAGGACATAATAGCTGTTGG-12-VIB_Hydrop_1    GAGGACATAATAGCTGTTGG-12\n",
       "CGGTAACGCTCACCAACCTA-11-VIB_Hydrop_1    CGGTAACGCTCACCAACCTA-11\n",
       "ACCTACCTCCCTTGATTACG-11-VIB_Hydrop_1    ACCTACCTCCCTTGATTACG-11\n",
       "TCGGCATAGCTCGTTGGACT-12-VIB_Hydrop_1    TCGGCATAGCTCGTTGGACT-12\n",
       "                                                 ...           \n",
       "TTCAACCTGGACGAACCGAC-12-VIB_Hydrop_1    TTCAACCTGGACGAACCGAC-12\n",
       "CCTCAACGACTTAGTACCAG-12-VIB_Hydrop_1    CCTCAACGACTTAGTACCAG-12\n",
       "TAGAGCCTGAAGAGAATGTC-12-VIB_Hydrop_1    TAGAGCCTGAAGAGAATGTC-12\n",
       "CTGCATTCCGGTATGTGCGA-12-VIB_Hydrop_1    CTGCATTCCGGTATGTGCGA-12\n",
       "AATCGTGAGGTGAAGTACAC-11-VIB_Hydrop_1    AATCGTGAGGTGAAGTACAC-11\n",
       "Name: barcode, Length: 211, dtype: object"
      ]
     },
     "execution_count": 46,
     "metadata": {},
     "output_type": "execute_result"
    }
   ],
   "source": [
    "sample = 'VIB_Hydrop_1'\n",
    "df[(df['sample_id'] == sample) & (df['consensus_cell_type'] == 'B cell')]['barcode']"
   ]
  },
  {
   "cell_type": "code",
   "execution_count": 47,
   "id": "5e3b70ba",
   "metadata": {},
   "outputs": [
    {
     "data": {
      "text/plain": [
       "CTTGTGGAGACTAATGTGTG-21-VIB_Hydrop_2    CTTGTGGAGACTAATGTGTG-21\n",
       "TCCATGTCAAGCGCAGAGTA-21-VIB_Hydrop_2    TCCATGTCAAGCGCAGAGTA-21\n",
       "TACTCGCAGATAGCTGTTGG-22-VIB_Hydrop_2    TACTCGCAGATAGCTGTTGG-22\n",
       "GCATATAACCACCAATGCGC-22-VIB_Hydrop_2    GCATATAACCACCAATGCGC-22\n",
       "TCTACATCACCTTAGCACTC-22-VIB_Hydrop_2    TCTACATCACCTTAGCACTC-22\n",
       "                                                 ...           \n",
       "GTCAAGACCATTCGCACAAC-21-VIB_Hydrop_2    GTCAAGACCATTCGCACAAC-21\n",
       "GATAGTGGTCTCGAGTGATA-22-VIB_Hydrop_2    GATAGTGGTCTCGAGTGATA-22\n",
       "CAGATTGACCCTAACGGCTA-22-VIB_Hydrop_2    CAGATTGACCCTAACGGCTA-22\n",
       "GCGCCATAGTCCTGTCTGCA-22-VIB_Hydrop_2    GCGCCATAGTCCTGTCTGCA-22\n",
       "CCGACACCTATAGGCTGATT-22-VIB_Hydrop_2    CCGACACCTATAGGCTGATT-22\n",
       "Name: barcode, Length: 277, dtype: object"
      ]
     },
     "execution_count": 47,
     "metadata": {},
     "output_type": "execute_result"
    }
   ],
   "source": [
    "sample = 'VIB_Hydrop_2'\n",
    "df[(df['sample_id'] == sample) & (df['consensus_cell_type'] == 'B cell')]['barcode']"
   ]
  },
  {
   "cell_type": "code",
   "execution_count": null,
   "id": "4e0d1599",
   "metadata": {},
   "outputs": [],
   "source": []
  }
 ],
 "metadata": {
  "kernelspec": {
   "display_name": "Python 3.6",
   "language": "python",
   "name": "p36"
  },
  "language_info": {
   "codemirror_mode": {
    "name": "ipython",
    "version": 3
   },
   "file_extension": ".py",
   "mimetype": "text/x-python",
   "name": "python",
   "nbconvert_exporter": "python",
   "pygments_lexer": "ipython3",
   "version": "3.6.10"
  }
 },
 "nbformat": 4,
 "nbformat_minor": 5
}
