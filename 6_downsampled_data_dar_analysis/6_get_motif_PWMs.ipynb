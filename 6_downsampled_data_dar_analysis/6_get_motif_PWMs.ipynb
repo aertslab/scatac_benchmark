{
 "cells": [
  {
   "cell_type": "code",
   "execution_count": 28,
   "id": "7fe9c9ec",
   "metadata": {},
   "outputs": [],
   "source": [
    "convert_cbust_motif_to_pfm () {\n",
    "    local cbust_motif=\"${1}\";\n",
    "\n",
    "    if [ ${#@} -ne 1 ] ; then\n",
    "        printf 'Usage:   convert_cbust_motif_to_pfm [cbust_motif_file|motif_id]\\n';\n",
    "        printf 'Purpose: Create PFM from Cluster-Buster count matrix for usage with https://logojs.wenglab.org/app/create/\\n';\n",
    "        printf '         Choose: \"Paste data\" and paste the PFM motif and generate your logo (SVG/PNG).\\n';\n",
    "        \n",
    "        return 1;\n",
    "    fi\n",
    "\n",
    "    if [ -e \"${cbust_motif}\" ] ; then\n",
    "        awk -F '\\t' '{ if ( $1 !~ /^>/ && NF == 4 ) { row_sum = $1 + $2 + $3 + $4; print $1 / row_sum \"\\t\" $2 / row_sum \"\\t\" $3 / row_sum \"\\t\" $4 / row_sum;} }' \"${cbust_motif}\";\n",
    "    else\n",
    "        curl https://motifcollections.aertslab.org/v9/singletons/\"${cbust_motif}\".cb 2> /dev/null \\\n",
    "          | awk -F '\\t' '{ if ( $1 !~ /^>/ && NF == 4 ) { row_sum = $1 + $2 + $3 + $4; print $1 / row_sum \"\\t\" $2 / row_sum \"\\t\" $3 / row_sum \"\\t\" $4 / row_sum;} }';\n",
    "    fi\n",
    "}"
   ]
  },
  {
   "cell_type": "code",
   "execution_count": 39,
   "id": "dc9841e1",
   "metadata": {},
   "outputs": [
    {
     "name": "stdout",
     "output_type": "stream",
     "text": [
      "0.15\t0.4\t0.2\t0.25\n",
      "0.22\t0.16\t0.23\t0.39\n",
      "0.24\t0.33\t0.22\t0.21\n",
      "0.73\t0.1\t0.08\t0.09\n",
      "0\t0.01\t0\t0.99\n",
      "0.12\t0.04\t0\t0.84\n",
      "0.03\t0\t0\t0.97\n",
      "0.07\t0\t0.93\t0\n",
      "0.03\t0.97\t0\t0\n",
      "0.99\t0.01\t0\t0\n",
      "0\t0\t0\t1\n",
      "0.59\t0.04\t0.24\t0.13\n",
      "0.25\t0.18\t0.13\t0.44\n"
     ]
    }
   ],
   "source": [
    "motif=cisbp__M4486\n",
    "convert_cbust_motif_to_pfm $motif # | awk '{print $4 \"\\t\" $2 \"\\t\" $3 \"\\t\" $1}' # > pwms/$motif.tsv"
   ]
  },
  {
   "cell_type": "code",
   "execution_count": 33,
   "id": "3e8cde62",
   "metadata": {},
   "outputs": [
    {
     "name": "stdout",
     "output_type": "stream",
     "text": [
      "0.41\t0.07\t0.49\t0.03\n",
      "0.3\t0.27\t0.17\t0.26\n",
      "0.01\t0.23\t0.45\t0.31\n",
      "0.05\t0.68\t0.01\t0.26\n",
      "0.74\t0.03\t0.19\t0.04\n",
      "0.22\t0.29\t0.27\t0.22\n",
      "0\t0.31\t0.01\t0.68\n",
      "0.03\t0.54\t0.42\t0.01\n",
      "0.74\t0\t0.24\t0.02\n",
      "0.37\t0.07\t0.09\t0.47\n",
      "0.01\t0.29\t0.7\t0\n",
      "0\t0.92\t0.01\t0.07\n",
      "0.19\t0\t0.8\t0.01\n",
      "0.03\t0.04\t0.07\t0.86\n",
      "0.25\t0.01\t0.72\t0.02\n",
      "0.76\t0.02\t0.09\t0.13\n",
      "0.12\t0.85\t0.01\t0.02\n",
      "0.17\t0.31\t0.39\t0.13\n"
     ]
    }
   ],
   "source": [
    "motif=cisbp__M5707\n",
    "convert_cbust_motif_to_pfm $motif # > pwms/$motif.tsv"
   ]
  },
  {
   "cell_type": "code",
   "execution_count": 31,
   "id": "8354bb45",
   "metadata": {},
   "outputs": [
    {
     "name": "stdout",
     "output_type": "stream",
     "text": [
      "0.417249\t0.0955711\t0.300699\t0.18648\n",
      "0.121212\t0.188811\t0.477855\t0.212121\n",
      "0.025641\t0.335664\t0.0559441\t0.582751\n",
      "0.002331\t0.988345\t0.00699301\t0.002331\n",
      "0.004662\t0.794872\t0.004662\t0.195804\n",
      "0.004662\t0.97669\t0.004662\t0.013986\n",
      "0.403263\t0.041958\t0.0815851\t0.473193\n",
      "0.188811\t0.037296\t0.675991\t0.0979021\n",
      "0.011655\t0.011655\t0.967366\t0.00932401\n",
      "0.111888\t0\t0.888112\t0\n",
      "0\t0\t1\t0\n",
      "0.848485\t0.018648\t0.121212\t0.011655\n",
      "0.198135\t0.433566\t0.300699\t0.0675991\n"
     ]
    }
   ],
   "source": [
    "motif=hocomoco__COE1_MOUSE.H11MO.0.A\n",
    "convert_cbust_motif_to_pfm $motif # > pwms/$motif.tsv"
   ]
  },
  {
   "cell_type": "code",
   "execution_count": 32,
   "id": "2c81ee62",
   "metadata": {},
   "outputs": [
    {
     "name": "stdout",
     "output_type": "stream",
     "text": [
      "0.354\t0.176\t0.324\t0.146\n",
      "0.53\t0.112\t0.192\t0.166\n",
      "0.652\t0.072\t0.112\t0.164\n",
      "0.488\t0.06\t0.194\t0.258\n",
      "0.236\t0.126\t0.574\t0.064\n",
      "0.512\t0.146\t0.304\t0.038\n",
      "0.214\t0.004\t0.76\t0.022\n",
      "0.03\t0.016\t0.952\t0.002\n",
      "0.97\t0.018\t0.004\t0.008\n",
      "0.96\t0.004\t0.01\t0.026\n",
      "0.058\t0.438\t0.48\t0.024\n",
      "0.068\t0.084\t0.022\t0.826\n",
      "0.036\t0.016\t0.944\t0.004\n",
      "0.9\t0.004\t0.084\t0.012\n",
      "0.692\t0.028\t0.26\t0.02\n",
      "0.936\t0.032\t0.018\t0.014\n",
      "0.168\t0.444\t0.35\t0.038\n",
      "0.208\t0.276\t0.094\t0.422\n"
     ]
    }
   ],
   "source": [
    "motif=hocomoco__IRF4_HUMAN.H11MO.0.A\n",
    "convert_cbust_motif_to_pfm $motif # > pwms/$motif.tsv"
   ]
  },
  {
   "cell_type": "code",
   "execution_count": 37,
   "id": "6a81cc93",
   "metadata": {},
   "outputs": [
    {
     "name": "stdout",
     "output_type": "stream",
     "text": [
      "0.29154\t0.277783\t0.347188\t0.0834889\n",
      "0\t1\t0\t0\n",
      "1\t0\t0\t0\n",
      "0\t0.915555\t0.0255795\t0.0588659\n",
      "0.00934488\t0.818618\t0.172037\t0\n",
      "0\t0\t0\t1\n",
      "0\t0\t1\t0\n",
      "0.0901677\t0.529805\t0.139395\t0.240633\n"
     ]
    }
   ],
   "source": [
    "motif=taipale_cyt_meth__TCF4_NCACSTGN_eDBD\n",
    "convert_cbust_motif_to_pfm $motif # > pwms/$motif.tsv"
   ]
  },
  {
   "cell_type": "markdown",
   "id": "5c0d5392",
   "metadata": {},
   "source": [
    "motifs used in the homer analysis:"
   ]
  },
  {
   "cell_type": "markdown",
   "id": "9e368077",
   "metadata": {},
   "source": [
    "now, use this tool here: https://logojs.wenglab.org/app/create/"
   ]
  },
  {
   "cell_type": "code",
   "execution_count": null,
   "id": "290009ff",
   "metadata": {},
   "outputs": [],
   "source": []
  }
 ],
 "metadata": {
  "kernelspec": {
   "display_name": "Bash",
   "language": "bash",
   "name": "bash"
  },
  "language_info": {
   "codemirror_mode": "shell",
   "file_extension": ".sh",
   "mimetype": "text/x-sh",
   "name": "bash"
  }
 },
 "nbformat": 4,
 "nbformat_minor": 5
}
