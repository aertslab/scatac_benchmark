{
 "cells": [
  {
   "cell_type": "markdown",
   "metadata": {},
   "source": [
    "all files can be found here:"
   ]
  },
  {
   "cell_type": "code",
   "execution_count": 32,
   "metadata": {},
   "outputs": [
    {
     "name": "stdout",
     "output_type": "stream",
     "text": [
      "/lustre1/project/stg_00002/lcb/fderop/data/20211122_hca_benchmark_libds_dar_correlation_with_final_dars\n"
     ]
    }
   ],
   "source": [
    "!pwd"
   ]
  },
  {
   "cell_type": "code",
   "execution_count": 1,
   "metadata": {},
   "outputs": [],
   "source": [
    "import matplotlib as mpl\n",
    "import matplotlib.gridspec as gridspec\n",
    "import matplotlib.pyplot as plt\n",
    "import matplotlib.patches as mpatches\n",
    "import numpy as np\n",
    "import pyBigWig\n",
    "import seaborn as sns\n",
    "from pybedtools import BedTool\n",
    "import re"
   ]
  },
  {
   "cell_type": "code",
   "execution_count": 2,
   "metadata": {},
   "outputs": [],
   "source": [
    "import glob as glob\n",
    "import pandas as pd\n",
    "import matplotlib.pyplot as plt\n",
    "from collections import OrderedDict"
   ]
  },
  {
   "cell_type": "markdown",
   "metadata": {},
   "source": [
    "## general script overview:  \n",
    "first, you supply regions that you wish to plot. you also supply genes that you wish to plot in each of those regions. the script will then check if the genes you wish to plot are present within that specific region, using a gtf you supply. if the gene is present with that region, it will be plotted under all the bigwig graphs.  \n",
    "  \n",
    "then, you also provide bigwig files for each sample and optionally peak/DAR bed files.  \n",
    "the script will iterate over every region (=column in final figure). within each region iteration, it then iterates over all samples you supply. first, it draws the bigwig signal within that region. standard, the y limits for ALL bigwigs in the plot will be the same, defined as the maximum found signal found in all bigwigs, in all regions you want to draw. then, it draws optional peaks and DARs. finally, it will draw a gene body (with introns/exons) of the genes you want it to draw (of course, if they overlap the region you are drawing)"
   ]
  },
  {
   "cell_type": "markdown",
   "metadata": {},
   "source": [
    "define regions to plot in regions_dict and create a bedtool object/dictionary from the regions"
   ]
  },
  {
   "cell_type": "code",
   "execution_count": 3,
   "metadata": {},
   "outputs": [],
   "source": [
    "regions_dict = {'CD19': 'chr16:28,930,032-28,933,032',\n",
    "            'MS4A1': 'chr11:60,455,163-60,458,163',\n",
    "                'GAPDH': 'chr12:6,533,955-6,536,955'\n",
    "           }\n",
    "regions_dict = OrderedDict(regions_dict)\n",
    "\n",
    "regions_df = pd.DataFrame(columns=['chrom', 'start', 'end'])\n",
    "for key in regions_dict.keys():\n",
    "    row = list(regions_dict.keys()).index(key)\n",
    "    chrom, start, end = re.split(\":|-\", regions_dict[key])\n",
    "    start = int(re.sub(\",\", \"\", start))\n",
    "    end = int(re.sub(\",\", \"\", end))\n",
    "    \n",
    "    region = pd.DataFrame(columns=['chrom', 'start', 'end'], index=[key])\n",
    "    region['chrom'] = chrom\n",
    "    region['start'] = start\n",
    "    region['end'] = end\n",
    "    regions_df = pd.concat([regions_df, region], axis=0)\n",
    "\n",
    "bedtool_obj = BedTool.from_dataframe(df=regions_df)"
   ]
  },
  {
   "cell_type": "markdown",
   "metadata": {},
   "source": [
    "for each region, define which genes to plot. the script automatically checks if each gene body overlaps the region (using `gtf_file`), and plots accordingly. each entry must be a list, otherwise script will iterate over each character in the gene name. also, script may crash if the gene list is empty for a given region."
   ]
  },
  {
   "cell_type": "code",
   "execution_count": 4,
   "metadata": {},
   "outputs": [],
   "source": [
    "genes_dict = {\n",
    "    'CD19':['CD19'],\n",
    "    'MS4A1':['MS4A1'],\n",
    "    'GAPDH':['GAPDH']\n",
    "}\n",
    "max_genes = max([len((genes_dict[key])) for key in genes_dict.keys()])\n",
    "\n",
    "gtf_file = \"/lustre1/project/stg_00002/lcb/fderop/data/00000000_genomes/GRCh38_STAR_2.7.5_rna/genes.gtf\""
   ]
  },
  {
   "cell_type": "markdown",
   "metadata": {},
   "source": [
    "define paths to bigwig"
   ]
  },
  {
   "cell_type": "code",
   "execution_count": 5,
   "metadata": {},
   "outputs": [],
   "source": [
    "filenames = sorted(glob.glob('libds_bcell_bws/*.bw'))\n",
    "samples = [item.replace(\"_bcells.bw\", \"\") for item in filenames]\n",
    "samples = [item.replace(\"libds_bcell_bws/libds__\", \"\") for item in samples]\n",
    "bw_dict = {samples[i]: filenames[i] for i in range(len(samples))}\n",
    "bw_dict = OrderedDict(bw_dict)"
   ]
  },
  {
   "cell_type": "markdown",
   "metadata": {},
   "source": [
    "for each region, calculate the maximum bw value in that region. this will be used as the maximum for all bws plotted in that region (so that the heights can be compared)"
   ]
  },
  {
   "cell_type": "code",
   "execution_count": 6,
   "metadata": {},
   "outputs": [
    {
     "name": "stdout",
     "output_type": "stream",
     "text": [
      "calculated max values within region CD19\n",
      "calculated max values within region MS4A1\n",
      "calculated max values within region GAPDH\n"
     ]
    }
   ],
   "source": [
    "## calculate bw_ymax per col\n",
    "region_max_dict = {}\n",
    "for region_name in regions_df.index:\n",
    "    chrom, start, end = tuple(regions_df.loc[region_name])\n",
    "    \n",
    "    bw_ymax_dict = {}\n",
    "    for key in bw_dict.keys():\n",
    "        bw_file = bw_dict[key]\n",
    "\n",
    "        # calculate max value of the bigwig within our region\n",
    "        bw = pyBigWig.open(bw_file)\n",
    "        y = bw.values(chrom, start, end)\n",
    "        y = np.nan_to_num(y)\n",
    "\n",
    "        bw_ymax_dict[key] = y.max()\n",
    "    \n",
    "    region_max_dict[region_name] = bw_ymax_dict[max(bw_ymax_dict, key=bw_ymax_dict.get)]\n",
    "    print(f'calculated max values within region {region_name}')"
   ]
  },
  {
   "cell_type": "code",
   "execution_count": 7,
   "metadata": {},
   "outputs": [
    {
     "data": {
      "text/plain": [
       "{'CD19': 9.333516120910645,\n",
       " 'MS4A1': 31.557514190673828,\n",
       " 'GAPDH': 11.382336616516113}"
      ]
     },
     "execution_count": 7,
     "metadata": {},
     "output_type": "execute_result"
    }
   ],
   "source": [
    "region_max_dict"
   ]
  },
  {
   "cell_type": "markdown",
   "metadata": {},
   "source": [
    "if you want, you can add DARs and peaks:"
   ]
  },
  {
   "cell_type": "code",
   "execution_count": 8,
   "metadata": {},
   "outputs": [],
   "source": [
    "filenames = sorted(glob.glob('libds_bcell_dars_for_heatmap/*.bed'))\n",
    "samples = [item.replace(\"__B_cell__DARs.bed\", \"\") for item in filenames]\n",
    "samples = [item.replace(\"libds_bcell_dars_for_heatmap/libds__\", \"\") for item in samples]\n",
    "dar_dict = {samples[i]: filenames[i] for i in range(len(samples))}\n",
    "dar_dict = OrderedDict(dar_dict)"
   ]
  },
  {
   "cell_type": "code",
   "execution_count": 9,
   "metadata": {},
   "outputs": [],
   "source": [
    "filenames = sorted(glob.glob('libds_peaks/*.bed'))\n",
    "samples = [item.replace(\"__consensus_regions.bed\", \"\") for item in filenames]\n",
    "samples = [item.replace(\"libds_peaks/\", \"\") for item in samples]\n",
    "peak_dict = {samples[i]: filenames[i] for i in range(len(samples))}\n",
    "peak_dict = OrderedDict(peak_dict)"
   ]
  },
  {
   "cell_type": "markdown",
   "metadata": {},
   "source": [
    "alias and color dictionary"
   ]
  },
  {
   "cell_type": "code",
   "execution_count": 10,
   "metadata": {},
   "outputs": [],
   "source": [
    "# display names of each sample. NOTE: the samples will be dislpayed in the order of this dict!\n",
    "alias_dict = OrderedDict({\n",
    "    \"Harvard_1\": \"BioRad ATAC 1\",\n",
    "    \"Harvard_2\": \"BioRad ATAC 2\",\n",
    "    \"Stanford_1\": \"10x ATAC A1\",\n",
    "    \"Stanford_2\": \"10x ATAC A2\",\n",
    "    \"VIB_1\": \"10x ATAC B1\",\n",
    "    \"VIB_2\": \"10x ATAC B2\",\n",
    "    \"CNAG_1\": \"10x ATAC C1\",\n",
    "    \"CNAG_2\": \"10x ATAC C2\",\n",
    "    \"Broad_1\": \"10x mtATAC 1\",\n",
    "    \"Broad_2\": \"10x mtATAC 2\",\n",
    "    \"Sanger_1\": \"10x Multiome 1\",\n",
    "    \"Sanger_2\": \"10x Multiome 2\",\n",
    "    \"VIB_Hydrop_1\": \"Hydrop ATAC 1\",\n",
    "    \"VIB_Hydrop_2\": \"Hydrop ATAC 2\",\n",
    "    \"OHSU\": \"s3 ATAC\",\n",
    "    \"merged\": \"Merged\"\n",
    "})"
   ]
  },
  {
   "cell_type": "code",
   "execution_count": 11,
   "metadata": {},
   "outputs": [],
   "source": [
    "color_dict = OrderedDict({\n",
    "    \"Broad_1\": \"#9467bd\",\n",
    "    \"Broad_2\": \"#c5b0d5\",\n",
    "    \"CNAG_1\": \"#d62728\",\n",
    "    \"CNAG_2\": \"#ff9896\",\n",
    "    \"Harvard_1\": \"#1f77b4\",\n",
    "    \"Harvard_2\": \"#aec7e8\",\n",
    "    \"Sanger_1\": \"#8c564b\",\n",
    "    \"Sanger_2\": \"#c49c94\",\n",
    "    \"Stanford_1\": \"#ff7f0e\",\n",
    "    \"Stanford_2\": \"#ffbb78\",\n",
    "    \"VIB_1\": \"#2ca02c\",\n",
    "    \"VIB_2\": \"#98df8a\",\n",
    "    \"VIB_Hydrop_1\": \"#e377c2\",\n",
    "    \"VIB_Hydrop_2\": \"#f7b6d2\",\n",
    "    \"OHSU\": \"#7f7f7f\",\n",
    "    \"merged\": \"#111111\"\n",
    "})"
   ]
  },
  {
   "cell_type": "markdown",
   "metadata": {},
   "source": [
    "now make sure that the dictionary keys correspond"
   ]
  },
  {
   "cell_type": "code",
   "execution_count": 12,
   "metadata": {},
   "outputs": [
    {
     "data": {
      "text/plain": [
       "True"
      ]
     },
     "execution_count": 12,
     "metadata": {},
     "output_type": "execute_result"
    }
   ],
   "source": [
    "color_dict.keys() == set(alias_dict.keys()) == bw_dict.keys() == dar_dict.keys() == peak_dict.keys()"
   ]
  },
  {
   "cell_type": "markdown",
   "metadata": {},
   "source": [
    "define some plot parameters:"
   ]
  },
  {
   "cell_type": "code",
   "execution_count": 13,
   "metadata": {},
   "outputs": [],
   "source": [
    "dar_color = 'b'\n",
    "peak_color = 'k'"
   ]
  },
  {
   "cell_type": "code",
   "execution_count": 14,
   "metadata": {},
   "outputs": [],
   "source": [
    "gene_height = 3\n",
    "gene_bottom = -gene_height/2\n",
    "\n",
    "exon_height = 6\n",
    "exon_bottom = -exon_height/2"
   ]
  },
  {
   "cell_type": "code",
   "execution_count": 15,
   "metadata": {},
   "outputs": [],
   "source": [
    "def addax():\n",
    "    ax.set_xlim([x.min(), x.max()])\n",
    "    sns.despine(top=True, right=True, left=True, bottom=True, ax=ax)\n",
    "    ax.set_xticks([])\n",
    "    ax.set_yticks([])\n",
    "    ax.patch.set_alpha(0) # make sure that each individual subplot is transparent! otherwise the underlying plots won't be shown. this is important e.g. for the dar/peak visualisaton, since the DARs are drawn directly on top of the peaks. if the DAR plot is not transparent, no peaks will be visible!!\n",
    "\n",
    "    fig.add_subplot(ax)"
   ]
  },
  {
   "cell_type": "code",
   "execution_count": 16,
   "metadata": {},
   "outputs": [],
   "source": [
    "verbose = True"
   ]
  },
  {
   "cell_type": "code",
   "execution_count": 30,
   "metadata": {},
   "outputs": [],
   "source": [
    "figsize = (6,8)"
   ]
  },
  {
   "cell_type": "code",
   "execution_count": 31,
   "metadata": {},
   "outputs": [
    {
     "name": "stdout",
     "output_type": "stream",
     "text": [
      "drawing column for region CD19\n",
      "\tHarvard_1: alias BioRad ATAC 1\n",
      "\t\tbw: libds_bcell_bws/libds__Harvard_1_bcells.bw\n",
      "\t\tdar: libds_bcell_dars_for_heatmap/libds__Harvard_1__B_cell__DARs.bed\n",
      "\tHarvard_2: alias BioRad ATAC 2\n",
      "\t\tbw: libds_bcell_bws/libds__Harvard_2_bcells.bw\n",
      "\t\tdar: libds_bcell_dars_for_heatmap/libds__Harvard_2__B_cell__DARs.bed\n",
      "\tStanford_1: alias 10x ATAC A1\n",
      "\t\tbw: libds_bcell_bws/libds__Stanford_1_bcells.bw\n",
      "\t\tdar: libds_bcell_dars_for_heatmap/libds__Stanford_1__B_cell__DARs.bed\n",
      "\tStanford_2: alias 10x ATAC A2\n",
      "\t\tbw: libds_bcell_bws/libds__Stanford_2_bcells.bw\n",
      "\t\tdar: libds_bcell_dars_for_heatmap/libds__Stanford_2__B_cell__DARs.bed\n",
      "\tVIB_1: alias 10x ATAC B1\n",
      "\t\tbw: libds_bcell_bws/libds__VIB_1_bcells.bw\n",
      "\t\tdar: libds_bcell_dars_for_heatmap/libds__VIB_1__B_cell__DARs.bed\n",
      "\tVIB_2: alias 10x ATAC B2\n",
      "\t\tbw: libds_bcell_bws/libds__VIB_2_bcells.bw\n",
      "\t\tdar: libds_bcell_dars_for_heatmap/libds__VIB_2__B_cell__DARs.bed\n",
      "\tCNAG_1: alias 10x ATAC C1\n",
      "\t\tbw: libds_bcell_bws/libds__CNAG_1_bcells.bw\n",
      "\t\tdar: libds_bcell_dars_for_heatmap/libds__CNAG_1__B_cell__DARs.bed\n",
      "\tCNAG_2: alias 10x ATAC C2\n",
      "\t\tbw: libds_bcell_bws/libds__CNAG_2_bcells.bw\n",
      "\t\tdar: libds_bcell_dars_for_heatmap/libds__CNAG_2__B_cell__DARs.bed\n",
      "\tBroad_1: alias 10x mtATAC 1\n",
      "\t\tbw: libds_bcell_bws/libds__Broad_1_bcells.bw\n",
      "\t\tdar: libds_bcell_dars_for_heatmap/libds__Broad_1__B_cell__DARs.bed\n",
      "\tBroad_2: alias 10x mtATAC 2\n",
      "\t\tbw: libds_bcell_bws/libds__Broad_2_bcells.bw\n",
      "\t\tdar: libds_bcell_dars_for_heatmap/libds__Broad_2__B_cell__DARs.bed\n",
      "\tSanger_1: alias 10x Multiome 1\n",
      "\t\tbw: libds_bcell_bws/libds__Sanger_1_bcells.bw\n",
      "\t\tdar: libds_bcell_dars_for_heatmap/libds__Sanger_1__B_cell__DARs.bed\n",
      "\tSanger_2: alias 10x Multiome 2\n",
      "\t\tbw: libds_bcell_bws/libds__Sanger_2_bcells.bw\n",
      "\t\tdar: libds_bcell_dars_for_heatmap/libds__Sanger_2__B_cell__DARs.bed\n",
      "\tVIB_Hydrop_1: alias Hydrop ATAC 1\n",
      "\t\tbw: libds_bcell_bws/libds__VIB_Hydrop_1_bcells.bw\n",
      "\t\tdar: libds_bcell_dars_for_heatmap/libds__VIB_Hydrop_1__B_cell__DARs.bed\n",
      "\tVIB_Hydrop_2: alias Hydrop ATAC 2\n",
      "\t\tbw: libds_bcell_bws/libds__VIB_Hydrop_2_bcells.bw\n",
      "\t\tdar: libds_bcell_dars_for_heatmap/libds__VIB_Hydrop_2__B_cell__DARs.bed\n",
      "\tOHSU: alias s3 ATAC\n",
      "\t\tbw: libds_bcell_bws/libds__OHSU_bcells.bw\n",
      "\t\tdar: libds_bcell_dars_for_heatmap/libds__OHSU__B_cell__DARs.bed\n",
      "\tmerged: alias Merged\n",
      "\t\tbw: libds_bcell_bws/libds__merged_bcells.bw\n",
      "\t\tdar: libds_bcell_dars_for_heatmap/libds__merged__B_cell__DARs.bed\n"
     ]
    },
    {
     "name": "stderr",
     "output_type": "stream",
     "text": [
      "/staging/leuven/stg_00002/lcb/fderop/software_2/anaconda3/lib/python3.7/site-packages/pybedtools/bedtool.py:3681: UserWarning: Default names for filetype gff are:\n",
      "['seqname', 'source', 'feature', 'start', 'end', 'score', 'strand', 'frame', 'attributes']\n",
      "but file has 12 fields; you can supply custom names with the `names` kwarg\n",
      "  \"`names` kwarg\" % (self.file_type, _names, self.field_count())\n"
     ]
    },
    {
     "name": "stdout",
     "output_type": "stream",
     "text": [
      "\tfor region CD19, drew gene CD19, 10 individual items drawn\n",
      "\n",
      "drawing column for region MS4A1\n",
      "\tHarvard_1: alias BioRad ATAC 1\n",
      "\t\tbw: libds_bcell_bws/libds__Harvard_1_bcells.bw\n",
      "\t\tdar: libds_bcell_dars_for_heatmap/libds__Harvard_1__B_cell__DARs.bed\n",
      "\tHarvard_2: alias BioRad ATAC 2\n",
      "\t\tbw: libds_bcell_bws/libds__Harvard_2_bcells.bw\n",
      "\t\tdar: libds_bcell_dars_for_heatmap/libds__Harvard_2__B_cell__DARs.bed\n",
      "\tStanford_1: alias 10x ATAC A1\n",
      "\t\tbw: libds_bcell_bws/libds__Stanford_1_bcells.bw\n",
      "\t\tdar: libds_bcell_dars_for_heatmap/libds__Stanford_1__B_cell__DARs.bed\n",
      "\tStanford_2: alias 10x ATAC A2\n",
      "\t\tbw: libds_bcell_bws/libds__Stanford_2_bcells.bw\n",
      "\t\tdar: libds_bcell_dars_for_heatmap/libds__Stanford_2__B_cell__DARs.bed\n",
      "\tVIB_1: alias 10x ATAC B1\n",
      "\t\tbw: libds_bcell_bws/libds__VIB_1_bcells.bw\n",
      "\t\tdar: libds_bcell_dars_for_heatmap/libds__VIB_1__B_cell__DARs.bed\n",
      "\tVIB_2: alias 10x ATAC B2\n",
      "\t\tbw: libds_bcell_bws/libds__VIB_2_bcells.bw\n",
      "\t\tdar: libds_bcell_dars_for_heatmap/libds__VIB_2__B_cell__DARs.bed\n",
      "\tCNAG_1: alias 10x ATAC C1\n",
      "\t\tbw: libds_bcell_bws/libds__CNAG_1_bcells.bw\n",
      "\t\tdar: libds_bcell_dars_for_heatmap/libds__CNAG_1__B_cell__DARs.bed\n",
      "\tCNAG_2: alias 10x ATAC C2\n",
      "\t\tbw: libds_bcell_bws/libds__CNAG_2_bcells.bw\n",
      "\t\tdar: libds_bcell_dars_for_heatmap/libds__CNAG_2__B_cell__DARs.bed\n",
      "\tBroad_1: alias 10x mtATAC 1\n",
      "\t\tbw: libds_bcell_bws/libds__Broad_1_bcells.bw\n",
      "\t\tdar: libds_bcell_dars_for_heatmap/libds__Broad_1__B_cell__DARs.bed\n",
      "\tBroad_2: alias 10x mtATAC 2\n",
      "\t\tbw: libds_bcell_bws/libds__Broad_2_bcells.bw\n",
      "\t\tdar: libds_bcell_dars_for_heatmap/libds__Broad_2__B_cell__DARs.bed\n",
      "\tSanger_1: alias 10x Multiome 1\n",
      "\t\tbw: libds_bcell_bws/libds__Sanger_1_bcells.bw\n",
      "\t\tdar: libds_bcell_dars_for_heatmap/libds__Sanger_1__B_cell__DARs.bed\n",
      "\tSanger_2: alias 10x Multiome 2\n",
      "\t\tbw: libds_bcell_bws/libds__Sanger_2_bcells.bw\n",
      "\t\tdar: libds_bcell_dars_for_heatmap/libds__Sanger_2__B_cell__DARs.bed\n",
      "\tVIB_Hydrop_1: alias Hydrop ATAC 1\n",
      "\t\tbw: libds_bcell_bws/libds__VIB_Hydrop_1_bcells.bw\n",
      "\t\tdar: libds_bcell_dars_for_heatmap/libds__VIB_Hydrop_1__B_cell__DARs.bed\n",
      "\tVIB_Hydrop_2: alias Hydrop ATAC 2\n",
      "\t\tbw: libds_bcell_bws/libds__VIB_Hydrop_2_bcells.bw\n",
      "\t\tdar: libds_bcell_dars_for_heatmap/libds__VIB_Hydrop_2__B_cell__DARs.bed\n",
      "\tOHSU: alias s3 ATAC\n",
      "\t\tbw: libds_bcell_bws/libds__OHSU_bcells.bw\n",
      "\t\tdar: libds_bcell_dars_for_heatmap/libds__OHSU__B_cell__DARs.bed\n",
      "\tmerged: alias Merged\n",
      "\t\tbw: libds_bcell_bws/libds__merged_bcells.bw\n",
      "\t\tdar: libds_bcell_dars_for_heatmap/libds__merged__B_cell__DARs.bed\n"
     ]
    },
    {
     "name": "stderr",
     "output_type": "stream",
     "text": [
      "/staging/leuven/stg_00002/lcb/fderop/software_2/anaconda3/lib/python3.7/site-packages/pybedtools/bedtool.py:3681: UserWarning: Default names for filetype gff are:\n",
      "['seqname', 'source', 'feature', 'start', 'end', 'score', 'strand', 'frame', 'attributes']\n",
      "but file has 12 fields; you can supply custom names with the `names` kwarg\n",
      "  \"`names` kwarg\" % (self.file_type, _names, self.field_count())\n"
     ]
    },
    {
     "name": "stdout",
     "output_type": "stream",
     "text": [
      "\tfor region MS4A1, drew gene MS4A1, 5 individual items drawn\n",
      "\n",
      "drawing column for region GAPDH\n",
      "\tHarvard_1: alias BioRad ATAC 1\n",
      "\t\tbw: libds_bcell_bws/libds__Harvard_1_bcells.bw\n",
      "\t\tdar: libds_bcell_dars_for_heatmap/libds__Harvard_1__B_cell__DARs.bed\n",
      "\tHarvard_2: alias BioRad ATAC 2\n",
      "\t\tbw: libds_bcell_bws/libds__Harvard_2_bcells.bw\n",
      "\t\tdar: libds_bcell_dars_for_heatmap/libds__Harvard_2__B_cell__DARs.bed\n",
      "\tStanford_1: alias 10x ATAC A1\n",
      "\t\tbw: libds_bcell_bws/libds__Stanford_1_bcells.bw\n",
      "\t\tdar: libds_bcell_dars_for_heatmap/libds__Stanford_1__B_cell__DARs.bed\n",
      "\tStanford_2: alias 10x ATAC A2\n",
      "\t\tbw: libds_bcell_bws/libds__Stanford_2_bcells.bw\n",
      "\t\tdar: libds_bcell_dars_for_heatmap/libds__Stanford_2__B_cell__DARs.bed\n",
      "\tVIB_1: alias 10x ATAC B1\n",
      "\t\tbw: libds_bcell_bws/libds__VIB_1_bcells.bw\n",
      "\t\tdar: libds_bcell_dars_for_heatmap/libds__VIB_1__B_cell__DARs.bed\n",
      "\tVIB_2: alias 10x ATAC B2\n",
      "\t\tbw: libds_bcell_bws/libds__VIB_2_bcells.bw\n",
      "\t\tdar: libds_bcell_dars_for_heatmap/libds__VIB_2__B_cell__DARs.bed\n",
      "\tCNAG_1: alias 10x ATAC C1\n",
      "\t\tbw: libds_bcell_bws/libds__CNAG_1_bcells.bw\n",
      "\t\tdar: libds_bcell_dars_for_heatmap/libds__CNAG_1__B_cell__DARs.bed\n",
      "\tCNAG_2: alias 10x ATAC C2\n",
      "\t\tbw: libds_bcell_bws/libds__CNAG_2_bcells.bw\n",
      "\t\tdar: libds_bcell_dars_for_heatmap/libds__CNAG_2__B_cell__DARs.bed\n",
      "\tBroad_1: alias 10x mtATAC 1\n",
      "\t\tbw: libds_bcell_bws/libds__Broad_1_bcells.bw\n",
      "\t\tdar: libds_bcell_dars_for_heatmap/libds__Broad_1__B_cell__DARs.bed\n",
      "\tBroad_2: alias 10x mtATAC 2\n",
      "\t\tbw: libds_bcell_bws/libds__Broad_2_bcells.bw\n",
      "\t\tdar: libds_bcell_dars_for_heatmap/libds__Broad_2__B_cell__DARs.bed\n",
      "\tSanger_1: alias 10x Multiome 1\n",
      "\t\tbw: libds_bcell_bws/libds__Sanger_1_bcells.bw\n",
      "\t\tdar: libds_bcell_dars_for_heatmap/libds__Sanger_1__B_cell__DARs.bed\n",
      "\tSanger_2: alias 10x Multiome 2\n",
      "\t\tbw: libds_bcell_bws/libds__Sanger_2_bcells.bw\n",
      "\t\tdar: libds_bcell_dars_for_heatmap/libds__Sanger_2__B_cell__DARs.bed\n",
      "\tVIB_Hydrop_1: alias Hydrop ATAC 1\n",
      "\t\tbw: libds_bcell_bws/libds__VIB_Hydrop_1_bcells.bw\n",
      "\t\tdar: libds_bcell_dars_for_heatmap/libds__VIB_Hydrop_1__B_cell__DARs.bed\n",
      "\tVIB_Hydrop_2: alias Hydrop ATAC 2\n",
      "\t\tbw: libds_bcell_bws/libds__VIB_Hydrop_2_bcells.bw\n",
      "\t\tdar: libds_bcell_dars_for_heatmap/libds__VIB_Hydrop_2__B_cell__DARs.bed\n",
      "\tOHSU: alias s3 ATAC\n",
      "\t\tbw: libds_bcell_bws/libds__OHSU_bcells.bw\n",
      "\t\tdar: libds_bcell_dars_for_heatmap/libds__OHSU__B_cell__DARs.bed\n",
      "\tmerged: alias Merged\n",
      "\t\tbw: libds_bcell_bws/libds__merged_bcells.bw\n",
      "\t\tdar: libds_bcell_dars_for_heatmap/libds__merged__B_cell__DARs.bed\n"
     ]
    },
    {
     "name": "stderr",
     "output_type": "stream",
     "text": [
      "/staging/leuven/stg_00002/lcb/fderop/software_2/anaconda3/lib/python3.7/site-packages/pybedtools/bedtool.py:3681: UserWarning: Default names for filetype gff are:\n",
      "['seqname', 'source', 'feature', 'start', 'end', 'score', 'strand', 'frame', 'attributes']\n",
      "but file has 12 fields; you can supply custom names with the `names` kwarg\n",
      "  \"`names` kwarg\" % (self.file_type, _names, self.field_count())\n"
     ]
    },
    {
     "name": "stdout",
     "output_type": "stream",
     "text": [
      "\tfor region GAPDH, drew gene GAPDH, 27 individual items drawn\n",
      "\n"
     ]
    },
    {
     "name": "stderr",
     "output_type": "stream",
     "text": [
      "/user/leuven/330/vsc33042/.local/lib/python3.7/site-packages/ipykernel_launcher.py:183: UserWarning: Matplotlib is currently using module://ipykernel.pylab.backend_inline, which is a non-GUI backend, so cannot show the figure.\n"
     ]
    },
    {
     "data": {
      "image/png": "[encoded data removed]",
      "text/plain": [
       "<Figure size 432x576 with 150 Axes>"
      ]
     },
     "metadata": {},
     "output_type": "display_data"
    }
   ],
   "source": [
    "## create the gridspec\n",
    "fig = plt.figure(figsize=figsize, facecolor='white')\n",
    "\n",
    "# define ratios between all elements in the graphic\n",
    "height_ratios = [0.2]  # for gtf\n",
    "height_ratios.append(len(bw_dict)) # for bws\n",
    "height_ratios.append(0.2)  # for text box\n",
    "\n",
    "# create a global frame for the 3 modalities shown (bigwigs, gtf, and text)\n",
    "frame = gridspec.GridSpec(3, 1, wspace=0.25, hspace=0.17, height_ratios=height_ratios)\n",
    "\n",
    "# create a gridspec for each modality within the frame\n",
    "n_cols = len(regions_dict)\n",
    "text_grid = gridspec.GridSpecFromSubplotSpec(1, n_cols, wspace=0.05, hspace=0, subplot_spec=frame[0,0])\n",
    "bw_dar_grid = gridspec.GridSpecFromSubplotSpec(len(bw_dict), n_cols, wspace=0.05, hspace=-0.6, subplot_spec=frame[1, 0])\n",
    "gtf_grid = gridspec.GridSpecFromSubplotSpec(max_genes, n_cols, wspace=0.05, hspace=0, subplot_spec=frame[2,0])\n",
    "\n",
    "## iterate over all regions (=columns in final figure)\n",
    "for region_name in regions_df.index:\n",
    "    if verbose == True: print(f'drawing column for region {region_name}')\n",
    "    region_index = list(regions_df.index).index(region_name) # get the region index for column indexing\n",
    "    \n",
    "    # the genome coordinates over which we will be plotting:\n",
    "    chrom, start, end = tuple(regions_df.loc[region_name])\n",
    "    x = np.array(range(start, end, 1))\n",
    "    \n",
    "    # set ymax according to region\n",
    "    # bw_ymax = region_max_dict[region_name]\n",
    "    \n",
    "    # you can also set global ymax:\n",
    "    bw_ymax = region_max_dict[max(region_max_dict, key=region_max_dict.get)]\n",
    "    \n",
    "    ## iterate over all bigwigs (=rows in final figure)\n",
    "    for key in alias_dict.keys():\n",
    "        if verbose == True: print(f'\\t{key}: alias {alias_dict[key]}')\n",
    "        bw_index = list(alias_dict.keys()).index(key) # get the bw index for row indexing\n",
    "\n",
    "        # create a new gridspec for bw + dar\n",
    "        if 'dar_dict' in locals() or 'peak_dict' in locals():\n",
    "            bw_dar_subgrid = gridspec.GridSpecFromSubplotSpec(2, 1, wspace=0, hspace=0, subplot_spec=bw_dar_grid[bw_index, region_index], height_ratios=[20, 1])\n",
    "        else:\n",
    "            bw_dar_subgrid = gridspec.GridSpecFromSubplotSpec(1, 1, wspace=0.05, hspace=0.2, subplot_spec=bw_dar_grid[bw_index, region_index])\n",
    "\n",
    "        # open the bigwig\n",
    "        bw_file = bw_dict[key]\n",
    "        if verbose == True: print(f'\\t\\tbw: {bw_file}')\n",
    "\n",
    "        bw = pyBigWig.open(bw_file)\n",
    "        y = bw.values(chrom, start, end)\n",
    "        y = np.nan_to_num(y)\n",
    "        \n",
    "        # now plot the bigwig in the gridspec\n",
    "        ax = plt.Subplot(fig, bw_dar_subgrid[0, 0])\n",
    "        ax.fill_between(x, y1=y, y2=0, step=\"mid\", linewidth=0, color=color_dict[key])\n",
    "        ax.patch.set_alpha(0)\n",
    "        \n",
    "        # figure settings\n",
    "        ax.set_xlim([x.min(), x.max()])\n",
    "        ax.set_ylim([0, bw_ymax])\n",
    "        ax.set_xticks([])\n",
    "        ax.set_yticks([])\n",
    "\n",
    "        # add a ylabel only if it's the last column\n",
    "        if region_name == regions_df.index[-1]:\n",
    "            ax.yaxis.set_label_position(\"right\")\n",
    "            ax.set_ylabel(alias_dict[key], rotation=0, horizontalalignment=\"left\", verticalalignment=\"bottom\")\n",
    "            ax.yaxis.set_label_coords(1.05, 0.05)\n",
    "\n",
    "        sns.despine(top=True, right=True, left=True, bottom=False, ax=ax)\n",
    "        for spine in ax.spines.values():\n",
    "            spine.set_edgecolor(color_dict[key])\n",
    "        \n",
    "        # add to the fig\n",
    "        fig.add_subplot(ax, transparent=True)\n",
    "\n",
    "        # first draw peaks if they are defined\n",
    "        if 'peak_dict' in locals():\n",
    "            # get peaks that overlap the region to be plotted\n",
    "            peak = BedTool(peak_dict[key])\n",
    "            peak_region_intersection = peak.intersect(BedTool.from_dataframe(df=regions_df), wa=True, wb=True)\n",
    "            peak_region_intersection = peak_region_intersection.to_dataframe(header=None)\n",
    "            peak_region_intersection = peak_region_intersection.iloc[:,:4]\n",
    "            peak_region_intersection.columns = \"chr start end name\".split()\n",
    "\n",
    "            # now plot the dars in the gridspec\n",
    "            ax = plt.Subplot(fig, bw_dar_subgrid[1, 0])\n",
    "            for element in peak_region_intersection.index:\n",
    "                part = peak_region_intersection.loc[element]\n",
    "                peak_start = part['start']\n",
    "                peak_end = part['end']\n",
    "\n",
    "                # plot a thin line, with beginning and ending as x coordinates, and bw_ymin as y coordinates\n",
    "                # NOTE: linewidth won't do much here, it is more determined by the 'space' you give to this part of the plot in height_ratios!\n",
    "                ax.plot([peak_start, peak_end], [0, 0], linewidth=4, c=peak_color)\n",
    "                \n",
    "            # figure settings\n",
    "            ax.set_ylim([-1, +1])\n",
    "            addax()\n",
    "            \n",
    "        # then draw dars if they are defined\n",
    "        if 'dar_dict' in locals():\n",
    "            # get DARs that overlap the region to be plotted\n",
    "            dar = BedTool(dar_dict[key])\n",
    "            if verbose == True: print(f'\\t\\tdar: {dar_dict[key]}')\n",
    "\n",
    "            dar_region_intersection = dar.intersect(BedTool.from_dataframe(df=regions_df), wa=True, wb=True)\n",
    "            dar_region_intersection = dar_region_intersection.to_dataframe(header=None)\n",
    "            dar_region_intersection = dar_region_intersection.iloc[:,:4]\n",
    "            dar_region_intersection.columns = \"chr start end name\".split()\n",
    "\n",
    "            # now plot the dars in the gridspec\n",
    "            ax = plt.Subplot(fig, bw_dar_subgrid[1, 0])\n",
    "            for element in dar_region_intersection.index:\n",
    "                part = dar_region_intersection.loc[element]\n",
    "                dar_start = part['start']\n",
    "                dar_end = part['end']\n",
    "\n",
    "                # plot a thin line, with beginning and ending as x coordinates, and bw_ymin as y coordinates\n",
    "                # NOTE: linewidth won't do much here, it is more determined by the 'space' you give to this part of the plot in height_ratios!\n",
    "                ax.plot([dar_start, dar_end], [0, 0], linewidth=4, c=dar_color)\n",
    "\n",
    "            # figure settings\n",
    "            ax.set_ylim([-1, +1])\n",
    "            addax()\n",
    "\n",
    "    ## draw the genes of interest, from our gtf\n",
    "    # intersect genes gtf with the region of interest\n",
    "    gtf = BedTool(gtf_file)\n",
    "    gtf_region_intersection = gtf.intersect(BedTool.from_dataframe(df=regions_df), wa=True, wb=True)\n",
    "    gtf_region_intersection = gtf_region_intersection.to_dataframe(header=None)\n",
    "    gtf_region_intersection = gtf_region_intersection.iloc[:,:9]\n",
    "    gtf_region_intersection.columns = \"chr db feature start end score strand frame attribute\".split()\n",
    "\n",
    "    ## iterate over all genes of interest in genes_dict\n",
    "    for gene in genes_dict[region_name]:\n",
    "        gene_index = genes_dict[region_name].index(gene) # get gene index for row indexing\n",
    "        \n",
    "        # get gtf intersection with only gene body and exons of this particular gene\n",
    "        gtf_region_intersection_gene = gtf_region_intersection[gtf_region_intersection['attribute'].str.contains(gene)]\n",
    "        gtf_region_intersection_gene = gtf_region_intersection_gene[gtf_region_intersection_gene['feature'].str.contains('gene|exon')]\n",
    "\n",
    "        # now plot the gene parts (gene body and gene exon)\n",
    "        ax = plt.Subplot(fig, gtf_grid[gene_index, region_index])\n",
    "        \n",
    "        # iterate over all parts to plot them\n",
    "        for element in gtf_region_intersection_gene.index:\n",
    "            part = gtf_region_intersection_gene.loc[element]\n",
    "            \n",
    "            # make exons thick\n",
    "            if part['feature'] == 'exon':\n",
    "                exon_start = part['start']\n",
    "                exon_end = part['end']                \n",
    "                # draw rectangle for exon\n",
    "                rect=mpatches.Rectangle((exon_start,exon_bottom),exon_end-exon_start,exon_height,fill=True,color=\"k\",linewidth=0)\n",
    "                ax.add_patch(rect)\n",
    "                \n",
    "            # make the gene body a thin line, drawn at the end so it will always display on top\n",
    "            elif part['feature'] == 'gene':\n",
    "                gene_start = part['start']\n",
    "                gene_end = part['end']\n",
    "                rect=mpatches.Rectangle((gene_start,gene_bottom),gene_end-gene_start,gene_height,fill=True,color=\"k\",linewidth=0)\n",
    "                ax.add_patch(rect)\n",
    "        \n",
    "        if verbose == True: print(f'\\tfor region {region_name}, drew gene {gene}, {len(gtf_region_intersection_gene.index)} individual items drawn\\n')\n",
    "        \n",
    "        # figure settings\n",
    "        ax.set_ylim([exon_bottom, -exon_bottom])\n",
    "        ax.set_xlabel(gene, fontsize=10)\n",
    "        addax()\n",
    "\n",
    "    ## finally, add a little text that shows which regions you're plotting\n",
    "    ax = plt.Subplot(fig, text_grid[0, region_index])\n",
    "\n",
    "    region = regions_dict[region_name]\n",
    "    length = round((end-start)/1000)\n",
    "    label = f'{region},\\n{length} kb'\n",
    "    \n",
    "    ax.set_xlabel(label, fontsize=6)\n",
    "    addax()\n",
    "    \n",
    "fig.savefig('plts_track/libds_track.png', dpi=350, bbox_inches=\"tight\", pad_inches=0, transparent=False, facecolor='white')\n",
    "fig.savefig('plts_track/libds_track.svg', dpi=350, bbox_inches=\"tight\", pad_inches=0, transparent=False, facecolor='white')\n",
    "fig.show()"
   ]
  }
 ],
 "metadata": {
  "kernelspec": {
   "display_name": "Python 3",
   "language": "python",
   "name": "python3"
  },
  "language_info": {
   "codemirror_mode": {
    "name": "ipython",
    "version": 3
   },
   "file_extension": ".py",
   "mimetype": "text/x-python",
   "name": "python",
   "nbconvert_exporter": "python",
   "pygments_lexer": "ipython3",
   "version": "3.7.3"
  }
 },
 "nbformat": 4,
 "nbformat_minor": 4
}
