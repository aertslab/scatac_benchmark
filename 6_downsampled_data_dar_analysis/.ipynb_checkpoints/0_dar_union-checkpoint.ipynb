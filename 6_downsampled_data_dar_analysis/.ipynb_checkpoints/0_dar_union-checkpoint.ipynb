{
 "cells": [
  {
   "cell_type": "markdown",
   "id": "77e162b0",
   "metadata": {},
   "source": [
    "we use `bedops -u`"
   ]
  },
  {
   "cell_type": "code",
   "execution_count": 1,
   "id": "150854fd",
   "metadata": {},
   "outputs": [
    {
     "name": "stdout",
     "output_type": "stream",
     "text": [
      "\n",
      "----------------------------------------------------------------------------\n",
      "  BEDOPS: BEDOPS/2.4.39-foss-2018a\n",
      "----------------------------------------------------------------------------\n",
      "    Description:\n",
      "      BEDOPS is an open-source command-line toolkit that performs highly\n",
      "      efficient and scalable Boolean and other set operations, statistical\n",
      "      calculations, archiving, conversion and other management of genomic\n",
      "      data of arbitrary scale. Tasks can be easily split by chromosome for\n",
      "      distributing whole-genome analyses across a computational cluster. \n",
      "\n",
      "\n",
      "    This module can be loaded directly: module load BEDOPS/2.4.39-foss-2018a\n",
      "\n",
      "    Help:\n",
      "      \n",
      "      \n",
      "      Description\n",
      "      ===========\n",
      "      BEDOPS is an open-source command-line toolkit that performs highly efficie\n",
      "nt and\n",
      "       scalable Boolean and other set operations, statistical calculations, arch\n",
      "iving, conversion and\n",
      "\u001b[Km--More--\u001b[23m\n"
     ]
    }
   ],
   "source": [
    "module spider bedops"
   ]
  },
  {
   "cell_type": "code",
   "execution_count": 3,
   "id": "ebb7dd4b",
   "metadata": {},
   "outputs": [],
   "source": [
    "module load BEDOPS"
   ]
  },
  {
   "cell_type": "code",
   "execution_count": 11,
   "id": "64c3e69d",
   "metadata": {},
   "outputs": [],
   "source": [
    "bedops -u libds_bcell_dars/*_dars.named.noheader.bed > libds_bcell_dars_union/libds_dars.everything.named.noheader.bed"
   ]
  },
  {
   "cell_type": "code",
   "execution_count": 13,
   "id": "057df48f",
   "metadata": {},
   "outputs": [],
   "source": [
    "sort-bed libds_bcell_dars_union/libds_dars.everything.named.noheader.bed > libds_bcell_dars_union/libds_dars.everything.named.noheader.sorted.bed"
   ]
  },
  {
   "cell_type": "markdown",
   "id": "6cdb65a6",
   "metadata": {},
   "source": [
    "let's check how many of these dars are unique"
   ]
  },
  {
   "cell_type": "code",
   "execution_count": 17,
   "id": "8ce27065",
   "metadata": {},
   "outputs": [
    {
     "name": "stdout",
     "output_type": "stream",
     "text": [
      "141295 libds_bcell_dars_union/libds_dars.everything.named.noheader.sorted.bed\n"
     ]
    }
   ],
   "source": [
    "wc -l libds_bcell_dars_union/libds_dars.everything.named.noheader.sorted.bed"
   ]
  },
  {
   "cell_type": "code",
   "execution_count": 15,
   "id": "899cc544",
   "metadata": {},
   "outputs": [],
   "source": [
    "cut -f1,2,3 libds_bcell_dars_union/libds_dars.everything.named.noheader.sorted.bed > test.txt"
   ]
  },
  {
   "cell_type": "code",
   "execution_count": 16,
   "id": "a378b56d",
   "metadata": {},
   "outputs": [
    {
     "name": "stdout",
     "output_type": "stream",
     "text": [
      "134005\n"
     ]
    }
   ],
   "source": [
    "uniq -u test.txt | wc -l"
   ]
  },
  {
   "cell_type": "markdown",
   "id": "48e92c21",
   "metadata": {},
   "source": [
    "# make a new set that does not include the merged"
   ]
  },
  {
   "cell_type": "code",
   "execution_count": 18,
   "id": "b588802a",
   "metadata": {},
   "outputs": [],
   "source": [
    "bedops -u libds_bcell_dars/*_dars.named.noheader.bed > libds_bcell_dars_union/libds_dars.everything.named.noheader.bed"
   ]
  },
  {
   "cell_type": "code",
   "execution_count": 19,
   "id": "e5a204ea",
   "metadata": {},
   "outputs": [],
   "source": [
    "sort-bed libds_bcell_dars_union/libds_dars.everything.named.noheader.bed > libds_bcell_dars_union/libds_dars.everything.named.noheader.sorted.bed"
   ]
  },
  {
   "cell_type": "markdown",
   "id": "a6bd032a",
   "metadata": {},
   "source": [
    "let's check how many of these dars are unique"
   ]
  },
  {
   "cell_type": "code",
   "execution_count": 20,
   "id": "2ae4a522",
   "metadata": {},
   "outputs": [
    {
     "name": "stdout",
     "output_type": "stream",
     "text": [
      "131340 libds_bcell_dars_union/libds_dars.everything.named.noheader.sorted.bed\n"
     ]
    }
   ],
   "source": [
    "wc -l libds_bcell_dars_union/libds_dars.everything.named.noheader.sorted.bed"
   ]
  },
  {
   "cell_type": "code",
   "execution_count": 21,
   "id": "11691d5f",
   "metadata": {},
   "outputs": [],
   "source": [
    "cut -f1,2,3 libds_bcell_dars_union/libds_dars.everything.named.noheader.sorted.bed > test.txt"
   ]
  },
  {
   "cell_type": "code",
   "execution_count": 22,
   "id": "911c6e01",
   "metadata": {},
   "outputs": [
    {
     "name": "stdout",
     "output_type": "stream",
     "text": [
      "125649\n"
     ]
    }
   ],
   "source": [
    "uniq -u test.txt | wc -l"
   ]
  },
  {
   "cell_type": "markdown",
   "id": "7dae6953",
   "metadata": {},
   "source": [
    "let's continue by counting fragments within this set"
   ]
  }
 ],
 "metadata": {
  "kernelspec": {
   "display_name": "Bash",
   "language": "bash",
   "name": "bash"
  },
  "language_info": {
   "codemirror_mode": "shell",
   "file_extension": ".sh",
   "mimetype": "text/x-sh",
   "name": "bash"
  }
 },
 "nbformat": 4,
 "nbformat_minor": 5
}
