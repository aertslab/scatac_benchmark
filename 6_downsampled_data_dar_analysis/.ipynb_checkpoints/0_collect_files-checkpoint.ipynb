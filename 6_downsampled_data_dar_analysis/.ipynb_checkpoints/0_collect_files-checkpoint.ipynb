{
 "cells": [
  {
   "cell_type": "markdown",
   "id": "dbef8e46",
   "metadata": {},
   "source": [
    "# get all the peak files"
   ]
  },
  {
   "cell_type": "code",
   "execution_count": 4,
   "id": "39366275",
   "metadata": {},
   "outputs": [
    {
     "name": "stdout",
     "output_type": "stream",
     "text": [
      "/lustre1/project/stg_00002/lcb/cflerin/analysis/pbmc_atac/analysis2/data_freeze_Jun2021_library_downsampled/atac_qc_multiplet_merged/jupyter/consensus_peak_calling/Broad_1/Broad_1__consensus_regions.bed\n",
      "/lustre1/project/stg_00002/lcb/cflerin/analysis/pbmc_atac/analysis2/data_freeze_Jun2021_library_downsampled/atac_qc_multiplet_merged/jupyter/consensus_peak_calling/Broad_2/Broad_2__consensus_regions.bed\n",
      "/lustre1/project/stg_00002/lcb/cflerin/analysis/pbmc_atac/analysis2/data_freeze_Jun2021_library_downsampled/atac_qc_multiplet_merged/jupyter/consensus_peak_calling/Broad_mito_1/Broad_mito_1__consensus_regions.bed\n",
      "/lustre1/project/stg_00002/lcb/cflerin/analysis/pbmc_atac/analysis2/data_freeze_Jun2021_library_downsampled/atac_qc_multiplet_merged/jupyter/consensus_peak_calling/Broad_mito_2/Broad_mito_2__consensus_regions.bed\n",
      "/lustre1/project/stg_00002/lcb/cflerin/analysis/pbmc_atac/analysis2/data_freeze_Jun2021_library_downsampled/atac_qc_multiplet_merged/jupyter/consensus_peak_calling/CNAG_1/CNAG_1__consensus_regions.bed\n",
      "/lustre1/project/stg_00002/lcb/cflerin/analysis/pbmc_atac/analysis2/data_freeze_Jun2021_library_downsampled/atac_qc_multiplet_merged/jupyter/consensus_peak_calling/CNAG_2/CNAG_2__consensus_regions.bed\n",
      "/lustre1/project/stg_00002/lcb/cflerin/analysis/pbmc_atac/analysis2/data_freeze_Jun2021_library_downsampled/atac_qc_multiplet_merged/jupyter/consensus_peak_calling/Sanger_1/Sanger_1__consensus_regions.bed\n",
      "/lustre1/project/stg_00002/lcb/cflerin/analysis/pbmc_atac/analysis2/data_freeze_Jun2021_library_downsampled/atac_qc_multiplet_merged/jupyter/consensus_peak_calling/Sanger_2/Sanger_2__consensus_regions.bed\n",
      "/lustre1/project/stg_00002/lcb/cflerin/analysis/pbmc_atac/analysis2/data_freeze_Jun2021_library_downsampled/atac_qc_multiplet_merged/jupyter/consensus_peak_calling/Stanford_1/Stanford_1__consensus_regions.bed\n",
      "/lustre1/project/stg_00002/lcb/cflerin/analysis/pbmc_atac/analysis2/data_freeze_Jun2021_library_downsampled/atac_qc_multiplet_merged/jupyter/consensus_peak_calling/Stanford_2/Stanford_2__consensus_regions.bed\n",
      "/lustre1/project/stg_00002/lcb/cflerin/analysis/pbmc_atac/analysis2/data_freeze_Jun2021_library_downsampled/atac_qc_multiplet_merged/jupyter/consensus_peak_calling/VIB_1/VIB_1__consensus_regions.bed\n",
      "/lustre1/project/stg_00002/lcb/cflerin/analysis/pbmc_atac/analysis2/data_freeze_Jun2021_library_downsampled/atac_qc_multiplet_merged/jupyter/consensus_peak_calling/VIB_2/VIB_2__consensus_regions.bed\n",
      "/lustre1/project/stg_00002/lcb/cflerin/analysis/pbmc_atac/analysis2/data_freeze_Jun2021_library_downsampled/atac_qc_multiplet_merged/jupyter/consensus_peak_calling/merged/merged__consensus_regions.bed\n",
      "/lustre1/project/stg_00002/lcb/cflerin/analysis/pbmc_atac/analysis2/data_freeze_Jun2021_library_downsampled/atac_qc_multiplet_merged/jupyter/consensus_peak_calling/s3atac/s3atac__consensus_regions.bed\n"
     ]
    }
   ],
   "source": [
    "ls /lustre1/project/stg_00002/lcb/cflerin/analysis/pbmc_atac/analysis2/data_freeze_Jun2021_library_downsampled/atac_qc_multiplet_merged/jupyter/consensus_peak_calling/*/*__consensus_regions.bed"
   ]
  },
  {
   "cell_type": "code",
   "execution_count": 11,
   "id": "fe732e37",
   "metadata": {},
   "outputs": [
    {
     "name": "stdout",
     "output_type": "stream",
     "text": [
      "Broad_1__consensus_regions.bed\n",
      "ln: failed to create symbolic link ‘libds_peaks/Broad_1__consensus_regions.bed’: File exists\n",
      "Broad_2__consensus_regions.bed\n",
      "ln: failed to create symbolic link ‘libds_peaks/Broad_2__consensus_regions.bed’: File exists\n",
      "Broad_mito_1__consensus_regions.bed\n",
      "ln: failed to create symbolic link ‘libds_peaks/Broad_mito_1__consensus_regions.bed’: File exists\n",
      "Broad_mito_2__consensus_regions.bed\n",
      "ln: failed to create symbolic link ‘libds_peaks/Broad_mito_2__consensus_regions.bed’: File exists\n",
      "CNAG_1__consensus_regions.bed\n",
      "ln: failed to create symbolic link ‘libds_peaks/CNAG_1__consensus_regions.bed’: File exists\n",
      "CNAG_2__consensus_regions.bed\n",
      "ln: failed to create symbolic link ‘libds_peaks/CNAG_2__consensus_regions.bed’: File exists\n",
      "Sanger_1__consensus_regions.bed\n",
      "ln: failed to create symbolic link ‘libds_peaks/Sanger_1__consensus_regions.bed’: File exists\n",
      "Sanger_2__consensus_regions.bed\n",
      "ln: failed to create symbolic link ‘libds_peaks/Sanger_2__consensus_regions.bed’: File exists\n",
      "Stanford_1__consensus_regions.bed\n",
      "ln: failed to create symbolic link ‘libds_peaks/Stanford_1__consensus_regions.bed’: File exists\n",
      "Stanford_2__consensus_regions.bed\n",
      "ln: failed to create symbolic link ‘libds_peaks/Stanford_2__consensus_regions.bed’: File exists\n",
      "VIB_1__consensus_regions.bed\n",
      "ln: failed to create symbolic link ‘libds_peaks/VIB_1__consensus_regions.bed’: File exists\n",
      "VIB_2__consensus_regions.bed\n",
      "ln: failed to create symbolic link ‘libds_peaks/VIB_2__consensus_regions.bed’: File exists\n",
      "merged__consensus_regions.bed\n",
      "ln: failed to create symbolic link ‘libds_peaks/merged__consensus_regions.bed’: File exists\n",
      "s3atac__consensus_regions.bed\n",
      "ln: failed to create symbolic link ‘libds_peaks/s3atac__consensus_regions.bed’: File exists\n"
     ]
    }
   ],
   "source": [
    "for file in /lustre1/project/stg_00002/lcb/cflerin/analysis/pbmc_atac/analysis2/data_freeze_Jun2021_library_downsampled/atac_qc_multiplet_merged/jupyter/consensus_peak_calling/*/*__consensus_regions.bed\n",
    "do\n",
    "    name=${file#/lustre1/project/stg_00002/lcb/cflerin/analysis/pbmc_atac/analysis2/data_freeze_Jun2021_library_downsampled/atac_qc_multiplet_merged/jupyter/consensus_peak_calling/*/}\n",
    "    # name=${name%__consensus_regions.bed}\n",
    "    echo $name\n",
    "    ln -s $file libds_peaks/${name}\n",
    "done\n",
    "rm libds_peaks/*merged* # because that merged file is no longer relevant"
   ]
  },
  {
   "cell_type": "markdown",
   "id": "c451dc03",
   "metadata": {},
   "source": [
    "remove the `merged` because it's not relevant anymore. rename broad_1 and broad_2 to harvard, and rename broad_mito to broad. rename s3atac to OHSU. do same for hydrop samples:"
   ]
  },
  {
   "cell_type": "code",
   "execution_count": 13,
   "id": "14ea23fe",
   "metadata": {},
   "outputs": [
    {
     "name": "stdout",
     "output_type": "stream",
     "text": [
      "VIB_Hydrop_1__consensus_regions.bed\n",
      "VIB_Hydrop_2__consensus_regions.bed\n"
     ]
    }
   ],
   "source": [
    "for file in /lustre1/project/stg_00002/lcb/fderop/data/20211013_hca_benchmark_libds_singles/pycistopic_screen/consensus_peak_calling/*/*__consensus_regions.bed\n",
    "do\n",
    "    name=${file#/lustre1/project/stg_00002/lcb/fderop/data/20211013_hca_benchmark_libds_singles/pycistopic_screen/consensus_peak_calling/*/}\n",
    "    # name=${name%__consensus_regions.bed}\n",
    "    echo $name\n",
    "    ln -s $file libds_peaks/${name}\n",
    "done"
   ]
  },
  {
   "cell_type": "code",
   "execution_count": 14,
   "id": "9a9599fd",
   "metadata": {},
   "outputs": [
    {
     "name": "stdout",
     "output_type": "stream",
     "text": [
      "libds_merged__consensus_regions.bed\n"
     ]
    }
   ],
   "source": [
    "for file in /lustre1/project/stg_00002/lcb/fderop/data/20211024_hca_benchmark_libds_merged/pycistopic_screen/consensus_peak_calling/*/*__consensus_regions.bed\n",
    "do\n",
    "    name=${file#/lustre1/project/stg_00002/lcb/fderop/data/20211024_hca_benchmark_libds_merged/pycistopic_screen/consensus_peak_calling/*/}\n",
    "    # name=${name%__consensus_regions.bed}\n",
    "    echo $name\n",
    "    ln -s $file libds_peaks/${name}\n",
    "done"
   ]
  },
  {
   "cell_type": "code",
   "execution_count": 43,
   "id": "be3e6fde",
   "metadata": {},
   "outputs": [
    {
     "name": "stdout",
     "output_type": "stream",
     "text": [
      "\u001b[0m\u001b[01;36mBroad_1__consensus_regions.bed\u001b[0m\n",
      "\u001b[01;36mBroad_2__consensus_regions.bed\u001b[0m\n",
      "\u001b[01;36mBroad_mito_1__consensus_regions.bed\u001b[0m\n",
      "\u001b[01;36mBroad_mito_2__consensus_regions.bed\u001b[0m\n",
      "\u001b[01;36mCNAG_1__consensus_regions.bed\u001b[0m\n",
      "\u001b[01;36mCNAG_2__consensus_regions.bed\u001b[0m\n",
      "\u001b[01;36mSanger_1__consensus_regions.bed\u001b[0m\n",
      "\u001b[01;36mSanger_2__consensus_regions.bed\u001b[0m\n",
      "\u001b[01;36mStanford_1__consensus_regions.bed\u001b[0m\n",
      "\u001b[01;36mStanford_2__consensus_regions.bed\u001b[0m\n",
      "\u001b[01;36mVIB_1__consensus_regions.bed\u001b[0m\n",
      "\u001b[01;36mVIB_2__consensus_regions.bed\u001b[0m\n",
      "\u001b[01;36mVIB_Hydrop_1__consensus_regions.bed\u001b[0m\n",
      "\u001b[01;36mVIB_Hydrop_2__consensus_regions.bed\u001b[0m\n",
      "\u001b[01;36mmerged__consensus_regions.bed\u001b[0m\n",
      "\u001b[01;36ms3atac__consensus_regions.bed\u001b[0m\n"
     ]
    }
   ],
   "source": [
    "ls -1 libds_peaks"
   ]
  },
  {
   "cell_type": "markdown",
   "id": "cde23662",
   "metadata": {},
   "source": [
    "after renaming:"
   ]
  },
  {
   "cell_type": "code",
   "execution_count": 44,
   "id": "63f52c9a",
   "metadata": {},
   "outputs": [
    {
     "name": "stdout",
     "output_type": "stream",
     "text": [
      "\u001b[0m\u001b[01;36mBroad_1__consensus_regions.bed\u001b[0m\n",
      "\u001b[01;36mBroad_2__consensus_regions.bed\u001b[0m\n",
      "\u001b[01;36mCNAG_1__consensus_regions.bed\u001b[0m\n",
      "\u001b[01;36mCNAG_2__consensus_regions.bed\u001b[0m\n",
      "\u001b[01;36mHarvard_1__consensus_regions.bed\u001b[0m\n",
      "\u001b[01;36mHarvard_2__consensus_regions.bed\u001b[0m\n",
      "\u001b[01;36mOHSU__consensus_regions.bed\u001b[0m\n",
      "\u001b[01;36mSanger_1__consensus_regions.bed\u001b[0m\n",
      "\u001b[01;36mSanger_2__consensus_regions.bed\u001b[0m\n",
      "\u001b[01;36mStanford_1__consensus_regions.bed\u001b[0m\n",
      "\u001b[01;36mStanford_2__consensus_regions.bed\u001b[0m\n",
      "\u001b[01;36mVIB_1__consensus_regions.bed\u001b[0m\n",
      "\u001b[01;36mVIB_2__consensus_regions.bed\u001b[0m\n",
      "\u001b[01;36mVIB_Hydrop_1__consensus_regions.bed\u001b[0m\n",
      "\u001b[01;36mVIB_Hydrop_2__consensus_regions.bed\u001b[0m\n",
      "\u001b[01;36mmerged__consensus_regions.bed\u001b[0m\n"
     ]
    }
   ],
   "source": [
    "ls -1 libds_peaks"
   ]
  },
  {
   "cell_type": "markdown",
   "id": "70c93ad3",
   "metadata": {},
   "source": [
    "# get bcell peaks"
   ]
  },
  {
   "cell_type": "code",
   "execution_count": 48,
   "id": "27817356",
   "metadata": {},
   "outputs": [
    {
     "name": "stdout",
     "output_type": "stream",
     "text": [
      "\u001b[0m\u001b[01;31m/lustre1/project/stg_00002/lcb/cflerin/analysis/pbmc_atac/analysis2/data_freeze_Jun2021_library_downsampled/atac_qc_multiplet_merged/jupyter/consensus_peak_calling/Broad_1/pseudobulk_bed_files/Bcell.bed.gz\u001b[0m\u001b[K\n",
      "\u001b[01;31m/lustre1/project/stg_00002/lcb/cflerin/analysis/pbmc_atac/analysis2/data_freeze_Jun2021_library_downsampled/atac_qc_multiplet_merged/jupyter/consensus_peak_calling/Broad_2/pseudobulk_bed_files/Bcell.bed.gz\u001b[0m\u001b[K\n",
      "\u001b[01;31m/lustre1/project/stg_00002/lcb/cflerin/analysis/pbmc_atac/analysis2/data_freeze_Jun2021_library_downsampled/atac_qc_multiplet_merged/jupyter/consensus_peak_calling/Broad_mito_1/pseudobulk_bed_files/Bcell.bed.gz\u001b[0m\u001b[K\n",
      "\u001b[01;31m/lustre1/project/stg_00002/lcb/cflerin/analysis/pbmc_atac/analysis2/data_freeze_Jun2021_library_downsampled/atac_qc_multiplet_merged/jupyter/consensus_peak_calling/Broad_mito_2/pseudobulk_bed_files/Bcell.bed.gz\u001b[0m\u001b[K\n",
      "\u001b[01;31m/lustre1/project/stg_00002/lcb/cflerin/analysis/pbmc_atac/analysis2/data_freeze_Jun2021_library_downsampled/atac_qc_multiplet_merged/jupyter/consensus_peak_calling/CNAG_1/pseudobulk_bed_files/Bcell.bed.gz\u001b[0m\u001b[K\n",
      "\u001b[01;31m/lustre1/project/stg_00002/lcb/cflerin/analysis/pbmc_atac/analysis2/data_freeze_Jun2021_library_downsampled/atac_qc_multiplet_merged/jupyter/consensus_peak_calling/CNAG_2/pseudobulk_bed_files/Bcell.bed.gz\u001b[0m\u001b[K\n",
      "\u001b[01;31m/lustre1/project/stg_00002/lcb/cflerin/analysis/pbmc_atac/analysis2/data_freeze_Jun2021_library_downsampled/atac_qc_multiplet_merged/jupyter/consensus_peak_calling/Sanger_1/pseudobulk_bed_files/Bcell.bed.gz\u001b[0m\u001b[K\n",
      "\u001b[01;31m/lustre1/project/stg_00002/lcb/cflerin/analysis/pbmc_atac/analysis2/data_freeze_Jun2021_library_downsampled/atac_qc_multiplet_merged/jupyter/consensus_peak_calling/Sanger_2/pseudobulk_bed_files/Bcell.bed.gz\u001b[0m\u001b[K\n",
      "\u001b[01;31m/lustre1/project/stg_00002/lcb/cflerin/analysis/pbmc_atac/analysis2/data_freeze_Jun2021_library_downsampled/atac_qc_multiplet_merged/jupyter/consensus_peak_calling/Stanford_1/pseudobulk_bed_files/Bcell.bed.gz\u001b[0m\u001b[K\n",
      "\u001b[01;31m/lustre1/project/stg_00002/lcb/cflerin/analysis/pbmc_atac/analysis2/data_freeze_Jun2021_library_downsampled/atac_qc_multiplet_merged/jupyter/consensus_peak_calling/Stanford_2/pseudobulk_bed_files/Bcell.bed.gz\u001b[0m\u001b[K\n",
      "\u001b[01;31m/lustre1/project/stg_00002/lcb/cflerin/analysis/pbmc_atac/analysis2/data_freeze_Jun2021_library_downsampled/atac_qc_multiplet_merged/jupyter/consensus_peak_calling/VIB_1/pseudobulk_bed_files/Bcell.bed.gz\u001b[0m\u001b[K\n",
      "\u001b[01;31m/lustre1/project/stg_00002/lcb/cflerin/analysis/pbmc_atac/analysis2/data_freeze_Jun2021_library_downsampled/atac_qc_multiplet_merged/jupyter/consensus_peak_calling/VIB_2/pseudobulk_bed_files/Bcell.bed.gz\u001b[0m\u001b[K\n",
      "\u001b[01;31m/lustre1/project/stg_00002/lcb/cflerin/analysis/pbmc_atac/analysis2/data_freeze_Jun2021_library_downsampled/atac_qc_multiplet_merged/jupyter/consensus_peak_calling/merged/pseudobulk_bed_files/Bcell.bed.gz\u001b[0m\u001b[K\n",
      "\u001b[01;31m/lustre1/project/stg_00002/lcb/cflerin/analysis/pbmc_atac/analysis2/data_freeze_Jun2021_library_downsampled/atac_qc_multiplet_merged/jupyter/consensus_peak_calling/s3atac/pseudobulk_bed_files/Bcell.bed.gz\u001b[0m\u001b[K\n"
     ]
    }
   ],
   "source": [
    "ls /lustre1/project/stg_00002/lcb/cflerin/analysis/pbmc_atac/analysis2/data_freeze_Jun2021_library_downsampled/atac_qc_multiplet_merged/jupyter/consensus_peak_calling/*/macs2/*Bcell_peaks.narrowPeak"
   ]
  },
  {
   "cell_type": "code",
   "execution_count": 72,
   "id": "da060152",
   "metadata": {},
   "outputs": [
    {
     "name": "stdout",
     "output_type": "stream",
     "text": [
      "mkdir: cannot create directory ‘libds_bcell_peaks’: File exists\n",
      "Broad_1\n",
      "Broad_2\n",
      "Broad_mito_1\n",
      "Broad_mito_2\n",
      "CNAG_1\n",
      "CNAG_2\n",
      "Sanger_1\n",
      "Sanger_2\n",
      "Stanford_1\n",
      "Stanford_2\n",
      "VIB_1\n",
      "VIB_2\n",
      "merged\n",
      "s3atac\n"
     ]
    }
   ],
   "source": [
    "mkdir libds_bcell_peaks\n",
    "for file in /lustre1/project/stg_00002/lcb/cflerin/analysis/pbmc_atac/analysis2/data_freeze_Jun2021_library_downsampled/atac_qc_multiplet_merged/jupyter/consensus_peak_calling/*/macs2/Bcell_summits.bed\n",
    "do\n",
    "    name=${file#/lustre1/project/stg_00002/lcb/cflerin/analysis/pbmc_atac/analysis2/data_freeze_Jun2021_library_downsampled/atac_qc_multiplet_merged/jupyter/consensus_peak_calling/}\n",
    "    name=${name%/macs2/*Bcell_summits.bed}\n",
    "    echo $name\n",
    "    ln -s $file libds_bcell_peaks/${name}_bcell_peaksummits.bed\n",
    "done\n",
    "rm libds_bcell_peaks/merged*"
   ]
  },
  {
   "cell_type": "markdown",
   "id": "fe057d14",
   "metadata": {},
   "source": [
    "remove the `merged` because it's not relevant anymore. rename broad_1 and broad_2 to harvard, and rename broad_mito to broad. rename s3atac to OHSU. do same for hydrop samples:"
   ]
  },
  {
   "cell_type": "code",
   "execution_count": 73,
   "id": "04a0abe1",
   "metadata": {},
   "outputs": [
    {
     "name": "stdout",
     "output_type": "stream",
     "text": [
      "VIB_Hydrop_1\n",
      "VIB_Hydrop_2\n"
     ]
    }
   ],
   "source": [
    "for file in /lustre1/project/stg_00002/lcb/fderop/data/20211013_hca_benchmark_libds_singles/pycistopic_screen/consensus_peak_calling/*/macs2/Bcell_summits.bed\n",
    "do\n",
    "    name=${file#/lustre1/project/stg_00002/lcb/fderop/data/20211013_hca_benchmark_libds_singles/pycistopic_screen/consensus_peak_calling/}\n",
    "    name=${name%/macs2/Bcell_summits.bed}\n",
    "    echo $name\n",
    "    ln -s $file libds_bcell_peaks/${name}_bcell_peaksummits.bed\n",
    "done"
   ]
  },
  {
   "cell_type": "code",
   "execution_count": 74,
   "id": "3eed98b9",
   "metadata": {},
   "outputs": [],
   "source": [
    "ln -s /lustre1/project/stg_00002/lcb/fderop/data/20211024_hca_benchmark_libds_merged/pycistopic_screen/consensus_peak_calling/*/macs2/Bcell_summits.bed libds_bcell_peaks/merged_bcell_peaksummits.bed"
   ]
  },
  {
   "cell_type": "code",
   "execution_count": 75,
   "id": "16472a1a",
   "metadata": {},
   "outputs": [
    {
     "name": "stdout",
     "output_type": "stream",
     "text": [
      "\u001b[0m\u001b[01;36mBroad_1_bcell_peaks.bed\u001b[0m\n",
      "\u001b[01;36mBroad_2_bcell_peaks.bed\u001b[0m\n",
      "\u001b[01;36mBroad_mito_1_bcell_peaks.bed\u001b[0m\n",
      "\u001b[01;36mBroad_mito_2_bcell_peaks.bed\u001b[0m\n",
      "\u001b[01;36mCNAG_1_bcell_peaks.bed\u001b[0m\n",
      "\u001b[01;36mCNAG_2_bcell_peaks.bed\u001b[0m\n",
      "\u001b[01;36mSanger_1_bcell_peaks.bed\u001b[0m\n",
      "\u001b[01;36mSanger_2_bcell_peaks.bed\u001b[0m\n",
      "\u001b[01;36mStanford_1_bcell_peaks.bed\u001b[0m\n",
      "\u001b[01;36mStanford_2_bcell_peaks.bed\u001b[0m\n",
      "\u001b[01;36mVIB_1_bcell_peaks.bed\u001b[0m\n",
      "\u001b[01;36mVIB_2_bcell_peaks.bed\u001b[0m\n",
      "\u001b[01;36mVIB_Hydrop_1_bcell_peaks.bed\u001b[0m\n",
      "\u001b[01;36mVIB_Hydrop_2_bcell_peaks.bed\u001b[0m\n",
      "\u001b[01;36mmerged_bcell_peaks.bed\u001b[0m\n",
      "\u001b[01;36ms3atac_bcell_peaks.bed\u001b[0m\n"
     ]
    }
   ],
   "source": [
    "ls -1 libds_bcell_peaks"
   ]
  },
  {
   "cell_type": "markdown",
   "id": "ff5c0bd0",
   "metadata": {},
   "source": [
    "after renaming:"
   ]
  },
  {
   "cell_type": "code",
   "execution_count": 70,
   "id": "10c8509c",
   "metadata": {},
   "outputs": [
    {
     "name": "stdout",
     "output_type": "stream",
     "text": [
      "\u001b[0m\u001b[01;36mBroad_1_bcell_peaks.bed.gz\u001b[0m\n",
      "\u001b[01;36mBroad_2_bcell_peaks.bed.gz\u001b[0m\n",
      "\u001b[01;36mCNAG_1_bcell_peaks.bed.gz\u001b[0m\n",
      "\u001b[01;36mCNAG_2_bcell_peaks.bed.gz\u001b[0m\n",
      "\u001b[01;36mHarvard_1_bcell_peaks.bed.gz\u001b[0m\n",
      "\u001b[01;36mHarvard_2_bcell_peaks.bed.gz\u001b[0m\n",
      "\u001b[01;36mOHSU_bcell_peaks.bed.gz\u001b[0m\n",
      "\u001b[01;36mSanger_1_bcell_peaks.bed.gz\u001b[0m\n",
      "\u001b[01;36mSanger_2_bcell_peaks.bed.gz\u001b[0m\n",
      "\u001b[01;36mStanford_1_bcell_peaks.bed.gz\u001b[0m\n",
      "\u001b[01;36mStanford_2_bcell_peaks.bed.gz\u001b[0m\n",
      "\u001b[01;36mVIB_1_bcell_peaks.bed.gz\u001b[0m\n",
      "\u001b[01;36mVIB_2_bcell_peaks.bed.gz\u001b[0m\n",
      "\u001b[01;36mVIB_Hydrop_1_bcell_peaks.bed.gz\u001b[0m\n",
      "\u001b[01;36mVIB_Hydrop_2_bcell_peaks.bed.gz\u001b[0m\n",
      "\u001b[01;36mmerged_bcell_peaks.bed.gz\u001b[0m\n"
     ]
    }
   ],
   "source": [
    "ls -1 libds_bcell_peaks"
   ]
  },
  {
   "cell_type": "code",
   "execution_count": null,
   "id": "28abe906",
   "metadata": {},
   "outputs": [],
   "source": []
  }
 ],
 "metadata": {
  "kernelspec": {
   "display_name": "Bash",
   "language": "bash",
   "name": "bash"
  },
  "language_info": {
   "codemirror_mode": "shell",
   "file_extension": ".sh",
   "mimetype": "text/x-sh",
   "name": "bash"
  }
 },
 "nbformat": 4,
 "nbformat_minor": 5
}
