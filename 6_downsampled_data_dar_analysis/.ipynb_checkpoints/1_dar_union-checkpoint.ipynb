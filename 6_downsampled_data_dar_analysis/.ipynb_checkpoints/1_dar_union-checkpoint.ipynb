{
 "cells": [
  {
   "cell_type": "markdown",
   "id": "0222082c",
   "metadata": {},
   "source": [
    "we use `bedops -u`"
   ]
  },
  {
   "cell_type": "code",
   "execution_count": 29,
   "id": "89ef3769",
   "metadata": {},
   "outputs": [],
   "source": [
    "module load BEDOPS"
   ]
  },
  {
   "cell_type": "code",
   "execution_count": 30,
   "id": "3072fdd4",
   "metadata": {},
   "outputs": [
    {
     "name": "stdout",
     "output_type": "stream",
     "text": [
      "\u001b[0m\u001b[01;36mlibds__Broad_1__B_cell__DARs.bed\u001b[0m    \u001b[01;36mlibds__Sanger_2__B_cell__DARs.bed\u001b[0m\n",
      "\u001b[01;36mlibds__Broad_2__B_cell__DARs.bed\u001b[0m    \u001b[01;36mlibds__Stanford_1__B_cell__DARs.bed\u001b[0m\n",
      "\u001b[01;36mlibds__CNAG_1__B_cell__DARs.bed\u001b[0m     \u001b[01;36mlibds__Stanford_2__B_cell__DARs.bed\u001b[0m\n",
      "\u001b[01;36mlibds__CNAG_2__B_cell__DARs.bed\u001b[0m     \u001b[01;36mlibds__VIB_1__B_cell__DARs.bed\u001b[0m\n",
      "\u001b[01;36mlibds__Harvard_1__B_cell__DARs.bed\u001b[0m  \u001b[01;36mlibds__VIB_2__B_cell__DARs.bed\u001b[0m\n",
      "\u001b[01;36mlibds__Harvard_2__B_cell__DARs.bed\u001b[0m  \u001b[01;36mlibds__VIB_Hydrop_1__B_cell__DARs.bed\u001b[0m\n",
      "\u001b[01;36mlibds__OHSU__B_cell__DARs.bed\u001b[0m       \u001b[01;36mlibds__VIB_Hydrop_2__B_cell__DARs.bed\u001b[0m\n",
      "\u001b[01;36mlibds__Sanger_1__B_cell__DARs.bed\u001b[0m   \u001b[01;36mlibds__merged__B_cell__DARs.bedEXCLUDE\u001b[0m\n"
     ]
    }
   ],
   "source": [
    "ls libds_bcell_dars_for_heatmap"
   ]
  },
  {
   "cell_type": "code",
   "execution_count": 31,
   "id": "93c59fe3",
   "metadata": {},
   "outputs": [],
   "source": [
    "bedops -u libds_bcell_dars_for_heatmap/*B_cell__DARs.bed > libds_bcell_dars_union/libds_dars.everything.bed"
   ]
  },
  {
   "cell_type": "code",
   "execution_count": 32,
   "id": "901a624c",
   "metadata": {},
   "outputs": [],
   "source": [
    "sort-bed libds_bcell_dars_union/libds_dars.everything.bed > libds_bcell_dars_union/libds_dars.everything.sorted.bed"
   ]
  },
  {
   "cell_type": "markdown",
   "id": "96cae4d2",
   "metadata": {},
   "source": [
    "let's check how many of these dars are unique"
   ]
  },
  {
   "cell_type": "code",
   "execution_count": 33,
   "id": "3d703f39",
   "metadata": {},
   "outputs": [
    {
     "name": "stdout",
     "output_type": "stream",
     "text": [
      "146549 libds_bcell_dars_union/libds_dars.everything.sorted.bed\n"
     ]
    }
   ],
   "source": [
    "wc -l libds_bcell_dars_union/libds_dars.everything.sorted.bed"
   ]
  },
  {
   "cell_type": "code",
   "execution_count": 34,
   "id": "e4448bdc",
   "metadata": {},
   "outputs": [],
   "source": [
    "cut -f1,2,3 libds_bcell_dars_union/libds_dars.everything.sorted.bed > test.txt"
   ]
  },
  {
   "cell_type": "code",
   "execution_count": 35,
   "id": "10300fb5",
   "metadata": {},
   "outputs": [
    {
     "name": "stdout",
     "output_type": "stream",
     "text": [
      "139547\n"
     ]
    }
   ],
   "source": [
    "uniq -u test.txt | wc -l"
   ]
  },
  {
   "cell_type": "markdown",
   "id": "deeef624",
   "metadata": {},
   "source": [
    "# make a new set that does not include the merged"
   ]
  },
  {
   "cell_type": "code",
   "execution_count": 23,
   "id": "9d969a5a",
   "metadata": {},
   "outputs": [
    {
     "name": "stdout",
     "output_type": "stream",
     "text": [
      "\u001b[0m\u001b[01;36mlibds__Broad_1__B_cell__DARs.bed\u001b[0m    \u001b[01;36mlibds__Sanger_2__B_cell__DARs.bed\u001b[0m\n",
      "\u001b[01;36mlibds__Broad_2__B_cell__DARs.bed\u001b[0m    \u001b[01;36mlibds__Stanford_1__B_cell__DARs.bed\u001b[0m\n",
      "\u001b[01;36mlibds__CNAG_1__B_cell__DARs.bed\u001b[0m     \u001b[01;36mlibds__Stanford_2__B_cell__DARs.bed\u001b[0m\n",
      "\u001b[01;36mlibds__CNAG_2__B_cell__DARs.bed\u001b[0m     \u001b[01;36mlibds__VIB_1__B_cell__DARs.bed\u001b[0m\n",
      "\u001b[01;36mlibds__Harvard_1__B_cell__DARs.bed\u001b[0m  \u001b[01;36mlibds__VIB_2__B_cell__DARs.bed\u001b[0m\n",
      "\u001b[01;36mlibds__Harvard_2__B_cell__DARs.bed\u001b[0m  \u001b[01;36mlibds__VIB_Hydrop_1__B_cell__DARs.bed\u001b[0m\n",
      "\u001b[01;36mlibds__OHSU__B_cell__DARs.bed\u001b[0m       \u001b[01;36mlibds__VIB_Hydrop_2__B_cell__DARs.bed\u001b[0m\n",
      "\u001b[01;36mlibds__Sanger_1__B_cell__DARs.bed\u001b[0m   \u001b[01;36mlibds__merged__B_cell__DARs.bedEXCLUDE\u001b[0m\n"
     ]
    }
   ],
   "source": [
    "ls libds_bcell_dars_for_heatmap"
   ]
  },
  {
   "cell_type": "code",
   "execution_count": 24,
   "id": "f3d27e4c",
   "metadata": {},
   "outputs": [],
   "source": [
    "bedops -u libds_bcell_dars_for_heatmap/*B_cell__DARs.bed > libds_bcell_dars_union/libds_dars.everything.nomerged.bed"
   ]
  },
  {
   "cell_type": "code",
   "execution_count": 25,
   "id": "da6a2c32",
   "metadata": {},
   "outputs": [],
   "source": [
    "sort-bed libds_bcell_dars_union/libds_dars.everything.nomerged.bed > libds_bcell_dars_union/libds_dars.everything.nomerged.sorted.bed"
   ]
  },
  {
   "cell_type": "markdown",
   "id": "c3abc042",
   "metadata": {},
   "source": [
    "let's check how many of these dars are unique"
   ]
  },
  {
   "cell_type": "code",
   "execution_count": 26,
   "id": "a703a95a",
   "metadata": {},
   "outputs": [
    {
     "name": "stdout",
     "output_type": "stream",
     "text": [
      "146549 libds_bcell_dars_union/libds_dars.everything.nomerged.sorted.bed\n"
     ]
    }
   ],
   "source": [
    "wc -l libds_bcell_dars_union/libds_dars.everything.nomerged.sorted.bed"
   ]
  },
  {
   "cell_type": "code",
   "execution_count": 27,
   "id": "196c499c",
   "metadata": {},
   "outputs": [],
   "source": [
    "cut -f1,2,3 libds_bcell_dars_union/libds_dars.everything.nomerged.sorted.bed > test.txt"
   ]
  },
  {
   "cell_type": "code",
   "execution_count": 28,
   "id": "fc4bc7e8",
   "metadata": {},
   "outputs": [
    {
     "name": "stdout",
     "output_type": "stream",
     "text": [
      "139547\n"
     ]
    }
   ],
   "source": [
    "uniq -u test.txt | wc -l"
   ]
  },
  {
   "cell_type": "markdown",
   "id": "acc99346",
   "metadata": {},
   "source": [
    "let's continue by counting fragments within this set"
   ]
  }
 ],
 "metadata": {
  "kernelspec": {
   "display_name": "Bash",
   "language": "bash",
   "name": "bash"
  },
  "language_info": {
   "codemirror_mode": "shell",
   "file_extension": ".sh",
   "mimetype": "text/x-sh",
   "name": "bash"
  }
 },
 "nbformat": 4,
 "nbformat_minor": 5
}
