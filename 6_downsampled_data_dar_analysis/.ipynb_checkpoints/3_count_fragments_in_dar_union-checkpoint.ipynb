{
 "cells": [
  {
   "cell_type": "code",
   "execution_count": 1,
   "id": "8f18e511",
   "metadata": {},
   "outputs": [],
   "source": [
    "import os\n",
    "import glob"
   ]
  },
  {
   "cell_type": "code",
   "execution_count": 2,
   "id": "4e2f73cb",
   "metadata": {},
   "outputs": [
    {
     "data": {
      "text/plain": [
       "'0.1.dev300+g7494158'"
      ]
     },
     "execution_count": 2,
     "metadata": {},
     "output_type": "execute_result"
    }
   ],
   "source": [
    "import pycisTopic\n",
    "pycisTopic.__version__"
   ]
  },
  {
   "cell_type": "code",
   "execution_count": 3,
   "id": "456c8962",
   "metadata": {},
   "outputs": [],
   "source": [
    "import warnings\n",
    "warnings.filterwarnings('ignore')\n",
    "warnings.simplefilter('ignore')"
   ]
  },
  {
   "cell_type": "code",
   "execution_count": 4,
   "id": "bbe1a5cf",
   "metadata": {},
   "outputs": [],
   "source": [
    "import pickle\n",
    "import pandas as pd"
   ]
  },
  {
   "cell_type": "code",
   "execution_count": 22,
   "id": "d24ea6c9",
   "metadata": {},
   "outputs": [],
   "source": [
    "import os\n",
    "wdir = '/lustre1/project/stg_00002/lcb/fderop/data/20211122_hca_benchmark_libds_dar_correlation_with_final_dars/'\n",
    "os.chdir( wdir )"
   ]
  },
  {
   "cell_type": "code",
   "execution_count": 23,
   "id": "da5c7cbf",
   "metadata": {},
   "outputs": [],
   "source": [
    "import glob\n",
    "from collections import OrderedDict"
   ]
  },
  {
   "cell_type": "markdown",
   "id": "b83f079d",
   "metadata": {},
   "source": [
    "# we read the same fragments as used in the libds downsampled analysis."
   ]
  },
  {
   "cell_type": "code",
   "execution_count": 24,
   "id": "695e8d06",
   "metadata": {},
   "outputs": [
    {
     "data": {
      "text/plain": [
       "odict_keys(['Broad_1', 'Broad_2', 'Broad_mito_1', 'Broad_mito_2', 'CNAG_1', 'CNAG_2', 'Sanger_1', 'Sanger_2', 'Stanford_1', 'Stanford_2', 'VIB_1', 'VIB_2', 'VIB_Hydrop_1', 'VIB_Hydrop_2', 's3atac'])"
      ]
     },
     "execution_count": 24,
     "metadata": {},
     "output_type": "execute_result"
    }
   ],
   "source": [
    "filenames = sorted(glob.glob('libds_fragments/*.tsv.gz'))\n",
    "samples = [item.replace(\".sinto.mm.fragments.tsv.gz\", \"\") for item in filenames]\n",
    "samples = [item.replace(\"libds_fragments/\", \"\") for item in samples]\n",
    "fragments_dict = {samples[i]: filenames[i] for i in range(len(samples))}\n",
    "fragments_dict = OrderedDict(sorted(fragments_dict.items()))\n",
    "fragments_dict.keys()"
   ]
  },
  {
   "cell_type": "markdown",
   "id": "0c5b1cae",
   "metadata": {},
   "source": [
    "# load the b cell barcodes"
   ]
  },
  {
   "cell_type": "code",
   "execution_count": 25,
   "id": "7a3ed2fd",
   "metadata": {},
   "outputs": [],
   "source": [
    "f_bcdir = 'libds_bcell_barcodes/'\n",
    "\n",
    "bc_passing_filters = {}\n",
    "for k in fragments_dict.keys():\n",
    "    file = open(os.path.join(f_bcdir,k + '.txt'), 'r')\n",
    "    bc_passing_filters[k] = [ x.strip() for x in file.readlines() ]\n",
    "    file.close()"
   ]
  },
  {
   "cell_type": "markdown",
   "id": "7b02b9e8",
   "metadata": {},
   "source": [
    "# now count within the dar union"
   ]
  },
  {
   "cell_type": "code",
   "execution_count": 26,
   "id": "62da3c20",
   "metadata": {},
   "outputs": [],
   "source": [
    "path_to_regions = 'libds_bcell_dars_union/libds_dars.everything.named.noheader.sorted.bed'\n",
    "path_to_blacklist = 'hg38_regions/hg38-blacklist.v2.bed'"
   ]
  },
  {
   "cell_type": "code",
   "execution_count": 27,
   "id": "a03f68a4",
   "metadata": {},
   "outputs": [],
   "source": [
    "f_cto_dir = 'cistopic_objs__dars_union'\n",
    "if not os.path.exists(os.path.join(wdir, f_cto_dir)):\n",
    "    os.makedirs(os.path.join(wdir, f_cto_dir))"
   ]
  },
  {
   "cell_type": "code",
   "execution_count": 28,
   "id": "6cb44ba1",
   "metadata": {},
   "outputs": [],
   "source": [
    "from pycisTopic.cistopic_class import create_cistopic_object_from_fragments"
   ]
  },
  {
   "cell_type": "markdown",
   "id": "168b8576",
   "metadata": {},
   "source": [
    "Create cistopic objects for each sample. If pandas crashes, increase the number of partitions. This is necessary for the largest files."
   ]
  },
  {
   "cell_type": "code",
   "execution_count": null,
   "id": "96d59391",
   "metadata": {
    "tags": []
   },
   "outputs": [
    {
     "name": "stdout",
     "output_type": "stream",
     "text": [
      "2021-11-23 16:44:50,719 cisTopic     INFO     Reading data for Broad_1\n"
     ]
    }
   ],
   "source": [
    "for key in fragments_dict.keys():\n",
    "    f_out = os.path.join(wdir, f_cto_dir, key + '__cistopic_obj_dars_union.pkl')\n",
    "    if os.path.isfile(f_out):\n",
    "        print(f\"Skipping {key}, already exists\")\n",
    "        continue\n",
    "        \n",
    "    tmp_cto = create_cistopic_object_from_fragments(path_to_fragments=fragments_dict[key],\n",
    "                                                    path_to_regions=path_to_regions,\n",
    "                                                    path_to_blacklist=path_to_blacklist,\n",
    "                                                    # metrics=metadata_bc_dict[key],\n",
    "                                                    valid_bc=bc_passing_filters[key],\n",
    "                                                    n_cpu=15,\n",
    "                                                    partition=5,\n",
    "                                                    project=key)\n",
    "    \n",
    "    with open(f_out, 'wb') as f:\n",
    "        pickle.dump(tmp_cto, f)\n",
    "    \n",
    "    print(f\"Generated and saved cistopic object for {key}\")"
   ]
  },
  {
   "cell_type": "code",
   "execution_count": null,
   "id": "e1c9ccfa",
   "metadata": {},
   "outputs": [],
   "source": [
    "# load objects into dict:\n",
    "cistopic_obj_dict = {}\n",
    "for key in bc_passing_filters.keys():\n",
    "    f_out = os.path.join(wdir, f_cto_dir, key + '__cistopic_obj_dars_union.pkl')\n",
    "    with open(f_out, 'rb') as f:\n",
    "        tmp_cto = pickle.load(f)\n",
    "    cistopic_obj_dict[key] = tmp_cto\n",
    "    print(f\"Loaded {key}\")"
   ]
  },
  {
   "cell_type": "markdown",
   "id": "0c39d39f",
   "metadata": {},
   "source": [
    "# check if everything went ok"
   ]
  },
  {
   "cell_type": "code",
   "execution_count": null,
   "id": "09cbdb60",
   "metadata": {},
   "outputs": [],
   "source": [
    "for key in cistopic_obj_dict.keys():\n",
    "    print(key)\n",
    "    print(f'{len(cistopic_obj_dict[key].cell_data)} cells in cto')\n",
    "    print(f'{len(pd.read_csv(f\"libds_bcell_barcodes/{key}.txt\", header=None))} cells in txt')"
   ]
  },
  {
   "cell_type": "markdown",
   "id": "1fe38f78",
   "metadata": {},
   "source": [
    "so this seems quite fine"
   ]
  },
  {
   "cell_type": "code",
   "execution_count": null,
   "id": "1fc25091",
   "metadata": {},
   "outputs": [],
   "source": [
    "counts_df = pd.DataFrame()\n",
    "for key in cistopic_obj_dict.keys():\n",
    "    counts = pd.DataFrame.sparse.from_spmatrix(cistopic_obj_dict[key].fragment_matrix.T).sum(axis=0)\n",
    "    df = pd.DataFrame(counts).T\n",
    "    df = df.rename({0:key},axis=0)\n",
    "    counts_df = pd.concat([counts_df, df])\n",
    "    print(f'{key} done')"
   ]
  },
  {
   "cell_type": "code",
   "execution_count": null,
   "id": "b9b45889",
   "metadata": {},
   "outputs": [],
   "source": [
    "counts_df.to_csv('libds_counts_tsv/fragment_counts_in_DAR_union.tsv', sep='\\t', header=True, index=True)"
   ]
  },
  {
   "cell_type": "markdown",
   "id": "8778adb3",
   "metadata": {},
   "source": [
    "# now plot"
   ]
  },
  {
   "cell_type": "code",
   "execution_count": null,
   "id": "e2316174",
   "metadata": {},
   "outputs": [],
   "source": [
    "import matplotlib.pyplot as plt"
   ]
  },
  {
   "cell_type": "code",
   "execution_count": null,
   "id": "4ed5459c",
   "metadata": {},
   "outputs": [],
   "source": [
    "import pandas as pd\n",
    "import seaborn as sns"
   ]
  },
  {
   "cell_type": "code",
   "execution_count": null,
   "id": "16b45a5d",
   "metadata": {},
   "outputs": [],
   "source": [
    "from scipy.stats import pearsonr\n",
    "import matplotlib.pyplot as plt \n",
    "\n",
    "def corrfunc(x, y, ax=None, **kws):\n",
    "    \"\"\"Plot the correlation coefficient in the top left hand corner of a plot.\"\"\"\n",
    "    r, _ = pearsonr(x, y)\n",
    "    ax = ax or plt.gca()\n",
    "    ax.annotate(f'r = {r:.2f}', xy=(.1, .9), xycoords=ax.transAxes)"
   ]
  },
  {
   "cell_type": "code",
   "execution_count": null,
   "id": "bf242ead",
   "metadata": {},
   "outputs": [],
   "source": [
    "df = pd.read_csv('libds_counts_tsv/fragment_counts_in_DAR_union.tsv', sep='\\t', header=0, index_col=0)"
   ]
  },
  {
   "cell_type": "code",
   "execution_count": null,
   "id": "b5cb2312",
   "metadata": {},
   "outputs": [],
   "source": [
    "df = df.fillna(0)"
   ]
  },
  {
   "cell_type": "code",
   "execution_count": null,
   "id": "8f2f6596",
   "metadata": {},
   "outputs": [],
   "source": [
    "g = sns.pairplot(df.T, corner=True, plot_kws={'s':0.1})\n",
    "g.map_lower(corrfunc)\n",
    "plt.savefig('plts_pub/fragment_counts_in_DAR_union_corr.png', facecolor='white')"
   ]
  },
  {
   "cell_type": "markdown",
   "id": "d2847745",
   "metadata": {},
   "source": [
    "this doesn't seem to work too hot. let's re-calculate with log2cpm"
   ]
  },
  {
   "cell_type": "code",
   "execution_count": null,
   "id": "90105773",
   "metadata": {},
   "outputs": [],
   "source": [
    "import numpy as np"
   ]
  },
  {
   "cell_type": "code",
   "execution_count": null,
   "id": "e1036d3a",
   "metadata": {},
   "outputs": [],
   "source": [
    "df_log = np.log(df)"
   ]
  },
  {
   "cell_type": "code",
   "execution_count": null,
   "id": "40987ad6",
   "metadata": {},
   "outputs": [],
   "source": [
    "df_log"
   ]
  },
  {
   "cell_type": "code",
   "execution_count": null,
   "id": "d011611a",
   "metadata": {},
   "outputs": [],
   "source": [
    "sns.pairplot(df_log.T, corner=True, plot_kws={'s':0.1})\n",
    "plt.savefig('plts_pub/fragment_counts_in_DAR_union_corr_log_reads.png', facecolor='white')"
   ]
  },
  {
   "cell_type": "markdown",
   "id": "da0d4ca0",
   "metadata": {},
   "source": [
    "or what about log cpm"
   ]
  },
  {
   "cell_type": "code",
   "execution_count": null,
   "id": "02cf4380",
   "metadata": {},
   "outputs": [],
   "source": [
    "df_log_cpm = np.log(df.div(df.sum(axis=1)/1000000, axis=0))"
   ]
  },
  {
   "cell_type": "code",
   "execution_count": null,
   "id": "6c3c6a9d",
   "metadata": {},
   "outputs": [],
   "source": [
    "df_log_cpm = df_log_cpm.fillna(0)"
   ]
  },
  {
   "cell_type": "code",
   "execution_count": null,
   "id": "4873a1c6",
   "metadata": {},
   "outputs": [],
   "source": [
    "g = sns.pairplot(df_log_cpm.T, corner=True, plot_kws={'s':0.1})\n",
    "g.map_lower(corrfunc)\n",
    "\n",
    "plt.savefig('plts_pub/fragment_counts_in_DAR_union_corr_log_cpm_reads.png', facecolor='white', dpi=300)"
   ]
  },
  {
   "cell_type": "markdown",
   "id": "f7d95b44",
   "metadata": {},
   "source": [
    "# ok, this isn't great\n",
    "try with the `merged` DARs"
   ]
  },
  {
   "cell_type": "code",
   "execution_count": null,
   "id": "7f25c0cc",
   "metadata": {},
   "outputs": [],
   "source": [
    "path_to_regions = '/lustre1/project/stg_00002/lcb/fderop/data/20211024_hca_benchmark_libds_merged/downstream_analysis/DARs/libds__libds_merged__B_cell__DARs.bed'\n",
    "path_to_blacklist = 'hg38_regions/hg38-blacklist.v2.bed'"
   ]
  },
  {
   "cell_type": "code",
   "execution_count": null,
   "id": "a7d8dcf8",
   "metadata": {},
   "outputs": [],
   "source": [
    "f_cto_dir = 'cistopic_objs___merged_dars'\n",
    "if not os.path.exists(os.path.join(wdir, f_cto_dir)):\n",
    "    os.makedirs(os.path.join(wdir, f_cto_dir))"
   ]
  },
  {
   "cell_type": "code",
   "execution_count": null,
   "id": "661da1e8",
   "metadata": {},
   "outputs": [],
   "source": [
    "from pycisTopic.cistopic_class import create_cistopic_object_from_fragments"
   ]
  },
  {
   "cell_type": "markdown",
   "id": "6bd1f512",
   "metadata": {},
   "source": [
    "Create cistopic objects for each sample. If pandas crashes, increase the number of partitions. This is necessary for the largest files."
   ]
  },
  {
   "cell_type": "code",
   "execution_count": null,
   "id": "73f639d5",
   "metadata": {
    "tags": []
   },
   "outputs": [],
   "source": [
    "for key in fragments_dict.keys():\n",
    "    f_out = os.path.join(wdir, f_cto_dir, key + '__cistopic_obj_dars_union.pkl')\n",
    "    if os.path.isfile(f_out):\n",
    "        print(f\"Skipping {key}, already exists\")\n",
    "        continue\n",
    "        \n",
    "    tmp_cto = create_cistopic_object_from_fragments(path_to_fragments=fragments_dict[key],\n",
    "                                                    path_to_regions=path_to_regions,\n",
    "                                                    path_to_blacklist=path_to_blacklist,\n",
    "                                                    # metrics=metadata_bc_dict[key],\n",
    "                                                    valid_bc=bc_passing_filters[key],\n",
    "                                                    n_cpu=15,\n",
    "                                                    partition=5,\n",
    "                                                    project=key)\n",
    "    \n",
    "    with open(f_out, 'wb') as f:\n",
    "        pickle.dump(tmp_cto, f)\n",
    "    \n",
    "    print(f\"Generated and saved cistopic object for {key}\")"
   ]
  },
  {
   "cell_type": "code",
   "execution_count": null,
   "id": "0dcac60e",
   "metadata": {},
   "outputs": [],
   "source": [
    "# load objects into dict:\n",
    "cistopic_obj_dict = {}\n",
    "for key in bc_passing_filters.keys():\n",
    "    f_out = os.path.join(wdir, f_cto_dir, key + '__cistopic_obj_dars_union.pkl')\n",
    "    with open(f_out, 'rb') as f:\n",
    "        tmp_cto = pickle.load(f)\n",
    "    cistopic_obj_dict[key] = tmp_cto\n",
    "    print(f\"Loaded {key}\")"
   ]
  },
  {
   "cell_type": "markdown",
   "id": "0294858d",
   "metadata": {},
   "source": [
    "# check if everything went ok"
   ]
  },
  {
   "cell_type": "code",
   "execution_count": null,
   "id": "eb11b22b",
   "metadata": {},
   "outputs": [],
   "source": [
    "for key in cistopic_obj_dict.keys():\n",
    "    print(key)\n",
    "    print(f'{len(cistopic_obj_dict[key].cell_data)} cells in cto')\n",
    "    print(f'{len(pd.read_csv(f\"libds_bcell_barcodes/{key}.txt\", header=None))} cells in txt')"
   ]
  },
  {
   "cell_type": "markdown",
   "id": "70dac2fc",
   "metadata": {},
   "source": [
    "so this seems quite fine"
   ]
  },
  {
   "cell_type": "code",
   "execution_count": null,
   "id": "61e02cea",
   "metadata": {},
   "outputs": [],
   "source": [
    "counts_df = pd.DataFrame()\n",
    "for key in cistopic_obj_dict.keys():\n",
    "    counts = pd.DataFrame.sparse.from_spmatrix(cistopic_obj_dict[key].fragment_matrix.T).sum(axis=0)\n",
    "    df = pd.DataFrame(counts).T\n",
    "    df = df.rename({0:key},axis=0)\n",
    "    counts_df = pd.concat([counts_df, df])\n",
    "    print(f'{key} done')"
   ]
  },
  {
   "cell_type": "code",
   "execution_count": null,
   "id": "2b8cf972",
   "metadata": {},
   "outputs": [],
   "source": [
    "counts_df.to_csv('libds_counts_tsv/fragment_counts_in_merged_DARs.tsv', sep='\\t', header=True, index=True)"
   ]
  },
  {
   "cell_type": "markdown",
   "id": "a8974e1f",
   "metadata": {},
   "source": [
    "# now plot"
   ]
  },
  {
   "cell_type": "code",
   "execution_count": null,
   "id": "9d0b837a",
   "metadata": {},
   "outputs": [],
   "source": [
    "import matplotlib.pyplot as plt"
   ]
  },
  {
   "cell_type": "code",
   "execution_count": null,
   "id": "c03fab49",
   "metadata": {},
   "outputs": [],
   "source": [
    "import pandas as pd\n",
    "import seaborn as sns"
   ]
  },
  {
   "cell_type": "code",
   "execution_count": null,
   "id": "bdc402e5",
   "metadata": {},
   "outputs": [],
   "source": [
    "from scipy.stats import pearsonr\n",
    "import matplotlib.pyplot as plt \n",
    "\n",
    "def corrfunc(x, y, ax=None, **kws):\n",
    "    \"\"\"Plot the correlation coefficient in the top left hand corner of a plot.\"\"\"\n",
    "    r, _ = pearsonr(x, y)\n",
    "    ax = ax or plt.gca()\n",
    "    ax.annotate(f'r = {r:.2f}', xy=(.1, .9), xycoords=ax.transAxes)"
   ]
  },
  {
   "cell_type": "code",
   "execution_count": null,
   "id": "66c069b1",
   "metadata": {},
   "outputs": [],
   "source": [
    "df = pd.read_csv('libds_counts_tsv/fragment_counts_in_merged_DARs.tsv', sep='\\t', header=0, index_col=0)"
   ]
  },
  {
   "cell_type": "code",
   "execution_count": null,
   "id": "6f8ec614",
   "metadata": {},
   "outputs": [],
   "source": [
    "df = df.fillna(0)"
   ]
  },
  {
   "cell_type": "code",
   "execution_count": null,
   "id": "759ef79b",
   "metadata": {},
   "outputs": [],
   "source": [
    "g = sns.pairplot(df.T, corner=True, plot_kws={'s':0.1})\n",
    "g.map_lower(corrfunc)\n",
    "plt.savefig('plts_pub/fragment_counts_in_merged_dars_corr.png', facecolor='white')"
   ]
  },
  {
   "cell_type": "markdown",
   "id": "a1f8188f",
   "metadata": {},
   "source": [
    "this doesn't seem to work too hot. let's re-calculate with log2cpm"
   ]
  },
  {
   "cell_type": "code",
   "execution_count": null,
   "id": "3637b10a",
   "metadata": {},
   "outputs": [],
   "source": [
    "df = pd.read_csv('libds_counts_tsv/fragment_counts_in_merged_DARs.tsv', sep='\\t', header=0, index_col=0)\n",
    "df = df.fillna(0)\n",
    "df = df + 1\n",
    "df_log = np.log(df)"
   ]
  },
  {
   "cell_type": "code",
   "execution_count": null,
   "id": "a94fd767",
   "metadata": {},
   "outputs": [],
   "source": [
    "df_log.isna().sum().sum()"
   ]
  },
  {
   "cell_type": "code",
   "execution_count": null,
   "id": "aafec054",
   "metadata": {},
   "outputs": [],
   "source": [
    "np.isinf(df_log).sum().sum()"
   ]
  },
  {
   "cell_type": "code",
   "execution_count": null,
   "id": "c1260e05",
   "metadata": {},
   "outputs": [],
   "source": [
    "g = sns.pairplot(df_log.T, corner=True, plot_kws={'s':0.1})\n",
    "g.map_lower(corrfunc)\n",
    "\n",
    "plt.savefig('plts_pub/fragment_counts_in_merged_dars_corr_log_reads.png', facecolor='white')"
   ]
  },
  {
   "cell_type": "markdown",
   "id": "5ebcef82",
   "metadata": {},
   "source": [
    "or what about log cpm"
   ]
  },
  {
   "cell_type": "code",
   "execution_count": null,
   "id": "73496bae",
   "metadata": {},
   "outputs": [],
   "source": [
    "df = pd.read_csv('libds_counts_tsv/fragment_counts_in_merged_DARs.tsv', sep='\\t', header=0, index_col=0)\n",
    "df = df.fillna(0)\n",
    "df = df + 1\n",
    "df_log_cpm = np.log(df.div(df.sum(axis=1)/1000000, axis=0))"
   ]
  },
  {
   "cell_type": "code",
   "execution_count": null,
   "id": "668c9a64",
   "metadata": {},
   "outputs": [],
   "source": [
    "df_log_cpm = df_log_cpm.fillna(0)"
   ]
  },
  {
   "cell_type": "code",
   "execution_count": null,
   "id": "5ea30ba0",
   "metadata": {},
   "outputs": [],
   "source": [
    "df_log_cpm.isna().sum().sum()"
   ]
  },
  {
   "cell_type": "code",
   "execution_count": null,
   "id": "8af1bd50",
   "metadata": {},
   "outputs": [],
   "source": [
    "np.isinf(df_log_cpm).sum().sum()"
   ]
  },
  {
   "cell_type": "code",
   "execution_count": null,
   "id": "01f6e852",
   "metadata": {},
   "outputs": [],
   "source": [
    "g = sns.pairplot(df_log_cpm.T, corner=True, plot_kws={'s':0.1})\n",
    "g.map_lower(corrfunc)\n",
    "\n",
    "plt.savefig('plts_pub/fragment_counts_in_merged_dars_corr_log_cpm_reads.png', facecolor='white', dpi=300)"
   ]
  },
  {
   "cell_type": "code",
   "execution_count": null,
   "id": "cf928991",
   "metadata": {},
   "outputs": [],
   "source": []
  },
  {
   "cell_type": "code",
   "execution_count": null,
   "id": "dbfcc467",
   "metadata": {},
   "outputs": [],
   "source": []
  }
 ],
 "metadata": {
  "kernelspec": {
   "display_name": "pycisTopic_singularity_20210921",
   "language": "python",
   "name": "pycistopic_singularity"
  },
  "language_info": {
   "codemirror_mode": {
    "name": "ipython",
    "version": 3
   },
   "file_extension": ".py",
   "mimetype": "text/x-python",
   "name": "python",
   "nbconvert_exporter": "python",
   "pygments_lexer": "ipython3",
   "version": "3.8.6"
  }
 },
 "nbformat": 4,
 "nbformat_minor": 5
}
