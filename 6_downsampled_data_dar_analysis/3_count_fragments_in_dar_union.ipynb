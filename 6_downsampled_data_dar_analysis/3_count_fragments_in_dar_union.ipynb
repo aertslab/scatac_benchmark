{
 "cells": [
  {
   "cell_type": "code",
   "execution_count": 1,
   "id": "31a9f2e3",
   "metadata": {},
   "outputs": [],
   "source": [
    "import os\n",
    "import glob"
   ]
  },
  {
   "cell_type": "code",
   "execution_count": 2,
   "id": "f345144e",
   "metadata": {},
   "outputs": [
    {
     "data": {
      "text/plain": [
       "'0.1.dev300+g7494158'"
      ]
     },
     "execution_count": 2,
     "metadata": {},
     "output_type": "execute_result"
    }
   ],
   "source": [
    "import pycisTopic\n",
    "pycisTopic.__version__"
   ]
  },
  {
   "cell_type": "code",
   "execution_count": 3,
   "id": "555b4532",
   "metadata": {},
   "outputs": [],
   "source": [
    "import warnings\n",
    "warnings.filterwarnings('ignore')\n",
    "warnings.simplefilter('ignore')"
   ]
  },
  {
   "cell_type": "code",
   "execution_count": 4,
   "id": "7295104f",
   "metadata": {},
   "outputs": [],
   "source": [
    "import pickle\n",
    "import pandas as pd"
   ]
  },
  {
   "cell_type": "code",
   "execution_count": 22,
   "id": "0aaac968",
   "metadata": {},
   "outputs": [],
   "source": [
    "import os\n",
    "wdir = '/lustre1/project/stg_00002/lcb/fderop/data/20211122_hca_benchmark_libds_dar_correlation_with_final_dars/'\n",
    "os.chdir( wdir )"
   ]
  },
  {
   "cell_type": "code",
   "execution_count": 23,
   "id": "2d80b65a",
   "metadata": {},
   "outputs": [],
   "source": [
    "import glob\n",
    "from collections import OrderedDict"
   ]
  },
  {
   "cell_type": "markdown",
   "id": "395290df",
   "metadata": {},
   "source": [
    "# we read the same fragments as used in the libds downsampled analysis."
   ]
  },
  {
   "cell_type": "code",
   "execution_count": 24,
   "id": "61eac16b",
   "metadata": {},
   "outputs": [
    {
     "data": {
      "text/plain": [
       "odict_keys(['Broad_1', 'Broad_2', 'Broad_mito_1', 'Broad_mito_2', 'CNAG_1', 'CNAG_2', 'Sanger_1', 'Sanger_2', 'Stanford_1', 'Stanford_2', 'VIB_1', 'VIB_2', 'VIB_Hydrop_1', 'VIB_Hydrop_2', 's3atac'])"
      ]
     },
     "execution_count": 24,
     "metadata": {},
     "output_type": "execute_result"
    }
   ],
   "source": [
    "filenames = sorted(glob.glob('libds_fragments/*.tsv.gz'))\n",
    "samples = [item.replace(\".sinto.mm.fragments.tsv.gz\", \"\") for item in filenames]\n",
    "samples = [item.replace(\"libds_fragments/\", \"\") for item in samples]\n",
    "fragments_dict = {samples[i]: filenames[i] for i in range(len(samples))}\n",
    "fragments_dict = OrderedDict(sorted(fragments_dict.items()))\n",
    "fragments_dict.keys()"
   ]
  },
  {
   "cell_type": "markdown",
   "id": "29c980c9",
   "metadata": {},
   "source": [
    "# load the b cell barcodes"
   ]
  },
  {
   "cell_type": "code",
   "execution_count": 25,
   "id": "1bd798c3",
   "metadata": {},
   "outputs": [],
   "source": [
    "f_bcdir = 'libds_bcell_barcodes/'\n",
    "\n",
    "bc_passing_filters = {}\n",
    "for k in fragments_dict.keys():\n",
    "    file = open(os.path.join(f_bcdir,k + '.txt'), 'r')\n",
    "    bc_passing_filters[k] = [ x.strip() for x in file.readlines() ]\n",
    "    file.close()"
   ]
  },
  {
   "cell_type": "markdown",
   "id": "5cd3d068",
   "metadata": {},
   "source": [
    "# now count within the dar union"
   ]
  },
  {
   "cell_type": "code",
   "execution_count": 26,
   "id": "bdb708f0",
   "metadata": {},
   "outputs": [],
   "source": [
    "path_to_regions = 'libds_bcell_dars_union/libds_dars.everything.named.noheader.sorted.bed'\n",
    "path_to_blacklist = 'hg38_regions/hg38-blacklist.v2.bed'"
   ]
  },
  {
   "cell_type": "code",
   "execution_count": 27,
   "id": "9792536d",
   "metadata": {},
   "outputs": [],
   "source": [
    "f_cto_dir = 'cistopic_objs__dars_union'\n",
    "if not os.path.exists(os.path.join(wdir, f_cto_dir)):\n",
    "    os.makedirs(os.path.join(wdir, f_cto_dir))"
   ]
  },
  {
   "cell_type": "code",
   "execution_count": 28,
   "id": "dd66a371",
   "metadata": {},
   "outputs": [],
   "source": [
    "from pycisTopic.cistopic_class import create_cistopic_object_from_fragments"
   ]
  },
  {
   "cell_type": "markdown",
   "id": "78636294",
   "metadata": {},
   "source": [
    "Create cistopic objects for each sample. If pandas crashes, increase the number of partitions. This is necessary for the largest files."
   ]
  },
  {
   "cell_type": "code",
   "execution_count": 29,
   "id": "5698813b",
   "metadata": {
    "tags": []
   },
   "outputs": [
    {
     "name": "stdout",
     "output_type": "stream",
     "text": [
      "2021-11-23 16:44:50,719 cisTopic     INFO     Reading data for Broad_1\n"
     ]
    },
    {
     "ename": "FileNotFoundError",
     "evalue": "[Errno 2] No such file or directory: 'libds_bcell_dars_union/libds_dars.everything.named.noheader.sorted.bed'",
     "output_type": "error",
     "traceback": [
      "\u001b[0;31m---------------------------------------------------------------------------\u001b[0m",
      "\u001b[0;31mFileNotFoundError\u001b[0m                         Traceback (most recent call last)",
      "\u001b[0;32m/local_scratch/tmp-vsc33042/ipykernel_20619/1451867498.py\u001b[0m in \u001b[0;36m<module>\u001b[0;34m\u001b[0m\n\u001b[1;32m      5\u001b[0m         \u001b[0;32mcontinue\u001b[0m\u001b[0;34m\u001b[0m\u001b[0;34m\u001b[0m\u001b[0m\n\u001b[1;32m      6\u001b[0m \u001b[0;34m\u001b[0m\u001b[0m\n\u001b[0;32m----> 7\u001b[0;31m     tmp_cto = create_cistopic_object_from_fragments(path_to_fragments=fragments_dict[key],\n\u001b[0m\u001b[1;32m      8\u001b[0m                                                     \u001b[0mpath_to_regions\u001b[0m\u001b[0;34m=\u001b[0m\u001b[0mpath_to_regions\u001b[0m\u001b[0;34m,\u001b[0m\u001b[0;34m\u001b[0m\u001b[0;34m\u001b[0m\u001b[0m\n\u001b[1;32m      9\u001b[0m                                                     \u001b[0mpath_to_blacklist\u001b[0m\u001b[0;34m=\u001b[0m\u001b[0mpath_to_blacklist\u001b[0m\u001b[0;34m,\u001b[0m\u001b[0;34m\u001b[0m\u001b[0;34m\u001b[0m\u001b[0m\n",
      "\u001b[0;32m/opt/venv/lib/python3.8/site-packages/pycisTopic/cistopic_class.py\u001b[0m in \u001b[0;36mcreate_cistopic_object_from_fragments\u001b[0;34m(path_to_fragments, path_to_regions, path_to_blacklist, metrics, valid_bc, n_cpu, min_frag, min_cell, is_acc, check_for_duplicates, project, partition, fragments_df)\u001b[0m\n\u001b[1;32m    733\u001b[0m         \u001b[0mfragments\u001b[0m \u001b[0;34m=\u001b[0m \u001b[0mpr\u001b[0m\u001b[0;34m.\u001b[0m\u001b[0mPyRanges\u001b[0m\u001b[0;34m(\u001b[0m\u001b[0mfragments_df\u001b[0m\u001b[0;34m)\u001b[0m\u001b[0;34m\u001b[0m\u001b[0;34m\u001b[0m\u001b[0m\n\u001b[1;32m    734\u001b[0m \u001b[0;34m\u001b[0m\u001b[0m\n\u001b[0;32m--> 735\u001b[0;31m     \u001b[0mregions\u001b[0m \u001b[0;34m=\u001b[0m \u001b[0mpr\u001b[0m\u001b[0;34m.\u001b[0m\u001b[0mread_bed\u001b[0m\u001b[0;34m(\u001b[0m\u001b[0mpath_to_regions\u001b[0m\u001b[0;34m)\u001b[0m\u001b[0;34m\u001b[0m\u001b[0;34m\u001b[0m\u001b[0m\n\u001b[0m\u001b[1;32m    736\u001b[0m     \u001b[0mregions\u001b[0m \u001b[0;34m=\u001b[0m \u001b[0mregions\u001b[0m\u001b[0;34m[\u001b[0m\u001b[0;34m[\u001b[0m\u001b[0;34m'Chromosome'\u001b[0m\u001b[0;34m,\u001b[0m \u001b[0;34m'Start'\u001b[0m\u001b[0;34m,\u001b[0m \u001b[0;34m'End'\u001b[0m\u001b[0;34m]\u001b[0m\u001b[0;34m]\u001b[0m\u001b[0;34m\u001b[0m\u001b[0;34m\u001b[0m\u001b[0m\n\u001b[1;32m    737\u001b[0m     regions.regionID = (\n",
      "\u001b[0;32m/opt/venv/lib/python3.8/site-packages/pyranges/readers.py\u001b[0m in \u001b[0;36mread_bed\u001b[0;34m(f, as_df, nrows)\u001b[0m\n\u001b[1;32m     77\u001b[0m         \u001b[0mfirst_start\u001b[0m \u001b[0;34m=\u001b[0m \u001b[0mgzip\u001b[0m\u001b[0;34m.\u001b[0m\u001b[0mopen\u001b[0m\u001b[0;34m(\u001b[0m\u001b[0mf\u001b[0m\u001b[0;34m)\u001b[0m\u001b[0;34m.\u001b[0m\u001b[0mreadline\u001b[0m\u001b[0;34m(\u001b[0m\u001b[0;34m)\u001b[0m\u001b[0;34m.\u001b[0m\u001b[0msplit\u001b[0m\u001b[0;34m(\u001b[0m\u001b[0;34m)\u001b[0m\u001b[0;34m[\u001b[0m\u001b[0;36m1\u001b[0m\u001b[0;34m]\u001b[0m\u001b[0;34m\u001b[0m\u001b[0;34m\u001b[0m\u001b[0m\n\u001b[1;32m     78\u001b[0m     \u001b[0;32melse\u001b[0m\u001b[0;34m:\u001b[0m\u001b[0;34m\u001b[0m\u001b[0;34m\u001b[0m\u001b[0m\n\u001b[0;32m---> 79\u001b[0;31m         \u001b[0mfirst_start\u001b[0m \u001b[0;34m=\u001b[0m \u001b[0mopen\u001b[0m\u001b[0;34m(\u001b[0m\u001b[0mf\u001b[0m\u001b[0;34m)\u001b[0m\u001b[0;34m.\u001b[0m\u001b[0mreadline\u001b[0m\u001b[0;34m(\u001b[0m\u001b[0;34m)\u001b[0m\u001b[0;34m.\u001b[0m\u001b[0msplit\u001b[0m\u001b[0;34m(\u001b[0m\u001b[0;34m)\u001b[0m\u001b[0;34m[\u001b[0m\u001b[0;36m1\u001b[0m\u001b[0;34m]\u001b[0m\u001b[0;34m\u001b[0m\u001b[0;34m\u001b[0m\u001b[0m\n\u001b[0m\u001b[1;32m     80\u001b[0m \u001b[0;34m\u001b[0m\u001b[0m\n\u001b[1;32m     81\u001b[0m     \u001b[0mheader\u001b[0m \u001b[0;34m=\u001b[0m \u001b[0;32mNone\u001b[0m\u001b[0;34m\u001b[0m\u001b[0;34m\u001b[0m\u001b[0m\n",
      "\u001b[0;31mFileNotFoundError\u001b[0m: [Errno 2] No such file or directory: 'libds_bcell_dars_union/libds_dars.everything.named.noheader.sorted.bed'"
     ]
    }
   ],
   "source": [
    "for key in fragments_dict.keys():\n",
    "    f_out = os.path.join(wdir, f_cto_dir, key + '__cistopic_obj_dars_union.pkl')\n",
    "    if os.path.isfile(f_out):\n",
    "        print(f\"Skipping {key}, already exists\")\n",
    "        continue\n",
    "        \n",
    "    tmp_cto = create_cistopic_object_from_fragments(path_to_fragments=fragments_dict[key],\n",
    "                                                    path_to_regions=path_to_regions,\n",
    "                                                    path_to_blacklist=path_to_blacklist,\n",
    "                                                    # metrics=metadata_bc_dict[key],\n",
    "                                                    valid_bc=bc_passing_filters[key],\n",
    "                                                    n_cpu=15,\n",
    "                                                    partition=5,\n",
    "                                                    project=key)\n",
    "    \n",
    "    with open(f_out, 'wb') as f:\n",
    "        pickle.dump(tmp_cto, f)\n",
    "    \n",
    "    print(f\"Generated and saved cistopic object for {key}\")"
   ]
  },
  {
   "cell_type": "code",
   "execution_count": null,
   "id": "6e2e2506",
   "metadata": {},
   "outputs": [],
   "source": [
    "# load objects into dict:\n",
    "cistopic_obj_dict = {}\n",
    "for key in bc_passing_filters.keys():\n",
    "    f_out = os.path.join(wdir, f_cto_dir, key + '__cistopic_obj_dars_union.pkl')\n",
    "    with open(f_out, 'rb') as f:\n",
    "        tmp_cto = pickle.load(f)\n",
    "    cistopic_obj_dict[key] = tmp_cto\n",
    "    print(f\"Loaded {key}\")"
   ]
  },
  {
   "cell_type": "markdown",
   "id": "a3be1850",
   "metadata": {},
   "source": [
    "# check if everything went ok"
   ]
  },
  {
   "cell_type": "code",
   "execution_count": null,
   "id": "f3e0255a",
   "metadata": {},
   "outputs": [],
   "source": [
    "for key in cistopic_obj_dict.keys():\n",
    "    print(key)\n",
    "    print(f'{len(cistopic_obj_dict[key].cell_data)} cells in cto')\n",
    "    print(f'{len(pd.read_csv(f\"libds_bcell_barcodes/{key}.txt\", header=None))} cells in txt')"
   ]
  },
  {
   "cell_type": "markdown",
   "id": "d27b04b2",
   "metadata": {},
   "source": [
    "so this seems quite fine"
   ]
  },
  {
   "cell_type": "code",
   "execution_count": null,
   "id": "bc7faa48",
   "metadata": {},
   "outputs": [],
   "source": [
    "counts_df = pd.DataFrame()\n",
    "for key in cistopic_obj_dict.keys():\n",
    "    counts = pd.DataFrame.sparse.from_spmatrix(cistopic_obj_dict[key].fragment_matrix.T).sum(axis=0)\n",
    "    df = pd.DataFrame(counts).T\n",
    "    df = df.rename({0:key},axis=0)\n",
    "    counts_df = pd.concat([counts_df, df])\n",
    "    print(f'{key} done')"
   ]
  },
  {
   "cell_type": "code",
   "execution_count": null,
   "id": "1bee420b",
   "metadata": {},
   "outputs": [],
   "source": [
    "counts_df.to_csv('libds_counts_tsv/fragment_counts_in_DAR_union.tsv', sep='\\t', header=True, index=True)"
   ]
  },
  {
   "cell_type": "markdown",
   "id": "e56c7143",
   "metadata": {},
   "source": [
    "# now plot"
   ]
  },
  {
   "cell_type": "code",
   "execution_count": null,
   "id": "80c5aa68",
   "metadata": {},
   "outputs": [],
   "source": [
    "import matplotlib.pyplot as plt"
   ]
  },
  {
   "cell_type": "code",
   "execution_count": null,
   "id": "7739bbe9",
   "metadata": {},
   "outputs": [],
   "source": [
    "import pandas as pd\n",
    "import seaborn as sns"
   ]
  },
  {
   "cell_type": "code",
   "execution_count": null,
   "id": "6d3b8bb5",
   "metadata": {},
   "outputs": [],
   "source": [
    "from scipy.stats import pearsonr\n",
    "import matplotlib.pyplot as plt \n",
    "\n",
    "def corrfunc(x, y, ax=None, **kws):\n",
    "    \"\"\"Plot the correlation coefficient in the top left hand corner of a plot.\"\"\"\n",
    "    r, _ = pearsonr(x, y)\n",
    "    ax = ax or plt.gca()\n",
    "    ax.annotate(f'r = {r:.2f}', xy=(.1, .9), xycoords=ax.transAxes)"
   ]
  },
  {
   "cell_type": "code",
   "execution_count": null,
   "id": "95570e8f",
   "metadata": {},
   "outputs": [],
   "source": [
    "df = pd.read_csv('libds_counts_tsv/fragment_counts_in_DAR_union.tsv', sep='\\t', header=0, index_col=0)"
   ]
  },
  {
   "cell_type": "code",
   "execution_count": null,
   "id": "99ce20ca",
   "metadata": {},
   "outputs": [],
   "source": [
    "df = df.fillna(0)"
   ]
  },
  {
   "cell_type": "code",
   "execution_count": null,
   "id": "a1eb81ba",
   "metadata": {},
   "outputs": [],
   "source": [
    "g = sns.pairplot(df.T, corner=True, plot_kws={'s':0.1})\n",
    "g.map_lower(corrfunc)\n",
    "plt.savefig('plts_pub/fragment_counts_in_DAR_union_corr.png', facecolor='white')"
   ]
  },
  {
   "cell_type": "markdown",
   "id": "94cc6655",
   "metadata": {},
   "source": [
    "this doesn't seem to work too hot. let's re-calculate with log2cpm"
   ]
  },
  {
   "cell_type": "code",
   "execution_count": null,
   "id": "beebd6c5",
   "metadata": {},
   "outputs": [],
   "source": [
    "import numpy as np"
   ]
  },
  {
   "cell_type": "code",
   "execution_count": null,
   "id": "5abf933d",
   "metadata": {},
   "outputs": [],
   "source": [
    "df_log = np.log(df)"
   ]
  },
  {
   "cell_type": "code",
   "execution_count": null,
   "id": "7e38babe",
   "metadata": {},
   "outputs": [],
   "source": [
    "df_log"
   ]
  },
  {
   "cell_type": "code",
   "execution_count": null,
   "id": "702ac49b",
   "metadata": {},
   "outputs": [],
   "source": [
    "sns.pairplot(df_log.T, corner=True, plot_kws={'s':0.1})\n",
    "plt.savefig('plts_pub/fragment_counts_in_DAR_union_corr_log_reads.png', facecolor='white')"
   ]
  },
  {
   "cell_type": "markdown",
   "id": "0e55a533",
   "metadata": {},
   "source": [
    "or what about log cpm"
   ]
  },
  {
   "cell_type": "code",
   "execution_count": null,
   "id": "f6ee7e2e",
   "metadata": {},
   "outputs": [],
   "source": [
    "df_log_cpm = np.log(df.div(df.sum(axis=1)/1000000, axis=0))"
   ]
  },
  {
   "cell_type": "code",
   "execution_count": null,
   "id": "d426f3f7",
   "metadata": {},
   "outputs": [],
   "source": [
    "df_log_cpm = df_log_cpm.fillna(0)"
   ]
  },
  {
   "cell_type": "code",
   "execution_count": null,
   "id": "55993e1f",
   "metadata": {},
   "outputs": [],
   "source": [
    "g = sns.pairplot(df_log_cpm.T, corner=True, plot_kws={'s':0.1})\n",
    "g.map_lower(corrfunc)\n",
    "\n",
    "plt.savefig('plts_pub/fragment_counts_in_DAR_union_corr_log_cpm_reads.png', facecolor='white', dpi=300)"
   ]
  },
  {
   "cell_type": "markdown",
   "id": "e38df5f8",
   "metadata": {},
   "source": [
    "# ok, this isn't great\n",
    "try with the `merged` DARs"
   ]
  },
  {
   "cell_type": "code",
   "execution_count": null,
   "id": "c9ffffc2",
   "metadata": {},
   "outputs": [],
   "source": [
    "path_to_regions = '/lustre1/project/stg_00002/lcb/fderop/data/20211024_hca_benchmark_libds_merged/downstream_analysis/DARs/libds__libds_merged__B_cell__DARs.bed'\n",
    "path_to_blacklist = 'hg38_regions/hg38-blacklist.v2.bed'"
   ]
  },
  {
   "cell_type": "code",
   "execution_count": null,
   "id": "e2b80af7",
   "metadata": {},
   "outputs": [],
   "source": [
    "f_cto_dir = 'cistopic_objs___merged_dars'\n",
    "if not os.path.exists(os.path.join(wdir, f_cto_dir)):\n",
    "    os.makedirs(os.path.join(wdir, f_cto_dir))"
   ]
  },
  {
   "cell_type": "code",
   "execution_count": null,
   "id": "60060741",
   "metadata": {},
   "outputs": [],
   "source": [
    "from pycisTopic.cistopic_class import create_cistopic_object_from_fragments"
   ]
  },
  {
   "cell_type": "markdown",
   "id": "598d74a6",
   "metadata": {},
   "source": [
    "Create cistopic objects for each sample. If pandas crashes, increase the number of partitions. This is necessary for the largest files."
   ]
  },
  {
   "cell_type": "code",
   "execution_count": null,
   "id": "9c1d5df5",
   "metadata": {
    "tags": []
   },
   "outputs": [],
   "source": [
    "for key in fragments_dict.keys():\n",
    "    f_out = os.path.join(wdir, f_cto_dir, key + '__cistopic_obj_dars_union.pkl')\n",
    "    if os.path.isfile(f_out):\n",
    "        print(f\"Skipping {key}, already exists\")\n",
    "        continue\n",
    "        \n",
    "    tmp_cto = create_cistopic_object_from_fragments(path_to_fragments=fragments_dict[key],\n",
    "                                                    path_to_regions=path_to_regions,\n",
    "                                                    path_to_blacklist=path_to_blacklist,\n",
    "                                                    # metrics=metadata_bc_dict[key],\n",
    "                                                    valid_bc=bc_passing_filters[key],\n",
    "                                                    n_cpu=15,\n",
    "                                                    partition=5,\n",
    "                                                    project=key)\n",
    "    \n",
    "    with open(f_out, 'wb') as f:\n",
    "        pickle.dump(tmp_cto, f)\n",
    "    \n",
    "    print(f\"Generated and saved cistopic object for {key}\")"
   ]
  },
  {
   "cell_type": "code",
   "execution_count": null,
   "id": "38ba1433",
   "metadata": {},
   "outputs": [],
   "source": [
    "# load objects into dict:\n",
    "cistopic_obj_dict = {}\n",
    "for key in bc_passing_filters.keys():\n",
    "    f_out = os.path.join(wdir, f_cto_dir, key + '__cistopic_obj_dars_union.pkl')\n",
    "    with open(f_out, 'rb') as f:\n",
    "        tmp_cto = pickle.load(f)\n",
    "    cistopic_obj_dict[key] = tmp_cto\n",
    "    print(f\"Loaded {key}\")"
   ]
  },
  {
   "cell_type": "markdown",
   "id": "a882acfb",
   "metadata": {},
   "source": [
    "# check if everything went ok"
   ]
  },
  {
   "cell_type": "code",
   "execution_count": null,
   "id": "78fd0314",
   "metadata": {},
   "outputs": [],
   "source": [
    "for key in cistopic_obj_dict.keys():\n",
    "    print(key)\n",
    "    print(f'{len(cistopic_obj_dict[key].cell_data)} cells in cto')\n",
    "    print(f'{len(pd.read_csv(f\"libds_bcell_barcodes/{key}.txt\", header=None))} cells in txt')"
   ]
  },
  {
   "cell_type": "markdown",
   "id": "d73475ff",
   "metadata": {},
   "source": [
    "so this seems quite fine"
   ]
  },
  {
   "cell_type": "code",
   "execution_count": null,
   "id": "8cb6c027",
   "metadata": {},
   "outputs": [],
   "source": [
    "counts_df = pd.DataFrame()\n",
    "for key in cistopic_obj_dict.keys():\n",
    "    counts = pd.DataFrame.sparse.from_spmatrix(cistopic_obj_dict[key].fragment_matrix.T).sum(axis=0)\n",
    "    df = pd.DataFrame(counts).T\n",
    "    df = df.rename({0:key},axis=0)\n",
    "    counts_df = pd.concat([counts_df, df])\n",
    "    print(f'{key} done')"
   ]
  },
  {
   "cell_type": "code",
   "execution_count": null,
   "id": "038895d4",
   "metadata": {},
   "outputs": [],
   "source": [
    "counts_df.to_csv('libds_counts_tsv/fragment_counts_in_merged_DARs.tsv', sep='\\t', header=True, index=True)"
   ]
  },
  {
   "cell_type": "markdown",
   "id": "9a899402",
   "metadata": {},
   "source": [
    "# now plot"
   ]
  },
  {
   "cell_type": "code",
   "execution_count": null,
   "id": "9c8de5d8",
   "metadata": {},
   "outputs": [],
   "source": [
    "import matplotlib.pyplot as plt"
   ]
  },
  {
   "cell_type": "code",
   "execution_count": null,
   "id": "6aca6de2",
   "metadata": {},
   "outputs": [],
   "source": [
    "import pandas as pd\n",
    "import seaborn as sns"
   ]
  },
  {
   "cell_type": "code",
   "execution_count": null,
   "id": "d9247f63",
   "metadata": {},
   "outputs": [],
   "source": [
    "from scipy.stats import pearsonr\n",
    "import matplotlib.pyplot as plt \n",
    "\n",
    "def corrfunc(x, y, ax=None, **kws):\n",
    "    \"\"\"Plot the correlation coefficient in the top left hand corner of a plot.\"\"\"\n",
    "    r, _ = pearsonr(x, y)\n",
    "    ax = ax or plt.gca()\n",
    "    ax.annotate(f'r = {r:.2f}', xy=(.1, .9), xycoords=ax.transAxes)"
   ]
  },
  {
   "cell_type": "code",
   "execution_count": null,
   "id": "9e86f865",
   "metadata": {},
   "outputs": [],
   "source": [
    "df = pd.read_csv('libds_counts_tsv/fragment_counts_in_merged_DARs.tsv', sep='\\t', header=0, index_col=0)"
   ]
  },
  {
   "cell_type": "code",
   "execution_count": null,
   "id": "289ae874",
   "metadata": {},
   "outputs": [],
   "source": [
    "df = df.fillna(0)"
   ]
  },
  {
   "cell_type": "code",
   "execution_count": null,
   "id": "7f574c21",
   "metadata": {},
   "outputs": [],
   "source": [
    "g = sns.pairplot(df.T, corner=True, plot_kws={'s':0.1})\n",
    "g.map_lower(corrfunc)\n",
    "plt.savefig('plts_pub/fragment_counts_in_merged_dars_corr.png', facecolor='white')"
   ]
  },
  {
   "cell_type": "markdown",
   "id": "527db681",
   "metadata": {},
   "source": [
    "this doesn't seem to work too hot. let's re-calculate with log2cpm"
   ]
  },
  {
   "cell_type": "code",
   "execution_count": null,
   "id": "82d6f291",
   "metadata": {},
   "outputs": [],
   "source": [
    "df = pd.read_csv('libds_counts_tsv/fragment_counts_in_merged_DARs.tsv', sep='\\t', header=0, index_col=0)\n",
    "df = df.fillna(0)\n",
    "df = df + 1\n",
    "df_log = np.log(df)"
   ]
  },
  {
   "cell_type": "code",
   "execution_count": null,
   "id": "1c4f776a",
   "metadata": {},
   "outputs": [],
   "source": [
    "df_log.isna().sum().sum()"
   ]
  },
  {
   "cell_type": "code",
   "execution_count": null,
   "id": "9d9cf3fe",
   "metadata": {},
   "outputs": [],
   "source": [
    "np.isinf(df_log).sum().sum()"
   ]
  },
  {
   "cell_type": "code",
   "execution_count": null,
   "id": "21983471",
   "metadata": {},
   "outputs": [],
   "source": [
    "g = sns.pairplot(df_log.T, corner=True, plot_kws={'s':0.1})\n",
    "g.map_lower(corrfunc)\n",
    "\n",
    "plt.savefig('plts_pub/fragment_counts_in_merged_dars_corr_log_reads.png', facecolor='white')"
   ]
  },
  {
   "cell_type": "markdown",
   "id": "324bc609",
   "metadata": {},
   "source": [
    "or what about log cpm"
   ]
  },
  {
   "cell_type": "code",
   "execution_count": null,
   "id": "59eeba62",
   "metadata": {},
   "outputs": [],
   "source": [
    "df = pd.read_csv('libds_counts_tsv/fragment_counts_in_merged_DARs.tsv', sep='\\t', header=0, index_col=0)\n",
    "df = df.fillna(0)\n",
    "df = df + 1\n",
    "df_log_cpm = np.log(df.div(df.sum(axis=1)/1000000, axis=0))"
   ]
  },
  {
   "cell_type": "code",
   "execution_count": null,
   "id": "3a3c6f30",
   "metadata": {},
   "outputs": [],
   "source": [
    "df_log_cpm = df_log_cpm.fillna(0)"
   ]
  },
  {
   "cell_type": "code",
   "execution_count": null,
   "id": "2b1fc53d",
   "metadata": {},
   "outputs": [],
   "source": [
    "df_log_cpm.isna().sum().sum()"
   ]
  },
  {
   "cell_type": "code",
   "execution_count": null,
   "id": "81e9cc8d",
   "metadata": {},
   "outputs": [],
   "source": [
    "np.isinf(df_log_cpm).sum().sum()"
   ]
  },
  {
   "cell_type": "code",
   "execution_count": null,
   "id": "61195647",
   "metadata": {},
   "outputs": [],
   "source": [
    "g = sns.pairplot(df_log_cpm.T, corner=True, plot_kws={'s':0.1})\n",
    "g.map_lower(corrfunc)\n",
    "\n",
    "plt.savefig('plts_pub/fragment_counts_in_merged_dars_corr_log_cpm_reads.png', facecolor='white', dpi=300)"
   ]
  },
  {
   "cell_type": "code",
   "execution_count": null,
   "id": "2bc5e06d",
   "metadata": {},
   "outputs": [],
   "source": []
  },
  {
   "cell_type": "code",
   "execution_count": null,
   "id": "52df7e68",
   "metadata": {},
   "outputs": [],
   "source": []
  }
 ],
 "metadata": {
  "kernelspec": {
   "display_name": "pycisTopic_singularity_20210921",
   "language": "python",
   "name": "pycistopic_singularity"
  },
  "language_info": {
   "codemirror_mode": {
    "name": "ipython",
    "version": 3
   },
   "file_extension": ".py",
   "mimetype": "text/x-python",
   "name": "python",
   "nbconvert_exporter": "python",
   "pygments_lexer": "ipython3",
   "version": "3.8.6"
  }
 },
 "nbformat": 4,
 "nbformat_minor": 5
}
