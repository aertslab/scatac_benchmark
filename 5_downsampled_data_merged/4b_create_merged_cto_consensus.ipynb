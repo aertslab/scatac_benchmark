{
 "cells": [
  {
   "cell_type": "markdown",
   "id": "bbe5a48a",
   "metadata": {
    "papermill": {
     "duration": 0.022972,
     "end_time": "2021-10-25T17:15:55.611320",
     "exception": false,
     "start_time": "2021-10-25T17:15:55.588348",
     "status": "completed"
    },
    "tags": []
   },
   "source": [
    "# pycisTopic analysis\n",
    "\n",
    "Cell downsampled dataset, using consensus peak regions."
   ]
  },
  {
   "cell_type": "code",
   "execution_count": 2,
   "id": "e7b8cd7f",
   "metadata": {
    "papermill": {
     "duration": 0.041371,
     "end_time": "2021-10-25T17:15:55.672046",
     "exception": false,
     "start_time": "2021-10-25T17:15:55.630675",
     "status": "completed"
    },
    "tags": []
   },
   "outputs": [
    {
     "data": {
      "text/plain": [
       "'0.1.dev300+g7494158'"
      ]
     },
     "execution_count": 2,
     "metadata": {},
     "output_type": "execute_result"
    }
   ],
   "source": [
    "import pycisTopic\n",
    "pycisTopic.__version__"
   ]
  },
  {
   "cell_type": "code",
   "execution_count": 3,
   "id": "72bdf4c0",
   "metadata": {
    "papermill": {
     "duration": 0.026946,
     "end_time": "2021-10-25T17:15:55.717852",
     "exception": false,
     "start_time": "2021-10-25T17:15:55.690906",
     "status": "completed"
    },
    "tags": []
   },
   "outputs": [],
   "source": [
    "import warnings\n",
    "warnings.filterwarnings('ignore')\n",
    "warnings.simplefilter('ignore')"
   ]
  },
  {
   "cell_type": "code",
   "execution_count": 4,
   "id": "97c3e9ce",
   "metadata": {
    "papermill": {
     "duration": 0.644277,
     "end_time": "2021-10-25T17:15:56.381381",
     "exception": false,
     "start_time": "2021-10-25T17:15:55.737104",
     "status": "completed"
    },
    "tags": []
   },
   "outputs": [],
   "source": [
    "import pickle\n",
    "import pandas as pd"
   ]
  },
  {
   "cell_type": "code",
   "execution_count": 5,
   "id": "cd30367b",
   "metadata": {
    "papermill": {
     "duration": 0.03013,
     "end_time": "2021-10-25T17:15:56.435471",
     "exception": false,
     "start_time": "2021-10-25T17:15:56.405341",
     "status": "completed"
    },
    "tags": []
   },
   "outputs": [],
   "source": [
    "import os\n",
    "wdir = '/lustre1/project/stg_00002/lcb/fderop/data/20211024_hca_benchmark_libds_merged/'\n",
    "os.chdir( wdir )"
   ]
  },
  {
   "cell_type": "code",
   "execution_count": 6,
   "id": "42211a3c",
   "metadata": {
    "papermill": {
     "duration": 0.028905,
     "end_time": "2021-10-25T17:15:56.482761",
     "exception": false,
     "start_time": "2021-10-25T17:15:56.453856",
     "status": "completed"
    },
    "tags": []
   },
   "outputs": [
    {
     "data": {
      "text/plain": [
       "odict_keys(['Broad_1', 'Broad_2', 'Broad_mito_1', 'Broad_mito_2', 'CNAG_1', 'CNAG_2', 'Sanger_1', 'Sanger_2', 'Stanford_1', 'Stanford_2', 'VIB_1', 'VIB_2', 'VIB_Hydrop_1', 'VIB_Hydrop_2', 's3atac'])"
      ]
     },
     "execution_count": 6,
     "metadata": {},
     "output_type": "execute_result"
    }
   ],
   "source": [
    "import glob\n",
    "from collections import OrderedDict\n",
    "filenames = glob.glob('fragments_postbap/*.sinto.mm.fragments.tsv.gz')\n",
    "samples = [item.replace(\".sinto.mm.fragments.tsv.gz\", \"\") for item in filenames]\n",
    "samples = [item.replace(\"fragments_postbap/\", \"\") for item in samples]\n",
    "fragments_dict = {samples[i]: filenames[i] for i in range(len(samples))}\n",
    "fragments_dict = OrderedDict(sorted(fragments_dict.items()))\n",
    "fragments_dict.keys()"
   ]
  },
  {
   "cell_type": "code",
   "execution_count": 7,
   "id": "9a4e4fc1",
   "metadata": {
    "papermill": {
     "duration": 0.027126,
     "end_time": "2021-10-25T17:15:56.528773",
     "exception": false,
     "start_time": "2021-10-25T17:15:56.501647",
     "status": "completed"
    },
    "tags": []
   },
   "outputs": [
    {
     "data": {
      "text/plain": [
       "OrderedDict([('Broad_1',\n",
       "              'fragments_postbap/Broad_1.sinto.mm.fragments.tsv.gz'),\n",
       "             ('Broad_2',\n",
       "              'fragments_postbap/Broad_2.sinto.mm.fragments.tsv.gz'),\n",
       "             ('Broad_mito_1',\n",
       "              'fragments_postbap/Broad_mito_1.sinto.mm.fragments.tsv.gz'),\n",
       "             ('Broad_mito_2',\n",
       "              'fragments_postbap/Broad_mito_2.sinto.mm.fragments.tsv.gz'),\n",
       "             ('CNAG_1', 'fragments_postbap/CNAG_1.sinto.mm.fragments.tsv.gz'),\n",
       "             ('CNAG_2', 'fragments_postbap/CNAG_2.sinto.mm.fragments.tsv.gz'),\n",
       "             ('Sanger_1',\n",
       "              'fragments_postbap/Sanger_1.sinto.mm.fragments.tsv.gz'),\n",
       "             ('Sanger_2',\n",
       "              'fragments_postbap/Sanger_2.sinto.mm.fragments.tsv.gz'),\n",
       "             ('Stanford_1',\n",
       "              'fragments_postbap/Stanford_1.sinto.mm.fragments.tsv.gz'),\n",
       "             ('Stanford_2',\n",
       "              'fragments_postbap/Stanford_2.sinto.mm.fragments.tsv.gz'),\n",
       "             ('VIB_1', 'fragments_postbap/VIB_1.sinto.mm.fragments.tsv.gz'),\n",
       "             ('VIB_2', 'fragments_postbap/VIB_2.sinto.mm.fragments.tsv.gz'),\n",
       "             ('VIB_Hydrop_1',\n",
       "              'fragments_postbap/VIB_Hydrop_1.sinto.mm.fragments.tsv.gz'),\n",
       "             ('VIB_Hydrop_2',\n",
       "              'fragments_postbap/VIB_Hydrop_2.sinto.mm.fragments.tsv.gz'),\n",
       "             ('s3atac', 'fragments_postbap/s3atac.sinto.mm.fragments.tsv.gz')])"
      ]
     },
     "execution_count": 7,
     "metadata": {},
     "output_type": "execute_result"
    }
   ],
   "source": [
    "fragments_dict"
   ]
  },
  {
   "cell_type": "code",
   "execution_count": 8,
   "id": "741f3be0",
   "metadata": {
    "papermill": {
     "duration": 0.027386,
     "end_time": "2021-10-25T17:15:56.575947",
     "exception": false,
     "start_time": "2021-10-25T17:15:56.548561",
     "status": "completed"
    },
    "tags": []
   },
   "outputs": [],
   "source": [
    "consensus_peaks_dict = {}\n",
    "for key in fragments_dict.keys():\n",
    "    consensus_peaks_dict[key] = '/lustre1/project/stg_00002/lcb/fderop/data/20211024_hca_benchmark_libds_merged/consensus_peak_calling/libds_merged/libds_merged__consensus_regions.bed'"
   ]
  },
  {
   "cell_type": "markdown",
   "id": "94391337",
   "metadata": {
    "papermill": {
     "duration": 0.018514,
     "end_time": "2021-10-25T17:15:56.613195",
     "exception": false,
     "start_time": "2021-10-25T17:15:56.594681",
     "status": "completed"
    },
    "tags": []
   },
   "source": [
    "## Create the cisTopic objects for each sample"
   ]
  },
  {
   "cell_type": "code",
   "execution_count": 9,
   "id": "63994a8e",
   "metadata": {
    "papermill": {
     "duration": 39.044106,
     "end_time": "2021-10-25T17:16:35.675715",
     "exception": false,
     "start_time": "2021-10-25T17:15:56.631609",
     "status": "completed"
    },
    "tags": []
   },
   "outputs": [],
   "source": [
    "f_qc_dir = 'pycistopic_consensus_peaks/qc__consensus_peaks'\n",
    "\n",
    "with open(os.path.join(wdir, f_qc_dir, 'metadata.pickle'), 'rb') as f:\n",
    "    metadata_bc_dict = pickle.load(f)\n",
    "    \n",
    "with open(os.path.join(wdir, f_qc_dir, 'profile_data.pickle'), 'rb') as f:\n",
    "    profile_data_dict = pickle.load(f)"
   ]
  },
  {
   "cell_type": "markdown",
   "id": "f276600b",
   "metadata": {
    "papermill": {
     "duration": 0.01906,
     "end_time": "2021-10-25T17:16:35.715861",
     "exception": false,
     "start_time": "2021-10-25T17:16:35.696801",
     "status": "completed"
    },
    "tags": []
   },
   "source": [
    "# use metadata tsvs to filter out our original cells"
   ]
  },
  {
   "cell_type": "code",
   "execution_count": 10,
   "id": "83edc4dd",
   "metadata": {
    "papermill": {
     "duration": 0.235342,
     "end_time": "2021-10-25T17:16:35.969884",
     "exception": false,
     "start_time": "2021-10-25T17:16:35.734542",
     "status": "completed"
    },
    "tags": []
   },
   "outputs": [],
   "source": [
    "metadata_dict = {}\n",
    "for key in fragments_dict.keys():\n",
    "    f_meta = os.path.join('/lustre1/project/stg_00002/lcb/fderop/data/20211013_hca_benchmark_libds/pycistopic_screen',key+'_cell_data.tsv')\n",
    "    metadata_dict[key] = pd.read_csv(f_meta, index_col=0, header=0, sep='\\t')"
   ]
  },
  {
   "cell_type": "code",
   "execution_count": 11,
   "id": "1b75ca2e",
   "metadata": {
    "papermill": {
     "duration": 0.035199,
     "end_time": "2021-10-25T17:16:36.024872",
     "exception": false,
     "start_time": "2021-10-25T17:16:35.989673",
     "status": "completed"
    },
    "tags": []
   },
   "outputs": [],
   "source": [
    "bc_passing_filters = {}\n",
    "for key in metadata_dict.keys():\n",
    "    bc_passing_filters[key] = list(metadata_dict[key]['barcode'])"
   ]
  },
  {
   "cell_type": "code",
   "execution_count": 12,
   "id": "cb1a6c79",
   "metadata": {
    "papermill": {
     "duration": 0.032712,
     "end_time": "2021-10-25T17:16:36.076755",
     "exception": false,
     "start_time": "2021-10-25T17:16:36.044043",
     "status": "completed"
    },
    "tags": []
   },
   "outputs": [
    {
     "name": "stdout",
     "output_type": "stream",
     "text": [
      "Broad_1, 3903\n",
      "Broad_2, 3805\n",
      "Broad_mito_1, 3355\n",
      "Broad_mito_2, 3196\n",
      "CNAG_1, 2496\n",
      "CNAG_2, 2504\n",
      "Sanger_1, 2903\n",
      "Sanger_2, 3559\n",
      "Stanford_1, 702\n",
      "Stanford_2, 1366\n",
      "VIB_1, 2746\n",
      "VIB_2, 6928\n",
      "VIB_Hydrop_1, 2208\n",
      "VIB_Hydrop_2, 2531\n",
      "s3atac, 3033\n",
      "total cells: 45235\n"
     ]
    }
   ],
   "source": [
    "cells = 0\n",
    "for key in bc_passing_filters.keys():\n",
    "    print(f\"{key}, {len(bc_passing_filters[key])}\")\n",
    "    cells = cells + len(bc_passing_filters[key])\n",
    "print(f\"total cells: {cells}\")"
   ]
  },
  {
   "cell_type": "markdown",
   "id": "02047db5",
   "metadata": {
    "papermill": {
     "duration": 0.019591,
     "end_time": "2021-10-25T17:16:36.115734",
     "exception": false,
     "start_time": "2021-10-25T17:16:36.096143",
     "status": "completed"
    },
    "tags": []
   },
   "source": [
    "cell counts are correct."
   ]
  },
  {
   "cell_type": "markdown",
   "id": "b62a3015",
   "metadata": {
    "papermill": {
     "duration": 0.018397,
     "end_time": "2021-10-25T17:16:36.152983",
     "exception": false,
     "start_time": "2021-10-25T17:16:36.134586",
     "status": "completed"
    },
    "tags": []
   },
   "source": [
    "# create CTOs"
   ]
  },
  {
   "cell_type": "code",
   "execution_count": 13,
   "id": "6067641e",
   "metadata": {
    "papermill": {
     "duration": 1.756768,
     "end_time": "2021-10-25T17:16:37.928817",
     "exception": false,
     "start_time": "2021-10-25T17:16:36.172049",
     "status": "completed"
    },
    "tags": []
   },
   "outputs": [],
   "source": [
    "from pycisTopic.cistopic_class import create_cistopic_object_from_fragments"
   ]
  },
  {
   "cell_type": "code",
   "execution_count": 14,
   "id": "5756bf90",
   "metadata": {
    "papermill": {
     "duration": 0.028684,
     "end_time": "2021-10-25T17:16:37.977874",
     "exception": false,
     "start_time": "2021-10-25T17:16:37.949190",
     "status": "completed"
    },
    "tags": []
   },
   "outputs": [],
   "source": [
    "#path_to_regions = '/staging/leuven/stg_00002/lcb/cbravo/SCREEN_ENCODE3/V2.hg38-rDHS-Unfiltered.blacklisted.bed'\n",
    "path_to_blacklist = '/lustre1/project/stg_00002/lcb/fderop/data/20211013_hca_benchmark_libds/hg38_regions/hg38-blacklist.v2.bed'"
   ]
  },
  {
   "cell_type": "code",
   "execution_count": 15,
   "id": "703a431e",
   "metadata": {
    "papermill": {
     "duration": 0.027657,
     "end_time": "2021-10-25T17:16:38.023807",
     "exception": false,
     "start_time": "2021-10-25T17:16:37.996150",
     "status": "completed"
    },
    "tags": []
   },
   "outputs": [],
   "source": [
    "f_cto_dir = 'pycistopic_consensus_peaks/cistopic_objs__mergedconsensus'\n",
    "if not os.path.exists(os.path.join(wdir, f_cto_dir)):\n",
    "    os.makedirs(os.path.join(wdir, f_cto_dir))"
   ]
  },
  {
   "cell_type": "code",
   "execution_count": 16,
   "id": "c4c0fab5",
   "metadata": {
    "papermill": {
     "duration": 0.026848,
     "end_time": "2021-10-25T17:16:38.068918",
     "exception": false,
     "start_time": "2021-10-25T17:16:38.042070",
     "status": "completed"
    },
    "tags": []
   },
   "outputs": [
    {
     "data": {
      "text/plain": [
       "'fragments_postbap/s3atac.sinto.mm.fragments.tsv.gz'"
      ]
     },
     "execution_count": 16,
     "metadata": {},
     "output_type": "execute_result"
    }
   ],
   "source": [
    "fragments_dict[key]"
   ]
  },
  {
   "cell_type": "code",
   "execution_count": 17,
   "id": "0946b36e",
   "metadata": {
    "papermill": {
     "duration": 2769.926573,
     "end_time": "2021-10-25T18:02:48.014814",
     "exception": false,
     "start_time": "2021-10-25T17:16:38.088241",
     "status": "completed"
    },
    "tags": []
   },
   "outputs": [
    {
     "name": "stdout",
     "output_type": "stream",
     "text": [
      "Skipping Broad_1\n",
      "Skipping Broad_2\n",
      "Skipping Broad_mito_1\n",
      "Skipping Broad_mito_2\n",
      "Skipping CNAG_1\n",
      "Skipping CNAG_2\n",
      "Skipping Sanger_1\n",
      "Skipping Sanger_2\n",
      "Skipping Stanford_1\n",
      "Skipping Stanford_2\n",
      "Skipping VIB_1\n",
      "Skipping VIB_2\n",
      "Skipping VIB_Hydrop_1\n",
      "Skipping VIB_Hydrop_2\n",
      "Skipping s3atac\n"
     ]
    }
   ],
   "source": [
    "#Create all objects\n",
    "import ray\n",
    "ray.shutdown()\n",
    "\n",
    "for key in fragments_dict.keys():\n",
    "    f_out = os.path.join(wdir, f_cto_dir, key + '__cistopic_obj_mergedconsensus.pkl')\n",
    "    if os.path.isfile(f_out):\n",
    "        print(f\"Skipping {key}\")\n",
    "        continue\n",
    "        \n",
    "    tmp_cto = create_cistopic_object_from_fragments(path_to_fragments=fragments_dict[key],\n",
    "                                                    path_to_regions=consensus_peaks_dict[key],\n",
    "                                                    path_to_blacklist=path_to_blacklist,\n",
    "                                                    metrics=metadata_bc_dict[key], # why is this greyed out\n",
    "                                                    valid_bc=bc_passing_filters[key],\n",
    "                                                    n_cpu=6,\n",
    "                                                    partition=20,\n",
    "                                                    project=key)\n",
    "    \n",
    "    with open(f_out, 'wb') as f:\n",
    "        pickle.dump(tmp_cto, f)\n",
    "    \n",
    "    print(f\"DONE {key}\")\n"
   ]
  },
  {
   "cell_type": "code",
   "execution_count": 18,
   "id": "dd8cc848",
   "metadata": {
    "papermill": {
     "duration": 0.074267,
     "end_time": "2021-10-25T18:02:48.151552",
     "exception": false,
     "start_time": "2021-10-25T18:02:48.077285",
     "status": "completed"
    },
    "tags": []
   },
   "outputs": [],
   "source": [
    "#Create all objects\n",
    "import ray\n",
    "ray.shutdown()"
   ]
  },
  {
   "cell_type": "markdown",
   "id": "5fa93dfb",
   "metadata": {
    "papermill": {
     "duration": 0.061612,
     "end_time": "2021-10-25T18:02:48.296288",
     "exception": false,
     "start_time": "2021-10-25T18:02:48.234676",
     "status": "completed"
    },
    "tags": []
   },
   "source": [
    "# load objects into dict:\n"
   ]
  },
  {
   "cell_type": "code",
   "execution_count": 19,
   "id": "7f33ba2b",
   "metadata": {
    "papermill": {
     "duration": 5.807023,
     "end_time": "2021-10-25T18:02:54.163454",
     "exception": false,
     "start_time": "2021-10-25T18:02:48.356431",
     "status": "completed"
    },
    "tags": []
   },
   "outputs": [
    {
     "name": "stdout",
     "output_type": "stream",
     "text": [
      "Loaded Broad_1\n",
      "Loaded Broad_2\n",
      "Loaded Broad_mito_1\n",
      "Loaded Broad_mito_2\n",
      "Loaded CNAG_1\n",
      "Loaded CNAG_2\n",
      "Loaded Sanger_1\n",
      "Loaded Sanger_2\n",
      "Loaded Stanford_1\n",
      "Loaded Stanford_2\n",
      "Loaded VIB_1\n",
      "Loaded VIB_2\n",
      "Loaded VIB_Hydrop_1\n",
      "Loaded VIB_Hydrop_2\n",
      "Loaded s3atac\n"
     ]
    }
   ],
   "source": [
    "cistopic_obj_dict = {}\n",
    "for key in bc_passing_filters.keys():\n",
    "    f_out = os.path.join(wdir, f_cto_dir, key + '__cistopic_obj_mergedconsensus.pkl')\n",
    "    with open(f_out, 'rb') as f:\n",
    "        cistopic_obj_dict[key] = pickle.load(f)\n",
    "    print(f\"Loaded {key}\")"
   ]
  },
  {
   "cell_type": "code",
   "execution_count": 20,
   "id": "03cb63c9",
   "metadata": {
    "papermill": {
     "duration": 0.069704,
     "end_time": "2021-10-25T18:02:54.299076",
     "exception": false,
     "start_time": "2021-10-25T18:02:54.229372",
     "status": "completed"
    },
    "tags": []
   },
   "outputs": [],
   "source": [
    "import copy"
   ]
  },
  {
   "cell_type": "code",
   "execution_count": 21,
   "id": "3bca1a5b",
   "metadata": {
    "papermill": {
     "duration": 216.268983,
     "end_time": "2021-10-25T18:06:30.629623",
     "exception": false,
     "start_time": "2021-10-25T18:02:54.360640",
     "status": "completed"
    },
    "tags": []
   },
   "outputs": [
    {
     "name": "stdout",
     "output_type": "stream",
     "text": [
      "Loading /lustre1/project/stg_00002/lcb/fderop/data/20211024_hca_benchmark_libds_merged/pycistopic_consensus_peaks/cistopic_objs__mergedconsensus/libds_merged__cistopic_obj_mergedconsensus.pkl\n"
     ]
    }
   ],
   "source": [
    "f_out = os.path.join(wdir, f_cto_dir, 'libds_merged__cistopic_obj_mergedconsensus.pkl')\n",
    "if os.path.isfile(f_out):\n",
    "    print(f\"Loading {f_out}\")\n",
    "    with open(f_out, 'rb') as f:\n",
    "        cistopic_obj_dict['libds_merged'] = pickle.load(f)\n",
    "else:\n",
    "    # merge:\n",
    "    ct_keys = list(cistopic_obj_dict.keys())\n",
    "    cto_merged = copy.copy(cistopic_obj_dict[ct_keys[0]])\n",
    "    cto_merged.merge([ cistopic_obj_dict[k] for k in ct_keys[1:] ], project='scATAC-seq_benchmark')\n",
    "    with open(f_out, 'wb') as f:\n",
    "        pickle.dump(cto_merged, f)\n",
    "    \n",
    "    cistopic_obj_dict['libds_merged'] = cto_merged"
   ]
  },
  {
   "cell_type": "markdown",
   "id": "96d120a9",
   "metadata": {
    "papermill": {
     "duration": 0.063432,
     "end_time": "2021-10-25T18:06:30.884929",
     "exception": false,
     "start_time": "2021-10-25T18:06:30.821497",
     "status": "completed"
    },
    "tags": []
   },
   "source": [
    "## Add cell annotations"
   ]
  },
  {
   "cell_type": "markdown",
   "id": "6564e5d3",
   "metadata": {
    "papermill": {
     "duration": 0.064166,
     "end_time": "2021-10-25T18:06:31.012193",
     "exception": false,
     "start_time": "2021-10-25T18:06:30.948027",
     "status": "completed"
    },
    "tags": []
   },
   "source": [
    "# load metadata from the single samples\n",
    "such as seurat cell type. this was written in notebook 5a"
   ]
  },
  {
   "cell_type": "code",
   "execution_count": 22,
   "id": "55976322",
   "metadata": {
    "papermill": {
     "duration": 0.099941,
     "end_time": "2021-10-25T18:06:31.176318",
     "exception": false,
     "start_time": "2021-10-25T18:06:31.076377",
     "status": "completed"
    },
    "tags": []
   },
   "outputs": [
    {
     "data": {
      "text/html": [
       "<div>\n",
       "<style scoped>\n",
       "    .dataframe tbody tr th:only-of-type {\n",
       "        vertical-align: middle;\n",
       "    }\n",
       "\n",
       "    .dataframe tbody tr th {\n",
       "        vertical-align: top;\n",
       "    }\n",
       "\n",
       "    .dataframe thead th {\n",
       "        text-align: right;\n",
       "    }\n",
       "</style>\n",
       "<table border=\"1\" class=\"dataframe\">\n",
       "  <thead>\n",
       "    <tr style=\"text-align: right;\">\n",
       "      <th></th>\n",
       "      <th>cisTopic_nr_frag</th>\n",
       "      <th>cisTopic_log_nr_frag</th>\n",
       "      <th>cisTopic_nr_acc</th>\n",
       "      <th>cisTopic_log_nr_acc</th>\n",
       "      <th>sample_id</th>\n",
       "      <th>Log_total_nr_frag</th>\n",
       "      <th>Log_unique_nr_frag</th>\n",
       "      <th>Total_nr_frag</th>\n",
       "      <th>Unique_nr_frag</th>\n",
       "      <th>Dupl_nr_frag</th>\n",
       "      <th>Dupl_rate</th>\n",
       "      <th>Total_nr_frag_in_regions</th>\n",
       "      <th>Unique_nr_frag_in_regions</th>\n",
       "      <th>FRIP</th>\n",
       "      <th>TSS_enrichment</th>\n",
       "      <th>barcode</th>\n",
       "    </tr>\n",
       "  </thead>\n",
       "  <tbody>\n",
       "    <tr>\n",
       "      <th>GAAGAGTATTGCCGGAGCGGTGTAGATA-s3atac</th>\n",
       "      <td>2872</td>\n",
       "      <td>3.458184</td>\n",
       "      <td>2754</td>\n",
       "      <td>3.439964</td>\n",
       "      <td>s3atac</td>\n",
       "      <td>3.781396</td>\n",
       "      <td>3.751895</td>\n",
       "      <td>6045</td>\n",
       "      <td>5648</td>\n",
       "      <td>397</td>\n",
       "      <td>0.065674</td>\n",
       "      <td>2991</td>\n",
       "      <td>2760</td>\n",
       "      <td>0.488669</td>\n",
       "      <td>14.931959</td>\n",
       "      <td>GAAGAGTATTGCCGGAGCGGTGTAGATA</td>\n",
       "    </tr>\n",
       "    <tr>\n",
       "      <th>GCAGGTCGTCGTACTGGTTGCAGTAGGC-s3atac</th>\n",
       "      <td>3902</td>\n",
       "      <td>3.591287</td>\n",
       "      <td>3775</td>\n",
       "      <td>3.576917</td>\n",
       "      <td>s3atac</td>\n",
       "      <td>4.099784</td>\n",
       "      <td>4.071035</td>\n",
       "      <td>12583</td>\n",
       "      <td>11777</td>\n",
       "      <td>806</td>\n",
       "      <td>0.064055</td>\n",
       "      <td>4021</td>\n",
       "      <td>3749</td>\n",
       "      <td>0.318332</td>\n",
       "      <td>8.870119</td>\n",
       "      <td>GCAGGTCGTCGTACTGGTTGCAGTAGGC</td>\n",
       "    </tr>\n",
       "    <tr>\n",
       "      <th>ACGCGACGGCGAACTTGCGGGCTCATTG-s3atac</th>\n",
       "      <td>9937</td>\n",
       "      <td>3.997255</td>\n",
       "      <td>9289</td>\n",
       "      <td>3.967969</td>\n",
       "      <td>s3atac</td>\n",
       "      <td>4.401211</td>\n",
       "      <td>4.378398</td>\n",
       "      <td>25189</td>\n",
       "      <td>23900</td>\n",
       "      <td>1289</td>\n",
       "      <td>0.051173</td>\n",
       "      <td>10281</td>\n",
       "      <td>9655</td>\n",
       "      <td>0.403975</td>\n",
       "      <td>9.005776</td>\n",
       "      <td>ACGCGACGGCGAACTTGCGGGCTCATTG</td>\n",
       "    </tr>\n",
       "    <tr>\n",
       "      <th>GGTTAGTTGGCAAGTAGGACTTCCTGTT-s3atac</th>\n",
       "      <td>3425</td>\n",
       "      <td>3.534661</td>\n",
       "      <td>3330</td>\n",
       "      <td>3.522444</td>\n",
       "      <td>s3atac</td>\n",
       "      <td>3.933538</td>\n",
       "      <td>3.910197</td>\n",
       "      <td>8581</td>\n",
       "      <td>8132</td>\n",
       "      <td>449</td>\n",
       "      <td>0.052325</td>\n",
       "      <td>3498</td>\n",
       "      <td>3294</td>\n",
       "      <td>0.405066</td>\n",
       "      <td>7.025523</td>\n",
       "      <td>GGTTAGTTGGCAAGTAGGACTTCCTGTT</td>\n",
       "    </tr>\n",
       "    <tr>\n",
       "      <th>GATTCGGTCAACCATAATAATCGTAGTG-s3atac</th>\n",
       "      <td>3851</td>\n",
       "      <td>3.585574</td>\n",
       "      <td>3680</td>\n",
       "      <td>3.565848</td>\n",
       "      <td>s3atac</td>\n",
       "      <td>4.098644</td>\n",
       "      <td>4.061528</td>\n",
       "      <td>12550</td>\n",
       "      <td>11522</td>\n",
       "      <td>1028</td>\n",
       "      <td>0.081912</td>\n",
       "      <td>4112</td>\n",
       "      <td>3728</td>\n",
       "      <td>0.323555</td>\n",
       "      <td>11.419322</td>\n",
       "      <td>GATTCGGTCAACCATAATAATCGTAGTG</td>\n",
       "    </tr>\n",
       "    <tr>\n",
       "      <th>...</th>\n",
       "      <td>...</td>\n",
       "      <td>...</td>\n",
       "      <td>...</td>\n",
       "      <td>...</td>\n",
       "      <td>...</td>\n",
       "      <td>...</td>\n",
       "      <td>...</td>\n",
       "      <td>...</td>\n",
       "      <td>...</td>\n",
       "      <td>...</td>\n",
       "      <td>...</td>\n",
       "      <td>...</td>\n",
       "      <td>...</td>\n",
       "      <td>...</td>\n",
       "      <td>...</td>\n",
       "      <td>...</td>\n",
       "    </tr>\n",
       "    <tr>\n",
       "      <th>GGTTAGTTGGTATTGCAGCTCGGACAAC-s3atac</th>\n",
       "      <td>127</td>\n",
       "      <td>2.103804</td>\n",
       "      <td>127</td>\n",
       "      <td>2.103804</td>\n",
       "      <td>s3atac</td>\n",
       "      <td>3.208710</td>\n",
       "      <td>3.184975</td>\n",
       "      <td>1617</td>\n",
       "      <td>1531</td>\n",
       "      <td>86</td>\n",
       "      <td>0.053185</td>\n",
       "      <td>133</td>\n",
       "      <td>123</td>\n",
       "      <td>0.080340</td>\n",
       "      <td>6.560000</td>\n",
       "      <td>GGTTAGTTGGTATTGCAGCTCGGACAAC</td>\n",
       "    </tr>\n",
       "    <tr>\n",
       "      <th>GATTCGGTCAGTTCTCTCCTTGACGAAT-s3atac</th>\n",
       "      <td>203</td>\n",
       "      <td>2.307496</td>\n",
       "      <td>199</td>\n",
       "      <td>2.298853</td>\n",
       "      <td>s3atac</td>\n",
       "      <td>3.311118</td>\n",
       "      <td>3.289812</td>\n",
       "      <td>2047</td>\n",
       "      <td>1949</td>\n",
       "      <td>98</td>\n",
       "      <td>0.047875</td>\n",
       "      <td>204</td>\n",
       "      <td>195</td>\n",
       "      <td>0.100051</td>\n",
       "      <td>6.280000</td>\n",
       "      <td>GATTCGGTCAGTTCTCTCCTTGACGAAT</td>\n",
       "    </tr>\n",
       "    <tr>\n",
       "      <th>TGCGGCCTGGTCTCATTGCCCGGAACTG-s3atac</th>\n",
       "      <td>252</td>\n",
       "      <td>2.401401</td>\n",
       "      <td>250</td>\n",
       "      <td>2.39794</td>\n",
       "      <td>s3atac</td>\n",
       "      <td>3.386856</td>\n",
       "      <td>3.362671</td>\n",
       "      <td>2437</td>\n",
       "      <td>2305</td>\n",
       "      <td>132</td>\n",
       "      <td>0.054165</td>\n",
       "      <td>264</td>\n",
       "      <td>247</td>\n",
       "      <td>0.107158</td>\n",
       "      <td>8.170000</td>\n",
       "      <td>TGCGGCCTGGTCTCATTGCCCGGAACTG</td>\n",
       "    </tr>\n",
       "    <tr>\n",
       "      <th>GAAGAGTATTTCTCCTCCTGGTGTCGGA-s3atac</th>\n",
       "      <td>169</td>\n",
       "      <td>2.227887</td>\n",
       "      <td>166</td>\n",
       "      <td>2.220108</td>\n",
       "      <td>s3atac</td>\n",
       "      <td>3.288696</td>\n",
       "      <td>3.262451</td>\n",
       "      <td>1944</td>\n",
       "      <td>1830</td>\n",
       "      <td>114</td>\n",
       "      <td>0.058642</td>\n",
       "      <td>170</td>\n",
       "      <td>160</td>\n",
       "      <td>0.087432</td>\n",
       "      <td>4.430000</td>\n",
       "      <td>GAAGAGTATTTCTCCTCCTGGTGTCGGA</td>\n",
       "    </tr>\n",
       "    <tr>\n",
       "      <th>TGCGGCCTGGAATGATGCTCATTGTGAA-s3atac</th>\n",
       "      <td>248</td>\n",
       "      <td>2.394452</td>\n",
       "      <td>247</td>\n",
       "      <td>2.392697</td>\n",
       "      <td>s3atac</td>\n",
       "      <td>3.271144</td>\n",
       "      <td>3.247237</td>\n",
       "      <td>1867</td>\n",
       "      <td>1767</td>\n",
       "      <td>100</td>\n",
       "      <td>0.053562</td>\n",
       "      <td>258</td>\n",
       "      <td>242</td>\n",
       "      <td>0.136955</td>\n",
       "      <td>15.450000</td>\n",
       "      <td>TGCGGCCTGGAATGATGCTCATTGTGAA</td>\n",
       "    </tr>\n",
       "  </tbody>\n",
       "</table>\n",
       "<p>3033 rows × 16 columns</p>\n",
       "</div>"
      ],
      "text/plain": [
       "                                    cisTopic_nr_frag cisTopic_log_nr_frag  \\\n",
       "GAAGAGTATTGCCGGAGCGGTGTAGATA-s3atac             2872             3.458184   \n",
       "GCAGGTCGTCGTACTGGTTGCAGTAGGC-s3atac             3902             3.591287   \n",
       "ACGCGACGGCGAACTTGCGGGCTCATTG-s3atac             9937             3.997255   \n",
       "GGTTAGTTGGCAAGTAGGACTTCCTGTT-s3atac             3425             3.534661   \n",
       "GATTCGGTCAACCATAATAATCGTAGTG-s3atac             3851             3.585574   \n",
       "...                                              ...                  ...   \n",
       "GGTTAGTTGGTATTGCAGCTCGGACAAC-s3atac              127             2.103804   \n",
       "GATTCGGTCAGTTCTCTCCTTGACGAAT-s3atac              203             2.307496   \n",
       "TGCGGCCTGGTCTCATTGCCCGGAACTG-s3atac              252             2.401401   \n",
       "GAAGAGTATTTCTCCTCCTGGTGTCGGA-s3atac              169             2.227887   \n",
       "TGCGGCCTGGAATGATGCTCATTGTGAA-s3atac              248             2.394452   \n",
       "\n",
       "                                    cisTopic_nr_acc cisTopic_log_nr_acc  \\\n",
       "GAAGAGTATTGCCGGAGCGGTGTAGATA-s3atac            2754            3.439964   \n",
       "GCAGGTCGTCGTACTGGTTGCAGTAGGC-s3atac            3775            3.576917   \n",
       "ACGCGACGGCGAACTTGCGGGCTCATTG-s3atac            9289            3.967969   \n",
       "GGTTAGTTGGCAAGTAGGACTTCCTGTT-s3atac            3330            3.522444   \n",
       "GATTCGGTCAACCATAATAATCGTAGTG-s3atac            3680            3.565848   \n",
       "...                                             ...                 ...   \n",
       "GGTTAGTTGGTATTGCAGCTCGGACAAC-s3atac             127            2.103804   \n",
       "GATTCGGTCAGTTCTCTCCTTGACGAAT-s3atac             199            2.298853   \n",
       "TGCGGCCTGGTCTCATTGCCCGGAACTG-s3atac             250             2.39794   \n",
       "GAAGAGTATTTCTCCTCCTGGTGTCGGA-s3atac             166            2.220108   \n",
       "TGCGGCCTGGAATGATGCTCATTGTGAA-s3atac             247            2.392697   \n",
       "\n",
       "                                    sample_id  Log_total_nr_frag  \\\n",
       "GAAGAGTATTGCCGGAGCGGTGTAGATA-s3atac    s3atac           3.781396   \n",
       "GCAGGTCGTCGTACTGGTTGCAGTAGGC-s3atac    s3atac           4.099784   \n",
       "ACGCGACGGCGAACTTGCGGGCTCATTG-s3atac    s3atac           4.401211   \n",
       "GGTTAGTTGGCAAGTAGGACTTCCTGTT-s3atac    s3atac           3.933538   \n",
       "GATTCGGTCAACCATAATAATCGTAGTG-s3atac    s3atac           4.098644   \n",
       "...                                       ...                ...   \n",
       "GGTTAGTTGGTATTGCAGCTCGGACAAC-s3atac    s3atac           3.208710   \n",
       "GATTCGGTCAGTTCTCTCCTTGACGAAT-s3atac    s3atac           3.311118   \n",
       "TGCGGCCTGGTCTCATTGCCCGGAACTG-s3atac    s3atac           3.386856   \n",
       "GAAGAGTATTTCTCCTCCTGGTGTCGGA-s3atac    s3atac           3.288696   \n",
       "TGCGGCCTGGAATGATGCTCATTGTGAA-s3atac    s3atac           3.271144   \n",
       "\n",
       "                                     Log_unique_nr_frag  Total_nr_frag  \\\n",
       "GAAGAGTATTGCCGGAGCGGTGTAGATA-s3atac            3.751895           6045   \n",
       "GCAGGTCGTCGTACTGGTTGCAGTAGGC-s3atac            4.071035          12583   \n",
       "ACGCGACGGCGAACTTGCGGGCTCATTG-s3atac            4.378398          25189   \n",
       "GGTTAGTTGGCAAGTAGGACTTCCTGTT-s3atac            3.910197           8581   \n",
       "GATTCGGTCAACCATAATAATCGTAGTG-s3atac            4.061528          12550   \n",
       "...                                                 ...            ...   \n",
       "GGTTAGTTGGTATTGCAGCTCGGACAAC-s3atac            3.184975           1617   \n",
       "GATTCGGTCAGTTCTCTCCTTGACGAAT-s3atac            3.289812           2047   \n",
       "TGCGGCCTGGTCTCATTGCCCGGAACTG-s3atac            3.362671           2437   \n",
       "GAAGAGTATTTCTCCTCCTGGTGTCGGA-s3atac            3.262451           1944   \n",
       "TGCGGCCTGGAATGATGCTCATTGTGAA-s3atac            3.247237           1867   \n",
       "\n",
       "                                     Unique_nr_frag  Dupl_nr_frag  Dupl_rate  \\\n",
       "GAAGAGTATTGCCGGAGCGGTGTAGATA-s3atac            5648           397   0.065674   \n",
       "GCAGGTCGTCGTACTGGTTGCAGTAGGC-s3atac           11777           806   0.064055   \n",
       "ACGCGACGGCGAACTTGCGGGCTCATTG-s3atac           23900          1289   0.051173   \n",
       "GGTTAGTTGGCAAGTAGGACTTCCTGTT-s3atac            8132           449   0.052325   \n",
       "GATTCGGTCAACCATAATAATCGTAGTG-s3atac           11522          1028   0.081912   \n",
       "...                                             ...           ...        ...   \n",
       "GGTTAGTTGGTATTGCAGCTCGGACAAC-s3atac            1531            86   0.053185   \n",
       "GATTCGGTCAGTTCTCTCCTTGACGAAT-s3atac            1949            98   0.047875   \n",
       "TGCGGCCTGGTCTCATTGCCCGGAACTG-s3atac            2305           132   0.054165   \n",
       "GAAGAGTATTTCTCCTCCTGGTGTCGGA-s3atac            1830           114   0.058642   \n",
       "TGCGGCCTGGAATGATGCTCATTGTGAA-s3atac            1767           100   0.053562   \n",
       "\n",
       "                                     Total_nr_frag_in_regions  \\\n",
       "GAAGAGTATTGCCGGAGCGGTGTAGATA-s3atac                      2991   \n",
       "GCAGGTCGTCGTACTGGTTGCAGTAGGC-s3atac                      4021   \n",
       "ACGCGACGGCGAACTTGCGGGCTCATTG-s3atac                     10281   \n",
       "GGTTAGTTGGCAAGTAGGACTTCCTGTT-s3atac                      3498   \n",
       "GATTCGGTCAACCATAATAATCGTAGTG-s3atac                      4112   \n",
       "...                                                       ...   \n",
       "GGTTAGTTGGTATTGCAGCTCGGACAAC-s3atac                       133   \n",
       "GATTCGGTCAGTTCTCTCCTTGACGAAT-s3atac                       204   \n",
       "TGCGGCCTGGTCTCATTGCCCGGAACTG-s3atac                       264   \n",
       "GAAGAGTATTTCTCCTCCTGGTGTCGGA-s3atac                       170   \n",
       "TGCGGCCTGGAATGATGCTCATTGTGAA-s3atac                       258   \n",
       "\n",
       "                                     Unique_nr_frag_in_regions      FRIP  \\\n",
       "GAAGAGTATTGCCGGAGCGGTGTAGATA-s3atac                       2760  0.488669   \n",
       "GCAGGTCGTCGTACTGGTTGCAGTAGGC-s3atac                       3749  0.318332   \n",
       "ACGCGACGGCGAACTTGCGGGCTCATTG-s3atac                       9655  0.403975   \n",
       "GGTTAGTTGGCAAGTAGGACTTCCTGTT-s3atac                       3294  0.405066   \n",
       "GATTCGGTCAACCATAATAATCGTAGTG-s3atac                       3728  0.323555   \n",
       "...                                                        ...       ...   \n",
       "GGTTAGTTGGTATTGCAGCTCGGACAAC-s3atac                        123  0.080340   \n",
       "GATTCGGTCAGTTCTCTCCTTGACGAAT-s3atac                        195  0.100051   \n",
       "TGCGGCCTGGTCTCATTGCCCGGAACTG-s3atac                        247  0.107158   \n",
       "GAAGAGTATTTCTCCTCCTGGTGTCGGA-s3atac                        160  0.087432   \n",
       "TGCGGCCTGGAATGATGCTCATTGTGAA-s3atac                        242  0.136955   \n",
       "\n",
       "                                     TSS_enrichment  \\\n",
       "GAAGAGTATTGCCGGAGCGGTGTAGATA-s3atac       14.931959   \n",
       "GCAGGTCGTCGTACTGGTTGCAGTAGGC-s3atac        8.870119   \n",
       "ACGCGACGGCGAACTTGCGGGCTCATTG-s3atac        9.005776   \n",
       "GGTTAGTTGGCAAGTAGGACTTCCTGTT-s3atac        7.025523   \n",
       "GATTCGGTCAACCATAATAATCGTAGTG-s3atac       11.419322   \n",
       "...                                             ...   \n",
       "GGTTAGTTGGTATTGCAGCTCGGACAAC-s3atac        6.560000   \n",
       "GATTCGGTCAGTTCTCTCCTTGACGAAT-s3atac        6.280000   \n",
       "TGCGGCCTGGTCTCATTGCCCGGAACTG-s3atac        8.170000   \n",
       "GAAGAGTATTTCTCCTCCTGGTGTCGGA-s3atac        4.430000   \n",
       "TGCGGCCTGGAATGATGCTCATTGTGAA-s3atac       15.450000   \n",
       "\n",
       "                                                          barcode  \n",
       "GAAGAGTATTGCCGGAGCGGTGTAGATA-s3atac  GAAGAGTATTGCCGGAGCGGTGTAGATA  \n",
       "GCAGGTCGTCGTACTGGTTGCAGTAGGC-s3atac  GCAGGTCGTCGTACTGGTTGCAGTAGGC  \n",
       "ACGCGACGGCGAACTTGCGGGCTCATTG-s3atac  ACGCGACGGCGAACTTGCGGGCTCATTG  \n",
       "GGTTAGTTGGCAAGTAGGACTTCCTGTT-s3atac  GGTTAGTTGGCAAGTAGGACTTCCTGTT  \n",
       "GATTCGGTCAACCATAATAATCGTAGTG-s3atac  GATTCGGTCAACCATAATAATCGTAGTG  \n",
       "...                                                           ...  \n",
       "GGTTAGTTGGTATTGCAGCTCGGACAAC-s3atac  GGTTAGTTGGTATTGCAGCTCGGACAAC  \n",
       "GATTCGGTCAGTTCTCTCCTTGACGAAT-s3atac  GATTCGGTCAGTTCTCTCCTTGACGAAT  \n",
       "TGCGGCCTGGTCTCATTGCCCGGAACTG-s3atac  TGCGGCCTGGTCTCATTGCCCGGAACTG  \n",
       "GAAGAGTATTTCTCCTCCTGGTGTCGGA-s3atac  GAAGAGTATTTCTCCTCCTGGTGTCGGA  \n",
       "TGCGGCCTGGAATGATGCTCATTGTGAA-s3atac  TGCGGCCTGGAATGATGCTCATTGTGAA  \n",
       "\n",
       "[3033 rows x 16 columns]"
      ]
     },
     "execution_count": 22,
     "metadata": {},
     "output_type": "execute_result"
    }
   ],
   "source": [
    "cistopic_obj_dict[key].cell_data"
   ]
  },
  {
   "cell_type": "code",
   "execution_count": 23,
   "id": "d8d509e4",
   "metadata": {},
   "outputs": [
    {
     "data": {
      "text/plain": [
       "{'Broad_1': <pycisTopic.cistopic_class.CistopicObject at 0x2b475cec5b80>,\n",
       " 'Broad_2': <pycisTopic.cistopic_class.CistopicObject at 0x2b475cedf3a0>,\n",
       " 'Broad_mito_1': <pycisTopic.cistopic_class.CistopicObject at 0x2b475cedf4f0>,\n",
       " 'Broad_mito_2': <pycisTopic.cistopic_class.CistopicObject at 0x2b475cedf610>,\n",
       " 'CNAG_1': <pycisTopic.cistopic_class.CistopicObject at 0x2b475cedf730>,\n",
       " 'CNAG_2': <pycisTopic.cistopic_class.CistopicObject at 0x2b475cedf850>,\n",
       " 'Sanger_1': <pycisTopic.cistopic_class.CistopicObject at 0x2b475cedf970>,\n",
       " 'Sanger_2': <pycisTopic.cistopic_class.CistopicObject at 0x2b475cedfa90>,\n",
       " 'Stanford_1': <pycisTopic.cistopic_class.CistopicObject at 0x2b475cedfbb0>,\n",
       " 'Stanford_2': <pycisTopic.cistopic_class.CistopicObject at 0x2b475cedfd00>,\n",
       " 'VIB_1': <pycisTopic.cistopic_class.CistopicObject at 0x2b475cedfdf0>,\n",
       " 'VIB_2': <pycisTopic.cistopic_class.CistopicObject at 0x2b475cedff10>,\n",
       " 'VIB_Hydrop_1': <pycisTopic.cistopic_class.CistopicObject at 0x2b475cecf640>,\n",
       " 'VIB_Hydrop_2': <pycisTopic.cistopic_class.CistopicObject at 0x2b475cedfca0>,\n",
       " 's3atac': <pycisTopic.cistopic_class.CistopicObject at 0x2b475cec56d0>,\n",
       " 'libds_merged': <pycisTopic.cistopic_class.CistopicObject at 0x2b47743c4820>}"
      ]
     },
     "execution_count": 23,
     "metadata": {},
     "output_type": "execute_result"
    }
   ],
   "source": [
    "cistopic_obj_dict"
   ]
  },
  {
   "cell_type": "code",
   "execution_count": 24,
   "id": "6d79af6f",
   "metadata": {
    "papermill": {
     "duration": 0.233329,
     "end_time": "2021-10-25T18:06:31.474566",
     "exception": true,
     "start_time": "2021-10-25T18:06:31.241237",
     "status": "failed"
    },
    "tags": []
   },
   "outputs": [],
   "source": [
    "keys = list(cistopic_obj_dict['libds_merged'].cell_data['sample_id'].unique())"
   ]
  },
  {
   "cell_type": "code",
   "execution_count": 25,
   "id": "4b74dfdd",
   "metadata": {
    "papermill": {
     "duration": null,
     "end_time": null,
     "exception": null,
     "start_time": null,
     "status": "pending"
    },
    "tags": []
   },
   "outputs": [],
   "source": [
    "metadata_dict = {}\n",
    "for key in keys:\n",
    "    f_meta = os.path.join('/lustre1/project/stg_00002/lcb/fderop/data/20211013_hca_benchmark_libds/pycistopic_screen',key+'_cell_data.tsv')\n",
    "    metadata_dict[key] = pd.read_csv(f_meta, index_col=0, header=0, sep='\\t')"
   ]
  },
  {
   "cell_type": "code",
   "execution_count": 26,
   "id": "46fb5dbf",
   "metadata": {
    "papermill": {
     "duration": null,
     "end_time": null,
     "exception": null,
     "start_time": null,
     "status": "pending"
    },
    "tags": []
   },
   "outputs": [
    {
     "data": {
      "text/plain": [
       "dict_keys(['Broad_1', 'Broad_2', 'Broad_mito_1', 'Broad_mito_2', 'CNAG_1', 'CNAG_2', 'Sanger_1', 'Sanger_2', 'Stanford_1', 'Stanford_2', 'VIB_1', 'VIB_2', 'VIB_Hydrop_1', 'VIB_Hydrop_2', 's3atac'])"
      ]
     },
     "execution_count": 26,
     "metadata": {},
     "output_type": "execute_result"
    }
   ],
   "source": [
    "metadata_dict.keys()"
   ]
  },
  {
   "cell_type": "code",
   "execution_count": 27,
   "id": "5a25b6a1",
   "metadata": {
    "papermill": {
     "duration": null,
     "end_time": null,
     "exception": null,
     "start_time": null,
     "status": "pending"
    },
    "tags": []
   },
   "outputs": [],
   "source": [
    "df_meta = pd.DataFrame()\n",
    "for key in metadata_dict.keys():\n",
    "    df_meta = pd.concat([df_meta, metadata_dict[key]], axis=0)"
   ]
  },
  {
   "cell_type": "code",
   "execution_count": 28,
   "id": "de2dc5c6",
   "metadata": {
    "papermill": {
     "duration": null,
     "end_time": null,
     "exception": null,
     "start_time": null,
     "status": "pending"
    },
    "tags": []
   },
   "outputs": [],
   "source": [
    "cistopic_obj_dict['libds_merged'].cell_data['seurat_cell_type'] = df_meta['seurat_cell_type']\n",
    "cistopic_obj_dict['libds_merged'].cell_data['consensus_cell_type'] = df_meta['consensus_cell_type']"
   ]
  },
  {
   "cell_type": "markdown",
   "id": "cee7a0da",
   "metadata": {
    "papermill": {
     "duration": null,
     "end_time": null,
     "exception": null,
     "start_time": null,
     "status": "pending"
    },
    "tags": []
   },
   "source": [
    "# save ctos"
   ]
  },
  {
   "cell_type": "code",
   "execution_count": 29,
   "id": "ec517dc8",
   "metadata": {
    "papermill": {
     "duration": null,
     "end_time": null,
     "exception": null,
     "start_time": null,
     "status": "pending"
    },
    "tags": []
   },
   "outputs": [
    {
     "name": "stdout",
     "output_type": "stream",
     "text": [
      "Generated and saved cistopic object for Broad_1\n",
      "Generated and saved cistopic object for Broad_2\n",
      "Generated and saved cistopic object for Broad_mito_1\n",
      "Generated and saved cistopic object for Broad_mito_2\n",
      "Generated and saved cistopic object for CNAG_1\n",
      "Generated and saved cistopic object for CNAG_2\n",
      "Generated and saved cistopic object for Sanger_1\n",
      "Generated and saved cistopic object for Sanger_2\n",
      "Generated and saved cistopic object for Stanford_1\n",
      "Generated and saved cistopic object for Stanford_2\n",
      "Generated and saved cistopic object for VIB_1\n",
      "Generated and saved cistopic object for VIB_2\n",
      "Generated and saved cistopic object for VIB_Hydrop_1\n",
      "Generated and saved cistopic object for VIB_Hydrop_2\n",
      "Generated and saved cistopic object for s3atac\n",
      "Generated and saved cistopic object for libds_merged\n"
     ]
    }
   ],
   "source": [
    "f_cto_dir = 'pycistopic_consensus_peaks/cistopic_objs__mergedconsensus'\n",
    "\n",
    "if not os.path.exists(os.path.join(wdir, f_cto_dir)):\n",
    "    os.makedirs(os.path.join(wdir, f_cto_dir))\n",
    "\n",
    "for key in cistopic_obj_dict.keys():\n",
    "    f_out = os.path.join(wdir, f_cto_dir, key + '__cistopic_obj_mergedconsensus_metadata_annotated.pkl')\n",
    "    if os.path.isfile(f_out):\n",
    "        print(f\"Skipping {key}, already exists\")\n",
    "        continue\n",
    "    with open(f_out, 'wb') as f:\n",
    "        pickle.dump(cistopic_obj_dict[key], f)\n",
    "    print(f\"Generated and saved cistopic object for {key}\")"
   ]
  }
 ],
 "metadata": {
  "kernelspec": {
   "display_name": "pycisTopic_singularity_20210921",
   "language": "python",
   "name": "pycistopic_singularity"
  },
  "language_info": {
   "codemirror_mode": {
    "name": "ipython",
    "version": 3
   },
   "file_extension": ".py",
   "mimetype": "text/x-python",
   "name": "python",
   "nbconvert_exporter": "python",
   "pygments_lexer": "ipython3",
   "version": "3.8.6"
  },
  "papermill": {
   "default_parameters": {},
   "duration": 3046.161803,
   "end_time": "2021-10-25T18:06:37.984009",
   "environment_variables": {},
   "exception": true,
   "input_path": "4b_create_merged_cto_consensus.ipynb",
   "output_path": "4b_create_merged_cto_consensus.OUT.ipynb",
   "parameters": {},
   "start_time": "2021-10-25T17:15:51.822206",
   "version": "2.3.3"
  }
 },
 "nbformat": 4,
 "nbformat_minor": 5
}
