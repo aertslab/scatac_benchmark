{
 "cells": [
  {
   "cell_type": "markdown",
   "id": "89c09b51",
   "metadata": {},
   "source": [
    "# upload"
   ]
  },
  {
   "cell_type": "code",
   "execution_count": null,
   "id": "ddd47c28",
   "metadata": {},
   "outputs": [],
   "source": [
    "for file in /lustre1/project/stg_00002/lcb/fderop/data/20211215_hca_benchmark_github/5_downsampled_data_merged/downstream_analysis/gene_act_loom/*.loom\n",
    "do\n",
    "    echo \"started uploading\" $file\n",
    "    curl -F 'UUID=scATAC-seq_Benchmark' -F 'file-type=Loom' -F 'file=@'$file https://scope.aertslab.org/upload/ | tee /dev/null\n",
    "    echo \"finished uploading\" $file\n",
    "done"
   ]
  },
  {
   "cell_type": "code",
   "execution_count": 1,
   "id": "6167dd36",
   "metadata": {},
   "outputs": [
    {
     "name": "stdout",
     "output_type": "stream",
     "text": [
      "started uploading /lustre1/project/stg_00002/lcb/fderop/data/20211215_hca_benchmark_github/5_downsampled_data_merged/downstream_analysis/region_acc_loom/Merged__libds_region_accessibility.loom\n",
      "  % Total    % Received % Xferd  Average Speed   Time    Time     Time  Current\n",
      "                                 Dload  Upload   Total   Spent    Left  Speed\n",
      "100 24.8G    0     0  100 24.8G      0  37.9M  0:11:10  0:11:10 --:--:-- 36.5M\n",
      "finished uploading /lustre1/project/stg_00002/lcb/fderop/data/20211215_hca_benchmark_github/5_downsampled_data_merged/downstream_analysis/region_acc_loom/Merged__libds_region_accessibility.loom\n"
     ]
    }
   ],
   "source": [
    "for file in /lustre1/project/stg_00002/lcb/fderop/data/20211215_hca_benchmark_github/5_downsampled_data_merged/downstream_analysis/region_acc_loom/*.loom\n",
    "do\n",
    "    echo \"started uploading\" $file\n",
    "    curl -F 'UUID=scATAC-seq_Benchmark' -F 'file-type=Loom' -F 'file=@'$file https://scope.aertslab.org/upload/ | tee /dev/null\n",
    "    echo \"finished uploading\" $file\n",
    "done"
   ]
  },
  {
   "cell_type": "code",
   "execution_count": null,
   "id": "dd9de242",
   "metadata": {},
   "outputs": [],
   "source": []
  }
 ],
 "metadata": {
  "kernelspec": {
   "display_name": "Bash",
   "language": "bash",
   "name": "bash"
  },
  "language_info": {
   "codemirror_mode": "shell",
   "file_extension": ".sh",
   "mimetype": "text/x-sh",
   "name": "bash"
  }
 },
 "nbformat": 4,
 "nbformat_minor": 5
}
