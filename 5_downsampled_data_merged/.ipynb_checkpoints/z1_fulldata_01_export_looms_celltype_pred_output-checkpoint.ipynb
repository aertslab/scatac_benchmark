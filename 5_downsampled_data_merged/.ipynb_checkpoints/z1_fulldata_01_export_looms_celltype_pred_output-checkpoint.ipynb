{
 "cells": [
  {
   "cell_type": "markdown",
   "id": "eec8705e",
   "metadata": {
    "papermill": {
     "duration": 0.01281,
     "end_time": "2021-10-11T10:03:27.973578",
     "exception": false,
     "start_time": "2021-10-11T10:03:27.960768",
     "status": "completed"
    },
    "tags": []
   },
   "source": [
    "# pycisTopic analysis\n",
    "\n",
    "Full dataset, using SCREEN regions."
   ]
  },
  {
   "cell_type": "code",
   "execution_count": 1,
   "id": "2a79774f",
   "metadata": {
    "papermill": {
     "duration": 0.023687,
     "end_time": "2021-10-11T10:03:28.003538",
     "exception": false,
     "start_time": "2021-10-11T10:03:27.979851",
     "status": "completed"
    },
    "tags": []
   },
   "outputs": [
    {
     "data": {
      "text/plain": [
       "'0.1.dev300+g7494158'"
      ]
     },
     "execution_count": 1,
     "metadata": {},
     "output_type": "execute_result"
    }
   ],
   "source": [
    "import pycisTopic\n",
    "pycisTopic.__version__"
   ]
  },
  {
   "cell_type": "code",
   "execution_count": 2,
   "id": "9b80f991",
   "metadata": {
    "papermill": {
     "duration": 0.010612,
     "end_time": "2021-10-11T10:03:28.020415",
     "exception": false,
     "start_time": "2021-10-11T10:03:28.009803",
     "status": "completed"
    },
    "tags": []
   },
   "outputs": [],
   "source": [
    "import warnings\n",
    "warnings.filterwarnings('ignore')\n",
    "warnings.simplefilter('ignore')"
   ]
  },
  {
   "cell_type": "code",
   "execution_count": 3,
   "id": "69b2bd2b",
   "metadata": {
    "papermill": {
     "duration": 0.638213,
     "end_time": "2021-10-11T10:03:28.669313",
     "exception": false,
     "start_time": "2021-10-11T10:03:28.031100",
     "status": "completed"
    },
    "tags": []
   },
   "outputs": [],
   "source": [
    "import pickle\n",
    "import pandas as pd"
   ]
  },
  {
   "cell_type": "code",
   "execution_count": 4,
   "id": "8f561ef7",
   "metadata": {
    "papermill": {
     "duration": 0.013263,
     "end_time": "2021-10-11T10:03:28.693935",
     "exception": false,
     "start_time": "2021-10-11T10:03:28.680672",
     "status": "completed"
    },
    "tags": []
   },
   "outputs": [],
   "source": [
    "import os\n",
    "wdir = '/lustre1/project/stg_00002/lcb/fderop/data/20211024_hca_benchmark_libds_merged//'\n",
    "os.chdir( wdir )"
   ]
  },
  {
   "cell_type": "code",
   "execution_count": 5,
   "id": "594b5023",
   "metadata": {
    "papermill": {
     "duration": 0.011852,
     "end_time": "2021-10-11T10:03:28.712023",
     "exception": false,
     "start_time": "2021-10-11T10:03:28.700171",
     "status": "completed"
    },
    "tags": []
   },
   "outputs": [],
   "source": [
    "import glob\n",
    "from collections import OrderedDict"
   ]
  },
  {
   "cell_type": "markdown",
   "id": "9f103a01",
   "metadata": {
    "papermill": {
     "duration": 0.006705,
     "end_time": "2021-10-11T10:03:28.725067",
     "exception": false,
     "start_time": "2021-10-11T10:03:28.718362",
     "status": "completed"
    },
    "tags": []
   },
   "source": [
    "# load cistopic objs"
   ]
  },
  {
   "cell_type": "code",
   "execution_count": 9,
   "id": "663165db",
   "metadata": {
    "papermill": {
     "duration": 24.165387,
     "end_time": "2021-10-11T10:03:52.921343",
     "exception": false,
     "start_time": "2021-10-11T10:03:28.755956",
     "status": "completed"
    },
    "tags": []
   },
   "outputs": [
    {
     "name": "stdout",
     "output_type": "stream",
     "text": [
      "Loaded filtered cistopic object merged\n"
     ]
    }
   ],
   "source": [
    "cistopic_obj_dict = {}\n",
    "key = 'merged'\n",
    "f_cto = os.path.join('pycistopic_screen/ctos/libds_merged__cistopic_obj_filtered_models_annotated.pkl')\n",
    "if(os.path.isfile(f_cto)):\n",
    "    with open(f_cto, 'rb') as f:\n",
    "        cistopic_obj_dict[key] = pickle.load(f)\n",
    "    print(f\"Loaded filtered cistopic object {key}\")\n",
    "else:\n",
    "    print(f\"file {f_cto} doesn't exist\")"
   ]
  },
  {
   "cell_type": "code",
   "execution_count": 17,
   "id": "fd6fa056",
   "metadata": {},
   "outputs": [
    {
     "data": {
      "text/plain": [
       "<pycisTopic.cistopic_class.CistopicObject at 0x2b0987a79d60>"
      ]
     },
     "execution_count": 17,
     "metadata": {},
     "output_type": "execute_result"
    }
   ],
   "source": [
    "cistopic_obj_dict['merged']"
   ]
  },
  {
   "cell_type": "markdown",
   "id": "c3801d11",
   "metadata": {
    "papermill": {
     "duration": 0.009326,
     "end_time": "2021-10-11T10:03:52.946326",
     "exception": false,
     "start_time": "2021-10-11T10:03:52.937000",
     "status": "completed"
    },
    "tags": []
   },
   "source": [
    "## Export region-accessibility looms\n",
    "\n",
    "For use in cell type identification\n",
    "# BE CAREFUL WITH THIS: col_attrs = barcodes -> need to make sure that the barcode will match the one in the fragments files, otherwise downstream will not work."
   ]
  },
  {
   "cell_type": "markdown",
   "id": "511fbda5",
   "metadata": {},
   "source": [
    "better is for example: `            col_attrs={ 'CellID': list(cistopic_obj_dict[key].cell_data['barcode']) }, # for hydrop\n",
    "`"
   ]
  },
  {
   "cell_type": "code",
   "execution_count": 13,
   "id": "cb589124",
   "metadata": {
    "papermill": {
     "duration": 3.784998,
     "end_time": "2021-10-11T10:03:56.740608",
     "exception": false,
     "start_time": "2021-10-11T10:03:52.955610",
     "status": "completed"
    },
    "tags": []
   },
   "outputs": [],
   "source": [
    "import loompy as lp"
   ]
  },
  {
   "cell_type": "code",
   "execution_count": 14,
   "id": "8d38176d",
   "metadata": {
    "papermill": {
     "duration": 0.016476,
     "end_time": "2021-10-11T10:03:56.768134",
     "exception": false,
     "start_time": "2021-10-11T10:03:56.751658",
     "status": "completed"
    },
    "tags": []
   },
   "outputs": [],
   "source": [
    "f_crl_dir = 'pycistopic_screen/cell_region_loom__screen'\n",
    "if not os.path.exists(os.path.join(wdir, f_crl_dir)):\n",
    "    os.makedirs(os.path.join(wdir, f_crl_dir))"
   ]
  },
  {
   "cell_type": "code",
   "execution_count": null,
   "id": "927531d7",
   "metadata": {
    "papermill": {
     "duration": 2109.369794,
     "end_time": "2021-10-11T10:39:06.147423",
     "exception": false,
     "start_time": "2021-10-11T10:03:56.777629",
     "status": "completed"
    },
    "tags": []
   },
   "outputs": [
    {
     "name": "stdout",
     "output_type": "stream",
     "text": [
      "started merged loom writing\n"
     ]
    }
   ],
   "source": [
    "for key in cistopic_obj_dict.keys():\n",
    "    f_out = os.path.join(wdir, f_crl_dir, key + 'cell_region-all.loom')\n",
    "    if os.path.isfile(f_out):\n",
    "        print(f\"Skipping {key} loom writing, already exists\")\n",
    "    else:\n",
    "        print(f\"started {key} loom writing\")\n",
    "        lp.create(\n",
    "            filename = f_out,\n",
    "            layers=cistopic_obj_dict[key].fragment_matrix,\n",
    "            row_attrs={ 'Gene': cistopic_obj_dict[key].region_names }, \n",
    "            #col_attrs={ 'CellID': cistopic_obj_dict[key].cell_names }, \n",
    "            col_attrs={ 'CellID': [ x.split('-')[0] + '-' + x.split('-')[1]  for x in cistopic_obj_dict[key].cell_names ] },\n",
    "            #file_attrs=attrs\n",
    "        )\n",
    "        print(f\"Finished {key} loom writing\")"
   ]
  },
  {
   "cell_type": "markdown",
   "id": "1d1e970c",
   "metadata": {
    "papermill": {
     "duration": 0.013677,
     "end_time": "2021-10-11T10:39:06.207807",
     "exception": false,
     "start_time": "2021-10-11T10:39:06.194130",
     "status": "completed"
    },
    "tags": []
   },
   "source": [
    "go to next notebook to run the modeling"
   ]
  }
 ],
 "metadata": {
  "kernelspec": {
   "display_name": "pycisTopic_singularity_20210921",
   "language": "python",
   "name": "pycistopic_singularity"
  },
  "language_info": {
   "codemirror_mode": {
    "name": "ipython",
    "version": 3
   },
   "file_extension": ".py",
   "mimetype": "text/x-python",
   "name": "python",
   "nbconvert_exporter": "python",
   "pygments_lexer": "ipython3",
   "version": "3.8.6"
  },
  "papermill": {
   "default_parameters": {},
   "duration": 2146.839968,
   "end_time": "2021-10-11T10:39:12.309636",
   "environment_variables": {},
   "exception": null,
   "input_path": "7c_fulldata_01_export_looms_celltype_pred.ipynb",
   "output_path": "7c_fulldata_01_export_looms_celltype_pred_output.ipynb",
   "parameters": {},
   "start_time": "2021-10-11T10:03:25.469668",
   "version": "2.3.3"
  }
 },
 "nbformat": 4,
 "nbformat_minor": 5
}
