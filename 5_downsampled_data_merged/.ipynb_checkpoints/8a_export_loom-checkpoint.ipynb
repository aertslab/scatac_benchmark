{
 "cells": [
  {
   "cell_type": "markdown",
   "id": "7295c0f1",
   "metadata": {
    "papermill": {
     "duration": 0.023543,
     "end_time": "2022-01-18T22:57:44.366243",
     "exception": false,
     "start_time": "2022-01-18T22:57:44.342700",
     "status": "completed"
    },
    "tags": []
   },
   "source": [
    "# pycisTopic analysis\n",
    "\n",
    "Full dataset, using consensus peak regions."
   ]
  },
  {
   "cell_type": "code",
   "execution_count": 1,
   "id": "c07d8019",
   "metadata": {
    "papermill": {
     "duration": 0.097104,
     "end_time": "2022-01-18T22:57:44.484390",
     "exception": false,
     "start_time": "2022-01-18T22:57:44.387286",
     "status": "completed"
    },
    "tags": []
   },
   "outputs": [
    {
     "data": {
      "text/plain": [
       "'0.1.dev300+g7494158'"
      ]
     },
     "execution_count": 1,
     "metadata": {},
     "output_type": "execute_result"
    }
   ],
   "source": [
    "import pycisTopic\n",
    "pycisTopic.__version__"
   ]
  },
  {
   "cell_type": "code",
   "execution_count": 2,
   "id": "78c47b2a",
   "metadata": {
    "papermill": {
     "duration": 0.030689,
     "end_time": "2022-01-18T22:57:44.537036",
     "exception": false,
     "start_time": "2022-01-18T22:57:44.506347",
     "status": "completed"
    },
    "tags": []
   },
   "outputs": [],
   "source": [
    "import warnings\n",
    "warnings.filterwarnings('ignore')\n",
    "warnings.simplefilter('ignore')"
   ]
  },
  {
   "cell_type": "code",
   "execution_count": 3,
   "id": "2e183bdc",
   "metadata": {
    "papermill": {
     "duration": 1.294738,
     "end_time": "2022-01-18T22:57:45.853021",
     "exception": false,
     "start_time": "2022-01-18T22:57:44.558283",
     "status": "completed"
    },
    "tags": []
   },
   "outputs": [],
   "source": [
    "import pickle\n",
    "import pandas as pd"
   ]
  },
  {
   "cell_type": "code",
   "execution_count": 4,
   "id": "dfe1657c",
   "metadata": {
    "papermill": {
     "duration": 0.030741,
     "end_time": "2022-01-18T22:57:45.907334",
     "exception": false,
     "start_time": "2022-01-18T22:57:45.876593",
     "status": "completed"
    },
    "tags": []
   },
   "outputs": [],
   "source": [
    "import os\n",
    "wdir = '/lustre1/project/stg_00002/lcb/fderop/data/20211215_hca_benchmark_github/5_downsampled_data_merged'\n",
    "os.chdir( wdir )"
   ]
  },
  {
   "cell_type": "code",
   "execution_count": 5,
   "id": "f1743bcd",
   "metadata": {
    "papermill": {
     "duration": 0.031213,
     "end_time": "2022-01-18T22:57:45.959127",
     "exception": false,
     "start_time": "2022-01-18T22:57:45.927914",
     "status": "completed"
    },
    "tags": []
   },
   "outputs": [],
   "source": [
    "# create output directory:\n",
    "f_final_dir = os.path.join(wdir, 'downstream_analysis')\n",
    "if not os.path.exists(f_final_dir):\n",
    "    os.makedirs(f_final_dir)"
   ]
  },
  {
   "cell_type": "code",
   "execution_count": 6,
   "id": "8ae1df62",
   "metadata": {
    "papermill": {
     "duration": 0.028377,
     "end_time": "2022-01-18T22:57:46.008141",
     "exception": false,
     "start_time": "2022-01-18T22:57:45.979764",
     "status": "completed"
    },
    "tags": []
   },
   "outputs": [],
   "source": [
    "import copy"
   ]
  },
  {
   "cell_type": "markdown",
   "id": "a23c5dc9",
   "metadata": {
    "papermill": {
     "duration": 0.020649,
     "end_time": "2022-01-18T22:57:46.049329",
     "exception": false,
     "start_time": "2022-01-18T22:57:46.028680",
     "status": "completed"
    },
    "tags": []
   },
   "source": [
    "## Load the cisTopic objects"
   ]
  },
  {
   "cell_type": "code",
   "execution_count": 7,
   "id": "4a4ab5ac",
   "metadata": {
    "papermill": {
     "duration": 8.206368,
     "end_time": "2022-01-18T22:57:54.276139",
     "exception": false,
     "start_time": "2022-01-18T22:57:46.069771",
     "status": "completed"
    },
    "tags": []
   },
   "outputs": [
    {
     "name": "stdout",
     "output_type": "stream",
     "text": [
      "Loaded filtered cistopic object libds_merged\n"
     ]
    }
   ],
   "source": [
    "f_cto_dir = 'pycistopic_consensus_peaks/cistopic_objs__mergedconsensus/'\n",
    "\n",
    "cistopic_obj_dict = {}\n",
    "for key in ['libds_merged']:\n",
    "    f_cto = os.path.join(wdir, f_cto_dir, key + '__cistopic_obj_mergedconsensus_metadata_annotated_models_umap_tsne.pkl')\n",
    "    if(os.path.isfile(f_cto)):\n",
    "        with open(f_cto, 'rb') as f:\n",
    "            cistopic_obj_dict[key] = pickle.load(f)\n",
    "        print(f\"Loaded filtered cistopic object {key}\")\n",
    "    else:\n",
    "        print(f\"file {f_cto} doesn't exist\")"
   ]
  },
  {
   "cell_type": "code",
   "execution_count": 8,
   "id": "06b6caf7",
   "metadata": {
    "papermill": {
     "duration": 0.03086,
     "end_time": "2022-01-18T22:57:54.333278",
     "exception": false,
     "start_time": "2022-01-18T22:57:54.302418",
     "status": "completed"
    },
    "tags": []
   },
   "outputs": [],
   "source": [
    "from collections import OrderedDict"
   ]
  },
  {
   "cell_type": "code",
   "execution_count": 9,
   "id": "138cdcc9",
   "metadata": {
    "papermill": {
     "duration": 0.06743,
     "end_time": "2022-01-18T22:57:54.421618",
     "exception": false,
     "start_time": "2022-01-18T22:57:54.354188",
     "status": "completed"
    },
    "tags": []
   },
   "outputs": [
    {
     "data": {
      "text/plain": [
       "array(['Broad_1', 'Broad_2', 'Broad_mito_1', 'Broad_mito_2', 'CNAG_1',\n",
       "       'CNAG_2', 'Sanger_1', 'Sanger_2', 'Stanford_1', 'Stanford_2',\n",
       "       'VIB_1', 'VIB_2', 'VIB_Hydrop_1', 'VIB_Hydrop_2', 's3atac'],\n",
       "      dtype=object)"
      ]
     },
     "execution_count": 9,
     "metadata": {},
     "output_type": "execute_result"
    }
   ],
   "source": [
    "cistopic_obj_dict['libds_merged'].cell_data['sample_id'].unique()"
   ]
  },
  {
   "cell_type": "code",
   "execution_count": 10,
   "id": "3f3947f6",
   "metadata": {
    "papermill": {
     "duration": 0.030151,
     "end_time": "2022-01-18T22:57:54.473191",
     "exception": false,
     "start_time": "2022-01-18T22:57:54.443040",
     "status": "completed"
    },
    "tags": []
   },
   "outputs": [],
   "source": [
    "# display names of each sample. NOTE: the samples will be dislpayed in the order of this dict!\n",
    "alias_dict = OrderedDict({\n",
    "    \"Broad_1\": \"BioRad ATAC 1\",\n",
    "    \"Broad_2\": \"BioRad ATAC 2\",\n",
    "    \"Stanford_1\": \"10x ATAC A1\",\n",
    "    \"Stanford_2\": \"10x ATAC A2\",\n",
    "    \"VIB_1\": \"10x ATAC B1\",\n",
    "    \"VIB_2\": \"10x ATAC B2\",\n",
    "    \"CNAG_1\": \"10x ATAC C1\",\n",
    "    \"CNAG_2\": \"10x ATAC C2\",\n",
    "    \"Broad_mito_1\": \"10x mtATAC 1\",\n",
    "    \"Broad_mito_2\": \"10x mtATAC 2\",\n",
    "    \"Sanger_1\": \"10x Multiome 1\",\n",
    "    \"Sanger_2\": \"10x Multiome 2\",\n",
    "    \"VIB_Hydrop_1\": \"Hydrop ATAC 1\",\n",
    "    \"VIB_Hydrop_2\": \"Hydrop ATAC 2\",\n",
    "    \"s3atac\": \"s3 ATAC\",\n",
    "    \"merged\": \"Merged\"\n",
    "})"
   ]
  },
  {
   "cell_type": "code",
   "execution_count": 11,
   "id": "de34729b",
   "metadata": {
    "papermill": {
     "duration": 0.036026,
     "end_time": "2022-01-18T22:57:54.530196",
     "exception": false,
     "start_time": "2022-01-18T22:57:54.494170",
     "status": "completed"
    },
    "tags": []
   },
   "outputs": [],
   "source": [
    "cistopic_obj_dict['libds_merged'].cell_data['alias'] = [alias_dict[x] for x in cistopic_obj_dict['libds_merged'].cell_data['sample_id']]"
   ]
  },
  {
   "cell_type": "code",
   "execution_count": 12,
   "id": "5763a881",
   "metadata": {
    "papermill": {
     "duration": 0.032915,
     "end_time": "2022-01-18T22:57:54.584993",
     "exception": false,
     "start_time": "2022-01-18T22:57:54.552078",
     "status": "completed"
    },
    "tags": []
   },
   "outputs": [
    {
     "data": {
      "text/plain": [
       "array(['Broad_1', 'Broad_2', 'Broad_mito_1', 'Broad_mito_2', 'CNAG_1',\n",
       "       'CNAG_2', 'Sanger_1', 'Sanger_2', 'Stanford_1', 'Stanford_2',\n",
       "       'VIB_1', 'VIB_2', 'VIB_Hydrop_1', 'VIB_Hydrop_2', 's3atac'],\n",
       "      dtype=object)"
      ]
     },
     "execution_count": 12,
     "metadata": {},
     "output_type": "execute_result"
    }
   ],
   "source": [
    "cistopic_obj_dict['libds_merged'].cell_data['sample_id'].unique()"
   ]
  },
  {
   "cell_type": "code",
   "execution_count": 13,
   "id": "095a6897",
   "metadata": {
    "papermill": {
     "duration": 0.034007,
     "end_time": "2022-01-18T22:57:54.640214",
     "exception": false,
     "start_time": "2022-01-18T22:57:54.606207",
     "status": "completed"
    },
    "tags": []
   },
   "outputs": [
    {
     "name": "stdout",
     "output_type": "stream",
     "text": [
      "BioRad ATAC 1\n",
      "BioRad ATAC 2\n",
      "10x mtATAC 1\n",
      "10x mtATAC 2\n",
      "10x ATAC C1\n",
      "10x ATAC C2\n",
      "10x Multiome 1\n",
      "10x Multiome 2\n",
      "10x ATAC A1\n",
      "10x ATAC A2\n",
      "10x ATAC B1\n",
      "10x ATAC B2\n",
      "Hydrop ATAC 1\n",
      "Hydrop ATAC 2\n",
      "s3 ATAC\n"
     ]
    }
   ],
   "source": [
    "for key in cistopic_obj_dict['libds_merged'].cell_data['sample_id'].unique():\n",
    "    print(alias_dict[key])"
   ]
  },
  {
   "cell_type": "markdown",
   "id": "e9ec73c4",
   "metadata": {
    "papermill": {
     "duration": 0.021105,
     "end_time": "2022-01-18T22:57:54.682708",
     "exception": false,
     "start_time": "2022-01-18T22:57:54.661603",
     "status": "completed"
    },
    "tags": []
   },
   "source": [
    "#### Save/load"
   ]
  },
  {
   "cell_type": "code",
   "execution_count": 14,
   "id": "79b8823c",
   "metadata": {
    "papermill": {
     "duration": 0.246198,
     "end_time": "2022-01-18T22:57:54.950059",
     "exception": false,
     "start_time": "2022-01-18T22:57:54.703861",
     "status": "completed"
    },
    "tags": []
   },
   "outputs": [
    {
     "name": "stdout",
     "output_type": "stream",
     "text": [
      "Loading /lustre1/project/stg_00002/lcb/fderop/data/20211215_hca_benchmark_github/5_downsampled_data_merged/downstream_analysis/region_bin_topics.pkl\n"
     ]
    }
   ],
   "source": [
    "f_out = os.path.join(f_final_dir, 'region_bin_topics.pkl')\n",
    "if os.path.isfile(f_out):\n",
    "    print(f\"Loading {f_out}\")\n",
    "    with open(f_out, 'rb') as f:\n",
    "        region_bin_topics_dict = pickle.load(f)"
   ]
  },
  {
   "cell_type": "code",
   "execution_count": 15,
   "id": "90a11dd8",
   "metadata": {
    "papermill": {
     "duration": 0.129357,
     "end_time": "2022-01-18T22:57:55.103342",
     "exception": false,
     "start_time": "2022-01-18T22:57:54.973985",
     "status": "completed"
    },
    "tags": []
   },
   "outputs": [
    {
     "name": "stdout",
     "output_type": "stream",
     "text": [
      "Loading /lustre1/project/stg_00002/lcb/fderop/data/20211215_hca_benchmark_github/5_downsampled_data_merged/downstream_analysis/binarized_cell_topic.pkl\n"
     ]
    }
   ],
   "source": [
    "f_out = os.path.join(f_final_dir, 'binarized_cell_topic.pkl')\n",
    "if os.path.isfile(f_out):\n",
    "    print(f\"Loading {f_out}\")\n",
    "    with open(f_out, 'rb') as f:\n",
    "        binarized_cell_topic_dict = pickle.load(f)"
   ]
  },
  {
   "cell_type": "code",
   "execution_count": 16,
   "id": "10140ef8",
   "metadata": {
    "papermill": {
     "duration": 59.177085,
     "end_time": "2022-01-18T22:58:54.302490",
     "exception": false,
     "start_time": "2022-01-18T22:57:55.125405",
     "status": "completed"
    },
    "tags": []
   },
   "outputs": [
    {
     "name": "stdout",
     "output_type": "stream",
     "text": [
      "Loading /lustre1/project/stg_00002/lcb/fderop/data/20211215_hca_benchmark_github/5_downsampled_data_merged/downstream_analysis/imputed_acc_obj.pkl\n"
     ]
    }
   ],
   "source": [
    "f_out = os.path.join(f_final_dir, 'imputed_acc_obj.pkl')\n",
    "if os.path.isfile(f_out):\n",
    "    print(f\"Loading {f_out}\")\n",
    "    with open(f_out, 'rb') as f:\n",
    "        imputed_acc_obj_dict = pickle.load(f)"
   ]
  },
  {
   "cell_type": "code",
   "execution_count": 17,
   "id": "7e5c7db8",
   "metadata": {
    "papermill": {
     "duration": 0.193934,
     "end_time": "2022-01-18T22:58:54.519699",
     "exception": false,
     "start_time": "2022-01-18T22:58:54.325765",
     "status": "completed"
    },
    "tags": []
   },
   "outputs": [
    {
     "name": "stdout",
     "output_type": "stream",
     "text": [
      "Loading /lustre1/project/stg_00002/lcb/fderop/data/20211215_hca_benchmark_github/5_downsampled_data_merged/downstream_analysis/markers_dict.pkl\n"
     ]
    }
   ],
   "source": [
    "f_out = os.path.join(f_final_dir, 'markers_dict.pkl')\n",
    "if os.path.isfile(f_out):\n",
    "    print(f\"Loading {f_out}\")\n",
    "    with open(f_out, 'rb') as f:\n",
    "        markers_dict_dict = pickle.load(f)"
   ]
  },
  {
   "cell_type": "markdown",
   "id": "0571126d",
   "metadata": {
    "papermill": {
     "duration": 0.021763,
     "end_time": "2022-01-18T22:58:54.565917",
     "exception": false,
     "start_time": "2022-01-18T22:58:54.544154",
     "status": "completed"
    },
    "tags": []
   },
   "source": [
    "## Gene activity"
   ]
  },
  {
   "cell_type": "code",
   "execution_count": 18,
   "id": "42a79c70",
   "metadata": {
    "papermill": {
     "duration": 0.095356,
     "end_time": "2022-01-18T22:58:54.682295",
     "exception": false,
     "start_time": "2022-01-18T22:58:54.586939",
     "status": "completed"
    },
    "tags": []
   },
   "outputs": [],
   "source": [
    "import pyranges as pr\n",
    "import requests\n",
    "import pybiomart as pbm"
   ]
  },
  {
   "cell_type": "markdown",
   "id": "6f60d098",
   "metadata": {
    "papermill": {
     "duration": 0.021321,
     "end_time": "2022-01-18T22:58:54.728099",
     "exception": false,
     "start_time": "2022-01-18T22:58:54.706778",
     "status": "completed"
    },
    "tags": []
   },
   "source": [
    "### Infer gene activity"
   ]
  },
  {
   "cell_type": "code",
   "execution_count": 19,
   "id": "52f2fe0f",
   "metadata": {
    "papermill": {
     "duration": 6.432275,
     "end_time": "2022-01-18T22:59:01.182218",
     "exception": false,
     "start_time": "2022-01-18T22:58:54.749943",
     "status": "completed"
    },
    "tags": []
   },
   "outputs": [
    {
     "name": "stdout",
     "output_type": "stream",
     "text": [
      "Loading /lustre1/project/stg_00002/lcb/fderop/data/20211215_hca_benchmark_github/5_downsampled_data_merged/downstream_analysis/gene_act_dict.pkl\n"
     ]
    }
   ],
   "source": [
    "f_out = os.path.join(f_final_dir, 'gene_act_dict.pkl')\n",
    "if os.path.isfile(f_out):\n",
    "    print(f\"Loading {f_out}\")\n",
    "    with open(f_out, 'rb') as f:\n",
    "        gene_act_dict = pickle.load(f)\n",
    "else:\n",
    "    from pycisTopic.gene_activity import get_gene_activity\n",
    "    from pycisTopic.diff_features import find_diff_features\n",
    "    # For human\n",
    "    dataset = pbm.Dataset(name='hsapiens_gene_ensembl',  host='http://www.ensembl.org')\n",
    "    annot = dataset.query(attributes=['chromosome_name', 'start_position', 'end_position', 'strand', 'external_gene_name', 'transcription_start_site', 'transcript_biotype'])\n",
    "    annot['Chromosome/scaffold name'] = 'chr' + annot['Chromosome/scaffold name'].astype(str)\n",
    "    annot.columns=['Chromosome', 'Start', 'End', 'Strand', 'Gene','Transcription_Start_Site', 'Transcript_type']\n",
    "    annot = annot[annot.Transcript_type == 'protein_coding']\n",
    "    annot.Strand[annot.Strand == 1] = '+'\n",
    "    annot.Strand[annot.Strand == -1] = '-'\n",
    "    pr_annotation = pr.PyRanges(annot.dropna(axis = 0))\n",
    "    pr_annotation\n",
    "\n",
    "    # get chromosome sizes (hg38)\n",
    "    target_url = 'http://hgdownload.cse.ucsc.edu/goldenPath/hg38/bigZips/hg38.chrom.sizes'\n",
    "    chromsizes = pd.read_csv(target_url, sep='\\t', header=None)\n",
    "    chromsizes.columns = ['Chromosome', 'End']\n",
    "    chromsizes['Start'] = [0]*chromsizes.shape[0]\n",
    "    chromsizes = chromsizes.loc[:,['Chromosome', 'Start', 'End']]\n",
    "    chromsizes = pr.PyRanges(chromsizes)\n",
    "    chromsizes\n",
    "\n",
    "    gene_act_dict = {}\n",
    "    for key in cistopic_obj_dict.keys():\n",
    "        print(key)\n",
    "        gene_act, weights = get_gene_activity(\n",
    "            imputed_acc_obj_dict[key], # Region-cell probabilities\n",
    "            pr_annotation, # Gene annotation\n",
    "            chromsizes, # Chromosome size\n",
    "            use_gene_boundaries=True, # Whether to use the whole search space or stop when encountering another gene\n",
    "            upstream=[1000, 100000], # Search space upstream. The minimum means that even if there is a gene right next to it \n",
    "                                     #these bp will be taken (1kbp here)\n",
    "            downstream=[1000,100000], # Search space downstream\n",
    "            distance_weight=True, # Whether to add a distance weight (an exponential function, the weight will decrease with distance)\n",
    "            decay_rate=1, # Exponent for the distance exponential funciton (the higher the faster will be the decrease)\n",
    "            extend_gene_body_upstream=10000, # Number of bp upstream immune to the distance weight (their value will be maximum for \n",
    "                                             #this weight)\n",
    "            extend_gene_body_downstream=500, # Number of bp downstream immune to the distance weight\n",
    "            gene_size_weight=False, # Whether to add a weights based on the length of the gene\n",
    "            gene_size_scale_factor='median', # Dividend to calculate the gene size weigth. Default is the median value of all genes\n",
    "                                             #in the genome\n",
    "            remove_promoters=False, # Whether to remove promoters when computing gene activity scores\n",
    "            average_scores=True, # Whether to divide by the total number of region assigned to a gene when calculating the gene \n",
    "                                 # activity score\n",
    "            scale_factor=1, # Value to multiply for the final gene activity matrix\n",
    "            extend_tss=[10,10], # Space to consider a promoter\n",
    "            gini_weight = True, # Whether to add a gini index weigth. The more unique the region is, the higher this weight will be\n",
    "            return_weights= True, # Whether to return the final weights\n",
    "            project='Gene_activity') # Project name for the gene activity object\n",
    "        gene_act_dict[key] = copy.copy(gene_act)\n",
    "\n",
    "    with open(f_out, 'wb') as f:\n",
    "        pickle.dump(gene_act_dict, f)\n",
    "    print(f'saved {f_out}')"
   ]
  },
  {
   "cell_type": "code",
   "execution_count": 20,
   "id": "23598de1",
   "metadata": {
    "papermill": {
     "duration": 0.044078,
     "end_time": "2022-01-18T22:59:01.252006",
     "exception": false,
     "start_time": "2022-01-18T22:59:01.207928",
     "status": "completed"
    },
    "tags": []
   },
   "outputs": [
    {
     "data": {
      "text/plain": [
       "{'cell': {'UMAP':                                                        UMAP_1     UMAP_2\n",
       "  CCTCCTTCTTCATCCAGAGAG_TAAGAGGGTGGCGCCTTGCGA_CGG...   5.778868  11.895809\n",
       "  CCTTAGGACGAGAATTATCAT_CCGCGATACCTACCAGATAGG-Bro...  -0.684854  19.437815\n",
       "  ATGAATAGTGCATTGCAGTGT-Broad_1                        2.187975  14.684908\n",
       "  TGTTTAGATAGGCATAAGGTA-Broad_1                        6.169397  11.672524\n",
       "  TTACAGAGGTGTTTCCAAGCT_GGACGACAGTTTCTCTAGAGC-Bro...   5.618959  11.884871\n",
       "  ...                                                       ...        ...\n",
       "  GGTTAGTTGGTATTGCAGCTCGGACAAC-s3atac                -10.563517   3.115543\n",
       "  GATTCGGTCAGTTCTCTCCTTGACGAAT-s3atac                -10.507968   3.265422\n",
       "  TGCGGCCTGGTCTCATTGCCCGGAACTG-s3atac                 -7.065394  -2.570484\n",
       "  GAAGAGTATTTCTCCTCCTGGTGTCGGA-s3atac                -10.610051   2.621628\n",
       "  TGCGGCCTGGAATGATGCTCATTGTGAA-s3atac                 -7.511748  -3.023273\n",
       "  \n",
       "  [45235 rows x 2 columns],\n",
       "  'tSNE':                                                        tSNE_1     tSNE_2\n",
       "  CCTCCTTCTTCATCCAGAGAG_TAAGAGGGTGGCGCCTTGCGA_CGG...  18.264195  49.977308\n",
       "  CCTTAGGACGAGAATTATCAT_CCGCGATACCTACCAGATAGG-Bro...   2.488737  80.233731\n",
       "  ATGAATAGTGCATTGCAGTGT-Broad_1                       44.201743  38.785277\n",
       "  TGTTTAGATAGGCATAAGGTA-Broad_1                       10.110081  45.609714\n",
       "  TTACAGAGGTGTTTCCAAGCT_GGACGACAGTTTCTCTAGAGC-Bro...  19.462231  50.454513\n",
       "  ...                                                       ...        ...\n",
       "  GGTTAGTTGGTATTGCAGCTCGGACAAC-s3atac                -11.522451  38.641029\n",
       "  GATTCGGTCAGTTCTCTCCTTGACGAAT-s3atac                -10.873449  37.136128\n",
       "  TGCGGCCTGGTCTCATTGCCCGGAACTG-s3atac                -21.098519 -43.646225\n",
       "  GAAGAGTATTTCTCCTCCTGGTGTCGGA-s3atac                -12.175361  50.088883\n",
       "  TGCGGCCTGGAATGATGCTCATTGTGAA-s3atac                -20.510428 -52.173032\n",
       "  \n",
       "  [45235 rows x 2 columns],\n",
       "  'UMAP_harmony':                                                        UMAP_1     UMAP_2\n",
       "  CCTCCTTCTTCATCCAGAGAG_TAAGAGGGTGGCGCCTTGCGA_CGG...  10.603668  14.324357\n",
       "  CCTTAGGACGAGAATTATCAT_CCGCGATACCTACCAGATAGG-Bro...   7.608005  -7.571940\n",
       "  ATGAATAGTGCATTGCAGTGT-Broad_1                       11.724223   4.751494\n",
       "  TGTTTAGATAGGCATAAGGTA-Broad_1                       13.573638  16.315140\n",
       "  TTACAGAGGTGTTTCCAAGCT_GGACGACAGTTTCTCTAGAGC-Bro...  10.550716  14.335300\n",
       "  ...                                                       ...        ...\n",
       "  GGTTAGTTGGTATTGCAGCTCGGACAAC-s3atac                  3.645544  -6.040138\n",
       "  GATTCGGTCAGTTCTCTCCTTGACGAAT-s3atac                  4.013797  -6.059711\n",
       "  TGCGGCCTGGTCTCATTGCCCGGAACTG-s3atac                 10.516696   4.159173\n",
       "  GAAGAGTATTTCTCCTCCTGGTGTCGGA-s3atac                  6.498168  -8.294133\n",
       "  TGCGGCCTGGAATGATGCTCATTGTGAA-s3atac                 10.821644   7.233150\n",
       "  \n",
       "  [45235 rows x 2 columns],\n",
       "  'tSNE_harmony':                                                        tSNE_1     tSNE_2\n",
       "  CCTCCTTCTTCATCCAGAGAG_TAAGAGGGTGGCGCCTTGCGA_CGG...   3.956767  23.460202\n",
       "  CCTTAGGACGAGAATTATCAT_CCGCGATACCTACCAGATAGG-Bro...   4.023234  57.260927\n",
       "  ATGAATAGTGCATTGCAGTGT-Broad_1                      -21.612140 -18.295300\n",
       "  TGTTTAGATAGGCATAAGGTA-Broad_1                      -50.635160  34.662899\n",
       "  TTACAGAGGTGTTTCCAAGCT_GGACGACAGTTTCTCTAGAGC-Bro...   3.108778  20.429550\n",
       "  ...                                                       ...        ...\n",
       "  GGTTAGTTGGTATTGCAGCTCGGACAAC-s3atac                 44.749706  51.181226\n",
       "  GATTCGGTCAGTTCTCTCCTTGACGAAT-s3atac                 48.306403  57.061874\n",
       "  TGCGGCCTGGTCTCATTGCCCGGAACTG-s3atac                -33.278084 -28.925472\n",
       "  GAAGAGTATTTCTCCTCCTGGTGTCGGA-s3atac                  4.903904  40.968488\n",
       "  TGCGGCCTGGAATGATGCTCATTGTGAA-s3atac                -22.904431   4.911173\n",
       "  \n",
       "  [45235 rows x 2 columns]}}"
      ]
     },
     "execution_count": 20,
     "metadata": {},
     "output_type": "execute_result"
    }
   ],
   "source": [
    "cistopic_obj_dict['libds_merged'].projections"
   ]
  },
  {
   "cell_type": "markdown",
   "id": "4175e0d3",
   "metadata": {
    "papermill": {
     "duration": 0.022473,
     "end_time": "2022-01-18T22:59:01.298777",
     "exception": false,
     "start_time": "2022-01-18T22:59:01.276304",
     "status": "completed"
    },
    "tags": []
   },
   "source": [
    "## Export to loom"
   ]
  },
  {
   "cell_type": "code",
   "execution_count": 21,
   "id": "4dfcc9e2",
   "metadata": {
    "papermill": {
     "duration": 0.032909,
     "end_time": "2022-01-18T22:59:01.354540",
     "exception": false,
     "start_time": "2022-01-18T22:59:01.321631",
     "status": "completed"
    },
    "tags": []
   },
   "outputs": [],
   "source": [
    "f_gene_loom_dir = os.path.join(f_final_dir, 'gene_act_loom')\n",
    "if not os.path.exists(f_gene_loom_dir):\n",
    "    os.makedirs(f_gene_loom_dir)"
   ]
  },
  {
   "cell_type": "code",
   "execution_count": 22,
   "id": "bfae7ac4",
   "metadata": {
    "papermill": {
     "duration": 3.52145,
     "end_time": "2022-01-18T22:59:04.902009",
     "exception": false,
     "start_time": "2022-01-18T22:59:01.380559",
     "status": "completed"
    },
    "tags": []
   },
   "outputs": [],
   "source": [
    "from pycisTopic.loom import (\n",
    "    export_region_accessibility_to_loom,\n",
    "    export_gene_activity_to_loom\n",
    ")"
   ]
  },
  {
   "cell_type": "markdown",
   "id": "fceeabef",
   "metadata": {
    "papermill": {
     "duration": 0.022707,
     "end_time": "2022-01-18T22:59:04.948755",
     "exception": false,
     "start_time": "2022-01-18T22:59:04.926048",
     "status": "completed"
    },
    "tags": []
   },
   "source": [
    "### Gene activity"
   ]
  },
  {
   "cell_type": "code",
   "execution_count": 23,
   "id": "fdd37857",
   "metadata": {
    "papermill": {
     "duration": 0.032296,
     "end_time": "2022-01-18T22:59:05.002684",
     "exception": false,
     "start_time": "2022-01-18T22:59:04.970388",
     "status": "completed"
    },
    "tags": []
   },
   "outputs": [
    {
     "data": {
      "text/plain": [
       "Index(['Unique_nr_frag_in_regions', 'sample_id', 'cisTopic_nr_frag',\n",
       "       'seurat_cell_type', 'pycisTopic_leiden_10_1.0', 'fmx_sample',\n",
       "       'Log_unique_nr_frag', 'pycisTopic_leiden_10_0.8', 'Unique_nr_frag',\n",
       "       'consensus_cell_type', 'Total_nr_frag_in_regions', 'Dupl_rate',\n",
       "       'cisTopic_nr_acc', 'TSS_enrichment', 'pycisTopic_leiden_10_0.6', 'FRIP',\n",
       "       'cisTopic_log_nr_frag', 'Dupl_nr_frag', 'Total_nr_frag',\n",
       "       'Log_total_nr_frag', 'cisTopic_log_nr_acc', 'barcode',\n",
       "       'pycisTopic_leiden_10_1.2', 'UMAP_harmony_1', 'UMAP_harmony_2',\n",
       "       'tSNE_harmony_1', 'tSNE_harmony_2', 'alias'],\n",
       "      dtype='object')"
      ]
     },
     "execution_count": 23,
     "metadata": {},
     "output_type": "execute_result"
    }
   ],
   "source": [
    "cistopic_obj_dict['libds_merged'].cell_data.columns"
   ]
  },
  {
   "cell_type": "code",
   "execution_count": 24,
   "id": "7814fc3b",
   "metadata": {
    "papermill": {
     "duration": 0.030512,
     "end_time": "2022-01-18T22:59:05.055157",
     "exception": false,
     "start_time": "2022-01-18T22:59:05.024645",
     "status": "completed"
    },
    "tags": []
   },
   "outputs": [],
   "source": [
    "from ctxcore.genesig import Regulon\n",
    "\n",
    "# generate a dummy regulon (required for export_gene_activity_to_loom):\n",
    "phreg = Regulon(\n",
    "        name='placeholder regulon',\n",
    "        gene2weight={'phreg': 1.0},\n",
    "        transcription_factor=\"phreg\",\n",
    "        gene2occurrence={\"phreg\": 1},\n",
    "    )"
   ]
  },
  {
   "cell_type": "code",
   "execution_count": 25,
   "id": "1a515a5e",
   "metadata": {
    "papermill": {
     "duration": 0.033349,
     "end_time": "2022-01-18T22:59:05.110549",
     "exception": false,
     "start_time": "2022-01-18T22:59:05.077200",
     "status": "completed"
    },
    "tags": []
   },
   "outputs": [
    {
     "name": "stdout",
     "output_type": "stream",
     "text": [
      "libds_merged\n",
      "Skipping /lustre1/project/stg_00002/lcb/fderop/data/20211215_hca_benchmark_github/5_downsampled_data_merged/downstream_analysis/gene_act_loom/Merged__libds_gene_activity.loom: already exists.\n"
     ]
    }
   ],
   "source": [
    "for key in cistopic_obj_dict.keys():\n",
    "    print(key)\n",
    "    s = 'Merged' if key=='libds_merged' else alias_dict[key]\n",
    "    f_out = os.path.join(f_gene_loom_dir, s + '__libds_gene_activity.loom')\n",
    "    if os.path.exists(f_out):\n",
    "        print(f\"Skipping {f_out}: already exists.\")\n",
    "        continue\n",
    "        \n",
    "    export_gene_activity_to_loom(\n",
    "        gene_activity_matrix = gene_act_dict[key],\n",
    "        cistopic_obj = cistopic_obj_dict[key], \n",
    "        regulons = [phreg],\n",
    "        # selected_cells = [ x.split('-')[0] + '-' + x.split('-')[1]  for x in cistopic_obj_dict[key].cell_names ], # this leaves a cell barcode of the format type 'TGCATGTCGCCGTTCCAAGA-21'\n",
    "        # selected_cells = cistopic_obj_dict[key].projections['cell']['UMAP'].index.tolist(), # cflerin original \n",
    "        out_fname = f_out,\n",
    "        cluster_annotation = ['consensus_cell_type', 'alias', 'fmx_sample'],\n",
    "        cluster_markers = {'consensus_cell_type': markers_dict_dict[key], 'alias':{}, 'fmx_sample':{}},\n",
    "        tree_structure = ('scATAC-seq_Benchmark', 'ATAC_library_downsampled', 'Gene_activity'),\n",
    "        title = 'Gene activity from library-downsampled and sample-merged dataset',\n",
    "        nomenclature = \"hg38\"\n",
    "    )"
   ]
  },
  {
   "cell_type": "markdown",
   "id": "702183a9",
   "metadata": {
    "papermill": {
     "duration": 0.021509,
     "end_time": "2022-01-18T22:59:05.153517",
     "exception": false,
     "start_time": "2022-01-18T22:59:05.132008",
     "status": "completed"
    },
    "tags": []
   },
   "source": [
    "### Region accessibility"
   ]
  },
  {
   "cell_type": "code",
   "execution_count": 26,
   "id": "4aab47d1",
   "metadata": {
    "papermill": {
     "duration": 0.032178,
     "end_time": "2022-01-18T22:59:05.207732",
     "exception": false,
     "start_time": "2022-01-18T22:59:05.175554",
     "status": "completed"
    },
    "tags": []
   },
   "outputs": [],
   "source": [
    "f_region_loom_dir = os.path.join(f_final_dir, 'region_acc_loom')\n",
    "if not os.path.exists(f_region_loom_dir):\n",
    "    os.makedirs(f_region_loom_dir)"
   ]
  },
  {
   "cell_type": "code",
   "execution_count": null,
   "id": "c7c6e7d5",
   "metadata": {
    "papermill": {
     "duration": 16450.537963,
     "end_time": "2022-01-19T03:33:15.768493",
     "exception": false,
     "start_time": "2022-01-18T22:59:05.230530",
     "status": "completed"
    },
    "tags": []
   },
   "outputs": [],
   "source": [
    "for key in cistopic_obj_dict.keys():\n",
    "    print(key)\n",
    "    s = 'Merged' if key=='libds_merged' else alias_dict[key]\n",
    "    f_out = os.path.join(f_region_loom_dir, s + '__libds_region_accessibility.loom')\n",
    "\n",
    "    if os.path.exists(f_out):\n",
    "        print(f\"Skipping {f_out}: already exists.\")\n",
    "        continue\n",
    "    # Subset regions, we will use only regions in topics and DARs here to make it faster\n",
    "    regions_in_topics = list(set(sum([region_bin_topics_dict[key][i].index.tolist() for i in region_bin_topics_dict[key].keys()],[])))\n",
    "    regions_in_DARs = list(set(sum([markers_dict_dict[key][i].index.tolist() for i in markers_dict_dict[key].keys()],[])))\n",
    "    # make sure we only take regions that actually exist in the accessibility matrix:\n",
    "    selected_regions = list(set(regions_in_topics + regions_in_DARs).intersection(set(imputed_acc_obj_dict[key].feature_names)))\n",
    "\n",
    "    # Export to loom\n",
    "    export_region_accessibility_to_loom(\n",
    "        accessibility_matrix = imputed_acc_obj_dict[key],\n",
    "        cistopic_obj = cistopic_obj_dict[key], \n",
    "        binarized_topic_region = region_bin_topics_dict[key],\n",
    "        binarized_cell_topic = binarized_cell_topic_dict[key],\n",
    "        out_fname = f_out,\n",
    "        selected_regions = selected_regions ,\n",
    "        # selected_cells = [ x.split('-')[0] + '-' + x.split('-')[1]  for x in cistopic_obj_dict[key].cell_names ], # this leaves a cell barcode of the format type 'TGCATGTCGCCGTTCCAAGA-21'\n",
    "        # selected_cells = cistopic_obj_dict[key].projections['cell']['UMAP'].index.tolist(), # cflerin original\n",
    "        cluster_annotation = ['consensus_cell_type', 'alias', 'fmx_sample'],\n",
    "        cluster_markers = {'consensus_cell_type': markers_dict_dict[key], 'alias':{}, 'fmx_sample':{}},\n",
    "        tree_structure = ('scATAC', 'Region_accessibility'),\n",
    "        title = f'Region accessibility from sample-merged dataset',\n",
    "        nomenclature = \"hg38\"\n",
    "    )"
   ]
  },
  {
   "cell_type": "markdown",
   "id": "77f6ad5e",
   "metadata": {
    "papermill": {
     "duration": 0.030692,
     "end_time": "2022-01-19T03:33:15.937637",
     "exception": false,
     "start_time": "2022-01-19T03:33:15.906945",
     "status": "completed"
    },
    "tags": []
   },
   "source": [
    "# Caution:\n",
    "The export loom function contains a bug which adds the barcodes as a clustering, causing scope to crash on loading. We fix this below:"
   ]
  },
  {
   "cell_type": "markdown",
   "id": "ddba517e",
   "metadata": {
    "papermill": {
     "duration": 0.024213,
     "end_time": "2022-01-19T03:33:15.986241",
     "exception": false,
     "start_time": "2022-01-19T03:33:15.962028",
     "status": "completed"
    },
    "tags": []
   },
   "source": [
    "# open loom"
   ]
  },
  {
   "cell_type": "code",
   "execution_count": 28,
   "id": "e4c66273",
   "metadata": {
    "papermill": {
     "duration": 0.073183,
     "end_time": "2022-01-19T03:33:16.083635",
     "exception": false,
     "start_time": "2022-01-19T03:33:16.010452",
     "status": "completed"
    },
    "tags": []
   },
   "outputs": [],
   "source": [
    "import loompy as lp\n",
    "import json\n",
    "import copy\n",
    "import glob\n",
    "from collections import OrderedDict"
   ]
  },
  {
   "cell_type": "markdown",
   "id": "1a20253d",
   "metadata": {
    "papermill": {
     "duration": 0.025403,
     "end_time": "2022-01-19T03:33:16.136334",
     "exception": false,
     "start_time": "2022-01-19T03:33:16.110931",
     "status": "completed"
    },
    "tags": []
   },
   "source": [
    "exclude 'barcode' annotation"
   ]
  },
  {
   "cell_type": "code",
   "execution_count": 29,
   "id": "cd1da8e4",
   "metadata": {
    "papermill": {
     "duration": 0.040251,
     "end_time": "2022-01-19T03:33:16.200621",
     "exception": false,
     "start_time": "2022-01-19T03:33:16.160370",
     "status": "completed"
    },
    "tags": []
   },
   "outputs": [],
   "source": [
    "filenames = sorted(glob.glob(f_gene_loom_dir+'/*loom'))\n",
    "samples = [item.replace(\"__libds_gene_activity.loom\", \"\") for item in filenames]\n",
    "samples = [item.replace(\"downstream_analysis/gene_act_loom/\", \"\") for item in samples]\n",
    "loom_dict = {samples[i]: filenames[i] for i in range(len(samples))}\n",
    "loom_dict = OrderedDict(loom_dict)"
   ]
  },
  {
   "cell_type": "code",
   "execution_count": 30,
   "id": "faa7ab1e",
   "metadata": {
    "papermill": {
     "duration": 0.034035,
     "end_time": "2022-01-19T03:33:16.259352",
     "exception": false,
     "start_time": "2022-01-19T03:33:16.225317",
     "status": "completed"
    },
    "tags": []
   },
   "outputs": [
    {
     "data": {
      "text/plain": [
       "OrderedDict([('/lustre1/project/stg_00002/lcb/fderop/data/20211215_hca_benchmark_github/5_downsampled_data_merged/Merged',\n",
       "              '/lustre1/project/stg_00002/lcb/fderop/data/20211215_hca_benchmark_github/5_downsampled_data_merged/downstream_analysis/gene_act_loom/Merged__libds_gene_activity.loom')])"
      ]
     },
     "execution_count": 30,
     "metadata": {},
     "output_type": "execute_result"
    }
   ],
   "source": [
    "loom_dict"
   ]
  },
  {
   "cell_type": "code",
   "execution_count": 31,
   "id": "ee2d5aa8",
   "metadata": {
    "papermill": {
     "duration": 0.188159,
     "end_time": "2022-01-19T03:33:16.472472",
     "exception": false,
     "start_time": "2022-01-19T03:33:16.284313",
     "status": "completed"
    },
    "tags": []
   },
   "outputs": [
    {
     "name": "stdout",
     "output_type": "stream",
     "text": [
      "opening /lustre1/project/stg_00002/lcb/fderop/data/20211215_hca_benchmark_github/5_downsampled_data_merged/downstream_analysis/gene_act_loom/Merged__libds_gene_activity.loom\n",
      "\tno barcode annotation detected\n"
     ]
    }
   ],
   "source": [
    "for sample in loom_dict.keys():\n",
    "    file = loom_dict[sample]\n",
    "    print(f'opening {file}')\n",
    "    loom = lp.connect(file, mode='r+', validate=False)\n",
    "\n",
    "    metadata = json.loads(loom.attrs['MetaData'])\n",
    "    new_metadata = copy.deepcopy(metadata)\n",
    "    for item in new_metadata['annotations']:\n",
    "        if item['name'] == 'barcode':\n",
    "            barcode_index = new_metadata['annotations'].index(item)\n",
    "\n",
    "    if 'barcode_index' in locals():\n",
    "        print(f'\\tbarcode index found: {barcode_index}')\n",
    "        new_metadata['annotations'].pop(barcode_index)\n",
    "        del barcode_index\n",
    "\n",
    "        new_metadata_json = json.dumps(new_metadata)\n",
    "        loom.attrs['MetaData'] = new_metadata_json\n",
    "        loom.close()\n",
    "        print(f'\\tfixed {sample}')\n",
    "\n",
    "    else:\n",
    "        print('\\tno barcode annotation detected')\n",
    "        loom.close()"
   ]
  },
  {
   "cell_type": "markdown",
   "id": "c10c5f9e",
   "metadata": {
    "papermill": {
     "duration": 0.024306,
     "end_time": "2022-01-19T03:33:16.526094",
     "exception": false,
     "start_time": "2022-01-19T03:33:16.501788",
     "status": "completed"
    },
    "tags": []
   },
   "source": [
    "# remove the pesky sample_id from the non-merged looms"
   ]
  },
  {
   "cell_type": "code",
   "execution_count": 32,
   "id": "78ee068b",
   "metadata": {
    "papermill": {
     "duration": 0.091894,
     "end_time": "2022-01-19T03:33:16.642137",
     "exception": false,
     "start_time": "2022-01-19T03:33:16.550243",
     "status": "completed"
    },
    "tags": []
   },
   "outputs": [
    {
     "name": "stdout",
     "output_type": "stream",
     "text": [
      "opening /lustre1/project/stg_00002/lcb/fderop/data/20211215_hca_benchmark_github/5_downsampled_data_merged/downstream_analysis/gene_act_loom/Merged__libds_gene_activity.loom\n",
      "\tno sample_id detected\n",
      "\n",
      "\n"
     ]
    }
   ],
   "source": [
    "for sample in loom_dict.keys():\n",
    "    file = loom_dict[sample]\n",
    "    print(f'opening {file}')\n",
    "    loom = lp.connect(file, mode='r+', validate=False)\n",
    "\n",
    "    metadata = json.loads(loom.attrs['MetaData'])\n",
    "    new_metadata = copy.deepcopy(metadata)\n",
    "    for item in new_metadata['annotations']:\n",
    "        if item['name'] == 'sample_id':\n",
    "            barcode_index = new_metadata['annotations'].index(item)\n",
    "\n",
    "    if 'barcode_index' in locals():\n",
    "        print(f'\\sample_id index found: {barcode_index}')\n",
    "        new_metadata['annotations'].pop(barcode_index)\n",
    "        del barcode_index\n",
    "\n",
    "        new_metadata_json = json.dumps(new_metadata)\n",
    "        loom.attrs['MetaData'] = new_metadata_json\n",
    "        loom.close()\n",
    "        print(f'\\tfixed {sample}')\n",
    "\n",
    "    else:\n",
    "        print('\\tno sample_id detected')\n",
    "        loom.close()\n",
    "    print('\\n')"
   ]
  },
  {
   "cell_type": "markdown",
   "id": "7b4b11f8",
   "metadata": {
    "papermill": {
     "duration": 0.024573,
     "end_time": "2022-01-19T03:33:16.691966",
     "exception": false,
     "start_time": "2022-01-19T03:33:16.667393",
     "status": "completed"
    },
    "tags": []
   },
   "source": [
    "# open loom"
   ]
  },
  {
   "cell_type": "code",
   "execution_count": 33,
   "id": "7041f6c8",
   "metadata": {
    "papermill": {
     "duration": 0.031104,
     "end_time": "2022-01-19T03:33:16.747766",
     "exception": false,
     "start_time": "2022-01-19T03:33:16.716662",
     "status": "completed"
    },
    "tags": []
   },
   "outputs": [],
   "source": [
    "import loompy as lp\n",
    "import json\n",
    "import copy\n",
    "import glob\n",
    "from collections import OrderedDict"
   ]
  },
  {
   "cell_type": "markdown",
   "id": "4c752884",
   "metadata": {
    "papermill": {
     "duration": 0.026191,
     "end_time": "2022-01-19T03:33:16.799813",
     "exception": false,
     "start_time": "2022-01-19T03:33:16.773622",
     "status": "completed"
    },
    "tags": []
   },
   "source": [
    "exclude 'barcode' annotation"
   ]
  },
  {
   "cell_type": "code",
   "execution_count": 34,
   "id": "b8c9370a",
   "metadata": {
    "papermill": {
     "duration": 0.292938,
     "end_time": "2022-01-19T03:33:17.117952",
     "exception": true,
     "start_time": "2022-01-19T03:33:16.825014",
     "status": "failed"
    },
    "tags": []
   },
   "outputs": [],
   "source": [
    "filenames = sorted(glob.glob(f_region_loom_dir+'/*loom'))\n",
    "samples = [item.replace(\"__libds_region_accessibility.loom\", \"\") for item in filenames]\n",
    "samples = [item.replace(\"downstream_analysis/region_acc_loom/\", \"\") for item in samples]\n",
    "loom_dict = {samples[i]: filenames[i] for i in range(len(samples))}\n",
    "loom_dict = OrderedDict(loom_dict)"
   ]
  },
  {
   "cell_type": "code",
   "execution_count": 35,
   "id": "d9800cda",
   "metadata": {
    "papermill": {
     "duration": null,
     "end_time": null,
     "exception": null,
     "start_time": null,
     "status": "pending"
    },
    "tags": []
   },
   "outputs": [
    {
     "data": {
      "text/plain": [
       "OrderedDict([('/lustre1/project/stg_00002/lcb/fderop/data/20211215_hca_benchmark_github/5_downsampled_data_merged/Merged',\n",
       "              '/lustre1/project/stg_00002/lcb/fderop/data/20211215_hca_benchmark_github/5_downsampled_data_merged/downstream_analysis/region_acc_loom/Merged__libds_region_accessibility.loom')])"
      ]
     },
     "execution_count": 35,
     "metadata": {},
     "output_type": "execute_result"
    }
   ],
   "source": [
    "loom_dict"
   ]
  },
  {
   "cell_type": "code",
   "execution_count": 36,
   "id": "eb35bccd",
   "metadata": {
    "papermill": {
     "duration": null,
     "end_time": null,
     "exception": null,
     "start_time": null,
     "status": "pending"
    },
    "tags": []
   },
   "outputs": [
    {
     "name": "stdout",
     "output_type": "stream",
     "text": [
      "opening /lustre1/project/stg_00002/lcb/fderop/data/20211215_hca_benchmark_github/5_downsampled_data_merged/downstream_analysis/region_acc_loom/Merged__libds_region_accessibility.loom\n",
      "\tbarcode index found: 4\n",
      "\tfixed /lustre1/project/stg_00002/lcb/fderop/data/20211215_hca_benchmark_github/5_downsampled_data_merged/Merged\n"
     ]
    }
   ],
   "source": [
    "for sample in loom_dict.keys():\n",
    "    file = loom_dict[sample]\n",
    "    print(f'opening {file}')\n",
    "    loom = lp.connect(file, mode='r+', validate=False)\n",
    "\n",
    "    metadata = json.loads(loom.attrs['MetaData'])\n",
    "    new_metadata = copy.deepcopy(metadata)\n",
    "    for item in new_metadata['annotations']:\n",
    "        if item['name'] == 'barcode':\n",
    "            barcode_index = new_metadata['annotations'].index(item)\n",
    "\n",
    "    if 'barcode_index' in locals():\n",
    "        print(f'\\tbarcode index found: {barcode_index}')\n",
    "        new_metadata['annotations'].pop(barcode_index)\n",
    "        del barcode_index\n",
    "\n",
    "        new_metadata_json = json.dumps(new_metadata)\n",
    "        loom.attrs['MetaData'] = new_metadata_json\n",
    "        loom.close()\n",
    "        print(f'\\tfixed {sample}')\n",
    "\n",
    "    else:\n",
    "        print('\\tno barcode annotation detected')\n",
    "        loom.close()"
   ]
  },
  {
   "cell_type": "markdown",
   "id": "8ab712d5",
   "metadata": {
    "papermill": {
     "duration": null,
     "end_time": null,
     "exception": null,
     "start_time": null,
     "status": "pending"
    },
    "tags": []
   },
   "source": [
    "# remove the pesky sample_id from the non-merged looms"
   ]
  },
  {
   "cell_type": "code",
   "execution_count": 37,
   "id": "28be20d8",
   "metadata": {
    "papermill": {
     "duration": null,
     "end_time": null,
     "exception": null,
     "start_time": null,
     "status": "pending"
    },
    "tags": []
   },
   "outputs": [
    {
     "name": "stdout",
     "output_type": "stream",
     "text": [
      "opening /lustre1/project/stg_00002/lcb/fderop/data/20211215_hca_benchmark_github/5_downsampled_data_merged/downstream_analysis/region_acc_loom/Merged__libds_region_accessibility.loom\n",
      "\\sample_id index found: 0\n",
      "\tfixed /lustre1/project/stg_00002/lcb/fderop/data/20211215_hca_benchmark_github/5_downsampled_data_merged/Merged\n",
      "\n",
      "\n"
     ]
    }
   ],
   "source": [
    "for sample in loom_dict.keys():\n",
    "    file = loom_dict[sample]\n",
    "    print(f'opening {file}')\n",
    "    loom = lp.connect(file, mode='r+', validate=False)\n",
    "\n",
    "    metadata = json.loads(loom.attrs['MetaData'])\n",
    "    new_metadata = copy.deepcopy(metadata)\n",
    "    for item in new_metadata['annotations']:\n",
    "        if item['name'] == 'sample_id':\n",
    "            barcode_index = new_metadata['annotations'].index(item)\n",
    "\n",
    "    if 'barcode_index' in locals():\n",
    "        print(f'\\sample_id index found: {barcode_index}')\n",
    "        new_metadata['annotations'].pop(barcode_index)\n",
    "        del barcode_index\n",
    "\n",
    "        new_metadata_json = json.dumps(new_metadata)\n",
    "        loom.attrs['MetaData'] = new_metadata_json\n",
    "        loom.close()\n",
    "        print(f'\\tfixed {sample}')\n",
    "\n",
    "    else:\n",
    "        print('\\tno sample_id detected')\n",
    "        loom.close()\n",
    "    print('\\n')"
   ]
  },
  {
   "cell_type": "code",
   "execution_count": null,
   "id": "fd12a9df",
   "metadata": {},
   "outputs": [],
   "source": []
  },
  {
   "cell_type": "code",
   "execution_count": null,
   "id": "01349e0f",
   "metadata": {},
   "outputs": [],
   "source": []
  }
 ],
 "metadata": {
  "kernelspec": {
   "display_name": "pycisTopic_singularity_20210921",
   "language": "python",
   "name": "pycistopic_singularity"
  },
  "language_info": {
   "codemirror_mode": {
    "name": "ipython",
    "version": 3
   },
   "file_extension": ".py",
   "mimetype": "text/x-python",
   "name": "python",
   "nbconvert_exporter": "python",
   "pygments_lexer": "ipython3",
   "version": "3.8.6"
  },
  "papermill": {
   "default_parameters": {},
   "duration": 16541.525893,
   "end_time": "2022-01-19T03:33:23.041909",
   "environment_variables": {},
   "exception": true,
   "input_path": "8a_export_loom.ipynb",
   "output_path": "8a_export_loom.OUT.ipynb",
   "parameters": {},
   "start_time": "2022-01-18T22:57:41.516016",
   "version": "2.3.3"
  }
 },
 "nbformat": 4,
 "nbformat_minor": 5
}
