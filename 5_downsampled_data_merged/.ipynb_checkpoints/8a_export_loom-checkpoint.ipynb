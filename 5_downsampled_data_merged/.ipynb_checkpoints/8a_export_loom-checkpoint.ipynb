{
 "cells": [
  {
   "cell_type": "markdown",
   "id": "7f2ced2e",
   "metadata": {
    "papermill": {
     "duration": 0.048336,
     "end_time": "2021-11-24T19:04:43.401980",
     "exception": false,
     "start_time": "2021-11-24T19:04:43.353644",
     "status": "completed"
    },
    "tags": []
   },
   "source": [
    "# pycisTopic analysis\n",
    "\n",
    "Full dataset, using consensus peak regions."
   ]
  },
  {
   "cell_type": "code",
   "execution_count": 1,
   "id": "8bcfedf4",
   "metadata": {
    "papermill": {
     "duration": 0.04676,
     "end_time": "2021-11-24T19:04:43.466907",
     "exception": false,
     "start_time": "2021-11-24T19:04:43.420147",
     "status": "completed"
    },
    "tags": []
   },
   "outputs": [
    {
     "data": {
      "text/plain": [
       "'0.1.dev300+g7494158'"
      ]
     },
     "execution_count": 1,
     "metadata": {},
     "output_type": "execute_result"
    }
   ],
   "source": [
    "import pycisTopic\n",
    "pycisTopic.__version__"
   ]
  },
  {
   "cell_type": "code",
   "execution_count": 2,
   "id": "e007dfae",
   "metadata": {
    "papermill": {
     "duration": 0.023628,
     "end_time": "2021-11-24T19:04:43.506774",
     "exception": false,
     "start_time": "2021-11-24T19:04:43.483146",
     "status": "completed"
    },
    "tags": []
   },
   "outputs": [],
   "source": [
    "import warnings\n",
    "warnings.filterwarnings('ignore')\n",
    "warnings.simplefilter('ignore')"
   ]
  },
  {
   "cell_type": "code",
   "execution_count": 3,
   "id": "5bb0e767",
   "metadata": {
    "papermill": {
     "duration": 0.871985,
     "end_time": "2021-11-24T19:04:44.395473",
     "exception": false,
     "start_time": "2021-11-24T19:04:43.523488",
     "status": "completed"
    },
    "tags": []
   },
   "outputs": [],
   "source": [
    "import pickle\n",
    "import pandas as pd"
   ]
  },
  {
   "cell_type": "code",
   "execution_count": 4,
   "id": "3d820047",
   "metadata": {
    "papermill": {
     "duration": 0.024696,
     "end_time": "2021-11-24T19:04:44.437580",
     "exception": false,
     "start_time": "2021-11-24T19:04:44.412884",
     "status": "completed"
    },
    "tags": []
   },
   "outputs": [],
   "source": [
    "import os\n",
    "wdir = '/lustre1/project/stg_00002/lcb/fderop/data/20211215_hca_benchmark_github/5_downsampled_data_merged'\n",
    "os.chdir( wdir )"
   ]
  },
  {
   "cell_type": "code",
   "execution_count": 5,
   "id": "c992c674",
   "metadata": {
    "papermill": {
     "duration": 0.030337,
     "end_time": "2021-11-24T19:04:44.484619",
     "exception": false,
     "start_time": "2021-11-24T19:04:44.454282",
     "status": "completed"
    },
    "tags": []
   },
   "outputs": [],
   "source": [
    "# create output directory:\n",
    "f_final_dir = os.path.join(wdir, 'downstream_analysis')\n",
    "if not os.path.exists(f_final_dir):\n",
    "    os.makedirs(f_final_dir)"
   ]
  },
  {
   "cell_type": "code",
   "execution_count": 6,
   "id": "01b9f0e3",
   "metadata": {
    "papermill": {
     "duration": 0.023643,
     "end_time": "2021-11-24T19:04:44.524468",
     "exception": false,
     "start_time": "2021-11-24T19:04:44.500825",
     "status": "completed"
    },
    "tags": []
   },
   "outputs": [],
   "source": [
    "import copy"
   ]
  },
  {
   "cell_type": "markdown",
   "id": "6ae6336c",
   "metadata": {
    "papermill": {
     "duration": 0.016453,
     "end_time": "2021-11-24T19:04:44.557038",
     "exception": false,
     "start_time": "2021-11-24T19:04:44.540585",
     "status": "completed"
    },
    "tags": []
   },
   "source": [
    "## Load the cisTopic objects"
   ]
  },
  {
   "cell_type": "code",
   "execution_count": 7,
   "id": "cb868eb0",
   "metadata": {
    "papermill": {
     "duration": 9.082353,
     "end_time": "2021-11-24T19:04:53.655802",
     "exception": false,
     "start_time": "2021-11-24T19:04:44.573449",
     "status": "completed"
    },
    "tags": []
   },
   "outputs": [
    {
     "name": "stdout",
     "output_type": "stream",
     "text": [
      "Loaded filtered cistopic object libds_merged\n"
     ]
    }
   ],
   "source": [
    "f_cto_dir = 'pycistopic_consensus_peaks/cistopic_objs__mergedconsensus/'\n",
    "\n",
    "cistopic_obj_dict = {}\n",
    "for key in ['libds_merged']:\n",
    "    f_cto = os.path.join(wdir, f_cto_dir, key + '__cistopic_obj_mergedconsensus_metadata_annotated_models_umap_tsne.pkl')\n",
    "    if(os.path.isfile(f_cto)):\n",
    "        with open(f_cto, 'rb') as f:\n",
    "            cistopic_obj_dict[key] = pickle.load(f)\n",
    "        print(f\"Loaded filtered cistopic object {key}\")\n",
    "    else:\n",
    "        print(f\"file {f_cto} doesn't exist\")"
   ]
  },
  {
   "cell_type": "code",
   "execution_count": 8,
   "id": "313cf7f6",
   "metadata": {
    "papermill": {
     "duration": 0.026376,
     "end_time": "2021-11-24T19:04:53.701662",
     "exception": false,
     "start_time": "2021-11-24T19:04:53.675286",
     "status": "completed"
    },
    "tags": []
   },
   "outputs": [],
   "source": [
    "from collections import OrderedDict"
   ]
  },
  {
   "cell_type": "code",
   "execution_count": 9,
   "id": "8fafd21c",
   "metadata": {
    "papermill": {
     "duration": 0.055996,
     "end_time": "2021-11-24T19:04:53.776252",
     "exception": false,
     "start_time": "2021-11-24T19:04:53.720256",
     "status": "completed"
    },
    "tags": []
   },
   "outputs": [
    {
     "data": {
      "text/plain": [
       "array(['Broad_1', 'Broad_2', 'Broad_mito_1', 'Broad_mito_2', 'CNAG_1',\n",
       "       'CNAG_2', 'Sanger_1', 'Sanger_2', 'Stanford_1', 'Stanford_2',\n",
       "       'VIB_1', 'VIB_2', 'VIB_Hydrop_1', 'VIB_Hydrop_2', 's3atac'],\n",
       "      dtype=object)"
      ]
     },
     "execution_count": 9,
     "metadata": {},
     "output_type": "execute_result"
    }
   ],
   "source": [
    "cistopic_obj_dict['libds_merged'].cell_data['sample_id'].unique()"
   ]
  },
  {
   "cell_type": "code",
   "execution_count": 10,
   "id": "4b688361",
   "metadata": {
    "papermill": {
     "duration": 0.027894,
     "end_time": "2021-11-24T19:04:53.822643",
     "exception": false,
     "start_time": "2021-11-24T19:04:53.794749",
     "status": "completed"
    },
    "tags": []
   },
   "outputs": [],
   "source": [
    "# display names of each sample. NOTE: the samples will be dislpayed in the order of this dict!\n",
    "alias_dict = OrderedDict({\n",
    "    \"Broad_1\": \"BioRad ATAC 1\",\n",
    "    \"Broad_2\": \"BioRad ATAC 2\",\n",
    "    \"Stanford_1\": \"10x ATAC A1\",\n",
    "    \"Stanford_2\": \"10x ATAC A2\",\n",
    "    \"VIB_1\": \"10x ATAC B1\",\n",
    "    \"VIB_2\": \"10x ATAC B2\",\n",
    "    \"CNAG_1\": \"10x ATAC C1\",\n",
    "    \"CNAG_2\": \"10x ATAC C2\",\n",
    "    \"Broad_mito_1\": \"10x mtATAC 1\",\n",
    "    \"Broad_mito_2\": \"10x mtATAC 2\",\n",
    "    \"Sanger_1\": \"10x Multiome 1\",\n",
    "    \"Sanger_2\": \"10x Multiome 2\",\n",
    "    \"VIB_Hydrop_1\": \"Hydrop ATAC 1\",\n",
    "    \"VIB_Hydrop_2\": \"Hydrop ATAC 2\",\n",
    "    \"s3atac\": \"s3 ATAC\",\n",
    "    \"merged\": \"Merged\"\n",
    "})"
   ]
  },
  {
   "cell_type": "code",
   "execution_count": 11,
   "id": "2e287aec",
   "metadata": {
    "papermill": {
     "duration": 0.037871,
     "end_time": "2021-11-24T19:04:53.879340",
     "exception": false,
     "start_time": "2021-11-24T19:04:53.841469",
     "status": "completed"
    },
    "tags": []
   },
   "outputs": [],
   "source": [
    "cistopic_obj_dict['libds_merged'].cell_data['alias'] = [alias_dict[x] for x in cistopic_obj_dict['libds_merged'].cell_data['sample_id']]"
   ]
  },
  {
   "cell_type": "code",
   "execution_count": 12,
   "id": "aa8b9e26",
   "metadata": {
    "papermill": {
     "duration": 0.033799,
     "end_time": "2021-11-24T19:04:53.931555",
     "exception": false,
     "start_time": "2021-11-24T19:04:53.897756",
     "status": "completed"
    },
    "tags": []
   },
   "outputs": [
    {
     "data": {
      "text/plain": [
       "array(['Broad_1', 'Broad_2', 'Broad_mito_1', 'Broad_mito_2', 'CNAG_1',\n",
       "       'CNAG_2', 'Sanger_1', 'Sanger_2', 'Stanford_1', 'Stanford_2',\n",
       "       'VIB_1', 'VIB_2', 'VIB_Hydrop_1', 'VIB_Hydrop_2', 's3atac'],\n",
       "      dtype=object)"
      ]
     },
     "execution_count": 12,
     "metadata": {},
     "output_type": "execute_result"
    }
   ],
   "source": [
    "cistopic_obj_dict['libds_merged'].cell_data['sample_id'].unique()"
   ]
  },
  {
   "cell_type": "code",
   "execution_count": 13,
   "id": "ac70a19a",
   "metadata": {
    "papermill": {
     "duration": 0.035252,
     "end_time": "2021-11-24T19:04:53.985774",
     "exception": false,
     "start_time": "2021-11-24T19:04:53.950522",
     "status": "completed"
    },
    "tags": []
   },
   "outputs": [
    {
     "name": "stdout",
     "output_type": "stream",
     "text": [
      "BioRad ATAC 1\n",
      "BioRad ATAC 2\n",
      "10x mtATAC 1\n",
      "10x mtATAC 2\n",
      "10x ATAC C1\n",
      "10x ATAC C2\n",
      "10x Multiome 1\n",
      "10x Multiome 2\n",
      "10x ATAC A1\n",
      "10x ATAC A2\n",
      "10x ATAC B1\n",
      "10x ATAC B2\n",
      "Hydrop ATAC 1\n",
      "Hydrop ATAC 2\n",
      "s3 ATAC\n"
     ]
    }
   ],
   "source": [
    "for key in cistopic_obj_dict['libds_merged'].cell_data['sample_id'].unique():\n",
    "    print(alias_dict[key])"
   ]
  },
  {
   "cell_type": "markdown",
   "id": "a7d0dca8",
   "metadata": {
    "papermill": {
     "duration": 0.019019,
     "end_time": "2021-11-24T19:04:54.023864",
     "exception": false,
     "start_time": "2021-11-24T19:04:54.004845",
     "status": "completed"
    },
    "tags": []
   },
   "source": [
    "#### Save/load"
   ]
  },
  {
   "cell_type": "code",
   "execution_count": 14,
   "id": "4eb6ef80",
   "metadata": {
    "papermill": {
     "duration": 0.308718,
     "end_time": "2021-11-24T19:04:54.350065",
     "exception": false,
     "start_time": "2021-11-24T19:04:54.041347",
     "status": "completed"
    },
    "tags": []
   },
   "outputs": [
    {
     "name": "stdout",
     "output_type": "stream",
     "text": [
      "Loading /lustre1/project/stg_00002/lcb/fderop/data/20211215_hca_benchmark_github/5_downsampled_data_merged/downstream_analysis/region_bin_topics.pkl\n"
     ]
    }
   ],
   "source": [
    "f_out = os.path.join(f_final_dir, 'region_bin_topics.pkl')\n",
    "if os.path.isfile(f_out):\n",
    "    print(f\"Loading {f_out}\")\n",
    "    with open(f_out, 'rb') as f:\n",
    "        region_bin_topics_dict = pickle.load(f)"
   ]
  },
  {
   "cell_type": "code",
   "execution_count": 15,
   "id": "ee011d5a",
   "metadata": {
    "papermill": {
     "duration": 0.147905,
     "end_time": "2021-11-24T19:04:54.540643",
     "exception": false,
     "start_time": "2021-11-24T19:04:54.392738",
     "status": "completed"
    },
    "tags": []
   },
   "outputs": [
    {
     "name": "stdout",
     "output_type": "stream",
     "text": [
      "Loading /lustre1/project/stg_00002/lcb/fderop/data/20211215_hca_benchmark_github/5_downsampled_data_merged/downstream_analysis/binarized_cell_topic.pkl\n"
     ]
    }
   ],
   "source": [
    "f_out = os.path.join(f_final_dir, 'binarized_cell_topic.pkl')\n",
    "if os.path.isfile(f_out):\n",
    "    print(f\"Loading {f_out}\")\n",
    "    with open(f_out, 'rb') as f:\n",
    "        binarized_cell_topic_dict = pickle.load(f)"
   ]
  },
  {
   "cell_type": "code",
   "execution_count": 16,
   "id": "0615de40",
   "metadata": {
    "papermill": {
     "duration": 81.446513,
     "end_time": "2021-11-24T19:06:16.079484",
     "exception": false,
     "start_time": "2021-11-24T19:04:54.632971",
     "status": "completed"
    },
    "tags": []
   },
   "outputs": [
    {
     "name": "stdout",
     "output_type": "stream",
     "text": [
      "Loading /lustre1/project/stg_00002/lcb/fderop/data/20211215_hca_benchmark_github/5_downsampled_data_merged/downstream_analysis/imputed_acc_obj.pkl\n"
     ]
    }
   ],
   "source": [
    "f_out = os.path.join(f_final_dir, 'imputed_acc_obj.pkl')\n",
    "if os.path.isfile(f_out):\n",
    "    print(f\"Loading {f_out}\")\n",
    "    with open(f_out, 'rb') as f:\n",
    "        imputed_acc_obj_dict = pickle.load(f)"
   ]
  },
  {
   "cell_type": "code",
   "execution_count": 17,
   "id": "42421523",
   "metadata": {
    "papermill": {
     "duration": 0.230499,
     "end_time": "2021-11-24T19:06:16.384786",
     "exception": false,
     "start_time": "2021-11-24T19:06:16.154287",
     "status": "completed"
    },
    "tags": []
   },
   "outputs": [
    {
     "name": "stdout",
     "output_type": "stream",
     "text": [
      "Loading /lustre1/project/stg_00002/lcb/fderop/data/20211215_hca_benchmark_github/5_downsampled_data_merged/downstream_analysis/markers_dict.pkl\n"
     ]
    }
   ],
   "source": [
    "f_out = os.path.join(f_final_dir, 'markers_dict.pkl')\n",
    "if os.path.isfile(f_out):\n",
    "    print(f\"Loading {f_out}\")\n",
    "    with open(f_out, 'rb') as f:\n",
    "        markers_dict_dict = pickle.load(f)"
   ]
  },
  {
   "cell_type": "markdown",
   "id": "6a448092",
   "metadata": {
    "papermill": {
     "duration": 0.026334,
     "end_time": "2021-11-24T19:06:16.431159",
     "exception": false,
     "start_time": "2021-11-24T19:06:16.404825",
     "status": "completed"
    },
    "tags": []
   },
   "source": [
    "## Gene activity"
   ]
  },
  {
   "cell_type": "code",
   "execution_count": 18,
   "id": "a1894150",
   "metadata": {
    "papermill": {
     "duration": 0.234298,
     "end_time": "2021-11-24T19:06:16.686396",
     "exception": false,
     "start_time": "2021-11-24T19:06:16.452098",
     "status": "completed"
    },
    "tags": []
   },
   "outputs": [],
   "source": [
    "import pyranges as pr\n",
    "import requests\n",
    "import pybiomart as pbm"
   ]
  },
  {
   "cell_type": "markdown",
   "id": "d1eb0c37",
   "metadata": {
    "papermill": {
     "duration": 0.044064,
     "end_time": "2021-11-24T19:06:22.225933",
     "exception": false,
     "start_time": "2021-11-24T19:06:22.181869",
     "status": "completed"
    },
    "tags": []
   },
   "source": [
    "### Infer gene activity"
   ]
  },
  {
   "cell_type": "code",
   "execution_count": 19,
   "id": "db87d026",
   "metadata": {
    "papermill": {
     "duration": 10.102528,
     "end_time": "2021-11-24T19:06:32.362675",
     "exception": false,
     "start_time": "2021-11-24T19:06:22.260147",
     "status": "completed"
    },
    "tags": []
   },
   "outputs": [
    {
     "name": "stdout",
     "output_type": "stream",
     "text": [
      "Loading /lustre1/project/stg_00002/lcb/fderop/data/20211215_hca_benchmark_github/5_downsampled_data_merged/downstream_analysis/gene_act_dict.pkl\n"
     ]
    }
   ],
   "source": [
    "f_out = os.path.join(f_final_dir, 'gene_act_dict.pkl')\n",
    "if os.path.isfile(f_out):\n",
    "    print(f\"Loading {f_out}\")\n",
    "    with open(f_out, 'rb') as f:\n",
    "        gene_act_dict = pickle.load(f)\n",
    "else:\n",
    "    from pycisTopic.gene_activity import get_gene_activity\n",
    "    from pycisTopic.diff_features import find_diff_features\n",
    "    # For human\n",
    "    dataset = pbm.Dataset(name='hsapiens_gene_ensembl',  host='http://www.ensembl.org')\n",
    "    annot = dataset.query(attributes=['chromosome_name', 'start_position', 'end_position', 'strand', 'external_gene_name', 'transcription_start_site', 'transcript_biotype'])\n",
    "    annot['Chromosome/scaffold name'] = 'chr' + annot['Chromosome/scaffold name'].astype(str)\n",
    "    annot.columns=['Chromosome', 'Start', 'End', 'Strand', 'Gene','Transcription_Start_Site', 'Transcript_type']\n",
    "    annot = annot[annot.Transcript_type == 'protein_coding']\n",
    "    annot.Strand[annot.Strand == 1] = '+'\n",
    "    annot.Strand[annot.Strand == -1] = '-'\n",
    "    pr_annotation = pr.PyRanges(annot.dropna(axis = 0))\n",
    "    pr_annotation\n",
    "\n",
    "    # get chromosome sizes (hg38)\n",
    "    target_url = 'http://hgdownload.cse.ucsc.edu/goldenPath/hg38/bigZips/hg38.chrom.sizes'\n",
    "    chromsizes = pd.read_csv(target_url, sep='\\t', header=None)\n",
    "    chromsizes.columns = ['Chromosome', 'End']\n",
    "    chromsizes['Start'] = [0]*chromsizes.shape[0]\n",
    "    chromsizes = chromsizes.loc[:,['Chromosome', 'Start', 'End']]\n",
    "    chromsizes = pr.PyRanges(chromsizes)\n",
    "    chromsizes\n",
    "\n",
    "    gene_act_dict = {}\n",
    "    for key in cistopic_obj_dict.keys():\n",
    "        print(key)\n",
    "        gene_act, weights = get_gene_activity(\n",
    "            imputed_acc_obj_dict[key], # Region-cell probabilities\n",
    "            pr_annotation, # Gene annotation\n",
    "            chromsizes, # Chromosome size\n",
    "            use_gene_boundaries=True, # Whether to use the whole search space or stop when encountering another gene\n",
    "            upstream=[1000, 100000], # Search space upstream. The minimum means that even if there is a gene right next to it \n",
    "                                     #these bp will be taken (1kbp here)\n",
    "            downstream=[1000,100000], # Search space downstream\n",
    "            distance_weight=True, # Whether to add a distance weight (an exponential function, the weight will decrease with distance)\n",
    "            decay_rate=1, # Exponent for the distance exponential funciton (the higher the faster will be the decrease)\n",
    "            extend_gene_body_upstream=10000, # Number of bp upstream immune to the distance weight (their value will be maximum for \n",
    "                                             #this weight)\n",
    "            extend_gene_body_downstream=500, # Number of bp downstream immune to the distance weight\n",
    "            gene_size_weight=False, # Whether to add a weights based on the length of the gene\n",
    "            gene_size_scale_factor='median', # Dividend to calculate the gene size weigth. Default is the median value of all genes\n",
    "                                             #in the genome\n",
    "            remove_promoters=False, # Whether to remove promoters when computing gene activity scores\n",
    "            average_scores=True, # Whether to divide by the total number of region assigned to a gene when calculating the gene \n",
    "                                 # activity score\n",
    "            scale_factor=1, # Value to multiply for the final gene activity matrix\n",
    "            extend_tss=[10,10], # Space to consider a promoter\n",
    "            gini_weight = True, # Whether to add a gini index weigth. The more unique the region is, the higher this weight will be\n",
    "            return_weights= True, # Whether to return the final weights\n",
    "            project='Gene_activity') # Project name for the gene activity object\n",
    "        gene_act_dict[key] = copy.copy(gene_act)\n",
    "\n",
    "    with open(f_out, 'wb') as f:\n",
    "        pickle.dump(gene_act_dict, f)\n",
    "    print(f'saved {f_out}')"
   ]
  },
  {
   "cell_type": "code",
   "execution_count": 20,
   "id": "23a51e9b",
   "metadata": {},
   "outputs": [
    {
     "data": {
      "text/plain": [
       "{'cell': {'UMAP':                                                        UMAP_1     UMAP_2\n",
       "  CCTCCTTCTTCATCCAGAGAG_TAAGAGGGTGGCGCCTTGCGA_CGG...   5.778868  11.895809\n",
       "  CCTTAGGACGAGAATTATCAT_CCGCGATACCTACCAGATAGG-Bro...  -0.684854  19.437815\n",
       "  ATGAATAGTGCATTGCAGTGT-Broad_1                        2.187975  14.684908\n",
       "  TGTTTAGATAGGCATAAGGTA-Broad_1                        6.169397  11.672524\n",
       "  TTACAGAGGTGTTTCCAAGCT_GGACGACAGTTTCTCTAGAGC-Bro...   5.618959  11.884871\n",
       "  ...                                                       ...        ...\n",
       "  GGTTAGTTGGTATTGCAGCTCGGACAAC-s3atac                -10.563517   3.115543\n",
       "  GATTCGGTCAGTTCTCTCCTTGACGAAT-s3atac                -10.507968   3.265422\n",
       "  TGCGGCCTGGTCTCATTGCCCGGAACTG-s3atac                 -7.065394  -2.570484\n",
       "  GAAGAGTATTTCTCCTCCTGGTGTCGGA-s3atac                -10.610051   2.621628\n",
       "  TGCGGCCTGGAATGATGCTCATTGTGAA-s3atac                 -7.511748  -3.023273\n",
       "  \n",
       "  [45235 rows x 2 columns],\n",
       "  'tSNE':                                                        tSNE_1     tSNE_2\n",
       "  CCTCCTTCTTCATCCAGAGAG_TAAGAGGGTGGCGCCTTGCGA_CGG...  18.264195  49.977308\n",
       "  CCTTAGGACGAGAATTATCAT_CCGCGATACCTACCAGATAGG-Bro...   2.488737  80.233731\n",
       "  ATGAATAGTGCATTGCAGTGT-Broad_1                       44.201743  38.785277\n",
       "  TGTTTAGATAGGCATAAGGTA-Broad_1                       10.110081  45.609714\n",
       "  TTACAGAGGTGTTTCCAAGCT_GGACGACAGTTTCTCTAGAGC-Bro...  19.462231  50.454513\n",
       "  ...                                                       ...        ...\n",
       "  GGTTAGTTGGTATTGCAGCTCGGACAAC-s3atac                -11.522451  38.641029\n",
       "  GATTCGGTCAGTTCTCTCCTTGACGAAT-s3atac                -10.873449  37.136128\n",
       "  TGCGGCCTGGTCTCATTGCCCGGAACTG-s3atac                -21.098519 -43.646225\n",
       "  GAAGAGTATTTCTCCTCCTGGTGTCGGA-s3atac                -12.175361  50.088883\n",
       "  TGCGGCCTGGAATGATGCTCATTGTGAA-s3atac                -20.510428 -52.173032\n",
       "  \n",
       "  [45235 rows x 2 columns],\n",
       "  'UMAP_harmony':                                                        UMAP_1     UMAP_2\n",
       "  CCTCCTTCTTCATCCAGAGAG_TAAGAGGGTGGCGCCTTGCGA_CGG...  10.603668  14.324357\n",
       "  CCTTAGGACGAGAATTATCAT_CCGCGATACCTACCAGATAGG-Bro...   7.608005  -7.571940\n",
       "  ATGAATAGTGCATTGCAGTGT-Broad_1                       11.724223   4.751494\n",
       "  TGTTTAGATAGGCATAAGGTA-Broad_1                       13.573638  16.315140\n",
       "  TTACAGAGGTGTTTCCAAGCT_GGACGACAGTTTCTCTAGAGC-Bro...  10.550716  14.335300\n",
       "  ...                                                       ...        ...\n",
       "  GGTTAGTTGGTATTGCAGCTCGGACAAC-s3atac                  3.645544  -6.040138\n",
       "  GATTCGGTCAGTTCTCTCCTTGACGAAT-s3atac                  4.013797  -6.059711\n",
       "  TGCGGCCTGGTCTCATTGCCCGGAACTG-s3atac                 10.516696   4.159173\n",
       "  GAAGAGTATTTCTCCTCCTGGTGTCGGA-s3atac                  6.498168  -8.294133\n",
       "  TGCGGCCTGGAATGATGCTCATTGTGAA-s3atac                 10.821644   7.233150\n",
       "  \n",
       "  [45235 rows x 2 columns],\n",
       "  'tSNE_harmony':                                                        tSNE_1     tSNE_2\n",
       "  CCTCCTTCTTCATCCAGAGAG_TAAGAGGGTGGCGCCTTGCGA_CGG...   3.956767  23.460202\n",
       "  CCTTAGGACGAGAATTATCAT_CCGCGATACCTACCAGATAGG-Bro...   4.023234  57.260927\n",
       "  ATGAATAGTGCATTGCAGTGT-Broad_1                      -21.612140 -18.295300\n",
       "  TGTTTAGATAGGCATAAGGTA-Broad_1                      -50.635160  34.662899\n",
       "  TTACAGAGGTGTTTCCAAGCT_GGACGACAGTTTCTCTAGAGC-Bro...   3.108778  20.429550\n",
       "  ...                                                       ...        ...\n",
       "  GGTTAGTTGGTATTGCAGCTCGGACAAC-s3atac                 44.749706  51.181226\n",
       "  GATTCGGTCAGTTCTCTCCTTGACGAAT-s3atac                 48.306403  57.061874\n",
       "  TGCGGCCTGGTCTCATTGCCCGGAACTG-s3atac                -33.278084 -28.925472\n",
       "  GAAGAGTATTTCTCCTCCTGGTGTCGGA-s3atac                  4.903904  40.968488\n",
       "  TGCGGCCTGGAATGATGCTCATTGTGAA-s3atac                -22.904431   4.911173\n",
       "  \n",
       "  [45235 rows x 2 columns]}}"
      ]
     },
     "execution_count": 20,
     "metadata": {},
     "output_type": "execute_result"
    }
   ],
   "source": [
    "cistopic_obj_dict['libds_merged'].projections"
   ]
  },
  {
   "cell_type": "markdown",
   "id": "b3260c36",
   "metadata": {
    "papermill": {
     "duration": 0.022635,
     "end_time": "2021-11-24T19:06:32.455185",
     "exception": false,
     "start_time": "2021-11-24T19:06:32.432550",
     "status": "completed"
    },
    "tags": []
   },
   "source": [
    "## Export to loom"
   ]
  },
  {
   "cell_type": "code",
   "execution_count": 21,
   "id": "cc891e40",
   "metadata": {
    "papermill": {
     "duration": 0.069649,
     "end_time": "2021-11-24T19:06:32.546607",
     "exception": false,
     "start_time": "2021-11-24T19:06:32.476958",
     "status": "completed"
    },
    "tags": []
   },
   "outputs": [],
   "source": [
    "f_gene_loom_dir = os.path.join(f_final_dir, 'gene_act_loom')\n",
    "if not os.path.exists(f_gene_loom_dir):\n",
    "    os.makedirs(f_gene_loom_dir)"
   ]
  },
  {
   "cell_type": "code",
   "execution_count": 22,
   "id": "4e5454ab",
   "metadata": {
    "papermill": {
     "duration": 4.712169,
     "end_time": "2021-11-24T19:06:37.285737",
     "exception": false,
     "start_time": "2021-11-24T19:06:32.573568",
     "status": "completed"
    },
    "tags": []
   },
   "outputs": [],
   "source": [
    "from pycisTopic.loom import (\n",
    "    export_region_accessibility_to_loom,\n",
    "    export_gene_activity_to_loom\n",
    ")"
   ]
  },
  {
   "cell_type": "markdown",
   "id": "a96fea7d",
   "metadata": {
    "papermill": {
     "duration": 0.018389,
     "end_time": "2021-11-24T19:06:37.332380",
     "exception": false,
     "start_time": "2021-11-24T19:06:37.313991",
     "status": "completed"
    },
    "tags": []
   },
   "source": [
    "### Gene activity"
   ]
  },
  {
   "cell_type": "code",
   "execution_count": 23,
   "id": "18b7a7c3",
   "metadata": {
    "papermill": {
     "duration": 0.031389,
     "end_time": "2021-11-24T19:06:37.381646",
     "exception": false,
     "start_time": "2021-11-24T19:06:37.350257",
     "status": "completed"
    },
    "tags": []
   },
   "outputs": [
    {
     "data": {
      "text/plain": [
       "Index(['Unique_nr_frag_in_regions', 'sample_id', 'cisTopic_nr_frag',\n",
       "       'seurat_cell_type', 'pycisTopic_leiden_10_1.0', 'fmx_sample',\n",
       "       'Log_unique_nr_frag', 'pycisTopic_leiden_10_0.8', 'Unique_nr_frag',\n",
       "       'consensus_cell_type', 'Total_nr_frag_in_regions', 'Dupl_rate',\n",
       "       'cisTopic_nr_acc', 'TSS_enrichment', 'pycisTopic_leiden_10_0.6', 'FRIP',\n",
       "       'cisTopic_log_nr_frag', 'Dupl_nr_frag', 'Total_nr_frag',\n",
       "       'Log_total_nr_frag', 'cisTopic_log_nr_acc', 'barcode',\n",
       "       'pycisTopic_leiden_10_1.2', 'UMAP_harmony_1', 'UMAP_harmony_2',\n",
       "       'tSNE_harmony_1', 'tSNE_harmony_2', 'alias'],\n",
       "      dtype='object')"
      ]
     },
     "execution_count": 23,
     "metadata": {},
     "output_type": "execute_result"
    }
   ],
   "source": [
    "cistopic_obj_dict['libds_merged'].cell_data.columns"
   ]
  },
  {
   "cell_type": "code",
   "execution_count": 24,
   "id": "266b1e49",
   "metadata": {
    "papermill": {
     "duration": 0.029576,
     "end_time": "2021-11-24T19:06:37.430207",
     "exception": false,
     "start_time": "2021-11-24T19:06:37.400631",
     "status": "completed"
    },
    "tags": []
   },
   "outputs": [],
   "source": [
    "from ctxcore.genesig import Regulon\n",
    "\n",
    "# generate a dummy regulon (required for export_gene_activity_to_loom):\n",
    "phreg = Regulon(\n",
    "        name='placeholder regulon',\n",
    "        gene2weight={'phreg': 1.0},\n",
    "        transcription_factor=\"phreg\",\n",
    "        gene2occurrence={\"phreg\": 1},\n",
    "    )"
   ]
  },
  {
   "cell_type": "code",
   "execution_count": null,
   "id": "cfcc8c1a",
   "metadata": {
    "papermill": {
     "duration": 761.072311,
     "end_time": "2021-11-24T19:19:18.521828",
     "exception": false,
     "start_time": "2021-11-24T19:06:37.449517",
     "status": "completed"
    },
    "tags": []
   },
   "outputs": [
    {
     "name": "stdout",
     "output_type": "stream",
     "text": [
      "libds_merged\n",
      "2022-01-11 18:22:34,512 cisTopic     INFO     Creating minimal loom\n",
      "2022-01-11 18:24:20,446 ctxcore.recovery WARNING  Less than 80% of the genes in placeholder regulon are present in the expression matrix.\n"
     ]
    }
   ],
   "source": [
    "for key in cistopic_obj_dict.keys():\n",
    "    print(key)\n",
    "    s = 'Merged' if key=='libds_merged' else alias_dict[key]\n",
    "    f_out = os.path.join(f_gene_loom_dir, s + '__libds_gene_activity.loom')\n",
    "    if os.path.exists(f_out):\n",
    "        print(f\"Skipping {f_out}: already exists.\")\n",
    "        continue\n",
    "        \n",
    "    export_gene_activity_to_loom(\n",
    "        gene_activity_matrix = gene_act_dict[key],\n",
    "        cistopic_obj = cistopic_obj_dict[key], \n",
    "        regulons = [phreg],\n",
    "        # selected_cells = [ x.split('-')[0] + '-' + x.split('-')[1]  for x in cistopic_obj_dict[key].cell_names ], # this leaves a cell barcode of the format type 'TGCATGTCGCCGTTCCAAGA-21'\n",
    "        # selected_cells = cistopic_obj_dict[key].projections['cell']['UMAP'].index.tolist(), # cflerin original \n",
    "        out_fname = f_out,\n",
    "        cluster_annotation = ['consensus_cell_type', 'alias', 'fmx_sample'],\n",
    "        cluster_markers = {'consensus_cell_type': markers_dict_dict[key], 'alias':{}, 'fmx_sample':{}},\n",
    "        tree_structure = ('scATAC-seq_Benchmark', 'ATAC_library_downsampled', 'Gene_activity'),\n",
    "        title = 'Gene activity from library-downsampled and sample-merged dataset',\n",
    "        nomenclature = \"hg38\"\n",
    "    )"
   ]
  },
  {
   "cell_type": "markdown",
   "id": "937fd2ab",
   "metadata": {},
   "source": [
    "# Caution:\n",
    "The export loom function contains a bug which adds the barcodes as a clustering, causing scope to crash on loading. We fix this below:"
   ]
  },
  {
   "cell_type": "markdown",
   "id": "750f2e5a",
   "metadata": {},
   "source": [
    "# open loom"
   ]
  },
  {
   "cell_type": "code",
   "execution_count": null,
   "id": "7713c342",
   "metadata": {},
   "outputs": [],
   "source": [
    "import loompy as lp\n",
    "import json\n",
    "import copy\n",
    "import glob\n",
    "from collections import OrderedDict"
   ]
  },
  {
   "cell_type": "markdown",
   "id": "204854db",
   "metadata": {},
   "source": [
    "exclude 'barcode' annotation"
   ]
  },
  {
   "cell_type": "code",
   "execution_count": null,
   "id": "12adeac3",
   "metadata": {},
   "outputs": [],
   "source": [
    "filenames = sorted(glob.glob(f_gene_loom_dir+'/*loom'))\n",
    "samples = [item.replace(\"__libds_gene_activity.loom\", \"\") for item in filenames]\n",
    "samples = [item.replace(\"downstream_analysis/gene_act_loom/\", \"\") for item in samples]\n",
    "loom_dict = {samples[i]: filenames[i] for i in range(len(samples))}\n",
    "loom_dict = OrderedDict(loom_dict)"
   ]
  },
  {
   "cell_type": "code",
   "execution_count": null,
   "id": "c552b709",
   "metadata": {},
   "outputs": [],
   "source": [
    "loom_dict"
   ]
  },
  {
   "cell_type": "code",
   "execution_count": null,
   "id": "d395d77f",
   "metadata": {},
   "outputs": [],
   "source": [
    "for sample in loom_dict.keys():\n",
    "    file = loom_dict[sample]\n",
    "    print(f'opening {file}')\n",
    "    loom = lp.connect(file, mode='r+', validate=False)\n",
    "\n",
    "    metadata = json.loads(loom.attrs['MetaData'])\n",
    "    new_metadata = copy.deepcopy(metadata)\n",
    "    for item in new_metadata['annotations']:\n",
    "        if item['name'] == 'barcode':\n",
    "            barcode_index = new_metadata['annotations'].index(item)\n",
    "\n",
    "    if 'barcode_index' in locals():\n",
    "        print(f'\\tbarcode index found: {barcode_index}')\n",
    "        new_metadata['annotations'].pop(barcode_index)\n",
    "        del barcode_index\n",
    "\n",
    "        new_metadata_json = json.dumps(new_metadata)\n",
    "        loom.attrs['MetaData'] = new_metadata_json\n",
    "        loom.close()\n",
    "        print(f'\\tfixed {sample}')\n",
    "\n",
    "    else:\n",
    "        print('\\tno barcode annotation detected')\n",
    "        loom.close()"
   ]
  },
  {
   "cell_type": "markdown",
   "id": "cd93cb11",
   "metadata": {},
   "source": [
    "# remove the pesky sample_id from the non-merged looms"
   ]
  },
  {
   "cell_type": "code",
   "execution_count": null,
   "id": "c2805675",
   "metadata": {},
   "outputs": [],
   "source": [
    "for sample in loom_dict.keys():\n",
    "    file = loom_dict[sample]\n",
    "    print(f'opening {file}')\n",
    "    loom = lp.connect(file, mode='r+', validate=False)\n",
    "\n",
    "    metadata = json.loads(loom.attrs['MetaData'])\n",
    "    new_metadata = copy.deepcopy(metadata)\n",
    "    for item in new_metadata['annotations']:\n",
    "        if item['name'] == 'sample_id':\n",
    "            barcode_index = new_metadata['annotations'].index(item)\n",
    "\n",
    "    if 'barcode_index' in locals():\n",
    "        print(f'\\sample_id index found: {barcode_index}')\n",
    "        new_metadata['annotations'].pop(barcode_index)\n",
    "        del barcode_index\n",
    "\n",
    "        new_metadata_json = json.dumps(new_metadata)\n",
    "        loom.attrs['MetaData'] = new_metadata_json\n",
    "        loom.close()\n",
    "        print(f'\\tfixed {sample}')\n",
    "\n",
    "    else:\n",
    "        print('\\tno sample_id detected')\n",
    "        loom.close()\n",
    "    print('\\n')"
   ]
  }
 ],
 "metadata": {
  "kernelspec": {
   "display_name": "pycisTopic_singularity_20210921",
   "language": "python",
   "name": "pycistopic_singularity"
  },
  "language_info": {
   "codemirror_mode": {
    "name": "ipython",
    "version": 3
   },
   "file_extension": ".py",
   "mimetype": "text/x-python",
   "name": "python",
   "nbconvert_exporter": "python",
   "pygments_lexer": "ipython3",
   "version": "3.8.6"
  },
  "papermill": {
   "default_parameters": {},
   "duration": 20729.37749,
   "end_time": "2021-11-25T00:50:09.771708",
   "environment_variables": {},
   "exception": null,
   "input_path": "8_export_loom.ipynb",
   "output_path": "8_export_loom.OUT.ipynb",
   "parameters": {},
   "start_time": "2021-11-24T19:04:40.394218",
   "version": "2.3.3"
  }
 },
 "nbformat": 4,
 "nbformat_minor": 5
}
