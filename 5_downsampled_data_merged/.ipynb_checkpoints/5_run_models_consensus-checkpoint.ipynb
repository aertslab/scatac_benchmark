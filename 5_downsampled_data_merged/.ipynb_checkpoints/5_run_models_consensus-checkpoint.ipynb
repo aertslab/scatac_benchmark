{
 "cells": [
  {
   "cell_type": "code",
   "execution_count": 1,
   "id": "c9ef7d69",
   "metadata": {
    "execution": {
     "iopub.execute_input": "2021-10-28T08:24:39.196435Z",
     "iopub.status.busy": "2021-10-28T08:24:39.194773Z",
     "iopub.status.idle": "2021-10-28T08:24:39.225022Z",
     "shell.execute_reply": "2021-10-28T08:24:39.224132Z"
    },
    "papermill": {
     "duration": 0.057392,
     "end_time": "2021-10-28T08:24:39.225259",
     "exception": false,
     "start_time": "2021-10-28T08:24:39.167867",
     "status": "completed"
    },
    "tags": []
   },
   "outputs": [
    {
     "data": {
      "text/plain": [
       "'0.1.dev300+g7494158'"
      ]
     },
     "execution_count": 1,
     "metadata": {},
     "output_type": "execute_result"
    }
   ],
   "source": [
    "import pycisTopic\n",
    "pycisTopic.__version__"
   ]
  },
  {
   "cell_type": "code",
   "execution_count": 2,
   "id": "638f950f",
   "metadata": {
    "execution": {
     "iopub.execute_input": "2021-10-28T08:24:39.263929Z",
     "iopub.status.busy": "2021-10-28T08:24:39.263137Z",
     "iopub.status.idle": "2021-10-28T08:24:39.265756Z",
     "shell.execute_reply": "2021-10-28T08:24:39.267140Z"
    },
    "papermill": {
     "duration": 0.025976,
     "end_time": "2021-10-28T08:24:39.267337",
     "exception": false,
     "start_time": "2021-10-28T08:24:39.241361",
     "status": "completed"
    },
    "tags": []
   },
   "outputs": [],
   "source": [
    "import warnings\n",
    "warnings.filterwarnings('ignore')\n",
    "warnings.simplefilter('ignore') "
   ]
  },
  {
   "cell_type": "code",
   "execution_count": 3,
   "id": "5e01849b",
   "metadata": {
    "execution": {
     "iopub.execute_input": "2021-10-28T08:24:39.304803Z",
     "iopub.status.busy": "2021-10-28T08:24:39.304053Z",
     "iopub.status.idle": "2021-10-28T08:24:41.037897Z",
     "shell.execute_reply": "2021-10-28T08:24:41.037342Z"
    },
    "papermill": {
     "duration": 1.755815,
     "end_time": "2021-10-28T08:24:41.038511",
     "exception": false,
     "start_time": "2021-10-28T08:24:39.282696",
     "status": "completed"
    },
    "tags": []
   },
   "outputs": [],
   "source": [
    "import pickle\n",
    "import pandas as pd"
   ]
  },
  {
   "cell_type": "code",
   "execution_count": 4,
   "id": "ec9f197d",
   "metadata": {
    "execution": {
     "iopub.execute_input": "2021-10-28T08:24:41.067931Z",
     "iopub.status.busy": "2021-10-28T08:24:41.066700Z",
     "iopub.status.idle": "2021-10-28T08:24:41.072100Z",
     "shell.execute_reply": "2021-10-28T08:24:41.071542Z"
    },
    "papermill": {
     "duration": 0.022826,
     "end_time": "2021-10-28T08:24:41.072211",
     "exception": false,
     "start_time": "2021-10-28T08:24:41.049385",
     "status": "completed"
    },
    "tags": []
   },
   "outputs": [],
   "source": [
    "import os\n",
    "wdir = '/lustre1/project/stg_00002/lcb/fderop/data/20211024_hca_benchmark_libds_merged//'\n",
    "os.chdir( wdir )"
   ]
  },
  {
   "cell_type": "markdown",
   "id": "2753a7e6",
   "metadata": {
    "papermill": {
     "duration": 0.011099,
     "end_time": "2021-10-28T08:24:41.095517",
     "exception": false,
     "start_time": "2021-10-28T08:24:41.084418",
     "status": "completed"
    },
    "tags": []
   },
   "source": [
    "# read CTOs"
   ]
  },
  {
   "cell_type": "code",
   "execution_count": 5,
   "id": "8a973b94",
   "metadata": {
    "execution": {
     "iopub.execute_input": "2021-10-28T08:24:41.124265Z",
     "iopub.status.busy": "2021-10-28T08:24:41.123726Z",
     "iopub.status.idle": "2021-10-28T08:25:11.214202Z",
     "shell.execute_reply": "2021-10-28T08:25:11.214715Z"
    },
    "papermill": {
     "duration": 30.109442,
     "end_time": "2021-10-28T08:25:11.214916",
     "exception": false,
     "start_time": "2021-10-28T08:24:41.105474",
     "status": "completed"
    },
    "tags": []
   },
   "outputs": [
    {
     "name": "stdout",
     "output_type": "stream",
     "text": [
      "Loaded filtered cistopic object libds_merged\n"
     ]
    }
   ],
   "source": [
    "f_cto_dir = 'pycistopic_consensus_peaks/cistopic_objs__mergedconsensus/'\n",
    "\n",
    "cistopic_obj_dict = {}\n",
    "for key in ['libds_merged']:\n",
    "    f_cto = os.path.join(wdir, f_cto_dir, key + '__cistopic_obj_mergedconsensus_metadata_annotated.pkl')\n",
    "    if(os.path.isfile(f_cto)):\n",
    "        with open(f_cto, 'rb') as f:\n",
    "            cistopic_obj_dict[key] = pickle.load(f)\n",
    "        print(f\"Loaded filtered cistopic object {key}\")\n",
    "    else:\n",
    "        print(f\"file {f_cto} doesn't exist\")"
   ]
  },
  {
   "cell_type": "markdown",
   "id": "a0084f9d",
   "metadata": {
    "papermill": {
     "duration": 0.013774,
     "end_time": "2021-10-28T08:25:11.245321",
     "exception": false,
     "start_time": "2021-10-28T08:25:11.231547",
     "status": "completed"
    },
    "tags": []
   },
   "source": [
    "### Run models for quick visualize/clustering"
   ]
  },
  {
   "cell_type": "code",
   "execution_count": 6,
   "id": "69fc0d15",
   "metadata": {
    "execution": {
     "iopub.execute_input": "2021-10-28T08:25:11.286530Z",
     "iopub.status.busy": "2021-10-28T08:25:11.285165Z",
     "iopub.status.idle": "2021-10-28T08:25:11.287705Z",
     "shell.execute_reply": "2021-10-28T08:25:11.289790Z"
    },
    "papermill": {
     "duration": 0.029303,
     "end_time": "2021-10-28T08:25:11.289950",
     "exception": false,
     "start_time": "2021-10-28T08:25:11.260647",
     "status": "completed"
    },
    "tags": []
   },
   "outputs": [],
   "source": [
    "from pycisTopic.lda_models import run_cgs_models_mallet"
   ]
  },
  {
   "cell_type": "markdown",
   "id": "79d4d640",
   "metadata": {
    "papermill": {
     "duration": 0.013729,
     "end_time": "2021-10-28T08:25:11.317387",
     "exception": false,
     "start_time": "2021-10-28T08:25:11.303658",
     "status": "completed"
    },
    "tags": []
   },
   "source": [
    "#### mallet models"
   ]
  },
  {
   "cell_type": "code",
   "execution_count": 7,
   "id": "47470e7d",
   "metadata": {
    "execution": {
     "iopub.execute_input": "2021-10-28T08:25:11.357964Z",
     "iopub.status.busy": "2021-10-28T08:25:11.356731Z",
     "iopub.status.idle": "2021-10-28T08:25:11.361101Z",
     "shell.execute_reply": "2021-10-28T08:25:11.361727Z"
    },
    "papermill": {
     "duration": 0.028226,
     "end_time": "2021-10-28T08:25:11.361918",
     "exception": false,
     "start_time": "2021-10-28T08:25:11.333692",
     "status": "completed"
    },
    "tags": []
   },
   "outputs": [],
   "source": [
    "# set the memory limit for mallet (1GB default is not enough)\n",
    "os.environ['MALLET_MEMORY'] = '100G'"
   ]
  },
  {
   "cell_type": "code",
   "execution_count": 8,
   "id": "c143d136",
   "metadata": {
    "execution": {
     "iopub.execute_input": "2021-10-28T08:25:11.404833Z",
     "iopub.status.busy": "2021-10-28T08:25:11.403656Z",
     "iopub.status.idle": "2021-10-28T08:25:11.415920Z",
     "shell.execute_reply": "2021-10-28T08:25:11.417048Z"
    },
    "papermill": {
     "duration": 0.039234,
     "end_time": "2021-10-28T08:25:11.417292",
     "exception": false,
     "start_time": "2021-10-28T08:25:11.378058",
     "status": "completed"
    },
    "tags": []
   },
   "outputs": [],
   "source": [
    "f_mod_dir = 'pycistopic_consensus_peaks/models__consensus__mallet_alltopics'\n",
    "if not os.path.exists(os.path.join(wdir, f_mod_dir)):\n",
    "    os.makedirs(os.path.join(wdir, f_mod_dir))\n",
    "\n",
    "f_mod_tmpdir = '/scratch/leuven/330/vsc33042/tmp/mallet_cellds_merged'\n",
    "if not os.path.exists(f_mod_tmpdir):\n",
    "    os.makedirs(f_mod_tmpdir)\n",
    "\n",
    "save_path = '/scratch/leuven/330/vsc33042/tmp/mallet_cellds_merged/models'\n",
    "if not os.path.exists(os.path.join(save_path)):\n",
    "    os.makedirs(os.path.join(save_path))    \n",
    "    \n",
    "n_topics = n_topics = [2, 5, 10, 20, 30, 35, 40, 45, 50, 60, 70, 80, 90, 100]\n",
    "# n_topics_merged = [2, 5, 10, 20, 30, 35, 40, 45, 50, 60, 70, 80, 90, 100]\n",
    "n_iter = 500"
   ]
  },
  {
   "cell_type": "code",
   "execution_count": 9,
   "id": "1ab8f86e",
   "metadata": {
    "execution": {
     "iopub.execute_input": "2021-10-28T08:25:11.463801Z",
     "iopub.status.busy": "2021-10-28T08:25:11.462452Z",
     "iopub.status.idle": "2021-10-26T19:02:23.343436Z",
     "shell.execute_reply": "2021-10-26T19:02:23.344006Z"
    },
    "papermill": {
     "duration": null,
     "end_time": null,
     "exception": false,
     "start_time": "2021-10-28T08:25:11.432301",
     "status": "running"
    },
    "tags": []
   },
   "outputs": [
    {
     "name": "stdout",
     "output_type": "stream",
     "text": [
      "Running libds_merged\n",
      "2021-10-28 10:25:11,462 cisTopic     INFO     Formatting input to corpus\n"
     ]
    },
    {
     "name": "stdout",
     "output_type": "stream",
     "text": [
      "2021-10-28 10:25:20,397 gensim.corpora.dictionary INFO     adding document #0 to Dictionary(0 unique tokens: [])\n"
     ]
    },
    {
     "name": "stdout",
     "output_type": "stream",
     "text": [
      "2021-10-28 10:26:12,519 gensim.corpora.dictionary INFO     adding document #10000 to Dictionary(0 unique tokens: [])\n"
     ]
    },
    {
     "name": "stdout",
     "output_type": "stream",
     "text": [
      "2021-10-28 10:27:07,425 gensim.corpora.dictionary INFO     adding document #20000 to Dictionary(0 unique tokens: [])\n"
     ]
    },
    {
     "name": "stdout",
     "output_type": "stream",
     "text": [
      "2021-10-28 10:28:06,627 gensim.corpora.dictionary INFO     adding document #30000 to Dictionary(0 unique tokens: [])\n"
     ]
    },
    {
     "name": "stdout",
     "output_type": "stream",
     "text": [
      "2021-10-28 10:28:49,449 gensim.corpora.dictionary INFO     adding document #40000 to Dictionary(0 unique tokens: [])\n"
     ]
    },
    {
     "name": "stdout",
     "output_type": "stream",
     "text": [
      "2021-10-28 10:29:04,207 gensim.corpora.dictionary INFO     built Dictionary(327468 unique tokens: ['0', '1', '2', '3', '4']...) from 45235 documents (total 253334090 corpus positions)\n"
     ]
    },
    {
     "name": "stdout",
     "output_type": "stream",
     "text": [
      "2021-10-28 10:29:04,210 cisTopic     INFO     Running model with 2 topics\n"
     ]
    },
    {
     "name": "stdout",
     "output_type": "stream",
     "text": [
      "2021-10-28 10:29:04,225 LDAMalletWrapper INFO     Serializing temporary corpus to /scratch/leuven/330/vsc33042/tmp/mallet_cellds_merged/libds_merged_corpus.txt\n"
     ]
    },
    {
     "name": "stdout",
     "output_type": "stream",
     "text": [
      "2021-10-28 10:40:21,383 LDAMalletWrapper INFO     Converting temporary corpus to MALLET format with mallet import-file --preserve-case --keep-sequence --remove-stopwords --token-regex \"\\S+\" --input /scratch/leuven/330/vsc33042/tmp/mallet_cellds_merged/libds_merged_corpus.txt --output /scratch/leuven/330/vsc33042/tmp/mallet_cellds_merged/libds_merged_corpus.mallet\n"
     ]
    },
    {
     "name": "stdout",
     "output_type": "stream",
     "text": [
      "2021-10-28 10:42:24,885 LDAMalletWrapper INFO     Training MALLET LDA with mallet train-topics --input /scratch/leuven/330/vsc33042/tmp/mallet_cellds_merged/libds_merged_corpus.mallet --num-topics 2  --alpha 50 --beta 0.1 --optimize-interval 0 --num-threads 24 --output-state /scratch/leuven/330/vsc33042/tmp/mallet_cellds_merged/libds_merged_56012f_state.mallet.gz --output-doc-topics /scratch/leuven/330/vsc33042/tmp/mallet_cellds_merged/libds_merged_56012f_doctopics.txt --output-topic-keys /scratch/leuven/330/vsc33042/tmp/mallet_cellds_merged/libds_merged_56012f_topickeys.txt --num-iterations 500 --inferencer-filename /scratch/leuven/330/vsc33042/tmp/mallet_cellds_merged/libds_merged_56012f_inferencer.mallet --doc-topics-threshold 0.0  --random-seed 555\n"
     ]
    },
    {
     "name": "stdout",
     "output_type": "stream",
     "text": [
      "2021-10-28 11:43:31,839 LDAMalletWrapper INFO     loading assigned topics from /scratch/leuven/330/vsc33042/tmp/mallet_cellds_merged/libds_merged_56012f_state.mallet.gz\n"
     ]
    },
    {
     "name": "stdout",
     "output_type": "stream",
     "text": [
      "2021-10-28 11:56:57,554 cisTopic     INFO     Model with 2 topics done!\n"
     ]
    },
    {
     "name": "stdout",
     "output_type": "stream",
     "text": [
      "2021-10-28 11:56:57,556 cisTopic     INFO     Saving model with 2 topics at /scratch/leuven/330/vsc33042/tmp/mallet_cellds_merged/models\n"
     ]
    },
    {
     "name": "stdout",
     "output_type": "stream",
     "text": [
      "2021-10-28 11:56:57,728 cisTopic     INFO     Running model with 5 topics\n"
     ]
    },
    {
     "name": "stdout",
     "output_type": "stream",
     "text": [
      "2021-10-28 11:56:57,746 LDAMalletWrapper INFO     MALLET corpus already exists, training model\n"
     ]
    },
    {
     "name": "stdout",
     "output_type": "stream",
     "text": [
      "2021-10-28 11:56:57,747 LDAMalletWrapper INFO     Training MALLET LDA with mallet train-topics --input /scratch/leuven/330/vsc33042/tmp/mallet_cellds_merged/libds_merged_corpus.mallet --num-topics 5  --alpha 50 --beta 0.1 --optimize-interval 0 --num-threads 24 --output-state /scratch/leuven/330/vsc33042/tmp/mallet_cellds_merged/libds_merged_b32565_state.mallet.gz --output-doc-topics /scratch/leuven/330/vsc33042/tmp/mallet_cellds_merged/libds_merged_b32565_doctopics.txt --output-topic-keys /scratch/leuven/330/vsc33042/tmp/mallet_cellds_merged/libds_merged_b32565_topickeys.txt --num-iterations 500 --inferencer-filename /scratch/leuven/330/vsc33042/tmp/mallet_cellds_merged/libds_merged_b32565_inferencer.mallet --doc-topics-threshold 0.0  --random-seed 555\n"
     ]
    },
    {
     "name": "stdout",
     "output_type": "stream",
     "text": [
      "2021-10-28 13:21:47,093 LDAMalletWrapper INFO     loading assigned topics from /scratch/leuven/330/vsc33042/tmp/mallet_cellds_merged/libds_merged_b32565_state.mallet.gz\n"
     ]
    }
   ],
   "source": [
    "# mallet implementation\n",
    "models_dict = {}\n",
    "for key in ['libds_merged']:\n",
    "    f_mod = os.path.join(wdir, f_mod_dir, key + '__models_' + str(n_iter) + '_iter.pkl')\n",
    "    if os.path.isfile(f_mod):\n",
    "        print(f\"Loading {f_mod}\")\n",
    "        with open(f_mod, 'rb') as f:\n",
    "            models_dict[key] = pickle.load(f)\n",
    "    else:\n",
    "        print(f\"Running {key}\")\n",
    "        model = run_cgs_models_mallet(\n",
    "                            'mallet',\n",
    "                            cistopic_obj_dict[key],\n",
    "                            n_topics=n_topics_merged if key=='merged' else n_topics ,\n",
    "                            n_cpu=24,\n",
    "                            n_iter=n_iter,\n",
    "                            random_state=555,\n",
    "                            alpha=50,\n",
    "                            alpha_by_topic=True,\n",
    "                            eta=0.1,\n",
    "                            save_path=save_path,\n",
    "                            eta_by_topic=False,\n",
    "                            tmp_path=os.path.join(f_mod_tmpdir, key + '_')\n",
    "                            )\n",
    "        # Save\n",
    "        with open(f_mod, 'wb') as f:\n",
    "            pickle.dump(model, f)\n",
    "        print(f\"Finished {key}\")\n",
    "        models_dict[key] = model"
   ]
  },
  {
   "cell_type": "code",
   "execution_count": null,
   "id": "0e57f23c",
   "metadata": {
    "papermill": {
     "duration": null,
     "end_time": null,
     "exception": null,
     "start_time": null,
     "status": "pending"
    },
    "tags": []
   },
   "outputs": [],
   "source": []
  }
 ],
 "metadata": {
  "kernelspec": {
   "display_name": "pycisTopic_singularity_20210921",
   "language": "python",
   "name": "pycistopic_singularity"
  },
  "language_info": {
   "codemirror_mode": {
    "name": "ipython",
    "version": 3
   },
   "file_extension": ".py",
   "mimetype": "text/x-python",
   "name": "python",
   "nbconvert_exporter": "python",
   "pygments_lexer": "ipython3",
   "version": "3.8.6"
  },
  "papermill": {
   "default_parameters": {},
   "duration": null,
   "end_time": null,
   "environment_variables": {},
   "exception": null,
   "input_path": "5_run_models_consensus.ipynb",
   "output_path": "5_run_models_consensus.OUT.ipynb",
   "parameters": {},
   "start_time": "2021-10-28T08:24:29.269974",
   "version": "2.3.3"
  }
 },
 "nbformat": 4,
 "nbformat_minor": 5
}