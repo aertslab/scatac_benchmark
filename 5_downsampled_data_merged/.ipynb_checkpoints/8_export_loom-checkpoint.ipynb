{
 "cells": [
  {
   "cell_type": "markdown",
   "id": "373a0e42",
   "metadata": {
    "papermill": {
     "duration": 0.048336,
     "end_time": "2021-11-24T19:04:43.401980",
     "exception": false,
     "start_time": "2021-11-24T19:04:43.353644",
     "status": "completed"
    },
    "tags": []
   },
   "source": [
    "# pycisTopic analysis\n",
    "\n",
    "Full dataset, using consensus peak regions."
   ]
  },
  {
   "cell_type": "code",
   "execution_count": 58,
   "id": "778332b7",
   "metadata": {
    "papermill": {
     "duration": 0.04676,
     "end_time": "2021-11-24T19:04:43.466907",
     "exception": false,
     "start_time": "2021-11-24T19:04:43.420147",
     "status": "completed"
    },
    "tags": []
   },
   "outputs": [
    {
     "data": {
      "text/plain": [
       "'0.1.dev300+g7494158'"
      ]
     },
     "execution_count": 58,
     "metadata": {},
     "output_type": "execute_result"
    }
   ],
   "source": [
    "import pycisTopic\n",
    "pycisTopic.__version__"
   ]
  },
  {
   "cell_type": "code",
   "execution_count": 59,
   "id": "0fa0064b",
   "metadata": {
    "papermill": {
     "duration": 0.023628,
     "end_time": "2021-11-24T19:04:43.506774",
     "exception": false,
     "start_time": "2021-11-24T19:04:43.483146",
     "status": "completed"
    },
    "tags": []
   },
   "outputs": [],
   "source": [
    "import warnings\n",
    "warnings.filterwarnings('ignore')\n",
    "warnings.simplefilter('ignore')"
   ]
  },
  {
   "cell_type": "code",
   "execution_count": 60,
   "id": "dbf0adf1",
   "metadata": {
    "papermill": {
     "duration": 0.871985,
     "end_time": "2021-11-24T19:04:44.395473",
     "exception": false,
     "start_time": "2021-11-24T19:04:43.523488",
     "status": "completed"
    },
    "tags": []
   },
   "outputs": [],
   "source": [
    "import pickle\n",
    "import pandas as pd"
   ]
  },
  {
   "cell_type": "code",
   "execution_count": 61,
   "id": "7f34be26",
   "metadata": {
    "papermill": {
     "duration": 0.024696,
     "end_time": "2021-11-24T19:04:44.437580",
     "exception": false,
     "start_time": "2021-11-24T19:04:44.412884",
     "status": "completed"
    },
    "tags": []
   },
   "outputs": [],
   "source": [
    "import os\n",
    "wdir = '/lustre1/project/stg_00002/lcb/fderop/data/20211024_hca_benchmark_libds_merged/'\n",
    "os.chdir( wdir )"
   ]
  },
  {
   "cell_type": "code",
   "execution_count": 62,
   "id": "bf479af6",
   "metadata": {
    "papermill": {
     "duration": 0.030337,
     "end_time": "2021-11-24T19:04:44.484619",
     "exception": false,
     "start_time": "2021-11-24T19:04:44.454282",
     "status": "completed"
    },
    "tags": []
   },
   "outputs": [],
   "source": [
    "# create output directory:\n",
    "f_final_dir = os.path.join(wdir, 'downstream_analysis')\n",
    "if not os.path.exists(f_final_dir):\n",
    "    os.makedirs(f_final_dir)"
   ]
  },
  {
   "cell_type": "code",
   "execution_count": 63,
   "id": "81237544",
   "metadata": {
    "papermill": {
     "duration": 0.023643,
     "end_time": "2021-11-24T19:04:44.524468",
     "exception": false,
     "start_time": "2021-11-24T19:04:44.500825",
     "status": "completed"
    },
    "tags": []
   },
   "outputs": [],
   "source": [
    "import copy"
   ]
  },
  {
   "cell_type": "markdown",
   "id": "6caa753e",
   "metadata": {
    "papermill": {
     "duration": 0.016453,
     "end_time": "2021-11-24T19:04:44.557038",
     "exception": false,
     "start_time": "2021-11-24T19:04:44.540585",
     "status": "completed"
    },
    "tags": []
   },
   "source": [
    "## Load the cisTopic objects"
   ]
  },
  {
   "cell_type": "code",
   "execution_count": 64,
   "id": "f0cf8acc",
   "metadata": {
    "papermill": {
     "duration": 9.082353,
     "end_time": "2021-11-24T19:04:53.655802",
     "exception": false,
     "start_time": "2021-11-24T19:04:44.573449",
     "status": "completed"
    },
    "tags": []
   },
   "outputs": [
    {
     "name": "stdout",
     "output_type": "stream",
     "text": [
      "Loaded filtered cistopic object libds_merged\n"
     ]
    }
   ],
   "source": [
    "f_cto_dir = 'pycistopic_consensus_peaks/cistopic_objs__mergedconsensus/'\n",
    "\n",
    "cistopic_obj_dict = {}\n",
    "for key in ['libds_merged']:\n",
    "    f_cto = os.path.join(wdir, f_cto_dir, key + '__cistopic_obj_mergedconsensus_metadata_annotated_models.pkl')\n",
    "    if(os.path.isfile(f_cto)):\n",
    "        with open(f_cto, 'rb') as f:\n",
    "            cistopic_obj_dict[key] = pickle.load(f)\n",
    "        print(f\"Loaded filtered cistopic object {key}\")\n",
    "    else:\n",
    "        print(f\"file {f_cto} doesn't exist\")"
   ]
  },
  {
   "cell_type": "code",
   "execution_count": 65,
   "id": "be0b7628",
   "metadata": {
    "papermill": {
     "duration": 0.026376,
     "end_time": "2021-11-24T19:04:53.701662",
     "exception": false,
     "start_time": "2021-11-24T19:04:53.675286",
     "status": "completed"
    },
    "tags": []
   },
   "outputs": [],
   "source": [
    "from collections import OrderedDict"
   ]
  },
  {
   "cell_type": "code",
   "execution_count": 66,
   "id": "7bcceafb",
   "metadata": {
    "papermill": {
     "duration": 0.055996,
     "end_time": "2021-11-24T19:04:53.776252",
     "exception": false,
     "start_time": "2021-11-24T19:04:53.720256",
     "status": "completed"
    },
    "tags": []
   },
   "outputs": [
    {
     "data": {
      "text/plain": [
       "array(['Broad_1', 'Broad_2', 'Broad_mito_1', 'Broad_mito_2', 'CNAG_1',\n",
       "       'CNAG_2', 'Sanger_1', 'Sanger_2', 'Stanford_1', 'Stanford_2',\n",
       "       'VIB_1', 'VIB_2', 'VIB_Hydrop_1', 'VIB_Hydrop_2', 's3atac'],\n",
       "      dtype=object)"
      ]
     },
     "execution_count": 66,
     "metadata": {},
     "output_type": "execute_result"
    }
   ],
   "source": [
    "cistopic_obj_dict['libds_merged'].cell_data['sample_id'].unique()"
   ]
  },
  {
   "cell_type": "code",
   "execution_count": 67,
   "id": "d59bec2f",
   "metadata": {
    "papermill": {
     "duration": 0.027894,
     "end_time": "2021-11-24T19:04:53.822643",
     "exception": false,
     "start_time": "2021-11-24T19:04:53.794749",
     "status": "completed"
    },
    "tags": []
   },
   "outputs": [],
   "source": [
    "# display names of each sample. NOTE: the samples will be dislpayed in the order of this dict!\n",
    "alias_dict = OrderedDict({\n",
    "    \"Broad_1\": \"BioRad ATAC 1\",\n",
    "    \"Broad_2\": \"BioRad ATAC 2\",\n",
    "    \"Stanford_1\": \"10x ATAC A1\",\n",
    "    \"Stanford_2\": \"10x ATAC A2\",\n",
    "    \"VIB_1\": \"10x ATAC B1\",\n",
    "    \"VIB_2\": \"10x ATAC B2\",\n",
    "    \"CNAG_1\": \"10x ATAC C1\",\n",
    "    \"CNAG_2\": \"10x ATAC C2\",\n",
    "    \"Broad_mito_1\": \"10x mtATAC 1\",\n",
    "    \"Broad_mito_2\": \"10x mtATAC 2\",\n",
    "    \"Sanger_1\": \"10x Multiome 1\",\n",
    "    \"Sanger_2\": \"10x Multiome 2\",\n",
    "    \"VIB_Hydrop_1\": \"Hydrop ATAC 1\",\n",
    "    \"VIB_Hydrop_2\": \"Hydrop ATAC 2\",\n",
    "    \"s3atac\": \"s3 ATAC\",\n",
    "    \"merged\": \"Merged\"\n",
    "})"
   ]
  },
  {
   "cell_type": "code",
   "execution_count": 68,
   "id": "362ac7b9",
   "metadata": {
    "papermill": {
     "duration": 0.037871,
     "end_time": "2021-11-24T19:04:53.879340",
     "exception": false,
     "start_time": "2021-11-24T19:04:53.841469",
     "status": "completed"
    },
    "tags": []
   },
   "outputs": [],
   "source": [
    "cistopic_obj_dict['libds_merged'].cell_data['alias'] = [alias_dict[x] for x in cistopic_obj_dict['libds_merged'].cell_data['sample_id']]"
   ]
  },
  {
   "cell_type": "code",
   "execution_count": 69,
   "id": "35d287b7",
   "metadata": {
    "papermill": {
     "duration": 0.033799,
     "end_time": "2021-11-24T19:04:53.931555",
     "exception": false,
     "start_time": "2021-11-24T19:04:53.897756",
     "status": "completed"
    },
    "tags": []
   },
   "outputs": [
    {
     "data": {
      "text/plain": [
       "array(['Broad_1', 'Broad_2', 'Broad_mito_1', 'Broad_mito_2', 'CNAG_1',\n",
       "       'CNAG_2', 'Sanger_1', 'Sanger_2', 'Stanford_1', 'Stanford_2',\n",
       "       'VIB_1', 'VIB_2', 'VIB_Hydrop_1', 'VIB_Hydrop_2', 's3atac'],\n",
       "      dtype=object)"
      ]
     },
     "execution_count": 69,
     "metadata": {},
     "output_type": "execute_result"
    }
   ],
   "source": [
    "cistopic_obj_dict['libds_merged'].cell_data['sample_id'].unique()"
   ]
  },
  {
   "cell_type": "code",
   "execution_count": 70,
   "id": "3c8ee2ed",
   "metadata": {
    "papermill": {
     "duration": 0.035252,
     "end_time": "2021-11-24T19:04:53.985774",
     "exception": false,
     "start_time": "2021-11-24T19:04:53.950522",
     "status": "completed"
    },
    "tags": []
   },
   "outputs": [
    {
     "name": "stdout",
     "output_type": "stream",
     "text": [
      "BioRad ATAC 1\n",
      "BioRad ATAC 2\n",
      "10x mtATAC 1\n",
      "10x mtATAC 2\n",
      "10x ATAC C1\n",
      "10x ATAC C2\n",
      "10x Multiome 1\n",
      "10x Multiome 2\n",
      "10x ATAC A1\n",
      "10x ATAC A2\n",
      "10x ATAC B1\n",
      "10x ATAC B2\n",
      "Hydrop ATAC 1\n",
      "Hydrop ATAC 2\n",
      "s3 ATAC\n"
     ]
    }
   ],
   "source": [
    "for key in cistopic_obj_dict['libds_merged'].cell_data['sample_id'].unique():\n",
    "    print(alias_dict[key])"
   ]
  },
  {
   "cell_type": "markdown",
   "id": "9340d4b2",
   "metadata": {
    "papermill": {
     "duration": 0.019019,
     "end_time": "2021-11-24T19:04:54.023864",
     "exception": false,
     "start_time": "2021-11-24T19:04:54.004845",
     "status": "completed"
    },
    "tags": []
   },
   "source": [
    "#### Save/load"
   ]
  },
  {
   "cell_type": "code",
   "execution_count": 71,
   "id": "e218a8be",
   "metadata": {
    "papermill": {
     "duration": 0.308718,
     "end_time": "2021-11-24T19:04:54.350065",
     "exception": false,
     "start_time": "2021-11-24T19:04:54.041347",
     "status": "completed"
    },
    "tags": []
   },
   "outputs": [
    {
     "name": "stdout",
     "output_type": "stream",
     "text": [
      "Loading /lustre1/project/stg_00002/lcb/fderop/data/20211024_hca_benchmark_libds_merged/downstream_analysis/region_bin_topics.pkl\n"
     ]
    }
   ],
   "source": [
    "f_out = os.path.join(f_final_dir, 'region_bin_topics.pkl')\n",
    "if os.path.isfile(f_out):\n",
    "    print(f\"Loading {f_out}\")\n",
    "    with open(f_out, 'rb') as f:\n",
    "        region_bin_topics_dict = pickle.load(f)"
   ]
  },
  {
   "cell_type": "code",
   "execution_count": 72,
   "id": "35ac0856",
   "metadata": {
    "papermill": {
     "duration": 0.147905,
     "end_time": "2021-11-24T19:04:54.540643",
     "exception": false,
     "start_time": "2021-11-24T19:04:54.392738",
     "status": "completed"
    },
    "tags": []
   },
   "outputs": [
    {
     "name": "stdout",
     "output_type": "stream",
     "text": [
      "Loading /lustre1/project/stg_00002/lcb/fderop/data/20211024_hca_benchmark_libds_merged/downstream_analysis/binarized_cell_topic.pkl\n"
     ]
    }
   ],
   "source": [
    "f_out = os.path.join(f_final_dir, 'binarized_cell_topic.pkl')\n",
    "if os.path.isfile(f_out):\n",
    "    print(f\"Loading {f_out}\")\n",
    "    with open(f_out, 'rb') as f:\n",
    "        binarized_cell_topic_dict = pickle.load(f)"
   ]
  },
  {
   "cell_type": "code",
   "execution_count": 73,
   "id": "4fa7540d",
   "metadata": {
    "papermill": {
     "duration": 81.446513,
     "end_time": "2021-11-24T19:06:16.079484",
     "exception": false,
     "start_time": "2021-11-24T19:04:54.632971",
     "status": "completed"
    },
    "tags": []
   },
   "outputs": [
    {
     "name": "stdout",
     "output_type": "stream",
     "text": [
      "Loading /lustre1/project/stg_00002/lcb/fderop/data/20211024_hca_benchmark_libds_merged/downstream_analysis/imputed_acc_obj.pkl\n"
     ]
    }
   ],
   "source": [
    "f_out = os.path.join(f_final_dir, 'imputed_acc_obj.pkl')\n",
    "if os.path.isfile(f_out):\n",
    "    print(f\"Loading {f_out}\")\n",
    "    with open(f_out, 'rb') as f:\n",
    "        imputed_acc_obj_dict = pickle.load(f)"
   ]
  },
  {
   "cell_type": "code",
   "execution_count": 74,
   "id": "347cfe1a",
   "metadata": {
    "papermill": {
     "duration": 0.230499,
     "end_time": "2021-11-24T19:06:16.384786",
     "exception": false,
     "start_time": "2021-11-24T19:06:16.154287",
     "status": "completed"
    },
    "tags": []
   },
   "outputs": [
    {
     "name": "stdout",
     "output_type": "stream",
     "text": [
      "Loading /lustre1/project/stg_00002/lcb/fderop/data/20211024_hca_benchmark_libds_merged/downstream_analysis/markers_dict.pkl\n"
     ]
    }
   ],
   "source": [
    "f_out = os.path.join(f_final_dir, 'markers_dict.pkl')\n",
    "if os.path.isfile(f_out):\n",
    "    print(f\"Loading {f_out}\")\n",
    "    with open(f_out, 'rb') as f:\n",
    "        markers_dict_dict = pickle.load(f)"
   ]
  },
  {
   "cell_type": "markdown",
   "id": "2a17613d",
   "metadata": {
    "papermill": {
     "duration": 0.026334,
     "end_time": "2021-11-24T19:06:16.431159",
     "exception": false,
     "start_time": "2021-11-24T19:06:16.404825",
     "status": "completed"
    },
    "tags": []
   },
   "source": [
    "## Gene activity"
   ]
  },
  {
   "cell_type": "code",
   "execution_count": 75,
   "id": "688876f6",
   "metadata": {
    "papermill": {
     "duration": 0.234298,
     "end_time": "2021-11-24T19:06:16.686396",
     "exception": false,
     "start_time": "2021-11-24T19:06:16.452098",
     "status": "completed"
    },
    "tags": []
   },
   "outputs": [],
   "source": [
    "import pyranges as pr\n",
    "import requests\n",
    "import pybiomart as pbm"
   ]
  },
  {
   "cell_type": "markdown",
   "id": "db64ab66",
   "metadata": {
    "papermill": {
     "duration": 0.044064,
     "end_time": "2021-11-24T19:06:22.225933",
     "exception": false,
     "start_time": "2021-11-24T19:06:22.181869",
     "status": "completed"
    },
    "tags": []
   },
   "source": [
    "### Infer gene activity"
   ]
  },
  {
   "cell_type": "code",
   "execution_count": 76,
   "id": "3afe7546",
   "metadata": {
    "papermill": {
     "duration": 10.102528,
     "end_time": "2021-11-24T19:06:32.362675",
     "exception": false,
     "start_time": "2021-11-24T19:06:22.260147",
     "status": "completed"
    },
    "tags": []
   },
   "outputs": [
    {
     "name": "stdout",
     "output_type": "stream",
     "text": [
      "Loading /lustre1/project/stg_00002/lcb/fderop/data/20211024_hca_benchmark_libds_merged/downstream_analysis/gene_act_dict.pkl\n"
     ]
    }
   ],
   "source": [
    "f_out = os.path.join(f_final_dir, 'gene_act_dict.pkl')\n",
    "if os.path.isfile(f_out):\n",
    "    print(f\"Loading {f_out}\")\n",
    "    with open(f_out, 'rb') as f:\n",
    "        gene_act_dict = pickle.load(f)\n",
    "else:\n",
    "    from pycisTopic.gene_activity import get_gene_activity\n",
    "    from pycisTopic.diff_features import find_diff_features\n",
    "    # For human\n",
    "    dataset = pbm.Dataset(name='hsapiens_gene_ensembl',  host='http://www.ensembl.org')\n",
    "    annot = dataset.query(attributes=['chromosome_name', 'start_position', 'end_position', 'strand', 'external_gene_name', 'transcription_start_site', 'transcript_biotype'])\n",
    "    annot['Chromosome/scaffold name'] = 'chr' + annot['Chromosome/scaffold name'].astype(str)\n",
    "    annot.columns=['Chromosome', 'Start', 'End', 'Strand', 'Gene','Transcription_Start_Site', 'Transcript_type']\n",
    "    annot = annot[annot.Transcript_type == 'protein_coding']\n",
    "    annot.Strand[annot.Strand == 1] = '+'\n",
    "    annot.Strand[annot.Strand == -1] = '-'\n",
    "    pr_annotation = pr.PyRanges(annot.dropna(axis = 0))\n",
    "    pr_annotation\n",
    "\n",
    "    # get chromosome sizes (hg38)\n",
    "    target_url = 'http://hgdownload.cse.ucsc.edu/goldenPath/hg38/bigZips/hg38.chrom.sizes'\n",
    "    chromsizes = pd.read_csv(target_url, sep='\\t', header=None)\n",
    "    chromsizes.columns = ['Chromosome', 'End']\n",
    "    chromsizes['Start'] = [0]*chromsizes.shape[0]\n",
    "    chromsizes = chromsizes.loc[:,['Chromosome', 'Start', 'End']]\n",
    "    chromsizes = pr.PyRanges(chromsizes)\n",
    "    chromsizes\n",
    "\n",
    "    gene_act_dict = {}\n",
    "    for key in cistopic_obj_dict.keys():\n",
    "        print(key)\n",
    "        gene_act, weights = get_gene_activity(\n",
    "            imputed_acc_obj_dict[key], # Region-cell probabilities\n",
    "            pr_annotation, # Gene annotation\n",
    "            chromsizes, # Chromosome size\n",
    "            use_gene_boundaries=True, # Whether to use the whole search space or stop when encountering another gene\n",
    "            upstream=[1000, 100000], # Search space upstream. The minimum means that even if there is a gene right next to it \n",
    "                                     #these bp will be taken (1kbp here)\n",
    "            downstream=[1000,100000], # Search space downstream\n",
    "            distance_weight=True, # Whether to add a distance weight (an exponential function, the weight will decrease with distance)\n",
    "            decay_rate=1, # Exponent for the distance exponential funciton (the higher the faster will be the decrease)\n",
    "            extend_gene_body_upstream=10000, # Number of bp upstream immune to the distance weight (their value will be maximum for \n",
    "                                             #this weight)\n",
    "            extend_gene_body_downstream=500, # Number of bp downstream immune to the distance weight\n",
    "            gene_size_weight=False, # Whether to add a weights based on the length of the gene\n",
    "            gene_size_scale_factor='median', # Dividend to calculate the gene size weigth. Default is the median value of all genes\n",
    "                                             #in the genome\n",
    "            remove_promoters=False, # Whether to remove promoters when computing gene activity scores\n",
    "            average_scores=True, # Whether to divide by the total number of region assigned to a gene when calculating the gene \n",
    "                                 # activity score\n",
    "            scale_factor=1, # Value to multiply for the final gene activity matrix\n",
    "            extend_tss=[10,10], # Space to consider a promoter\n",
    "            gini_weight = True, # Whether to add a gini index weigth. The more unique the region is, the higher this weight will be\n",
    "            return_weights= True, # Whether to return the final weights\n",
    "            project='Gene_activity') # Project name for the gene activity object\n",
    "        gene_act_dict[key] = copy.copy(gene_act)\n",
    "\n",
    "    with open(f_out, 'wb') as f:\n",
    "        pickle.dump(gene_act_dict, f)\n",
    "    print(f'saved {f_out}')"
   ]
  },
  {
   "cell_type": "code",
   "execution_count": 81,
   "id": "aca1ab27",
   "metadata": {},
   "outputs": [
    {
     "data": {
      "text/plain": [
       "{'cell': {'UMAP':                                                        UMAP_1     UMAP_2\n",
       "  CCTCCTTCTTCATCCAGAGAG_TAAGAGGGTGGCGCCTTGCGA_CGG...   5.778868  11.895809\n",
       "  CCTTAGGACGAGAATTATCAT_CCGCGATACCTACCAGATAGG-Bro...  -0.684854  19.437815\n",
       "  ATGAATAGTGCATTGCAGTGT-Broad_1                        2.187975  14.684908\n",
       "  TGTTTAGATAGGCATAAGGTA-Broad_1                        6.169397  11.672524\n",
       "  TTACAGAGGTGTTTCCAAGCT_GGACGACAGTTTCTCTAGAGC-Bro...   5.618959  11.884871\n",
       "  ...                                                       ...        ...\n",
       "  GGTTAGTTGGTATTGCAGCTCGGACAAC-s3atac                -10.563517   3.115543\n",
       "  GATTCGGTCAGTTCTCTCCTTGACGAAT-s3atac                -10.507968   3.265422\n",
       "  TGCGGCCTGGTCTCATTGCCCGGAACTG-s3atac                 -7.065394  -2.570484\n",
       "  GAAGAGTATTTCTCCTCCTGGTGTCGGA-s3atac                -10.610051   2.621628\n",
       "  TGCGGCCTGGAATGATGCTCATTGTGAA-s3atac                 -7.511748  -3.023273\n",
       "  \n",
       "  [45235 rows x 2 columns],\n",
       "  'UMAP_harmony':                                                        UMAP_1     UMAP_2\n",
       "  CCTCCTTCTTCATCCAGAGAG_TAAGAGGGTGGCGCCTTGCGA_CGG...  10.603668  14.324357\n",
       "  CCTTAGGACGAGAATTATCAT_CCGCGATACCTACCAGATAGG-Bro...   7.608005  -7.571940\n",
       "  ATGAATAGTGCATTGCAGTGT-Broad_1                       11.724223   4.751494\n",
       "  TGTTTAGATAGGCATAAGGTA-Broad_1                       13.573638  16.315140\n",
       "  TTACAGAGGTGTTTCCAAGCT_GGACGACAGTTTCTCTAGAGC-Bro...  10.550716  14.335300\n",
       "  ...                                                       ...        ...\n",
       "  GGTTAGTTGGTATTGCAGCTCGGACAAC-s3atac                  3.645544  -6.040138\n",
       "  GATTCGGTCAGTTCTCTCCTTGACGAAT-s3atac                  4.013797  -6.059711\n",
       "  TGCGGCCTGGTCTCATTGCCCGGAACTG-s3atac                 10.516696   4.159173\n",
       "  GAAGAGTATTTCTCCTCCTGGTGTCGGA-s3atac                  6.498168  -8.294133\n",
       "  TGCGGCCTGGAATGATGCTCATTGTGAA-s3atac                 10.821644   7.233150\n",
       "  \n",
       "  [45235 rows x 2 columns]}}"
      ]
     },
     "execution_count": 81,
     "metadata": {},
     "output_type": "execute_result"
    }
   ],
   "source": [
    "cistopic_obj_dict['libds_merged'].projections"
   ]
  },
  {
   "cell_type": "code",
   "execution_count": 82,
   "id": "c75b5cde",
   "metadata": {},
   "outputs": [
    {
     "name": "stdout",
     "output_type": "stream",
     "text": [
      "Help on function export_gene_activity_to_loom in module pycisTopic.loom:\n",
      "\n",
      "export_gene_activity_to_loom(gene_activity_matrix: Union[ForwardRef('CistopicImputedFeatures'), pandas.core.frame.DataFrame], cistopic_obj: 'CistopicObject', regulons: List[pyscenic.genesig.Regulon], out_fname: str, selected_genes: Union[List[str], NoneType] = None, selected_cells: Union[List[str], NoneType] = None, auc_mtx: Union[pandas.core.frame.DataFrame, NoneType] = None, auc_thresholds: Union[pandas.core.frame.DataFrame, NoneType] = None, cluster_annotation: List[str] = None, cluster_markers: Dict[str, Dict[str, pandas.core.frame.DataFrame]] = None, tree_structure: Sequence[str] = (), title: str = None, nomenclature: str = 'Unknown', **kwargs)\n",
      "    Create SCope [Davie et al, 2018] compatible loom files for gene activity exploration\n",
      "    \n",
      "    Parameters\n",
      "    ---------\n",
      "    gene_activity_matrix: class::CistopicImputedFeatures or class::pd.DataFrame\n",
      "        A cisTopic imputed features object containing imputed gene activity as values. Alternatively, a pandas data frame with genes as\n",
      "        columns, cells as rows and gene activity per gene as values.\n",
      "    cistopic_obj: class::CisTopicObject\n",
      "        The cisTopic object from which gene activity values have been derived. It must include cell meta data (including specified cluster\n",
      "        annotation columns).\n",
      "    regulons: list\n",
      "        A list of regulons as derived from pySCENIC (Van de Sande et al., 2020).\n",
      "    out_fname: str\n",
      "        Path to output file.\n",
      "    selected_genes: list, optional\n",
      "        A list specifying which genes should be included in the loom file. Default: None\n",
      "    selected_cells: list, optional\n",
      "        A list specifying which cells should be included in the loom file. Default: None\n",
      "    auc_mtx: pd.DataFrame, optional\n",
      "        A regulon AUC matrix for the regulons as derived from pySCENIC (Van de Sande et al., 2020). If not provided it will be inferred.\n",
      "    auc_thresholds: pd.DataFrame, optional\n",
      "        A AUC thresholds for the regulons as derived from pySCENIC (Van de Sande et al., 2020). If not provided it will be inferred.\n",
      "    cluster_annotation: list, optional\n",
      "        A list indicating which information in `cistopic_obj.cell_data` should be used as clusters. The specified names must be included as columns\n",
      "        in `cistopic_obj.cell_data`. Default: None.\n",
      "    cluster_markers: dict, optional\n",
      "        A dictionary including an entry per cluster annotation (which should match with the names in `cluster_annotation`) including a dictionary\n",
      "        per cluster with a pandas data frame with marker regions as rows and logFC and adjusted p-values as columns (the output of\n",
      "        `find_diff_features`). Default: None.\n",
      "    tree_structure: sequence, optional\n",
      "        A sequence of strings that defines the category tree structure. Needs to be a sequence of strings with three elements. Default: ()\n",
      "    title: str, optional\n",
      "        The title for this loom file. If None than the basename of the filename is used as the title. Default: None\n",
      "    nomenclature: str, optional\n",
      "        The name of the genome. Default: 'Unknown'\n",
      "    **kwargs\n",
      "        Additional parameters for pyscenic.export.export2loom\n",
      "    \n",
      "    \n",
      "    References\n",
      "    -----------\n",
      "    Davie, K., Janssens, J., Koldere, D., De Waegeneer, M., Pech, U., Kreft, Ł., ... & Aerts, S. (2018). A single-cell transcriptome atlas of the\n",
      "    aging Drosophila brain. Cell, 174(4), 982-998.\n",
      "    \n",
      "    Van de Sande, B., Flerin, C., Davie, K., De Waegeneer, M., Hulselmans, G., Aibar, S., ... & Aerts, S. (2020). A scalable SCENIC\n",
      "    workflow for single-cell gene regulatory network analysis. Nature Protocols, 15(7), 2247-2276.\n",
      "\n"
     ]
    }
   ],
   "source": [
    "help(export_gene_activity_to_loom)"
   ]
  },
  {
   "cell_type": "markdown",
   "id": "dd4b7f0a",
   "metadata": {
    "papermill": {
     "duration": 0.022635,
     "end_time": "2021-11-24T19:06:32.455185",
     "exception": false,
     "start_time": "2021-11-24T19:06:32.432550",
     "status": "completed"
    },
    "tags": []
   },
   "source": [
    "## Export to loom"
   ]
  },
  {
   "cell_type": "code",
   "execution_count": 22,
   "id": "4dddea31",
   "metadata": {
    "execution": {
     "iopub.execute_input": "2021-11-24T19:06:32.532286Z",
     "iopub.status.busy": "2021-11-24T19:06:32.530963Z",
     "iopub.status.idle": "2021-11-24T19:06:32.546450Z",
     "shell.execute_reply": "2021-11-24T19:06:32.545283Z"
    },
    "papermill": {
     "duration": 0.069649,
     "end_time": "2021-11-24T19:06:32.546607",
     "exception": false,
     "start_time": "2021-11-24T19:06:32.476958",
     "status": "completed"
    },
    "tags": []
   },
   "outputs": [],
   "source": [
    "f_region_loom_dir = os.path.join(f_final_dir, 'region_acc_loom')\n",
    "if not os.path.exists(f_region_loom_dir):\n",
    "    os.makedirs(f_region_loom_dir)\n",
    "    \n",
    "f_gene_loom_dir = os.path.join(f_final_dir, 'gene_act_loom')\n",
    "if not os.path.exists(f_gene_loom_dir):\n",
    "    os.makedirs(f_gene_loom_dir)"
   ]
  },
  {
   "cell_type": "code",
   "execution_count": 23,
   "id": "43d92fc2",
   "metadata": {
    "execution": {
     "iopub.execute_input": "2021-11-24T19:06:32.662031Z",
     "iopub.status.busy": "2021-11-24T19:06:32.661526Z",
     "iopub.status.idle": "2021-11-24T19:06:37.285617Z",
     "shell.execute_reply": "2021-11-24T19:06:37.285201Z"
    },
    "papermill": {
     "duration": 4.712169,
     "end_time": "2021-11-24T19:06:37.285737",
     "exception": false,
     "start_time": "2021-11-24T19:06:32.573568",
     "status": "completed"
    },
    "tags": []
   },
   "outputs": [],
   "source": [
    "from pycisTopic.loom import (\n",
    "    export_region_accessibility_to_loom,\n",
    "    export_gene_activity_to_loom\n",
    ")"
   ]
  },
  {
   "cell_type": "markdown",
   "id": "d7a314b4",
   "metadata": {
    "papermill": {
     "duration": 0.018389,
     "end_time": "2021-11-24T19:06:37.332380",
     "exception": false,
     "start_time": "2021-11-24T19:06:37.313991",
     "status": "completed"
    },
    "tags": []
   },
   "source": [
    "### Gene activity"
   ]
  },
  {
   "cell_type": "code",
   "execution_count": 24,
   "id": "9124f2a9",
   "metadata": {
    "execution": {
     "iopub.execute_input": "2021-11-24T19:06:37.378412Z",
     "iopub.status.busy": "2021-11-24T19:06:37.377994Z",
     "iopub.status.idle": "2021-11-24T19:06:37.381544Z",
     "shell.execute_reply": "2021-11-24T19:06:37.381128Z"
    },
    "papermill": {
     "duration": 0.031389,
     "end_time": "2021-11-24T19:06:37.381646",
     "exception": false,
     "start_time": "2021-11-24T19:06:37.350257",
     "status": "completed"
    },
    "tags": []
   },
   "outputs": [
    {
     "data": {
      "text/plain": [
       "Index(['cisTopic_nr_frag', 'cisTopic_log_nr_frag', 'cisTopic_nr_acc',\n",
       "       'cisTopic_log_nr_acc', 'sample_id', 'Log_total_nr_frag',\n",
       "       'Log_unique_nr_frag', 'Total_nr_frag', 'Unique_nr_frag', 'Dupl_nr_frag',\n",
       "       'Dupl_rate', 'Total_nr_frag_in_regions', 'Unique_nr_frag_in_regions',\n",
       "       'FRIP', 'TSS_enrichment', 'barcode', 'seurat_cell_type',\n",
       "       'consensus_cell_type', 'pycisTopic_leiden_10_0.6',\n",
       "       'pycisTopic_leiden_10_0.8', 'pycisTopic_leiden_10_1.0',\n",
       "       'pycisTopic_leiden_10_1.2', 'fmx_sample', 'alias'],\n",
       "      dtype='object')"
      ]
     },
     "execution_count": 24,
     "metadata": {},
     "output_type": "execute_result"
    }
   ],
   "source": [
    "cistopic_obj_dict['libds_merged'].cell_data.columns"
   ]
  },
  {
   "cell_type": "code",
   "execution_count": 25,
   "id": "4199b62e",
   "metadata": {
    "execution": {
     "iopub.execute_input": "2021-11-24T19:06:37.427224Z",
     "iopub.status.busy": "2021-11-24T19:06:37.426796Z",
     "iopub.status.idle": "2021-11-24T19:06:37.430107Z",
     "shell.execute_reply": "2021-11-24T19:06:37.429756Z"
    },
    "papermill": {
     "duration": 0.029576,
     "end_time": "2021-11-24T19:06:37.430207",
     "exception": false,
     "start_time": "2021-11-24T19:06:37.400631",
     "status": "completed"
    },
    "tags": []
   },
   "outputs": [],
   "source": [
    "from ctxcore.genesig import Regulon\n",
    "\n",
    "# generate a dummy regulon (required for export_gene_activity_to_loom):\n",
    "phreg = Regulon(\n",
    "        name='placeholder regulon',\n",
    "        gene2weight={'phreg': 1.0},\n",
    "        transcription_factor=\"phreg\",\n",
    "        gene2occurrence={\"phreg\": 1},\n",
    "    )"
   ]
  },
  {
   "cell_type": "code",
   "execution_count": 26,
   "id": "0c2372a1",
   "metadata": {
    "execution": {
     "iopub.execute_input": "2021-11-24T19:06:37.550007Z",
     "iopub.status.busy": "2021-11-24T19:06:37.546647Z",
     "iopub.status.idle": "2021-11-24T19:19:18.519396Z",
     "shell.execute_reply": "2021-11-24T19:19:18.516749Z"
    },
    "papermill": {
     "duration": 761.072311,
     "end_time": "2021-11-24T19:19:18.521828",
     "exception": false,
     "start_time": "2021-11-24T19:06:37.449517",
     "status": "completed"
    },
    "tags": []
   },
   "outputs": [
    {
     "name": "stdout",
     "output_type": "stream",
     "text": [
      "libds_merged\n",
      "2021-11-24 20:06:44,272 cisTopic     INFO     Creating minimal loom\n",
      "2021-11-24 20:09:38,090 ctxcore.recovery WARNING  Less than 80% of the genes in placeholder regulon are present in the expression matrix.\n",
      "2021-11-24 20:14:23,840 cisTopic     INFO     Adding annotations\n",
      "2021-11-24 20:15:03,265 cisTopic     INFO     Adding clusterings\n",
      "2021-11-24 20:15:04,569 cisTopic     INFO     Adding markers\n"
     ]
    },
    {
     "name": "stderr",
     "output_type": "stream",
     "text": [
      "--- Logging error ---\n",
      "Traceback (most recent call last):\n",
      "  File \"/usr/local/lib/python3.8/logging/__init__.py\", line 1081, in emit\n",
      "    msg = self.format(record)\n",
      "  File \"/usr/local/lib/python3.8/logging/__init__.py\", line 925, in format\n",
      "    return fmt.format(record)\n",
      "  File \"/usr/local/lib/python3.8/logging/__init__.py\", line 664, in format\n",
      "    record.message = record.getMessage()\n",
      "  File \"/usr/local/lib/python3.8/logging/__init__.py\", line 369, in getMessage\n",
      "    msg = msg % self.args\n",
      "TypeError: not all arguments converted during string formatting\n",
      "Call stack:\n",
      "  File \"/opt/venv/bin/ipython\", line 8, in <module>\n",
      "    sys.exit(start_ipython())\n",
      "  File \"/opt/venv/lib/python3.8/site-packages/IPython/__init__.py\", line 126, in start_ipython\n",
      "    return launch_new_instance(argv=argv, **kwargs)\n",
      "  File \"/opt/venv/lib/python3.8/site-packages/traitlets/config/application.py\", line 846, in launch_instance\n",
      "    app.start()\n",
      "  File \"/opt/venv/lib/python3.8/site-packages/IPython/terminal/ipapp.py\", line 352, in start\n",
      "    return self.subapp.start()\n",
      "  File \"/opt/venv/lib/python3.8/site-packages/ipykernel/kernelapp.py\", line 677, in start\n",
      "    self.io_loop.start()\n",
      "  File \"/opt/venv/lib/python3.8/site-packages/tornado/platform/asyncio.py\", line 199, in start\n",
      "    self.asyncio_loop.run_forever()\n",
      "  File \"/usr/local/lib/python3.8/asyncio/base_events.py\", line 570, in run_forever\n",
      "    self._run_once()\n",
      "  File \"/usr/local/lib/python3.8/asyncio/base_events.py\", line 1859, in _run_once\n",
      "    handle._run()\n",
      "  File \"/usr/local/lib/python3.8/asyncio/events.py\", line 81, in _run\n",
      "    self._context.run(self._callback, *self._args)\n",
      "  File \"/opt/venv/lib/python3.8/site-packages/ipykernel/kernelbase.py\", line 457, in dispatch_queue\n",
      "    await self.process_one()\n",
      "  File \"/opt/venv/lib/python3.8/site-packages/ipykernel/kernelbase.py\", line 446, in process_one\n",
      "    await dispatch(*args)\n",
      "  File \"/opt/venv/lib/python3.8/site-packages/ipykernel/kernelbase.py\", line 353, in dispatch_shell\n",
      "    await result\n",
      "  File \"/opt/venv/lib/python3.8/site-packages/ipykernel/kernelbase.py\", line 648, in execute_request\n",
      "    reply_content = await reply_content\n",
      "  File \"/opt/venv/lib/python3.8/site-packages/ipykernel/ipkernel.py\", line 353, in do_execute\n",
      "    res = shell.run_cell(code, store_history=store_history, silent=silent)\n",
      "  File \"/opt/venv/lib/python3.8/site-packages/ipykernel/zmqshell.py\", line 533, in run_cell\n",
      "    return super(ZMQInteractiveShell, self).run_cell(*args, **kwargs)\n",
      "  File \"/opt/venv/lib/python3.8/site-packages/IPython/core/interactiveshell.py\", line 2898, in run_cell\n",
      "    result = self._run_cell(\n",
      "  File \"/opt/venv/lib/python3.8/site-packages/IPython/core/interactiveshell.py\", line 2944, in _run_cell\n",
      "    return runner(coro)\n",
      "  File \"/opt/venv/lib/python3.8/site-packages/IPython/core/async_helpers.py\", line 68, in _pseudo_sync_runner\n",
      "    coro.send(None)\n",
      "  File \"/opt/venv/lib/python3.8/site-packages/IPython/core/interactiveshell.py\", line 3169, in run_cell_async\n",
      "    has_raised = await self.run_ast_nodes(code_ast.body, cell_name,\n",
      "  File \"/opt/venv/lib/python3.8/site-packages/IPython/core/interactiveshell.py\", line 3361, in run_ast_nodes\n",
      "    if (await self.run_code(code, result,  async_=asy)):\n",
      "  File \"/opt/venv/lib/python3.8/site-packages/IPython/core/interactiveshell.py\", line 3441, in run_code\n",
      "    exec(code_obj, self.user_global_ns, self.user_ns)\n",
      "  File \"/local_scratch/tmp-vsc33042/ipykernel_24017/1964095522.py\", line 9, in <module>\n",
      "    export_gene_activity_to_loom(\n",
      "  File \"/opt/venv/lib/python3.8/site-packages/pycisTopic/loom.py\", line 188, in export_gene_activity_to_loom\n",
      "    log.info(x, 'is not in the cluster markers dictionary')\n",
      "Message: 'alias'\n",
      "Arguments: ('is not in the cluster markers dictionary',)\n",
      "--- Logging error ---\n",
      "Traceback (most recent call last):\n",
      "  File \"/usr/local/lib/python3.8/logging/__init__.py\", line 1081, in emit\n",
      "    msg = self.format(record)\n",
      "  File \"/usr/local/lib/python3.8/logging/__init__.py\", line 925, in format\n",
      "    return fmt.format(record)\n",
      "  File \"/usr/local/lib/python3.8/logging/__init__.py\", line 664, in format\n",
      "    record.message = record.getMessage()\n",
      "  File \"/usr/local/lib/python3.8/logging/__init__.py\", line 369, in getMessage\n",
      "    msg = msg % self.args\n",
      "TypeError: not all arguments converted during string formatting\n",
      "Call stack:\n",
      "  File \"/opt/venv/bin/ipython\", line 8, in <module>\n",
      "    sys.exit(start_ipython())\n",
      "  File \"/opt/venv/lib/python3.8/site-packages/IPython/__init__.py\", line 126, in start_ipython\n",
      "    return launch_new_instance(argv=argv, **kwargs)\n",
      "  File \"/opt/venv/lib/python3.8/site-packages/traitlets/config/application.py\", line 846, in launch_instance\n",
      "    app.start()\n",
      "  File \"/opt/venv/lib/python3.8/site-packages/IPython/terminal/ipapp.py\", line 352, in start\n",
      "    return self.subapp.start()\n",
      "  File \"/opt/venv/lib/python3.8/site-packages/ipykernel/kernelapp.py\", line 677, in start\n",
      "    self.io_loop.start()\n",
      "  File \"/opt/venv/lib/python3.8/site-packages/tornado/platform/asyncio.py\", line 199, in start\n",
      "    self.asyncio_loop.run_forever()\n",
      "  File \"/usr/local/lib/python3.8/asyncio/base_events.py\", line 570, in run_forever\n",
      "    self._run_once()\n",
      "  File \"/usr/local/lib/python3.8/asyncio/base_events.py\", line 1859, in _run_once\n",
      "    handle._run()\n",
      "  File \"/usr/local/lib/python3.8/asyncio/events.py\", line 81, in _run\n",
      "    self._context.run(self._callback, *self._args)\n",
      "  File \"/opt/venv/lib/python3.8/site-packages/ipykernel/kernelbase.py\", line 457, in dispatch_queue\n",
      "    await self.process_one()\n",
      "  File \"/opt/venv/lib/python3.8/site-packages/ipykernel/kernelbase.py\", line 446, in process_one\n",
      "    await dispatch(*args)\n",
      "  File \"/opt/venv/lib/python3.8/site-packages/ipykernel/kernelbase.py\", line 353, in dispatch_shell\n",
      "    await result\n",
      "  File \"/opt/venv/lib/python3.8/site-packages/ipykernel/kernelbase.py\", line 648, in execute_request\n",
      "    reply_content = await reply_content\n",
      "  File \"/opt/venv/lib/python3.8/site-packages/ipykernel/ipkernel.py\", line 353, in do_execute\n",
      "    res = shell.run_cell(code, store_history=store_history, silent=silent)\n",
      "  File \"/opt/venv/lib/python3.8/site-packages/ipykernel/zmqshell.py\", line 533, in run_cell\n",
      "    return super(ZMQInteractiveShell, self).run_cell(*args, **kwargs)\n",
      "  File \"/opt/venv/lib/python3.8/site-packages/IPython/core/interactiveshell.py\", line 2898, in run_cell\n",
      "    result = self._run_cell(\n",
      "  File \"/opt/venv/lib/python3.8/site-packages/IPython/core/interactiveshell.py\", line 2944, in _run_cell\n",
      "    return runner(coro)\n",
      "  File \"/opt/venv/lib/python3.8/site-packages/IPython/core/async_helpers.py\", line 68, in _pseudo_sync_runner\n",
      "    coro.send(None)\n",
      "  File \"/opt/venv/lib/python3.8/site-packages/IPython/core/interactiveshell.py\", line 3169, in run_cell_async\n",
      "    has_raised = await self.run_ast_nodes(code_ast.body, cell_name,\n",
      "  File \"/opt/venv/lib/python3.8/site-packages/IPython/core/interactiveshell.py\", line 3361, in run_ast_nodes\n",
      "    if (await self.run_code(code, result,  async_=asy)):\n",
      "  File \"/opt/venv/lib/python3.8/site-packages/IPython/core/interactiveshell.py\", line 3441, in run_code\n",
      "    exec(code_obj, self.user_global_ns, self.user_ns)\n",
      "  File \"/local_scratch/tmp-vsc33042/ipykernel_24017/1964095522.py\", line 9, in <module>\n",
      "    export_gene_activity_to_loom(\n",
      "  File \"/opt/venv/lib/python3.8/site-packages/pycisTopic/loom.py\", line 188, in export_gene_activity_to_loom\n",
      "    log.info(x, 'is not in the cluster markers dictionary')\n",
      "Message: 'fmx_sample'\n",
      "Arguments: ('is not in the cluster markers dictionary',)\n"
     ]
    },
    {
     "name": "stdout",
     "output_type": "stream",
     "text": [
      "2021-11-24 20:15:04,890 cisTopic     INFO     Exporting\n"
     ]
    }
   ],
   "source": [
    "for key in cistopic_obj_dict.keys():\n",
    "    print(key)\n",
    "    s = 'Merged' if key=='libds_merged' else alias_dict[key]\n",
    "    f_out = os.path.join(f_gene_loom_dir, s + '__libDS_gene_activity.loom')\n",
    "    if os.path.exists(f_out):\n",
    "        print(f\"Skipping {f_out}: already exists.\")\n",
    "        continue\n",
    "        \n",
    "    export_gene_activity_to_loom(\n",
    "        gene_activity_matrix = gene_act_dict[key],\n",
    "        cistopic_obj = cistopic_obj_dict[key], \n",
    "        regulons = [phreg],\n",
    "        # selected_cells = [ x.split('-')[0] + '-' + x.split('-')[1]  for x in cistopic_obj_dict[key].cell_names ], # this leaves a cell barcode of the format type 'TGCATGTCGCCGTTCCAAGA-21'\n",
    "        # selected_cells = cistopic_obj_dict[key].projections['cell']['UMAP'].index.tolist(), # cflerin original \n",
    "        out_fname = f_out,\n",
    "        cluster_annotation = ['consensus_cell_type', 'alias', 'fmx_sample'],\n",
    "        cluster_markers = {'consensus_cell_type': markers_dict_dict[key]},\n",
    "        tree_structure = ('scATAC-seq_Benchmark', 'ATAC_library_downsampled', 'Gene_activity'),\n",
    "        title = 'Gene activity from library-downsampled and sample-merged dataset',\n",
    "        nomenclature = \"hg38\"\n",
    "    )"
   ]
  },
  {
   "cell_type": "markdown",
   "id": "ce73035d",
   "metadata": {
    "papermill": {
     "duration": 0.024002,
     "end_time": "2021-11-24T19:19:18.622250",
     "exception": false,
     "start_time": "2021-11-24T19:19:18.598248",
     "status": "completed"
    },
    "tags": []
   },
   "source": [
    "### Region accessibility"
   ]
  },
  {
   "cell_type": "code",
   "execution_count": 27,
   "id": "4591f460",
   "metadata": {
    "execution": {
     "iopub.execute_input": "2021-11-24T19:19:19.833612Z",
     "iopub.status.busy": "2021-11-24T19:19:18.727478Z",
     "iopub.status.idle": "2021-11-25T00:50:03.108738Z",
     "shell.execute_reply": "2021-11-25T00:50:03.110595Z"
    },
    "papermill": {
     "duration": 19844.466229,
     "end_time": "2021-11-25T00:50:03.111399",
     "exception": false,
     "start_time": "2021-11-24T19:19:18.645170",
     "status": "completed"
    },
    "tags": []
   },
   "outputs": [
    {
     "name": "stdout",
     "output_type": "stream",
     "text": [
      "libds_merged\n",
      "2021-11-24 20:25:41,210 cisTopic     INFO     Creating minimal loom\n",
      "Regulon name does not seem to be compatible with SCOPE. It should include a space to allow selection of the TF. \n",
      "Please run: \n",
      " regulons = [r.rename(r.name.replace('(+)',' ('+str(len(r))+'g)')) for r in regulons] \n",
      "or:\n",
      " regulons = [r.rename(r.name.replace('(',' (')) for r in regulons]\n",
      "2021-11-25 01:13:05,808 cisTopic     INFO     Adding annotations\n",
      "2021-11-25 01:24:50,795 cisTopic     INFO     Adding clusterings\n",
      "2021-11-25 01:24:51,477 cisTopic     INFO     Adding markers\n",
      "2021-11-25 01:24:55,589 cisTopic     INFO     Exporting\n"
     ]
    }
   ],
   "source": [
    "for key in cistopic_obj_dict.keys():\n",
    "    print(key)\n",
    "    s = 'merged' if key=='libds_merged' else key\n",
    "    f_out = os.path.join(f_region_loom_dir, s + '__libDS_region_accessibility.loom')\n",
    "    if os.path.exists(f_out):\n",
    "        print(f\"Skipping {f_out}: already exists.\")\n",
    "        continue\n",
    "    # Subset regions, we will use only regions in topics and DARs here to make it faster\n",
    "    regions_in_topics = list(set(sum([region_bin_topics_dict[key][i].index.tolist() for i in region_bin_topics_dict[key].keys()],[])))\n",
    "    regions_in_DARs = list(set(sum([markers_dict_dict[key][i].index.tolist() for i in markers_dict_dict[key].keys()],[])))\n",
    "    # make sure we only take regions that actually exist in the accessibility matrix:\n",
    "    selected_regions = list(set(regions_in_topics + regions_in_DARs).intersection(set(imputed_acc_obj_dict[key].feature_names)))\n",
    "\n",
    "    # Export to loom\n",
    "    export_region_accessibility_to_loom(\n",
    "        accessibility_matrix = imputed_acc_obj_dict[key],\n",
    "        cistopic_obj = cistopic_obj_dict[key], \n",
    "        binarized_topic_region = region_bin_topics_dict[key],\n",
    "        binarized_cell_topic = binarized_cell_topic_dict[key],\n",
    "        out_fname = f_out,\n",
    "        selected_regions = selected_regions ,\n",
    "        # selected_cells = [ x.split('-')[0] + '-' + x.split('-')[1]  for x in cistopic_obj_dict[key].cell_names ], # this leaves a cell barcode of the format type 'TGCATGTCGCCGTTCCAAGA-21'\n",
    "        # selected_cells = cistopic_obj_dict[key].projections['cell']['UMAP'].index.tolist(), # cflerin original\n",
    "        cluster_annotation = ['consensus_cell_type'],\n",
    "        cluster_markers = {'consensus_cell_type': markers_dict_dict[key]},\n",
    "        tree_structure = ('scATAC-seq_Benchmark', 'ATAC_library_downsampled', 'Region_accessibility'),\n",
    "        title = s + ' - Region accessibility all',\n",
    "        nomenclature = \"hg38\"\n",
    "    )"
   ]
  },
  {
   "cell_type": "markdown",
   "id": "fa6ee091",
   "metadata": {},
   "source": [
    "# caution:\n",
    "the export loom function contains a bug which adds the barcodes as a clustering, causing scope to crash on loading. this is removed in the final loom jupyter notebook."
   ]
  },
  {
   "cell_type": "markdown",
   "id": "bee52b68",
   "metadata": {
    "papermill": {
     "duration": 0.02643,
     "end_time": "2021-11-25T00:50:03.264376",
     "exception": false,
     "start_time": "2021-11-25T00:50:03.237946",
     "status": "completed"
    },
    "tags": []
   },
   "source": [
    "# upload LOOMs"
   ]
  },
  {
   "cell_type": "code",
   "execution_count": null,
   "id": "1e3d5db9",
   "metadata": {},
   "outputs": [],
   "source": [
    "curl -F 'UUID=scATAC-seq_Benchmark' -F 'file-type=Loom' -F 'file=@/lustre1/project/stg_00002/lcb/fderop/data/20211024_hca_benchmark_libds_merged/downstream_analysis/gene_act_loom/Merged__libDS_gene_activity.loom' https://scope.aertslab.org/upload/ | tee /dev/null"
   ]
  }
 ],
 "metadata": {
  "kernelspec": {
   "display_name": "pycisTopic_singularity_20210921",
   "language": "python",
   "name": "pycistopic_singularity"
  },
  "language_info": {
   "codemirror_mode": {
    "name": "ipython",
    "version": 3
   },
   "file_extension": ".py",
   "mimetype": "text/x-python",
   "name": "python",
   "nbconvert_exporter": "python",
   "pygments_lexer": "ipython3",
   "version": "3.8.6"
  },
  "papermill": {
   "default_parameters": {},
   "duration": 20729.37749,
   "end_time": "2021-11-25T00:50:09.771708",
   "environment_variables": {},
   "exception": null,
   "input_path": "8_export_loom.ipynb",
   "output_path": "8_export_loom.OUT.ipynb",
   "parameters": {},
   "start_time": "2021-11-24T19:04:40.394218",
   "version": "2.3.3"
  }
 },
 "nbformat": 4,
 "nbformat_minor": 5
}
