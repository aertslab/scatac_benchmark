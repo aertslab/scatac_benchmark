{
 "cells": [
  {
   "cell_type": "markdown",
   "metadata": {},
   "source": [
    "# creat merged fragment file"
   ]
  },
  {
   "cell_type": "markdown",
   "metadata": {},
   "source": [
    "in order to run the r code, we need to suply it with a fragments file as follows:"
   ]
  },
  {
   "cell_type": "code",
   "execution_count": 1,
   "metadata": {},
   "outputs": [
    {
     "name": "stdout",
     "output_type": "stream",
     "text": [
      "\u001b[0m\u001b[01;36mBroad_1.sinto.mm.fragments.tsv.gz\u001b[0m\n",
      "\u001b[01;36mBroad_1.sinto.mm.fragments.tsv.gz.tbi\u001b[0m\n",
      "\u001b[01;36mBroad_2.sinto.mm.fragments.tsv.gz\u001b[0m\n",
      "\u001b[01;36mBroad_2.sinto.mm.fragments.tsv.gz.tbi\u001b[0m\n",
      "\u001b[01;36mCNAG_1.sinto.mm.fragments.tsv.gz\u001b[0m\n",
      "\u001b[01;36mCNAG_1.sinto.mm.fragments.tsv.gz.tbi\u001b[0m\n",
      "\u001b[01;36mCNAG_2.sinto.mm.fragments.tsv.gz\u001b[0m\n",
      "\u001b[01;36mCNAG_2.sinto.mm.fragments.tsv.gz.tbi\u001b[0m\n",
      "\u001b[01;36mHarvard_1.sinto.mm.fragments.tsv.gz\u001b[0m\n",
      "\u001b[01;36mHarvard_1.sinto.mm.fragments.tsv.gz.tbi\u001b[0m\n",
      "\u001b[01;36mHarvard_2.sinto.mm.fragments.tsv.gz\u001b[0m\n",
      "\u001b[01;36mHarvard_2.sinto.mm.fragments.tsv.gz.tbi\u001b[0m\n",
      "\u001b[01;36mOHSU.sinto.mm.fragments.tsv.gz\u001b[0m\n",
      "\u001b[01;36mOHSU.sinto.mm.fragments.tsv.gz.tbi\u001b[0m\n",
      "\u001b[01;36mSanger_1.sinto.mm.fragments.tsv.gz\u001b[0m\n",
      "\u001b[01;36mSanger_1.sinto.mm.fragments.tsv.gz.tbi\u001b[0m\n",
      "\u001b[01;36mSanger_2.sinto.mm.fragments.tsv.gz\u001b[0m\n",
      "\u001b[01;36mSanger_2.sinto.mm.fragments.tsv.gz.tbi\u001b[0m\n",
      "\u001b[01;36mStanford_1.sinto.mm.fragments.tsv.gz\u001b[0m\n",
      "\u001b[01;36mStanford_1.sinto.mm.fragments.tsv.gz.tbi\u001b[0m\n",
      "\u001b[01;36mStanford_2.sinto.mm.fragments.tsv.gz\u001b[0m\n",
      "\u001b[01;36mStanford_2.sinto.mm.fragments.tsv.gz.tbi\u001b[0m\n",
      "\u001b[01;36mVIB_1.sinto.mm.fragments.tsv.gz\u001b[0m\n",
      "\u001b[01;36mVIB_1.sinto.mm.fragments.tsv.gz.tbi\u001b[0m\n",
      "\u001b[01;36mVIB_2.sinto.mm.fragments.tsv.gz\u001b[0m\n",
      "\u001b[01;36mVIB_2.sinto.mm.fragments.tsv.gz.tbi\u001b[0m\n",
      "\u001b[01;36mVIB_Hydrop_1.sinto.mm.fragments.tsv.gz\u001b[0m\n",
      "\u001b[01;36mVIB_Hydrop_1.sinto.mm.fragments.tsv.gz.tbi\u001b[0m\n",
      "\u001b[01;36mVIB_Hydrop_2.sinto.mm.fragments.tsv.gz\u001b[0m\n",
      "\u001b[01;36mVIB_Hydrop_2.sinto.mm.fragments.tsv.gz.tbi\u001b[0m\n"
     ]
    }
   ],
   "source": [
    "ls fragments"
   ]
  },
  {
   "cell_type": "code",
   "execution_count": 8,
   "metadata": {},
   "outputs": [
    {
     "name": "stdout",
     "output_type": "stream",
     "text": [
      "fragments/Broad_1.sinto.mm.fragments.tsv.gz\n",
      "[1] 21579\n",
      "fragments/Broad_2.sinto.mm.fragments.tsv.gz\n",
      "[2] 21580\n",
      "fragments/CNAG_1.sinto.mm.fragments.tsv.gz\n",
      "[3] 21592\n",
      "fragments/CNAG_2.sinto.mm.fragments.tsv.gz\n",
      "[4] 21593\n",
      "fragments/Harvard_1.sinto.mm.fragments.tsv.gz\n",
      "[5] 21594\n",
      "fragments/Harvard_2.sinto.mm.fragments.tsv.gz\n",
      "[6] 21595\n",
      "fragments/OHSU.sinto.mm.fragments.tsv.gz\n",
      "[7] 21596\n",
      "fragments/Sanger_1.sinto.mm.fragments.tsv.gz\n",
      "[8] 21597\n",
      "fragments/Sanger_2.sinto.mm.fragments.tsv.gz\n",
      "[9] 21598\n",
      "fragments/Stanford_1.sinto.mm.fragments.tsv.gz\n",
      "[10] 21599\n",
      "fragments/Stanford_2.sinto.mm.fragments.tsv.gz\n",
      "[11] 21600\n",
      "fragments/VIB_1.sinto.mm.fragments.tsv.gz\n",
      "[12] 21601\n",
      "fragments/VIB_2.sinto.mm.fragments.tsv.gz\n",
      "[13] 21602\n",
      "fragments/VIB_Hydrop_1.sinto.mm.fragments.tsv.gz\n",
      "[14] 21603\n",
      "fragments/VIB_Hydrop_2.sinto.mm.fragments.tsv.gz\n",
      "[15] 21604\n"
     ]
    }
   ],
   "source": [
    "for file in fragments/*fragments.tsv.gz\n",
    "do\n",
    "    echo $file\n",
    "    newname=${file%.tsv.gz}.tsv\n",
    "    gunzip -c $file > $newname &\n",
    "done"
   ]
  },
  {
   "cell_type": "markdown",
   "metadata": {},
   "source": [
    "now, we need to append the sample name to the barcode in each sample's respective fragments file, so that each fragment matches the barcode in the loom file"
   ]
  },
  {
   "cell_type": "code",
   "execution_count": 11,
   "metadata": {},
   "outputs": [],
   "source": [
    "module load mawk"
   ]
  },
  {
   "cell_type": "markdown",
   "metadata": {},
   "source": [
    "the identifiers we have in the loom are following:"
   ]
  },
  {
   "cell_type": "code",
   "execution_count": null,
   "metadata": {},
   "outputs": [],
   "source": [
    "{'11', # hydrop 1\n",
    " '12', # hydrop 1\n",
    " '21', # hydrop 2\n",
    " '22', # hydrop 2\n",
    " 'Broad_1', # harvard 1\n",
    " 'Broad_2', # harvard 2\n",
    " 'Broad_mito_1', # broad 1\n",
    " 'Broad_mito_2', # broad 2\n",
    " 'CNAG_1',\n",
    " 'CNAG_2',\n",
    " 'Sanger_1',\n",
    " 'Sanger_2',\n",
    " 'Stanford_1',\n",
    " 'Stanford_2',\n",
    " 'VIB_1',\n",
    " 'VIB_2',\n",
    " 's3atac'} # ohsu"
   ]
  },
  {
   "cell_type": "markdown",
   "metadata": {},
   "source": [
    "append them to the barcodes in each file:"
   ]
  },
  {
   "cell_type": "code",
   "execution_count": 9,
   "metadata": {},
   "outputs": [
    {
     "name": "stdout",
     "output_type": "stream",
     "text": [
      "[13]+  Done                    gunzip -c $file > $newname\n",
      "fragments/Broad_1.sinto.mm.fragments.tsv\n",
      "fragments/Broad_2.sinto.mm.fragments.tsv\n",
      "fragments/CNAG_1.sinto.mm.fragments.tsv\n",
      "fragments/CNAG_2.sinto.mm.fragments.tsv\n",
      "fragments/Harvard_1.sinto.mm.fragments.tsv\n",
      "fragments/Harvard_2.sinto.mm.fragments.tsv\n",
      "fragments/OHSU.sinto.mm.fragments.tsv\n",
      "fragments/Sanger_1.sinto.mm.fragments.tsv\n",
      "fragments/Sanger_2.sinto.mm.fragments.tsv\n",
      "fragments/Stanford_1.sinto.mm.fragments.tsv\n",
      "fragments/Stanford_2.sinto.mm.fragments.tsv\n",
      "fragments/VIB_1.sinto.mm.fragments.tsv\n",
      "fragments/VIB_2.sinto.mm.fragments.tsv\n",
      "fragments/VIB_Hydrop_1.sinto.mm.fragments.tsv\n",
      "fragments/VIB_Hydrop_2.sinto.mm.fragments.tsv\n"
     ]
    }
   ],
   "source": [
    "ls fragments/*.fragments.tsv"
   ]
  },
  {
   "cell_type": "markdown",
   "metadata": {},
   "source": [
    "using the following code:"
   ]
  },
  {
   "cell_type": "code",
   "execution_count": 33,
   "metadata": {},
   "outputs": [
    {
     "name": "stdout",
     "output_type": "stream",
     "text": [
      "[7]   Done                    mawk '{ print $1 \"\\t\" $2 \"\\t\" $3 \"\\t\" $4 \"-s3atac\\t\" $5}' $frags > $newname\n",
      "[14] 30019\n"
     ]
    }
   ],
   "source": [
    "frags=fragments/Harvard_2.sinto.mm.fragments.tsv\n",
    "newname=${frags%.tsv}.ID.tsv\n",
    "mawk '{ print $1 \"\\t\" $2 \"\\t\" $3 \"\\t\" $4 \"-Broad_2\\t\" $5}' $frags > $newname &"
   ]
  },
  {
   "cell_type": "markdown",
   "metadata": {},
   "source": [
    "merge the fragments:"
   ]
  },
  {
   "cell_type": "code",
   "execution_count": null,
   "metadata": {},
   "outputs": [],
   "source": [
    "newfile=fragments/merged.tsv\n",
    "sort --parallel=24 -S 64G -k1,1 -k 2,2n -k3,3n fragments/*fragments.ID.tsv > $newfile"
   ]
  },
  {
   "cell_type": "code",
   "execution_count": 5,
   "metadata": {},
   "outputs": [],
   "source": [
    "module load BCFtools\n",
    "bgzip -@ 16 -i $newfile\n",
    "tabix -p bed $newfile.gz"
   ]
  },
  {
   "cell_type": "markdown",
   "metadata": {},
   "source": [
    "# reserve superdome"
   ]
  },
  {
   "cell_type": "code",
   "execution_count": 9,
   "metadata": {},
   "outputs": [],
   "source": [
    "cat /staging/leuven/stg_00002/lcb/ghuls/shared_job_48h_superdome_1numa.pbs > shared_job_48h_superdome_1numa.pbs"
   ]
  },
  {
   "cell_type": "code",
   "execution_count": 11,
   "metadata": {},
   "outputs": [
    {
     "name": "stdout",
     "output_type": "stream",
     "text": [
      "50938876.tier2-p-moab-2.tier2.hpc.kuleuven.be\n"
     ]
    }
   ],
   "source": [
    "qsub -m abe -M florian.derop@kuleuven.be shared_job_48h_superdome_1numa.pbs"
   ]
  },
  {
   "cell_type": "code",
   "execution_count": 12,
   "metadata": {},
   "outputs": [
    {
     "name": "stdout",
     "output_type": "stream",
     "text": [
      "Job ID                    Name             User            Time Use S Queue\n",
      "------------------------- ---------------- --------------- -------- - -----\n",
      "50938876.tier2-p-moab-2.tier2 ...ome_1numa.pbs vsc33042               0 Q qsuperdome     \n"
     ]
    }
   ],
   "source": [
    "qstat 50938876"
   ]
  },
  {
   "cell_type": "code",
   "execution_count": null,
   "metadata": {},
   "outputs": [],
   "source": [
    "ssh tier2-p-superdome-1"
   ]
  },
  {
   "cell_type": "markdown",
   "metadata": {},
   "source": [
    "# do the cell type prediction for the merged sample"
   ]
  },
  {
   "cell_type": "markdown",
   "metadata": {},
   "source": [
    "make a new dir `cell_type_classification` and run the below code in it, using the R image in the attached .sif"
   ]
  },
  {
   "cell_type": "code",
   "execution_count": 2,
   "metadata": {},
   "outputs": [],
   "source": [
    "singularity run --cleanenv -H $PWD -B /lustre1,/staging,${VSC_SCRATCH}/tmp:/tmp /staging/leuven/stg_00002/lcb/cflerin/containers/cflerin-seurat-4.0.3-plus.sif"
   ]
  },
  {
   "cell_type": "markdown",
   "metadata": {},
   "source": [
    "use this for `pbmc.rna`\n",
    "```\n",
    "pbmc.rna = readRDS('/staging/leuven/stg_00002/lcb/cflerin/analysis/pbmc_atac/analysis2/scRNA/cell_type_classification/seurat/reference/pbmc_ssc_mat__integrated.rds')\n",
    "```"
   ]
  },
  {
   "cell_type": "markdown",
   "metadata": {},
   "source": [
    "# not necessary to run, just use the provided annotation: "
   ]
  },
  {
   "cell_type": "code",
   "execution_count": 2,
   "metadata": {},
   "outputs": [],
   "source": [
    "# RNA-ATAC integration\n",
    "################################################################################\n",
    "# https://satijalab.org/seurat/articles/atacseq_integration_vignette.html\n",
    "\n",
    "library(Seurat)\n",
    "library(SeuratDisk)\n",
    "library(Signac)\n",
    "library(EnsDb.Hsapiens.v86)\n",
    "library(ggplot2)\n",
    "\n",
    "################################################################################\n",
    "################################################################################\n",
    "# reference data:\n",
    "################################################################################\n",
    "\n",
    "f_ref = '/lustre1/project/stg_00002/lcb/cflerin/analysis/pbmc_atac/analysis2/scRNA/cell_type_classification/seurat/reference/pbmc_ssc_mat.rds'\n",
    "f_meta = '/lustre1/project/stg_00002/lcb/cflerin/analysis/pbmc_atac/analysis2/scRNA/cell_type_classification/seurat/reference/pbmc_ssc_metadata.rds'\n",
    "\n",
    "pbmc.data <- readRDS(f_ref)\n",
    "pbmc.metadata <- readRDS(f_meta)\n",
    "\n",
    "pbmc <- CreateSeuratObject(counts = pbmc.data, meta.data = pbmc.metadata)\n",
    "pbmc <- subset(pbmc, subset = nFeature_RNA > 200)\n",
    "\n",
    "pbmc.list <- SplitObject(pbmc, split.by = \"Method\")\n",
    "#pbmc.list$bench = qdata\n",
    "\n",
    "for (i in names(pbmc.list)) {\n",
    "    pbmc.list[[i]] = NormalizeData(pbmc.list[[i]])\n",
    "    pbmc.list[[i]] = FindVariableFeatures(pbmc.list[[i]], selection.method = \"vst\", nfeatures = 2000, verbose = FALSE)\n",
    "    pbmc.list[[i]] = ScaleData(pbmc.list[[i]])\n",
    "    pbmc.list[[i]] = RunPCA(pbmc.list[[i]])\n",
    "    pbmc.list[[i]] = RunUMAP(pbmc.list[[i]], dims = 1:30)\n",
    "}\n",
    "\n",
    "##################################################\n",
    "### integrate reference:\n",
    "\n",
    "reference.list <- pbmc.list[\n",
    "    c(\"10x Chromium (v2) A\", \"10x Chromium (v2) B\", \"10x Chromium (v3)\", \"10x Chromium (v2)\")\n",
    "]\n",
    "#reference.list$query = qdata\n",
    "#pbmc.ref = pbmc.list$`10x Chromium (v3)`\n",
    "pbmc.anchors <- FindIntegrationAnchors(object.list = reference.list, dims = 1:30)\n",
    "\n",
    "pbmc.integrated <- IntegrateData(anchorset = pbmc.anchors, dims = 1:30)\n",
    "DefaultAssay(pbmc.integrated) <- \"integrated\"\n",
    "\n",
    "pbmc.integrated <- ScaleData(pbmc.integrated, verbose = FALSE)\n",
    "pbmc.integrated <- RunPCA(pbmc.integrated, npcs = 30, verbose = FALSE)\n",
    "pbmc.integrated <- RunUMAP(pbmc.integrated, reduction = \"pca\", dims = 1:30, verbose = FALSE)\n",
    "\n",
    "##################################################\n",
    "\n",
    "pbmc.rna = pbmc.list$`10x Chromium (v3)`\n",
    "\n",
    "saveRDS(pbmc.rna, file='pbmc_RNA_reference_10xv3.rds')\n",
    "\n",
    "# pbmc.rna <- NormalizeData(pbmc.rna)\n",
    "# pbmc.rna <- FindVariableFeatures(pbmc.rna)\n",
    "# pbmc.rna <- ScaleData(pbmc.rna)\n",
    "# pbmc.rna <- RunPCA(pbmc.rna)\n",
    "# pbmc.rna <- RunUMAP(pbmc.rna, dims = 1:30)"
   ]
  },
  {
   "cell_type": "markdown",
   "metadata": {},
   "source": [
    "and megakaryocytes need to be removed even from this one. so best to just use chris' RDS."
   ]
  },
  {
   "cell_type": "markdown",
   "metadata": {},
   "source": [
    "# run this"
   ]
  },
  {
   "cell_type": "code",
   "execution_count": null,
   "metadata": {},
   "outputs": [],
   "source": [
    "# RNA-ATAC integration\n",
    "################################################################################\n",
    "# https://satijalab.org/seurat/articles/atacseq_integration_vignette.html\n",
    "\n",
    "library(Seurat)\n",
    "library(SeuratDisk)\n",
    "library(Signac)\n",
    "library(EnsDb.Hsapiens.v86)\n",
    "library(ggplot2)\n",
    "\n",
    "################################################################################\n",
    "################################################################################\n",
    "# reference data:\n",
    "################################################################################\n",
    "\n",
    "f_ref = '/lustre1/project/stg_00002/lcb/cflerin/analysis/pbmc_atac/analysis2/scRNA/cell_type_classification/seurat/reference/pbmc_ssc_mat.rds'\n",
    "f_meta = '/lustre1/project/stg_00002/lcb/cflerin/analysis/pbmc_atac/analysis2/scRNA/cell_type_classification/seurat/reference/pbmc_ssc_metadata.rds'\n",
    "\n",
    "\n",
    "pbmc.data <- readRDS(f_ref)\n",
    "pbmc.metadata <- readRDS(f_meta)\n",
    "\n",
    "pbmc <- CreateSeuratObject(counts = pbmc.data, meta.data = pbmc.metadata)\n",
    "pbmc <- subset(pbmc, subset = nFeature_RNA > 200)\n",
    "\n",
    "pbmc.list <- SplitObject(pbmc, split.by = \"Method\")\n",
    "#pbmc.list$bench = qdata\n",
    "\n",
    "for (i in names(pbmc.list)) {\n",
    "    pbmc.list[[i]] = NormalizeData(pbmc.list[[i]])\n",
    "    pbmc.list[[i]] = FindVariableFeatures(pbmc.list[[i]], selection.method = \"vst\", nfeatures = 2000, verbose = FALSE)\n",
    "    pbmc.list[[i]] = ScaleData(pbmc.list[[i]])\n",
    "    pbmc.list[[i]] = RunPCA(pbmc.list[[i]])\n",
    "    pbmc.list[[i]] = RunUMAP(pbmc.list[[i]], dims = 1:30)\n",
    "}\n",
    "\n",
    "##################################################\n",
    "### integrate reference:\n",
    "\n",
    "reference.list <- pbmc.list[\n",
    "    c(\"10x Chromium (v2) A\", \"10x Chromium (v2) B\", \"10x Chromium (v3)\", \"10x Chromium (v2)\")\n",
    "]\n",
    "#reference.list$query = qdata\n",
    "#pbmc.ref = pbmc.list$`10x Chromium (v3)`\n",
    "pbmc.anchors <- FindIntegrationAnchors(object.list = reference.list, dims = 1:30)\n",
    "\n",
    "pbmc.integrated <- IntegrateData(anchorset = pbmc.anchors, dims = 1:30)\n",
    "DefaultAssay(pbmc.integrated) <- \"integrated\"\n",
    "\n",
    "pbmc.integrated <- ScaleData(pbmc.integrated, verbose = FALSE)\n",
    "pbmc.integrated <- RunPCA(pbmc.integrated, npcs = 30, verbose = FALSE)\n",
    "pbmc.integrated <- RunUMAP(pbmc.integrated, reduction = \"pca\", dims = 1:30, verbose = FALSE)\n",
    "\n",
    "##################################################\n",
    "\n",
    "# pbmc.rna = pbmc.list$`10x Chromium (v3)`\n",
    "\n",
    "pbmc.rna = readRDS('/staging/leuven/stg_00002/lcb/cflerin/analysis/pbmc_atac/analysis2/scRNA/cell_type_classification/seurat/reference/pbmc_ssc_mat__integrated.rds')\n",
    "\n",
    "# pbmc.rna <- NormalizeData(pbmc.rna)\n",
    "# pbmc.rna <- FindVariableFeatures(pbmc.rna)\n",
    "# pbmc.rna <- ScaleData(pbmc.rna)\n",
    "# pbmc.rna <- RunPCA(pbmc.rna)\n",
    "# pbmc.rna <- RunUMAP(pbmc.rna, dims = 1:30)"
   ]
  },
  {
   "cell_type": "markdown",
   "metadata": {},
   "source": [
    "then run this per sample, change:\n",
    "* f_loom\n",
    "* f_frag\n",
    "* sample_id"
   ]
  },
  {
   "cell_type": "code",
   "execution_count": 2,
   "metadata": {},
   "outputs": [],
   "source": [
    "################################################################################\n",
    "# ATAC\n",
    "################################################################################\n",
    "\n",
    "### get data from loom:\n",
    "\n",
    "f_loom = '/lustre1/project/stg_00002/lcb/fderop/data/20211024_hca_benchmark_libds_merged/pycistopic_screen/cell_region_loom__screen/mergedcell_region-all.loom'\n",
    "f_frag = 'fragments/merged.tsv.gz'\n",
    "\n",
    "atacloomcon <- Connect(filename = f_loom, mode = \"r\")\n",
    "atacloomcon\n",
    "atac_tmp <- as.Seurat(atacloomcon, assay='ATAC')\n",
    "atacloomcon$close_all()\n",
    "\n",
    "# correctly parse regions (default delims are '-','-')\n",
    "regions = StringToGRanges(\n",
    "    rownames(GetAssayData(atac_tmp, slot = \"counts\", assay='ATAC')),\n",
    "    sep=c(':','-')\n",
    "    )\n",
    "# create chromatin assay\n",
    "chromatinassay = CreateChromatinAssay(\n",
    "    counts=GetAssayData(atac_tmp, slot = \"counts\", assay='ATAC'),\n",
    "    # genome='hg38',\n",
    "    fragments = f_frag,\n",
    "    ranges=regions\n",
    "    )\n",
    "    #annotation=annotation)\n",
    "\n",
    "atac <- CreateSeuratObject(counts = chromatinassay, assay='ATAC')\n",
    "\n",
    "library(stringr)"
   ]
  },
  {
   "cell_type": "code",
   "execution_count": 2,
   "metadata": {},
   "outputs": [],
   "source": [
    "# ATAC analysis add gene annotation information\n",
    "annotations <- GetGRangesFromEnsDb(ensdb = EnsDb.Hsapiens.v86)\n",
    "\n",
    "# use chr prefix:\n",
    "ucsc.levels <- str_replace(string=paste(\"chr\",seqlevels(annotations),sep=\"\"), pattern=\"chrMT\", replacement=\"chrM\")\n",
    "seqlevels(annotations) <- ucsc.levels\n",
    "\n",
    "genome(annotations) <- \"hg38\"\n",
    "\n",
    "saveRDS(annotations, file=\"granges_annotation.rds\")\n",
    "\n",
    "Annotation(atac) <- annotations\n",
    "\n",
    "# We exclude the first dimension as this is typically correlated with sequencing depth\n",
    "atac <- RunTFIDF(atac)\n",
    "atac <- FindTopFeatures(atac, min.cutoff = \"q0\")\n",
    "atac <- RunSVD(atac)\n",
    "atac <- RunUMAP(atac, reduction = \"lsi\", dims = 2:30, reduction.name = \"umap.atac\", reduction.key = \"atacUMAP_\")\n",
    "\n",
    "##################################################\n",
    "# Identify RNA-ATAC anchors\n",
    "\n",
    "# quantify gene activity\n",
    "gene.activities <- GeneActivity(atac, features = VariableFeatures(pbmc.rna))\n",
    "# gene.activities <- gene.activities[rownames(gene.activities)!=\"\",]\n",
    "\n",
    "# add gene activities as a new assay\n",
    "atac[[\"ACTIVITY\"]] <- CreateAssayObject(counts = gene.activities)\n",
    "\n",
    "# normalize gene activities\n",
    "DefaultAssay(atac) <- \"ACTIVITY\"\n",
    "atac <- NormalizeData(atac)\n",
    "atac <- ScaleData(atac, features = rownames(atac))\n",
    "\n",
    "# Identify anchors\n",
    "transfer.anchors <- FindTransferAnchors(reference = pbmc.rna,\n",
    "    query = atac,\n",
    "    features = VariableFeatures(object = pbmc.rna),\n",
    "    reference.assay = \"RNA\",\n",
    "    query.assay = \"ACTIVITY\",\n",
    "    reduction = \"cca\")\n",
    "\n",
    "\n",
    "# predict celltype\n",
    "celltype.predictions <- TransferData(\n",
    "    anchorset = transfer.anchors,\n",
    "    refdata = pbmc.rna$CellType,\n",
    "    weight.reduction = atac[[\"lsi\"]],\n",
    "    dims = 2:30)\n",
    "\n",
    "pbmc.atac <- AddMetaData(pbmc.atac, metadata = celltype.predictions)\n",
    "\n",
    "\n",
    "\n",
    "md = celltype.predictions\n",
    "sample_id = 'merged'\n",
    "pred_thr = 0.7\n",
    "\n",
    "tmp = data.frame(\n",
    "      composite_sample_id = paste0(rownames(md),'-',sample_id),\n",
    "      barcode = rownames(md),\n",
    "      sample_id = sample_id,\n",
    "      cell_type = md$predicted.id,\n",
    "      cell_type_pred_score = md$prediction.score.max\n",
    "      )\n",
    "tmp$cell_type_hiconf_70 = tmp$cell_type\n",
    "tmp$cell_type_hiconf_70[tmp$cell_type_pred_score<pred_thr] = 'Unknown'\n",
    "\n",
    "table(tmp$cell_type)\n",
    "table(tmp$cell_type_hiconf_70)\n",
    "\n",
    "write.table(tmp, file=paste0('pycistopic_screen/cell_type_classification/predictions/',sample_id,'__cell_type_seurat.txt'), sep='\\t', row.names=FALSE, quote=FALSE)"
   ]
  },
  {
   "cell_type": "markdown",
   "metadata": {},
   "source": [
    "continue to next notebook where the results are used."
   ]
  },
  {
   "cell_type": "markdown",
   "metadata": {},
   "source": [
    "# troubleshooting (ignore below)"
   ]
  },
  {
   "cell_type": "markdown",
   "metadata": {},
   "source": [
    "when running\n",
    "```\n",
    "> chromatinassay = CreateChromatinAssay(\n",
    "+     counts=GetAssayData(atac_tmp, slot = \"counts\", assay='ATAC'),\n",
    "+     genome='hg38',\n",
    "+     fragments = f_frag,\n",
    "+     ranges=regions\n",
    "+     )\n",
    "```\n",
    "i get the error\n",
    "```\n",
    "Computing hash\n",
    "Checking for 2208 cell barcodes\n",
    "Error in CreateFragmentObject(path = fragments, cells = cells, validate.fragments = validate.fragments,  :\n",
    "  Not all cells requested could be found in the fragment file.\n",
    "In addition: Warning message:\n",
    "In CreateChromatinAssay(counts = GetAssayData(atac_tmp, slot = \"counts\",  :\n",
    "  Overlapping ranges supplied. Ranges should be non-overlapping.\n",
    "```\n",
    "and `chromatinassay` is empty. \n"
   ]
  },
  {
   "cell_type": "code",
   "execution_count": 1,
   "metadata": {},
   "outputs": [
    {
     "name": "stdout",
     "output_type": "stream",
     "text": [
      "chr1\t10151\t10183\tGCGTTGACTTCGTCGACGTA-12\t1\n",
      "chr1\t16228\t16272\tATTGTAGAGGTAGGAGTCAA-12\t6\n",
      "chr1\t17490\t17527\tTTGTACTGCAAGGTGCCAGA-12\t3\n",
      "chr1\t30857\t31030\tCATGAACGTTGTGACGTGGA-12\t1\n",
      "chr1\t68280\t68311\tCATTGGTGCAGGCGAGATTC-12\t1\n",
      "chr1\t74871\t74900\tATCATCCGTTAATAGGCAGG-11\t11\n",
      "chr1\t79643\t79855\tGGAGCGGATTCAAGGTCGAT-11\t2\n",
      "chr1\t88228\t88302\tAAGACCAAGCGCTGATGGTA-12\t4\n",
      "chr1\t89893\t89944\tTCCGATTCAGCACGTTAAGA-12\t3\n",
      "chr1\t91177\t91237\tCTCCTCACTACTTGAAGAAG-12\t4\n",
      "\n",
      "gzip: stdout: Broken pipe\n"
     ]
    }
   ],
   "source": [
    "zcat fragments_postbap/VIB_Hydrop_1.sinto.mm.fragments.tsv.gz | head"
   ]
  },
  {
   "cell_type": "markdown",
   "metadata": {},
   "source": [
    "this error doesn't make sense, because the barcodes are present in the fragments file."
   ]
  },
  {
   "cell_type": "markdown",
   "metadata": {},
   "source": [
    "the output of the above code can be read in the cell_type_redictions.ipynb notebook"
   ]
  },
  {
   "cell_type": "markdown",
   "metadata": {},
   "source": [
    "it turns out the loom file writing had a bug in it that did not add the `-1?` do the barcode. i fixed this in the loom writing."
   ]
  },
  {
   "cell_type": "markdown",
   "metadata": {},
   "source": [
    "now that this is fixed, i got an error\n",
    "\n",
    "```\n",
    "> chromatinassay = CreateChromatinAssay(\n",
    "+     counts=GetAssayData(atac_tmp, slot = \"counts\", assay='ATAC'),\n",
    "+     genome='hg38',\n",
    "+     fragments = f_frag,\n",
    "+     ranges=regions\n",
    "+     )\n",
    "Computing hash\n",
    "Checking for 2208 cell barcodes\n",
    "Error in .order_seqlevels(chrom_sizes[, \"chrom\"]) :\n",
    "  !anyNA(m32) is not TRUE\n",
    "In addition: Warning message:\n",
    "In CreateChromatinAssay(counts = GetAssayData(atac_tmp, slot = \"counts\",  :\n",
    "  Overlapping ranges supplied. Ranges should be non-overlapping.\n",
    "```\n"
   ]
  },
  {
   "cell_type": "markdown",
   "metadata": {},
   "source": [
    "it turns out that this is a known bug (https://github.com/timoast/signac/issues/687) and that commenting out the line `genome='hg38'`"
   ]
  },
  {
   "cell_type": "code",
   "execution_count": null,
   "metadata": {},
   "outputs": [],
   "source": []
  }
 ],
 "metadata": {
  "kernelspec": {
   "display_name": "Bash",
   "language": "bash",
   "name": "bash"
  },
  "language_info": {
   "codemirror_mode": "shell",
   "file_extension": ".sh",
   "mimetype": "text/x-sh",
   "name": "bash"
  }
 },
 "nbformat": 4,
 "nbformat_minor": 4
}
