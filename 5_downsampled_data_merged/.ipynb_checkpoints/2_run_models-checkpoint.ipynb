{
 "cells": [
  {
   "cell_type": "code",
   "execution_count": 1,
   "id": "fec15f13",
   "metadata": {
    "execution": {
     "iopub.execute_input": "2021-10-24T18:16:31.031325Z",
     "iopub.status.busy": "2021-10-24T18:16:31.030913Z",
     "iopub.status.idle": "2021-10-24T18:16:31.041514Z",
     "shell.execute_reply": "2021-10-24T18:16:31.040991Z"
    },
    "papermill": {
     "duration": 0.030558,
     "end_time": "2021-10-24T18:16:31.041633",
     "exception": false,
     "start_time": "2021-10-24T18:16:31.011075",
     "status": "completed"
    },
    "tags": []
   },
   "outputs": [
    {
     "data": {
      "text/plain": [
       "'0.1.dev300+g7494158'"
      ]
     },
     "execution_count": 1,
     "metadata": {},
     "output_type": "execute_result"
    }
   ],
   "source": [
    "import pycisTopic\n",
    "pycisTopic.__version__"
   ]
  },
  {
   "cell_type": "code",
   "execution_count": 2,
   "id": "02f33fcf",
   "metadata": {
    "execution": {
     "iopub.execute_input": "2021-10-24T18:16:31.064948Z",
     "iopub.status.busy": "2021-10-24T18:16:31.064528Z",
     "iopub.status.idle": "2021-10-24T18:16:31.081739Z",
     "shell.execute_reply": "2021-10-24T18:16:31.082029Z"
    },
    "papermill": {
     "duration": 0.026796,
     "end_time": "2021-10-24T18:16:31.082143",
     "exception": false,
     "start_time": "2021-10-24T18:16:31.055347",
     "status": "completed"
    },
    "tags": []
   },
   "outputs": [],
   "source": [
    "import warnings\n",
    "warnings.filterwarnings('ignore')\n",
    "warnings.simplefilter('ignore')"
   ]
  },
  {
   "cell_type": "code",
   "execution_count": 3,
   "id": "729e6947",
   "metadata": {
    "execution": {
     "iopub.execute_input": "2021-10-24T18:16:31.098548Z",
     "iopub.status.busy": "2021-10-24T18:16:31.098151Z",
     "iopub.status.idle": "2021-10-24T18:16:31.761161Z",
     "shell.execute_reply": "2021-10-24T18:16:31.759982Z"
    },
    "papermill": {
     "duration": 0.672583,
     "end_time": "2021-10-24T18:16:31.761435",
     "exception": false,
     "start_time": "2021-10-24T18:16:31.088852",
     "status": "completed"
    },
    "tags": []
   },
   "outputs": [],
   "source": [
    "import pickle\n",
    "import pandas as pd"
   ]
  },
  {
   "cell_type": "code",
   "execution_count": 4,
   "id": "5ed1f0f6",
   "metadata": {
    "execution": {
     "iopub.execute_input": "2021-10-24T18:16:31.779842Z",
     "iopub.status.busy": "2021-10-24T18:16:31.779447Z",
     "iopub.status.idle": "2021-10-24T18:16:31.781883Z",
     "shell.execute_reply": "2021-10-24T18:16:31.782181Z"
    },
    "papermill": {
     "duration": 0.013369,
     "end_time": "2021-10-24T18:16:31.782299",
     "exception": false,
     "start_time": "2021-10-24T18:16:31.768930",
     "status": "completed"
    },
    "tags": []
   },
   "outputs": [],
   "source": [
    "import os\n",
    "wdir = '/user/leuven/330/vsc33042/fderop/data/20211024_merged_analysis/'\n",
    "os.chdir( wdir )"
   ]
  },
  {
   "cell_type": "code",
   "execution_count": 5,
   "id": "6a16c077",
   "metadata": {
    "execution": {
     "iopub.execute_input": "2021-10-24T18:16:31.798754Z",
     "iopub.status.busy": "2021-10-24T18:16:31.798375Z",
     "iopub.status.idle": "2021-10-24T18:16:31.803053Z",
     "shell.execute_reply": "2021-10-24T18:16:31.803356Z"
    },
    "papermill": {
     "duration": 0.014249,
     "end_time": "2021-10-24T18:16:31.803459",
     "exception": false,
     "start_time": "2021-10-24T18:16:31.789210",
     "status": "completed"
    },
    "tags": []
   },
   "outputs": [],
   "source": [
    "import glob\n",
    "from collections import OrderedDict"
   ]
  },
  {
   "cell_type": "markdown",
   "id": "967e9719",
   "metadata": {
    "papermill": {
     "duration": 0.006802,
     "end_time": "2021-10-24T18:16:31.817121",
     "exception": false,
     "start_time": "2021-10-24T18:16:31.810319",
     "status": "completed"
    },
    "tags": []
   },
   "source": [
    "# open cto"
   ]
  },
  {
   "cell_type": "code",
   "execution_count": 6,
   "id": "c6a69805",
   "metadata": {
    "execution": {
     "iopub.execute_input": "2021-10-24T18:16:31.837088Z",
     "iopub.status.busy": "2021-10-24T18:16:31.836699Z",
     "iopub.status.idle": "2021-10-24T18:16:38.169657Z",
     "shell.execute_reply": "2021-10-24T18:16:38.170032Z"
    },
    "papermill": {
     "duration": 6.346183,
     "end_time": "2021-10-24T18:16:38.170188",
     "exception": false,
     "start_time": "2021-10-24T18:16:31.824005",
     "status": "completed"
    },
    "tags": []
   },
   "outputs": [
    {
     "name": "stdout",
     "output_type": "stream",
     "text": [
      "Loaded libds_merged\n"
     ]
    }
   ],
   "source": [
    "# load objects into dict:\n",
    "f_cto_dir = 'ctos'\n",
    "key = 'libds_merged'\n",
    "cistopic_obj_dict = {}\n",
    "f_out = os.path.join(wdir, f_cto_dir, key + '__cistopic_obj.pkl')\n",
    "infile = open(f_out, 'rb')\n",
    "tmp_cto = pickle.load(infile)\n",
    "infile.close()\n",
    "cistopic_obj_dict[key] = tmp_cto\n",
    "print(f\"Loaded {key}\")"
   ]
  },
  {
   "cell_type": "code",
   "execution_count": 7,
   "id": "af20a9f9",
   "metadata": {
    "execution": {
     "iopub.execute_input": "2021-10-24T18:16:38.192516Z",
     "iopub.status.busy": "2021-10-24T18:16:38.192126Z",
     "iopub.status.idle": "2021-10-24T18:16:38.194860Z",
     "shell.execute_reply": "2021-10-24T18:16:38.194534Z"
    },
    "papermill": {
     "duration": 0.015463,
     "end_time": "2021-10-24T18:16:38.194947",
     "exception": false,
     "start_time": "2021-10-24T18:16:38.179484",
     "status": "completed"
    },
    "tags": []
   },
   "outputs": [
    {
     "data": {
      "text/plain": [
       "'/user/leuven/330/vsc33042/fderop/data/20211024_merged_analysis/ctos/libds_merged__cistopic_obj.pkl'"
      ]
     },
     "execution_count": 7,
     "metadata": {},
     "output_type": "execute_result"
    }
   ],
   "source": [
    "f_out"
   ]
  },
  {
   "cell_type": "markdown",
   "id": "dd4e62ac",
   "metadata": {
    "papermill": {
     "duration": 0.007462,
     "end_time": "2021-10-24T18:16:38.209888",
     "exception": false,
     "start_time": "2021-10-24T18:16:38.202426",
     "status": "completed"
    },
    "tags": []
   },
   "source": [
    "### Run models for quick visualize/clustering"
   ]
  },
  {
   "cell_type": "code",
   "execution_count": 8,
   "id": "899934a3",
   "metadata": {
    "execution": {
     "iopub.execute_input": "2021-10-24T18:16:38.229076Z",
     "iopub.status.busy": "2021-10-24T18:16:38.228694Z",
     "iopub.status.idle": "2021-10-24T18:16:38.230993Z",
     "shell.execute_reply": "2021-10-24T18:16:38.231301Z"
    },
    "papermill": {
     "duration": 0.014095,
     "end_time": "2021-10-24T18:16:38.231402",
     "exception": false,
     "start_time": "2021-10-24T18:16:38.217307",
     "status": "completed"
    },
    "tags": []
   },
   "outputs": [],
   "source": [
    "from pycisTopic.lda_models import run_cgs_models_mallet"
   ]
  },
  {
   "cell_type": "markdown",
   "id": "3ec34ef2",
   "metadata": {
    "papermill": {
     "duration": 0.007375,
     "end_time": "2021-10-24T18:16:38.246300",
     "exception": false,
     "start_time": "2021-10-24T18:16:38.238925",
     "status": "completed"
    },
    "tags": []
   },
   "source": [
    "#### mallet models"
   ]
  },
  {
   "cell_type": "code",
   "execution_count": 9,
   "id": "962fe015",
   "metadata": {
    "execution": {
     "iopub.execute_input": "2021-10-24T18:16:38.265498Z",
     "iopub.status.busy": "2021-10-24T18:16:38.265112Z",
     "iopub.status.idle": "2021-10-24T18:16:38.267937Z",
     "shell.execute_reply": "2021-10-24T18:16:38.268266Z"
    },
    "papermill": {
     "duration": 0.014623,
     "end_time": "2021-10-24T18:16:38.268367",
     "exception": false,
     "start_time": "2021-10-24T18:16:38.253744",
     "status": "completed"
    },
    "tags": []
   },
   "outputs": [],
   "source": [
    "# set the memory limit for mallet (1GB default is not enough)\n",
    "os.environ['MALLET_MEMORY'] = '100G'"
   ]
  },
  {
   "cell_type": "code",
   "execution_count": 10,
   "id": "00b7cff1",
   "metadata": {
    "execution": {
     "iopub.execute_input": "2021-10-24T18:16:38.287921Z",
     "iopub.status.busy": "2021-10-24T18:16:38.287538Z",
     "iopub.status.idle": "2021-10-24T18:16:38.290047Z",
     "shell.execute_reply": "2021-10-24T18:16:38.290359Z"
    },
    "papermill": {
     "duration": 0.014512,
     "end_time": "2021-10-24T18:16:38.290456",
     "exception": false,
     "start_time": "2021-10-24T18:16:38.275944",
     "status": "completed"
    },
    "tags": []
   },
   "outputs": [],
   "source": [
    "f_mod_dir = 'models__screen__mallet'\n",
    "if not os.path.exists(os.path.join(wdir, f_mod_dir)):\n",
    "    os.makedirs(os.path.join(wdir, f_mod_dir))\n",
    "\n",
    "n_topics = [50]\n",
    "n_iter = 200"
   ]
  },
  {
   "cell_type": "code",
   "execution_count": 11,
   "id": "0efe1ce0",
   "metadata": {
    "execution": {
     "iopub.execute_input": "2021-10-24T18:16:38.313465Z",
     "iopub.status.busy": "2021-10-24T18:16:38.313061Z",
     "iopub.status.idle": "2021-10-24T19:57:40.661834Z",
     "shell.execute_reply": "2021-10-24T19:57:40.662582Z"
    },
    "papermill": {
     "duration": 6062.364639,
     "end_time": "2021-10-24T19:57:40.662891",
     "exception": false,
     "start_time": "2021-10-24T18:16:38.298252",
     "status": "completed"
    },
    "tags": []
   },
   "outputs": [
    {
     "name": "stdout",
     "output_type": "stream",
     "text": [
      "Running libds_merged\n",
      "2021-10-24 20:16:38,311 cisTopic     INFO     Formatting input to corpus\n"
     ]
    },
    {
     "name": "stdout",
     "output_type": "stream",
     "text": [
      "2021-10-24 20:16:52,669 gensim.corpora.dictionary INFO     adding document #0 to Dictionary(0 unique tokens: [])\n"
     ]
    },
    {
     "name": "stdout",
     "output_type": "stream",
     "text": [
      "2021-10-24 20:18:10,361 gensim.corpora.dictionary INFO     adding document #10000 to Dictionary(0 unique tokens: [])\n"
     ]
    },
    {
     "name": "stdout",
     "output_type": "stream",
     "text": [
      "2021-10-24 20:19:34,436 gensim.corpora.dictionary INFO     adding document #20000 to Dictionary(0 unique tokens: [])\n"
     ]
    },
    {
     "name": "stdout",
     "output_type": "stream",
     "text": [
      "2021-10-24 20:21:08,026 gensim.corpora.dictionary INFO     adding document #30000 to Dictionary(0 unique tokens: [])\n"
     ]
    },
    {
     "name": "stdout",
     "output_type": "stream",
     "text": [
      "2021-10-24 20:22:05,912 gensim.corpora.dictionary INFO     adding document #40000 to Dictionary(0 unique tokens: [])\n"
     ]
    },
    {
     "name": "stdout",
     "output_type": "stream",
     "text": [
      "2021-10-24 20:22:31,229 gensim.corpora.dictionary INFO     built Dictionary(1767886 unique tokens: ['0', '1', '2', '3', '4']...) from 45235 documents (total 331600444 corpus positions)\n"
     ]
    },
    {
     "name": "stdout",
     "output_type": "stream",
     "text": [
      "2021-10-24 20:22:31,233 cisTopic     INFO     Running model with 50 topics\n"
     ]
    },
    {
     "name": "stdout",
     "output_type": "stream",
     "text": [
      "2021-10-24 20:22:31,294 LDAMalletWrapper INFO     Serializing temporary corpus to /tmp/libds_merged_malletcorpus.txt\n"
     ]
    },
    {
     "name": "stdout",
     "output_type": "stream",
     "text": [
      "2021-10-24 20:34:56,727 LDAMalletWrapper INFO     Converting temporary corpus to MALLET format with mallet import-file --preserve-case --keep-sequence --remove-stopwords --token-regex \"\\S+\" --input /tmp/libds_merged_malletcorpus.txt --output /tmp/libds_merged_malletcorpus.mallet\n"
     ]
    },
    {
     "name": "stdout",
     "output_type": "stream",
     "text": [
      "2021-10-24 20:38:12,726 LDAMalletWrapper INFO     Training MALLET LDA with mallet train-topics --input /tmp/libds_merged_malletcorpus.mallet --num-topics 50  --alpha 50 --beta 0.1 --optimize-interval 0 --num-threads 32 --output-state /tmp/libds_merged_mallet2b9fc5_state.mallet.gz --output-doc-topics /tmp/libds_merged_mallet2b9fc5_doctopics.txt --output-topic-keys /tmp/libds_merged_mallet2b9fc5_topickeys.txt --num-iterations 200 --inferencer-filename /tmp/libds_merged_mallet2b9fc5_inferencer.mallet --doc-topics-threshold 0.0  --random-seed 555\n"
     ]
    },
    {
     "name": "stdout",
     "output_type": "stream",
     "text": [
      "2021-10-24 21:41:46,239 LDAMalletWrapper INFO     loading assigned topics from /tmp/libds_merged_mallet2b9fc5_state.mallet.gz\n"
     ]
    },
    {
     "name": "stdout",
     "output_type": "stream",
     "text": [
      "2021-10-24 21:57:36,544 cisTopic     INFO     Model with 50 topics done!\n"
     ]
    },
    {
     "name": "stdout",
     "output_type": "stream",
     "text": [
      "Finished libds_merged\n"
     ]
    }
   ],
   "source": [
    "# mallet implementation\n",
    "models_dict = {}\n",
    "for key in ['libds_merged']:\n",
    "    f_mod = os.path.join(wdir, f_mod_dir, key + '__models_' + str(n_iter) + '_iter.pkl')\n",
    "    if os.path.isfile(f_mod):\n",
    "        print(f\"Loading {f_mod}\")\n",
    "        with open(f_mod, 'rb') as f:\n",
    "            models_dict[key] = pickle.load(f)\n",
    "    else:\n",
    "        print(f\"Running {key}\")\n",
    "        model = run_cgs_models_mallet(\n",
    "                            'mallet',\n",
    "                            cistopic_obj_dict[key],\n",
    "                            n_topics=n_topics,\n",
    "                            n_cpu=32,\n",
    "                            n_iter=n_iter,\n",
    "                            random_state=555,\n",
    "                            alpha=50,\n",
    "                            alpha_by_topic=True,\n",
    "                            eta=0.1,\n",
    "                            eta_by_topic=False,\n",
    "                            tmp_path=os.path.join('/tmp', key + '_mallet')\n",
    "                            )\n",
    "        # Save\n",
    "        with open(f_mod, 'wb') as f:\n",
    "            pickle.dump(model, f)\n",
    "        print(f\"Finished {key}\")\n",
    "        models_dict[key] = model"
   ]
  },
  {
   "cell_type": "code",
   "execution_count": null,
   "id": "8cdc38c7",
   "metadata": {
    "papermill": {
     "duration": 0.01744,
     "end_time": "2021-10-24T19:57:40.821439",
     "exception": false,
     "start_time": "2021-10-24T19:57:40.803999",
     "status": "completed"
    },
    "tags": []
   },
   "outputs": [],
   "source": []
  }
 ],
 "metadata": {
  "kernelspec": {
   "display_name": "pycisTopic_singularity_20210921",
   "language": "python",
   "name": "pycistopic_singularity"
  },
  "language_info": {
   "codemirror_mode": {
    "name": "ipython",
    "version": 3
   },
   "file_extension": ".py",
   "mimetype": "text/x-python",
   "name": "python",
   "nbconvert_exporter": "python",
   "pygments_lexer": "ipython3",
   "version": "3.8.6"
  },
  "papermill": {
   "default_parameters": {},
   "duration": 6076.519883,
   "end_time": "2021-10-24T19:57:43.377803",
   "environment_variables": {},
   "exception": null,
   "input_path": "2_run_models.ipynb",
   "output_path": "2_run_models.OUT.ipynb",
   "parameters": {},
   "start_time": "2021-10-24T18:16:26.857920",
   "version": "2.3.3"
  }
 },
 "nbformat": 4,
 "nbformat_minor": 5
}