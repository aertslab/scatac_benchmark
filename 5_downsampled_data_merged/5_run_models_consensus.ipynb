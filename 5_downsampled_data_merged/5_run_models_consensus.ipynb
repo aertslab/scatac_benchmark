{
 "cells": [
  {
   "cell_type": "code",
   "execution_count": 1,
   "id": "c9ef7d69",
   "metadata": {
    "execution": {
     "iopub.execute_input": "2021-10-28T08:24:39.196435Z",
     "iopub.status.busy": "2021-10-28T08:24:39.194773Z",
     "iopub.status.idle": "2021-10-28T08:24:39.225022Z",
     "shell.execute_reply": "2021-10-28T08:24:39.224132Z"
    },
    "papermill": {
     "duration": 0.057392,
     "end_time": "2021-10-28T08:24:39.225259",
     "exception": false,
     "start_time": "2021-10-28T08:24:39.167867",
     "status": "completed"
    },
    "tags": []
   },
   "outputs": [
    {
     "data": {
      "text/plain": [
       "'0.1.dev300+g7494158'"
      ]
     },
     "execution_count": 1,
     "metadata": {},
     "output_type": "execute_result"
    }
   ],
   "source": [
    "import pycisTopic\n",
    "pycisTopic.__version__"
   ]
  },
  {
   "cell_type": "code",
   "execution_count": 2,
   "id": "638f950f",
   "metadata": {
    "execution": {
     "iopub.execute_input": "2021-10-28T08:24:39.263929Z",
     "iopub.status.busy": "2021-10-28T08:24:39.263137Z",
     "iopub.status.idle": "2021-10-28T08:24:39.265756Z",
     "shell.execute_reply": "2021-10-28T08:24:39.267140Z"
    },
    "papermill": {
     "duration": 0.025976,
     "end_time": "2021-10-28T08:24:39.267337",
     "exception": false,
     "start_time": "2021-10-28T08:24:39.241361",
     "status": "completed"
    },
    "tags": []
   },
   "outputs": [],
   "source": [
    "import warnings\n",
    "warnings.filterwarnings('ignore')\n",
    "warnings.simplefilter('ignore') "
   ]
  },
  {
   "cell_type": "code",
   "execution_count": 3,
   "id": "5e01849b",
   "metadata": {
    "execution": {
     "iopub.execute_input": "2021-10-28T08:24:39.304803Z",
     "iopub.status.busy": "2021-10-28T08:24:39.304053Z",
     "iopub.status.idle": "2021-10-28T08:24:41.037897Z",
     "shell.execute_reply": "2021-10-28T08:24:41.037342Z"
    },
    "papermill": {
     "duration": 1.755815,
     "end_time": "2021-10-28T08:24:41.038511",
     "exception": false,
     "start_time": "2021-10-28T08:24:39.282696",
     "status": "completed"
    },
    "tags": []
   },
   "outputs": [],
   "source": [
    "import pickle\n",
    "import pandas as pd"
   ]
  },
  {
   "cell_type": "code",
   "execution_count": 4,
   "id": "ec9f197d",
   "metadata": {
    "execution": {
     "iopub.execute_input": "2021-10-28T08:24:41.067931Z",
     "iopub.status.busy": "2021-10-28T08:24:41.066700Z",
     "iopub.status.idle": "2021-10-28T08:24:41.072100Z",
     "shell.execute_reply": "2021-10-28T08:24:41.071542Z"
    },
    "papermill": {
     "duration": 0.022826,
     "end_time": "2021-10-28T08:24:41.072211",
     "exception": false,
     "start_time": "2021-10-28T08:24:41.049385",
     "status": "completed"
    },
    "tags": []
   },
   "outputs": [],
   "source": [
    "import os\n",
    "wdir = '/lustre1/project/stg_00002/lcb/fderop/data/20211024_hca_benchmark_libds_merged//'\n",
    "os.chdir( wdir )"
   ]
  },
  {
   "cell_type": "markdown",
   "id": "2753a7e6",
   "metadata": {
    "papermill": {
     "duration": 0.011099,
     "end_time": "2021-10-28T08:24:41.095517",
     "exception": false,
     "start_time": "2021-10-28T08:24:41.084418",
     "status": "completed"
    },
    "tags": []
   },
   "source": [
    "# read CTOs"
   ]
  },
  {
   "cell_type": "code",
   "execution_count": 5,
   "id": "8a973b94",
   "metadata": {
    "execution": {
     "iopub.execute_input": "2021-10-28T08:24:41.124265Z",
     "iopub.status.busy": "2021-10-28T08:24:41.123726Z",
     "iopub.status.idle": "2021-10-28T08:25:11.214202Z",
     "shell.execute_reply": "2021-10-28T08:25:11.214715Z"
    },
    "papermill": {
     "duration": 30.109442,
     "end_time": "2021-10-28T08:25:11.214916",
     "exception": false,
     "start_time": "2021-10-28T08:24:41.105474",
     "status": "completed"
    },
    "tags": []
   },
   "outputs": [
    {
     "name": "stdout",
     "output_type": "stream",
     "text": [
      "Loaded filtered cistopic object libds_merged\n"
     ]
    }
   ],
   "source": [
    "f_cto_dir = 'pycistopic_consensus_peaks/cistopic_objs__mergedconsensus/'\n",
    "\n",
    "cistopic_obj_dict = {}\n",
    "for key in ['libds_merged']:\n",
    "    f_cto = os.path.join(wdir, f_cto_dir, key + '__cistopic_obj_mergedconsensus_metadata_annotated.pkl')\n",
    "    if(os.path.isfile(f_cto)):\n",
    "        with open(f_cto, 'rb') as f:\n",
    "            cistopic_obj_dict[key] = pickle.load(f)\n",
    "        print(f\"Loaded filtered cistopic object {key}\")\n",
    "    else:\n",
    "        print(f\"file {f_cto} doesn't exist\")"
   ]
  },
  {
   "cell_type": "markdown",
   "id": "a0084f9d",
   "metadata": {
    "papermill": {
     "duration": 0.013774,
     "end_time": "2021-10-28T08:25:11.245321",
     "exception": false,
     "start_time": "2021-10-28T08:25:11.231547",
     "status": "completed"
    },
    "tags": []
   },
   "source": [
    "### Run models for quick visualize/clustering"
   ]
  },
  {
   "cell_type": "code",
   "execution_count": 6,
   "id": "69fc0d15",
   "metadata": {
    "execution": {
     "iopub.execute_input": "2021-10-28T08:25:11.286530Z",
     "iopub.status.busy": "2021-10-28T08:25:11.285165Z",
     "iopub.status.idle": "2021-10-28T08:25:11.287705Z",
     "shell.execute_reply": "2021-10-28T08:25:11.289790Z"
    },
    "papermill": {
     "duration": 0.029303,
     "end_time": "2021-10-28T08:25:11.289950",
     "exception": false,
     "start_time": "2021-10-28T08:25:11.260647",
     "status": "completed"
    },
    "tags": []
   },
   "outputs": [],
   "source": [
    "from pycisTopic.lda_models import run_cgs_models_mallet"
   ]
  },
  {
   "cell_type": "markdown",
   "id": "79d4d640",
   "metadata": {
    "papermill": {
     "duration": 0.013729,
     "end_time": "2021-10-28T08:25:11.317387",
     "exception": false,
     "start_time": "2021-10-28T08:25:11.303658",
     "status": "completed"
    },
    "tags": []
   },
   "source": [
    "#### mallet models"
   ]
  },
  {
   "cell_type": "code",
   "execution_count": 7,
   "id": "47470e7d",
   "metadata": {
    "execution": {
     "iopub.execute_input": "2021-10-28T08:25:11.357964Z",
     "iopub.status.busy": "2021-10-28T08:25:11.356731Z",
     "iopub.status.idle": "2021-10-28T08:25:11.361101Z",
     "shell.execute_reply": "2021-10-28T08:25:11.361727Z"
    },
    "papermill": {
     "duration": 0.028226,
     "end_time": "2021-10-28T08:25:11.361918",
     "exception": false,
     "start_time": "2021-10-28T08:25:11.333692",
     "status": "completed"
    },
    "tags": []
   },
   "outputs": [],
   "source": [
    "# set the memory limit for mallet (1GB default is not enough)\n",
    "os.environ['MALLET_MEMORY'] = '100G'"
   ]
  },
  {
   "cell_type": "code",
   "execution_count": 8,
   "id": "c143d136",
   "metadata": {
    "execution": {
     "iopub.execute_input": "2021-10-28T08:25:11.404833Z",
     "iopub.status.busy": "2021-10-28T08:25:11.403656Z",
     "iopub.status.idle": "2021-10-28T08:25:11.415920Z",
     "shell.execute_reply": "2021-10-28T08:25:11.417048Z"
    },
    "papermill": {
     "duration": 0.039234,
     "end_time": "2021-10-28T08:25:11.417292",
     "exception": false,
     "start_time": "2021-10-28T08:25:11.378058",
     "status": "completed"
    },
    "tags": []
   },
   "outputs": [],
   "source": [
    "f_mod_dir = 'pycistopic_consensus_peaks/models__consensus__mallet_alltopics'\n",
    "if not os.path.exists(os.path.join(wdir, f_mod_dir)):\n",
    "    os.makedirs(os.path.join(wdir, f_mod_dir))\n",
    "\n",
    "f_mod_tmpdir = '/scratch/leuven/330/vsc33042/tmp/mallet_cellds_merged'\n",
    "if not os.path.exists(f_mod_tmpdir):\n",
    "    os.makedirs(f_mod_tmpdir)\n",
    "\n",
    "save_path = '/scratch/leuven/330/vsc33042/tmp/mallet_cellds_merged/models'\n",
    "if not os.path.exists(os.path.join(save_path)):\n",
    "    os.makedirs(os.path.join(save_path))    \n",
    "    \n",
    "n_topics = n_topics = [2, 5, 10, 20, 30, 35, 40, 45, 50, 60, 70, 80, 90, 100]\n",
    "# n_topics_merged = [2, 5, 10, 20, 30, 35, 40, 45, 50, 60, 70, 80, 90, 100]\n",
    "n_iter = 500"
   ]
  },
  {
   "cell_type": "code",
   "execution_count": 9,
   "id": "1ab8f86e",
   "metadata": {
    "execution": {
     "iopub.execute_input": "2021-10-28T08:25:11.463801Z",
     "iopub.status.busy": "2021-10-28T08:25:11.462452Z",
     "iopub.status.idle": "2021-10-29T16:21:18.356041Z",
     "shell.execute_reply": "2021-10-29T16:21:18.355015Z"
    },
    "papermill": {
     "duration": 114966.924367,
     "end_time": "2021-10-29T16:21:18.356668",
     "exception": false,
     "start_time": "2021-10-28T08:25:11.432301",
     "status": "completed"
    },
    "tags": []
   },
   "outputs": [
    {
     "name": "stdout",
     "output_type": "stream",
     "text": [
      "Running libds_merged\n",
      "2021-10-28 10:25:11,462 cisTopic     INFO     Formatting input to corpus\n"
     ]
    },
    {
     "name": "stdout",
     "output_type": "stream",
     "text": [
      "2021-10-28 10:25:20,397 gensim.corpora.dictionary INFO     adding document #0 to Dictionary(0 unique tokens: [])\n"
     ]
    },
    {
     "name": "stdout",
     "output_type": "stream",
     "text": [
      "2021-10-28 10:26:12,519 gensim.corpora.dictionary INFO     adding document #10000 to Dictionary(0 unique tokens: [])\n"
     ]
    },
    {
     "name": "stdout",
     "output_type": "stream",
     "text": [
      "2021-10-28 10:27:07,425 gensim.corpora.dictionary INFO     adding document #20000 to Dictionary(0 unique tokens: [])\n"
     ]
    },
    {
     "name": "stdout",
     "output_type": "stream",
     "text": [
      "2021-10-28 10:28:06,627 gensim.corpora.dictionary INFO     adding document #30000 to Dictionary(0 unique tokens: [])\n"
     ]
    },
    {
     "name": "stdout",
     "output_type": "stream",
     "text": [
      "2021-10-28 10:28:49,449 gensim.corpora.dictionary INFO     adding document #40000 to Dictionary(0 unique tokens: [])\n"
     ]
    },
    {
     "name": "stdout",
     "output_type": "stream",
     "text": [
      "2021-10-28 10:29:04,207 gensim.corpora.dictionary INFO     built Dictionary(327468 unique tokens: ['0', '1', '2', '3', '4']...) from 45235 documents (total 253334090 corpus positions)\n"
     ]
    },
    {
     "name": "stdout",
     "output_type": "stream",
     "text": [
      "2021-10-28 10:29:04,210 cisTopic     INFO     Running model with 2 topics\n"
     ]
    },
    {
     "name": "stdout",
     "output_type": "stream",
     "text": [
      "2021-10-28 10:29:04,225 LDAMalletWrapper INFO     Serializing temporary corpus to /scratch/leuven/330/vsc33042/tmp/mallet_cellds_merged/libds_merged_corpus.txt\n"
     ]
    },
    {
     "name": "stdout",
     "output_type": "stream",
     "text": [
      "2021-10-28 10:40:21,383 LDAMalletWrapper INFO     Converting temporary corpus to MALLET format with mallet import-file --preserve-case --keep-sequence --remove-stopwords --token-regex \"\\S+\" --input /scratch/leuven/330/vsc33042/tmp/mallet_cellds_merged/libds_merged_corpus.txt --output /scratch/leuven/330/vsc33042/tmp/mallet_cellds_merged/libds_merged_corpus.mallet\n"
     ]
    },
    {
     "name": "stdout",
     "output_type": "stream",
     "text": [
      "2021-10-28 10:42:24,885 LDAMalletWrapper INFO     Training MALLET LDA with mallet train-topics --input /scratch/leuven/330/vsc33042/tmp/mallet_cellds_merged/libds_merged_corpus.mallet --num-topics 2  --alpha 50 --beta 0.1 --optimize-interval 0 --num-threads 24 --output-state /scratch/leuven/330/vsc33042/tmp/mallet_cellds_merged/libds_merged_56012f_state.mallet.gz --output-doc-topics /scratch/leuven/330/vsc33042/tmp/mallet_cellds_merged/libds_merged_56012f_doctopics.txt --output-topic-keys /scratch/leuven/330/vsc33042/tmp/mallet_cellds_merged/libds_merged_56012f_topickeys.txt --num-iterations 500 --inferencer-filename /scratch/leuven/330/vsc33042/tmp/mallet_cellds_merged/libds_merged_56012f_inferencer.mallet --doc-topics-threshold 0.0  --random-seed 555\n"
     ]
    },
    {
     "name": "stdout",
     "output_type": "stream",
     "text": [
      "2021-10-28 11:43:31,839 LDAMalletWrapper INFO     loading assigned topics from /scratch/leuven/330/vsc33042/tmp/mallet_cellds_merged/libds_merged_56012f_state.mallet.gz\n"
     ]
    },
    {
     "name": "stdout",
     "output_type": "stream",
     "text": [
      "2021-10-28 11:56:57,554 cisTopic     INFO     Model with 2 topics done!\n"
     ]
    },
    {
     "name": "stdout",
     "output_type": "stream",
     "text": [
      "2021-10-28 11:56:57,556 cisTopic     INFO     Saving model with 2 topics at /scratch/leuven/330/vsc33042/tmp/mallet_cellds_merged/models\n"
     ]
    },
    {
     "name": "stdout",
     "output_type": "stream",
     "text": [
      "2021-10-28 11:56:57,728 cisTopic     INFO     Running model with 5 topics\n"
     ]
    },
    {
     "name": "stdout",
     "output_type": "stream",
     "text": [
      "2021-10-28 11:56:57,746 LDAMalletWrapper INFO     MALLET corpus already exists, training model\n"
     ]
    },
    {
     "name": "stdout",
     "output_type": "stream",
     "text": [
      "2021-10-28 11:56:57,747 LDAMalletWrapper INFO     Training MALLET LDA with mallet train-topics --input /scratch/leuven/330/vsc33042/tmp/mallet_cellds_merged/libds_merged_corpus.mallet --num-topics 5  --alpha 50 --beta 0.1 --optimize-interval 0 --num-threads 24 --output-state /scratch/leuven/330/vsc33042/tmp/mallet_cellds_merged/libds_merged_b32565_state.mallet.gz --output-doc-topics /scratch/leuven/330/vsc33042/tmp/mallet_cellds_merged/libds_merged_b32565_doctopics.txt --output-topic-keys /scratch/leuven/330/vsc33042/tmp/mallet_cellds_merged/libds_merged_b32565_topickeys.txt --num-iterations 500 --inferencer-filename /scratch/leuven/330/vsc33042/tmp/mallet_cellds_merged/libds_merged_b32565_inferencer.mallet --doc-topics-threshold 0.0  --random-seed 555\n"
     ]
    },
    {
     "name": "stdout",
     "output_type": "stream",
     "text": [
      "2021-10-28 13:21:47,093 LDAMalletWrapper INFO     loading assigned topics from /scratch/leuven/330/vsc33042/tmp/mallet_cellds_merged/libds_merged_b32565_state.mallet.gz\n"
     ]
    },
    {
     "name": "stdout",
     "output_type": "stream",
     "text": [
      "2021-10-28 13:36:42,140 cisTopic     INFO     Model with 5 topics done!\n"
     ]
    },
    {
     "name": "stdout",
     "output_type": "stream",
     "text": [
      "2021-10-28 13:36:42,141 cisTopic     INFO     Saving model with 5 topics at /scratch/leuven/330/vsc33042/tmp/mallet_cellds_merged/models\n"
     ]
    },
    {
     "name": "stdout",
     "output_type": "stream",
     "text": [
      "2021-10-28 13:36:42,576 cisTopic     INFO     Running model with 10 topics\n"
     ]
    },
    {
     "name": "stdout",
     "output_type": "stream",
     "text": [
      "2021-10-28 13:36:42,594 LDAMalletWrapper INFO     MALLET corpus already exists, training model\n"
     ]
    },
    {
     "name": "stdout",
     "output_type": "stream",
     "text": [
      "2021-10-28 13:36:42,595 LDAMalletWrapper INFO     Training MALLET LDA with mallet train-topics --input /scratch/leuven/330/vsc33042/tmp/mallet_cellds_merged/libds_merged_corpus.mallet --num-topics 10  --alpha 50 --beta 0.1 --optimize-interval 0 --num-threads 24 --output-state /scratch/leuven/330/vsc33042/tmp/mallet_cellds_merged/libds_merged_c5ef80_state.mallet.gz --output-doc-topics /scratch/leuven/330/vsc33042/tmp/mallet_cellds_merged/libds_merged_c5ef80_doctopics.txt --output-topic-keys /scratch/leuven/330/vsc33042/tmp/mallet_cellds_merged/libds_merged_c5ef80_topickeys.txt --num-iterations 500 --inferencer-filename /scratch/leuven/330/vsc33042/tmp/mallet_cellds_merged/libds_merged_c5ef80_inferencer.mallet --doc-topics-threshold 0.0  --random-seed 555\n"
     ]
    },
    {
     "name": "stdout",
     "output_type": "stream",
     "text": [
      "2021-10-28 15:15:12,185 LDAMalletWrapper INFO     loading assigned topics from /scratch/leuven/330/vsc33042/tmp/mallet_cellds_merged/libds_merged_c5ef80_state.mallet.gz\n"
     ]
    },
    {
     "name": "stdout",
     "output_type": "stream",
     "text": [
      "2021-10-28 15:27:32,769 cisTopic     INFO     Model with 10 topics done!\n"
     ]
    },
    {
     "name": "stdout",
     "output_type": "stream",
     "text": [
      "2021-10-28 15:27:32,771 cisTopic     INFO     Saving model with 10 topics at /scratch/leuven/330/vsc33042/tmp/mallet_cellds_merged/models\n"
     ]
    },
    {
     "name": "stdout",
     "output_type": "stream",
     "text": [
      "2021-10-28 15:27:32,932 cisTopic     INFO     Running model with 20 topics\n"
     ]
    },
    {
     "name": "stdout",
     "output_type": "stream",
     "text": [
      "2021-10-28 15:27:32,950 LDAMalletWrapper INFO     MALLET corpus already exists, training model\n"
     ]
    },
    {
     "name": "stdout",
     "output_type": "stream",
     "text": [
      "2021-10-28 15:27:32,951 LDAMalletWrapper INFO     Training MALLET LDA with mallet train-topics --input /scratch/leuven/330/vsc33042/tmp/mallet_cellds_merged/libds_merged_corpus.mallet --num-topics 20  --alpha 50 --beta 0.1 --optimize-interval 0 --num-threads 24 --output-state /scratch/leuven/330/vsc33042/tmp/mallet_cellds_merged/libds_merged_cad7d3_state.mallet.gz --output-doc-topics /scratch/leuven/330/vsc33042/tmp/mallet_cellds_merged/libds_merged_cad7d3_doctopics.txt --output-topic-keys /scratch/leuven/330/vsc33042/tmp/mallet_cellds_merged/libds_merged_cad7d3_topickeys.txt --num-iterations 500 --inferencer-filename /scratch/leuven/330/vsc33042/tmp/mallet_cellds_merged/libds_merged_cad7d3_inferencer.mallet --doc-topics-threshold 0.0  --random-seed 555\n"
     ]
    },
    {
     "name": "stdout",
     "output_type": "stream",
     "text": [
      "2021-10-28 18:22:56,155 LDAMalletWrapper INFO     loading assigned topics from /scratch/leuven/330/vsc33042/tmp/mallet_cellds_merged/libds_merged_cad7d3_state.mallet.gz\n"
     ]
    },
    {
     "name": "stdout",
     "output_type": "stream",
     "text": [
      "2021-10-28 19:08:58,535 cisTopic     INFO     Model with 20 topics done!\n"
     ]
    },
    {
     "name": "stdout",
     "output_type": "stream",
     "text": [
      "2021-10-28 19:08:58,537 cisTopic     INFO     Saving model with 20 topics at /scratch/leuven/330/vsc33042/tmp/mallet_cellds_merged/models\n"
     ]
    },
    {
     "name": "stdout",
     "output_type": "stream",
     "text": [
      "2021-10-28 19:08:59,241 cisTopic     INFO     Running model with 30 topics\n"
     ]
    },
    {
     "name": "stdout",
     "output_type": "stream",
     "text": [
      "2021-10-28 19:08:59,374 LDAMalletWrapper INFO     MALLET corpus already exists, training model\n"
     ]
    },
    {
     "name": "stdout",
     "output_type": "stream",
     "text": [
      "2021-10-28 19:08:59,375 LDAMalletWrapper INFO     Training MALLET LDA with mallet train-topics --input /scratch/leuven/330/vsc33042/tmp/mallet_cellds_merged/libds_merged_corpus.mallet --num-topics 30  --alpha 50 --beta 0.1 --optimize-interval 0 --num-threads 24 --output-state /scratch/leuven/330/vsc33042/tmp/mallet_cellds_merged/libds_merged_50f127_state.mallet.gz --output-doc-topics /scratch/leuven/330/vsc33042/tmp/mallet_cellds_merged/libds_merged_50f127_doctopics.txt --output-topic-keys /scratch/leuven/330/vsc33042/tmp/mallet_cellds_merged/libds_merged_50f127_topickeys.txt --num-iterations 500 --inferencer-filename /scratch/leuven/330/vsc33042/tmp/mallet_cellds_merged/libds_merged_50f127_inferencer.mallet --doc-topics-threshold 0.0  --random-seed 555\n"
     ]
    },
    {
     "name": "stdout",
     "output_type": "stream",
     "text": [
      "2021-10-28 21:01:12,182 LDAMalletWrapper INFO     loading assigned topics from /scratch/leuven/330/vsc33042/tmp/mallet_cellds_merged/libds_merged_50f127_state.mallet.gz\n"
     ]
    },
    {
     "name": "stdout",
     "output_type": "stream",
     "text": [
      "2021-10-28 21:14:09,226 cisTopic     INFO     Model with 30 topics done!\n"
     ]
    },
    {
     "name": "stdout",
     "output_type": "stream",
     "text": [
      "2021-10-28 21:14:09,227 cisTopic     INFO     Saving model with 30 topics at /scratch/leuven/330/vsc33042/tmp/mallet_cellds_merged/models\n"
     ]
    },
    {
     "name": "stdout",
     "output_type": "stream",
     "text": [
      "2021-10-28 21:14:09,495 cisTopic     INFO     Running model with 35 topics\n"
     ]
    },
    {
     "name": "stdout",
     "output_type": "stream",
     "text": [
      "2021-10-28 21:14:09,513 LDAMalletWrapper INFO     MALLET corpus already exists, training model\n"
     ]
    },
    {
     "name": "stdout",
     "output_type": "stream",
     "text": [
      "2021-10-28 21:14:09,514 LDAMalletWrapper INFO     Training MALLET LDA with mallet train-topics --input /scratch/leuven/330/vsc33042/tmp/mallet_cellds_merged/libds_merged_corpus.mallet --num-topics 35  --alpha 50 --beta 0.1 --optimize-interval 0 --num-threads 24 --output-state /scratch/leuven/330/vsc33042/tmp/mallet_cellds_merged/libds_merged_f01093_state.mallet.gz --output-doc-topics /scratch/leuven/330/vsc33042/tmp/mallet_cellds_merged/libds_merged_f01093_doctopics.txt --output-topic-keys /scratch/leuven/330/vsc33042/tmp/mallet_cellds_merged/libds_merged_f01093_topickeys.txt --num-iterations 500 --inferencer-filename /scratch/leuven/330/vsc33042/tmp/mallet_cellds_merged/libds_merged_f01093_inferencer.mallet --doc-topics-threshold 0.0  --random-seed 555\n"
     ]
    },
    {
     "name": "stdout",
     "output_type": "stream",
     "text": [
      "2021-10-28 23:01:54,661 LDAMalletWrapper INFO     loading assigned topics from /scratch/leuven/330/vsc33042/tmp/mallet_cellds_merged/libds_merged_f01093_state.mallet.gz\n"
     ]
    },
    {
     "name": "stdout",
     "output_type": "stream",
     "text": [
      "2021-10-28 23:15:29,772 cisTopic     INFO     Model with 35 topics done!\n"
     ]
    },
    {
     "name": "stdout",
     "output_type": "stream",
     "text": [
      "2021-10-28 23:15:29,773 cisTopic     INFO     Saving model with 35 topics at /scratch/leuven/330/vsc33042/tmp/mallet_cellds_merged/models\n"
     ]
    },
    {
     "name": "stdout",
     "output_type": "stream",
     "text": [
      "2021-10-28 23:15:30,148 cisTopic     INFO     Running model with 40 topics\n"
     ]
    },
    {
     "name": "stdout",
     "output_type": "stream",
     "text": [
      "2021-10-28 23:15:30,167 LDAMalletWrapper INFO     MALLET corpus already exists, training model\n"
     ]
    },
    {
     "name": "stdout",
     "output_type": "stream",
     "text": [
      "2021-10-28 23:15:30,168 LDAMalletWrapper INFO     Training MALLET LDA with mallet train-topics --input /scratch/leuven/330/vsc33042/tmp/mallet_cellds_merged/libds_merged_corpus.mallet --num-topics 40  --alpha 50 --beta 0.1 --optimize-interval 0 --num-threads 24 --output-state /scratch/leuven/330/vsc33042/tmp/mallet_cellds_merged/libds_merged_3d4edc_state.mallet.gz --output-doc-topics /scratch/leuven/330/vsc33042/tmp/mallet_cellds_merged/libds_merged_3d4edc_doctopics.txt --output-topic-keys /scratch/leuven/330/vsc33042/tmp/mallet_cellds_merged/libds_merged_3d4edc_topickeys.txt --num-iterations 500 --inferencer-filename /scratch/leuven/330/vsc33042/tmp/mallet_cellds_merged/libds_merged_3d4edc_inferencer.mallet --doc-topics-threshold 0.0  --random-seed 555\n"
     ]
    },
    {
     "name": "stdout",
     "output_type": "stream",
     "text": [
      "2021-10-29 01:06:30,410 LDAMalletWrapper INFO     loading assigned topics from /scratch/leuven/330/vsc33042/tmp/mallet_cellds_merged/libds_merged_3d4edc_state.mallet.gz\n"
     ]
    },
    {
     "name": "stdout",
     "output_type": "stream",
     "text": [
      "2021-10-29 01:19:50,287 cisTopic     INFO     Model with 40 topics done!\n"
     ]
    },
    {
     "name": "stdout",
     "output_type": "stream",
     "text": [
      "2021-10-29 01:19:50,288 cisTopic     INFO     Saving model with 40 topics at /scratch/leuven/330/vsc33042/tmp/mallet_cellds_merged/models\n"
     ]
    },
    {
     "name": "stdout",
     "output_type": "stream",
     "text": [
      "2021-10-29 01:19:50,719 cisTopic     INFO     Running model with 45 topics\n"
     ]
    },
    {
     "name": "stdout",
     "output_type": "stream",
     "text": [
      "2021-10-29 01:19:50,740 LDAMalletWrapper INFO     MALLET corpus already exists, training model\n"
     ]
    },
    {
     "name": "stdout",
     "output_type": "stream",
     "text": [
      "2021-10-29 01:19:50,741 LDAMalletWrapper INFO     Training MALLET LDA with mallet train-topics --input /scratch/leuven/330/vsc33042/tmp/mallet_cellds_merged/libds_merged_corpus.mallet --num-topics 45  --alpha 50 --beta 0.1 --optimize-interval 0 --num-threads 24 --output-state /scratch/leuven/330/vsc33042/tmp/mallet_cellds_merged/libds_merged_979fd3_state.mallet.gz --output-doc-topics /scratch/leuven/330/vsc33042/tmp/mallet_cellds_merged/libds_merged_979fd3_doctopics.txt --output-topic-keys /scratch/leuven/330/vsc33042/tmp/mallet_cellds_merged/libds_merged_979fd3_topickeys.txt --num-iterations 500 --inferencer-filename /scratch/leuven/330/vsc33042/tmp/mallet_cellds_merged/libds_merged_979fd3_inferencer.mallet --doc-topics-threshold 0.0  --random-seed 555\n"
     ]
    },
    {
     "name": "stdout",
     "output_type": "stream",
     "text": [
      "2021-10-29 03:06:15,526 LDAMalletWrapper INFO     loading assigned topics from /scratch/leuven/330/vsc33042/tmp/mallet_cellds_merged/libds_merged_979fd3_state.mallet.gz\n"
     ]
    },
    {
     "name": "stdout",
     "output_type": "stream",
     "text": [
      "2021-10-29 03:19:15,178 cisTopic     INFO     Model with 45 topics done!\n"
     ]
    },
    {
     "name": "stdout",
     "output_type": "stream",
     "text": [
      "2021-10-29 03:19:15,180 cisTopic     INFO     Saving model with 45 topics at /scratch/leuven/330/vsc33042/tmp/mallet_cellds_merged/models\n"
     ]
    },
    {
     "name": "stdout",
     "output_type": "stream",
     "text": [
      "2021-10-29 03:19:15,606 cisTopic     INFO     Running model with 50 topics\n"
     ]
    },
    {
     "name": "stdout",
     "output_type": "stream",
     "text": [
      "2021-10-29 03:19:15,627 LDAMalletWrapper INFO     MALLET corpus already exists, training model\n"
     ]
    },
    {
     "name": "stdout",
     "output_type": "stream",
     "text": [
      "2021-10-29 03:19:15,628 LDAMalletWrapper INFO     Training MALLET LDA with mallet train-topics --input /scratch/leuven/330/vsc33042/tmp/mallet_cellds_merged/libds_merged_corpus.mallet --num-topics 50  --alpha 50 --beta 0.1 --optimize-interval 0 --num-threads 24 --output-state /scratch/leuven/330/vsc33042/tmp/mallet_cellds_merged/libds_merged_a5d273_state.mallet.gz --output-doc-topics /scratch/leuven/330/vsc33042/tmp/mallet_cellds_merged/libds_merged_a5d273_doctopics.txt --output-topic-keys /scratch/leuven/330/vsc33042/tmp/mallet_cellds_merged/libds_merged_a5d273_topickeys.txt --num-iterations 500 --inferencer-filename /scratch/leuven/330/vsc33042/tmp/mallet_cellds_merged/libds_merged_a5d273_inferencer.mallet --doc-topics-threshold 0.0  --random-seed 555\n"
     ]
    },
    {
     "name": "stdout",
     "output_type": "stream",
     "text": [
      "2021-10-29 05:18:49,715 LDAMalletWrapper INFO     loading assigned topics from /scratch/leuven/330/vsc33042/tmp/mallet_cellds_merged/libds_merged_a5d273_state.mallet.gz\n"
     ]
    },
    {
     "name": "stdout",
     "output_type": "stream",
     "text": [
      "2021-10-29 05:31:53,220 cisTopic     INFO     Model with 50 topics done!\n"
     ]
    },
    {
     "name": "stdout",
     "output_type": "stream",
     "text": [
      "2021-10-29 05:31:53,222 cisTopic     INFO     Saving model with 50 topics at /scratch/leuven/330/vsc33042/tmp/mallet_cellds_merged/models\n"
     ]
    },
    {
     "name": "stdout",
     "output_type": "stream",
     "text": [
      "2021-10-29 05:31:53,659 cisTopic     INFO     Running model with 60 topics\n"
     ]
    },
    {
     "name": "stdout",
     "output_type": "stream",
     "text": [
      "2021-10-29 05:31:53,682 LDAMalletWrapper INFO     MALLET corpus already exists, training model\n"
     ]
    },
    {
     "name": "stdout",
     "output_type": "stream",
     "text": [
      "2021-10-29 05:31:53,683 LDAMalletWrapper INFO     Training MALLET LDA with mallet train-topics --input /scratch/leuven/330/vsc33042/tmp/mallet_cellds_merged/libds_merged_corpus.mallet --num-topics 60  --alpha 50 --beta 0.1 --optimize-interval 0 --num-threads 24 --output-state /scratch/leuven/330/vsc33042/tmp/mallet_cellds_merged/libds_merged_4d2b19_state.mallet.gz --output-doc-topics /scratch/leuven/330/vsc33042/tmp/mallet_cellds_merged/libds_merged_4d2b19_doctopics.txt --output-topic-keys /scratch/leuven/330/vsc33042/tmp/mallet_cellds_merged/libds_merged_4d2b19_topickeys.txt --num-iterations 500 --inferencer-filename /scratch/leuven/330/vsc33042/tmp/mallet_cellds_merged/libds_merged_4d2b19_inferencer.mallet --doc-topics-threshold 0.0  --random-seed 555\n"
     ]
    },
    {
     "name": "stdout",
     "output_type": "stream",
     "text": [
      "2021-10-29 07:25:03,259 LDAMalletWrapper INFO     loading assigned topics from /scratch/leuven/330/vsc33042/tmp/mallet_cellds_merged/libds_merged_4d2b19_state.mallet.gz\n"
     ]
    },
    {
     "name": "stdout",
     "output_type": "stream",
     "text": [
      "2021-10-29 07:38:57,322 cisTopic     INFO     Model with 60 topics done!\n"
     ]
    },
    {
     "name": "stdout",
     "output_type": "stream",
     "text": [
      "2021-10-29 07:38:57,324 cisTopic     INFO     Saving model with 60 topics at /scratch/leuven/330/vsc33042/tmp/mallet_cellds_merged/models\n"
     ]
    },
    {
     "name": "stdout",
     "output_type": "stream",
     "text": [
      "2021-10-29 07:38:57,722 cisTopic     INFO     Running model with 70 topics\n"
     ]
    },
    {
     "name": "stdout",
     "output_type": "stream",
     "text": [
      "2021-10-29 07:38:57,740 LDAMalletWrapper INFO     MALLET corpus already exists, training model\n"
     ]
    },
    {
     "name": "stdout",
     "output_type": "stream",
     "text": [
      "2021-10-29 07:38:57,741 LDAMalletWrapper INFO     Training MALLET LDA with mallet train-topics --input /scratch/leuven/330/vsc33042/tmp/mallet_cellds_merged/libds_merged_corpus.mallet --num-topics 70  --alpha 50 --beta 0.1 --optimize-interval 0 --num-threads 24 --output-state /scratch/leuven/330/vsc33042/tmp/mallet_cellds_merged/libds_merged_636d07_state.mallet.gz --output-doc-topics /scratch/leuven/330/vsc33042/tmp/mallet_cellds_merged/libds_merged_636d07_doctopics.txt --output-topic-keys /scratch/leuven/330/vsc33042/tmp/mallet_cellds_merged/libds_merged_636d07_topickeys.txt --num-iterations 500 --inferencer-filename /scratch/leuven/330/vsc33042/tmp/mallet_cellds_merged/libds_merged_636d07_inferencer.mallet --doc-topics-threshold 0.0  --random-seed 555\n"
     ]
    },
    {
     "name": "stdout",
     "output_type": "stream",
     "text": [
      "2021-10-29 10:10:29,457 LDAMalletWrapper INFO     loading assigned topics from /scratch/leuven/330/vsc33042/tmp/mallet_cellds_merged/libds_merged_636d07_state.mallet.gz\n"
     ]
    },
    {
     "name": "stdout",
     "output_type": "stream",
     "text": [
      "2021-10-29 10:23:48,021 cisTopic     INFO     Model with 70 topics done!\n"
     ]
    },
    {
     "name": "stdout",
     "output_type": "stream",
     "text": [
      "2021-10-29 10:23:48,022 cisTopic     INFO     Saving model with 70 topics at /scratch/leuven/330/vsc33042/tmp/mallet_cellds_merged/models\n"
     ]
    },
    {
     "name": "stdout",
     "output_type": "stream",
     "text": [
      "2021-10-29 10:23:48,450 cisTopic     INFO     Running model with 80 topics\n"
     ]
    },
    {
     "name": "stdout",
     "output_type": "stream",
     "text": [
      "2021-10-29 10:23:48,469 LDAMalletWrapper INFO     MALLET corpus already exists, training model\n"
     ]
    },
    {
     "name": "stdout",
     "output_type": "stream",
     "text": [
      "2021-10-29 10:23:48,470 LDAMalletWrapper INFO     Training MALLET LDA with mallet train-topics --input /scratch/leuven/330/vsc33042/tmp/mallet_cellds_merged/libds_merged_corpus.mallet --num-topics 80  --alpha 50 --beta 0.1 --optimize-interval 0 --num-threads 24 --output-state /scratch/leuven/330/vsc33042/tmp/mallet_cellds_merged/libds_merged_502bdd_state.mallet.gz --output-doc-topics /scratch/leuven/330/vsc33042/tmp/mallet_cellds_merged/libds_merged_502bdd_doctopics.txt --output-topic-keys /scratch/leuven/330/vsc33042/tmp/mallet_cellds_merged/libds_merged_502bdd_topickeys.txt --num-iterations 500 --inferencer-filename /scratch/leuven/330/vsc33042/tmp/mallet_cellds_merged/libds_merged_502bdd_inferencer.mallet --doc-topics-threshold 0.0  --random-seed 555\n"
     ]
    },
    {
     "name": "stdout",
     "output_type": "stream",
     "text": [
      "2021-10-29 12:50:12,794 LDAMalletWrapper INFO     loading assigned topics from /scratch/leuven/330/vsc33042/tmp/mallet_cellds_merged/libds_merged_502bdd_state.mallet.gz\n"
     ]
    },
    {
     "name": "stdout",
     "output_type": "stream",
     "text": [
      "2021-10-29 13:03:37,081 cisTopic     INFO     Model with 80 topics done!\n"
     ]
    },
    {
     "name": "stdout",
     "output_type": "stream",
     "text": [
      "2021-10-29 13:03:37,082 cisTopic     INFO     Saving model with 80 topics at /scratch/leuven/330/vsc33042/tmp/mallet_cellds_merged/models\n"
     ]
    },
    {
     "name": "stdout",
     "output_type": "stream",
     "text": [
      "2021-10-29 13:03:37,552 cisTopic     INFO     Running model with 90 topics\n"
     ]
    },
    {
     "name": "stdout",
     "output_type": "stream",
     "text": [
      "2021-10-29 13:03:37,571 LDAMalletWrapper INFO     MALLET corpus already exists, training model\n"
     ]
    },
    {
     "name": "stdout",
     "output_type": "stream",
     "text": [
      "2021-10-29 13:03:37,572 LDAMalletWrapper INFO     Training MALLET LDA with mallet train-topics --input /scratch/leuven/330/vsc33042/tmp/mallet_cellds_merged/libds_merged_corpus.mallet --num-topics 90  --alpha 50 --beta 0.1 --optimize-interval 0 --num-threads 24 --output-state /scratch/leuven/330/vsc33042/tmp/mallet_cellds_merged/libds_merged_d448d9_state.mallet.gz --output-doc-topics /scratch/leuven/330/vsc33042/tmp/mallet_cellds_merged/libds_merged_d448d9_doctopics.txt --output-topic-keys /scratch/leuven/330/vsc33042/tmp/mallet_cellds_merged/libds_merged_d448d9_topickeys.txt --num-iterations 500 --inferencer-filename /scratch/leuven/330/vsc33042/tmp/mallet_cellds_merged/libds_merged_d448d9_inferencer.mallet --doc-topics-threshold 0.0  --random-seed 555\n"
     ]
    },
    {
     "name": "stdout",
     "output_type": "stream",
     "text": [
      "2021-10-29 15:36:00,927 LDAMalletWrapper INFO     loading assigned topics from /scratch/leuven/330/vsc33042/tmp/mallet_cellds_merged/libds_merged_d448d9_state.mallet.gz\n"
     ]
    },
    {
     "name": "stdout",
     "output_type": "stream",
     "text": [
      "2021-10-29 15:50:49,298 cisTopic     INFO     Model with 90 topics done!\n"
     ]
    },
    {
     "name": "stdout",
     "output_type": "stream",
     "text": [
      "2021-10-29 15:50:49,299 cisTopic     INFO     Saving model with 90 topics at /scratch/leuven/330/vsc33042/tmp/mallet_cellds_merged/models\n"
     ]
    },
    {
     "name": "stdout",
     "output_type": "stream",
     "text": [
      "2021-10-29 15:50:49,831 cisTopic     INFO     Running model with 100 topics\n"
     ]
    },
    {
     "name": "stdout",
     "output_type": "stream",
     "text": [
      "2021-10-29 15:50:49,850 LDAMalletWrapper INFO     MALLET corpus already exists, training model\n"
     ]
    },
    {
     "name": "stdout",
     "output_type": "stream",
     "text": [
      "2021-10-29 15:50:49,851 LDAMalletWrapper INFO     Training MALLET LDA with mallet train-topics --input /scratch/leuven/330/vsc33042/tmp/mallet_cellds_merged/libds_merged_corpus.mallet --num-topics 100  --alpha 50 --beta 0.1 --optimize-interval 0 --num-threads 24 --output-state /scratch/leuven/330/vsc33042/tmp/mallet_cellds_merged/libds_merged_11fe11_state.mallet.gz --output-doc-topics /scratch/leuven/330/vsc33042/tmp/mallet_cellds_merged/libds_merged_11fe11_doctopics.txt --output-topic-keys /scratch/leuven/330/vsc33042/tmp/mallet_cellds_merged/libds_merged_11fe11_topickeys.txt --num-iterations 500 --inferencer-filename /scratch/leuven/330/vsc33042/tmp/mallet_cellds_merged/libds_merged_11fe11_inferencer.mallet --doc-topics-threshold 0.0  --random-seed 555\n"
     ]
    },
    {
     "name": "stdout",
     "output_type": "stream",
     "text": [
      "2021-10-29 18:07:37,526 LDAMalletWrapper INFO     loading assigned topics from /scratch/leuven/330/vsc33042/tmp/mallet_cellds_merged/libds_merged_11fe11_state.mallet.gz\n"
     ]
    },
    {
     "name": "stdout",
     "output_type": "stream",
     "text": [
      "2021-10-29 18:21:13,707 cisTopic     INFO     Model with 100 topics done!\n"
     ]
    },
    {
     "name": "stdout",
     "output_type": "stream",
     "text": [
      "2021-10-29 18:21:13,708 cisTopic     INFO     Saving model with 100 topics at /scratch/leuven/330/vsc33042/tmp/mallet_cellds_merged/models\n"
     ]
    },
    {
     "name": "stdout",
     "output_type": "stream",
     "text": [
      "Finished libds_merged\n"
     ]
    }
   ],
   "source": [
    "# mallet implementation\n",
    "models_dict = {}\n",
    "for key in ['libds_merged']:\n",
    "    f_mod = os.path.join(wdir, f_mod_dir, key + '__models_' + str(n_iter) + '_iter.pkl')\n",
    "    if os.path.isfile(f_mod):\n",
    "        print(f\"Loading {f_mod}\")\n",
    "        with open(f_mod, 'rb') as f:\n",
    "            models_dict[key] = pickle.load(f)\n",
    "    else:\n",
    "        print(f\"Running {key}\")\n",
    "        model = run_cgs_models_mallet(\n",
    "                            'mallet',\n",
    "                            cistopic_obj_dict[key],\n",
    "                            n_topics=n_topics_merged if key=='merged' else n_topics ,\n",
    "                            n_cpu=24,\n",
    "                            n_iter=n_iter,\n",
    "                            random_state=555,\n",
    "                            alpha=50,\n",
    "                            alpha_by_topic=True,\n",
    "                            eta=0.1,\n",
    "                            save_path=save_path,\n",
    "                            eta_by_topic=False,\n",
    "                            tmp_path=os.path.join(f_mod_tmpdir, key + '_')\n",
    "                            )\n",
    "        # Save\n",
    "        with open(f_mod, 'wb') as f:\n",
    "            pickle.dump(model, f)\n",
    "        print(f\"Finished {key}\")\n",
    "        models_dict[key] = model"
   ]
  },
  {
   "cell_type": "code",
   "execution_count": null,
   "id": "0e57f23c",
   "metadata": {
    "papermill": {
     "duration": 0.045842,
     "end_time": "2021-10-29T16:21:18.557419",
     "exception": false,
     "start_time": "2021-10-29T16:21:18.511577",
     "status": "completed"
    },
    "tags": []
   },
   "outputs": [],
   "source": []
  }
 ],
 "metadata": {
  "kernelspec": {
   "display_name": "pycisTopic_singularity_20210921",
   "language": "python",
   "name": "pycistopic_singularity"
  },
  "language_info": {
   "codemirror_mode": {
    "name": "ipython",
    "version": 3
   },
   "file_extension": ".py",
   "mimetype": "text/x-python",
   "name": "python",
   "nbconvert_exporter": "python",
   "pygments_lexer": "ipython3",
   "version": "3.8.6"
  },
  "papermill": {
   "default_parameters": {},
   "duration": 115013.567546,
   "end_time": "2021-10-29T16:21:22.837520",
   "environment_variables": {},
   "exception": null,
   "input_path": "5_run_models_consensus.ipynb",
   "output_path": "5_run_models_consensus.OUT.ipynb",
   "parameters": {},
   "start_time": "2021-10-28T08:24:29.269974",
   "version": "2.3.3"
  }
 },
 "nbformat": 4,
 "nbformat_minor": 5
}