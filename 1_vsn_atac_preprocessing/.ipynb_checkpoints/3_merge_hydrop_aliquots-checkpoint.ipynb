{
 "cells": [
  {
   "cell_type": "markdown",
   "metadata": {},
   "source": [
    "HyDrop produces a steady stream of cell/bead emulsion. The user can pick the volume of emulsion for droplet PCR and downstream processing. A large emulsion volume will lead to fewer steps downstream, and thus less work to do. However, if the number of cells is too high relative to the barcode complexity (total number of barcodes available to index cells), the odds of barcode collisions (two different cells receiving the same barcode by chance) increases according to a poisson distribution.  \n",
    "\n",
    "For each replicate, we created an emulsion containing the equivalent of 3000 recovered cells. We split each of this emulsion into two parts, and indexed them separately to avoid these barcode collisions. We do this only with the 384x384 version of hydrop, as the barcode complexity is only ~140k compared to the 96x96x96 complexity of ~880k.\n",
    "\n",
    "These 4 aliquots are manifested as such:\n",
    "\n",
    "```\n",
    "fragments_mm/HYA__24010b__20210813_384_PBMC_11_S9.sinto.mm.fragments.tsv\n",
    "fragments_mm/HYA__2beafa__20210813_384_PBMC_12_S10.sinto.mm.fragments.tsv\n",
    "fragments_mm/HYA__3d6da9__20210813_384_PBMC_21_S11.sinto.mm.fragments.tsv\n",
    "fragments_mm/HYA__5028cb__20210813_384_PBMC_22_S12.sinto.mm.fragments.tsv\n",
    "```\n",
    "These aliquot fragments files each bear a number denoting replicate-aliquot. e.g. `HYA__3d6da9__20210813_384_PBMC_21_S11` corresponds to aliquot 1 from replicate 2. It is clear that the two fragments file originating from the same emulsion can be merged into a single fragments file. In order to do this however, we must append the aliquot number to each aliquot's barcodes. If we did not do this, then we would not be able to distinguish different cells which by chance were indexed with the same barcode, but in different aliquots. This is done below."
   ]
  },
  {
   "cell_type": "markdown",
   "metadata": {},
   "source": [
    "# Merge fragments per-sample and append samplename"
   ]
  },
  {
   "cell_type": "markdown",
   "metadata": {},
   "source": [
    "We continue with the `bam_postbap/` and `fragments_mm` dirs generated in notebook 1"
   ]
  },
  {
   "cell_type": "code",
   "execution_count": null,
   "metadata": {},
   "outputs": [],
   "source": [
    "gunzip fragments_mm/*.tsv.gz"
   ]
  },
  {
   "cell_type": "code",
   "execution_count": 2,
   "metadata": {},
   "outputs": [
    {
     "name": "stdout",
     "output_type": "stream",
     "text": [
      "fragments_mm/HYA__24010b__20210813_384_PBMC_11_S9.sinto.mm.fragments.tsv\n",
      "fragments_mm/HYA__2beafa__20210813_384_PBMC_12_S10.sinto.mm.fragments.tsv\n",
      "fragments_mm/HYA__3d6da9__20210813_384_PBMC_21_S11.sinto.mm.fragments.tsv\n",
      "fragments_mm/HYA__5028cb__20210813_384_PBMC_22_S12.sinto.mm.fragments.tsv\n"
     ]
    }
   ],
   "source": [
    "ls fragments_mm/*.tsv"
   ]
  },
  {
   "cell_type": "code",
   "execution_count": 3,
   "metadata": {},
   "outputs": [],
   "source": [
    "module load mawk"
   ]
  },
  {
   "cell_type": "markdown",
   "metadata": {},
   "source": [
    "Then, for each aliquot, add a unique identifier to each fragments file barcode which denotes the sample and aliquot origin."
   ]
  },
  {
   "cell_type": "code",
   "execution_count": 10,
   "metadata": {},
   "outputs": [],
   "source": [
    "frags=fragments_mm/HYA__5028cb__20210813_384_PBMC_22_S12.sinto.mm.fragments.tsv\n",
    "newname=${frags%.tsv}.ID.tsv\n",
    "mawk '{ print $1 \"\\t\" $2 \"\\t\" $3 \"\\t\" $4 \"-22\\t\" $5}' $frags > $newname"
   ]
  },
  {
   "cell_type": "code",
   "execution_count": 11,
   "metadata": {},
   "outputs": [
    {
     "name": "stdout",
     "output_type": "stream",
     "text": [
      "fragments_bap/fragments_mm/HYA__24010b__20210813_384_PBMC_11_S9.sinto.mm.fragments.ID.tsv\n",
      "fragments_bap/fragments_mm/HYA__2beafa__20210813_384_PBMC_12_S10.sinto.mm.fragments.ID.tsv\n",
      "fragments_bap/fragments_mm/HYA__3d6da9__20210813_384_PBMC_21_S11.sinto.mm.fragments.ID.tsv\n",
      "fragments_bap/fragments_mm/HYA__5028cb__20210813_384_PBMC_22_S12.sinto.mm.fragments.ID.tsv\n"
     ]
    }
   ],
   "source": [
    "ls fragments_bap/fragments_mm/*ID.tsv"
   ]
  },
  {
   "cell_type": "markdown",
   "metadata": {},
   "source": [
    "Then merge the fragments files from same run"
   ]
  },
  {
   "cell_type": "code",
   "execution_count": 11,
   "metadata": {},
   "outputs": [],
   "source": [
    "module load BCFtools"
   ]
  },
  {
   "cell_type": "code",
   "execution_count": null,
   "metadata": {},
   "outputs": [],
   "source": [
    "newfile=fragments_mm/VIB_Hydrop_1.sinto.mm.fragments.tsv\n",
    "sort --parallel=8 -S 8G -k1,1 -k 2,2n -k3,3n fragments_mm/HYA__24010b__20210813_384_PBMC_11_S9.sinto.mm.fragments.ID.tsv fragments_mm/HYA__2beafa__20210813_384_PBMC_12_S10.sinto.mm.fragments.ID.tsv > $newfile\n",
    "bgzip -@ 4 -i $newfile\n",
    "tabix -p bed $newfile.gz"
   ]
  },
  {
   "cell_type": "code",
   "execution_count": null,
   "metadata": {},
   "outputs": [],
   "source": [
    "newfile=fragments_mm/VIB_Hydrop_2.sinto.mm.fragments.tsv\n",
    "sort --parallel=8 -S 8G -k1,1 -k 2,2n -k3,3n fragments_mm/HYA__3d6da9__20210813_384_PBMC_21_S11.sinto.mm.fragments.ID.tsv fragments_mm/HYA__5028cb__20210813_384_PBMC_22_S12.sinto.mm.fragments.ID.tsv > $newfile\n",
    "bgzip -@ 4 -i $newfile\n",
    "tabix -p bed $newfile.gz"
   ]
  },
  {
   "cell_type": "markdown",
   "metadata": {},
   "source": [
    "# similarly, merge bams"
   ]
  },
  {
   "cell_type": "markdown",
   "metadata": {},
   "source": [
    "need to add an id to all the barcodes in the bams first"
   ]
  },
  {
   "cell_type": "code",
   "execution_count": 16,
   "metadata": {},
   "outputs": [
    {
     "name": "stdout",
     "output_type": "stream",
     "text": [
      "[1] 15971\n"
     ]
    }
   ],
   "source": [
    "bam=bam_postbap/HYA__24010b__20210813_384_PBMC_11_S9.bwa.out.possorted.mm.bam\n",
    "outbam=${bam%.bam}.ID.bam\n",
    "/staging/leuven/stg_00002/lcb/ghuls/software/single_cell_toolkit_rust/target/release/append_string_to_bc_tag_try $bam $outbam DB '-11' &"
   ]
  },
  {
   "cell_type": "code",
   "execution_count": 18,
   "metadata": {},
   "outputs": [
    {
     "name": "stdout",
     "output_type": "stream",
     "text": [
      "[2] 16061\n"
     ]
    }
   ],
   "source": [
    "bam=bam_postbap/HYA__2beafa__20210813_384_PBMC_12_S10.bwa.out.possorted.mm.bam\n",
    "outbam=${bam%.bam}.ID.bam\n",
    "/staging/leuven/stg_00002/lcb/ghuls/software/single_cell_toolkit_rust/target/release/append_string_to_bc_tag_try $bam $outbam DB '-12' &"
   ]
  },
  {
   "cell_type": "code",
   "execution_count": 19,
   "metadata": {},
   "outputs": [
    {
     "name": "stdout",
     "output_type": "stream",
     "text": [
      "[3] 16081\n"
     ]
    }
   ],
   "source": [
    "bam=bam_postbap/HYA__3d6da9__20210813_384_PBMC_21_S11.bwa.out.possorted.mm.bam\n",
    "outbam=${bam%.bam}.ID.bam\n",
    "/staging/leuven/stg_00002/lcb/ghuls/software/single_cell_toolkit_rust/target/release/append_string_to_bc_tag_try $bam $outbam DB '-21' &"
   ]
  },
  {
   "cell_type": "code",
   "execution_count": 20,
   "metadata": {},
   "outputs": [
    {
     "name": "stdout",
     "output_type": "stream",
     "text": [
      "[4] 16118\n"
     ]
    }
   ],
   "source": [
    "bam=bam_postbap/HYA__5028cb__20210813_384_PBMC_22_S12.bwa.out.possorted.mm.bam\n",
    "outbam=${bam%.bam}.ID.bam\n",
    "/staging/leuven/stg_00002/lcb/ghuls/software/single_cell_toolkit_rust/target/release/append_string_to_bc_tag_try $bam $outbam DB '-22' &"
   ]
  },
  {
   "cell_type": "markdown",
   "metadata": {},
   "source": [
    "Then, merge the resulting bamsm"
   ]
  },
  {
   "cell_type": "code",
   "execution_count": 24,
   "metadata": {},
   "outputs": [
    {
     "name": "stdout",
     "output_type": "stream",
     "text": [
      "\n",
      "The following have been reloaded with a version change:\n",
      "  1) XZ/5.2.4-GCCcore-6.4.0 => XZ/5.2.5-GCCcore-6.4.0\n",
      "\n",
      "[1] 18219\n",
      "[2] 18233\n"
     ]
    }
   ],
   "source": [
    "module load SAMtools\n",
    "samtools merge -@ 12 -o bam_postbap/Hydrop_1.bwa.out.possorted.mm.bam bam_postbap/HYA__24010b__20210813_384_PBMC_11_S9.bwa.out.possorted.mm.ID.bam bam_postbap/HYA__2beafa__20210813_384_PBMC_12_S10.bwa.out.possorted.mm.ID.bam -f &\n",
    "samtools merge -@ 12 -o bam_postbap/Hydrop_2.bwa.out.possorted.mm.bam bam_postbap/HYA__3d6da9__20210813_384_PBMC_21_S11.bwa.out.possorted.mm.ID.bam bam_postbap/HYA__5028cb__20210813_384_PBMC_22_S12.bwa.out.possorted.mm.ID.bam -f &"
   ]
  },
  {
   "cell_type": "code",
   "execution_count": 34,
   "metadata": {},
   "outputs": [
    {
     "name": "stdout",
     "output_type": "stream",
     "text": [
      "[3] 22295\n",
      "[4] 22296\n"
     ]
    }
   ],
   "source": [
    "samtools index bam_postbap/Hydrop_1.bwa.out.possorted.mm.bam &\n",
    "samtools index bam_postbap/Hydrop_2.bwa.out.possorted.mm.bam &"
   ]
  },
  {
   "cell_type": "markdown",
   "metadata": {},
   "source": [
    "The final result is 2 instead of 4 bams and fragments files, each corresponding to the hydrop replicate runs."
   ]
  }
 ],
 "metadata": {
  "kernelspec": {
   "display_name": "Bash",
   "language": "bash",
   "name": "bash"
  },
  "language_info": {
   "codemirror_mode": "shell",
   "file_extension": ".sh",
   "mimetype": "text/x-sh",
   "name": "bash"
  }
 },
 "nbformat": 4,
 "nbformat_minor": 4
}
