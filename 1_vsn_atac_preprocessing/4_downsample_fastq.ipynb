{
 "cells": [
  {
   "cell_type": "markdown",
   "id": "dcd657bd",
   "metadata": {},
   "source": [
    "In further processing steps, we can determine the number of cells present in each replicate. We then use these numbers to downsample all data equally. We know that the values of reads per detected cell (x1000) are the following:\n",
    "```\n",
    "BioRad ATAC 1: 52.86926736\n",
    "BioRad ATAC 2: 53.4845053\n",
    "10x ATAC A1: 288.9205729\n",
    "10x ATAC A2: 120.8980043\n",
    "10x ATAC B1: 80.63252755\n",
    "10x ATAC B2: 47.33001636\n",
    "10x ATAC C1: 87.31810089\n",
    "10x ATAC C2: 98.27946165\n",
    "10x mtATAC 1: 42.16687825\n",
    "10x mtATAC 2: 51.72816475\n",
    "10x Multiome 1: 152.0870465\n",
    "10x Multiome 2: 130.8272417\n",
    "HyDrop 1: 89.92106307\n",
    "HyDrop 2: 61.78729446\n",
    "s3-ATAC: 572.3930173\n",
    "```\n",
    "We see that 10x mtATAC 1 has 42179 reads per cell. We now downsample all the fastqs to that level. For 10x mtATAC, we retain the original ones. We simply multiple the detected cells for each sample by 42179. Then, we use `seqtk sample` to downsample each fastq to that new total number of reads. An example for Hydrop:"
   ]
  },
  {
   "cell_type": "code",
   "execution_count": 32,
   "id": "3a6c64e5",
   "metadata": {},
   "outputs": [
    {
     "name": "stdout",
     "output_type": "stream",
     "text": [
      "\u001b[0m\u001b[01;36mfastq/HYA__24010b__20210813_384_PBMC_11_S9_R1_001.fastq.gz\u001b[0m\n",
      "[1] 33054\n",
      "\u001b[0m\u001b[01;36mfastq/HYA__24010b__20210813_384_PBMC_11_S9_R2_001.fastq.gz\u001b[0m\n",
      "[2] 33056\n",
      "\u001b[0m\u001b[01;36mfastq/HYA__24010b__20210813_384_PBMC_11_S9_R3_001.fastq.gz\u001b[0m\n",
      "[3] 33059\n"
     ]
    }
   ],
   "source": [
    "for file in fastq/*PBMC_11*001.fastq.gz\n",
    "do\n",
    "    ls $file\n",
    "    newname=${file%.fastq.gz}.LIBDS.fastq\n",
    "    seqtk sample -s 1 $file 44456666 > $newname &\n",
    "done"
   ]
  },
  {
   "cell_type": "code",
   "execution_count": 33,
   "id": "f28b330c",
   "metadata": {},
   "outputs": [
    {
     "name": "stdout",
     "output_type": "stream",
     "text": [
      "\u001b[0m\u001b[01;36mfastq/HYA__2beafa__20210813_384_PBMC_12_S10_R1_001.fastq.gz\u001b[0m\n",
      "[4] 33069\n",
      "done\n",
      "\u001b[0m\u001b[01;36mfastq/HYA__2beafa__20210813_384_PBMC_12_S10_R2_001.fastq.gz\u001b[0m\n",
      "[5] 33071\n",
      "done\n",
      "\u001b[0m\u001b[01;36mfastq/HYA__2beafa__20210813_384_PBMC_12_S10_R3_001.fastq.gz\u001b[0m\n",
      "[6] 33073\n",
      "done\n"
     ]
    }
   ],
   "source": [
    "for file in fastq/*PBMC_12*001.fastq.gz\n",
    "do\n",
    "    ls $file\n",
    "    newname=${file%.fastq.gz}.LIBDS.fastq\n",
    "    seqtk sample -s 1 $file 57194724 > $newname &\n",
    "    echo done\n",
    "done"
   ]
  },
  {
   "cell_type": "code",
   "execution_count": 34,
   "id": "51fb239a",
   "metadata": {},
   "outputs": [
    {
     "name": "stdout",
     "output_type": "stream",
     "text": [
      "\u001b[0m\u001b[01;36mfastq/HYA__3d6da9__20210813_384_PBMC_21_S11_R1_001.fastq.gz\u001b[0m\n",
      "[7] 33076\n",
      "done\n",
      "\u001b[0m\u001b[01;36mfastq/HYA__3d6da9__20210813_384_PBMC_21_S11_R2_001.fastq.gz\u001b[0m\n",
      "[8] 33078\n",
      "done\n",
      "\u001b[0m\u001b[01;36mfastq/HYA__3d6da9__20210813_384_PBMC_21_S11_R3_001.fastq.gz\u001b[0m\n",
      "[9] 33081\n",
      "done\n"
     ]
    }
   ],
   "source": [
    "for file in fastq/*PBMC_21*001.fastq.gz\n",
    "do\n",
    "    ls $file\n",
    "    newname=${file%.fastq.gz}.LIBDS.fastq\n",
    "    seqtk sample -s 1 $file 76765780 > $newname &\n",
    "    echo done\n",
    "done"
   ]
  },
  {
   "cell_type": "code",
   "execution_count": 35,
   "id": "ab0f2810",
   "metadata": {},
   "outputs": [
    {
     "name": "stdout",
     "output_type": "stream",
     "text": [
      "\u001b[0m\u001b[01;36mfastq/HYA__5028cb__20210813_384_PBMC_22_S12_R1_001.fastq.gz\u001b[0m\n",
      "[10] 33083\n",
      "done\n",
      "\u001b[0m\u001b[01;36mfastq/HYA__5028cb__20210813_384_PBMC_22_S12_R2_001.fastq.gz\u001b[0m\n",
      "[11] 33086\n",
      "done\n",
      "\u001b[0m\u001b[01;36mfastq/HYA__5028cb__20210813_384_PBMC_22_S12_R3_001.fastq.gz\u001b[0m\n",
      "[12] 33088\n",
      "done\n"
     ]
    }
   ],
   "source": [
    "for file in fastq/*PBMC_22*001.fastq.gz\n",
    "do\n",
    "    ls $file\n",
    "    newname=${file%.fastq.gz}.LIBDS.fastq\n",
    "    seqtk sample -s 1 $file 38973396 > $newname &\n",
    "    echo done\n",
    "done"
   ]
  },
  {
   "cell_type": "code",
   "execution_count": 38,
   "id": "bd08f8d4",
   "metadata": {},
   "outputs": [
    {
     "name": "stdout",
     "output_type": "stream",
     "text": [
      "HYA__24010b__20210813_384_PBMC_11_S9_R1_001.LIBDS.fastq\n",
      "\u001b[0m\u001b[01;36mHYA__24010b__20210813_384_PBMC_11_S9_R1_001.fastq.gz\u001b[0m\n",
      "HYA__24010b__20210813_384_PBMC_11_S9_R2_001.LIBDS.fastq\n",
      "\u001b[01;36mHYA__24010b__20210813_384_PBMC_11_S9_R2_001.fastq.gz\u001b[0m\n",
      "HYA__24010b__20210813_384_PBMC_11_S9_R3_001.LIBDS.fastq\n",
      "\u001b[01;36mHYA__24010b__20210813_384_PBMC_11_S9_R3_001.fastq.gz\u001b[0m\n",
      "HYA__2beafa__20210813_384_PBMC_12_S10_R1_001.LIBDS.fastq\n",
      "\u001b[01;36mHYA__2beafa__20210813_384_PBMC_12_S10_R1_001.fastq.gz\u001b[0m\n",
      "HYA__2beafa__20210813_384_PBMC_12_S10_R2_001.LIBDS.fastq\n",
      "\u001b[01;36mHYA__2beafa__20210813_384_PBMC_12_S10_R2_001.fastq.gz\u001b[0m\n",
      "HYA__2beafa__20210813_384_PBMC_12_S10_R3_001.LIBDS.fastq\n",
      "\u001b[01;36mHYA__2beafa__20210813_384_PBMC_12_S10_R3_001.fastq.gz\u001b[0m\n",
      "HYA__3d6da9__20210813_384_PBMC_21_S11_R1_001.LIBDS.fastq\n",
      "\u001b[01;36mHYA__3d6da9__20210813_384_PBMC_21_S11_R1_001.fastq.gz\u001b[0m\n",
      "HYA__3d6da9__20210813_384_PBMC_21_S11_R2_001.LIBDS.fastq\n",
      "\u001b[01;36mHYA__3d6da9__20210813_384_PBMC_21_S11_R2_001.fastq.gz\u001b[0m\n",
      "HYA__3d6da9__20210813_384_PBMC_21_S11_R3_001.LIBDS.fastq\n",
      "\u001b[01;36mHYA__3d6da9__20210813_384_PBMC_21_S11_R3_001.fastq.gz\u001b[0m\n",
      "HYA__5028cb__20210813_384_PBMC_22_S12_R1_001.LIBDS.fastq\n",
      "\u001b[01;36mHYA__5028cb__20210813_384_PBMC_22_S12_R1_001.fastq.gz\u001b[0m\n",
      "HYA__5028cb__20210813_384_PBMC_22_S12_R2_001.LIBDS.fastq\n",
      "\u001b[01;36mHYA__5028cb__20210813_384_PBMC_22_S12_R2_001.fastq.gz\u001b[0m\n",
      "HYA__5028cb__20210813_384_PBMC_22_S12_R3_001.LIBDS.fastq\n",
      "\u001b[01;36mHYA__5028cb__20210813_384_PBMC_22_S12_R3_001.fastq.gz\u001b[0m\n"
     ]
    }
   ],
   "source": [
    "ls fastq/"
   ]
  },
  {
   "cell_type": "code",
   "execution_count": 42,
   "id": "416de058",
   "metadata": {},
   "outputs": [
    {
     "name": "stdout",
     "output_type": "stream",
     "text": [
      "[1] 2066\n",
      "[2] 2067\n",
      "[3] 2068\n",
      "[4] 2069\n",
      "[5] 2070\n",
      "[6] 2071\n",
      "[7] 2072\n",
      "[8] 2073\n",
      "[9] 2074\n",
      "[10] 2075\n",
      "[11] 2076\n",
      "[12] 2077\n"
     ]
    }
   ],
   "source": [
    "for file in fastq/*.fastq\n",
    "do\n",
    "    gzip $file &\n",
    "done"
   ]
  },
  {
   "cell_type": "markdown",
   "id": "83c46be4",
   "metadata": {},
   "source": [
    "Repeat notebooks 1 and 2 for these downsampled fastq to remap them."
   ]
  }
 ],
 "metadata": {
  "kernelspec": {
   "display_name": "Bash",
   "language": "bash",
   "name": "bash"
  },
  "language_info": {
   "codemirror_mode": "shell",
   "file_extension": ".sh",
   "mimetype": "text/x-sh",
   "name": "bash"
  }
 },
 "nbformat": 4,
 "nbformat_minor": 5
}
