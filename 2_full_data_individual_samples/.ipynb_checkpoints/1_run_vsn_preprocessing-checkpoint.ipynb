{
 "cells": [
  {
   "cell_type": "code",
   "execution_count": null,
   "metadata": {},
   "outputs": [],
   "source": [
    "rm metadata_auto.tsv\n",
    "dir=`pwd -P`\n",
    "echo -e 'sample_name\\ttechnology\\tfastq_PE1_path\\tfastq_barcode_path\\tfastq_PE2_path' > metadata_auto.tsv\n",
    "for fastq in fastq/*S*_R2_001.fastq.gz\n",
    "do\n",
    "    samplename=${fastq%_R2_001.fastq.gz}\n",
    "    metadatasamplename=${samplename#fastq/}\n",
    "    R1=$dir/${samplename}_R1_001.fastq.gz\n",
    "    R2=$dir/${samplename}_R2_001.fastq.gz\n",
    "    R3=$dir/${samplename}_R3_001.fastq.gz\n",
    "    echo -e $metadatasamplename'\\thydrop_2x384\\t'$R1'\\t'$R2'\\t'$R3 >> metadata_auto.tsv\n",
    "done\n",
    "cat metadata_auto.tsv"
   ]
  },
  {
   "cell_type": "markdown",
   "metadata": {},
   "source": [
    "Then, generate a config file read by the vsn pipelin"
   ]
  },
  {
   "cell_type": "code",
   "execution_count": null,
   "metadata": {},
   "outputs": [],
   "source": [
    "# redirect the work dir to scratch\n",
    "# change this scratch dir\n",
    "nwork=${VSC_SCRATCH}/20210929_20210813_hydrop-atac_384_pbmc/\n",
    "mkdir $nwork\n",
    "export NXF_WORK=$nwork\n",
    "\n",
    "VSN=vib-singlecell-nf/vsn-pipelines/main_atac.nf\n",
    "\n",
    "nextflow pull vib-singlecell-nf/vsn-pipelines -r develop_atac\n",
    "\n",
    "module load graphviz\n",
    "module load Nextflow\n",
    "\n",
    "nextflow config $VSN \\\n",
    "    -profile atac_preprocess_bap,vsc \\\n",
    "    > atac_preprocess_bap.config"
   ]
  },
  {
   "cell_type": "markdown",
   "metadata": {},
   "source": [
    "### now make some changes to the config:\n",
    "an example config (may not work for mixed species since some parameters are dependent on species): `/ddn1/vol1/staging/leuven/stg_00002/lcb/cflerin/analysis/pbmc_atac/analysis/nextflow/data_freeze_Feb2021/atac_preprocess_bap.config`\n",
    "* redirect to metadata_auto.tsv instead of standard metadata.tsv\n",
    "* fix BWA parameters\n",
    "    * !!! change the bwa index directory to the right one!\n",
    "        * dm6: `/lustre1/project/stg_00002/lcb/fderop/data/00000000_genomes/dm6_bwa/dm6_bwa.fa`\n",
    "        * hg38 pbmc benchmark: `'/staging/leuven/stg_00002/lcb/cflerin/data/GRCh38/genome.fa'`\n",
    "    * change the bwa executor to local if run is urgent\n",
    "    * number of bwa CPUs: better to have 2 forks running with 17 threads than to have 1 fork with 36 threads due to I/O overhead\n",
    "* if we use multispecies bwa index, make sure to edit the sinto regex for which fragments to accept!\n",
    "    * standard works for human\n",
    "    * human/mouse: `'\"(?i)^GRCh38_chr|(?i)^mm10\"' `\n",
    "    * dm6: `'\"^(2L|2R|3L|3R|4|X|Y|mitochondrion_genome)$\"'`\n",
    "* add whitelist under 'standard':\n",
    "    * hydrop_3x96 = `'/lustre1/project/stg_00002/lcb/fderop/data/00000000_barcodes/20200227_HyDrop-ATAC_96x96x96/full_barcodes_no_underscore_REVCOMP.txt'`\n",
    "    * hydrop_2x384 = `'/lustre1/project/stg_00002/lcb/fderop/data/00000000_barcodes/20210729_384x384_atac/20210929_HYDROP-ATAC_384x384_RVCOMP.txt'`\n",
    "* if using bap, make sure that the bap parameters are correct\n",
    "    * bap genome\n"
   ]
  },
  {
   "cell_type": "markdown",
   "metadata": {},
   "source": [
    "Then, in a tmux session:"
   ]
  },
  {
   "cell_type": "code",
   "execution_count": null,
   "metadata": {},
   "outputs": [],
   "source": [
    "nextflow -C atac_preprocess_bap.config run $VSN -entry atac_preprocess_bap -resume"
   ]
  },
  {
   "cell_type": "markdown",
   "metadata": {},
   "source": [
    "After this is finished, read the bap reports to check the bap kneeplot and determine new bap parameters. Re-run the pipeline with new bap parameters!"
   ]
  },
  {
   "cell_type": "markdown",
   "metadata": {},
   "source": [
    "# now, we need to do the whole bap-barcode translation part"
   ]
  },
  {
   "cell_type": "code",
   "execution_count": null,
   "metadata": {},
   "outputs": [],
   "source": []
  }
 ],
 "metadata": {
  "kernelspec": {
   "display_name": "Bash",
   "language": "bash",
   "name": "bash"
  },
  "language_info": {
   "codemirror_mode": "shell",
   "file_extension": ".sh",
   "mimetype": "text/x-sh",
   "name": "bash"
  }
 },
 "nbformat": 4,
 "nbformat_minor": 4
}
