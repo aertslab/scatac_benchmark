{
 "cells": [
  {
   "cell_type": "code",
   "execution_count": null,
   "metadata": {
    "tags": []
   },
   "outputs": [],
   "source": [
    "nwork=${VSC_SCRATCH}/HCA_PBMC_FULL_DATA_QC/\n",
    "mkdir $nwork\n",
    "export NXF_WORK=$nwork\n",
    "\n",
    "module load Nextflow\n",
    "module load graphviz\n",
    "\n",
    "\n",
    "\n",
    "\n",
    "nextflow pull vib-singlecell-nf/vsn-pipelines -r develop_atac\n",
    "\n",
    "VSN=vib-singlecell-nf/vsn-pipelines/main_atac.nf"
   ]
  },
  {
   "cell_type": "markdown",
   "metadata": {},
   "source": [
    "Then, generate a vsn config for the atac_qc pipeline. Put the right parameters:\n",
    "* change fragments input files glob e.g. `fragments_bap/fragments_mm/*.tsv.gz`\n",
    "* change suffix to `.sinto.fragments.tsv.gz` or make sure it matches the files. only sample name should remain. make sure this is correct\n",
    "* change fragments input files glob e.g. `fragments_bap/bam_postbap/*.bam`\n",
    "* change suffix to `.bwa.out.possorted.bam` or make sure it matches the files. only sample name should remain.\n",
    "* edit cell calling, can be sample-specific\n",
    "* edit `out` to `out_qc`"
   ]
  },
  {
   "cell_type": "code",
   "execution_count": null,
   "metadata": {},
   "outputs": [],
   "source": [
    "nextflow config $VSN \\\n",
    "    -profile atac_qc_filtering,bam,fragments,pycistopic_hg38,vsc \\\n",
    "    > atac_qc.config"
   ]
  },
  {
   "cell_type": "markdown",
   "metadata": {},
   "source": [
    "Make sure to change all the parameters:"
   ]
  },
  {
   "cell_type": "markdown",
   "metadata": {},
   "source": [
    "Then, in a tmux session:"
   ]
  },
  {
   "cell_type": "code",
   "execution_count": null,
   "metadata": {},
   "outputs": [],
   "source": [
    "nextflow -C atac_qc_all.config run \\\n",
    "    vib-singlecell-nf/vsn-pipelines/main_atac.nf \\\n",
    "    -entry atac_qc_filtering -r develop_atac -resume --quiet"
   ]
  },
  {
   "cell_type": "markdown",
   "metadata": {},
   "source": [
    "After this is finished, read the bap reports to check the bap kneeplot and determine new bap parameters. Re-run the pipeline with new bap parameters."
   ]
  }
 ],
 "metadata": {
  "kernelspec": {
   "display_name": "Bash",
   "language": "bash",
   "name": "bash"
  },
  "language_info": {
   "codemirror_mode": "shell",
   "file_extension": ".sh",
   "mimetype": "text/x-sh",
   "name": "bash"
  }
 },
 "nbformat": 4,
 "nbformat_minor": 4
}
