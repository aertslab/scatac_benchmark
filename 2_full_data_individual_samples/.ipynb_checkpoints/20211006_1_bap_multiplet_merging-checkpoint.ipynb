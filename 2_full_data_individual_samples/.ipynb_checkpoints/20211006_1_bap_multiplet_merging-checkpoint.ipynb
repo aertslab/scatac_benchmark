{
 "cells": [
  {
   "cell_type": "code",
   "execution_count": null,
   "metadata": {},
   "outputs": [],
   "source": []
  },
  {
   "cell_type": "markdown",
   "metadata": {},
   "source": [
    "# process overview\n",
    "1. run bap\n",
    "2. read bap output to generate a `__barcode_translate.tsv` file, containing the translation from bap barcode to original barcode\n",
    "3. use ghuls' `add_new_bc_tag` program to add new, post-bap barcode (= \"multiplet merged\" barcode)  to the original bam files\n",
    "4. re-generate the fragments.tsv files from this new bap, using the new \"multiplet merged\" barcodes."
   ]
  },
  {
   "cell_type": "markdown",
   "metadata": {},
   "source": [
    "# generate barcode_translate file"
   ]
  },
  {
   "cell_type": "code",
   "execution_count": 1,
   "metadata": {},
   "outputs": [],
   "source": [
    "import os\n",
    "import pandas as pd"
   ]
  },
  {
   "cell_type": "code",
   "execution_count": 9,
   "metadata": {},
   "outputs": [],
   "source": [
    "samples = {\n",
    "    'HYA__24010b__20210813_384_PBMC_11_S9': 'hydrop_384',\n",
    "    'HYA__2beafa__20210813_384_PBMC_12_S10': 'hydrop_384',\n",
    "    'HYA__3d6da9__20210813_384_PBMC_21_S11': 'hydrop_384',\n",
    "    'HYA__5028cb__20210813_384_PBMC_22_S12': 'hydrop_384',\n",
    "}"
   ]
  },
  {
   "cell_type": "code",
   "execution_count": 10,
   "metadata": {},
   "outputs": [],
   "source": [
    "whitelist = {\n",
    "        'biorad_1': '/staging/leuven/stg_00002/lcb/cflerin/analysis/pbmc_atac/analysis2/data_freeze_Jun2021/atac_preprocess/multiplet_tagged/unique_barcodes/Broad_1__unique_barcodes.txt',\n",
    "        'biorad_2': '/staging/leuven/stg_00002/lcb/cflerin/analysis/pbmc_atac/analysis2/data_freeze_Jun2021/atac_preprocess/multiplet_tagged/unique_barcodes/Broad_2__unique_barcodes.txt',\n",
    "    'standard': '/vsc-hard-mounts/leuven-data/software/biomed/skylake_centos7/2018a/software/CellRangerATAC/2.0.0/lib/python/atac/barcodes/737K-cratac-v1.txt.gz',\n",
    "    'standard_revcomp': '/staging/leuven/stg_00002/lcb/cflerin/data/public/barcode_whitelists/737K-cratac-v1_revcomp.txt.gz',\n",
    "    'multiome': '/vsc-hard-mounts/leuven-data/software/biomed/skylake_centos7/2018a/software/CellRangerATAC/2.0.0/lib/python/atac/barcodes/737K-arc-v1.txt.gz',\n",
    "    'hydrop_384': '/lustre1/project/stg_00002/lcb/fderop/data/00000000_barcodes/20210729_384x384_atac/20210929_HYDROP-ATAC_384x384_RVCOMP.txt'\n",
    "    }"
   ]
  },
  {
   "cell_type": "code",
   "execution_count": 12,
   "metadata": {},
   "outputs": [
    {
     "name": "stdout",
     "output_type": "stream",
     "text": [
      "HYA__24010b__20210813_384_PBMC_11_S9   HYA__3d6da9__20210813_384_PBMC_21_S11\n",
      "HYA__2beafa__20210813_384_PBMC_12_S10  HYA__5028cb__20210813_384_PBMC_22_S12\n"
     ]
    }
   ],
   "source": [
    "!ls /lustre1/project/stg_00002/lcb/fderop/data/20210929_20210813_hydrop-atac_384_pbmc/fragments_bap/bap"
   ]
  },
  {
   "cell_type": "code",
   "execution_count": 15,
   "metadata": {},
   "outputs": [],
   "source": [
    "# path of bap output\n",
    "bct_path = '/lustre1/project/stg_00002/lcb/fderop/data/20210929_20210813_hydrop-atac_384_pbmc/fragments_bap/data/bap'\n",
    "\n",
    "bam_suffix_new = '.bwa.out.possorted.mm.bam'"
   ]
  },
  {
   "cell_type": "code",
   "execution_count": 16,
   "metadata": {},
   "outputs": [],
   "source": [
    "if not os.path.exists('barcode_translate'):\n",
    "    os.makedirs('barcode_translate')"
   ]
  },
  {
   "cell_type": "code",
   "execution_count": 17,
   "metadata": {},
   "outputs": [
    {
     "name": "stdout",
     "output_type": "stream",
     "text": [
      "Starting sample HYA__24010b__20210813_384_PBMC_11_S9\n",
      "... writing output\n",
      "Starting sample HYA__2beafa__20210813_384_PBMC_12_S10\n",
      "... writing output\n",
      "Starting sample HYA__3d6da9__20210813_384_PBMC_21_S11\n",
      "... writing output\n",
      "Starting sample HYA__5028cb__20210813_384_PBMC_22_S12\n",
      "... writing output\n"
     ]
    }
   ],
   "source": [
    "for k,v in samples.items():\n",
    "    print(f\"Starting sample {k}\")\n",
    "    #if(k=='Broad_1'):\n",
    "    #    break\n",
    "    wl = pd.read_csv(whitelist[v], header=None, names=['CB'])\n",
    "\n",
    "    f_bct = os.path.join(bct_path, k, 'final', k + '.barcodeTranslate.tsv')\n",
    "    bct = pd.read_csv(f_bct, sep='\\t', header=None, names=['CB','DB'])\n",
    "    #bct['CB0'] = bct['CB']\n",
    "\n",
    "    # drop singlets:\n",
    "    bct['mult_cnt'] = [ x.split(\"_\")[-1] for x in bct['DB'] ]\n",
    "    bct = bct[ bct['mult_cnt']!='N01' ]\n",
    "\n",
    "    # create translation for multiplets\n",
    "    bctu = bct['DB'].unique()\n",
    "    tmp_bct = []\n",
    "    for bc in bctu:\n",
    "        ix = bct['DB']==bc\n",
    "        db = '_'.join([ x for x in bct[ix]['CB'] ])\n",
    "        tmp_bct.extend(\n",
    "            [ [x,db] for x in bct[ix]['CB'] ]\n",
    "            )\n",
    "    tmp_bct2 = pd.DataFrame(tmp_bct, columns=['CB','DB'])\n",
    "\n",
    "    # create translation for remaining whitelist singlets\n",
    "    wl_sng = wl[~wl['CB'].isin(bct['CB'])].copy()\n",
    "    wl_sng['DB'] = wl_sng['CB']\n",
    "\n",
    "    new_bct = pd.concat([tmp_bct2, wl_sng], axis=0)\n",
    "\n",
    "    assert len(new_bct['CB'].unique()) == wl.shape[0]\n",
    "\n",
    "    print(\"... writing output\")\n",
    "    new_bct.to_csv('barcode_translate/' + k + '__barcode_translate.tsv',\n",
    "            sep='\\t', index=False, header=False)\n",
    "    "
   ]
  },
  {
   "cell_type": "markdown",
   "metadata": {},
   "source": [
    "# add new bc tag to bam file"
   ]
  },
  {
   "cell_type": "code",
   "execution_count": 19,
   "metadata": {},
   "outputs": [],
   "source": [
    "import os\n",
    "\n",
    "prog = '/staging/leuven/stg_00002/lcb/ghuls/software/single_cell_toolkit_rust/target/release/add_new_bc_tag'\n",
    "\n",
    "samples = 'HYA__24010b__20210813_384_PBMC_11_S9   HYA__3d6da9__20210813_384_PBMC_21_S11 HYA__2beafa__20210813_384_PBMC_12_S10  HYA__5028cb__20210813_384_PBMC_22_S12'.split()\n",
    "\n",
    "old_bc_tag = 'CB'\n",
    "new_bc_tag = 'DB'\n",
    "\n",
    "bam_paths = '/lustre1/project/stg_00002/lcb/fderop/data/20210929_20210813_hydrop-atac_384_pbmc/fragments_bap/data/bam'\n",
    "\n",
    "bam_suffix = '.bwa.out.possorted.bam'"
   ]
  },
  {
   "cell_type": "code",
   "execution_count": 20,
   "metadata": {},
   "outputs": [
    {
     "name": "stdout",
     "output_type": "stream",
     "text": [
      "/staging/leuven/stg_00002/lcb/ghuls/software/single_cell_toolkit_rust/target/release/add_new_bc_tag /lustre1/project/stg_00002/lcb/fderop/data/20210929_20210813_hydrop-atac_384_pbmc/fragments_bap/data/bam/HYA__24010b__20210813_384_PBMC_11_S9.bwa.out.possorted.bam fragments_bap/bam_postbap/HYA__24010b__20210813_384_PBMC_11_S9.bwa.out.possorted.mm.bam /lustre1/project/stg_00002/lcb/fderop/data/20210929_20210813_hydrop-atac_384_pbmc/fragments_bap/data/bap/HYA__24010b__20210813_384_PBMC_11_S9__barcode_translate.tsv CB DB && samtools index fragments_bap/bam_postbap/HYA__24010b__20210813_384_PBMC_11_S9.bwa.out.possorted.mm.bam\n",
      "/staging/leuven/stg_00002/lcb/ghuls/software/single_cell_toolkit_rust/target/release/add_new_bc_tag /lustre1/project/stg_00002/lcb/fderop/data/20210929_20210813_hydrop-atac_384_pbmc/fragments_bap/data/bam/HYA__3d6da9__20210813_384_PBMC_21_S11.bwa.out.possorted.bam fragments_bap/bam_postbap/HYA__3d6da9__20210813_384_PBMC_21_S11.bwa.out.possorted.mm.bam /lustre1/project/stg_00002/lcb/fderop/data/20210929_20210813_hydrop-atac_384_pbmc/fragments_bap/data/bap/HYA__3d6da9__20210813_384_PBMC_21_S11__barcode_translate.tsv CB DB && samtools index fragments_bap/bam_postbap/HYA__3d6da9__20210813_384_PBMC_21_S11.bwa.out.possorted.mm.bam\n",
      "/staging/leuven/stg_00002/lcb/ghuls/software/single_cell_toolkit_rust/target/release/add_new_bc_tag /lustre1/project/stg_00002/lcb/fderop/data/20210929_20210813_hydrop-atac_384_pbmc/fragments_bap/data/bam/HYA__2beafa__20210813_384_PBMC_12_S10.bwa.out.possorted.bam fragments_bap/bam_postbap/HYA__2beafa__20210813_384_PBMC_12_S10.bwa.out.possorted.mm.bam /lustre1/project/stg_00002/lcb/fderop/data/20210929_20210813_hydrop-atac_384_pbmc/fragments_bap/data/bap/HYA__2beafa__20210813_384_PBMC_12_S10__barcode_translate.tsv CB DB && samtools index fragments_bap/bam_postbap/HYA__2beafa__20210813_384_PBMC_12_S10.bwa.out.possorted.mm.bam\n",
      "/staging/leuven/stg_00002/lcb/ghuls/software/single_cell_toolkit_rust/target/release/add_new_bc_tag /lustre1/project/stg_00002/lcb/fderop/data/20210929_20210813_hydrop-atac_384_pbmc/fragments_bap/data/bam/HYA__5028cb__20210813_384_PBMC_22_S12.bwa.out.possorted.bam fragments_bap/bam_postbap/HYA__5028cb__20210813_384_PBMC_22_S12.bwa.out.possorted.mm.bam /lustre1/project/stg_00002/lcb/fderop/data/20210929_20210813_hydrop-atac_384_pbmc/fragments_bap/data/bap/HYA__5028cb__20210813_384_PBMC_22_S12__barcode_translate.tsv CB DB && samtools index fragments_bap/bam_postbap/HYA__5028cb__20210813_384_PBMC_22_S12.bwa.out.possorted.mm.bam\n"
     ]
    }
   ],
   "source": [
    "### BAP outputs:\n",
    "#bct_path = '/staging/leuven/stg_00002/lcb/cflerin/analysis/pbmc_atac/analysis2/data_freeze_Jun2021/atac_preprocess/out/data/bap/'\n",
    "\n",
    "### re-processed translations with full set of whitelist barcodes (so that we keep all CB tags from the original bam)\n",
    "\n",
    "bam_suffix_new = '.bwa.out.possorted.mm.bam'\n",
    "postbap_bam_dir = 'fragments_bap/bam_postbap'\n",
    "if not os.path.exists(postbap_bam_dir):\n",
    "    os.makedirs(postbap_bam_dir)\n",
    "\n",
    "################################################################################\n",
    "\n",
    "for s in samples:\n",
    "    f_bam_in = os.path.join(bam_paths, s + bam_suffix)\n",
    "    # bap bct format:\n",
    "    #f_bct = os.path.join(bct_path, s, 'final', s + '.barcodeTranslate.tsv')\n",
    "    f_bct = os.path.join(bct_path, s + '__barcode_translate.tsv')\n",
    "    f_bam_out = os.path.join(postbap_bam_dir, s + bam_suffix_new)\n",
    "    cmd = ' '.join([prog, f_bam_in, f_bam_out, f_bct, old_bc_tag, new_bc_tag])\n",
    "    cmd2 = ' && samtools index ' + f_bam_out\n",
    "    print(cmd + cmd2)"
   ]
  },
  {
   "cell_type": "markdown",
   "metadata": {},
   "source": [
    "### this output now goes into a file called `run_multiplet_merge.parallel`\n",
    "make sure everything is present, especially the barcode translate files need to be in right place!"
   ]
  },
  {
   "cell_type": "code",
   "execution_count": null,
   "metadata": {},
   "outputs": [],
   "source": [
    "/staging/leuven/stg_00002/lcb/ghuls/software/single_cell_toolkit_rust/target/release/add_new_bc_tag /lustre1/project/stg_00002/lcb/fderop/data/20210929_20210813_hydrop-atac_384_pbmc/fragments_bap/data/bam/HYA__24010b__20210813_384_PBMC_11_S9.bwa.out.possorted.bam fragments_bap/bam_postbap/HYA__24010b__20210813_384_PBMC_11_S9.bwa.out.possorted.mm.bam /lustre1/project/stg_00002/lcb/fderop/data/20210929_20210813_hydrop-atac_384_pbmc/fragments_bap/data/bap/HYA__24010b__20210813_384_PBMC_11_S9__barcode_translate.tsv CB DB && samtools index fragments_bap/bam_postbap/HYA__24010b__20210813_384_PBMC_11_S9.bwa.out.possorted.mm.bam\n",
    "/staging/leuven/stg_00002/lcb/ghuls/software/single_cell_toolkit_rust/target/release/add_new_bc_tag /lustre1/project/stg_00002/lcb/fderop/data/20210929_20210813_hydrop-atac_384_pbmc/fragments_bap/data/bam/HYA__3d6da9__20210813_384_PBMC_21_S11.bwa.out.possorted.bam fragments_bap/bam_postbap/HYA__3d6da9__20210813_384_PBMC_21_S11.bwa.out.possorted.mm.bam /lustre1/project/stg_00002/lcb/fderop/data/20210929_20210813_hydrop-atac_384_pbmc/fragments_bap/data/bap/HYA__3d6da9__20210813_384_PBMC_21_S11__barcode_translate.tsv CB DB && samtools index fragments_bap/bam_postbap/HYA__3d6da9__20210813_384_PBMC_21_S11.bwa.out.possorted.mm.bam\n",
    "/staging/leuven/stg_00002/lcb/ghuls/software/single_cell_toolkit_rust/target/release/add_new_bc_tag /lustre1/project/stg_00002/lcb/fderop/data/20210929_20210813_hydrop-atac_384_pbmc/fragments_bap/data/bam/HYA__2beafa__20210813_384_PBMC_12_S10.bwa.out.possorted.bam fragments_bap/bam_postbap/HYA__2beafa__20210813_384_PBMC_12_S10.bwa.out.possorted.mm.bam /lustre1/project/stg_00002/lcb/fderop/data/20210929_20210813_hydrop-atac_384_pbmc/fragments_bap/data/bap/HYA__2beafa__20210813_384_PBMC_12_S10__barcode_translate.tsv CB DB && samtools index fragments_bap/bam_postbap/HYA__2beafa__20210813_384_PBMC_12_S10.bwa.out.possorted.mm.bam\n",
    "/staging/leuven/stg_00002/lcb/ghuls/software/single_cell_toolkit_rust/target/release/add_new_bc_tag /lustre1/project/stg_00002/lcb/fderop/data/20210929_20210813_hydrop-atac_384_pbmc/fragments_bap/data/bam/HYA__5028cb__20210813_384_PBMC_22_S12.bwa.out.possorted.bam fragments_bap/bam_postbap/HYA__5028cb__20210813_384_PBMC_22_S12.bwa.out.possorted.mm.bam /lustre1/project/stg_00002/lcb/fderop/data/20210929_20210813_hydrop-atac_384_pbmc/fragments_bap/data/bap/HYA__5028cb__20210813_384_PBMC_22_S12__barcode_translate.tsv CB DB && samtools index fragments_bap/bam_postbap/HYA__5028cb__20210813_384_PBMC_22_S12.bwa.out.possorted.mm.bam\n"
   ]
  },
  {
   "cell_type": "markdown",
   "metadata": {},
   "source": [
    "run in command line"
   ]
  },
  {
   "cell_type": "code",
   "execution_count": 22,
   "metadata": {},
   "outputs": [
    {
     "name": "stdout",
     "output_type": "stream",
     "text": [
      "/bin/bash: module: command not found\n",
      "/bin/bash: parallel: command not found\n",
      "cat: fragments_bap/run_multiplet_merge.parallel: No such file or directory\n"
     ]
    }
   ],
   "source": [
    "!module load parallel\n",
    "!module load SAMtools\n",
    "!cat fragments_bap/run_multiplet_merge.parallel | parallel -j 4 --progress"
   ]
  },
  {
   "cell_type": "markdown",
   "metadata": {},
   "source": [
    "# now generate fragments from these new bams"
   ]
  },
  {
   "cell_type": "code",
   "execution_count": 27,
   "metadata": {},
   "outputs": [],
   "source": [
    "import os\n",
    "\n",
    "\n",
    "# make sure that scratch is relative here!\n",
    "prog = 'singularity run -W $PWD -B /lustre1,/staging,${VSC_SCRATCH}/tmp:/tmp /staging/leuven/res_00001/software/vsn_containers/vibsinglecellnf-sinto-0.7.3.1.img bash -c '\n",
    "\n",
    "\n",
    "samples = 'HYA__24010b__20210813_384_PBMC_11_S9   HYA__3d6da9__20210813_384_PBMC_21_S11 HYA__2beafa__20210813_384_PBMC_12_S10  HYA__5028cb__20210813_384_PBMC_22_S12'.split()\n",
    "\n",
    "bc_tag = 'DB'\n",
    "\n",
    "bam_paths = '/lustre1/project/stg_00002/lcb/fderop/data/20210929_20210813_hydrop-atac_384_pbmc/fragments_bap/bam_postbap'\n",
    "bam_suffix = '.bwa.out.possorted.mm.bam'\n",
    "\n",
    "bed_suffix = '.sinto.mm.fragments.bed'\n",
    "frag_suffix = '.sinto.mm.fragments.tsv.gz'\n",
    "\n",
    "newdir = 'fragments_bap/fragments_mm'\n",
    "if not os.path.exists(newdir):\n",
    "    os.makedirs(newdir)\n",
    "\n",
    "################################################################################"
   ]
  },
  {
   "cell_type": "code",
   "execution_count": 28,
   "metadata": {},
   "outputs": [
    {
     "name": "stdout",
     "output_type": "stream",
     "text": [
      "singularity run -W $PWD -B /lustre1,/staging,${VSC_SCRATCH}/tmp:/tmp /staging/leuven/res_00001/software/vsn_containers/vibsinglecellnf-sinto-0.7.3.1.img bash -c \"sinto fragments -b /lustre1/project/stg_00002/lcb/fderop/data/20210929_20210813_hydrop-atac_384_pbmc/fragments_bap/bam_postbap/HYA__24010b__20210813_384_PBMC_11_S9.bwa.out.possorted.mm.bam -m 30 --barcodetag DB --min_distance 10 --max_distance 5000 --chunksize 5000000 --use_chrom '^(chr|)([0-9]{1,2}|[XY]|[23][LR])$' -p 20 -f fragments_bap/fragments_mm/HYA__24010b__20210813_384_PBMC_11_S9.sinto.mm.fragments.bed && LC_ALL=C sort -k 1,1 -k 2,2n -k 3,3n fragments_bap/fragments_mm/HYA__24010b__20210813_384_PBMC_11_S9.sinto.mm.fragments.bed | bgzip -c > fragments_bap/fragments_mm/HYA__24010b__20210813_384_PBMC_11_S9.sinto.mm.fragments.tsv.gz && tabix -p bed fragments_bap/fragments_mm/HYA__24010b__20210813_384_PBMC_11_S9.sinto.mm.fragments.tsv.gz\"\n",
      "singularity run -W $PWD -B /lustre1,/staging,${VSC_SCRATCH}/tmp:/tmp /staging/leuven/res_00001/software/vsn_containers/vibsinglecellnf-sinto-0.7.3.1.img bash -c \"sinto fragments -b /lustre1/project/stg_00002/lcb/fderop/data/20210929_20210813_hydrop-atac_384_pbmc/fragments_bap/bam_postbap/HYA__3d6da9__20210813_384_PBMC_21_S11.bwa.out.possorted.mm.bam -m 30 --barcodetag DB --min_distance 10 --max_distance 5000 --chunksize 5000000 --use_chrom '^(chr|)([0-9]{1,2}|[XY]|[23][LR])$' -p 20 -f fragments_bap/fragments_mm/HYA__3d6da9__20210813_384_PBMC_21_S11.sinto.mm.fragments.bed && LC_ALL=C sort -k 1,1 -k 2,2n -k 3,3n fragments_bap/fragments_mm/HYA__3d6da9__20210813_384_PBMC_21_S11.sinto.mm.fragments.bed | bgzip -c > fragments_bap/fragments_mm/HYA__3d6da9__20210813_384_PBMC_21_S11.sinto.mm.fragments.tsv.gz && tabix -p bed fragments_bap/fragments_mm/HYA__3d6da9__20210813_384_PBMC_21_S11.sinto.mm.fragments.tsv.gz\"\n",
      "singularity run -W $PWD -B /lustre1,/staging,${VSC_SCRATCH}/tmp:/tmp /staging/leuven/res_00001/software/vsn_containers/vibsinglecellnf-sinto-0.7.3.1.img bash -c \"sinto fragments -b /lustre1/project/stg_00002/lcb/fderop/data/20210929_20210813_hydrop-atac_384_pbmc/fragments_bap/bam_postbap/HYA__2beafa__20210813_384_PBMC_12_S10.bwa.out.possorted.mm.bam -m 30 --barcodetag DB --min_distance 10 --max_distance 5000 --chunksize 5000000 --use_chrom '^(chr|)([0-9]{1,2}|[XY]|[23][LR])$' -p 20 -f fragments_bap/fragments_mm/HYA__2beafa__20210813_384_PBMC_12_S10.sinto.mm.fragments.bed && LC_ALL=C sort -k 1,1 -k 2,2n -k 3,3n fragments_bap/fragments_mm/HYA__2beafa__20210813_384_PBMC_12_S10.sinto.mm.fragments.bed | bgzip -c > fragments_bap/fragments_mm/HYA__2beafa__20210813_384_PBMC_12_S10.sinto.mm.fragments.tsv.gz && tabix -p bed fragments_bap/fragments_mm/HYA__2beafa__20210813_384_PBMC_12_S10.sinto.mm.fragments.tsv.gz\"\n",
      "singularity run -W $PWD -B /lustre1,/staging,${VSC_SCRATCH}/tmp:/tmp /staging/leuven/res_00001/software/vsn_containers/vibsinglecellnf-sinto-0.7.3.1.img bash -c \"sinto fragments -b /lustre1/project/stg_00002/lcb/fderop/data/20210929_20210813_hydrop-atac_384_pbmc/fragments_bap/bam_postbap/HYA__5028cb__20210813_384_PBMC_22_S12.bwa.out.possorted.mm.bam -m 30 --barcodetag DB --min_distance 10 --max_distance 5000 --chunksize 5000000 --use_chrom '^(chr|)([0-9]{1,2}|[XY]|[23][LR])$' -p 20 -f fragments_bap/fragments_mm/HYA__5028cb__20210813_384_PBMC_22_S12.sinto.mm.fragments.bed && LC_ALL=C sort -k 1,1 -k 2,2n -k 3,3n fragments_bap/fragments_mm/HYA__5028cb__20210813_384_PBMC_22_S12.sinto.mm.fragments.bed | bgzip -c > fragments_bap/fragments_mm/HYA__5028cb__20210813_384_PBMC_22_S12.sinto.mm.fragments.tsv.gz && tabix -p bed fragments_bap/fragments_mm/HYA__5028cb__20210813_384_PBMC_22_S12.sinto.mm.fragments.tsv.gz\"\n"
     ]
    }
   ],
   "source": [
    "for s in samples:\n",
    "    f_bam_in = os.path.join(bam_paths, s + bam_suffix)\n",
    "    f_bed_out = os.path.join(newdir, s + bed_suffix)\n",
    "    f_frag_out = os.path.join(newdir, s + frag_suffix)\n",
    "    cmd = (\n",
    "          f\"\\\"sinto fragments -b {f_bam_in} \"\n",
    "          f\"-m 30 \"\n",
    "          f\"--barcodetag {bc_tag} \"\n",
    "          f\"--min_distance 10 \"\n",
    "          f\"--max_distance 5000 \"\n",
    "          f\"--chunksize 5000000 \"\n",
    "           \"--use_chrom '^(chr|)([0-9]{1,2}|[XY]|[23][LR])$' \"\n",
    "          f\"-p 20 \"\n",
    "          f\"-f {f_bed_out} && \"\n",
    "          f\"LC_ALL=C sort -k 1,1 -k 2,2n -k 3,3n \"\n",
    "          f\"{f_bed_out} \"\n",
    "          f\"| bgzip -c \"\n",
    "          f\"> {f_frag_out}\"\n",
    "          )\n",
    "    cmd2 = ' && tabix -p bed ' + f_frag_out + '\"'\n",
    "    print(prog + cmd + cmd2)"
   ]
  },
  {
   "cell_type": "markdown",
   "metadata": {},
   "source": [
    "### again, put these commands into a text file and run this code in command line"
   ]
  },
  {
   "cell_type": "code",
   "execution_count": 26,
   "metadata": {},
   "outputs": [
    {
     "name": "stdout",
     "output_type": "stream",
     "text": [
      "/bin/bash: parallel: command not found\n",
      "cat: write error: Broken pipe\n"
     ]
    }
   ],
   "source": [
    "!cat fragments_bap/run_fragments_gen.parallel | parallel -j 4 --progress"
   ]
  },
  {
   "cell_type": "markdown",
   "metadata": {},
   "source": [
    "now, from here, we can proceed"
   ]
  },
  {
   "cell_type": "markdown",
   "metadata": {},
   "source": [
    "# merge hydrop bams and fragment files"
   ]
  },
  {
   "cell_type": "markdown",
   "metadata": {},
   "source": [
    "We need 1 file for sample 11+12, and 1 file for sample 21+22"
   ]
  },
  {
   "cell_type": "code",
   "execution_count": null,
   "metadata": {},
   "outputs": [],
   "source": [
    "!ls /lustre1/project/stg_00002/lcb/fderop/data/20210929_20210813_hydrop-atac_384_pbmc/fragments_bap"
   ]
  },
  {
   "cell_type": "code",
   "execution_count": null,
   "metadata": {},
   "outputs": [],
   "source": []
  }
 ],
 "metadata": {
  "kernelspec": {
   "display_name": "pycisTopic singularity 20210921",
   "language": "python",
   "name": "pycistopic_singularity"
  },
  "language_info": {
   "name": ""
  }
 },
 "nbformat": 4,
 "nbformat_minor": 4
}
