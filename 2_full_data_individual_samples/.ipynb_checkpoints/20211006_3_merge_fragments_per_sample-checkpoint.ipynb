{
 "cells": [
  {
   "cell_type": "markdown",
   "metadata": {},
   "source": [
    "# merge fragments per-sample and append samplename"
   ]
  },
  {
   "cell_type": "code",
   "execution_count": 1,
   "metadata": {},
   "outputs": [
    {
     "name": "stdout",
     "output_type": "stream",
     "text": [
      "\u001b[0m\u001b[01;31mfragments_bap/fragments_mm/Hydrop_1.sinto.mm.fragments.tsv.gz\u001b[0m\n",
      "\u001b[01;31mfragments_bap/fragments_mm/Hydrop_2.sinto.mm.fragments.tsv.gz\u001b[0m\n"
     ]
    }
   ],
   "source": [
    "ls fragments_bap/fragments_mm/*.tsv.gz"
   ]
  },
  {
   "cell_type": "code",
   "execution_count": null,
   "metadata": {},
   "outputs": [],
   "source": [
    "gunzip fragments_bap/fragments_mm/*.tsv.gz"
   ]
  },
  {
   "cell_type": "code",
   "execution_count": 2,
   "metadata": {},
   "outputs": [],
   "source": [
    "module load mawk"
   ]
  },
  {
   "cell_type": "code",
   "execution_count": 10,
   "metadata": {},
   "outputs": [],
   "source": [
    "frags=fragments_bap/fragments_mm/HYA__5028cb__20210813_384_PBMC_22_S12.sinto.mm.fragments.tsv\n",
    "newname=${frags%.tsv}.ID.tsv\n",
    "mawk '{ print $1 \"\\t\" $2 \"\\t\" $3 \"\\t\" $4 \"-22\\t\" $5}' $frags > $newname"
   ]
  },
  {
   "cell_type": "code",
   "execution_count": 11,
   "metadata": {},
   "outputs": [
    {
     "name": "stdout",
     "output_type": "stream",
     "text": [
      "fragments_bap/fragments_mm/HYA__24010b__20210813_384_PBMC_11_S9.sinto.mm.fragments.ID.tsv\n",
      "fragments_bap/fragments_mm/HYA__2beafa__20210813_384_PBMC_12_S10.sinto.mm.fragments.ID.tsv\n",
      "fragments_bap/fragments_mm/HYA__3d6da9__20210813_384_PBMC_21_S11.sinto.mm.fragments.ID.tsv\n",
      "fragments_bap/fragments_mm/HYA__5028cb__20210813_384_PBMC_22_S12.sinto.mm.fragments.ID.tsv\n",
      "fragments_bap/fragments_mm/Hydrop_1.sinto.mm.fragments.ID.tsv\n",
      "fragments_bap/fragments_mm/Hydrop_2.sinto.mm.fragments.ID.tsv\n"
     ]
    }
   ],
   "source": [
    "ls fragments_bap/fragments_mm/*ID.tsv"
   ]
  },
  {
   "cell_type": "code",
   "execution_count": 15,
   "metadata": {},
   "outputs": [],
   "source": [
    "module load BCFtools"
   ]
  },
  {
   "cell_type": "code",
   "execution_count": 16,
   "metadata": {},
   "outputs": [],
   "source": [
    "newfile=fragments_bap/fragments_mm/Hydrop_1.sinto.mm.fragments.ID.tsv\n",
    "sort --parallel=8 -S 8G -k1,1 -k 2,2n -k3,3n fragments_bap/fragments_mm/HYA__24010b__20210813_384_PBMC_11_S9.sinto.mm.fragments.ID.tsv fragments_bap/fragments_mm/HYA__2beafa__20210813_384_PBMC_12_S10.sinto.mm.fragments.ID.tsv > $newfile\n",
    "bgzip -@ 4 -i $newfile\n",
    "tabix -p bed $newfile.gz"
   ]
  },
  {
   "cell_type": "code",
   "execution_count": 17,
   "metadata": {},
   "outputs": [],
   "source": [
    "newfile=fragments_bap/fragments_mm/Hydrop_2.sinto.mm.fragments.ID.tsv\n",
    "sort --parallel=8 -S 8G -k1,1 -k 2,2n -k3,3n fragments_bap/fragments_mm/HYA__3d6da9__20210813_384_PBMC_21_S11.sinto.mm.fragments.ID.tsv fragments_bap/fragments_mm/HYA__5028cb__20210813_384_PBMC_22_S12.sinto.mm.fragments.ID.tsv > $newfile\n",
    "bgzip -@ 4 -i $newfile\n",
    "tabix -p bed $newfile.gz"
   ]
  },
  {
   "cell_type": "code",
   "execution_count": 4,
   "metadata": {},
   "outputs": [],
   "source": [
    "module load BCFtools"
   ]
  },
  {
   "cell_type": "code",
   "execution_count": 7,
   "metadata": {},
   "outputs": [
    {
     "name": "stdout",
     "output_type": "stream",
     "text": [
      "[1] 24656\n",
      "[1]+  Done                    bgzip fragments_bap/fragments_mm/Hydrop_1.sinto.mm.fragments.ID.tsv\n"
     ]
    }
   ],
   "source": [
    "bgzip fragments_bap/fragments_mm/Hydrop_1.sinto.mm.fragments.ID.tsv &\n",
    "bgzip fragments_bap/fragments_mm/Hydrop_2.sinto.mm.fragments.ID.tsv"
   ]
  },
  {
   "cell_type": "code",
   "execution_count": 8,
   "metadata": {},
   "outputs": [
    {
     "name": "stdout",
     "output_type": "stream",
     "text": [
      "[E::idx_find_and_load] Could not retrieve index file for 'fragments_bap/fragments_mm/Hydrop_1.sinto.mm.fragments.ID.tsv.gz'\n",
      "Could not load .tbi/.csi index of fragments_bap/fragments_mm/Hydrop_1.sinto.mm.fragments.ID.tsv.gz: No such file or directory\n"
     ]
    },
    {
     "ename": "",
     "evalue": "1",
     "output_type": "error",
     "traceback": []
    }
   ],
   "source": [
    "tabix -p bed fragments_bap/fragments_mm/Hydrop_?.sinto.mm.fragments.ID.tsv.gz"
   ]
  },
  {
   "cell_type": "markdown",
   "metadata": {},
   "source": [
    "# similarly, merge bams"
   ]
  },
  {
   "cell_type": "code",
   "execution_count": 1,
   "metadata": {},
   "outputs": [
    {
     "name": "stdout",
     "output_type": "stream",
     "text": [
      "HYA__24010b__20210813_384_PBMC_11_S9.bwa.out.possorted.mm.bam\n",
      "HYA__24010b__20210813_384_PBMC_11_S9.bwa.out.possorted.mm.bam.bai\n",
      "HYA__2beafa__20210813_384_PBMC_12_S10.bwa.out.possorted.mm.bam\n",
      "HYA__2beafa__20210813_384_PBMC_12_S10.bwa.out.possorted.mm.bam.bai\n",
      "HYA__3d6da9__20210813_384_PBMC_21_S11.bwa.out.possorted.mm.bam\n",
      "HYA__3d6da9__20210813_384_PBMC_21_S11.bwa.out.possorted.mm.bam.bai\n",
      "HYA__5028cb__20210813_384_PBMC_22_S12.bwa.out.possorted.mm.bam\n",
      "HYA__5028cb__20210813_384_PBMC_22_S12.bwa.out.possorted.mm.bam.bai\n",
      "Hydrop_1.bwa.out.possorted.mm.bam\n",
      "Hydrop_1.bwa.out.possorted.mm.bam.bai\n",
      "Hydrop_2.bwa.out.possorted.mm.bam\n",
      "Hydrop_2.bwa.out.possorted.mm.bam.bai\n"
     ]
    }
   ],
   "source": [
    "ls fragments_bap/bam_postbap"
   ]
  },
  {
   "cell_type": "markdown",
   "metadata": {},
   "source": [
    "need to add an id to all the barcodes in the bams first"
   ]
  },
  {
   "cell_type": "code",
   "execution_count": 3,
   "metadata": {},
   "outputs": [],
   "source": [
    "module load SAMtools"
   ]
  },
  {
   "cell_type": "code",
   "execution_count": 4,
   "metadata": {},
   "outputs": [],
   "source": [
    "samtools view -h -@ 12 fragments_bap/bam_postbap/HYA__24010b__20210813_384_PBMC_11_S9.bwa.out.possorted.mm.bam > fragments_bap/bam_postbap/HYA__24010b__20210813_384_PBMC_11_S9.bwa.out.possorted.mm.txt | "
   ]
  },
  {
   "cell_type": "code",
   "execution_count": 5,
   "metadata": {},
   "outputs": [],
   "source": [
    "samtools view -h -@ 12 fragments_bap/bam_postbap/Hydrop_2.bwa.out.possorted.mm.bam > fragments_bap/bam_postbap/Hydrop_2.bwa.out.possorted.mm.bam.txt"
   ]
  },
  {
   "cell_type": "markdown",
   "metadata": {},
   "source": [
    "the code below does the following:\n",
    "1. read bam using samtools view and output text lines\n",
    "2. pipe text lines into mawk. if the line starts with `VH` (sequence line), then print all fields, and add sample identifier (e.g. `\"-11\"`) to fields 12 and 17 (CB and CR tags). else, print the entire line.\n",
    "3. pipe that entire output into samtools to generate a bam again"
   ]
  },
  {
   "cell_type": "markdown",
   "metadata": {},
   "source": [
    "NOTE: the below code is deprecated, location of TAG is not necessarily same for each record!"
   ]
  },
  {
   "cell_type": "code",
   "execution_count": 15,
   "metadata": {},
   "outputs": [
    {
     "name": "stdout",
     "output_type": "stream",
     "text": [
      "bash: cd: fragments_bap/bam_postbap/: No such file or directory\n",
      "[1] 18240\n"
     ]
    }
   ],
   "source": [
    "samtools view -h -@ 12 $bam | mawk -F OFS=\"\\t\" '{if ($1 ~ /^VH/) {$12 = $12 \"-11\"; $17 = $17 \"-11\"; print $0} else {print $0}}' | samtools view -b -o $outbam-@ 12 "
   ]
  },
  {
   "cell_type": "code",
   "execution_count": 8,
   "metadata": {},
   "outputs": [
    {
     "name": "stdout",
     "output_type": "stream",
     "text": [
      "[2] 8200\n"
     ]
    }
   ],
   "source": [
    "bam=fragments_bap/bam_postbap/HYA__24010b__20210813_384_PBMC_11_S9.bwa.out.possorted.mm.bam\n",
    "outbam=${bam%.bam}.ID.bam\n",
    "samtools view -h -@ 12 $bam | mawk -F OFS=\"\\t\" '{if ($1 ~ /^VH/) {$12 = $12 \"-11\"; $17 = $17 \"-11\"; print $0} else {print $0}}' | samtools view -b -o $outbam -@ 8 &"
   ]
  },
  {
   "cell_type": "code",
   "execution_count": 6,
   "metadata": {},
   "outputs": [
    {
     "name": "stdout",
     "output_type": "stream",
     "text": [
      "[1] 7900\n"
     ]
    }
   ],
   "source": [
    "bam=fragments_bap/bam_postbap/HYA__2beafa__20210813_384_PBMC_12_S10.bwa.out.possorted.mm.bam\n",
    "outbam=${bam%.bam}.ID.bam\n",
    "samtools view -h -@ 12 $bam | mawk -F OFS=\"\\t\" '{if ($1 ~ /^VH/) {$12 = $12 \"-12\"; $17 = $17 \"-12\"; print $0} else {print $0}}' | samtools view -b -o $outbam -@ 8 &"
   ]
  },
  {
   "cell_type": "code",
   "execution_count": 9,
   "metadata": {},
   "outputs": [
    {
     "name": "stdout",
     "output_type": "stream",
     "text": [
      "[3] 8252\n"
     ]
    }
   ],
   "source": [
    "bam=fragments_bap/bam_postbap/HYA__3d6da9__20210813_384_PBMC_21_S11.bwa.out.possorted.mm.bam\n",
    "outbam=${bam%.bam}.ID.bam\n",
    "samtools view -h -@ 12 $bam | mawk -F OFS=\"\\t\" '{if ($1 ~ /^VH/) {$12 = $12 \"-21\"; $17 = $17 \"-21\"; print $0} else {print $0}}' | samtools view -b -o $outbam -@ 8 &"
   ]
  },
  {
   "cell_type": "code",
   "execution_count": 10,
   "metadata": {},
   "outputs": [
    {
     "name": "stdout",
     "output_type": "stream",
     "text": [
      "[4] 8281\n"
     ]
    }
   ],
   "source": [
    "bam=fragments_bap/bam_postbap/HYA__5028cb__20210813_384_PBMC_22_S12.bwa.out.possorted.mm.bam\n",
    "outbam=${bam%.bam}.ID.bam\n",
    "samtools view -h -@ 12 $bam | mawk -F OFS=\"\\t\" '{if ($1 ~ /^VH/) {$12 = $12 \"-22\"; $17 = $17 \"-22\"; print $0} else {print $0}}' | samtools view -b -o $outbam -@ 8 &"
   ]
  },
  {
   "cell_type": "code",
   "execution_count": 18,
   "metadata": {},
   "outputs": [],
   "source": [
    "jobs"
   ]
  },
  {
   "cell_type": "code",
   "execution_count": 29,
   "metadata": {},
   "outputs": [
    {
     "name": "stdout",
     "output_type": "stream",
     "text": [
      "[1] 22819\n",
      "[2] 22820\n"
     ]
    }
   ],
   "source": [
    "samtools merge -@ 12 -o fragments_bap/bam_postbap/Hydrop_1.bwa.out.possorted.mm.bam fragments_bap/bam_postbap/HYA__24010b__20210813_384_PBMC_11_S9.bwa.out.possorted.mm.ID.bam fragments_bap/bam_postbap/HYA__2beafa__20210813_384_PBMC_12_S10.bwa.out.possorted.mm.ID.bam -f &\n",
    "samtools merge -@ 12 -o fragments_bap/bam_postbap/Hydrop_2.bwa.out.possorted.mm.bam fragments_bap/bam_postbap/HYA__3d6da9__20210813_384_PBMC_21_S11.bwa.out.possorted.mm.ID.bam fragments_bap/bam_postbap/HYA__5028cb__20210813_384_PBMC_22_S12.bwa.out.possorted.mm.ID.bam -f &"
   ]
  },
  {
   "cell_type": "code",
   "execution_count": 34,
   "metadata": {},
   "outputs": [
    {
     "name": "stdout",
     "output_type": "stream",
     "text": [
      "[1] 2367\n"
     ]
    }
   ],
   "source": [
    "samtools merge -@ 12 -o fragments_bap/bam_postbap/Hydrop_2.bwa.out.possorted.mm.bam fragments_bap/bam_postbap/HYA__3d6da9__20210813_384_PBMC_21_S11.bwa.out.possorted.mm.ID.bam fragments_bap/bam_postbap/HYA__5028cb__20210813_384_PBMC_22_S12.bwa.out.possorted.mm.ID.bam -f &"
   ]
  },
  {
   "cell_type": "code",
   "execution_count": 37,
   "metadata": {},
   "outputs": [
    {
     "name": "stdout",
     "output_type": "stream",
     "text": [
      "[1]+  Running                 samtools merge -@ 12 -o fragments_bap/bam_postbap/Hydrop_2.bwa.out.possorted.mm.bam fragments_bap/bam_postbap/HYA__3d6da9__20210813_384_PBMC_21_S11.bwa.out.possorted.mm.ID.bam fragments_bap/bam_postbap/HYA__5028cb__20210813_384_PBMC_22_S12.bwa.out.possorted.mm.ID.bam -f &\n"
     ]
    }
   ],
   "source": [
    "jobs"
   ]
  },
  {
   "cell_type": "code",
   "execution_count": 38,
   "metadata": {},
   "outputs": [
    {
     "name": "stdout",
     "output_type": "stream",
     "text": [
      "[1]+  Done                    samtools merge -@ 12 -o fragments_bap/bam_postbap/Hydrop_2.bwa.out.possorted.mm.bam fragments_bap/bam_postbap/HYA__3d6da9__20210813_384_PBMC_21_S11.bwa.out.possorted.mm.ID.bam fragments_bap/bam_postbap/HYA__5028cb__20210813_384_PBMC_22_S12.bwa.out.possorted.mm.ID.bam -f\n"
     ]
    }
   ],
   "source": [
    "jobs"
   ]
  },
  {
   "cell_type": "code",
   "execution_count": 33,
   "metadata": {},
   "outputs": [],
   "source": [
    "samtools index fragments_bap/bam_postbap/Hydrop_*.bam"
   ]
  },
  {
   "cell_type": "code",
   "execution_count": 39,
   "metadata": {},
   "outputs": [],
   "source": [
    "samtools index fragments_bap/bam_postbap/Hydrop_2.bwa.out.possorted.mm.bam"
   ]
  },
  {
   "cell_type": "markdown",
   "metadata": {},
   "source": [
    "# merge bams using ghuls script"
   ]
  },
  {
   "cell_type": "code",
   "execution_count": null,
   "metadata": {},
   "outputs": [],
   "source": [
    "/staging/leuven/stg_00002/lcb/ghuls/software/single_cell_toolkit_rust/target/release/append_string_to_bc_tag_try CB '-11'"
   ]
  },
  {
   "cell_type": "code",
   "execution_count": 41,
   "metadata": {},
   "outputs": [
    {
     "name": "stdout",
     "output_type": "stream",
     "text": [
      "[1]+  Running                 /staging/leuven/stg_00002/lcb/ghuls/software/single_cell_toolkit_rust/target/release/append_string_to_bc_tag_try $bam $outbam CB '-11' &\n"
     ]
    }
   ],
   "source": [
    "jobs"
   ]
  },
  {
   "cell_type": "code",
   "execution_count": 40,
   "metadata": {},
   "outputs": [
    {
     "name": "stdout",
     "output_type": "stream",
     "text": [
      "[1] 13717\n"
     ]
    }
   ],
   "source": [
    "bam=fragments_bap/bam_postbap/HYA__24010b__20210813_384_PBMC_11_S9.bwa.out.possorted.mm.bam\n",
    "outbam=${bam%.bam}.ID.bam\n",
    "/staging/leuven/stg_00002/lcb/ghuls/software/single_cell_toolkit_rust/target/release/append_string_to_bc_tag_try $bam $outbam CB '-11' &"
   ]
  },
  {
   "cell_type": "code",
   "execution_count": 42,
   "metadata": {},
   "outputs": [
    {
     "name": "stdout",
     "output_type": "stream",
     "text": [
      "[2] 13818\n"
     ]
    }
   ],
   "source": [
    "bam=fragments_bap/bam_postbap/HYA__2beafa__20210813_384_PBMC_12_S10.bwa.out.possorted.mm.bam\n",
    "outbam=${bam%.bam}.ID.bam\n",
    "/staging/leuven/stg_00002/lcb/ghuls/software/single_cell_toolkit_rust/target/release/append_string_to_bc_tag_try $bam $outbam CB '-12' &"
   ]
  },
  {
   "cell_type": "code",
   "execution_count": 43,
   "metadata": {},
   "outputs": [
    {
     "name": "stdout",
     "output_type": "stream",
     "text": [
      "[3] 13865\n"
     ]
    }
   ],
   "source": [
    "bam=fragments_bap/bam_postbap/HYA__3d6da9__20210813_384_PBMC_21_S11.bwa.out.possorted.mm.bam\n",
    "outbam=${bam%.bam}.ID.bam\n",
    "/staging/leuven/stg_00002/lcb/ghuls/software/single_cell_toolkit_rust/target/release/append_string_to_bc_tag_try $bam $outbam CB '-21' &"
   ]
  },
  {
   "cell_type": "code",
   "execution_count": 44,
   "metadata": {},
   "outputs": [
    {
     "name": "stdout",
     "output_type": "stream",
     "text": [
      "[4] 13908\n"
     ]
    }
   ],
   "source": [
    "bam=fragments_bap/bam_postbap/HYA__5028cb__20210813_384_PBMC_22_S12.bwa.out.possorted.mm.bam\n",
    "outbam=${bam%.bam}.ID.bam\n",
    "/staging/leuven/stg_00002/lcb/ghuls/software/single_cell_toolkit_rust/target/release/append_string_to_bc_tag_try $bam $outbam CB '-22' &"
   ]
  },
  {
   "cell_type": "code",
   "execution_count": 46,
   "metadata": {},
   "outputs": [
    {
     "name": "stdout",
     "output_type": "stream",
     "text": [
      "[1]   Running                 /staging/leuven/stg_00002/lcb/ghuls/software/single_cell_toolkit_rust/target/release/append_string_to_bc_tag_try $bam $outbam CB '-11' &\n",
      "[2]   Running                 /staging/leuven/stg_00002/lcb/ghuls/software/single_cell_toolkit_rust/target/release/append_string_to_bc_tag_try $bam $outbam CB '-12' &\n",
      "[3]-  Running                 /staging/leuven/stg_00002/lcb/ghuls/software/single_cell_toolkit_rust/target/release/append_string_to_bc_tag_try $bam $outbam CB '-21' &\n",
      "[4]+  Running                 /staging/leuven/stg_00002/lcb/ghuls/software/single_cell_toolkit_rust/target/release/append_string_to_bc_tag_try $bam $outbam CB '-22' &\n"
     ]
    }
   ],
   "source": [
    "jobs"
   ]
  },
  {
   "cell_type": "code",
   "execution_count": null,
   "metadata": {},
   "outputs": [],
   "source": []
  }
 ],
 "metadata": {
  "kernelspec": {
   "display_name": "Bash",
   "language": "bash",
   "name": "bash"
  },
  "language_info": {
   "codemirror_mode": "shell",
   "file_extension": ".sh",
   "mimetype": "text/x-sh",
   "name": "bash"
  }
 },
 "nbformat": 4,
 "nbformat_minor": 4
}
