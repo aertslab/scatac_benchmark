{
 "cells": [
  {
   "cell_type": "markdown",
   "id": "b982883f",
   "metadata": {
    "papermill": {
     "duration": 0.020017,
     "end_time": "2021-10-11T11:55:59.678594",
     "exception": false,
     "start_time": "2021-10-11T11:55:59.658577",
     "status": "completed"
    },
    "tags": []
   },
   "source": [
    "# pycisTopic analysis\n",
    "\n",
    "Full dataset, using SCREEN regions."
   ]
  },
  {
   "cell_type": "code",
   "execution_count": 1,
   "id": "445dfe32",
   "metadata": {
    "execution": {
     "iopub.execute_input": "2021-10-11T11:55:59.732227Z",
     "iopub.status.busy": "2021-10-11T11:55:59.731827Z",
     "iopub.status.idle": "2021-10-11T11:55:59.746640Z",
     "shell.execute_reply": "2021-10-11T11:55:59.746076Z"
    },
    "papermill": {
     "duration": 0.048346,
     "end_time": "2021-10-11T11:55:59.746776",
     "exception": false,
     "start_time": "2021-10-11T11:55:59.698430",
     "status": "completed"
    },
    "tags": []
   },
   "outputs": [
    {
     "data": {
      "text/plain": [
       "'0.1.dev300+g7494158'"
      ]
     },
     "execution_count": 1,
     "metadata": {},
     "output_type": "execute_result"
    }
   ],
   "source": [
    "import pycisTopic\n",
    "pycisTopic.__version__"
   ]
  },
  {
   "cell_type": "code",
   "execution_count": 2,
   "id": "ae0683c4",
   "metadata": {
    "execution": {
     "iopub.execute_input": "2021-10-11T11:55:59.794621Z",
     "iopub.status.busy": "2021-10-11T11:55:59.794250Z",
     "iopub.status.idle": "2021-10-11T11:55:59.797165Z",
     "shell.execute_reply": "2021-10-11T11:55:59.796839Z"
    },
    "papermill": {
     "duration": 0.027758,
     "end_time": "2021-10-11T11:55:59.797244",
     "exception": false,
     "start_time": "2021-10-11T11:55:59.769486",
     "status": "completed"
    },
    "tags": []
   },
   "outputs": [],
   "source": [
    "import warnings\n",
    "warnings.filterwarnings('ignore')\n",
    "warnings.simplefilter('ignore')"
   ]
  },
  {
   "cell_type": "code",
   "execution_count": 3,
   "id": "fe247ad7",
   "metadata": {
    "execution": {
     "iopub.execute_input": "2021-10-11T11:55:59.842846Z",
     "iopub.status.busy": "2021-10-11T11:55:59.842475Z",
     "iopub.status.idle": "2021-10-11T11:56:00.959862Z",
     "shell.execute_reply": "2021-10-11T11:56:00.958699Z"
    },
    "papermill": {
     "duration": 1.142038,
     "end_time": "2021-10-11T11:56:00.960154",
     "exception": false,
     "start_time": "2021-10-11T11:55:59.818116",
     "status": "completed"
    },
    "tags": []
   },
   "outputs": [],
   "source": [
    "import pickle\n",
    "import pandas as pd"
   ]
  },
  {
   "cell_type": "code",
   "execution_count": 4,
   "id": "560d4ac9",
   "metadata": {
    "execution": {
     "iopub.execute_input": "2021-10-11T11:56:01.012634Z",
     "iopub.status.busy": "2021-10-11T11:56:01.012249Z",
     "iopub.status.idle": "2021-10-11T11:56:01.015658Z",
     "shell.execute_reply": "2021-10-11T11:56:01.015268Z"
    },
    "papermill": {
     "duration": 0.031046,
     "end_time": "2021-10-11T11:56:01.015741",
     "exception": false,
     "start_time": "2021-10-11T11:56:00.984695",
     "status": "completed"
    },
    "tags": []
   },
   "outputs": [],
   "source": [
    "import os\n",
    "wdir = '/lustre1/project/stg_00002/lcb/fderop/data/20211008_hca_benchmark_rerun_all_with_hydrop'\n",
    "os.chdir( wdir )"
   ]
  },
  {
   "cell_type": "code",
   "execution_count": 5,
   "id": "22945199",
   "metadata": {
    "execution": {
     "iopub.execute_input": "2021-10-11T11:56:01.068164Z",
     "iopub.status.busy": "2021-10-11T11:56:01.067755Z",
     "iopub.status.idle": "2021-10-11T11:56:01.070794Z",
     "shell.execute_reply": "2021-10-11T11:56:01.070393Z"
    },
    "papermill": {
     "duration": 0.030639,
     "end_time": "2021-10-11T11:56:01.070906",
     "exception": false,
     "start_time": "2021-10-11T11:56:01.040267",
     "status": "completed"
    },
    "tags": []
   },
   "outputs": [],
   "source": [
    "import glob\n",
    "from collections import OrderedDict"
   ]
  },
  {
   "cell_type": "code",
   "execution_count": 6,
   "id": "e3711c63",
   "metadata": {
    "execution": {
     "iopub.execute_input": "2021-10-11T11:56:01.121391Z",
     "iopub.status.busy": "2021-10-11T11:56:01.120988Z",
     "iopub.status.idle": "2021-10-11T11:56:01.127211Z",
     "shell.execute_reply": "2021-10-11T11:56:01.126803Z"
    },
    "papermill": {
     "duration": 0.033837,
     "end_time": "2021-10-11T11:56:01.127290",
     "exception": false,
     "start_time": "2021-10-11T11:56:01.093453",
     "status": "completed"
    },
    "tags": []
   },
   "outputs": [
    {
     "data": {
      "text/plain": [
       "odict_keys(['fulldata_merged'])"
      ]
     },
     "execution_count": 6,
     "metadata": {},
     "output_type": "execute_result"
    }
   ],
   "source": [
    "filenames = glob.glob('cistopic_objs__screen/*merged*filtered.pkl')\n",
    "samples = [item.replace(\"__cistopic_obj_filtered.pkl\", \"\") for item in filenames]\n",
    "samples = [item.replace(\"cistopic_objs__screen/\", \"\") for item in samples]\n",
    "files_dict = {samples[i]: filenames[i] for i in range(len(samples))}\n",
    "files_dict = OrderedDict(sorted(files_dict.items()))\n",
    "files_dict.keys()"
   ]
  },
  {
   "cell_type": "markdown",
   "id": "05e9311b",
   "metadata": {
    "papermill": {
     "duration": 0.021502,
     "end_time": "2021-10-11T11:56:01.170636",
     "exception": false,
     "start_time": "2021-10-11T11:56:01.149134",
     "status": "completed"
    },
    "tags": []
   },
   "source": [
    "Create a dictionary with fragments files for each sample"
   ]
  },
  {
   "cell_type": "markdown",
   "id": "f36b78fa",
   "metadata": {
    "papermill": {
     "duration": 0.020689,
     "end_time": "2021-10-11T11:56:01.212345",
     "exception": false,
     "start_time": "2021-10-11T11:56:01.191656",
     "status": "completed"
    },
    "tags": []
   },
   "source": [
    "# Run models for quick visualize/clustering"
   ]
  },
  {
   "cell_type": "markdown",
   "id": "e8c92195",
   "metadata": {
    "papermill": {
     "duration": 0.021195,
     "end_time": "2021-10-11T11:56:01.254933",
     "exception": false,
     "start_time": "2021-10-11T11:56:01.233738",
     "status": "completed"
    },
    "tags": []
   },
   "source": [
    "Read filtered cistopic objs"
   ]
  },
  {
   "cell_type": "code",
   "execution_count": 7,
   "id": "440faf20",
   "metadata": {
    "execution": {
     "iopub.execute_input": "2021-10-11T11:56:01.301973Z",
     "iopub.status.busy": "2021-10-11T11:56:01.301590Z",
     "iopub.status.idle": "2021-10-11T11:56:18.688831Z",
     "shell.execute_reply": "2021-10-11T11:56:18.689925Z"
    },
    "papermill": {
     "duration": 17.414791,
     "end_time": "2021-10-11T11:56:18.690235",
     "exception": false,
     "start_time": "2021-10-11T11:56:01.275444",
     "status": "completed"
    },
    "tags": []
   },
   "outputs": [
    {
     "name": "stdout",
     "output_type": "stream",
     "text": [
      "Loaded filtered cistopic object fulldata_merged\n"
     ]
    }
   ],
   "source": [
    "f_cto_dir = 'cistopic_objs__screen'\n",
    "\n",
    "cistopic_obj_dict = {}\n",
    "for key in files_dict.keys():\n",
    "    f_cto = os.path.join(wdir, f_cto_dir, key + '__cistopic_obj_filtered.pkl')\n",
    "    if(os.path.isfile(f_cto)):\n",
    "        with open(f_cto, 'rb') as f:\n",
    "            cistopic_obj_dict[key] = pickle.load(f)\n",
    "        print(f\"Loaded filtered cistopic object {key}\")\n",
    "    else:\n",
    "        print(f\"file {f_cto} doesn't exist\")"
   ]
  },
  {
   "cell_type": "code",
   "execution_count": 8,
   "id": "cc74f6ba",
   "metadata": {
    "execution": {
     "iopub.execute_input": "2021-10-11T11:56:18.744818Z",
     "iopub.status.busy": "2021-10-11T11:56:18.744437Z",
     "iopub.status.idle": "2021-10-11T11:56:18.746546Z",
     "shell.execute_reply": "2021-10-11T11:56:18.746229Z"
    },
    "papermill": {
     "duration": 0.032127,
     "end_time": "2021-10-11T11:56:18.746624",
     "exception": false,
     "start_time": "2021-10-11T11:56:18.714497",
     "status": "completed"
    },
    "tags": []
   },
   "outputs": [],
   "source": [
    "from pycisTopic.lda_models import run_cgs_models_mallet"
   ]
  },
  {
   "cell_type": "markdown",
   "id": "f8a5b7f6",
   "metadata": {
    "papermill": {
     "duration": 0.021283,
     "end_time": "2021-10-11T11:56:18.789855",
     "exception": false,
     "start_time": "2021-10-11T11:56:18.768572",
     "status": "completed"
    },
    "tags": []
   },
   "source": [
    "#### mallet models"
   ]
  },
  {
   "cell_type": "code",
   "execution_count": 9,
   "id": "403922e0",
   "metadata": {
    "execution": {
     "iopub.execute_input": "2021-10-11T11:56:18.837254Z",
     "iopub.status.busy": "2021-10-11T11:56:18.836873Z",
     "iopub.status.idle": "2021-10-11T11:56:18.839399Z",
     "shell.execute_reply": "2021-10-11T11:56:18.839089Z"
    },
    "papermill": {
     "duration": 0.028563,
     "end_time": "2021-10-11T11:56:18.839472",
     "exception": false,
     "start_time": "2021-10-11T11:56:18.810909",
     "status": "completed"
    },
    "tags": []
   },
   "outputs": [],
   "source": [
    "# set the memory limit for mallet (1GB default is not enough)\n",
    "os.environ['MALLET_MEMORY'] = '100G'"
   ]
  },
  {
   "cell_type": "code",
   "execution_count": 10,
   "id": "4d851ac2",
   "metadata": {
    "execution": {
     "iopub.execute_input": "2021-10-11T11:56:18.887772Z",
     "iopub.status.busy": "2021-10-11T11:56:18.887400Z",
     "iopub.status.idle": "2021-10-11T11:56:18.889547Z",
     "shell.execute_reply": "2021-10-11T11:56:18.889242Z"
    },
    "papermill": {
     "duration": 0.028585,
     "end_time": "2021-10-11T11:56:18.889621",
     "exception": false,
     "start_time": "2021-10-11T11:56:18.861036",
     "status": "completed"
    },
    "tags": []
   },
   "outputs": [],
   "source": [
    "f_mod_dir = 'models__screen__mallet'\n",
    "if not os.path.exists(os.path.join(wdir, f_mod_dir)):\n",
    "    os.makedirs(os.path.join(wdir, f_mod_dir))\n",
    "\n",
    "n_topics = [50]\n",
    "n_iter = 400"
   ]
  },
  {
   "cell_type": "code",
   "execution_count": 11,
   "id": "bf848585",
   "metadata": {
    "execution": {
     "iopub.execute_input": "2021-10-11T11:56:18.940886Z",
     "iopub.status.busy": "2021-10-11T11:56:18.940491Z",
     "iopub.status.idle": "2021-10-11T17:32:54.931955Z",
     "shell.execute_reply": "2021-10-11T17:32:54.932274Z"
    },
    "papermill": {
     "duration": 20196.022308,
     "end_time": "2021-10-11T17:32:54.933483",
     "exception": false,
     "start_time": "2021-10-11T11:56:18.911175",
     "status": "completed"
    },
    "tags": []
   },
   "outputs": [
    {
     "name": "stdout",
     "output_type": "stream",
     "text": [
      "Running fulldata_merged\n",
      "2021-10-11 13:56:18,938 cisTopic     INFO     Formatting input to corpus\n",
      "2021-10-11 13:56:31,112 gensim.corpora.dictionary INFO     adding document #0 to Dictionary(0 unique tokens: [])\n",
      "2021-10-11 13:57:45,537 gensim.corpora.dictionary INFO     adding document #10000 to Dictionary(0 unique tokens: [])\n",
      "2021-10-11 13:59:22,333 gensim.corpora.dictionary INFO     adding document #20000 to Dictionary(0 unique tokens: [])\n",
      "2021-10-11 14:02:02,753 gensim.corpora.dictionary INFO     adding document #30000 to Dictionary(0 unique tokens: [])\n",
      "2021-10-11 14:03:05,360 gensim.corpora.dictionary INFO     adding document #40000 to Dictionary(0 unique tokens: [])\n",
      "2021-10-11 14:05:14,692 gensim.corpora.dictionary INFO     built Dictionary(2208284 unique tokens: ['0', '1', '2', '3', '4']...) from 45357 documents (total 573904247 corpus positions)\n",
      "2021-10-11 14:05:14,695 cisTopic     INFO     Running model with 50 topics\n",
      "2021-10-11 14:05:14,762 LDAMalletWrapper INFO     Serializing temporary corpus to /tmp/fulldata_merged_mallet2corpus.txt\n",
      "2021-10-11 14:27:32,836 LDAMalletWrapper INFO     Converting temporary corpus to MALLET format with mallet import-file --preserve-case --keep-sequence --remove-stopwords --token-regex \"\\S+\" --input /tmp/fulldata_merged_mallet2corpus.txt --output /tmp/fulldata_merged_mallet2corpus.mallet\n",
      "2021-10-11 14:32:23,084 LDAMalletWrapper INFO     Training MALLET LDA with mallet train-topics --input /tmp/fulldata_merged_mallet2corpus.mallet --num-topics 50  --alpha 50 --beta 0.1 --optimize-interval 0 --num-threads 32 --output-state /tmp/fulldata_merged_mallet29db0aa_state.mallet.gz --output-doc-topics /tmp/fulldata_merged_mallet29db0aa_doctopics.txt --output-topic-keys /tmp/fulldata_merged_mallet29db0aa_topickeys.txt --num-iterations 400 --inferencer-filename /tmp/fulldata_merged_mallet29db0aa_inferencer.mallet --doc-topics-threshold 0.0  --random-seed 555\n",
      "2021-10-11 19:06:50,977 LDAMalletWrapper INFO     loading assigned topics from /tmp/fulldata_merged_mallet29db0aa_state.mallet.gz\n",
      "2021-10-11 19:32:41,734 cisTopic     INFO     Model with 50 topics done!\n",
      "Finished fulldata_merged\n"
     ]
    }
   ],
   "source": [
    "# mallet implementation\n",
    "models_dict = {}\n",
    "for key in cistopic_obj_dict.keys():\n",
    "    f_mod = os.path.join(wdir, f_mod_dir, key + '__models_' + str(n_iter) + '_iter.pkl')\n",
    "    if os.path.isfile(f_mod):\n",
    "        print(f\"Loading {f_mod}\")\n",
    "        with open(f_mod, 'rb') as f:\n",
    "            models_dict[key] = pickle.load(f)\n",
    "    else:\n",
    "        print(f\"Running {key}\")\n",
    "        model = run_cgs_models_mallet(\n",
    "                            'mallet',\n",
    "                            cistopic_obj_dict[key],\n",
    "                            n_topics=n_topics,\n",
    "                            n_cpu=32,\n",
    "                            n_iter=n_iter,\n",
    "                            random_state=555,\n",
    "                            alpha=50,\n",
    "                            alpha_by_topic=True,\n",
    "                            eta=0.1,\n",
    "                            eta_by_topic=False,\n",
    "                            tmp_path=os.path.join('/tmp', key + '_mallet2')\n",
    "                            )\n",
    "        # Save\n",
    "        with open(f_mod, 'wb') as f:\n",
    "            pickle.dump(model, f)\n",
    "        print(f\"Finished {key}\")\n",
    "        models_dict[key] = model"
   ]
  },
  {
   "cell_type": "markdown",
   "id": "f030a5c0",
   "metadata": {
    "papermill": {
     "duration": 0.028381,
     "end_time": "2021-10-11T17:32:55.028615",
     "exception": false,
     "start_time": "2021-10-11T17:32:55.000234",
     "status": "completed"
    },
    "tags": []
   },
   "source": [
    "### Read in LDA/mallett models"
   ]
  },
  {
   "cell_type": "code",
   "execution_count": 12,
   "id": "63f7d1e4",
   "metadata": {
    "execution": {
     "iopub.execute_input": "2021-10-11T17:32:55.094523Z",
     "iopub.status.busy": "2021-10-11T17:32:55.094149Z",
     "iopub.status.idle": "2021-10-11T17:32:55.096196Z",
     "shell.execute_reply": "2021-10-11T17:32:55.095877Z"
    },
    "papermill": {
     "duration": 0.044675,
     "end_time": "2021-10-11T17:32:55.096272",
     "exception": false,
     "start_time": "2021-10-11T17:32:55.051597",
     "status": "completed"
    },
    "tags": []
   },
   "outputs": [],
   "source": [
    "from pycisTopic.lda_models import evaluate_models\n",
    "import matplotlib.pyplot as plt"
   ]
  },
  {
   "cell_type": "code",
   "execution_count": 13,
   "id": "34804f1b",
   "metadata": {
    "execution": {
     "iopub.execute_input": "2021-10-11T17:32:55.154017Z",
     "iopub.status.busy": "2021-10-11T17:32:55.153632Z",
     "iopub.status.idle": "2021-10-11T17:32:58.714997Z",
     "shell.execute_reply": "2021-10-11T17:32:58.715328Z"
    },
    "papermill": {
     "duration": 3.594539,
     "end_time": "2021-10-11T17:32:58.715448",
     "exception": false,
     "start_time": "2021-10-11T17:32:55.120909",
     "status": "completed"
    },
    "tags": []
   },
   "outputs": [
    {
     "name": "stdout",
     "output_type": "stream",
     "text": [
      "Loaded fulldata_merged\n"
     ]
    }
   ],
   "source": [
    "f_mod_dir = 'models__screen__mallet'\n",
    "\n",
    "models_dict = {}\n",
    "for key in cistopic_obj_dict.keys():\n",
    "    f_mod = os.path.join(wdir, f_mod_dir, key + '__models_' + str(n_iter) + '_iter.pkl')\n",
    "    if(os.path.isfile(f_mod)):\n",
    "        with open(f_mod, 'rb') as f:\n",
    "            models_dict[key] = pickle.load(f)\n",
    "        print(f\"Loaded {key}\")"
   ]
  },
  {
   "cell_type": "code",
   "execution_count": 14,
   "id": "f90425bf",
   "metadata": {
    "execution": {
     "iopub.execute_input": "2021-10-11T17:32:58.781733Z",
     "iopub.status.busy": "2021-10-11T17:32:58.781355Z",
     "iopub.status.idle": "2021-10-11T17:33:01.959527Z",
     "shell.execute_reply": "2021-10-11T17:33:01.960533Z"
    },
    "papermill": {
     "duration": 3.221534,
     "end_time": "2021-10-11T17:33:01.960861",
     "exception": false,
     "start_time": "2021-10-11T17:32:58.739327",
     "status": "completed"
    },
    "tags": []
   },
   "outputs": [],
   "source": [
    "for key in models_dict.keys():\n",
    "    model=evaluate_models(models_dict[key],\n",
    "                         select_model=50, \n",
    "                         return_model=True, \n",
    "                         metrics=['Arun_2010','Cao_Juan_2009', 'Minmo_2011', 'loglikelihood'],\n",
    "                         plot=False, # disabled since we only test one model here\n",
    "                         plot_metrics=False\n",
    "                         )\n",
    "    cistopic_obj_dict[key].add_LDA_model(model)"
   ]
  },
  {
   "cell_type": "code",
   "execution_count": 15,
   "id": "6208f437",
   "metadata": {
    "execution": {
     "iopub.execute_input": "2021-10-11T17:33:02.018824Z",
     "iopub.status.busy": "2021-10-11T17:33:02.018458Z",
     "iopub.status.idle": "2021-10-11T17:33:05.673021Z",
     "shell.execute_reply": "2021-10-11T17:33:05.671908Z"
    },
    "papermill": {
     "duration": 3.684917,
     "end_time": "2021-10-11T17:33:05.673285",
     "exception": false,
     "start_time": "2021-10-11T17:33:01.988368",
     "status": "completed"
    },
    "tags": []
   },
   "outputs": [],
   "source": [
    "from pycisTopic.clust_vis import find_clusters, run_umap, run_tsne, plot_metadata, plot_topic"
   ]
  },
  {
   "cell_type": "markdown",
   "id": "c764f6ee",
   "metadata": {
    "papermill": {
     "duration": 0.023807,
     "end_time": "2021-10-11T17:33:05.723602",
     "exception": false,
     "start_time": "2021-10-11T17:33:05.699795",
     "status": "completed"
    },
    "tags": []
   },
   "source": [
    "# dimensionality reduction"
   ]
  },
  {
   "cell_type": "code",
   "execution_count": 16,
   "id": "8c68188b",
   "metadata": {
    "execution": {
     "iopub.execute_input": "2021-10-11T17:33:05.782924Z",
     "iopub.status.busy": "2021-10-11T17:33:05.782544Z",
     "iopub.status.idle": "2021-10-11T17:34:40.977607Z",
     "shell.execute_reply": "2021-10-11T17:34:40.976545Z"
    },
    "papermill": {
     "duration": 95.228904,
     "end_time": "2021-10-11T17:34:40.977879",
     "exception": false,
     "start_time": "2021-10-11T17:33:05.748975",
     "status": "completed"
    },
    "tags": []
   },
   "outputs": [
    {
     "name": "stdout",
     "output_type": "stream",
     "text": [
      "2021-10-11 19:33:05,780 cisTopic     INFO     Finding neighbours\n",
      "2021-10-11 19:33:44,041 cisTopic     INFO     Running UMAP\n"
     ]
    }
   ],
   "source": [
    "for key in cistopic_obj_dict.keys():\n",
    "    find_clusters(cistopic_obj_dict[key],\n",
    "              target  = 'cell',\n",
    "              k = 10,\n",
    "              res = [0.6, 0.8],\n",
    "              prefix = 'pycisTopic_')\n",
    "    cistopic_obj_dict[key].projections['cell'] = {}\n",
    "    run_umap(cistopic_obj_dict[key], target = 'cell')\n",
    "    #run_tsne(cistopic_obj_dict[key], target = 'cell')"
   ]
  },
  {
   "cell_type": "markdown",
   "id": "f34082cd",
   "metadata": {
    "tags": [
     "papermill-error-cell-tag"
    ]
   },
   "source": [
    "<span id=\"papermill-error-cell\" style=\"color:red; font-family:Helvetica Neue, Helvetica, Arial, sans-serif; font-size:2em;\">Execution using papermill encountered an exception here and stopped:</span>"
   ]
  },
  {
   "cell_type": "code",
   "execution_count": 17,
   "id": "6f57cb94",
   "metadata": {
    "execution": {
     "iopub.execute_input": "2021-10-11T17:34:41.059683Z",
     "iopub.status.busy": "2021-10-11T17:34:41.059308Z",
     "iopub.status.idle": "2021-10-11T17:34:41.238323Z",
     "shell.execute_reply": "2021-10-11T17:34:41.238645Z"
    },
    "papermill": {
     "duration": 0.218992,
     "end_time": "2021-10-11T17:34:41.239256",
     "exception": true,
     "start_time": "2021-10-11T17:34:41.020264",
     "status": "failed"
    },
    "tags": []
   },
   "outputs": [
    {
     "ename": "NameError",
     "evalue": "name 'tmp_cto' is not defined",
     "output_type": "error",
     "traceback": [
      "\u001b[0;31m---------------------------------------------------------------------------\u001b[0m",
      "\u001b[0;31mNameError\u001b[0m                                 Traceback (most recent call last)",
      "\u001b[0;32m/local_scratch/tmp-vsc33042/ipykernel_350/1465081665.py\u001b[0m in \u001b[0;36m<module>\u001b[0;34m\u001b[0m\n\u001b[1;32m      5\u001b[0m         \u001b[0;32mcontinue\u001b[0m\u001b[0;34m\u001b[0m\u001b[0;34m\u001b[0m\u001b[0m\n\u001b[1;32m      6\u001b[0m     \u001b[0;32mwith\u001b[0m \u001b[0mopen\u001b[0m\u001b[0;34m(\u001b[0m\u001b[0mf_out\u001b[0m\u001b[0;34m,\u001b[0m \u001b[0;34m'wb'\u001b[0m\u001b[0;34m)\u001b[0m \u001b[0;32mas\u001b[0m \u001b[0mf\u001b[0m\u001b[0;34m:\u001b[0m\u001b[0;34m\u001b[0m\u001b[0;34m\u001b[0m\u001b[0m\n\u001b[0;32m----> 7\u001b[0;31m         \u001b[0mpickle\u001b[0m\u001b[0;34m.\u001b[0m\u001b[0mdump\u001b[0m\u001b[0;34m(\u001b[0m\u001b[0mtmp_cto\u001b[0m\u001b[0;34m,\u001b[0m \u001b[0mf\u001b[0m\u001b[0;34m)\u001b[0m\u001b[0;34m\u001b[0m\u001b[0;34m\u001b[0m\u001b[0m\n\u001b[0m\u001b[1;32m      8\u001b[0m \u001b[0;34m\u001b[0m\u001b[0m\n\u001b[1;32m      9\u001b[0m     \u001b[0mprint\u001b[0m\u001b[0;34m(\u001b[0m\u001b[0;34mf\"Generated and saved filtered cistopic object for {key}\"\u001b[0m\u001b[0;34m)\u001b[0m\u001b[0;34m\u001b[0m\u001b[0;34m\u001b[0m\u001b[0m\n",
      "\u001b[0;31mNameError\u001b[0m: name 'tmp_cto' is not defined"
     ]
    }
   ],
   "source": [
    "for key in cistopic_obj_dict.keys():\n",
    "    f_out = os.path.join(wdir, f_cto_dir, key + '__cistopic_obj_filtered_models.pkl')\n",
    "    if os.path.isfile(f_out):\n",
    "        print(f\"Skipping {key}, already exists\")\n",
    "        continue\n",
    "    with open(f_out, 'wb') as f:\n",
    "        pickle.dump(tmp_cto, f)\n",
    "    \n",
    "    print(f\"Generated and saved filtered cistopic object for {key}\")"
   ]
  },
  {
   "cell_type": "markdown",
   "id": "a9d0c511",
   "metadata": {
    "papermill": {
     "duration": null,
     "end_time": null,
     "exception": null,
     "start_time": null,
     "status": "pending"
    },
    "tags": []
   },
   "source": [
    "# here, perform seurat predictions\n",
    "and save"
   ]
  },
  {
   "cell_type": "markdown",
   "id": "e474b788",
   "metadata": {
    "papermill": {
     "duration": null,
     "end_time": null,
     "exception": null,
     "start_time": null,
     "status": "pending"
    },
    "tags": []
   },
   "source": [
    "### Read in cell type predictions"
   ]
  },
  {
   "cell_type": "code",
   "execution_count": null,
   "id": "30a2e7fd",
   "metadata": {
    "papermill": {
     "duration": null,
     "end_time": null,
     "exception": null,
     "start_time": null,
     "status": "pending"
    },
    "tags": []
   },
   "outputs": [],
   "source": [
    "f_pred_dir = '/staging/leuven/stg_00002/lcb/cflerin/analysis/pbmc_atac/analysis2/data_freeze_Jun2021/cell_type_classification/predictions__screen/'\n",
    "\n",
    "ct_pred = {}\n",
    "for key in bc_passing_filters.keys():\n",
    "    ct_pred[key] = pd.read_csv(os.pathh.join(f_pred_dir, key + '__cell_type_seurat.txt'),sep='\\t')\n",
    "    # format to add to cistopic object:\n",
    "    ct_annot = ct_pred[key][['composite_sample_id','cell_type','cell_type_pred_score']].copy().set_index('composite_sample_id')\n",
    "    ct_annot.columns = ['seurat_cell_type','seurat_cell_type_pred_score']\n",
    "    cistopic_obj_dict[key].add_cell_data(ct_annot)"
   ]
  },
  {
   "cell_type": "markdown",
   "id": "31107da8",
   "metadata": {
    "papermill": {
     "duration": null,
     "end_time": null,
     "exception": null,
     "start_time": null,
     "status": "pending"
    },
    "tags": []
   },
   "source": [
    "## Visualizations"
   ]
  },
  {
   "cell_type": "code",
   "execution_count": null,
   "id": "913f2f0c",
   "metadata": {
    "papermill": {
     "duration": null,
     "end_time": null,
     "exception": null,
     "start_time": null,
     "status": "pending"
    },
    "tags": []
   },
   "outputs": [],
   "source": [
    "for key in cistopic_obj_dict.keys():\n",
    "    print(key)\n",
    "    plot_metadata(cistopic_obj_dict[key],\n",
    "                  reduction_name='UMAP',\n",
    "                  variables=['Unique_nr_frag', 'TSS_enrichment', 'Dupl_rate', 'FRIP',\n",
    "                             'Doublet_scores_fragments', 'fmx_sample', 'pycisTopic_leiden_10_0.6', 'seurat_cell_type'],\n",
    "                  target='cell',\n",
    "                  num_columns=4,\n",
    "                  text_size=16,\n",
    "                  dot_size=15,\n",
    "                  figsize=(18,9),\n",
    "                 )"
   ]
  },
  {
   "cell_type": "markdown",
   "id": "c6ee08db",
   "metadata": {
    "papermill": {
     "duration": null,
     "end_time": null,
     "exception": null,
     "start_time": null,
     "status": "pending"
    },
    "tags": []
   },
   "source": [
    "## Batch effect correction with Harmony"
   ]
  },
  {
   "cell_type": "code",
   "execution_count": null,
   "id": "e5eeb3a2",
   "metadata": {
    "papermill": {
     "duration": null,
     "end_time": null,
     "exception": null,
     "start_time": null,
     "status": "pending"
    },
    "tags": []
   },
   "outputs": [],
   "source": [
    "from pycisTopic.clust_vis import harmony"
   ]
  },
  {
   "cell_type": "code",
   "execution_count": null,
   "id": "49051161",
   "metadata": {
    "papermill": {
     "duration": null,
     "end_time": null,
     "exception": null,
     "start_time": null,
     "status": "pending"
    },
    "tags": []
   },
   "outputs": [],
   "source": [
    "harmony(cistopic_obj_dict['merged'],\n",
    "        'sample_id',\n",
    "        random_state=555,\n",
    "        max_iter_harmony=20\n",
    "       )"
   ]
  },
  {
   "cell_type": "code",
   "execution_count": null,
   "id": "b969aa04",
   "metadata": {
    "papermill": {
     "duration": null,
     "end_time": null,
     "exception": null,
     "start_time": null,
     "status": "pending"
    },
    "tags": []
   },
   "outputs": [],
   "source": [
    "run_umap(cistopic_obj_dict['merged'], target = 'cell', reduction_name='UMAP_harmony', harmony=True)\n",
    "#run_tsne(cistopic_obj_dict['merged'], target = 'cell', reduction_name='tSNE_harmony', harmony=True)"
   ]
  },
  {
   "cell_type": "code",
   "execution_count": null,
   "id": "a53ecb22",
   "metadata": {
    "papermill": {
     "duration": null,
     "end_time": null,
     "exception": null,
     "start_time": null,
     "status": "pending"
    },
    "tags": []
   },
   "outputs": [],
   "source": [
    "plot_metadata(cistopic_obj_dict['merged'],\n",
    "              reduction_name='UMAP_harmony',\n",
    "              variables=['Unique_nr_frag', 'TSS_enrichment', 'Dupl_rate', 'FRIP',\n",
    "                             'Doublet_scores_fragments', 'fmx_sample', 'pycisTopic_leiden_10_0.6', 'seurat_cell_type', 'sample_id'],\n",
    "              target='cell',\n",
    "              num_columns=3,\n",
    "              text_size=16,\n",
    "              dot_size=10,\n",
    "              figsize=(23,16),\n",
    "             )"
   ]
  },
  {
   "cell_type": "code",
   "execution_count": null,
   "id": "135a815e",
   "metadata": {
    "papermill": {
     "duration": null,
     "end_time": null,
     "exception": null,
     "start_time": null,
     "status": "pending"
    },
    "tags": []
   },
   "outputs": [],
   "source": [
    "print(\"UMAP without batch effect correction\")\n",
    "plot_metadata(cistopic_obj_dict['merged'],\n",
    "              reduction_name='UMAP',\n",
    "              variables=['sample_id'],\n",
    "              target='cell',\n",
    "              show_legend=True,\n",
    "              show_label=False,\n",
    "              num_columns=1,\n",
    "              text_size=16,\n",
    "              dot_size=10,\n",
    "              figsize=(10,10),\n",
    "             )"
   ]
  },
  {
   "cell_type": "code",
   "execution_count": null,
   "id": "5ca6bd0e",
   "metadata": {
    "papermill": {
     "duration": null,
     "end_time": null,
     "exception": null,
     "start_time": null,
     "status": "pending"
    },
    "tags": []
   },
   "outputs": [],
   "source": [
    "print(\"UMAP with batch effect correction\")\n",
    "plot_metadata(cistopic_obj_dict['merged'],\n",
    "              reduction_name='UMAP_harmony',\n",
    "              variables=['sample_id'],\n",
    "              target='cell',\n",
    "              show_legend=True,\n",
    "              show_label=False,\n",
    "              num_columns=1,\n",
    "              text_size=16,\n",
    "              dot_size=10,\n",
    "              figsize=(10,10),\n",
    "             )"
   ]
  },
  {
   "cell_type": "code",
   "execution_count": null,
   "id": "ab77bc76",
   "metadata": {
    "papermill": {
     "duration": null,
     "end_time": null,
     "exception": null,
     "start_time": null,
     "status": "pending"
    },
    "tags": []
   },
   "outputs": [],
   "source": []
  },
  {
   "cell_type": "markdown",
   "id": "33198d1e",
   "metadata": {
    "papermill": {
     "duration": null,
     "end_time": null,
     "exception": null,
     "start_time": null,
     "status": "pending"
    },
    "tags": []
   },
   "source": [
    "# Cluster-cell type consensus\n",
    "\n",
    "Here we use the label transfer from Seurat to generate a consensus cell type for each cluster identified in each sample."
   ]
  },
  {
   "cell_type": "code",
   "execution_count": null,
   "id": "eea22be2",
   "metadata": {
    "papermill": {
     "duration": null,
     "end_time": null,
     "exception": null,
     "start_time": null,
     "status": "pending"
    },
    "tags": []
   },
   "outputs": [],
   "source": [
    "clustering='pycisTopic_leiden_10_0.8'\n",
    "ct_pred_thr=0.7\n",
    "\n",
    "clust_consensus = {}\n",
    "for key in cistopic_obj_dict.keys():\n",
    "    if key=='merged':\n",
    "        continue\n",
    "    celldata = cistopic_obj_dict[key].cell_data\n",
    "\n",
    "    major_cell_type = []\n",
    "    frac_of_cluster = []\n",
    "    next_celltype = []\n",
    "    next_frac_of_cluster = []\n",
    "    diff_to_next = []\n",
    "\n",
    "    for c in celldata[clustering].unique():\n",
    "        c1 = celldata[celldata[clustering]==c]\n",
    "        # find proportions of each unique cell type detected in this cluster:\n",
    "        ctp = pd.DataFrame([\n",
    "            c1['seurat_cell_type'].unique(),\n",
    "            [ c1[c1['seurat_cell_type']==x].shape[0] / c1.shape[0] for x in c1['seurat_cell_type'].unique() ]\n",
    "        ]).T\n",
    "        # sort/rank by proportion:\n",
    "        ctps = ctp.sort_values(1,ascending=False)\n",
    "        if ctp.shape[0]>1:\n",
    "            n = ctps.iloc[1,0] # next cell type detected\n",
    "            dtn = ctps.iloc[0,1] - ctps.iloc[1,1] # distance to next\n",
    "            dtnf = ctps.iloc[1,1]\n",
    "        else:\n",
    "            dtn = None\n",
    "            dtnf = None\n",
    "            n = None\n",
    "        major_cell_type.append(ctps.iloc[0,0])\n",
    "        frac_of_cluster.append(ctps.iloc[0,1])\n",
    "        next_celltype.append(n)\n",
    "        next_frac_of_cluster.append(dtnf)\n",
    "        diff_to_next.append(dtn)\n",
    "        \n",
    "    # collect results for this sample\n",
    "    res = pd.DataFrame([\n",
    "            celldata[clustering].unique(),\n",
    "            major_cell_type,\n",
    "            frac_of_cluster,\n",
    "            #\n",
    "            next_celltype,\n",
    "            next_frac_of_cluster,\n",
    "            diff_to_next,\n",
    "        ]).T.set_axis(\n",
    "            ['cluster', 'major_cell_type', 'frac_of_cluster', \n",
    "             'next_celltype', 'next_frac_of_cluster', 'diff_to_next'],\n",
    "            axis=1\n",
    "        ).set_index(key + '__' + celldata[clustering].unique())\n",
    "    clust_consensus[key] = res\n",
    "    print(key)\n",
    "    # print only rows where there is another cell type within 20%:\n",
    "    if(sum(res['diff_to_next']<0.20)>0):\n",
    "        display(res[ res['diff_to_next']<0.20 ])\n",
    "        plot_metadata(cistopic_obj_dict[key],\n",
    "                      reduction_name='UMAP',\n",
    "                      variables=[clustering, 'seurat_cell_type'],\n",
    "                      target='cell',\n",
    "                      num_columns=2,\n",
    "                      text_size=16,\n",
    "                      dot_size=15,\n",
    "                      figsize=(12,6),\n",
    "                     )\n",
    "    else:\n",
    "        print(\"No discrepant clusters\")"
   ]
  },
  {
   "cell_type": "code",
   "execution_count": null,
   "id": "082d70bc",
   "metadata": {
    "papermill": {
     "duration": null,
     "end_time": null,
     "exception": null,
     "start_time": null,
     "status": "pending"
    },
    "tags": []
   },
   "outputs": [],
   "source": [
    "#clust_consensus = pd.concat(clust_consensus, axis=0)\n",
    "clust_consensus['CNAG_1']"
   ]
  },
  {
   "cell_type": "markdown",
   "id": "0394b621",
   "metadata": {
    "papermill": {
     "duration": null,
     "end_time": null,
     "exception": null,
     "start_time": null,
     "status": "pending"
    },
    "tags": []
   },
   "source": [
    "### Add cluster-based cell identities to the cisTopic object"
   ]
  },
  {
   "cell_type": "code",
   "execution_count": null,
   "id": "5b05fb5a",
   "metadata": {
    "papermill": {
     "duration": null,
     "end_time": null,
     "exception": null,
     "start_time": null,
     "status": "pending"
    },
    "tags": []
   },
   "outputs": [],
   "source": [
    "for key in cistopic_obj_dict.keys():\n",
    "    if key=='merged':\n",
    "        continue\n",
    "    cistopic_obj_dict[key].cell_data['consensus_cell_type'] = \"\"\n",
    "    # add each cluster identity:\n",
    "    for i,r in clust_consensus[key].iterrows():\n",
    "        ix = cistopic_obj_dict[key].cell_data[clustering] == r['cluster']\n",
    "        cistopic_obj_dict[key].cell_data.loc[ix,'consensus_cell_type'] = r['major_cell_type']"
   ]
  },
  {
   "cell_type": "code",
   "execution_count": null,
   "id": "b2bbf3d8",
   "metadata": {
    "papermill": {
     "duration": null,
     "end_time": null,
     "exception": null,
     "start_time": null,
     "status": "pending"
    },
    "tags": []
   },
   "outputs": [],
   "source": [
    "# add to the merged object (use a concatenation of all objects' cell_data):\n",
    "cistopic_obj_dict['merged'].add_cell_data(\n",
    "    pd.concat(\n",
    "        [ cistopic_obj_dict[key].cell_data[['consensus_cell_type']] \n",
    "             for key in cistopic_obj_dict.keys() if key not in 'merged' ],\n",
    "        axis=0\n",
    "    )\n",
    ")"
   ]
  },
  {
   "cell_type": "markdown",
   "id": "5700551a",
   "metadata": {
    "papermill": {
     "duration": null,
     "end_time": null,
     "exception": null,
     "start_time": null,
     "status": "pending"
    },
    "tags": []
   },
   "source": [
    "## Save/load cisTopic objects"
   ]
  },
  {
   "cell_type": "code",
   "execution_count": null,
   "id": "482a6ab5",
   "metadata": {
    "papermill": {
     "duration": null,
     "end_time": null,
     "exception": null,
     "start_time": null,
     "status": "pending"
    },
    "tags": []
   },
   "outputs": [],
   "source": [
    "f_out = os.path.join(wdir, f_cto_dir, 'fulldata_all_filtered_annotated__cistopic_obj.pkl')\n",
    "if os.path.isfile(f_out):\n",
    "    print(f\"Loading {f_out}\")\n",
    "    with open(f_out, 'rb') as f:\n",
    "        cistopic_obj_dict = pickle.load(f)\n",
    "else:\n",
    "    with open(f_out, 'wb') as f:\n",
    "        pickle.dump(cistopic_obj_dict, f)"
   ]
  },
  {
   "cell_type": "code",
   "execution_count": null,
   "id": "e6a575a3",
   "metadata": {
    "papermill": {
     "duration": null,
     "end_time": null,
     "exception": null,
     "start_time": null,
     "status": "pending"
    },
    "tags": []
   },
   "outputs": [],
   "source": [
    "# export filtered set of barcodes (without doublets, etc)\n",
    "bc_passing_filters2 = {}\n",
    "for key in cistopic_obj_dict.keys():\n",
    "    if(key == 'merged'):\n",
    "        continue\n",
    "    bc_passing_filters2[key] = cistopic_obj_dict[key].cell_data['barcode'].tolist()\n",
    "\n",
    "with open(os.path.join(wdir,'barcodes_passing_filters2.pkl'), 'wb') as f:\n",
    "    pickle.dump(bc_passing_filters2, f)"
   ]
  },
  {
   "cell_type": "code",
   "execution_count": null,
   "id": "e61f39a6",
   "metadata": {
    "papermill": {
     "duration": null,
     "end_time": null,
     "exception": null,
     "start_time": null,
     "status": "pending"
    },
    "tags": []
   },
   "outputs": [],
   "source": [
    "cistopic_obj_dict['merged'].cell_data.to_csv(\n",
    "    os.path.join(wdir,'fulldata_filtered_cell_data.tsv'),\n",
    "    sep='\\t'\n",
    ")"
   ]
  },
  {
   "cell_type": "markdown",
   "id": "b5b7f227",
   "metadata": {
    "papermill": {
     "duration": null,
     "end_time": null,
     "exception": null,
     "start_time": null,
     "status": "pending"
    },
    "tags": []
   },
   "source": [
    "## Export pseudobulk profiles"
   ]
  },
  {
   "cell_type": "code",
   "execution_count": null,
   "id": "463fec26",
   "metadata": {
    "papermill": {
     "duration": null,
     "end_time": null,
     "exception": null,
     "start_time": null,
     "status": "pending"
    },
    "tags": []
   },
   "outputs": [],
   "source": [
    "from pycisTopic.pseudobulk_peak_calling import export_pseudobulk, peak_calling\n",
    "import pyranges as pr\n",
    "import requests"
   ]
  },
  {
   "cell_type": "code",
   "execution_count": null,
   "id": "be5dd11a",
   "metadata": {
    "papermill": {
     "duration": null,
     "end_time": null,
     "exception": null,
     "start_time": null,
     "status": "pending"
    },
    "tags": []
   },
   "outputs": [],
   "source": [
    "# get chromosome sizes (hg38)\n",
    "target_url = 'http://hgdownload.cse.ucsc.edu/goldenPath/hg38/bigZips/hg38.chrom.sizes'\n",
    "chromsizes = pd.read_csv(target_url, sep='\\t', header=None)\n",
    "chromsizes.columns = ['Chromosome', 'End']\n",
    "chromsizes['Start'] = [0]*chromsizes.shape[0]\n",
    "chromsizes = chromsizes.loc[:,['Chromosome', 'Start', 'End']]\n",
    "chromsizes = pr.PyRanges(chromsizes)\n",
    "chromsizes"
   ]
  },
  {
   "cell_type": "code",
   "execution_count": null,
   "id": "eb919abf",
   "metadata": {
    "papermill": {
     "duration": null,
     "end_time": null,
     "exception": null,
     "start_time": null,
     "status": "pending"
    },
    "tags": []
   },
   "outputs": [],
   "source": [
    "f_pseudo_dir = 'consensus_peak_calling'\n",
    "if not os.path.exists(os.path.join(wdir, f_pseudo_dir)):\n",
    "    os.makedirs(os.path.join(wdir, f_pseudo_dir))"
   ]
  },
  {
   "cell_type": "code",
   "execution_count": null,
   "id": "8f0f923a",
   "metadata": {
    "collapsed": true,
    "jupyter": {
     "outputs_hidden": true
    },
    "papermill": {
     "duration": null,
     "end_time": null,
     "exception": null,
     "start_time": null,
     "status": "pending"
    },
    "tags": []
   },
   "outputs": [],
   "source": [
    "bw_paths_dict = {}\n",
    "bed_paths_dict = {}\n",
    "for key in cistopic_obj_dict.keys():\n",
    "    print(f\"Starting {key}\")\n",
    "    f_dir = os.path.join(wdir, f_pseudo_dir, key)\n",
    "    if not os.path.exists(f_dir):\n",
    "        os.makedirs(f_dir)\n",
    "    \n",
    "    bw_paths, bed_paths = export_pseudobulk(\n",
    "                #input_data = cistopic_obj_dict['merged'].cell_data,\n",
    "                input_data = cistopic_obj_dict[key],\n",
    "                variable = 'consensus_cell_type',\n",
    "                sample_id_col = 'sample_id',\n",
    "                chromsizes = chromsizes,\n",
    "                bed_path = os.path.join(f_dir, 'pseudobulk_bed_files'),\n",
    "                bigwig_path =  os.path.join(f_dir, 'pseudobulk_bw_files'),\n",
    "                #path_to_fragments = fr_dict,\n",
    "                n_cpu = 5,\n",
    "                normalize_bigwig = True,\n",
    "                remove_duplicates = True,\n",
    "                )\n",
    "    bw_paths_dict[key] = bw_paths.copy()\n",
    "    bed_paths_dict[key] = bed_paths.copy()\n",
    "    if ray.is_initialized():\n",
    "        print(\"Shutting down Ray\")\n",
    "        ray.shutdown()"
   ]
  },
  {
   "cell_type": "markdown",
   "id": "0f2924f8",
   "metadata": {
    "papermill": {
     "duration": null,
     "end_time": null,
     "exception": null,
     "start_time": null,
     "status": "pending"
    },
    "tags": []
   },
   "source": [
    "### Infer consensus peaks"
   ]
  },
  {
   "cell_type": "code",
   "execution_count": null,
   "id": "7c0d9a9e",
   "metadata": {
    "collapsed": true,
    "jupyter": {
     "outputs_hidden": true
    },
    "papermill": {
     "duration": null,
     "end_time": null,
     "exception": null,
     "start_time": null,
     "status": "pending"
    },
    "tags": []
   },
   "outputs": [],
   "source": [
    "#Infer consensus peaks\n",
    "\n",
    "narrow_peaks_dict = {}\n",
    "\n",
    "for key in cistopic_obj_dict.keys():\n",
    "    print(f\"Starting {key}\")\n",
    "    f_dir = os.path.join(wdir, f_pseudo_dir, key, 'macs2')\n",
    "    if not os.path.exists(f_dir):\n",
    "        os.makedirs(f_dir)\n",
    "\n",
    "    # Run peak calling\n",
    "    narrow_peaks_dict[key] = peak_calling('macs2',\n",
    "                                     bed_paths_dict[key],\n",
    "                                     f_dir,\n",
    "                                     genome_size='hs',\n",
    "                                     n_cpu=5,\n",
    "                                     input_format='BEDPE',\n",
    "                                     shift=73, \n",
    "                                     ext_size=146,\n",
    "                                     keep_dup = 'all',\n",
    "                                     q_value = 0.05,\n",
    "                                     )"
   ]
  },
  {
   "cell_type": "markdown",
   "id": "4dc8a1b7",
   "metadata": {
    "papermill": {
     "duration": null,
     "end_time": null,
     "exception": null,
     "start_time": null,
     "status": "pending"
    },
    "tags": []
   },
   "source": [
    "### Derive the consensus peaks"
   ]
  },
  {
   "cell_type": "code",
   "execution_count": null,
   "id": "0cc9bb17",
   "metadata": {
    "papermill": {
     "duration": null,
     "end_time": null,
     "exception": null,
     "start_time": null,
     "status": "pending"
    },
    "tags": []
   },
   "outputs": [],
   "source": [
    "from pycisTopic.iterative_peak_calling import get_consensus_peaks"
   ]
  },
  {
   "cell_type": "code",
   "execution_count": null,
   "id": "891098c4",
   "metadata": {
    "collapsed": true,
    "jupyter": {
     "outputs_hidden": true
    },
    "papermill": {
     "duration": null,
     "end_time": null,
     "exception": null,
     "start_time": null,
     "status": "pending"
    },
    "tags": []
   },
   "outputs": [],
   "source": [
    "peak_half_width = 250\n",
    "\n",
    "# Get consensus peaks\n",
    "consensus_peaks_dict = {}\n",
    "for key in cistopic_obj_dict.keys():\n",
    "    print(f\"Starting {key}\")\n",
    "    f_dir = os.path.join(wdir, f_pseudo_dir, key)\n",
    "    if not os.path.exists(f_dir):\n",
    "        os.makedirs(f_dir)\n",
    "        \n",
    "    consensus_peaks_dict[key] = get_consensus_peaks(\n",
    "        narrow_peaks_dict[key],\n",
    "        peak_half_width,\n",
    "        chromsizes = chromsizes,\n",
    "        path_to_blacklist = path_to_blacklist\n",
    "    )\n",
    "    consensus_peaks_dict[key].to_bed(\n",
    "        path=os.path.join(f_dir, key + '__consensus_regions.bed'),\n",
    "        keep=True,\n",
    "        compression='infer',\n",
    "        chain=False\n",
    "    )"
   ]
  },
  {
   "cell_type": "code",
   "execution_count": null,
   "id": "01111117",
   "metadata": {
    "papermill": {
     "duration": null,
     "end_time": null,
     "exception": null,
     "start_time": null,
     "status": "pending"
    },
    "tags": []
   },
   "outputs": [],
   "source": []
  }
 ],
 "metadata": {
  "kernelspec": {
   "display_name": "pycisTopic_singularity_20210921",
   "language": "python",
   "name": "pycistopic_singularity"
  },
  "language_info": {
   "codemirror_mode": {
    "name": "ipython",
    "version": 3
   },
   "file_extension": ".py",
   "mimetype": "text/x-python",
   "name": "python",
   "nbconvert_exporter": "python",
   "pygments_lexer": "ipython3",
   "version": "3.8.6"
  },
  "papermill": {
   "default_parameters": {},
   "duration": 20327.887221,
   "end_time": "2021-10-11T17:34:44.237731",
   "environment_variables": {},
   "exception": true,
   "input_path": "9b2_fulldata_01_run_models_merged.ipynb",
   "output_path": "9b2_fulldata_01_run_models_merged_output.ipynb",
   "parameters": {},
   "start_time": "2021-10-11T11:55:56.350510",
   "version": "2.3.3"
  }
 },
 "nbformat": 4,
 "nbformat_minor": 5
}
