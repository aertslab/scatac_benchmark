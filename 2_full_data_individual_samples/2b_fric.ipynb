{
 "cells": [
  {
   "cell_type": "code",
   "execution_count": 1,
   "id": "62af5fed",
   "metadata": {},
   "outputs": [],
   "source": [
    "import pandas as pd\n",
    "import glob\n",
    "import os\n",
    "from collections import OrderedDict"
   ]
  },
  {
   "cell_type": "code",
   "execution_count": 2,
   "id": "7d90b636",
   "metadata": {},
   "outputs": [],
   "source": [
    "filenames = glob.glob('selected_barcodes/*')"
   ]
  },
  {
   "cell_type": "code",
   "execution_count": 3,
   "id": "87830e57",
   "metadata": {},
   "outputs": [
    {
     "data": {
      "text/plain": [
       "{'Broad_1': 'selected_barcodes/Broad_1.cell_barcodes.txt',\n",
       " 'Broad_2': 'selected_barcodes/Broad_2.cell_barcodes.txt',\n",
       " 'Broad_mito_1': 'selected_barcodes/Broad_mito_1.cell_barcodes.txt',\n",
       " 'Broad_mito_2': 'selected_barcodes/Broad_mito_2.cell_barcodes.txt',\n",
       " 'CNAG_1': 'selected_barcodes/CNAG_1.cell_barcodes.txt',\n",
       " 'CNAG_2': 'selected_barcodes/CNAG_2.cell_barcodes.txt',\n",
       " 'Sanger_1': 'selected_barcodes/Sanger_1.cell_barcodes.txt',\n",
       " 'Sanger_2': 'selected_barcodes/Sanger_2.cell_barcodes.txt',\n",
       " 'Stanford_1': 'selected_barcodes/Stanford_1.cell_barcodes.txt',\n",
       " 'Stanford_2': 'selected_barcodes/Stanford_2.cell_barcodes.txt',\n",
       " 'VIB_1': 'selected_barcodes/VIB_1.cell_barcodes.txt',\n",
       " 'VIB_2': 'selected_barcodes/VIB_2.cell_barcodes.txt',\n",
       " 'VIB_Hydrop_1': 'selected_barcodes/VIB_Hydrop_1.cell_barcodes.txt',\n",
       " 'VIB_Hydrop_2': 'selected_barcodes/VIB_Hydrop_2.cell_barcodes.txt',\n",
       " 's3atac': 'selected_barcodes/s3atac.cell_barcodes.txt'}"
      ]
     },
     "execution_count": 3,
     "metadata": {},
     "output_type": "execute_result"
    }
   ],
   "source": [
    "filenames = sorted(glob.glob('selected_barcodes/*'))\n",
    "samples = [item.replace(\"selected_barcodes/\", \"\") for item in filenames]\n",
    "samples = [item.replace(\".cell_barcodes.txt\", \"\") for item in samples]\n",
    "bc_dict = {samples[i]: filenames[i] for i in range(len(samples))}\n",
    "bc_dict"
   ]
  },
  {
   "cell_type": "code",
   "execution_count": 4,
   "id": "6bc9c9c5",
   "metadata": {},
   "outputs": [
    {
     "data": {
      "text/plain": [
       "{'Broad_1': 'fragments_postbap/Broad_1.sinto.mm.fragments.tsv',\n",
       " 'Broad_2': 'fragments_postbap/Broad_2.sinto.mm.fragments.tsv',\n",
       " 'Broad_mito_1': 'fragments_postbap/Broad_mito_1.sinto.mm.fragments.tsv',\n",
       " 'Broad_mito_2': 'fragments_postbap/Broad_mito_2.sinto.mm.fragments.tsv',\n",
       " 'CNAG_1': 'fragments_postbap/CNAG_1.sinto.mm.fragments.tsv',\n",
       " 'CNAG_2': 'fragments_postbap/CNAG_2.sinto.mm.fragments.tsv',\n",
       " 'Sanger_1': 'fragments_postbap/Sanger_1.sinto.mm.fragments.tsv',\n",
       " 'Sanger_2': 'fragments_postbap/Sanger_2.sinto.mm.fragments.tsv',\n",
       " 'Stanford_1': 'fragments_postbap/Stanford_1.sinto.mm.fragments.tsv',\n",
       " 'Stanford_2': 'fragments_postbap/Stanford_2.sinto.mm.fragments.tsv',\n",
       " 'VIB_1': 'fragments_postbap/VIB_1.sinto.mm.fragments.tsv',\n",
       " 'VIB_2': 'fragments_postbap/VIB_2.sinto.mm.fragments.tsv',\n",
       " 'VIB_Hydrop_1': 'fragments_postbap/VIB_Hydrop_1.sinto.mm.fragments.tsv',\n",
       " 'VIB_Hydrop_2': 'fragments_postbap/VIB_Hydrop_2.sinto.mm.fragments.tsv',\n",
       " 's3atac': 'fragments_postbap/s3atac.sinto.mm.fragments.tsv'}"
      ]
     },
     "execution_count": 4,
     "metadata": {},
     "output_type": "execute_result"
    }
   ],
   "source": [
    "filenames = sorted(glob.glob('fragments_postbap/*tsv'))\n",
    "samples = [item.replace(\"fragments_postbap/\", \"\") for item in filenames]\n",
    "samples = [item.replace(\".sinto.mm.fragments.tsv\", \"\") for item in samples]\n",
    "frag_dict = {samples[i]: filenames[i] for i in range(len(samples))}\n",
    "frag_dict"
   ]
  },
  {
   "cell_type": "code",
   "execution_count": 5,
   "id": "fcf725a9",
   "metadata": {},
   "outputs": [
    {
     "name": "stdout",
     "output_type": "stream",
     "text": [
      "Broad_1\n",
      "\ttotal reads: 191995191\n",
      "\tcells pre-scrublet/freemuxlet: 4204\n",
      "\tmapped reads per cell: 45669.64581351094\n",
      "\tfraction raw reads in cells: 0.6444203230069445\n",
      "\tfraction unique fragments in cells: 0.5989097027567128\n",
      "Broad_2\n",
      "\ttotal reads: 187364203\n",
      "\tcells pre-scrublet/freemuxlet: 4053\n",
      "\tmapped reads per cell: 46228.52282260054\n",
      "\tfraction raw reads in cells: 0.6112329952376229\n",
      "\tfraction unique fragments in cells: 0.5729772517096624\n",
      "Broad_mito_1\n",
      "\ttotal reads: 91805815\n",
      "\tcells pre-scrublet/freemuxlet: 3466\n",
      "\tmapped reads per cell: 26487.54039238315\n",
      "\tfraction raw reads in cells: 0.9354537618341496\n",
      "\tfraction unique fragments in cells: 0.9209491757864046\n",
      "Broad_mito_2\n",
      "\ttotal reads: 107153707\n",
      "\tcells pre-scrublet/freemuxlet: 3302\n",
      "\tmapped reads per cell: 32451.152937613566\n",
      "\tfraction raw reads in cells: 0.9456769797054245\n",
      "\tfraction unique fragments in cells: 0.9305605465823572\n",
      "CNAG_1\n",
      "\ttotal reads: 205525851\n",
      "\tcells pre-scrublet/freemuxlet: 2696\n",
      "\tmapped reads per cell: 76233.62425816024\n",
      "\tfraction raw reads in cells: 0.4627793075042419\n",
      "\tfraction unique fragments in cells: 0.3766766831812998\n",
      "CNAG_2\n",
      "\ttotal reads: 233220185\n",
      "\tcells pre-scrublet/freemuxlet: 2712\n",
      "\tmapped reads per cell: 85995.64343657818\n",
      "\tfraction raw reads in cells: 0.5026103851173945\n",
      "\tfraction unique fragments in cells: 0.3967154770728165\n",
      "Sanger_1\n",
      "\ttotal reads: 421827496\n",
      "\tcells pre-scrublet/freemuxlet: 3142\n",
      "\tmapped reads per cell: 134254.45448758753\n",
      "\tfraction raw reads in cells: 0.5071430834371214\n",
      "\tfraction unique fragments in cells: 0.4562991065447841\n",
      "Sanger_2\n",
      "\ttotal reads: 439633602\n",
      "\tcells pre-scrublet/freemuxlet: 3814\n",
      "\tmapped reads per cell: 115268.3801782905\n",
      "\tfraction raw reads in cells: 0.48600613790207964\n",
      "\tfraction unique fragments in cells: 0.4392960380592493\n",
      "Stanford_1\n",
      "\ttotal reads: 183360947\n",
      "\tcells pre-scrublet/freemuxlet: 768\n",
      "\tmapped reads per cell: 238751.23307291666\n",
      "\tfraction raw reads in cells: 0.37056446921601033\n",
      "\tfraction unique fragments in cells: 0.33848973699717066\n",
      "Stanford_2\n",
      "\ttotal reads: 139875885\n",
      "\tcells pre-scrublet/freemuxlet: 1403\n",
      "\tmapped reads per cell: 99697.70848182467\n",
      "\tfraction raw reads in cells: 0.3350888110556012\n",
      "\tfraction unique fragments in cells: 0.3282839223822772\n",
      "VIB_1\n",
      "\ttotal reads: 193215267\n",
      "\tcells pre-scrublet/freemuxlet: 2813\n",
      "\tmapped reads per cell: 68686.55065766086\n",
      "\tfraction raw reads in cells: 0.43008775802380045\n",
      "\tfraction unique fragments in cells: 0.33918550222001953\n",
      "VIB_2\n",
      "\ttotal reads: 296982481\n",
      "\tcells pre-scrublet/freemuxlet: 7336\n",
      "\tmapped reads per cell: 40482.88999454744\n",
      "\tfraction raw reads in cells: 0.4095402684712571\n",
      "\tfraction unique fragments in cells: 0.3745887730068407\n",
      "VIB_Hydrop_1\n",
      "\ttotal reads: 124602117\n",
      "\tcells pre-scrublet/freemuxlet: 2410\n",
      "\tmapped reads per cell: 51702.123236514526\n",
      "\tfraction raw reads in cells: 0.7635622916422841\n",
      "\tfraction unique fragments in cells: 0.537952195289631\n",
      "VIB_Hydrop_2\n",
      "\ttotal reads: 100478784\n",
      "\tcells pre-scrublet/freemuxlet: 2744\n",
      "\tmapped reads per cell: 36617.63265306123\n",
      "\tfraction raw reads in cells: 0.7208889191971113\n",
      "\tfraction unique fragments in cells: 0.5328964118709969\n",
      "s3atac\n",
      "\ttotal reads: 1285843224\n",
      "\tcells pre-scrublet/freemuxlet: 3122\n",
      "\tmapped reads per cell: 411865.22229340166\n",
      "\tfraction raw reads in cells: 0.37927564643759404\n",
      "\tfraction unique fragments in cells: 0.36792517150421816\n"
     ]
    }
   ],
   "source": [
    "for key in bc_dict.keys():\n",
    "    print(key)\n",
    "    df_frags = pd.read_csv(frag_dict[key], sep='\\t', header=None, index_col=None)\n",
    "    df_frags.columns = \"chr start end bc count\".split()\n",
    "    df_bc = pd.read_csv(bc_dict[key], header=None, index_col=None)\n",
    "    df_bc.columns = \"bc\".split()\n",
    "\n",
    "\n",
    "    df_frags_incells = df_frags[df_frags['bc'].isin(df_bc['bc'])]\n",
    "    frac_reads = df_frags_incells['count'].sum()/df_frags['count'].sum()\n",
    "    frac_fragments = len(df_frags_incells)/len(df_frags)\n",
    "\n",
    "    print(f'\\ttotal reads: {df_frags[\"count\"].sum()}')\n",
    "    print(f'\\tcells pre-scrublet/freemuxlet: {len(df_bc)}')\n",
    "    print(f'\\tmapped reads per cell: {df_frags[\"count\"].sum()/len(df_bc)}')\n",
    "    print(f'\\tfraction mapped fragments in cells: {frac_reads}')\n",
    "    print(f'\\tfraction unique fragments in cells: {frac_fragments}')"
   ]
  },
  {
   "cell_type": "code",
   "execution_count": 7,
   "id": "58312471",
   "metadata": {},
   "outputs": [
    {
     "name": "stdout",
     "output_type": "stream",
     "text": [
      "Broad_1\n",
      "\ttotal reads: 191995191\n",
      "\tcells pre-scrublet/freemuxlet: 4204\n",
      "\tmapped reads per cell: 45669.64581351094\n",
      "\tfraction mapped fragments in cells: 0.6444203230069445\n",
      "\tfraction unique fragments in cells: 0.5989097027567128\n",
      "Broad_2\n",
      "\ttotal reads: 187364203\n",
      "\tcells pre-scrublet/freemuxlet: 4053\n",
      "\tmapped reads per cell: 46228.52282260054\n",
      "\tfraction mapped fragments in cells: 0.6112329952376229\n",
      "\tfraction unique fragments in cells: 0.5729772517096624\n",
      "Broad_mito_1\n",
      "\ttotal reads: 91805815\n",
      "\tcells pre-scrublet/freemuxlet: 3466\n",
      "\tmapped reads per cell: 26487.54039238315\n",
      "\tfraction mapped fragments in cells: 0.9354537618341496\n",
      "\tfraction unique fragments in cells: 0.9209491757864046\n",
      "Broad_mito_2\n",
      "\ttotal reads: 107153707\n",
      "\tcells pre-scrublet/freemuxlet: 3302\n",
      "\tmapped reads per cell: 32451.152937613566\n",
      "\tfraction mapped fragments in cells: 0.9456769797054245\n",
      "\tfraction unique fragments in cells: 0.9305605465823572\n",
      "CNAG_1\n",
      "\ttotal reads: 205525851\n",
      "\tcells pre-scrublet/freemuxlet: 2696\n",
      "\tmapped reads per cell: 76233.62425816024\n",
      "\tfraction mapped fragments in cells: 0.4627793075042419\n",
      "\tfraction unique fragments in cells: 0.3766766831812998\n",
      "CNAG_2\n",
      "\ttotal reads: 233220185\n",
      "\tcells pre-scrublet/freemuxlet: 2712\n",
      "\tmapped reads per cell: 85995.64343657818\n",
      "\tfraction mapped fragments in cells: 0.5026103851173945\n",
      "\tfraction unique fragments in cells: 0.3967154770728165\n",
      "Sanger_1\n",
      "\ttotal reads: 421827496\n",
      "\tcells pre-scrublet/freemuxlet: 3142\n",
      "\tmapped reads per cell: 134254.45448758753\n",
      "\tfraction mapped fragments in cells: 0.5071430834371214\n",
      "\tfraction unique fragments in cells: 0.4562991065447841\n",
      "Sanger_2\n",
      "\ttotal reads: 439633602\n",
      "\tcells pre-scrublet/freemuxlet: 3814\n",
      "\tmapped reads per cell: 115268.3801782905\n",
      "\tfraction mapped fragments in cells: 0.48600613790207964\n",
      "\tfraction unique fragments in cells: 0.4392960380592493\n",
      "Stanford_1\n",
      "\ttotal reads: 183360947\n",
      "\tcells pre-scrublet/freemuxlet: 768\n",
      "\tmapped reads per cell: 238751.23307291666\n",
      "\tfraction mapped fragments in cells: 0.37056446921601033\n",
      "\tfraction unique fragments in cells: 0.33848973699717066\n",
      "Stanford_2\n",
      "\ttotal reads: 139875885\n",
      "\tcells pre-scrublet/freemuxlet: 1403\n",
      "\tmapped reads per cell: 99697.70848182467\n",
      "\tfraction mapped fragments in cells: 0.3350888110556012\n",
      "\tfraction unique fragments in cells: 0.3282839223822772\n",
      "VIB_1\n",
      "\ttotal reads: 193215267\n",
      "\tcells pre-scrublet/freemuxlet: 2813\n",
      "\tmapped reads per cell: 68686.55065766086\n",
      "\tfraction mapped fragments in cells: 0.43008775802380045\n",
      "\tfraction unique fragments in cells: 0.33918550222001953\n",
      "VIB_2\n",
      "\ttotal reads: 296982481\n",
      "\tcells pre-scrublet/freemuxlet: 7336\n",
      "\tmapped reads per cell: 40482.88999454744\n",
      "\tfraction mapped fragments in cells: 0.4095402684712571\n",
      "\tfraction unique fragments in cells: 0.3745887730068407\n",
      "VIB_Hydrop_1\n",
      "\ttotal reads: 124602117\n",
      "\tcells pre-scrublet/freemuxlet: 2410\n",
      "\tmapped reads per cell: 51702.123236514526\n",
      "\tfraction mapped fragments in cells: 0.7635622916422841\n",
      "\tfraction unique fragments in cells: 0.537952195289631\n",
      "VIB_Hydrop_2\n",
      "\ttotal reads: 100478784\n",
      "\tcells pre-scrublet/freemuxlet: 2744\n",
      "\tmapped reads per cell: 36617.63265306123\n",
      "\tfraction mapped fragments in cells: 0.7208889191971113\n",
      "\tfraction unique fragments in cells: 0.5328964118709969\n",
      "s3atac\n",
      "\ttotal reads: 1285843224\n",
      "\tcells pre-scrublet/freemuxlet: 3122\n",
      "\tmapped reads per cell: 411865.22229340166\n",
      "\tfraction mapped fragments in cells: 0.37927564643759404\n",
      "\tfraction unique fragments in cells: 0.36792517150421816\n"
     ]
    }
   ],
   "source": [
    "for key in bc_dict.keys():\n",
    "    print(key)\n",
    "    df_frags = pd.read_csv(frag_dict[key], sep='\\t', header=None, index_col=None)\n",
    "    df_frags.columns = \"chr start end bc count\".split()\n",
    "    df_bc = pd.read_csv(bc_dict[key], header=None, index_col=None)\n",
    "    df_bc.columns = \"bc\".split()\n",
    "\n",
    "\n",
    "    df_frags_incells = df_frags[df_frags['bc'].isin(df_bc['bc'])]\n",
    "    frac_reads = df_frags_incells['count'].sum()/df_frags['count'].sum()\n",
    "    frac_fragments = len(df_frags_incells)/len(df_frags)\n",
    "\n",
    "    print(f'\\ttotal reads: {df_frags[\"count\"].sum()}')\n",
    "    print(f'\\tcells pre-scrublet/freemuxlet: {len(df_bc)}')\n",
    "    print(f'\\tmapped reads per cell: {df_frags[\"count\"].sum()/len(df_bc)}')\n",
    "    print(f'\\tfraction mapped fragments in cells: {frac_reads}')\n",
    "    print(f'\\tfraction unique fragments in cells: {frac_fragments}')"
   ]
  },
  {
   "cell_type": "code",
   "execution_count": 33,
   "id": "83acb24c",
   "metadata": {},
   "outputs": [
    {
     "data": {
      "text/plain": [
       "{}"
      ]
     },
     "execution_count": 33,
     "metadata": {},
     "output_type": "execute_result"
    }
   ],
   "source": [
    "filenames = sorted(glob.glob('mapping_stats/barcode/*'))\n",
    "samples = [item.replace(\"/lustre1/project/stg_00002/lcb/cflerin/analysis/pbmc_atac/analysis2/data_freeze_Jun2021_library_downsampled/atac_preprocess/out/data/reports/barcode/\", \"\") for item in filenames]\n",
    "samples = [item.replace(\".mapping_stats.tsv\", \"\") for item in samples]\n",
    "stats_dict = {samples[i]: filenames[i] for i in range(len(samples))}\n",
    "stats_dict"
   ]
  },
  {
   "cell_type": "code",
   "execution_count": 11,
   "id": "a3e2bca6",
   "metadata": {},
   "outputs": [],
   "source": [
    "key = 'VIB_1'"
   ]
  },
  {
   "cell_type": "code",
   "execution_count": null,
   "id": "1127cea3",
   "metadata": {},
   "outputs": [],
   "source": []
  },
  {
   "cell_type": "code",
   "execution_count": null,
   "id": "52d6d815",
   "metadata": {},
   "outputs": [],
   "source": []
  }
 ],
 "metadata": {
  "kernelspec": {
   "display_name": "Python 3.6",
   "language": "python",
   "name": "p36"
  },
  "language_info": {
   "codemirror_mode": {
    "name": "ipython",
    "version": 3
   },
   "file_extension": ".py",
   "mimetype": "text/x-python",
   "name": "python",
   "nbconvert_exporter": "python",
   "pygments_lexer": "ipython3",
   "version": "3.6.10"
  }
 },
 "nbformat": 4,
 "nbformat_minor": 5
}
