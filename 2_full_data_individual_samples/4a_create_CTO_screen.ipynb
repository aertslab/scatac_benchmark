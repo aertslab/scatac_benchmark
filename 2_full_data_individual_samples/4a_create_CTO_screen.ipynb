{
 "cells": [
  {
   "cell_type": "markdown",
   "metadata": {},
   "source": [
    "# pycisTopic analysis\n",
    "\n",
    "Full dataset, using SCREEN regions."
   ]
  },
  {
   "cell_type": "code",
   "execution_count": 1,
   "metadata": {},
   "outputs": [
    {
     "data": {
      "text/plain": [
       "'0.1.dev300+g7494158'"
      ]
     },
     "execution_count": 1,
     "metadata": {},
     "output_type": "execute_result"
    }
   ],
   "source": [
    "import pycisTopic\n",
    "pycisTopic.__version__"
   ]
  },
  {
   "cell_type": "code",
   "execution_count": 2,
   "metadata": {},
   "outputs": [],
   "source": [
    "import warnings\n",
    "warnings.filterwarnings('ignore')\n",
    "warnings.simplefilter('ignore')"
   ]
  },
  {
   "cell_type": "code",
   "execution_count": 3,
   "metadata": {},
   "outputs": [],
   "source": [
    "import pickle\n",
    "import pandas as pd"
   ]
  },
  {
   "cell_type": "code",
   "execution_count": 4,
   "metadata": {},
   "outputs": [],
   "source": [
    "import os\n",
    "wdir = '/lustre1/project/stg_00002/lcb/fderop/data/20211008_hca_benchmark_rerun_all_with_hydrop'\n",
    "os.chdir( wdir )"
   ]
  },
  {
   "cell_type": "code",
   "execution_count": 5,
   "metadata": {},
   "outputs": [],
   "source": [
    "import glob\n",
    "from collections import OrderedDict"
   ]
  },
  {
   "cell_type": "markdown",
   "metadata": {},
   "source": [
    "## Create the cisTopic objects for each sample"
   ]
  },
  {
   "cell_type": "markdown",
   "metadata": {},
   "source": [
    "Create a dictionary with fragments files for each sample"
   ]
  },
  {
   "cell_type": "code",
   "execution_count": 6,
   "metadata": {},
   "outputs": [
    {
     "data": {
      "text/plain": [
       "odict_keys(['Broad_1', 'Broad_2', 'Broad_mito_1', 'Broad_mito_2', 'CNAG_1', 'CNAG_2', 'Sanger_1', 'Sanger_2', 'Stanford_1', 'Stanford_2', 'VIB_1', 'VIB_2', 'VIB_Hydrop_1', 'VIB_Hydrop_2', 's3atac'])"
      ]
     },
     "execution_count": 6,
     "metadata": {},
     "output_type": "execute_result"
    }
   ],
   "source": [
    "filenames = glob.glob('fragments_postbap/*.sinto.mm.fragments.tsv.gz')\n",
    "samples = [item.replace(\".sinto.mm.fragments.tsv.gz\", \"\") for item in filenames]\n",
    "samples = [item.replace(\"fragments_postbap/\", \"\") for item in samples]\n",
    "fragments_dict = {samples[i]: filenames[i] for i in range(len(samples))}\n",
    "fragments_dict = OrderedDict(sorted(fragments_dict.items()))\n",
    "fragments_dict.keys()"
   ]
  },
  {
   "cell_type": "markdown",
   "metadata": {},
   "source": [
    "Read cell metadata and barcodes passing filters"
   ]
  },
  {
   "cell_type": "code",
   "execution_count": 7,
   "metadata": {},
   "outputs": [],
   "source": [
    "# Metrics\n",
    "f_metadata = 'out_qc_all/data/pycistopic/qc/benchmark__metadata.pickle'\n",
    "infile = open(f_metadata, 'rb')\n",
    "metadata_bc_dict = pickle.load(infile)\n",
    "infile.close()"
   ]
  },
  {
   "cell_type": "code",
   "execution_count": 8,
   "metadata": {},
   "outputs": [],
   "source": [
    "f_bcdir = 'out_qc_all/data/pycistopic/qc/bc_passing_filters.pkl'\n",
    "infile = open(f_bcdir, 'rb')\n",
    "bc_passing_filters = pickle.load(infile)\n",
    "infile.close()"
   ]
  },
  {
   "cell_type": "code",
   "execution_count": 9,
   "metadata": {
    "tags": []
   },
   "outputs": [
    {
     "data": {
      "text/plain": [
       "2410"
      ]
     },
     "execution_count": 9,
     "metadata": {},
     "output_type": "execute_result"
    }
   ],
   "source": [
    "len(bc_passing_filters['VIB_Hydrop_1'])"
   ]
  },
  {
   "cell_type": "markdown",
   "metadata": {},
   "source": [
    "f_bcdir = 'out_qc_all/data/pycistopic/qc/selected_barcodes/'\n",
    "\n",
    "bc_passing_filters = {}\n",
    "for k in fragments_dict.keys():\n",
    "    file = open(os.path.join(f_bcdir,k + '.cell_barcodes.txt'), 'r')\n",
    "    bc_passing_filters[k] = [ x.strip() for x in file.readlines() ]\n",
    "    file.close()"
   ]
  },
  {
   "cell_type": "markdown",
   "metadata": {},
   "source": [
    "Read bed files for SCREEN regions and blacklist (blacklisted regions in genome where many reads can map)"
   ]
  },
  {
   "cell_type": "code",
   "execution_count": 10,
   "metadata": {},
   "outputs": [],
   "source": [
    "path_to_regions = 'hg38_regions/V2.hg38-rDHS-Unfiltered.blacklisted.bed'\n",
    "path_to_blacklist = 'hg38_regions/hg38-blacklist.v2.bed'"
   ]
  },
  {
   "cell_type": "markdown",
   "metadata": {},
   "source": [
    "Make a new output dir"
   ]
  },
  {
   "cell_type": "code",
   "execution_count": 11,
   "metadata": {},
   "outputs": [],
   "source": [
    "f_cto_dir = 'cistopic_objs__screen'\n",
    "if not os.path.exists(os.path.join(wdir, f_cto_dir)):\n",
    "    os.makedirs(os.path.join(wdir, f_cto_dir))"
   ]
  },
  {
   "cell_type": "code",
   "execution_count": 12,
   "metadata": {},
   "outputs": [],
   "source": [
    "from pycisTopic.cistopic_class import create_cistopic_object_from_fragments"
   ]
  },
  {
   "cell_type": "markdown",
   "metadata": {},
   "source": [
    "Create cistopic objects for each sample. If pandas crashes, increase the number of partitions. This is necessary for the largest files."
   ]
  },
  {
   "cell_type": "code",
   "execution_count": 13,
   "metadata": {
    "tags": []
   },
   "outputs": [
    {
     "name": "stdout",
     "output_type": "stream",
     "text": [
      "Skipping VIB_Hydrop_2, already exists\n",
      "Skipping Broad_mito_1, already exists\n",
      "Skipping Broad_mito_2, already exists\n",
      "Skipping CNAG_2, already exists\n",
      "Skipping VIB_Hydrop_1, already exists\n",
      "Skipping Broad_1, already exists\n",
      "Skipping Sanger_2, already exists\n",
      "Skipping VIB_1, already exists\n",
      "Skipping Stanford_1, already exists\n",
      "Skipping Broad_2, already exists\n",
      "Skipping CNAG_1, already exists\n",
      "Skipping Stanford_2, already exists\n",
      "Skipping Sanger_1, already exists\n",
      "Skipping VIB_2, already exists\n",
      "Skipping s3atac, already exists\n"
     ]
    }
   ],
   "source": [
    "for key in metadata_bc_dict.keys():\n",
    "    f_out = os.path.join(wdir, f_cto_dir, key + '__cistopic_obj.pkl')\n",
    "    if os.path.isfile(f_out):\n",
    "        print(f\"Skipping {key}, already exists\")\n",
    "        continue\n",
    "        \n",
    "    tmp_cto = create_cistopic_object_from_fragments(path_to_fragments=fragments_dict[key],\n",
    "                                                    path_to_regions=path_to_regions,\n",
    "                                                    path_to_blacklist=path_to_blacklist,\n",
    "                                                    metrics=metadata_bc_dict[key],\n",
    "                                                    valid_bc=bc_passing_filters[key],\n",
    "                                                    n_cpu=15,\n",
    "                                                    partition=5,\n",
    "                                                    project=key)\n",
    "    \n",
    "    with open(f_out, 'wb') as f:\n",
    "        pickle.dump(tmp_cto, f)\n",
    "    \n",
    "    print(f\"Generated and saved cistopic object for {key}\")"
   ]
  },
  {
   "cell_type": "markdown",
   "metadata": {},
   "source": [
    "Raise the number of partitions to 8"
   ]
  },
  {
   "cell_type": "code",
   "execution_count": 14,
   "metadata": {},
   "outputs": [
    {
     "name": "stdout",
     "output_type": "stream",
     "text": [
      "Skipping VIB_Hydrop_2, already exists\n",
      "Skipping Broad_mito_1, already exists\n",
      "Skipping Broad_mito_2, already exists\n",
      "Skipping CNAG_2, already exists\n",
      "Skipping VIB_Hydrop_1, already exists\n",
      "Skipping Broad_1, already exists\n",
      "Skipping Sanger_2, already exists\n",
      "Skipping VIB_1, already exists\n",
      "Skipping Stanford_1, already exists\n",
      "Skipping Broad_2, already exists\n",
      "Skipping CNAG_1, already exists\n",
      "Skipping Stanford_2, already exists\n",
      "Skipping Sanger_1, already exists\n",
      "Skipping VIB_2, already exists\n",
      "Skipping s3atac, already exists\n"
     ]
    }
   ],
   "source": [
    "for key in metadata_bc_dict.keys():\n",
    "    f_out = os.path.join(wdir, f_cto_dir, key + '__cistopic_obj.pkl')\n",
    "    if os.path.isfile(f_out):\n",
    "        print(f\"Skipping {key}, already exists\")\n",
    "        continue\n",
    "        \n",
    "    tmp_cto = create_cistopic_object_from_fragments(path_to_fragments=fragments_dict[key],\n",
    "                                                    path_to_regions=path_to_regions,\n",
    "                                                    path_to_blacklist=path_to_blacklist,\n",
    "                                                    metrics=metadata_bc_dict[key],\n",
    "                                                    valid_bc=bc_passing_filters[key],\n",
    "                                                    n_cpu=15,\n",
    "                                                    partition=8,\n",
    "                                                    project=key)\n",
    "    \n",
    "    with open(f_out, 'wb') as f:\n",
    "        pickle.dump(tmp_cto, f)\n",
    "    \n",
    "    print(f\"Generated and saved cistopic object for {key}\")"
   ]
  },
  {
   "cell_type": "markdown",
   "metadata": {},
   "source": [
    "Now, we load all of the newly-generated cistopic objects into a dictionary"
   ]
  },
  {
   "cell_type": "code",
   "execution_count": 15,
   "metadata": {},
   "outputs": [
    {
     "name": "stdout",
     "output_type": "stream",
     "text": [
      "Loaded Broad_1\n",
      "Loaded Broad_2\n",
      "Loaded Broad_mito_1\n",
      "Loaded Broad_mito_2\n",
      "Loaded CNAG_1\n",
      "Loaded CNAG_2\n",
      "Loaded Sanger_1\n",
      "Loaded Sanger_2\n",
      "Loaded Stanford_1\n",
      "Loaded Stanford_2\n",
      "Loaded VIB_1\n",
      "Loaded VIB_2\n",
      "Loaded VIB_Hydrop_1\n",
      "Loaded VIB_Hydrop_2\n",
      "Loaded s3atac\n"
     ]
    }
   ],
   "source": [
    "# load objects into dict:\n",
    "cistopic_obj_dict = {}\n",
    "for key in bc_passing_filters.keys():\n",
    "    f_out = os.path.join(wdir, f_cto_dir, key + '__cistopic_obj.pkl')\n",
    "    with open(f_out, 'rb') as f:\n",
    "        tmp_cto = pickle.load(f)\n",
    "    cistopic_obj_dict[key] = tmp_cto\n",
    "    print(f\"Loaded {key}\")"
   ]
  },
  {
   "cell_type": "markdown",
   "metadata": {},
   "source": [
    "## Cell filtering"
   ]
  },
  {
   "cell_type": "code",
   "execution_count": 16,
   "metadata": {},
   "outputs": [],
   "source": [
    "import numpy as np\n",
    "import seaborn as sns\n",
    "import matplotlib.pyplot as plt\n",
    "import re"
   ]
  },
  {
   "cell_type": "markdown",
   "metadata": {},
   "source": [
    "### Read in Freemuxlet doublet predictions"
   ]
  },
  {
   "cell_type": "markdown",
   "metadata": {},
   "source": [
    "Before we can do this, run freemuxlet. See `freemuxlet.ipynb`"
   ]
  },
  {
   "cell_type": "code",
   "execution_count": 17,
   "metadata": {},
   "outputs": [],
   "source": [
    "f_fmx = 'fmx_out/genotype_concordance_unified.txt'\n",
    "fmx = pd.read_csv(f_fmx, sep='\\t')"
   ]
  },
  {
   "cell_type": "code",
   "execution_count": 18,
   "metadata": {},
   "outputs": [
    {
     "data": {
      "text/plain": [
       "array(['SNG', 'DBL'], dtype=object)"
      ]
     },
     "execution_count": 18,
     "metadata": {},
     "output_type": "execute_result"
    }
   ],
   "source": [
    "fmx['DROPLET.TYPE'].unique()"
   ]
  },
  {
   "cell_type": "code",
   "execution_count": 19,
   "metadata": {},
   "outputs": [],
   "source": [
    "# create an annotation df:\n",
    "fmx['cell_names'] = fmx['BARCODE'] + \"-\" + fmx['replicate']\n",
    "\n",
    "fmx_annot = fmx[['DROPLET.TYPE','sample','cell_names']].copy().set_index('cell_names')\n",
    "fmx_annot.columns = ['fmx_droplet_type','fmx_sample']"
   ]
  },
  {
   "cell_type": "code",
   "execution_count": 20,
   "metadata": {},
   "outputs": [
    {
     "name": "stdout",
     "output_type": "stream",
     "text": [
      "Broad_1\n",
      "Broad_2\n",
      "Broad_mito_1\n",
      "Broad_mito_2\n",
      "CNAG_1\n",
      "CNAG_2\n",
      "Sanger_1\n",
      "Sanger_2\n",
      "Stanford_1\n",
      "Stanford_2\n",
      "VIB_1\n",
      "VIB_2\n",
      "VIB_Hydrop_1\n",
      "VIB_Hydrop_2\n",
      "s3atac\n"
     ]
    }
   ],
   "source": [
    "for key in cistopic_obj_dict.keys():\n",
    "    print(key)\n",
    "    cistopic_obj_dict[key].add_cell_data(fmx_annot)"
   ]
  },
  {
   "cell_type": "markdown",
   "metadata": {},
   "source": [
    "### Run Scrublet"
   ]
  },
  {
   "cell_type": "code",
   "execution_count": 21,
   "metadata": {},
   "outputs": [],
   "source": [
    "import scrublet as scr\n",
    "import pandas as pd\n",
    "import matplotlib.pyplot as plt"
   ]
  },
  {
   "cell_type": "code",
   "execution_count": 22,
   "metadata": {
    "tags": []
   },
   "outputs": [],
   "source": [
    "scrublet_doublet_thresholds = {\n",
    "    'Broad_1': 0.35,\n",
    "    'Broad_2': 0.4,\n",
    "    'Broad_mito_1': 0.37,\n",
    "    'Broad_mito_2': 0.4,\n",
    "    'CNAG_1': 0.36,\n",
    "    'CNAG_2': 0.35,\n",
    "    's3atac': 0.4,\n",
    "    'Sanger_1': 0.35,\n",
    "    'Sanger_2': 0.35,\n",
    "    'Stanford_1': 0.34,\n",
    "    'Stanford_2': 0.4,\n",
    "    'VIB_1': 0.39,\n",
    "    'VIB_2': 0.38,\n",
    "    'VIB_Hydrop_1': 0.35,\n",
    "    'VIB_Hydrop_2': 0.35,\n",
    "}"
   ]
  },
  {
   "cell_type": "code",
   "execution_count": 23,
   "metadata": {
    "tags": []
   },
   "outputs": [
    {
     "name": "stdout",
     "output_type": "stream",
     "text": [
      "Starting Broad_1\n",
      "Preprocessing...\n",
      "Simulating doublets...\n",
      "Embedding transcriptomes using PCA...\n",
      "Calculating doublet scores...\n",
      "Automatically set threshold at doublet score = 0.33\n",
      "Detected doublet rate = 5.1%\n",
      "Estimated detectable doublet fraction = 55.7%\n",
      "Overall doublet rate:\n",
      "\tExpected   = 10.0%\n",
      "\tEstimated  = 9.1%\n",
      "Elapsed time: 30.3 seconds\n",
      "Detected doublet rate = 5.1%\n",
      "Estimated detectable doublet fraction = 55.7%\n",
      "Overall doublet rate:\n",
      "\tExpected   = 10.0%\n",
      "\tEstimated  = 9.1%\n"
     ]
    },
    {
     "data": {
      "image/png": "[encoded data removed]",
      "text/plain": [
       "<Figure size 576x216 with 2 Axes>"
      ]
     },
     "metadata": {
      "needs_background": "light"
     },
     "output_type": "display_data"
    },
    {
     "name": "stdout",
     "output_type": "stream",
     "text": [
      "Starting Broad_2\n",
      "Preprocessing...\n",
      "Simulating doublets...\n",
      "Embedding transcriptomes using PCA...\n",
      "Calculating doublet scores...\n",
      "Automatically set threshold at doublet score = 0.33\n",
      "Detected doublet rate = 5.8%\n",
      "Estimated detectable doublet fraction = 59.7%\n",
      "Overall doublet rate:\n",
      "\tExpected   = 10.0%\n",
      "\tEstimated  = 9.7%\n",
      "Elapsed time: 19.1 seconds\n",
      "Detected doublet rate = 4.1%\n",
      "Estimated detectable doublet fraction = 51.3%\n",
      "Overall doublet rate:\n",
      "\tExpected   = 10.0%\n",
      "\tEstimated  = 7.9%\n"
     ]
    },
    {
     "data": {
      "image/png": "[encoded data removed]",
      "text/plain": [
       "<Figure size 576x216 with 2 Axes>"
      ]
     },
     "metadata": {
      "needs_background": "light"
     },
     "output_type": "display_data"
    },
    {
     "name": "stdout",
     "output_type": "stream",
     "text": [
      "Starting Broad_mito_1\n",
      "Preprocessing...\n",
      "Simulating doublets...\n",
      "Embedding transcriptomes using PCA...\n",
      "Calculating doublet scores...\n",
      "Automatically set threshold at doublet score = 0.36\n",
      "Detected doublet rate = 3.1%\n",
      "Estimated detectable doublet fraction = 58.7%\n",
      "Overall doublet rate:\n",
      "\tExpected   = 10.0%\n",
      "\tEstimated  = 5.3%\n",
      "Elapsed time: 37.6 seconds\n",
      "Detected doublet rate = 3.1%\n",
      "Estimated detectable doublet fraction = 58.7%\n",
      "Overall doublet rate:\n",
      "\tExpected   = 10.0%\n",
      "\tEstimated  = 5.3%\n"
     ]
    },
    {
     "data": {
      "image/png": "[encoded data removed]",
      "text/plain": [
       "<Figure size 576x216 with 2 Axes>"
      ]
     },
     "metadata": {
      "needs_background": "light"
     },
     "output_type": "display_data"
    },
    {
     "name": "stdout",
     "output_type": "stream",
     "text": [
      "Starting Broad_mito_2\n",
      "Preprocessing...\n",
      "Simulating doublets...\n",
      "Embedding transcriptomes using PCA...\n",
      "Calculating doublet scores...\n",
      "Automatically set threshold at doublet score = 0.36\n",
      "Detected doublet rate = 2.7%\n",
      "Estimated detectable doublet fraction = 60.5%\n",
      "Overall doublet rate:\n",
      "\tExpected   = 10.0%\n",
      "\tEstimated  = 4.4%\n",
      "Elapsed time: 36.2 seconds\n",
      "Detected doublet rate = 2.5%\n",
      "Estimated detectable doublet fraction = 59.0%\n",
      "Overall doublet rate:\n",
      "\tExpected   = 10.0%\n",
      "\tEstimated  = 4.2%\n"
     ]
    },
    {
     "data": {
      "image/png": "[encoded data removed]",
      "text/plain": [
       "<Figure size 576x216 with 2 Axes>"
      ]
     },
     "metadata": {
      "needs_background": "light"
     },
     "output_type": "display_data"
    },
    {
     "name": "stdout",
     "output_type": "stream",
     "text": [
      "Starting CNAG_1\n",
      "Preprocessing...\n",
      "Simulating doublets...\n",
      "Embedding transcriptomes using PCA...\n",
      "Calculating doublet scores...\n",
      "Automatically set threshold at doublet score = 0.33\n",
      "Detected doublet rate = 6.4%\n",
      "Estimated detectable doublet fraction = 51.2%\n",
      "Overall doublet rate:\n",
      "\tExpected   = 10.0%\n",
      "\tEstimated  = 12.5%\n",
      "Elapsed time: 29.7 seconds\n",
      "Detected doublet rate = 5.3%\n",
      "Estimated detectable doublet fraction = 47.8%\n",
      "Overall doublet rate:\n",
      "\tExpected   = 10.0%\n",
      "\tEstimated  = 11.0%\n"
     ]
    },
    {
     "data": {
      "image/png": "[encoded data removed]",
      "text/plain": [
       "<Figure size 576x216 with 2 Axes>"
      ]
     },
     "metadata": {
      "needs_background": "light"
     },
     "output_type": "display_data"
    },
    {
     "name": "stdout",
     "output_type": "stream",
     "text": [
      "Starting CNAG_2\n",
      "Preprocessing...\n",
      "Simulating doublets...\n",
      "Embedding transcriptomes using PCA...\n",
      "Calculating doublet scores...\n",
      "Automatically set threshold at doublet score = 0.33\n",
      "Detected doublet rate = 5.4%\n",
      "Estimated detectable doublet fraction = 52.3%\n",
      "Overall doublet rate:\n",
      "\tExpected   = 10.0%\n",
      "\tEstimated  = 10.3%\n",
      "Elapsed time: 24.9 seconds\n",
      "Detected doublet rate = 4.5%\n",
      "Estimated detectable doublet fraction = 48.6%\n",
      "Overall doublet rate:\n",
      "\tExpected   = 10.0%\n",
      "\tEstimated  = 9.2%\n"
     ]
    },
    {
     "data": {
      "image/png": "[encoded data removed]",
      "text/plain": [
       "<Figure size 576x216 with 2 Axes>"
      ]
     },
     "metadata": {
      "needs_background": "light"
     },
     "output_type": "display_data"
    },
    {
     "name": "stdout",
     "output_type": "stream",
     "text": [
      "Starting s3atac\n",
      "Preprocessing...\n",
      "Simulating doublets...\n",
      "Embedding transcriptomes using PCA...\n",
      "Calculating doublet scores...\n",
      "Automatically set threshold at doublet score = 0.09\n",
      "Detected doublet rate = 89.2%\n",
      "Estimated detectable doublet fraction = 95.9%\n",
      "Overall doublet rate:\n",
      "\tExpected   = 10.0%\n",
      "\tEstimated  = 93.0%\n",
      "Elapsed time: 278.4 seconds\n",
      "Detected doublet rate = 2.9%\n",
      "Estimated detectable doublet fraction = 7.7%\n",
      "Overall doublet rate:\n",
      "\tExpected   = 10.0%\n",
      "\tEstimated  = 38.1%\n"
     ]
    },
    {
     "data": {
      "image/png": "[encoded data removed]",
      "text/plain": [
       "<Figure size 576x216 with 2 Axes>"
      ]
     },
     "metadata": {
      "needs_background": "light"
     },
     "output_type": "display_data"
    },
    {
     "name": "stdout",
     "output_type": "stream",
     "text": [
      "Starting Sanger_1\n",
      "Preprocessing...\n",
      "Simulating doublets...\n",
      "Embedding transcriptomes using PCA...\n",
      "Calculating doublet scores...\n",
      "Automatically set threshold at doublet score = 0.18\n",
      "Detected doublet rate = 10.5%\n",
      "Estimated detectable doublet fraction = 70.3%\n",
      "Overall doublet rate:\n",
      "\tExpected   = 10.0%\n",
      "\tEstimated  = 15.0%\n",
      "Elapsed time: 84.2 seconds\n",
      "Detected doublet rate = 4.9%\n",
      "Estimated detectable doublet fraction = 45.6%\n",
      "Overall doublet rate:\n",
      "\tExpected   = 10.0%\n",
      "\tEstimated  = 10.7%\n"
     ]
    },
    {
     "data": {
      "image/png": "[encoded data removed]",
      "text/plain": [
       "<Figure size 576x216 with 2 Axes>"
      ]
     },
     "metadata": {
      "needs_background": "light"
     },
     "output_type": "display_data"
    },
    {
     "name": "stdout",
     "output_type": "stream",
     "text": [
      "Starting Sanger_2\n",
      "Preprocessing...\n",
      "Simulating doublets...\n",
      "Embedding transcriptomes using PCA...\n",
      "Calculating doublet scores...\n",
      "Automatically set threshold at doublet score = 0.17\n",
      "Detected doublet rate = 11.7%\n",
      "Estimated detectable doublet fraction = 72.0%\n",
      "Overall doublet rate:\n",
      "\tExpected   = 10.0%\n",
      "\tEstimated  = 16.3%\n",
      "Elapsed time: 96.1 seconds\n",
      "Detected doublet rate = 4.1%\n",
      "Estimated detectable doublet fraction = 40.1%\n",
      "Overall doublet rate:\n",
      "\tExpected   = 10.0%\n",
      "\tEstimated  = 10.2%\n"
     ]
    },
    {
     "data": {
      "image/png": "[encoded data removed]",
      "text/plain": [
       "<Figure size 576x216 with 2 Axes>"
      ]
     },
     "metadata": {
      "needs_background": "light"
     },
     "output_type": "display_data"
    },
    {
     "name": "stdout",
     "output_type": "stream",
     "text": [
      "Starting Stanford_1\n",
      "Preprocessing...\n",
      "Simulating doublets...\n",
      "Embedding transcriptomes using PCA...\n",
      "Calculating doublet scores...\n",
      "Automatically set threshold at doublet score = 0.36\n",
      "Detected doublet rate = 1.8%\n",
      "Estimated detectable doublet fraction = 49.5%\n",
      "Overall doublet rate:\n",
      "\tExpected   = 10.0%\n",
      "\tEstimated  = 3.7%\n",
      "Elapsed time: 21.8 seconds\n",
      "Detected doublet rate = 2.1%\n",
      "Estimated detectable doublet fraction = 51.9%\n",
      "Overall doublet rate:\n",
      "\tExpected   = 10.0%\n",
      "\tEstimated  = 4.0%\n"
     ]
    },
    {
     "data": {
      "image/png": "[encoded data removed]",
      "text/plain": [
       "<Figure size 576x216 with 2 Axes>"
      ]
     },
     "metadata": {
      "needs_background": "light"
     },
     "output_type": "display_data"
    },
    {
     "name": "stdout",
     "output_type": "stream",
     "text": [
      "Starting Stanford_2\n",
      "Preprocessing...\n",
      "Simulating doublets...\n",
      "Embedding transcriptomes using PCA...\n",
      "Calculating doublet scores...\n",
      "Automatically set threshold at doublet score = 0.37\n",
      "Detected doublet rate = 2.6%\n",
      "Estimated detectable doublet fraction = 51.6%\n",
      "Overall doublet rate:\n",
      "\tExpected   = 10.0%\n",
      "\tEstimated  = 5.1%\n",
      "Elapsed time: 11.6 seconds\n",
      "Detected doublet rate = 1.9%\n",
      "Estimated detectable doublet fraction = 48.3%\n",
      "Overall doublet rate:\n",
      "\tExpected   = 10.0%\n",
      "\tEstimated  = 4.0%\n"
     ]
    },
    {
     "data": {
      "image/png": "[encoded data removed]",
      "text/plain": [
       "<Figure size 576x216 with 2 Axes>"
      ]
     },
     "metadata": {
      "needs_background": "light"
     },
     "output_type": "display_data"
    },
    {
     "name": "stdout",
     "output_type": "stream",
     "text": [
      "Starting VIB_1\n",
      "Preprocessing...\n",
      "Simulating doublets...\n",
      "Embedding transcriptomes using PCA...\n",
      "Calculating doublet scores...\n",
      "Automatically set threshold at doublet score = 0.39\n",
      "Detected doublet rate = 2.1%\n",
      "Estimated detectable doublet fraction = 51.8%\n",
      "Overall doublet rate:\n",
      "\tExpected   = 10.0%\n",
      "\tEstimated  = 4.0%\n",
      "Elapsed time: 22.9 seconds\n",
      "Detected doublet rate = 2.1%\n",
      "Estimated detectable doublet fraction = 51.8%\n",
      "Overall doublet rate:\n",
      "\tExpected   = 10.0%\n",
      "\tEstimated  = 4.0%\n"
     ]
    },
    {
     "data": {
      "image/png": "[encoded data removed]",
      "text/plain": [
       "<Figure size 576x216 with 2 Axes>"
      ]
     },
     "metadata": {
      "needs_background": "light"
     },
     "output_type": "display_data"
    },
    {
     "name": "stdout",
     "output_type": "stream",
     "text": [
      "Starting VIB_2\n",
      "Preprocessing...\n",
      "Simulating doublets...\n",
      "Embedding transcriptomes using PCA...\n",
      "Calculating doublet scores...\n",
      "Automatically set threshold at doublet score = 0.22\n",
      "Detected doublet rate = 11.1%\n",
      "Estimated detectable doublet fraction = 53.8%\n",
      "Overall doublet rate:\n",
      "\tExpected   = 10.0%\n",
      "\tEstimated  = 20.6%\n",
      "Elapsed time: 39.9 seconds\n",
      "Detected doublet rate = 3.1%\n",
      "Estimated detectable doublet fraction = 23.0%\n",
      "Overall doublet rate:\n",
      "\tExpected   = 10.0%\n",
      "\tEstimated  = 13.4%\n"
     ]
    },
    {
     "data": {
      "image/png": "[encoded data removed]",
      "text/plain": [
       "<Figure size 576x216 with 2 Axes>"
      ]
     },
     "metadata": {
      "needs_background": "light"
     },
     "output_type": "display_data"
    },
    {
     "name": "stdout",
     "output_type": "stream",
     "text": [
      "Starting VIB_Hydrop_1\n",
      "Preprocessing...\n",
      "Simulating doublets...\n",
      "Embedding transcriptomes using PCA...\n",
      "Calculating doublet scores...\n",
      "Automatically set threshold at doublet score = 0.65\n",
      "Detected doublet rate = 0.0%\n",
      "Estimated detectable doublet fraction = 0.4%\n",
      "Overall doublet rate:\n",
      "\tExpected   = 10.0%\n",
      "\tEstimated  = 11.1%\n",
      "Elapsed time: 10.8 seconds\n",
      "Detected doublet rate = 6.3%\n",
      "Estimated detectable doublet fraction = 28.6%\n",
      "Overall doublet rate:\n",
      "\tExpected   = 10.0%\n",
      "\tEstimated  = 21.9%\n"
     ]
    },
    {
     "data": {
      "image/png": "[encoded data removed]",
      "text/plain": [
       "<Figure size 576x216 with 2 Axes>"
      ]
     },
     "metadata": {
      "needs_background": "light"
     },
     "output_type": "display_data"
    },
    {
     "name": "stdout",
     "output_type": "stream",
     "text": [
      "Starting VIB_Hydrop_2\n",
      "Preprocessing...\n",
      "Simulating doublets...\n",
      "Embedding transcriptomes using PCA...\n",
      "Calculating doublet scores...\n",
      "Automatically set threshold at doublet score = 0.22\n",
      "Detected doublet rate = 20.0%\n",
      "Estimated detectable doublet fraction = 58.5%\n",
      "Overall doublet rate:\n",
      "\tExpected   = 10.0%\n",
      "\tEstimated  = 34.1%\n",
      "Elapsed time: 11.2 seconds\n",
      "Detected doublet rate = 3.5%\n",
      "Estimated detectable doublet fraction = 20.2%\n",
      "Overall doublet rate:\n",
      "\tExpected   = 10.0%\n",
      "\tEstimated  = 17.5%\n"
     ]
    },
    {
     "data": {
      "image/png": "[encoded data removed]",
      "text/plain": [
       "<Figure size 576x216 with 2 Axes>"
      ]
     },
     "metadata": {
      "needs_background": "light"
     },
     "output_type": "display_data"
    }
   ],
   "source": [
    "for key in scrublet_doublet_thresholds.keys():\n",
    "    print(f\"Starting {key}\")\n",
    "    scrub = scr.Scrublet(cistopic_obj_dict[key].fragment_matrix.T, expected_doublet_rate=0.1)\n",
    "    doublet_scores, predicted_doublets = scrub.scrub_doublets()\n",
    "    #scrub.plot_histogram();\n",
    "    scrub.call_doublets(threshold=scrublet_doublet_thresholds[key])\n",
    "    a,b = scrub.plot_histogram();\n",
    "    a.suptitle(key)\n",
    "    plt.show()\n",
    "    scrublet = pd.DataFrame([scrub.doublet_scores_obs_, scrub.predicted_doublets_], \n",
    "        columns=cistopic_obj_dict[key].cell_names,\n",
    "        index=['Doublet_scores_fragments', 'Predicted_doublets_fragments']).T\n",
    "    cistopic_obj_dict[key].add_cell_data(scrublet)"
   ]
  },
  {
   "cell_type": "code",
   "execution_count": 24,
   "metadata": {},
   "outputs": [
    {
     "name": "stdout",
     "output_type": "stream",
     "text": [
      "Broad_1: found doublets: \n",
      "\t(213: Scrublet); \n",
      "\t(129: freemuxlet)\n",
      "Broad_2: found doublets: \n",
      "\t(165: Scrublet); \n",
      "\t(99: freemuxlet)\n",
      "Broad_mito_1: found doublets: \n",
      "\t(108: Scrublet); \n",
      "\t(25: freemuxlet)\n",
      "Broad_mito_2: found doublets: \n",
      "\t(81: Scrublet); \n",
      "\t(25: freemuxlet)\n",
      "CNAG_1: found doublets: \n",
      "\t(142: Scrublet); \n",
      "\t(43: freemuxlet)\n",
      "CNAG_2: found doublets: \n",
      "\t(122: Scrublet); \n",
      "\t(47: freemuxlet)\n",
      "s3atac: found doublets: \n",
      "\t(91: Scrublet); \n",
      "\t(0: freemuxlet)\n",
      "Sanger_1: found doublets: \n",
      "\t(153: Scrublet); \n",
      "\t(212: freemuxlet)\n",
      "Sanger_2: found doublets: \n",
      "\t(156: Scrublet); \n",
      "\t(276: freemuxlet)\n",
      "Stanford_1: found doublets: \n",
      "\t(16: Scrublet); \n",
      "\t(5: freemuxlet)\n",
      "Stanford_2: found doublets: \n",
      "\t(27: Scrublet); \n",
      "\t(4: freemuxlet)\n",
      "VIB_1: found doublets: \n",
      "\t(59: Scrublet); \n",
      "\t(27: freemuxlet)\n",
      "VIB_2: found doublets: \n",
      "\t(226: Scrublet); \n",
      "\t(200: freemuxlet)\n",
      "VIB_Hydrop_1: found doublets: \n",
      "\t(151: Scrublet); \n",
      "\t(40: freemuxlet)\n",
      "VIB_Hydrop_2: found doublets: \n",
      "\t(97: Scrublet); \n",
      "\t(57: freemuxlet)\n"
     ]
    }
   ],
   "source": [
    "for key in scrublet_doublet_thresholds.keys():\n",
    "    print(f\"{key}: found doublets: \\n\\t({sum(cistopic_obj_dict[key].cell_data.Predicted_doublets_fragments)}: Scrublet); \"\n",
    "          f\"\\n\\t({sum(cistopic_obj_dict[key].cell_data.fmx_droplet_type == 'DBL')}: freemuxlet)\"\n",
    "         )"
   ]
  },
  {
   "cell_type": "markdown",
   "metadata": {},
   "source": [
    "### Apply cell filtering\n",
    "\n",
    "Remove doublets (freemuxlet, scrublet)"
   ]
  },
  {
   "cell_type": "code",
   "execution_count": 25,
   "metadata": {},
   "outputs": [
    {
     "name": "stdout",
     "output_type": "stream",
     "text": [
      "Broad_1: Removing 280 cells\n",
      "Broad_2: Removing 214 cells\n",
      "Broad_mito_1: Removing 117 cells\n",
      "Broad_mito_2: Removing 92 cells\n",
      "CNAG_1: Removing 163 cells\n",
      "CNAG_2: Removing 151 cells\n",
      "Sanger_1: Removing 312 cells\n",
      "Sanger_2: Removing 371 cells\n",
      "Stanford_1: Removing 19 cells\n",
      "Stanford_2: Removing 29 cells\n",
      "VIB_1: Removing 74 cells\n",
      "VIB_2: Removing 387 cells\n",
      "VIB_Hydrop_1: Removing 184 cells\n",
      "VIB_Hydrop_2: Removing 144 cells\n",
      "s3atac: Removing 91 cells\n"
     ]
    }
   ],
   "source": [
    "removed_bcs_dict = {}\n",
    "for key in cistopic_obj_dict.keys():\n",
    "    if key=='merged':\n",
    "        continue\n",
    "        \n",
    "    removed_bcs_dict[key] = {\n",
    "        'dbl_scrublet': cistopic_obj_dict[key].cell_data.barcode[ cistopic_obj_dict[key].cell_data.Predicted_doublets_fragments == True ].tolist(),\n",
    "        'dbl_fmx': cistopic_obj_dict[key].cell_data.barcode[ cistopic_obj_dict[key].cell_data.fmx_droplet_type == 'DBL' ].tolist(),    \n",
    "    }\n",
    "    # Remove doublets \n",
    "    singlets = cistopic_obj_dict[key].cell_data[\n",
    "        (cistopic_obj_dict[key].cell_data.Predicted_doublets_fragments == False) & \n",
    "        (cistopic_obj_dict[key].cell_data.fmx_droplet_type != 'DBL')\n",
    "    ].index.tolist()\n",
    "    print(f\"{key}: Removing {len(cistopic_obj_dict[key].cell_names)-len(singlets)} cells\"\n",
    "    )\n",
    "    # Subset cisTopic object\n",
    "    cistopic_obj_dict[key].subset(singlets)\n",
    "    \n",
    "with open(os.path.join(wdir, 'removed_barcodes_dict.pkl'), 'wb') as f:\n",
    "    pickle.dump(removed_bcs_dict, f)"
   ]
  },
  {
   "cell_type": "markdown",
   "metadata": {},
   "source": [
    "## Merge into one object"
   ]
  },
  {
   "cell_type": "code",
   "execution_count": 30,
   "metadata": {},
   "outputs": [],
   "source": [
    "import copy"
   ]
  },
  {
   "cell_type": "code",
   "execution_count": 31,
   "metadata": {
    "tags": []
   },
   "outputs": [
    {
     "name": "stdout",
     "output_type": "stream",
     "text": [
      "2021-10-11 11:35:38,501 cisTopic     INFO     cisTopic object 1 merged\n",
      "2021-10-11 11:36:34,283 cisTopic     INFO     cisTopic object 2 merged\n",
      "2021-10-11 11:37:29,257 cisTopic     INFO     cisTopic object 3 merged\n",
      "2021-10-11 11:38:25,608 cisTopic     INFO     cisTopic object 4 merged\n",
      "2021-10-11 11:39:21,945 cisTopic     INFO     cisTopic object 5 merged\n",
      "2021-10-11 11:40:30,289 cisTopic     INFO     cisTopic object 6 merged\n",
      "2021-10-11 11:41:57,409 cisTopic     INFO     cisTopic object 7 merged\n",
      "2021-10-11 11:43:25,975 cisTopic     INFO     cisTopic object 8 merged\n",
      "2021-10-11 11:44:52,990 cisTopic     INFO     cisTopic object 9 merged\n",
      "2021-10-11 11:46:29,281 cisTopic     INFO     cisTopic object 10 merged\n",
      "2021-10-11 11:47:59,073 cisTopic     INFO     cisTopic object 11 merged\n",
      "2021-10-11 11:49:42,136 cisTopic     INFO     cisTopic object 12 merged\n",
      "2021-10-11 11:51:16,818 cisTopic     INFO     cisTopic object 13 merged\n",
      "2021-10-11 11:53:10,369 cisTopic     INFO     cisTopic object 14 merged\n"
     ]
    }
   ],
   "source": [
    "f_out = os.path.join(wdir, f_cto_dir, 'fulldata_merged__cistopic_obj_filtered.pkl')\n",
    "if os.path.isfile(f_out):\n",
    "    print(f\"Loading {f_out}\")\n",
    "    with open(f_out, 'rb') as f:\n",
    "        cistopic_obj_dict['merged'] = pickle.load(f)\n",
    "else:\n",
    "    # merge:\n",
    "    ct_keys = list(cistopic_obj_dict.keys())\n",
    "    cto_merged = copy.copy(cistopic_obj_dict[ct_keys[0]])\n",
    "    cto_merged.merge([ cistopic_obj_dict[k] for k in ct_keys[1:] ], project='scATAC-seq_benchmark')\n",
    "    with open(f_out, 'wb') as f:\n",
    "        pickle.dump(cto_merged, f)\n",
    "    cistopic_obj_dict['merged'] = cto_merged"
   ]
  },
  {
   "cell_type": "code",
   "execution_count": 33,
   "metadata": {},
   "outputs": [
    {
     "name": "stdout",
     "output_type": "stream",
     "text": [
      "Broad_1: 3924 cells\n",
      "Broad_2: 3839 cells\n",
      "Broad_mito_1: 3349 cells\n",
      "Broad_mito_2: 3210 cells\n",
      "CNAG_1: 2533 cells\n",
      "CNAG_2: 2561 cells\n",
      "Sanger_1: 2830 cells\n",
      "Sanger_2: 3443 cells\n",
      "Stanford_1: 749 cells\n",
      "Stanford_2: 1374 cells\n",
      "VIB_1: 2739 cells\n",
      "VIB_2: 6949 cells\n",
      "VIB_Hydrop_1: 2226 cells\n",
      "VIB_Hydrop_2: 2600 cells\n",
      "s3atac: 3031 cells\n",
      "merged: 45357 cells\n"
     ]
    }
   ],
   "source": [
    "for key in cistopic_obj_dict.keys():\n",
    "    print(f\"{key}: {len(cistopic_obj_dict[key].cell_data)} cells\")"
   ]
  },
  {
   "cell_type": "markdown",
   "metadata": {},
   "source": [
    "### export cistopic objects"
   ]
  },
  {
   "cell_type": "code",
   "execution_count": 34,
   "metadata": {},
   "outputs": [
    {
     "name": "stdout",
     "output_type": "stream",
     "text": [
      "Skipping VIB_Hydrop_2, already exists\n",
      "Skipping Broad_mito_1, already exists\n",
      "Skipping Broad_mito_2, already exists\n",
      "Skipping CNAG_2, already exists\n",
      "Saved filtered cistopic object for VIB_Hydrop_1\n",
      "Saved filtered cistopic object for Broad_1\n",
      "Saved filtered cistopic object for Sanger_2\n",
      "Saved filtered cistopic object for VIB_1\n",
      "Saved filtered cistopic object for Stanford_1\n",
      "Saved filtered cistopic object for Broad_2\n",
      "Saved filtered cistopic object for CNAG_1\n",
      "Saved filtered cistopic object for Stanford_2\n",
      "Saved filtered cistopic object for Sanger_1\n",
      "Saved filtered cistopic object for VIB_2\n",
      "Saved filtered cistopic object for s3atac\n"
     ]
    }
   ],
   "source": [
    "for key in metadata_bc_dict.keys():\n",
    "    f_out = os.path.join(wdir, f_cto_dir, key + '__cistopic_obj_filtered.pkl')\n",
    "    if os.path.isfile(f_out):\n",
    "        print(f\"Skipping {key}, already exists\")\n",
    "        continue\n",
    "    with open(f_out, 'wb') as f:\n",
    "        pickle.dump(cistopic_obj_dict[key], f)\n",
    "    \n",
    "    print(f\"Saved filtered cistopic object for {key}\")"
   ]
  },
  {
   "cell_type": "code",
   "execution_count": 35,
   "metadata": {},
   "outputs": [
    {
     "name": "stdout",
     "output_type": "stream",
     "text": [
      "Skipping VIB_Hydrop_2, already exists\n",
      "Skipping Broad_mito_1, already exists\n",
      "Skipping Broad_mito_2, already exists\n",
      "Saved filtered cistopic object for CNAG_2\n",
      "Skipping VIB_Hydrop_1, already exists\n",
      "Skipping Broad_1, already exists\n",
      "Skipping Sanger_2, already exists\n",
      "Skipping VIB_1, already exists\n",
      "Skipping Stanford_1, already exists\n",
      "Skipping Broad_2, already exists\n",
      "Skipping CNAG_1, already exists\n",
      "Skipping Stanford_2, already exists\n",
      "Skipping Sanger_1, already exists\n",
      "Skipping VIB_2, already exists\n",
      "Skipping s3atac, already exists\n"
     ]
    }
   ],
   "source": [
    "for key in metadata_bc_dict.keys():\n",
    "    f_out = os.path.join(wdir, f_cto_dir, key + '__cistopic_obj_filtered.pkl')\n",
    "    if os.path.isfile(f_out):\n",
    "        print(f\"Skipping {key}, already exists\")\n",
    "        continue\n",
    "    with open(f_out, 'wb') as f:\n",
    "        pickle.dump(cistopic_obj_dict[key], f)\n",
    "    \n",
    "    print(f\"Saved filtered cistopic object for {key}\")"
   ]
  }
 ],
 "metadata": {
  "kernelspec": {
   "display_name": "pycisTopic_singularity_20210921",
   "language": "python",
   "name": "pycistopic_singularity"
  },
  "language_info": {
   "codemirror_mode": {
    "name": "ipython",
    "version": 3
   },
   "file_extension": ".py",
   "mimetype": "text/x-python",
   "name": "python",
   "nbconvert_exporter": "python",
   "pygments_lexer": "ipython3",
   "version": "3.8.6"
  }
 },
 "nbformat": 4,
 "nbformat_minor": 5
}
